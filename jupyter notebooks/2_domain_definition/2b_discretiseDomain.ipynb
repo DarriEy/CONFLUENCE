{
 "cells": [
  {
   "cell_type": "markdown",
   "metadata": {},
   "source": [
    "# Domain Discretization in CONFLUENCE\n",
    "\n",
    "## Introduction\n",
    "\n",
    "Domain discretization is a crucial step in processed based hydrological modeling, where we divide our study area into smaller, more geophysically representative units. In CONFLUENCE, this process involves creating Hydrologic Response Units (HRUs) based on various geospatial characteristics. This notebook will guide you through the different discretization methods available in CONFLUENCE.\n",
    "\n",
    "## Setup\n",
    "\n",
    "First, let's set up our environment and import the necessary modules:"
   ]
  },
  {
   "cell_type": "code",
   "execution_count": 2,
   "metadata": {},
   "outputs": [],
   "source": [
    "import sys\n",
    "from pathlib import Path\n",
    "\n",
    "# Add the parent directory to sys.path\n",
    "current_dir = Path.cwd()\n",
    "parent_dir = current_dir.parent\n",
    "sys.path.append(str(parent_dir))\n",
    "\n",
    "import yaml\n",
    "from utils.discretization_utils import DomainDiscretizer # type: ignore\n",
    "import logging\n",
    "\n",
    "# Load configuration\n",
    "config_path = parent_dir / '0_config_files' / 'config_active.yaml'\n",
    "with open(config_path, 'r') as config_file:\n",
    "    config = yaml.safe_load(config_file)\n",
    "\n",
    "# Set up logging\n",
    "logging.basicConfig(level=logging.INFO, format='%(asctime)s - %(levelname)s - %(message)s')\n",
    "logger = logging.getLogger(__name__)\n",
    "\n",
    "# Initialize DomainDiscretizer\n",
    "discretizer = DomainDiscretizer(config, logger)\n"
   ]
  },
  {
   "cell_type": "markdown",
   "metadata": {},
   "source": [
    "## Key Configuration Settings\n",
    "\n",
    "Before we proceed with discretization, let's review the key configuration settings:\n",
    "\n",
    "- DOMAIN_DISCRETIZATION: Specifies the discretization method (e.g., 'GRUs', 'elevation', 'soilclass', 'landclass', 'radiation', 'combined')\n",
    "- ELEVATION_BAND_SIZE: Size of elevation bands (for elevation-based discretization)\n",
    "- MIN_HRU_SIZE: Minimum size of HRUs in km² (for merging small HRUs)\n",
    "- RADIATION_CLASS_NUMBER: Number of radiation classes (for radiation-based discretization)\n",
    "- CATCHMENT_SHP_HRUID: Column name for HRU ID in the catchment shapefile\n",
    "- CATCHMENT_SHP_GRUID: Column name for GRU ID in the catchment shapefile\n",
    "\n",
    "Ensure these settings are correctly defined in your config_active.yaml file.\n",
    "\n",
    "## Discretization Methods\n",
    "\n",
    "CONFLUENCE supports several discretization methods. Let's explore each of them:\n",
    "\n",
    "## 1. Using GRUs as HRUs\n",
    "\n",
    "This method uses Grouped Response Units (GRUs) as Hydrologic Response Units (HRUs) without further discretization.\n",
    "\n",
    "To use this method, set in config:\n",
    "\n",
    "- DOMAIN_DISCRETIZATION: GRU's"
   ]
  },
  {
   "cell_type": "code",
   "execution_count": null,
   "metadata": {},
   "outputs": [],
   "source": [
    "def use_grus_as_hrus():\n",
    "    hru_shapefile = discretizer._use_grus_as_hrus()\n",
    "    if hru_shapefile:\n",
    "        logger.info(f\"GRUs used as HRUs. Shapefile created at: {hru_shapefile}\")\n",
    "    else:\n",
    "        logger.error(\"Failed to create HRUs from GRUs\")"
   ]
  },
  {
   "cell_type": "markdown",
   "metadata": {},
   "source": [
    "## 2. Elevation-based Discretization\n",
    "\n",
    "This method creates HRUs based on elevation bands.\n",
    "\n",
    "To use this method, set in config:\n",
    "\n",
    "- DOMAIN_DISCRETIZATION: 'elevation'\n",
    "- ELEVATION_BAND_SIZE: 100 #example value in meters"
   ]
  },
  {
   "cell_type": "code",
   "execution_count": 3,
   "metadata": {},
   "outputs": [],
   "source": [
    "def discretize_by_elevation():\n",
    "    hru_shapefile = discretizer._discretize_by_elevation()\n",
    "    if hru_shapefile:\n",
    "        logger.info(f\"Elevation-based HRUs created. Shapefile at: {hru_shapefile}\")\n",
    "    else:\n",
    "        logger.error(\"Failed to create elevation-based HRUs\")"
   ]
  },
  {
   "cell_type": "markdown",
   "metadata": {},
   "source": [
    "## 3. Soil Class-based Discretization\n",
    "This method creates HRUs based on soil classifications.\n",
    "\n",
    "To use this method, set in config: \n",
    "- 'DOMAIN_DISCRETIZATION: 'soilclass'"
   ]
  },
  {
   "cell_type": "code",
   "execution_count": null,
   "metadata": {},
   "outputs": [],
   "source": [
    "def discretize_by_soil_class():\n",
    "    hru_shapefile = discretizer._discretize_by_soil_class()\n",
    "    if hru_shapefile:\n",
    "        logger.info(f\"Soil class-based HRUs created. Shapefile at: {hru_shapefile}\")\n",
    "    else:\n",
    "        logger.error(\"Failed to create soil class-based HRUs\")"
   ]
  },
  {
   "cell_type": "markdown",
   "metadata": {},
   "source": [
    "## 4. Land Class-based Discretization\n",
    "\n",
    "This method creates HRUs based on land cover classifications.\n",
    "\n",
    "To use this method, set in config: \n",
    "\n",
    "- 'DOMAIN_DISCRETIZATION: 'landclass'"
   ]
  },
  {
   "cell_type": "code",
   "execution_count": 4,
   "metadata": {},
   "outputs": [],
   "source": [
    "def discretize_by_land_class():\n",
    "    hru_shapefile = discretizer._discretize_by_land_class()\n",
    "    if hru_shapefile:\n",
    "        logger.info(f\"Land class-based HRUs created. Shapefile at: {hru_shapefile}\")\n",
    "    else:\n",
    "        logger.error(\"Failed to create land class-based HRUs\")"
   ]
  },
  {
   "cell_type": "markdown",
   "metadata": {},
   "source": [
    "## 5. Radiation-based Discretization\n",
    "\n",
    "This method creates HRUs based on radiation properties.\n",
    "\n",
    "To use this method, set in config: \n",
    "\n",
    "- DOMAIN_DISCRETIZATION: 'radiation'\n",
    "- RADIATION_CLASS_NUMBER: 5  # Example value"
   ]
  },
  {
   "cell_type": "code",
   "execution_count": null,
   "metadata": {},
   "outputs": [],
   "source": [
    "def discretize_by_radiation():\n",
    "    hru_shapefile = discretizer._discretize_by_radiation()\n",
    "    if hru_shapefile:\n",
    "        logger.info(f\"Radiation-based HRUs created. Shapefile at: {hru_shapefile}\")\n",
    "    else:\n",
    "        logger.error(\"Failed to create radiation-based HRUs\")"
   ]
  },
  {
   "cell_type": "markdown",
   "metadata": {},
   "source": [
    "## 6. Combined Discretization\n",
    "### Note: Yet to be implemented as of 14/09/2024\n",
    "\n",
    "This method creates HRUs based on a combination of geospatial attributes. \n",
    "\n",
    "- DOMAIN_DISCRETIZATION: 'combined'\n",
    "- COMBINED_DISCRETIZATION_METHODS: radiation, elevation #example combinations"
   ]
  },
  {
   "cell_type": "code",
   "execution_count": 5,
   "metadata": {},
   "outputs": [],
   "source": [
    "def discretize_combined():\n",
    "    hru_shapefile = discretizer._discretize_combined()\n",
    "    if hru_shapefile:\n",
    "        logger.info(f\"Combined HRUs created. Shapefile at: {hru_shapefile}\")\n",
    "    else:\n",
    "        logger.error(\"Failed to create combined HRUs\")"
   ]
  },
  {
   "cell_type": "markdown",
   "metadata": {},
   "source": [
    "Running the Discretization\n",
    "Here's how you can run the domain discretization based on the configuration:"
   ]
  },
  {
   "cell_type": "code",
   "execution_count": null,
   "metadata": {},
   "outputs": [],
   "source": [
    "def discretize_domain():\n",
    "    discretization_method = config.get('DOMAIN_DISCRETIZATION').lower()\n",
    "    \n",
    "    method_map = {\n",
    "        'grus': use_grus_as_hrus,\n",
    "        'elevation': discretize_by_elevation,\n",
    "        'soilclass': discretize_by_soil_class,\n",
    "        'landclass': discretize_by_land_class,\n",
    "        'radiation': discretize_by_radiation,\n",
    "        'combined': discretize_combined\n",
    "    }\n",
    "    \n",
    "    if discretization_method in method_map:\n",
    "        method_map[discretization_method]()\n",
    "    else:\n",
    "        logger.error(f\"Invalid discretization method: {discretization_method}\")\n",
    "\n",
    "# Run the domain discretization\n",
    "discretize_domain()"
   ]
  },
  {
   "cell_type": "markdown",
   "metadata": {},
   "source": [
    "## Post-discretization Steps\n",
    "After discretization, CONFLUENCE performs some additional steps:\n",
    "\n",
    "1. Merging small HRUs: HRUs smaller than MIN_HRU_SIZE are merged with neighboring HRUs.\n",
    "2. Cleaning and preparing HRU data: This includes calculating mean elevation, ensuring valid geometries, and preparing data for SUMMA.\n",
    "\n",
    "These steps are handled automatically by the DomainDiscretizer class."
   ]
  },
  {
   "cell_type": "markdown",
   "metadata": {},
   "source": [
    "## Conclusion\n",
    "\n",
    "We've explored the various methods for domain discretization in CONFLUENCE, including using GRUs as HRUs, and discretization based on elevation, soil class, land class, radiation, and combined attributes. Each method offers different advantages depending on your modeling needs and data availability.\n",
    "\n",
    "Remember to set the appropriate discretization method and related parameters in your configuration file before running the discretization process. In the next notebook, we'll look at how to use our discretised domain files for hydrological modelling."
   ]
  }
 ],
 "metadata": {
  "kernelspec": {
   "display_name": "camels-spat-env",
   "language": "python",
   "name": "python3"
  },
  "language_info": {
   "codemirror_mode": {
    "name": "ipython",
    "version": 3
   },
   "file_extension": ".py",
   "mimetype": "text/x-python",
   "name": "python",
   "nbconvert_exporter": "python",
   "pygments_lexer": "ipython3",
   "version": "3.12.5"
  }
 },
 "nbformat": 4,
 "nbformat_minor": 2
}
