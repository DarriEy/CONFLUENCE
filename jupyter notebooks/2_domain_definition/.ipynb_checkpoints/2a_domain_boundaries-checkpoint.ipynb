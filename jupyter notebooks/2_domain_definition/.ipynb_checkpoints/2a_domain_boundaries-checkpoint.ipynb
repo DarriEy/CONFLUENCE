{
 "cells": [
  {
   "cell_type": "markdown",
   "id": "b2f54242-61ac-4a34-ba06-2b0f25597819",
   "metadata": {},
   "source": [
    "# Defining domain boundaries\n",
    "For our new project we must define the area which we want to model. This entails determining the point on the river network that will define our watershed and the bounding box of the watershed area, which we will use in subsequent steps to acquire the pertinent data for our model.\n"
   ]
  },
  {
   "cell_type": "markdown",
   "id": "00db58ca-5752-416c-b465-3643daac43f1",
   "metadata": {},
   "source": [
    "## Key Configuration Settings\n",
    "\n",
    "Before we begin, let's review the key parts of the `config_active.yaml` file that are essential for initializing a new project:\n",
    "\n",
    "1. `POUR_POINT_SHP_PATH`: Path to the pour point shapefile (use 'default' for the standard location).\n",
    "2. `POUR_POINT_SHP_NAME`: Name of the pour point shapefile (use 'default' for standard naming).\n",
    "3. `POUR_POINT_COORDS`: Coordinates of the pour point (latitude, longitude) if not using an existing shapefile."
   ]
  },
  {
   "cell_type": "markdown",
   "id": "99feebe3-0ba7-4a48-8acf-8ec5d7f54fa1",
   "metadata": {},
   "source": [
    "## First we import the libraries and functions we need"
   ]
  },
  {
   "cell_type": "code",
   "execution_count": 7,
   "id": "d86da3cc-69c0-4865-8af3-111ee9bb83a5",
   "metadata": {},
   "outputs": [
    {
     "name": "stdout",
     "output_type": "stream",
     "text": [
      "All modules imported successfully\n"
     ]
    }
   ],
   "source": [
    "import sys\n",
    "from pathlib import Path\n",
    "import yaml # type: ignore\n",
    "import logging\n",
    "\n",
    "# Get the current working directory\n",
    "current_dir = Path.cwd()\n",
    "\n",
    "# Add the parent directory to sys.path\n",
    "base_dir = current_dir.parent.parent\n",
    "sys.path.append(str(base_dir))\n",
    "\n",
    "# Import from CONFLUENCE utils\\n\",\n",
    "from utils.dataHandling_utils.data_utils import ProjectInitialisation # type: ignore\n",
    "\n",
    "# Set up logging\n",
    "logging.basicConfig(level=logging.INFO, format='%(asctime)s - %(levelname)s - %(message)s')\n",
    "logger = logging.getLogger(__name__)\n",
    "\n",
    "print(\"All modules imported successfully\")"
   ]
  },
  {
   "cell_type": "markdown",
   "id": "856796b5-bcd4-4e5e-9e81-412530db287e",
   "metadata": {},
   "source": [
    "## Review configurations\n",
    "\n",
    "Now we should print our configuration settings and make sure that we have defined all the settings we need at this stage of the workflow. "
   ]
  },
  {
   "cell_type": "code",
   "execution_count": 11,
   "id": "6ea60c28-6894-4345-a39c-deabf7dd1914",
   "metadata": {},
   "outputs": [
    {
     "name": "stdout",
     "output_type": "stream",
     "text": [
      "POUR_POINT_COORDS: 64.9019722/-146.3613333\n",
      "BOUNDING_BOX_COORDS: 65.34/-146.78/64.68/-144.51\n"
     ]
    }
   ],
   "source": [
    "config_path = Path('../../0_config_files/config_active.yaml')\n",
    "with open(config_path, 'r') as config_file:\n",
    "    config = yaml.safe_load(config_file)\n",
    "    \n",
    "    # Display key configuration settings\\n\",\n",
    "    print(f\"POUR_POINT_COORDS: {config['POUR_POINT_COORDS']}\")\n",
    "    print(f\"BOUNDING_BOX_COORDS: {config['BOUNDING_BOX_COORDS']}\")"
   ]
  },
  {
   "cell_type": "markdown",
   "id": "bfa327ca-93f0-4520-bd83-9a6b418d001c",
   "metadata": {},
   "source": [
    "## Define default paths\n",
    "\n",
    "Now let's define the paths to data directories before we run the pre processing scripts and create the containing directories"
   ]
  },
  {
   "cell_type": "code",
   "execution_count": 9,
   "id": "ce07fd1d-cfe4-4f88-a4d3-61a8755f6ec9",
   "metadata": {},
   "outputs": [],
   "source": [
    "# Main project directory\n",
    "data_dir = config['CONFLUENCE_DATA_DIR']\n",
    "project_dir = Path(data_dir) / f\"domain_{config['DOMAIN_NAME']}\"\n",
    "\n",
    "# Data directoris\n",
    "pour_point_dir = project_dir / 'shapefiles' / 'pour_point'\n",
    "\n",
    "# Make sure the new directory exists\n",
    "pour_point_dir.mkdir(parents = True, exist_ok = True)"
   ]
  },
  {
   "cell_type": "markdown",
   "id": "d949aa1a-01f3-4612-8e54-2911269f0c32",
   "metadata": {},
   "source": [
    "## Creating a Pour Point\n",
    "The pour point is a crucial element in defining our region of interest. It represents the outlet point of the watershed we want to model. Let's create a pour point based on our configuration."
   ]
  },
  {
   "cell_type": "code",
   "execution_count": 10,
   "id": "706ef16d-8807-4a8e-9660-6231f4f98ca1",
   "metadata": {},
   "outputs": [
    {
     "name": "stderr",
     "output_type": "stream",
     "text": [
      "2024-10-26 14:09:20,573 - INFO - Created 1 records\n",
      "2024-10-26 14:09:20,576 - INFO - Pour point shapefile created successfully: /home/darri/data/CONFLUENCE_data/domain_Chena/shapefiles/pour_point/Chena_pourPoint.shp\n"
     ]
    },
    {
     "name": "stdout",
     "output_type": "stream",
     "text": [
      "Pour point shapefile created at: /home/darri/data/CONFLUENCE_data/domain_Chena/shapefiles/pour_point/Chena_pourPoint.shp\n",
      "Pour point coordinates: 64.9019722/-146.3613333\n"
     ]
    }
   ],
   "source": [
    "# Initialize ProjectInitialisation class\n",
    "project_init = ProjectInitialisation(config, logger)\n",
    "\n",
    "if config.get('POUR_POINT_COORDS', 'default').lower() == 'default':\n",
    "    logger.info(\"Using user-provided pour point shapefile\")\n",
    "    pour_point_file = None\n",
    "else:\n",
    "    pour_point_file = project_init.create_pourPoint()\n",
    "\n",
    "if pour_point_file:\n",
    "    logger.info(f\"Pour point shapefile created successfully: {pour_point_file}\")\n",
    "else:\n",
    "    logger.error(\"Failed to create pour point shapefile\")\n",
    "\n",
    "# Display pour point information\n",
    "if pour_point_file:\n",
    "    print(f\"Pour point shapefile created at: {pour_point_file}\")\n",
    "    print(f\"Pour point coordinates: {config['POUR_POINT_COORDS']}\")\n",
    "else:\n",
    "    print(\"Using existing pour point shapefile\")\n",
    "    print(f\"Pour point shapefile path: {config['POUR_POINT_SHP_PATH']}\")\n",
    "    print(f\"Pour point shapefile name: {config['POUR_POINT_SHP_NAME']}\")"
   ]
  }
 ],
 "metadata": {
  "kernelspec": {
   "display_name": "confluenec_env",
   "language": "python",
   "name": "confluence_env"
  },
  "language_info": {
   "codemirror_mode": {
    "name": "ipython",
    "version": 3
   },
   "file_extension": ".py",
   "mimetype": "text/x-python",
   "name": "python",
   "nbconvert_exporter": "python",
   "pygments_lexer": "ipython3",
   "version": "3.11.5"
  }
 },
 "nbformat": 4,
 "nbformat_minor": 5
}
