{
 "cells": [
  {
   "cell_type": "markdown",
   "metadata": {},
   "source": [
    "# Initializing a New Project with CONFLUENCE\n",
    "\n",
    "## Introduction to CONFLUENCE\n",
    "\n",
    "CONFLUENCE (Community Optimization and Numerical Framework for Large-domain Understanding of Environmental Networks and Computational Exploration) is an advanced hydrological modeling platform designed to facilitate comprehensive analysis and simulation of water systems across various scales and regions. It integrates multiple components for e.g. data management, model setup, optimization, visualization, and workflow management.\n",
    "\n",
    "CONFLUENCE is intended to be particularly useful for researchers, water resource managers, and environmental scientists who need to model complex hydrological systems, assess water availability, predict flooding events, or study the impacts of climate change on water resources. Its modular architecture allows for flexibility in model choice and parameter optimization, making it adaptable to a wide range of hydrological scenarios and research questions."
   ]
  },
  {
   "cell_type": "markdown",
   "metadata": {},
   "source": [
    "## Key Configuration Settings\n",
    "\n",
    "Before we begin, let's review the key parts of the `config_active.yaml` file that are essential for initializing a new project:\n",
    "\n",
    "1. `CONFLUENCE_DATA_DIR`: The root directory where all CONFLUENCE data will be stored.\n",
    "2. `CONFLUENCE_CODE_DIR`: The directory containing the CONFLUENCE code.\n",
    "3. `DOMAIN_NAME`: The name of your study area or project domain.\n",
    "4. `POUR_POINT_SHP_PATH`: Path to the pour point shapefile (use 'default' for the standard location).\n",
    "5. `POUR_POINT_SHP_NAME`: Name of the pour point shapefile (use 'default' for standard naming).\n",
    "6. `POUR_POINT_COORDS`: Coordinates of the pour point (latitude, longitude) if not using an existing shapefile.\n",
    "    \n",
    "    \n",
    "Let's load and review these settings:\n"
   ]
  },
  {
   "cell_type": "code",
   "execution_count": 5,
   "metadata": {},
   "outputs": [
    {
     "name": "stdout",
     "output_type": "stream",
     "text": [
      "All modules imported successfully\n"
     ]
    }
   ],
   "source": [
    "import sys\n",
    "from pathlib import Path\n",
    "import yaml # type: ignore\n",
    "import logging\n",
    "\n",
    "# Get the current working directory\n",
    "current_dir = Path.cwd()\n",
    "\n",
    "# Add the parent directory to sys.path\n",
    "base_dir = current_dir.parent.parent\n",
    "sys.path.append(str(base_dir))\n",
    "\n",
    "# Import from CONFLUENCE utils\\n\",\n",
    "from utils.data_utils import ProjectInitialisation # type: ignore\n",
    "\n",
    "\n",
    "print(\"All modules imported successfully\")"
   ]
  },
  {
   "cell_type": "code",
   "execution_count": 6,
   "metadata": {},
   "outputs": [
    {
     "name": "stdout",
     "output_type": "stream",
     "text": [
      "CONFLUENCE_DATA_DIR: /home/darri/data/CONFLUENCE_data\n",
      "CONFLUENCE_CODE_DIR: /home/darri/code/CONFLUENCE\n",
      "DOMAIN_NAME: Bow_at_Banff\n",
      "POUR_POINT_SHP_PATH: default\n",
      "POUR_POINT_SHP_NAME: default\n",
      "POUR_POINT_COORDS: 51.1722/-115.5717\n"
     ]
    }
   ],
   "source": [
    "config_path = Path('../../0_config_files/config_active.yaml')\n",
    "with open(config_path, 'r') as config_file:\n",
    "    config = yaml.safe_load(config_file)\n",
    "    \n",
    "    # Display key configuration settings\\n\",\n",
    "    print(f\"CONFLUENCE_DATA_DIR: {config['CONFLUENCE_DATA_DIR']}\")\n",
    "    print(f\"CONFLUENCE_CODE_DIR: {config['CONFLUENCE_CODE_DIR']}\")\n",
    "    print(f\"DOMAIN_NAME: {config['DOMAIN_NAME']}\")\n",
    "    print(f\"POUR_POINT_SHP_PATH: {config['POUR_POINT_SHP_PATH']}\")\n",
    "    print(f\"POUR_POINT_SHP_NAME: {config['POUR_POINT_SHP_NAME']}\")\n",
    "    print(f\"POUR_POINT_COORDS: {config['POUR_POINT_COORDS']}\")\n",
    "    print(f\"BOUNDING_BOX_COORDS: {config['BOUNDING_BOX_COORDS']}\")"
   ]
  },
  {
   "cell_type": "markdown",
   "metadata": {},
   "source": [
    "## Setting Up a New Project\n",
    "Now that we have our configuration loaded, let's set up a new project. This process involves creating the necessary directory structure for our CONFLUENCE project."
   ]
  },
  {
   "cell_type": "code",
   "execution_count": 4,
   "metadata": {},
   "outputs": [
    {
     "name": "stderr",
     "output_type": "stream",
     "text": [
      "2024-10-19 17:37:15,478 - INFO - Project directory created at: /home/darri/data/CONFLUENCE_data/domain_Bow_at_Banff\n",
      "2024-10-19 17:37:15,479 - INFO - Shapefiles directories created\n"
     ]
    },
    {
     "name": "stdout",
     "output_type": "stream",
     "text": [
      "attributes\n",
      "documentation\n",
      "observations\n",
      "observations/streamflow\n",
      "observations/streamflow/raw_data\n",
      "shapefiles\n",
      "shapefiles/catchment\n",
      "shapefiles/pour_point\n",
      "shapefiles/river_basins\n",
      "shapefiles/river_network\n"
     ]
    }
   ],
   "source": [
    "# Set up \n",
    "logging.basicConfig(level=logging.INFO, format='%(asctime)s - %(levelname)s - %(message)s')\n",
    "logger = logging.getLogger(__name__)\n",
    "\n",
    "# Initialize ProjectInitialisation class\n",
    "project_init = ProjectInitialisation(config, logger)\n",
    "\n",
    "# Set up the project\n",
    "project_dir = project_init.setup_project()\n",
    "logger.info(f\"Project directory created at: {project_dir}\")\n",
    "logger.info(\"Shapefiles directories created\")\n",
    "\n",
    "# Display the created directory structure\n",
    "for path in sorted(project_dir.rglob('*')):\n",
    "    print(path.relative_to(project_dir))"
   ]
  },
  {
   "cell_type": "markdown",
   "metadata": {},
   "source": [
    "## Creating a Pour Point\n",
    "The pour point is a crucial element in defining our region of interest. It represents the outlet point of the watershed we want to model. Let's create a pour point based on our configuration."
   ]
  },
  {
   "cell_type": "code",
   "execution_count": 10,
   "metadata": {},
   "outputs": [
    {
     "name": "stderr",
     "output_type": "stream",
     "text": [
      "2024-10-13 11:53:38,177 - INFO - Created 1 records\n",
      "2024-10-13 11:53:38,178 - INFO - Pour point shapefile created successfully: /Users/darrieythorsson/compHydro/data/CONFLUENCE_data/domain_Bow_Dev/shapefiles/pour_point/Bow_Dev_pourPoint.shp\n"
     ]
    },
    {
     "name": "stdout",
     "output_type": "stream",
     "text": [
      "Pour point shapefile created at: /Users/darrieythorsson/compHydro/data/CONFLUENCE_data/domain_Bow_Dev/shapefiles/pour_point/Bow_Dev_pourPoint.shp\n",
      "Pour point coordinates: 51.1722/-115.5717\n"
     ]
    }
   ],
   "source": [
    "if config.get('POUR_POINT_COORDS', 'default').lower() == 'default':\n",
    "    logger.info(\"Using user-provided pour point shapefile\")\n",
    "    pour_point_file = None\n",
    "else:\n",
    "    pour_point_file = project_init.create_pourPoint()\n",
    "\n",
    "if pour_point_file:\n",
    "    logger.info(f\"Pour point shapefile created successfully: {pour_point_file}\")\n",
    "else:\n",
    "    logger.error(\"Failed to create pour point shapefile\")\n",
    "\n",
    "# Display pour point information\n",
    "if pour_point_file:\n",
    "    print(f\"Pour point shapefile created at: {pour_point_file}\")\n",
    "    print(f\"Pour point coordinates: {config['POUR_POINT_COORDS']}\")\n",
    "else:\n",
    "    print(\"Using existing pour point shapefile\")\n",
    "    print(f\"Pour point shapefile path: {config['POUR_POINT_SHP_PATH']}\")\n",
    "    print(f\"Pour point shapefile name: {config['POUR_POINT_SHP_NAME']}\")"
   ]
  },
  {
   "cell_type": "markdown",
   "metadata": {},
   "source": [
    "## Conclusion\n",
    "Congratulations! You have successfully initialized a new CONFLUENCE project. Here's a summary of what we've accomplished:\n",
    "\n",
    "1. Loaded and reviewed key configuration settings\n",
    "2. Set up the project directory structure\n",
    "3. Created a pour point shapefile (or identified an existing one)\n",
    "\n",
    "Your CONFLUENCE project is now ready for the next steps, such as data acquisition, model setup, and running simulations. In the following notebooks, we'll explore these advanced features of CONFLUENCE to build a comprehensive hydrological model for your domain, starting with defining the spatial domain of your project. "
   ]
  }
 ],
 "metadata": {
  "kernelspec": {
   "display_name": "Your Virtual Env",
   "language": "python",
   "name": "your_venv_name"
  },
  "language_info": {
   "codemirror_mode": {
    "name": "ipython",
    "version": 3
   },
   "file_extension": ".py",
   "mimetype": "text/x-python",
   "name": "python",
   "nbconvert_exporter": "python",
   "pygments_lexer": "ipython3",
   "version": "3.11.5"
  }
 },
 "nbformat": 4,
 "nbformat_minor": 4
}
