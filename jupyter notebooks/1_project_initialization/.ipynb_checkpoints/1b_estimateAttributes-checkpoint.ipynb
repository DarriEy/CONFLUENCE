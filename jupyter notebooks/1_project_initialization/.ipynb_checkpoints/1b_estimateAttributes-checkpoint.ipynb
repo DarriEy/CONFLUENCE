{
 "cells": [
  {
   "cell_type": "markdown",
   "metadata": {},
   "source": [
    "# Acquiring neccessary geospatial domain data for CONFLUENCE\n",
    "\n",
    "## Types of geospatial data\n",
    "To build and develop our hydrological models we need information about the geospatial attributes of our domain. These data include:\n",
    "\n",
    "1. Elevation data (Digital Elevation Model, DEM)\n",
    "2. Land cover classifications\n",
    "3. Soil type classifications\n",
    "\n",
    "## Methods of acquiring geospatial data\n",
    "There are several ways of acquiring geospatial data for our domain in CONFLUENCE, depending on the resources we have access to:\n",
    "\n",
    "1. Subsetting from full domain datasets stored on HPC. If you have access to appropriate HPC infrastructure we can use the gistool (https://github.com/CH-Earth/gistool)\n",
    "2. Download data directly from provider\n",
    "3. User supplied data. If you want to use your own geospatial data, e.g. with datasets not currently integrated in CONFLUENCE these can be defined in the CONFLUENCE configuration file\n",
    "\n",
    "In this notebook we will cover using methods 1 and 2 for aqcuiring the pertinent geospatial data for our models"
   ]
  },
  {
   "cell_type": "markdown",
   "metadata": {},
   "source": [
    "# 1. Subsetting data from HPC storage\n",
    "## Key Configuration Settings\n",
    "\n",
    "Let's begin by reviewing the key parts of the `config_active.yaml` file that are essential for initializing a new project:\n",
    "\n",
    "1. `CONFLUENCE_DATA_DIR`: The root directory where all CONFLUENCE data will be stored.\n",
    "2. `CONFLUENCE_CODE_DIR`: The directory containing the CONFLUENCE code.\n",
    "3. `DOMAIN_NAME`: The name of your study area or project domain.\n",
    "4. `BOUNDING_BOX_COORDS`: Coordinates of the domain bounding box\n",
    "5. `GISTOOL_DATASET_ROOT`: Path to gistool datasets root directory\n",
    "6. `TOOL_ACCOUNT`: HPC account for running datatool"
   ]
  },
  {
   "cell_type": "code",
   "execution_count": 1,
   "metadata": {},
   "outputs": [
    {
     "ename": "ImportError",
     "evalue": "/home/darri/code/confluence_env/lib/python3.11/site-packages/netCDF4/_netCDF4.cpython-311-x86_64-linux-gnu.so: undefined symbol: ompi_mpi_info_null",
     "output_type": "error",
     "traceback": [
      "\u001b[0;31m---------------------------------------------------------------------------\u001b[0m",
      "\u001b[0;31mImportError\u001b[0m                               Traceback (most recent call last)",
      "Cell \u001b[0;32mIn[1], line 18\u001b[0m\n\u001b[1;32m     15\u001b[0m sys\u001b[38;5;241m.\u001b[39mpath\u001b[38;5;241m.\u001b[39mappend(\u001b[38;5;28mstr\u001b[39m(parent_dir))\n\u001b[1;32m     17\u001b[0m \u001b[38;5;66;03m# Import required CONFLUENCE utility functions\u001b[39;00m\n\u001b[0;32m---> 18\u001b[0m \u001b[38;5;28;01mfrom\u001b[39;00m \u001b[38;5;21;01mutils\u001b[39;00m\u001b[38;5;21;01m.\u001b[39;00m\u001b[38;5;21;01mdataHandling_utils\u001b[39;00m\u001b[38;5;21;01m.\u001b[39;00m\u001b[38;5;21;01mdata_acquisition_utils\u001b[39;00m \u001b[38;5;28;01mimport\u001b[39;00m gistoolRunner, meritDownloader, soilgridsDownloader, modisDownloader \u001b[38;5;66;03m# type: ignore\u001b[39;00m\n\u001b[1;32m     20\u001b[0m \u001b[38;5;66;03m# Print if successfull\u001b[39;00m\n\u001b[1;32m     21\u001b[0m \u001b[38;5;28mprint\u001b[39m(\u001b[38;5;124m\"\u001b[39m\u001b[38;5;124mAll modules imported successfully\u001b[39m\u001b[38;5;124m\"\u001b[39m)\n",
      "File \u001b[0;32m~/code/CONFLUENCE/utils/dataHandling_utils/data_acquisition_utils.py:10\u001b[0m\n\u001b[1;32m      8\u001b[0m \u001b[38;5;28;01mimport\u001b[39;00m \u001b[38;5;21;01mcdsapi\u001b[39;00m \u001b[38;5;66;03m# type: ignore\u001b[39;00m\n\u001b[1;32m      9\u001b[0m \u001b[38;5;28;01mimport\u001b[39;00m \u001b[38;5;21;01mcalendar\u001b[39;00m\n\u001b[0;32m---> 10\u001b[0m \u001b[38;5;28;01mimport\u001b[39;00m \u001b[38;5;21;01mnetCDF4\u001b[39;00m \u001b[38;5;28;01mas\u001b[39;00m \u001b[38;5;21;01mnc4\u001b[39;00m \u001b[38;5;66;03m# type: ignore\u001b[39;00m\n\u001b[1;32m     11\u001b[0m \u001b[38;5;28;01mimport\u001b[39;00m \u001b[38;5;21;01mnumpy\u001b[39;00m \u001b[38;5;28;01mas\u001b[39;00m \u001b[38;5;21;01mnp\u001b[39;00m\n\u001b[1;32m     12\u001b[0m \u001b[38;5;28;01mfrom\u001b[39;00m \u001b[38;5;21;01mdatetime\u001b[39;00m \u001b[38;5;28;01mimport\u001b[39;00m datetime\n",
      "File \u001b[0;32m~/code/confluence_env/lib/python3.11/site-packages/netCDF4/__init__.py:3\u001b[0m\n\u001b[1;32m      1\u001b[0m \u001b[38;5;66;03m# init for netCDF4. package\u001b[39;00m\n\u001b[1;32m      2\u001b[0m \u001b[38;5;66;03m# Docstring comes from extension module _netCDF4.\u001b[39;00m\n\u001b[0;32m----> 3\u001b[0m \u001b[38;5;28;01mfrom\u001b[39;00m \u001b[38;5;21;01m.\u001b[39;00m\u001b[38;5;21;01m_netCDF4\u001b[39;00m \u001b[38;5;28;01mimport\u001b[39;00m \u001b[38;5;241m*\u001b[39m\n\u001b[1;32m      4\u001b[0m \u001b[38;5;66;03m# Need explicit imports for names beginning with underscores\u001b[39;00m\n\u001b[1;32m      5\u001b[0m \u001b[38;5;28;01mfrom\u001b[39;00m \u001b[38;5;21;01m.\u001b[39;00m\u001b[38;5;21;01m_netCDF4\u001b[39;00m \u001b[38;5;28;01mimport\u001b[39;00m \u001b[38;5;18m__doc__\u001b[39m\n",
      "\u001b[0;31mImportError\u001b[0m: /home/darri/code/confluence_env/lib/python3.11/site-packages/netCDF4/_netCDF4.cpython-311-x86_64-linux-gnu.so: undefined symbol: ompi_mpi_info_null"
     ]
    }
   ],
   "source": [
    "import sys\n",
    "from pathlib import Path\n",
    "import yaml # type: ignore\n",
    "import logging\n",
    "import rasterio\n",
    "import numpy as np\n",
    "from pathlib import Path\n",
    "from scipy import stats\n",
    "\n",
    "# Add the parent directory to sys.path\n",
    "current_dir = Path.cwd()\n",
    "parent_dir = current_dir.parent.parent\n",
    "sys.path.append(str(parent_dir))\n",
    "\n",
    "# Import required CONFLUENCE utility functions\n",
    "from utils.dataHandling_utils.data_acquisition_utils import gistoolRunner, meritDownloader, soilgridsDownloader, modisDownloader # type: ignore\n",
    "\n",
    "# Print if successfull\n",
    "print(\"All modules imported successfully\")"
   ]
  },
  {
   "cell_type": "markdown",
   "metadata": {},
   "source": [
    "## Check configurations\n",
    "\n",
    "Now we should print our configuration settings and make sure that we have defined all the settings we need. "
   ]
  },
  {
   "cell_type": "code",
   "execution_count": null,
   "metadata": {},
   "outputs": [],
   "source": [
    "config_path = Path('../../0_config_files/config_active.yaml')\n",
    "with open(config_path, 'r') as config_file:\n",
    "    config = yaml.safe_load(config_file)\n",
    "    \n",
    "    # Display key configuration settings\\n\",\n",
    "    print(f\"CONFLUENCE_DATA_DIR: {config['CONFLUENCE_DATA_DIR']}\")\n",
    "    print(f\"CONFLUENCE_CODE_DIR: {config['CONFLUENCE_CODE_DIR']}\")\n",
    "    print(f\"DOMAIN_NAME: {config['DOMAIN_NAME']}\")\n",
    "    print(f\"BOUNDING_BOX_COORDS: {config['BOUNDING_BOX_COORDS']}\")\n",
    "    print(f\"GISTOOL_DATASET_ROOT: {config['GISTOOL_DATASET_ROOT']}\")\n",
    "    print(f\"TOOL_ACCOUNT: {config['TOOL_ACCOUNT']}\")"
   ]
  },
  {
   "cell_type": "markdown",
   "metadata": {},
   "source": [
    "## Define default paths\n",
    "\n",
    "Now let's define the paths to the attribute data before we run the acquisition scripts and create the containing directories"
   ]
  },
  {
   "cell_type": "code",
   "execution_count": null,
   "metadata": {},
   "outputs": [],
   "source": [
    "# Main project directory\n",
    "data_dir = config['CONFLUENCE_DATA_DIR']\n",
    "project_dir = Path(data_dir) / f\"domain_{config['DOMAIN_NAME']}\"\n",
    "\n",
    "# Attribute directories\n",
    "dem_dir = project_dir / 'attributes' / 'elevation' / 'dem'\n",
    "soilclass_dir = project_dir / 'attributes' / 'soilclass'\n",
    "landclass_dir = project_dir / 'attributes' / 'landclass'\n",
    "\n",
    "for dir in [dem_dir, soilclass_dir, landclass_dir]: dir.mkdir(parents = True, exist_ok = True)"
   ]
  },
  {
   "cell_type": "markdown",
   "metadata": {},
   "source": [
    "# 1. Running gistool\n",
    "Now that we have our configuration loaded, let's run the gistool to get data we need. This process involves initializing the gistoolRunner with the appropriate settings for each of the datasets we want to extract."
   ]
  },
  {
   "cell_type": "markdown",
   "metadata": {},
   "source": [
    "## A. Elevation data.\n",
    "\n",
    "Currently gistool has support for the MERIT hydro digital elevation model"
   ]
  },
  {
   "cell_type": "code",
   "execution_count": null,
   "metadata": {},
   "outputs": [],
   "source": [
    "# Set up \n",
    "logging.basicConfig(level=logging.INFO, format='%(asctime)s - %(levelname)s - %(message)s')\n",
    "logger = logging.getLogger(__name__)\n",
    "\n",
    "# Initialize gistoolRunner class\n",
    "gr = gistoolRunner(config, logger)\n",
    "\n",
    "# Get lat and lon lims\n",
    "bbox = config['BOUNDING_BOX_COORDS'].split('/')\n",
    "latlims = f\"{bbox[2]},{bbox[0]}\"\n",
    "lonlims = f\"{bbox[1]},{bbox[3]}\"\n",
    "\n",
    "# Create the gistool command\n",
    "gistool_command = gr.create_gistool_command(dataset = 'MERIT-Hydro', output_dir = dem_dir, lat_lims = latlims, lon_lims = lonlims, variables = 'elv')\n",
    "gr.execute_gistool_command(gistool_command)\n"
   ]
  },
  {
   "cell_type": "markdown",
   "metadata": {},
   "source": [
    "## B. Landcover Data\n",
    "\n",
    "Currently the gistool supports the MODIS (MOD12Q1) and Landsat (NALCMS) land cover classification data"
   ]
  },
  {
   "cell_type": "code",
   "execution_count": null,
   "metadata": {},
   "outputs": [],
   "source": [
    "#First we define which years we should acquire the Landcover data for\n",
    "start_year = 2001\n",
    "end_year = 2020\n",
    "\n",
    "#Select which MODIS dataset to use\n",
    "modis_var = \"MCD12Q1.061\"\n",
    "\n",
    "# Create the gistool command\n",
    "gistool_command = gr.create_gistool_command(dataset = 'MODIS', output_dir = landclass_dir, lat_lims = latlims, lon_lims = lonlims, variables = modis_var, start_date=f\"{start_year}-01-01\", end_date=f\"{end_year}-01-01\")\n",
    "gr.execute_gistool_command(gistool_command)\n",
    "\n",
    "\n"
   ]
  },
  {
   "cell_type": "code",
   "execution_count": null,
   "metadata": {},
   "outputs": [],
   "source": [
    "# If we selected a range of years we need to calculate the mode of the timeseries\n",
    "def calculate_landcover_mode(input_dir, output_file, start_year, end_year):\n",
    "    # List all the geotiff files for the years we're interested in\n",
    "    geotiff_files = [input_dir / f\"domain_{config['DOMAIN_NAME']}{year}.tif\" for year in range(start_year, end_year + 1)]\n",
    "    \n",
    "    # Read the first file to get metadata\n",
    "    with rasterio.open(geotiff_files[0]) as src:\n",
    "        meta = src.meta\n",
    "        shape = src.shape\n",
    "    \n",
    "    # Initialize an array to store all the data\n",
    "    all_data = np.zeros((len(geotiff_files), *shape), dtype=np.int16)\n",
    "    \n",
    "    # Read all the geotiffs into the array\n",
    "    for i, file in enumerate(geotiff_files):\n",
    "        with rasterio.open(file) as src:\n",
    "            all_data[i] = src.read(1)\n",
    "    \n",
    "    # Calculate the mode along the time axis\n",
    "    mode_data, _ = stats.mode(all_data, axis=0)\n",
    "    mode_data = mode_data.astype(np.int16).squeeze()\n",
    "    \n",
    "    # Update metadata for output\n",
    "    meta.update(count=1, dtype='int16')\n",
    "    \n",
    "    # Write the result\n",
    "    with rasterio.open(output_file, 'w', **meta) as dst:\n",
    "        dst.write(mode_data, 1)\n",
    "    \n",
    "    print(f\"Mode calculation complete. Result saved to {output_file}\")\n",
    "\n",
    "if start_year != end_year:\n",
    "    input_dir = landclass_dir / modis_var\n",
    "    output_file = landclass_dir / f\"domain_Bow_at_Banff_landcover.tif\"\n",
    "    \n",
    "    calculate_landcover_mode(input_dir, output_file, start_year, end_year)"
   ]
  },
  {
   "cell_type": "markdown",
   "metadata": {},
   "source": [
    "## C. Soil classification data\n",
    "\n",
    "Currently the gistool supports i. Soil Grids (v1), ii. USDA Soil Class and iii. Global Soil Dataset for Earth System Modelling (GSDE)"
   ]
  },
  {
   "cell_type": "code",
   "execution_count": null,
   "metadata": {},
   "outputs": [],
   "source": [
    "# Create the gistool command\n",
    "gistool_command = gr.create_gistool_command(dataset = 'soil_class', output_dir = soilclass_dir, lat_lims = latlims, lon_lims = lonlims, variables = 'soil_classes')\n",
    "gr.execute_gistool_command(gistool_command)\n"
   ]
  },
  {
   "cell_type": "markdown",
   "metadata": {},
   "source": [
    "# 2. Download data from provider\n",
    "\n",
    "In case don't have access gistool supported HPC infrastructure data can be downloaded from the original data provider. CONFLUENCE currently supports direct downloads of the following datasets:\n",
    "\n",
    "1. Elevation (MERIT hydro)\n",
    "2. Soil classifications (SOILGRIDS)\n",
    "3. Landcover classifications (MODIS12Q1)\n",
    "\n",
    "These scripts are adapted from the CWARHM workflows by Knoben et al., 2021. The user can also develop their own download scripts here. If you do so, please consider contributing them to the CONFLUENCE repository."
   ]
  },
  {
   "cell_type": "markdown",
   "metadata": {},
   "source": [
    "## 1. Download elevation data from MERIT Hydro"
   ]
  },
  {
   "cell_type": "code",
   "execution_count": null,
   "metadata": {},
   "outputs": [],
   "source": [
    "# 1. Download MERIT HYDRO elevation data\n",
    "# Set up \n",
    "logging.basicConfig(level=logging.INFO, format='%(asctime)s - %(levelname)s - %(message)s')\n",
    "logger = logging.getLogger(__name__)\n",
    "\n",
    "# Initialize meritDownloader class\n",
    "md = meritDownloader(config, logger)\n",
    "\n",
    "# Run MERIT downloads\n",
    "md.run_download()\n",
    "\n",
    "logger.info(\"MERIT data processing completed\")"
   ]
  },
  {
   "cell_type": "markdown",
   "metadata": {},
   "source": [
    "## 2. Download soil classification data from SOILGRIDS"
   ]
  },
  {
   "cell_type": "code",
   "execution_count": null,
   "metadata": {},
   "outputs": [],
   "source": [
    "# Set up \n",
    "logging.basicConfig(level=logging.INFO, format='%(asctime)s - %(levelname)s - %(message)s')\n",
    "logger = logging.getLogger(__name__)\n",
    "\n",
    "# Initialize soilgridsDownloader class\n",
    "sd = soilgridsDownloader(config, logger)\n",
    "\n",
    "# Run SOILGRIDS downloads and processing\n",
    "sd.process_soilgrids_data()\n",
    "\n",
    "logger.info(\"SOILGRIDS data processing completed\")"
   ]
  },
  {
   "cell_type": "markdown",
   "metadata": {},
   "source": [
    "## 3. Download landcover classifications from MODIS (MOD12Q1)"
   ]
  },
  {
   "cell_type": "code",
   "execution_count": null,
   "metadata": {},
   "outputs": [],
   "source": [
    "# Set up \n",
    "logging.basicConfig(level=logging.INFO, format='%(asctime)s - %(levelname)s - %(message)s')\n",
    "logger = logging.getLogger(__name__)\n",
    "\n",
    "# Initialize modisDownloader class\n",
    "md = modisDownloader(config, logger)\n",
    "\n",
    "# Run MODIS downloads and processing\n",
    "md.run_modis_workflow()\n",
    "\n",
    "logger.info(\"MODIS data processing completed\")"
   ]
  },
  {
   "cell_type": "markdown",
   "metadata": {},
   "source": [
    "## Conclusion\n",
    "Congratulations! You have successfully acquired the geospatial data we need to define our modelling domain and to estimate our model attributes."
   ]
  }
 ],
 "metadata": {
  "kernelspec": {
   "display_name": "confluenec_env",
   "language": "python",
   "name": "confluence_env"
  },
  "language_info": {
   "codemirror_mode": {
    "name": "ipython",
    "version": 3
   },
   "file_extension": ".py",
   "mimetype": "text/x-python",
   "name": "python",
   "nbconvert_exporter": "python",
   "pygments_lexer": "ipython3",
   "version": "3.11.5"
  }
 },
 "nbformat": 4,
 "nbformat_minor": 4
}
