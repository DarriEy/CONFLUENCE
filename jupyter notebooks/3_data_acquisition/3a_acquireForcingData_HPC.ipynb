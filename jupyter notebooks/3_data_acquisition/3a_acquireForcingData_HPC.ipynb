{
 "cells": [
  {
   "cell_type": "markdown",
   "metadata": {},
   "source": [
    "# Model-Agnostic Input Data Preprocessing in CONFLUENCE\n",
    "\n",
    "## Introduction\n",
    "\n",
    "This notebook focuses on the model-agnostic preprocessing steps for input data in CONFLUENCE. Model-agnostic preprocessing involves tasks that are common across different hydrological models, such as data acquisition, quality control, and initial formatting.\n",
    "\n",
    "Key steps covered in this notebook include:\n",
    "\n",
    "1. Acquiring meteorological and geospatial data for the study area\n",
    "2. Standardizing data formats and units\n",
    "3. Spatial resampling of data to match the model domain\n",
    "4. Calculate zonal statistics for the model attributes \n",
    "\n",
    "In this preprocessing stage we ensure that our input data is consistent, complete, and properly formatted before we move on to model-specific preprocessing steps. By the end of this notebook, you will have clean, standardized datasets ready for further model-specific processing."
   ]
  },
  {
   "cell_type": "markdown",
   "metadata": {},
   "source": [
    "## First we import the libraries and functions we need"
   ]
  },
  {
   "cell_type": "code",
   "execution_count": 1,
   "metadata": {},
   "outputs": [],
   "source": [
    "import sys\n",
    "from pathlib import Path\n",
    "from typing import Dict, Any\n",
    "import logging\n",
    "\n",
    "# Add the parent directory to sys.path\n",
    "current_dir = Path.cwd()\n",
    "parent_dir = current_dir.parent\n",
    "sys.path.append(str(parent_dir))\n",
    "\n",
    "from utils.data_utils import DataAcquisitionProcessor, DataPreProcessor # type: ignore\n",
    "from utils.logging_utils import setup_logger # type: ignore\n",
    "\n",
    "# Load configuration\n",
    "config_path = parent_dir / '0_config_files' / 'config_active.yaml'\n",
    "with open(config_path, 'r') as config_file:\n",
    "    config = yaml.safe_load(config_file)\n",
    "\n",
    "# Set up logging\n",
    "logging.basicConfig(level=logging.INFO, format='%(asctime)s - %(levelname)s - %(message)s')\n",
    "logger = logging.getLogger(__name__)\n",
    "\n",
    "# Initialize DomainDiscretizer\n",
    "discretizer = DomainDiscretizer(config, logger)"
   ]
  },
  {
   "cell_type": "markdown",
   "metadata": {},
   "source": [
    "## Secondly let's define the functions we need"
   ]
  },
  {
   "cell_type": "code",
   "execution_count": 2,
   "metadata": {},
   "outputs": [],
   "source": [
    "def setup_logging(log_file: str = 'input_data_processing.log') -> logging.Logger:\n",
    "    \"\"\"Set up and return a logger.\"\"\"\n",
    "    return setup_logger('input_data_processor', log_file)\n",
    "\n",
    "def get_project_dir(config: Dict[str, Any]) -> Path:\n",
    "    \"\"\"Determine the project directory based on configuration.\"\"\"\n",
    "    data_dir = Path(config.get('CONFLUENCE_DATA_DIR'))\n",
    "    domain_name = config.get('DOMAIN_NAME')\n",
    "    return data_dir / f\"domain_{domain_name}\"\n",
    "\n",
    "def process_hpc_data(config: Dict[str, Any], logger: logging.Logger):\n",
    "    \"\"\"Process data using HPC resources.\"\"\"\n",
    "    logger.info('Data acquisition set to HPC')\n",
    "    data_acquisition = DataAcquisitionProcessor(config, logger)\n",
    "    try:\n",
    "        data_acquisition.run_data_acquisition()\n",
    "    except Exception as e:\n",
    "        logger.error(f\"Error during data acquisition: {str(e)}\")\n",
    "        raise\n",
    "\n",
    "def process_supplied_data(config: Dict[str, Any], logger: logging.Logger):\n",
    "    \"\"\"Process user-supplied data.\"\"\"\n",
    "    logger.info('Model input data set to supplied by user')\n",
    "    data_preprocessor = DataPreProcessor(config, logger)\n",
    "    data_preprocessor.process_zonal_statistics()\n",
    "\n",
    "def process_input_data(config: Dict[str, Any]):\n",
    "    \"\"\"Main function to process input data based on configuration.\"\"\"\n",
    "    logger = setup_logging()\n",
    "    logger.info(\"Starting input data processing\")\n",
    "    \n",
    "    project_dir = get_project_dir(config)\n",
    "    logger.info(f\"Project directory: {project_dir}\")\n",
    "    \n",
    "    if config.get('DATA_ACQUIRE') == 'HPC':\n",
    "        process_hpc_data(config, logger)\n",
    "    elif config.get('DATA_ACQUIRE') == 'supplied':\n",
    "        process_supplied_data(config, logger)\n",
    "    else:\n",
    "        logger.error(f\"Invalid DATA_ACQUIRE option: {config.get('DATA_ACQUIRE')}\")\n",
    "        raise ValueError(\"DATA_ACQUIRE must be either 'HPC' or 'supplied'\")\n",
    "    \n",
    "    logger.info(\"Input data processing completed\")"
   ]
  },
  {
   "cell_type": "markdown",
   "metadata": {},
   "source": [
    "## Lastly run the process input data function "
   ]
  },
  {
   "cell_type": "code",
   "execution_count": null,
   "metadata": {},
   "outputs": [],
   "source": [
    "if __name__ == \"__main__\":\n",
    "    config = \n",
    "    process_input_data(config)"
   ]
  }
 ],
 "metadata": {
  "kernelspec": {
   "display_name": "camels-spat-env",
   "language": "python",
   "name": "camels-spat-env"
  },
  "language_info": {
   "codemirror_mode": {
    "name": "ipython",
    "version": 3
   },
   "file_extension": ".py",
   "mimetype": "text/x-python",
   "name": "python",
   "nbconvert_exporter": "python",
   "pygments_lexer": "ipython3",
   "version": "3.12.5"
  }
 },
 "nbformat": 4,
 "nbformat_minor": 4
}
