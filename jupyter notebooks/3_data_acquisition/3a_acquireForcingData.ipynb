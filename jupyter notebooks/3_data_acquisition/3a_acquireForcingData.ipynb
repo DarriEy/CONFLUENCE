{
 "cells": [
  {
   "cell_type": "markdown",
   "metadata": {},
   "source": [
    "# Acquiring model forcing data for the modelling domain\n",
    "\n",
    "To run our hydrological models we need meteorological forcing data for our domain. These data include:\n",
    "\n",
    "1. Precipitation\n",
    "2. Temperature\n",
    "3. Wind speed\n",
    "4. Humidity\n",
    "5. Solar radiation\n",
    "6. Long wave radiation\n",
    "7. Atmospheric pressure\n",
    "\n",
    "## Methods of acquiring geospatial data\n",
    "\n",
    "1. Subsetting from full domain datasets stored on HPC. If you have access to appropriate HPC infrastructure we can use the datatool (https://github.com/CH-Earth/datatool)\n"
   ]
  },
  {
   "cell_type": "markdown",
   "metadata": {},
   "source": [
    "## First we import the libraries and functions we need"
   ]
  },
  {
   "cell_type": "code",
   "execution_count": 1,
   "metadata": {},
   "outputs": [
    {
     "ename": "ModuleNotFoundError",
     "evalue": "No module named 'mpi4py'",
     "output_type": "error",
     "traceback": [
      "\u001b[0;31m---------------------------------------------------------------------------\u001b[0m",
      "\u001b[0;31mModuleNotFoundError\u001b[0m                       Traceback (most recent call last)",
      "Cell \u001b[0;32mIn[1], line 12\u001b[0m\n\u001b[1;32m      9\u001b[0m sys\u001b[38;5;241m.\u001b[39mpath\u001b[38;5;241m.\u001b[39mappend(\u001b[38;5;28mstr\u001b[39m(parent_dir))\n\u001b[1;32m     11\u001b[0m \u001b[38;5;66;03m# Import required CONFLUENCE utility functions\u001b[39;00m\n\u001b[0;32m---> 12\u001b[0m \u001b[38;5;28;01mfrom\u001b[39;00m \u001b[38;5;21;01mutils\u001b[39;00m\u001b[38;5;21;01m.\u001b[39;00m\u001b[38;5;21;01mdataHandling_utils\u001b[39;00m\u001b[38;5;21;01m.\u001b[39;00m\u001b[38;5;21;01mdata_acquisition_utils\u001b[39;00m \u001b[38;5;28;01mimport\u001b[39;00m datatoolRunner, carraDownloader, era5Downloader \u001b[38;5;66;03m# type: ignore\u001b[39;00m\n\u001b[1;32m     14\u001b[0m \u001b[38;5;66;03m# Print if successfull\u001b[39;00m\n\u001b[1;32m     15\u001b[0m \u001b[38;5;28mprint\u001b[39m(\u001b[38;5;124m\"\u001b[39m\u001b[38;5;124mAll modules imported successfully\u001b[39m\u001b[38;5;124m\"\u001b[39m)\n",
      "File \u001b[0;32m~/code/CONFLUENCE/utils/dataHandling_utils/data_acquisition_utils.py:10\u001b[0m\n\u001b[1;32m      8\u001b[0m \u001b[38;5;28;01mimport\u001b[39;00m \u001b[38;5;21;01mcdsapi\u001b[39;00m \u001b[38;5;66;03m# type: ignore\u001b[39;00m\n\u001b[1;32m      9\u001b[0m \u001b[38;5;28;01mimport\u001b[39;00m \u001b[38;5;21;01mcalendar\u001b[39;00m\n\u001b[0;32m---> 10\u001b[0m \u001b[38;5;28;01mimport\u001b[39;00m \u001b[38;5;21;01mnetCDF4\u001b[39;00m \u001b[38;5;28;01mas\u001b[39;00m \u001b[38;5;21;01mnc4\u001b[39;00m \u001b[38;5;66;03m# type: ignore\u001b[39;00m\n\u001b[1;32m     11\u001b[0m \u001b[38;5;28;01mimport\u001b[39;00m \u001b[38;5;21;01mnumpy\u001b[39;00m \u001b[38;5;28;01mas\u001b[39;00m \u001b[38;5;21;01mnp\u001b[39;00m\n\u001b[1;32m     12\u001b[0m \u001b[38;5;28;01mfrom\u001b[39;00m \u001b[38;5;21;01mdatetime\u001b[39;00m \u001b[38;5;28;01mimport\u001b[39;00m datetime\n",
      "File \u001b[0;32m~/code/confluence_env/lib/python3.11/site-packages/netCDF4/__init__.py:3\u001b[0m\n\u001b[1;32m      1\u001b[0m \u001b[38;5;66;03m# init for netCDF4. package\u001b[39;00m\n\u001b[1;32m      2\u001b[0m \u001b[38;5;66;03m# Docstring comes from extension module _netCDF4.\u001b[39;00m\n\u001b[0;32m----> 3\u001b[0m \u001b[38;5;28;01mfrom\u001b[39;00m \u001b[38;5;21;01m.\u001b[39;00m\u001b[38;5;21;01m_netCDF4\u001b[39;00m \u001b[38;5;28;01mimport\u001b[39;00m \u001b[38;5;241m*\u001b[39m\n\u001b[1;32m      4\u001b[0m \u001b[38;5;66;03m# Need explicit imports for names beginning with underscores\u001b[39;00m\n\u001b[1;32m      5\u001b[0m \u001b[38;5;28;01mfrom\u001b[39;00m \u001b[38;5;21;01m.\u001b[39;00m\u001b[38;5;21;01m_netCDF4\u001b[39;00m \u001b[38;5;28;01mimport\u001b[39;00m \u001b[38;5;18m__doc__\u001b[39m\n",
      "File \u001b[0;32msrc/netCDF4/_netCDF4.pyx:1\u001b[0m, in \u001b[0;36minit netCDF4._netCDF4\u001b[0;34m()\u001b[0m\n",
      "\u001b[0;31mModuleNotFoundError\u001b[0m: No module named 'mpi4py'"
     ]
    }
   ],
   "source": [
    "import sys\n",
    "from pathlib import Path\n",
    "import yaml # type: ignore\n",
    "import logging\n",
    "\n",
    "# Add the parent directory to sys.path\n",
    "current_dir = Path.cwd()\n",
    "parent_dir = current_dir.parent.parent\n",
    "sys.path.append(str(parent_dir))\n",
    "\n",
    "# Import required CONFLUENCE utility functions\n",
    "from utils.dataHandling_utils.data_acquisition_utils import datatoolRunner, carraDownloader, era5Downloader # type: ignore\n",
    "\n",
    "# Print if successfull\n",
    "print(\"All modules imported successfully\")"
   ]
  },
  {
   "cell_type": "markdown",
   "metadata": {},
   "source": [
    "## Check configurations\n",
    "\n",
    "Now we should print our configuration settings and make sure that we have defined all the settings we need. "
   ]
  },
  {
   "cell_type": "code",
   "execution_count": null,
   "metadata": {},
   "outputs": [],
   "source": [
    "config_path = Path('../../0_config_files/config_active.yaml')\n",
    "with open(config_path, 'r') as config_file:\n",
    "    config = yaml.safe_load(config_file)\n",
    "    print(f\"BOUNDING_BOX_COORDS: {config['BOUNDING_BOX_COORDS']}\")\n",
    "    print(f\"DATATOOL_DATASET_ROOT: {config['GISTOOL_DATASET_ROOT']}\")\n",
    "    print(f\"TOOL_ACCOUNT: {config['TOOL_ACCOUNT']}\")\n",
    "    print(f\"FORCING_DATASET: {config['FORCING_DATASET']}\")\n",
    "    print(f\"FORCING_VARIABLES: {config['FORCING_VARIABLES']}\")\n",
    "    print(f\"EXPERIMENT_TIME_START: {config['EXPERIMENT_TIME_START']}\")\n",
    "    print(f\"EXPERIMENT_TIME_START: {config['EXPERIMENT_TIME_START']}\")"
   ]
  },
  {
   "cell_type": "markdown",
   "metadata": {},
   "source": [
    "## Define default paths\n",
    "\n",
    "Now let's define the paths to the forcing data before we run the acquisition scripts and create the containing directories"
   ]
  },
  {
   "cell_type": "code",
   "execution_count": null,
   "metadata": {},
   "outputs": [],
   "source": [
    "# Main project directory\n",
    "data_dir = config['CONFLUENCE_DATA_DIR']\n",
    "project_dir = Path(data_dir) / f\"domain_{config['DOMAIN_NAME']}\"\n",
    "\n",
    "# Data directory\n",
    "raw_data_dir = project_dir / 'forcing' / 'raw_data'\n",
    "\n",
    "# Make sure the directory exists\n",
    "raw_data_dir.mkdir(parents = True, exist_ok = True)\n"
   ]
  },
  {
   "cell_type": "markdown",
   "metadata": {
    "tags": []
   },
   "source": [
    "# 1. Running datatool\n",
    "Now that we have our configuration loaded, let's run the datatool to get data we need. This process involves initializing the gistoolRunner with the appropriate settings for each of the datasets we want to extract."
   ]
  },
  {
   "cell_type": "code",
   "execution_count": null,
   "metadata": {},
   "outputs": [],
   "source": [
    "# Set up \n",
    "logging.basicConfig(level=logging.INFO, format='%(asctime)s - %(levelname)s - %(message)s')\n",
    "logger = logging.getLogger(__name__)\n",
    "\n",
    "# Initialize datatoolRunner class\n",
    "dr = datatoolRunner(config, logger)\n",
    "\n",
    "# Get lat and lon lims\n",
    "bbox = config['BOUNDING_BOX_COORDS'].split('/')\n",
    "latlims = f\"{bbox[2]},{bbox[0]}\"\n",
    "lonlims = f\"{bbox[1]},{bbox[3]}\"\n",
    "\n",
    "# Create the gistool command\n",
    "datatool_command = dr.create_datatool_command(dataset = config['FORCING_DATASET'], output_dir = raw_data_dir, lat_lims = latlims, lon_lims = lonlims, variables = config['FORCING_VARIABLES'], start_date = config['EXPERIMENT_TIME_START'], end_date = config['EXPERIMENT_TIME_END'])\n",
    "print(datatool_command)\n",
    "dr.execute_datatool_command(datatool_command)"
   ]
  }
 ],
 "metadata": {
  "kernelspec": {
   "display_name": "confluenec_env",
   "language": "python",
   "name": "confluence_env"
  },
  "language_info": {
   "codemirror_mode": {
    "name": "ipython",
    "version": 3
   },
   "file_extension": ".py",
   "mimetype": "text/x-python",
   "name": "python",
   "nbconvert_exporter": "python",
   "pygments_lexer": "ipython3",
   "version": "3.11.5"
  }
 },
 "nbformat": 4,
 "nbformat_minor": 4
}
