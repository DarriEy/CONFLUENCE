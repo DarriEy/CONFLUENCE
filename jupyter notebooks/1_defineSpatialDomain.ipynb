{
 "cells": [
  {
   "cell_type": "markdown",
   "metadata": {},
   "source": [
    "# Defining the Spatial Domain in CONFLUENCE\n",
    "## Introduction\n",
    "In this notebook, we'll explore the different methods for defining the spatial domain in CONFLUENCE. The spatial domain is crucial as it determines the area of interest for our hydrological modeling. CONFLUENCE offers several options for domain definition, each suited to different needs and data availability."
   ]
  },
  {
   "cell_type": "markdown",
   "metadata": {},
   "source": [
    "## Setup\n",
    "First, let's set up our environment and import the necessary modules:"
   ]
  },
  {
   "cell_type": "code",
   "execution_count": 6,
   "metadata": {},
   "outputs": [],
   "source": [
    "import sys\n",
    "from pathlib import Path\n",
    "\n",
    "# Add the parent directory to sys.path\n",
    "current_dir = Path.cwd()\n",
    "parent_dir = current_dir.parent\n",
    "sys.path.append(str(parent_dir))\n",
    "\n",
    "import yaml\n",
    "from utils.geofabric_utils import GeofabricSubsetter, GeofabricDelineator, LumpedWatershedDelineator # type: ignore\n",
    "import logging\n",
    "\n",
    "# Load configuration\n",
    "config_file = 'config_active.yaml'\n",
    "config_path = parent_dir / '0_config_files' / config_file\n",
    "with open(config_path, 'r') as config_file:\n",
    "    config = yaml.safe_load(config_file)\n",
    "\n",
    "# Set up logging\n",
    "logging.basicConfig(level=logging.INFO, format='%(asctime)s - %(levelname)s - %(message)s')\n",
    "logger = logging.getLogger(__name__)"
   ]
  },
  {
   "cell_type": "markdown",
   "metadata": {},
   "source": [
    "# Domain Definition Methods\n",
    "## CONFLUENCE supports three main methods for defining the spatial domain:\n",
    "\n",
    "1. Subsetting an existing geofabric\n",
    "2. Delineating a lumped watershed\n",
    "3. Delineating a new geofabric\n",
    "\n",
    "Let's explore each of these methods.\n",
    "\n",
    "# 1. Subsetting an Existing Geofabric\n",
    "\n",
    "This method is useful when you have an existing geofabric and want to extract a portion of it for your study area. Confluence will subset the model domain upstream of the pour point we defined in notebook 0_initializeProject. CONFLUENCE currently supports the MERIT, TDX and NWS hydrofabrics\n",
    "\n",
    "To use this method, set in config:\n",
    "\n",
    "- DOMAIN_DEFINITION_METHOD: subset\n",
    "- GEOFABRIC_TYPE: \"Merit\", \"TDX\" or \"NWS\"\n",
    "- SOURCE_GEOFABRIC_BASINS_PATH: /path/to/source/geofabric_basins/geofabric_basins.shp\n",
    "- SOURCE_GEOFABRIC_RIVERS_PATH: /path/to/source/geofabric_rivers/geofabric_rivers.shp\n",
    "- OUTPUT_BASINS_PATH: /path/to/output/geofabric_basins/model_basins.shp\n",
    "- OUTPUT_RIVERS_PATH: /path/to/output/geofabric_basins/model_basins.shp\n",
    "\n",
    "Then call:\n",
    "subset_geofabric()"
   ]
  },
  {
   "cell_type": "code",
   "execution_count": 7,
   "metadata": {},
   "outputs": [],
   "source": [
    "def subset_geofabric():\n",
    "    subsetter = GeofabricSubsetter(config, logger)\n",
    "    subset_basins, subset_rivers = subsetter.subset_geofabric()\n",
    "    \n",
    "    if subset_basins is not None and subset_rivers is not None:\n",
    "        logger.info(\"Geofabric subsetting completed successfully\")\n",
    "    else:\n",
    "        logger.error(\"Geofabric subsetting failed\")\n"
   ]
  },
  {
   "cell_type": "markdown",
   "metadata": {},
   "source": [
    "## 2. Delineating a Lumped Watershed\n",
    "\n",
    "This method creates a simple, single-unit watershed based on a pour point and DEM.\n",
    "\n",
    "To use this method, set in config:\n",
    "\n",
    "- DOMAIN_DEFINITION_METHOD: lumped\n",
    "- DEM_PATH: path/to/your/dem\n",
    "\n",
    "Then call: \n",
    "delineate_lumped_watershed()"
   ]
  },
  {
   "cell_type": "code",
   "execution_count": 2,
   "metadata": {},
   "outputs": [],
   "source": [
    "def delineate_lumped_watershed():\n",
    "    delineator = LumpedWatershedDelineator(config, logger)\n",
    "    watershed_shapefile = delineator.delineate_lumped_watershed()\n",
    "    \n",
    "    if watershed_shapefile:\n",
    "        logger.info(f\"Lumped watershed delineation completed. Shapefile: {watershed_shapefile}\")\n",
    "    else:\n",
    "        logger.error(\"Lumped watershed delineation failed\")"
   ]
  },
  {
   "cell_type": "markdown",
   "metadata": {},
   "source": [
    "## 3. Delineating a New Geofabric\n",
    "\n",
    "This method creates a new, detailed geofabric for your study area using a DEM and pour point. This method uses the TauDEM (Terrain Analysis Using Digital Elevation Models) tools for watershed delineation which are available at https://github.com/dtarb/TauDEM. To use this functionality the TauDEM binaries need to be compiled and made available in the system PATH\n",
    "\n",
    "To use this method, set in config:\n",
    "\n",
    "- DOMAIN_DEFINITION_METHOD: delineate\n",
    "- DEM_PATH: path/to/your/dem\n",
    "- STREAM_THRESHOLD: Threshold flow accumulation for stream vectorisation\n",
    "- TAUDEM_DIR: path/to/TauDEM/binaries\n",
    "\n",
    "Then call: delineate_geofabric()"
   ]
  },
  {
   "cell_type": "code",
   "execution_count": 8,
   "metadata": {},
   "outputs": [],
   "source": [
    "def delineate_geofabric():\n",
    "    delineator = GeofabricDelineator(config, logger)\n",
    "    river_network_path, river_basins_path = delineator.delineate_geofabric()\n",
    "    \n",
    "    if river_network_path and river_basins_path:\n",
    "        logger.info(f\"Geofabric delineation completed.\")\n",
    "        logger.info(f\"River network: {river_network_path}\")\n",
    "        logger.info(f\"River basins: {river_basins_path}\")\n",
    "    else:\n",
    "        logger.error(\"Geofabric delineation failed\")\n",
    "        "
   ]
  },
  {
   "cell_type": "markdown",
   "metadata": {},
   "source": [
    "## Choosing the Right Method\n",
    "The choice of domain definition method depends on your specific needs:\n",
    "\n",
    "- Use subset_geofabric if you have an existing geofabric and want to focus on a specific area within it.\n",
    "- Use delineate_lumped_watershed for simple, single-unit watershed studies or as a quick approximation.\n",
    "- Use delineate_geofabric when you need a detailed, custom geofabric for your study area.\n",
    "\n",
    "Remember to set the appropriate method in your configuration file before running the domain definition.\n",
    "\n",
    "## Running the Domain Definition\n",
    "\n",
    "Here's how you can run the domain definition based on the configuration:"
   ]
  },
  {
   "cell_type": "code",
   "execution_count": 5,
   "metadata": {},
   "outputs": [
    {
     "name": "stderr",
     "output_type": "stream",
     "text": [
      "2024-09-14 16:21:46,530 - ERROR - Unknown domain definition method: delineate\n"
     ]
    }
   ],
   "source": [
    "def define_domain():\n",
    "    domain_method = config.get('DOMAIN_DEFINITION_METHOD')\n",
    "    \n",
    "    if domain_method == 'subset':\n",
    "        subset_geofabric()\n",
    "    elif domain_method == 'lumped':\n",
    "        delineate_lumped_watershed()\n",
    "    elif domain_method == 'delineate':\n",
    "        delineate_geofabric()\n",
    "    else:\n",
    "        logger.error(f\"Unknown domain definition method: {domain_method}\")\n",
    "\n",
    "# Run the domain definition\n",
    "define_domain()"
   ]
  },
  {
   "cell_type": "markdown",
   "metadata": {},
   "source": [
    "# Conclusion\n",
    "\n",
    "We've explored the three methods for defining the spatial domain in CONFLUENCE: subsetting an existing geofabric, delineating a lumped watershed, and delineating a new geofabric. Each method has its advantages and is suited to different scenarios. By choosing the appropriate method and configuring it correctly, you can define the spatial domain that best fits your hydrological modeling needs.\n",
    "\n",
    "In the next notebook, we'll look at how to process finalise the process of preparing your spatial domain representation, including optional domain discretisation by dominant geospatial attributes."
   ]
  }
 ],
 "metadata": {
  "kernelspec": {
   "display_name": "camels-spat-env",
   "language": "python",
   "name": "python3"
  },
  "language_info": {
   "codemirror_mode": {
    "name": "ipython",
    "version": 3
   },
   "file_extension": ".py",
   "mimetype": "text/x-python",
   "name": "python",
   "nbconvert_exporter": "python",
   "pygments_lexer": "ipython3",
   "version": "3.12.5"
  }
 },
 "nbformat": 4,
 "nbformat_minor": 2
}
