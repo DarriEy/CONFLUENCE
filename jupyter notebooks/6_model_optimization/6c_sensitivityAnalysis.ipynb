{
 "cells": [
  {
   "cell_type": "markdown",
   "metadata": {},
   "source": [
    "# Parameter Sensitivity Analysis in CONFLUENCE\n",
    "\n",
    "## Introduction\n",
    "\n",
    "This notebook focuses on the crucial task of parameter sensitivity analysis for hydrological models in CONFLUENCE. Sensitivity analysis is essential for iterative model optimisation and understanding of model performance and reliability in simulating hydrological processes.\n",
    "\n",
    "Key aspects covered in this notebook include:\n",
    "\n",
    "1. Sensitivity of model parameters and their significance\n",
    "2. Methods for sensitivity analysis\n",
    "3. Setting running sensitivity analysis \n",
    "4. Visualisation of sensitivity analysis results"
   ]
  },
  {
   "cell_type": "markdown",
   "metadata": {},
   "source": [
    "## First we import the libraries and functions we need"
   ]
  },
  {
   "cell_type": "code",
   "execution_count": 2,
   "metadata": {},
   "outputs": [
    {
     "ename": "ImportError",
     "evalue": "cannot import name 'obsCompiler' from 'utils.dataHandling_utils.data_acquisition_utils' (/Users/darrieythorsson/compHydro/code/CONFLUENCE/utils/dataHandling_utils/data_acquisition_utils.py)",
     "output_type": "error",
     "traceback": [
      "\u001b[0;31m---------------------------------------------------------------------------\u001b[0m",
      "\u001b[0;31mImportError\u001b[0m                               Traceback (most recent call last)",
      "Cell \u001b[0;32mIn[2], line 13\u001b[0m\n\u001b[1;32m     11\u001b[0m \u001b[38;5;28;01mfrom\u001b[39;00m \u001b[38;5;21;01mutils\u001b[39;00m\u001b[38;5;21;01m.\u001b[39;00m\u001b[38;5;21;01mmodels_utils\u001b[39;00m\u001b[38;5;21;01m.\u001b[39;00m\u001b[38;5;21;01mmodel_running_utils\u001b[39;00m \u001b[38;5;28;01mimport\u001b[39;00m summaRunner, mizuRunner, flashRunner \u001b[38;5;66;03m# type: ignore\u001b[39;00m\n\u001b[1;32m     12\u001b[0m \u001b[38;5;28;01mfrom\u001b[39;00m \u001b[38;5;21;01mutils\u001b[39;00m\u001b[38;5;21;01m.\u001b[39;00m\u001b[38;5;21;01mreport_utils\u001b[39;00m\u001b[38;5;21;01m.\u001b[39;00m\u001b[38;5;21;01mresult_vizualisation_utils\u001b[39;00m \u001b[38;5;28;01mimport\u001b[39;00m timeseriesVizualiser, resultMapper\n\u001b[0;32m---> 13\u001b[0m \u001b[38;5;28;01mfrom\u001b[39;00m \u001b[38;5;21;01mutils\u001b[39;00m\u001b[38;5;21;01m.\u001b[39;00m\u001b[38;5;21;01mdataHandling_utils\u001b[39;00m\u001b[38;5;21;01m.\u001b[39;00m\u001b[38;5;21;01mdata_acquisition_utils\u001b[39;00m \u001b[38;5;28;01mimport\u001b[39;00m obsCompiler\n",
      "\u001b[0;31mImportError\u001b[0m: cannot import name 'obsCompiler' from 'utils.dataHandling_utils.data_acquisition_utils' (/Users/darrieythorsson/compHydro/code/CONFLUENCE/utils/dataHandling_utils/data_acquisition_utils.py)"
     ]
    }
   ],
   "source": [
    "import sys\n",
    "from pathlib import Path\n",
    "from typing import Dict, Any\n",
    "import logging\n",
    "import yaml # type: ignore\n",
    "\n",
    "current_dir = Path.cwd()\n",
    "parent_dir = current_dir.parent.parent\n",
    "sys.path.append(str(parent_dir))\n",
    "\n",
    "from utils.models_utils.model_running_utils import summaRunner, mizuRunner, flashRunner # type: ignore\n",
    "from utils.report_utils.result_vizualisation_utils import timeseriesVizualiser, resultMapper\n",
    "from utils.dataHandling_utils.data_acquisition_utils import obsCompiler"
   ]
  },
  {
   "cell_type": "markdown",
   "metadata": {},
   "source": [
    "## Check configurations\n",
    "\n",
    "Now we should print our configuration settings and make sure that we have defined all the settings we need. "
   ]
  },
  {
   "cell_type": "code",
   "execution_count": 3,
   "metadata": {},
   "outputs": [
    {
     "name": "stdout",
     "output_type": "stream",
     "text": [
      "FORCING_DATASET: RDRS\n",
      "EASYMORE_CLIENT: easymore cli\n",
      "FORCING_VARIABLES: ['RDRS_v2.1_P_P0_SFC', 'RDRS_v2.1_P_HU_09944', 'RDRS_v2.1_P_TT_09944', 'RDRS_v2.1_P_UVC_09944', 'RDRS_v2.1_A_PR0_SFC', 'RDRS_v2.1_P_FB_SFC', 'RDRS_v2.1_P_FI_SFC']\n",
      "EXPERIMENT_TIME_START: 2010-01-01 01:00\n",
      "EXPERIMENT_TIME_START: 2010-01-01 01:00\n"
     ]
    }
   ],
   "source": [
    "config_path = Path('../../0_config_files/config_active.yaml')\n",
    "with open(config_path, 'r') as config_file:\n",
    "    config = yaml.safe_load(config_file)\n",
    "    print(f\"FORCING_DATASET: {config['FORCING_DATASET']}\")\n",
    "    print(f\"EASYMORE_CLIENT: {config['EASYMORE_CLIENT']}\")\n",
    "    print(f\"FORCING_VARIABLES: {config['FORCING_VARIABLES']}\")\n",
    "    print(f\"EXPERIMENT_TIME_START: {config['EXPERIMENT_TIME_START']}\")\n",
    "    print(f\"EXPERIMENT_TIME_START: {config['EXPERIMENT_TIME_START']}\")"
   ]
  },
  {
   "cell_type": "markdown",
   "metadata": {},
   "source": [
    "## Define default paths\n",
    "\n",
    "Now let's define the paths to data directories before we run the pre processing scripts and create the containing directories"
   ]
  },
  {
   "cell_type": "code",
   "execution_count": 4,
   "metadata": {},
   "outputs": [],
   "source": [
    "# Main project directory\n",
    "data_dir = config['CONFLUENCE_DATA_DIR']\n",
    "project_dir = Path(data_dir) / f\"domain_{config['DOMAIN_NAME']}\"\n",
    "\n",
    "# Data directoris\n",
    "simulation_dir = project_dir / 'simulations' / f\"{config['EXPERIMENT_ID']}\"\n",
    "hydro_model_dir = simulation_dir / f\"{config['HYDROLOGICAL_MODEL']}\"\n",
    "routing_model_dir = simulation_dir / f\"{config['ROUTING_MODEL']}\"\n",
    "\n",
    "# Make sure the new directories exists\n",
    "hydro_model_dir.mkdir(parents = True, exist_ok = True)\n",
    "routing_model_dir.mkdir(parents = True, exist_ok = True)"
   ]
  },
  {
   "cell_type": "markdown",
   "metadata": {},
   "source": [
    "## 1. Run sensitivity analysis"
   ]
  },
  {
   "cell_type": "code",
   "execution_count": 5,
   "metadata": {},
   "outputs": [
    {
     "ename": "NameError",
     "evalue": "name 'benchmarkingPreProcessor' is not defined",
     "output_type": "error",
     "traceback": [
      "\u001b[0;31m---------------------------------------------------------------------------\u001b[0m",
      "\u001b[0;31mNameError\u001b[0m                                 Traceback (most recent call last)",
      "Cell \u001b[0;32mIn[5], line 2\u001b[0m\n\u001b[1;32m      1\u001b[0m \u001b[38;5;66;03m# Initialize the parameterEstimator and run the estimation script\u001b[39;00m\n\u001b[0;32m----> 2\u001b[0m bpp \u001b[38;5;241m=\u001b[39m \u001b[43mbenchmarkingPreProcessor\u001b[49m(config,logger)\n\u001b[1;32m      4\u001b[0m benchmarking_input_data \u001b[38;5;241m=\u001b[39m bpp\u001b[38;5;241m.\u001b[39mrun_preprocessing()\n",
      "\u001b[0;31mNameError\u001b[0m: name 'benchmarkingPreProcessor' is not defined"
     ]
    }
   ],
   "source": [
    "# Initialize the parameterEstimator and run the estimation script\n",
    "bpp = benchmarkingPreProcessor(config,logger)\n",
    "\n",
    "benchmarking_input_data = bpp.run_preprocessing()"
   ]
  }
 ],
 "metadata": {
  "kernelspec": {
   "display_name": "Python 3.11",
   "language": "python",
   "name": "python3"
  },
  "language_info": {
   "codemirror_mode": {
    "name": "ipython",
    "version": 3
   },
   "file_extension": ".py",
   "mimetype": "text/x-python",
   "name": "python",
   "nbconvert_exporter": "python",
   "pygments_lexer": "ipython3",
   "version": "3.11.5"
  }
 },
 "nbformat": 4,
 "nbformat_minor": 4
}
