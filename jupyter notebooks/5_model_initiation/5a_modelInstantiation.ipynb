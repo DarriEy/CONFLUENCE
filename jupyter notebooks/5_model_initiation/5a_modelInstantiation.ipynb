{
 "cells": [
  {
   "cell_type": "markdown",
   "metadata": {},
   "source": [
    "# Initializing Hydrological Models in CONFLUENCE\n",
    "\n",
    "## Introduction\n",
    "\n",
    "This notebook guides you through the process of initializing hydrological models within the CONFLUENCE framework. Model initialization is a critical step that sets up the model structure, parameters, and initial conditions for simulation.\n",
    "\n",
    "Key steps covered in this notebook include:\n",
    "\n",
    "1. Performing initial test runs to ensure proper setup.\n",
    "2. Vizualise initial output.\n",
    "\n",
    "In this notebook we focus on initializing the primary model chosen for your project, but the principles can be applied to other  models as well. By the end of this notebook, your model will be fully initialized and running."
   ]
  },
  {
   "cell_type": "markdown",
   "metadata": {},
   "source": [
    "## First we import the libraries and functions we need"
   ]
  },
  {
   "cell_type": "code",
   "execution_count": 1,
   "metadata": {},
   "outputs": [],
   "source": [
    "import sys\n",
    "from pathlib import Path\n",
    "from typing import Dict, Any\n",
    "import logging\n",
    "import yaml # type: ignore\n",
    "\n",
    "current_dir = Path.cwd()\n",
    "parent_dir = current_dir.parent.parent\n",
    "sys.path.append(str(parent_dir))\n",
    "\n",
    "from utils.models_utils.model_utils import SummaRunner, MizuRouteRunner # type: ignore\n",
    "from utils.report_utils.result_vizualisation_utils import timeseriesVizualiser, resultMapper\n",
    "\n",
    "# Set up logging\n",
    "logging.basicConfig(level=logging.INFO, format='%(asctime)s - %(levelname)s - %(message)s')\n",
    "logger = logging.getLogger(__name__)\n"
   ]
  },
  {
   "cell_type": "markdown",
   "metadata": {},
   "source": [
    "## Check configurations\n",
    "\n",
    "Now we should print our configuration settings and make sure that we have defined all the settings we need. "
   ]
  },
  {
   "cell_type": "code",
   "execution_count": 2,
   "metadata": {},
   "outputs": [
    {
     "name": "stdout",
     "output_type": "stream",
     "text": [
      "FORCING_DATASET: ERA5\n",
      "EASYMORE_CLIENT: easymore cli\n",
      "FORCING_VARIABLES: longitude,latitude,time,LWRadAtm,SWRadAtm,pptrate,airpres,airtemp,spechum,windspd\n",
      "EXPERIMENT_TIME_START: 2010-01-01 01:00\n",
      "EXPERIMENT_TIME_START: 2010-01-01 01:00\n"
     ]
    }
   ],
   "source": [
    "config_path = Path('../../0_config_files/config_active.yaml')\n",
    "with open(config_path, 'r') as config_file:\n",
    "    config = yaml.safe_load(config_file)\n",
    "    print(f\"FORCING_DATASET: {config['FORCING_DATASET']}\")\n",
    "    print(f\"EASYMORE_CLIENT: {config['EASYMORE_CLIENT']}\")\n",
    "    print(f\"FORCING_VARIABLES: {config['FORCING_VARIABLES']}\")\n",
    "    print(f\"EXPERIMENT_TIME_START: {config['EXPERIMENT_TIME_START']}\")\n",
    "    print(f\"EXPERIMENT_TIME_START: {config['EXPERIMENT_TIME_START']}\")"
   ]
  },
  {
   "cell_type": "markdown",
   "metadata": {},
   "source": [
    "## Define default paths\n",
    "\n",
    "Now let's define the paths to data directories before we run the pre processing scripts and create the containing directories"
   ]
  },
  {
   "cell_type": "code",
   "execution_count": 3,
   "metadata": {},
   "outputs": [],
   "source": [
    "# Main project directory\n",
    "data_dir = config['CONFLUENCE_DATA_DIR']\n",
    "project_dir = Path(data_dir) / f\"domain_{config['DOMAIN_NAME']}\"\n",
    "\n",
    "# Data directoris\n",
    "simulation_dir = project_dir / 'simulations' / f\"{config['EXPERIMENT_ID']}\"\n",
    "hydro_model_dir = simulation_dir / f\"{config['HYDROLOGICAL_MODEL']}\"\n",
    "routing_model_dir = simulation_dir / f\"{config['ROUTING_MODEL']}\"\n",
    "\n",
    "# Make sure the new directories exists\n",
    "hydro_model_dir.mkdir(parents = True, exist_ok = True)\n",
    "routing_model_dir.mkdir(parents = True, exist_ok = True)"
   ]
  },
  {
   "cell_type": "markdown",
   "metadata": {},
   "source": [
    "## 1. Initalize hydrological model runs"
   ]
  },
  {
   "cell_type": "code",
   "execution_count": null,
   "metadata": {},
   "outputs": [
    {
     "name": "stderr",
     "output_type": "stream",
     "text": [
      "2024-10-20 21:36:09,266 - INFO - Starting SUMMA run\n"
     ]
    }
   ],
   "source": [
    "# Initialize model specific preprocessors\n",
    "if config['HYDROLOGICAL_MODEL'] == 'SUMMA':\n",
    "    sr = SummaRunner(config, logger)\n",
    "    mr = MizuRouteRunner(config, logger)\n",
    "\n",
    "    spatial_results = sr.run_summa()\n",
    "    streamflow_results = mr.run_mizuroute()"
   ]
  },
  {
   "cell_type": "markdown",
   "metadata": {},
   "source": [
    "## 2. Vizualise results"
   ]
  },
  {
   "cell_type": "code",
   "execution_count": null,
   "metadata": {},
   "outputs": [],
   "source": [
    "# Plot streamflow simulations\n",
    "# Initialize time series vizualiser\n",
    "\n",
    "tv = timeseriesVizualiser(config,logger)\n",
    "obs = obsCompiler(config,logger)\n",
    "\n",
    "streamflow_obs = obs.getStreamflow()\n",
    "tv.visualise_streamflow(streamflow_results, streamflow_obs)\n",
    "\n",
    "# Map spatial results\n",
    "# Initalize resultMapper\n",
    "\n",
    "rm = resultMapper(config,logger)\n"
   ]
  }
 ],
 "metadata": {
  "kernelspec": {
   "display_name": "confluenec_env",
   "language": "python",
   "name": "confluence_env"
  },
  "language_info": {
   "codemirror_mode": {
    "name": "ipython",
    "version": 3
   },
   "file_extension": ".py",
   "mimetype": "text/x-python",
   "name": "python",
   "nbconvert_exporter": "python",
   "pygments_lexer": "ipython3",
   "version": "3.11.5"
  }
 },
 "nbformat": 4,
 "nbformat_minor": 4
}
