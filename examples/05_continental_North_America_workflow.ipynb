{
 "cells": [
  {
   "cell_type": "markdown",
   "metadata": {},
   "source": [
    "# CONFLUENCE Tutorial: Continental-Scale Modeling - North America\n",
    "\n",
    "This notebook demonstrates how to set up a continental-scale SUMMA model for North America. We'll move quickly through the workflow, focusing on the scale differences from previous tutorials.\n",
    "\n",
    "## Key Points\n",
    "- **Scale**: From country (Iceland) to continent (North America)\n",
    "- **Computational considerations**: Much larger domain\n",
    "- **Simplified approach**: Quick setup for demonstration"
   ]
  },
  {
   "cell_type": "markdown",
   "metadata": {},
   "source": [
    "## 1. Quick Setup"
   ]
  },
  {
   "cell_type": "code",
   "execution_count": null,
   "metadata": {},
   "outputs": [],
   "source": [
    "# Import required libraries\n",
    "import sys\n",
    "from pathlib import Path\n",
    "import yaml\n",
    "import matplotlib.pyplot as plt\n",
    "\n",
    "# Add CONFLUENCE to path\n",
    "confluence_path = Path('../').resolve()\n",
    "sys.path.append(str(confluence_path))\n",
    "\n",
    "# Import CONFLUENCE\n",
    "from CONFLUENCE import CONFLUENCE\n",
    "\n",
    "plt.style.use('default')\n",
    "%matplotlib inline"
   ]
  },
  {
   "cell_type": "markdown",
   "metadata": {},
   "source": [
    "## 2. Configure for North America"
   ]
  },
  {
   "cell_type": "code",
   "execution_count": null,
   "metadata": {},
   "outputs": [],
   "source": [
    "# Load and modify the North America configuration\n",
    "na_config_path = confluence_path / 'config_North_America.yaml'\n",
    "\n",
    "with open(na_config_path, 'r') as f:\n",
    "    config = yaml.safe_load(f)\n",
    "\n",
    "# Quick look at the continental configuration\n",
    "print(\"=== North America Configuration ===\")\n",
    "print(f\"Domain: {config['DOMAIN_NAME']}\")\n",
    "print(f\"Bounding Box: {config['BOUNDING_BOX_COORDS']}\")\n",
    "print(f\"Stream Threshold: {config['STREAM_THRESHOLD']} (larger for continental scale)\")\n",
    "print(f\"Min GRU Size: {config['MIN_GRU_SIZE']} km²\")\n",
    "print(f\"MPI Processes: {config['MPI_PROCESSES']} (high for parallel processing)\")\n",
    "\n",
    "# Parse the continental extent\n",
    "bbox = config['BOUNDING_BOX_COORDS'].split('/')\n",
    "lat_max, lon_min, lat_min, lon_max = map(float, bbox)\n",
    "print(f\"\\nGeographic extent:\")\n",
    "print(f\"  North: {lat_max}°N (Arctic)\")\n",
    "print(f\"  South: {lat_min}°N (Central America)\")\n",
    "print(f\"  West: {lon_min}°W (Pacific)\")\n",
    "print(f\"  East: {lon_max}°W (Atlantic)\")"
   ]
  },
  {
   "cell_type": "markdown",
   "metadata": {},
   "source": [
    "## 3. Visualize Continental Scale"
   ]
  },
  {
   "cell_type": "code",
   "execution_count": null,
   "metadata": {},
   "outputs": [],
   "source": [
    "# Simple visualization comparing scales\n",
    "fig, (ax1, ax2, ax3) = plt.subplots(1, 3, figsize=(18, 6))\n",
    "\n",
    "# Bow at Banff (Tutorial 1)\n",
    "ax1.add_patch(plt.Rectangle((0.1, 0.1), 0.8, 0.8, fill=True, \n",
    "                           color='lightblue', alpha=0.7))\n",
    "ax1.text(0.5, 0.5, 'Bow at Banff\\n~2,200 km²', ha='center', va='center', \n",
    "         fontsize=14, fontweight='bold')\n",
    "ax1.set_title('Watershed Scale', fontsize=16)\n",
    "ax1.axis('off')\n",
    "\n",
    "# Iceland (Tutorial 4)\n",
    "ax2.add_patch(plt.Rectangle((0.1, 0.1), 0.8, 0.8, fill=True, \n",
    "                           color='lightgreen', alpha=0.7))\n",
    "ax2.text(0.5, 0.5, 'Iceland\\n~103,000 km²', ha='center', va='center', \n",
    "         fontsize=14, fontweight='bold')\n",
    "ax2.set_title('Country Scale', fontsize=16)\n",
    "ax2.axis('off')\n",
    "\n",
    "# North America (This tutorial)\n",
    "ax3.add_patch(plt.Rectangle((0.1, 0.1), 0.8, 0.8, fill=True, \n",
    "                           color='lightcoral', alpha=0.7))\n",
    "ax3.text(0.5, 0.5, 'North America\\n~24,700,000 km²', ha='center', va='center', \n",
    "         fontsize=14, fontweight='bold')\n",
    "ax3.set_title('Continental Scale', fontsize=16)\n",
    "ax3.axis('off')\n",
    "\n",
    "plt.suptitle('Scale Comparison', fontsize=20, fontweight='bold')\n",
    "plt.tight_layout()\n",
    "plt.show()\n",
    "\n",
    "# Show relative sizes\n",
    "print(\"Scale factors:\")\n",
    "print(f\"Iceland is ~47x larger than Bow at Banff\")\n",
    "print(f\"North America is ~240x larger than Iceland\")\n",
    "print(f\"North America is ~11,200x larger than Bow at Banff\")"
   ]
  },
  {
   "cell_type": "markdown",
   "metadata": {},
   "source": [
    "## 4. Initialize CONFLUENCE for Continental Domain"
   ]
  },
  {
   "cell_type": "code",
   "execution_count": null,
   "metadata": {},
   "outputs": [],
   "source": [
    "# Initialize CONFLUENCE\n",
    "confluence = CONFLUENCE(na_config_path)\n",
    "\n",
    "print(f\"Project: {confluence.config['DOMAIN_NAME']}\")\n",
    "print(f\"Directory: {confluence.project_dir}\")"
   ]
  },
  {
   "cell_type": "markdown",
   "metadata": {},
   "source": [
    "## 5. Quick Workflow Execution\n",
    "\n",
    "Let's run through the key steps quickly, noting the continental-scale considerations."
   ]
  },
  {
   "cell_type": "code",
   "execution_count": null,
   "metadata": {},
   "outputs": [],
   "source": [
    "# Step 1: Project setup\n",
    "print(\"Setting up continental project...\")\n",
    "confluence.setup_project()\n",
    "print(\"✓ Done\\n\")\n",
    "\n",
    "# Step 2: Skip pour point (continental domain)\n",
    "print(\"Pour point: Not needed for continental domain\\n\")\n",
    "\n",
    "# Step 3: Acquire continental attributes\n",
    "print(\"Acquiring continental-scale attributes...\")\n",
    "print(\"Note: This downloads LARGE datasets (DEM, soil, land cover)\")\n",
    "print(\"Expected data size: Several GB\")\n",
    "confluence.acquire_attributes()\n",
    "print(\"✓ Done\\n\")\n",
    "\n",
    "# Step 4: Define continental domain\n",
    "print(\"Delineating continental domain...\")\n",
    "print(f\"Stream threshold: {confluence.config['STREAM_THRESHOLD']} (high for continent)\")\n",
    "print(\"This creates thousands of watersheds...\")\n",
    "confluence.define_domain()\n",
    "print(\"✓ Done\\n\")\n",
    "\n",
    "# Step 5: Apply discretization\n",
    "print(\"Creating continental HRUs...\")\n",
    "confluence.discretize_domain()\n",
    "print(\"✓ Done\\n\")\n",
    "\n",
    "# Quick summary of scale\n",
    "print(\"\\n=== Continental Scale Summary ===\")\n",
    "print(f\"Domain: {confluence.config['DOMAIN_NAME']}\")\n",
    "print(f\"Extent: {abs(lat_max - lat_min):.1f}° latitude × {abs(lon_max - lon_min):.1f}° longitude\")\n",
    "print(f\"MPI Processes: {confluence.config['MPI_PROCESSES']}\")\n",
    "print(\"Expected: Thousands of GRUs, tens of thousands of HRUs\")"
   ]
  },
  {
   "cell_type": "markdown",
   "metadata": {},
   "source": [
    "## 6. Complete SUMMA Setup"
   ]
  },
  {
   "cell_type": "code",
   "execution_count": null,
   "metadata": {},
   "outputs": [],
   "source": [
    "# Continue with forcing data and model setup\n",
    "print(\"Completing continental SUMMA setup...\\n\")\n",
    "\n",
    "# Acquire continental forcing data\n",
    "print(\"Step 6: Acquiring continental forcing data...\")\n",
    "print(f\"Dataset: {confluence.config['FORCING_DATASET']}\")\n",
    "print(f\"Period: {confluence.config['FORCING_START_YEAR']}-{confluence.config['FORCING_END_YEAR']}\")\n",
    "print(\"Note: Continental forcing data can be 10s of GB\")\n",
    "confluence.acquire_forcings()\n",
    "print(\"✓ Done\\n\")\n",
    "\n",
    "# Model preprocessing\n",
    "print(\"Step 7: Model-agnostic preprocessing...\")\n",
    "confluence.model_agnostic_pre_processing()\n",
    "print(\"✓ Done\\n\")\n",
    "\n",
    "print(\"Step 8: SUMMA-specific preprocessing...\")\n",
    "confluence.model_specific_pre_processing()\n",
    "print(\"✓ Done\\n\")\n",
    "\n",
    "print(\"=== Continental SUMMA Model Ready ===\")\n",
    "print(f\"Model: {confluence.config['HYDROLOGICAL_MODEL']}\")\n",
    "print(f\"Routing: {confluence.config['ROUTING_MODEL']}\")\n",
    "print(\"\\nTo run the model:\")\n",
    "print(\"  confluence.run_models()\")\n",
    "print(\"\\nNote: Continental simulations require significant compute resources!\")"
   ]
  },
  {
   "cell_type": "markdown",
   "metadata": {},
   "source": [
    "## 7. Continental-Scale Considerations\n",
    "\n",
    "### Computational Requirements\n",
    "- **Memory**: 10s of GB for data processing\n",
    "- **Storage**: 100s of GB for inputs/outputs\n",
    "- **CPU**: High parallelization (40+ cores)\n",
    "- **Runtime**: Days to weeks for full simulations\n",
    "\n",
    "### Key Configuration Differences\n",
    "```yaml\n",
    "STREAM_THRESHOLD: 7500        # Higher for continental scale\n",
    "MPI_PROCESSES: 40            # More parallel processes\n",
    "MIN_GRU_SIZE: 0              # Accept all watersheds\n",
    "FORCING_DATASET: ERA5        # Global reanalysis data\n",
    "```\n",
    "\n",
    "### Challenges at Continental Scale\n",
    "1. **Data Volume**: TB of input/output data\n",
    "2. **Heterogeneity**: Diverse climates, terrains, vegetation\n",
    "3. **Calibration**: How to calibrate thousands of watersheds?\n",
    "4. **Validation**: Limited observations for many basins\n",
    "5. **Computation**: Requires HPC resources\n",
    "\n",
    "### Use Cases\n",
    "- Climate change impact assessment\n",
    "- Continental water balance\n",
    "- Large-scale flood forecasting\n",
    "- Water resources planning\n",
    "- Earth system modeling"
   ]
  },
  {
   "cell_type": "code",
   "execution_count": null,
   "metadata": {},
   "outputs": [],
   "source": [
    "# Final summary\n",
    "print(\"=== Continental Model Setup Complete ===\\n\")\n",
    "print(f\"Domain: {confluence.config['DOMAIN_NAME']}\")\n",
    "print(f\"Scale: Continental (~24.7 million km²)\")\n",
    "print(f\"Model: {confluence.config['HYDROLOGICAL_MODEL']}\")\n",
    "print(f\"Status: Ready for simulation\")\n",
    "\n",
    "print(\"\\nScale progression in tutorials:\")\n",
    "print(\"  1. Watershed: Bow at Banff (~2,200 km²)\")\n",
    "print(\"  2. Country: Iceland (~103,000 km²)\")\n",
    "print(\"  3. Continent: North America (~24,700,000 km²)\")\n",
    "\n",
    "print(\"\\n🎉 You've successfully scaled from watershed to continent!\")"
   ]
  }
 ],
 "metadata": {
  "kernelspec": {
   "display_name": "Python 3",
   "language": "python",
   "name": "python3"
  },
  "language_info": {
   "codemirror_mode": {
    "name": "ipython",
    "version": 3
   },
   "file_extension": ".py",
   "mimetype": "text/x-python",
   "name": "python",
   "nbconvert_exporter": "python",
   "pygments_lexer": "ipython3",
   "version": "3.8.0"
  }
 },
 "nbformat": 4,
 "nbformat_minor": 4
}