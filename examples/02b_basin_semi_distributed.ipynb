{
 "cells": [
  {
   "cell_type": "markdown",
   "metadata": {},
   "source": [
    "# CONFLUENCE Tutorial: Distributed Basin Workflow with Delineation\n",
    "\n",
    "This notebook demonstrates the distributed modeling approach using the delineation method. We'll use the same Bow River at Banff location but create a distributed model with multiple GRUs (Grouped Response Units).\n",
    "\n",
    "## Key Differences from Lumped Model\n",
    "\n",
    "- **Domain Method**: `delineate` instead of `lumped`\n",
    "- **Stream Threshold**: 5000 (creates more sub-basins)\n",
    "- **Multiple GRUs**: Each sub-basin becomes a GRU\n",
    "- **Routing**: mizuRoute connects the GRUs\n",
    "\n",
    "## Learning Objectives\n",
    "\n",
    "1. Understand watershed delineation with stream networks\n",
    "2. Create a distributed model with multiple GRUs"
   ]
  },
  {
   "cell_type": "markdown",
   "metadata": {},
   "source": [
    "## 1. Setup and Import Libraries"
   ]
  },
  {
   "cell_type": "code",
   "execution_count": 1,
   "metadata": {},
   "outputs": [],
   "source": [
    "# Import required libraries\n",
    "import sys\n",
    "import os\n",
    "from pathlib import Path\n",
    "import yaml\n",
    "import pandas as pd\n",
    "import matplotlib.pyplot as plt\n",
    "import geopandas as gpd\n",
    "from datetime import datetime\n",
    "import numpy as np\n",
    "import contextily as cx\n",
    "import xarray as xr\n",
    "from IPython.display import Image, display\n",
    "\n",
    "# Add CONFLUENCE to path\n",
    "confluence_path = Path('../').resolve()\n",
    "sys.path.append(str(confluence_path))\n",
    "\n",
    "# Import main CONFLUENCE class\n",
    "from CONFLUENCE import CONFLUENCE\n",
    "\n",
    "# Set up plotting style\n",
    "plt.style.use('default')\n",
    "%matplotlib inline"
   ]
  },
  {
   "cell_type": "markdown",
   "metadata": {},
   "source": [
    "## Initialize CONFLUENCE\n",
    "First, let's set up our directories and load the configuration. We'll modify the configuration from Tutorial 1 to create a distributed model."
   ]
  },
  {
   "cell_type": "code",
   "execution_count": 2,
   "metadata": {
    "scrolled": true
   },
   "outputs": [
    {
     "name": "stdout",
     "output_type": "stream",
     "text": [
      "19:21:50 - INFO - ============================================================\n"
     ]
    },
    {
     "name": "stderr",
     "output_type": "stream",
     "text": [
      "2025-05-13 19:21:50,309 - confluence_general - INFO - ============================================================\n"
     ]
    },
    {
     "name": "stdout",
     "output_type": "stream",
     "text": [
      "19:21:50 - INFO - CONFLUENCE Logging Initialized\n"
     ]
    },
    {
     "name": "stderr",
     "output_type": "stream",
     "text": [
      "2025-05-13 19:21:50,311 - confluence_general - INFO - CONFLUENCE Logging Initialized\n"
     ]
    },
    {
     "name": "stdout",
     "output_type": "stream",
     "text": [
      "19:21:50 - INFO - Domain: Bow_at_Banff_distributed\n"
     ]
    },
    {
     "name": "stderr",
     "output_type": "stream",
     "text": [
      "2025-05-13 19:21:50,313 - confluence_general - INFO - Domain: Bow_at_Banff_distributed\n"
     ]
    },
    {
     "name": "stdout",
     "output_type": "stream",
     "text": [
      "19:21:50 - INFO - Experiment ID: distributed_tutorial\n"
     ]
    },
    {
     "name": "stderr",
     "output_type": "stream",
     "text": [
      "2025-05-13 19:21:50,314 - confluence_general - INFO - Experiment ID: distributed_tutorial\n"
     ]
    },
    {
     "name": "stdout",
     "output_type": "stream",
     "text": [
      "19:21:50 - INFO - Log Level: INFO\n"
     ]
    },
    {
     "name": "stderr",
     "output_type": "stream",
     "text": [
      "2025-05-13 19:21:50,316 - confluence_general - INFO - Log Level: INFO\n"
     ]
    },
    {
     "name": "stdout",
     "output_type": "stream",
     "text": [
      "19:21:50 - INFO - Log File: /work/comphyd_lab/data/CONFLUENCE_data/domain_Bow_at_Banff_distributed/_workLog_Bow_at_Banff_distributed/confluence_general_Bow_at_Banff_distributed_20250513_192150.log\n"
     ]
    },
    {
     "name": "stderr",
     "output_type": "stream",
     "text": [
      "2025-05-13 19:21:50,317 - confluence_general - INFO - Log File: /work/comphyd_lab/data/CONFLUENCE_data/domain_Bow_at_Banff_distributed/_workLog_Bow_at_Banff_distributed/confluence_general_Bow_at_Banff_distributed_20250513_192150.log\n"
     ]
    },
    {
     "name": "stdout",
     "output_type": "stream",
     "text": [
      "19:21:50 - INFO - ============================================================\n"
     ]
    },
    {
     "name": "stderr",
     "output_type": "stream",
     "text": [
      "2025-05-13 19:21:50,319 - confluence_general - INFO - ============================================================\n"
     ]
    },
    {
     "name": "stdout",
     "output_type": "stream",
     "text": [
      "19:21:50 - INFO - Configuration logged to: /work/comphyd_lab/data/CONFLUENCE_data/domain_Bow_at_Banff_distributed/_workLog_Bow_at_Banff_distributed/config_Bow_at_Banff_distributed_20250513_192150.yaml\n"
     ]
    },
    {
     "name": "stderr",
     "output_type": "stream",
     "text": [
      "2025-05-13 19:21:50,341 - confluence_general - INFO - Configuration logged to: /work/comphyd_lab/data/CONFLUENCE_data/domain_Bow_at_Banff_distributed/_workLog_Bow_at_Banff_distributed/config_Bow_at_Banff_distributed_20250513_192150.yaml\n"
     ]
    },
    {
     "name": "stdout",
     "output_type": "stream",
     "text": [
      "19:21:50 - INFO - Initializing CONFLUENCE system\n"
     ]
    },
    {
     "name": "stderr",
     "output_type": "stream",
     "text": [
      "2025-05-13 19:21:50,366 - confluence_general - INFO - Initializing CONFLUENCE system\n"
     ]
    },
    {
     "name": "stdout",
     "output_type": "stream",
     "text": [
      "19:21:50 - INFO - Configuration loaded from: /home/darri.eythorsson/code/CONFLUENCE/0_config_files/config_distributed.yaml\n"
     ]
    },
    {
     "name": "stderr",
     "output_type": "stream",
     "text": [
      "2025-05-13 19:21:50,367 - confluence_general - INFO - Configuration loaded from: /home/darri.eythorsson/code/CONFLUENCE/0_config_files/config_distributed.yaml\n"
     ]
    },
    {
     "name": "stdout",
     "output_type": "stream",
     "text": [
      "19:21:50 - INFO - Initializing VariableHandler for dataset: ERA5 and model: SUMMA\n"
     ]
    },
    {
     "name": "stderr",
     "output_type": "stream",
     "text": [
      "2025-05-13 19:21:50,369 - confluence_general - INFO - Initializing VariableHandler for dataset: ERA5 and model: SUMMA\n"
     ]
    },
    {
     "name": "stdout",
     "output_type": "stream",
     "text": [
      "19:21:50 - INFO - CONFLUENCE system initialized successfully\n"
     ]
    },
    {
     "name": "stderr",
     "output_type": "stream",
     "text": [
      "2025-05-13 19:21:50,711 - confluence_general - INFO - CONFLUENCE system initialized successfully\n"
     ]
    },
    {
     "name": "stdout",
     "output_type": "stream",
     "text": [
      "=== Directory Configuration ===\n",
      "Code Directory: /home/darri.eythorsson/code/CONFLUENCE\n",
      "Data Directory: /work/comphyd_lab/data/CONFLUENCE_data\n",
      "\n",
      "=== Key Configuration Settings ===\n",
      "Domain Name: Bow_at_Banff_distributed\n",
      "Pour Point: 51.1722/-115.5717\n",
      "Domain Method: delineate\n",
      "Stream Threshold: 5000\n",
      "Spatial Mode: Distributed\n",
      "Model: SUMMA\n",
      "Simulation Period: 2011-01-01 01:00 to 2022-01-01 01:00\n"
     ]
    }
   ],
   "source": [
    "# Set directory paths\n",
    "CONFLUENCE_CODE_DIR = confluence_path\n",
    "CONFLUENCE_DATA_DIR = Path('/work/comphyd_lab/data/CONFLUENCE_data')  # ← User should modify this path\n",
    "\n",
    "# Load template configuration\n",
    "config_path = CONFLUENCE_CODE_DIR / '0_config_files' / 'config_template.yaml'\n",
    "\n",
    "# Read config file\n",
    "with open(config_path, 'r') as f:\n",
    "    config_dict = yaml.safe_load(f)\n",
    "\n",
    "# Update core paths\n",
    "config_dict['CONFLUENCE_CODE_DIR'] = str(CONFLUENCE_CODE_DIR)\n",
    "config_dict['CONFLUENCE_DATA_DIR'] = str(CONFLUENCE_DATA_DIR)\n",
    "\n",
    "# Modify for distributed delineation\n",
    "config_dict['DOMAIN_NAME'] = 'Bow_at_Banff_distributed'\n",
    "config_dict['EXPERIMENT_ID'] = 'distributed_tutorial'\n",
    "config_dict['EXPERIMENT_TIME_START'] = '2011-01-01 01:00'\n",
    "config_dict['EXPERIMENT_TIME_END'] = '2022-01-01 01:00'\n",
    "config_dict['DOMAIN_DEFINITION_METHOD'] = 'delineate'  # Changed from 'lumped'\n",
    "config_dict['STREAM_THRESHOLD'] = 5000  # Higher threshold for fewer sub-basins\n",
    "config_dict['DOMAIN_DISCRETIZATION'] = 'GRUs'  # Keep as GRUs\n",
    "config_dict['SPATIAL_MODE'] = 'Distributed'  # Changed from 'Lumped'\n",
    "\n",
    "# Save updated config to a temporary file\n",
    "temp_config_path = CONFLUENCE_CODE_DIR / '0_config_files' / 'config_distributed.yaml'\n",
    "with open(temp_config_path, 'w') as f:\n",
    "    yaml.dump(config_dict, f)\n",
    "\n",
    "# Initialize CONFLUENCE\n",
    "confluence = CONFLUENCE(temp_config_path)\n",
    "\n",
    "# Display configuration\n",
    "print(\"=== Directory Configuration ===\")\n",
    "print(f\"Code Directory: {CONFLUENCE_CODE_DIR}\")\n",
    "print(f\"Data Directory: {CONFLUENCE_DATA_DIR}\")\n",
    "print(\"\\n=== Key Configuration Settings ===\")\n",
    "print(f\"Domain Name: {confluence.config['DOMAIN_NAME']}\")\n",
    "print(f\"Pour Point: {confluence.config['POUR_POINT_COORDS']}\")\n",
    "print(f\"Domain Method: {confluence.config['DOMAIN_DEFINITION_METHOD']}\")\n",
    "print(f\"Stream Threshold: {confluence.config['STREAM_THRESHOLD']}\")\n",
    "print(f\"Spatial Mode: {confluence.config['SPATIAL_MODE']}\")\n",
    "print(f\"Model: {confluence.config['HYDROLOGICAL_MODEL']}\")\n",
    "print(f\"Simulation Period: {confluence.config['EXPERIMENT_TIME_START']} to {confluence.config['EXPERIMENT_TIME_END']}\")"
   ]
  },
  {
   "cell_type": "markdown",
   "metadata": {},
   "source": [
    "## Project Setup - Organizing the Modeling Workflow\n",
    "\n",
    " We establish the project structure, similar to what we did in Tutorial 1."
   ]
  },
  {
   "cell_type": "code",
   "execution_count": null,
   "metadata": {
    "scrolled": true
   },
   "outputs": [],
   "source": [
    "# Project Initialization\n",
    "\n",
    "project_dir = confluence.managers['project'].setup_project()\n",
    "\n",
    "# Create pour point\n",
    "pour_point_path = confluence.managers['project'].create_pour_point()\n",
    "\n",
    "# List created directories\n",
    "print(\"\\nCreated directories:\")\n",
    "for item in sorted(project_dir.iterdir()):\n",
    "    if item.is_dir():\n",
    "        print(f\"  📁 {item.name}\")"
   ]
  },
  {
   "cell_type": "markdown",
   "metadata": {},
   "source": [
    "## Geospatial Domain Definition - Data Acquisition and Preparation\n",
    "\n",
    "We'll reuse some of the geospatial data from the lumped model tutorial, where appropriate."
   ]
  },
  {
   "cell_type": "code",
   "execution_count": null,
   "metadata": {},
   "outputs": [],
   "source": [
    "# Check if we can reuse data from the lumped model\n",
    "lumped_dem_path = CONFLUENCE_DATA_DIR / 'domain_Bow_at_Banff_lumped_tutorial' / 'attributes' / 'elevation' / 'dem'\n",
    "lumped_forcing_path = CONFLUENCE_DATA_DIR / 'domain_Bow_at_Banff_lumped_tutorial' / 'forcing' / 'raw_data'\n",
    "can_reuse = lumped_dem_path.exists()\n",
    "can_reuse_forcing = lumped_forcing_path.exists()\n",
    "\n",
    "if can_reuse or can_reuse_forcing:\n",
    "    import shutil\n",
    "    \n",
    "    # Create a function to copy files with name substitution\n",
    "    def copy_with_name_substitution(src_path, dst_path, old_str='_lumped', new_str='_distributed'):\n",
    "        if not src_path.exists():\n",
    "            return False\n",
    "            \n",
    "        # Create destination directory if it doesn't exist\n",
    "        dst_path.parent.mkdir(parents=True, exist_ok=True)\n",
    "        \n",
    "        if src_path.is_dir():\n",
    "            # Copy entire directory\n",
    "            if not dst_path.exists():\n",
    "                dst_path.mkdir(parents=True, exist_ok=True)\n",
    "                \n",
    "            # Copy all files with name substitution\n",
    "            for src_file in src_path.glob('**/*'):\n",
    "                if src_file.is_file():\n",
    "                    # Create relative path\n",
    "                    rel_path = src_file.relative_to(src_path)\n",
    "                    # Create new filename with substitution\n",
    "                    new_name = src_file.name.replace(old_str, new_str)\n",
    "                    # Create destination path\n",
    "                    dst_file = dst_path / rel_path.parent / new_name\n",
    "                    # Create parent directories if they don't exist\n",
    "                    dst_file.parent.mkdir(parents=True, exist_ok=True)\n",
    "                    # Copy the file\n",
    "                    shutil.copy2(src_file, dst_file)\n",
    "            return True\n",
    "        elif src_path.is_file():\n",
    "            # Copy single file with name substitution\n",
    "            new_name = dst_path.name.replace(old_str, new_str)\n",
    "            dst_file = dst_path.parent / new_name\n",
    "            dst_file.parent.mkdir(parents=True, exist_ok=True)\n",
    "            shutil.copy2(src_path, dst_file)\n",
    "            return True\n",
    "        \n",
    "        return False\n",
    "\n",
    "    print(\"Found existing geospatial data from lumped model. Copying and renaming files...\")\n",
    "    \n",
    "    # Copy and rename DEM and other attribute data\n",
    "    if can_reuse:\n",
    "        # Define paths\n",
    "        src_attr_path = CONFLUENCE_DATA_DIR / 'domain_Bow_at_Banff_lumped_tutorial' / 'attributes'\n",
    "        dst_attr_path = CONFLUENCE_DATA_DIR / 'domain_Bow_at_Banff_distributed' / 'attributes'\n",
    "        \n",
    "        # Copy attributes with name substitution\n",
    "        copied = copy_with_name_substitution(src_attr_path, dst_attr_path, '_lumped_tutorial', '_distributed')\n",
    "        if copied:\n",
    "            print(\"✓ Copied and renamed attribute files from lumped model\")\n",
    "    \n",
    "    # Copy and rename forcing data\n",
    "    if can_reuse_forcing:\n",
    "        # Define paths\n",
    "        src_forcing_path = CONFLUENCE_DATA_DIR / 'domain_Bow_at_Banff_lumped_tutorial' / 'forcing' / 'raw_data'\n",
    "        dst_forcing_path = CONFLUENCE_DATA_DIR / 'domain_Bow_at_Banff_distributed' / 'forcing' / 'raw_data'\n",
    "         \n",
    "        # Copy forcing data with name substitution\n",
    "        copied = copy_with_name_substitution(src_forcing_path, dst_forcing_path, '_lumped_tutorial', '_distributed')\n",
    "        if copied:\n",
    "            print(\"✓ Copied and renamed forcing data from lumped model\")\n",
    "            \n",
    "    print(\"The distributed model will use these copied files as a starting point.\")\n",
    "else:\n",
    "    print(\"No existing data found from the lumped model. Will acquire all data from scratch.\")\n",
    "\n",
    "    # Step 2: Geospatial Domain Definition - Data Acquisition\n",
    "    print(\"\\n=== Step 2: Geospatial Domain Definition - Data Acquisition ===\")\n",
    "    \n",
    "    # Acquire attributes\n",
    "    print(\"Acquiring geospatial attributes (DEM, soil, land cover)...\")\n",
    "    confluence.managers['data'].acquire_attributes()\n",
    "\n",
    "    # Acquire forcings\n",
    "    print(f\"\\nAcquiring forcing data: {confluence.config['FORCING_DATASET']}\")\n",
    "    confluence.managers['data'].acquire_forcings()\n",
    "    \n",
    "print(\"\\n✓ Geospatial attributes acquired\")"
   ]
  },
  {
   "cell_type": "markdown",
   "metadata": {},
   "source": [
    "## Geospatial Domain Definition - Delineation with Stream Network\n",
    "\n",
    "This is where the main difference occurs - we'll create multiple sub-basins connected by a stream network."
   ]
  },
  {
   "cell_type": "code",
   "execution_count": null,
   "metadata": {
    "scrolled": true
   },
   "outputs": [],
   "source": [
    "# Step 3: Geospatial Domain Definition - Delineation\n",
    "print(\"=== Step 3: Geospatial Domain Definition - Delineation ===\")\n",
    "\n",
    "# Define domain\n",
    "print(f\"Delineating distributed watershed...\")\n",
    "print(f\"Method: {confluence.config['DOMAIN_DEFINITION_METHOD']}\")\n",
    "print(f\"Stream threshold: {confluence.config['STREAM_THRESHOLD']}\")\n",
    "print(\"\\nThis will create multiple sub-basins connected by a stream network.\")\n",
    "\n",
    "watershed_path = confluence.managers['domain'].define_domain()\n",
    "\n",
    "# Check outputs\n",
    "basin_path = project_dir / 'shapefiles' / 'river_basins'\n",
    "network_path = project_dir / 'shapefiles' / 'river_network'\n",
    "\n",
    "if basin_path.exists():\n",
    "    basin_files = list(basin_path.glob('*.shp'))\n",
    "    print(f\"\\n✓ Created basin shapefiles: {len(basin_files)}\")\n",
    "    \n",
    "if network_path.exists():\n",
    "    network_files = list(network_path.glob('*.shp'))\n",
    "    print(f\"✓ Created river network shapefiles: {len(network_files)}\")\n",
    "    \n",
    "    # Load and check number of basins\n",
    "    if basin_files:\n",
    "        gdf = gpd.read_file(basin_files[0])\n",
    "        print(f\"\\nNumber of sub-basins (GRUs): {len(gdf)}\")\n",
    "        print(f\"Total area: {gdf.geometry.area.sum() / 1e6:.2f} km²\")"
   ]
  },
  {
   "cell_type": "markdown",
   "metadata": {},
   "source": [
    "## 7. Visualize the Distributed Domain"
   ]
  },
  {
   "cell_type": "code",
   "execution_count": null,
   "metadata": {
    "scrolled": true
   },
   "outputs": [],
   "source": [
    "# Visualize the delineated domain with stream network\n",
    "basin_files = list((project_dir / 'shapefiles' / 'river_basins').glob('*.shp'))\n",
    "network_files = list((project_dir / 'shapefiles' / 'river_network').glob('*.shp'))\n",
    "    \n",
    "if basin_files and network_files:\n",
    "    fig, ax = plt.subplots(figsize=(12, 10))\n",
    "    \n",
    "    # Load data\n",
    "    basins = gpd.read_file(basin_files[0])\n",
    "    rivers = gpd.read_file(network_files[0])\n",
    "    \n",
    "    # Plot basins with different colors\n",
    "    basins.plot(ax=ax, column='GRU_ID', cmap='viridis', \n",
    "               alpha=0.7, edgecolor='black', linewidth=0.5)\n",
    "    \n",
    "    # Plot river network\n",
    "    rivers.plot(ax=ax, color='blue', linewidth=2)\n",
    "    \n",
    "    # Add pour point\n",
    "    pour_point = gpd.read_file(pour_point_path)\n",
    "    pour_point.plot(ax=ax, color='red', markersize=150, marker='o', zorder=5)\n",
    "    \n",
    "    ax.set_title(f'Distributed Domain: {len(basins)} Sub-basins', fontsize=16, fontweight='bold')\n",
    "    ax.set_xlabel('Longitude')\n",
    "    ax.set_ylabel('Latitude')\n",
    "    \n",
    "    # Add colorbar for GRU IDs\n",
    "    sm = plt.cm.ScalarMappable(cmap='viridis', \n",
    "                               norm=plt.Normalize(vmin=basins['GRU_ID'].min(), \n",
    "                                                 vmax=basins['GRU_ID'].max()))\n",
    "    sm._A = []\n",
    "    cbar = fig.colorbar(sm, ax=ax, shrink=0.8)\n",
    "    cbar.set_label('GRU ID', fontsize=12)\n",
    "    \n",
    "    plt.tight_layout()\n",
    "    plt.show()"
   ]
  },
  {
   "cell_type": "markdown",
   "metadata": {},
   "source": [
    "## Geospatial Domain Definition - Discretization\n",
    "\n",
    "Now we'll create Hydrologic Response Units (HRUs) based on the Grouped Response Units (GRUs) we just created."
   ]
  },
  {
   "cell_type": "code",
   "execution_count": null,
   "metadata": {
    "scrolled": true
   },
   "outputs": [],
   "source": [
    "# Geospatial Domain Definition - Discretization\n",
    "\n",
    "print(f\"Creating HRUs based on GRUs...\")\n",
    "print(f\"Method: {confluence.config['DOMAIN_DISCRETIZATION']}\")\n",
    "print(\"For this tutorial: 1 GRU = 1 HRU (simplest case)\")\n",
    "\n",
    "hru_path = confluence.managers['domain'].discretize_domain()\n",
    "\n",
    "# Check the created HRU shapefile\n",
    "catchment_path = project_dir / 'shapefiles' / 'catchment'\n",
    "if catchment_path.exists():\n",
    "    hru_files = list(catchment_path.glob('*.shp'))\n",
    "    print(f\"\\n✓ Created HRU shapefiles: {len(hru_files)}\")\n",
    "    \n",
    "    if hru_files:\n",
    "        hru_gdf = gpd.read_file(hru_files[0])\n",
    "        print(f\"\\nHRU Statistics:\")\n",
    "        print(f\"Number of HRUs: {len(hru_gdf)}\")\n",
    "        print(f\"Number of GRUs: {hru_gdf['GRU_ID'].nunique()}\")\n",
    "        print(f\"Total area: {hru_gdf.geometry.area.sum() / 1e6:.2f} km²\")\n",
    "        \n",
    "        # Show HRU distribution\n",
    "        hru_counts = hru_gdf.groupby('GRU_ID').size()\n",
    "        print(f\"\\nHRUs per GRU:\")\n",
    "        for gru_id, count in hru_counts.items():\n",
    "            print(f\"  GRU {gru_id}: {count} HRUs\")"
   ]
  },
  {
   "cell_type": "markdown",
   "metadata": {},
   "source": [
    "## Model Agnostic Data Processing - Observed Data\n",
    "\n",
    "The observed streamflow data will be the same for both the lumped and distributed models since they use the same pour point."
   ]
  },
  {
   "cell_type": "code",
   "execution_count": null,
   "metadata": {
    "scrolled": true
   },
   "outputs": [],
   "source": [
    "# Model Agnostic Data Processing - Observed Data\n",
    "print(\"Processing observed streamflow data...\")\n",
    "confluence.managers['data'].process_observed_data()"
   ]
  },
  {
   "cell_type": "markdown",
   "metadata": {},
   "source": [
    "## Model Agnostic Data Processing - Preprocessing"
   ]
  },
  {
   "cell_type": "code",
   "execution_count": 6,
   "metadata": {
    "scrolled": true
   },
   "outputs": [
    {
     "name": "stdout",
     "output_type": "stream",
     "text": [
      "=== Step 7: Model Agnostic Data Processing - Preprocessing ===\n",
      "\n",
      "Running model-agnostic preprocessing...\n",
      "17:13:52 - INFO - Starting model-agnostic preprocessing\n"
     ]
    },
    {
     "name": "stderr",
     "output_type": "stream",
     "text": [
      "2025-05-13 17:13:52,779 - confluence_general - INFO - Starting model-agnostic preprocessing\n"
     ]
    },
    {
     "name": "stdout",
     "output_type": "stream",
     "text": [
      "17:13:52 - INFO - Running geospatial statistics\n"
     ]
    },
    {
     "name": "stderr",
     "output_type": "stream",
     "text": [
      "2025-05-13 17:13:52,793 - confluence_general - INFO - Running geospatial statistics\n"
     ]
    },
    {
     "name": "stdout",
     "output_type": "stream",
     "text": [
      "17:13:52 - INFO - Starting geospatial statistics calculation\n"
     ]
    },
    {
     "name": "stderr",
     "output_type": "stream",
     "text": [
      "2025-05-13 17:13:52,795 - confluence_general - INFO - Starting geospatial statistics calculation\n"
     ]
    },
    {
     "name": "stdout",
     "output_type": "stream",
     "text": [
      "17:13:52 - INFO - Soil statistics already calculated: /work/comphyd_lab/data/CONFLUENCE_data/domain_Bow_at_Banff_distributed/shapefiles/catchment_intersection/with_soilgrids/catchment_with_soilclass.shp\n"
     ]
    },
    {
     "name": "stderr",
     "output_type": "stream",
     "text": [
      "2025-05-13 17:13:52,810 - confluence_general - INFO - Soil statistics already calculated: /work/comphyd_lab/data/CONFLUENCE_data/domain_Bow_at_Banff_distributed/shapefiles/catchment_intersection/with_soilgrids/catchment_with_soilclass.shp\n"
     ]
    },
    {
     "name": "stdout",
     "output_type": "stream",
     "text": [
      "17:13:52 - INFO - Land statistics already calculated: /work/comphyd_lab/data/CONFLUENCE_data/domain_Bow_at_Banff_distributed/shapefiles/catchment_intersection/with_landclass/catchment_with_landclass.shp\n"
     ]
    },
    {
     "name": "stderr",
     "output_type": "stream",
     "text": [
      "2025-05-13 17:13:52,833 - confluence_general - INFO - Land statistics already calculated: /work/comphyd_lab/data/CONFLUENCE_data/domain_Bow_at_Banff_distributed/shapefiles/catchment_intersection/with_landclass/catchment_with_landclass.shp\n"
     ]
    },
    {
     "name": "stdout",
     "output_type": "stream",
     "text": [
      "17:13:52 - INFO - Elevation statistics already calculated: /work/comphyd_lab/data/CONFLUENCE_data/domain_Bow_at_Banff_distributed/shapefiles/catchment_intersection/with_dem/catchment_with_dem.shp\n"
     ]
    },
    {
     "name": "stderr",
     "output_type": "stream",
     "text": [
      "2025-05-13 17:13:52,846 - confluence_general - INFO - Elevation statistics already calculated: /work/comphyd_lab/data/CONFLUENCE_data/domain_Bow_at_Banff_distributed/shapefiles/catchment_intersection/with_dem/catchment_with_dem.shp\n"
     ]
    },
    {
     "name": "stdout",
     "output_type": "stream",
     "text": [
      "17:13:52 - INFO - Geospatial statistics completed: 3/3 steps skipped, 0/3 steps executed\n"
     ]
    },
    {
     "name": "stderr",
     "output_type": "stream",
     "text": [
      "2025-05-13 17:13:52,848 - confluence_general - INFO - Geospatial statistics completed: 3/3 steps skipped, 0/3 steps executed\n"
     ]
    },
    {
     "name": "stdout",
     "output_type": "stream",
     "text": [
      "17:13:52 - INFO - Running forcing resampling\n"
     ]
    },
    {
     "name": "stderr",
     "output_type": "stream",
     "text": [
      "2025-05-13 17:13:52,850 - confluence_general - INFO - Running forcing resampling\n"
     ]
    },
    {
     "name": "stdout",
     "output_type": "stream",
     "text": [
      "17:13:52 - INFO - Starting forcing data resampling process\n"
     ]
    },
    {
     "name": "stderr",
     "output_type": "stream",
     "text": [
      "2025-05-13 17:13:52,852 - confluence_general - INFO - Starting forcing data resampling process\n"
     ]
    },
    {
     "name": "stdout",
     "output_type": "stream",
     "text": [
      "17:13:52 - INFO - Creating ERA5 shapefile\n"
     ]
    },
    {
     "name": "stderr",
     "output_type": "stream",
     "text": [
      "2025-05-13 17:13:52,855 - confluence_general - INFO - Creating ERA5 shapefile\n"
     ]
    },
    {
     "name": "stdout",
     "output_type": "stream",
     "text": [
      "17:13:52 - INFO - Forcing shapefile already exists: /work/comphyd_lab/data/CONFLUENCE_data/domain_Bow_at_Banff_distributed/shapefiles/forcing/forcing_ERA5.shp. Skipping creation.\n"
     ]
    },
    {
     "name": "stderr",
     "output_type": "stream",
     "text": [
      "2025-05-13 17:13:52,866 - confluence_general - INFO - Forcing shapefile already exists: /work/comphyd_lab/data/CONFLUENCE_data/domain_Bow_at_Banff_distributed/shapefiles/forcing/forcing_ERA5.shp. Skipping creation.\n"
     ]
    },
    {
     "name": "stdout",
     "output_type": "stream",
     "text": [
      "17:13:52 - INFO - Starting forcing remapping process\n"
     ]
    },
    {
     "name": "stderr",
     "output_type": "stream",
     "text": [
      "2025-05-13 17:13:52,869 - confluence_general - INFO - Starting forcing remapping process\n"
     ]
    },
    {
     "name": "stdout",
     "output_type": "stream",
     "text": [
      "17:13:52 - INFO - Creating weighted forcing files in parallel\n"
     ]
    },
    {
     "name": "stderr",
     "output_type": "stream",
     "text": [
      "2025-05-13 17:13:52,871 - confluence_general - INFO - Creating weighted forcing files in parallel\n"
     ]
    },
    {
     "name": "stdout",
     "output_type": "stream",
     "text": [
      "17:13:52 - INFO - Found 276 forcing files to process\n"
     ]
    },
    {
     "name": "stderr",
     "output_type": "stream",
     "text": [
      "2025-05-13 17:13:52,876 - confluence_general - INFO - Found 276 forcing files to process\n"
     ]
    },
    {
     "name": "stdout",
     "output_type": "stream",
     "text": [
      "17:13:52 - INFO - Using 1 CPUs for parallel processing\n"
     ]
    },
    {
     "name": "stderr",
     "output_type": "stream",
     "text": [
      "2025-05-13 17:13:52,878 - confluence_general - INFO - Using 1 CPUs for parallel processing\n"
     ]
    },
    {
     "name": "stdout",
     "output_type": "stream",
     "text": [
      "17:13:53 - INFO - Found 275 already processed files\n"
     ]
    },
    {
     "name": "stderr",
     "output_type": "stream",
     "text": [
      "2025-05-13 17:13:53,017 - confluence_general - INFO - Found 275 already processed files\n"
     ]
    },
    {
     "name": "stdout",
     "output_type": "stream",
     "text": [
      "17:13:53 - INFO - Found 1 files that need processing\n"
     ]
    },
    {
     "name": "stderr",
     "output_type": "stream",
     "text": [
      "2025-05-13 17:13:53,019 - confluence_general - INFO - Found 1 files that need processing\n"
     ]
    },
    {
     "name": "stdout",
     "output_type": "stream",
     "text": [
      "17:13:53 - INFO - Processing 1 batches of up to 1 files each\n"
     ]
    },
    {
     "name": "stderr",
     "output_type": "stream",
     "text": [
      "2025-05-13 17:13:53,024 - confluence_general - INFO - Processing 1 batches of up to 1 files each\n"
     ]
    },
    {
     "name": "stdout",
     "output_type": "stream",
     "text": [
      "17:13:53 - INFO - Processing batch 1/1 with 1 files\n"
     ]
    },
    {
     "name": "stderr",
     "output_type": "stream",
     "text": [
      "2025-05-13 17:13:53,027 - confluence_general - INFO - Processing batch 1/1 with 1 files\n"
     ]
    },
    {
     "name": "stdout",
     "output_type": "stream",
     "text": [
      "17:13:53 - INFO - Worker 0: Processing file domain_Bow_at_Banff_distributed_ERA5_merged_202102.nc\n"
     ]
    },
    {
     "name": "stderr",
     "output_type": "stream",
     "text": [
      "2025-05-13 17:13:53,066 - confluence_general - INFO - Worker 0: Processing file domain_Bow_at_Banff_distributed_ERA5_merged_202102.nc\n"
     ]
    },
    {
     "name": "stdout",
     "output_type": "stream",
     "text": [
      "EASYMORE version 2.0.0 is initiated.\n",
      "EASYMORE is given multiple variables for remapping but only one format and fill value. EASYMORE repeats the format and fill value for all the variables in output files\n",
      "EASYMORE will remap variable  airpres  from source file to variable  airpres  in remapped netCDF file\n",
      "EASYMORE will remap variable  LWRadAtm  from source file to variable  LWRadAtm  in remapped netCDF file\n",
      "EASYMORE will remap variable  SWRadAtm  from source file to variable  SWRadAtm  in remapped netCDF file\n",
      "EASYMORE will remap variable  pptrate  from source file to variable  pptrate  in remapped netCDF file\n",
      "EASYMORE will remap variable  airtemp  from source file to variable  airtemp  in remapped netCDF file\n",
      "EASYMORE will remap variable  spechum  from source file to variable  spechum  in remapped netCDF file\n",
      "EASYMORE will remap variable  windspd  from source file to variable  windspd  in remapped netCDF file\n",
      "EASYMORE detects that the variables from the netCDF files are identicalin dimensions of the variables and latitude and longitude\n",
      "EASYMORE detects that all the variables have dimensions of:\n",
      "['time', 'latitude', 'longitude']\n",
      "EASYMORE detects that the longitude variables has dimensions of:\n",
      "['longitude']\n",
      "EASYMORE detects that the latitude variables has dimensions of:\n",
      "['latitude']\n",
      "--CREATING-REMAPPING-FILE--\n",
      "Started at date and time 2025-05-13 17:13:53.380475\n",
      "EASYMORE detects that target shapefile is in WGS84 (epsg:4326)\n",
      "EASYMORE detects that the field for ID is provided in sink/target shapefile\n",
      "EASYMORE detects that the field latitude is provided in sink/target shapefile\n",
      "EASYMORE detects that the field longitude is provided in sink/target shapefile\n",
      "it seems everything is OK with the sink/target shapefile; added to EASYMORE object target_shp_gpd\n"
     ]
    },
    {
     "name": "stderr",
     "output_type": "stream",
     "text": [
      "/work/comphyd_lab/users/darri/data/CONFLUENCE_data/installs/conf-env/lib/python3.11/site-packages/pyogrio/raw.py:723: RuntimeWarning: Value 107654506.629660964 of field GRU_area of feature 0 not successfully written. Possibly due to too larger number with respect to field width\n",
      "  ogr_write(\n",
      "/work/comphyd_lab/users/darri/data/CONFLUENCE_data/installs/conf-env/lib/python3.11/site-packages/pyogrio/raw.py:723: RuntimeWarning: Value 107654506.629660964 of field HRU_area of feature 0 not successfully written. Possibly due to too larger number with respect to field width\n",
      "  ogr_write(\n",
      "/work/comphyd_lab/users/darri/data/CONFLUENCE_data/installs/conf-env/lib/python3.11/site-packages/pyogrio/raw.py:723: RuntimeWarning: Value 115962979.78223218 of field GRU_area of feature 2 not successfully written. Possibly due to too larger number with respect to field width\n",
      "  ogr_write(\n",
      "/work/comphyd_lab/users/darri/data/CONFLUENCE_data/installs/conf-env/lib/python3.11/site-packages/pyogrio/raw.py:723: RuntimeWarning: Value 115962979.78223218 of field HRU_area of feature 2 not successfully written. Possibly due to too larger number with respect to field width\n",
      "  ogr_write(\n",
      "/work/comphyd_lab/users/darri/data/CONFLUENCE_data/installs/conf-env/lib/python3.11/site-packages/pyogrio/raw.py:723: RuntimeWarning: Value 123420378.353142783 of field GRU_area of feature 12 not successfully written. Possibly due to too larger number with respect to field width\n",
      "  ogr_write(\n",
      "/work/comphyd_lab/users/darri/data/CONFLUENCE_data/installs/conf-env/lib/python3.11/site-packages/pyogrio/raw.py:723: RuntimeWarning: Value 123420378.353142783 of field HRU_area of feature 12 not successfully written. Possibly due to too larger number with respect to field width\n",
      "  ogr_write(\n",
      "/work/comphyd_lab/users/darri/data/CONFLUENCE_data/installs/conf-env/lib/python3.11/site-packages/pyogrio/raw.py:723: RuntimeWarning: Value 118867291.979016051 of field GRU_area of feature 42 not successfully written. Possibly due to too larger number with respect to field width\n",
      "  ogr_write(\n",
      "/work/comphyd_lab/users/darri/data/CONFLUENCE_data/installs/conf-env/lib/python3.11/site-packages/pyogrio/raw.py:723: RuntimeWarning: Value 118867291.979016051 of field HRU_area of feature 42 not successfully written. Possibly due to too larger number with respect to field width\n",
      "  ogr_write(\n",
      "/work/comphyd_lab/users/darri/data/CONFLUENCE_data/installs/conf-env/lib/python3.11/site-packages/pyogrio/raw.py:723: RuntimeWarning: Value 120218048.846222728 of field GRU_area of feature 45 not successfully written. Possibly due to too larger number with respect to field width\n",
      "  ogr_write(\n",
      "/work/comphyd_lab/users/darri/data/CONFLUENCE_data/installs/conf-env/lib/python3.11/site-packages/pyogrio/raw.py:723: RuntimeWarning: Value 120218048.846222728 of field HRU_area of feature 45 not successfully written. Possibly due to too larger number with respect to field width\n",
      "  ogr_write(\n",
      "2025-05-13 17:13:53,564 - pyogrio._io - INFO - Created 49 records\n"
     ]
    },
    {
     "name": "stdout",
     "output_type": "stream",
     "text": [
      "EASYMORE saved target shapefile for EASYMORE claculation as:\n",
      "/work/comphyd_lab/data/CONFLUENCE_data/domain_Bow_at_Banff_distributed/forcing/temp_easymore_44a5fc54_0/Bow_at_Banff_distributed_ERA5_target_shapefile.shp\n",
      "EASYMORE detects case 1 - regular lat/lon\n"
     ]
    },
    {
     "name": "stderr",
     "output_type": "stream",
     "text": [
      "2025-05-13 17:13:53,627 - pyogrio._io - INFO - Created 42 records\n"
     ]
    },
    {
     "name": "stdout",
     "output_type": "stream",
     "text": [
      "/work/comphyd_lab/data/CONFLUENCE_data/domain_Bow_at_Banff_distributed/forcing/temp_easymore_44a5fc54_0/Bow_at_Banff_distributed_ERA5_source_shapefile.shp\n",
      "EASYMORE created the shapefile from the netCDF file and saved it here:\n",
      "EASMORE detects that target shapefile is inside the boundary of source netCDF file  and therefore correction for longitude values -180 to 180 or 0 to 360 is not performed even if  the correction_shp_lon flag is set to True [default is True]\n"
     ]
    },
    {
     "name": "stderr",
     "output_type": "stream",
     "text": [
      "/work/comphyd_lab/users/darri/data/CONFLUENCE_data/installs/conf-env/lib/python3.11/site-packages/pyogrio/raw.py:723: RuntimeWarning: Value 107654506.629660964 of field GRU_area of feature 0 not successfully written. Possibly due to too larger number with respect to field width\n",
      "  ogr_write(\n",
      "/work/comphyd_lab/users/darri/data/CONFLUENCE_data/installs/conf-env/lib/python3.11/site-packages/pyogrio/raw.py:723: RuntimeWarning: Value 107654506.629660964 of field HRU_area of feature 0 not successfully written. Possibly due to too larger number with respect to field width\n",
      "  ogr_write(\n",
      "/work/comphyd_lab/users/darri/data/CONFLUENCE_data/installs/conf-env/lib/python3.11/site-packages/pyogrio/raw.py:723: RuntimeWarning: Value 115962979.78223218 of field GRU_area of feature 2 not successfully written. Possibly due to too larger number with respect to field width\n",
      "  ogr_write(\n",
      "/work/comphyd_lab/users/darri/data/CONFLUENCE_data/installs/conf-env/lib/python3.11/site-packages/pyogrio/raw.py:723: RuntimeWarning: Value 115962979.78223218 of field HRU_area of feature 2 not successfully written. Possibly due to too larger number with respect to field width\n",
      "  ogr_write(\n",
      "/work/comphyd_lab/users/darri/data/CONFLUENCE_data/installs/conf-env/lib/python3.11/site-packages/pyogrio/raw.py:723: RuntimeWarning: Value 123420378.353142783 of field GRU_area of feature 12 not successfully written. Possibly due to too larger number with respect to field width\n",
      "  ogr_write(\n",
      "/work/comphyd_lab/users/darri/data/CONFLUENCE_data/installs/conf-env/lib/python3.11/site-packages/pyogrio/raw.py:723: RuntimeWarning: Value 123420378.353142783 of field HRU_area of feature 12 not successfully written. Possibly due to too larger number with respect to field width\n",
      "  ogr_write(\n",
      "/work/comphyd_lab/users/darri/data/CONFLUENCE_data/installs/conf-env/lib/python3.11/site-packages/pyogrio/raw.py:723: RuntimeWarning: Value 118867291.979016051 of field GRU_area of feature 42 not successfully written. Possibly due to too larger number with respect to field width\n",
      "  ogr_write(\n",
      "/work/comphyd_lab/users/darri/data/CONFLUENCE_data/installs/conf-env/lib/python3.11/site-packages/pyogrio/raw.py:723: RuntimeWarning: Value 118867291.979016051 of field HRU_area of feature 42 not successfully written. Possibly due to too larger number with respect to field width\n",
      "  ogr_write(\n",
      "/work/comphyd_lab/users/darri/data/CONFLUENCE_data/installs/conf-env/lib/python3.11/site-packages/pyogrio/raw.py:723: RuntimeWarning: Value 120218048.846222728 of field GRU_area of feature 45 not successfully written. Possibly due to too larger number with respect to field width\n",
      "  ogr_write(\n",
      "/work/comphyd_lab/users/darri/data/CONFLUENCE_data/installs/conf-env/lib/python3.11/site-packages/pyogrio/raw.py:723: RuntimeWarning: Value 120218048.846222728 of field HRU_area of feature 45 not successfully written. Possibly due to too larger number with respect to field width\n",
      "  ogr_write(\n",
      "2025-05-13 17:13:53,753 - pyogrio._io - INFO - Created 49 records\n",
      "2025-05-13 17:13:53,781 - pyogrio._io - INFO - Created 42 records\n",
      "/work/comphyd_lab/users/darri/data/CONFLUENCE_data/installs/conf-env/lib/python3.11/site-packages/pyogrio/raw.py:723: RuntimeWarning: Value 107654506.629660964 of field GRU_area of feature 0 not successfully written. Possibly due to too larger number with respect to field width\n",
      "  ogr_write(\n",
      "/work/comphyd_lab/users/darri/data/CONFLUENCE_data/installs/conf-env/lib/python3.11/site-packages/pyogrio/raw.py:723: RuntimeWarning: Value 107654506.629660964 of field HRU_area of feature 0 not successfully written. Possibly due to too larger number with respect to field width\n",
      "  ogr_write(\n",
      "/work/comphyd_lab/users/darri/data/CONFLUENCE_data/installs/conf-env/lib/python3.11/site-packages/pyogrio/raw.py:723: RuntimeWarning: Value 115962979.78223218 of field GRU_area of feature 2 not successfully written. Possibly due to too larger number with respect to field width\n",
      "  ogr_write(\n",
      "/work/comphyd_lab/users/darri/data/CONFLUENCE_data/installs/conf-env/lib/python3.11/site-packages/pyogrio/raw.py:723: RuntimeWarning: Value 115962979.78223218 of field HRU_area of feature 2 not successfully written. Possibly due to too larger number with respect to field width\n",
      "  ogr_write(\n",
      "/work/comphyd_lab/users/darri/data/CONFLUENCE_data/installs/conf-env/lib/python3.11/site-packages/pyogrio/raw.py:723: RuntimeWarning: Value 123420378.353142783 of field GRU_area of feature 12 not successfully written. Possibly due to too larger number with respect to field width\n",
      "  ogr_write(\n",
      "/work/comphyd_lab/users/darri/data/CONFLUENCE_data/installs/conf-env/lib/python3.11/site-packages/pyogrio/raw.py:723: RuntimeWarning: Value 123420378.353142783 of field HRU_area of feature 12 not successfully written. Possibly due to too larger number with respect to field width\n",
      "  ogr_write(\n",
      "/work/comphyd_lab/users/darri/data/CONFLUENCE_data/installs/conf-env/lib/python3.11/site-packages/pyogrio/raw.py:723: RuntimeWarning: Value 118867291.979016051 of field GRU_area of feature 42 not successfully written. Possibly due to too larger number with respect to field width\n",
      "  ogr_write(\n",
      "/work/comphyd_lab/users/darri/data/CONFLUENCE_data/installs/conf-env/lib/python3.11/site-packages/pyogrio/raw.py:723: RuntimeWarning: Value 118867291.979016051 of field HRU_area of feature 42 not successfully written. Possibly due to too larger number with respect to field width\n",
      "  ogr_write(\n",
      "/work/comphyd_lab/users/darri/data/CONFLUENCE_data/installs/conf-env/lib/python3.11/site-packages/pyogrio/raw.py:723: RuntimeWarning: Value 120218048.846222728 of field GRU_area of feature 45 not successfully written. Possibly due to too larger number with respect to field width\n",
      "  ogr_write(\n",
      "/work/comphyd_lab/users/darri/data/CONFLUENCE_data/installs/conf-env/lib/python3.11/site-packages/pyogrio/raw.py:723: RuntimeWarning: Value 120218048.846222728 of field HRU_area of feature 45 not successfully written. Possibly due to too larger number with respect to field width\n",
      "  ogr_write(\n",
      "2025-05-13 17:13:53,848 - pyogrio._io - INFO - Created 49 records\n",
      "2025-05-13 17:13:53,918 - pyogrio._io - INFO - Created 42 records\n",
      "/work/comphyd_lab/users/darri/data/CONFLUENCE_data/installs/conf-env/lib/python3.11/site-packages/easymore/remapper.py:521: UserWarning: Column names longer than 10 characters will be truncated when saved to ESRI Shapefile.\n",
      "  shp_int.to_file(self.temp_dir+self.case_name+'_intersected_shapefile.shp') # save the intersected files\n",
      "/work/comphyd_lab/users/darri/data/CONFLUENCE_data/installs/conf-env/lib/python3.11/site-packages/pyogrio/raw.py:723: RuntimeWarning: Normalized/laundered field name: 'S_1_GRU_area' to 'S_1_GRU_ar'\n",
      "  ogr_write(\n",
      "/work/comphyd_lab/users/darri/data/CONFLUENCE_data/installs/conf-env/lib/python3.11/site-packages/pyogrio/raw.py:723: RuntimeWarning: Normalized/laundered field name: 'S_1_gru_to_seg' to 'S_1_gru_to'\n",
      "  ogr_write(\n",
      "/work/comphyd_lab/users/darri/data/CONFLUENCE_data/installs/conf-env/lib/python3.11/site-packages/pyogrio/raw.py:723: RuntimeWarning: Normalized/laundered field name: 'S_1_hru_type' to 'S_1_hru_ty'\n",
      "  ogr_write(\n",
      "/work/comphyd_lab/users/darri/data/CONFLUENCE_data/installs/conf-env/lib/python3.11/site-packages/pyogrio/raw.py:723: RuntimeWarning: Normalized/laundered field name: 'S_1_elev_mean' to 'S_1_elev_m'\n",
      "  ogr_write(\n",
      "/work/comphyd_lab/users/darri/data/CONFLUENCE_data/installs/conf-env/lib/python3.11/site-packages/pyogrio/raw.py:723: RuntimeWarning: Normalized/laundered field name: 'S_1_center_lon' to 'S_1_center'\n",
      "  ogr_write(\n",
      "/work/comphyd_lab/users/darri/data/CONFLUENCE_data/installs/conf-env/lib/python3.11/site-packages/pyogrio/raw.py:723: RuntimeWarning: Normalized/laundered field name: 'S_1_center_lat' to 'S_1_cent_1'\n",
      "  ogr_write(\n",
      "/work/comphyd_lab/users/darri/data/CONFLUENCE_data/installs/conf-env/lib/python3.11/site-packages/pyogrio/raw.py:723: RuntimeWarning: Normalized/laundered field name: 'S_1_HRU_area' to 'S_1_HRU_ar'\n",
      "  ogr_write(\n",
      "/work/comphyd_lab/users/darri/data/CONFLUENCE_data/installs/conf-env/lib/python3.11/site-packages/pyogrio/raw.py:723: RuntimeWarning: Value 107654506.629660964 of field S_1_GRU_ar of feature 0 not successfully written. Possibly due to too larger number with respect to field width\n",
      "  ogr_write(\n",
      "/work/comphyd_lab/users/darri/data/CONFLUENCE_data/installs/conf-env/lib/python3.11/site-packages/pyogrio/raw.py:723: RuntimeWarning: Value 107654506.629660964 of field S_1_HRU_ar of feature 0 not successfully written. Possibly due to too larger number with respect to field width\n",
      "  ogr_write(\n",
      "/work/comphyd_lab/users/darri/data/CONFLUENCE_data/installs/conf-env/lib/python3.11/site-packages/pyogrio/raw.py:723: RuntimeWarning: Value 107736717.882862255 of field AS1 of feature 0 not successfully written. Possibly due to too larger number with respect to field width\n",
      "  ogr_write(\n",
      "/work/comphyd_lab/users/darri/data/CONFLUENCE_data/installs/conf-env/lib/python3.11/site-packages/pyogrio/raw.py:723: RuntimeWarning: Value 482862192.655856669 of field AS2 of feature 0 not successfully written. Possibly due to too larger number with respect to field width\n",
      "  ogr_write(\n",
      "/work/comphyd_lab/users/darri/data/CONFLUENCE_data/installs/conf-env/lib/python3.11/site-packages/pyogrio/raw.py:723: RuntimeWarning: Value 107654506.629660964 of field S_1_GRU_ar of feature 1 not successfully written. Possibly due to too larger number with respect to field width\n",
      "  ogr_write(\n",
      "/work/comphyd_lab/users/darri/data/CONFLUENCE_data/installs/conf-env/lib/python3.11/site-packages/pyogrio/raw.py:723: RuntimeWarning: Value 107654506.629660964 of field S_1_HRU_ar of feature 1 not successfully written. Possibly due to too larger number with respect to field width\n",
      "  ogr_write(\n",
      "/work/comphyd_lab/users/darri/data/CONFLUENCE_data/installs/conf-env/lib/python3.11/site-packages/pyogrio/raw.py:723: RuntimeWarning: Value 107736717.882862255 of field AS1 of feature 1 not successfully written. Possibly due to too larger number with respect to field width\n",
      "  ogr_write(\n",
      "/work/comphyd_lab/users/darri/data/CONFLUENCE_data/installs/conf-env/lib/python3.11/site-packages/pyogrio/raw.py:723: RuntimeWarning: Value 482862192.655931294 of field AS2 of feature 1 not successfully written. Possibly due to too larger number with respect to field width\n",
      "  ogr_write(\n",
      "/work/comphyd_lab/users/darri/data/CONFLUENCE_data/installs/conf-env/lib/python3.11/site-packages/pyogrio/raw.py:723: RuntimeWarning: Value 107654506.629660964 of field S_1_GRU_ar of feature 2 not successfully written. Possibly due to too larger number with respect to field width\n",
      "  ogr_write(\n",
      "/work/comphyd_lab/users/darri/data/CONFLUENCE_data/installs/conf-env/lib/python3.11/site-packages/pyogrio/raw.py:723: RuntimeWarning: Value 107654506.629660964 of field S_1_HRU_ar of feature 2 not successfully written. Possibly due to too larger number with respect to field width\n",
      "  ogr_write(\n",
      "/work/comphyd_lab/users/darri/data/CONFLUENCE_data/installs/conf-env/lib/python3.11/site-packages/pyogrio/raw.py:723: RuntimeWarning: Value 107736717.882862255 of field AS1 of feature 2 not successfully written. Possibly due to too larger number with respect to field width\n",
      "  ogr_write(\n",
      "/work/comphyd_lab/users/darri/data/CONFLUENCE_data/installs/conf-env/lib/python3.11/site-packages/pyogrio/raw.py:723: RuntimeWarning: Value 480236308.728175938 of field AS2 of feature 2 not successfully written. Possibly due to too larger number with respect to field width\n",
      "  ogr_write(\n",
      "/work/comphyd_lab/users/darri/data/CONFLUENCE_data/installs/conf-env/lib/python3.11/site-packages/pyogrio/raw.py:723: RuntimeWarning: Value 107654506.629660964 of field S_1_GRU_ar of feature 3 not successfully written. Possibly due to too larger number with respect to field width\n",
      "  ogr_write(\n",
      "/work/comphyd_lab/users/darri/data/CONFLUENCE_data/installs/conf-env/lib/python3.11/site-packages/pyogrio/raw.py:723: RuntimeWarning: Value 107654506.629660964 of field S_1_HRU_ar of feature 3 not successfully written. Possibly due to too larger number with respect to field width\n",
      "  ogr_write(\n",
      "/work/comphyd_lab/users/darri/data/CONFLUENCE_data/installs/conf-env/lib/python3.11/site-packages/pyogrio/raw.py:723: RuntimeWarning: Value 107736717.882862255 of field AS1 of feature 3 not successfully written. Possibly due to too larger number with respect to field width\n",
      "  ogr_write(\n",
      "/work/comphyd_lab/users/darri/data/CONFLUENCE_data/installs/conf-env/lib/python3.11/site-packages/pyogrio/raw.py:723: RuntimeWarning: Value 480236308.72810179 of field AS2 of feature 3 not successfully written. Possibly due to too larger number with respect to field width\n",
      "  ogr_write(\n",
      "/work/comphyd_lab/users/darri/data/CONFLUENCE_data/installs/conf-env/lib/python3.11/site-packages/pyogrio/raw.py:723: RuntimeWarning: Value 480236308.728175938 of field AS2 of feature 4 not successfully written. Possibly due to too larger number with respect to field width\n",
      "  ogr_write(\n",
      "/work/comphyd_lab/users/darri/data/CONFLUENCE_data/installs/conf-env/lib/python3.11/site-packages/pyogrio/raw.py:723: RuntimeWarning: Value 115962979.78223218 of field S_1_GRU_ar of feature 5 not successfully written. Possibly due to too larger number with respect to field width\n",
      "  ogr_write(\n",
      "/work/comphyd_lab/users/darri/data/CONFLUENCE_data/installs/conf-env/lib/python3.11/site-packages/pyogrio/raw.py:723: RuntimeWarning: Value 115962979.78223218 of field S_1_HRU_ar of feature 5 not successfully written. Possibly due to too larger number with respect to field width\n",
      "  ogr_write(\n",
      "/work/comphyd_lab/users/darri/data/CONFLUENCE_data/installs/conf-env/lib/python3.11/site-packages/pyogrio/raw.py:723: RuntimeWarning: Value 116045935.851494223 of field AS1 of feature 5 not successfully written. Possibly due to too larger number with respect to field width\n",
      "  ogr_write(\n",
      "/work/comphyd_lab/users/darri/data/CONFLUENCE_data/installs/conf-env/lib/python3.11/site-packages/pyogrio/raw.py:723: RuntimeWarning: Value 482862192.655931294 of field AS2 of feature 5 not successfully written. Possibly due to too larger number with respect to field width\n",
      "  ogr_write(\n",
      "/work/comphyd_lab/users/darri/data/CONFLUENCE_data/installs/conf-env/lib/python3.11/site-packages/pyogrio/raw.py:723: RuntimeWarning: Value 115962979.78223218 of field S_1_GRU_ar of feature 6 not successfully written. Possibly due to too larger number with respect to field width\n",
      "  ogr_write(\n",
      "/work/comphyd_lab/users/darri/data/CONFLUENCE_data/installs/conf-env/lib/python3.11/site-packages/pyogrio/raw.py:723: RuntimeWarning: Value 115962979.78223218 of field S_1_HRU_ar of feature 6 not successfully written. Possibly due to too larger number with respect to field width\n",
      "  ogr_write(\n",
      "/work/comphyd_lab/users/darri/data/CONFLUENCE_data/installs/conf-env/lib/python3.11/site-packages/pyogrio/raw.py:723: RuntimeWarning: Value 116045935.851494223 of field AS1 of feature 6 not successfully written. Possibly due to too larger number with respect to field width\n",
      "  ogr_write(\n",
      "/work/comphyd_lab/users/darri/data/CONFLUENCE_data/installs/conf-env/lib/python3.11/site-packages/pyogrio/raw.py:723: RuntimeWarning: Value 482862192.655893981 of field AS2 of feature 6 not successfully written. Possibly due to too larger number with respect to field width\n",
      "  ogr_write(\n",
      "/work/comphyd_lab/users/darri/data/CONFLUENCE_data/installs/conf-env/lib/python3.11/site-packages/pyogrio/raw.py:723: RuntimeWarning: Value 115962979.78223218 of field S_1_GRU_ar of feature 7 not successfully written. Possibly due to too larger number with respect to field width\n",
      "  ogr_write(\n",
      "/work/comphyd_lab/users/darri/data/CONFLUENCE_data/installs/conf-env/lib/python3.11/site-packages/pyogrio/raw.py:723: RuntimeWarning: Value 115962979.78223218 of field S_1_HRU_ar of feature 7 not successfully written. Possibly due to too larger number with respect to field width\n",
      "  ogr_write(\n",
      "/work/comphyd_lab/users/darri/data/CONFLUENCE_data/installs/conf-env/lib/python3.11/site-packages/pyogrio/raw.py:723: RuntimeWarning: Value 116045935.851494223 of field AS1 of feature 7 not successfully written. Possibly due to too larger number with respect to field width\n",
      "  ogr_write(\n",
      "/work/comphyd_lab/users/darri/data/CONFLUENCE_data/installs/conf-env/lib/python3.11/site-packages/pyogrio/raw.py:723: RuntimeWarning: Value 480236308.728175938 of field AS2 of feature 7 not successfully written. Possibly due to too larger number with respect to field width\n",
      "  ogr_write(\n",
      "/work/comphyd_lab/users/darri/data/CONFLUENCE_data/installs/conf-env/lib/python3.11/site-packages/pyogrio/raw.py:723: RuntimeWarning: Value 115962979.78223218 of field S_1_GRU_ar of feature 8 not successfully written. Possibly due to too larger number with respect to field width\n",
      "  ogr_write(\n",
      "/work/comphyd_lab/users/darri/data/CONFLUENCE_data/installs/conf-env/lib/python3.11/site-packages/pyogrio/raw.py:723: RuntimeWarning: Value 115962979.78223218 of field S_1_HRU_ar of feature 8 not successfully written. Possibly due to too larger number with respect to field width\n",
      "  ogr_write(\n",
      "/work/comphyd_lab/users/darri/data/CONFLUENCE_data/installs/conf-env/lib/python3.11/site-packages/pyogrio/raw.py:723: RuntimeWarning: Value 116045935.851494223 of field AS1 of feature 8 not successfully written. Possibly due to too larger number with respect to field width\n",
      "  ogr_write(\n",
      "/work/comphyd_lab/users/darri/data/CONFLUENCE_data/installs/conf-env/lib/python3.11/site-packages/pyogrio/raw.py:723: RuntimeWarning: Value 480236308.728138864 of field AS2 of feature 8 not successfully written. Possibly due to too larger number with respect to field width\n",
      "  ogr_write(\n",
      "/work/comphyd_lab/users/darri/data/CONFLUENCE_data/installs/conf-env/lib/python3.11/site-packages/pyogrio/raw.py:723: RuntimeWarning: Value 482862192.655931294 of field AS2 of feature 9 not successfully written. Possibly due to too larger number with respect to field width\n",
      "  ogr_write(\n",
      "/work/comphyd_lab/users/darri/data/CONFLUENCE_data/installs/conf-env/lib/python3.11/site-packages/pyogrio/raw.py:723: RuntimeWarning: Value 480236308.728175938 of field AS2 of feature 10 not successfully written. Possibly due to too larger number with respect to field width\n",
      "  ogr_write(\n",
      "/work/comphyd_lab/users/darri/data/CONFLUENCE_data/installs/conf-env/lib/python3.11/site-packages/pyogrio/raw.py:723: RuntimeWarning: Value 480236308.72810179 of field AS2 of feature 11 not successfully written. Possibly due to too larger number with respect to field width\n",
      "  ogr_write(\n",
      "/work/comphyd_lab/users/darri/data/CONFLUENCE_data/installs/conf-env/lib/python3.11/site-packages/pyogrio/raw.py:723: RuntimeWarning: Value 482862192.655856669 of field AS2 of feature 12 not successfully written. Possibly due to too larger number with respect to field width\n",
      "  ogr_write(\n",
      "/work/comphyd_lab/users/darri/data/CONFLUENCE_data/installs/conf-env/lib/python3.11/site-packages/pyogrio/raw.py:723: RuntimeWarning: Value 482862192.655931294 of field AS2 of feature 13 not successfully written. Possibly due to too larger number with respect to field width\n",
      "  ogr_write(\n",
      "/work/comphyd_lab/users/darri/data/CONFLUENCE_data/installs/conf-env/lib/python3.11/site-packages/pyogrio/raw.py:723: RuntimeWarning: Value 482862192.655931294 of field AS2 of feature 14 not successfully written. Possibly due to too larger number with respect to field width\n",
      "  ogr_write(\n",
      "/work/comphyd_lab/users/darri/data/CONFLUENCE_data/installs/conf-env/lib/python3.11/site-packages/pyogrio/raw.py:723: RuntimeWarning: Value 482862192.655893981 of field AS2 of feature 15 not successfully written. Possibly due to too larger number with respect to field width\n",
      "  ogr_write(\n",
      "/work/comphyd_lab/users/darri/data/CONFLUENCE_data/installs/conf-env/lib/python3.11/site-packages/pyogrio/raw.py:723: RuntimeWarning: Value 482862192.655856669 of field AS2 of feature 16 not successfully written. Possibly due to too larger number with respect to field width\n",
      "  ogr_write(\n",
      "/work/comphyd_lab/users/darri/data/CONFLUENCE_data/installs/conf-env/lib/python3.11/site-packages/pyogrio/raw.py:723: RuntimeWarning: Value 482862192.655931294 of field AS2 of feature 17 not successfully written. Possibly due to too larger number with respect to field width\n",
      "  ogr_write(\n",
      "/work/comphyd_lab/users/darri/data/CONFLUENCE_data/installs/conf-env/lib/python3.11/site-packages/pyogrio/raw.py:723: RuntimeWarning: Value 482862192.655893981 of field AS2 of feature 18 not successfully written. Possibly due to too larger number with respect to field width\n",
      "  ogr_write(\n",
      "/work/comphyd_lab/users/darri/data/CONFLUENCE_data/installs/conf-env/lib/python3.11/site-packages/pyogrio/raw.py:723: RuntimeWarning: Value 485478527.571617365 of field AS2 of feature 19 not successfully written. Possibly due to too larger number with respect to field width\n",
      "  ogr_write(\n",
      "/work/comphyd_lab/users/darri/data/CONFLUENCE_data/installs/conf-env/lib/python3.11/site-packages/pyogrio/raw.py:723: RuntimeWarning: Value 482862192.655893981 of field AS2 of feature 20 not successfully written. Possibly due to too larger number with respect to field width\n",
      "  ogr_write(\n",
      "/work/comphyd_lab/users/darri/data/CONFLUENCE_data/installs/conf-env/lib/python3.11/site-packages/pyogrio/raw.py:723: RuntimeWarning: Value 485478527.571654856 of field AS2 of feature 21 not successfully written. Possibly due to too larger number with respect to field width\n",
      "  ogr_write(\n",
      "/work/comphyd_lab/users/darri/data/CONFLUENCE_data/installs/conf-env/lib/python3.11/site-packages/pyogrio/raw.py:723: RuntimeWarning: Value 482862192.655931294 of field AS2 of feature 22 not successfully written. Possibly due to too larger number with respect to field width\n",
      "  ogr_write(\n",
      "/work/comphyd_lab/users/darri/data/CONFLUENCE_data/installs/conf-env/lib/python3.11/site-packages/pyogrio/raw.py:723: RuntimeWarning: Value 482862192.655893981 of field AS2 of feature 23 not successfully written. Possibly due to too larger number with respect to field width\n",
      "  ogr_write(\n",
      "/work/comphyd_lab/users/darri/data/CONFLUENCE_data/installs/conf-env/lib/python3.11/site-packages/pyogrio/raw.py:723: RuntimeWarning: Value 482862192.655931294 of field AS2 of feature 24 not successfully written. Possibly due to too larger number with respect to field width\n",
      "  ogr_write(\n",
      "/work/comphyd_lab/users/darri/data/CONFLUENCE_data/installs/conf-env/lib/python3.11/site-packages/pyogrio/raw.py:723: RuntimeWarning: Value 485478527.571654856 of field AS2 of feature 25 not successfully written. Possibly due to too larger number with respect to field width\n",
      "  ogr_write(\n",
      "/work/comphyd_lab/users/darri/data/CONFLUENCE_data/installs/conf-env/lib/python3.11/site-packages/pyogrio/raw.py:723: RuntimeWarning: Value 482862192.655931294 of field AS2 of feature 26 not successfully written. Possibly due to too larger number with respect to field width\n",
      "  ogr_write(\n",
      "/work/comphyd_lab/users/darri/data/CONFLUENCE_data/installs/conf-env/lib/python3.11/site-packages/pyogrio/raw.py:723: RuntimeWarning: Value 123420378.353142783 of field S_1_GRU_ar of feature 27 not successfully written. Possibly due to too larger number with respect to field width\n",
      "  ogr_write(\n",
      "/work/comphyd_lab/users/darri/data/CONFLUENCE_data/installs/conf-env/lib/python3.11/site-packages/pyogrio/raw.py:723: RuntimeWarning: Value 123420378.353142783 of field S_1_HRU_ar of feature 27 not successfully written. Possibly due to too larger number with respect to field width\n",
      "  ogr_write(\n",
      "/work/comphyd_lab/users/darri/data/CONFLUENCE_data/installs/conf-env/lib/python3.11/site-packages/pyogrio/raw.py:723: RuntimeWarning: Value 123500368.852295503 of field AS1 of feature 27 not successfully written. Possibly due to too larger number with respect to field width\n",
      "  ogr_write(\n",
      "/work/comphyd_lab/users/darri/data/CONFLUENCE_data/installs/conf-env/lib/python3.11/site-packages/pyogrio/raw.py:723: RuntimeWarning: Value 485478527.571617365 of field AS2 of feature 27 not successfully written. Possibly due to too larger number with respect to field width\n",
      "  ogr_write(\n",
      "/work/comphyd_lab/users/darri/data/CONFLUENCE_data/installs/conf-env/lib/python3.11/site-packages/pyogrio/raw.py:723: RuntimeWarning: Value 123420378.353142783 of field S_1_GRU_ar of feature 28 not successfully written. Possibly due to too larger number with respect to field width\n",
      "  ogr_write(\n",
      "/work/comphyd_lab/users/darri/data/CONFLUENCE_data/installs/conf-env/lib/python3.11/site-packages/pyogrio/raw.py:723: RuntimeWarning: Value 123420378.353142783 of field S_1_HRU_ar of feature 28 not successfully written. Possibly due to too larger number with respect to field width\n",
      "  ogr_write(\n",
      "/work/comphyd_lab/users/darri/data/CONFLUENCE_data/installs/conf-env/lib/python3.11/site-packages/pyogrio/raw.py:723: RuntimeWarning: Value 123500368.852295503 of field AS1 of feature 28 not successfully written. Possibly due to too larger number with respect to field width\n",
      "  ogr_write(\n",
      "/work/comphyd_lab/users/darri/data/CONFLUENCE_data/installs/conf-env/lib/python3.11/site-packages/pyogrio/raw.py:723: RuntimeWarning: Value 485478527.571542382 of field AS2 of feature 28 not successfully written. Possibly due to too larger number with respect to field width\n",
      "  ogr_write(\n",
      "/work/comphyd_lab/users/darri/data/CONFLUENCE_data/installs/conf-env/lib/python3.11/site-packages/pyogrio/raw.py:723: RuntimeWarning: Value 123420378.353142783 of field S_1_GRU_ar of feature 29 not successfully written. Possibly due to too larger number with respect to field width\n",
      "  ogr_write(\n",
      "/work/comphyd_lab/users/darri/data/CONFLUENCE_data/installs/conf-env/lib/python3.11/site-packages/pyogrio/raw.py:723: RuntimeWarning: Value 123420378.353142783 of field S_1_HRU_ar of feature 29 not successfully written. Possibly due to too larger number with respect to field width\n",
      "  ogr_write(\n",
      "/work/comphyd_lab/users/darri/data/CONFLUENCE_data/installs/conf-env/lib/python3.11/site-packages/pyogrio/raw.py:723: RuntimeWarning: Value 123500368.852295503 of field AS1 of feature 29 not successfully written. Possibly due to too larger number with respect to field width\n",
      "  ogr_write(\n",
      "/work/comphyd_lab/users/darri/data/CONFLUENCE_data/installs/conf-env/lib/python3.11/site-packages/pyogrio/raw.py:723: RuntimeWarning: Value 482862192.655893981 of field AS2 of feature 29 not successfully written. Possibly due to too larger number with respect to field width\n",
      "  ogr_write(\n",
      "/work/comphyd_lab/users/darri/data/CONFLUENCE_data/installs/conf-env/lib/python3.11/site-packages/pyogrio/raw.py:723: RuntimeWarning: Value 485478527.571654856 of field AS2 of feature 30 not successfully written. Possibly due to too larger number with respect to field width\n",
      "  ogr_write(\n",
      "/work/comphyd_lab/users/darri/data/CONFLUENCE_data/installs/conf-env/lib/python3.11/site-packages/pyogrio/raw.py:723: RuntimeWarning: Value 485478527.571617365 of field AS2 of feature 31 not successfully written. Possibly due to too larger number with respect to field width\n",
      "  ogr_write(\n",
      "/work/comphyd_lab/users/darri/data/CONFLUENCE_data/installs/conf-env/lib/python3.11/site-packages/pyogrio/raw.py:723: RuntimeWarning: Value 485478527.571617365 of field AS2 of feature 32 not successfully written. Possibly due to too larger number with respect to field width\n",
      "  ogr_write(\n",
      "/work/comphyd_lab/users/darri/data/CONFLUENCE_data/installs/conf-env/lib/python3.11/site-packages/pyogrio/raw.py:723: RuntimeWarning: Value 485478527.571542382 of field AS2 of feature 33 not successfully written. Possibly due to too larger number with respect to field width\n",
      "  ogr_write(\n",
      "/work/comphyd_lab/users/darri/data/CONFLUENCE_data/installs/conf-env/lib/python3.11/site-packages/pyogrio/raw.py:723: RuntimeWarning: Value 485478527.571654856 of field AS2 of feature 34 not successfully written. Possibly due to too larger number with respect to field width\n",
      "  ogr_write(\n",
      "/work/comphyd_lab/users/darri/data/CONFLUENCE_data/installs/conf-env/lib/python3.11/site-packages/pyogrio/raw.py:723: RuntimeWarning: Value 485478527.571617365 of field AS2 of feature 35 not successfully written. Possibly due to too larger number with respect to field width\n",
      "  ogr_write(\n",
      "/work/comphyd_lab/users/darri/data/CONFLUENCE_data/installs/conf-env/lib/python3.11/site-packages/pyogrio/raw.py:723: RuntimeWarning: Value 485478527.571542382 of field AS2 of feature 36 not successfully written. Possibly due to too larger number with respect to field width\n",
      "  ogr_write(\n",
      "/work/comphyd_lab/users/darri/data/CONFLUENCE_data/installs/conf-env/lib/python3.11/site-packages/pyogrio/raw.py:723: RuntimeWarning: Value 485478527.571617365 of field AS2 of feature 37 not successfully written. Possibly due to too larger number with respect to field width\n",
      "  ogr_write(\n",
      "/work/comphyd_lab/users/darri/data/CONFLUENCE_data/installs/conf-env/lib/python3.11/site-packages/pyogrio/raw.py:723: RuntimeWarning: Value 488085265.984459698 of field AS2 of feature 38 not successfully written. Possibly due to too larger number with respect to field width\n",
      "  ogr_write(\n",
      "/work/comphyd_lab/users/darri/data/CONFLUENCE_data/installs/conf-env/lib/python3.11/site-packages/pyogrio/raw.py:723: RuntimeWarning: Value 488085265.984535098 of field AS2 of feature 39 not successfully written. Possibly due to too larger number with respect to field width\n",
      "  ogr_write(\n",
      "/work/comphyd_lab/users/darri/data/CONFLUENCE_data/installs/conf-env/lib/python3.11/site-packages/pyogrio/raw.py:723: RuntimeWarning: Value 485478527.571617365 of field AS2 of feature 40 not successfully written. Possibly due to too larger number with respect to field width\n",
      "  ogr_write(\n",
      "/work/comphyd_lab/users/darri/data/CONFLUENCE_data/installs/conf-env/lib/python3.11/site-packages/pyogrio/raw.py:723: RuntimeWarning: Value 485478527.571542382 of field AS2 of feature 41 not successfully written. Possibly due to too larger number with respect to field width\n",
      "  ogr_write(\n",
      "/work/comphyd_lab/users/darri/data/CONFLUENCE_data/installs/conf-env/lib/python3.11/site-packages/pyogrio/raw.py:723: RuntimeWarning: Value 488085265.984535098 of field AS2 of feature 42 not successfully written. Possibly due to too larger number with respect to field width\n",
      "  ogr_write(\n",
      "/work/comphyd_lab/users/darri/data/CONFLUENCE_data/installs/conf-env/lib/python3.11/site-packages/pyogrio/raw.py:723: RuntimeWarning: Value 485478527.571617365 of field AS2 of feature 43 not successfully written. Possibly due to too larger number with respect to field width\n",
      "  ogr_write(\n",
      "/work/comphyd_lab/users/darri/data/CONFLUENCE_data/installs/conf-env/lib/python3.11/site-packages/pyogrio/raw.py:723: RuntimeWarning: Value 485478527.571617365 of field AS2 of feature 44 not successfully written. Possibly due to too larger number with respect to field width\n",
      "  ogr_write(\n",
      "/work/comphyd_lab/users/darri/data/CONFLUENCE_data/installs/conf-env/lib/python3.11/site-packages/pyogrio/raw.py:723: RuntimeWarning: Value 485478527.571542382 of field AS2 of feature 45 not successfully written. Possibly due to too larger number with respect to field width\n",
      "  ogr_write(\n",
      "/work/comphyd_lab/users/darri/data/CONFLUENCE_data/installs/conf-env/lib/python3.11/site-packages/pyogrio/raw.py:723: RuntimeWarning: Value 488085265.984459698 of field AS2 of feature 46 not successfully written. Possibly due to too larger number with respect to field width\n",
      "  ogr_write(\n",
      "/work/comphyd_lab/users/darri/data/CONFLUENCE_data/installs/conf-env/lib/python3.11/site-packages/pyogrio/raw.py:723: RuntimeWarning: Value 488085265.984535098 of field AS2 of feature 47 not successfully written. Possibly due to too larger number with respect to field width\n",
      "  ogr_write(\n",
      "/work/comphyd_lab/users/darri/data/CONFLUENCE_data/installs/conf-env/lib/python3.11/site-packages/pyogrio/raw.py:723: RuntimeWarning: Value 485478527.571542382 of field AS2 of feature 48 not successfully written. Possibly due to too larger number with respect to field width\n",
      "  ogr_write(\n",
      "/work/comphyd_lab/users/darri/data/CONFLUENCE_data/installs/conf-env/lib/python3.11/site-packages/pyogrio/raw.py:723: RuntimeWarning: Value 485478527.571617365 of field AS2 of feature 49 not successfully written. Possibly due to too larger number with respect to field width\n",
      "  ogr_write(\n",
      "/work/comphyd_lab/users/darri/data/CONFLUENCE_data/installs/conf-env/lib/python3.11/site-packages/pyogrio/raw.py:723: RuntimeWarning: Value 488085265.984535098 of field AS2 of feature 50 not successfully written. Possibly due to too larger number with respect to field width\n",
      "  ogr_write(\n",
      "/work/comphyd_lab/users/darri/data/CONFLUENCE_data/installs/conf-env/lib/python3.11/site-packages/pyogrio/raw.py:723: RuntimeWarning: Value 488085265.984459698 of field AS2 of feature 51 not successfully written. Possibly due to too larger number with respect to field width\n",
      "  ogr_write(\n",
      "/work/comphyd_lab/users/darri/data/CONFLUENCE_data/installs/conf-env/lib/python3.11/site-packages/pyogrio/raw.py:723: RuntimeWarning: Value 488085265.984459698 of field AS2 of feature 52 not successfully written. Possibly due to too larger number with respect to field width\n",
      "  ogr_write(\n",
      "/work/comphyd_lab/users/darri/data/CONFLUENCE_data/installs/conf-env/lib/python3.11/site-packages/pyogrio/raw.py:723: RuntimeWarning: Value 485478527.571542382 of field AS2 of feature 53 not successfully written. Possibly due to too larger number with respect to field width\n",
      "  ogr_write(\n",
      "/work/comphyd_lab/users/darri/data/CONFLUENCE_data/installs/conf-env/lib/python3.11/site-packages/pyogrio/raw.py:723: RuntimeWarning: Value 488085265.984459698 of field AS2 of feature 54 not successfully written. Possibly due to too larger number with respect to field width\n",
      "  ogr_write(\n",
      "/work/comphyd_lab/users/darri/data/CONFLUENCE_data/installs/conf-env/lib/python3.11/site-packages/pyogrio/raw.py:723: RuntimeWarning: Value 488085265.984459698 of field AS2 of feature 55 not successfully written. Possibly due to too larger number with respect to field width\n",
      "  ogr_write(\n",
      "/work/comphyd_lab/users/darri/data/CONFLUENCE_data/installs/conf-env/lib/python3.11/site-packages/pyogrio/raw.py:723: RuntimeWarning: Value 488085265.984535098 of field AS2 of feature 56 not successfully written. Possibly due to too larger number with respect to field width\n",
      "  ogr_write(\n",
      "/work/comphyd_lab/users/darri/data/CONFLUENCE_data/installs/conf-env/lib/python3.11/site-packages/pyogrio/raw.py:723: RuntimeWarning: Value 488085265.984459698 of field AS2 of feature 57 not successfully written. Possibly due to too larger number with respect to field width\n",
      "  ogr_write(\n",
      "/work/comphyd_lab/users/darri/data/CONFLUENCE_data/installs/conf-env/lib/python3.11/site-packages/pyogrio/raw.py:723: RuntimeWarning: Value 488085265.984535098 of field AS2 of feature 58 not successfully written. Possibly due to too larger number with respect to field width\n",
      "  ogr_write(\n",
      "/work/comphyd_lab/users/darri/data/CONFLUENCE_data/installs/conf-env/lib/python3.11/site-packages/pyogrio/raw.py:723: RuntimeWarning: Value 485478527.571617365 of field AS2 of feature 59 not successfully written. Possibly due to too larger number with respect to field width\n",
      "  ogr_write(\n",
      "/work/comphyd_lab/users/darri/data/CONFLUENCE_data/installs/conf-env/lib/python3.11/site-packages/pyogrio/raw.py:723: RuntimeWarning: Value 485478527.571542382 of field AS2 of feature 60 not successfully written. Possibly due to too larger number with respect to field width\n",
      "  ogr_write(\n",
      "/work/comphyd_lab/users/darri/data/CONFLUENCE_data/installs/conf-env/lib/python3.11/site-packages/pyogrio/raw.py:723: RuntimeWarning: Value 482862192.655893981 of field AS2 of feature 61 not successfully written. Possibly due to too larger number with respect to field width\n",
      "  ogr_write(\n",
      "/work/comphyd_lab/users/darri/data/CONFLUENCE_data/installs/conf-env/lib/python3.11/site-packages/pyogrio/raw.py:723: RuntimeWarning: Value 485478527.571617365 of field AS2 of feature 62 not successfully written. Possibly due to too larger number with respect to field width\n",
      "  ogr_write(\n",
      "/work/comphyd_lab/users/darri/data/CONFLUENCE_data/installs/conf-env/lib/python3.11/site-packages/pyogrio/raw.py:723: RuntimeWarning: Value 485478527.571617365 of field AS2 of feature 63 not successfully written. Possibly due to too larger number with respect to field width\n",
      "  ogr_write(\n",
      "/work/comphyd_lab/users/darri/data/CONFLUENCE_data/installs/conf-env/lib/python3.11/site-packages/pyogrio/raw.py:723: RuntimeWarning: Value 485478527.571542382 of field AS2 of feature 64 not successfully written. Possibly due to too larger number with respect to field width\n",
      "  ogr_write(\n",
      "/work/comphyd_lab/users/darri/data/CONFLUENCE_data/installs/conf-env/lib/python3.11/site-packages/pyogrio/raw.py:723: RuntimeWarning: Value 488085265.984459698 of field AS2 of feature 65 not successfully written. Possibly due to too larger number with respect to field width\n",
      "  ogr_write(\n",
      "/work/comphyd_lab/users/darri/data/CONFLUENCE_data/installs/conf-env/lib/python3.11/site-packages/pyogrio/raw.py:723: RuntimeWarning: Value 482862192.655931294 of field AS2 of feature 66 not successfully written. Possibly due to too larger number with respect to field width\n",
      "  ogr_write(\n",
      "/work/comphyd_lab/users/darri/data/CONFLUENCE_data/installs/conf-env/lib/python3.11/site-packages/pyogrio/raw.py:723: RuntimeWarning: Value 482862192.655931294 of field AS2 of feature 67 not successfully written. Possibly due to too larger number with respect to field width\n",
      "  ogr_write(\n",
      "/work/comphyd_lab/users/darri/data/CONFLUENCE_data/installs/conf-env/lib/python3.11/site-packages/pyogrio/raw.py:723: RuntimeWarning: Value 482862192.655893981 of field AS2 of feature 68 not successfully written. Possibly due to too larger number with respect to field width\n",
      "  ogr_write(\n",
      "/work/comphyd_lab/users/darri/data/CONFLUENCE_data/installs/conf-env/lib/python3.11/site-packages/pyogrio/raw.py:723: RuntimeWarning: Value 488085265.984459698 of field AS2 of feature 69 not successfully written. Possibly due to too larger number with respect to field width\n",
      "  ogr_write(\n",
      "/work/comphyd_lab/users/darri/data/CONFLUENCE_data/installs/conf-env/lib/python3.11/site-packages/pyogrio/raw.py:723: RuntimeWarning: Value 485478527.571542382 of field AS2 of feature 70 not successfully written. Possibly due to too larger number with respect to field width\n",
      "  ogr_write(\n",
      "/work/comphyd_lab/users/darri/data/CONFLUENCE_data/installs/conf-env/lib/python3.11/site-packages/pyogrio/raw.py:723: RuntimeWarning: Value 485478527.571617365 of field AS2 of feature 71 not successfully written. Possibly due to too larger number with respect to field width\n",
      "  ogr_write(\n",
      "/work/comphyd_lab/users/darri/data/CONFLUENCE_data/installs/conf-env/lib/python3.11/site-packages/pyogrio/raw.py:723: RuntimeWarning: Value 485478527.571542382 of field AS2 of feature 72 not successfully written. Possibly due to too larger number with respect to field width\n",
      "  ogr_write(\n",
      "/work/comphyd_lab/users/darri/data/CONFLUENCE_data/installs/conf-env/lib/python3.11/site-packages/pyogrio/raw.py:723: RuntimeWarning: Value 482862192.655931294 of field AS2 of feature 73 not successfully written. Possibly due to too larger number with respect to field width\n",
      "  ogr_write(\n",
      "/work/comphyd_lab/users/darri/data/CONFLUENCE_data/installs/conf-env/lib/python3.11/site-packages/pyogrio/raw.py:723: RuntimeWarning: Value 480236308.728175938 of field AS2 of feature 74 not successfully written. Possibly due to too larger number with respect to field width\n",
      "  ogr_write(\n",
      "/work/comphyd_lab/users/darri/data/CONFLUENCE_data/installs/conf-env/lib/python3.11/site-packages/pyogrio/raw.py:723: RuntimeWarning: Value 482862192.655931294 of field AS2 of feature 75 not successfully written. Possibly due to too larger number with respect to field width\n",
      "  ogr_write(\n",
      "/work/comphyd_lab/users/darri/data/CONFLUENCE_data/installs/conf-env/lib/python3.11/site-packages/pyogrio/raw.py:723: RuntimeWarning: Value 482862192.655931294 of field AS2 of feature 76 not successfully written. Possibly due to too larger number with respect to field width\n",
      "  ogr_write(\n",
      "/work/comphyd_lab/users/darri/data/CONFLUENCE_data/installs/conf-env/lib/python3.11/site-packages/pyogrio/raw.py:723: RuntimeWarning: Value 482862192.655931294 of field AS2 of feature 77 not successfully written. Possibly due to too larger number with respect to field width\n",
      "  ogr_write(\n",
      "/work/comphyd_lab/users/darri/data/CONFLUENCE_data/installs/conf-env/lib/python3.11/site-packages/pyogrio/raw.py:723: RuntimeWarning: Value 482862192.655931294 of field AS2 of feature 78 not successfully written. Possibly due to too larger number with respect to field width\n",
      "  ogr_write(\n",
      "/work/comphyd_lab/users/darri/data/CONFLUENCE_data/installs/conf-env/lib/python3.11/site-packages/pyogrio/raw.py:723: RuntimeWarning: Value 485478527.571654856 of field AS2 of feature 79 not successfully written. Possibly due to too larger number with respect to field width\n",
      "  ogr_write(\n",
      "/work/comphyd_lab/users/darri/data/CONFLUENCE_data/installs/conf-env/lib/python3.11/site-packages/pyogrio/raw.py:723: RuntimeWarning: Value 482862192.655931294 of field AS2 of feature 80 not successfully written. Possibly due to too larger number with respect to field width\n",
      "  ogr_write(\n",
      "/work/comphyd_lab/users/darri/data/CONFLUENCE_data/installs/conf-env/lib/python3.11/site-packages/pyogrio/raw.py:723: RuntimeWarning: Value 485478527.571654856 of field AS2 of feature 81 not successfully written. Possibly due to too larger number with respect to field width\n",
      "  ogr_write(\n",
      "/work/comphyd_lab/users/darri/data/CONFLUENCE_data/installs/conf-env/lib/python3.11/site-packages/pyogrio/raw.py:723: RuntimeWarning: Value 485478527.571617365 of field AS2 of feature 82 not successfully written. Possibly due to too larger number with respect to field width\n",
      "  ogr_write(\n",
      "/work/comphyd_lab/users/darri/data/CONFLUENCE_data/installs/conf-env/lib/python3.11/site-packages/pyogrio/raw.py:723: RuntimeWarning: Value 482862192.655931294 of field AS2 of feature 83 not successfully written. Possibly due to too larger number with respect to field width\n",
      "  ogr_write(\n",
      "/work/comphyd_lab/users/darri/data/CONFLUENCE_data/installs/conf-env/lib/python3.11/site-packages/pyogrio/raw.py:723: RuntimeWarning: Value 482862192.655893981 of field AS2 of feature 84 not successfully written. Possibly due to too larger number with respect to field width\n",
      "  ogr_write(\n",
      "/work/comphyd_lab/users/darri/data/CONFLUENCE_data/installs/conf-env/lib/python3.11/site-packages/pyogrio/raw.py:723: RuntimeWarning: Value 485478527.571617365 of field AS2 of feature 85 not successfully written. Possibly due to too larger number with respect to field width\n",
      "  ogr_write(\n",
      "/work/comphyd_lab/users/darri/data/CONFLUENCE_data/installs/conf-env/lib/python3.11/site-packages/pyogrio/raw.py:723: RuntimeWarning: Value 482862192.655893981 of field AS2 of feature 86 not successfully written. Possibly due to too larger number with respect to field width\n",
      "  ogr_write(\n",
      "/work/comphyd_lab/users/darri/data/CONFLUENCE_data/installs/conf-env/lib/python3.11/site-packages/pyogrio/raw.py:723: RuntimeWarning: Value 485478527.571654856 of field AS2 of feature 87 not successfully written. Possibly due to too larger number with respect to field width\n",
      "  ogr_write(\n",
      "/work/comphyd_lab/users/darri/data/CONFLUENCE_data/installs/conf-env/lib/python3.11/site-packages/pyogrio/raw.py:723: RuntimeWarning: Value 118867291.979016051 of field S_1_GRU_ar of feature 88 not successfully written. Possibly due to too larger number with respect to field width\n",
      "  ogr_write(\n",
      "/work/comphyd_lab/users/darri/data/CONFLUENCE_data/installs/conf-env/lib/python3.11/site-packages/pyogrio/raw.py:723: RuntimeWarning: Value 118867291.979016051 of field S_1_HRU_ar of feature 88 not successfully written. Possibly due to too larger number with respect to field width\n",
      "  ogr_write(\n",
      "/work/comphyd_lab/users/darri/data/CONFLUENCE_data/installs/conf-env/lib/python3.11/site-packages/pyogrio/raw.py:723: RuntimeWarning: Value 118948801.941520542 of field AS1 of feature 88 not successfully written. Possibly due to too larger number with respect to field width\n",
      "  ogr_write(\n",
      "/work/comphyd_lab/users/darri/data/CONFLUENCE_data/installs/conf-env/lib/python3.11/site-packages/pyogrio/raw.py:723: RuntimeWarning: Value 485478527.571654856 of field AS2 of feature 88 not successfully written. Possibly due to too larger number with respect to field width\n",
      "  ogr_write(\n",
      "/work/comphyd_lab/users/darri/data/CONFLUENCE_data/installs/conf-env/lib/python3.11/site-packages/pyogrio/raw.py:723: RuntimeWarning: Value 118867291.979016051 of field S_1_GRU_ar of feature 89 not successfully written. Possibly due to too larger number with respect to field width\n",
      "  ogr_write(\n",
      "/work/comphyd_lab/users/darri/data/CONFLUENCE_data/installs/conf-env/lib/python3.11/site-packages/pyogrio/raw.py:723: RuntimeWarning: Value 118867291.979016051 of field S_1_HRU_ar of feature 89 not successfully written. Possibly due to too larger number with respect to field width\n",
      "  ogr_write(\n",
      "/work/comphyd_lab/users/darri/data/CONFLUENCE_data/installs/conf-env/lib/python3.11/site-packages/pyogrio/raw.py:723: RuntimeWarning: Value 118948801.941520542 of field AS1 of feature 89 not successfully written. Possibly due to too larger number with respect to field width\n",
      "  ogr_write(\n",
      "/work/comphyd_lab/users/darri/data/CONFLUENCE_data/installs/conf-env/lib/python3.11/site-packages/pyogrio/raw.py:723: RuntimeWarning: Value 485478527.571617365 of field AS2 of feature 89 not successfully written. Possibly due to too larger number with respect to field width\n",
      "  ogr_write(\n",
      "/work/comphyd_lab/users/darri/data/CONFLUENCE_data/installs/conf-env/lib/python3.11/site-packages/pyogrio/raw.py:723: RuntimeWarning: Value 117802008.46835731 of field AINT of feature 89 not successfully written. Possibly due to too larger number with respect to field width\n",
      "  ogr_write(\n",
      "/work/comphyd_lab/users/darri/data/CONFLUENCE_data/installs/conf-env/lib/python3.11/site-packages/pyogrio/raw.py:723: RuntimeWarning: Value 118867291.979016051 of field S_1_GRU_ar of feature 90 not successfully written. Possibly due to too larger number with respect to field width\n",
      "  ogr_write(\n",
      "/work/comphyd_lab/users/darri/data/CONFLUENCE_data/installs/conf-env/lib/python3.11/site-packages/pyogrio/raw.py:723: RuntimeWarning: Value 118867291.979016051 of field S_1_HRU_ar of feature 90 not successfully written. Possibly due to too larger number with respect to field width\n",
      "  ogr_write(\n",
      "/work/comphyd_lab/users/darri/data/CONFLUENCE_data/installs/conf-env/lib/python3.11/site-packages/pyogrio/raw.py:723: RuntimeWarning: Value 118948801.941520542 of field AS1 of feature 90 not successfully written. Possibly due to too larger number with respect to field width\n",
      "  ogr_write(\n",
      "/work/comphyd_lab/users/darri/data/CONFLUENCE_data/installs/conf-env/lib/python3.11/site-packages/pyogrio/raw.py:723: RuntimeWarning: Value 482862192.655893981 of field AS2 of feature 90 not successfully written. Possibly due to too larger number with respect to field width\n",
      "  ogr_write(\n",
      "/work/comphyd_lab/users/darri/data/CONFLUENCE_data/installs/conf-env/lib/python3.11/site-packages/pyogrio/raw.py:723: RuntimeWarning: Value 485478527.571617365 of field AS2 of feature 91 not successfully written. Possibly due to too larger number with respect to field width\n",
      "  ogr_write(\n",
      "/work/comphyd_lab/users/darri/data/CONFLUENCE_data/installs/conf-env/lib/python3.11/site-packages/pyogrio/raw.py:723: RuntimeWarning: Value 485478527.571542382 of field AS2 of feature 92 not successfully written. Possibly due to too larger number with respect to field width\n",
      "  ogr_write(\n",
      "/work/comphyd_lab/users/darri/data/CONFLUENCE_data/installs/conf-env/lib/python3.11/site-packages/pyogrio/raw.py:723: RuntimeWarning: Value 485478527.571617365 of field AS2 of feature 93 not successfully written. Possibly due to too larger number with respect to field width\n",
      "  ogr_write(\n",
      "/work/comphyd_lab/users/darri/data/CONFLUENCE_data/installs/conf-env/lib/python3.11/site-packages/pyogrio/raw.py:723: RuntimeWarning: Value 485478527.571542382 of field AS2 of feature 94 not successfully written. Possibly due to too larger number with respect to field width\n",
      "  ogr_write(\n",
      "/work/comphyd_lab/users/darri/data/CONFLUENCE_data/installs/conf-env/lib/python3.11/site-packages/pyogrio/raw.py:723: RuntimeWarning: Value 120218048.846222728 of field S_1_GRU_ar of feature 95 not successfully written. Possibly due to too larger number with respect to field width\n",
      "  ogr_write(\n",
      "/work/comphyd_lab/users/darri/data/CONFLUENCE_data/installs/conf-env/lib/python3.11/site-packages/pyogrio/raw.py:723: RuntimeWarning: Value 120218048.846222728 of field S_1_HRU_ar of feature 95 not successfully written. Possibly due to too larger number with respect to field width\n",
      "  ogr_write(\n",
      "/work/comphyd_lab/users/darri/data/CONFLUENCE_data/installs/conf-env/lib/python3.11/site-packages/pyogrio/raw.py:723: RuntimeWarning: Value 120291943.542963356 of field AS1 of feature 95 not successfully written. Possibly due to too larger number with respect to field width\n",
      "  ogr_write(\n",
      "/work/comphyd_lab/users/darri/data/CONFLUENCE_data/installs/conf-env/lib/python3.11/site-packages/pyogrio/raw.py:723: RuntimeWarning: Value 485478527.571542382 of field AS2 of feature 95 not successfully written. Possibly due to too larger number with respect to field width\n",
      "  ogr_write(\n",
      "/work/comphyd_lab/users/darri/data/CONFLUENCE_data/installs/conf-env/lib/python3.11/site-packages/pyogrio/raw.py:723: RuntimeWarning: Value 120291943.542963251 of field AINT of feature 95 not successfully written. Possibly due to too larger number with respect to field width\n",
      "  ogr_write(\n",
      "/work/comphyd_lab/users/darri/data/CONFLUENCE_data/installs/conf-env/lib/python3.11/site-packages/pyogrio/raw.py:723: RuntimeWarning: Value 485478527.571617365 of field AS2 of feature 96 not successfully written. Possibly due to too larger number with respect to field width\n",
      "  ogr_write(\n",
      "/work/comphyd_lab/users/darri/data/CONFLUENCE_data/installs/conf-env/lib/python3.11/site-packages/pyogrio/raw.py:723: RuntimeWarning: Value 488085265.984459698 of field AS2 of feature 97 not successfully written. Possibly due to too larger number with respect to field width\n",
      "  ogr_write(\n",
      "/work/comphyd_lab/users/darri/data/CONFLUENCE_data/installs/conf-env/lib/python3.11/site-packages/pyogrio/raw.py:723: RuntimeWarning: Value 485478527.571542382 of field AS2 of feature 98 not successfully written. Possibly due to too larger number with respect to field width\n",
      "  ogr_write(\n",
      "/work/comphyd_lab/users/darri/data/CONFLUENCE_data/installs/conf-env/lib/python3.11/site-packages/pyogrio/raw.py:723: RuntimeWarning: Value 485478527.571542382 of field AS2 of feature 99 not successfully written. Possibly due to too larger number with respect to field width\n",
      "  ogr_write(\n",
      "/work/comphyd_lab/users/darri/data/CONFLUENCE_data/installs/conf-env/lib/python3.11/site-packages/pyogrio/raw.py:723: RuntimeWarning: Value 485478527.571617365 of field AS2 of feature 100 not successfully written. Possibly due to too larger number with respect to field width\n",
      "  ogr_write(\n",
      "/work/comphyd_lab/users/darri/data/CONFLUENCE_data/installs/conf-env/lib/python3.11/site-packages/pyogrio/raw.py:723: RuntimeWarning: Value 485478527.571617365 of field AS2 of feature 101 not successfully written. Possibly due to too larger number with respect to field width\n",
      "  ogr_write(\n",
      "2025-05-13 17:13:54,501 - pyogrio._io - INFO - Created 102 records\n",
      "/work/comphyd_lab/users/darri/data/CONFLUENCE_data/installs/conf-env/lib/python3.11/site-packages/easymore/remapper.py:558: DeprecationWarning: dropping variables using `drop` is deprecated; use drop_vars.\n",
      "  attr = attr.drop('index')\n"
     ]
    },
    {
     "name": "stdout",
     "output_type": "stream",
     "text": [
      "Ended at date and time 2025-05-13 17:13:54.648145\n",
      "It took 1.26767 seconds to finish creating of the remapping file\n",
      "---------------------------\n",
      "Running within a SLURM job.\n",
      "SLURM environment variables found: ['SLURM_JOBID', 'SLURM_JOB_NAME', 'SLURM_NODELIST']\n",
      "------REMAPPING------\n",
      "netcdf output file will be compressed at level 4\n",
      "Remapping /work/comphyd_lab/data/CONFLUENCE_data/domain_Bow_at_Banff_distributed/forcing/raw_data/domain_Bow_at_Banff_distributed_ERA5_merged_202102.nc to /work/comphyd_lab/data/CONFLUENCE_data/domain_Bow_at_Banff_distributed/forcing/basin_averaged_data/Bow_at_Banff_distributed_ERA5_remapped_domain_Bow_at_Banff_distributed_ERA5_merged_202102.nc \n",
      "Started at date and time 2025-05-13 17:13:54.788977 \n",
      "Ended at date and time 2025-05-13 17:14:16.312158 \n",
      "It took 21.523181 seconds to finish the remapping of variable(s) \n",
      "---------------------\n",
      "---------------------\n",
      "17:14:16 - INFO - Worker 0: Successfully processed domain_Bow_at_Banff_distributed_ERA5_merged_202102.nc in 23.30 seconds\n"
     ]
    },
    {
     "name": "stderr",
     "output_type": "stream",
     "text": [
      "2025-05-13 17:14:16,364 - confluence_general - INFO - Worker 0: Successfully processed domain_Bow_at_Banff_distributed_ERA5_merged_202102.nc in 23.30 seconds\n"
     ]
    },
    {
     "name": "stdout",
     "output_type": "stream",
     "text": [
      "17:14:16 - INFO - Batch 1/1 complete: 1/1 successful\n"
     ]
    },
    {
     "name": "stderr",
     "output_type": "stream",
     "text": [
      "2025-05-13 17:14:16,400 - confluence_general - INFO - Batch 1/1 complete: 1/1 successful\n"
     ]
    },
    {
     "name": "stdout",
     "output_type": "stream",
     "text": [
      "17:14:16 - INFO - Processing complete: 1 files processed successfully out of 1\n"
     ]
    },
    {
     "name": "stderr",
     "output_type": "stream",
     "text": [
      "2025-05-13 17:14:16,652 - confluence_general - INFO - Processing complete: 1 files processed successfully out of 1\n"
     ]
    },
    {
     "name": "stdout",
     "output_type": "stream",
     "text": [
      "17:14:16 - INFO - Total files processed or skipped: 276 out of 276\n"
     ]
    },
    {
     "name": "stderr",
     "output_type": "stream",
     "text": [
      "2025-05-13 17:14:16,656 - confluence_general - INFO - Total files processed or skipped: 276 out of 276\n"
     ]
    },
    {
     "name": "stdout",
     "output_type": "stream",
     "text": [
      "17:14:16 - INFO - Forcing remapping process completed\n"
     ]
    },
    {
     "name": "stderr",
     "output_type": "stream",
     "text": [
      "2025-05-13 17:14:16,660 - confluence_general - INFO - Forcing remapping process completed\n"
     ]
    },
    {
     "name": "stdout",
     "output_type": "stream",
     "text": [
      "17:14:16 - INFO - Forcing data resampling process completed\n"
     ]
    },
    {
     "name": "stderr",
     "output_type": "stream",
     "text": [
      "2025-05-13 17:14:16,663 - confluence_general - INFO - Forcing data resampling process completed\n"
     ]
    },
    {
     "name": "stdout",
     "output_type": "stream",
     "text": [
      "17:14:16 - INFO - Model-agnostic preprocessing completed successfully\n"
     ]
    },
    {
     "name": "stderr",
     "output_type": "stream",
     "text": [
      "2025-05-13 17:14:16,667 - confluence_general - INFO - Model-agnostic preprocessing completed successfully\n"
     ]
    },
    {
     "name": "stdout",
     "output_type": "stream",
     "text": [
      "\n",
      "✓ Model-agnostic preprocessing completed\n"
     ]
    }
   ],
   "source": [
    "# Model Agnostic Data Processing - Preprocessing\n",
    "print(\"\\nRunning model-agnostic preprocessing...\")\n",
    "\n",
    "confluence.managers['data'].run_model_agnostic_preprocessing()\n",
    "\n",
    "print(\"\\n✓ Model-agnostic preprocessing completed\")"
   ]
  },
  {
   "cell_type": "markdown",
   "metadata": {},
   "source": [
    "## Model-Specific Processing - Preprocessing\n",
    "\n",
    "Now we prepare inputs specific to our chosen hydrological model (SUMMA in this case), set up for a distributed configuration."
   ]
  },
  {
   "cell_type": "code",
   "execution_count": 19,
   "metadata": {
    "scrolled": true
   },
   "outputs": [
    {
     "name": "stdout",
     "output_type": "stream",
     "text": [
      "=== Model Specific Processing and Initialization ===\n",
      "Preparing SUMMA input files...\n",
      "Note: For distributed mode with SUMMA, this includes generating:\n",
      "  - Model parameter files for each GRU\n",
      "  - Routing configuration for river network\n",
      "17:42:22 - INFO - Starting model-specific preprocessing\n"
     ]
    },
    {
     "name": "stderr",
     "output_type": "stream",
     "text": [
      "2025-05-13 17:42:22,615 - confluence_general - INFO - Starting model-specific preprocessing\n"
     ]
    },
    {
     "name": "stdout",
     "output_type": "stream",
     "text": [
      "17:42:22 - INFO - Processing model: SUMMA\n"
     ]
    },
    {
     "name": "stderr",
     "output_type": "stream",
     "text": [
      "2025-05-13 17:42:22,633 - confluence_general - INFO - Processing model: SUMMA\n"
     ]
    },
    {
     "name": "stdout",
     "output_type": "stream",
     "text": [
      "17:42:22 - INFO - Starting SUMMA spatial preprocessing\n"
     ]
    },
    {
     "name": "stderr",
     "output_type": "stream",
     "text": [
      "2025-05-13 17:42:22,635 - confluence_general - INFO - Starting SUMMA spatial preprocessing\n"
     ]
    },
    {
     "name": "stdout",
     "output_type": "stream",
     "text": [
      "17:42:22 - INFO - Starting to apply temperature lapse rate and add data step\n"
     ]
    },
    {
     "name": "stderr",
     "output_type": "stream",
     "text": [
      "2025-05-13 17:42:22,637 - confluence_general - INFO - Starting to apply temperature lapse rate and add data step\n"
     ]
    },
    {
     "name": "stdout",
     "output_type": "stream",
     "text": [
      "17:42:22 - INFO - forcing files: ['Bow_at_Banff_distributed_ERA5_remapped_domain_Bow_at_Banff_distributed_ERA5_merged_200001.nc', 'Bow_at_Banff_distributed_ERA5_remapped_domain_Bow_at_Banff_distributed_ERA5_merged_200002.nc', 'Bow_at_Banff_distributed_ERA5_remapped_domain_Bow_at_Banff_distributed_ERA5_merged_200003.nc', 'Bow_at_Banff_distributed_ERA5_remapped_domain_Bow_at_Banff_distributed_ERA5_merged_200004.nc', 'Bow_at_Banff_distributed_ERA5_remapped_domain_Bow_at_Banff_distributed_ERA5_merged_200005.nc', 'Bow_at_Banff_distributed_ERA5_remapped_domain_Bow_at_Banff_distributed_ERA5_merged_200006.nc', 'Bow_at_Banff_distributed_ERA5_remapped_domain_Bow_at_Banff_distributed_ERA5_merged_200007.nc', 'Bow_at_Banff_distributed_ERA5_remapped_domain_Bow_at_Banff_distributed_ERA5_merged_200008.nc', 'Bow_at_Banff_distributed_ERA5_remapped_domain_Bow_at_Banff_distributed_ERA5_merged_200009.nc', 'Bow_at_Banff_distributed_ERA5_remapped_domain_Bow_at_Banff_distributed_ERA5_merged_200010.nc', 'Bow_at_Banff_distributed_ERA5_remapped_domain_Bow_at_Banff_distributed_ERA5_merged_200011.nc', 'Bow_at_Banff_distributed_ERA5_remapped_domain_Bow_at_Banff_distributed_ERA5_merged_200012.nc', 'Bow_at_Banff_distributed_ERA5_remapped_domain_Bow_at_Banff_distributed_ERA5_merged_200101.nc', 'Bow_at_Banff_distributed_ERA5_remapped_domain_Bow_at_Banff_distributed_ERA5_merged_200102.nc', 'Bow_at_Banff_distributed_ERA5_remapped_domain_Bow_at_Banff_distributed_ERA5_merged_200103.nc', 'Bow_at_Banff_distributed_ERA5_remapped_domain_Bow_at_Banff_distributed_ERA5_merged_200104.nc', 'Bow_at_Banff_distributed_ERA5_remapped_domain_Bow_at_Banff_distributed_ERA5_merged_200105.nc', 'Bow_at_Banff_distributed_ERA5_remapped_domain_Bow_at_Banff_distributed_ERA5_merged_200106.nc', 'Bow_at_Banff_distributed_ERA5_remapped_domain_Bow_at_Banff_distributed_ERA5_merged_200107.nc', 'Bow_at_Banff_distributed_ERA5_remapped_domain_Bow_at_Banff_distributed_ERA5_merged_200108.nc', 'Bow_at_Banff_distributed_ERA5_remapped_domain_Bow_at_Banff_distributed_ERA5_merged_200109.nc', 'Bow_at_Banff_distributed_ERA5_remapped_domain_Bow_at_Banff_distributed_ERA5_merged_200110.nc', 'Bow_at_Banff_distributed_ERA5_remapped_domain_Bow_at_Banff_distributed_ERA5_merged_200111.nc', 'Bow_at_Banff_distributed_ERA5_remapped_domain_Bow_at_Banff_distributed_ERA5_merged_200112.nc', 'Bow_at_Banff_distributed_ERA5_remapped_domain_Bow_at_Banff_distributed_ERA5_merged_200201.nc', 'Bow_at_Banff_distributed_ERA5_remapped_domain_Bow_at_Banff_distributed_ERA5_merged_200202.nc', 'Bow_at_Banff_distributed_ERA5_remapped_domain_Bow_at_Banff_distributed_ERA5_merged_200203.nc', 'Bow_at_Banff_distributed_ERA5_remapped_domain_Bow_at_Banff_distributed_ERA5_merged_200204.nc', 'Bow_at_Banff_distributed_ERA5_remapped_domain_Bow_at_Banff_distributed_ERA5_merged_200205.nc', 'Bow_at_Banff_distributed_ERA5_remapped_domain_Bow_at_Banff_distributed_ERA5_merged_200206.nc', 'Bow_at_Banff_distributed_ERA5_remapped_domain_Bow_at_Banff_distributed_ERA5_merged_200207.nc', 'Bow_at_Banff_distributed_ERA5_remapped_domain_Bow_at_Banff_distributed_ERA5_merged_200208.nc', 'Bow_at_Banff_distributed_ERA5_remapped_domain_Bow_at_Banff_distributed_ERA5_merged_200209.nc', 'Bow_at_Banff_distributed_ERA5_remapped_domain_Bow_at_Banff_distributed_ERA5_merged_200210.nc', 'Bow_at_Banff_distributed_ERA5_remapped_domain_Bow_at_Banff_distributed_ERA5_merged_200211.nc', 'Bow_at_Banff_distributed_ERA5_remapped_domain_Bow_at_Banff_distributed_ERA5_merged_200212.nc', 'Bow_at_Banff_distributed_ERA5_remapped_domain_Bow_at_Banff_distributed_ERA5_merged_200301.nc', 'Bow_at_Banff_distributed_ERA5_remapped_domain_Bow_at_Banff_distributed_ERA5_merged_200302.nc', 'Bow_at_Banff_distributed_ERA5_remapped_domain_Bow_at_Banff_distributed_ERA5_merged_200303.nc', 'Bow_at_Banff_distributed_ERA5_remapped_domain_Bow_at_Banff_distributed_ERA5_merged_200304.nc', 'Bow_at_Banff_distributed_ERA5_remapped_domain_Bow_at_Banff_distributed_ERA5_merged_200305.nc', 'Bow_at_Banff_distributed_ERA5_remapped_domain_Bow_at_Banff_distributed_ERA5_merged_200306.nc', 'Bow_at_Banff_distributed_ERA5_remapped_domain_Bow_at_Banff_distributed_ERA5_merged_200307.nc', 'Bow_at_Banff_distributed_ERA5_remapped_domain_Bow_at_Banff_distributed_ERA5_merged_200308.nc', 'Bow_at_Banff_distributed_ERA5_remapped_domain_Bow_at_Banff_distributed_ERA5_merged_200309.nc', 'Bow_at_Banff_distributed_ERA5_remapped_domain_Bow_at_Banff_distributed_ERA5_merged_200310.nc', 'Bow_at_Banff_distributed_ERA5_remapped_domain_Bow_at_Banff_distributed_ERA5_merged_200311.nc', 'Bow_at_Banff_distributed_ERA5_remapped_domain_Bow_at_Banff_distributed_ERA5_merged_200312.nc', 'Bow_at_Banff_distributed_ERA5_remapped_domain_Bow_at_Banff_distributed_ERA5_merged_200401.nc', 'Bow_at_Banff_distributed_ERA5_remapped_domain_Bow_at_Banff_distributed_ERA5_merged_200402.nc', 'Bow_at_Banff_distributed_ERA5_remapped_domain_Bow_at_Banff_distributed_ERA5_merged_200403.nc', 'Bow_at_Banff_distributed_ERA5_remapped_domain_Bow_at_Banff_distributed_ERA5_merged_200404.nc', 'Bow_at_Banff_distributed_ERA5_remapped_domain_Bow_at_Banff_distributed_ERA5_merged_200405.nc', 'Bow_at_Banff_distributed_ERA5_remapped_domain_Bow_at_Banff_distributed_ERA5_merged_200406.nc', 'Bow_at_Banff_distributed_ERA5_remapped_domain_Bow_at_Banff_distributed_ERA5_merged_200407.nc', 'Bow_at_Banff_distributed_ERA5_remapped_domain_Bow_at_Banff_distributed_ERA5_merged_200408.nc', 'Bow_at_Banff_distributed_ERA5_remapped_domain_Bow_at_Banff_distributed_ERA5_merged_200409.nc', 'Bow_at_Banff_distributed_ERA5_remapped_domain_Bow_at_Banff_distributed_ERA5_merged_200410.nc', 'Bow_at_Banff_distributed_ERA5_remapped_domain_Bow_at_Banff_distributed_ERA5_merged_200411.nc', 'Bow_at_Banff_distributed_ERA5_remapped_domain_Bow_at_Banff_distributed_ERA5_merged_200412.nc', 'Bow_at_Banff_distributed_ERA5_remapped_domain_Bow_at_Banff_distributed_ERA5_merged_200501.nc', 'Bow_at_Banff_distributed_ERA5_remapped_domain_Bow_at_Banff_distributed_ERA5_merged_200502.nc', 'Bow_at_Banff_distributed_ERA5_remapped_domain_Bow_at_Banff_distributed_ERA5_merged_200503.nc', 'Bow_at_Banff_distributed_ERA5_remapped_domain_Bow_at_Banff_distributed_ERA5_merged_200504.nc', 'Bow_at_Banff_distributed_ERA5_remapped_domain_Bow_at_Banff_distributed_ERA5_merged_200505.nc', 'Bow_at_Banff_distributed_ERA5_remapped_domain_Bow_at_Banff_distributed_ERA5_merged_200506.nc', 'Bow_at_Banff_distributed_ERA5_remapped_domain_Bow_at_Banff_distributed_ERA5_merged_200507.nc', 'Bow_at_Banff_distributed_ERA5_remapped_domain_Bow_at_Banff_distributed_ERA5_merged_200508.nc', 'Bow_at_Banff_distributed_ERA5_remapped_domain_Bow_at_Banff_distributed_ERA5_merged_200509.nc', 'Bow_at_Banff_distributed_ERA5_remapped_domain_Bow_at_Banff_distributed_ERA5_merged_200510.nc', 'Bow_at_Banff_distributed_ERA5_remapped_domain_Bow_at_Banff_distributed_ERA5_merged_200511.nc', 'Bow_at_Banff_distributed_ERA5_remapped_domain_Bow_at_Banff_distributed_ERA5_merged_200512.nc', 'Bow_at_Banff_distributed_ERA5_remapped_domain_Bow_at_Banff_distributed_ERA5_merged_200601.nc', 'Bow_at_Banff_distributed_ERA5_remapped_domain_Bow_at_Banff_distributed_ERA5_merged_200602.nc', 'Bow_at_Banff_distributed_ERA5_remapped_domain_Bow_at_Banff_distributed_ERA5_merged_200603.nc', 'Bow_at_Banff_distributed_ERA5_remapped_domain_Bow_at_Banff_distributed_ERA5_merged_200604.nc', 'Bow_at_Banff_distributed_ERA5_remapped_domain_Bow_at_Banff_distributed_ERA5_merged_200605.nc', 'Bow_at_Banff_distributed_ERA5_remapped_domain_Bow_at_Banff_distributed_ERA5_merged_200606.nc', 'Bow_at_Banff_distributed_ERA5_remapped_domain_Bow_at_Banff_distributed_ERA5_merged_200607.nc', 'Bow_at_Banff_distributed_ERA5_remapped_domain_Bow_at_Banff_distributed_ERA5_merged_200608.nc', 'Bow_at_Banff_distributed_ERA5_remapped_domain_Bow_at_Banff_distributed_ERA5_merged_200609.nc', 'Bow_at_Banff_distributed_ERA5_remapped_domain_Bow_at_Banff_distributed_ERA5_merged_200610.nc', 'Bow_at_Banff_distributed_ERA5_remapped_domain_Bow_at_Banff_distributed_ERA5_merged_200611.nc', 'Bow_at_Banff_distributed_ERA5_remapped_domain_Bow_at_Banff_distributed_ERA5_merged_200612.nc', 'Bow_at_Banff_distributed_ERA5_remapped_domain_Bow_at_Banff_distributed_ERA5_merged_200701.nc', 'Bow_at_Banff_distributed_ERA5_remapped_domain_Bow_at_Banff_distributed_ERA5_merged_200702.nc', 'Bow_at_Banff_distributed_ERA5_remapped_domain_Bow_at_Banff_distributed_ERA5_merged_200703.nc', 'Bow_at_Banff_distributed_ERA5_remapped_domain_Bow_at_Banff_distributed_ERA5_merged_200704.nc', 'Bow_at_Banff_distributed_ERA5_remapped_domain_Bow_at_Banff_distributed_ERA5_merged_200705.nc', 'Bow_at_Banff_distributed_ERA5_remapped_domain_Bow_at_Banff_distributed_ERA5_merged_200706.nc', 'Bow_at_Banff_distributed_ERA5_remapped_domain_Bow_at_Banff_distributed_ERA5_merged_200707.nc', 'Bow_at_Banff_distributed_ERA5_remapped_domain_Bow_at_Banff_distributed_ERA5_merged_200708.nc', 'Bow_at_Banff_distributed_ERA5_remapped_domain_Bow_at_Banff_distributed_ERA5_merged_200709.nc', 'Bow_at_Banff_distributed_ERA5_remapped_domain_Bow_at_Banff_distributed_ERA5_merged_200710.nc', 'Bow_at_Banff_distributed_ERA5_remapped_domain_Bow_at_Banff_distributed_ERA5_merged_200711.nc', 'Bow_at_Banff_distributed_ERA5_remapped_domain_Bow_at_Banff_distributed_ERA5_merged_200712.nc', 'Bow_at_Banff_distributed_ERA5_remapped_domain_Bow_at_Banff_distributed_ERA5_merged_200801.nc', 'Bow_at_Banff_distributed_ERA5_remapped_domain_Bow_at_Banff_distributed_ERA5_merged_200802.nc', 'Bow_at_Banff_distributed_ERA5_remapped_domain_Bow_at_Banff_distributed_ERA5_merged_200803.nc', 'Bow_at_Banff_distributed_ERA5_remapped_domain_Bow_at_Banff_distributed_ERA5_merged_200804.nc', 'Bow_at_Banff_distributed_ERA5_remapped_domain_Bow_at_Banff_distributed_ERA5_merged_200805.nc', 'Bow_at_Banff_distributed_ERA5_remapped_domain_Bow_at_Banff_distributed_ERA5_merged_200806.nc', 'Bow_at_Banff_distributed_ERA5_remapped_domain_Bow_at_Banff_distributed_ERA5_merged_200807.nc', 'Bow_at_Banff_distributed_ERA5_remapped_domain_Bow_at_Banff_distributed_ERA5_merged_200808.nc', 'Bow_at_Banff_distributed_ERA5_remapped_domain_Bow_at_Banff_distributed_ERA5_merged_200809.nc', 'Bow_at_Banff_distributed_ERA5_remapped_domain_Bow_at_Banff_distributed_ERA5_merged_200810.nc', 'Bow_at_Banff_distributed_ERA5_remapped_domain_Bow_at_Banff_distributed_ERA5_merged_200811.nc', 'Bow_at_Banff_distributed_ERA5_remapped_domain_Bow_at_Banff_distributed_ERA5_merged_200812.nc', 'Bow_at_Banff_distributed_ERA5_remapped_domain_Bow_at_Banff_distributed_ERA5_merged_200901.nc', 'Bow_at_Banff_distributed_ERA5_remapped_domain_Bow_at_Banff_distributed_ERA5_merged_200902.nc', 'Bow_at_Banff_distributed_ERA5_remapped_domain_Bow_at_Banff_distributed_ERA5_merged_200903.nc', 'Bow_at_Banff_distributed_ERA5_remapped_domain_Bow_at_Banff_distributed_ERA5_merged_200904.nc', 'Bow_at_Banff_distributed_ERA5_remapped_domain_Bow_at_Banff_distributed_ERA5_merged_200905.nc', 'Bow_at_Banff_distributed_ERA5_remapped_domain_Bow_at_Banff_distributed_ERA5_merged_200906.nc', 'Bow_at_Banff_distributed_ERA5_remapped_domain_Bow_at_Banff_distributed_ERA5_merged_200907.nc', 'Bow_at_Banff_distributed_ERA5_remapped_domain_Bow_at_Banff_distributed_ERA5_merged_200908.nc', 'Bow_at_Banff_distributed_ERA5_remapped_domain_Bow_at_Banff_distributed_ERA5_merged_200909.nc', 'Bow_at_Banff_distributed_ERA5_remapped_domain_Bow_at_Banff_distributed_ERA5_merged_200910.nc', 'Bow_at_Banff_distributed_ERA5_remapped_domain_Bow_at_Banff_distributed_ERA5_merged_200911.nc', 'Bow_at_Banff_distributed_ERA5_remapped_domain_Bow_at_Banff_distributed_ERA5_merged_200912.nc', 'Bow_at_Banff_distributed_ERA5_remapped_domain_Bow_at_Banff_distributed_ERA5_merged_201001.nc', 'Bow_at_Banff_distributed_ERA5_remapped_domain_Bow_at_Banff_distributed_ERA5_merged_201002.nc', 'Bow_at_Banff_distributed_ERA5_remapped_domain_Bow_at_Banff_distributed_ERA5_merged_201003.nc', 'Bow_at_Banff_distributed_ERA5_remapped_domain_Bow_at_Banff_distributed_ERA5_merged_201004.nc', 'Bow_at_Banff_distributed_ERA5_remapped_domain_Bow_at_Banff_distributed_ERA5_merged_201005.nc', 'Bow_at_Banff_distributed_ERA5_remapped_domain_Bow_at_Banff_distributed_ERA5_merged_201006.nc', 'Bow_at_Banff_distributed_ERA5_remapped_domain_Bow_at_Banff_distributed_ERA5_merged_201007.nc', 'Bow_at_Banff_distributed_ERA5_remapped_domain_Bow_at_Banff_distributed_ERA5_merged_201008.nc', 'Bow_at_Banff_distributed_ERA5_remapped_domain_Bow_at_Banff_distributed_ERA5_merged_201009.nc', 'Bow_at_Banff_distributed_ERA5_remapped_domain_Bow_at_Banff_distributed_ERA5_merged_201010.nc', 'Bow_at_Banff_distributed_ERA5_remapped_domain_Bow_at_Banff_distributed_ERA5_merged_201011.nc', 'Bow_at_Banff_distributed_ERA5_remapped_domain_Bow_at_Banff_distributed_ERA5_merged_201012.nc', 'Bow_at_Banff_distributed_ERA5_remapped_domain_Bow_at_Banff_distributed_ERA5_merged_201101.nc', 'Bow_at_Banff_distributed_ERA5_remapped_domain_Bow_at_Banff_distributed_ERA5_merged_201102.nc', 'Bow_at_Banff_distributed_ERA5_remapped_domain_Bow_at_Banff_distributed_ERA5_merged_201103.nc', 'Bow_at_Banff_distributed_ERA5_remapped_domain_Bow_at_Banff_distributed_ERA5_merged_201104.nc', 'Bow_at_Banff_distributed_ERA5_remapped_domain_Bow_at_Banff_distributed_ERA5_merged_201105.nc', 'Bow_at_Banff_distributed_ERA5_remapped_domain_Bow_at_Banff_distributed_ERA5_merged_201106.nc', 'Bow_at_Banff_distributed_ERA5_remapped_domain_Bow_at_Banff_distributed_ERA5_merged_201107.nc', 'Bow_at_Banff_distributed_ERA5_remapped_domain_Bow_at_Banff_distributed_ERA5_merged_201108.nc', 'Bow_at_Banff_distributed_ERA5_remapped_domain_Bow_at_Banff_distributed_ERA5_merged_201109.nc', 'Bow_at_Banff_distributed_ERA5_remapped_domain_Bow_at_Banff_distributed_ERA5_merged_201110.nc', 'Bow_at_Banff_distributed_ERA5_remapped_domain_Bow_at_Banff_distributed_ERA5_merged_201111.nc', 'Bow_at_Banff_distributed_ERA5_remapped_domain_Bow_at_Banff_distributed_ERA5_merged_201112.nc', 'Bow_at_Banff_distributed_ERA5_remapped_domain_Bow_at_Banff_distributed_ERA5_merged_201201.nc', 'Bow_at_Banff_distributed_ERA5_remapped_domain_Bow_at_Banff_distributed_ERA5_merged_201202.nc', 'Bow_at_Banff_distributed_ERA5_remapped_domain_Bow_at_Banff_distributed_ERA5_merged_201203.nc', 'Bow_at_Banff_distributed_ERA5_remapped_domain_Bow_at_Banff_distributed_ERA5_merged_201204.nc', 'Bow_at_Banff_distributed_ERA5_remapped_domain_Bow_at_Banff_distributed_ERA5_merged_201205.nc', 'Bow_at_Banff_distributed_ERA5_remapped_domain_Bow_at_Banff_distributed_ERA5_merged_201206.nc', 'Bow_at_Banff_distributed_ERA5_remapped_domain_Bow_at_Banff_distributed_ERA5_merged_201207.nc', 'Bow_at_Banff_distributed_ERA5_remapped_domain_Bow_at_Banff_distributed_ERA5_merged_201208.nc', 'Bow_at_Banff_distributed_ERA5_remapped_domain_Bow_at_Banff_distributed_ERA5_merged_201209.nc', 'Bow_at_Banff_distributed_ERA5_remapped_domain_Bow_at_Banff_distributed_ERA5_merged_201210.nc', 'Bow_at_Banff_distributed_ERA5_remapped_domain_Bow_at_Banff_distributed_ERA5_merged_201211.nc', 'Bow_at_Banff_distributed_ERA5_remapped_domain_Bow_at_Banff_distributed_ERA5_merged_201212.nc', 'Bow_at_Banff_distributed_ERA5_remapped_domain_Bow_at_Banff_distributed_ERA5_merged_201301.nc', 'Bow_at_Banff_distributed_ERA5_remapped_domain_Bow_at_Banff_distributed_ERA5_merged_201302.nc', 'Bow_at_Banff_distributed_ERA5_remapped_domain_Bow_at_Banff_distributed_ERA5_merged_201303.nc', 'Bow_at_Banff_distributed_ERA5_remapped_domain_Bow_at_Banff_distributed_ERA5_merged_201304.nc', 'Bow_at_Banff_distributed_ERA5_remapped_domain_Bow_at_Banff_distributed_ERA5_merged_201305.nc', 'Bow_at_Banff_distributed_ERA5_remapped_domain_Bow_at_Banff_distributed_ERA5_merged_201306.nc', 'Bow_at_Banff_distributed_ERA5_remapped_domain_Bow_at_Banff_distributed_ERA5_merged_201307.nc', 'Bow_at_Banff_distributed_ERA5_remapped_domain_Bow_at_Banff_distributed_ERA5_merged_201308.nc', 'Bow_at_Banff_distributed_ERA5_remapped_domain_Bow_at_Banff_distributed_ERA5_merged_201309.nc', 'Bow_at_Banff_distributed_ERA5_remapped_domain_Bow_at_Banff_distributed_ERA5_merged_201310.nc', 'Bow_at_Banff_distributed_ERA5_remapped_domain_Bow_at_Banff_distributed_ERA5_merged_201311.nc', 'Bow_at_Banff_distributed_ERA5_remapped_domain_Bow_at_Banff_distributed_ERA5_merged_201312.nc', 'Bow_at_Banff_distributed_ERA5_remapped_domain_Bow_at_Banff_distributed_ERA5_merged_201401.nc', 'Bow_at_Banff_distributed_ERA5_remapped_domain_Bow_at_Banff_distributed_ERA5_merged_201402.nc', 'Bow_at_Banff_distributed_ERA5_remapped_domain_Bow_at_Banff_distributed_ERA5_merged_201403.nc', 'Bow_at_Banff_distributed_ERA5_remapped_domain_Bow_at_Banff_distributed_ERA5_merged_201404.nc', 'Bow_at_Banff_distributed_ERA5_remapped_domain_Bow_at_Banff_distributed_ERA5_merged_201405.nc', 'Bow_at_Banff_distributed_ERA5_remapped_domain_Bow_at_Banff_distributed_ERA5_merged_201406.nc', 'Bow_at_Banff_distributed_ERA5_remapped_domain_Bow_at_Banff_distributed_ERA5_merged_201407.nc', 'Bow_at_Banff_distributed_ERA5_remapped_domain_Bow_at_Banff_distributed_ERA5_merged_201408.nc', 'Bow_at_Banff_distributed_ERA5_remapped_domain_Bow_at_Banff_distributed_ERA5_merged_201409.nc', 'Bow_at_Banff_distributed_ERA5_remapped_domain_Bow_at_Banff_distributed_ERA5_merged_201410.nc', 'Bow_at_Banff_distributed_ERA5_remapped_domain_Bow_at_Banff_distributed_ERA5_merged_201411.nc', 'Bow_at_Banff_distributed_ERA5_remapped_domain_Bow_at_Banff_distributed_ERA5_merged_201412.nc', 'Bow_at_Banff_distributed_ERA5_remapped_domain_Bow_at_Banff_distributed_ERA5_merged_201501.nc', 'Bow_at_Banff_distributed_ERA5_remapped_domain_Bow_at_Banff_distributed_ERA5_merged_201502.nc', 'Bow_at_Banff_distributed_ERA5_remapped_domain_Bow_at_Banff_distributed_ERA5_merged_201503.nc', 'Bow_at_Banff_distributed_ERA5_remapped_domain_Bow_at_Banff_distributed_ERA5_merged_201504.nc', 'Bow_at_Banff_distributed_ERA5_remapped_domain_Bow_at_Banff_distributed_ERA5_merged_201505.nc', 'Bow_at_Banff_distributed_ERA5_remapped_domain_Bow_at_Banff_distributed_ERA5_merged_201506.nc', 'Bow_at_Banff_distributed_ERA5_remapped_domain_Bow_at_Banff_distributed_ERA5_merged_201507.nc', 'Bow_at_Banff_distributed_ERA5_remapped_domain_Bow_at_Banff_distributed_ERA5_merged_201508.nc', 'Bow_at_Banff_distributed_ERA5_remapped_domain_Bow_at_Banff_distributed_ERA5_merged_201509.nc', 'Bow_at_Banff_distributed_ERA5_remapped_domain_Bow_at_Banff_distributed_ERA5_merged_201510.nc', 'Bow_at_Banff_distributed_ERA5_remapped_domain_Bow_at_Banff_distributed_ERA5_merged_201511.nc', 'Bow_at_Banff_distributed_ERA5_remapped_domain_Bow_at_Banff_distributed_ERA5_merged_201512.nc', 'Bow_at_Banff_distributed_ERA5_remapped_domain_Bow_at_Banff_distributed_ERA5_merged_201601.nc', 'Bow_at_Banff_distributed_ERA5_remapped_domain_Bow_at_Banff_distributed_ERA5_merged_201602.nc', 'Bow_at_Banff_distributed_ERA5_remapped_domain_Bow_at_Banff_distributed_ERA5_merged_201603.nc', 'Bow_at_Banff_distributed_ERA5_remapped_domain_Bow_at_Banff_distributed_ERA5_merged_201604.nc', 'Bow_at_Banff_distributed_ERA5_remapped_domain_Bow_at_Banff_distributed_ERA5_merged_201605.nc', 'Bow_at_Banff_distributed_ERA5_remapped_domain_Bow_at_Banff_distributed_ERA5_merged_201606.nc', 'Bow_at_Banff_distributed_ERA5_remapped_domain_Bow_at_Banff_distributed_ERA5_merged_201607.nc', 'Bow_at_Banff_distributed_ERA5_remapped_domain_Bow_at_Banff_distributed_ERA5_merged_201608.nc', 'Bow_at_Banff_distributed_ERA5_remapped_domain_Bow_at_Banff_distributed_ERA5_merged_201609.nc', 'Bow_at_Banff_distributed_ERA5_remapped_domain_Bow_at_Banff_distributed_ERA5_merged_201610.nc', 'Bow_at_Banff_distributed_ERA5_remapped_domain_Bow_at_Banff_distributed_ERA5_merged_201611.nc', 'Bow_at_Banff_distributed_ERA5_remapped_domain_Bow_at_Banff_distributed_ERA5_merged_201612.nc', 'Bow_at_Banff_distributed_ERA5_remapped_domain_Bow_at_Banff_distributed_ERA5_merged_201701.nc', 'Bow_at_Banff_distributed_ERA5_remapped_domain_Bow_at_Banff_distributed_ERA5_merged_201702.nc', 'Bow_at_Banff_distributed_ERA5_remapped_domain_Bow_at_Banff_distributed_ERA5_merged_201703.nc', 'Bow_at_Banff_distributed_ERA5_remapped_domain_Bow_at_Banff_distributed_ERA5_merged_201704.nc', 'Bow_at_Banff_distributed_ERA5_remapped_domain_Bow_at_Banff_distributed_ERA5_merged_201705.nc', 'Bow_at_Banff_distributed_ERA5_remapped_domain_Bow_at_Banff_distributed_ERA5_merged_201706.nc', 'Bow_at_Banff_distributed_ERA5_remapped_domain_Bow_at_Banff_distributed_ERA5_merged_201707.nc', 'Bow_at_Banff_distributed_ERA5_remapped_domain_Bow_at_Banff_distributed_ERA5_merged_201708.nc', 'Bow_at_Banff_distributed_ERA5_remapped_domain_Bow_at_Banff_distributed_ERA5_merged_201709.nc', 'Bow_at_Banff_distributed_ERA5_remapped_domain_Bow_at_Banff_distributed_ERA5_merged_201710.nc', 'Bow_at_Banff_distributed_ERA5_remapped_domain_Bow_at_Banff_distributed_ERA5_merged_201711.nc', 'Bow_at_Banff_distributed_ERA5_remapped_domain_Bow_at_Banff_distributed_ERA5_merged_201712.nc', 'Bow_at_Banff_distributed_ERA5_remapped_domain_Bow_at_Banff_distributed_ERA5_merged_201801.nc', 'Bow_at_Banff_distributed_ERA5_remapped_domain_Bow_at_Banff_distributed_ERA5_merged_201802.nc', 'Bow_at_Banff_distributed_ERA5_remapped_domain_Bow_at_Banff_distributed_ERA5_merged_201803.nc', 'Bow_at_Banff_distributed_ERA5_remapped_domain_Bow_at_Banff_distributed_ERA5_merged_201804.nc', 'Bow_at_Banff_distributed_ERA5_remapped_domain_Bow_at_Banff_distributed_ERA5_merged_201805.nc', 'Bow_at_Banff_distributed_ERA5_remapped_domain_Bow_at_Banff_distributed_ERA5_merged_201806.nc', 'Bow_at_Banff_distributed_ERA5_remapped_domain_Bow_at_Banff_distributed_ERA5_merged_201807.nc', 'Bow_at_Banff_distributed_ERA5_remapped_domain_Bow_at_Banff_distributed_ERA5_merged_201808.nc', 'Bow_at_Banff_distributed_ERA5_remapped_domain_Bow_at_Banff_distributed_ERA5_merged_201809.nc', 'Bow_at_Banff_distributed_ERA5_remapped_domain_Bow_at_Banff_distributed_ERA5_merged_201810.nc', 'Bow_at_Banff_distributed_ERA5_remapped_domain_Bow_at_Banff_distributed_ERA5_merged_201811.nc', 'Bow_at_Banff_distributed_ERA5_remapped_domain_Bow_at_Banff_distributed_ERA5_merged_201812.nc', 'Bow_at_Banff_distributed_ERA5_remapped_domain_Bow_at_Banff_distributed_ERA5_merged_201901.nc', 'Bow_at_Banff_distributed_ERA5_remapped_domain_Bow_at_Banff_distributed_ERA5_merged_201902.nc', 'Bow_at_Banff_distributed_ERA5_remapped_domain_Bow_at_Banff_distributed_ERA5_merged_201903.nc', 'Bow_at_Banff_distributed_ERA5_remapped_domain_Bow_at_Banff_distributed_ERA5_merged_201904.nc', 'Bow_at_Banff_distributed_ERA5_remapped_domain_Bow_at_Banff_distributed_ERA5_merged_201905.nc', 'Bow_at_Banff_distributed_ERA5_remapped_domain_Bow_at_Banff_distributed_ERA5_merged_201906.nc', 'Bow_at_Banff_distributed_ERA5_remapped_domain_Bow_at_Banff_distributed_ERA5_merged_201907.nc', 'Bow_at_Banff_distributed_ERA5_remapped_domain_Bow_at_Banff_distributed_ERA5_merged_201908.nc', 'Bow_at_Banff_distributed_ERA5_remapped_domain_Bow_at_Banff_distributed_ERA5_merged_201909.nc', 'Bow_at_Banff_distributed_ERA5_remapped_domain_Bow_at_Banff_distributed_ERA5_merged_201910.nc', 'Bow_at_Banff_distributed_ERA5_remapped_domain_Bow_at_Banff_distributed_ERA5_merged_201911.nc', 'Bow_at_Banff_distributed_ERA5_remapped_domain_Bow_at_Banff_distributed_ERA5_merged_201912.nc', 'Bow_at_Banff_distributed_ERA5_remapped_domain_Bow_at_Banff_distributed_ERA5_merged_202001.nc', 'Bow_at_Banff_distributed_ERA5_remapped_domain_Bow_at_Banff_distributed_ERA5_merged_202002.nc', 'Bow_at_Banff_distributed_ERA5_remapped_domain_Bow_at_Banff_distributed_ERA5_merged_202003.nc', 'Bow_at_Banff_distributed_ERA5_remapped_domain_Bow_at_Banff_distributed_ERA5_merged_202004.nc', 'Bow_at_Banff_distributed_ERA5_remapped_domain_Bow_at_Banff_distributed_ERA5_merged_202005.nc', 'Bow_at_Banff_distributed_ERA5_remapped_domain_Bow_at_Banff_distributed_ERA5_merged_202006.nc', 'Bow_at_Banff_distributed_ERA5_remapped_domain_Bow_at_Banff_distributed_ERA5_merged_202007.nc', 'Bow_at_Banff_distributed_ERA5_remapped_domain_Bow_at_Banff_distributed_ERA5_merged_202008.nc', 'Bow_at_Banff_distributed_ERA5_remapped_domain_Bow_at_Banff_distributed_ERA5_merged_202009.nc', 'Bow_at_Banff_distributed_ERA5_remapped_domain_Bow_at_Banff_distributed_ERA5_merged_202010.nc', 'Bow_at_Banff_distributed_ERA5_remapped_domain_Bow_at_Banff_distributed_ERA5_merged_202011.nc', 'Bow_at_Banff_distributed_ERA5_remapped_domain_Bow_at_Banff_distributed_ERA5_merged_202012.nc', 'Bow_at_Banff_distributed_ERA5_remapped_domain_Bow_at_Banff_distributed_ERA5_merged_202101.nc', 'Bow_at_Banff_distributed_ERA5_remapped_domain_Bow_at_Banff_distributed_ERA5_merged_202102.nc', 'Bow_at_Banff_distributed_ERA5_remapped_domain_Bow_at_Banff_distributed_ERA5_merged_202103.nc', 'Bow_at_Banff_distributed_ERA5_remapped_domain_Bow_at_Banff_distributed_ERA5_merged_202104.nc', 'Bow_at_Banff_distributed_ERA5_remapped_domain_Bow_at_Banff_distributed_ERA5_merged_202105.nc', 'Bow_at_Banff_distributed_ERA5_remapped_domain_Bow_at_Banff_distributed_ERA5_merged_202106.nc', 'Bow_at_Banff_distributed_ERA5_remapped_domain_Bow_at_Banff_distributed_ERA5_merged_202107.nc', 'Bow_at_Banff_distributed_ERA5_remapped_domain_Bow_at_Banff_distributed_ERA5_merged_202108.nc', 'Bow_at_Banff_distributed_ERA5_remapped_domain_Bow_at_Banff_distributed_ERA5_merged_202109.nc', 'Bow_at_Banff_distributed_ERA5_remapped_domain_Bow_at_Banff_distributed_ERA5_merged_202110.nc', 'Bow_at_Banff_distributed_ERA5_remapped_domain_Bow_at_Banff_distributed_ERA5_merged_202111.nc', 'Bow_at_Banff_distributed_ERA5_remapped_domain_Bow_at_Banff_distributed_ERA5_merged_202112.nc', 'Bow_at_Banff_distributed_ERA5_remapped_domain_Bow_at_Banff_distributed_ERA5_merged_202201.nc', 'Bow_at_Banff_distributed_ERA5_remapped_domain_Bow_at_Banff_distributed_ERA5_merged_202202.nc', 'Bow_at_Banff_distributed_ERA5_remapped_domain_Bow_at_Banff_distributed_ERA5_merged_202203.nc', 'Bow_at_Banff_distributed_ERA5_remapped_domain_Bow_at_Banff_distributed_ERA5_merged_202204.nc', 'Bow_at_Banff_distributed_ERA5_remapped_domain_Bow_at_Banff_distributed_ERA5_merged_202205.nc', 'Bow_at_Banff_distributed_ERA5_remapped_domain_Bow_at_Banff_distributed_ERA5_merged_202206.nc', 'Bow_at_Banff_distributed_ERA5_remapped_domain_Bow_at_Banff_distributed_ERA5_merged_202207.nc', 'Bow_at_Banff_distributed_ERA5_remapped_domain_Bow_at_Banff_distributed_ERA5_merged_202208.nc', 'Bow_at_Banff_distributed_ERA5_remapped_domain_Bow_at_Banff_distributed_ERA5_merged_202209.nc', 'Bow_at_Banff_distributed_ERA5_remapped_domain_Bow_at_Banff_distributed_ERA5_merged_202210.nc', 'Bow_at_Banff_distributed_ERA5_remapped_domain_Bow_at_Banff_distributed_ERA5_merged_202211.nc', 'Bow_at_Banff_distributed_ERA5_remapped_domain_Bow_at_Banff_distributed_ERA5_merged_202212.nc']\n"
     ]
    },
    {
     "name": "stderr",
     "output_type": "stream",
     "text": [
      "2025-05-13 17:42:22,706 - confluence_general - INFO - forcing files: ['Bow_at_Banff_distributed_ERA5_remapped_domain_Bow_at_Banff_distributed_ERA5_merged_200001.nc', 'Bow_at_Banff_distributed_ERA5_remapped_domain_Bow_at_Banff_distributed_ERA5_merged_200002.nc', 'Bow_at_Banff_distributed_ERA5_remapped_domain_Bow_at_Banff_distributed_ERA5_merged_200003.nc', 'Bow_at_Banff_distributed_ERA5_remapped_domain_Bow_at_Banff_distributed_ERA5_merged_200004.nc', 'Bow_at_Banff_distributed_ERA5_remapped_domain_Bow_at_Banff_distributed_ERA5_merged_200005.nc', 'Bow_at_Banff_distributed_ERA5_remapped_domain_Bow_at_Banff_distributed_ERA5_merged_200006.nc', 'Bow_at_Banff_distributed_ERA5_remapped_domain_Bow_at_Banff_distributed_ERA5_merged_200007.nc', 'Bow_at_Banff_distributed_ERA5_remapped_domain_Bow_at_Banff_distributed_ERA5_merged_200008.nc', 'Bow_at_Banff_distributed_ERA5_remapped_domain_Bow_at_Banff_distributed_ERA5_merged_200009.nc', 'Bow_at_Banff_distributed_ERA5_remapped_domain_Bow_at_Banff_distributed_ERA5_merged_200010.nc', 'Bow_at_Banff_distributed_ERA5_remapped_domain_Bow_at_Banff_distributed_ERA5_merged_200011.nc', 'Bow_at_Banff_distributed_ERA5_remapped_domain_Bow_at_Banff_distributed_ERA5_merged_200012.nc', 'Bow_at_Banff_distributed_ERA5_remapped_domain_Bow_at_Banff_distributed_ERA5_merged_200101.nc', 'Bow_at_Banff_distributed_ERA5_remapped_domain_Bow_at_Banff_distributed_ERA5_merged_200102.nc', 'Bow_at_Banff_distributed_ERA5_remapped_domain_Bow_at_Banff_distributed_ERA5_merged_200103.nc', 'Bow_at_Banff_distributed_ERA5_remapped_domain_Bow_at_Banff_distributed_ERA5_merged_200104.nc', 'Bow_at_Banff_distributed_ERA5_remapped_domain_Bow_at_Banff_distributed_ERA5_merged_200105.nc', 'Bow_at_Banff_distributed_ERA5_remapped_domain_Bow_at_Banff_distributed_ERA5_merged_200106.nc', 'Bow_at_Banff_distributed_ERA5_remapped_domain_Bow_at_Banff_distributed_ERA5_merged_200107.nc', 'Bow_at_Banff_distributed_ERA5_remapped_domain_Bow_at_Banff_distributed_ERA5_merged_200108.nc', 'Bow_at_Banff_distributed_ERA5_remapped_domain_Bow_at_Banff_distributed_ERA5_merged_200109.nc', 'Bow_at_Banff_distributed_ERA5_remapped_domain_Bow_at_Banff_distributed_ERA5_merged_200110.nc', 'Bow_at_Banff_distributed_ERA5_remapped_domain_Bow_at_Banff_distributed_ERA5_merged_200111.nc', 'Bow_at_Banff_distributed_ERA5_remapped_domain_Bow_at_Banff_distributed_ERA5_merged_200112.nc', 'Bow_at_Banff_distributed_ERA5_remapped_domain_Bow_at_Banff_distributed_ERA5_merged_200201.nc', 'Bow_at_Banff_distributed_ERA5_remapped_domain_Bow_at_Banff_distributed_ERA5_merged_200202.nc', 'Bow_at_Banff_distributed_ERA5_remapped_domain_Bow_at_Banff_distributed_ERA5_merged_200203.nc', 'Bow_at_Banff_distributed_ERA5_remapped_domain_Bow_at_Banff_distributed_ERA5_merged_200204.nc', 'Bow_at_Banff_distributed_ERA5_remapped_domain_Bow_at_Banff_distributed_ERA5_merged_200205.nc', 'Bow_at_Banff_distributed_ERA5_remapped_domain_Bow_at_Banff_distributed_ERA5_merged_200206.nc', 'Bow_at_Banff_distributed_ERA5_remapped_domain_Bow_at_Banff_distributed_ERA5_merged_200207.nc', 'Bow_at_Banff_distributed_ERA5_remapped_domain_Bow_at_Banff_distributed_ERA5_merged_200208.nc', 'Bow_at_Banff_distributed_ERA5_remapped_domain_Bow_at_Banff_distributed_ERA5_merged_200209.nc', 'Bow_at_Banff_distributed_ERA5_remapped_domain_Bow_at_Banff_distributed_ERA5_merged_200210.nc', 'Bow_at_Banff_distributed_ERA5_remapped_domain_Bow_at_Banff_distributed_ERA5_merged_200211.nc', 'Bow_at_Banff_distributed_ERA5_remapped_domain_Bow_at_Banff_distributed_ERA5_merged_200212.nc', 'Bow_at_Banff_distributed_ERA5_remapped_domain_Bow_at_Banff_distributed_ERA5_merged_200301.nc', 'Bow_at_Banff_distributed_ERA5_remapped_domain_Bow_at_Banff_distributed_ERA5_merged_200302.nc', 'Bow_at_Banff_distributed_ERA5_remapped_domain_Bow_at_Banff_distributed_ERA5_merged_200303.nc', 'Bow_at_Banff_distributed_ERA5_remapped_domain_Bow_at_Banff_distributed_ERA5_merged_200304.nc', 'Bow_at_Banff_distributed_ERA5_remapped_domain_Bow_at_Banff_distributed_ERA5_merged_200305.nc', 'Bow_at_Banff_distributed_ERA5_remapped_domain_Bow_at_Banff_distributed_ERA5_merged_200306.nc', 'Bow_at_Banff_distributed_ERA5_remapped_domain_Bow_at_Banff_distributed_ERA5_merged_200307.nc', 'Bow_at_Banff_distributed_ERA5_remapped_domain_Bow_at_Banff_distributed_ERA5_merged_200308.nc', 'Bow_at_Banff_distributed_ERA5_remapped_domain_Bow_at_Banff_distributed_ERA5_merged_200309.nc', 'Bow_at_Banff_distributed_ERA5_remapped_domain_Bow_at_Banff_distributed_ERA5_merged_200310.nc', 'Bow_at_Banff_distributed_ERA5_remapped_domain_Bow_at_Banff_distributed_ERA5_merged_200311.nc', 'Bow_at_Banff_distributed_ERA5_remapped_domain_Bow_at_Banff_distributed_ERA5_merged_200312.nc', 'Bow_at_Banff_distributed_ERA5_remapped_domain_Bow_at_Banff_distributed_ERA5_merged_200401.nc', 'Bow_at_Banff_distributed_ERA5_remapped_domain_Bow_at_Banff_distributed_ERA5_merged_200402.nc', 'Bow_at_Banff_distributed_ERA5_remapped_domain_Bow_at_Banff_distributed_ERA5_merged_200403.nc', 'Bow_at_Banff_distributed_ERA5_remapped_domain_Bow_at_Banff_distributed_ERA5_merged_200404.nc', 'Bow_at_Banff_distributed_ERA5_remapped_domain_Bow_at_Banff_distributed_ERA5_merged_200405.nc', 'Bow_at_Banff_distributed_ERA5_remapped_domain_Bow_at_Banff_distributed_ERA5_merged_200406.nc', 'Bow_at_Banff_distributed_ERA5_remapped_domain_Bow_at_Banff_distributed_ERA5_merged_200407.nc', 'Bow_at_Banff_distributed_ERA5_remapped_domain_Bow_at_Banff_distributed_ERA5_merged_200408.nc', 'Bow_at_Banff_distributed_ERA5_remapped_domain_Bow_at_Banff_distributed_ERA5_merged_200409.nc', 'Bow_at_Banff_distributed_ERA5_remapped_domain_Bow_at_Banff_distributed_ERA5_merged_200410.nc', 'Bow_at_Banff_distributed_ERA5_remapped_domain_Bow_at_Banff_distributed_ERA5_merged_200411.nc', 'Bow_at_Banff_distributed_ERA5_remapped_domain_Bow_at_Banff_distributed_ERA5_merged_200412.nc', 'Bow_at_Banff_distributed_ERA5_remapped_domain_Bow_at_Banff_distributed_ERA5_merged_200501.nc', 'Bow_at_Banff_distributed_ERA5_remapped_domain_Bow_at_Banff_distributed_ERA5_merged_200502.nc', 'Bow_at_Banff_distributed_ERA5_remapped_domain_Bow_at_Banff_distributed_ERA5_merged_200503.nc', 'Bow_at_Banff_distributed_ERA5_remapped_domain_Bow_at_Banff_distributed_ERA5_merged_200504.nc', 'Bow_at_Banff_distributed_ERA5_remapped_domain_Bow_at_Banff_distributed_ERA5_merged_200505.nc', 'Bow_at_Banff_distributed_ERA5_remapped_domain_Bow_at_Banff_distributed_ERA5_merged_200506.nc', 'Bow_at_Banff_distributed_ERA5_remapped_domain_Bow_at_Banff_distributed_ERA5_merged_200507.nc', 'Bow_at_Banff_distributed_ERA5_remapped_domain_Bow_at_Banff_distributed_ERA5_merged_200508.nc', 'Bow_at_Banff_distributed_ERA5_remapped_domain_Bow_at_Banff_distributed_ERA5_merged_200509.nc', 'Bow_at_Banff_distributed_ERA5_remapped_domain_Bow_at_Banff_distributed_ERA5_merged_200510.nc', 'Bow_at_Banff_distributed_ERA5_remapped_domain_Bow_at_Banff_distributed_ERA5_merged_200511.nc', 'Bow_at_Banff_distributed_ERA5_remapped_domain_Bow_at_Banff_distributed_ERA5_merged_200512.nc', 'Bow_at_Banff_distributed_ERA5_remapped_domain_Bow_at_Banff_distributed_ERA5_merged_200601.nc', 'Bow_at_Banff_distributed_ERA5_remapped_domain_Bow_at_Banff_distributed_ERA5_merged_200602.nc', 'Bow_at_Banff_distributed_ERA5_remapped_domain_Bow_at_Banff_distributed_ERA5_merged_200603.nc', 'Bow_at_Banff_distributed_ERA5_remapped_domain_Bow_at_Banff_distributed_ERA5_merged_200604.nc', 'Bow_at_Banff_distributed_ERA5_remapped_domain_Bow_at_Banff_distributed_ERA5_merged_200605.nc', 'Bow_at_Banff_distributed_ERA5_remapped_domain_Bow_at_Banff_distributed_ERA5_merged_200606.nc', 'Bow_at_Banff_distributed_ERA5_remapped_domain_Bow_at_Banff_distributed_ERA5_merged_200607.nc', 'Bow_at_Banff_distributed_ERA5_remapped_domain_Bow_at_Banff_distributed_ERA5_merged_200608.nc', 'Bow_at_Banff_distributed_ERA5_remapped_domain_Bow_at_Banff_distributed_ERA5_merged_200609.nc', 'Bow_at_Banff_distributed_ERA5_remapped_domain_Bow_at_Banff_distributed_ERA5_merged_200610.nc', 'Bow_at_Banff_distributed_ERA5_remapped_domain_Bow_at_Banff_distributed_ERA5_merged_200611.nc', 'Bow_at_Banff_distributed_ERA5_remapped_domain_Bow_at_Banff_distributed_ERA5_merged_200612.nc', 'Bow_at_Banff_distributed_ERA5_remapped_domain_Bow_at_Banff_distributed_ERA5_merged_200701.nc', 'Bow_at_Banff_distributed_ERA5_remapped_domain_Bow_at_Banff_distributed_ERA5_merged_200702.nc', 'Bow_at_Banff_distributed_ERA5_remapped_domain_Bow_at_Banff_distributed_ERA5_merged_200703.nc', 'Bow_at_Banff_distributed_ERA5_remapped_domain_Bow_at_Banff_distributed_ERA5_merged_200704.nc', 'Bow_at_Banff_distributed_ERA5_remapped_domain_Bow_at_Banff_distributed_ERA5_merged_200705.nc', 'Bow_at_Banff_distributed_ERA5_remapped_domain_Bow_at_Banff_distributed_ERA5_merged_200706.nc', 'Bow_at_Banff_distributed_ERA5_remapped_domain_Bow_at_Banff_distributed_ERA5_merged_200707.nc', 'Bow_at_Banff_distributed_ERA5_remapped_domain_Bow_at_Banff_distributed_ERA5_merged_200708.nc', 'Bow_at_Banff_distributed_ERA5_remapped_domain_Bow_at_Banff_distributed_ERA5_merged_200709.nc', 'Bow_at_Banff_distributed_ERA5_remapped_domain_Bow_at_Banff_distributed_ERA5_merged_200710.nc', 'Bow_at_Banff_distributed_ERA5_remapped_domain_Bow_at_Banff_distributed_ERA5_merged_200711.nc', 'Bow_at_Banff_distributed_ERA5_remapped_domain_Bow_at_Banff_distributed_ERA5_merged_200712.nc', 'Bow_at_Banff_distributed_ERA5_remapped_domain_Bow_at_Banff_distributed_ERA5_merged_200801.nc', 'Bow_at_Banff_distributed_ERA5_remapped_domain_Bow_at_Banff_distributed_ERA5_merged_200802.nc', 'Bow_at_Banff_distributed_ERA5_remapped_domain_Bow_at_Banff_distributed_ERA5_merged_200803.nc', 'Bow_at_Banff_distributed_ERA5_remapped_domain_Bow_at_Banff_distributed_ERA5_merged_200804.nc', 'Bow_at_Banff_distributed_ERA5_remapped_domain_Bow_at_Banff_distributed_ERA5_merged_200805.nc', 'Bow_at_Banff_distributed_ERA5_remapped_domain_Bow_at_Banff_distributed_ERA5_merged_200806.nc', 'Bow_at_Banff_distributed_ERA5_remapped_domain_Bow_at_Banff_distributed_ERA5_merged_200807.nc', 'Bow_at_Banff_distributed_ERA5_remapped_domain_Bow_at_Banff_distributed_ERA5_merged_200808.nc', 'Bow_at_Banff_distributed_ERA5_remapped_domain_Bow_at_Banff_distributed_ERA5_merged_200809.nc', 'Bow_at_Banff_distributed_ERA5_remapped_domain_Bow_at_Banff_distributed_ERA5_merged_200810.nc', 'Bow_at_Banff_distributed_ERA5_remapped_domain_Bow_at_Banff_distributed_ERA5_merged_200811.nc', 'Bow_at_Banff_distributed_ERA5_remapped_domain_Bow_at_Banff_distributed_ERA5_merged_200812.nc', 'Bow_at_Banff_distributed_ERA5_remapped_domain_Bow_at_Banff_distributed_ERA5_merged_200901.nc', 'Bow_at_Banff_distributed_ERA5_remapped_domain_Bow_at_Banff_distributed_ERA5_merged_200902.nc', 'Bow_at_Banff_distributed_ERA5_remapped_domain_Bow_at_Banff_distributed_ERA5_merged_200903.nc', 'Bow_at_Banff_distributed_ERA5_remapped_domain_Bow_at_Banff_distributed_ERA5_merged_200904.nc', 'Bow_at_Banff_distributed_ERA5_remapped_domain_Bow_at_Banff_distributed_ERA5_merged_200905.nc', 'Bow_at_Banff_distributed_ERA5_remapped_domain_Bow_at_Banff_distributed_ERA5_merged_200906.nc', 'Bow_at_Banff_distributed_ERA5_remapped_domain_Bow_at_Banff_distributed_ERA5_merged_200907.nc', 'Bow_at_Banff_distributed_ERA5_remapped_domain_Bow_at_Banff_distributed_ERA5_merged_200908.nc', 'Bow_at_Banff_distributed_ERA5_remapped_domain_Bow_at_Banff_distributed_ERA5_merged_200909.nc', 'Bow_at_Banff_distributed_ERA5_remapped_domain_Bow_at_Banff_distributed_ERA5_merged_200910.nc', 'Bow_at_Banff_distributed_ERA5_remapped_domain_Bow_at_Banff_distributed_ERA5_merged_200911.nc', 'Bow_at_Banff_distributed_ERA5_remapped_domain_Bow_at_Banff_distributed_ERA5_merged_200912.nc', 'Bow_at_Banff_distributed_ERA5_remapped_domain_Bow_at_Banff_distributed_ERA5_merged_201001.nc', 'Bow_at_Banff_distributed_ERA5_remapped_domain_Bow_at_Banff_distributed_ERA5_merged_201002.nc', 'Bow_at_Banff_distributed_ERA5_remapped_domain_Bow_at_Banff_distributed_ERA5_merged_201003.nc', 'Bow_at_Banff_distributed_ERA5_remapped_domain_Bow_at_Banff_distributed_ERA5_merged_201004.nc', 'Bow_at_Banff_distributed_ERA5_remapped_domain_Bow_at_Banff_distributed_ERA5_merged_201005.nc', 'Bow_at_Banff_distributed_ERA5_remapped_domain_Bow_at_Banff_distributed_ERA5_merged_201006.nc', 'Bow_at_Banff_distributed_ERA5_remapped_domain_Bow_at_Banff_distributed_ERA5_merged_201007.nc', 'Bow_at_Banff_distributed_ERA5_remapped_domain_Bow_at_Banff_distributed_ERA5_merged_201008.nc', 'Bow_at_Banff_distributed_ERA5_remapped_domain_Bow_at_Banff_distributed_ERA5_merged_201009.nc', 'Bow_at_Banff_distributed_ERA5_remapped_domain_Bow_at_Banff_distributed_ERA5_merged_201010.nc', 'Bow_at_Banff_distributed_ERA5_remapped_domain_Bow_at_Banff_distributed_ERA5_merged_201011.nc', 'Bow_at_Banff_distributed_ERA5_remapped_domain_Bow_at_Banff_distributed_ERA5_merged_201012.nc', 'Bow_at_Banff_distributed_ERA5_remapped_domain_Bow_at_Banff_distributed_ERA5_merged_201101.nc', 'Bow_at_Banff_distributed_ERA5_remapped_domain_Bow_at_Banff_distributed_ERA5_merged_201102.nc', 'Bow_at_Banff_distributed_ERA5_remapped_domain_Bow_at_Banff_distributed_ERA5_merged_201103.nc', 'Bow_at_Banff_distributed_ERA5_remapped_domain_Bow_at_Banff_distributed_ERA5_merged_201104.nc', 'Bow_at_Banff_distributed_ERA5_remapped_domain_Bow_at_Banff_distributed_ERA5_merged_201105.nc', 'Bow_at_Banff_distributed_ERA5_remapped_domain_Bow_at_Banff_distributed_ERA5_merged_201106.nc', 'Bow_at_Banff_distributed_ERA5_remapped_domain_Bow_at_Banff_distributed_ERA5_merged_201107.nc', 'Bow_at_Banff_distributed_ERA5_remapped_domain_Bow_at_Banff_distributed_ERA5_merged_201108.nc', 'Bow_at_Banff_distributed_ERA5_remapped_domain_Bow_at_Banff_distributed_ERA5_merged_201109.nc', 'Bow_at_Banff_distributed_ERA5_remapped_domain_Bow_at_Banff_distributed_ERA5_merged_201110.nc', 'Bow_at_Banff_distributed_ERA5_remapped_domain_Bow_at_Banff_distributed_ERA5_merged_201111.nc', 'Bow_at_Banff_distributed_ERA5_remapped_domain_Bow_at_Banff_distributed_ERA5_merged_201112.nc', 'Bow_at_Banff_distributed_ERA5_remapped_domain_Bow_at_Banff_distributed_ERA5_merged_201201.nc', 'Bow_at_Banff_distributed_ERA5_remapped_domain_Bow_at_Banff_distributed_ERA5_merged_201202.nc', 'Bow_at_Banff_distributed_ERA5_remapped_domain_Bow_at_Banff_distributed_ERA5_merged_201203.nc', 'Bow_at_Banff_distributed_ERA5_remapped_domain_Bow_at_Banff_distributed_ERA5_merged_201204.nc', 'Bow_at_Banff_distributed_ERA5_remapped_domain_Bow_at_Banff_distributed_ERA5_merged_201205.nc', 'Bow_at_Banff_distributed_ERA5_remapped_domain_Bow_at_Banff_distributed_ERA5_merged_201206.nc', 'Bow_at_Banff_distributed_ERA5_remapped_domain_Bow_at_Banff_distributed_ERA5_merged_201207.nc', 'Bow_at_Banff_distributed_ERA5_remapped_domain_Bow_at_Banff_distributed_ERA5_merged_201208.nc', 'Bow_at_Banff_distributed_ERA5_remapped_domain_Bow_at_Banff_distributed_ERA5_merged_201209.nc', 'Bow_at_Banff_distributed_ERA5_remapped_domain_Bow_at_Banff_distributed_ERA5_merged_201210.nc', 'Bow_at_Banff_distributed_ERA5_remapped_domain_Bow_at_Banff_distributed_ERA5_merged_201211.nc', 'Bow_at_Banff_distributed_ERA5_remapped_domain_Bow_at_Banff_distributed_ERA5_merged_201212.nc', 'Bow_at_Banff_distributed_ERA5_remapped_domain_Bow_at_Banff_distributed_ERA5_merged_201301.nc', 'Bow_at_Banff_distributed_ERA5_remapped_domain_Bow_at_Banff_distributed_ERA5_merged_201302.nc', 'Bow_at_Banff_distributed_ERA5_remapped_domain_Bow_at_Banff_distributed_ERA5_merged_201303.nc', 'Bow_at_Banff_distributed_ERA5_remapped_domain_Bow_at_Banff_distributed_ERA5_merged_201304.nc', 'Bow_at_Banff_distributed_ERA5_remapped_domain_Bow_at_Banff_distributed_ERA5_merged_201305.nc', 'Bow_at_Banff_distributed_ERA5_remapped_domain_Bow_at_Banff_distributed_ERA5_merged_201306.nc', 'Bow_at_Banff_distributed_ERA5_remapped_domain_Bow_at_Banff_distributed_ERA5_merged_201307.nc', 'Bow_at_Banff_distributed_ERA5_remapped_domain_Bow_at_Banff_distributed_ERA5_merged_201308.nc', 'Bow_at_Banff_distributed_ERA5_remapped_domain_Bow_at_Banff_distributed_ERA5_merged_201309.nc', 'Bow_at_Banff_distributed_ERA5_remapped_domain_Bow_at_Banff_distributed_ERA5_merged_201310.nc', 'Bow_at_Banff_distributed_ERA5_remapped_domain_Bow_at_Banff_distributed_ERA5_merged_201311.nc', 'Bow_at_Banff_distributed_ERA5_remapped_domain_Bow_at_Banff_distributed_ERA5_merged_201312.nc', 'Bow_at_Banff_distributed_ERA5_remapped_domain_Bow_at_Banff_distributed_ERA5_merged_201401.nc', 'Bow_at_Banff_distributed_ERA5_remapped_domain_Bow_at_Banff_distributed_ERA5_merged_201402.nc', 'Bow_at_Banff_distributed_ERA5_remapped_domain_Bow_at_Banff_distributed_ERA5_merged_201403.nc', 'Bow_at_Banff_distributed_ERA5_remapped_domain_Bow_at_Banff_distributed_ERA5_merged_201404.nc', 'Bow_at_Banff_distributed_ERA5_remapped_domain_Bow_at_Banff_distributed_ERA5_merged_201405.nc', 'Bow_at_Banff_distributed_ERA5_remapped_domain_Bow_at_Banff_distributed_ERA5_merged_201406.nc', 'Bow_at_Banff_distributed_ERA5_remapped_domain_Bow_at_Banff_distributed_ERA5_merged_201407.nc', 'Bow_at_Banff_distributed_ERA5_remapped_domain_Bow_at_Banff_distributed_ERA5_merged_201408.nc', 'Bow_at_Banff_distributed_ERA5_remapped_domain_Bow_at_Banff_distributed_ERA5_merged_201409.nc', 'Bow_at_Banff_distributed_ERA5_remapped_domain_Bow_at_Banff_distributed_ERA5_merged_201410.nc', 'Bow_at_Banff_distributed_ERA5_remapped_domain_Bow_at_Banff_distributed_ERA5_merged_201411.nc', 'Bow_at_Banff_distributed_ERA5_remapped_domain_Bow_at_Banff_distributed_ERA5_merged_201412.nc', 'Bow_at_Banff_distributed_ERA5_remapped_domain_Bow_at_Banff_distributed_ERA5_merged_201501.nc', 'Bow_at_Banff_distributed_ERA5_remapped_domain_Bow_at_Banff_distributed_ERA5_merged_201502.nc', 'Bow_at_Banff_distributed_ERA5_remapped_domain_Bow_at_Banff_distributed_ERA5_merged_201503.nc', 'Bow_at_Banff_distributed_ERA5_remapped_domain_Bow_at_Banff_distributed_ERA5_merged_201504.nc', 'Bow_at_Banff_distributed_ERA5_remapped_domain_Bow_at_Banff_distributed_ERA5_merged_201505.nc', 'Bow_at_Banff_distributed_ERA5_remapped_domain_Bow_at_Banff_distributed_ERA5_merged_201506.nc', 'Bow_at_Banff_distributed_ERA5_remapped_domain_Bow_at_Banff_distributed_ERA5_merged_201507.nc', 'Bow_at_Banff_distributed_ERA5_remapped_domain_Bow_at_Banff_distributed_ERA5_merged_201508.nc', 'Bow_at_Banff_distributed_ERA5_remapped_domain_Bow_at_Banff_distributed_ERA5_merged_201509.nc', 'Bow_at_Banff_distributed_ERA5_remapped_domain_Bow_at_Banff_distributed_ERA5_merged_201510.nc', 'Bow_at_Banff_distributed_ERA5_remapped_domain_Bow_at_Banff_distributed_ERA5_merged_201511.nc', 'Bow_at_Banff_distributed_ERA5_remapped_domain_Bow_at_Banff_distributed_ERA5_merged_201512.nc', 'Bow_at_Banff_distributed_ERA5_remapped_domain_Bow_at_Banff_distributed_ERA5_merged_201601.nc', 'Bow_at_Banff_distributed_ERA5_remapped_domain_Bow_at_Banff_distributed_ERA5_merged_201602.nc', 'Bow_at_Banff_distributed_ERA5_remapped_domain_Bow_at_Banff_distributed_ERA5_merged_201603.nc', 'Bow_at_Banff_distributed_ERA5_remapped_domain_Bow_at_Banff_distributed_ERA5_merged_201604.nc', 'Bow_at_Banff_distributed_ERA5_remapped_domain_Bow_at_Banff_distributed_ERA5_merged_201605.nc', 'Bow_at_Banff_distributed_ERA5_remapped_domain_Bow_at_Banff_distributed_ERA5_merged_201606.nc', 'Bow_at_Banff_distributed_ERA5_remapped_domain_Bow_at_Banff_distributed_ERA5_merged_201607.nc', 'Bow_at_Banff_distributed_ERA5_remapped_domain_Bow_at_Banff_distributed_ERA5_merged_201608.nc', 'Bow_at_Banff_distributed_ERA5_remapped_domain_Bow_at_Banff_distributed_ERA5_merged_201609.nc', 'Bow_at_Banff_distributed_ERA5_remapped_domain_Bow_at_Banff_distributed_ERA5_merged_201610.nc', 'Bow_at_Banff_distributed_ERA5_remapped_domain_Bow_at_Banff_distributed_ERA5_merged_201611.nc', 'Bow_at_Banff_distributed_ERA5_remapped_domain_Bow_at_Banff_distributed_ERA5_merged_201612.nc', 'Bow_at_Banff_distributed_ERA5_remapped_domain_Bow_at_Banff_distributed_ERA5_merged_201701.nc', 'Bow_at_Banff_distributed_ERA5_remapped_domain_Bow_at_Banff_distributed_ERA5_merged_201702.nc', 'Bow_at_Banff_distributed_ERA5_remapped_domain_Bow_at_Banff_distributed_ERA5_merged_201703.nc', 'Bow_at_Banff_distributed_ERA5_remapped_domain_Bow_at_Banff_distributed_ERA5_merged_201704.nc', 'Bow_at_Banff_distributed_ERA5_remapped_domain_Bow_at_Banff_distributed_ERA5_merged_201705.nc', 'Bow_at_Banff_distributed_ERA5_remapped_domain_Bow_at_Banff_distributed_ERA5_merged_201706.nc', 'Bow_at_Banff_distributed_ERA5_remapped_domain_Bow_at_Banff_distributed_ERA5_merged_201707.nc', 'Bow_at_Banff_distributed_ERA5_remapped_domain_Bow_at_Banff_distributed_ERA5_merged_201708.nc', 'Bow_at_Banff_distributed_ERA5_remapped_domain_Bow_at_Banff_distributed_ERA5_merged_201709.nc', 'Bow_at_Banff_distributed_ERA5_remapped_domain_Bow_at_Banff_distributed_ERA5_merged_201710.nc', 'Bow_at_Banff_distributed_ERA5_remapped_domain_Bow_at_Banff_distributed_ERA5_merged_201711.nc', 'Bow_at_Banff_distributed_ERA5_remapped_domain_Bow_at_Banff_distributed_ERA5_merged_201712.nc', 'Bow_at_Banff_distributed_ERA5_remapped_domain_Bow_at_Banff_distributed_ERA5_merged_201801.nc', 'Bow_at_Banff_distributed_ERA5_remapped_domain_Bow_at_Banff_distributed_ERA5_merged_201802.nc', 'Bow_at_Banff_distributed_ERA5_remapped_domain_Bow_at_Banff_distributed_ERA5_merged_201803.nc', 'Bow_at_Banff_distributed_ERA5_remapped_domain_Bow_at_Banff_distributed_ERA5_merged_201804.nc', 'Bow_at_Banff_distributed_ERA5_remapped_domain_Bow_at_Banff_distributed_ERA5_merged_201805.nc', 'Bow_at_Banff_distributed_ERA5_remapped_domain_Bow_at_Banff_distributed_ERA5_merged_201806.nc', 'Bow_at_Banff_distributed_ERA5_remapped_domain_Bow_at_Banff_distributed_ERA5_merged_201807.nc', 'Bow_at_Banff_distributed_ERA5_remapped_domain_Bow_at_Banff_distributed_ERA5_merged_201808.nc', 'Bow_at_Banff_distributed_ERA5_remapped_domain_Bow_at_Banff_distributed_ERA5_merged_201809.nc', 'Bow_at_Banff_distributed_ERA5_remapped_domain_Bow_at_Banff_distributed_ERA5_merged_201810.nc', 'Bow_at_Banff_distributed_ERA5_remapped_domain_Bow_at_Banff_distributed_ERA5_merged_201811.nc', 'Bow_at_Banff_distributed_ERA5_remapped_domain_Bow_at_Banff_distributed_ERA5_merged_201812.nc', 'Bow_at_Banff_distributed_ERA5_remapped_domain_Bow_at_Banff_distributed_ERA5_merged_201901.nc', 'Bow_at_Banff_distributed_ERA5_remapped_domain_Bow_at_Banff_distributed_ERA5_merged_201902.nc', 'Bow_at_Banff_distributed_ERA5_remapped_domain_Bow_at_Banff_distributed_ERA5_merged_201903.nc', 'Bow_at_Banff_distributed_ERA5_remapped_domain_Bow_at_Banff_distributed_ERA5_merged_201904.nc', 'Bow_at_Banff_distributed_ERA5_remapped_domain_Bow_at_Banff_distributed_ERA5_merged_201905.nc', 'Bow_at_Banff_distributed_ERA5_remapped_domain_Bow_at_Banff_distributed_ERA5_merged_201906.nc', 'Bow_at_Banff_distributed_ERA5_remapped_domain_Bow_at_Banff_distributed_ERA5_merged_201907.nc', 'Bow_at_Banff_distributed_ERA5_remapped_domain_Bow_at_Banff_distributed_ERA5_merged_201908.nc', 'Bow_at_Banff_distributed_ERA5_remapped_domain_Bow_at_Banff_distributed_ERA5_merged_201909.nc', 'Bow_at_Banff_distributed_ERA5_remapped_domain_Bow_at_Banff_distributed_ERA5_merged_201910.nc', 'Bow_at_Banff_distributed_ERA5_remapped_domain_Bow_at_Banff_distributed_ERA5_merged_201911.nc', 'Bow_at_Banff_distributed_ERA5_remapped_domain_Bow_at_Banff_distributed_ERA5_merged_201912.nc', 'Bow_at_Banff_distributed_ERA5_remapped_domain_Bow_at_Banff_distributed_ERA5_merged_202001.nc', 'Bow_at_Banff_distributed_ERA5_remapped_domain_Bow_at_Banff_distributed_ERA5_merged_202002.nc', 'Bow_at_Banff_distributed_ERA5_remapped_domain_Bow_at_Banff_distributed_ERA5_merged_202003.nc', 'Bow_at_Banff_distributed_ERA5_remapped_domain_Bow_at_Banff_distributed_ERA5_merged_202004.nc', 'Bow_at_Banff_distributed_ERA5_remapped_domain_Bow_at_Banff_distributed_ERA5_merged_202005.nc', 'Bow_at_Banff_distributed_ERA5_remapped_domain_Bow_at_Banff_distributed_ERA5_merged_202006.nc', 'Bow_at_Banff_distributed_ERA5_remapped_domain_Bow_at_Banff_distributed_ERA5_merged_202007.nc', 'Bow_at_Banff_distributed_ERA5_remapped_domain_Bow_at_Banff_distributed_ERA5_merged_202008.nc', 'Bow_at_Banff_distributed_ERA5_remapped_domain_Bow_at_Banff_distributed_ERA5_merged_202009.nc', 'Bow_at_Banff_distributed_ERA5_remapped_domain_Bow_at_Banff_distributed_ERA5_merged_202010.nc', 'Bow_at_Banff_distributed_ERA5_remapped_domain_Bow_at_Banff_distributed_ERA5_merged_202011.nc', 'Bow_at_Banff_distributed_ERA5_remapped_domain_Bow_at_Banff_distributed_ERA5_merged_202012.nc', 'Bow_at_Banff_distributed_ERA5_remapped_domain_Bow_at_Banff_distributed_ERA5_merged_202101.nc', 'Bow_at_Banff_distributed_ERA5_remapped_domain_Bow_at_Banff_distributed_ERA5_merged_202102.nc', 'Bow_at_Banff_distributed_ERA5_remapped_domain_Bow_at_Banff_distributed_ERA5_merged_202103.nc', 'Bow_at_Banff_distributed_ERA5_remapped_domain_Bow_at_Banff_distributed_ERA5_merged_202104.nc', 'Bow_at_Banff_distributed_ERA5_remapped_domain_Bow_at_Banff_distributed_ERA5_merged_202105.nc', 'Bow_at_Banff_distributed_ERA5_remapped_domain_Bow_at_Banff_distributed_ERA5_merged_202106.nc', 'Bow_at_Banff_distributed_ERA5_remapped_domain_Bow_at_Banff_distributed_ERA5_merged_202107.nc', 'Bow_at_Banff_distributed_ERA5_remapped_domain_Bow_at_Banff_distributed_ERA5_merged_202108.nc', 'Bow_at_Banff_distributed_ERA5_remapped_domain_Bow_at_Banff_distributed_ERA5_merged_202109.nc', 'Bow_at_Banff_distributed_ERA5_remapped_domain_Bow_at_Banff_distributed_ERA5_merged_202110.nc', 'Bow_at_Banff_distributed_ERA5_remapped_domain_Bow_at_Banff_distributed_ERA5_merged_202111.nc', 'Bow_at_Banff_distributed_ERA5_remapped_domain_Bow_at_Banff_distributed_ERA5_merged_202112.nc', 'Bow_at_Banff_distributed_ERA5_remapped_domain_Bow_at_Banff_distributed_ERA5_merged_202201.nc', 'Bow_at_Banff_distributed_ERA5_remapped_domain_Bow_at_Banff_distributed_ERA5_merged_202202.nc', 'Bow_at_Banff_distributed_ERA5_remapped_domain_Bow_at_Banff_distributed_ERA5_merged_202203.nc', 'Bow_at_Banff_distributed_ERA5_remapped_domain_Bow_at_Banff_distributed_ERA5_merged_202204.nc', 'Bow_at_Banff_distributed_ERA5_remapped_domain_Bow_at_Banff_distributed_ERA5_merged_202205.nc', 'Bow_at_Banff_distributed_ERA5_remapped_domain_Bow_at_Banff_distributed_ERA5_merged_202206.nc', 'Bow_at_Banff_distributed_ERA5_remapped_domain_Bow_at_Banff_distributed_ERA5_merged_202207.nc', 'Bow_at_Banff_distributed_ERA5_remapped_domain_Bow_at_Banff_distributed_ERA5_merged_202208.nc', 'Bow_at_Banff_distributed_ERA5_remapped_domain_Bow_at_Banff_distributed_ERA5_merged_202209.nc', 'Bow_at_Banff_distributed_ERA5_remapped_domain_Bow_at_Banff_distributed_ERA5_merged_202210.nc', 'Bow_at_Banff_distributed_ERA5_remapped_domain_Bow_at_Banff_distributed_ERA5_merged_202211.nc', 'Bow_at_Banff_distributed_ERA5_remapped_domain_Bow_at_Banff_distributed_ERA5_merged_202212.nc']\n"
     ]
    },
    {
     "name": "stdout",
     "output_type": "stream",
     "text": [
      "17:43:48 - INFO - Completed processing of ERA5 forcing files with temperature lapsing\n"
     ]
    },
    {
     "name": "stderr",
     "output_type": "stream",
     "text": [
      "2025-05-13 17:43:48,707 - confluence_general - INFO - Completed processing of ERA5 forcing files with temperature lapsing\n"
     ]
    },
    {
     "name": "stdout",
     "output_type": "stream",
     "text": [
      "17:43:48 - INFO - Copying SUMMA base settings\n"
     ]
    },
    {
     "name": "stderr",
     "output_type": "stream",
     "text": [
      "2025-05-13 17:43:48,710 - confluence_general - INFO - Copying SUMMA base settings\n"
     ]
    },
    {
     "name": "stdout",
     "output_type": "stream",
     "text": [
      "17:43:48 - INFO - SUMMA base settings copied to /work/comphyd_lab/data/CONFLUENCE_data/domain_Bow_at_Banff_distributed/settings/SUMMA\n"
     ]
    },
    {
     "name": "stderr",
     "output_type": "stream",
     "text": [
      "2025-05-13 17:43:48,753 - confluence_general - INFO - SUMMA base settings copied to /work/comphyd_lab/data/CONFLUENCE_data/domain_Bow_at_Banff_distributed/settings/SUMMA\n"
     ]
    },
    {
     "name": "stdout",
     "output_type": "stream",
     "text": [
      "17:43:48 - INFO - Creating SUMMA file manager\n"
     ]
    },
    {
     "name": "stderr",
     "output_type": "stream",
     "text": [
      "2025-05-13 17:43:48,755 - confluence_general - INFO - Creating SUMMA file manager\n"
     ]
    },
    {
     "name": "stdout",
     "output_type": "stream",
     "text": [
      "17:43:48 - INFO - SUMMA file manager created at /work/comphyd_lab/data/CONFLUENCE_data/domain_Bow_at_Banff_distributed/settings/SUMMA/fileManager.txt\n"
     ]
    },
    {
     "name": "stderr",
     "output_type": "stream",
     "text": [
      "2025-05-13 17:43:48,762 - confluence_general - INFO - SUMMA file manager created at /work/comphyd_lab/data/CONFLUENCE_data/domain_Bow_at_Banff_distributed/settings/SUMMA/fileManager.txt\n"
     ]
    },
    {
     "name": "stdout",
     "output_type": "stream",
     "text": [
      "17:43:48 - INFO - Creating forcing file list\n"
     ]
    },
    {
     "name": "stderr",
     "output_type": "stream",
     "text": [
      "2025-05-13 17:43:48,764 - confluence_general - INFO - Creating forcing file list\n"
     ]
    },
    {
     "name": "stdout",
     "output_type": "stream",
     "text": [
      "17:43:48 - INFO - Forcing file list created at /work/comphyd_lab/data/CONFLUENCE_data/domain_Bow_at_Banff_distributed/settings/SUMMA/forcingFileList.txt\n"
     ]
    },
    {
     "name": "stderr",
     "output_type": "stream",
     "text": [
      "2025-05-13 17:43:48,792 - confluence_general - INFO - Forcing file list created at /work/comphyd_lab/data/CONFLUENCE_data/domain_Bow_at_Banff_distributed/settings/SUMMA/forcingFileList.txt\n"
     ]
    },
    {
     "name": "stdout",
     "output_type": "stream",
     "text": [
      "17:43:48 - INFO - Creating initial conditions (cold state) file\n"
     ]
    },
    {
     "name": "stderr",
     "output_type": "stream",
     "text": [
      "2025-05-13 17:43:48,794 - confluence_general - INFO - Creating initial conditions (cold state) file\n"
     ]
    },
    {
     "name": "stdout",
     "output_type": "stream",
     "text": [
      "17:43:48 - INFO - Creating initial conditions (cold state) file\n"
     ]
    },
    {
     "name": "stderr",
     "output_type": "stream",
     "text": [
      "2025-05-13 17:43:48,795 - confluence_general - INFO - Creating initial conditions (cold state) file\n"
     ]
    },
    {
     "name": "stdout",
     "output_type": "stream",
     "text": [
      "17:43:48 - INFO - Initial conditions file created at: /work/comphyd_lab/data/CONFLUENCE_data/domain_Bow_at_Banff_distributed/settings/SUMMA/coldState.nc\n"
     ]
    },
    {
     "name": "stderr",
     "output_type": "stream",
     "text": [
      "2025-05-13 17:43:48,871 - confluence_general - INFO - Initial conditions file created at: /work/comphyd_lab/data/CONFLUENCE_data/domain_Bow_at_Banff_distributed/settings/SUMMA/coldState.nc\n"
     ]
    },
    {
     "name": "stdout",
     "output_type": "stream",
     "text": [
      "17:43:48 - INFO - Creating trial parameters file\n"
     ]
    },
    {
     "name": "stderr",
     "output_type": "stream",
     "text": [
      "2025-05-13 17:43:48,874 - confluence_general - INFO - Creating trial parameters file\n"
     ]
    },
    {
     "name": "stdout",
     "output_type": "stream",
     "text": [
      "17:43:48 - INFO - Trial parameters file created at: /work/comphyd_lab/data/CONFLUENCE_data/domain_Bow_at_Banff_distributed/settings/SUMMA/trialParams.nc\n"
     ]
    },
    {
     "name": "stderr",
     "output_type": "stream",
     "text": [
      "2025-05-13 17:43:48,934 - confluence_general - INFO - Trial parameters file created at: /work/comphyd_lab/data/CONFLUENCE_data/domain_Bow_at_Banff_distributed/settings/SUMMA/trialParams.nc\n"
     ]
    },
    {
     "name": "stdout",
     "output_type": "stream",
     "text": [
      "17:43:48 - INFO - Creating attributes file\n"
     ]
    },
    {
     "name": "stderr",
     "output_type": "stream",
     "text": [
      "2025-05-13 17:43:48,936 - confluence_general - INFO - Creating attributes file\n"
     ]
    },
    {
     "name": "stdout",
     "output_type": "stream",
     "text": [
      "17:43:49 - INFO - Attributes file created at: /work/comphyd_lab/data/CONFLUENCE_data/domain_Bow_at_Banff_distributed/settings/SUMMA/attributes.nc\n"
     ]
    },
    {
     "name": "stderr",
     "output_type": "stream",
     "text": [
      "2025-05-13 17:43:49,157 - confluence_general - INFO - Attributes file created at: /work/comphyd_lab/data/CONFLUENCE_data/domain_Bow_at_Banff_distributed/settings/SUMMA/attributes.nc\n"
     ]
    },
    {
     "name": "stdout",
     "output_type": "stream",
     "text": [
      "17:43:49 - INFO - Inserting land class into attributes file\n"
     ]
    },
    {
     "name": "stderr",
     "output_type": "stream",
     "text": [
      "2025-05-13 17:43:49,160 - confluence_general - INFO - Inserting land class into attributes file\n"
     ]
    },
    {
     "name": "stdout",
     "output_type": "stream",
     "text": [
      "17:43:49 - INFO - 0 HRUs were identified as containing only open water. Note that SUMMA skips hydrologic calculations for such HRUs.\n"
     ]
    },
    {
     "name": "stderr",
     "output_type": "stream",
     "text": [
      "2025-05-13 17:43:49,304 - confluence_general - INFO - 0 HRUs were identified as containing only open water. Note that SUMMA skips hydrologic calculations for such HRUs.\n"
     ]
    },
    {
     "name": "stdout",
     "output_type": "stream",
     "text": [
      "17:43:49 - INFO - Inserting soil class into attributes file\n"
     ]
    },
    {
     "name": "stderr",
     "output_type": "stream",
     "text": [
      "2025-05-13 17:43:49,308 - confluence_general - INFO - Inserting soil class into attributes file\n"
     ]
    },
    {
     "name": "stdout",
     "output_type": "stream",
     "text": [
      "17:43:49 - INFO - Inserting elevation into attributes file\n"
     ]
    },
    {
     "name": "stderr",
     "output_type": "stream",
     "text": [
      "2025-05-13 17:43:49,479 - confluence_general - INFO - Inserting elevation into attributes file\n"
     ]
    },
    {
     "name": "stdout",
     "output_type": "stream",
     "text": [
      "17:43:49 - INFO - SUMMA spatial preprocessing completed successfully\n"
     ]
    },
    {
     "name": "stderr",
     "output_type": "stream",
     "text": [
      "2025-05-13 17:43:49,570 - confluence_general - INFO - SUMMA spatial preprocessing completed successfully\n"
     ]
    },
    {
     "name": "stdout",
     "output_type": "stream",
     "text": [
      "17:43:49 - INFO - Initializing MizuRoute preprocessor\n"
     ]
    },
    {
     "name": "stderr",
     "output_type": "stream",
     "text": [
      "2025-05-13 17:43:49,572 - confluence_general - INFO - Initializing MizuRoute preprocessor\n"
     ]
    },
    {
     "name": "stdout",
     "output_type": "stream",
     "text": [
      "17:43:49 - INFO - Starting mizuRoute spatial preprocessing\n"
     ]
    },
    {
     "name": "stderr",
     "output_type": "stream",
     "text": [
      "2025-05-13 17:43:49,573 - confluence_general - INFO - Starting mizuRoute spatial preprocessing\n"
     ]
    },
    {
     "name": "stdout",
     "output_type": "stream",
     "text": [
      "17:43:49 - INFO - Copying mizuRoute base settings\n"
     ]
    },
    {
     "name": "stderr",
     "output_type": "stream",
     "text": [
      "2025-05-13 17:43:49,575 - confluence_general - INFO - Copying mizuRoute base settings\n"
     ]
    },
    {
     "name": "stdout",
     "output_type": "stream",
     "text": [
      "17:43:49 - INFO - mizuRoute base settings copied\n"
     ]
    },
    {
     "name": "stderr",
     "output_type": "stream",
     "text": [
      "2025-05-13 17:43:49,599 - confluence_general - INFO - mizuRoute base settings copied\n"
     ]
    },
    {
     "name": "stdout",
     "output_type": "stream",
     "text": [
      "17:43:49 - INFO - Creating network topology file\n"
     ]
    },
    {
     "name": "stderr",
     "output_type": "stream",
     "text": [
      "2025-05-13 17:43:49,601 - confluence_general - INFO - Creating network topology file\n"
     ]
    },
    {
     "name": "stdout",
     "output_type": "stream",
     "text": [
      "17:43:49 - INFO - Network topology file created at /work/comphyd_lab/data/CONFLUENCE_data/domain_Bow_at_Banff_distributed/settings/mizuRoute/topology.nc\n"
     ]
    },
    {
     "name": "stderr",
     "output_type": "stream",
     "text": [
      "2025-05-13 17:43:49,644 - confluence_general - INFO - Network topology file created at /work/comphyd_lab/data/CONFLUENCE_data/domain_Bow_at_Banff_distributed/settings/mizuRoute/topology.nc\n"
     ]
    },
    {
     "name": "stdout",
     "output_type": "stream",
     "text": [
      "17:43:49 - INFO - Creating mizuRoute control file\n"
     ]
    },
    {
     "name": "stderr",
     "output_type": "stream",
     "text": [
      "2025-05-13 17:43:49,646 - confluence_general - INFO - Creating mizuRoute control file\n"
     ]
    },
    {
     "name": "stdout",
     "output_type": "stream",
     "text": [
      "17:43:49 - INFO - mizuRoute control file created at /work/comphyd_lab/data/CONFLUENCE_data/domain_Bow_at_Banff_distributed/settings/mizuRoute/mizuroute.control\n"
     ]
    },
    {
     "name": "stderr",
     "output_type": "stream",
     "text": [
      "2025-05-13 17:43:49,650 - confluence_general - INFO - mizuRoute control file created at /work/comphyd_lab/data/CONFLUENCE_data/domain_Bow_at_Banff_distributed/settings/mizuRoute/mizuroute.control\n"
     ]
    },
    {
     "name": "stdout",
     "output_type": "stream",
     "text": [
      "17:43:49 - INFO - mizuRoute spatial preprocessing completed\n"
     ]
    },
    {
     "name": "stderr",
     "output_type": "stream",
     "text": [
      "2025-05-13 17:43:49,652 - confluence_general - INFO - mizuRoute spatial preprocessing completed\n"
     ]
    },
    {
     "name": "stdout",
     "output_type": "stream",
     "text": [
      "17:43:49 - INFO - Model-specific preprocessing completed\n"
     ]
    },
    {
     "name": "stderr",
     "output_type": "stream",
     "text": [
      "2025-05-13 17:43:49,654 - confluence_general - INFO - Model-specific preprocessing completed\n"
     ]
    },
    {
     "name": "stdout",
     "output_type": "stream",
     "text": [
      "\n",
      "✓ Model-specific preprocessing completed\n"
     ]
    }
   ],
   "source": [
    "# Model Specific Processing and Initialization\n",
    "\n",
    "print(f\"Preparing {confluence.config['HYDROLOGICAL_MODEL']} input files...\")\n",
    "print(f\"Note: For distributed mode with {confluence.config['HYDROLOGICAL_MODEL']}, this includes generating:\")\n",
    "print(f\"  - Model parameter files for each GRU\")\n",
    "print(f\"  - Routing configuration for river network\")\n",
    "\n",
    "confluence.managers['model'].preprocess_models()\n",
    "\n",
    "print(\"\\n✓ Model-specific preprocessing completed\")"
   ]
  },
  {
   "cell_type": "markdown",
   "metadata": {},
   "source": [
    "## 13. Run the Distributed Model\n",
    "\n",
    "Now we execute the SUMMA model in distributed mode with routing."
   ]
  },
  {
   "cell_type": "code",
   "execution_count": null,
   "metadata": {},
   "outputs": [
    {
     "name": "stdout",
     "output_type": "stream",
     "text": [
      "Note: This will take longer than the lumped model due to multiple units.\n",
      "19:21:50 - INFO - Starting model runs\n"
     ]
    },
    {
     "name": "stderr",
     "output_type": "stream",
     "text": [
      "2025-05-13 19:21:50,720 - confluence_general - INFO - Starting model runs\n"
     ]
    },
    {
     "name": "stdout",
     "output_type": "stream",
     "text": [
      "19:21:50 - INFO - Running model: SUMMA\n"
     ]
    },
    {
     "name": "stderr",
     "output_type": "stream",
     "text": [
      "2025-05-13 19:21:50,722 - confluence_general - INFO - Running model: SUMMA\n"
     ]
    },
    {
     "name": "stdout",
     "output_type": "stream",
     "text": [
      "19:21:50 - INFO - Starting SUMMA run\n"
     ]
    },
    {
     "name": "stderr",
     "output_type": "stream",
     "text": [
      "2025-05-13 19:21:50,723 - confluence_general - INFO - Starting SUMMA run\n"
     ]
    }
   ],
   "source": [
    "# Run the Distributed Model\n",
    "print(\"Note: This will take longer than the lumped model due to multiple units.\")\n",
    "\n",
    "confluence.managers['model'].run_models()\n",
    "\n",
    "print(\"\\n✓ Model execution completed\")"
   ]
  },
  {
   "cell_type": "markdown",
   "metadata": {},
   "source": [
    "## Visualize Distributed Model Results"
   ]
  },
  {
   "cell_type": "code",
   "execution_count": null,
   "metadata": {},
   "outputs": [],
   "source": [
    "# Visualize Observed vs. Simulated Streamflow for Distributed Model\n",
    "\n",
    "import numpy as np\n",
    "import matplotlib.dates as mdates\n",
    "\n",
    "# Load and plot simulation results\n",
    "sim_path = project_dir / 'simulations' / confluence.config['EXPERIMENT_ID'] / 'mizuRoute'\n",
    "sim_files = list(sim_path.glob('*.nc'))\n",
    "\n",
    "if not sim_files:\n",
    "    print(\"No mizuRoute simulation results found. Check if model execution was successful.\")\n",
    "    print(f\"Expected path: {sim_path}\")\n",
    "    \n",
    "    # Check for alternative locations\n",
    "    alt_sim_paths = list(Path(config_dict['CONFLUENCE_DATA_DIR']).glob(\n",
    "        f\"domain_{config_dict['DOMAIN_NAME']}/simulations/{config_dict['EXPERIMENT_ID']}/mizuRoute/*.nc\"))\n",
    "    \n",
    "    if alt_sim_paths:\n",
    "        sim_files = alt_sim_paths\n",
    "        print(f\"Found alternative simulation data at: {sim_files[0]}\")\n",
    "    else:\n",
    "        print(\"No simulation results found anywhere. Visualization cannot proceed.\")\n",
    "\n",
    "if sim_files:\n",
    "    try:\n",
    "        # Load simulation data\n",
    "        print(f\"Loading simulation data from: {sim_files[0]}\")\n",
    "        sim_data = xr.open_dataset(sim_files[0])\n",
    "        \n",
    "        # Load observation data\n",
    "        obs_path = project_dir / 'observations' / 'streamflow' / 'preprocessed' / f\"{confluence.config['DOMAIN_NAME']}_streamflow_processed.csv\"\n",
    "        \n",
    "        if not obs_path.exists():\n",
    "            print(f\"Warning: Observation data not found at expected path: {obs_path}\")\n",
    "            print(\"Checking for alternative locations...\")\n",
    "            alt_obs_paths = list(Path(config_dict['CONFLUENCE_DATA_DIR']).glob(\n",
    "                f\"domain_{config_dict['DOMAIN_NAME']}/observations/streamflow/preprocessed/*_streamflow_processed.csv\"))\n",
    "            \n",
    "            if alt_obs_paths:\n",
    "                obs_path = alt_obs_paths[0]\n",
    "                print(f\"Found alternative observation data at: {obs_path}\")\n",
    "            else:\n",
    "                print(\"No observation data found. Only simulations will be displayed.\")\n",
    "        \n",
    "        if obs_path.exists():\n",
    "            print(f\"Loading observation data from: {obs_path}\")\n",
    "            obs_df = pd.read_csv(obs_path)\n",
    "            obs_df['datetime'] = pd.to_datetime(obs_df['datetime'])\n",
    "            obs_df.set_index('datetime', inplace=True)\n",
    "            print(f\"Observation period: {obs_df.index.min()} to {obs_df.index.max()}\")\n",
    "        else:\n",
    "            obs_df = None\n",
    "            \n",
    "        # Find the segment ID for the outlet\n",
    "        reach_id = int(confluence.config.get('SIM_REACH_ID', 0))\n",
    "        print(f\"Using reach ID for outlet: {reach_id}\")\n",
    "        \n",
    "        if 'reachID' in sim_data.variables:\n",
    "            # Find the index of our target reach\n",
    "            reach_indices = np.where(sim_data.reachID.values == reach_id)[0]\n",
    "            \n",
    "            if len(reach_indices) > 0:\n",
    "                reach_idx = reach_indices[0]\n",
    "                print(f\"Found reach ID {reach_id} at index {reach_idx}\")\n",
    "                \n",
    "                # Extract simulated flow at outlet\n",
    "                if 'IRFroutedRunoff' in sim_data.variables:\n",
    "                    print(\"Extracting IRFroutedRunoff variable\")\n",
    "                    \n",
    "                    # Extract flow at the outlet segment\n",
    "                    if 'seg' in sim_data.dims:\n",
    "                        sim_flow = sim_data.IRFroutedRunoff.sel(seg=reach_idx).to_series()\n",
    "                    else:\n",
    "                        sim_flow = sim_data.IRFroutedRunoff.isel(reachID=reach_idx).to_series()\n",
    "                    \n",
    "                    sim_df = pd.DataFrame(sim_flow)\n",
    "                    sim_df.columns = ['discharge_cms']\n",
    "                    \n",
    "                    # Determine common time period if observations exist\n",
    "                    if obs_df is not None:\n",
    "                        # Align to daily timestep for comparison\n",
    "                        obs_daily = obs_df.resample('D').mean()\n",
    "                        sim_daily = sim_df.resample('D').mean()\n",
    "                        \n",
    "                        # Find overlapping time period\n",
    "                        start_date = max(obs_daily.index.min(), sim_daily.index.min())\n",
    "                        end_date = min(obs_daily.index.max(), sim_daily.index.max())\n",
    "                        \n",
    "                        # Advance start date by 1 month to skip initial spinup\n",
    "                        start_date = start_date + pd.DateOffset(months=1)\n",
    "                        \n",
    "                        print(f\"Common data period (after skipping 1 month spinup): {start_date} to {end_date}\")\n",
    "                        \n",
    "                        # Filter to common period\n",
    "                        obs_period = obs_daily.loc[start_date:end_date]\n",
    "                        sim_period = sim_daily.loc[start_date:end_date]\n",
    "                        \n",
    "                        # Calculate performance metrics\n",
    "                        rmse = np.sqrt(((obs_period['discharge_cms'] - sim_period['discharge_cms'])**2).mean())\n",
    "                        \n",
    "                        # Calculate Nash-Sutcliffe Efficiency (NSE)\n",
    "                        mean_obs = obs_period['discharge_cms'].mean()\n",
    "                        numerator = ((obs_period['discharge_cms'] - sim_period['discharge_cms'])**2).sum()\n",
    "                        denominator = ((obs_period['discharge_cms'] - mean_obs)**2).sum()\n",
    "                        nse = 1 - (numerator / denominator)\n",
    "                        \n",
    "                        # Calculate Percent Bias (PBIAS)\n",
    "                        pbias = 100 * (sim_period['discharge_cms'].sum() - obs_period['discharge_cms'].sum()) / obs_period['discharge_cms'].sum()\n",
    "                        \n",
    "                        # Calculate Kling-Gupta Efficiency (KGE)\n",
    "                        r = obs_period['discharge_cms'].corr(sim_period['discharge_cms'])  # Correlation\n",
    "                        alpha = sim_period['discharge_cms'].std() / obs_period['discharge_cms'].std()  # Relative variability\n",
    "                        beta = sim_period['discharge_cms'].mean() / obs_period['discharge_cms'].mean()  # Bias ratio\n",
    "                        kge = 1 - ((r - 1)**2 + (alpha - 1)**2 + (beta - 1)**2)**0.5\n",
    "                        \n",
    "                        print(f\"Performance metrics:\")\n",
    "                        print(f\"  - RMSE: {rmse:.2f} m³/s\")\n",
    "                        print(f\"  - NSE: {nse:.2f}\")\n",
    "                        print(f\"  - PBIAS: {pbias:.2f}%\")\n",
    "                        print(f\"  - KGE: {kge:.2f}\")\n",
    "                        \n",
    "                        # Create figure with two subplots for time series and flow duration curve\n",
    "                        fig, (ax1, ax2) = plt.subplots(2, 1, figsize=(15, 16))\n",
    "                        fig.suptitle(f\"Distributed Model Results - {confluence.config['DOMAIN_NAME'].replace('_', ' ').title()}\", \n",
    "                                     fontsize=16, fontweight='bold')\n",
    "                        \n",
    "                        # Plot time series\n",
    "                        ax1.plot(obs_period.index, obs_period['discharge_cms'], \n",
    "                                 'b-', label='Observed', linewidth=1.5, alpha=0.7)\n",
    "                        ax1.plot(sim_period.index, sim_period['discharge_cms'], \n",
    "                                 'r-', label='Simulated (Distributed)', linewidth=1.5, alpha=0.7)\n",
    "                        \n",
    "                        # Add calibration/evaluation period shading if configured\n",
    "                        if 'CALIBRATION_PERIOD' in confluence.config and 'EVALUATION_PERIOD' in confluence.config:\n",
    "                            cal_start = pd.Timestamp(confluence.config.get('CALIBRATION_PERIOD').split(',')[0].strip())\n",
    "                            cal_end = pd.Timestamp(confluence.config.get('CALIBRATION_PERIOD').split(',')[1].strip())\n",
    "                            eval_start = pd.Timestamp(confluence.config.get('EVALUATION_PERIOD').split(',')[0].strip())\n",
    "                            eval_end = pd.Timestamp(confluence.config.get('EVALUATION_PERIOD').split(',')[1].strip())\n",
    "                            \n",
    "                            # Only shade if within the plot range\n",
    "                            if cal_start <= end_date and cal_end >= start_date:\n",
    "                                valid_cal_start = max(cal_start, start_date)\n",
    "                                valid_cal_end = min(cal_end, end_date)\n",
    "                                ax1.axvspan(valid_cal_start, valid_cal_end, alpha=0.2, color='gray', label='Calibration Period')\n",
    "                            \n",
    "                            if eval_start <= end_date and eval_end >= start_date:\n",
    "                                valid_eval_start = max(eval_start, start_date)\n",
    "                                valid_eval_end = min(eval_end, end_date)\n",
    "                                ax1.axvspan(valid_eval_start, valid_eval_end, alpha=0.2, color='lightblue', label='Evaluation Period')\n",
    "                        \n",
    "                        ax1.set_xlabel('Date', fontsize=12)\n",
    "                        ax1.set_ylabel('Discharge (m³/s)', fontsize=12)\n",
    "                        ax1.set_title('Streamflow Comparison', fontsize=14)\n",
    "                        ax1.legend(loc='upper right', fontsize=10)\n",
    "                        ax1.grid(True, linestyle=':', alpha=0.6)\n",
    "                        ax1.set_facecolor('#f0f0f0')\n",
    "                        \n",
    "                        # Format x-axis\n",
    "                        ax1.xaxis.set_major_locator(mdates.YearLocator())\n",
    "                        ax1.xaxis.set_major_formatter(mdates.DateFormatter('%Y'))\n",
    "                        \n",
    "                        # Add metrics as text\n",
    "                        ax1.text(0.02, 0.95, \n",
    "                                 f\"RMSE: {rmse:.2f} m³/s\\nNSE: {nse:.2f}\\nPBIAS: {pbias:.2f}%\\nKGE: {kge:.2f}\",\n",
    "                                 transform=ax1.transAxes, \n",
    "                                 fontsize=12,\n",
    "                                 bbox=dict(facecolor='white', alpha=0.8, boxstyle='round,pad=0.5'))\n",
    "                        \n",
    "                        # Plot flow duration curve\n",
    "                        # Sort values in descending order\n",
    "                        obs_sorted = obs_period['discharge_cms'].sort_values(ascending=False)\n",
    "                        sim_sorted = sim_period['discharge_cms'].sort_values(ascending=False)\n",
    "                        \n",
    "                        # Calculate exceedance probabilities\n",
    "                        obs_ranks = np.arange(1., len(obs_sorted) + 1) / len(obs_sorted)\n",
    "                        sim_ranks = np.arange(1., len(sim_sorted) + 1) / len(sim_sorted)\n",
    "                        \n",
    "                        # Plot Flow Duration Curves\n",
    "                        ax2.loglog(obs_ranks * 100, obs_sorted, 'b-', label='Observed', linewidth=2)\n",
    "                        ax2.loglog(sim_ranks * 100, sim_sorted, 'r-', label='Simulated', linewidth=2)\n",
    "                        \n",
    "                        ax2.set_xlabel('Exceedance Probability (%)', fontsize=12)\n",
    "                        ax2.set_ylabel('Discharge (m³/s)', fontsize=12)\n",
    "                        ax2.set_title('Flow Duration Curve', fontsize=14)\n",
    "                        ax2.legend(loc='best', fontsize=10)\n",
    "                        ax2.grid(True, which='both', linestyle=':', alpha=0.6)\n",
    "                        ax2.set_facecolor('#f0f0f0')\n",
    "                        \n",
    "                        # Add flow regime regions\n",
    "                        ax2.axvspan(0, 20, alpha=0.2, color='blue', label='High Flows')\n",
    "                        ax2.axvspan(20, 70, alpha=0.2, color='green', label='Medium Flows')\n",
    "                        ax2.axvspan(70, 100, alpha=0.2, color='red', label='Low Flows')\n",
    "                        \n",
    "                        # Save the plot to file\n",
    "                        plot_folder = project_dir / \"plots\" / \"results\"\n",
    "                        plot_folder.mkdir(parents=True, exist_ok=True)\n",
    "                        plot_filename = plot_folder / f\"{confluence.config['EXPERIMENT_ID']}_streamflow_comparison.png\"\n",
    "                        \n",
    "                        plt.tight_layout()\n",
    "                        plt.subplots_adjust(top=0.93)\n",
    "                        plt.savefig(plot_filename, dpi=300, bbox_inches='tight')\n",
    "                        print(f\"Plot saved to: {plot_filename}\")\n",
    "                        \n",
    "                        plt.show()\n",
    "                    else:\n",
    "                        # If no observations, just plot simulation\n",
    "                        fig, ax = plt.subplots(figsize=(14, 6))\n",
    "                        ax.plot(sim_df.index, sim_df['discharge_cms'], \n",
    "                                color='red', linewidth=1.5, label='Simulated (Distributed)')\n",
    "                        \n",
    "                        ax.set_xlabel('Date', fontsize=12)\n",
    "                        ax.set_ylabel('Discharge (m³/s)', fontsize=12)\n",
    "                        ax.set_title(f'Distributed Model Results - {confluence.config[\"DOMAIN_NAME\"].replace(\"_\", \" \").title()}', \n",
    "                                    fontsize=14, fontweight='bold')\n",
    "                        ax.grid(True, alpha=0.3)\n",
    "                        ax.legend(fontsize=10)\n",
    "                        \n",
    "                        plt.tight_layout()\n",
    "                        plt.show()\n",
    "                else:\n",
    "                    print(\"Error: IRFroutedRunoff variable not found in simulation output\")\n",
    "                    print(f\"Available variables: {list(sim_data.variables)}\")\n",
    "            else:\n",
    "                print(f\"Error: Could not find reach ID {reach_id} in simulation output\")\n",
    "                print(f\"Available reach IDs: {sim_data.reachID.values}\")\n",
    "        else:\n",
    "            print(\"Error: reachID variable not found in simulation output\")\n",
    "            print(f\"Available variables: {list(sim_data.variables)}\")\n",
    "        \n",
    "        # Close the dataset\n",
    "        sim_data.close()\n",
    "    except Exception as e:\n",
    "        print(f\"Error visualizing simulation results: {str(e)}\")\n",
    "        import traceback\n",
    "        print(traceback.format_exc())\n",
    "else:\n",
    "    print(\"No simulation results found. Check model execution.\")"
   ]
  },
  {
   "cell_type": "markdown",
   "metadata": {},
   "source": [
    "## 16. Optimization and Analysis (Optional)\n"
   ]
  },
  {
   "cell_type": "code",
   "execution_count": null,
   "metadata": {},
   "outputs": [],
   "source": []
  },
  {
   "cell_type": "markdown",
   "metadata": {},
   "source": [
    "## 17. Compare Lumped vs Distributed Results (Optional)\n",
    "\n",
    "If you've completed the lumped model tutorial, we can compare results between the two approaches."
   ]
  },
  {
   "cell_type": "code",
   "execution_count": null,
   "metadata": {},
   "outputs": [],
   "source": [
    "# Step 15: Compare Lumped vs. Distributed Model Results\n",
    "print(\"=== Step 15: Comparing Lumped and Distributed Model Results ===\")\n",
    "\n",
    "# Import necessary libraries if not already imported\n",
    "import numpy as np\n",
    "import matplotlib.dates as mdates\n",
    "\n",
    "# Set paths for both lumped and distributed model results\n",
    "lumped_domain = 'Bow_at_Banff_lumped_tutorial'\n",
    "lumped_sim_path = CONFLUENCE_DATA_DIR / f'domain_{lumped_domain}' / 'simulations' / 'tutorial_run' / 'SUMMA'\n",
    "dist_sim_path = Path(config_dict['CONFLUENCE_DATA_DIR'] / f\"{domain_confluence.config['DOMAIN_NAME']}\"  / 'simulations' / confluence.config['EXPERIMENT_ID'] / 'mizuRoute'\n",
    "\n",
    "# Check if paths exist and find simulation files\n",
    "lumped_sim_files = str(lumped_sim_path / 'tutorial_run_timestep.nc')\n",
    "dist_sim_files = list(dist_sim_path.glob('*.nc')) if dist_sim_path.exists() else []\n",
    "\n",
    "# Check what result files are available\n",
    "if not lumped_sim_files and not dist_sim_files:\n",
    "    print(\"Neither lumped nor distributed model results found. Run both models first for comparison.\")\n",
    "elif not lumped_sim_files:\n",
    "    print(\"Lumped model results not found. Complete Tutorial 2 first for comparison.\")\n",
    "elif not dist_sim_files:\n",
    "    print(\"Distributed simulation results not found. Run the distributed model first.\")\n",
    "else:\n",
    "    print(\"Found both lumped and distributed model results. Creating comparison plot...\")\n",
    "    \n",
    "    try:\n",
    "        # Load lumped simulation data\n",
    "        print(f\"Loading lumped model results from: {lumped_sim_files[0]}\")\n",
    "        lumped_data = xr.open_dataset(lumped_sim_files[0])\n",
    "        \n",
    "        # Load distributed simulation data\n",
    "        print(f\"Loading distributed model results from: {dist_sim_files[0]}\")\n",
    "        dist_data = xr.open_dataset(dist_sim_files[0])\n",
    "        \n",
    "        # Load observation data\n",
    "        obs_path = Path(config_dict['CONFLUENCE_DATA_DIR'] / f\"{domain_confluence.config['DOMAIN_NAME']}\"  / 'observations' / 'streamflow' / 'preprocessed' / f\"{confluence.config['DOMAIN_NAME']}_streamflow_processed.csv\"\n",
    "        \n",
    "        if not obs_path.exists():\n",
    "            print(f\"Observation data not found at: {obs_path}\")\n",
    "            # Try to find observations in the lumped domain directory\n",
    "            alt_obs_path = CONFLUENCE_DATA_DIR / f'domain_{lumped_domain}' / 'observations' / 'streamflow' / 'preprocessed' / f\"{lumped_domain}_streamflow_processed.csv\"\n",
    "            if alt_obs_path.exists():\n",
    "                obs_path = alt_obs_path\n",
    "                print(f\"Found alternative observation data at: {obs_path}\")\n",
    "            else:\n",
    "                print(\"No observation data found. Only simulations will be compared.\")\n",
    "        \n",
    "        obs_df = None\n",
    "        if obs_path.exists():\n",
    "            print(f\"Loading observation data from: {obs_path}\")\n",
    "            obs_df = pd.read_csv(obs_path)\n",
    "            obs_df['datetime'] = pd.to_datetime(obs_df['datetime'])\n",
    "            obs_df.set_index('datetime', inplace=True)\n",
    "            print(f\"Observation period: {obs_df.index.min()} to {obs_df.index.max()}\")\n",
    "        \n",
    "        # Define reach IDs for each model\n",
    "        lumped_reach_id = int(config_dict.get('SIM_REACH_ID', 0))\n",
    "        dist_reach_id = int(confluence.config.get('SIM_REACH_ID', 0))\n",
    "        \n",
    "        # Extract flows based on available structure\n",
    "        lumped_flow = None\n",
    "        dist_flow = None\n",
    "        \n",
    "        # Extract lumped flow\n",
    "        print(f\"Extracting lumped model flow for reach ID: {lumped_reach_id}\")\n",
    "        if 'reachID' in lumped_data.variables and 'IRFroutedRunoff' in lumped_data.variables:\n",
    "            reach_indices = np.where(lumped_data.reachID.values == lumped_reach_id)[0]\n",
    "            if len(reach_indices) > 0:\n",
    "                reach_idx = reach_indices[0]\n",
    "                if 'seg' in lumped_data.dims:\n",
    "                    lumped_flow = lumped_data.IRFroutedRunoff.sel(seg=reach_idx).to_series()\n",
    "                else:\n",
    "                    lumped_flow = lumped_data.IRFroutedRunoff.isel(reachID=reach_idx).to_series()\n",
    "                \n",
    "                lumped_df = pd.DataFrame(lumped_flow)\n",
    "                lumped_df.columns = ['discharge_cms']\n",
    "            else:\n",
    "                print(f\"Warning: Reach ID {lumped_reach_id} not found in lumped model output\")\n",
    "                print(f\"Available reach IDs: {lumped_data.reachID.values}\")\n",
    "        else:\n",
    "            print(\"Warning: Required variables not found in lumped model output\")\n",
    "            print(f\"Available variables: {list(lumped_data.variables)}\")\n",
    "        \n",
    "        # Extract distributed flow\n",
    "        print(f\"Extracting distributed model flow for reach ID: {dist_reach_id}\")\n",
    "        if 'reachID' in dist_data.variables and 'IRFroutedRunoff' in dist_data.variables:\n",
    "            reach_indices = np.where(dist_data.reachID.values == dist_reach_id)[0]\n",
    "            if len(reach_indices) > 0:\n",
    "                reach_idx = reach_indices[0]\n",
    "                if 'seg' in dist_data.dims:\n",
    "                    dist_flow = dist_data.IRFroutedRunoff.sel(seg=reach_idx).to_series()\n",
    "                else:\n",
    "                    dist_flow = dist_data.IRFroutedRunoff.isel(reachID=reach_idx).to_series()\n",
    "                \n",
    "                dist_df = pd.DataFrame(dist_flow)\n",
    "                dist_df.columns = ['discharge_cms']\n",
    "            else:\n",
    "                print(f\"Warning: Reach ID {dist_reach_id} not found in distributed model output\")\n",
    "                print(f\"Available reach IDs: {dist_data.reachID.values}\")\n",
    "        else:\n",
    "            print(\"Warning: Required variables not found in distributed model output\")\n",
    "            print(f\"Available variables: {list(dist_data.variables)}\")\n",
    "        \n",
    "        # Proceed only if both flows are extracted\n",
    "        if lumped_flow is not None and dist_flow is not None:\n",
    "            # Resample to daily for comparison\n",
    "            lumped_daily = lumped_df.resample('D').mean()\n",
    "            dist_daily = dist_df.resample('D').mean()\n",
    "            \n",
    "            # Determine common time period\n",
    "            if obs_df is not None:\n",
    "                obs_daily = obs_df.resample('D').mean()\n",
    "                start_date = max(obs_daily.index.min(), lumped_daily.index.min(), dist_daily.index.min())\n",
    "                end_date = min(obs_daily.index.max(), lumped_daily.index.max(), dist_daily.index.max())\n",
    "            else:\n",
    "                start_date = max(lumped_daily.index.min(), dist_daily.index.min())\n",
    "                end_date = min(lumped_daily.index.max(), dist_daily.index.max())\n",
    "            \n",
    "            # Advance start date by 1 month to skip spinup\n",
    "            start_date = start_date + pd.DateOffset(months=1)\n",
    "            \n",
    "            print(f\"Common comparison period (after skipping 1 month spinup): {start_date} to {end_date}\")\n",
    "            \n",
    "            # Filter to common period\n",
    "            lumped_period = lumped_daily.loc[start_date:end_date]\n",
    "            dist_period = dist_daily.loc[start_date:end_date]\n",
    "            \n",
    "            if obs_df is not None:\n",
    "                obs_period = obs_daily.loc[start_date:end_date]\n",
    "                \n",
    "                # Calculate metrics for both models\n",
    "                metrics = []\n",
    "                \n",
    "                # Lumped model metrics\n",
    "                lumped_rmse = np.sqrt(((obs_period['discharge_cms'] - lumped_period['discharge_cms'])**2).mean())\n",
    "                lumped_nse = 1 - (((obs_period['discharge_cms'] - lumped_period['discharge_cms'])**2).sum() / \n",
    "                                 ((obs_period['discharge_cms'] - obs_period['discharge_cms'].mean())**2).sum())\n",
    "                lumped_pbias = 100 * (lumped_period['discharge_cms'].sum() - obs_period['discharge_cms'].sum()) / obs_period['discharge_cms'].sum()\n",
    "                \n",
    "                # Calculate Kling-Gupta Efficiency for lumped model\n",
    "                r_lumped = obs_period['discharge_cms'].corr(lumped_period['discharge_cms'])\n",
    "                alpha_lumped = lumped_period['discharge_cms'].std() / obs_period['discharge_cms'].std()\n",
    "                beta_lumped = lumped_period['discharge_cms'].mean() / obs_period['discharge_cms'].mean()\n",
    "                kge_lumped = 1 - ((r_lumped - 1)**2 + (alpha_lumped - 1)**2 + (beta_lumped - 1)**2)**0.5\n",
    "                \n",
    "                metrics.append({\n",
    "                    'model': 'Lumped',\n",
    "                    'RMSE': f\"{lumped_rmse:.2f} m³/s\",\n",
    "                    'NSE': f\"{lumped_nse:.3f}\",\n",
    "                    'PBIAS': f\"{lumped_pbias:.2f}%\",\n",
    "                    'KGE': f\"{kge_lumped:.3f}\"\n",
    "                })\n",
    "                \n",
    "                # Distributed model metrics\n",
    "                dist_rmse = np.sqrt(((obs_period['discharge_cms'] - dist_period['discharge_cms'])**2).mean())\n",
    "                dist_nse = 1 - (((obs_period['discharge_cms'] - dist_period['discharge_cms'])**2).sum() / \n",
    "                               ((obs_period['discharge_cms'] - obs_period['discharge_cms'].mean())**2).sum())\n",
    "                dist_pbias = 100 * (dist_period['discharge_cms'].sum() - obs_period['discharge_cms'].sum()) / obs_period['discharge_cms'].sum()\n",
    "                \n",
    "                # Calculate Kling-Gupta Efficiency for distributed model\n",
    "                r_dist = obs_period['discharge_cms'].corr(dist_period['discharge_cms'])\n",
    "                alpha_dist = dist_period['discharge_cms'].std() / obs_period['discharge_cms'].std()\n",
    "                beta_dist = dist_period['discharge_cms'].mean() / obs_period['discharge_cms'].mean()\n",
    "                kge_dist = 1 - ((r_dist - 1)**2 + (alpha_dist - 1)**2 + (beta_dist - 1)**2)**0.5\n",
    "                \n",
    "                metrics.append({\n",
    "                    'model': 'Distributed',\n",
    "                    'RMSE': f\"{dist_rmse:.2f} m³/s\",\n",
    "                    'NSE': f\"{dist_nse:.3f}\",\n",
    "                    'PBIAS': f\"{dist_pbias:.2f}%\",\n",
    "                    'KGE': f\"{kge_dist:.3f}\"\n",
    "                })\n",
    "                \n",
    "                # Print metrics table\n",
    "                print(\"\\nPerformance Metrics Comparison:\")\n",
    "                metrics_df = pd.DataFrame(metrics).set_index('model')\n",
    "                print(metrics_df)\n",
    "            \n",
    "            # Create figure\n",
    "            fig = plt.figure(figsize=(15, 15))\n",
    "            gs = gridspec.GridSpec(3, 1, height_ratios=[2, 1, 1])\n",
    "            \n",
    "            # Timeseries plot\n",
    "            ax1 = fig.add_subplot(gs[0])\n",
    "            \n",
    "            # Plot observations if available\n",
    "            if obs_df is not None:\n",
    "                ax1.plot(obs_period.index, obs_period['discharge_cms'], \n",
    "                        color='black', linewidth=2, label='Observed', zorder=3)\n",
    "            \n",
    "            # Plot lumped model results\n",
    "            ax1.plot(lumped_period.index, lumped_period['discharge_cms'], \n",
    "                    color='#1f77b4', linewidth=1.5, alpha=0.8, label='Lumped Model', zorder=2)\n",
    "            \n",
    "            # Plot distributed model results\n",
    "            ax1.plot(dist_period.index, dist_period['discharge_cms'], \n",
    "                    color='#ff7f0e', linewidth=1.5, alpha=0.8, label='Distributed Model', zorder=1)\n",
    "            \n",
    "            # Add calibration/evaluation period shading if configured\n",
    "            if 'CALIBRATION_PERIOD' in confluence.config and 'EVALUATION_PERIOD' in confluence.config:\n",
    "                cal_start = pd.Timestamp(confluence.config.get('CALIBRATION_PERIOD').split(',')[0].strip())\n",
    "                cal_end = pd.Timestamp(confluence.config.get('CALIBRATION_PERIOD').split(',')[1].strip())\n",
    "                eval_start = pd.Timestamp(confluence.config.get('EVALUATION_PERIOD').split(',')[0].strip())\n",
    "                eval_end = pd.Timestamp(confluence.config.get('EVALUATION_PERIOD').split(',')[1].strip())\n",
    "                \n",
    "                # Only shade if within the plot range\n",
    "                if cal_start <= end_date and cal_end >= start_date:\n",
    "                    valid_cal_start = max(cal_start, start_date)\n",
    "                    valid_cal_end = min(cal_end, end_date)\n",
    "                    ax1.axvspan(valid_cal_start, valid_cal_end, alpha=0.2, color='gray', label='Calibration Period')\n",
    "                \n",
    "                if eval_start <= end_date and eval_end >= start_date:\n",
    "                    valid_eval_start = max(eval_start, start_date)\n",
    "                    valid_eval_end = min(eval_end, end_date)\n",
    "                    ax1.axvspan(valid_eval_start, valid_eval_end, alpha=0.2, color='lightblue', label='Evaluation Period')\n",
    "            \n",
    "            ax1.set_xlabel('Date', fontsize=12)\n",
    "            ax1.set_ylabel('Discharge (m³/s)', fontsize=12)\n",
    "            ax1.set_title('Lumped vs Distributed Model Comparison', fontsize=14, fontweight='bold')\n",
    "            ax1.grid(True, alpha=0.3)\n",
    "            ax1.legend(fontsize=10, loc='upper right')\n",
    "            \n",
    "            # Format x-axis to show years\n",
    "            ax1.xaxis.set_major_locator(mdates.YearLocator())\n",
    "            ax1.xaxis.set_major_formatter(mdates.DateFormatter('%Y'))\n",
    "            \n",
    "            # Add metrics if observations are available\n",
    "            if obs_df is not None:\n",
    "                # Add metrics table as text\n",
    "                metrics_text = \"Performance Metrics:\\n\"\n",
    "                metrics_text += f\"Lumped Model:    RMSE: {lumped_rmse:.2f} m³/s    NSE: {lumped_nse:.3f}    KGE: {kge_lumped:.3f}\\n\"\n",
    "                metrics_text += f\"Distributed Model:    RMSE: {dist_rmse:.2f} m³/s    NSE: {dist_nse:.3f}    KGE: {kge_dist:.3f}\"\n",
    "                \n",
    "                ax1.text(0.01, 0.02, metrics_text, transform=ax1.transAxes,\n",
    "                        bbox=dict(facecolor='white', alpha=0.8, boxstyle='round,pad=0.5'),\n",
    "                        fontsize=10, verticalalignment='bottom')\n",
    "            \n",
    "            # Flow Duration Curve\n",
    "            ax2 = fig.add_subplot(gs[1])\n",
    "            \n",
    "            if obs_df is not None:\n",
    "                # Sort values in descending order\n",
    "                obs_sorted = obs_period['discharge_cms'].sort_values(ascending=False)\n",
    "                lumped_sorted = lumped_period['discharge_cms'].sort_values(ascending=False)\n",
    "                dist_sorted = dist_period['discharge_cms'].sort_values(ascending=False)\n",
    "                \n",
    "                # Calculate exceedance probabilities\n",
    "                obs_ranks = np.arange(1., len(obs_sorted) + 1) / len(obs_sorted)\n",
    "                lumped_ranks = np.arange(1., len(lumped_sorted) + 1) / len(lumped_sorted)\n",
    "                dist_ranks = np.arange(1., len(dist_sorted) + 1) / len(dist_sorted)\n",
    "                \n",
    "                # Plot Flow Duration Curves\n",
    "                ax2.semilogy(obs_ranks * 100, obs_sorted, 'k-', label='Observed', linewidth=2)\n",
    "                ax2.semilogy(lumped_ranks * 100, lumped_sorted, '-', color='#1f77b4', label='Lumped Model', linewidth=1.5)\n",
    "                ax2.semilogy(dist_ranks * 100, dist_sorted, '-', color='#ff7f0e', label='Distributed Model', linewidth=1.5)\n",
    "                \n",
    "                ax2.set_xlabel('Exceedance Probability (%)', fontsize=12)\n",
    "                ax2.set_ylabel('Discharge (m³/s)', fontsize=12)\n",
    "                ax2.set_title('Flow Duration Curve', fontsize=14)\n",
    "                ax2.legend(loc='best', fontsize=10)\n",
    "                ax2.grid(True, which='both', alpha=0.3)\n",
    "                \n",
    "                # Add flow regime regions\n",
    "                ax2.axvspan(0, 20, alpha=0.2, color='blue')\n",
    "                ax2.axvspan(20, 70, alpha=0.2, color='green')\n",
    "                ax2.axvspan(70, 100, alpha=0.2, color='red')\n",
    "                \n",
    "                # Add text labels for flow regions\n",
    "                ax2.text(10, ax2.get_ylim()[1] * 0.8, 'High Flows', fontsize=10, ha='center')\n",
    "                ax2.text(45, ax2.get_ylim()[1] * 0.1, 'Medium Flows', fontsize=10, ha='center')\n",
    "                ax2.text(85, ax2.get_ylim()[1] * 0.02, 'Low Flows', fontsize=10, ha='center')\n",
    "            \n",
    "            # Error analysis\n",
    "            ax3 = fig.add_subplot(gs[2])\n",
    "            \n",
    "            if obs_df is not None:\n",
    "                # Calculate errors for both models\n",
    "                lumped_error = lumped_period['discharge_cms'] - obs_period['discharge_cms']\n",
    "                dist_error = dist_period['discharge_cms'] - obs_period['discharge_cms']\n",
    "                \n",
    "                # Plot errors\n",
    "                ax3.plot(lumped_period.index, lumped_error, '-', color='#1f77b4', label='Lumped Model Error', alpha=0.7)\n",
    "                ax3.plot(dist_period.index, dist_error, '-', color='#ff7f0e', label='Distributed Model Error', alpha=0.7)\n",
    "                \n",
    "                # Add zero line\n",
    "                ax3.axhline(y=0, color='k', linestyle='-', linewidth=0.8)\n",
    "                \n",
    "                ax3.set_xlabel('Date', fontsize=12)\n",
    "                ax3.set_ylabel('Error (m³/s)', fontsize=12)\n",
    "                ax3.set_title('Model Error (Simulated - Observed)', fontsize=14)\n",
    "                ax3.legend(fontsize=10)\n",
    "                ax3.grid(True, alpha=0.3)\n",
    "                \n",
    "                # Format x-axis to match the first plot\n",
    "                ax3.xaxis.set_major_locator(mdates.YearLocator())\n",
    "                ax3.xaxis.set_major_formatter(mdates.DateFormatter('%Y'))\n",
    "            \n",
    "            # Save and show the plot\n",
    "            plt.tight_layout()\n",
    "            \n",
    "            # Save the plot\n",
    "            plot_folder = project_dir / \"plots\" / \"results\"\n",
    "            plot_folder.mkdir(parents=True, exist_ok=True)\n",
    "            plot_filename = plot_folder / 'lumped_vs_distributed_comparison.png'\n",
    "            plt.savefig(plot_filename, dpi=300, bbox_inches='tight')\n",
    "            print(f\"Plot saved to: {plot_filename}\")\n",
    "            \n",
    "            plt.show()\n",
    "            \n",
    "            # Close datasets\n",
    "            lumped_data.close()\n",
    "            dist_data.close()\n",
    "        else:\n",
    "            print(\"Error: Failed to extract flow data from one or both models.\")\n",
    "    \n",
    "    except Exception as e:\n",
    "        print(f\"Error during comparison: {str(e)}\")\n",
    "        import traceback\n",
    "        print(traceback.format_exc())"
   ]
  },
  {
   "cell_type": "code",
   "execution_count": null,
   "metadata": {},
   "outputs": [],
   "source": [
    "# Alternative: Run the complete workflow in one step\n",
    "# (Uncomment to use this instead of the step-by-step approach)\n",
    "\n",
    "# confluence.run_workflow()"
   ]
  }
 ],
 "metadata": {
  "kernelspec": {
   "display_name": "Python 3 (ipykernel)",
   "language": "python",
   "name": "python3"
  },
  "language_info": {
   "codemirror_mode": {
    "name": "ipython",
    "version": 3
   },
   "file_extension": ".py",
   "mimetype": "text/x-python",
   "name": "python",
   "nbconvert_exporter": "python",
   "pygments_lexer": "ipython3",
   "version": "3.11.7"
  }
 },
 "nbformat": 4,
 "nbformat_minor": 4
}
