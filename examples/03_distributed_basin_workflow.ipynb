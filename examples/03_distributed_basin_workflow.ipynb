{
 "cells": [
  {
   "cell_type": "markdown",
   "metadata": {},
   "source": [
    "# CONFLUENCE Tutorial: Elevation-Based HRU Discretization\n",
    "\n",
    "This notebook demonstrates elevation-based HRU discretization, building on the distributed domain from Tutorial 2. We'll:\n",
    "\n",
    "1. Use the existing GRUs from Tutorial 2\n",
    "2. Apply elevation-based discretization\n",
    "3. Run the model\n",
    "4. Compare results with lumped and GRU-based approaches\n",
    "\n",
    "**Prerequisites**: Tutorial 2 must be completed successfully."
   ]
  },
  {
   "cell_type": "markdown",
   "metadata": {},
   "source": [
    "## 1. Setup"
   ]
  },
  {
   "cell_type": "code",
   "execution_count": null,
   "metadata": {},
   "outputs": [],
   "source": [
    "# Import required libraries\n",
    "import sys\n",
    "from pathlib import Path\n",
    "import yaml\n",
    "import pandas as pd\n",
    "import matplotlib.pyplot as plt\n",
    "import geopandas as gpd\n",
    "import numpy as np\n",
    "\n",
    "# Add CONFLUENCE to path\n",
    "confluence_path = Path('../').resolve()\n",
    "sys.path.append(str(confluence_path))\n",
    "\n",
    "# Import CONFLUENCE\n",
    "from CONFLUENCE import CONFLUENCE\n",
    "\n",
    "plt.style.use('default')\n",
    "%matplotlib inline"
   ]
  },
  {
   "cell_type": "markdown",
   "metadata": {},
   "source": [
    "## 2. Load Configuration from Tutorial 2 and Modify for Elevation Discretization"
   ]
  },
  {
   "cell_type": "code",
   "execution_count": null,
   "metadata": {},
   "outputs": [],
   "source": [
    "# Load the distributed configuration from Tutorial 2\n",
    "distributed_config_path = Path('./bow_distributed_config.yaml')\n",
    "\n",
    "if not distributed_config_path.exists():\n",
    "    raise FileNotFoundError(\"Tutorial 2 must be run first! Config file not found.\")\n",
    "\n",
    "with open(distributed_config_path, 'r') as f:\n",
    "    config = yaml.safe_load(f)\n",
    "\n",
    "# Modify for elevation discretization\n",
    "config['DOMAIN_NAME'] = 'Bow_at_Banff_elevation'\n",
    "config['EXPERIMENT_ID'] = 'elevation_bands'\n",
    "config['DOMAIN_DISCRETIZATION'] = 'elevation'  # Key change!\n",
    "config['ELEVATION_BAND_SIZE'] = 200  # 200m bands\n",
    "config['MIN_HRU_SIZE'] = 4  # 4 km² minimum\n",
    "\n",
    "# Save modified configuration\n",
    "elevation_config_path = Path('./bow_elevation_config.yaml')\n",
    "with open(elevation_config_path, 'w') as f:\n",
    "    yaml.dump(config, f, default_flow_style=False)\n",
    "\n",
    "print(\"Configuration updated for elevation discretization:\")\n",
    "print(f\"  Discretization: {config['DOMAIN_DISCRETIZATION']}\")\n",
    "print(f\"  Elevation bands: {config['ELEVATION_BAND_SIZE']}m\")\n",
    "print(f\"  Min HRU size: {config['MIN_HRU_SIZE']} km²\")"
   ]
  },
  {
   "cell_type": "markdown",
   "metadata": {},
   "source": [
    "## 3. Initialize CONFLUENCE"
   ]
  },
  {
   "cell_type": "code",
   "execution_count": null,
   "metadata": {},
   "outputs": [],
   "source": [
    "# Initialize CONFLUENCE\n",
    "confluence = CONFLUENCE(elevation_config_path)\n",
    "print(f\"Initialized CONFLUENCE for: {confluence.config['DOMAIN_NAME']}\")"
   ]
  },
  {
   "cell_type": "markdown",
   "metadata": {},
   "source": [
    "## 4. Copy Domain from Tutorial 2\n",
    "\n",
    "We'll copy the GRU shapefiles from Tutorial 2 to avoid re-running delineation."
   ]
  },
  {
   "cell_type": "code",
   "execution_count": null,
   "metadata": {},
   "outputs": [],
   "source": [
    "import shutil\n",
    "\n",
    "# Source paths (from Tutorial 2)\n",
    "source_domain = confluence.data_dir / 'domain_Bow_at_Banff_distributed'\n",
    "target_domain = confluence.project_dir\n",
    "\n",
    "# Create directories if needed\n",
    "target_domain.mkdir(parents=True, exist_ok=True)\n",
    "\n",
    "# Copy necessary directories\n",
    "directories_to_copy = ['shapefiles', 'attributes']\n",
    "\n",
    "for dir_name in directories_to_copy:\n",
    "    source_dir = source_domain / dir_name\n",
    "    target_dir = target_domain / dir_name\n",
    "    \n",
    "    if source_dir.exists() and not target_dir.exists():\n",
    "        print(f\"Copying {dir_name} from Tutorial 2...\")\n",
    "        shutil.copytree(source_dir, target_dir)\n",
    "    elif target_dir.exists():\n",
    "        print(f\"{dir_name} already exists\")\n",
    "    else:\n",
    "        print(f\"Warning: {source_dir} not found. Run Tutorial 2 first.\")\n",
    "\n",
    "print(\"\\nDomain files ready for elevation discretization\")"
   ]
  },
  {
   "cell_type": "markdown",
   "metadata": {},
   "source": [
    "## 5. Apply Elevation Discretization\n",
    "\n",
    "This is the key step - creating HRUs based on elevation bands within each GRU."
   ]
  },
  {
   "cell_type": "code",
   "execution_count": null,
   "metadata": {},
   "outputs": [],
   "source": [
    "# Check existing GRUs before discretization\n",
    "basin_path = confluence.project_dir / 'shapefiles' / 'river_basins'\n",
    "if basin_path.exists():\n",
    "    basin_files = list(basin_path.glob('*.shp'))\n",
    "    if basin_files:\n",
    "        gru_gdf = gpd.read_file(basin_files[0])\n",
    "        print(f\"Starting with {len(gru_gdf)} GRUs\")\n",
    "\n",
    "# Apply elevation discretization\n",
    "print(f\"\\nApplying elevation discretization ({config['ELEVATION_BAND_SIZE']}m bands)...\")\n",
    "confluence.discretize_domain()\n",
    "\n",
    "# Analyze results\n",
    "hru_path = confluence.project_dir / 'shapefiles' / 'catchment'\n",
    "if hru_path.exists():\n",
    "    hru_files = list(hru_path.glob('*.shp'))\n",
    "    if hru_files:\n",
    "        hru_gdf = gpd.read_file(hru_files[0])\n",
    "        \n",
    "        print(f\"\\nCreated {len(hru_gdf)} HRUs from {hru_gdf['GRU_ID'].nunique()} GRUs\")\n",
    "        print(f\"Average: {len(hru_gdf)/hru_gdf['GRU_ID'].nunique():.1f} HRUs per GRU\")\n",
    "        \n",
    "        # Show distribution\n",
    "        hru_counts = hru_gdf.groupby('GRU_ID').size()\n",
    "        print(\"\\nHRUs per GRU:\")\n",
    "        for gru_id, count in hru_counts.items():\n",
    "            print(f\"  GRU {gru_id}: {count} HRUs\")"
   ]
  },
  {
   "cell_type": "markdown",
   "metadata": {},
   "source": [
    "## 6. Visualize the Elevation Discretization"
   ]
  },
  {
   "cell_type": "code",
   "execution_count": null,
   "metadata": {},
   "outputs": [],
   "source": [
    "# Visualize the HRUs\n",
    "if 'hru_gdf' in locals() and 'gru_gdf' in locals():\n",
    "    fig, ax = plt.subplots(figsize=(12, 10))\n",
    "    \n",
    "    # Plot HRUs colored by elevation (if available)\n",
    "    if 'mean_elev' in hru_gdf.columns:\n",
    "        hru_gdf.plot(ax=ax, column='mean_elev', cmap='terrain', \n",
    "                    edgecolor='gray', linewidth=0.5, legend=True,\n",
    "                    legend_kwds={'label': 'Elevation (m)'})\n",
    "    else:\n",
    "        hru_gdf.plot(ax=ax, column='HRU_ID', cmap='viridis', \n",
    "                    edgecolor='gray', linewidth=0.5)\n",
    "    \n",
    "    # Overlay GRU boundaries in red\n",
    "    gru_gdf.boundary.plot(ax=ax, color='red', linewidth=2)\n",
    "    \n",
    "    ax.set_title('Elevation-Based HRUs (red lines show GRU boundaries)', \n",
    "                fontsize=16, fontweight='bold')\n",
    "    ax.axis('off')\n",
    "    plt.tight_layout()\n",
    "    plt.show()"
   ]
  },
  {
   "cell_type": "markdown",
   "metadata": {},
   "source": [
    "## 7. Complete the Workflow"
   ]
  },
  {
   "cell_type": "code",
   "execution_count": null,
   "metadata": {},
   "outputs": [],
   "source": [
    "# Complete remaining workflow steps\n",
    "print(\"Completing workflow with elevation-based HRUs...\\n\")\n",
    "\n",
    "# Process observed data\n",
    "print(\"Processing observed data...\")\n",
    "confluence.process_observed_data()\n",
    "\n",
    "# Acquire forcings\n",
    "print(\"Acquiring forcing data...\")\n",
    "confluence.acquire_forcings()\n",
    "\n",
    "# Model-agnostic preprocessing\n",
    "print(\"Running model-agnostic preprocessing...\")\n",
    "confluence.model_agnostic_pre_processing()\n",
    "\n",
    "# Model-specific preprocessing\n",
    "print(\"Preparing model input files...\")\n",
    "confluence.model_specific_pre_processing()\n",
    "\n",
    "# Run the model\n",
    "print(\"\\nRunning SUMMA with elevation-based HRUs...\")\n",
    "confluence.run_models()\n",
    "\n",
    "# Visualize results\n",
    "print(\"Creating visualizations...\")\n",
    "confluence.visualise_model_output()\n",
    "\n",
    "print(\"\\n✓ Workflow complete!\")"
   ]
  },
  {
   "cell_type": "markdown",
   "metadata": {},
   "source": [
    "## 8. Compare All Three Approaches\n",
    "\n",
    "Let's create a visualization comparing the three approaches we've covered."
   ]
  },
  {
   "cell_type": "code",
   "execution_count": null,
   "metadata": {},
   "outputs": [],
   "source": [
    "# Create comparison figure\n",
    "fig, axes = plt.subplots(1, 3, figsize=(18, 6))\n",
    "\n",
    "# Directory paths for different approaches\n",
    "lumped_dir = confluence.data_dir / 'domain_Bow_at_Banff_lumped'\n",
    "distributed_dir = confluence.data_dir / 'domain_Bow_at_Banff_distributed'\n",
    "elevation_dir = confluence.project_dir\n",
    "\n",
    "# Plot lumped (if exists)\n",
    "lumped_basin = lumped_dir / 'shapefiles' / 'river_basins'\n",
    "if lumped_basin.exists():\n",
    "    files = list(lumped_basin.glob('*.shp'))\n",
    "    if files:\n",
    "        gdf = gpd.read_file(files[0])\n",
    "        gdf.plot(ax=axes[0], color='lightblue', edgecolor='navy', linewidth=2)\n",
    "        axes[0].set_title('Lumped\\n(1 Unit)', fontsize=14, fontweight='bold')\n",
    "\n",
    "# Plot GRU-based (if exists)\n",
    "dist_catchment = distributed_dir / 'shapefiles' / 'catchment'\n",
    "if dist_catchment.exists():\n",
    "    files = list(dist_catchment.glob('*.shp'))\n",
    "    if files:\n",
    "        gdf = gpd.read_file(files[0])\n",
    "        gdf.plot(ax=axes[1], column='GRU_ID', cmap='Set3', \n",
    "                edgecolor='black', linewidth=1)\n",
    "        axes[1].set_title(f'GRU-Based\\n({len(gdf)} HRUs)', fontsize=14, fontweight='bold')\n",
    "\n",
    "# Plot elevation-based\n",
    "if 'hru_gdf' in locals():\n",
    "    if 'mean_elev' in hru_gdf.columns:\n",
    "        hru_gdf.plot(ax=axes[2], column='mean_elev', cmap='terrain', \n",
    "                    edgecolor='gray', linewidth=0.5)\n",
    "    else:\n",
    "        hru_gdf.plot(ax=axes[2], column='HRU_ID', cmap='viridis', \n",
    "                    edgecolor='gray', linewidth=0.5)\n",
    "    axes[2].set_title(f'Elevation-Based\\n({len(hru_gdf)} HRUs)', fontsize=14, fontweight='bold')\n",
    "\n",
    "# Format all axes\n",
    "for ax in axes:\n",
    "    ax.axis('off')\n",
    "\n",
    "plt.suptitle('Comparison of Domain Discretization Approaches', fontsize=16, fontweight='bold')\n",
    "plt.tight_layout()\n",
    "plt.show()"
   ]
  },
  {
   "cell_type": "markdown",
   "metadata": {},
   "source": [
    "## 9. Create Summary Table"
   ]
  },
  {
   "cell_type": "code",
   "execution_count": null,
   "metadata": {},
   "outputs": [],
   "source": [
    "# Create summary statistics\n",
    "summary_data = []\n",
    "\n",
    "# Lumped stats\n",
    "lumped_hru = lumped_dir / 'shapefiles' / 'catchment'\n",
    "if lumped_hru.exists():\n",
    "    files = list(lumped_hru.glob('*.shp'))\n",
    "    if files:\n",
    "        gdf = gpd.read_file(files[0])\n",
    "        summary_data.append({\n",
    "            'Approach': 'Lumped',\n",
    "            'GRUs': 1,\n",
    "            'HRUs': len(gdf),\n",
    "            'HRUs per GRU': len(gdf),\n",
    "            'Complexity': 'Low'\n",
    "        })\n",
    "\n",
    "# GRU-based stats\n",
    "if dist_catchment.exists():\n",
    "    files = list(dist_catchment.glob('*.shp'))\n",
    "    if files:\n",
    "        gdf = gpd.read_file(files[0])\n",
    "        n_grus = gdf['GRU_ID'].nunique()\n",
    "        summary_data.append({\n",
    "            'Approach': 'GRU-Based',\n",
    "            'GRUs': n_grus,\n",
    "            'HRUs': len(gdf),\n",
    "            'HRUs per GRU': len(gdf)/n_grus,\n",
    "            'Complexity': 'Medium'\n",
    "        })\n",
    "\n",
    "# Elevation-based stats\n",
    "if 'hru_gdf' in locals():\n",
    "    n_grus = hru_gdf['GRU_ID'].nunique()\n",
    "    summary_data.append({\n",
    "        'Approach': 'Elevation-Based',\n",
    "        'GRUs': n_grus,\n",
    "        'HRUs': len(hru_gdf),\n",
    "        'HRUs per GRU': len(hru_gdf)/n_grus,\n",
    "        'Complexity': 'High'\n",
    "    })\n",
    "\n",
    "# Create and display table\n",
    "if summary_data:\n",
    "    summary_df = pd.DataFrame(summary_data)\n",
    "    summary_df['HRUs per GRU'] = summary_df['HRUs per GRU'].round(1)\n",
    "    \n",
    "    print(\"=== Summary of Discretization Approaches ===\")\n",
    "    print(summary_df.to_string(index=False))\n",
    "    \n",
    "    # Create a visual table\n",
    "    fig, ax = plt.subplots(figsize=(10, 3))\n",
    "    ax.axis('tight')\n",
    "    ax.axis('off')\n",
    "    \n",
    "    table = ax.table(cellText=summary_df.values,\n",
    "                     colLabels=summary_df.columns,\n",
    "                     cellLoc='center',\n",
    "                     loc='center')\n",
    "    \n",
    "    table.auto_set_font_size(False)\n",
    "    table.set_fontsize(12)\n",
    "    table.scale(1.5, 2)\n",
    "    \n",
    "    plt.title('Domain Discretization Comparison', fontsize=16, fontweight='bold', pad=20)\n",
    "    plt.show()"
   ]
  },
  {
   "cell_type": "markdown",
   "metadata": {},
   "source": [
    "## 10. Summary\n",
    "\n",
    "### Key Takeaways\n",
    "\n",
    "1. **Lumped**: Entire watershed as one unit - simplest but least detailed\n",
    "2. **GRU-Based**: One HRU per sub-basin - balanced approach\n",
    "3. **Elevation-Based**: Multiple HRUs per GRU based on elevation - most detailed\n",
    "\n",
    "### When to Use Each Approach\n",
    "\n",
    "- **Lumped**: Quick assessments, small watersheds, limited data\n",
    "- **GRU-Based**: Standard distributed modeling, moderate complexity\n",
    "- **Elevation-Based**: Mountainous regions, snow processes, climate gradients\n",
    "\n",
    "### Trade-offs\n",
    "\n",
    "- **Computational Cost**: Lumped < GRU-Based < Elevation-Based\n",
    "- **Spatial Detail**: Lumped < GRU-Based < Elevation-Based\n",
    "- **Parameter Requirements**: Lumped < GRU-Based < Elevation-Based\n",
    "- **Data Requirements**: Lumped < GRU-Based < Elevation-Based"
   ]
  },
  {
   "cell_type": "code",
   "execution_count": null,
   "metadata": {},
   "outputs": [],
   "source": [
    "# Final output locations\n",
    "print(\"=== Elevation Discretization Complete ===\\n\")\n",
    "print(f\"Project: {confluence.config['DOMAIN_NAME']}\")\n",
    "print(f\"HRU shapefile: {confluence.project_dir / 'shapefiles' / 'catchment'}\")\n",
    "print(f\"Model results: {confluence.project_dir / 'simulations' / confluence.config['EXPERIMENT_ID']}\")\n",
    "print(f\"Plots: {confluence.project_dir / 'plots' / 'results'}\")"
   ]
  }
 ],
 "metadata": {
  "kernelspec": {
   "display_name": "Python 3",
   "language": "python",
   "name": "python3"
  },
  "language_info": {
   "codemirror_mode": {
    "name": "ipython",
    "version": 3
   },
   "file_extension": ".py",
   "mimetype": "text/x-python",
   "name": "python",
   "nbconvert_exporter": "python",
   "pygments_lexer": "ipython3",
   "version": "3.8.0"
  }
 },
 "nbformat": 4,
 "nbformat_minor": 4
}