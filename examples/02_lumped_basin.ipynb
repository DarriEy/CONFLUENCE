{
 "cells": [
  {
   "cell_type": "markdown",
   "metadata": {},
   "source": [
    "# CONFLUENCE Tutorial: Lumped Basin Workflow (Bow River at Banff)\n",
    "\n",
    "This notebook walks through the complete CONFLUENCE workflow for a lumped basin model using the Bow River at Banff as an example. We'll execute each step individually to understand what's happening at each stage.\n",
    "\n",
    "## Introduction to CONFLUENCE\n",
    "\n",
    "CONFLUENCE is designed to address a fundamental challenge in hydrological modeling: the overwhelming number of decisions required to set up and run a hydrological model.\n",
    "\n",
    "### The Challenge of Hydrological Modeling Decisions\n",
    "\n",
    "Hydrological modeling involves numerous interconnected decisions at every stage:\n",
    "- **Domain Definition**: What area should we model? How should we delineate the watershed?\n",
    "- **Data Processing**: Which forcing datasets? What temporal and spatial resolution? \n",
    "- **Model Selection**: Which hydrological model? What process representations?\n",
    "- **Parameterization**: Which parameters to calibrate? What are reasonable ranges?\n",
    "- **Evaluation**: What metrics? Which observation datasets?\n",
    "\n",
    "Each decision impacts the others, creating a complex decision tree that can be overwhelming for both novice and experienced modelers.\n",
    "\n",
    "### How CONFLUENCE Helps\n",
    "\n",
    "CONFLUENCE addresses this complexity by:\n",
    "1. **Organizing the workflow** into clear, sequential steps\n",
    "2. **Standardizing data structures** across different models and datasets\n",
    "4. **Maintaining detailed provenance** of all decisions made\n",
    "\n",
    "### CONFLUENCE's Code Structure: Organized by Function\n",
    "\n",
    "CONFLUENCE uses an object-oriented design where different aspects of hydrological modeling are handled by specialized classes called \"managers\". This is like having different experts, each responsible for their domain:\n",
    "\n",
    "```python\n",
    "# Each manager handles a specific task\n",
    "project_manager = ProjectManager(config, logger)     # Project setup\n",
    "domain_manager = DomainManager(config, logger)       # Watershed delineation  \n",
    "data_manager = DataManager(config, logger)           # Data processing\n",
    "model_manager = ModelManager(config, logger)         # Model operations\n",
    "```\n",
    "\n",
    "Throughout this tutorial, you'll see how each manager handles its part of the workflow, working together to complete the full modeling process.\n",
    "\n",
    "\n",
    "## Overview of This Tutorial\n",
    "\n",
    "We'll work through the simplest case in hydrological modeling: a lumped basin model. This treats the entire watershed as a single unit, making it an ideal starting point for understanding the CONFLUENCE workflow.\n",
    "\n",
    "We'll run through:\n",
    "1. Project setup and configuration\n",
    "2. Domain definition (watershed delineation)\n",
    "3. Data acquisition (forcings and attributes)\n",
    "4. Model preprocessing\n",
    "5. Model execution\n",
    "6. Results visualization\n",
    "\n",
    "## 1. Setup and Import Libraries"
   ]
  },
  {
   "cell_type": "code",
   "execution_count": 1,
   "metadata": {},
   "outputs": [],
   "source": [
    "# Import required libraries\n",
    "import sys\n",
    "import os\n",
    "from pathlib import Path\n",
    "import yaml\n",
    "import pandas as pd\n",
    "import matplotlib.pyplot as plt\n",
    "import geopandas as gpd\n",
    "from datetime import datetime\n",
    "import contextily as cx\n",
    "import xarray as xr\n",
    "\n",
    "# Add CONFLUENCE to path\n",
    "confluence_path = Path('../').resolve()\n",
    "sys.path.append(str(confluence_path))\n",
    "\n",
    "# Import main CONFLUENCE class\n",
    "from CONFLUENCE import CONFLUENCE\n",
    "\n",
    "# Set up plotting style\n",
    "plt.style.use('default')\n",
    "%matplotlib inline"
   ]
  },
  {
   "cell_type": "markdown",
   "metadata": {},
   "source": [
    "## 2. Initialize CONFLUENCE\n",
    "First, let's set up our directories and load the configuration. CONFLUENCE uses a centralized configuration file that controls all aspects of the modeling workflow."
   ]
  },
  {
   "cell_type": "code",
   "execution_count": 2,
   "metadata": {},
   "outputs": [
    {
     "name": "stdout",
     "output_type": "stream",
     "text": [
      "14:56:31 - INFO - ============================================================\n"
     ]
    },
    {
     "name": "stderr",
     "output_type": "stream",
     "text": [
      "2025-05-11 14:56:31,340 - confluence_general - INFO - ============================================================\n"
     ]
    },
    {
     "name": "stdout",
     "output_type": "stream",
     "text": [
      "14:56:31 - INFO - CONFLUENCE Logging Initialized\n"
     ]
    },
    {
     "name": "stderr",
     "output_type": "stream",
     "text": [
      "2025-05-11 14:56:31,342 - confluence_general - INFO - CONFLUENCE Logging Initialized\n"
     ]
    },
    {
     "name": "stdout",
     "output_type": "stream",
     "text": [
      "14:56:31 - INFO - Domain: Bow_at_Banff_lumped\n"
     ]
    },
    {
     "name": "stderr",
     "output_type": "stream",
     "text": [
      "2025-05-11 14:56:31,344 - confluence_general - INFO - Domain: Bow_at_Banff_lumped\n"
     ]
    },
    {
     "name": "stdout",
     "output_type": "stream",
     "text": [
      "14:56:31 - INFO - Experiment ID: run_1\n"
     ]
    },
    {
     "name": "stderr",
     "output_type": "stream",
     "text": [
      "2025-05-11 14:56:31,346 - confluence_general - INFO - Experiment ID: run_1\n"
     ]
    },
    {
     "name": "stdout",
     "output_type": "stream",
     "text": [
      "14:56:31 - INFO - Log Level: INFO\n"
     ]
    },
    {
     "name": "stderr",
     "output_type": "stream",
     "text": [
      "2025-05-11 14:56:31,347 - confluence_general - INFO - Log Level: INFO\n"
     ]
    },
    {
     "name": "stdout",
     "output_type": "stream",
     "text": [
      "14:56:31 - INFO - Log File: /work/comphyd_lab/data/CONFLUENCE_data/domain_Bow_at_Banff_lumped/_workLog_Bow_at_Banff_lumped/confluence_general_Bow_at_Banff_lumped_20250511_145631.log\n"
     ]
    },
    {
     "name": "stderr",
     "output_type": "stream",
     "text": [
      "2025-05-11 14:56:31,349 - confluence_general - INFO - Log File: /work/comphyd_lab/data/CONFLUENCE_data/domain_Bow_at_Banff_lumped/_workLog_Bow_at_Banff_lumped/confluence_general_Bow_at_Banff_lumped_20250511_145631.log\n"
     ]
    },
    {
     "name": "stdout",
     "output_type": "stream",
     "text": [
      "14:56:31 - INFO - ============================================================\n"
     ]
    },
    {
     "name": "stderr",
     "output_type": "stream",
     "text": [
      "2025-05-11 14:56:31,350 - confluence_general - INFO - ============================================================\n"
     ]
    },
    {
     "name": "stdout",
     "output_type": "stream",
     "text": [
      "14:56:31 - INFO - Configuration logged to: /work/comphyd_lab/data/CONFLUENCE_data/domain_Bow_at_Banff_lumped/_workLog_Bow_at_Banff_lumped/config_Bow_at_Banff_lumped_20250511_145631.yaml\n"
     ]
    },
    {
     "name": "stderr",
     "output_type": "stream",
     "text": [
      "2025-05-11 14:56:31,373 - confluence_general - INFO - Configuration logged to: /work/comphyd_lab/data/CONFLUENCE_data/domain_Bow_at_Banff_lumped/_workLog_Bow_at_Banff_lumped/config_Bow_at_Banff_lumped_20250511_145631.yaml\n"
     ]
    },
    {
     "name": "stdout",
     "output_type": "stream",
     "text": [
      "14:56:31 - INFO - Initializing CONFLUENCE system\n"
     ]
    },
    {
     "name": "stderr",
     "output_type": "stream",
     "text": [
      "2025-05-11 14:56:31,376 - confluence_general - INFO - Initializing CONFLUENCE system\n"
     ]
    },
    {
     "name": "stdout",
     "output_type": "stream",
     "text": [
      "14:56:31 - INFO - Configuration loaded from: /home/darri.eythorsson/code/CONFLUENCE/0_config_files/config_notebook.yaml\n"
     ]
    },
    {
     "name": "stderr",
     "output_type": "stream",
     "text": [
      "2025-05-11 14:56:31,378 - confluence_general - INFO - Configuration loaded from: /home/darri.eythorsson/code/CONFLUENCE/0_config_files/config_notebook.yaml\n"
     ]
    },
    {
     "name": "stdout",
     "output_type": "stream",
     "text": [
      "14:56:31 - INFO - Initializing VariableHandler for dataset: ERA5 and model: SUMMA\n"
     ]
    },
    {
     "name": "stderr",
     "output_type": "stream",
     "text": [
      "2025-05-11 14:56:31,380 - confluence_general - INFO - Initializing VariableHandler for dataset: ERA5 and model: SUMMA\n"
     ]
    },
    {
     "name": "stdout",
     "output_type": "stream",
     "text": [
      "14:56:31 - INFO - CONFLUENCE system initialized successfully\n"
     ]
    },
    {
     "name": "stderr",
     "output_type": "stream",
     "text": [
      "2025-05-11 14:56:31,720 - confluence_general - INFO - CONFLUENCE system initialized successfully\n"
     ]
    },
    {
     "name": "stdout",
     "output_type": "stream",
     "text": [
      "=== Directory Configuration ===\n",
      "Code Directory: /home/darri.eythorsson/code/CONFLUENCE\n",
      "Data Directory: /work/comphyd_lab/data/CONFLUENCE_data\n",
      "\n",
      "=== Key Configuration Settings ===\n",
      "Domain Name: Bow_at_Banff_lumped\n",
      "Pour Point: 51.1722/-115.5717\n",
      "Spatial Mode: Lumped\n",
      "Model: SUMMA\n",
      "Simulation Period: 2018-01-01 01:00 to 2022-12-31 23:00\n"
     ]
    }
   ],
   "source": [
    "# Set directory paths\n",
    "CONFLUENCE_CODE_DIR = confluence_path\n",
    "CONFLUENCE_DATA_DIR = Path('/work/comphyd_lab/data/CONFLUENCE_data')  # ← User should modify this path\n",
    "\n",
    "# Verify paths exist\n",
    "if not CONFLUENCE_CODE_DIR.exists():\n",
    "    raise FileNotFoundError(f\"CONFLUENCE code directory not found: {CONFLUENCE_CODE_DIR}\")\n",
    "\n",
    "if not CONFLUENCE_DATA_DIR.exists():\n",
    "    print(f\"Data directory doesn't exist. Creating: {CONFLUENCE_DATA_DIR}\")\n",
    "    CONFLUENCE_DATA_DIR.mkdir(parents=True, exist_ok=True)\n",
    "\n",
    "# Load and update configuration\n",
    "config_path = CONFLUENCE_CODE_DIR / '0_config_files' / 'config_template.yaml'\n",
    "\n",
    "# Read config file and update paths\n",
    "with open(config_path, 'r') as f:\n",
    "    config_dict = yaml.safe_load(f)\n",
    "\n",
    "config_dict['CONFLUENCE_CODE_DIR'] = str(CONFLUENCE_CODE_DIR)\n",
    "config_dict['CONFLUENCE_DATA_DIR'] = str(CONFLUENCE_DATA_DIR)\n",
    "\n",
    "# Save updated config to a temporary file\n",
    "temp_config_path = CONFLUENCE_CODE_DIR / '0_config_files' / 'config_notebook.yaml'\n",
    "with open(temp_config_path, 'w') as f:\n",
    "    yaml.dump(config_dict, f)\n",
    "\n",
    "# Initialize CONFLUENCE\n",
    "confluence = CONFLUENCE(temp_config_path)\n",
    "\n",
    "# Display configuration\n",
    "print(\"=== Directory Configuration ===\")\n",
    "print(f\"Code Directory: {CONFLUENCE_CODE_DIR}\")\n",
    "print(f\"Data Directory: {CONFLUENCE_DATA_DIR}\")\n",
    "print(\"\\n=== Key Configuration Settings ===\")\n",
    "print(f\"Domain Name: {confluence.config['DOMAIN_NAME']}\")\n",
    "print(f\"Pour Point: {confluence.config['POUR_POINT_COORDS']}\")\n",
    "print(f\"Spatial Mode: {confluence.config['SPATIAL_MODE']}\")\n",
    "print(f\"Model: {confluence.config['HYDROLOGICAL_MODEL']}\")\n",
    "print(f\"Simulation Period: {confluence.config['EXPERIMENT_TIME_START']} to {confluence.config['EXPERIMENT_TIME_END']}\")"
   ]
  },
  {
   "cell_type": "markdown",
   "metadata": {},
   "source": [
    "## 3. Project Setup - Organizing the Modeling Workflow\n",
    "The first step in any CONFLUENCE workflow is to establish a well-organized project structure. This might seem trivial, but it's crucial for:\n",
    "\n",
    "- Maintaining consistency across different experiments\n",
    "- Ensuring all components can find required files\n",
    "- Enabling reproducibility\n",
    "- Facilitating collaboration"
   ]
  },
  {
   "cell_type": "code",
   "execution_count": 3,
   "metadata": {},
   "outputs": [
    {
     "name": "stdout",
     "output_type": "stream",
     "text": [
      "=== Step 1: Project Initialization ===\n",
      "14:56:31 - INFO - Setting up project for domain: Bow_at_Banff_lumped\n"
     ]
    },
    {
     "name": "stderr",
     "output_type": "stream",
     "text": [
      "2025-05-11 14:56:31,734 - confluence_general - INFO - Setting up project for domain: Bow_at_Banff_lumped\n"
     ]
    },
    {
     "name": "stdout",
     "output_type": "stream",
     "text": [
      "14:56:31 - INFO - Project directory created at: /work/comphyd_lab/data/CONFLUENCE_data/domain_Bow_at_Banff_lumped\n"
     ]
    },
    {
     "name": "stderr",
     "output_type": "stream",
     "text": [
      "2025-05-11 14:56:31,783 - confluence_general - INFO - Project directory created at: /work/comphyd_lab/data/CONFLUENCE_data/domain_Bow_at_Banff_lumped\n",
      "2025-05-11 14:56:31,863 - pyogrio._io - INFO - Created 1 records\n"
     ]
    },
    {
     "name": "stdout",
     "output_type": "stream",
     "text": [
      "14:56:31 - INFO - Pour point shapefile created successfully: /work/comphyd_lab/data/CONFLUENCE_data/domain_Bow_at_Banff_lumped/shapefiles/pour_point/Bow_at_Banff_lumped_pourPoint.shp\n"
     ]
    },
    {
     "name": "stderr",
     "output_type": "stream",
     "text": [
      "2025-05-11 14:56:31,866 - confluence_general - INFO - Pour point shapefile created successfully: /work/comphyd_lab/data/CONFLUENCE_data/domain_Bow_at_Banff_lumped/shapefiles/pour_point/Bow_at_Banff_lumped_pourPoint.shp\n"
     ]
    },
    {
     "name": "stdout",
     "output_type": "stream",
     "text": [
      "\n",
      "Created directories:\n",
      "  📁 _workLog_Bow_at_Banff_lumped\n",
      "  📁 attributes\n",
      "  📁 documentation\n",
      "  📁 observations\n",
      "  📁 optimisation\n",
      "  📁 shapefiles\n",
      "\n",
      "Directory purposes:\n",
      "  📁 shapefiles: Domain geometry (watershed, pour points, river network)\n",
      "  📁 attributes: Static characteristics (elevation, soil, land cover)\n",
      "  📁 forcing: Meteorological inputs (precipitation, temperature)\n",
      "  📁 simulations: Model outputs\n",
      "  📁 evaluation: Performance metrics and comparisons\n",
      "  📁 plots: Visualizations\n",
      "  📁 optimisation: Calibration results\n"
     ]
    }
   ],
   "source": [
    "# Step 1: Project Initialization\n",
    "print(\"=== Step 1: Project Initialization ===\")\n",
    "\n",
    "# Setup project\n",
    "project_dir = confluence.managers['project'].setup_project()\n",
    "\n",
    "# Create pour point\n",
    "pour_point_path = confluence.managers['project'].create_pour_point()\n",
    "\n",
    "# List created directories\n",
    "print(\"\\nCreated directories:\")\n",
    "for item in sorted(project_dir.iterdir()):\n",
    "    if item.is_dir():\n",
    "        print(f\"  📁 {item.name}\")\n",
    "\n",
    "print(\"\\nDirectory purposes:\")\n",
    "print(\"  📁 shapefiles: Domain geometry (watershed, pour points, river network)\")\n",
    "print(\"  📁 attributes: Static characteristics (elevation, soil, land cover)\")\n",
    "print(\"  📁 forcing: Meteorological inputs (precipitation, temperature)\")\n",
    "print(\"  📁 simulations: Model outputs\")\n",
    "print(\"  📁 evaluation: Performance metrics and comparisons\")\n",
    "print(\"  📁 plots: Visualizations\")\n",
    "print(\"  📁 optimisation: Calibration results\")"
   ]
  },
  {
   "cell_type": "markdown",
   "metadata": {},
   "source": [
    "## 4. Geospatial Domain Definition and Analysis - A data acquisition \n",
    "Before we can delineate the watershed, we need elevation data. CONFLUENCE also acquires soil and land cover data at this stage for later use in the model."
   ]
  },
  {
   "cell_type": "code",
   "execution_count": 4,
   "metadata": {
    "collapsed": true,
    "jupyter": {
     "outputs_hidden": true
    }
   },
   "outputs": [
    {
     "name": "stdout",
     "output_type": "stream",
     "text": [
      "=== Step 2: Geospatial Domain Definition and Analysis ===\n",
      "Acquiring geospatial attributes (DEM, soil, land cover)...\n",
      "14:56:31 - INFO - Starting attribute acquisition\n"
     ]
    },
    {
     "name": "stderr",
     "output_type": "stream",
     "text": [
      "2025-05-11 14:56:31,877 - confluence_general - INFO - Starting attribute acquisition\n"
     ]
    },
    {
     "name": "stdout",
     "output_type": "stream",
     "text": [
      "14:56:31 - INFO - Acquiring elevation data\n"
     ]
    },
    {
     "name": "stderr",
     "output_type": "stream",
     "text": [
      "2025-05-11 14:56:31,892 - confluence_general - INFO - Acquiring elevation data\n"
     ]
    },
    {
     "name": "stdout",
     "output_type": "stream",
     "text": [
      "extract-gis.sh: WARNING! --account not provided, using `rpp-kshook` by default.\n",
      "(2025-05-11 20:56:35) merit_hydro.sh: processing MERIT-Hydro GeoTIFF(s)...\n",
      "(2025-05-11 20:56:35) merit_hydro.sh: creating cache directory under /home/darri.eythorsson/cache_Bow_at_Banff_lumped\n",
      "(2025-05-11 20:56:35) merit_hydro.sh: creating output directory under /work/comphyd_lab/data/CONFLUENCE_data/domain_Bow_at_Banff_lumped/attributes/elevation/dem\n",
      "(2025-05-11 20:56:35) merit_hydro.sh: untarring MERIT-Hydro variables under /home/darri.eythorsson/cache_Bow_at_Banff_lumped\n",
      "(2025-05-11 20:57:41) merit_hydro.sh: subsetting GeoTIFFs under /work/comphyd_lab/data/CONFLUENCE_data/domain_Bow_at_Banff_lumped/attributes/elevation/dem\n"
     ]
    },
    {
     "name": "stderr",
     "output_type": "stream",
     "text": [
      "mkdir: cannot create directory ‘/home/darri.eythorsson/empty_dir’: File exists\n"
     ]
    },
    {
     "name": "stdout",
     "output_type": "stream",
     "text": [
      "(2025-05-11 20:57:42) merit_hydro.sh: deleting temporary files from /home/darri.eythorsson/cache_Bow_at_Banff_lumped\n",
      "(2025-05-11 20:57:42) merit_hydro.sh: temporary files from /home/darri.eythorsson/cache_Bow_at_Banff_lumped are removed\n",
      "(2025-05-11 20:57:42) merit_hydro.sh: results are produced under /work/comphyd_lab/data/CONFLUENCE_data/domain_Bow_at_Banff_lumped/attributes/elevation/dem\n",
      "14:57:42 - INFO - gistool completed successfully.\n"
     ]
    },
    {
     "name": "stderr",
     "output_type": "stream",
     "text": [
      "2025-05-11 14:57:42,602 - confluence_general - INFO - gistool completed successfully.\n"
     ]
    },
    {
     "name": "stdout",
     "output_type": "stream",
     "text": [
      "14:57:42 - INFO - Geospatial data acquisition process completed\n"
     ]
    },
    {
     "name": "stderr",
     "output_type": "stream",
     "text": [
      "2025-05-11 14:57:42,604 - confluence_general - INFO - Geospatial data acquisition process completed\n"
     ]
    },
    {
     "name": "stdout",
     "output_type": "stream",
     "text": [
      "14:57:42 - INFO - Acquiring land cover data\n"
     ]
    },
    {
     "name": "stderr",
     "output_type": "stream",
     "text": [
      "2025-05-11 14:57:42,606 - confluence_general - INFO - Acquiring land cover data\n"
     ]
    },
    {
     "name": "stdout",
     "output_type": "stream",
     "text": [
      "extract-gis.sh: WARNING! --account not provided, using `rpp-kshook` by default.\n",
      "(2025-05-11 20:57:46) modis.sh: processing MODIS HDF(s)...\n",
      "(2025-05-11 20:57:46) modis.sh: creating cache directory under /home/darri.eythorsson/cache_Bow_at_Banff_lumped\n",
      "(2025-05-11 20:57:46) modis.sh: creating output directory under /work/comphyd_lab/data/CONFLUENCE_data/domain_Bow_at_Banff_lumped/attributes/landclass\n",
      "(2025-05-11 20:57:46) modis.sh: building virtual format (.vrt) of MODIS HDFs under /home/darri.eythorsson/cache_Bow_at_Banff_lumped\n"
     ]
    },
    {
     "name": "stderr",
     "output_type": "stream",
     "text": [
      "ERROR 1: PROJ: sinu: Invalid latitude\n",
      "ERROR 1: PROJ: sinu: Invalid latitude\n",
      "ERROR 1: PROJ: sinu: Invalid latitude\n",
      "ERROR 1: PROJ: sinu: Invalid latitude\n",
      "ERROR 1: PROJ: sinu: Invalid latitude\n",
      "ERROR 1: PROJ: sinu: Invalid latitude\n",
      "ERROR 1: PROJ: sinu: Invalid latitude\n",
      "ERROR 1: PROJ: sinu: Invalid latitude\n",
      "ERROR 1: PROJ: sinu: Invalid latitude\n",
      "ERROR 1: PROJ: sinu: Invalid latitude\n",
      "ERROR 1: PROJ: sinu: Invalid latitude\n",
      "ERROR 1: PROJ: sinu: Invalid latitude\n",
      "ERROR 1: PROJ: sinu: Invalid latitude\n",
      "ERROR 1: PROJ: sinu: Invalid latitude\n",
      "ERROR 1: PROJ: sinu: Invalid latitude\n",
      "ERROR 1: PROJ: sinu: Invalid latitude\n",
      "ERROR 1: PROJ: sinu: Invalid latitude\n",
      "ERROR 1: PROJ: sinu: Invalid latitude\n",
      "ERROR 1: PROJ: sinu: Invalid latitude\n",
      "ERROR 1: PROJ: sinu: Invalid latitude\n",
      "ERROR 1: PROJ: sinu: Invalid latitude\n",
      "ERROR 1: PROJ: sinu: Invalid latitude\n",
      "ERROR 1: PROJ: sinu: Invalid latitude\n",
      "ERROR 1: PROJ: sinu: Invalid latitude\n",
      "ERROR 1: PROJ: sinu: Invalid latitude\n",
      "ERROR 1: PROJ: sinu: Invalid latitude\n",
      "ERROR 1: PROJ: sinu: Invalid latitude\n",
      "ERROR 1: PROJ: sinu: Invalid latitude\n",
      "ERROR 1: PROJ: sinu: Invalid latitude\n",
      "ERROR 1: PROJ: sinu: Invalid latitude\n",
      "ERROR 1: PROJ: sinu: Invalid latitude\n",
      "ERROR 1: PROJ: sinu: Invalid latitude\n",
      "ERROR 1: PROJ: sinu: Invalid latitude\n",
      "ERROR 1: PROJ: sinu: Invalid latitude\n",
      "ERROR 1: PROJ: sinu: Invalid latitude\n",
      "ERROR 1: PROJ: sinu: Invalid latitude\n",
      "ERROR 1: PROJ: sinu: Invalid latitude\n",
      "ERROR 1: PROJ: sinu: Invalid latitude\n",
      "ERROR 1: PROJ: sinu: Invalid latitude\n",
      "ERROR 1: PROJ: sinu: Invalid latitude\n",
      "ERROR 1: PROJ: sinu: Invalid latitude\n",
      "ERROR 1: PROJ: sinu: Invalid latitude\n",
      "ERROR 1: PROJ: sinu: Invalid latitude\n",
      "ERROR 1: PROJ: sinu: Invalid latitude\n",
      "ERROR 1: PROJ: sinu: Invalid latitude\n",
      "ERROR 1: PROJ: sinu: Invalid latitude\n",
      "ERROR 1: PROJ: sinu: Invalid latitude\n",
      "ERROR 1: PROJ: sinu: Invalid latitude\n",
      "ERROR 1: PROJ: sinu: Invalid latitude\n",
      "ERROR 1: PROJ: sinu: Invalid latitude\n",
      "ERROR 1: PROJ: sinu: Invalid latitude\n",
      "ERROR 1: PROJ: sinu: Invalid latitude\n",
      "ERROR 1: PROJ: sinu: Invalid latitude\n",
      "ERROR 1: PROJ: sinu: Invalid latitude\n",
      "ERROR 1: PROJ: sinu: Invalid latitude\n",
      "ERROR 1: PROJ: sinu: Invalid latitude\n",
      "ERROR 1: PROJ: sinu: Invalid latitude\n",
      "ERROR 1: PROJ: sinu: Invalid latitude\n",
      "ERROR 1: PROJ: sinu: Invalid latitude\n",
      "ERROR 1: PROJ: sinu: Invalid latitude\n",
      "ERROR 1: PROJ: sinu: Invalid latitude\n",
      "ERROR 1: PROJ: sinu: Invalid latitude\n",
      "ERROR 1: PROJ: sinu: Invalid latitude\n",
      "ERROR 1: PROJ: sinu: Invalid latitude\n",
      "ERROR 1: PROJ: sinu: Invalid latitude\n",
      "ERROR 1: PROJ: sinu: Invalid latitude\n",
      "ERROR 1: PROJ: sinu: Invalid latitude\n",
      "ERROR 1: PROJ: sinu: Invalid latitude\n",
      "ERROR 1: PROJ: sinu: Invalid latitude\n",
      "ERROR 1: PROJ: sinu: Invalid latitude\n",
      "ERROR 1: PROJ: sinu: Invalid latitude\n",
      "ERROR 1: PROJ: sinu: Invalid latitude\n",
      "ERROR 1: PROJ: sinu: Invalid latitude\n",
      "ERROR 1: PROJ: sinu: Invalid latitude\n",
      "ERROR 1: PROJ: sinu: Invalid latitude\n",
      "ERROR 1: PROJ: sinu: Invalid latitude\n",
      "ERROR 1: PROJ: sinu: Invalid latitude\n",
      "ERROR 1: PROJ: sinu: Invalid latitude\n",
      "ERROR 1: PROJ: sinu: Invalid latitude\n",
      "ERROR 1: PROJ: sinu: Invalid latitude\n",
      "ERROR 1: PROJ: sinu: Invalid latitude\n",
      "ERROR 1: PROJ: sinu: Invalid latitude\n",
      "ERROR 1: PROJ: sinu: Invalid latitude\n",
      "ERROR 1: PROJ: sinu: Invalid latitude\n",
      "ERROR 1: PROJ: sinu: Invalid latitude\n",
      "ERROR 1: PROJ: sinu: Invalid latitude\n",
      "ERROR 1: PROJ: sinu: Invalid latitude\n",
      "ERROR 1: PROJ: sinu: Invalid latitude\n",
      "ERROR 1: PROJ: sinu: Invalid latitude\n",
      "ERROR 1: PROJ: sinu: Invalid latitude\n",
      "ERROR 1: PROJ: sinu: Invalid latitude\n",
      "ERROR 1: PROJ: sinu: Invalid latitude\n",
      "ERROR 1: PROJ: sinu: Invalid latitude\n",
      "ERROR 1: PROJ: sinu: Invalid latitude\n",
      "ERROR 1: PROJ: sinu: Invalid latitude\n",
      "ERROR 1: PROJ: sinu: Invalid latitude\n",
      "ERROR 1: PROJ: sinu: Invalid latitude\n",
      "ERROR 1: PROJ: sinu: Invalid latitude\n",
      "ERROR 1: PROJ: sinu: Invalid latitude\n",
      "ERROR 1: PROJ: sinu: Invalid latitude\n",
      "ERROR 1: PROJ: sinu: Invalid latitude\n",
      "ERROR 1: PROJ: sinu: Invalid latitude\n",
      "ERROR 1: PROJ: sinu: Invalid latitude\n",
      "ERROR 1: PROJ: sinu: Invalid latitude\n",
      "ERROR 1: PROJ: sinu: Invalid latitude\n",
      "ERROR 1: PROJ: sinu: Invalid latitude\n",
      "ERROR 1: PROJ: sinu: Invalid latitude\n",
      "ERROR 1: PROJ: sinu: Invalid latitude\n",
      "ERROR 1: PROJ: sinu: Invalid latitude\n",
      "ERROR 1: PROJ: sinu: Invalid latitude\n",
      "ERROR 1: PROJ: sinu: Invalid latitude\n",
      "ERROR 1: PROJ: sinu: Invalid latitude\n",
      "ERROR 1: PROJ: sinu: Invalid latitude\n",
      "ERROR 1: PROJ: sinu: Invalid latitude\n",
      "ERROR 1: PROJ: sinu: Invalid latitude\n",
      "ERROR 1: PROJ: sinu: Invalid latitude\n",
      "ERROR 1: PROJ: sinu: Invalid latitude\n",
      "ERROR 1: PROJ: sinu: Invalid latitude\n",
      "ERROR 1: PROJ: sinu: Invalid latitude\n",
      "ERROR 1: PROJ: sinu: Invalid latitude\n",
      "ERROR 1: PROJ: sinu: Invalid latitude\n",
      "ERROR 1: PROJ: sinu: Invalid latitude\n",
      "ERROR 1: PROJ: sinu: Invalid latitude\n",
      "ERROR 1: PROJ: sinu: Invalid latitude\n",
      "ERROR 1: PROJ: sinu: Invalid latitude\n",
      "ERROR 1: PROJ: sinu: Invalid latitude\n",
      "ERROR 1: PROJ: sinu: Invalid latitude\n",
      "ERROR 1: PROJ: sinu: Invalid latitude\n",
      "ERROR 1: PROJ: sinu: Invalid latitude\n",
      "ERROR 1: PROJ: sinu: Invalid latitude\n",
      "ERROR 1: PROJ: sinu: Invalid latitude\n",
      "ERROR 1: PROJ: sinu: Invalid latitude\n",
      "ERROR 1: PROJ: sinu: Invalid latitude\n",
      "ERROR 1: PROJ: sinu: Invalid latitude\n",
      "ERROR 1: PROJ: sinu: Invalid latitude\n",
      "ERROR 1: PROJ: sinu: Invalid latitude\n",
      "ERROR 1: PROJ: sinu: Invalid latitude\n",
      "ERROR 1: PROJ: sinu: Invalid latitude\n",
      "ERROR 1: PROJ: sinu: Invalid latitude\n",
      "ERROR 1: PROJ: sinu: Invalid latitude\n",
      "ERROR 1: PROJ: sinu: Invalid latitude\n",
      "ERROR 1: PROJ: sinu: Invalid latitude\n",
      "ERROR 1: PROJ: sinu: Invalid latitude\n",
      "ERROR 1: PROJ: sinu: Invalid latitude\n",
      "ERROR 1: PROJ: sinu: Invalid latitude\n",
      "ERROR 1: PROJ: sinu: Invalid latitude\n",
      "ERROR 1: PROJ: sinu: Invalid latitude\n",
      "ERROR 1: PROJ: sinu: Invalid latitude\n",
      "ERROR 1: PROJ: sinu: Invalid latitude\n",
      "ERROR 1: PROJ: sinu: Invalid latitude\n",
      "ERROR 1: PROJ: sinu: Invalid latitude\n",
      "ERROR 1: PROJ: sinu: Invalid latitude\n",
      "ERROR 1: PROJ: sinu: Invalid latitude\n",
      "ERROR 1: PROJ: sinu: Invalid latitude\n",
      "ERROR 1: PROJ: sinu: Invalid latitude\n",
      "ERROR 1: PROJ: sinu: Invalid latitude\n",
      "ERROR 1: PROJ: sinu: Invalid latitude\n",
      "ERROR 1: PROJ: sinu: Invalid latitude\n",
      "ERROR 1: PROJ: sinu: Invalid latitude\n",
      "ERROR 1: PROJ: sinu: Invalid latitude\n",
      "ERROR 1: PROJ: sinu: Invalid latitude\n",
      "ERROR 1: PROJ: sinu: Invalid latitude\n",
      "ERROR 1: PROJ: sinu: Invalid latitude\n",
      "ERROR 1: PROJ: sinu: Invalid latitude\n",
      "ERROR 1: PROJ: sinu: Invalid latitude\n",
      "ERROR 1: PROJ: sinu: Invalid latitude\n",
      "ERROR 1: PROJ: sinu: Invalid latitude\n",
      "ERROR 1: PROJ: sinu: Invalid latitude\n",
      "ERROR 1: PROJ: sinu: Invalid latitude\n",
      "ERROR 1: PROJ: sinu: Invalid latitude\n",
      "ERROR 1: PROJ: sinu: Invalid latitude\n",
      "ERROR 1: PROJ: sinu: Invalid latitude\n",
      "ERROR 1: PROJ: sinu: Invalid latitude\n",
      "ERROR 1: PROJ: sinu: Invalid latitude\n",
      "ERROR 1: PROJ: sinu: Invalid latitude\n",
      "ERROR 1: PROJ: sinu: Invalid latitude\n",
      "ERROR 1: PROJ: sinu: Invalid latitude\n",
      "ERROR 1: PROJ: sinu: Invalid latitude\n",
      "ERROR 1: PROJ: sinu: Invalid latitude\n",
      "ERROR 1: PROJ: sinu: Invalid latitude\n",
      "ERROR 1: PROJ: sinu: Invalid latitude\n",
      "ERROR 1: PROJ: sinu: Invalid latitude\n",
      "ERROR 1: PROJ: sinu: Invalid latitude\n",
      "ERROR 1: PROJ: sinu: Invalid latitude\n",
      "ERROR 1: PROJ: sinu: Invalid latitude\n",
      "ERROR 1: PROJ: sinu: Invalid latitude\n",
      "ERROR 1: PROJ: sinu: Invalid latitude\n",
      "ERROR 1: PROJ: sinu: Invalid latitude\n",
      "ERROR 1: PROJ: sinu: Invalid latitude\n",
      "ERROR 1: PROJ: sinu: Invalid latitude\n",
      "ERROR 1: PROJ: sinu: Invalid latitude\n",
      "ERROR 1: PROJ: sinu: Invalid latitude\n",
      "ERROR 1: PROJ: sinu: Invalid latitude\n",
      "ERROR 1: PROJ: sinu: Invalid latitude\n",
      "ERROR 1: PROJ: sinu: Invalid latitude\n",
      "ERROR 1: PROJ: sinu: Invalid latitude\n",
      "ERROR 1: PROJ: sinu: Invalid latitude\n",
      "ERROR 1: PROJ: sinu: Invalid latitude\n",
      "ERROR 1: PROJ: sinu: Invalid latitude\n",
      "ERROR 1: PROJ: sinu: Invalid latitude\n",
      "ERROR 1: PROJ: sinu: Invalid latitude\n",
      "ERROR 1: PROJ: sinu: Invalid latitude\n",
      "ERROR 1: PROJ: sinu: Invalid latitude\n",
      "ERROR 1: PROJ: sinu: Invalid latitude\n",
      "ERROR 1: PROJ: sinu: Invalid latitude\n",
      "ERROR 1: PROJ: sinu: Invalid latitude\n",
      "ERROR 1: PROJ: sinu: Invalid latitude\n",
      "ERROR 1: PROJ: sinu: Invalid latitude\n",
      "ERROR 1: PROJ: sinu: Invalid latitude\n",
      "ERROR 1: PROJ: sinu: Invalid latitude\n",
      "ERROR 1: PROJ: sinu: Invalid latitude\n",
      "ERROR 1: PROJ: sinu: Invalid latitude\n",
      "ERROR 1: PROJ: sinu: Invalid latitude\n",
      "ERROR 1: PROJ: sinu: Invalid latitude\n",
      "ERROR 1: PROJ: sinu: Invalid latitude\n",
      "ERROR 1: PROJ: sinu: Invalid latitude\n",
      "ERROR 1: PROJ: sinu: Invalid latitude\n",
      "ERROR 1: PROJ: sinu: Invalid latitude\n",
      "ERROR 1: PROJ: sinu: Invalid latitude\n",
      "ERROR 1: PROJ: sinu: Invalid latitude\n",
      "ERROR 1: PROJ: sinu: Invalid latitude\n",
      "ERROR 1: PROJ: sinu: Invalid latitude\n",
      "ERROR 1: PROJ: sinu: Invalid latitude\n",
      "ERROR 1: PROJ: sinu: Invalid latitude\n",
      "ERROR 1: PROJ: sinu: Invalid latitude\n",
      "ERROR 1: PROJ: sinu: Invalid latitude\n",
      "ERROR 1: PROJ: sinu: Invalid latitude\n",
      "ERROR 1: PROJ: sinu: Invalid latitude\n",
      "ERROR 1: PROJ: sinu: Invalid latitude\n",
      "ERROR 1: PROJ: sinu: Invalid latitude\n",
      "ERROR 1: PROJ: sinu: Invalid latitude\n",
      "ERROR 1: PROJ: sinu: Invalid latitude\n",
      "ERROR 1: PROJ: sinu: Invalid latitude\n",
      "ERROR 1: PROJ: sinu: Invalid latitude\n",
      "ERROR 1: PROJ: sinu: Invalid latitude\n",
      "ERROR 1: PROJ: sinu: Invalid latitude\n",
      "ERROR 1: PROJ: sinu: Invalid latitude\n",
      "ERROR 1: PROJ: sinu: Invalid latitude\n",
      "ERROR 1: PROJ: sinu: Invalid latitude\n",
      "ERROR 1: PROJ: sinu: Invalid latitude\n",
      "ERROR 1: PROJ: sinu: Invalid latitude\n",
      "ERROR 1: PROJ: sinu: Invalid latitude\n",
      "ERROR 1: PROJ: sinu: Invalid latitude\n",
      "ERROR 1: PROJ: sinu: Invalid latitude\n",
      "ERROR 1: PROJ: sinu: Invalid latitude\n",
      "ERROR 1: PROJ: sinu: Invalid latitude\n",
      "ERROR 1: PROJ: sinu: Invalid latitude\n",
      "ERROR 1: PROJ: sinu: Invalid latitude\n",
      "ERROR 1: PROJ: sinu: Invalid latitude\n",
      "ERROR 1: PROJ: sinu: Invalid latitude\n",
      "ERROR 1: PROJ: sinu: Invalid latitude\n",
      "ERROR 1: PROJ: sinu: Invalid latitude\n",
      "ERROR 1: PROJ: sinu: Invalid latitude\n",
      "ERROR 1: PROJ: sinu: Invalid latitude\n",
      "ERROR 1: PROJ: sinu: Invalid latitude\n",
      "ERROR 1: PROJ: sinu: Invalid latitude\n",
      "ERROR 1: PROJ: sinu: Invalid latitude\n",
      "ERROR 1: PROJ: sinu: Invalid latitude\n",
      "ERROR 1: PROJ: sinu: Invalid latitude\n",
      "ERROR 1: PROJ: sinu: Invalid latitude\n",
      "ERROR 1: PROJ: sinu: Invalid latitude\n",
      "ERROR 1: PROJ: sinu: Invalid latitude\n",
      "ERROR 1: PROJ: sinu: Invalid latitude\n",
      "ERROR 1: PROJ: sinu: Invalid latitude\n",
      "ERROR 1: PROJ: sinu: Invalid latitude\n",
      "ERROR 1: PROJ: sinu: Invalid latitude\n",
      "ERROR 1: PROJ: sinu: Invalid latitude\n",
      "ERROR 1: PROJ: sinu: Invalid latitude\n",
      "ERROR 1: PROJ: sinu: Invalid latitude\n",
      "ERROR 1: PROJ: sinu: Invalid latitude\n",
      "ERROR 1: PROJ: sinu: Invalid latitude\n",
      "ERROR 1: PROJ: sinu: Invalid latitude\n",
      "ERROR 1: PROJ: sinu: Invalid latitude\n",
      "ERROR 1: PROJ: sinu: Invalid latitude\n",
      "ERROR 1: PROJ: sinu: Invalid latitude\n",
      "ERROR 1: PROJ: sinu: Invalid latitude\n",
      "ERROR 1: PROJ: sinu: Invalid latitude\n",
      "ERROR 1: PROJ: sinu: Invalid latitude\n",
      "ERROR 1: PROJ: sinu: Invalid latitude\n",
      "ERROR 1: PROJ: sinu: Invalid latitude\n",
      "ERROR 1: PROJ: sinu: Invalid latitude\n",
      "ERROR 1: PROJ: sinu: Invalid latitude\n",
      "ERROR 1: PROJ: sinu: Invalid latitude\n",
      "ERROR 1: PROJ: sinu: Invalid latitude\n",
      "ERROR 1: PROJ: sinu: Invalid latitude\n",
      "ERROR 1: PROJ: sinu: Invalid latitude\n",
      "ERROR 1: PROJ: sinu: Invalid latitude\n",
      "ERROR 1: PROJ: sinu: Invalid latitude\n",
      "ERROR 1: PROJ: sinu: Invalid latitude\n",
      "ERROR 1: PROJ: sinu: Invalid latitude\n",
      "ERROR 1: PROJ: sinu: Invalid latitude\n",
      "ERROR 1: PROJ: sinu: Invalid latitude\n",
      "ERROR 1: PROJ: sinu: Invalid latitude\n",
      "ERROR 1: PROJ: sinu: Invalid latitude\n",
      "ERROR 1: PROJ: sinu: Invalid latitude\n",
      "ERROR 1: PROJ: sinu: Invalid latitude\n",
      "ERROR 1: PROJ: sinu: Invalid latitude\n",
      "ERROR 1: PROJ: sinu: Invalid latitude\n",
      "ERROR 1: PROJ: sinu: Invalid latitude\n",
      "ERROR 1: PROJ: sinu: Invalid latitude\n",
      "ERROR 1: PROJ: sinu: Invalid latitude\n",
      "ERROR 1: PROJ: sinu: Invalid latitude\n",
      "ERROR 1: PROJ: sinu: Invalid latitude\n",
      "ERROR 1: PROJ: sinu: Invalid latitude\n",
      "ERROR 1: PROJ: sinu: Invalid latitude\n",
      "ERROR 1: PROJ: sinu: Invalid latitude\n",
      "ERROR 1: PROJ: sinu: Invalid latitude\n",
      "ERROR 1: PROJ: sinu: Invalid latitude\n",
      "ERROR 1: PROJ: sinu: Invalid latitude\n",
      "ERROR 1: PROJ: sinu: Invalid latitude\n",
      "ERROR 1: PROJ: sinu: Invalid latitude\n",
      "ERROR 1: PROJ: sinu: Invalid latitude\n",
      "ERROR 1: PROJ: sinu: Invalid latitude\n",
      "ERROR 1: PROJ: sinu: Invalid latitude\n",
      "ERROR 1: PROJ: sinu: Invalid latitude\n",
      "ERROR 1: PROJ: sinu: Invalid latitude\n",
      "ERROR 1: PROJ: sinu: Invalid latitude\n",
      "ERROR 1: PROJ: sinu: Invalid latitude\n",
      "ERROR 1: PROJ: sinu: Invalid latitude\n",
      "ERROR 1: PROJ: sinu: Invalid latitude\n",
      "ERROR 1: PROJ: sinu: Invalid latitude\n",
      "ERROR 1: PROJ: sinu: Invalid latitude\n",
      "ERROR 1: PROJ: sinu: Invalid latitude\n",
      "ERROR 1: PROJ: sinu: Invalid latitude\n",
      "ERROR 1: PROJ: sinu: Invalid latitude\n",
      "ERROR 1: PROJ: sinu: Invalid latitude\n",
      "ERROR 1: PROJ: sinu: Invalid latitude\n",
      "ERROR 1: PROJ: sinu: Invalid latitude\n",
      "ERROR 1: PROJ: sinu: Invalid latitude\n",
      "ERROR 1: PROJ: sinu: Invalid latitude\n",
      "ERROR 1: PROJ: sinu: Invalid latitude\n",
      "ERROR 1: PROJ: sinu: Invalid latitude\n",
      "ERROR 1: PROJ: sinu: Invalid latitude\n",
      "ERROR 1: PROJ: sinu: Invalid latitude\n",
      "ERROR 1: PROJ: sinu: Invalid latitude\n",
      "ERROR 1: PROJ: sinu: Invalid latitude\n",
      "ERROR 1: PROJ: sinu: Invalid latitude\n",
      "ERROR 1: PROJ: sinu: Invalid latitude\n",
      "ERROR 1: PROJ: sinu: Invalid latitude\n",
      "ERROR 1: PROJ: sinu: Invalid latitude\n",
      "ERROR 1: PROJ: sinu: Invalid latitude\n",
      "ERROR 1: PROJ: sinu: Invalid latitude\n",
      "ERROR 1: PROJ: sinu: Invalid latitude\n",
      "ERROR 1: PROJ: sinu: Invalid latitude\n",
      "ERROR 1: PROJ: sinu: Invalid latitude\n",
      "ERROR 1: PROJ: sinu: Invalid latitude\n",
      "ERROR 1: PROJ: sinu: Invalid latitude\n",
      "ERROR 1: PROJ: sinu: Invalid latitude\n",
      "ERROR 1: PROJ: sinu: Invalid latitude\n",
      "ERROR 1: PROJ: sinu: Invalid latitude\n",
      "ERROR 1: PROJ: sinu: Invalid latitude\n",
      "ERROR 1: PROJ: sinu: Invalid latitude\n",
      "ERROR 1: PROJ: sinu: Invalid latitude\n",
      "ERROR 1: PROJ: sinu: Invalid latitude\n",
      "ERROR 1: PROJ: sinu: Invalid latitude\n",
      "ERROR 1: PROJ: sinu: Invalid latitude\n",
      "ERROR 1: PROJ: sinu: Invalid latitude\n",
      "ERROR 1: PROJ: sinu: Invalid latitude\n",
      "ERROR 1: PROJ: sinu: Invalid latitude\n",
      "ERROR 1: PROJ: sinu: Invalid latitude\n",
      "ERROR 1: PROJ: sinu: Invalid latitude\n",
      "ERROR 1: PROJ: sinu: Invalid latitude\n",
      "ERROR 1: PROJ: sinu: Invalid latitude\n",
      "ERROR 1: PROJ: sinu: Invalid latitude\n",
      "ERROR 1: PROJ: sinu: Invalid latitude\n",
      "ERROR 1: PROJ: sinu: Invalid latitude\n",
      "ERROR 1: PROJ: sinu: Invalid latitude\n",
      "ERROR 1: PROJ: sinu: Invalid latitude\n",
      "ERROR 1: PROJ: sinu: Invalid latitude\n",
      "ERROR 1: PROJ: sinu: Invalid latitude\n",
      "ERROR 1: PROJ: sinu: Invalid latitude\n",
      "ERROR 1: PROJ: sinu: Invalid latitude\n",
      "ERROR 1: PROJ: sinu: Invalid latitude\n",
      "ERROR 1: PROJ: sinu: Invalid latitude\n",
      "ERROR 1: PROJ: sinu: Invalid latitude\n",
      "ERROR 1: PROJ: sinu: Invalid latitude\n",
      "ERROR 1: PROJ: sinu: Invalid latitude\n",
      "ERROR 1: PROJ: sinu: Invalid latitude\n",
      "ERROR 1: PROJ: sinu: Invalid latitude\n",
      "ERROR 1: PROJ: sinu: Invalid latitude\n",
      "ERROR 1: PROJ: sinu: Invalid latitude\n",
      "ERROR 1: PROJ: sinu: Invalid latitude\n",
      "ERROR 1: PROJ: sinu: Invalid latitude\n",
      "ERROR 1: PROJ: sinu: Invalid latitude\n",
      "ERROR 1: PROJ: sinu: Invalid latitude\n",
      "ERROR 1: PROJ: sinu: Invalid latitude\n",
      "ERROR 1: PROJ: sinu: Invalid latitude\n",
      "ERROR 1: PROJ: sinu: Invalid latitude\n",
      "ERROR 1: PROJ: sinu: Invalid latitude\n",
      "ERROR 1: PROJ: sinu: Invalid latitude\n",
      "ERROR 1: PROJ: sinu: Invalid latitude\n",
      "ERROR 1: PROJ: sinu: Invalid latitude\n",
      "ERROR 1: PROJ: sinu: Invalid latitude\n",
      "ERROR 1: PROJ: sinu: Invalid latitude\n",
      "ERROR 1: PROJ: sinu: Invalid latitude\n",
      "ERROR 1: PROJ: sinu: Invalid latitude\n",
      "ERROR 1: PROJ: sinu: Invalid latitude\n",
      "ERROR 1: PROJ: sinu: Invalid latitude\n",
      "ERROR 1: PROJ: sinu: Invalid latitude\n",
      "ERROR 1: PROJ: sinu: Invalid latitude\n",
      "ERROR 1: PROJ: sinu: Invalid latitude\n",
      "ERROR 1: PROJ: sinu: Invalid latitude\n",
      "ERROR 1: PROJ: sinu: Invalid latitude\n",
      "ERROR 1: PROJ: sinu: Invalid latitude\n",
      "ERROR 1: PROJ: sinu: Invalid latitude\n",
      "ERROR 1: PROJ: sinu: Invalid latitude\n",
      "ERROR 1: PROJ: sinu: Invalid latitude\n",
      "ERROR 1: PROJ: sinu: Invalid latitude\n",
      "ERROR 1: PROJ: sinu: Invalid latitude\n",
      "ERROR 1: PROJ: sinu: Invalid latitude\n",
      "ERROR 1: PROJ: sinu: Invalid latitude\n",
      "ERROR 1: PROJ: sinu: Invalid latitude\n",
      "ERROR 1: PROJ: sinu: Invalid latitude\n",
      "ERROR 1: PROJ: sinu: Invalid latitude\n",
      "ERROR 1: PROJ: sinu: Invalid latitude\n",
      "ERROR 1: PROJ: sinu: Invalid latitude\n",
      "ERROR 1: PROJ: sinu: Invalid latitude\n",
      "ERROR 1: PROJ: sinu: Invalid latitude\n",
      "ERROR 1: PROJ: sinu: Invalid latitude\n",
      "ERROR 1: PROJ: sinu: Invalid latitude\n",
      "ERROR 1: PROJ: sinu: Invalid latitude\n",
      "ERROR 1: PROJ: sinu: Invalid latitude\n",
      "ERROR 1: PROJ: sinu: Invalid latitude\n",
      "ERROR 1: PROJ: sinu: Invalid latitude\n",
      "ERROR 1: PROJ: sinu: Invalid latitude\n",
      "ERROR 1: PROJ: sinu: Invalid latitude\n",
      "ERROR 1: PROJ: sinu: Invalid latitude\n",
      "ERROR 1: PROJ: sinu: Invalid latitude\n",
      "ERROR 1: PROJ: sinu: Invalid latitude\n",
      "ERROR 1: PROJ: sinu: Invalid latitude\n",
      "ERROR 1: PROJ: sinu: Invalid latitude\n",
      "ERROR 1: PROJ: sinu: Invalid latitude\n",
      "ERROR 1: PROJ: sinu: Invalid latitude\n",
      "ERROR 1: PROJ: sinu: Invalid latitude\n",
      "ERROR 1: PROJ: sinu: Invalid latitude\n",
      "ERROR 1: PROJ: sinu: Invalid latitude\n",
      "ERROR 1: PROJ: sinu: Invalid latitude\n",
      "ERROR 1: PROJ: sinu: Invalid latitude\n",
      "ERROR 1: PROJ: sinu: Invalid latitude\n",
      "ERROR 1: PROJ: sinu: Invalid latitude\n",
      "ERROR 1: PROJ: sinu: Invalid latitude\n",
      "ERROR 1: PROJ: sinu: Invalid latitude\n",
      "ERROR 1: PROJ: sinu: Invalid latitude\n",
      "ERROR 1: PROJ: sinu: Invalid latitude\n",
      "ERROR 1: PROJ: sinu: Invalid latitude\n",
      "ERROR 1: PROJ: sinu: Invalid latitude\n",
      "ERROR 1: PROJ: sinu: Invalid latitude\n",
      "ERROR 1: PROJ: sinu: Invalid latitude\n",
      "ERROR 1: PROJ: sinu: Invalid latitude\n",
      "ERROR 1: PROJ: sinu: Invalid latitude\n",
      "ERROR 1: PROJ: sinu: Invalid latitude\n",
      "ERROR 1: PROJ: sinu: Invalid latitude\n",
      "ERROR 1: PROJ: sinu: Invalid latitude\n",
      "ERROR 1: PROJ: sinu: Invalid latitude\n",
      "ERROR 1: PROJ: sinu: Invalid latitude\n",
      "ERROR 1: PROJ: sinu: Invalid latitude\n",
      "ERROR 1: PROJ: sinu: Invalid latitude\n",
      "ERROR 1: PROJ: sinu: Invalid latitude\n",
      "ERROR 1: PROJ: sinu: Invalid latitude\n",
      "ERROR 1: PROJ: sinu: Invalid latitude\n",
      "ERROR 1: PROJ: sinu: Invalid latitude\n",
      "ERROR 1: PROJ: sinu: Invalid latitude\n",
      "ERROR 1: PROJ: sinu: Invalid latitude\n",
      "ERROR 1: PROJ: sinu: Invalid latitude\n",
      "ERROR 1: PROJ: sinu: Invalid latitude\n",
      "ERROR 1: PROJ: sinu: Invalid latitude\n",
      "ERROR 1: PROJ: sinu: Invalid latitude\n",
      "ERROR 1: PROJ: sinu: Invalid latitude\n",
      "ERROR 1: PROJ: sinu: Invalid latitude\n",
      "ERROR 1: PROJ: sinu: Invalid latitude\n",
      "ERROR 1: PROJ: sinu: Invalid latitude\n",
      "ERROR 1: PROJ: sinu: Invalid latitude\n",
      "ERROR 1: PROJ: sinu: Invalid latitude\n",
      "ERROR 1: PROJ: sinu: Invalid latitude\n",
      "ERROR 1: PROJ: sinu: Invalid latitude\n",
      "ERROR 1: PROJ: sinu: Invalid latitude\n",
      "ERROR 1: PROJ: sinu: Invalid latitude\n",
      "ERROR 1: PROJ: sinu: Invalid latitude\n",
      "ERROR 1: PROJ: sinu: Invalid latitude\n",
      "ERROR 1: PROJ: sinu: Invalid latitude\n",
      "ERROR 1: PROJ: sinu: Invalid latitude\n",
      "ERROR 1: PROJ: sinu: Invalid latitude\n",
      "ERROR 1: PROJ: sinu: Invalid latitude\n",
      "ERROR 1: PROJ: sinu: Invalid latitude\n",
      "ERROR 1: PROJ: sinu: Invalid latitude\n",
      "ERROR 1: PROJ: sinu: Invalid latitude\n",
      "ERROR 1: PROJ: sinu: Invalid latitude\n",
      "ERROR 1: PROJ: sinu: Invalid latitude\n",
      "ERROR 1: PROJ: sinu: Invalid latitude\n",
      "ERROR 1: PROJ: sinu: Invalid latitude\n",
      "ERROR 1: PROJ: sinu: Invalid latitude\n",
      "ERROR 1: PROJ: sinu: Invalid latitude\n",
      "ERROR 1: PROJ: sinu: Invalid latitude\n",
      "ERROR 1: PROJ: sinu: Invalid latitude\n",
      "ERROR 1: PROJ: sinu: Invalid latitude\n",
      "ERROR 1: PROJ: sinu: Invalid latitude\n",
      "ERROR 1: PROJ: sinu: Invalid latitude\n",
      "ERROR 1: PROJ: sinu: Invalid latitude\n",
      "ERROR 1: PROJ: sinu: Invalid latitude\n",
      "ERROR 1: PROJ: sinu: Invalid latitude\n",
      "ERROR 1: PROJ: sinu: Invalid latitude\n",
      "ERROR 1: PROJ: sinu: Invalid latitude\n",
      "ERROR 1: PROJ: sinu: Invalid latitude\n",
      "ERROR 1: PROJ: sinu: Invalid latitude\n",
      "ERROR 1: PROJ: sinu: Invalid latitude\n",
      "ERROR 1: PROJ: sinu: Invalid latitude\n",
      "ERROR 1: PROJ: sinu: Invalid latitude\n",
      "ERROR 1: PROJ: sinu: Invalid latitude\n",
      "ERROR 1: PROJ: sinu: Invalid latitude\n",
      "ERROR 1: PROJ: sinu: Invalid latitude\n",
      "ERROR 1: PROJ: sinu: Invalid latitude\n",
      "ERROR 1: PROJ: sinu: Invalid latitude\n",
      "ERROR 1: PROJ: sinu: Invalid latitude\n",
      "ERROR 1: PROJ: sinu: Invalid latitude\n",
      "ERROR 1: PROJ: sinu: Invalid latitude\n",
      "ERROR 1: PROJ: sinu: Invalid latitude\n",
      "ERROR 1: PROJ: sinu: Invalid latitude\n",
      "ERROR 1: PROJ: sinu: Invalid latitude\n",
      "ERROR 1: PROJ: sinu: Invalid latitude\n",
      "ERROR 1: PROJ: sinu: Invalid latitude\n",
      "ERROR 1: PROJ: sinu: Invalid latitude\n",
      "ERROR 1: PROJ: sinu: Invalid latitude\n",
      "ERROR 1: PROJ: sinu: Invalid latitude\n",
      "ERROR 1: PROJ: sinu: Invalid latitude\n",
      "ERROR 1: PROJ: sinu: Invalid latitude\n",
      "ERROR 1: PROJ: sinu: Invalid latitude\n",
      "ERROR 1: PROJ: sinu: Invalid latitude\n",
      "ERROR 1: PROJ: sinu: Invalid latitude\n",
      "ERROR 1: PROJ: sinu: Invalid latitude\n",
      "ERROR 1: PROJ: sinu: Invalid latitude\n",
      "ERROR 1: PROJ: sinu: Invalid latitude\n",
      "ERROR 1: PROJ: sinu: Invalid latitude\n",
      "ERROR 1: PROJ: sinu: Invalid latitude\n",
      "ERROR 1: PROJ: sinu: Invalid latitude\n",
      "ERROR 1: PROJ: sinu: Invalid latitude\n",
      "ERROR 1: PROJ: sinu: Invalid latitude\n",
      "ERROR 1: PROJ: sinu: Invalid latitude\n",
      "ERROR 1: PROJ: sinu: Invalid latitude\n",
      "ERROR 1: PROJ: sinu: Invalid latitude\n",
      "ERROR 1: PROJ: sinu: Invalid latitude\n",
      "ERROR 1: PROJ: sinu: Invalid latitude\n",
      "ERROR 1: PROJ: sinu: Invalid latitude\n",
      "ERROR 1: PROJ: sinu: Invalid latitude\n",
      "ERROR 1: PROJ: sinu: Invalid latitude\n",
      "ERROR 1: PROJ: sinu: Invalid latitude\n",
      "ERROR 1: PROJ: sinu: Invalid latitude\n",
      "ERROR 1: PROJ: sinu: Invalid latitude\n",
      "ERROR 1: PROJ: sinu: Invalid latitude\n",
      "ERROR 1: PROJ: sinu: Invalid latitude\n",
      "ERROR 1: PROJ: sinu: Invalid latitude\n",
      "ERROR 1: PROJ: sinu: Invalid latitude\n",
      "ERROR 1: PROJ: sinu: Invalid latitude\n",
      "ERROR 1: PROJ: sinu: Invalid latitude\n",
      "ERROR 1: PROJ: sinu: Invalid latitude\n",
      "ERROR 1: PROJ: sinu: Invalid latitude\n",
      "ERROR 1: PROJ: sinu: Invalid latitude\n",
      "ERROR 1: PROJ: sinu: Invalid latitude\n",
      "ERROR 1: PROJ: sinu: Invalid latitude\n",
      "ERROR 1: PROJ: sinu: Invalid latitude\n",
      "ERROR 1: PROJ: sinu: Invalid latitude\n",
      "ERROR 1: PROJ: sinu: Invalid latitude\n",
      "ERROR 1: PROJ: sinu: Invalid latitude\n",
      "ERROR 1: PROJ: sinu: Invalid latitude\n",
      "ERROR 1: PROJ: sinu: Invalid latitude\n",
      "ERROR 1: PROJ: sinu: Invalid latitude\n",
      "ERROR 1: PROJ: sinu: Invalid latitude\n",
      "ERROR 1: PROJ: sinu: Invalid latitude\n",
      "ERROR 1: PROJ: sinu: Invalid latitude\n",
      "ERROR 1: PROJ: sinu: Invalid latitude\n",
      "ERROR 1: PROJ: sinu: Invalid latitude\n",
      "ERROR 1: PROJ: sinu: Invalid latitude\n",
      "ERROR 1: PROJ: sinu: Invalid latitude\n",
      "ERROR 1: PROJ: sinu: Invalid latitude\n",
      "ERROR 1: PROJ: sinu: Invalid latitude\n",
      "ERROR 1: PROJ: sinu: Invalid latitude\n",
      "ERROR 1: PROJ: sinu: Invalid latitude\n",
      "ERROR 1: PROJ: sinu: Invalid latitude\n",
      "ERROR 1: PROJ: sinu: Invalid latitude\n",
      "ERROR 1: PROJ: sinu: Invalid latitude\n",
      "ERROR 1: PROJ: sinu: Invalid latitude\n",
      "ERROR 1: PROJ: sinu: Invalid latitude\n",
      "ERROR 1: PROJ: sinu: Invalid latitude\n",
      "ERROR 1: PROJ: sinu: Invalid latitude\n",
      "ERROR 1: PROJ: sinu: Invalid latitude\n",
      "ERROR 1: PROJ: sinu: Invalid latitude\n",
      "ERROR 1: PROJ: sinu: Invalid latitude\n",
      "ERROR 1: PROJ: sinu: Invalid latitude\n",
      "ERROR 1: PROJ: sinu: Invalid latitude\n",
      "ERROR 1: PROJ: sinu: Invalid latitude\n",
      "ERROR 1: PROJ: sinu: Invalid latitude\n",
      "ERROR 1: PROJ: sinu: Invalid latitude\n",
      "ERROR 1: PROJ: sinu: Invalid latitude\n",
      "ERROR 1: PROJ: sinu: Invalid latitude\n",
      "ERROR 1: PROJ: sinu: Invalid latitude\n",
      "ERROR 1: PROJ: sinu: Invalid latitude\n",
      "ERROR 1: PROJ: sinu: Invalid latitude\n",
      "ERROR 1: PROJ: sinu: Invalid latitude\n",
      "ERROR 1: PROJ: sinu: Invalid latitude\n",
      "ERROR 1: PROJ: sinu: Invalid latitude\n",
      "ERROR 1: PROJ: sinu: Invalid latitude\n",
      "ERROR 1: PROJ: sinu: Invalid latitude\n",
      "ERROR 1: PROJ: sinu: Invalid latitude\n",
      "ERROR 1: PROJ: sinu: Invalid latitude\n",
      "ERROR 1: PROJ: sinu: Invalid latitude\n",
      "ERROR 1: PROJ: sinu: Invalid latitude\n",
      "ERROR 1: PROJ: sinu: Invalid latitude\n",
      "ERROR 1: PROJ: sinu: Invalid latitude\n",
      "ERROR 1: PROJ: sinu: Invalid latitude\n",
      "ERROR 1: PROJ: sinu: Invalid latitude\n",
      "ERROR 1: PROJ: sinu: Invalid latitude\n",
      "ERROR 1: PROJ: sinu: Invalid latitude\n",
      "ERROR 1: PROJ: sinu: Invalid latitude\n",
      "ERROR 1: PROJ: sinu: Invalid latitude\n",
      "ERROR 1: PROJ: sinu: Invalid latitude\n",
      "ERROR 1: PROJ: sinu: Invalid latitude\n",
      "ERROR 1: PROJ: sinu: Invalid latitude\n",
      "ERROR 1: PROJ: sinu: Invalid latitude\n",
      "ERROR 1: PROJ: sinu: Invalid latitude\n",
      "ERROR 1: PROJ: sinu: Invalid latitude\n",
      "ERROR 1: PROJ: sinu: Invalid latitude\n",
      "ERROR 1: PROJ: sinu: Invalid latitude\n",
      "ERROR 1: PROJ: sinu: Invalid latitude\n",
      "ERROR 1: PROJ: sinu: Invalid latitude\n",
      "ERROR 1: PROJ: sinu: Invalid latitude\n",
      "ERROR 1: PROJ: sinu: Invalid latitude\n",
      "ERROR 1: PROJ: sinu: Invalid latitude\n",
      "ERROR 1: PROJ: sinu: Invalid latitude\n",
      "ERROR 1: PROJ: sinu: Invalid latitude\n",
      "ERROR 1: PROJ: sinu: Invalid latitude\n",
      "ERROR 1: PROJ: sinu: Invalid latitude\n",
      "ERROR 1: PROJ: sinu: Invalid latitude\n",
      "ERROR 1: PROJ: sinu: Invalid latitude\n",
      "ERROR 1: PROJ: sinu: Invalid latitude\n",
      "ERROR 1: PROJ: sinu: Invalid latitude\n",
      "ERROR 1: PROJ: sinu: Invalid latitude\n",
      "ERROR 1: PROJ: sinu: Invalid latitude\n",
      "ERROR 1: PROJ: sinu: Invalid latitude\n",
      "ERROR 1: PROJ: sinu: Invalid latitude\n",
      "ERROR 1: PROJ: sinu: Invalid latitude\n",
      "ERROR 1: PROJ: sinu: Invalid latitude\n",
      "ERROR 1: PROJ: sinu: Invalid latitude\n",
      "ERROR 1: PROJ: sinu: Invalid latitude\n",
      "ERROR 1: PROJ: sinu: Invalid latitude\n",
      "ERROR 1: PROJ: sinu: Invalid latitude\n",
      "ERROR 1: PROJ: sinu: Invalid latitude\n",
      "ERROR 1: PROJ: sinu: Invalid latitude\n",
      "ERROR 1: PROJ: sinu: Invalid latitude\n",
      "ERROR 1: PROJ: sinu: Invalid latitude\n",
      "ERROR 1: PROJ: sinu: Invalid latitude\n",
      "ERROR 1: PROJ: sinu: Invalid latitude\n",
      "ERROR 1: PROJ: sinu: Invalid latitude\n",
      "ERROR 1: PROJ: sinu: Invalid latitude\n",
      "ERROR 1: PROJ: sinu: Invalid latitude\n",
      "ERROR 1: PROJ: sinu: Invalid latitude\n",
      "ERROR 1: PROJ: sinu: Invalid latitude\n",
      "ERROR 1: PROJ: sinu: Invalid latitude\n",
      "ERROR 1: PROJ: sinu: Invalid latitude\n",
      "ERROR 1: PROJ: sinu: Invalid latitude\n",
      "ERROR 1: PROJ: sinu: Invalid latitude\n",
      "ERROR 1: PROJ: sinu: Invalid latitude\n",
      "ERROR 1: PROJ: sinu: Invalid latitude\n",
      "ERROR 1: PROJ: sinu: Invalid latitude\n",
      "ERROR 1: PROJ: sinu: Invalid latitude\n",
      "ERROR 1: PROJ: sinu: Invalid latitude\n",
      "ERROR 1: PROJ: sinu: Invalid latitude\n",
      "ERROR 1: PROJ: sinu: Invalid latitude\n",
      "ERROR 1: PROJ: sinu: Invalid latitude\n",
      "ERROR 1: PROJ: sinu: Invalid latitude\n",
      "ERROR 1: PROJ: sinu: Invalid latitude\n",
      "ERROR 1: PROJ: sinu: Invalid latitude\n",
      "ERROR 1: PROJ: sinu: Invalid latitude\n",
      "ERROR 1: PROJ: sinu: Invalid latitude\n",
      "ERROR 1: PROJ: sinu: Invalid latitude\n",
      "ERROR 1: PROJ: sinu: Invalid latitude\n",
      "ERROR 1: PROJ: sinu: Invalid latitude\n",
      "ERROR 1: PROJ: sinu: Invalid latitude\n",
      "ERROR 1: PROJ: sinu: Invalid latitude\n",
      "ERROR 1: PROJ: sinu: Invalid latitude\n",
      "ERROR 1: PROJ: sinu: Invalid latitude\n",
      "ERROR 1: PROJ: sinu: Invalid latitude\n",
      "ERROR 1: PROJ: sinu: Invalid latitude\n",
      "ERROR 1: PROJ: sinu: Invalid latitude\n",
      "ERROR 1: PROJ: sinu: Invalid latitude\n",
      "ERROR 1: PROJ: sinu: Invalid latitude\n",
      "ERROR 1: PROJ: sinu: Invalid latitude\n",
      "ERROR 1: PROJ: sinu: Invalid latitude\n",
      "ERROR 1: PROJ: sinu: Invalid latitude\n",
      "ERROR 1: PROJ: sinu: Invalid latitude\n",
      "ERROR 1: PROJ: sinu: Invalid latitude\n",
      "ERROR 1: PROJ: sinu: Invalid latitude\n",
      "ERROR 1: PROJ: sinu: Invalid latitude\n",
      "ERROR 1: PROJ: sinu: Invalid latitude\n",
      "ERROR 1: PROJ: sinu: Invalid latitude\n",
      "ERROR 1: PROJ: sinu: Invalid latitude\n",
      "ERROR 1: PROJ: sinu: Invalid latitude\n",
      "ERROR 1: PROJ: sinu: Invalid latitude\n",
      "ERROR 1: PROJ: sinu: Invalid latitude\n",
      "ERROR 1: PROJ: sinu: Invalid latitude\n",
      "ERROR 1: PROJ: sinu: Invalid latitude\n",
      "ERROR 1: PROJ: sinu: Invalid latitude\n",
      "ERROR 1: PROJ: sinu: Invalid latitude\n",
      "ERROR 1: PROJ: sinu: Invalid latitude\n",
      "ERROR 1: PROJ: sinu: Invalid latitude\n",
      "ERROR 1: PROJ: sinu: Invalid latitude\n",
      "ERROR 1: PROJ: sinu: Invalid latitude\n",
      "ERROR 1: PROJ: sinu: Invalid latitude\n",
      "ERROR 1: PROJ: sinu: Invalid latitude\n",
      "ERROR 1: PROJ: sinu: Invalid latitude\n",
      "ERROR 1: PROJ: sinu: Invalid latitude\n",
      "ERROR 1: PROJ: sinu: Invalid latitude\n",
      "ERROR 1: PROJ: sinu: Invalid latitude\n",
      "ERROR 1: PROJ: sinu: Invalid latitude\n",
      "ERROR 1: PROJ: sinu: Invalid latitude\n",
      "ERROR 1: PROJ: sinu: Invalid latitude\n",
      "ERROR 1: PROJ: sinu: Invalid latitude\n",
      "ERROR 1: PROJ: sinu: Invalid latitude\n",
      "ERROR 1: PROJ: sinu: Invalid latitude\n",
      "ERROR 1: PROJ: sinu: Invalid latitude\n",
      "ERROR 1: PROJ: sinu: Invalid latitude\n",
      "ERROR 1: PROJ: sinu: Invalid latitude\n",
      "ERROR 1: PROJ: sinu: Invalid latitude\n",
      "ERROR 1: PROJ: sinu: Invalid latitude\n",
      "ERROR 1: PROJ: sinu: Invalid latitude\n",
      "ERROR 1: PROJ: sinu: Invalid latitude\n",
      "ERROR 1: PROJ: sinu: Invalid latitude\n",
      "ERROR 1: PROJ: sinu: Invalid latitude\n",
      "ERROR 1: PROJ: sinu: Invalid latitude\n",
      "ERROR 1: PROJ: sinu: Invalid latitude\n",
      "ERROR 1: PROJ: sinu: Invalid latitude\n",
      "ERROR 1: PROJ: sinu: Invalid latitude\n",
      "ERROR 1: PROJ: sinu: Invalid latitude\n",
      "ERROR 1: PROJ: sinu: Invalid latitude\n",
      "ERROR 1: PROJ: sinu: Invalid latitude\n",
      "ERROR 1: PROJ: sinu: Invalid latitude\n",
      "ERROR 1: PROJ: sinu: Invalid latitude\n",
      "ERROR 1: PROJ: sinu: Invalid latitude\n",
      "ERROR 1: PROJ: sinu: Invalid latitude\n",
      "ERROR 1: PROJ: sinu: Invalid latitude\n",
      "ERROR 1: PROJ: sinu: Invalid latitude\n",
      "ERROR 1: PROJ: sinu: Invalid latitude\n",
      "ERROR 1: PROJ: sinu: Invalid latitude\n",
      "ERROR 1: PROJ: sinu: Invalid latitude\n",
      "ERROR 1: PROJ: sinu: Invalid latitude\n",
      "ERROR 1: PROJ: sinu: Invalid latitude\n",
      "ERROR 1: PROJ: sinu: Invalid latitude\n",
      "ERROR 1: PROJ: sinu: Invalid latitude\n",
      "ERROR 1: PROJ: sinu: Invalid latitude\n",
      "ERROR 1: PROJ: sinu: Invalid latitude\n",
      "ERROR 1: PROJ: sinu: Invalid latitude\n",
      "ERROR 1: PROJ: sinu: Invalid latitude\n",
      "ERROR 1: PROJ: sinu: Invalid latitude\n",
      "ERROR 1: PROJ: sinu: Invalid latitude\n",
      "ERROR 1: PROJ: sinu: Invalid latitude\n",
      "ERROR 1: PROJ: sinu: Invalid latitude\n",
      "ERROR 1: PROJ: sinu: Invalid latitude\n",
      "ERROR 1: PROJ: sinu: Invalid latitude\n",
      "ERROR 1: PROJ: sinu: Invalid latitude\n",
      "ERROR 1: PROJ: sinu: Invalid latitude\n",
      "ERROR 1: PROJ: sinu: Invalid latitude\n",
      "ERROR 1: PROJ: sinu: Invalid latitude\n",
      "ERROR 1: PROJ: sinu: Invalid latitude\n",
      "ERROR 1: PROJ: sinu: Invalid latitude\n",
      "ERROR 1: PROJ: sinu: Invalid latitude\n",
      "ERROR 1: PROJ: sinu: Invalid latitude\n",
      "ERROR 1: PROJ: sinu: Invalid latitude\n",
      "ERROR 1: PROJ: sinu: Invalid latitude\n",
      "ERROR 1: PROJ: sinu: Invalid latitude\n",
      "ERROR 1: PROJ: sinu: Invalid latitude\n",
      "ERROR 1: PROJ: sinu: Invalid latitude\n",
      "ERROR 1: PROJ: sinu: Invalid latitude\n",
      "ERROR 1: PROJ: sinu: Invalid latitude\n",
      "ERROR 1: PROJ: sinu: Invalid latitude\n",
      "ERROR 1: PROJ: sinu: Invalid latitude\n",
      "ERROR 1: PROJ: sinu: Invalid latitude\n",
      "ERROR 1: PROJ: sinu: Invalid latitude\n",
      "ERROR 1: PROJ: sinu: Invalid latitude\n",
      "ERROR 1: PROJ: sinu: Invalid latitude\n",
      "ERROR 1: PROJ: sinu: Invalid latitude\n",
      "ERROR 1: PROJ: sinu: Invalid latitude\n",
      "ERROR 1: PROJ: sinu: Invalid latitude\n",
      "ERROR 1: PROJ: sinu: Invalid latitude\n",
      "ERROR 1: PROJ: sinu: Invalid latitude\n",
      "ERROR 1: PROJ: sinu: Invalid latitude\n",
      "ERROR 1: PROJ: sinu: Invalid latitude\n",
      "ERROR 1: PROJ: sinu: Invalid latitude\n",
      "ERROR 1: PROJ: sinu: Invalid latitude\n",
      "ERROR 1: PROJ: sinu: Invalid latitude\n",
      "ERROR 1: PROJ: sinu: Invalid latitude\n",
      "ERROR 1: PROJ: sinu: Invalid latitude\n",
      "ERROR 1: PROJ: sinu: Invalid latitude\n",
      "ERROR 1: PROJ: sinu: Invalid latitude\n",
      "ERROR 1: PROJ: sinu: Invalid latitude\n",
      "ERROR 1: PROJ: sinu: Invalid latitude\n",
      "ERROR 1: PROJ: sinu: Invalid latitude\n",
      "ERROR 1: PROJ: sinu: Invalid latitude\n",
      "ERROR 1: PROJ: sinu: Invalid latitude\n",
      "ERROR 1: PROJ: sinu: Invalid latitude\n",
      "ERROR 1: PROJ: sinu: Invalid latitude\n",
      "ERROR 1: PROJ: sinu: Invalid latitude\n",
      "ERROR 1: PROJ: sinu: Invalid latitude\n",
      "ERROR 1: PROJ: sinu: Invalid latitude\n",
      "ERROR 1: PROJ: sinu: Invalid latitude\n",
      "ERROR 1: PROJ: sinu: Invalid latitude\n",
      "ERROR 1: PROJ: sinu: Invalid latitude\n",
      "ERROR 1: PROJ: sinu: Invalid latitude\n",
      "ERROR 1: PROJ: sinu: Invalid latitude\n",
      "ERROR 1: PROJ: sinu: Invalid latitude\n",
      "ERROR 1: PROJ: sinu: Invalid latitude\n",
      "ERROR 1: PROJ: sinu: Invalid latitude\n",
      "ERROR 1: PROJ: sinu: Invalid latitude\n",
      "ERROR 1: PROJ: sinu: Invalid latitude\n",
      "ERROR 1: PROJ: sinu: Invalid latitude\n",
      "ERROR 1: PROJ: sinu: Invalid latitude\n",
      "ERROR 1: PROJ: sinu: Invalid latitude\n",
      "ERROR 1: PROJ: sinu: Invalid latitude\n",
      "ERROR 1: PROJ: sinu: Invalid latitude\n",
      "ERROR 1: PROJ: sinu: Invalid latitude\n",
      "ERROR 1: PROJ: sinu: Invalid latitude\n",
      "ERROR 1: PROJ: sinu: Invalid latitude\n",
      "ERROR 1: PROJ: sinu: Invalid latitude\n",
      "ERROR 1: PROJ: sinu: Invalid latitude\n",
      "ERROR 1: PROJ: sinu: Invalid latitude\n",
      "ERROR 1: PROJ: sinu: Invalid latitude\n",
      "ERROR 1: PROJ: sinu: Invalid latitude\n",
      "ERROR 1: PROJ: sinu: Invalid latitude\n",
      "ERROR 1: PROJ: sinu: Invalid latitude\n",
      "ERROR 1: PROJ: sinu: Invalid latitude\n",
      "ERROR 1: PROJ: sinu: Invalid latitude\n",
      "ERROR 1: PROJ: sinu: Invalid latitude\n",
      "ERROR 1: PROJ: sinu: Invalid latitude\n",
      "ERROR 1: PROJ: sinu: Invalid latitude\n",
      "ERROR 1: PROJ: sinu: Invalid latitude\n",
      "ERROR 1: PROJ: sinu: Invalid latitude\n",
      "ERROR 1: PROJ: sinu: Invalid latitude\n",
      "ERROR 1: PROJ: sinu: Invalid latitude\n",
      "ERROR 1: PROJ: sinu: Invalid latitude\n",
      "ERROR 1: PROJ: sinu: Invalid latitude\n",
      "ERROR 1: PROJ: sinu: Invalid latitude\n",
      "ERROR 1: PROJ: sinu: Invalid latitude\n",
      "ERROR 1: PROJ: sinu: Invalid latitude\n",
      "ERROR 1: PROJ: sinu: Invalid latitude\n",
      "ERROR 1: PROJ: sinu: Invalid latitude\n",
      "ERROR 1: PROJ: sinu: Invalid latitude\n",
      "ERROR 1: PROJ: sinu: Invalid latitude\n",
      "ERROR 1: PROJ: sinu: Invalid latitude\n",
      "ERROR 1: PROJ: sinu: Invalid latitude\n",
      "ERROR 1: PROJ: sinu: Invalid latitude\n",
      "ERROR 1: PROJ: sinu: Invalid latitude\n",
      "ERROR 1: PROJ: sinu: Invalid latitude\n",
      "ERROR 1: PROJ: sinu: Invalid latitude\n",
      "ERROR 1: PROJ: sinu: Invalid latitude\n",
      "ERROR 1: PROJ: sinu: Invalid latitude\n",
      "ERROR 1: PROJ: sinu: Invalid latitude\n",
      "ERROR 1: PROJ: sinu: Invalid latitude\n",
      "ERROR 1: PROJ: sinu: Invalid latitude\n",
      "ERROR 1: PROJ: sinu: Invalid latitude\n",
      "ERROR 1: PROJ: sinu: Invalid latitude\n",
      "ERROR 1: PROJ: sinu: Invalid latitude\n",
      "ERROR 1: PROJ: sinu: Invalid latitude\n",
      "ERROR 1: PROJ: sinu: Invalid latitude\n",
      "ERROR 1: PROJ: sinu: Invalid latitude\n",
      "ERROR 1: PROJ: sinu: Invalid latitude\n",
      "ERROR 1: PROJ: sinu: Invalid latitude\n",
      "ERROR 1: PROJ: sinu: Invalid latitude\n",
      "ERROR 1: PROJ: sinu: Invalid latitude\n",
      "ERROR 1: PROJ: sinu: Invalid latitude\n",
      "ERROR 1: PROJ: sinu: Invalid latitude\n",
      "ERROR 1: PROJ: sinu: Invalid latitude\n",
      "ERROR 1: PROJ: sinu: Invalid latitude\n",
      "ERROR 1: PROJ: sinu: Invalid latitude\n",
      "ERROR 1: PROJ: sinu: Invalid latitude\n",
      "ERROR 1: PROJ: sinu: Invalid latitude\n",
      "ERROR 1: PROJ: sinu: Invalid latitude\n",
      "ERROR 1: PROJ: sinu: Invalid latitude\n",
      "ERROR 1: PROJ: sinu: Invalid latitude\n",
      "ERROR 1: PROJ: sinu: Invalid latitude\n",
      "ERROR 1: PROJ: sinu: Invalid latitude\n",
      "ERROR 1: PROJ: sinu: Invalid latitude\n",
      "ERROR 1: PROJ: sinu: Invalid latitude\n",
      "ERROR 1: PROJ: sinu: Invalid latitude\n",
      "ERROR 1: PROJ: sinu: Invalid latitude\n",
      "ERROR 1: PROJ: sinu: Invalid latitude\n",
      "ERROR 1: PROJ: sinu: Invalid latitude\n",
      "ERROR 1: PROJ: sinu: Invalid latitude\n",
      "ERROR 1: PROJ: sinu: Invalid latitude\n",
      "ERROR 1: PROJ: sinu: Invalid latitude\n",
      "ERROR 1: PROJ: sinu: Invalid latitude\n",
      "ERROR 1: PROJ: sinu: Invalid latitude\n",
      "ERROR 1: PROJ: sinu: Invalid latitude\n",
      "ERROR 1: PROJ: sinu: Invalid latitude\n",
      "ERROR 1: PROJ: sinu: Invalid latitude\n",
      "ERROR 1: PROJ: sinu: Invalid latitude\n",
      "ERROR 1: PROJ: sinu: Invalid latitude\n",
      "ERROR 1: PROJ: sinu: Invalid latitude\n",
      "ERROR 1: PROJ: sinu: Invalid latitude\n",
      "ERROR 1: PROJ: sinu: Invalid latitude\n",
      "ERROR 1: PROJ: sinu: Invalid latitude\n",
      "ERROR 1: PROJ: sinu: Invalid latitude\n",
      "ERROR 1: PROJ: sinu: Invalid latitude\n",
      "ERROR 1: PROJ: sinu: Invalid latitude\n",
      "ERROR 1: PROJ: sinu: Invalid latitude\n",
      "ERROR 1: PROJ: sinu: Invalid latitude\n",
      "ERROR 1: PROJ: sinu: Invalid latitude\n",
      "ERROR 1: PROJ: sinu: Invalid latitude\n",
      "ERROR 1: PROJ: sinu: Invalid latitude\n",
      "ERROR 1: PROJ: sinu: Invalid latitude\n",
      "ERROR 1: PROJ: sinu: Invalid latitude\n",
      "ERROR 1: PROJ: sinu: Invalid latitude\n",
      "ERROR 1: PROJ: sinu: Invalid latitude\n",
      "ERROR 1: PROJ: sinu: Invalid latitude\n",
      "ERROR 1: PROJ: sinu: Invalid latitude\n",
      "ERROR 1: PROJ: sinu: Invalid latitude\n",
      "ERROR 1: PROJ: sinu: Invalid latitude\n",
      "ERROR 1: PROJ: sinu: Invalid latitude\n",
      "ERROR 1: PROJ: sinu: Invalid latitude\n",
      "ERROR 1: PROJ: sinu: Invalid latitude\n",
      "ERROR 1: PROJ: sinu: Invalid latitude\n",
      "ERROR 1: PROJ: sinu: Invalid latitude\n",
      "ERROR 1: PROJ: sinu: Invalid latitude\n",
      "ERROR 1: PROJ: sinu: Invalid latitude\n",
      "ERROR 1: PROJ: sinu: Invalid latitude\n",
      "ERROR 1: PROJ: sinu: Invalid latitude\n",
      "ERROR 1: PROJ: sinu: Invalid latitude\n",
      "ERROR 1: PROJ: sinu: Invalid latitude\n",
      "ERROR 1: PROJ: sinu: Invalid latitude\n",
      "ERROR 1: PROJ: sinu: Invalid latitude\n",
      "ERROR 1: PROJ: sinu: Invalid latitude\n",
      "ERROR 1: PROJ: sinu: Invalid latitude\n",
      "ERROR 1: PROJ: sinu: Invalid latitude\n",
      "ERROR 1: PROJ: sinu: Invalid latitude\n",
      "ERROR 1: PROJ: sinu: Invalid latitude\n",
      "ERROR 1: PROJ: sinu: Invalid latitude\n",
      "ERROR 1: PROJ: sinu: Invalid latitude\n",
      "ERROR 1: PROJ: sinu: Invalid latitude\n",
      "ERROR 1: PROJ: sinu: Invalid latitude\n",
      "ERROR 1: PROJ: sinu: Invalid latitude\n",
      "ERROR 1: PROJ: sinu: Invalid latitude\n",
      "ERROR 1: PROJ: sinu: Invalid latitude\n",
      "ERROR 1: PROJ: sinu: Invalid latitude\n",
      "ERROR 1: PROJ: sinu: Invalid latitude\n",
      "ERROR 1: PROJ: sinu: Invalid latitude\n",
      "ERROR 1: PROJ: sinu: Invalid latitude\n",
      "ERROR 1: PROJ: sinu: Invalid latitude\n",
      "ERROR 1: PROJ: sinu: Invalid latitude\n",
      "ERROR 1: PROJ: sinu: Invalid latitude\n",
      "ERROR 1: PROJ: sinu: Invalid latitude\n",
      "ERROR 1: PROJ: sinu: Invalid latitude\n",
      "ERROR 1: PROJ: sinu: Invalid latitude\n",
      "ERROR 1: PROJ: sinu: Invalid latitude\n",
      "ERROR 1: PROJ: sinu: Invalid latitude\n",
      "ERROR 1: PROJ: sinu: Invalid latitude\n",
      "ERROR 1: PROJ: sinu: Invalid latitude\n",
      "ERROR 1: PROJ: sinu: Invalid latitude\n",
      "ERROR 1: PROJ: sinu: Invalid latitude\n",
      "ERROR 1: PROJ: sinu: Invalid latitude\n",
      "ERROR 1: PROJ: sinu: Invalid latitude\n",
      "ERROR 1: PROJ: sinu: Invalid latitude\n",
      "ERROR 1: PROJ: sinu: Invalid latitude\n",
      "ERROR 1: PROJ: sinu: Invalid latitude\n",
      "ERROR 1: PROJ: sinu: Invalid latitude\n",
      "ERROR 1: PROJ: sinu: Invalid latitude\n",
      "ERROR 1: PROJ: sinu: Invalid latitude\n",
      "ERROR 1: PROJ: sinu: Invalid latitude\n",
      "ERROR 1: PROJ: sinu: Invalid latitude\n",
      "ERROR 1: PROJ: sinu: Invalid latitude\n",
      "ERROR 1: PROJ: sinu: Invalid latitude\n",
      "ERROR 1: PROJ: sinu: Invalid latitude\n",
      "ERROR 1: PROJ: sinu: Invalid latitude\n",
      "ERROR 1: PROJ: sinu: Invalid latitude\n",
      "ERROR 1: PROJ: sinu: Invalid latitude\n",
      "ERROR 1: PROJ: sinu: Invalid latitude\n",
      "ERROR 1: PROJ: sinu: Invalid latitude\n",
      "ERROR 1: PROJ: sinu: Invalid latitude\n",
      "ERROR 1: PROJ: sinu: Invalid latitude\n",
      "ERROR 1: PROJ: sinu: Invalid latitude\n",
      "ERROR 1: PROJ: sinu: Invalid latitude\n",
      "ERROR 1: PROJ: sinu: Invalid latitude\n",
      "ERROR 1: PROJ: sinu: Invalid latitude\n",
      "ERROR 1: PROJ: sinu: Invalid latitude\n",
      "ERROR 1: PROJ: sinu: Invalid latitude\n",
      "ERROR 1: PROJ: sinu: Invalid latitude\n",
      "ERROR 1: PROJ: sinu: Invalid latitude\n",
      "ERROR 1: PROJ: sinu: Invalid latitude\n",
      "ERROR 1: PROJ: sinu: Invalid latitude\n",
      "ERROR 1: PROJ: sinu: Invalid latitude\n",
      "ERROR 1: PROJ: sinu: Invalid latitude\n",
      "ERROR 1: PROJ: sinu: Invalid latitude\n",
      "ERROR 1: PROJ: sinu: Invalid latitude\n",
      "ERROR 1: PROJ: sinu: Invalid latitude\n",
      "ERROR 1: PROJ: sinu: Invalid latitude\n",
      "ERROR 1: PROJ: sinu: Invalid latitude\n",
      "ERROR 1: PROJ: sinu: Invalid latitude\n",
      "ERROR 1: PROJ: sinu: Invalid latitude\n",
      "ERROR 1: PROJ: sinu: Invalid latitude\n",
      "ERROR 1: PROJ: sinu: Invalid latitude\n",
      "ERROR 1: PROJ: sinu: Invalid latitude\n",
      "ERROR 1: PROJ: sinu: Invalid latitude\n",
      "ERROR 1: PROJ: sinu: Invalid latitude\n",
      "ERROR 1: PROJ: sinu: Invalid latitude\n",
      "ERROR 1: PROJ: sinu: Invalid latitude\n",
      "ERROR 1: PROJ: sinu: Invalid latitude\n",
      "ERROR 1: PROJ: sinu: Invalid latitude\n",
      "ERROR 1: PROJ: sinu: Invalid latitude\n",
      "ERROR 1: PROJ: sinu: Invalid latitude\n",
      "ERROR 1: PROJ: sinu: Invalid latitude\n",
      "ERROR 1: PROJ: sinu: Invalid latitude\n",
      "ERROR 1: PROJ: sinu: Invalid latitude\n",
      "ERROR 1: PROJ: sinu: Invalid latitude\n",
      "ERROR 1: PROJ: sinu: Invalid latitude\n",
      "ERROR 1: PROJ: sinu: Invalid latitude\n",
      "ERROR 1: PROJ: sinu: Invalid latitude\n",
      "ERROR 1: PROJ: sinu: Invalid latitude\n",
      "ERROR 1: PROJ: sinu: Invalid latitude\n",
      "ERROR 1: PROJ: sinu: Invalid latitude\n",
      "ERROR 1: PROJ: sinu: Invalid latitude\n",
      "ERROR 1: PROJ: sinu: Invalid latitude\n",
      "ERROR 1: PROJ: sinu: Invalid latitude\n",
      "ERROR 1: PROJ: sinu: Invalid latitude\n",
      "ERROR 1: PROJ: sinu: Invalid latitude\n",
      "ERROR 1: PROJ: sinu: Invalid latitude\n",
      "ERROR 1: PROJ: sinu: Invalid latitude\n",
      "ERROR 1: PROJ: sinu: Invalid latitude\n",
      "ERROR 1: PROJ: sinu: Invalid latitude\n",
      "ERROR 1: PROJ: sinu: Invalid latitude\n",
      "ERROR 1: PROJ: sinu: Invalid latitude\n",
      "ERROR 1: PROJ: sinu: Invalid latitude\n",
      "ERROR 1: PROJ: sinu: Invalid latitude\n",
      "ERROR 1: PROJ: sinu: Invalid latitude\n",
      "ERROR 1: PROJ: sinu: Invalid latitude\n",
      "ERROR 1: PROJ: sinu: Invalid latitude\n",
      "ERROR 1: PROJ: sinu: Invalid latitude\n",
      "ERROR 1: PROJ: sinu: Invalid latitude\n",
      "ERROR 1: PROJ: sinu: Invalid latitude\n",
      "ERROR 1: PROJ: sinu: Invalid latitude\n",
      "ERROR 1: PROJ: sinu: Invalid latitude\n",
      "ERROR 1: PROJ: sinu: Invalid latitude\n",
      "ERROR 1: PROJ: sinu: Invalid latitude\n",
      "ERROR 1: PROJ: sinu: Invalid latitude\n",
      "ERROR 1: PROJ: sinu: Invalid latitude\n",
      "ERROR 1: PROJ: sinu: Invalid latitude\n",
      "ERROR 1: PROJ: sinu: Invalid latitude\n",
      "ERROR 1: PROJ: sinu: Invalid latitude\n",
      "ERROR 1: PROJ: sinu: Invalid latitude\n",
      "ERROR 1: PROJ: sinu: Invalid latitude\n",
      "ERROR 1: PROJ: sinu: Invalid latitude\n",
      "ERROR 1: PROJ: sinu: Invalid latitude\n",
      "ERROR 1: PROJ: sinu: Invalid latitude\n",
      "ERROR 1: PROJ: sinu: Invalid latitude\n",
      "ERROR 1: PROJ: sinu: Invalid latitude\n",
      "ERROR 1: PROJ: sinu: Invalid latitude\n",
      "ERROR 1: PROJ: sinu: Invalid latitude\n",
      "ERROR 1: PROJ: sinu: Invalid latitude\n",
      "ERROR 1: PROJ: sinu: Invalid latitude\n",
      "ERROR 1: PROJ: sinu: Invalid latitude\n",
      "ERROR 1: PROJ: sinu: Invalid latitude\n",
      "ERROR 1: PROJ: sinu: Invalid latitude\n",
      "ERROR 1: PROJ: sinu: Invalid latitude\n",
      "ERROR 1: PROJ: sinu: Invalid latitude\n",
      "ERROR 1: PROJ: sinu: Invalid latitude\n",
      "ERROR 1: PROJ: sinu: Invalid latitude\n",
      "ERROR 1: PROJ: sinu: Invalid latitude\n",
      "ERROR 1: PROJ: sinu: Invalid latitude\n",
      "ERROR 1: PROJ: sinu: Invalid latitude\n",
      "ERROR 1: PROJ: sinu: Invalid latitude\n",
      "ERROR 1: PROJ: sinu: Invalid latitude\n",
      "ERROR 1: PROJ: sinu: Invalid latitude\n",
      "ERROR 1: PROJ: sinu: Invalid latitude\n",
      "ERROR 1: PROJ: sinu: Invalid latitude\n",
      "ERROR 1: PROJ: sinu: Invalid latitude\n",
      "ERROR 1: PROJ: sinu: Invalid latitude\n",
      "ERROR 1: PROJ: sinu: Invalid latitude\n",
      "ERROR 1: PROJ: sinu: Invalid latitude\n",
      "ERROR 1: PROJ: sinu: Invalid latitude\n",
      "ERROR 1: PROJ: sinu: Invalid latitude\n",
      "ERROR 1: PROJ: sinu: Invalid latitude\n",
      "ERROR 1: PROJ: sinu: Invalid latitude\n",
      "ERROR 1: PROJ: sinu: Invalid latitude\n",
      "ERROR 1: PROJ: sinu: Invalid latitude\n",
      "ERROR 1: PROJ: sinu: Invalid latitude\n",
      "ERROR 1: PROJ: sinu: Invalid latitude\n",
      "ERROR 1: PROJ: sinu: Invalid latitude\n",
      "ERROR 1: PROJ: sinu: Invalid latitude\n",
      "ERROR 1: PROJ: sinu: Invalid latitude\n",
      "ERROR 1: PROJ: sinu: Invalid latitude\n",
      "ERROR 1: PROJ: sinu: Invalid latitude\n",
      "ERROR 1: PROJ: sinu: Invalid latitude\n",
      "ERROR 1: PROJ: sinu: Invalid latitude\n",
      "ERROR 1: PROJ: sinu: Invalid latitude\n",
      "ERROR 1: PROJ: sinu: Invalid latitude\n",
      "ERROR 1: PROJ: sinu: Invalid latitude\n",
      "ERROR 1: PROJ: sinu: Invalid latitude\n",
      "ERROR 1: PROJ: sinu: Invalid latitude\n",
      "ERROR 1: PROJ: sinu: Invalid latitude\n",
      "ERROR 1: PROJ: sinu: Invalid latitude\n",
      "ERROR 1: PROJ: sinu: Invalid latitude\n",
      "ERROR 1: PROJ: sinu: Invalid latitude\n",
      "ERROR 1: PROJ: sinu: Invalid latitude\n",
      "ERROR 1: PROJ: sinu: Invalid latitude\n",
      "ERROR 1: PROJ: sinu: Invalid latitude\n",
      "ERROR 1: PROJ: sinu: Invalid latitude\n",
      "ERROR 1: PROJ: sinu: Invalid latitude\n",
      "ERROR 1: PROJ: sinu: Invalid latitude\n",
      "ERROR 1: PROJ: sinu: Invalid latitude\n",
      "ERROR 1: PROJ: sinu: Invalid latitude\n",
      "ERROR 1: PROJ: sinu: Invalid latitude\n",
      "ERROR 1: PROJ: sinu: Invalid latitude\n",
      "ERROR 1: PROJ: sinu: Invalid latitude\n",
      "ERROR 1: PROJ: sinu: Invalid latitude\n",
      "ERROR 1: PROJ: sinu: Invalid latitude\n",
      "ERROR 1: PROJ: sinu: Invalid latitude\n",
      "ERROR 1: PROJ: sinu: Invalid latitude\n",
      "ERROR 1: PROJ: sinu: Invalid latitude\n",
      "ERROR 1: PROJ: sinu: Invalid latitude\n",
      "ERROR 1: PROJ: sinu: Invalid latitude\n",
      "ERROR 1: PROJ: sinu: Invalid latitude\n",
      "ERROR 1: PROJ: sinu: Invalid latitude\n",
      "ERROR 1: PROJ: sinu: Invalid latitude\n",
      "ERROR 1: PROJ: sinu: Invalid latitude\n",
      "ERROR 1: PROJ: sinu: Invalid latitude\n",
      "ERROR 1: PROJ: sinu: Invalid latitude\n",
      "ERROR 1: PROJ: sinu: Invalid latitude\n",
      "ERROR 1: PROJ: sinu: Invalid latitude\n",
      "ERROR 1: PROJ: sinu: Invalid latitude\n",
      "ERROR 1: PROJ: sinu: Invalid latitude\n",
      "ERROR 1: PROJ: sinu: Invalid latitude\n",
      "ERROR 1: PROJ: sinu: Invalid latitude\n",
      "ERROR 1: PROJ: sinu: Invalid latitude\n",
      "ERROR 1: PROJ: sinu: Invalid latitude\n",
      "ERROR 1: PROJ: sinu: Invalid latitude\n",
      "ERROR 1: PROJ: sinu: Invalid latitude\n",
      "ERROR 1: PROJ: sinu: Invalid latitude\n",
      "ERROR 1: PROJ: sinu: Invalid latitude\n",
      "ERROR 1: PROJ: sinu: Invalid latitude\n",
      "ERROR 1: PROJ: sinu: Invalid latitude\n",
      "ERROR 1: PROJ: sinu: Invalid latitude\n",
      "ERROR 1: PROJ: sinu: Invalid latitude\n",
      "ERROR 1: PROJ: sinu: Invalid latitude\n",
      "ERROR 1: PROJ: sinu: Invalid latitude\n",
      "ERROR 1: PROJ: sinu: Invalid latitude\n",
      "ERROR 1: PROJ: sinu: Invalid latitude\n",
      "ERROR 1: PROJ: sinu: Invalid latitude\n",
      "ERROR 1: PROJ: sinu: Invalid latitude\n",
      "ERROR 1: PROJ: sinu: Invalid latitude\n",
      "ERROR 1: PROJ: sinu: Invalid latitude\n",
      "ERROR 1: PROJ: sinu: Invalid latitude\n",
      "ERROR 1: PROJ: sinu: Invalid latitude\n",
      "ERROR 1: PROJ: sinu: Invalid latitude\n",
      "ERROR 1: PROJ: sinu: Invalid latitude\n",
      "ERROR 1: PROJ: sinu: Invalid latitude\n",
      "ERROR 1: PROJ: sinu: Invalid latitude\n",
      "ERROR 1: PROJ: sinu: Invalid latitude\n",
      "ERROR 1: PROJ: sinu: Invalid latitude\n",
      "ERROR 1: PROJ: sinu: Invalid latitude\n",
      "ERROR 1: PROJ: sinu: Invalid latitude\n",
      "ERROR 1: PROJ: sinu: Invalid latitude\n",
      "ERROR 1: PROJ: sinu: Invalid latitude\n",
      "ERROR 1: PROJ: sinu: Invalid latitude\n",
      "ERROR 1: PROJ: sinu: Invalid latitude\n",
      "ERROR 1: PROJ: sinu: Invalid latitude\n",
      "ERROR 1: PROJ: sinu: Invalid latitude\n",
      "ERROR 1: PROJ: sinu: Invalid latitude\n",
      "ERROR 1: PROJ: sinu: Invalid latitude\n",
      "ERROR 1: PROJ: sinu: Invalid latitude\n",
      "ERROR 1: PROJ: sinu: Invalid latitude\n",
      "ERROR 1: PROJ: sinu: Invalid latitude\n",
      "ERROR 1: PROJ: sinu: Invalid latitude\n",
      "ERROR 1: PROJ: sinu: Invalid latitude\n",
      "ERROR 1: PROJ: sinu: Invalid latitude\n",
      "ERROR 1: PROJ: sinu: Invalid latitude\n",
      "ERROR 1: PROJ: sinu: Invalid latitude\n",
      "ERROR 1: PROJ: sinu: Invalid latitude\n",
      "ERROR 1: PROJ: sinu: Invalid latitude\n",
      "ERROR 1: PROJ: sinu: Invalid latitude\n",
      "ERROR 1: PROJ: sinu: Invalid latitude\n",
      "ERROR 1: PROJ: sinu: Invalid latitude\n",
      "ERROR 1: PROJ: sinu: Invalid latitude\n",
      "ERROR 1: PROJ: sinu: Invalid latitude\n",
      "ERROR 1: PROJ: sinu: Invalid latitude\n",
      "ERROR 1: PROJ: sinu: Invalid latitude\n",
      "ERROR 1: PROJ: sinu: Invalid latitude\n",
      "ERROR 1: PROJ: sinu: Invalid latitude\n",
      "ERROR 1: PROJ: sinu: Invalid latitude\n",
      "ERROR 1: PROJ: sinu: Invalid latitude\n",
      "ERROR 1: PROJ: sinu: Invalid latitude\n",
      "ERROR 1: PROJ: sinu: Invalid latitude\n",
      "ERROR 1: PROJ: sinu: Invalid latitude\n",
      "ERROR 1: PROJ: sinu: Invalid latitude\n",
      "ERROR 1: PROJ: sinu: Invalid latitude\n",
      "ERROR 1: PROJ: sinu: Invalid latitude\n",
      "ERROR 1: PROJ: sinu: Invalid latitude\n",
      "ERROR 1: PROJ: sinu: Invalid latitude\n",
      "ERROR 1: PROJ: sinu: Invalid latitude\n",
      "ERROR 1: PROJ: sinu: Invalid latitude\n",
      "ERROR 1: PROJ: sinu: Invalid latitude\n",
      "ERROR 1: PROJ: sinu: Invalid latitude\n",
      "ERROR 1: PROJ: sinu: Invalid latitude\n",
      "ERROR 1: PROJ: sinu: Invalid latitude\n",
      "ERROR 1: PROJ: sinu: Invalid latitude\n",
      "ERROR 1: PROJ: sinu: Invalid latitude\n",
      "ERROR 1: PROJ: sinu: Invalid latitude\n",
      "ERROR 1: PROJ: sinu: Invalid latitude\n",
      "ERROR 1: PROJ: sinu: Invalid latitude\n",
      "ERROR 1: PROJ: sinu: Invalid latitude\n",
      "ERROR 1: PROJ: sinu: Invalid latitude\n",
      "ERROR 1: PROJ: sinu: Invalid latitude\n",
      "ERROR 1: PROJ: sinu: Invalid latitude\n",
      "ERROR 1: PROJ: sinu: Invalid latitude\n",
      "ERROR 1: PROJ: sinu: Invalid latitude\n",
      "ERROR 1: PROJ: sinu: Invalid latitude\n",
      "ERROR 1: PROJ: sinu: Invalid latitude\n",
      "ERROR 1: PROJ: sinu: Invalid latitude\n",
      "ERROR 1: PROJ: sinu: Invalid latitude\n",
      "ERROR 1: PROJ: sinu: Invalid latitude\n",
      "ERROR 1: PROJ: sinu: Invalid latitude\n",
      "ERROR 1: PROJ: sinu: Invalid latitude\n",
      "ERROR 1: PROJ: sinu: Invalid latitude\n",
      "ERROR 1: PROJ: sinu: Invalid latitude\n",
      "ERROR 1: PROJ: sinu: Invalid latitude\n",
      "ERROR 1: PROJ: sinu: Invalid latitude\n",
      "ERROR 1: PROJ: sinu: Invalid latitude\n",
      "ERROR 1: PROJ: sinu: Invalid latitude\n",
      "ERROR 1: PROJ: sinu: Invalid latitude\n",
      "ERROR 1: PROJ: sinu: Invalid latitude\n",
      "ERROR 1: PROJ: sinu: Invalid latitude\n",
      "ERROR 1: PROJ: sinu: Invalid latitude\n",
      "ERROR 1: PROJ: sinu: Invalid latitude\n",
      "ERROR 1: PROJ: sinu: Invalid latitude\n",
      "ERROR 1: PROJ: sinu: Invalid latitude\n",
      "ERROR 1: PROJ: sinu: Invalid latitude\n",
      "ERROR 1: PROJ: sinu: Invalid latitude\n",
      "ERROR 1: PROJ: sinu: Invalid latitude\n",
      "ERROR 1: PROJ: sinu: Invalid latitude\n",
      "ERROR 1: PROJ: sinu: Invalid latitude\n",
      "ERROR 1: PROJ: sinu: Invalid latitude\n",
      "ERROR 1: PROJ: sinu: Invalid latitude\n",
      "ERROR 1: PROJ: sinu: Invalid latitude\n",
      "ERROR 1: PROJ: sinu: Invalid latitude\n",
      "ERROR 1: PROJ: sinu: Invalid latitude\n",
      "ERROR 1: PROJ: sinu: Invalid latitude\n",
      "ERROR 1: PROJ: sinu: Invalid latitude\n",
      "ERROR 1: PROJ: sinu: Invalid latitude\n",
      "ERROR 1: PROJ: sinu: Invalid latitude\n",
      "ERROR 1: PROJ: sinu: Invalid latitude\n",
      "ERROR 1: PROJ: sinu: Invalid latitude\n",
      "ERROR 1: PROJ: sinu: Invalid latitude\n",
      "ERROR 1: PROJ: sinu: Invalid latitude\n",
      "ERROR 1: PROJ: sinu: Invalid latitude\n",
      "ERROR 1: PROJ: sinu: Invalid latitude\n",
      "ERROR 1: PROJ: sinu: Invalid latitude\n",
      "ERROR 1: PROJ: sinu: Invalid latitude\n",
      "ERROR 1: PROJ: sinu: Invalid latitude\n",
      "ERROR 1: PROJ: sinu: Invalid latitude\n",
      "ERROR 1: PROJ: sinu: Invalid latitude\n",
      "ERROR 1: PROJ: sinu: Invalid latitude\n",
      "ERROR 1: PROJ: sinu: Invalid latitude\n",
      "ERROR 1: PROJ: sinu: Invalid latitude\n",
      "ERROR 1: PROJ: sinu: Invalid latitude\n",
      "ERROR 1: PROJ: sinu: Invalid latitude\n",
      "ERROR 1: PROJ: sinu: Invalid latitude\n",
      "ERROR 1: PROJ: sinu: Invalid latitude\n",
      "ERROR 1: PROJ: sinu: Invalid latitude\n",
      "ERROR 1: PROJ: sinu: Invalid latitude\n",
      "ERROR 1: PROJ: sinu: Invalid latitude\n",
      "ERROR 1: PROJ: sinu: Invalid latitude\n",
      "ERROR 1: PROJ: sinu: Invalid latitude\n",
      "ERROR 1: PROJ: sinu: Invalid latitude\n",
      "ERROR 1: PROJ: sinu: Invalid latitude\n",
      "ERROR 1: PROJ: sinu: Invalid latitude\n",
      "ERROR 1: PROJ: sinu: Invalid latitude\n",
      "ERROR 1: PROJ: sinu: Invalid latitude\n",
      "ERROR 1: PROJ: sinu: Invalid latitude\n",
      "ERROR 1: PROJ: sinu: Invalid latitude\n",
      "ERROR 1: PROJ: sinu: Invalid latitude\n",
      "ERROR 1: PROJ: sinu: Invalid latitude\n",
      "ERROR 1: PROJ: sinu: Invalid latitude\n",
      "ERROR 1: PROJ: sinu: Invalid latitude\n",
      "ERROR 1: PROJ: sinu: Invalid latitude\n",
      "ERROR 1: PROJ: sinu: Invalid latitude\n",
      "ERROR 1: PROJ: sinu: Invalid latitude\n",
      "ERROR 1: PROJ: sinu: Invalid latitude\n",
      "ERROR 1: PROJ: sinu: Invalid latitude\n",
      "ERROR 1: PROJ: sinu: Invalid latitude\n",
      "ERROR 1: PROJ: sinu: Invalid latitude\n",
      "ERROR 1: PROJ: sinu: Invalid latitude\n",
      "ERROR 1: PROJ: sinu: Invalid latitude\n",
      "ERROR 1: PROJ: sinu: Invalid latitude\n",
      "ERROR 1: PROJ: sinu: Invalid latitude\n",
      "ERROR 1: PROJ: sinu: Invalid latitude\n",
      "ERROR 1: PROJ: sinu: Invalid latitude\n",
      "ERROR 1: PROJ: sinu: Invalid latitude\n",
      "ERROR 1: PROJ: sinu: Invalid latitude\n",
      "ERROR 1: PROJ: sinu: Invalid latitude\n",
      "ERROR 1: PROJ: sinu: Invalid latitude\n",
      "ERROR 1: PROJ: sinu: Invalid latitude\n",
      "ERROR 1: PROJ: sinu: Invalid latitude\n",
      "ERROR 1: PROJ: sinu: Invalid latitude\n",
      "ERROR 1: PROJ: sinu: Invalid latitude\n",
      "ERROR 1: PROJ: sinu: Invalid latitude\n",
      "ERROR 1: PROJ: sinu: Invalid latitude\n",
      "ERROR 1: PROJ: sinu: Invalid latitude\n",
      "ERROR 1: PROJ: sinu: Invalid latitude\n",
      "ERROR 1: PROJ: sinu: Invalid latitude\n",
      "ERROR 1: PROJ: sinu: Invalid latitude\n",
      "ERROR 1: PROJ: sinu: Invalid latitude\n",
      "ERROR 1: PROJ: sinu: Invalid latitude\n",
      "ERROR 1: PROJ: sinu: Invalid latitude\n",
      "ERROR 1: PROJ: sinu: Invalid latitude\n",
      "ERROR 1: PROJ: sinu: Invalid latitude\n",
      "ERROR 1: PROJ: sinu: Invalid latitude\n",
      "ERROR 1: PROJ: sinu: Invalid latitude\n",
      "ERROR 1: PROJ: sinu: Invalid latitude\n",
      "ERROR 1: PROJ: sinu: Invalid latitude\n",
      "ERROR 1: PROJ: sinu: Invalid latitude\n",
      "ERROR 1: PROJ: sinu: Invalid latitude\n",
      "ERROR 1: PROJ: sinu: Invalid latitude\n",
      "ERROR 1: PROJ: sinu: Invalid latitude\n",
      "ERROR 1: PROJ: sinu: Invalid latitude\n",
      "ERROR 1: PROJ: sinu: Invalid latitude\n",
      "ERROR 1: PROJ: sinu: Invalid latitude\n",
      "ERROR 1: PROJ: sinu: Invalid latitude\n",
      "ERROR 1: PROJ: sinu: Invalid latitude\n",
      "ERROR 1: PROJ: sinu: Invalid latitude\n",
      "ERROR 1: PROJ: sinu: Invalid latitude\n",
      "ERROR 1: PROJ: sinu: Invalid latitude\n",
      "ERROR 1: PROJ: sinu: Invalid latitude\n",
      "ERROR 1: PROJ: sinu: Invalid latitude\n",
      "ERROR 1: PROJ: sinu: Invalid latitude\n",
      "ERROR 1: PROJ: sinu: Invalid latitude\n",
      "ERROR 1: PROJ: sinu: Invalid latitude\n",
      "ERROR 1: PROJ: sinu: Invalid latitude\n",
      "ERROR 1: PROJ: sinu: Invalid latitude\n",
      "ERROR 1: PROJ: sinu: Invalid latitude\n",
      "ERROR 1: PROJ: sinu: Invalid latitude\n",
      "ERROR 1: PROJ: sinu: Invalid latitude\n",
      "ERROR 1: PROJ: sinu: Invalid latitude\n",
      "ERROR 1: PROJ: sinu: Invalid latitude\n",
      "ERROR 1: PROJ: sinu: Invalid latitude\n",
      "ERROR 1: PROJ: sinu: Invalid latitude\n",
      "ERROR 1: PROJ: sinu: Invalid latitude\n",
      "ERROR 1: PROJ: sinu: Invalid latitude\n"
     ]
    },
    {
     "name": "stdout",
     "output_type": "stream",
     "text": [
      "(2025-05-11 20:58:57) modis.sh: subsetting HDFs in GeoTIFF format under /work/comphyd_lab/data/CONFLUENCE_data/domain_Bow_at_Banff_lumped/attributes/landclass\n",
      "(2025-05-11 20:59:00) modis.sh: deleting temporary files from /home/darri.eythorsson/cache_Bow_at_Banff_lumped\n",
      "(2025-05-11 20:59:00) modis.sh: temporary files from /home/darri.eythorsson/cache_Bow_at_Banff_lumped are removed\n",
      "(2025-05-11 20:59:00) modis.sh: results are produced under /work/comphyd_lab/data/CONFLUENCE_data/domain_Bow_at_Banff_lumped/attributes/landclass\n",
      "14:59:00 - INFO - gistool completed successfully.\n"
     ]
    },
    {
     "name": "stderr",
     "output_type": "stream",
     "text": [
      "mkdir: cannot create directory ‘/home/darri.eythorsson/empty_dir’: File exists\n",
      "2025-05-11 14:59:00,909 - confluence_general - INFO - gistool completed successfully.\n"
     ]
    },
    {
     "name": "stdout",
     "output_type": "stream",
     "text": [
      "14:59:00 - INFO - Geospatial data acquisition process completed\n"
     ]
    },
    {
     "name": "stderr",
     "output_type": "stream",
     "text": [
      "2025-05-11 14:59:00,911 - confluence_general - INFO - Geospatial data acquisition process completed\n"
     ]
    },
    {
     "name": "stdout",
     "output_type": "stream",
     "text": [
      "14:59:00 - INFO - Calculating land cover mode across years\n"
     ]
    },
    {
     "name": "stderr",
     "output_type": "stream",
     "text": [
      "2025-05-11 14:59:00,914 - confluence_general - INFO - Calculating land cover mode across years\n"
     ]
    },
    {
     "name": "stdout",
     "output_type": "stream",
     "text": [
      "Mode calculation complete. Result saved to /work/comphyd_lab/data/CONFLUENCE_data/domain_Bow_at_Banff_lumped/attributes/landclass/domain_Bow_at_Banff_lumped_land_classes.tif\n",
      "14:59:24 - INFO - Acquiring soil class data\n"
     ]
    },
    {
     "name": "stderr",
     "output_type": "stream",
     "text": [
      "2025-05-11 14:59:24,152 - confluence_general - INFO - Acquiring soil class data\n"
     ]
    },
    {
     "name": "stdout",
     "output_type": "stream",
     "text": [
      "extract-gis.sh: WARNING! --account not provided, using `rpp-kshook` by default.\n",
      "(2025-05-11 20:59:28) soil_class.sh: processing Wouter's wonderful soil_class GeoTIFF(s)...\n",
      "(2025-05-11 20:59:28) soil_class.sh: creating output directory under /work/comphyd_lab/data/CONFLUENCE_data/domain_Bow_at_Banff_lumped/attributes/soilclass\n",
      "(2025-05-11 20:59:28) soil_class.sh: subsetting GeoTIFFs under /work/comphyd_lab/data/CONFLUENCE_data/domain_Bow_at_Banff_lumped/attributes/soilclass\n",
      "(2025-05-11 20:59:29) soil_class.sh: deleting temporary files from /home/darri.eythorsson/cache_Bow_at_Banff_lumped\n",
      "(2025-05-11 20:59:29) soil_class.sh: temporary files from /home/darri.eythorsson/cache_Bow_at_Banff_lumped are removed\n",
      "(2025-05-11 20:59:29) soil_class.sh: results are produced under /work/comphyd_lab/data/CONFLUENCE_data/domain_Bow_at_Banff_lumped/attributes/soilclass\n",
      "14:59:29 - INFO - gistool completed successfully.\n"
     ]
    },
    {
     "name": "stderr",
     "output_type": "stream",
     "text": [
      "mkdir: cannot create directory ‘/home/darri.eythorsson/empty_dir’: File exists\n",
      "2025-05-11 14:59:29,272 - confluence_general - INFO - gistool completed successfully.\n"
     ]
    },
    {
     "name": "stdout",
     "output_type": "stream",
     "text": [
      "14:59:29 - INFO - Geospatial data acquisition process completed\n"
     ]
    },
    {
     "name": "stderr",
     "output_type": "stream",
     "text": [
      "2025-05-11 14:59:29,274 - confluence_general - INFO - Geospatial data acquisition process completed\n"
     ]
    },
    {
     "name": "stdout",
     "output_type": "stream",
     "text": [
      "14:59:29 - INFO - Attribute acquisition completed successfully\n"
     ]
    },
    {
     "name": "stderr",
     "output_type": "stream",
     "text": [
      "2025-05-11 14:59:29,276 - confluence_general - INFO - Attribute acquisition completed successfully\n"
     ]
    }
   ],
   "source": [
    "# Step 2: Geospatial Domain Definition and Analysis\n",
    "print(\"=== Step 2: Geospatial Domain Definition and Analysis ===\")\n",
    "\n",
    "# Acquire attributes\n",
    "print(\"Acquiring geospatial attributes (DEM, soil, land cover)...\")\n",
    "confluence.managers['data'].acquire_attributes()\n",
    "\n"
   ]
  },
  {
   "cell_type": "markdown",
   "metadata": {},
   "source": [
    "## 5. Geospatial Domain Definition and Analysis - Delineation "
   ]
  },
  {
   "cell_type": "code",
   "execution_count": 5,
   "metadata": {
    "scrolled": true
   },
   "outputs": [
    {
     "name": "stdout",
     "output_type": "stream",
     "text": [
      "\n",
      "Delineating watershed using method: lumped\n",
      "14:59:29 - INFO - Domain definition workflow starting with: lumped\n"
     ]
    },
    {
     "name": "stderr",
     "output_type": "stream",
     "text": [
      "2025-05-11 14:59:29,286 - confluence_general - INFO - Domain definition workflow starting with: lumped\n"
     ]
    },
    {
     "name": "stdout",
     "output_type": "stream",
     "text": [
      "14:59:29 - INFO - Starting geofabric lumped delineation\n"
     ]
    },
    {
     "name": "stderr",
     "output_type": "stream",
     "text": [
      "2025-05-11 14:59:29,288 - confluence_general - INFO - Starting geofabric lumped delineation\n"
     ]
    },
    {
     "name": "stdout",
     "output_type": "stream",
     "text": [
      "14:59:29 - INFO - Geofabric delineation completed successfully\n"
     ]
    },
    {
     "name": "stderr",
     "output_type": "stream",
     "text": [
      "2025-05-11 14:59:29,292 - confluence_general - INFO - Geofabric delineation completed successfully\n"
     ]
    },
    {
     "name": "stdout",
     "output_type": "stream",
     "text": [
      "14:59:29 - INFO - Starting lumped watershed delineation for Bow_at_Banff_lumped\n"
     ]
    },
    {
     "name": "stderr",
     "output_type": "stream",
     "text": [
      "2025-05-11 14:59:29,294 - confluence_general - INFO - Starting lumped watershed delineation for Bow_at_Banff_lumped\n"
     ]
    },
    {
     "name": "stdout",
     "output_type": "stream",
     "text": [
      "PitRemove version 5.3.9\n",
      "Input file /work/comphyd_lab/data/CONFLUENCE_data/domain_Bow_at_Banff_lumped/attributes/elevation/dem/domain_Bow_at_Banff_lumped_elv.tif has geographic coordinate system.\n",
      "Nodata value input to create partition from file: -9999.000000\n",
      "Nodata value recast to float used in partition raster: -9999.000000\n"
     ]
    },
    {
     "name": "stderr",
     "output_type": "stream",
     "text": [
      "This run may take on the order of 1 minutes to complete.\n",
      "This estimate is very approximate. \n",
      "Run time is highly uncertain as it depends on the complexity of the input data \n",
      "and speed and memory of the computer. This estimate is based on our testing on \n",
      "a dual quad core Dell Xeon E5405 2.0GHz PC with 16GB RAM.\n"
     ]
    },
    {
     "name": "stdout",
     "output_type": "stream",
     "text": [
      "Processes: 1\n",
      "Header read time: 0.035510\n",
      "Data read time: 0.164531\n",
      "Compute time: 0.288098\n",
      "Write time: 0.104904\n",
      "Total time: 0.593043\n",
      "14:59:30 - INFO - Completed TauDEM step: mpirun -n 1 /work/comphyd_lab/data/CONFLUENCE_data/installs/TauDEM/bin/pitremove -z /work/comphyd_lab/data/CONFLUENCE_data/domain_Bow_at_Banff_lumped/attributes/elevation/dem/domain_Bow_at_Banff_lumped_elv.tif -fel /work/comphyd_lab/data/CONFLUENCE_data/domain_Bow_at_Banff_lumped/shapefiles/tempdir/fel.tif\n"
     ]
    },
    {
     "name": "stderr",
     "output_type": "stream",
     "text": [
      "2025-05-11 14:59:30,434 - confluence_general - INFO - Completed TauDEM step: mpirun -n 1 /work/comphyd_lab/data/CONFLUENCE_data/installs/TauDEM/bin/pitremove -z /work/comphyd_lab/data/CONFLUENCE_data/domain_Bow_at_Banff_lumped/attributes/elevation/dem/domain_Bow_at_Banff_lumped_elv.tif -fel /work/comphyd_lab/data/CONFLUENCE_data/domain_Bow_at_Banff_lumped/shapefiles/tempdir/fel.tif\n"
     ]
    },
    {
     "name": "stdout",
     "output_type": "stream",
     "text": [
      "D8FlowDir version 5.3.9\n",
      "Input file /work/comphyd_lab/data/CONFLUENCE_data/domain_Bow_at_Banff_lumped/shapefiles/tempdir/fel.tif has geographic coordinate system.\n",
      "Nodata value input to create partition from file: -300000000549775575777803994281145270272.000000\n",
      "Nodata value recast to float used in partition raster: -300000000549775575777803994281145270272.000000\n"
     ]
    },
    {
     "name": "stderr",
     "output_type": "stream",
     "text": [
      "This run may take on the order of 1 minutes to complete.\n",
      "This estimate is very approximate. \n",
      "Run time is highly uncertain as it depends on the complexity of the input data \n",
      "and speed and memory of the computer. This estimate is based on our testing on \n",
      "a dual quad core Dell Xeon E5405 2.0GHz PC with 16GB RAM.\n",
      "All slopes evaluated. 28666 flats to resolve.\n",
      "Draining flats towards lower adjacent terrain\n",
      "...........................................................................\n",
      "Draining flats away from higher adjacent terrain\n"
     ]
    },
    {
     "name": "stdout",
     "output_type": "stream",
     "text": [
      "Processors: 1\n",
      "Header read time: 0.026039\n",
      "Data read time: 0.034820\n",
      "Compute Slope time: 0.289796\n",
      "Write Slope time: 0.134648\n",
      "Resolve Flat time: 0.705812\n",
      "Write Flat time: 0.039872\n",
      "Total time: 1.230986\n",
      "14:59:32 - INFO - Completed TauDEM step: mpirun -n 1 /work/comphyd_lab/data/CONFLUENCE_data/installs/TauDEM/bin/d8flowdir -fel /work/comphyd_lab/data/CONFLUENCE_data/domain_Bow_at_Banff_lumped/shapefiles/tempdir/fel.tif -p /work/comphyd_lab/data/CONFLUENCE_data/domain_Bow_at_Banff_lumped/shapefiles/tempdir/p.tif -sd8 /work/comphyd_lab/data/CONFLUENCE_data/domain_Bow_at_Banff_lumped/shapefiles/tempdir/sd8.tif\n"
     ]
    },
    {
     "name": "stderr",
     "output_type": "stream",
     "text": [
      "......\n",
      "Setting directions\n",
      "Iteration complete. Number of flats remaining: 95\n",
      "Draining flats towards lower adjacent terrain\n",
      "...\n",
      "Draining flats away from higher adjacent terrain\n",
      "..\n",
      "Setting directions\n",
      "2025-05-11 14:59:32,144 - confluence_general - INFO - Completed TauDEM step: mpirun -n 1 /work/comphyd_lab/data/CONFLUENCE_data/installs/TauDEM/bin/d8flowdir -fel /work/comphyd_lab/data/CONFLUENCE_data/domain_Bow_at_Banff_lumped/shapefiles/tempdir/fel.tif -p /work/comphyd_lab/data/CONFLUENCE_data/domain_Bow_at_Banff_lumped/shapefiles/tempdir/p.tif -sd8 /work/comphyd_lab/data/CONFLUENCE_data/domain_Bow_at_Banff_lumped/shapefiles/tempdir/sd8.tif\n"
     ]
    },
    {
     "name": "stdout",
     "output_type": "stream",
     "text": [
      "AreaD8 version 5.3.9\n",
      "Input file /work/comphyd_lab/data/CONFLUENCE_data/domain_Bow_at_Banff_lumped/shapefiles/tempdir/p.tif has geographic coordinate system.\n",
      "Nodata value input to create partition from file: -32768.000000\n",
      "Nodata value recast to int16_t used in partition raster: -32768\n"
     ]
    },
    {
     "name": "stderr",
     "output_type": "stream",
     "text": [
      "This run may take on the order of 1 minutes to complete.\n",
      "This estimate is very approximate. \n",
      "Run time is highly uncertain as it depends on the complexity of the input data \n",
      "and speed and memory of the computer. This estimate is based on our testing on \n",
      "a dual quad core Dell Xeon E5405 2.0GHz PC with 16GB RAM.\n"
     ]
    },
    {
     "name": "stdout",
     "output_type": "stream",
     "text": [
      "Number of Processes: 1\n",
      "Read time: 0.035312\n",
      "Compute time: 0.333808\n",
      "Write time: 0.073630\n",
      "Total time: 0.442750\n",
      "14:59:33 - INFO - Completed TauDEM step: mpirun -n 1 /work/comphyd_lab/data/CONFLUENCE_data/installs/TauDEM/bin/aread8 -p /work/comphyd_lab/data/CONFLUENCE_data/domain_Bow_at_Banff_lumped/shapefiles/tempdir/p.tif -ad8 /work/comphyd_lab/data/CONFLUENCE_data/domain_Bow_at_Banff_lumped/shapefiles/tempdir/ad8.tif\n"
     ]
    },
    {
     "name": "stderr",
     "output_type": "stream",
     "text": [
      "2025-05-11 14:59:33,045 - confluence_general - INFO - Completed TauDEM step: mpirun -n 1 /work/comphyd_lab/data/CONFLUENCE_data/installs/TauDEM/bin/aread8 -p /work/comphyd_lab/data/CONFLUENCE_data/domain_Bow_at_Banff_lumped/shapefiles/tempdir/p.tif -ad8 /work/comphyd_lab/data/CONFLUENCE_data/domain_Bow_at_Banff_lumped/shapefiles/tempdir/ad8.tif\n"
     ]
    },
    {
     "name": "stdout",
     "output_type": "stream",
     "text": [
      "Threshold version 5.3.9\n",
      "Input file /work/comphyd_lab/data/CONFLUENCE_data/domain_Bow_at_Banff_lumped/shapefiles/tempdir/ad8.tif has geographic coordinate system.\n",
      "Nodata value input to create partition from file: -1.000000\n",
      "Nodata value recast to float used in partition raster: -1.000000\n",
      "Compute time: 0.017447\n",
      "14:59:33 - INFO - Completed TauDEM step: mpirun -n 1 /work/comphyd_lab/data/CONFLUENCE_data/installs/TauDEM/bin/threshold -ssa /work/comphyd_lab/data/CONFLUENCE_data/domain_Bow_at_Banff_lumped/shapefiles/tempdir/ad8.tif -src /work/comphyd_lab/data/CONFLUENCE_data/domain_Bow_at_Banff_lumped/shapefiles/tempdir/src.tif -thresh 100\n"
     ]
    },
    {
     "name": "stderr",
     "output_type": "stream",
     "text": [
      "This run may take on the order of 1 minutes to complete.\n",
      "This estimate is very approximate. \n",
      "Run time is highly uncertain as it depends on the complexity of the input data \n",
      "and speed and memory of the computer. This estimate is based on our testing on \n",
      "a dual quad core Dell Xeon E5405 2.0GHz PC with 16GB RAM.\n",
      "2025-05-11 14:59:33,595 - confluence_general - INFO - Completed TauDEM step: mpirun -n 1 /work/comphyd_lab/data/CONFLUENCE_data/installs/TauDEM/bin/threshold -ssa /work/comphyd_lab/data/CONFLUENCE_data/domain_Bow_at_Banff_lumped/shapefiles/tempdir/ad8.tif -src /work/comphyd_lab/data/CONFLUENCE_data/domain_Bow_at_Banff_lumped/shapefiles/tempdir/src.tif -thresh 100\n"
     ]
    },
    {
     "name": "stdout",
     "output_type": "stream",
     "text": [
      "MoveOutletsToStreams version 5.3.9\n",
      "Input file /work/comphyd_lab/data/CONFLUENCE_data/domain_Bow_at_Banff_lumped/shapefiles/tempdir/src.tif has geographic coordinate system.\n",
      "Nodata value input to create partition from file: -32768.000000\n",
      "Nodata value recast to int16_t used in partition raster: -32768\n",
      "Input file /work/comphyd_lab/data/CONFLUENCE_data/domain_Bow_at_Banff_lumped/shapefiles/tempdir/p.tif has geographic coordinate system.\n",
      "Nodata value input to create partition from file: -32768.000000\n",
      "Nodata value recast to int16_t used in partition raster: -32768\n",
      "om Total time: 0.109240\n",
      "14:59:34 - INFO - Completed TauDEM step: mpirun -n 1 /work/comphyd_lab/data/CONFLUENCE_data/installs/TauDEM/bin/moveoutletstostrm -p /work/comphyd_lab/data/CONFLUENCE_data/domain_Bow_at_Banff_lumped/shapefiles/tempdir/p.tif -src /work/comphyd_lab/data/CONFLUENCE_data/domain_Bow_at_Banff_lumped/shapefiles/tempdir/src.tif -o /work/comphyd_lab/data/CONFLUENCE_data/domain_Bow_at_Banff_lumped/shapefiles/pour_point/Bow_at_Banff_lumped_pourPoint.shp -om /work/comphyd_lab/data/CONFLUENCE_data/domain_Bow_at_Banff_lumped/shapefiles/tempdir/om.shp\n"
     ]
    },
    {
     "name": "stderr",
     "output_type": "stream",
     "text": [
      "This run may take on the order of 1 minutes to complete.\n",
      "This estimate is very approximate. \n",
      "Run time is highly uncertain as it depends on the complexity of the input data \n",
      "and speed and memory of the computer. This estimate is based on our testing on \n",
      "a dual quad core Dell Xeon E5405 2.0GHz PC with 16GB RAM.\n",
      "2025-05-11 14:59:34,165 - confluence_general - INFO - Completed TauDEM step: mpirun -n 1 /work/comphyd_lab/data/CONFLUENCE_data/installs/TauDEM/bin/moveoutletstostrm -p /work/comphyd_lab/data/CONFLUENCE_data/domain_Bow_at_Banff_lumped/shapefiles/tempdir/p.tif -src /work/comphyd_lab/data/CONFLUENCE_data/domain_Bow_at_Banff_lumped/shapefiles/tempdir/src.tif -o /work/comphyd_lab/data/CONFLUENCE_data/domain_Bow_at_Banff_lumped/shapefiles/pour_point/Bow_at_Banff_lumped_pourPoint.shp -om /work/comphyd_lab/data/CONFLUENCE_data/domain_Bow_at_Banff_lumped/shapefiles/tempdir/om.shp\n"
     ]
    },
    {
     "name": "stdout",
     "output_type": "stream",
     "text": [
      "Gage Watershed version 5.3.9\n",
      "Input file /work/comphyd_lab/data/CONFLUENCE_data/domain_Bow_at_Banff_lumped/shapefiles/tempdir/p.tif has geographic coordinate system.\n",
      "Nodata value input to create partition from file: -32768.000000\n",
      "Nodata value recast to int16_t used in partition raster: -32768\n",
      "Size: 1\n",
      "Read time: 0.053697\n",
      "Compute time: 0.066987\n",
      "Write time: 0.051711\n",
      "Total time: 0.172396\n",
      "14:59:34 - INFO - Completed TauDEM step: mpirun -n 1 /work/comphyd_lab/data/CONFLUENCE_data/installs/TauDEM/bin/gagewatershed -p /work/comphyd_lab/data/CONFLUENCE_data/domain_Bow_at_Banff_lumped/shapefiles/tempdir/p.tif -o /work/comphyd_lab/data/CONFLUENCE_data/domain_Bow_at_Banff_lumped/shapefiles/tempdir/om.shp -gw /work/comphyd_lab/data/CONFLUENCE_data/domain_Bow_at_Banff_lumped/shapefiles/tempdir/watershed.tif -id /work/comphyd_lab/data/CONFLUENCE_data/domain_Bow_at_Banff_lumped/shapefiles/tempdir/watershed_id.txt\n"
     ]
    },
    {
     "name": "stderr",
     "output_type": "stream",
     "text": [
      "This run may take on the order of 1 minutes to complete.\n",
      "This estimate is very approximate. \n",
      "Run time is highly uncertain as it depends on the complexity of the input data \n",
      "and speed and memory of the computer. This estimate is based on our testing on \n",
      "a dual quad core Dell Xeon E5405 2.0GHz PC with 16GB RAM.\n",
      "2025-05-11 14:59:34,792 - confluence_general - INFO - Completed TauDEM step: mpirun -n 1 /work/comphyd_lab/data/CONFLUENCE_data/installs/TauDEM/bin/gagewatershed -p /work/comphyd_lab/data/CONFLUENCE_data/domain_Bow_at_Banff_lumped/shapefiles/tempdir/p.tif -o /work/comphyd_lab/data/CONFLUENCE_data/domain_Bow_at_Banff_lumped/shapefiles/tempdir/om.shp -gw /work/comphyd_lab/data/CONFLUENCE_data/domain_Bow_at_Banff_lumped/shapefiles/tempdir/watershed.tif -id /work/comphyd_lab/data/CONFLUENCE_data/domain_Bow_at_Banff_lumped/shapefiles/tempdir/watershed_id.txt\n",
      "2025-05-11 14:59:34,909 - pyogrio._io - INFO - Created 1 records\n"
     ]
    },
    {
     "name": "stdout",
     "output_type": "stream",
     "text": [
      "14:59:34 - INFO - Removed temporary file: /work/comphyd_lab/data/CONFLUENCE_data/domain_Bow_at_Banff_lumped/shapefiles/river_basins/Bow_at_Banff_lumped_riverBasins_lumped_temp.shp\n"
     ]
    },
    {
     "name": "stderr",
     "output_type": "stream",
     "text": [
      "2025-05-11 14:59:34,916 - confluence_general - INFO - Removed temporary file: /work/comphyd_lab/data/CONFLUENCE_data/domain_Bow_at_Banff_lumped/shapefiles/river_basins/Bow_at_Banff_lumped_riverBasins_lumped_temp.shp\n"
     ]
    },
    {
     "name": "stdout",
     "output_type": "stream",
     "text": [
      "14:59:34 - INFO - Removed temporary file: /work/comphyd_lab/data/CONFLUENCE_data/domain_Bow_at_Banff_lumped/shapefiles/river_basins/Bow_at_Banff_lumped_riverBasins_lumped_temp.shx\n"
     ]
    },
    {
     "name": "stderr",
     "output_type": "stream",
     "text": [
      "2025-05-11 14:59:34,919 - confluence_general - INFO - Removed temporary file: /work/comphyd_lab/data/CONFLUENCE_data/domain_Bow_at_Banff_lumped/shapefiles/river_basins/Bow_at_Banff_lumped_riverBasins_lumped_temp.shx\n"
     ]
    },
    {
     "name": "stdout",
     "output_type": "stream",
     "text": [
      "14:59:34 - INFO - Removed temporary file: /work/comphyd_lab/data/CONFLUENCE_data/domain_Bow_at_Banff_lumped/shapefiles/river_basins/Bow_at_Banff_lumped_riverBasins_lumped_temp.dbf\n"
     ]
    },
    {
     "name": "stderr",
     "output_type": "stream",
     "text": [
      "2025-05-11 14:59:34,923 - confluence_general - INFO - Removed temporary file: /work/comphyd_lab/data/CONFLUENCE_data/domain_Bow_at_Banff_lumped/shapefiles/river_basins/Bow_at_Banff_lumped_riverBasins_lumped_temp.dbf\n"
     ]
    },
    {
     "name": "stdout",
     "output_type": "stream",
     "text": [
      "14:59:34 - INFO - Filtered watershed shapefile created at: /work/comphyd_lab/data/CONFLUENCE_data/domain_Bow_at_Banff_lumped/shapefiles/river_basins/Bow_at_Banff_lumped_riverBasins_lumped.shp\n"
     ]
    },
    {
     "name": "stderr",
     "output_type": "stream",
     "text": [
      "2025-05-11 14:59:34,925 - confluence_general - INFO - Filtered watershed shapefile created at: /work/comphyd_lab/data/CONFLUENCE_data/domain_Bow_at_Banff_lumped/shapefiles/river_basins/Bow_at_Banff_lumped_riverBasins_lumped.shp\n",
      "/work/comphyd_lab/users/darri/data/CONFLUENCE_data/installs/conf-env/lib/python3.11/site-packages/pyogrio/raw.py:723: RuntimeWarning: Value 2209951307.64184999 of field GRU_area of feature 0 not successfully written. Possibly due to too larger number with respect to field width\n",
      "  ogr_write(\n",
      "2025-05-11 14:59:35,106 - pyogrio._io - INFO - Created 1 records\n"
     ]
    },
    {
     "name": "stdout",
     "output_type": "stream",
     "text": [
      "14:59:35 - INFO - Updated watershed shapefile at: /work/comphyd_lab/data/CONFLUENCE_data/domain_Bow_at_Banff_lumped/shapefiles/river_basins/Bow_at_Banff_lumped_riverBasins_lumped.shp\n"
     ]
    },
    {
     "name": "stderr",
     "output_type": "stream",
     "text": [
      "2025-05-11 14:59:35,111 - confluence_general - INFO - Updated watershed shapefile at: /work/comphyd_lab/data/CONFLUENCE_data/domain_Bow_at_Banff_lumped/shapefiles/river_basins/Bow_at_Banff_lumped_riverBasins_lumped.shp\n",
      "2025-05-11 14:59:35,154 - pyogrio._io - INFO - Created 1 records\n"
     ]
    },
    {
     "name": "stdout",
     "output_type": "stream",
     "text": [
      "14:59:35 - INFO - Created river network shapefile at: /work/comphyd_lab/data/CONFLUENCE_data/domain_Bow_at_Banff_lumped/shapefiles/river_network/Bow_at_Banff_lumped_riverNetwork_lumped.shp\n"
     ]
    },
    {
     "name": "stderr",
     "output_type": "stream",
     "text": [
      "2025-05-11 14:59:35,157 - confluence_general - INFO - Created river network shapefile at: /work/comphyd_lab/data/CONFLUENCE_data/domain_Bow_at_Banff_lumped/shapefiles/river_network/Bow_at_Banff_lumped_riverNetwork_lumped.shp\n",
      "/work/comphyd_lab/users/darri/data/CONFLUENCE_data/installs/conf-env/lib/python3.11/site-packages/pyogrio/raw.py:723: RuntimeWarning: Value 2209951307.64184999 of field GRU_area of feature 0 not successfully written. Possibly due to too larger number with respect to field width\n",
      "  ogr_write(\n",
      "2025-05-11 14:59:35,174 - pyogrio._io - INFO - Created 1 records\n"
     ]
    },
    {
     "name": "stdout",
     "output_type": "stream",
     "text": [
      "14:59:35 - INFO - Updated river basins shapefile with required fields at: /work/comphyd_lab/data/CONFLUENCE_data/domain_Bow_at_Banff_lumped/shapefiles/river_basins/Bow_at_Banff_lumped_riverBasins_lumped.shp\n"
     ]
    },
    {
     "name": "stderr",
     "output_type": "stream",
     "text": [
      "2025-05-11 14:59:35,178 - confluence_general - INFO - Updated river basins shapefile with required fields at: /work/comphyd_lab/data/CONFLUENCE_data/domain_Bow_at_Banff_lumped/shapefiles/river_basins/Bow_at_Banff_lumped_riverBasins_lumped.shp\n",
      "2025-05-11 14:59:35,199 - pyogrio._io - INFO - Created 1 records\n"
     ]
    },
    {
     "name": "stdout",
     "output_type": "stream",
     "text": [
      "14:59:35 - INFO - Updated river network shapefile with required fields at: /work/comphyd_lab/data/CONFLUENCE_data/domain_Bow_at_Banff_lumped/shapefiles/river_network/Bow_at_Banff_lumped_riverNetwork_lumped.shp\n"
     ]
    },
    {
     "name": "stderr",
     "output_type": "stream",
     "text": [
      "2025-05-11 14:59:35,202 - confluence_general - INFO - Updated river network shapefile with required fields at: /work/comphyd_lab/data/CONFLUENCE_data/domain_Bow_at_Banff_lumped/shapefiles/river_network/Bow_at_Banff_lumped_riverNetwork_lumped.shp\n"
     ]
    },
    {
     "name": "stdout",
     "output_type": "stream",
     "text": [
      "14:59:35 - INFO - Domain definition completed using method: lumped\n"
     ]
    },
    {
     "name": "stderr",
     "output_type": "stream",
     "text": [
      "2025-05-11 14:59:35,204 - confluence_general - INFO - Domain definition completed using method: lumped\n"
     ]
    },
    {
     "name": "stdout",
     "output_type": "stream",
     "text": [
      "14:59:35 - INFO - Creating domain visualization...\n"
     ]
    },
    {
     "name": "stderr",
     "output_type": "stream",
     "text": [
      "2025-05-11 14:59:35,206 - confluence_general - INFO - Creating domain visualization...\n"
     ]
    },
    {
     "name": "stdout",
     "output_type": "stream",
     "text": [
      "14:59:36 - INFO - Domain map saved to /work/comphyd_lab/data/CONFLUENCE_data/domain_Bow_at_Banff_lumped/plots/domain/domain_map.png\n"
     ]
    },
    {
     "name": "stderr",
     "output_type": "stream",
     "text": [
      "2025-05-11 14:59:36,133 - confluence_general - INFO - Domain map saved to /work/comphyd_lab/data/CONFLUENCE_data/domain_Bow_at_Banff_lumped/plots/domain/domain_map.png\n"
     ]
    },
    {
     "name": "stdout",
     "output_type": "stream",
     "text": [
      "14:59:36 - INFO - Domain visualization created: /work/comphyd_lab/data/CONFLUENCE_data/domain_Bow_at_Banff_lumped/plots/domain/domain_map.png\n"
     ]
    },
    {
     "name": "stderr",
     "output_type": "stream",
     "text": [
      "2025-05-11 14:59:36,138 - confluence_general - INFO - Domain visualization created: /work/comphyd_lab/data/CONFLUENCE_data/domain_Bow_at_Banff_lumped/plots/domain/domain_map.png\n"
     ]
    },
    {
     "name": "stdout",
     "output_type": "stream",
     "text": [
      "14:59:36 - INFO - Domain definition workflow finished\n"
     ]
    },
    {
     "name": "stderr",
     "output_type": "stream",
     "text": [
      "2025-05-11 14:59:36,140 - confluence_general - INFO - Domain definition workflow finished\n"
     ]
    },
    {
     "name": "stdout",
     "output_type": "stream",
     "text": [
      "\n",
      "Domain definition complete:\n",
      "  - Watershed defined: True\n"
     ]
    }
   ],
   "source": [
    "# Define domain\n",
    "print(f\"\\nDelineating watershed using method: {confluence.config['DOMAIN_DEFINITION_METHOD']}\")\n",
    "watershed_path = confluence.managers['domain'].define_domain()\n",
    "\n",
    "# Check outputs\n",
    "print(\"\\nDomain definition complete:\")\n",
    "print(f\"  - Watershed defined: {watershed_path is not None}\")"
   ]
  },
  {
   "cell_type": "markdown",
   "metadata": {},
   "source": [
    "## 6. Geospatial Domain Definition and Analysis - Discretisation "
   ]
  },
  {
   "cell_type": "code",
   "execution_count": 6,
   "metadata": {
    "scrolled": true
   },
   "outputs": [
    {
     "name": "stdout",
     "output_type": "stream",
     "text": [
      "\n",
      "Creating HRUs using method: GRUs\n",
      "14:59:36 - INFO - Discretizing domain using method: GRUs\n"
     ]
    },
    {
     "name": "stderr",
     "output_type": "stream",
     "text": [
      "2025-05-11 14:59:36,151 - confluence_general - INFO - Discretizing domain using method: GRUs\n"
     ]
    },
    {
     "name": "stdout",
     "output_type": "stream",
     "text": [
      "14:59:36 - INFO - Starting domain discretization using method: grus\n"
     ]
    },
    {
     "name": "stderr",
     "output_type": "stream",
     "text": [
      "2025-05-11 14:59:36,155 - confluence_general - INFO - Starting domain discretization using method: grus\n"
     ]
    },
    {
     "name": "stdout",
     "output_type": "stream",
     "text": [
      "14:59:36 - INFO - Step 1/2: Running discretization method\n"
     ]
    },
    {
     "name": "stderr",
     "output_type": "stream",
     "text": [
      "2025-05-11 14:59:36,158 - confluence_general - INFO - Step 1/2: Running discretization method\n"
     ]
    },
    {
     "name": "stdout",
     "output_type": "stream",
     "text": [
      "14:59:36 - INFO - config domain name Bow_at_Banff_lumped\n"
     ]
    },
    {
     "name": "stderr",
     "output_type": "stream",
     "text": [
      "2025-05-11 14:59:36,160 - confluence_general - INFO - config domain name Bow_at_Banff_lumped\n"
     ]
    },
    {
     "name": "stdout",
     "output_type": "stream",
     "text": [
      "14:59:36 - INFO - Calculating mean elevation for each HRU\n"
     ]
    },
    {
     "name": "stderr",
     "output_type": "stream",
     "text": [
      "2025-05-11 14:59:36,171 - confluence_general - INFO - Calculating mean elevation for each HRU\n",
      "/work/comphyd_lab/users/darri/data/CONFLUENCE_data/installs/conf-env/lib/python3.11/site-packages/rasterstats/io.py:335: NodataWarning: Setting nodata to -999; specify nodata explicitly\n",
      "  warnings.warn(\n",
      "/home/darri.eythorsson/code/CONFLUENCE/utils/geospatial/discretization_utils.py:208: UserWarning: Geometry is in a geographic CRS. Results from 'centroid' are likely incorrect. Use 'GeoSeries.to_crs()' to re-project geometries to a projected CRS before this operation.\n",
      "\n",
      "  centroids_utm = gru_gdf.geometry.centroid\n",
      "/work/comphyd_lab/users/darri/data/CONFLUENCE_data/installs/conf-env/lib/python3.11/site-packages/pyogrio/raw.py:723: RuntimeWarning: Value 2209951307.64184999 of field GRU_area of feature 0 not successfully written. Possibly due to too larger number with respect to field width\n",
      "  ogr_write(\n",
      "/work/comphyd_lab/users/darri/data/CONFLUENCE_data/installs/conf-env/lib/python3.11/site-packages/pyogrio/raw.py:723: RuntimeWarning: Value 2209951307.64184999 of field HRU_area of feature 0 not successfully written. Possibly due to too larger number with respect to field width\n",
      "  ogr_write(\n",
      "2025-05-11 14:59:36,669 - pyogrio._io - INFO - Created 1 records\n"
     ]
    },
    {
     "name": "stdout",
     "output_type": "stream",
     "text": [
      "14:59:36 - INFO - GRUs saved as HRUs to /work/comphyd_lab/data/CONFLUENCE_data/domain_Bow_at_Banff_lumped/shapefiles/catchment/Bow_at_Banff_lumped_HRUs_GRUs.shp\n"
     ]
    },
    {
     "name": "stderr",
     "output_type": "stream",
     "text": [
      "2025-05-11 14:59:36,673 - confluence_general - INFO - GRUs saved as HRUs to /work/comphyd_lab/data/CONFLUENCE_data/domain_Bow_at_Banff_lumped/shapefiles/catchment/Bow_at_Banff_lumped_HRUs_GRUs.shp\n"
     ]
    },
    {
     "name": "stdout",
     "output_type": "stream",
     "text": [
      "14:59:37 - INFO - HRU plot saved to /work/comphyd_lab/data/CONFLUENCE_data/domain_Bow_at_Banff_lumped/plots/catchment/Bow_at_Banff_lumped_HRUs_as_GRUs.png\n"
     ]
    },
    {
     "name": "stderr",
     "output_type": "stream",
     "text": [
      "2025-05-11 14:59:37,695 - confluence_general - INFO - HRU plot saved to /work/comphyd_lab/data/CONFLUENCE_data/domain_Bow_at_Banff_lumped/plots/catchment/Bow_at_Banff_lumped_HRUs_as_GRUs.png\n"
     ]
    },
    {
     "name": "stdout",
     "output_type": "stream",
     "text": [
      "14:59:37 - INFO - Step 2/2: Sorting catchment shape\n"
     ]
    },
    {
     "name": "stderr",
     "output_type": "stream",
     "text": [
      "2025-05-11 14:59:37,697 - confluence_general - INFO - Step 2/2: Sorting catchment shape\n"
     ]
    },
    {
     "name": "stdout",
     "output_type": "stream",
     "text": [
      "14:59:37 - INFO - Sorting catchment shape\n"
     ]
    },
    {
     "name": "stderr",
     "output_type": "stream",
     "text": [
      "2025-05-11 14:59:37,699 - confluence_general - INFO - Sorting catchment shape\n",
      "/work/comphyd_lab/users/darri/data/CONFLUENCE_data/installs/conf-env/lib/python3.11/site-packages/pyogrio/raw.py:723: RuntimeWarning: Value 2209951307.64184999 of field GRU_area of feature 0 not successfully written. Possibly due to too larger number with respect to field width\n",
      "  ogr_write(\n",
      "/work/comphyd_lab/users/darri/data/CONFLUENCE_data/installs/conf-env/lib/python3.11/site-packages/pyogrio/raw.py:723: RuntimeWarning: Value 2209951307.64184999 of field HRU_area of feature 0 not successfully written. Possibly due to too larger number with respect to field width\n",
      "  ogr_write(\n",
      "2025-05-11 14:59:37,727 - pyogrio._io - INFO - Created 1 records\n"
     ]
    },
    {
     "name": "stdout",
     "output_type": "stream",
     "text": [
      "14:59:37 - INFO - Catchment shape sorted and saved to /work/comphyd_lab/data/CONFLUENCE_data/domain_Bow_at_Banff_lumped/shapefiles/catchment/Bow_at_Banff_lumped_HRUs_GRUs.shp\n"
     ]
    },
    {
     "name": "stderr",
     "output_type": "stream",
     "text": [
      "2025-05-11 14:59:37,730 - confluence_general - INFO - Catchment shape sorted and saved to /work/comphyd_lab/data/CONFLUENCE_data/domain_Bow_at_Banff_lumped/shapefiles/catchment/Bow_at_Banff_lumped_HRUs_GRUs.shp\n"
     ]
    },
    {
     "name": "stdout",
     "output_type": "stream",
     "text": [
      "14:59:37 - INFO - Domain discretization completed in 1.58 seconds\n"
     ]
    },
    {
     "name": "stderr",
     "output_type": "stream",
     "text": [
      "2025-05-11 14:59:37,732 - confluence_general - INFO - Domain discretization completed in 1.58 seconds\n"
     ]
    },
    {
     "name": "stdout",
     "output_type": "stream",
     "text": [
      "14:59:37 - ERROR - Domain discretization failed - no shapefile created\n"
     ]
    },
    {
     "name": "stderr",
     "output_type": "stream",
     "text": [
      "2025-05-11 14:59:37,733 - confluence_general - ERROR - Domain discretization failed - no shapefile created\n"
     ]
    },
    {
     "name": "stdout",
     "output_type": "stream",
     "text": [
      "\n",
      "Domain definition complete:\n",
      "  - HRUs created: False\n"
     ]
    }
   ],
   "source": [
    "# Discretize domain\n",
    "print(f\"\\nCreating HRUs using method: {confluence.config['DOMAIN_DISCRETIZATION']}\")\n",
    "hru_path = confluence.managers['domain'].discretize_domain()\n",
    "\n",
    "# Check outputs\n",
    "print(\"\\nDomain definition complete:\")\n",
    "print(f\"  - HRUs created: {hru_path is not None}\")"
   ]
  },
  {
   "cell_type": "markdown",
   "metadata": {},
   "source": [
    "## 7. Visualize the Delineated Domain\n",
    "Let's see what our watershed looks like:"
   ]
  },
  {
   "cell_type": "code",
   "execution_count": 7,
   "metadata": {},
   "outputs": [
    {
     "name": "stderr",
     "output_type": "stream",
     "text": [
      "/tmp/ipykernel_471038/3155861773.py:33: UserWarning: Geometry is in a geographic CRS. Results from 'area' are likely incorrect. Use 'GeoSeries.to_crs()' to re-project geometries to a projected CRS before this operation.\n",
      "\n",
      "  f'Watershed Area: {basin_gdf.geometry.area.sum() / 1e6:.0f} km²',\n"
     ]
    },
    {
     "data": {
      "image/png": "[encoded data removed]",
      "text/plain": [
       "<Figure size 1200x1000 with 1 Axes>"
      ]
     },
     "metadata": {},
     "output_type": "display_data"
    }
   ],
   "source": [
    "# Visualize the watershed\n",
    "basin_path = project_dir / 'shapefiles' / 'river_basins'\n",
    "if basin_path.exists():\n",
    "    basin_files = list(basin_path.glob('*.shp'))\n",
    "    \n",
    "    if basin_files:\n",
    "        fig, ax = plt.subplots(figsize=(12, 10))\n",
    "        \n",
    "        # Load watershed and pour point\n",
    "        basin_gdf = gpd.read_file(basin_files[0])\n",
    "        pour_point_gdf = gpd.read_file(pour_point_path)\n",
    "        \n",
    "        # Reproject for visualization\n",
    "        basin_web = basin_gdf.to_crs(epsg=3857)\n",
    "        pour_web = pour_point_gdf.to_crs(epsg=3857)\n",
    "        \n",
    "        # Plot watershed\n",
    "        basin_web.plot(ax=ax, facecolor='lightblue', edgecolor='navy', \n",
    "                       linewidth=2, alpha=0.7)\n",
    "        \n",
    "        # Add pour point\n",
    "        pour_web.plot(ax=ax, color='red', markersize=200, marker='o', \n",
    "                      edgecolor='white', linewidth=2, zorder=5)\n",
    "                \n",
    "        # Set extent\n",
    "        minx, miny, maxx, maxy = basin_web.total_bounds\n",
    "        pad = 5000\n",
    "        ax.set_xlim(minx - pad, maxx + pad)\n",
    "        ax.set_ylim(miny - pad, maxy + pad)\n",
    "        \n",
    "        # Add labels\n",
    "        ax.text(minx + 1000, maxy - 1000,\n",
    "                f'Watershed Area: {basin_gdf.geometry.area.sum() / 1e6:.0f} km²', \n",
    "                fontsize=14, \n",
    "                bbox=dict(boxstyle='round,pad=0.5', facecolor='white', alpha=0.8),\n",
    "                fontweight='bold')\n",
    "        \n",
    "        ax.set_title('Bow River Watershed at Banff\\\\nAll water from this area flows to the pour point', \n",
    "                    fontsize=16, fontweight='bold', pad=20)\n",
    "        \n",
    "        ax.axis('off')\n",
    "        plt.tight_layout()\n",
    "        plt.show()"
   ]
  },
  {
   "cell_type": "markdown",
   "metadata": {},
   "source": [
    "## 8. Model Agnostic Data Pre-Processing - Observed data\n",
    "For a lumped model, the entire watershed becomes a single Hydrologic Response Unit (HRU). This simplification assumes uniform characteristics across the watershed - obviously an approximation, but useful for many applications.\n"
   ]
  },
  {
   "cell_type": "code",
   "execution_count": 8,
   "metadata": {},
   "outputs": [
    {
     "name": "stdout",
     "output_type": "stream",
     "text": [
      "=== Step 3: Model Agnostic Data Pre-Processing ===\n",
      "Processing observed streamflow data...\n",
      "14:59:38 - INFO - Processing observed data\n"
     ]
    },
    {
     "name": "stderr",
     "output_type": "stream",
     "text": [
      "2025-05-11 14:59:38,090 - confluence_general - INFO - Processing observed data\n"
     ]
    },
    {
     "name": "stdout",
     "output_type": "stream",
     "text": [
      "14:59:38 - INFO - Processing WSC streamflow data from HYDAT database\n"
     ]
    },
    {
     "name": "stderr",
     "output_type": "stream",
     "text": [
      "2025-05-11 14:59:38,092 - confluence_general - INFO - Processing WSC streamflow data from HYDAT database\n"
     ]
    },
    {
     "name": "stdout",
     "output_type": "stream",
     "text": [
      "14:59:38 - INFO - Querying data from year 2018 to 2025\n"
     ]
    },
    {
     "name": "stderr",
     "output_type": "stream",
     "text": [
      "2025-05-11 14:59:38,096 - confluence_general - INFO - Querying data from year 2018 to 2025\n"
     ]
    },
    {
     "name": "stdout",
     "output_type": "stream",
     "text": [
      "14:59:38 - INFO - Retrieving discharge data for WSC station 05BB001 from HYDAT database\n"
     ]
    },
    {
     "name": "stderr",
     "output_type": "stream",
     "text": [
      "2025-05-11 14:59:38,097 - confluence_general - INFO - Retrieving discharge data for WSC station 05BB001 from HYDAT database\n"
     ]
    },
    {
     "name": "stdout",
     "output_type": "stream",
     "text": [
      "14:59:38 - INFO - Database path: /work/comphyd_lab/data/geospatial-data/hydat/Hydat.sqlite3\n"
     ]
    },
    {
     "name": "stderr",
     "output_type": "stream",
     "text": [
      "2025-05-11 14:59:38,099 - confluence_general - INFO - Database path: /work/comphyd_lab/data/geospatial-data/hydat/Hydat.sqlite3\n"
     ]
    },
    {
     "name": "stdout",
     "output_type": "stream",
     "text": [
      "14:59:38 - INFO - Time period: 2018 to 2025\n"
     ]
    },
    {
     "name": "stderr",
     "output_type": "stream",
     "text": [
      "2025-05-11 14:59:38,100 - confluence_general - INFO - Time period: 2018 to 2025\n"
     ]
    },
    {
     "name": "stdout",
     "output_type": "stream",
     "text": [
      "14:59:38 - INFO - Found station 05BB001 in HYDAT database\n"
     ]
    },
    {
     "name": "stderr",
     "output_type": "stream",
     "text": [
      "2025-05-11 14:59:38,115 - confluence_general - INFO - Found station 05BB001 in HYDAT database\n"
     ]
    },
    {
     "name": "stdout",
     "output_type": "stream",
     "text": [
      "14:59:38 - INFO - Station name: BOW RIVER AT BANFF\n"
     ]
    },
    {
     "name": "stderr",
     "output_type": "stream",
     "text": [
      "2025-05-11 14:59:38,116 - confluence_general - INFO - Station name: BOW RIVER AT BANFF\n"
     ]
    },
    {
     "name": "stdout",
     "output_type": "stream",
     "text": [
      "14:59:38 - INFO - Executing SQL query for daily flows...\n"
     ]
    },
    {
     "name": "stderr",
     "output_type": "stream",
     "text": [
      "2025-05-11 14:59:38,118 - confluence_general - INFO - Executing SQL query for daily flows...\n"
     ]
    },
    {
     "name": "stdout",
     "output_type": "stream",
     "text": [
      "14:59:38 - INFO - Retrieved 72 monthly records from HYDAT\n"
     ]
    },
    {
     "name": "stderr",
     "output_type": "stream",
     "text": [
      "2025-05-11 14:59:38,142 - confluence_general - INFO - Retrieved 72 monthly records from HYDAT\n"
     ]
    },
    {
     "name": "stdout",
     "output_type": "stream",
     "text": [
      "14:59:38 - INFO - Processed 2191 daily flow records\n"
     ]
    },
    {
     "name": "stderr",
     "output_type": "stream",
     "text": [
      "2025-05-11 14:59:38,227 - confluence_general - INFO - Processed 2191 daily flow records\n"
     ]
    },
    {
     "name": "stdout",
     "output_type": "stream",
     "text": [
      "14:59:38 - INFO - Date range: 2018-01-01 00:00:00 to 2023-12-31 00:00:00\n"
     ]
    },
    {
     "name": "stderr",
     "output_type": "stream",
     "text": [
      "2025-05-11 14:59:38,229 - confluence_general - INFO - Date range: 2018-01-01 00:00:00 to 2023-12-31 00:00:00\n"
     ]
    },
    {
     "name": "stdout",
     "output_type": "stream",
     "text": [
      "14:59:38 - INFO - Min flow: 5.809999942779541 m³/s\n"
     ]
    },
    {
     "name": "stderr",
     "output_type": "stream",
     "text": [
      "2025-05-11 14:59:38,231 - confluence_general - INFO - Min flow: 5.809999942779541 m³/s\n"
     ]
    },
    {
     "name": "stdout",
     "output_type": "stream",
     "text": [
      "14:59:38 - INFO - Max flow: 240.0 m³/s\n"
     ]
    },
    {
     "name": "stderr",
     "output_type": "stream",
     "text": [
      "2025-05-11 14:59:38,233 - confluence_general - INFO - Max flow: 240.0 m³/s\n"
     ]
    },
    {
     "name": "stdout",
     "output_type": "stream",
     "text": [
      "14:59:38 - INFO - Mean flow: 38.202441793769964 m³/s\n"
     ]
    },
    {
     "name": "stderr",
     "output_type": "stream",
     "text": [
      "2025-05-11 14:59:38,235 - confluence_general - INFO - Mean flow: 38.202441793769964 m³/s\n"
     ]
    },
    {
     "name": "stdout",
     "output_type": "stream",
     "text": [
      "14:59:39 - INFO - Processed streamflow data saved to: /work/comphyd_lab/data/CONFLUENCE_data/domain_Bow_at_Banff_lumped/observations/streamflow/preprocessed/Bow_at_Banff_lumped_streamflow_processed.csv\n"
     ]
    },
    {
     "name": "stderr",
     "output_type": "stream",
     "text": [
      "2025-05-11 14:59:39,147 - confluence_general - INFO - Processed streamflow data saved to: /work/comphyd_lab/data/CONFLUENCE_data/domain_Bow_at_Banff_lumped/observations/streamflow/preprocessed/Bow_at_Banff_lumped_streamflow_processed.csv\n"
     ]
    },
    {
     "name": "stdout",
     "output_type": "stream",
     "text": [
      "14:59:39 - INFO - Total rows in processed data: 52561\n"
     ]
    },
    {
     "name": "stderr",
     "output_type": "stream",
     "text": [
      "2025-05-11 14:59:39,149 - confluence_general - INFO - Total rows in processed data: 52561\n"
     ]
    },
    {
     "name": "stdout",
     "output_type": "stream",
     "text": [
      "14:59:39 - INFO - Number of non-null values: 52561\n"
     ]
    },
    {
     "name": "stderr",
     "output_type": "stream",
     "text": [
      "2025-05-11 14:59:39,151 - confluence_general - INFO - Number of non-null values: 52561\n"
     ]
    },
    {
     "name": "stdout",
     "output_type": "stream",
     "text": [
      "14:59:39 - INFO - Number of null values: 0\n"
     ]
    },
    {
     "name": "stderr",
     "output_type": "stream",
     "text": [
      "2025-05-11 14:59:39,153 - confluence_general - INFO - Number of null values: 0\n"
     ]
    },
    {
     "name": "stdout",
     "output_type": "stream",
     "text": [
      "14:59:39 - INFO - Successfully processed WSC data for station 05BB001\n"
     ]
    },
    {
     "name": "stderr",
     "output_type": "stream",
     "text": [
      "2025-05-11 14:59:39,160 - confluence_general - INFO - Successfully processed WSC data for station 05BB001\n"
     ]
    },
    {
     "name": "stdout",
     "output_type": "stream",
     "text": [
      "14:59:39 - INFO - Observed data processing completed successfully\n"
     ]
    },
    {
     "name": "stderr",
     "output_type": "stream",
     "text": [
      "2025-05-11 14:59:39,162 - confluence_general - INFO - Observed data processing completed successfully\n"
     ]
    }
   ],
   "source": [
    "# Step 3: Model Agnostic Data Pre-Processing\n",
    "print(\"=== Step 3: Model Agnostic Data Pre-Processing ===\")\n",
    "\n",
    "# Process observed data\n",
    "print(\"Processing observed streamflow data...\")\n",
    "confluence.managers['data'].process_observed_data()"
   ]
  },
  {
   "cell_type": "code",
   "execution_count": 9,
   "metadata": {},
   "outputs": [
    {
     "data": {
      "image/png": "[encoded data removed]",
      "text/plain": [
       "<Figure size 1400x600 with 1 Axes>"
      ]
     },
     "metadata": {},
     "output_type": "display_data"
    }
   ],
   "source": [
    "# Visualize observed streamflow data\n",
    "obs_path = project_dir / 'observations' / 'streamflow' / 'preprocessed' / f\"{confluence.config['DOMAIN_NAME']}_streamflow_processed.csv\"\n",
    "if obs_path.exists():\n",
    "    obs_df = pd.read_csv(obs_path)\n",
    "    obs_df['datetime'] = pd.to_datetime(obs_df['datetime'])\n",
    "    \n",
    "    fig, ax = plt.subplots(figsize=(14, 6))\n",
    "    ax.plot(obs_df['datetime'], obs_df['discharge_cms'], \n",
    "            linewidth=1.5, color='blue', alpha=0.7)\n",
    "    \n",
    "    ax.set_xlabel('Date', fontsize=12)\n",
    "    ax.set_ylabel('Discharge (m³/s)', fontsize=12)\n",
    "    ax.set_title(f'Observed Streamflow - Bow River at Banff (WSC Station: {confluence.config[\"STATION_ID\"]})', \n",
    "                fontsize=14, fontweight='bold')\n",
    "    ax.grid(True, alpha=0.3)\n",
    "    \n",
    "    # Add statistics\n",
    "    ax.text(0.02, 0.95, f'Mean: {obs_df[\"discharge_cms\"].mean():.1f} m³/s\\\\nMax: {obs_df[\"discharge_cms\"].max():.1f} m³/s', \n",
    "            transform=ax.transAxes, \n",
    "            bbox=dict(boxstyle='round,pad=0.5', facecolor='white', alpha=0.8),\n",
    "            verticalalignment='top')\n",
    "    \n",
    "    plt.tight_layout()\n",
    "    plt.show()"
   ]
  },
  {
   "cell_type": "markdown",
   "metadata": {},
   "source": [
    "## 9. Model Agnostic Data Pre-Processing - Forcing data"
   ]
  },
  {
   "cell_type": "code",
   "execution_count": 10,
   "metadata": {},
   "outputs": [
    {
     "name": "stdout",
     "output_type": "stream",
     "text": [
      "\n",
      "Acquiring forcing data: ERA5\n",
      "14:59:39 - INFO - Starting forcing data acquisition\n"
     ]
    },
    {
     "name": "stderr",
     "output_type": "stream",
     "text": [
      "2025-05-11 14:59:39,563 - confluence_general - INFO - Starting forcing data acquisition\n"
     ]
    },
    {
     "name": "stdout",
     "output_type": "stream",
     "text": [
      "14:59:43 - INFO - datatool job submitted successfully.\n"
     ]
    },
    {
     "name": "stderr",
     "output_type": "stream",
     "text": [
      "2025-05-11 14:59:43,130 - confluence_general - INFO - datatool job submitted successfully.\n"
     ]
    },
    {
     "name": "stdout",
     "output_type": "stream",
     "text": [
      "15:14:15 - INFO - All datatool array jobs completed.\n"
     ]
    },
    {
     "name": "stderr",
     "output_type": "stream",
     "text": [
      "2025-05-11 15:14:15,270 - confluence_general - INFO - All datatool array jobs completed.\n"
     ]
    },
    {
     "name": "stdout",
     "output_type": "stream",
     "text": [
      "15:14:15 - INFO - Meteorological data acquisition process completed\n"
     ]
    },
    {
     "name": "stderr",
     "output_type": "stream",
     "text": [
      "2025-05-11 15:14:15,273 - confluence_general - INFO - Meteorological data acquisition process completed\n"
     ]
    },
    {
     "name": "stdout",
     "output_type": "stream",
     "text": [
      "15:14:15 - INFO - Forcing data acquisition completed successfully\n"
     ]
    },
    {
     "name": "stderr",
     "output_type": "stream",
     "text": [
      "2025-05-11 15:14:15,275 - confluence_general - INFO - Forcing data acquisition completed successfully\n"
     ]
    }
   ],
   "source": [
    "# Acquire forcings\n",
    "print(f\"\\nAcquiring forcing data: {confluence.config['FORCING_DATASET']}\")\n",
    "confluence.managers['data'].acquire_forcings()"
   ]
  },
  {
   "cell_type": "markdown",
   "metadata": {},
   "source": [
    "## 10. Model Agnostic Data Pre-Processing - Remapping and zonal statistics"
   ]
  },
  {
   "cell_type": "code",
   "execution_count": null,
   "metadata": {},
   "outputs": [
    {
     "name": "stdout",
     "output_type": "stream",
     "text": [
      "\n",
      "Running model-agnostic preprocessing...\n",
      "15:14:15 - INFO - Starting model-agnostic preprocessing\n"
     ]
    },
    {
     "name": "stderr",
     "output_type": "stream",
     "text": [
      "2025-05-11 15:14:15,283 - confluence_general - INFO - Starting model-agnostic preprocessing\n"
     ]
    },
    {
     "name": "stdout",
     "output_type": "stream",
     "text": [
      "15:14:15 - INFO - Running geospatial statistics\n"
     ]
    },
    {
     "name": "stderr",
     "output_type": "stream",
     "text": [
      "2025-05-11 15:14:15,559 - confluence_general - INFO - Running geospatial statistics\n"
     ]
    },
    {
     "name": "stdout",
     "output_type": "stream",
     "text": [
      "15:14:15 - INFO - Starting geospatial statistics calculation\n"
     ]
    },
    {
     "name": "stderr",
     "output_type": "stream",
     "text": [
      "2025-05-11 15:14:15,567 - confluence_general - INFO - Starting geospatial statistics calculation\n"
     ]
    },
    {
     "name": "stdout",
     "output_type": "stream",
     "text": [
      "15:14:15 - INFO - Calculating soil statistics\n"
     ]
    },
    {
     "name": "stderr",
     "output_type": "stream",
     "text": [
      "2025-05-11 15:14:15,577 - confluence_general - INFO - Calculating soil statistics\n",
      "/work/comphyd_lab/users/darri/data/CONFLUENCE_data/installs/conf-env/lib/python3.11/site-packages/pyogrio/raw.py:723: RuntimeWarning: Value 2209951307.64184999 of field GRU_area of feature 0 not successfully written. Possibly due to too larger number with respect to field width\n",
      "  ogr_write(\n",
      "/work/comphyd_lab/users/darri/data/CONFLUENCE_data/installs/conf-env/lib/python3.11/site-packages/pyogrio/raw.py:723: RuntimeWarning: Value 2209951307.64184999 of field HRU_area of feature 0 not successfully written. Possibly due to too larger number with respect to field width\n",
      "  ogr_write(\n",
      "2025-05-11 15:14:15,920 - pyogrio._io - INFO - Created 1 records\n"
     ]
    },
    {
     "name": "stdout",
     "output_type": "stream",
     "text": [
      "15:14:15 - INFO - Soil statistics saved to /work/comphyd_lab/data/CONFLUENCE_data/domain_Bow_at_Banff_lumped/shapefiles/catchment_intersection/with_soilgrids/default\n"
     ]
    },
    {
     "name": "stderr",
     "output_type": "stream",
     "text": [
      "2025-05-11 15:14:15,924 - confluence_general - INFO - Soil statistics saved to /work/comphyd_lab/data/CONFLUENCE_data/domain_Bow_at_Banff_lumped/shapefiles/catchment_intersection/with_soilgrids/default\n"
     ]
    },
    {
     "name": "stdout",
     "output_type": "stream",
     "text": [
      "15:14:15 - INFO - Calculating land statistics\n"
     ]
    },
    {
     "name": "stderr",
     "output_type": "stream",
     "text": [
      "2025-05-11 15:14:15,926 - confluence_general - INFO - Calculating land statistics\n",
      "/work/comphyd_lab/users/darri/data/CONFLUENCE_data/installs/conf-env/lib/python3.11/site-packages/pyogrio/raw.py:723: RuntimeWarning: Value 2209951307.64184999 of field GRU_area of feature 0 not successfully written. Possibly due to too larger number with respect to field width\n",
      "  ogr_write(\n",
      "/work/comphyd_lab/users/darri/data/CONFLUENCE_data/installs/conf-env/lib/python3.11/site-packages/pyogrio/raw.py:723: RuntimeWarning: Value 2209951307.64184999 of field HRU_area of feature 0 not successfully written. Possibly due to too larger number with respect to field width\n",
      "  ogr_write(\n",
      "2025-05-11 15:14:16,067 - pyogrio._io - INFO - Created 1 records\n"
     ]
    },
    {
     "name": "stdout",
     "output_type": "stream",
     "text": [
      "15:14:16 - INFO - Land statistics saved to /work/comphyd_lab/data/CONFLUENCE_data/domain_Bow_at_Banff_lumped/shapefiles/catchment_intersection/with_landclass/default\n"
     ]
    },
    {
     "name": "stderr",
     "output_type": "stream",
     "text": [
      "2025-05-11 15:14:16,077 - confluence_general - INFO - Land statistics saved to /work/comphyd_lab/data/CONFLUENCE_data/domain_Bow_at_Banff_lumped/shapefiles/catchment_intersection/with_landclass/default\n"
     ]
    },
    {
     "name": "stdout",
     "output_type": "stream",
     "text": [
      "15:14:16 - INFO - Calculating elevation statistics\n"
     ]
    },
    {
     "name": "stderr",
     "output_type": "stream",
     "text": [
      "2025-05-11 15:14:16,080 - confluence_general - INFO - Calculating elevation statistics\n"
     ]
    },
    {
     "name": "stdout",
     "output_type": "stream",
     "text": [
      "15:14:16 - INFO - Updating existing 'elev_mean' column\n"
     ]
    },
    {
     "name": "stderr",
     "output_type": "stream",
     "text": [
      "2025-05-11 15:14:16,165 - confluence_general - INFO - Updating existing 'elev_mean' column\n",
      "/work/comphyd_lab/users/darri/data/CONFLUENCE_data/installs/conf-env/lib/python3.11/site-packages/pyogrio/raw.py:723: RuntimeWarning: Value 2209951307.64184999 of field GRU_area of feature 0 not successfully written. Possibly due to too larger number with respect to field width\n",
      "  ogr_write(\n",
      "/work/comphyd_lab/users/darri/data/CONFLUENCE_data/installs/conf-env/lib/python3.11/site-packages/pyogrio/raw.py:723: RuntimeWarning: Value 2209951307.64184999 of field HRU_area of feature 0 not successfully written. Possibly due to too larger number with respect to field width\n",
      "  ogr_write(\n",
      "2025-05-11 15:14:16,187 - pyogrio._io - INFO - Created 1 records\n"
     ]
    },
    {
     "name": "stdout",
     "output_type": "stream",
     "text": [
      "15:14:16 - INFO - Elevation statistics saved to /work/comphyd_lab/data/CONFLUENCE_data/domain_Bow_at_Banff_lumped/shapefiles/catchment_intersection/with_dem/default\n"
     ]
    },
    {
     "name": "stderr",
     "output_type": "stream",
     "text": [
      "2025-05-11 15:14:16,191 - confluence_general - INFO - Elevation statistics saved to /work/comphyd_lab/data/CONFLUENCE_data/domain_Bow_at_Banff_lumped/shapefiles/catchment_intersection/with_dem/default\n"
     ]
    },
    {
     "name": "stdout",
     "output_type": "stream",
     "text": [
      "15:14:16 - INFO - Geospatial statistics completed: 0/3 steps skipped, 3/3 steps executed\n"
     ]
    },
    {
     "name": "stderr",
     "output_type": "stream",
     "text": [
      "2025-05-11 15:14:16,193 - confluence_general - INFO - Geospatial statistics completed: 0/3 steps skipped, 3/3 steps executed\n"
     ]
    },
    {
     "name": "stdout",
     "output_type": "stream",
     "text": [
      "15:14:16 - INFO - Running forcing resampling\n"
     ]
    },
    {
     "name": "stderr",
     "output_type": "stream",
     "text": [
      "2025-05-11 15:14:16,195 - confluence_general - INFO - Running forcing resampling\n"
     ]
    },
    {
     "name": "stdout",
     "output_type": "stream",
     "text": [
      "15:14:16 - INFO - Starting forcing data resampling process\n"
     ]
    },
    {
     "name": "stderr",
     "output_type": "stream",
     "text": [
      "2025-05-11 15:14:16,196 - confluence_general - INFO - Starting forcing data resampling process\n"
     ]
    },
    {
     "name": "stdout",
     "output_type": "stream",
     "text": [
      "15:14:16 - INFO - Creating ERA5 shapefile\n"
     ]
    },
    {
     "name": "stderr",
     "output_type": "stream",
     "text": [
      "2025-05-11 15:14:16,198 - confluence_general - INFO - Creating ERA5 shapefile\n"
     ]
    },
    {
     "name": "stdout",
     "output_type": "stream",
     "text": [
      "15:14:16 - INFO - Creating ERA5 shapefile\n"
     ]
    },
    {
     "name": "stderr",
     "output_type": "stream",
     "text": [
      "2025-05-11 15:14:16,203 - confluence_general - INFO - Creating ERA5 shapefile\n"
     ]
    },
    {
     "name": "stdout",
     "output_type": "stream",
     "text": [
      "15:14:16 - INFO - Using ERA5 file: /work/comphyd_lab/data/CONFLUENCE_data/domain_Bow_at_Banff_lumped/forcing/raw_data/domain_Bow_at_Banff_lumped_ERA5_merged_202202.nc\n"
     ]
    },
    {
     "name": "stderr",
     "output_type": "stream",
     "text": [
      "2025-05-11 15:14:16,219 - confluence_general - INFO - Using ERA5 file: /work/comphyd_lab/data/CONFLUENCE_data/domain_Bow_at_Banff_lumped/forcing/raw_data/domain_Bow_at_Banff_lumped_ERA5_merged_202202.nc\n"
     ]
    },
    {
     "name": "stdout",
     "output_type": "stream",
     "text": [
      "15:14:16 - INFO - ERA5 dimensions: lat=(6,), lon=(7,)\n"
     ]
    },
    {
     "name": "stderr",
     "output_type": "stream",
     "text": [
      "2025-05-11 15:14:16,552 - confluence_general - INFO - ERA5 dimensions: lat=(6,), lon=(7,)\n"
     ]
    },
    {
     "name": "stdout",
     "output_type": "stream",
     "text": [
      "15:14:16 - INFO - ERA5 grid spacings: half_dlat=0.125, half_dlon=0.125\n"
     ]
    },
    {
     "name": "stderr",
     "output_type": "stream",
     "text": [
      "2025-05-11 15:14:16,564 - confluence_general - INFO - ERA5 grid spacings: half_dlat=0.125, half_dlon=0.125\n"
     ]
    },
    {
     "name": "stdout",
     "output_type": "stream",
     "text": [
      "15:14:16 - INFO - Creating grid cell geometries\n"
     ]
    },
    {
     "name": "stderr",
     "output_type": "stream",
     "text": [
      "2025-05-11 15:14:16,570 - confluence_general - INFO - Creating grid cell geometries\n"
     ]
    },
    {
     "name": "stdout",
     "output_type": "stream",
     "text": [
      "15:14:16 - INFO - Multiple latitude values, creating grid\n"
     ]
    },
    {
     "name": "stderr",
     "output_type": "stream",
     "text": [
      "2025-05-11 15:14:16,578 - confluence_general - INFO - Multiple latitude values, creating grid\n"
     ]
    },
    {
     "name": "stdout",
     "output_type": "stream",
     "text": [
      "15:14:16 - INFO - Created 42 grid cell geometries\n"
     ]
    },
    {
     "name": "stderr",
     "output_type": "stream",
     "text": [
      "2025-05-11 15:14:16,585 - confluence_general - INFO - Created 42 grid cell geometries\n"
     ]
    },
    {
     "name": "stdout",
     "output_type": "stream",
     "text": [
      "15:14:16 - INFO - Creating GeoDataFrame\n"
     ]
    },
    {
     "name": "stderr",
     "output_type": "stream",
     "text": [
      "2025-05-11 15:14:16,590 - confluence_general - INFO - Creating GeoDataFrame\n"
     ]
    },
    {
     "name": "stdout",
     "output_type": "stream",
     "text": [
      "15:14:16 - INFO - GeoDataFrame created with 42 rows\n"
     ]
    },
    {
     "name": "stderr",
     "output_type": "stream",
     "text": [
      "2025-05-11 15:14:16,595 - confluence_general - INFO - GeoDataFrame created with 42 rows\n"
     ]
    },
    {
     "name": "stdout",
     "output_type": "stream",
     "text": [
      "15:14:16 - INFO - Calculating zonal statistics with DEM: /work/comphyd_lab/data/CONFLUENCE_data/domain_Bow_at_Banff_lumped/attributes/elevation/dem/domain_Bow_at_Banff_lumped_elv.tif\n"
     ]
    },
    {
     "name": "stderr",
     "output_type": "stream",
     "text": [
      "2025-05-11 15:14:16,599 - confluence_general - INFO - Calculating zonal statistics with DEM: /work/comphyd_lab/data/CONFLUENCE_data/domain_Bow_at_Banff_lumped/attributes/elevation/dem/domain_Bow_at_Banff_lumped_elv.tif\n"
     ]
    },
    {
     "name": "stdout",
     "output_type": "stream",
     "text": [
      "15:14:16 - INFO - Using sample of 42 grid cells for zonal statistics\n"
     ]
    },
    {
     "name": "stderr",
     "output_type": "stream",
     "text": [
      "2025-05-11 15:14:16,602 - confluence_general - INFO - Using sample of 42 grid cells for zonal statistics\n"
     ]
    },
    {
     "name": "stdout",
     "output_type": "stream",
     "text": [
      "15:14:16 - INFO - Processing elevation batch 1/3 (0 to 19)\n"
     ]
    },
    {
     "name": "stderr",
     "output_type": "stream",
     "text": [
      "2025-05-11 15:14:16,605 - confluence_general - INFO - Processing elevation batch 1/3 (0 to 19)\n",
      "/home/darri.eythorsson/code/CONFLUENCE/utils/data/agnosticPreProcessor.py:373: FutureWarning: Setting an item of incompatible dtype is deprecated and will raise an error in a future version of pandas. Value '2338.127669533673' has dtype incompatible with int64, please explicitly cast to a compatible dtype first.\n",
      "  gdf.loc[idx, 'elev_m'] = item['mean'] if item['mean'] is not None else -9999\n"
     ]
    },
    {
     "name": "stdout",
     "output_type": "stream",
     "text": [
      "15:14:16 - INFO - Processing elevation batch 2/3 (20 to 39)\n"
     ]
    },
    {
     "name": "stderr",
     "output_type": "stream",
     "text": [
      "2025-05-11 15:14:16,787 - confluence_general - INFO - Processing elevation batch 2/3 (20 to 39)\n"
     ]
    },
    {
     "name": "stdout",
     "output_type": "stream",
     "text": [
      "15:14:16 - INFO - Processing elevation batch 3/3 (40 to 41)\n"
     ]
    },
    {
     "name": "stderr",
     "output_type": "stream",
     "text": [
      "2025-05-11 15:14:16,986 - confluence_general - INFO - Processing elevation batch 3/3 (40 to 41)\n"
     ]
    },
    {
     "name": "stdout",
     "output_type": "stream",
     "text": [
      "15:14:17 - INFO - Elevation calculation complete\n"
     ]
    },
    {
     "name": "stderr",
     "output_type": "stream",
     "text": [
      "2025-05-11 15:14:17,004 - confluence_general - INFO - Elevation calculation complete\n"
     ]
    },
    {
     "name": "stdout",
     "output_type": "stream",
     "text": [
      "15:14:17 - INFO - Saving shapefile to: /work/comphyd_lab/data/CONFLUENCE_data/domain_Bow_at_Banff_lumped/shapefiles/forcing/forcing_ERA5.shp\n"
     ]
    },
    {
     "name": "stderr",
     "output_type": "stream",
     "text": [
      "2025-05-11 15:14:17,007 - confluence_general - INFO - Saving shapefile to: /work/comphyd_lab/data/CONFLUENCE_data/domain_Bow_at_Banff_lumped/shapefiles/forcing/forcing_ERA5.shp\n",
      "2025-05-11 15:14:17,052 - pyogrio._io - INFO - Created 42 records\n"
     ]
    },
    {
     "name": "stdout",
     "output_type": "stream",
     "text": [
      "15:14:17 - INFO - ERA5 shapefile saved successfully to /work/comphyd_lab/data/CONFLUENCE_data/domain_Bow_at_Banff_lumped/shapefiles/forcing/forcing_ERA5.shp\n"
     ]
    },
    {
     "name": "stderr",
     "output_type": "stream",
     "text": [
      "2025-05-11 15:14:17,055 - confluence_general - INFO - ERA5 shapefile saved successfully to /work/comphyd_lab/data/CONFLUENCE_data/domain_Bow_at_Banff_lumped/shapefiles/forcing/forcing_ERA5.shp\n"
     ]
    },
    {
     "name": "stdout",
     "output_type": "stream",
     "text": [
      "15:14:17 - INFO - Starting forcing remapping process\n"
     ]
    },
    {
     "name": "stderr",
     "output_type": "stream",
     "text": [
      "2025-05-11 15:14:17,057 - confluence_general - INFO - Starting forcing remapping process\n"
     ]
    },
    {
     "name": "stdout",
     "output_type": "stream",
     "text": [
      "15:14:17 - INFO - Creating weighted forcing files in parallel\n"
     ]
    },
    {
     "name": "stderr",
     "output_type": "stream",
     "text": [
      "2025-05-11 15:14:17,059 - confluence_general - INFO - Creating weighted forcing files in parallel\n"
     ]
    },
    {
     "name": "stdout",
     "output_type": "stream",
     "text": [
      "15:14:17 - INFO - Found 60 forcing files to process\n"
     ]
    },
    {
     "name": "stderr",
     "output_type": "stream",
     "text": [
      "2025-05-11 15:14:17,062 - confluence_general - INFO - Found 60 forcing files to process\n"
     ]
    },
    {
     "name": "stdout",
     "output_type": "stream",
     "text": [
      "15:14:17 - INFO - Using 1 CPUs for parallel processing\n"
     ]
    },
    {
     "name": "stderr",
     "output_type": "stream",
     "text": [
      "2025-05-11 15:14:17,064 - confluence_general - INFO - Using 1 CPUs for parallel processing\n"
     ]
    },
    {
     "name": "stdout",
     "output_type": "stream",
     "text": [
      "15:14:17 - INFO - Found 0 already processed files\n"
     ]
    },
    {
     "name": "stderr",
     "output_type": "stream",
     "text": [
      "2025-05-11 15:14:17,090 - confluence_general - INFO - Found 0 already processed files\n"
     ]
    },
    {
     "name": "stdout",
     "output_type": "stream",
     "text": [
      "15:14:17 - INFO - Found 60 files that need processing\n"
     ]
    },
    {
     "name": "stderr",
     "output_type": "stream",
     "text": [
      "2025-05-11 15:14:17,092 - confluence_general - INFO - Found 60 files that need processing\n"
     ]
    },
    {
     "name": "stdout",
     "output_type": "stream",
     "text": [
      "15:14:17 - INFO - Processing 6 batches of up to 10 files each\n"
     ]
    },
    {
     "name": "stderr",
     "output_type": "stream",
     "text": [
      "2025-05-11 15:14:17,093 - confluence_general - INFO - Processing 6 batches of up to 10 files each\n"
     ]
    },
    {
     "name": "stdout",
     "output_type": "stream",
     "text": [
      "15:14:17 - INFO - Processing batch 1/6 with 10 files\n"
     ]
    },
    {
     "name": "stderr",
     "output_type": "stream",
     "text": [
      "2025-05-11 15:14:17,095 - confluence_general - INFO - Processing batch 1/6 with 10 files\n"
     ]
    },
    {
     "name": "stdout",
     "output_type": "stream",
     "text": [
      "15:14:17 - INFO - Worker 0: Processing file domain_Bow_at_Banff_lumped_ERA5_merged_201801.nc\n"
     ]
    },
    {
     "name": "stderr",
     "output_type": "stream",
     "text": [
      "2025-05-11 15:14:17,118 - confluence_general - INFO - Worker 0: Processing file domain_Bow_at_Banff_lumped_ERA5_merged_201801.nc\n"
     ]
    },
    {
     "name": "stdout",
     "output_type": "stream",
     "text": [
      "EASYMORE version 2.0.0 is initiated.\n",
      "EASYMORE is given multiple variables for remapping but only one format and fill value. EASYMORE repeats the format and fill value for all the variables in output files\n",
      "EASYMORE will remap variable  airpres  from source file to variable  airpres  in remapped netCDF file\n",
      "EASYMORE will remap variable  LWRadAtm  from source file to variable  LWRadAtm  in remapped netCDF file\n",
      "EASYMORE will remap variable  SWRadAtm  from source file to variable  SWRadAtm  in remapped netCDF file\n",
      "EASYMORE will remap variable  pptrate  from source file to variable  pptrate  in remapped netCDF file\n",
      "EASYMORE will remap variable  airtemp  from source file to variable  airtemp  in remapped netCDF file\n",
      "EASYMORE will remap variable  spechum  from source file to variable  spechum  in remapped netCDF file\n",
      "EASYMORE will remap variable  windspd  from source file to variable  windspd  in remapped netCDF file\n",
      "EASYMORE detects that the variables from the netCDF files are identicalin dimensions of the variables and latitude and longitude\n",
      "EASYMORE detects that all the variables have dimensions of:\n",
      "['time', 'latitude', 'longitude']\n",
      "EASYMORE detects that the longitude variables has dimensions of:\n",
      "['longitude']\n",
      "EASYMORE detects that the latitude variables has dimensions of:\n",
      "['latitude']\n",
      "--CREATING-REMAPPING-FILE--\n",
      "Started at date and time 2025-05-11 15:14:17.364990\n",
      "EASYMORE detects that target shapefile is in WGS84 (epsg:4326)\n",
      "EASYMORE detects that the field for ID is provided in sink/target shapefile\n",
      "EASYMORE detects that the field latitude is provided in sink/target shapefile\n",
      "EASYMORE detects that the field longitude is provided in sink/target shapefile\n",
      "it seems everything is OK with the sink/target shapefile; added to EASYMORE object target_shp_gpd\n"
     ]
    },
    {
     "name": "stderr",
     "output_type": "stream",
     "text": [
      "/work/comphyd_lab/users/darri/data/CONFLUENCE_data/installs/conf-env/lib/python3.11/site-packages/pyogrio/raw.py:723: RuntimeWarning: Value 2209951307.64184999 of field GRU_area of feature 0 not successfully written. Possibly due to too larger number with respect to field width\n",
      "  ogr_write(\n",
      "/work/comphyd_lab/users/darri/data/CONFLUENCE_data/installs/conf-env/lib/python3.11/site-packages/pyogrio/raw.py:723: RuntimeWarning: Value 2209951307.64184999 of field HRU_area of feature 0 not successfully written. Possibly due to too larger number with respect to field width\n",
      "  ogr_write(\n",
      "2025-05-11 15:14:17,431 - pyogrio._io - INFO - Created 1 records\n"
     ]
    },
    {
     "name": "stdout",
     "output_type": "stream",
     "text": [
      "EASYMORE saved target shapefile for EASYMORE claculation as:\n",
      "/work/comphyd_lab/data/CONFLUENCE_data/domain_Bow_at_Banff_lumped/forcing/temp_easymore_394dcdf8_0/Bow_at_Banff_lumped_ERA5_target_shapefile.shp\n",
      "EASYMORE detects case 1 - regular lat/lon\n"
     ]
    },
    {
     "name": "stderr",
     "output_type": "stream",
     "text": [
      "2025-05-11 15:14:17,511 - pyogrio._io - INFO - Created 42 records\n"
     ]
    },
    {
     "name": "stdout",
     "output_type": "stream",
     "text": [
      "/work/comphyd_lab/data/CONFLUENCE_data/domain_Bow_at_Banff_lumped/forcing/temp_easymore_394dcdf8_0/Bow_at_Banff_lumped_ERA5_source_shapefile.shp\n",
      "EASYMORE created the shapefile from the netCDF file and saved it here:\n",
      "EASMORE detects that target shapefile is inside the boundary of source netCDF file  and therefore correction for longitude values -180 to 180 or 0 to 360 is not performed even if  the correction_shp_lon flag is set to True [default is True]\n"
     ]
    },
    {
     "name": "stderr",
     "output_type": "stream",
     "text": [
      "/work/comphyd_lab/users/darri/data/CONFLUENCE_data/installs/conf-env/lib/python3.11/site-packages/pyogrio/raw.py:723: RuntimeWarning: Value 2209951307.64184999 of field GRU_area of feature 0 not successfully written. Possibly due to too larger number with respect to field width\n",
      "  ogr_write(\n",
      "/work/comphyd_lab/users/darri/data/CONFLUENCE_data/installs/conf-env/lib/python3.11/site-packages/pyogrio/raw.py:723: RuntimeWarning: Value 2209951307.64184999 of field HRU_area of feature 0 not successfully written. Possibly due to too larger number with respect to field width\n",
      "  ogr_write(\n",
      "2025-05-11 15:14:17,590 - pyogrio._io - INFO - Created 1 records\n",
      "2025-05-11 15:14:17,613 - pyogrio._io - INFO - Created 42 records\n",
      "/work/comphyd_lab/users/darri/data/CONFLUENCE_data/installs/conf-env/lib/python3.11/site-packages/pyogrio/raw.py:723: RuntimeWarning: Value 2209951307.64184999 of field GRU_area of feature 0 not successfully written. Possibly due to too larger number with respect to field width\n",
      "  ogr_write(\n",
      "/work/comphyd_lab/users/darri/data/CONFLUENCE_data/installs/conf-env/lib/python3.11/site-packages/pyogrio/raw.py:723: RuntimeWarning: Value 2209951307.64184999 of field HRU_area of feature 0 not successfully written. Possibly due to too larger number with respect to field width\n",
      "  ogr_write(\n",
      "2025-05-11 15:14:17,718 - pyogrio._io - INFO - Created 1 records\n",
      "2025-05-11 15:14:17,821 - pyogrio._io - INFO - Created 42 records\n",
      "/work/comphyd_lab/users/darri/data/CONFLUENCE_data/installs/conf-env/lib/python3.11/site-packages/easymore/remapper.py:521: UserWarning: Column names longer than 10 characters will be truncated when saved to ESRI Shapefile.\n",
      "  shp_int.to_file(self.temp_dir+self.case_name+'_intersected_shapefile.shp') # save the intersected files\n",
      "/work/comphyd_lab/users/darri/data/CONFLUENCE_data/installs/conf-env/lib/python3.11/site-packages/pyogrio/raw.py:723: RuntimeWarning: Normalized/laundered field name: 'S_1_gru_to_seg' to 'S_1_gru_to'\n",
      "  ogr_write(\n",
      "/work/comphyd_lab/users/darri/data/CONFLUENCE_data/installs/conf-env/lib/python3.11/site-packages/pyogrio/raw.py:723: RuntimeWarning: Normalized/laundered field name: 'S_1_GRU_area' to 'S_1_GRU_ar'\n",
      "  ogr_write(\n",
      "/work/comphyd_lab/users/darri/data/CONFLUENCE_data/installs/conf-env/lib/python3.11/site-packages/pyogrio/raw.py:723: RuntimeWarning: Normalized/laundered field name: 'S_1_hru_type' to 'S_1_hru_ty'\n",
      "  ogr_write(\n",
      "/work/comphyd_lab/users/darri/data/CONFLUENCE_data/installs/conf-env/lib/python3.11/site-packages/pyogrio/raw.py:723: RuntimeWarning: Normalized/laundered field name: 'S_1_elev_mean' to 'S_1_elev_m'\n",
      "  ogr_write(\n",
      "/work/comphyd_lab/users/darri/data/CONFLUENCE_data/installs/conf-env/lib/python3.11/site-packages/pyogrio/raw.py:723: RuntimeWarning: Normalized/laundered field name: 'S_1_center_lon' to 'S_1_center'\n",
      "  ogr_write(\n",
      "/work/comphyd_lab/users/darri/data/CONFLUENCE_data/installs/conf-env/lib/python3.11/site-packages/pyogrio/raw.py:723: RuntimeWarning: Normalized/laundered field name: 'S_1_center_lat' to 'S_1_cent_1'\n",
      "  ogr_write(\n",
      "/work/comphyd_lab/users/darri/data/CONFLUENCE_data/installs/conf-env/lib/python3.11/site-packages/pyogrio/raw.py:723: RuntimeWarning: Normalized/laundered field name: 'S_1_HRU_area' to 'S_1_HRU_ar'\n",
      "  ogr_write(\n",
      "/work/comphyd_lab/users/darri/data/CONFLUENCE_data/installs/conf-env/lib/python3.11/site-packages/pyogrio/raw.py:723: RuntimeWarning: Value 2209951307.64184999 of field S_1_GRU_ar of feature 0 not successfully written. Possibly due to too larger number with respect to field width\n",
      "  ogr_write(\n",
      "/work/comphyd_lab/users/darri/data/CONFLUENCE_data/installs/conf-env/lib/python3.11/site-packages/pyogrio/raw.py:723: RuntimeWarning: Value 2209951307.64184999 of field S_1_HRU_ar of feature 0 not successfully written. Possibly due to too larger number with respect to field width\n",
      "  ogr_write(\n",
      "/work/comphyd_lab/users/darri/data/CONFLUENCE_data/installs/conf-env/lib/python3.11/site-packages/pyogrio/raw.py:723: RuntimeWarning: Value 2211445684.05116987 of field AS1 of feature 0 not successfully written. Possibly due to too larger number with respect to field width\n",
      "  ogr_write(\n",
      "/work/comphyd_lab/users/darri/data/CONFLUENCE_data/installs/conf-env/lib/python3.11/site-packages/pyogrio/raw.py:723: RuntimeWarning: Value 488085265.984459698 of field AS2 of feature 0 not successfully written. Possibly due to too larger number with respect to field width\n",
      "  ogr_write(\n",
      "/work/comphyd_lab/users/darri/data/CONFLUENCE_data/installs/conf-env/lib/python3.11/site-packages/pyogrio/raw.py:723: RuntimeWarning: Value 165609870.262543023 of field AINT of feature 0 not successfully written. Possibly due to too larger number with respect to field width\n",
      "  ogr_write(\n",
      "/work/comphyd_lab/users/darri/data/CONFLUENCE_data/installs/conf-env/lib/python3.11/site-packages/pyogrio/raw.py:723: RuntimeWarning: Value 2209951307.64184999 of field S_1_GRU_ar of feature 1 not successfully written. Possibly due to too larger number with respect to field width\n",
      "  ogr_write(\n",
      "/work/comphyd_lab/users/darri/data/CONFLUENCE_data/installs/conf-env/lib/python3.11/site-packages/pyogrio/raw.py:723: RuntimeWarning: Value 2209951307.64184999 of field S_1_HRU_ar of feature 1 not successfully written. Possibly due to too larger number with respect to field width\n",
      "  ogr_write(\n",
      "/work/comphyd_lab/users/darri/data/CONFLUENCE_data/installs/conf-env/lib/python3.11/site-packages/pyogrio/raw.py:723: RuntimeWarning: Value 2211445684.05116987 of field AS1 of feature 1 not successfully written. Possibly due to too larger number with respect to field width\n",
      "  ogr_write(\n",
      "/work/comphyd_lab/users/darri/data/CONFLUENCE_data/installs/conf-env/lib/python3.11/site-packages/pyogrio/raw.py:723: RuntimeWarning: Value 488085265.984535098 of field AS2 of feature 1 not successfully written. Possibly due to too larger number with respect to field width\n",
      "  ogr_write(\n",
      "/work/comphyd_lab/users/darri/data/CONFLUENCE_data/installs/conf-env/lib/python3.11/site-packages/pyogrio/raw.py:723: RuntimeWarning: Value 2209951307.64184999 of field S_1_GRU_ar of feature 2 not successfully written. Possibly due to too larger number with respect to field width\n",
      "  ogr_write(\n",
      "/work/comphyd_lab/users/darri/data/CONFLUENCE_data/installs/conf-env/lib/python3.11/site-packages/pyogrio/raw.py:723: RuntimeWarning: Value 2209951307.64184999 of field S_1_HRU_ar of feature 2 not successfully written. Possibly due to too larger number with respect to field width\n",
      "  ogr_write(\n",
      "/work/comphyd_lab/users/darri/data/CONFLUENCE_data/installs/conf-env/lib/python3.11/site-packages/pyogrio/raw.py:723: RuntimeWarning: Value 2211445684.05116987 of field AS1 of feature 2 not successfully written. Possibly due to too larger number with respect to field width\n",
      "  ogr_write(\n",
      "/work/comphyd_lab/users/darri/data/CONFLUENCE_data/installs/conf-env/lib/python3.11/site-packages/pyogrio/raw.py:723: RuntimeWarning: Value 485478527.571617365 of field AS2 of feature 2 not successfully written. Possibly due to too larger number with respect to field width\n",
      "  ogr_write(\n",
      "/work/comphyd_lab/users/darri/data/CONFLUENCE_data/installs/conf-env/lib/python3.11/site-packages/pyogrio/raw.py:723: RuntimeWarning: Value 2209951307.64184999 of field S_1_GRU_ar of feature 3 not successfully written. Possibly due to too larger number with respect to field width\n",
      "  ogr_write(\n",
      "/work/comphyd_lab/users/darri/data/CONFLUENCE_data/installs/conf-env/lib/python3.11/site-packages/pyogrio/raw.py:723: RuntimeWarning: Value 2209951307.64184999 of field S_1_HRU_ar of feature 3 not successfully written. Possibly due to too larger number with respect to field width\n",
      "  ogr_write(\n",
      "/work/comphyd_lab/users/darri/data/CONFLUENCE_data/installs/conf-env/lib/python3.11/site-packages/pyogrio/raw.py:723: RuntimeWarning: Value 2211445684.05116987 of field AS1 of feature 3 not successfully written. Possibly due to too larger number with respect to field width\n",
      "  ogr_write(\n",
      "/work/comphyd_lab/users/darri/data/CONFLUENCE_data/installs/conf-env/lib/python3.11/site-packages/pyogrio/raw.py:723: RuntimeWarning: Value 482862192.655856669 of field AS2 of feature 3 not successfully written. Possibly due to too larger number with respect to field width\n",
      "  ogr_write(\n",
      "/work/comphyd_lab/users/darri/data/CONFLUENCE_data/installs/conf-env/lib/python3.11/site-packages/pyogrio/raw.py:723: RuntimeWarning: Value 2209951307.64184999 of field S_1_GRU_ar of feature 4 not successfully written. Possibly due to too larger number with respect to field width\n",
      "  ogr_write(\n",
      "/work/comphyd_lab/users/darri/data/CONFLUENCE_data/installs/conf-env/lib/python3.11/site-packages/pyogrio/raw.py:723: RuntimeWarning: Value 2209951307.64184999 of field S_1_HRU_ar of feature 4 not successfully written. Possibly due to too larger number with respect to field width\n",
      "  ogr_write(\n",
      "/work/comphyd_lab/users/darri/data/CONFLUENCE_data/installs/conf-env/lib/python3.11/site-packages/pyogrio/raw.py:723: RuntimeWarning: Value 2211445684.05116987 of field AS1 of feature 4 not successfully written. Possibly due to too larger number with respect to field width\n",
      "  ogr_write(\n",
      "/work/comphyd_lab/users/darri/data/CONFLUENCE_data/installs/conf-env/lib/python3.11/site-packages/pyogrio/raw.py:723: RuntimeWarning: Value 488085265.984535098 of field AS2 of feature 4 not successfully written. Possibly due to too larger number with respect to field width\n",
      "  ogr_write(\n",
      "/work/comphyd_lab/users/darri/data/CONFLUENCE_data/installs/conf-env/lib/python3.11/site-packages/pyogrio/raw.py:723: RuntimeWarning: Value 2209951307.64184999 of field S_1_GRU_ar of feature 5 not successfully written. Possibly due to too larger number with respect to field width\n",
      "  ogr_write(\n",
      "/work/comphyd_lab/users/darri/data/CONFLUENCE_data/installs/conf-env/lib/python3.11/site-packages/pyogrio/raw.py:723: RuntimeWarning: Value 2209951307.64184999 of field S_1_HRU_ar of feature 5 not successfully written. Possibly due to too larger number with respect to field width\n",
      "  ogr_write(\n",
      "/work/comphyd_lab/users/darri/data/CONFLUENCE_data/installs/conf-env/lib/python3.11/site-packages/pyogrio/raw.py:723: RuntimeWarning: Value 2211445684.05116987 of field AS1 of feature 5 not successfully written. Possibly due to too larger number with respect to field width\n",
      "  ogr_write(\n",
      "/work/comphyd_lab/users/darri/data/CONFLUENCE_data/installs/conf-env/lib/python3.11/site-packages/pyogrio/raw.py:723: RuntimeWarning: Value 485478527.571654856 of field AS2 of feature 5 not successfully written. Possibly due to too larger number with respect to field width\n",
      "  ogr_write(\n",
      "/work/comphyd_lab/users/darri/data/CONFLUENCE_data/installs/conf-env/lib/python3.11/site-packages/pyogrio/raw.py:723: RuntimeWarning: Value 101239263.261881739 of field AINT of feature 5 not successfully written. Possibly due to too larger number with respect to field width\n",
      "  ogr_write(\n",
      "/work/comphyd_lab/users/darri/data/CONFLUENCE_data/installs/conf-env/lib/python3.11/site-packages/pyogrio/raw.py:723: RuntimeWarning: Value 2209951307.64184999 of field S_1_GRU_ar of feature 6 not successfully written. Possibly due to too larger number with respect to field width\n",
      "  ogr_write(\n",
      "/work/comphyd_lab/users/darri/data/CONFLUENCE_data/installs/conf-env/lib/python3.11/site-packages/pyogrio/raw.py:723: RuntimeWarning: Value 2209951307.64184999 of field S_1_HRU_ar of feature 6 not successfully written. Possibly due to too larger number with respect to field width\n",
      "  ogr_write(\n",
      "/work/comphyd_lab/users/darri/data/CONFLUENCE_data/installs/conf-env/lib/python3.11/site-packages/pyogrio/raw.py:723: RuntimeWarning: Value 2211445684.05116987 of field AS1 of feature 6 not successfully written. Possibly due to too larger number with respect to field width\n",
      "  ogr_write(\n",
      "/work/comphyd_lab/users/darri/data/CONFLUENCE_data/installs/conf-env/lib/python3.11/site-packages/pyogrio/raw.py:723: RuntimeWarning: Value 485478527.571617365 of field AS2 of feature 6 not successfully written. Possibly due to too larger number with respect to field width\n",
      "  ogr_write(\n",
      "/work/comphyd_lab/users/darri/data/CONFLUENCE_data/installs/conf-env/lib/python3.11/site-packages/pyogrio/raw.py:723: RuntimeWarning: Value 381966797.838591218 of field AINT of feature 6 not successfully written. Possibly due to too larger number with respect to field width\n",
      "  ogr_write(\n",
      "/work/comphyd_lab/users/darri/data/CONFLUENCE_data/installs/conf-env/lib/python3.11/site-packages/pyogrio/raw.py:723: RuntimeWarning: Value 2209951307.64184999 of field S_1_GRU_ar of feature 7 not successfully written. Possibly due to too larger number with respect to field width\n",
      "  ogr_write(\n",
      "/work/comphyd_lab/users/darri/data/CONFLUENCE_data/installs/conf-env/lib/python3.11/site-packages/pyogrio/raw.py:723: RuntimeWarning: Value 2209951307.64184999 of field S_1_HRU_ar of feature 7 not successfully written. Possibly due to too larger number with respect to field width\n",
      "  ogr_write(\n",
      "/work/comphyd_lab/users/darri/data/CONFLUENCE_data/installs/conf-env/lib/python3.11/site-packages/pyogrio/raw.py:723: RuntimeWarning: Value 2211445684.05116987 of field AS1 of feature 7 not successfully written. Possibly due to too larger number with respect to field width\n",
      "  ogr_write(\n",
      "/work/comphyd_lab/users/darri/data/CONFLUENCE_data/installs/conf-env/lib/python3.11/site-packages/pyogrio/raw.py:723: RuntimeWarning: Value 485478527.571542382 of field AS2 of feature 7 not successfully written. Possibly due to too larger number with respect to field width\n",
      "  ogr_write(\n",
      "/work/comphyd_lab/users/darri/data/CONFLUENCE_data/installs/conf-env/lib/python3.11/site-packages/pyogrio/raw.py:723: RuntimeWarning: Value 400507293.97707963 of field AINT of feature 7 not successfully written. Possibly due to too larger number with respect to field width\n",
      "  ogr_write(\n",
      "/work/comphyd_lab/users/darri/data/CONFLUENCE_data/installs/conf-env/lib/python3.11/site-packages/pyogrio/raw.py:723: RuntimeWarning: Value 2209951307.64184999 of field S_1_GRU_ar of feature 8 not successfully written. Possibly due to too larger number with respect to field width\n",
      "  ogr_write(\n",
      "/work/comphyd_lab/users/darri/data/CONFLUENCE_data/installs/conf-env/lib/python3.11/site-packages/pyogrio/raw.py:723: RuntimeWarning: Value 2209951307.64184999 of field S_1_HRU_ar of feature 8 not successfully written. Possibly due to too larger number with respect to field width\n",
      "  ogr_write(\n",
      "/work/comphyd_lab/users/darri/data/CONFLUENCE_data/installs/conf-env/lib/python3.11/site-packages/pyogrio/raw.py:723: RuntimeWarning: Value 2211445684.05116987 of field AS1 of feature 8 not successfully written. Possibly due to too larger number with respect to field width\n",
      "  ogr_write(\n",
      "/work/comphyd_lab/users/darri/data/CONFLUENCE_data/installs/conf-env/lib/python3.11/site-packages/pyogrio/raw.py:723: RuntimeWarning: Value 482862192.655931294 of field AS2 of feature 8 not successfully written. Possibly due to too larger number with respect to field width\n",
      "  ogr_write(\n",
      "/work/comphyd_lab/users/darri/data/CONFLUENCE_data/installs/conf-env/lib/python3.11/site-packages/pyogrio/raw.py:723: RuntimeWarning: Value 426152743.35519594 of field AINT of feature 8 not successfully written. Possibly due to too larger number with respect to field width\n",
      "  ogr_write(\n",
      "/work/comphyd_lab/users/darri/data/CONFLUENCE_data/installs/conf-env/lib/python3.11/site-packages/pyogrio/raw.py:723: RuntimeWarning: Value 2209951307.64184999 of field S_1_GRU_ar of feature 9 not successfully written. Possibly due to too larger number with respect to field width\n",
      "  ogr_write(\n",
      "/work/comphyd_lab/users/darri/data/CONFLUENCE_data/installs/conf-env/lib/python3.11/site-packages/pyogrio/raw.py:723: RuntimeWarning: Value 2209951307.64184999 of field S_1_HRU_ar of feature 9 not successfully written. Possibly due to too larger number with respect to field width\n",
      "  ogr_write(\n",
      "/work/comphyd_lab/users/darri/data/CONFLUENCE_data/installs/conf-env/lib/python3.11/site-packages/pyogrio/raw.py:723: RuntimeWarning: Value 2211445684.05116987 of field AS1 of feature 9 not successfully written. Possibly due to too larger number with respect to field width\n",
      "  ogr_write(\n",
      "/work/comphyd_lab/users/darri/data/CONFLUENCE_data/installs/conf-env/lib/python3.11/site-packages/pyogrio/raw.py:723: RuntimeWarning: Value 482862192.655893981 of field AS2 of feature 9 not successfully written. Possibly due to too larger number with respect to field width\n",
      "  ogr_write(\n",
      "/work/comphyd_lab/users/darri/data/CONFLUENCE_data/installs/conf-env/lib/python3.11/site-packages/pyogrio/raw.py:723: RuntimeWarning: Value 245401321.890637785 of field AINT of feature 9 not successfully written. Possibly due to too larger number with respect to field width\n",
      "  ogr_write(\n",
      "/work/comphyd_lab/users/darri/data/CONFLUENCE_data/installs/conf-env/lib/python3.11/site-packages/pyogrio/raw.py:723: RuntimeWarning: Value 2209951307.64184999 of field S_1_GRU_ar of feature 10 not successfully written. Possibly due to too larger number with respect to field width\n",
      "  ogr_write(\n",
      "/work/comphyd_lab/users/darri/data/CONFLUENCE_data/installs/conf-env/lib/python3.11/site-packages/pyogrio/raw.py:723: RuntimeWarning: Value 2209951307.64184999 of field S_1_HRU_ar of feature 10 not successfully written. Possibly due to too larger number with respect to field width\n",
      "  ogr_write(\n",
      "/work/comphyd_lab/users/darri/data/CONFLUENCE_data/installs/conf-env/lib/python3.11/site-packages/pyogrio/raw.py:723: RuntimeWarning: Value 2211445684.05116987 of field AS1 of feature 10 not successfully written. Possibly due to too larger number with respect to field width\n",
      "  ogr_write(\n",
      "/work/comphyd_lab/users/darri/data/CONFLUENCE_data/installs/conf-env/lib/python3.11/site-packages/pyogrio/raw.py:723: RuntimeWarning: Value 480236308.728175938 of field AS2 of feature 10 not successfully written. Possibly due to too larger number with respect to field width\n",
      "  ogr_write(\n",
      "/work/comphyd_lab/users/darri/data/CONFLUENCE_data/installs/conf-env/lib/python3.11/site-packages/pyogrio/raw.py:723: RuntimeWarning: Value 134972139.708831787 of field AINT of feature 10 not successfully written. Possibly due to too larger number with respect to field width\n",
      "  ogr_write(\n",
      "/work/comphyd_lab/users/darri/data/CONFLUENCE_data/installs/conf-env/lib/python3.11/site-packages/pyogrio/raw.py:723: RuntimeWarning: Value 2209951307.64184999 of field S_1_GRU_ar of feature 11 not successfully written. Possibly due to too larger number with respect to field width\n",
      "  ogr_write(\n",
      "/work/comphyd_lab/users/darri/data/CONFLUENCE_data/installs/conf-env/lib/python3.11/site-packages/pyogrio/raw.py:723: RuntimeWarning: Value 2209951307.64184999 of field S_1_HRU_ar of feature 11 not successfully written. Possibly due to too larger number with respect to field width\n",
      "  ogr_write(\n",
      "/work/comphyd_lab/users/darri/data/CONFLUENCE_data/installs/conf-env/lib/python3.11/site-packages/pyogrio/raw.py:723: RuntimeWarning: Value 2211445684.05116987 of field AS1 of feature 11 not successfully written. Possibly due to too larger number with respect to field width\n",
      "  ogr_write(\n",
      "/work/comphyd_lab/users/darri/data/CONFLUENCE_data/installs/conf-env/lib/python3.11/site-packages/pyogrio/raw.py:723: RuntimeWarning: Value 480236308.72810179 of field AS2 of feature 11 not successfully written. Possibly due to too larger number with respect to field width\n",
      "  ogr_write(\n",
      "/work/comphyd_lab/users/darri/data/CONFLUENCE_data/installs/conf-env/lib/python3.11/site-packages/pyogrio/raw.py:723: RuntimeWarning: Value 2209951307.64184999 of field S_1_GRU_ar of feature 12 not successfully written. Possibly due to too larger number with respect to field width\n",
      "  ogr_write(\n",
      "/work/comphyd_lab/users/darri/data/CONFLUENCE_data/installs/conf-env/lib/python3.11/site-packages/pyogrio/raw.py:723: RuntimeWarning: Value 2209951307.64184999 of field S_1_HRU_ar of feature 12 not successfully written. Possibly due to too larger number with respect to field width\n",
      "  ogr_write(\n",
      "/work/comphyd_lab/users/darri/data/CONFLUENCE_data/installs/conf-env/lib/python3.11/site-packages/pyogrio/raw.py:723: RuntimeWarning: Value 2211445684.05116987 of field AS1 of feature 12 not successfully written. Possibly due to too larger number with respect to field width\n",
      "  ogr_write(\n",
      "/work/comphyd_lab/users/darri/data/CONFLUENCE_data/installs/conf-env/lib/python3.11/site-packages/pyogrio/raw.py:723: RuntimeWarning: Value 480236308.728138864 of field AS2 of feature 12 not successfully written. Possibly due to too larger number with respect to field width\n",
      "  ogr_write(\n",
      "2025-05-11 15:14:18,023 - pyogrio._io - INFO - Created 13 records\n",
      "/work/comphyd_lab/users/darri/data/CONFLUENCE_data/installs/conf-env/lib/python3.11/site-packages/easymore/remapper.py:558: DeprecationWarning: dropping variables using `drop` is deprecated; use drop_vars.\n",
      "  attr = attr.drop('index')\n"
     ]
    },
    {
     "name": "stdout",
     "output_type": "stream",
     "text": [
      "Ended at date and time 2025-05-11 15:14:18.976897\n",
      "It took 1.611907 seconds to finish creating of the remapping file\n",
      "---------------------------\n",
      "Running within a SLURM job.\n",
      "SLURM environment variables found: ['SLURM_JOBID', 'SLURM_JOB_NAME', 'SLURM_NODELIST']\n",
      "------REMAPPING------\n",
      "netcdf output file will be compressed at level 4\n",
      "Remapping /work/comphyd_lab/data/CONFLUENCE_data/domain_Bow_at_Banff_lumped/forcing/raw_data/domain_Bow_at_Banff_lumped_ERA5_merged_201801.nc to /work/comphyd_lab/data/CONFLUENCE_data/domain_Bow_at_Banff_lumped/forcing/basin_averaged_data/Bow_at_Banff_lumped_ERA5_remapped_domain_Bow_at_Banff_lumped_ERA5_merged_201801.nc \n",
      "Started at date and time 2025-05-11 15:14:19.065367 \n",
      "Ended at date and time 2025-05-11 15:14:41.847840 \n",
      "It took 22.782473 seconds to finish the remapping of variable(s) \n",
      "---------------------\n",
      "---------------------\n",
      "15:14:41 - INFO - Worker 0: Successfully processed domain_Bow_at_Banff_lumped_ERA5_merged_201801.nc in 24.82 seconds\n"
     ]
    },
    {
     "name": "stderr",
     "output_type": "stream",
     "text": [
      "2025-05-11 15:14:41,933 - confluence_general - INFO - Worker 0: Successfully processed domain_Bow_at_Banff_lumped_ERA5_merged_201801.nc in 24.82 seconds\n"
     ]
    },
    {
     "name": "stdout",
     "output_type": "stream",
     "text": [
      "15:14:41 - INFO - Worker 0: Processing file domain_Bow_at_Banff_lumped_ERA5_merged_201802.nc\n"
     ]
    },
    {
     "name": "stderr",
     "output_type": "stream",
     "text": [
      "2025-05-11 15:14:41,935 - confluence_general - INFO - Worker 0: Processing file domain_Bow_at_Banff_lumped_ERA5_merged_201802.nc\n"
     ]
    },
    {
     "name": "stdout",
     "output_type": "stream",
     "text": [
      "EASYMORE version 2.0.0 is initiated.\n",
      "EASYMORE is given multiple variables for remapping but only one format and fill value. EASYMORE repeats the format and fill value for all the variables in output files\n",
      "EASYMORE will remap variable  airpres  from source file to variable  airpres  in remapped netCDF file\n",
      "EASYMORE will remap variable  LWRadAtm  from source file to variable  LWRadAtm  in remapped netCDF file\n",
      "EASYMORE will remap variable  SWRadAtm  from source file to variable  SWRadAtm  in remapped netCDF file\n",
      "EASYMORE will remap variable  pptrate  from source file to variable  pptrate  in remapped netCDF file\n",
      "EASYMORE will remap variable  airtemp  from source file to variable  airtemp  in remapped netCDF file\n",
      "EASYMORE will remap variable  spechum  from source file to variable  spechum  in remapped netCDF file\n",
      "EASYMORE will remap variable  windspd  from source file to variable  windspd  in remapped netCDF file\n",
      "EASYMORE detects that the variables from the netCDF files are identicalin dimensions of the variables and latitude and longitude\n",
      "EASYMORE detects that all the variables have dimensions of:\n",
      "['time', 'latitude', 'longitude']\n",
      "EASYMORE detects that the longitude variables has dimensions of:\n",
      "['longitude']\n",
      "EASYMORE detects that the latitude variables has dimensions of:\n",
      "['latitude']\n",
      "--CREATING-REMAPPING-FILE--\n",
      "Started at date and time 2025-05-11 15:14:42.171875\n",
      "EASYMORE detects that target shapefile is in WGS84 (epsg:4326)\n",
      "EASYMORE detects that the field for ID is provided in sink/target shapefile\n",
      "EASYMORE detects that the field latitude is provided in sink/target shapefile\n",
      "EASYMORE detects that the field longitude is provided in sink/target shapefile\n",
      "it seems everything is OK with the sink/target shapefile; added to EASYMORE object target_shp_gpd\n"
     ]
    },
    {
     "name": "stderr",
     "output_type": "stream",
     "text": [
      "/work/comphyd_lab/users/darri/data/CONFLUENCE_data/installs/conf-env/lib/python3.11/site-packages/pyogrio/raw.py:723: RuntimeWarning: Value 2209951307.64184999 of field GRU_area of feature 0 not successfully written. Possibly due to too larger number with respect to field width\n",
      "  ogr_write(\n",
      "/work/comphyd_lab/users/darri/data/CONFLUENCE_data/installs/conf-env/lib/python3.11/site-packages/pyogrio/raw.py:723: RuntimeWarning: Value 2209951307.64184999 of field HRU_area of feature 0 not successfully written. Possibly due to too larger number with respect to field width\n",
      "  ogr_write(\n",
      "2025-05-11 15:14:42,208 - pyogrio._io - INFO - Created 1 records\n"
     ]
    },
    {
     "name": "stdout",
     "output_type": "stream",
     "text": [
      "EASYMORE saved target shapefile for EASYMORE claculation as:\n",
      "/work/comphyd_lab/data/CONFLUENCE_data/domain_Bow_at_Banff_lumped/forcing/temp_easymore_25299ea2_0/Bow_at_Banff_lumped_ERA5_target_shapefile.shp\n",
      "EASYMORE detects case 1 - regular lat/lon\n"
     ]
    },
    {
     "name": "stderr",
     "output_type": "stream",
     "text": [
      "2025-05-11 15:14:42,253 - pyogrio._io - INFO - Created 42 records\n"
     ]
    },
    {
     "name": "stdout",
     "output_type": "stream",
     "text": [
      "/work/comphyd_lab/data/CONFLUENCE_data/domain_Bow_at_Banff_lumped/forcing/temp_easymore_25299ea2_0/Bow_at_Banff_lumped_ERA5_source_shapefile.shp\n",
      "EASYMORE created the shapefile from the netCDF file and saved it here:\n",
      "EASMORE detects that target shapefile is inside the boundary of source netCDF file  and therefore correction for longitude values -180 to 180 or 0 to 360 is not performed even if  the correction_shp_lon flag is set to True [default is True]\n"
     ]
    },
    {
     "name": "stderr",
     "output_type": "stream",
     "text": [
      "/work/comphyd_lab/users/darri/data/CONFLUENCE_data/installs/conf-env/lib/python3.11/site-packages/pyogrio/raw.py:723: RuntimeWarning: Value 2209951307.64184999 of field GRU_area of feature 0 not successfully written. Possibly due to too larger number with respect to field width\n",
      "  ogr_write(\n",
      "/work/comphyd_lab/users/darri/data/CONFLUENCE_data/installs/conf-env/lib/python3.11/site-packages/pyogrio/raw.py:723: RuntimeWarning: Value 2209951307.64184999 of field HRU_area of feature 0 not successfully written. Possibly due to too larger number with respect to field width\n",
      "  ogr_write(\n",
      "2025-05-11 15:14:42,296 - pyogrio._io - INFO - Created 1 records\n",
      "2025-05-11 15:14:42,314 - pyogrio._io - INFO - Created 42 records\n",
      "/work/comphyd_lab/users/darri/data/CONFLUENCE_data/installs/conf-env/lib/python3.11/site-packages/pyogrio/raw.py:723: RuntimeWarning: Value 2209951307.64184999 of field GRU_area of feature 0 not successfully written. Possibly due to too larger number with respect to field width\n",
      "  ogr_write(\n",
      "/work/comphyd_lab/users/darri/data/CONFLUENCE_data/installs/conf-env/lib/python3.11/site-packages/pyogrio/raw.py:723: RuntimeWarning: Value 2209951307.64184999 of field HRU_area of feature 0 not successfully written. Possibly due to too larger number with respect to field width\n",
      "  ogr_write(\n",
      "2025-05-11 15:14:42,341 - pyogrio._io - INFO - Created 1 records\n",
      "2025-05-11 15:14:42,369 - pyogrio._io - INFO - Created 42 records\n",
      "/work/comphyd_lab/users/darri/data/CONFLUENCE_data/installs/conf-env/lib/python3.11/site-packages/easymore/remapper.py:521: UserWarning: Column names longer than 10 characters will be truncated when saved to ESRI Shapefile.\n",
      "  shp_int.to_file(self.temp_dir+self.case_name+'_intersected_shapefile.shp') # save the intersected files\n",
      "/work/comphyd_lab/users/darri/data/CONFLUENCE_data/installs/conf-env/lib/python3.11/site-packages/pyogrio/raw.py:723: RuntimeWarning: Normalized/laundered field name: 'S_1_gru_to_seg' to 'S_1_gru_to'\n",
      "  ogr_write(\n",
      "/work/comphyd_lab/users/darri/data/CONFLUENCE_data/installs/conf-env/lib/python3.11/site-packages/pyogrio/raw.py:723: RuntimeWarning: Normalized/laundered field name: 'S_1_GRU_area' to 'S_1_GRU_ar'\n",
      "  ogr_write(\n",
      "/work/comphyd_lab/users/darri/data/CONFLUENCE_data/installs/conf-env/lib/python3.11/site-packages/pyogrio/raw.py:723: RuntimeWarning: Normalized/laundered field name: 'S_1_hru_type' to 'S_1_hru_ty'\n",
      "  ogr_write(\n",
      "/work/comphyd_lab/users/darri/data/CONFLUENCE_data/installs/conf-env/lib/python3.11/site-packages/pyogrio/raw.py:723: RuntimeWarning: Normalized/laundered field name: 'S_1_elev_mean' to 'S_1_elev_m'\n",
      "  ogr_write(\n",
      "/work/comphyd_lab/users/darri/data/CONFLUENCE_data/installs/conf-env/lib/python3.11/site-packages/pyogrio/raw.py:723: RuntimeWarning: Normalized/laundered field name: 'S_1_center_lon' to 'S_1_center'\n",
      "  ogr_write(\n",
      "/work/comphyd_lab/users/darri/data/CONFLUENCE_data/installs/conf-env/lib/python3.11/site-packages/pyogrio/raw.py:723: RuntimeWarning: Normalized/laundered field name: 'S_1_center_lat' to 'S_1_cent_1'\n",
      "  ogr_write(\n",
      "/work/comphyd_lab/users/darri/data/CONFLUENCE_data/installs/conf-env/lib/python3.11/site-packages/pyogrio/raw.py:723: RuntimeWarning: Normalized/laundered field name: 'S_1_HRU_area' to 'S_1_HRU_ar'\n",
      "  ogr_write(\n",
      "/work/comphyd_lab/users/darri/data/CONFLUENCE_data/installs/conf-env/lib/python3.11/site-packages/pyogrio/raw.py:723: RuntimeWarning: Value 2209951307.64184999 of field S_1_GRU_ar of feature 0 not successfully written. Possibly due to too larger number with respect to field width\n",
      "  ogr_write(\n",
      "/work/comphyd_lab/users/darri/data/CONFLUENCE_data/installs/conf-env/lib/python3.11/site-packages/pyogrio/raw.py:723: RuntimeWarning: Value 2209951307.64184999 of field S_1_HRU_ar of feature 0 not successfully written. Possibly due to too larger number with respect to field width\n",
      "  ogr_write(\n",
      "/work/comphyd_lab/users/darri/data/CONFLUENCE_data/installs/conf-env/lib/python3.11/site-packages/pyogrio/raw.py:723: RuntimeWarning: Value 2211445684.05116987 of field AS1 of feature 0 not successfully written. Possibly due to too larger number with respect to field width\n",
      "  ogr_write(\n",
      "/work/comphyd_lab/users/darri/data/CONFLUENCE_data/installs/conf-env/lib/python3.11/site-packages/pyogrio/raw.py:723: RuntimeWarning: Value 488085265.984459698 of field AS2 of feature 0 not successfully written. Possibly due to too larger number with respect to field width\n",
      "  ogr_write(\n",
      "/work/comphyd_lab/users/darri/data/CONFLUENCE_data/installs/conf-env/lib/python3.11/site-packages/pyogrio/raw.py:723: RuntimeWarning: Value 165609870.262543023 of field AINT of feature 0 not successfully written. Possibly due to too larger number with respect to field width\n",
      "  ogr_write(\n",
      "/work/comphyd_lab/users/darri/data/CONFLUENCE_data/installs/conf-env/lib/python3.11/site-packages/pyogrio/raw.py:723: RuntimeWarning: Value 2209951307.64184999 of field S_1_GRU_ar of feature 1 not successfully written. Possibly due to too larger number with respect to field width\n",
      "  ogr_write(\n",
      "/work/comphyd_lab/users/darri/data/CONFLUENCE_data/installs/conf-env/lib/python3.11/site-packages/pyogrio/raw.py:723: RuntimeWarning: Value 2209951307.64184999 of field S_1_HRU_ar of feature 1 not successfully written. Possibly due to too larger number with respect to field width\n",
      "  ogr_write(\n",
      "/work/comphyd_lab/users/darri/data/CONFLUENCE_data/installs/conf-env/lib/python3.11/site-packages/pyogrio/raw.py:723: RuntimeWarning: Value 2211445684.05116987 of field AS1 of feature 1 not successfully written. Possibly due to too larger number with respect to field width\n",
      "  ogr_write(\n",
      "/work/comphyd_lab/users/darri/data/CONFLUENCE_data/installs/conf-env/lib/python3.11/site-packages/pyogrio/raw.py:723: RuntimeWarning: Value 488085265.984535098 of field AS2 of feature 1 not successfully written. Possibly due to too larger number with respect to field width\n",
      "  ogr_write(\n",
      "/work/comphyd_lab/users/darri/data/CONFLUENCE_data/installs/conf-env/lib/python3.11/site-packages/pyogrio/raw.py:723: RuntimeWarning: Value 2209951307.64184999 of field S_1_GRU_ar of feature 2 not successfully written. Possibly due to too larger number with respect to field width\n",
      "  ogr_write(\n",
      "/work/comphyd_lab/users/darri/data/CONFLUENCE_data/installs/conf-env/lib/python3.11/site-packages/pyogrio/raw.py:723: RuntimeWarning: Value 2209951307.64184999 of field S_1_HRU_ar of feature 2 not successfully written. Possibly due to too larger number with respect to field width\n",
      "  ogr_write(\n",
      "/work/comphyd_lab/users/darri/data/CONFLUENCE_data/installs/conf-env/lib/python3.11/site-packages/pyogrio/raw.py:723: RuntimeWarning: Value 2211445684.05116987 of field AS1 of feature 2 not successfully written. Possibly due to too larger number with respect to field width\n",
      "  ogr_write(\n",
      "/work/comphyd_lab/users/darri/data/CONFLUENCE_data/installs/conf-env/lib/python3.11/site-packages/pyogrio/raw.py:723: RuntimeWarning: Value 485478527.571617365 of field AS2 of feature 2 not successfully written. Possibly due to too larger number with respect to field width\n",
      "  ogr_write(\n",
      "/work/comphyd_lab/users/darri/data/CONFLUENCE_data/installs/conf-env/lib/python3.11/site-packages/pyogrio/raw.py:723: RuntimeWarning: Value 2209951307.64184999 of field S_1_GRU_ar of feature 3 not successfully written. Possibly due to too larger number with respect to field width\n",
      "  ogr_write(\n",
      "/work/comphyd_lab/users/darri/data/CONFLUENCE_data/installs/conf-env/lib/python3.11/site-packages/pyogrio/raw.py:723: RuntimeWarning: Value 2209951307.64184999 of field S_1_HRU_ar of feature 3 not successfully written. Possibly due to too larger number with respect to field width\n",
      "  ogr_write(\n",
      "/work/comphyd_lab/users/darri/data/CONFLUENCE_data/installs/conf-env/lib/python3.11/site-packages/pyogrio/raw.py:723: RuntimeWarning: Value 2211445684.05116987 of field AS1 of feature 3 not successfully written. Possibly due to too larger number with respect to field width\n",
      "  ogr_write(\n",
      "/work/comphyd_lab/users/darri/data/CONFLUENCE_data/installs/conf-env/lib/python3.11/site-packages/pyogrio/raw.py:723: RuntimeWarning: Value 482862192.655856669 of field AS2 of feature 3 not successfully written. Possibly due to too larger number with respect to field width\n",
      "  ogr_write(\n",
      "/work/comphyd_lab/users/darri/data/CONFLUENCE_data/installs/conf-env/lib/python3.11/site-packages/pyogrio/raw.py:723: RuntimeWarning: Value 2209951307.64184999 of field S_1_GRU_ar of feature 4 not successfully written. Possibly due to too larger number with respect to field width\n",
      "  ogr_write(\n",
      "/work/comphyd_lab/users/darri/data/CONFLUENCE_data/installs/conf-env/lib/python3.11/site-packages/pyogrio/raw.py:723: RuntimeWarning: Value 2209951307.64184999 of field S_1_HRU_ar of feature 4 not successfully written. Possibly due to too larger number with respect to field width\n",
      "  ogr_write(\n",
      "/work/comphyd_lab/users/darri/data/CONFLUENCE_data/installs/conf-env/lib/python3.11/site-packages/pyogrio/raw.py:723: RuntimeWarning: Value 2211445684.05116987 of field AS1 of feature 4 not successfully written. Possibly due to too larger number with respect to field width\n",
      "  ogr_write(\n",
      "/work/comphyd_lab/users/darri/data/CONFLUENCE_data/installs/conf-env/lib/python3.11/site-packages/pyogrio/raw.py:723: RuntimeWarning: Value 488085265.984535098 of field AS2 of feature 4 not successfully written. Possibly due to too larger number with respect to field width\n",
      "  ogr_write(\n",
      "/work/comphyd_lab/users/darri/data/CONFLUENCE_data/installs/conf-env/lib/python3.11/site-packages/pyogrio/raw.py:723: RuntimeWarning: Value 2209951307.64184999 of field S_1_GRU_ar of feature 5 not successfully written. Possibly due to too larger number with respect to field width\n",
      "  ogr_write(\n",
      "/work/comphyd_lab/users/darri/data/CONFLUENCE_data/installs/conf-env/lib/python3.11/site-packages/pyogrio/raw.py:723: RuntimeWarning: Value 2209951307.64184999 of field S_1_HRU_ar of feature 5 not successfully written. Possibly due to too larger number with respect to field width\n",
      "  ogr_write(\n",
      "/work/comphyd_lab/users/darri/data/CONFLUENCE_data/installs/conf-env/lib/python3.11/site-packages/pyogrio/raw.py:723: RuntimeWarning: Value 2211445684.05116987 of field AS1 of feature 5 not successfully written. Possibly due to too larger number with respect to field width\n",
      "  ogr_write(\n",
      "/work/comphyd_lab/users/darri/data/CONFLUENCE_data/installs/conf-env/lib/python3.11/site-packages/pyogrio/raw.py:723: RuntimeWarning: Value 485478527.571654856 of field AS2 of feature 5 not successfully written. Possibly due to too larger number with respect to field width\n",
      "  ogr_write(\n",
      "/work/comphyd_lab/users/darri/data/CONFLUENCE_data/installs/conf-env/lib/python3.11/site-packages/pyogrio/raw.py:723: RuntimeWarning: Value 101239263.261881739 of field AINT of feature 5 not successfully written. Possibly due to too larger number with respect to field width\n",
      "  ogr_write(\n",
      "/work/comphyd_lab/users/darri/data/CONFLUENCE_data/installs/conf-env/lib/python3.11/site-packages/pyogrio/raw.py:723: RuntimeWarning: Value 2209951307.64184999 of field S_1_GRU_ar of feature 6 not successfully written. Possibly due to too larger number with respect to field width\n",
      "  ogr_write(\n",
      "/work/comphyd_lab/users/darri/data/CONFLUENCE_data/installs/conf-env/lib/python3.11/site-packages/pyogrio/raw.py:723: RuntimeWarning: Value 2209951307.64184999 of field S_1_HRU_ar of feature 6 not successfully written. Possibly due to too larger number with respect to field width\n",
      "  ogr_write(\n",
      "/work/comphyd_lab/users/darri/data/CONFLUENCE_data/installs/conf-env/lib/python3.11/site-packages/pyogrio/raw.py:723: RuntimeWarning: Value 2211445684.05116987 of field AS1 of feature 6 not successfully written. Possibly due to too larger number with respect to field width\n",
      "  ogr_write(\n",
      "/work/comphyd_lab/users/darri/data/CONFLUENCE_data/installs/conf-env/lib/python3.11/site-packages/pyogrio/raw.py:723: RuntimeWarning: Value 485478527.571617365 of field AS2 of feature 6 not successfully written. Possibly due to too larger number with respect to field width\n",
      "  ogr_write(\n",
      "/work/comphyd_lab/users/darri/data/CONFLUENCE_data/installs/conf-env/lib/python3.11/site-packages/pyogrio/raw.py:723: RuntimeWarning: Value 381966797.838591218 of field AINT of feature 6 not successfully written. Possibly due to too larger number with respect to field width\n",
      "  ogr_write(\n",
      "/work/comphyd_lab/users/darri/data/CONFLUENCE_data/installs/conf-env/lib/python3.11/site-packages/pyogrio/raw.py:723: RuntimeWarning: Value 2209951307.64184999 of field S_1_GRU_ar of feature 7 not successfully written. Possibly due to too larger number with respect to field width\n",
      "  ogr_write(\n",
      "/work/comphyd_lab/users/darri/data/CONFLUENCE_data/installs/conf-env/lib/python3.11/site-packages/pyogrio/raw.py:723: RuntimeWarning: Value 2209951307.64184999 of field S_1_HRU_ar of feature 7 not successfully written. Possibly due to too larger number with respect to field width\n",
      "  ogr_write(\n",
      "/work/comphyd_lab/users/darri/data/CONFLUENCE_data/installs/conf-env/lib/python3.11/site-packages/pyogrio/raw.py:723: RuntimeWarning: Value 2211445684.05116987 of field AS1 of feature 7 not successfully written. Possibly due to too larger number with respect to field width\n",
      "  ogr_write(\n",
      "/work/comphyd_lab/users/darri/data/CONFLUENCE_data/installs/conf-env/lib/python3.11/site-packages/pyogrio/raw.py:723: RuntimeWarning: Value 485478527.571542382 of field AS2 of feature 7 not successfully written. Possibly due to too larger number with respect to field width\n",
      "  ogr_write(\n",
      "/work/comphyd_lab/users/darri/data/CONFLUENCE_data/installs/conf-env/lib/python3.11/site-packages/pyogrio/raw.py:723: RuntimeWarning: Value 400507293.97707963 of field AINT of feature 7 not successfully written. Possibly due to too larger number with respect to field width\n",
      "  ogr_write(\n",
      "/work/comphyd_lab/users/darri/data/CONFLUENCE_data/installs/conf-env/lib/python3.11/site-packages/pyogrio/raw.py:723: RuntimeWarning: Value 2209951307.64184999 of field S_1_GRU_ar of feature 8 not successfully written. Possibly due to too larger number with respect to field width\n",
      "  ogr_write(\n",
      "/work/comphyd_lab/users/darri/data/CONFLUENCE_data/installs/conf-env/lib/python3.11/site-packages/pyogrio/raw.py:723: RuntimeWarning: Value 2209951307.64184999 of field S_1_HRU_ar of feature 8 not successfully written. Possibly due to too larger number with respect to field width\n",
      "  ogr_write(\n",
      "/work/comphyd_lab/users/darri/data/CONFLUENCE_data/installs/conf-env/lib/python3.11/site-packages/pyogrio/raw.py:723: RuntimeWarning: Value 2211445684.05116987 of field AS1 of feature 8 not successfully written. Possibly due to too larger number with respect to field width\n",
      "  ogr_write(\n",
      "/work/comphyd_lab/users/darri/data/CONFLUENCE_data/installs/conf-env/lib/python3.11/site-packages/pyogrio/raw.py:723: RuntimeWarning: Value 482862192.655931294 of field AS2 of feature 8 not successfully written. Possibly due to too larger number with respect to field width\n",
      "  ogr_write(\n",
      "/work/comphyd_lab/users/darri/data/CONFLUENCE_data/installs/conf-env/lib/python3.11/site-packages/pyogrio/raw.py:723: RuntimeWarning: Value 426152743.35519594 of field AINT of feature 8 not successfully written. Possibly due to too larger number with respect to field width\n",
      "  ogr_write(\n",
      "/work/comphyd_lab/users/darri/data/CONFLUENCE_data/installs/conf-env/lib/python3.11/site-packages/pyogrio/raw.py:723: RuntimeWarning: Value 2209951307.64184999 of field S_1_GRU_ar of feature 9 not successfully written. Possibly due to too larger number with respect to field width\n",
      "  ogr_write(\n",
      "/work/comphyd_lab/users/darri/data/CONFLUENCE_data/installs/conf-env/lib/python3.11/site-packages/pyogrio/raw.py:723: RuntimeWarning: Value 2209951307.64184999 of field S_1_HRU_ar of feature 9 not successfully written. Possibly due to too larger number with respect to field width\n",
      "  ogr_write(\n",
      "/work/comphyd_lab/users/darri/data/CONFLUENCE_data/installs/conf-env/lib/python3.11/site-packages/pyogrio/raw.py:723: RuntimeWarning: Value 2211445684.05116987 of field AS1 of feature 9 not successfully written. Possibly due to too larger number with respect to field width\n",
      "  ogr_write(\n",
      "/work/comphyd_lab/users/darri/data/CONFLUENCE_data/installs/conf-env/lib/python3.11/site-packages/pyogrio/raw.py:723: RuntimeWarning: Value 482862192.655893981 of field AS2 of feature 9 not successfully written. Possibly due to too larger number with respect to field width\n",
      "  ogr_write(\n",
      "/work/comphyd_lab/users/darri/data/CONFLUENCE_data/installs/conf-env/lib/python3.11/site-packages/pyogrio/raw.py:723: RuntimeWarning: Value 245401321.890637785 of field AINT of feature 9 not successfully written. Possibly due to too larger number with respect to field width\n",
      "  ogr_write(\n",
      "/work/comphyd_lab/users/darri/data/CONFLUENCE_data/installs/conf-env/lib/python3.11/site-packages/pyogrio/raw.py:723: RuntimeWarning: Value 2209951307.64184999 of field S_1_GRU_ar of feature 10 not successfully written. Possibly due to too larger number with respect to field width\n",
      "  ogr_write(\n",
      "/work/comphyd_lab/users/darri/data/CONFLUENCE_data/installs/conf-env/lib/python3.11/site-packages/pyogrio/raw.py:723: RuntimeWarning: Value 2209951307.64184999 of field S_1_HRU_ar of feature 10 not successfully written. Possibly due to too larger number with respect to field width\n",
      "  ogr_write(\n",
      "/work/comphyd_lab/users/darri/data/CONFLUENCE_data/installs/conf-env/lib/python3.11/site-packages/pyogrio/raw.py:723: RuntimeWarning: Value 2211445684.05116987 of field AS1 of feature 10 not successfully written. Possibly due to too larger number with respect to field width\n",
      "  ogr_write(\n",
      "/work/comphyd_lab/users/darri/data/CONFLUENCE_data/installs/conf-env/lib/python3.11/site-packages/pyogrio/raw.py:723: RuntimeWarning: Value 480236308.728175938 of field AS2 of feature 10 not successfully written. Possibly due to too larger number with respect to field width\n",
      "  ogr_write(\n",
      "/work/comphyd_lab/users/darri/data/CONFLUENCE_data/installs/conf-env/lib/python3.11/site-packages/pyogrio/raw.py:723: RuntimeWarning: Value 134972139.708831787 of field AINT of feature 10 not successfully written. Possibly due to too larger number with respect to field width\n",
      "  ogr_write(\n",
      "/work/comphyd_lab/users/darri/data/CONFLUENCE_data/installs/conf-env/lib/python3.11/site-packages/pyogrio/raw.py:723: RuntimeWarning: Value 2209951307.64184999 of field S_1_GRU_ar of feature 11 not successfully written. Possibly due to too larger number with respect to field width\n",
      "  ogr_write(\n",
      "/work/comphyd_lab/users/darri/data/CONFLUENCE_data/installs/conf-env/lib/python3.11/site-packages/pyogrio/raw.py:723: RuntimeWarning: Value 2209951307.64184999 of field S_1_HRU_ar of feature 11 not successfully written. Possibly due to too larger number with respect to field width\n",
      "  ogr_write(\n",
      "/work/comphyd_lab/users/darri/data/CONFLUENCE_data/installs/conf-env/lib/python3.11/site-packages/pyogrio/raw.py:723: RuntimeWarning: Value 2211445684.05116987 of field AS1 of feature 11 not successfully written. Possibly due to too larger number with respect to field width\n",
      "  ogr_write(\n",
      "/work/comphyd_lab/users/darri/data/CONFLUENCE_data/installs/conf-env/lib/python3.11/site-packages/pyogrio/raw.py:723: RuntimeWarning: Value 480236308.72810179 of field AS2 of feature 11 not successfully written. Possibly due to too larger number with respect to field width\n",
      "  ogr_write(\n",
      "/work/comphyd_lab/users/darri/data/CONFLUENCE_data/installs/conf-env/lib/python3.11/site-packages/pyogrio/raw.py:723: RuntimeWarning: Value 2209951307.64184999 of field S_1_GRU_ar of feature 12 not successfully written. Possibly due to too larger number with respect to field width\n",
      "  ogr_write(\n",
      "/work/comphyd_lab/users/darri/data/CONFLUENCE_data/installs/conf-env/lib/python3.11/site-packages/pyogrio/raw.py:723: RuntimeWarning: Value 2209951307.64184999 of field S_1_HRU_ar of feature 12 not successfully written. Possibly due to too larger number with respect to field width\n",
      "  ogr_write(\n",
      "/work/comphyd_lab/users/darri/data/CONFLUENCE_data/installs/conf-env/lib/python3.11/site-packages/pyogrio/raw.py:723: RuntimeWarning: Value 2211445684.05116987 of field AS1 of feature 12 not successfully written. Possibly due to too larger number with respect to field width\n",
      "  ogr_write(\n",
      "/work/comphyd_lab/users/darri/data/CONFLUENCE_data/installs/conf-env/lib/python3.11/site-packages/pyogrio/raw.py:723: RuntimeWarning: Value 480236308.728138864 of field AS2 of feature 12 not successfully written. Possibly due to too larger number with respect to field width\n",
      "  ogr_write(\n",
      "2025-05-11 15:14:42,529 - pyogrio._io - INFO - Created 13 records\n",
      "/work/comphyd_lab/users/darri/data/CONFLUENCE_data/installs/conf-env/lib/python3.11/site-packages/easymore/remapper.py:558: DeprecationWarning: dropping variables using `drop` is deprecated; use drop_vars.\n",
      "  attr = attr.drop('index')\n"
     ]
    },
    {
     "name": "stdout",
     "output_type": "stream",
     "text": [
      "Ended at date and time 2025-05-11 15:14:42.637824\n",
      "It took 0.465949 seconds to finish creating of the remapping file\n",
      "---------------------------\n",
      "Running within a SLURM job.\n",
      "SLURM environment variables found: ['SLURM_JOBID', 'SLURM_JOB_NAME', 'SLURM_NODELIST']\n",
      "------REMAPPING------\n",
      "netcdf output file will be compressed at level 4\n",
      "Remapping /work/comphyd_lab/data/CONFLUENCE_data/domain_Bow_at_Banff_lumped/forcing/raw_data/domain_Bow_at_Banff_lumped_ERA5_merged_201802.nc to /work/comphyd_lab/data/CONFLUENCE_data/domain_Bow_at_Banff_lumped/forcing/basin_averaged_data/Bow_at_Banff_lumped_ERA5_remapped_domain_Bow_at_Banff_lumped_ERA5_merged_201802.nc \n",
      "Started at date and time 2025-05-11 15:14:42.713374 \n",
      "Ended at date and time 2025-05-11 15:15:03.219357 \n",
      "It took 20.505983 seconds to finish the remapping of variable(s) \n",
      "---------------------\n",
      "---------------------\n",
      "15:15:03 - INFO - Worker 0: Successfully processed domain_Bow_at_Banff_lumped_ERA5_merged_201802.nc in 21.34 seconds\n"
     ]
    },
    {
     "name": "stderr",
     "output_type": "stream",
     "text": [
      "2025-05-11 15:15:03,279 - confluence_general - INFO - Worker 0: Successfully processed domain_Bow_at_Banff_lumped_ERA5_merged_201802.nc in 21.34 seconds\n"
     ]
    },
    {
     "name": "stdout",
     "output_type": "stream",
     "text": [
      "15:15:03 - INFO - Worker 0: Processing file domain_Bow_at_Banff_lumped_ERA5_merged_201803.nc\n"
     ]
    },
    {
     "name": "stderr",
     "output_type": "stream",
     "text": [
      "2025-05-11 15:15:03,282 - confluence_general - INFO - Worker 0: Processing file domain_Bow_at_Banff_lumped_ERA5_merged_201803.nc\n"
     ]
    },
    {
     "name": "stdout",
     "output_type": "stream",
     "text": [
      "EASYMORE version 2.0.0 is initiated.\n",
      "EASYMORE is given multiple variables for remapping but only one format and fill value. EASYMORE repeats the format and fill value for all the variables in output files\n",
      "EASYMORE will remap variable  airpres  from source file to variable  airpres  in remapped netCDF file\n",
      "EASYMORE will remap variable  LWRadAtm  from source file to variable  LWRadAtm  in remapped netCDF file\n",
      "EASYMORE will remap variable  SWRadAtm  from source file to variable  SWRadAtm  in remapped netCDF file\n",
      "EASYMORE will remap variable  pptrate  from source file to variable  pptrate  in remapped netCDF file\n",
      "EASYMORE will remap variable  airtemp  from source file to variable  airtemp  in remapped netCDF file\n",
      "EASYMORE will remap variable  spechum  from source file to variable  spechum  in remapped netCDF file\n",
      "EASYMORE will remap variable  windspd  from source file to variable  windspd  in remapped netCDF file\n",
      "EASYMORE detects that the variables from the netCDF files are identicalin dimensions of the variables and latitude and longitude\n",
      "EASYMORE detects that all the variables have dimensions of:\n",
      "['time', 'latitude', 'longitude']\n",
      "EASYMORE detects that the longitude variables has dimensions of:\n",
      "['longitude']\n",
      "EASYMORE detects that the latitude variables has dimensions of:\n",
      "['latitude']\n",
      "--CREATING-REMAPPING-FILE--\n",
      "Started at date and time 2025-05-11 15:15:03.466834\n",
      "EASYMORE detects that target shapefile is in WGS84 (epsg:4326)\n",
      "EASYMORE detects that the field for ID is provided in sink/target shapefile\n",
      "EASYMORE detects that the field latitude is provided in sink/target shapefile\n",
      "EASYMORE detects that the field longitude is provided in sink/target shapefile\n",
      "it seems everything is OK with the sink/target shapefile; added to EASYMORE object target_shp_gpd\n"
     ]
    },
    {
     "name": "stderr",
     "output_type": "stream",
     "text": [
      "/work/comphyd_lab/users/darri/data/CONFLUENCE_data/installs/conf-env/lib/python3.11/site-packages/pyogrio/raw.py:723: RuntimeWarning: Value 2209951307.64184999 of field GRU_area of feature 0 not successfully written. Possibly due to too larger number with respect to field width\n",
      "  ogr_write(\n",
      "/work/comphyd_lab/users/darri/data/CONFLUENCE_data/installs/conf-env/lib/python3.11/site-packages/pyogrio/raw.py:723: RuntimeWarning: Value 2209951307.64184999 of field HRU_area of feature 0 not successfully written. Possibly due to too larger number with respect to field width\n",
      "  ogr_write(\n",
      "2025-05-11 15:15:03,530 - pyogrio._io - INFO - Created 1 records\n"
     ]
    },
    {
     "name": "stdout",
     "output_type": "stream",
     "text": [
      "EASYMORE saved target shapefile for EASYMORE claculation as:\n",
      "/work/comphyd_lab/data/CONFLUENCE_data/domain_Bow_at_Banff_lumped/forcing/temp_easymore_7b861cbd_0/Bow_at_Banff_lumped_ERA5_target_shapefile.shp\n",
      "EASYMORE detects case 1 - regular lat/lon\n"
     ]
    },
    {
     "name": "stderr",
     "output_type": "stream",
     "text": [
      "2025-05-11 15:15:03,589 - pyogrio._io - INFO - Created 42 records\n"
     ]
    },
    {
     "name": "stdout",
     "output_type": "stream",
     "text": [
      "/work/comphyd_lab/data/CONFLUENCE_data/domain_Bow_at_Banff_lumped/forcing/temp_easymore_7b861cbd_0/Bow_at_Banff_lumped_ERA5_source_shapefile.shp\n",
      "EASYMORE created the shapefile from the netCDF file and saved it here:\n",
      "EASMORE detects that target shapefile is inside the boundary of source netCDF file  and therefore correction for longitude values -180 to 180 or 0 to 360 is not performed even if  the correction_shp_lon flag is set to True [default is True]\n"
     ]
    },
    {
     "name": "stderr",
     "output_type": "stream",
     "text": [
      "/work/comphyd_lab/users/darri/data/CONFLUENCE_data/installs/conf-env/lib/python3.11/site-packages/pyogrio/raw.py:723: RuntimeWarning: Value 2209951307.64184999 of field GRU_area of feature 0 not successfully written. Possibly due to too larger number with respect to field width\n",
      "  ogr_write(\n",
      "/work/comphyd_lab/users/darri/data/CONFLUENCE_data/installs/conf-env/lib/python3.11/site-packages/pyogrio/raw.py:723: RuntimeWarning: Value 2209951307.64184999 of field HRU_area of feature 0 not successfully written. Possibly due to too larger number with respect to field width\n",
      "  ogr_write(\n",
      "2025-05-11 15:15:03,645 - pyogrio._io - INFO - Created 1 records\n",
      "2025-05-11 15:15:03,668 - pyogrio._io - INFO - Created 42 records\n",
      "/work/comphyd_lab/users/darri/data/CONFLUENCE_data/installs/conf-env/lib/python3.11/site-packages/pyogrio/raw.py:723: RuntimeWarning: Value 2209951307.64184999 of field GRU_area of feature 0 not successfully written. Possibly due to too larger number with respect to field width\n",
      "  ogr_write(\n",
      "/work/comphyd_lab/users/darri/data/CONFLUENCE_data/installs/conf-env/lib/python3.11/site-packages/pyogrio/raw.py:723: RuntimeWarning: Value 2209951307.64184999 of field HRU_area of feature 0 not successfully written. Possibly due to too larger number with respect to field width\n",
      "  ogr_write(\n",
      "2025-05-11 15:15:03,696 - pyogrio._io - INFO - Created 1 records\n",
      "2025-05-11 15:15:03,754 - pyogrio._io - INFO - Created 42 records\n",
      "/work/comphyd_lab/users/darri/data/CONFLUENCE_data/installs/conf-env/lib/python3.11/site-packages/easymore/remapper.py:521: UserWarning: Column names longer than 10 characters will be truncated when saved to ESRI Shapefile.\n",
      "  shp_int.to_file(self.temp_dir+self.case_name+'_intersected_shapefile.shp') # save the intersected files\n",
      "/work/comphyd_lab/users/darri/data/CONFLUENCE_data/installs/conf-env/lib/python3.11/site-packages/pyogrio/raw.py:723: RuntimeWarning: Normalized/laundered field name: 'S_1_gru_to_seg' to 'S_1_gru_to'\n",
      "  ogr_write(\n",
      "/work/comphyd_lab/users/darri/data/CONFLUENCE_data/installs/conf-env/lib/python3.11/site-packages/pyogrio/raw.py:723: RuntimeWarning: Normalized/laundered field name: 'S_1_GRU_area' to 'S_1_GRU_ar'\n",
      "  ogr_write(\n",
      "/work/comphyd_lab/users/darri/data/CONFLUENCE_data/installs/conf-env/lib/python3.11/site-packages/pyogrio/raw.py:723: RuntimeWarning: Normalized/laundered field name: 'S_1_hru_type' to 'S_1_hru_ty'\n",
      "  ogr_write(\n",
      "/work/comphyd_lab/users/darri/data/CONFLUENCE_data/installs/conf-env/lib/python3.11/site-packages/pyogrio/raw.py:723: RuntimeWarning: Normalized/laundered field name: 'S_1_elev_mean' to 'S_1_elev_m'\n",
      "  ogr_write(\n",
      "/work/comphyd_lab/users/darri/data/CONFLUENCE_data/installs/conf-env/lib/python3.11/site-packages/pyogrio/raw.py:723: RuntimeWarning: Normalized/laundered field name: 'S_1_center_lon' to 'S_1_center'\n",
      "  ogr_write(\n",
      "/work/comphyd_lab/users/darri/data/CONFLUENCE_data/installs/conf-env/lib/python3.11/site-packages/pyogrio/raw.py:723: RuntimeWarning: Normalized/laundered field name: 'S_1_center_lat' to 'S_1_cent_1'\n",
      "  ogr_write(\n",
      "/work/comphyd_lab/users/darri/data/CONFLUENCE_data/installs/conf-env/lib/python3.11/site-packages/pyogrio/raw.py:723: RuntimeWarning: Normalized/laundered field name: 'S_1_HRU_area' to 'S_1_HRU_ar'\n",
      "  ogr_write(\n",
      "/work/comphyd_lab/users/darri/data/CONFLUENCE_data/installs/conf-env/lib/python3.11/site-packages/pyogrio/raw.py:723: RuntimeWarning: Value 2209951307.64184999 of field S_1_GRU_ar of feature 0 not successfully written. Possibly due to too larger number with respect to field width\n",
      "  ogr_write(\n",
      "/work/comphyd_lab/users/darri/data/CONFLUENCE_data/installs/conf-env/lib/python3.11/site-packages/pyogrio/raw.py:723: RuntimeWarning: Value 2209951307.64184999 of field S_1_HRU_ar of feature 0 not successfully written. Possibly due to too larger number with respect to field width\n",
      "  ogr_write(\n",
      "/work/comphyd_lab/users/darri/data/CONFLUENCE_data/installs/conf-env/lib/python3.11/site-packages/pyogrio/raw.py:723: RuntimeWarning: Value 2211445684.05116987 of field AS1 of feature 0 not successfully written. Possibly due to too larger number with respect to field width\n",
      "  ogr_write(\n",
      "/work/comphyd_lab/users/darri/data/CONFLUENCE_data/installs/conf-env/lib/python3.11/site-packages/pyogrio/raw.py:723: RuntimeWarning: Value 488085265.984459698 of field AS2 of feature 0 not successfully written. Possibly due to too larger number with respect to field width\n",
      "  ogr_write(\n",
      "/work/comphyd_lab/users/darri/data/CONFLUENCE_data/installs/conf-env/lib/python3.11/site-packages/pyogrio/raw.py:723: RuntimeWarning: Value 165609870.262543023 of field AINT of feature 0 not successfully written. Possibly due to too larger number with respect to field width\n",
      "  ogr_write(\n",
      "/work/comphyd_lab/users/darri/data/CONFLUENCE_data/installs/conf-env/lib/python3.11/site-packages/pyogrio/raw.py:723: RuntimeWarning: Value 2209951307.64184999 of field S_1_GRU_ar of feature 1 not successfully written. Possibly due to too larger number with respect to field width\n",
      "  ogr_write(\n",
      "/work/comphyd_lab/users/darri/data/CONFLUENCE_data/installs/conf-env/lib/python3.11/site-packages/pyogrio/raw.py:723: RuntimeWarning: Value 2209951307.64184999 of field S_1_HRU_ar of feature 1 not successfully written. Possibly due to too larger number with respect to field width\n",
      "  ogr_write(\n",
      "/work/comphyd_lab/users/darri/data/CONFLUENCE_data/installs/conf-env/lib/python3.11/site-packages/pyogrio/raw.py:723: RuntimeWarning: Value 2211445684.05116987 of field AS1 of feature 1 not successfully written. Possibly due to too larger number with respect to field width\n",
      "  ogr_write(\n",
      "/work/comphyd_lab/users/darri/data/CONFLUENCE_data/installs/conf-env/lib/python3.11/site-packages/pyogrio/raw.py:723: RuntimeWarning: Value 488085265.984535098 of field AS2 of feature 1 not successfully written. Possibly due to too larger number with respect to field width\n",
      "  ogr_write(\n",
      "/work/comphyd_lab/users/darri/data/CONFLUENCE_data/installs/conf-env/lib/python3.11/site-packages/pyogrio/raw.py:723: RuntimeWarning: Value 2209951307.64184999 of field S_1_GRU_ar of feature 2 not successfully written. Possibly due to too larger number with respect to field width\n",
      "  ogr_write(\n",
      "/work/comphyd_lab/users/darri/data/CONFLUENCE_data/installs/conf-env/lib/python3.11/site-packages/pyogrio/raw.py:723: RuntimeWarning: Value 2209951307.64184999 of field S_1_HRU_ar of feature 2 not successfully written. Possibly due to too larger number with respect to field width\n",
      "  ogr_write(\n",
      "/work/comphyd_lab/users/darri/data/CONFLUENCE_data/installs/conf-env/lib/python3.11/site-packages/pyogrio/raw.py:723: RuntimeWarning: Value 2211445684.05116987 of field AS1 of feature 2 not successfully written. Possibly due to too larger number with respect to field width\n",
      "  ogr_write(\n",
      "/work/comphyd_lab/users/darri/data/CONFLUENCE_data/installs/conf-env/lib/python3.11/site-packages/pyogrio/raw.py:723: RuntimeWarning: Value 485478527.571617365 of field AS2 of feature 2 not successfully written. Possibly due to too larger number with respect to field width\n",
      "  ogr_write(\n",
      "/work/comphyd_lab/users/darri/data/CONFLUENCE_data/installs/conf-env/lib/python3.11/site-packages/pyogrio/raw.py:723: RuntimeWarning: Value 2209951307.64184999 of field S_1_GRU_ar of feature 3 not successfully written. Possibly due to too larger number with respect to field width\n",
      "  ogr_write(\n",
      "/work/comphyd_lab/users/darri/data/CONFLUENCE_data/installs/conf-env/lib/python3.11/site-packages/pyogrio/raw.py:723: RuntimeWarning: Value 2209951307.64184999 of field S_1_HRU_ar of feature 3 not successfully written. Possibly due to too larger number with respect to field width\n",
      "  ogr_write(\n",
      "/work/comphyd_lab/users/darri/data/CONFLUENCE_data/installs/conf-env/lib/python3.11/site-packages/pyogrio/raw.py:723: RuntimeWarning: Value 2211445684.05116987 of field AS1 of feature 3 not successfully written. Possibly due to too larger number with respect to field width\n",
      "  ogr_write(\n",
      "/work/comphyd_lab/users/darri/data/CONFLUENCE_data/installs/conf-env/lib/python3.11/site-packages/pyogrio/raw.py:723: RuntimeWarning: Value 482862192.655856669 of field AS2 of feature 3 not successfully written. Possibly due to too larger number with respect to field width\n",
      "  ogr_write(\n",
      "/work/comphyd_lab/users/darri/data/CONFLUENCE_data/installs/conf-env/lib/python3.11/site-packages/pyogrio/raw.py:723: RuntimeWarning: Value 2209951307.64184999 of field S_1_GRU_ar of feature 4 not successfully written. Possibly due to too larger number with respect to field width\n",
      "  ogr_write(\n",
      "/work/comphyd_lab/users/darri/data/CONFLUENCE_data/installs/conf-env/lib/python3.11/site-packages/pyogrio/raw.py:723: RuntimeWarning: Value 2209951307.64184999 of field S_1_HRU_ar of feature 4 not successfully written. Possibly due to too larger number with respect to field width\n",
      "  ogr_write(\n",
      "/work/comphyd_lab/users/darri/data/CONFLUENCE_data/installs/conf-env/lib/python3.11/site-packages/pyogrio/raw.py:723: RuntimeWarning: Value 2211445684.05116987 of field AS1 of feature 4 not successfully written. Possibly due to too larger number with respect to field width\n",
      "  ogr_write(\n",
      "/work/comphyd_lab/users/darri/data/CONFLUENCE_data/installs/conf-env/lib/python3.11/site-packages/pyogrio/raw.py:723: RuntimeWarning: Value 488085265.984535098 of field AS2 of feature 4 not successfully written. Possibly due to too larger number with respect to field width\n",
      "  ogr_write(\n",
      "/work/comphyd_lab/users/darri/data/CONFLUENCE_data/installs/conf-env/lib/python3.11/site-packages/pyogrio/raw.py:723: RuntimeWarning: Value 2209951307.64184999 of field S_1_GRU_ar of feature 5 not successfully written. Possibly due to too larger number with respect to field width\n",
      "  ogr_write(\n",
      "/work/comphyd_lab/users/darri/data/CONFLUENCE_data/installs/conf-env/lib/python3.11/site-packages/pyogrio/raw.py:723: RuntimeWarning: Value 2209951307.64184999 of field S_1_HRU_ar of feature 5 not successfully written. Possibly due to too larger number with respect to field width\n",
      "  ogr_write(\n",
      "/work/comphyd_lab/users/darri/data/CONFLUENCE_data/installs/conf-env/lib/python3.11/site-packages/pyogrio/raw.py:723: RuntimeWarning: Value 2211445684.05116987 of field AS1 of feature 5 not successfully written. Possibly due to too larger number with respect to field width\n",
      "  ogr_write(\n",
      "/work/comphyd_lab/users/darri/data/CONFLUENCE_data/installs/conf-env/lib/python3.11/site-packages/pyogrio/raw.py:723: RuntimeWarning: Value 485478527.571654856 of field AS2 of feature 5 not successfully written. Possibly due to too larger number with respect to field width\n",
      "  ogr_write(\n",
      "/work/comphyd_lab/users/darri/data/CONFLUENCE_data/installs/conf-env/lib/python3.11/site-packages/pyogrio/raw.py:723: RuntimeWarning: Value 101239263.261881739 of field AINT of feature 5 not successfully written. Possibly due to too larger number with respect to field width\n",
      "  ogr_write(\n",
      "/work/comphyd_lab/users/darri/data/CONFLUENCE_data/installs/conf-env/lib/python3.11/site-packages/pyogrio/raw.py:723: RuntimeWarning: Value 2209951307.64184999 of field S_1_GRU_ar of feature 6 not successfully written. Possibly due to too larger number with respect to field width\n",
      "  ogr_write(\n",
      "/work/comphyd_lab/users/darri/data/CONFLUENCE_data/installs/conf-env/lib/python3.11/site-packages/pyogrio/raw.py:723: RuntimeWarning: Value 2209951307.64184999 of field S_1_HRU_ar of feature 6 not successfully written. Possibly due to too larger number with respect to field width\n",
      "  ogr_write(\n",
      "/work/comphyd_lab/users/darri/data/CONFLUENCE_data/installs/conf-env/lib/python3.11/site-packages/pyogrio/raw.py:723: RuntimeWarning: Value 2211445684.05116987 of field AS1 of feature 6 not successfully written. Possibly due to too larger number with respect to field width\n",
      "  ogr_write(\n",
      "/work/comphyd_lab/users/darri/data/CONFLUENCE_data/installs/conf-env/lib/python3.11/site-packages/pyogrio/raw.py:723: RuntimeWarning: Value 485478527.571617365 of field AS2 of feature 6 not successfully written. Possibly due to too larger number with respect to field width\n",
      "  ogr_write(\n",
      "/work/comphyd_lab/users/darri/data/CONFLUENCE_data/installs/conf-env/lib/python3.11/site-packages/pyogrio/raw.py:723: RuntimeWarning: Value 381966797.838591218 of field AINT of feature 6 not successfully written. Possibly due to too larger number with respect to field width\n",
      "  ogr_write(\n",
      "/work/comphyd_lab/users/darri/data/CONFLUENCE_data/installs/conf-env/lib/python3.11/site-packages/pyogrio/raw.py:723: RuntimeWarning: Value 2209951307.64184999 of field S_1_GRU_ar of feature 7 not successfully written. Possibly due to too larger number with respect to field width\n",
      "  ogr_write(\n",
      "/work/comphyd_lab/users/darri/data/CONFLUENCE_data/installs/conf-env/lib/python3.11/site-packages/pyogrio/raw.py:723: RuntimeWarning: Value 2209951307.64184999 of field S_1_HRU_ar of feature 7 not successfully written. Possibly due to too larger number with respect to field width\n",
      "  ogr_write(\n",
      "/work/comphyd_lab/users/darri/data/CONFLUENCE_data/installs/conf-env/lib/python3.11/site-packages/pyogrio/raw.py:723: RuntimeWarning: Value 2211445684.05116987 of field AS1 of feature 7 not successfully written. Possibly due to too larger number with respect to field width\n",
      "  ogr_write(\n",
      "/work/comphyd_lab/users/darri/data/CONFLUENCE_data/installs/conf-env/lib/python3.11/site-packages/pyogrio/raw.py:723: RuntimeWarning: Value 485478527.571542382 of field AS2 of feature 7 not successfully written. Possibly due to too larger number with respect to field width\n",
      "  ogr_write(\n",
      "/work/comphyd_lab/users/darri/data/CONFLUENCE_data/installs/conf-env/lib/python3.11/site-packages/pyogrio/raw.py:723: RuntimeWarning: Value 400507293.97707963 of field AINT of feature 7 not successfully written. Possibly due to too larger number with respect to field width\n",
      "  ogr_write(\n",
      "/work/comphyd_lab/users/darri/data/CONFLUENCE_data/installs/conf-env/lib/python3.11/site-packages/pyogrio/raw.py:723: RuntimeWarning: Value 2209951307.64184999 of field S_1_GRU_ar of feature 8 not successfully written. Possibly due to too larger number with respect to field width\n",
      "  ogr_write(\n",
      "/work/comphyd_lab/users/darri/data/CONFLUENCE_data/installs/conf-env/lib/python3.11/site-packages/pyogrio/raw.py:723: RuntimeWarning: Value 2209951307.64184999 of field S_1_HRU_ar of feature 8 not successfully written. Possibly due to too larger number with respect to field width\n",
      "  ogr_write(\n",
      "/work/comphyd_lab/users/darri/data/CONFLUENCE_data/installs/conf-env/lib/python3.11/site-packages/pyogrio/raw.py:723: RuntimeWarning: Value 2211445684.05116987 of field AS1 of feature 8 not successfully written. Possibly due to too larger number with respect to field width\n",
      "  ogr_write(\n",
      "/work/comphyd_lab/users/darri/data/CONFLUENCE_data/installs/conf-env/lib/python3.11/site-packages/pyogrio/raw.py:723: RuntimeWarning: Value 482862192.655931294 of field AS2 of feature 8 not successfully written. Possibly due to too larger number with respect to field width\n",
      "  ogr_write(\n",
      "/work/comphyd_lab/users/darri/data/CONFLUENCE_data/installs/conf-env/lib/python3.11/site-packages/pyogrio/raw.py:723: RuntimeWarning: Value 426152743.35519594 of field AINT of feature 8 not successfully written. Possibly due to too larger number with respect to field width\n",
      "  ogr_write(\n",
      "/work/comphyd_lab/users/darri/data/CONFLUENCE_data/installs/conf-env/lib/python3.11/site-packages/pyogrio/raw.py:723: RuntimeWarning: Value 2209951307.64184999 of field S_1_GRU_ar of feature 9 not successfully written. Possibly due to too larger number with respect to field width\n",
      "  ogr_write(\n",
      "/work/comphyd_lab/users/darri/data/CONFLUENCE_data/installs/conf-env/lib/python3.11/site-packages/pyogrio/raw.py:723: RuntimeWarning: Value 2209951307.64184999 of field S_1_HRU_ar of feature 9 not successfully written. Possibly due to too larger number with respect to field width\n",
      "  ogr_write(\n",
      "/work/comphyd_lab/users/darri/data/CONFLUENCE_data/installs/conf-env/lib/python3.11/site-packages/pyogrio/raw.py:723: RuntimeWarning: Value 2211445684.05116987 of field AS1 of feature 9 not successfully written. Possibly due to too larger number with respect to field width\n",
      "  ogr_write(\n",
      "/work/comphyd_lab/users/darri/data/CONFLUENCE_data/installs/conf-env/lib/python3.11/site-packages/pyogrio/raw.py:723: RuntimeWarning: Value 482862192.655893981 of field AS2 of feature 9 not successfully written. Possibly due to too larger number with respect to field width\n",
      "  ogr_write(\n",
      "/work/comphyd_lab/users/darri/data/CONFLUENCE_data/installs/conf-env/lib/python3.11/site-packages/pyogrio/raw.py:723: RuntimeWarning: Value 245401321.890637785 of field AINT of feature 9 not successfully written. Possibly due to too larger number with respect to field width\n",
      "  ogr_write(\n",
      "/work/comphyd_lab/users/darri/data/CONFLUENCE_data/installs/conf-env/lib/python3.11/site-packages/pyogrio/raw.py:723: RuntimeWarning: Value 2209951307.64184999 of field S_1_GRU_ar of feature 10 not successfully written. Possibly due to too larger number with respect to field width\n",
      "  ogr_write(\n",
      "/work/comphyd_lab/users/darri/data/CONFLUENCE_data/installs/conf-env/lib/python3.11/site-packages/pyogrio/raw.py:723: RuntimeWarning: Value 2209951307.64184999 of field S_1_HRU_ar of feature 10 not successfully written. Possibly due to too larger number with respect to field width\n",
      "  ogr_write(\n",
      "/work/comphyd_lab/users/darri/data/CONFLUENCE_data/installs/conf-env/lib/python3.11/site-packages/pyogrio/raw.py:723: RuntimeWarning: Value 2211445684.05116987 of field AS1 of feature 10 not successfully written. Possibly due to too larger number with respect to field width\n",
      "  ogr_write(\n",
      "/work/comphyd_lab/users/darri/data/CONFLUENCE_data/installs/conf-env/lib/python3.11/site-packages/pyogrio/raw.py:723: RuntimeWarning: Value 480236308.728175938 of field AS2 of feature 10 not successfully written. Possibly due to too larger number with respect to field width\n",
      "  ogr_write(\n",
      "/work/comphyd_lab/users/darri/data/CONFLUENCE_data/installs/conf-env/lib/python3.11/site-packages/pyogrio/raw.py:723: RuntimeWarning: Value 134972139.708831787 of field AINT of feature 10 not successfully written. Possibly due to too larger number with respect to field width\n",
      "  ogr_write(\n",
      "/work/comphyd_lab/users/darri/data/CONFLUENCE_data/installs/conf-env/lib/python3.11/site-packages/pyogrio/raw.py:723: RuntimeWarning: Value 2209951307.64184999 of field S_1_GRU_ar of feature 11 not successfully written. Possibly due to too larger number with respect to field width\n",
      "  ogr_write(\n",
      "/work/comphyd_lab/users/darri/data/CONFLUENCE_data/installs/conf-env/lib/python3.11/site-packages/pyogrio/raw.py:723: RuntimeWarning: Value 2209951307.64184999 of field S_1_HRU_ar of feature 11 not successfully written. Possibly due to too larger number with respect to field width\n",
      "  ogr_write(\n",
      "/work/comphyd_lab/users/darri/data/CONFLUENCE_data/installs/conf-env/lib/python3.11/site-packages/pyogrio/raw.py:723: RuntimeWarning: Value 2211445684.05116987 of field AS1 of feature 11 not successfully written. Possibly due to too larger number with respect to field width\n",
      "  ogr_write(\n",
      "/work/comphyd_lab/users/darri/data/CONFLUENCE_data/installs/conf-env/lib/python3.11/site-packages/pyogrio/raw.py:723: RuntimeWarning: Value 480236308.72810179 of field AS2 of feature 11 not successfully written. Possibly due to too larger number with respect to field width\n",
      "  ogr_write(\n",
      "/work/comphyd_lab/users/darri/data/CONFLUENCE_data/installs/conf-env/lib/python3.11/site-packages/pyogrio/raw.py:723: RuntimeWarning: Value 2209951307.64184999 of field S_1_GRU_ar of feature 12 not successfully written. Possibly due to too larger number with respect to field width\n",
      "  ogr_write(\n",
      "/work/comphyd_lab/users/darri/data/CONFLUENCE_data/installs/conf-env/lib/python3.11/site-packages/pyogrio/raw.py:723: RuntimeWarning: Value 2209951307.64184999 of field S_1_HRU_ar of feature 12 not successfully written. Possibly due to too larger number with respect to field width\n",
      "  ogr_write(\n",
      "/work/comphyd_lab/users/darri/data/CONFLUENCE_data/installs/conf-env/lib/python3.11/site-packages/pyogrio/raw.py:723: RuntimeWarning: Value 2211445684.05116987 of field AS1 of feature 12 not successfully written. Possibly due to too larger number with respect to field width\n",
      "  ogr_write(\n",
      "/work/comphyd_lab/users/darri/data/CONFLUENCE_data/installs/conf-env/lib/python3.11/site-packages/pyogrio/raw.py:723: RuntimeWarning: Value 480236308.728138864 of field AS2 of feature 12 not successfully written. Possibly due to too larger number with respect to field width\n",
      "  ogr_write(\n",
      "2025-05-11 15:15:03,912 - pyogrio._io - INFO - Created 13 records\n",
      "/work/comphyd_lab/users/darri/data/CONFLUENCE_data/installs/conf-env/lib/python3.11/site-packages/easymore/remapper.py:558: DeprecationWarning: dropping variables using `drop` is deprecated; use drop_vars.\n",
      "  attr = attr.drop('index')\n"
     ]
    },
    {
     "name": "stdout",
     "output_type": "stream",
     "text": [
      "Ended at date and time 2025-05-11 15:15:04.016545\n",
      "It took 0.549711 seconds to finish creating of the remapping file\n",
      "---------------------------\n",
      "Running within a SLURM job.\n",
      "SLURM environment variables found: ['SLURM_JOBID', 'SLURM_JOB_NAME', 'SLURM_NODELIST']\n",
      "------REMAPPING------\n",
      "netcdf output file will be compressed at level 4\n",
      "Remapping /work/comphyd_lab/data/CONFLUENCE_data/domain_Bow_at_Banff_lumped/forcing/raw_data/domain_Bow_at_Banff_lumped_ERA5_merged_201803.nc to /work/comphyd_lab/data/CONFLUENCE_data/domain_Bow_at_Banff_lumped/forcing/basin_averaged_data/Bow_at_Banff_lumped_ERA5_remapped_domain_Bow_at_Banff_lumped_ERA5_merged_201803.nc \n",
      "Started at date and time 2025-05-11 15:15:04.092034 \n",
      "Ended at date and time 2025-05-11 15:15:26.714272 \n",
      "It took 22.622238 seconds to finish the remapping of variable(s) \n",
      "---------------------\n",
      "---------------------\n",
      "15:15:26 - INFO - Worker 0: Successfully processed domain_Bow_at_Banff_lumped_ERA5_merged_201803.nc in 23.51 seconds\n"
     ]
    },
    {
     "name": "stderr",
     "output_type": "stream",
     "text": [
      "2025-05-11 15:15:26,794 - confluence_general - INFO - Worker 0: Successfully processed domain_Bow_at_Banff_lumped_ERA5_merged_201803.nc in 23.51 seconds\n"
     ]
    },
    {
     "name": "stdout",
     "output_type": "stream",
     "text": [
      "15:15:26 - INFO - Worker 0: Processing file domain_Bow_at_Banff_lumped_ERA5_merged_201804.nc\n"
     ]
    },
    {
     "name": "stderr",
     "output_type": "stream",
     "text": [
      "2025-05-11 15:15:26,797 - confluence_general - INFO - Worker 0: Processing file domain_Bow_at_Banff_lumped_ERA5_merged_201804.nc\n"
     ]
    },
    {
     "name": "stdout",
     "output_type": "stream",
     "text": [
      "EASYMORE version 2.0.0 is initiated.\n",
      "EASYMORE is given multiple variables for remapping but only one format and fill value. EASYMORE repeats the format and fill value for all the variables in output files\n",
      "EASYMORE will remap variable  airpres  from source file to variable  airpres  in remapped netCDF file\n",
      "EASYMORE will remap variable  LWRadAtm  from source file to variable  LWRadAtm  in remapped netCDF file\n",
      "EASYMORE will remap variable  SWRadAtm  from source file to variable  SWRadAtm  in remapped netCDF file\n",
      "EASYMORE will remap variable  pptrate  from source file to variable  pptrate  in remapped netCDF file\n",
      "EASYMORE will remap variable  airtemp  from source file to variable  airtemp  in remapped netCDF file\n",
      "EASYMORE will remap variable  spechum  from source file to variable  spechum  in remapped netCDF file\n",
      "EASYMORE will remap variable  windspd  from source file to variable  windspd  in remapped netCDF file\n",
      "EASYMORE detects that the variables from the netCDF files are identicalin dimensions of the variables and latitude and longitude\n",
      "EASYMORE detects that all the variables have dimensions of:\n",
      "['time', 'latitude', 'longitude']\n",
      "EASYMORE detects that the longitude variables has dimensions of:\n",
      "['longitude']\n",
      "EASYMORE detects that the latitude variables has dimensions of:\n",
      "['latitude']\n",
      "--CREATING-REMAPPING-FILE--\n",
      "Started at date and time 2025-05-11 15:15:27.011609\n",
      "EASYMORE detects that target shapefile is in WGS84 (epsg:4326)\n",
      "EASYMORE detects that the field for ID is provided in sink/target shapefile\n",
      "EASYMORE detects that the field latitude is provided in sink/target shapefile\n",
      "EASYMORE detects that the field longitude is provided in sink/target shapefile\n",
      "it seems everything is OK with the sink/target shapefile; added to EASYMORE object target_shp_gpd\n"
     ]
    },
    {
     "name": "stderr",
     "output_type": "stream",
     "text": [
      "/work/comphyd_lab/users/darri/data/CONFLUENCE_data/installs/conf-env/lib/python3.11/site-packages/pyogrio/raw.py:723: RuntimeWarning: Value 2209951307.64184999 of field GRU_area of feature 0 not successfully written. Possibly due to too larger number with respect to field width\n",
      "  ogr_write(\n",
      "/work/comphyd_lab/users/darri/data/CONFLUENCE_data/installs/conf-env/lib/python3.11/site-packages/pyogrio/raw.py:723: RuntimeWarning: Value 2209951307.64184999 of field HRU_area of feature 0 not successfully written. Possibly due to too larger number with respect to field width\n",
      "  ogr_write(\n",
      "2025-05-11 15:15:27,051 - pyogrio._io - INFO - Created 1 records\n"
     ]
    },
    {
     "name": "stdout",
     "output_type": "stream",
     "text": [
      "EASYMORE saved target shapefile for EASYMORE claculation as:\n",
      "/work/comphyd_lab/data/CONFLUENCE_data/domain_Bow_at_Banff_lumped/forcing/temp_easymore_8d5cdd17_0/Bow_at_Banff_lumped_ERA5_target_shapefile.shp\n",
      "EASYMORE detects case 1 - regular lat/lon\n"
     ]
    },
    {
     "name": "stderr",
     "output_type": "stream",
     "text": [
      "2025-05-11 15:15:27,105 - pyogrio._io - INFO - Created 42 records\n"
     ]
    },
    {
     "name": "stdout",
     "output_type": "stream",
     "text": [
      "/work/comphyd_lab/data/CONFLUENCE_data/domain_Bow_at_Banff_lumped/forcing/temp_easymore_8d5cdd17_0/Bow_at_Banff_lumped_ERA5_source_shapefile.shp\n",
      "EASYMORE created the shapefile from the netCDF file and saved it here:\n",
      "EASMORE detects that target shapefile is inside the boundary of source netCDF file  and therefore correction for longitude values -180 to 180 or 0 to 360 is not performed even if  the correction_shp_lon flag is set to True [default is True]\n"
     ]
    },
    {
     "name": "stderr",
     "output_type": "stream",
     "text": [
      "/work/comphyd_lab/users/darri/data/CONFLUENCE_data/installs/conf-env/lib/python3.11/site-packages/pyogrio/raw.py:723: RuntimeWarning: Value 2209951307.64184999 of field GRU_area of feature 0 not successfully written. Possibly due to too larger number with respect to field width\n",
      "  ogr_write(\n",
      "/work/comphyd_lab/users/darri/data/CONFLUENCE_data/installs/conf-env/lib/python3.11/site-packages/pyogrio/raw.py:723: RuntimeWarning: Value 2209951307.64184999 of field HRU_area of feature 0 not successfully written. Possibly due to too larger number with respect to field width\n",
      "  ogr_write(\n",
      "2025-05-11 15:15:27,161 - pyogrio._io - INFO - Created 1 records\n",
      "2025-05-11 15:15:27,182 - pyogrio._io - INFO - Created 42 records\n",
      "/work/comphyd_lab/users/darri/data/CONFLUENCE_data/installs/conf-env/lib/python3.11/site-packages/pyogrio/raw.py:723: RuntimeWarning: Value 2209951307.64184999 of field GRU_area of feature 0 not successfully written. Possibly due to too larger number with respect to field width\n",
      "  ogr_write(\n",
      "/work/comphyd_lab/users/darri/data/CONFLUENCE_data/installs/conf-env/lib/python3.11/site-packages/pyogrio/raw.py:723: RuntimeWarning: Value 2209951307.64184999 of field HRU_area of feature 0 not successfully written. Possibly due to too larger number with respect to field width\n",
      "  ogr_write(\n",
      "2025-05-11 15:15:27,210 - pyogrio._io - INFO - Created 1 records\n",
      "2025-05-11 15:15:27,241 - pyogrio._io - INFO - Created 42 records\n",
      "/work/comphyd_lab/users/darri/data/CONFLUENCE_data/installs/conf-env/lib/python3.11/site-packages/easymore/remapper.py:521: UserWarning: Column names longer than 10 characters will be truncated when saved to ESRI Shapefile.\n",
      "  shp_int.to_file(self.temp_dir+self.case_name+'_intersected_shapefile.shp') # save the intersected files\n",
      "/work/comphyd_lab/users/darri/data/CONFLUENCE_data/installs/conf-env/lib/python3.11/site-packages/pyogrio/raw.py:723: RuntimeWarning: Normalized/laundered field name: 'S_1_gru_to_seg' to 'S_1_gru_to'\n",
      "  ogr_write(\n",
      "/work/comphyd_lab/users/darri/data/CONFLUENCE_data/installs/conf-env/lib/python3.11/site-packages/pyogrio/raw.py:723: RuntimeWarning: Normalized/laundered field name: 'S_1_GRU_area' to 'S_1_GRU_ar'\n",
      "  ogr_write(\n",
      "/work/comphyd_lab/users/darri/data/CONFLUENCE_data/installs/conf-env/lib/python3.11/site-packages/pyogrio/raw.py:723: RuntimeWarning: Normalized/laundered field name: 'S_1_hru_type' to 'S_1_hru_ty'\n",
      "  ogr_write(\n",
      "/work/comphyd_lab/users/darri/data/CONFLUENCE_data/installs/conf-env/lib/python3.11/site-packages/pyogrio/raw.py:723: RuntimeWarning: Normalized/laundered field name: 'S_1_elev_mean' to 'S_1_elev_m'\n",
      "  ogr_write(\n",
      "/work/comphyd_lab/users/darri/data/CONFLUENCE_data/installs/conf-env/lib/python3.11/site-packages/pyogrio/raw.py:723: RuntimeWarning: Normalized/laundered field name: 'S_1_center_lon' to 'S_1_center'\n",
      "  ogr_write(\n",
      "/work/comphyd_lab/users/darri/data/CONFLUENCE_data/installs/conf-env/lib/python3.11/site-packages/pyogrio/raw.py:723: RuntimeWarning: Normalized/laundered field name: 'S_1_center_lat' to 'S_1_cent_1'\n",
      "  ogr_write(\n",
      "/work/comphyd_lab/users/darri/data/CONFLUENCE_data/installs/conf-env/lib/python3.11/site-packages/pyogrio/raw.py:723: RuntimeWarning: Normalized/laundered field name: 'S_1_HRU_area' to 'S_1_HRU_ar'\n",
      "  ogr_write(\n",
      "/work/comphyd_lab/users/darri/data/CONFLUENCE_data/installs/conf-env/lib/python3.11/site-packages/pyogrio/raw.py:723: RuntimeWarning: Value 2209951307.64184999 of field S_1_GRU_ar of feature 0 not successfully written. Possibly due to too larger number with respect to field width\n",
      "  ogr_write(\n",
      "/work/comphyd_lab/users/darri/data/CONFLUENCE_data/installs/conf-env/lib/python3.11/site-packages/pyogrio/raw.py:723: RuntimeWarning: Value 2209951307.64184999 of field S_1_HRU_ar of feature 0 not successfully written. Possibly due to too larger number with respect to field width\n",
      "  ogr_write(\n",
      "/work/comphyd_lab/users/darri/data/CONFLUENCE_data/installs/conf-env/lib/python3.11/site-packages/pyogrio/raw.py:723: RuntimeWarning: Value 2211445684.05116987 of field AS1 of feature 0 not successfully written. Possibly due to too larger number with respect to field width\n",
      "  ogr_write(\n",
      "/work/comphyd_lab/users/darri/data/CONFLUENCE_data/installs/conf-env/lib/python3.11/site-packages/pyogrio/raw.py:723: RuntimeWarning: Value 488085265.984459698 of field AS2 of feature 0 not successfully written. Possibly due to too larger number with respect to field width\n",
      "  ogr_write(\n",
      "/work/comphyd_lab/users/darri/data/CONFLUENCE_data/installs/conf-env/lib/python3.11/site-packages/pyogrio/raw.py:723: RuntimeWarning: Value 165609870.262543023 of field AINT of feature 0 not successfully written. Possibly due to too larger number with respect to field width\n",
      "  ogr_write(\n",
      "/work/comphyd_lab/users/darri/data/CONFLUENCE_data/installs/conf-env/lib/python3.11/site-packages/pyogrio/raw.py:723: RuntimeWarning: Value 2209951307.64184999 of field S_1_GRU_ar of feature 1 not successfully written. Possibly due to too larger number with respect to field width\n",
      "  ogr_write(\n",
      "/work/comphyd_lab/users/darri/data/CONFLUENCE_data/installs/conf-env/lib/python3.11/site-packages/pyogrio/raw.py:723: RuntimeWarning: Value 2209951307.64184999 of field S_1_HRU_ar of feature 1 not successfully written. Possibly due to too larger number with respect to field width\n",
      "  ogr_write(\n",
      "/work/comphyd_lab/users/darri/data/CONFLUENCE_data/installs/conf-env/lib/python3.11/site-packages/pyogrio/raw.py:723: RuntimeWarning: Value 2211445684.05116987 of field AS1 of feature 1 not successfully written. Possibly due to too larger number with respect to field width\n",
      "  ogr_write(\n",
      "/work/comphyd_lab/users/darri/data/CONFLUENCE_data/installs/conf-env/lib/python3.11/site-packages/pyogrio/raw.py:723: RuntimeWarning: Value 488085265.984535098 of field AS2 of feature 1 not successfully written. Possibly due to too larger number with respect to field width\n",
      "  ogr_write(\n",
      "/work/comphyd_lab/users/darri/data/CONFLUENCE_data/installs/conf-env/lib/python3.11/site-packages/pyogrio/raw.py:723: RuntimeWarning: Value 2209951307.64184999 of field S_1_GRU_ar of feature 2 not successfully written. Possibly due to too larger number with respect to field width\n",
      "  ogr_write(\n",
      "/work/comphyd_lab/users/darri/data/CONFLUENCE_data/installs/conf-env/lib/python3.11/site-packages/pyogrio/raw.py:723: RuntimeWarning: Value 2209951307.64184999 of field S_1_HRU_ar of feature 2 not successfully written. Possibly due to too larger number with respect to field width\n",
      "  ogr_write(\n",
      "/work/comphyd_lab/users/darri/data/CONFLUENCE_data/installs/conf-env/lib/python3.11/site-packages/pyogrio/raw.py:723: RuntimeWarning: Value 2211445684.05116987 of field AS1 of feature 2 not successfully written. Possibly due to too larger number with respect to field width\n",
      "  ogr_write(\n",
      "/work/comphyd_lab/users/darri/data/CONFLUENCE_data/installs/conf-env/lib/python3.11/site-packages/pyogrio/raw.py:723: RuntimeWarning: Value 485478527.571617365 of field AS2 of feature 2 not successfully written. Possibly due to too larger number with respect to field width\n",
      "  ogr_write(\n",
      "/work/comphyd_lab/users/darri/data/CONFLUENCE_data/installs/conf-env/lib/python3.11/site-packages/pyogrio/raw.py:723: RuntimeWarning: Value 2209951307.64184999 of field S_1_GRU_ar of feature 3 not successfully written. Possibly due to too larger number with respect to field width\n",
      "  ogr_write(\n",
      "/work/comphyd_lab/users/darri/data/CONFLUENCE_data/installs/conf-env/lib/python3.11/site-packages/pyogrio/raw.py:723: RuntimeWarning: Value 2209951307.64184999 of field S_1_HRU_ar of feature 3 not successfully written. Possibly due to too larger number with respect to field width\n",
      "  ogr_write(\n",
      "/work/comphyd_lab/users/darri/data/CONFLUENCE_data/installs/conf-env/lib/python3.11/site-packages/pyogrio/raw.py:723: RuntimeWarning: Value 2211445684.05116987 of field AS1 of feature 3 not successfully written. Possibly due to too larger number with respect to field width\n",
      "  ogr_write(\n",
      "/work/comphyd_lab/users/darri/data/CONFLUENCE_data/installs/conf-env/lib/python3.11/site-packages/pyogrio/raw.py:723: RuntimeWarning: Value 482862192.655856669 of field AS2 of feature 3 not successfully written. Possibly due to too larger number with respect to field width\n",
      "  ogr_write(\n",
      "/work/comphyd_lab/users/darri/data/CONFLUENCE_data/installs/conf-env/lib/python3.11/site-packages/pyogrio/raw.py:723: RuntimeWarning: Value 2209951307.64184999 of field S_1_GRU_ar of feature 4 not successfully written. Possibly due to too larger number with respect to field width\n",
      "  ogr_write(\n",
      "/work/comphyd_lab/users/darri/data/CONFLUENCE_data/installs/conf-env/lib/python3.11/site-packages/pyogrio/raw.py:723: RuntimeWarning: Value 2209951307.64184999 of field S_1_HRU_ar of feature 4 not successfully written. Possibly due to too larger number with respect to field width\n",
      "  ogr_write(\n",
      "/work/comphyd_lab/users/darri/data/CONFLUENCE_data/installs/conf-env/lib/python3.11/site-packages/pyogrio/raw.py:723: RuntimeWarning: Value 2211445684.05116987 of field AS1 of feature 4 not successfully written. Possibly due to too larger number with respect to field width\n",
      "  ogr_write(\n",
      "/work/comphyd_lab/users/darri/data/CONFLUENCE_data/installs/conf-env/lib/python3.11/site-packages/pyogrio/raw.py:723: RuntimeWarning: Value 488085265.984535098 of field AS2 of feature 4 not successfully written. Possibly due to too larger number with respect to field width\n",
      "  ogr_write(\n",
      "/work/comphyd_lab/users/darri/data/CONFLUENCE_data/installs/conf-env/lib/python3.11/site-packages/pyogrio/raw.py:723: RuntimeWarning: Value 2209951307.64184999 of field S_1_GRU_ar of feature 5 not successfully written. Possibly due to too larger number with respect to field width\n",
      "  ogr_write(\n",
      "/work/comphyd_lab/users/darri/data/CONFLUENCE_data/installs/conf-env/lib/python3.11/site-packages/pyogrio/raw.py:723: RuntimeWarning: Value 2209951307.64184999 of field S_1_HRU_ar of feature 5 not successfully written. Possibly due to too larger number with respect to field width\n",
      "  ogr_write(\n",
      "/work/comphyd_lab/users/darri/data/CONFLUENCE_data/installs/conf-env/lib/python3.11/site-packages/pyogrio/raw.py:723: RuntimeWarning: Value 2211445684.05116987 of field AS1 of feature 5 not successfully written. Possibly due to too larger number with respect to field width\n",
      "  ogr_write(\n",
      "/work/comphyd_lab/users/darri/data/CONFLUENCE_data/installs/conf-env/lib/python3.11/site-packages/pyogrio/raw.py:723: RuntimeWarning: Value 485478527.571654856 of field AS2 of feature 5 not successfully written. Possibly due to too larger number with respect to field width\n",
      "  ogr_write(\n",
      "/work/comphyd_lab/users/darri/data/CONFLUENCE_data/installs/conf-env/lib/python3.11/site-packages/pyogrio/raw.py:723: RuntimeWarning: Value 101239263.261881739 of field AINT of feature 5 not successfully written. Possibly due to too larger number with respect to field width\n",
      "  ogr_write(\n",
      "/work/comphyd_lab/users/darri/data/CONFLUENCE_data/installs/conf-env/lib/python3.11/site-packages/pyogrio/raw.py:723: RuntimeWarning: Value 2209951307.64184999 of field S_1_GRU_ar of feature 6 not successfully written. Possibly due to too larger number with respect to field width\n",
      "  ogr_write(\n",
      "/work/comphyd_lab/users/darri/data/CONFLUENCE_data/installs/conf-env/lib/python3.11/site-packages/pyogrio/raw.py:723: RuntimeWarning: Value 2209951307.64184999 of field S_1_HRU_ar of feature 6 not successfully written. Possibly due to too larger number with respect to field width\n",
      "  ogr_write(\n",
      "/work/comphyd_lab/users/darri/data/CONFLUENCE_data/installs/conf-env/lib/python3.11/site-packages/pyogrio/raw.py:723: RuntimeWarning: Value 2211445684.05116987 of field AS1 of feature 6 not successfully written. Possibly due to too larger number with respect to field width\n",
      "  ogr_write(\n",
      "/work/comphyd_lab/users/darri/data/CONFLUENCE_data/installs/conf-env/lib/python3.11/site-packages/pyogrio/raw.py:723: RuntimeWarning: Value 485478527.571617365 of field AS2 of feature 6 not successfully written. Possibly due to too larger number with respect to field width\n",
      "  ogr_write(\n",
      "/work/comphyd_lab/users/darri/data/CONFLUENCE_data/installs/conf-env/lib/python3.11/site-packages/pyogrio/raw.py:723: RuntimeWarning: Value 381966797.838591218 of field AINT of feature 6 not successfully written. Possibly due to too larger number with respect to field width\n",
      "  ogr_write(\n",
      "/work/comphyd_lab/users/darri/data/CONFLUENCE_data/installs/conf-env/lib/python3.11/site-packages/pyogrio/raw.py:723: RuntimeWarning: Value 2209951307.64184999 of field S_1_GRU_ar of feature 7 not successfully written. Possibly due to too larger number with respect to field width\n",
      "  ogr_write(\n",
      "/work/comphyd_lab/users/darri/data/CONFLUENCE_data/installs/conf-env/lib/python3.11/site-packages/pyogrio/raw.py:723: RuntimeWarning: Value 2209951307.64184999 of field S_1_HRU_ar of feature 7 not successfully written. Possibly due to too larger number with respect to field width\n",
      "  ogr_write(\n",
      "/work/comphyd_lab/users/darri/data/CONFLUENCE_data/installs/conf-env/lib/python3.11/site-packages/pyogrio/raw.py:723: RuntimeWarning: Value 2211445684.05116987 of field AS1 of feature 7 not successfully written. Possibly due to too larger number with respect to field width\n",
      "  ogr_write(\n",
      "/work/comphyd_lab/users/darri/data/CONFLUENCE_data/installs/conf-env/lib/python3.11/site-packages/pyogrio/raw.py:723: RuntimeWarning: Value 485478527.571542382 of field AS2 of feature 7 not successfully written. Possibly due to too larger number with respect to field width\n",
      "  ogr_write(\n",
      "/work/comphyd_lab/users/darri/data/CONFLUENCE_data/installs/conf-env/lib/python3.11/site-packages/pyogrio/raw.py:723: RuntimeWarning: Value 400507293.97707963 of field AINT of feature 7 not successfully written. Possibly due to too larger number with respect to field width\n",
      "  ogr_write(\n",
      "/work/comphyd_lab/users/darri/data/CONFLUENCE_data/installs/conf-env/lib/python3.11/site-packages/pyogrio/raw.py:723: RuntimeWarning: Value 2209951307.64184999 of field S_1_GRU_ar of feature 8 not successfully written. Possibly due to too larger number with respect to field width\n",
      "  ogr_write(\n",
      "/work/comphyd_lab/users/darri/data/CONFLUENCE_data/installs/conf-env/lib/python3.11/site-packages/pyogrio/raw.py:723: RuntimeWarning: Value 2209951307.64184999 of field S_1_HRU_ar of feature 8 not successfully written. Possibly due to too larger number with respect to field width\n",
      "  ogr_write(\n",
      "/work/comphyd_lab/users/darri/data/CONFLUENCE_data/installs/conf-env/lib/python3.11/site-packages/pyogrio/raw.py:723: RuntimeWarning: Value 2211445684.05116987 of field AS1 of feature 8 not successfully written. Possibly due to too larger number with respect to field width\n",
      "  ogr_write(\n",
      "/work/comphyd_lab/users/darri/data/CONFLUENCE_data/installs/conf-env/lib/python3.11/site-packages/pyogrio/raw.py:723: RuntimeWarning: Value 482862192.655931294 of field AS2 of feature 8 not successfully written. Possibly due to too larger number with respect to field width\n",
      "  ogr_write(\n",
      "/work/comphyd_lab/users/darri/data/CONFLUENCE_data/installs/conf-env/lib/python3.11/site-packages/pyogrio/raw.py:723: RuntimeWarning: Value 426152743.35519594 of field AINT of feature 8 not successfully written. Possibly due to too larger number with respect to field width\n",
      "  ogr_write(\n",
      "/work/comphyd_lab/users/darri/data/CONFLUENCE_data/installs/conf-env/lib/python3.11/site-packages/pyogrio/raw.py:723: RuntimeWarning: Value 2209951307.64184999 of field S_1_GRU_ar of feature 9 not successfully written. Possibly due to too larger number with respect to field width\n",
      "  ogr_write(\n",
      "/work/comphyd_lab/users/darri/data/CONFLUENCE_data/installs/conf-env/lib/python3.11/site-packages/pyogrio/raw.py:723: RuntimeWarning: Value 2209951307.64184999 of field S_1_HRU_ar of feature 9 not successfully written. Possibly due to too larger number with respect to field width\n",
      "  ogr_write(\n",
      "/work/comphyd_lab/users/darri/data/CONFLUENCE_data/installs/conf-env/lib/python3.11/site-packages/pyogrio/raw.py:723: RuntimeWarning: Value 2211445684.05116987 of field AS1 of feature 9 not successfully written. Possibly due to too larger number with respect to field width\n",
      "  ogr_write(\n",
      "/work/comphyd_lab/users/darri/data/CONFLUENCE_data/installs/conf-env/lib/python3.11/site-packages/pyogrio/raw.py:723: RuntimeWarning: Value 482862192.655893981 of field AS2 of feature 9 not successfully written. Possibly due to too larger number with respect to field width\n",
      "  ogr_write(\n",
      "/work/comphyd_lab/users/darri/data/CONFLUENCE_data/installs/conf-env/lib/python3.11/site-packages/pyogrio/raw.py:723: RuntimeWarning: Value 245401321.890637785 of field AINT of feature 9 not successfully written. Possibly due to too larger number with respect to field width\n",
      "  ogr_write(\n",
      "/work/comphyd_lab/users/darri/data/CONFLUENCE_data/installs/conf-env/lib/python3.11/site-packages/pyogrio/raw.py:723: RuntimeWarning: Value 2209951307.64184999 of field S_1_GRU_ar of feature 10 not successfully written. Possibly due to too larger number with respect to field width\n",
      "  ogr_write(\n",
      "/work/comphyd_lab/users/darri/data/CONFLUENCE_data/installs/conf-env/lib/python3.11/site-packages/pyogrio/raw.py:723: RuntimeWarning: Value 2209951307.64184999 of field S_1_HRU_ar of feature 10 not successfully written. Possibly due to too larger number with respect to field width\n",
      "  ogr_write(\n",
      "/work/comphyd_lab/users/darri/data/CONFLUENCE_data/installs/conf-env/lib/python3.11/site-packages/pyogrio/raw.py:723: RuntimeWarning: Value 2211445684.05116987 of field AS1 of feature 10 not successfully written. Possibly due to too larger number with respect to field width\n",
      "  ogr_write(\n",
      "/work/comphyd_lab/users/darri/data/CONFLUENCE_data/installs/conf-env/lib/python3.11/site-packages/pyogrio/raw.py:723: RuntimeWarning: Value 480236308.728175938 of field AS2 of feature 10 not successfully written. Possibly due to too larger number with respect to field width\n",
      "  ogr_write(\n",
      "/work/comphyd_lab/users/darri/data/CONFLUENCE_data/installs/conf-env/lib/python3.11/site-packages/pyogrio/raw.py:723: RuntimeWarning: Value 134972139.708831787 of field AINT of feature 10 not successfully written. Possibly due to too larger number with respect to field width\n",
      "  ogr_write(\n",
      "/work/comphyd_lab/users/darri/data/CONFLUENCE_data/installs/conf-env/lib/python3.11/site-packages/pyogrio/raw.py:723: RuntimeWarning: Value 2209951307.64184999 of field S_1_GRU_ar of feature 11 not successfully written. Possibly due to too larger number with respect to field width\n",
      "  ogr_write(\n",
      "/work/comphyd_lab/users/darri/data/CONFLUENCE_data/installs/conf-env/lib/python3.11/site-packages/pyogrio/raw.py:723: RuntimeWarning: Value 2209951307.64184999 of field S_1_HRU_ar of feature 11 not successfully written. Possibly due to too larger number with respect to field width\n",
      "  ogr_write(\n",
      "/work/comphyd_lab/users/darri/data/CONFLUENCE_data/installs/conf-env/lib/python3.11/site-packages/pyogrio/raw.py:723: RuntimeWarning: Value 2211445684.05116987 of field AS1 of feature 11 not successfully written. Possibly due to too larger number with respect to field width\n",
      "  ogr_write(\n",
      "/work/comphyd_lab/users/darri/data/CONFLUENCE_data/installs/conf-env/lib/python3.11/site-packages/pyogrio/raw.py:723: RuntimeWarning: Value 480236308.72810179 of field AS2 of feature 11 not successfully written. Possibly due to too larger number with respect to field width\n",
      "  ogr_write(\n",
      "/work/comphyd_lab/users/darri/data/CONFLUENCE_data/installs/conf-env/lib/python3.11/site-packages/pyogrio/raw.py:723: RuntimeWarning: Value 2209951307.64184999 of field S_1_GRU_ar of feature 12 not successfully written. Possibly due to too larger number with respect to field width\n",
      "  ogr_write(\n",
      "/work/comphyd_lab/users/darri/data/CONFLUENCE_data/installs/conf-env/lib/python3.11/site-packages/pyogrio/raw.py:723: RuntimeWarning: Value 2209951307.64184999 of field S_1_HRU_ar of feature 12 not successfully written. Possibly due to too larger number with respect to field width\n",
      "  ogr_write(\n",
      "/work/comphyd_lab/users/darri/data/CONFLUENCE_data/installs/conf-env/lib/python3.11/site-packages/pyogrio/raw.py:723: RuntimeWarning: Value 2211445684.05116987 of field AS1 of feature 12 not successfully written. Possibly due to too larger number with respect to field width\n",
      "  ogr_write(\n",
      "/work/comphyd_lab/users/darri/data/CONFLUENCE_data/installs/conf-env/lib/python3.11/site-packages/pyogrio/raw.py:723: RuntimeWarning: Value 480236308.728138864 of field AS2 of feature 12 not successfully written. Possibly due to too larger number with respect to field width\n",
      "  ogr_write(\n",
      "2025-05-11 15:15:27,395 - pyogrio._io - INFO - Created 13 records\n",
      "/work/comphyd_lab/users/darri/data/CONFLUENCE_data/installs/conf-env/lib/python3.11/site-packages/easymore/remapper.py:558: DeprecationWarning: dropping variables using `drop` is deprecated; use drop_vars.\n",
      "  attr = attr.drop('index')\n"
     ]
    },
    {
     "name": "stdout",
     "output_type": "stream",
     "text": [
      "Ended at date and time 2025-05-11 15:15:27.547788\n",
      "It took 0.536179 seconds to finish creating of the remapping file\n",
      "---------------------------\n",
      "Running within a SLURM job.\n",
      "SLURM environment variables found: ['SLURM_JOBID', 'SLURM_JOB_NAME', 'SLURM_NODELIST']\n",
      "------REMAPPING------\n",
      "netcdf output file will be compressed at level 4\n",
      "Remapping /work/comphyd_lab/data/CONFLUENCE_data/domain_Bow_at_Banff_lumped/forcing/raw_data/domain_Bow_at_Banff_lumped_ERA5_merged_201804.nc to /work/comphyd_lab/data/CONFLUENCE_data/domain_Bow_at_Banff_lumped/forcing/basin_averaged_data/Bow_at_Banff_lumped_ERA5_remapped_domain_Bow_at_Banff_lumped_ERA5_merged_201804.nc \n",
      "Started at date and time 2025-05-11 15:15:27.634010 \n",
      "Ended at date and time 2025-05-11 15:15:49.479467 \n",
      "It took 21.845457 seconds to finish the remapping of variable(s) \n",
      "---------------------\n",
      "---------------------\n",
      "15:15:49 - INFO - Worker 0: Successfully processed domain_Bow_at_Banff_lumped_ERA5_merged_201804.nc in 22.78 seconds\n"
     ]
    },
    {
     "name": "stderr",
     "output_type": "stream",
     "text": [
      "2025-05-11 15:15:49,574 - confluence_general - INFO - Worker 0: Successfully processed domain_Bow_at_Banff_lumped_ERA5_merged_201804.nc in 22.78 seconds\n"
     ]
    },
    {
     "name": "stdout",
     "output_type": "stream",
     "text": [
      "15:15:49 - INFO - Worker 0: Processing file domain_Bow_at_Banff_lumped_ERA5_merged_201805.nc\n"
     ]
    },
    {
     "name": "stderr",
     "output_type": "stream",
     "text": [
      "2025-05-11 15:15:49,576 - confluence_general - INFO - Worker 0: Processing file domain_Bow_at_Banff_lumped_ERA5_merged_201805.nc\n"
     ]
    },
    {
     "name": "stdout",
     "output_type": "stream",
     "text": [
      "EASYMORE version 2.0.0 is initiated.\n",
      "EASYMORE is given multiple variables for remapping but only one format and fill value. EASYMORE repeats the format and fill value for all the variables in output files\n",
      "EASYMORE will remap variable  airpres  from source file to variable  airpres  in remapped netCDF file\n",
      "EASYMORE will remap variable  LWRadAtm  from source file to variable  LWRadAtm  in remapped netCDF file\n",
      "EASYMORE will remap variable  SWRadAtm  from source file to variable  SWRadAtm  in remapped netCDF file\n",
      "EASYMORE will remap variable  pptrate  from source file to variable  pptrate  in remapped netCDF file\n",
      "EASYMORE will remap variable  airtemp  from source file to variable  airtemp  in remapped netCDF file\n",
      "EASYMORE will remap variable  spechum  from source file to variable  spechum  in remapped netCDF file\n",
      "EASYMORE will remap variable  windspd  from source file to variable  windspd  in remapped netCDF file\n",
      "EASYMORE detects that the variables from the netCDF files are identicalin dimensions of the variables and latitude and longitude\n",
      "EASYMORE detects that all the variables have dimensions of:\n",
      "['time', 'latitude', 'longitude']\n",
      "EASYMORE detects that the longitude variables has dimensions of:\n",
      "['longitude']\n",
      "EASYMORE detects that the latitude variables has dimensions of:\n",
      "['latitude']\n",
      "--CREATING-REMAPPING-FILE--\n",
      "Started at date and time 2025-05-11 15:15:49.839373\n",
      "EASYMORE detects that target shapefile is in WGS84 (epsg:4326)\n",
      "EASYMORE detects that the field for ID is provided in sink/target shapefile\n",
      "EASYMORE detects that the field latitude is provided in sink/target shapefile\n",
      "EASYMORE detects that the field longitude is provided in sink/target shapefile\n",
      "it seems everything is OK with the sink/target shapefile; added to EASYMORE object target_shp_gpd\n"
     ]
    },
    {
     "name": "stderr",
     "output_type": "stream",
     "text": [
      "/work/comphyd_lab/users/darri/data/CONFLUENCE_data/installs/conf-env/lib/python3.11/site-packages/pyogrio/raw.py:723: RuntimeWarning: Value 2209951307.64184999 of field GRU_area of feature 0 not successfully written. Possibly due to too larger number with respect to field width\n",
      "  ogr_write(\n",
      "/work/comphyd_lab/users/darri/data/CONFLUENCE_data/installs/conf-env/lib/python3.11/site-packages/pyogrio/raw.py:723: RuntimeWarning: Value 2209951307.64184999 of field HRU_area of feature 0 not successfully written. Possibly due to too larger number with respect to field width\n",
      "  ogr_write(\n",
      "2025-05-11 15:15:49,901 - pyogrio._io - INFO - Created 1 records\n"
     ]
    },
    {
     "name": "stdout",
     "output_type": "stream",
     "text": [
      "EASYMORE saved target shapefile for EASYMORE claculation as:\n",
      "/work/comphyd_lab/data/CONFLUENCE_data/domain_Bow_at_Banff_lumped/forcing/temp_easymore_5dbfba3c_0/Bow_at_Banff_lumped_ERA5_target_shapefile.shp\n",
      "EASYMORE detects case 1 - regular lat/lon\n"
     ]
    },
    {
     "name": "stderr",
     "output_type": "stream",
     "text": [
      "2025-05-11 15:15:49,963 - pyogrio._io - INFO - Created 42 records\n"
     ]
    },
    {
     "name": "stdout",
     "output_type": "stream",
     "text": [
      "/work/comphyd_lab/data/CONFLUENCE_data/domain_Bow_at_Banff_lumped/forcing/temp_easymore_5dbfba3c_0/Bow_at_Banff_lumped_ERA5_source_shapefile.shp\n",
      "EASYMORE created the shapefile from the netCDF file and saved it here:\n",
      "EASMORE detects that target shapefile is inside the boundary of source netCDF file  and therefore correction for longitude values -180 to 180 or 0 to 360 is not performed even if  the correction_shp_lon flag is set to True [default is True]\n"
     ]
    },
    {
     "name": "stderr",
     "output_type": "stream",
     "text": [
      "/work/comphyd_lab/users/darri/data/CONFLUENCE_data/installs/conf-env/lib/python3.11/site-packages/pyogrio/raw.py:723: RuntimeWarning: Value 2209951307.64184999 of field GRU_area of feature 0 not successfully written. Possibly due to too larger number with respect to field width\n",
      "  ogr_write(\n",
      "/work/comphyd_lab/users/darri/data/CONFLUENCE_data/installs/conf-env/lib/python3.11/site-packages/pyogrio/raw.py:723: RuntimeWarning: Value 2209951307.64184999 of field HRU_area of feature 0 not successfully written. Possibly due to too larger number with respect to field width\n",
      "  ogr_write(\n",
      "2025-05-11 15:15:50,051 - pyogrio._io - INFO - Created 1 records\n",
      "2025-05-11 15:15:50,105 - pyogrio._io - INFO - Created 42 records\n",
      "/work/comphyd_lab/users/darri/data/CONFLUENCE_data/installs/conf-env/lib/python3.11/site-packages/pyogrio/raw.py:723: RuntimeWarning: Value 2209951307.64184999 of field GRU_area of feature 0 not successfully written. Possibly due to too larger number with respect to field width\n",
      "  ogr_write(\n",
      "/work/comphyd_lab/users/darri/data/CONFLUENCE_data/installs/conf-env/lib/python3.11/site-packages/pyogrio/raw.py:723: RuntimeWarning: Value 2209951307.64184999 of field HRU_area of feature 0 not successfully written. Possibly due to too larger number with respect to field width\n",
      "  ogr_write(\n",
      "2025-05-11 15:15:50,156 - pyogrio._io - INFO - Created 1 records\n",
      "2025-05-11 15:15:50,199 - pyogrio._io - INFO - Created 42 records\n",
      "/work/comphyd_lab/users/darri/data/CONFLUENCE_data/installs/conf-env/lib/python3.11/site-packages/easymore/remapper.py:521: UserWarning: Column names longer than 10 characters will be truncated when saved to ESRI Shapefile.\n",
      "  shp_int.to_file(self.temp_dir+self.case_name+'_intersected_shapefile.shp') # save the intersected files\n",
      "/work/comphyd_lab/users/darri/data/CONFLUENCE_data/installs/conf-env/lib/python3.11/site-packages/pyogrio/raw.py:723: RuntimeWarning: Normalized/laundered field name: 'S_1_gru_to_seg' to 'S_1_gru_to'\n",
      "  ogr_write(\n",
      "/work/comphyd_lab/users/darri/data/CONFLUENCE_data/installs/conf-env/lib/python3.11/site-packages/pyogrio/raw.py:723: RuntimeWarning: Normalized/laundered field name: 'S_1_GRU_area' to 'S_1_GRU_ar'\n",
      "  ogr_write(\n",
      "/work/comphyd_lab/users/darri/data/CONFLUENCE_data/installs/conf-env/lib/python3.11/site-packages/pyogrio/raw.py:723: RuntimeWarning: Normalized/laundered field name: 'S_1_hru_type' to 'S_1_hru_ty'\n",
      "  ogr_write(\n",
      "/work/comphyd_lab/users/darri/data/CONFLUENCE_data/installs/conf-env/lib/python3.11/site-packages/pyogrio/raw.py:723: RuntimeWarning: Normalized/laundered field name: 'S_1_elev_mean' to 'S_1_elev_m'\n",
      "  ogr_write(\n",
      "/work/comphyd_lab/users/darri/data/CONFLUENCE_data/installs/conf-env/lib/python3.11/site-packages/pyogrio/raw.py:723: RuntimeWarning: Normalized/laundered field name: 'S_1_center_lon' to 'S_1_center'\n",
      "  ogr_write(\n",
      "/work/comphyd_lab/users/darri/data/CONFLUENCE_data/installs/conf-env/lib/python3.11/site-packages/pyogrio/raw.py:723: RuntimeWarning: Normalized/laundered field name: 'S_1_center_lat' to 'S_1_cent_1'\n",
      "  ogr_write(\n",
      "/work/comphyd_lab/users/darri/data/CONFLUENCE_data/installs/conf-env/lib/python3.11/site-packages/pyogrio/raw.py:723: RuntimeWarning: Normalized/laundered field name: 'S_1_HRU_area' to 'S_1_HRU_ar'\n",
      "  ogr_write(\n",
      "/work/comphyd_lab/users/darri/data/CONFLUENCE_data/installs/conf-env/lib/python3.11/site-packages/pyogrio/raw.py:723: RuntimeWarning: Value 2209951307.64184999 of field S_1_GRU_ar of feature 0 not successfully written. Possibly due to too larger number with respect to field width\n",
      "  ogr_write(\n",
      "/work/comphyd_lab/users/darri/data/CONFLUENCE_data/installs/conf-env/lib/python3.11/site-packages/pyogrio/raw.py:723: RuntimeWarning: Value 2209951307.64184999 of field S_1_HRU_ar of feature 0 not successfully written. Possibly due to too larger number with respect to field width\n",
      "  ogr_write(\n",
      "/work/comphyd_lab/users/darri/data/CONFLUENCE_data/installs/conf-env/lib/python3.11/site-packages/pyogrio/raw.py:723: RuntimeWarning: Value 2211445684.05116987 of field AS1 of feature 0 not successfully written. Possibly due to too larger number with respect to field width\n",
      "  ogr_write(\n",
      "/work/comphyd_lab/users/darri/data/CONFLUENCE_data/installs/conf-env/lib/python3.11/site-packages/pyogrio/raw.py:723: RuntimeWarning: Value 488085265.984459698 of field AS2 of feature 0 not successfully written. Possibly due to too larger number with respect to field width\n",
      "  ogr_write(\n",
      "/work/comphyd_lab/users/darri/data/CONFLUENCE_data/installs/conf-env/lib/python3.11/site-packages/pyogrio/raw.py:723: RuntimeWarning: Value 165609870.262543023 of field AINT of feature 0 not successfully written. Possibly due to too larger number with respect to field width\n",
      "  ogr_write(\n",
      "/work/comphyd_lab/users/darri/data/CONFLUENCE_data/installs/conf-env/lib/python3.11/site-packages/pyogrio/raw.py:723: RuntimeWarning: Value 2209951307.64184999 of field S_1_GRU_ar of feature 1 not successfully written. Possibly due to too larger number with respect to field width\n",
      "  ogr_write(\n",
      "/work/comphyd_lab/users/darri/data/CONFLUENCE_data/installs/conf-env/lib/python3.11/site-packages/pyogrio/raw.py:723: RuntimeWarning: Value 2209951307.64184999 of field S_1_HRU_ar of feature 1 not successfully written. Possibly due to too larger number with respect to field width\n",
      "  ogr_write(\n",
      "/work/comphyd_lab/users/darri/data/CONFLUENCE_data/installs/conf-env/lib/python3.11/site-packages/pyogrio/raw.py:723: RuntimeWarning: Value 2211445684.05116987 of field AS1 of feature 1 not successfully written. Possibly due to too larger number with respect to field width\n",
      "  ogr_write(\n",
      "/work/comphyd_lab/users/darri/data/CONFLUENCE_data/installs/conf-env/lib/python3.11/site-packages/pyogrio/raw.py:723: RuntimeWarning: Value 488085265.984535098 of field AS2 of feature 1 not successfully written. Possibly due to too larger number with respect to field width\n",
      "  ogr_write(\n",
      "/work/comphyd_lab/users/darri/data/CONFLUENCE_data/installs/conf-env/lib/python3.11/site-packages/pyogrio/raw.py:723: RuntimeWarning: Value 2209951307.64184999 of field S_1_GRU_ar of feature 2 not successfully written. Possibly due to too larger number with respect to field width\n",
      "  ogr_write(\n",
      "/work/comphyd_lab/users/darri/data/CONFLUENCE_data/installs/conf-env/lib/python3.11/site-packages/pyogrio/raw.py:723: RuntimeWarning: Value 2209951307.64184999 of field S_1_HRU_ar of feature 2 not successfully written. Possibly due to too larger number with respect to field width\n",
      "  ogr_write(\n",
      "/work/comphyd_lab/users/darri/data/CONFLUENCE_data/installs/conf-env/lib/python3.11/site-packages/pyogrio/raw.py:723: RuntimeWarning: Value 2211445684.05116987 of field AS1 of feature 2 not successfully written. Possibly due to too larger number with respect to field width\n",
      "  ogr_write(\n",
      "/work/comphyd_lab/users/darri/data/CONFLUENCE_data/installs/conf-env/lib/python3.11/site-packages/pyogrio/raw.py:723: RuntimeWarning: Value 485478527.571617365 of field AS2 of feature 2 not successfully written. Possibly due to too larger number with respect to field width\n",
      "  ogr_write(\n",
      "/work/comphyd_lab/users/darri/data/CONFLUENCE_data/installs/conf-env/lib/python3.11/site-packages/pyogrio/raw.py:723: RuntimeWarning: Value 2209951307.64184999 of field S_1_GRU_ar of feature 3 not successfully written. Possibly due to too larger number with respect to field width\n",
      "  ogr_write(\n",
      "/work/comphyd_lab/users/darri/data/CONFLUENCE_data/installs/conf-env/lib/python3.11/site-packages/pyogrio/raw.py:723: RuntimeWarning: Value 2209951307.64184999 of field S_1_HRU_ar of feature 3 not successfully written. Possibly due to too larger number with respect to field width\n",
      "  ogr_write(\n",
      "/work/comphyd_lab/users/darri/data/CONFLUENCE_data/installs/conf-env/lib/python3.11/site-packages/pyogrio/raw.py:723: RuntimeWarning: Value 2211445684.05116987 of field AS1 of feature 3 not successfully written. Possibly due to too larger number with respect to field width\n",
      "  ogr_write(\n",
      "/work/comphyd_lab/users/darri/data/CONFLUENCE_data/installs/conf-env/lib/python3.11/site-packages/pyogrio/raw.py:723: RuntimeWarning: Value 482862192.655856669 of field AS2 of feature 3 not successfully written. Possibly due to too larger number with respect to field width\n",
      "  ogr_write(\n",
      "/work/comphyd_lab/users/darri/data/CONFLUENCE_data/installs/conf-env/lib/python3.11/site-packages/pyogrio/raw.py:723: RuntimeWarning: Value 2209951307.64184999 of field S_1_GRU_ar of feature 4 not successfully written. Possibly due to too larger number with respect to field width\n",
      "  ogr_write(\n",
      "/work/comphyd_lab/users/darri/data/CONFLUENCE_data/installs/conf-env/lib/python3.11/site-packages/pyogrio/raw.py:723: RuntimeWarning: Value 2209951307.64184999 of field S_1_HRU_ar of feature 4 not successfully written. Possibly due to too larger number with respect to field width\n",
      "  ogr_write(\n",
      "/work/comphyd_lab/users/darri/data/CONFLUENCE_data/installs/conf-env/lib/python3.11/site-packages/pyogrio/raw.py:723: RuntimeWarning: Value 2211445684.05116987 of field AS1 of feature 4 not successfully written. Possibly due to too larger number with respect to field width\n",
      "  ogr_write(\n",
      "/work/comphyd_lab/users/darri/data/CONFLUENCE_data/installs/conf-env/lib/python3.11/site-packages/pyogrio/raw.py:723: RuntimeWarning: Value 488085265.984535098 of field AS2 of feature 4 not successfully written. Possibly due to too larger number with respect to field width\n",
      "  ogr_write(\n",
      "/work/comphyd_lab/users/darri/data/CONFLUENCE_data/installs/conf-env/lib/python3.11/site-packages/pyogrio/raw.py:723: RuntimeWarning: Value 2209951307.64184999 of field S_1_GRU_ar of feature 5 not successfully written. Possibly due to too larger number with respect to field width\n",
      "  ogr_write(\n",
      "/work/comphyd_lab/users/darri/data/CONFLUENCE_data/installs/conf-env/lib/python3.11/site-packages/pyogrio/raw.py:723: RuntimeWarning: Value 2209951307.64184999 of field S_1_HRU_ar of feature 5 not successfully written. Possibly due to too larger number with respect to field width\n",
      "  ogr_write(\n",
      "/work/comphyd_lab/users/darri/data/CONFLUENCE_data/installs/conf-env/lib/python3.11/site-packages/pyogrio/raw.py:723: RuntimeWarning: Value 2211445684.05116987 of field AS1 of feature 5 not successfully written. Possibly due to too larger number with respect to field width\n",
      "  ogr_write(\n",
      "/work/comphyd_lab/users/darri/data/CONFLUENCE_data/installs/conf-env/lib/python3.11/site-packages/pyogrio/raw.py:723: RuntimeWarning: Value 485478527.571654856 of field AS2 of feature 5 not successfully written. Possibly due to too larger number with respect to field width\n",
      "  ogr_write(\n",
      "/work/comphyd_lab/users/darri/data/CONFLUENCE_data/installs/conf-env/lib/python3.11/site-packages/pyogrio/raw.py:723: RuntimeWarning: Value 101239263.261881739 of field AINT of feature 5 not successfully written. Possibly due to too larger number with respect to field width\n",
      "  ogr_write(\n",
      "/work/comphyd_lab/users/darri/data/CONFLUENCE_data/installs/conf-env/lib/python3.11/site-packages/pyogrio/raw.py:723: RuntimeWarning: Value 2209951307.64184999 of field S_1_GRU_ar of feature 6 not successfully written. Possibly due to too larger number with respect to field width\n",
      "  ogr_write(\n",
      "/work/comphyd_lab/users/darri/data/CONFLUENCE_data/installs/conf-env/lib/python3.11/site-packages/pyogrio/raw.py:723: RuntimeWarning: Value 2209951307.64184999 of field S_1_HRU_ar of feature 6 not successfully written. Possibly due to too larger number with respect to field width\n",
      "  ogr_write(\n",
      "/work/comphyd_lab/users/darri/data/CONFLUENCE_data/installs/conf-env/lib/python3.11/site-packages/pyogrio/raw.py:723: RuntimeWarning: Value 2211445684.05116987 of field AS1 of feature 6 not successfully written. Possibly due to too larger number with respect to field width\n",
      "  ogr_write(\n",
      "/work/comphyd_lab/users/darri/data/CONFLUENCE_data/installs/conf-env/lib/python3.11/site-packages/pyogrio/raw.py:723: RuntimeWarning: Value 485478527.571617365 of field AS2 of feature 6 not successfully written. Possibly due to too larger number with respect to field width\n",
      "  ogr_write(\n",
      "/work/comphyd_lab/users/darri/data/CONFLUENCE_data/installs/conf-env/lib/python3.11/site-packages/pyogrio/raw.py:723: RuntimeWarning: Value 381966797.838591218 of field AINT of feature 6 not successfully written. Possibly due to too larger number with respect to field width\n",
      "  ogr_write(\n",
      "/work/comphyd_lab/users/darri/data/CONFLUENCE_data/installs/conf-env/lib/python3.11/site-packages/pyogrio/raw.py:723: RuntimeWarning: Value 2209951307.64184999 of field S_1_GRU_ar of feature 7 not successfully written. Possibly due to too larger number with respect to field width\n",
      "  ogr_write(\n",
      "/work/comphyd_lab/users/darri/data/CONFLUENCE_data/installs/conf-env/lib/python3.11/site-packages/pyogrio/raw.py:723: RuntimeWarning: Value 2209951307.64184999 of field S_1_HRU_ar of feature 7 not successfully written. Possibly due to too larger number with respect to field width\n",
      "  ogr_write(\n",
      "/work/comphyd_lab/users/darri/data/CONFLUENCE_data/installs/conf-env/lib/python3.11/site-packages/pyogrio/raw.py:723: RuntimeWarning: Value 2211445684.05116987 of field AS1 of feature 7 not successfully written. Possibly due to too larger number with respect to field width\n",
      "  ogr_write(\n",
      "/work/comphyd_lab/users/darri/data/CONFLUENCE_data/installs/conf-env/lib/python3.11/site-packages/pyogrio/raw.py:723: RuntimeWarning: Value 485478527.571542382 of field AS2 of feature 7 not successfully written. Possibly due to too larger number with respect to field width\n",
      "  ogr_write(\n",
      "/work/comphyd_lab/users/darri/data/CONFLUENCE_data/installs/conf-env/lib/python3.11/site-packages/pyogrio/raw.py:723: RuntimeWarning: Value 400507293.97707963 of field AINT of feature 7 not successfully written. Possibly due to too larger number with respect to field width\n",
      "  ogr_write(\n",
      "/work/comphyd_lab/users/darri/data/CONFLUENCE_data/installs/conf-env/lib/python3.11/site-packages/pyogrio/raw.py:723: RuntimeWarning: Value 2209951307.64184999 of field S_1_GRU_ar of feature 8 not successfully written. Possibly due to too larger number with respect to field width\n",
      "  ogr_write(\n",
      "/work/comphyd_lab/users/darri/data/CONFLUENCE_data/installs/conf-env/lib/python3.11/site-packages/pyogrio/raw.py:723: RuntimeWarning: Value 2209951307.64184999 of field S_1_HRU_ar of feature 8 not successfully written. Possibly due to too larger number with respect to field width\n",
      "  ogr_write(\n",
      "/work/comphyd_lab/users/darri/data/CONFLUENCE_data/installs/conf-env/lib/python3.11/site-packages/pyogrio/raw.py:723: RuntimeWarning: Value 2211445684.05116987 of field AS1 of feature 8 not successfully written. Possibly due to too larger number with respect to field width\n",
      "  ogr_write(\n",
      "/work/comphyd_lab/users/darri/data/CONFLUENCE_data/installs/conf-env/lib/python3.11/site-packages/pyogrio/raw.py:723: RuntimeWarning: Value 482862192.655931294 of field AS2 of feature 8 not successfully written. Possibly due to too larger number with respect to field width\n",
      "  ogr_write(\n",
      "/work/comphyd_lab/users/darri/data/CONFLUENCE_data/installs/conf-env/lib/python3.11/site-packages/pyogrio/raw.py:723: RuntimeWarning: Value 426152743.35519594 of field AINT of feature 8 not successfully written. Possibly due to too larger number with respect to field width\n",
      "  ogr_write(\n",
      "/work/comphyd_lab/users/darri/data/CONFLUENCE_data/installs/conf-env/lib/python3.11/site-packages/pyogrio/raw.py:723: RuntimeWarning: Value 2209951307.64184999 of field S_1_GRU_ar of feature 9 not successfully written. Possibly due to too larger number with respect to field width\n",
      "  ogr_write(\n",
      "/work/comphyd_lab/users/darri/data/CONFLUENCE_data/installs/conf-env/lib/python3.11/site-packages/pyogrio/raw.py:723: RuntimeWarning: Value 2209951307.64184999 of field S_1_HRU_ar of feature 9 not successfully written. Possibly due to too larger number with respect to field width\n",
      "  ogr_write(\n",
      "/work/comphyd_lab/users/darri/data/CONFLUENCE_data/installs/conf-env/lib/python3.11/site-packages/pyogrio/raw.py:723: RuntimeWarning: Value 2211445684.05116987 of field AS1 of feature 9 not successfully written. Possibly due to too larger number with respect to field width\n",
      "  ogr_write(\n",
      "/work/comphyd_lab/users/darri/data/CONFLUENCE_data/installs/conf-env/lib/python3.11/site-packages/pyogrio/raw.py:723: RuntimeWarning: Value 482862192.655893981 of field AS2 of feature 9 not successfully written. Possibly due to too larger number with respect to field width\n",
      "  ogr_write(\n",
      "/work/comphyd_lab/users/darri/data/CONFLUENCE_data/installs/conf-env/lib/python3.11/site-packages/pyogrio/raw.py:723: RuntimeWarning: Value 245401321.890637785 of field AINT of feature 9 not successfully written. Possibly due to too larger number with respect to field width\n",
      "  ogr_write(\n",
      "/work/comphyd_lab/users/darri/data/CONFLUENCE_data/installs/conf-env/lib/python3.11/site-packages/pyogrio/raw.py:723: RuntimeWarning: Value 2209951307.64184999 of field S_1_GRU_ar of feature 10 not successfully written. Possibly due to too larger number with respect to field width\n",
      "  ogr_write(\n",
      "/work/comphyd_lab/users/darri/data/CONFLUENCE_data/installs/conf-env/lib/python3.11/site-packages/pyogrio/raw.py:723: RuntimeWarning: Value 2209951307.64184999 of field S_1_HRU_ar of feature 10 not successfully written. Possibly due to too larger number with respect to field width\n",
      "  ogr_write(\n",
      "/work/comphyd_lab/users/darri/data/CONFLUENCE_data/installs/conf-env/lib/python3.11/site-packages/pyogrio/raw.py:723: RuntimeWarning: Value 2211445684.05116987 of field AS1 of feature 10 not successfully written. Possibly due to too larger number with respect to field width\n",
      "  ogr_write(\n",
      "/work/comphyd_lab/users/darri/data/CONFLUENCE_data/installs/conf-env/lib/python3.11/site-packages/pyogrio/raw.py:723: RuntimeWarning: Value 480236308.728175938 of field AS2 of feature 10 not successfully written. Possibly due to too larger number with respect to field width\n",
      "  ogr_write(\n",
      "/work/comphyd_lab/users/darri/data/CONFLUENCE_data/installs/conf-env/lib/python3.11/site-packages/pyogrio/raw.py:723: RuntimeWarning: Value 134972139.708831787 of field AINT of feature 10 not successfully written. Possibly due to too larger number with respect to field width\n",
      "  ogr_write(\n",
      "/work/comphyd_lab/users/darri/data/CONFLUENCE_data/installs/conf-env/lib/python3.11/site-packages/pyogrio/raw.py:723: RuntimeWarning: Value 2209951307.64184999 of field S_1_GRU_ar of feature 11 not successfully written. Possibly due to too larger number with respect to field width\n",
      "  ogr_write(\n",
      "/work/comphyd_lab/users/darri/data/CONFLUENCE_data/installs/conf-env/lib/python3.11/site-packages/pyogrio/raw.py:723: RuntimeWarning: Value 2209951307.64184999 of field S_1_HRU_ar of feature 11 not successfully written. Possibly due to too larger number with respect to field width\n",
      "  ogr_write(\n",
      "/work/comphyd_lab/users/darri/data/CONFLUENCE_data/installs/conf-env/lib/python3.11/site-packages/pyogrio/raw.py:723: RuntimeWarning: Value 2211445684.05116987 of field AS1 of feature 11 not successfully written. Possibly due to too larger number with respect to field width\n",
      "  ogr_write(\n",
      "/work/comphyd_lab/users/darri/data/CONFLUENCE_data/installs/conf-env/lib/python3.11/site-packages/pyogrio/raw.py:723: RuntimeWarning: Value 480236308.72810179 of field AS2 of feature 11 not successfully written. Possibly due to too larger number with respect to field width\n",
      "  ogr_write(\n",
      "/work/comphyd_lab/users/darri/data/CONFLUENCE_data/installs/conf-env/lib/python3.11/site-packages/pyogrio/raw.py:723: RuntimeWarning: Value 2209951307.64184999 of field S_1_GRU_ar of feature 12 not successfully written. Possibly due to too larger number with respect to field width\n",
      "  ogr_write(\n",
      "/work/comphyd_lab/users/darri/data/CONFLUENCE_data/installs/conf-env/lib/python3.11/site-packages/pyogrio/raw.py:723: RuntimeWarning: Value 2209951307.64184999 of field S_1_HRU_ar of feature 12 not successfully written. Possibly due to too larger number with respect to field width\n",
      "  ogr_write(\n",
      "/work/comphyd_lab/users/darri/data/CONFLUENCE_data/installs/conf-env/lib/python3.11/site-packages/pyogrio/raw.py:723: RuntimeWarning: Value 2211445684.05116987 of field AS1 of feature 12 not successfully written. Possibly due to too larger number with respect to field width\n",
      "  ogr_write(\n",
      "/work/comphyd_lab/users/darri/data/CONFLUENCE_data/installs/conf-env/lib/python3.11/site-packages/pyogrio/raw.py:723: RuntimeWarning: Value 480236308.728138864 of field AS2 of feature 12 not successfully written. Possibly due to too larger number with respect to field width\n",
      "  ogr_write(\n",
      "2025-05-11 15:15:50,429 - pyogrio._io - INFO - Created 13 records\n",
      "/work/comphyd_lab/users/darri/data/CONFLUENCE_data/installs/conf-env/lib/python3.11/site-packages/easymore/remapper.py:558: DeprecationWarning: dropping variables using `drop` is deprecated; use drop_vars.\n",
      "  attr = attr.drop('index')\n"
     ]
    },
    {
     "name": "stdout",
     "output_type": "stream",
     "text": [
      "Ended at date and time 2025-05-11 15:15:50.715681\n",
      "It took 0.876308 seconds to finish creating of the remapping file\n",
      "---------------------------\n",
      "Running within a SLURM job.\n",
      "SLURM environment variables found: ['SLURM_JOBID', 'SLURM_JOB_NAME', 'SLURM_NODELIST']\n",
      "------REMAPPING------\n",
      "netcdf output file will be compressed at level 4\n",
      "Remapping /work/comphyd_lab/data/CONFLUENCE_data/domain_Bow_at_Banff_lumped/forcing/raw_data/domain_Bow_at_Banff_lumped_ERA5_merged_201805.nc to /work/comphyd_lab/data/CONFLUENCE_data/domain_Bow_at_Banff_lumped/forcing/basin_averaged_data/Bow_at_Banff_lumped_ERA5_remapped_domain_Bow_at_Banff_lumped_ERA5_merged_201805.nc \n",
      "Started at date and time 2025-05-11 15:15:50.806926 \n",
      "Ended at date and time 2025-05-11 15:16:13.456395 \n",
      "It took 22.649469 seconds to finish the remapping of variable(s) \n",
      "---------------------\n",
      "---------------------\n",
      "15:16:13 - INFO - Worker 0: Successfully processed domain_Bow_at_Banff_lumped_ERA5_merged_201805.nc in 23.99 seconds\n"
     ]
    },
    {
     "name": "stderr",
     "output_type": "stream",
     "text": [
      "2025-05-11 15:16:13,567 - confluence_general - INFO - Worker 0: Successfully processed domain_Bow_at_Banff_lumped_ERA5_merged_201805.nc in 23.99 seconds\n"
     ]
    },
    {
     "name": "stdout",
     "output_type": "stream",
     "text": [
      "15:16:13 - INFO - Worker 0: Processing file domain_Bow_at_Banff_lumped_ERA5_merged_201806.nc\n"
     ]
    },
    {
     "name": "stderr",
     "output_type": "stream",
     "text": [
      "2025-05-11 15:16:13,569 - confluence_general - INFO - Worker 0: Processing file domain_Bow_at_Banff_lumped_ERA5_merged_201806.nc\n"
     ]
    },
    {
     "name": "stdout",
     "output_type": "stream",
     "text": [
      "EASYMORE version 2.0.0 is initiated.\n",
      "EASYMORE is given multiple variables for remapping but only one format and fill value. EASYMORE repeats the format and fill value for all the variables in output files\n",
      "EASYMORE will remap variable  airpres  from source file to variable  airpres  in remapped netCDF file\n",
      "EASYMORE will remap variable  LWRadAtm  from source file to variable  LWRadAtm  in remapped netCDF file\n",
      "EASYMORE will remap variable  SWRadAtm  from source file to variable  SWRadAtm  in remapped netCDF file\n",
      "EASYMORE will remap variable  pptrate  from source file to variable  pptrate  in remapped netCDF file\n",
      "EASYMORE will remap variable  airtemp  from source file to variable  airtemp  in remapped netCDF file\n",
      "EASYMORE will remap variable  spechum  from source file to variable  spechum  in remapped netCDF file\n",
      "EASYMORE will remap variable  windspd  from source file to variable  windspd  in remapped netCDF file\n",
      "EASYMORE detects that the variables from the netCDF files are identicalin dimensions of the variables and latitude and longitude\n",
      "EASYMORE detects that all the variables have dimensions of:\n",
      "['time', 'latitude', 'longitude']\n",
      "EASYMORE detects that the longitude variables has dimensions of:\n",
      "['longitude']\n",
      "EASYMORE detects that the latitude variables has dimensions of:\n",
      "['latitude']\n",
      "--CREATING-REMAPPING-FILE--\n",
      "Started at date and time 2025-05-11 15:16:13.771536\n",
      "EASYMORE detects that target shapefile is in WGS84 (epsg:4326)\n",
      "EASYMORE detects that the field for ID is provided in sink/target shapefile\n",
      "EASYMORE detects that the field latitude is provided in sink/target shapefile\n",
      "EASYMORE detects that the field longitude is provided in sink/target shapefile\n",
      "it seems everything is OK with the sink/target shapefile; added to EASYMORE object target_shp_gpd\n"
     ]
    },
    {
     "name": "stderr",
     "output_type": "stream",
     "text": [
      "/work/comphyd_lab/users/darri/data/CONFLUENCE_data/installs/conf-env/lib/python3.11/site-packages/pyogrio/raw.py:723: RuntimeWarning: Value 2209951307.64184999 of field GRU_area of feature 0 not successfully written. Possibly due to too larger number with respect to field width\n",
      "  ogr_write(\n",
      "/work/comphyd_lab/users/darri/data/CONFLUENCE_data/installs/conf-env/lib/python3.11/site-packages/pyogrio/raw.py:723: RuntimeWarning: Value 2209951307.64184999 of field HRU_area of feature 0 not successfully written. Possibly due to too larger number with respect to field width\n",
      "  ogr_write(\n",
      "2025-05-11 15:16:13,811 - pyogrio._io - INFO - Created 1 records\n"
     ]
    },
    {
     "name": "stdout",
     "output_type": "stream",
     "text": [
      "EASYMORE saved target shapefile for EASYMORE claculation as:\n",
      "/work/comphyd_lab/data/CONFLUENCE_data/domain_Bow_at_Banff_lumped/forcing/temp_easymore_edcdb891_0/Bow_at_Banff_lumped_ERA5_target_shapefile.shp\n",
      "EASYMORE detects case 1 - regular lat/lon\n"
     ]
    },
    {
     "name": "stderr",
     "output_type": "stream",
     "text": [
      "2025-05-11 15:16:13,857 - pyogrio._io - INFO - Created 42 records\n"
     ]
    },
    {
     "name": "stdout",
     "output_type": "stream",
     "text": [
      "/work/comphyd_lab/data/CONFLUENCE_data/domain_Bow_at_Banff_lumped/forcing/temp_easymore_edcdb891_0/Bow_at_Banff_lumped_ERA5_source_shapefile.shp\n",
      "EASYMORE created the shapefile from the netCDF file and saved it here:\n",
      "EASMORE detects that target shapefile is inside the boundary of source netCDF file  and therefore correction for longitude values -180 to 180 or 0 to 360 is not performed even if  the correction_shp_lon flag is set to True [default is True]\n"
     ]
    },
    {
     "name": "stderr",
     "output_type": "stream",
     "text": [
      "/work/comphyd_lab/users/darri/data/CONFLUENCE_data/installs/conf-env/lib/python3.11/site-packages/pyogrio/raw.py:723: RuntimeWarning: Value 2209951307.64184999 of field GRU_area of feature 0 not successfully written. Possibly due to too larger number with respect to field width\n",
      "  ogr_write(\n",
      "/work/comphyd_lab/users/darri/data/CONFLUENCE_data/installs/conf-env/lib/python3.11/site-packages/pyogrio/raw.py:723: RuntimeWarning: Value 2209951307.64184999 of field HRU_area of feature 0 not successfully written. Possibly due to too larger number with respect to field width\n",
      "  ogr_write(\n",
      "2025-05-11 15:16:13,909 - pyogrio._io - INFO - Created 1 records\n",
      "2025-05-11 15:16:13,932 - pyogrio._io - INFO - Created 42 records\n",
      "/work/comphyd_lab/users/darri/data/CONFLUENCE_data/installs/conf-env/lib/python3.11/site-packages/pyogrio/raw.py:723: RuntimeWarning: Value 2209951307.64184999 of field GRU_area of feature 0 not successfully written. Possibly due to too larger number with respect to field width\n",
      "  ogr_write(\n",
      "/work/comphyd_lab/users/darri/data/CONFLUENCE_data/installs/conf-env/lib/python3.11/site-packages/pyogrio/raw.py:723: RuntimeWarning: Value 2209951307.64184999 of field HRU_area of feature 0 not successfully written. Possibly due to too larger number with respect to field width\n",
      "  ogr_write(\n",
      "2025-05-11 15:16:13,957 - pyogrio._io - INFO - Created 1 records\n",
      "2025-05-11 15:16:13,992 - pyogrio._io - INFO - Created 42 records\n",
      "/work/comphyd_lab/users/darri/data/CONFLUENCE_data/installs/conf-env/lib/python3.11/site-packages/easymore/remapper.py:521: UserWarning: Column names longer than 10 characters will be truncated when saved to ESRI Shapefile.\n",
      "  shp_int.to_file(self.temp_dir+self.case_name+'_intersected_shapefile.shp') # save the intersected files\n",
      "/work/comphyd_lab/users/darri/data/CONFLUENCE_data/installs/conf-env/lib/python3.11/site-packages/pyogrio/raw.py:723: RuntimeWarning: Normalized/laundered field name: 'S_1_gru_to_seg' to 'S_1_gru_to'\n",
      "  ogr_write(\n",
      "/work/comphyd_lab/users/darri/data/CONFLUENCE_data/installs/conf-env/lib/python3.11/site-packages/pyogrio/raw.py:723: RuntimeWarning: Normalized/laundered field name: 'S_1_GRU_area' to 'S_1_GRU_ar'\n",
      "  ogr_write(\n",
      "/work/comphyd_lab/users/darri/data/CONFLUENCE_data/installs/conf-env/lib/python3.11/site-packages/pyogrio/raw.py:723: RuntimeWarning: Normalized/laundered field name: 'S_1_hru_type' to 'S_1_hru_ty'\n",
      "  ogr_write(\n",
      "/work/comphyd_lab/users/darri/data/CONFLUENCE_data/installs/conf-env/lib/python3.11/site-packages/pyogrio/raw.py:723: RuntimeWarning: Normalized/laundered field name: 'S_1_elev_mean' to 'S_1_elev_m'\n",
      "  ogr_write(\n",
      "/work/comphyd_lab/users/darri/data/CONFLUENCE_data/installs/conf-env/lib/python3.11/site-packages/pyogrio/raw.py:723: RuntimeWarning: Normalized/laundered field name: 'S_1_center_lon' to 'S_1_center'\n",
      "  ogr_write(\n",
      "/work/comphyd_lab/users/darri/data/CONFLUENCE_data/installs/conf-env/lib/python3.11/site-packages/pyogrio/raw.py:723: RuntimeWarning: Normalized/laundered field name: 'S_1_center_lat' to 'S_1_cent_1'\n",
      "  ogr_write(\n",
      "/work/comphyd_lab/users/darri/data/CONFLUENCE_data/installs/conf-env/lib/python3.11/site-packages/pyogrio/raw.py:723: RuntimeWarning: Normalized/laundered field name: 'S_1_HRU_area' to 'S_1_HRU_ar'\n",
      "  ogr_write(\n",
      "/work/comphyd_lab/users/darri/data/CONFLUENCE_data/installs/conf-env/lib/python3.11/site-packages/pyogrio/raw.py:723: RuntimeWarning: Value 2209951307.64184999 of field S_1_GRU_ar of feature 0 not successfully written. Possibly due to too larger number with respect to field width\n",
      "  ogr_write(\n",
      "/work/comphyd_lab/users/darri/data/CONFLUENCE_data/installs/conf-env/lib/python3.11/site-packages/pyogrio/raw.py:723: RuntimeWarning: Value 2209951307.64184999 of field S_1_HRU_ar of feature 0 not successfully written. Possibly due to too larger number with respect to field width\n",
      "  ogr_write(\n",
      "/work/comphyd_lab/users/darri/data/CONFLUENCE_data/installs/conf-env/lib/python3.11/site-packages/pyogrio/raw.py:723: RuntimeWarning: Value 2211445684.05116987 of field AS1 of feature 0 not successfully written. Possibly due to too larger number with respect to field width\n",
      "  ogr_write(\n",
      "/work/comphyd_lab/users/darri/data/CONFLUENCE_data/installs/conf-env/lib/python3.11/site-packages/pyogrio/raw.py:723: RuntimeWarning: Value 488085265.984459698 of field AS2 of feature 0 not successfully written. Possibly due to too larger number with respect to field width\n",
      "  ogr_write(\n",
      "/work/comphyd_lab/users/darri/data/CONFLUENCE_data/installs/conf-env/lib/python3.11/site-packages/pyogrio/raw.py:723: RuntimeWarning: Value 165609870.262543023 of field AINT of feature 0 not successfully written. Possibly due to too larger number with respect to field width\n",
      "  ogr_write(\n",
      "/work/comphyd_lab/users/darri/data/CONFLUENCE_data/installs/conf-env/lib/python3.11/site-packages/pyogrio/raw.py:723: RuntimeWarning: Value 2209951307.64184999 of field S_1_GRU_ar of feature 1 not successfully written. Possibly due to too larger number with respect to field width\n",
      "  ogr_write(\n",
      "/work/comphyd_lab/users/darri/data/CONFLUENCE_data/installs/conf-env/lib/python3.11/site-packages/pyogrio/raw.py:723: RuntimeWarning: Value 2209951307.64184999 of field S_1_HRU_ar of feature 1 not successfully written. Possibly due to too larger number with respect to field width\n",
      "  ogr_write(\n",
      "/work/comphyd_lab/users/darri/data/CONFLUENCE_data/installs/conf-env/lib/python3.11/site-packages/pyogrio/raw.py:723: RuntimeWarning: Value 2211445684.05116987 of field AS1 of feature 1 not successfully written. Possibly due to too larger number with respect to field width\n",
      "  ogr_write(\n",
      "/work/comphyd_lab/users/darri/data/CONFLUENCE_data/installs/conf-env/lib/python3.11/site-packages/pyogrio/raw.py:723: RuntimeWarning: Value 488085265.984535098 of field AS2 of feature 1 not successfully written. Possibly due to too larger number with respect to field width\n",
      "  ogr_write(\n",
      "/work/comphyd_lab/users/darri/data/CONFLUENCE_data/installs/conf-env/lib/python3.11/site-packages/pyogrio/raw.py:723: RuntimeWarning: Value 2209951307.64184999 of field S_1_GRU_ar of feature 2 not successfully written. Possibly due to too larger number with respect to field width\n",
      "  ogr_write(\n",
      "/work/comphyd_lab/users/darri/data/CONFLUENCE_data/installs/conf-env/lib/python3.11/site-packages/pyogrio/raw.py:723: RuntimeWarning: Value 2209951307.64184999 of field S_1_HRU_ar of feature 2 not successfully written. Possibly due to too larger number with respect to field width\n",
      "  ogr_write(\n",
      "/work/comphyd_lab/users/darri/data/CONFLUENCE_data/installs/conf-env/lib/python3.11/site-packages/pyogrio/raw.py:723: RuntimeWarning: Value 2211445684.05116987 of field AS1 of feature 2 not successfully written. Possibly due to too larger number with respect to field width\n",
      "  ogr_write(\n",
      "/work/comphyd_lab/users/darri/data/CONFLUENCE_data/installs/conf-env/lib/python3.11/site-packages/pyogrio/raw.py:723: RuntimeWarning: Value 485478527.571617365 of field AS2 of feature 2 not successfully written. Possibly due to too larger number with respect to field width\n",
      "  ogr_write(\n",
      "/work/comphyd_lab/users/darri/data/CONFLUENCE_data/installs/conf-env/lib/python3.11/site-packages/pyogrio/raw.py:723: RuntimeWarning: Value 2209951307.64184999 of field S_1_GRU_ar of feature 3 not successfully written. Possibly due to too larger number with respect to field width\n",
      "  ogr_write(\n",
      "/work/comphyd_lab/users/darri/data/CONFLUENCE_data/installs/conf-env/lib/python3.11/site-packages/pyogrio/raw.py:723: RuntimeWarning: Value 2209951307.64184999 of field S_1_HRU_ar of feature 3 not successfully written. Possibly due to too larger number with respect to field width\n",
      "  ogr_write(\n",
      "/work/comphyd_lab/users/darri/data/CONFLUENCE_data/installs/conf-env/lib/python3.11/site-packages/pyogrio/raw.py:723: RuntimeWarning: Value 2211445684.05116987 of field AS1 of feature 3 not successfully written. Possibly due to too larger number with respect to field width\n",
      "  ogr_write(\n",
      "/work/comphyd_lab/users/darri/data/CONFLUENCE_data/installs/conf-env/lib/python3.11/site-packages/pyogrio/raw.py:723: RuntimeWarning: Value 482862192.655856669 of field AS2 of feature 3 not successfully written. Possibly due to too larger number with respect to field width\n",
      "  ogr_write(\n",
      "/work/comphyd_lab/users/darri/data/CONFLUENCE_data/installs/conf-env/lib/python3.11/site-packages/pyogrio/raw.py:723: RuntimeWarning: Value 2209951307.64184999 of field S_1_GRU_ar of feature 4 not successfully written. Possibly due to too larger number with respect to field width\n",
      "  ogr_write(\n",
      "/work/comphyd_lab/users/darri/data/CONFLUENCE_data/installs/conf-env/lib/python3.11/site-packages/pyogrio/raw.py:723: RuntimeWarning: Value 2209951307.64184999 of field S_1_HRU_ar of feature 4 not successfully written. Possibly due to too larger number with respect to field width\n",
      "  ogr_write(\n",
      "/work/comphyd_lab/users/darri/data/CONFLUENCE_data/installs/conf-env/lib/python3.11/site-packages/pyogrio/raw.py:723: RuntimeWarning: Value 2211445684.05116987 of field AS1 of feature 4 not successfully written. Possibly due to too larger number with respect to field width\n",
      "  ogr_write(\n",
      "/work/comphyd_lab/users/darri/data/CONFLUENCE_data/installs/conf-env/lib/python3.11/site-packages/pyogrio/raw.py:723: RuntimeWarning: Value 488085265.984535098 of field AS2 of feature 4 not successfully written. Possibly due to too larger number with respect to field width\n",
      "  ogr_write(\n",
      "/work/comphyd_lab/users/darri/data/CONFLUENCE_data/installs/conf-env/lib/python3.11/site-packages/pyogrio/raw.py:723: RuntimeWarning: Value 2209951307.64184999 of field S_1_GRU_ar of feature 5 not successfully written. Possibly due to too larger number with respect to field width\n",
      "  ogr_write(\n",
      "/work/comphyd_lab/users/darri/data/CONFLUENCE_data/installs/conf-env/lib/python3.11/site-packages/pyogrio/raw.py:723: RuntimeWarning: Value 2209951307.64184999 of field S_1_HRU_ar of feature 5 not successfully written. Possibly due to too larger number with respect to field width\n",
      "  ogr_write(\n",
      "/work/comphyd_lab/users/darri/data/CONFLUENCE_data/installs/conf-env/lib/python3.11/site-packages/pyogrio/raw.py:723: RuntimeWarning: Value 2211445684.05116987 of field AS1 of feature 5 not successfully written. Possibly due to too larger number with respect to field width\n",
      "  ogr_write(\n",
      "/work/comphyd_lab/users/darri/data/CONFLUENCE_data/installs/conf-env/lib/python3.11/site-packages/pyogrio/raw.py:723: RuntimeWarning: Value 485478527.571654856 of field AS2 of feature 5 not successfully written. Possibly due to too larger number with respect to field width\n",
      "  ogr_write(\n",
      "/work/comphyd_lab/users/darri/data/CONFLUENCE_data/installs/conf-env/lib/python3.11/site-packages/pyogrio/raw.py:723: RuntimeWarning: Value 101239263.261881739 of field AINT of feature 5 not successfully written. Possibly due to too larger number with respect to field width\n",
      "  ogr_write(\n",
      "/work/comphyd_lab/users/darri/data/CONFLUENCE_data/installs/conf-env/lib/python3.11/site-packages/pyogrio/raw.py:723: RuntimeWarning: Value 2209951307.64184999 of field S_1_GRU_ar of feature 6 not successfully written. Possibly due to too larger number with respect to field width\n",
      "  ogr_write(\n",
      "/work/comphyd_lab/users/darri/data/CONFLUENCE_data/installs/conf-env/lib/python3.11/site-packages/pyogrio/raw.py:723: RuntimeWarning: Value 2209951307.64184999 of field S_1_HRU_ar of feature 6 not successfully written. Possibly due to too larger number with respect to field width\n",
      "  ogr_write(\n",
      "/work/comphyd_lab/users/darri/data/CONFLUENCE_data/installs/conf-env/lib/python3.11/site-packages/pyogrio/raw.py:723: RuntimeWarning: Value 2211445684.05116987 of field AS1 of feature 6 not successfully written. Possibly due to too larger number with respect to field width\n",
      "  ogr_write(\n",
      "/work/comphyd_lab/users/darri/data/CONFLUENCE_data/installs/conf-env/lib/python3.11/site-packages/pyogrio/raw.py:723: RuntimeWarning: Value 485478527.571617365 of field AS2 of feature 6 not successfully written. Possibly due to too larger number with respect to field width\n",
      "  ogr_write(\n",
      "/work/comphyd_lab/users/darri/data/CONFLUENCE_data/installs/conf-env/lib/python3.11/site-packages/pyogrio/raw.py:723: RuntimeWarning: Value 381966797.838591218 of field AINT of feature 6 not successfully written. Possibly due to too larger number with respect to field width\n",
      "  ogr_write(\n",
      "/work/comphyd_lab/users/darri/data/CONFLUENCE_data/installs/conf-env/lib/python3.11/site-packages/pyogrio/raw.py:723: RuntimeWarning: Value 2209951307.64184999 of field S_1_GRU_ar of feature 7 not successfully written. Possibly due to too larger number with respect to field width\n",
      "  ogr_write(\n",
      "/work/comphyd_lab/users/darri/data/CONFLUENCE_data/installs/conf-env/lib/python3.11/site-packages/pyogrio/raw.py:723: RuntimeWarning: Value 2209951307.64184999 of field S_1_HRU_ar of feature 7 not successfully written. Possibly due to too larger number with respect to field width\n",
      "  ogr_write(\n",
      "/work/comphyd_lab/users/darri/data/CONFLUENCE_data/installs/conf-env/lib/python3.11/site-packages/pyogrio/raw.py:723: RuntimeWarning: Value 2211445684.05116987 of field AS1 of feature 7 not successfully written. Possibly due to too larger number with respect to field width\n",
      "  ogr_write(\n",
      "/work/comphyd_lab/users/darri/data/CONFLUENCE_data/installs/conf-env/lib/python3.11/site-packages/pyogrio/raw.py:723: RuntimeWarning: Value 485478527.571542382 of field AS2 of feature 7 not successfully written. Possibly due to too larger number with respect to field width\n",
      "  ogr_write(\n",
      "/work/comphyd_lab/users/darri/data/CONFLUENCE_data/installs/conf-env/lib/python3.11/site-packages/pyogrio/raw.py:723: RuntimeWarning: Value 400507293.97707963 of field AINT of feature 7 not successfully written. Possibly due to too larger number with respect to field width\n",
      "  ogr_write(\n",
      "/work/comphyd_lab/users/darri/data/CONFLUENCE_data/installs/conf-env/lib/python3.11/site-packages/pyogrio/raw.py:723: RuntimeWarning: Value 2209951307.64184999 of field S_1_GRU_ar of feature 8 not successfully written. Possibly due to too larger number with respect to field width\n",
      "  ogr_write(\n",
      "/work/comphyd_lab/users/darri/data/CONFLUENCE_data/installs/conf-env/lib/python3.11/site-packages/pyogrio/raw.py:723: RuntimeWarning: Value 2209951307.64184999 of field S_1_HRU_ar of feature 8 not successfully written. Possibly due to too larger number with respect to field width\n",
      "  ogr_write(\n",
      "/work/comphyd_lab/users/darri/data/CONFLUENCE_data/installs/conf-env/lib/python3.11/site-packages/pyogrio/raw.py:723: RuntimeWarning: Value 2211445684.05116987 of field AS1 of feature 8 not successfully written. Possibly due to too larger number with respect to field width\n",
      "  ogr_write(\n",
      "/work/comphyd_lab/users/darri/data/CONFLUENCE_data/installs/conf-env/lib/python3.11/site-packages/pyogrio/raw.py:723: RuntimeWarning: Value 482862192.655931294 of field AS2 of feature 8 not successfully written. Possibly due to too larger number with respect to field width\n",
      "  ogr_write(\n",
      "/work/comphyd_lab/users/darri/data/CONFLUENCE_data/installs/conf-env/lib/python3.11/site-packages/pyogrio/raw.py:723: RuntimeWarning: Value 426152743.35519594 of field AINT of feature 8 not successfully written. Possibly due to too larger number with respect to field width\n",
      "  ogr_write(\n",
      "/work/comphyd_lab/users/darri/data/CONFLUENCE_data/installs/conf-env/lib/python3.11/site-packages/pyogrio/raw.py:723: RuntimeWarning: Value 2209951307.64184999 of field S_1_GRU_ar of feature 9 not successfully written. Possibly due to too larger number with respect to field width\n",
      "  ogr_write(\n",
      "/work/comphyd_lab/users/darri/data/CONFLUENCE_data/installs/conf-env/lib/python3.11/site-packages/pyogrio/raw.py:723: RuntimeWarning: Value 2209951307.64184999 of field S_1_HRU_ar of feature 9 not successfully written. Possibly due to too larger number with respect to field width\n",
      "  ogr_write(\n",
      "/work/comphyd_lab/users/darri/data/CONFLUENCE_data/installs/conf-env/lib/python3.11/site-packages/pyogrio/raw.py:723: RuntimeWarning: Value 2211445684.05116987 of field AS1 of feature 9 not successfully written. Possibly due to too larger number with respect to field width\n",
      "  ogr_write(\n",
      "/work/comphyd_lab/users/darri/data/CONFLUENCE_data/installs/conf-env/lib/python3.11/site-packages/pyogrio/raw.py:723: RuntimeWarning: Value 482862192.655893981 of field AS2 of feature 9 not successfully written. Possibly due to too larger number with respect to field width\n",
      "  ogr_write(\n",
      "/work/comphyd_lab/users/darri/data/CONFLUENCE_data/installs/conf-env/lib/python3.11/site-packages/pyogrio/raw.py:723: RuntimeWarning: Value 245401321.890637785 of field AINT of feature 9 not successfully written. Possibly due to too larger number with respect to field width\n",
      "  ogr_write(\n",
      "/work/comphyd_lab/users/darri/data/CONFLUENCE_data/installs/conf-env/lib/python3.11/site-packages/pyogrio/raw.py:723: RuntimeWarning: Value 2209951307.64184999 of field S_1_GRU_ar of feature 10 not successfully written. Possibly due to too larger number with respect to field width\n",
      "  ogr_write(\n",
      "/work/comphyd_lab/users/darri/data/CONFLUENCE_data/installs/conf-env/lib/python3.11/site-packages/pyogrio/raw.py:723: RuntimeWarning: Value 2209951307.64184999 of field S_1_HRU_ar of feature 10 not successfully written. Possibly due to too larger number with respect to field width\n",
      "  ogr_write(\n",
      "/work/comphyd_lab/users/darri/data/CONFLUENCE_data/installs/conf-env/lib/python3.11/site-packages/pyogrio/raw.py:723: RuntimeWarning: Value 2211445684.05116987 of field AS1 of feature 10 not successfully written. Possibly due to too larger number with respect to field width\n",
      "  ogr_write(\n",
      "/work/comphyd_lab/users/darri/data/CONFLUENCE_data/installs/conf-env/lib/python3.11/site-packages/pyogrio/raw.py:723: RuntimeWarning: Value 480236308.728175938 of field AS2 of feature 10 not successfully written. Possibly due to too larger number with respect to field width\n",
      "  ogr_write(\n",
      "/work/comphyd_lab/users/darri/data/CONFLUENCE_data/installs/conf-env/lib/python3.11/site-packages/pyogrio/raw.py:723: RuntimeWarning: Value 134972139.708831787 of field AINT of feature 10 not successfully written. Possibly due to too larger number with respect to field width\n",
      "  ogr_write(\n",
      "/work/comphyd_lab/users/darri/data/CONFLUENCE_data/installs/conf-env/lib/python3.11/site-packages/pyogrio/raw.py:723: RuntimeWarning: Value 2209951307.64184999 of field S_1_GRU_ar of feature 11 not successfully written. Possibly due to too larger number with respect to field width\n",
      "  ogr_write(\n",
      "/work/comphyd_lab/users/darri/data/CONFLUENCE_data/installs/conf-env/lib/python3.11/site-packages/pyogrio/raw.py:723: RuntimeWarning: Value 2209951307.64184999 of field S_1_HRU_ar of feature 11 not successfully written. Possibly due to too larger number with respect to field width\n",
      "  ogr_write(\n",
      "/work/comphyd_lab/users/darri/data/CONFLUENCE_data/installs/conf-env/lib/python3.11/site-packages/pyogrio/raw.py:723: RuntimeWarning: Value 2211445684.05116987 of field AS1 of feature 11 not successfully written. Possibly due to too larger number with respect to field width\n",
      "  ogr_write(\n",
      "/work/comphyd_lab/users/darri/data/CONFLUENCE_data/installs/conf-env/lib/python3.11/site-packages/pyogrio/raw.py:723: RuntimeWarning: Value 480236308.72810179 of field AS2 of feature 11 not successfully written. Possibly due to too larger number with respect to field width\n",
      "  ogr_write(\n",
      "/work/comphyd_lab/users/darri/data/CONFLUENCE_data/installs/conf-env/lib/python3.11/site-packages/pyogrio/raw.py:723: RuntimeWarning: Value 2209951307.64184999 of field S_1_GRU_ar of feature 12 not successfully written. Possibly due to too larger number with respect to field width\n",
      "  ogr_write(\n",
      "/work/comphyd_lab/users/darri/data/CONFLUENCE_data/installs/conf-env/lib/python3.11/site-packages/pyogrio/raw.py:723: RuntimeWarning: Value 2209951307.64184999 of field S_1_HRU_ar of feature 12 not successfully written. Possibly due to too larger number with respect to field width\n",
      "  ogr_write(\n",
      "/work/comphyd_lab/users/darri/data/CONFLUENCE_data/installs/conf-env/lib/python3.11/site-packages/pyogrio/raw.py:723: RuntimeWarning: Value 2211445684.05116987 of field AS1 of feature 12 not successfully written. Possibly due to too larger number with respect to field width\n",
      "  ogr_write(\n",
      "/work/comphyd_lab/users/darri/data/CONFLUENCE_data/installs/conf-env/lib/python3.11/site-packages/pyogrio/raw.py:723: RuntimeWarning: Value 480236308.728138864 of field AS2 of feature 12 not successfully written. Possibly due to too larger number with respect to field width\n",
      "  ogr_write(\n",
      "2025-05-11 15:16:14,154 - pyogrio._io - INFO - Created 13 records\n",
      "/work/comphyd_lab/users/darri/data/CONFLUENCE_data/installs/conf-env/lib/python3.11/site-packages/easymore/remapper.py:558: DeprecationWarning: dropping variables using `drop` is deprecated; use drop_vars.\n",
      "  attr = attr.drop('index')\n"
     ]
    },
    {
     "name": "stdout",
     "output_type": "stream",
     "text": [
      "Ended at date and time 2025-05-11 15:16:14.261252\n",
      "It took 0.489716 seconds to finish creating of the remapping file\n",
      "---------------------------\n",
      "Running within a SLURM job.\n",
      "SLURM environment variables found: ['SLURM_JOBID', 'SLURM_JOB_NAME', 'SLURM_NODELIST']\n",
      "------REMAPPING------\n",
      "netcdf output file will be compressed at level 4\n",
      "Remapping /work/comphyd_lab/data/CONFLUENCE_data/domain_Bow_at_Banff_lumped/forcing/raw_data/domain_Bow_at_Banff_lumped_ERA5_merged_201806.nc to /work/comphyd_lab/data/CONFLUENCE_data/domain_Bow_at_Banff_lumped/forcing/basin_averaged_data/Bow_at_Banff_lumped_ERA5_remapped_domain_Bow_at_Banff_lumped_ERA5_merged_201806.nc \n",
      "Started at date and time 2025-05-11 15:16:14.336385 \n",
      "Ended at date and time 2025-05-11 15:16:35.857211 \n",
      "It took 21.520826 seconds to finish the remapping of variable(s) \n",
      "---------------------\n",
      "---------------------\n",
      "15:16:35 - INFO - Worker 0: Successfully processed domain_Bow_at_Banff_lumped_ERA5_merged_201806.nc in 22.35 seconds\n"
     ]
    },
    {
     "name": "stderr",
     "output_type": "stream",
     "text": [
      "2025-05-11 15:16:35,921 - confluence_general - INFO - Worker 0: Successfully processed domain_Bow_at_Banff_lumped_ERA5_merged_201806.nc in 22.35 seconds\n"
     ]
    },
    {
     "name": "stdout",
     "output_type": "stream",
     "text": [
      "15:16:35 - INFO - Worker 0: Processing file domain_Bow_at_Banff_lumped_ERA5_merged_201807.nc\n"
     ]
    },
    {
     "name": "stderr",
     "output_type": "stream",
     "text": [
      "2025-05-11 15:16:35,923 - confluence_general - INFO - Worker 0: Processing file domain_Bow_at_Banff_lumped_ERA5_merged_201807.nc\n"
     ]
    },
    {
     "name": "stdout",
     "output_type": "stream",
     "text": [
      "EASYMORE version 2.0.0 is initiated.\n",
      "EASYMORE is given multiple variables for remapping but only one format and fill value. EASYMORE repeats the format and fill value for all the variables in output files\n",
      "EASYMORE will remap variable  airpres  from source file to variable  airpres  in remapped netCDF file\n",
      "EASYMORE will remap variable  LWRadAtm  from source file to variable  LWRadAtm  in remapped netCDF file\n",
      "EASYMORE will remap variable  SWRadAtm  from source file to variable  SWRadAtm  in remapped netCDF file\n",
      "EASYMORE will remap variable  pptrate  from source file to variable  pptrate  in remapped netCDF file\n",
      "EASYMORE will remap variable  airtemp  from source file to variable  airtemp  in remapped netCDF file\n",
      "EASYMORE will remap variable  spechum  from source file to variable  spechum  in remapped netCDF file\n",
      "EASYMORE will remap variable  windspd  from source file to variable  windspd  in remapped netCDF file\n",
      "EASYMORE detects that the variables from the netCDF files are identicalin dimensions of the variables and latitude and longitude\n",
      "EASYMORE detects that all the variables have dimensions of:\n",
      "['time', 'latitude', 'longitude']\n",
      "EASYMORE detects that the longitude variables has dimensions of:\n",
      "['longitude']\n",
      "EASYMORE detects that the latitude variables has dimensions of:\n",
      "['latitude']\n",
      "--CREATING-REMAPPING-FILE--\n",
      "Started at date and time 2025-05-11 15:16:36.121584\n",
      "EASYMORE detects that target shapefile is in WGS84 (epsg:4326)\n",
      "EASYMORE detects that the field for ID is provided in sink/target shapefile\n",
      "EASYMORE detects that the field latitude is provided in sink/target shapefile\n",
      "EASYMORE detects that the field longitude is provided in sink/target shapefile\n",
      "it seems everything is OK with the sink/target shapefile; added to EASYMORE object target_shp_gpd\n"
     ]
    },
    {
     "name": "stderr",
     "output_type": "stream",
     "text": [
      "/work/comphyd_lab/users/darri/data/CONFLUENCE_data/installs/conf-env/lib/python3.11/site-packages/pyogrio/raw.py:723: RuntimeWarning: Value 2209951307.64184999 of field GRU_area of feature 0 not successfully written. Possibly due to too larger number with respect to field width\n",
      "  ogr_write(\n",
      "/work/comphyd_lab/users/darri/data/CONFLUENCE_data/installs/conf-env/lib/python3.11/site-packages/pyogrio/raw.py:723: RuntimeWarning: Value 2209951307.64184999 of field HRU_area of feature 0 not successfully written. Possibly due to too larger number with respect to field width\n",
      "  ogr_write(\n",
      "2025-05-11 15:16:36,159 - pyogrio._io - INFO - Created 1 records\n"
     ]
    },
    {
     "name": "stdout",
     "output_type": "stream",
     "text": [
      "EASYMORE saved target shapefile for EASYMORE claculation as:\n",
      "/work/comphyd_lab/data/CONFLUENCE_data/domain_Bow_at_Banff_lumped/forcing/temp_easymore_961fd18f_0/Bow_at_Banff_lumped_ERA5_target_shapefile.shp\n",
      "EASYMORE detects case 1 - regular lat/lon\n"
     ]
    },
    {
     "name": "stderr",
     "output_type": "stream",
     "text": [
      "2025-05-11 15:16:36,207 - pyogrio._io - INFO - Created 42 records\n"
     ]
    },
    {
     "name": "stdout",
     "output_type": "stream",
     "text": [
      "/work/comphyd_lab/data/CONFLUENCE_data/domain_Bow_at_Banff_lumped/forcing/temp_easymore_961fd18f_0/Bow_at_Banff_lumped_ERA5_source_shapefile.shp\n",
      "EASYMORE created the shapefile from the netCDF file and saved it here:\n",
      "EASMORE detects that target shapefile is inside the boundary of source netCDF file  and therefore correction for longitude values -180 to 180 or 0 to 360 is not performed even if  the correction_shp_lon flag is set to True [default is True]\n"
     ]
    },
    {
     "name": "stderr",
     "output_type": "stream",
     "text": [
      "/work/comphyd_lab/users/darri/data/CONFLUENCE_data/installs/conf-env/lib/python3.11/site-packages/pyogrio/raw.py:723: RuntimeWarning: Value 2209951307.64184999 of field GRU_area of feature 0 not successfully written. Possibly due to too larger number with respect to field width\n",
      "  ogr_write(\n",
      "/work/comphyd_lab/users/darri/data/CONFLUENCE_data/installs/conf-env/lib/python3.11/site-packages/pyogrio/raw.py:723: RuntimeWarning: Value 2209951307.64184999 of field HRU_area of feature 0 not successfully written. Possibly due to too larger number with respect to field width\n",
      "  ogr_write(\n",
      "2025-05-11 15:16:36,251 - pyogrio._io - INFO - Created 1 records\n",
      "2025-05-11 15:16:36,269 - pyogrio._io - INFO - Created 42 records\n",
      "/work/comphyd_lab/users/darri/data/CONFLUENCE_data/installs/conf-env/lib/python3.11/site-packages/pyogrio/raw.py:723: RuntimeWarning: Value 2209951307.64184999 of field GRU_area of feature 0 not successfully written. Possibly due to too larger number with respect to field width\n",
      "  ogr_write(\n",
      "/work/comphyd_lab/users/darri/data/CONFLUENCE_data/installs/conf-env/lib/python3.11/site-packages/pyogrio/raw.py:723: RuntimeWarning: Value 2209951307.64184999 of field HRU_area of feature 0 not successfully written. Possibly due to too larger number with respect to field width\n",
      "  ogr_write(\n",
      "2025-05-11 15:16:36,293 - pyogrio._io - INFO - Created 1 records\n",
      "2025-05-11 15:16:36,322 - pyogrio._io - INFO - Created 42 records\n",
      "/work/comphyd_lab/users/darri/data/CONFLUENCE_data/installs/conf-env/lib/python3.11/site-packages/easymore/remapper.py:521: UserWarning: Column names longer than 10 characters will be truncated when saved to ESRI Shapefile.\n",
      "  shp_int.to_file(self.temp_dir+self.case_name+'_intersected_shapefile.shp') # save the intersected files\n",
      "/work/comphyd_lab/users/darri/data/CONFLUENCE_data/installs/conf-env/lib/python3.11/site-packages/pyogrio/raw.py:723: RuntimeWarning: Normalized/laundered field name: 'S_1_gru_to_seg' to 'S_1_gru_to'\n",
      "  ogr_write(\n",
      "/work/comphyd_lab/users/darri/data/CONFLUENCE_data/installs/conf-env/lib/python3.11/site-packages/pyogrio/raw.py:723: RuntimeWarning: Normalized/laundered field name: 'S_1_GRU_area' to 'S_1_GRU_ar'\n",
      "  ogr_write(\n",
      "/work/comphyd_lab/users/darri/data/CONFLUENCE_data/installs/conf-env/lib/python3.11/site-packages/pyogrio/raw.py:723: RuntimeWarning: Normalized/laundered field name: 'S_1_hru_type' to 'S_1_hru_ty'\n",
      "  ogr_write(\n",
      "/work/comphyd_lab/users/darri/data/CONFLUENCE_data/installs/conf-env/lib/python3.11/site-packages/pyogrio/raw.py:723: RuntimeWarning: Normalized/laundered field name: 'S_1_elev_mean' to 'S_1_elev_m'\n",
      "  ogr_write(\n",
      "/work/comphyd_lab/users/darri/data/CONFLUENCE_data/installs/conf-env/lib/python3.11/site-packages/pyogrio/raw.py:723: RuntimeWarning: Normalized/laundered field name: 'S_1_center_lon' to 'S_1_center'\n",
      "  ogr_write(\n",
      "/work/comphyd_lab/users/darri/data/CONFLUENCE_data/installs/conf-env/lib/python3.11/site-packages/pyogrio/raw.py:723: RuntimeWarning: Normalized/laundered field name: 'S_1_center_lat' to 'S_1_cent_1'\n",
      "  ogr_write(\n",
      "/work/comphyd_lab/users/darri/data/CONFLUENCE_data/installs/conf-env/lib/python3.11/site-packages/pyogrio/raw.py:723: RuntimeWarning: Normalized/laundered field name: 'S_1_HRU_area' to 'S_1_HRU_ar'\n",
      "  ogr_write(\n",
      "/work/comphyd_lab/users/darri/data/CONFLUENCE_data/installs/conf-env/lib/python3.11/site-packages/pyogrio/raw.py:723: RuntimeWarning: Value 2209951307.64184999 of field S_1_GRU_ar of feature 0 not successfully written. Possibly due to too larger number with respect to field width\n",
      "  ogr_write(\n",
      "/work/comphyd_lab/users/darri/data/CONFLUENCE_data/installs/conf-env/lib/python3.11/site-packages/pyogrio/raw.py:723: RuntimeWarning: Value 2209951307.64184999 of field S_1_HRU_ar of feature 0 not successfully written. Possibly due to too larger number with respect to field width\n",
      "  ogr_write(\n",
      "/work/comphyd_lab/users/darri/data/CONFLUENCE_data/installs/conf-env/lib/python3.11/site-packages/pyogrio/raw.py:723: RuntimeWarning: Value 2211445684.05116987 of field AS1 of feature 0 not successfully written. Possibly due to too larger number with respect to field width\n",
      "  ogr_write(\n",
      "/work/comphyd_lab/users/darri/data/CONFLUENCE_data/installs/conf-env/lib/python3.11/site-packages/pyogrio/raw.py:723: RuntimeWarning: Value 488085265.984459698 of field AS2 of feature 0 not successfully written. Possibly due to too larger number with respect to field width\n",
      "  ogr_write(\n",
      "/work/comphyd_lab/users/darri/data/CONFLUENCE_data/installs/conf-env/lib/python3.11/site-packages/pyogrio/raw.py:723: RuntimeWarning: Value 165609870.262543023 of field AINT of feature 0 not successfully written. Possibly due to too larger number with respect to field width\n",
      "  ogr_write(\n",
      "/work/comphyd_lab/users/darri/data/CONFLUENCE_data/installs/conf-env/lib/python3.11/site-packages/pyogrio/raw.py:723: RuntimeWarning: Value 2209951307.64184999 of field S_1_GRU_ar of feature 1 not successfully written. Possibly due to too larger number with respect to field width\n",
      "  ogr_write(\n",
      "/work/comphyd_lab/users/darri/data/CONFLUENCE_data/installs/conf-env/lib/python3.11/site-packages/pyogrio/raw.py:723: RuntimeWarning: Value 2209951307.64184999 of field S_1_HRU_ar of feature 1 not successfully written. Possibly due to too larger number with respect to field width\n",
      "  ogr_write(\n",
      "/work/comphyd_lab/users/darri/data/CONFLUENCE_data/installs/conf-env/lib/python3.11/site-packages/pyogrio/raw.py:723: RuntimeWarning: Value 2211445684.05116987 of field AS1 of feature 1 not successfully written. Possibly due to too larger number with respect to field width\n",
      "  ogr_write(\n",
      "/work/comphyd_lab/users/darri/data/CONFLUENCE_data/installs/conf-env/lib/python3.11/site-packages/pyogrio/raw.py:723: RuntimeWarning: Value 488085265.984535098 of field AS2 of feature 1 not successfully written. Possibly due to too larger number with respect to field width\n",
      "  ogr_write(\n",
      "/work/comphyd_lab/users/darri/data/CONFLUENCE_data/installs/conf-env/lib/python3.11/site-packages/pyogrio/raw.py:723: RuntimeWarning: Value 2209951307.64184999 of field S_1_GRU_ar of feature 2 not successfully written. Possibly due to too larger number with respect to field width\n",
      "  ogr_write(\n",
      "/work/comphyd_lab/users/darri/data/CONFLUENCE_data/installs/conf-env/lib/python3.11/site-packages/pyogrio/raw.py:723: RuntimeWarning: Value 2209951307.64184999 of field S_1_HRU_ar of feature 2 not successfully written. Possibly due to too larger number with respect to field width\n",
      "  ogr_write(\n",
      "/work/comphyd_lab/users/darri/data/CONFLUENCE_data/installs/conf-env/lib/python3.11/site-packages/pyogrio/raw.py:723: RuntimeWarning: Value 2211445684.05116987 of field AS1 of feature 2 not successfully written. Possibly due to too larger number with respect to field width\n",
      "  ogr_write(\n",
      "/work/comphyd_lab/users/darri/data/CONFLUENCE_data/installs/conf-env/lib/python3.11/site-packages/pyogrio/raw.py:723: RuntimeWarning: Value 485478527.571617365 of field AS2 of feature 2 not successfully written. Possibly due to too larger number with respect to field width\n",
      "  ogr_write(\n",
      "/work/comphyd_lab/users/darri/data/CONFLUENCE_data/installs/conf-env/lib/python3.11/site-packages/pyogrio/raw.py:723: RuntimeWarning: Value 2209951307.64184999 of field S_1_GRU_ar of feature 3 not successfully written. Possibly due to too larger number with respect to field width\n",
      "  ogr_write(\n",
      "/work/comphyd_lab/users/darri/data/CONFLUENCE_data/installs/conf-env/lib/python3.11/site-packages/pyogrio/raw.py:723: RuntimeWarning: Value 2209951307.64184999 of field S_1_HRU_ar of feature 3 not successfully written. Possibly due to too larger number with respect to field width\n",
      "  ogr_write(\n",
      "/work/comphyd_lab/users/darri/data/CONFLUENCE_data/installs/conf-env/lib/python3.11/site-packages/pyogrio/raw.py:723: RuntimeWarning: Value 2211445684.05116987 of field AS1 of feature 3 not successfully written. Possibly due to too larger number with respect to field width\n",
      "  ogr_write(\n",
      "/work/comphyd_lab/users/darri/data/CONFLUENCE_data/installs/conf-env/lib/python3.11/site-packages/pyogrio/raw.py:723: RuntimeWarning: Value 482862192.655856669 of field AS2 of feature 3 not successfully written. Possibly due to too larger number with respect to field width\n",
      "  ogr_write(\n",
      "/work/comphyd_lab/users/darri/data/CONFLUENCE_data/installs/conf-env/lib/python3.11/site-packages/pyogrio/raw.py:723: RuntimeWarning: Value 2209951307.64184999 of field S_1_GRU_ar of feature 4 not successfully written. Possibly due to too larger number with respect to field width\n",
      "  ogr_write(\n",
      "/work/comphyd_lab/users/darri/data/CONFLUENCE_data/installs/conf-env/lib/python3.11/site-packages/pyogrio/raw.py:723: RuntimeWarning: Value 2209951307.64184999 of field S_1_HRU_ar of feature 4 not successfully written. Possibly due to too larger number with respect to field width\n",
      "  ogr_write(\n",
      "/work/comphyd_lab/users/darri/data/CONFLUENCE_data/installs/conf-env/lib/python3.11/site-packages/pyogrio/raw.py:723: RuntimeWarning: Value 2211445684.05116987 of field AS1 of feature 4 not successfully written. Possibly due to too larger number with respect to field width\n",
      "  ogr_write(\n",
      "/work/comphyd_lab/users/darri/data/CONFLUENCE_data/installs/conf-env/lib/python3.11/site-packages/pyogrio/raw.py:723: RuntimeWarning: Value 488085265.984535098 of field AS2 of feature 4 not successfully written. Possibly due to too larger number with respect to field width\n",
      "  ogr_write(\n",
      "/work/comphyd_lab/users/darri/data/CONFLUENCE_data/installs/conf-env/lib/python3.11/site-packages/pyogrio/raw.py:723: RuntimeWarning: Value 2209951307.64184999 of field S_1_GRU_ar of feature 5 not successfully written. Possibly due to too larger number with respect to field width\n",
      "  ogr_write(\n",
      "/work/comphyd_lab/users/darri/data/CONFLUENCE_data/installs/conf-env/lib/python3.11/site-packages/pyogrio/raw.py:723: RuntimeWarning: Value 2209951307.64184999 of field S_1_HRU_ar of feature 5 not successfully written. Possibly due to too larger number with respect to field width\n",
      "  ogr_write(\n",
      "/work/comphyd_lab/users/darri/data/CONFLUENCE_data/installs/conf-env/lib/python3.11/site-packages/pyogrio/raw.py:723: RuntimeWarning: Value 2211445684.05116987 of field AS1 of feature 5 not successfully written. Possibly due to too larger number with respect to field width\n",
      "  ogr_write(\n",
      "/work/comphyd_lab/users/darri/data/CONFLUENCE_data/installs/conf-env/lib/python3.11/site-packages/pyogrio/raw.py:723: RuntimeWarning: Value 485478527.571654856 of field AS2 of feature 5 not successfully written. Possibly due to too larger number with respect to field width\n",
      "  ogr_write(\n",
      "/work/comphyd_lab/users/darri/data/CONFLUENCE_data/installs/conf-env/lib/python3.11/site-packages/pyogrio/raw.py:723: RuntimeWarning: Value 101239263.261881739 of field AINT of feature 5 not successfully written. Possibly due to too larger number with respect to field width\n",
      "  ogr_write(\n",
      "/work/comphyd_lab/users/darri/data/CONFLUENCE_data/installs/conf-env/lib/python3.11/site-packages/pyogrio/raw.py:723: RuntimeWarning: Value 2209951307.64184999 of field S_1_GRU_ar of feature 6 not successfully written. Possibly due to too larger number with respect to field width\n",
      "  ogr_write(\n",
      "/work/comphyd_lab/users/darri/data/CONFLUENCE_data/installs/conf-env/lib/python3.11/site-packages/pyogrio/raw.py:723: RuntimeWarning: Value 2209951307.64184999 of field S_1_HRU_ar of feature 6 not successfully written. Possibly due to too larger number with respect to field width\n",
      "  ogr_write(\n",
      "/work/comphyd_lab/users/darri/data/CONFLUENCE_data/installs/conf-env/lib/python3.11/site-packages/pyogrio/raw.py:723: RuntimeWarning: Value 2211445684.05116987 of field AS1 of feature 6 not successfully written. Possibly due to too larger number with respect to field width\n",
      "  ogr_write(\n",
      "/work/comphyd_lab/users/darri/data/CONFLUENCE_data/installs/conf-env/lib/python3.11/site-packages/pyogrio/raw.py:723: RuntimeWarning: Value 485478527.571617365 of field AS2 of feature 6 not successfully written. Possibly due to too larger number with respect to field width\n",
      "  ogr_write(\n",
      "/work/comphyd_lab/users/darri/data/CONFLUENCE_data/installs/conf-env/lib/python3.11/site-packages/pyogrio/raw.py:723: RuntimeWarning: Value 381966797.838591218 of field AINT of feature 6 not successfully written. Possibly due to too larger number with respect to field width\n",
      "  ogr_write(\n",
      "/work/comphyd_lab/users/darri/data/CONFLUENCE_data/installs/conf-env/lib/python3.11/site-packages/pyogrio/raw.py:723: RuntimeWarning: Value 2209951307.64184999 of field S_1_GRU_ar of feature 7 not successfully written. Possibly due to too larger number with respect to field width\n",
      "  ogr_write(\n",
      "/work/comphyd_lab/users/darri/data/CONFLUENCE_data/installs/conf-env/lib/python3.11/site-packages/pyogrio/raw.py:723: RuntimeWarning: Value 2209951307.64184999 of field S_1_HRU_ar of feature 7 not successfully written. Possibly due to too larger number with respect to field width\n",
      "  ogr_write(\n",
      "/work/comphyd_lab/users/darri/data/CONFLUENCE_data/installs/conf-env/lib/python3.11/site-packages/pyogrio/raw.py:723: RuntimeWarning: Value 2211445684.05116987 of field AS1 of feature 7 not successfully written. Possibly due to too larger number with respect to field width\n",
      "  ogr_write(\n",
      "/work/comphyd_lab/users/darri/data/CONFLUENCE_data/installs/conf-env/lib/python3.11/site-packages/pyogrio/raw.py:723: RuntimeWarning: Value 485478527.571542382 of field AS2 of feature 7 not successfully written. Possibly due to too larger number with respect to field width\n",
      "  ogr_write(\n",
      "/work/comphyd_lab/users/darri/data/CONFLUENCE_data/installs/conf-env/lib/python3.11/site-packages/pyogrio/raw.py:723: RuntimeWarning: Value 400507293.97707963 of field AINT of feature 7 not successfully written. Possibly due to too larger number with respect to field width\n",
      "  ogr_write(\n",
      "/work/comphyd_lab/users/darri/data/CONFLUENCE_data/installs/conf-env/lib/python3.11/site-packages/pyogrio/raw.py:723: RuntimeWarning: Value 2209951307.64184999 of field S_1_GRU_ar of feature 8 not successfully written. Possibly due to too larger number with respect to field width\n",
      "  ogr_write(\n",
      "/work/comphyd_lab/users/darri/data/CONFLUENCE_data/installs/conf-env/lib/python3.11/site-packages/pyogrio/raw.py:723: RuntimeWarning: Value 2209951307.64184999 of field S_1_HRU_ar of feature 8 not successfully written. Possibly due to too larger number with respect to field width\n",
      "  ogr_write(\n",
      "/work/comphyd_lab/users/darri/data/CONFLUENCE_data/installs/conf-env/lib/python3.11/site-packages/pyogrio/raw.py:723: RuntimeWarning: Value 2211445684.05116987 of field AS1 of feature 8 not successfully written. Possibly due to too larger number with respect to field width\n",
      "  ogr_write(\n",
      "/work/comphyd_lab/users/darri/data/CONFLUENCE_data/installs/conf-env/lib/python3.11/site-packages/pyogrio/raw.py:723: RuntimeWarning: Value 482862192.655931294 of field AS2 of feature 8 not successfully written. Possibly due to too larger number with respect to field width\n",
      "  ogr_write(\n",
      "/work/comphyd_lab/users/darri/data/CONFLUENCE_data/installs/conf-env/lib/python3.11/site-packages/pyogrio/raw.py:723: RuntimeWarning: Value 426152743.35519594 of field AINT of feature 8 not successfully written. Possibly due to too larger number with respect to field width\n",
      "  ogr_write(\n",
      "/work/comphyd_lab/users/darri/data/CONFLUENCE_data/installs/conf-env/lib/python3.11/site-packages/pyogrio/raw.py:723: RuntimeWarning: Value 2209951307.64184999 of field S_1_GRU_ar of feature 9 not successfully written. Possibly due to too larger number with respect to field width\n",
      "  ogr_write(\n",
      "/work/comphyd_lab/users/darri/data/CONFLUENCE_data/installs/conf-env/lib/python3.11/site-packages/pyogrio/raw.py:723: RuntimeWarning: Value 2209951307.64184999 of field S_1_HRU_ar of feature 9 not successfully written. Possibly due to too larger number with respect to field width\n",
      "  ogr_write(\n",
      "/work/comphyd_lab/users/darri/data/CONFLUENCE_data/installs/conf-env/lib/python3.11/site-packages/pyogrio/raw.py:723: RuntimeWarning: Value 2211445684.05116987 of field AS1 of feature 9 not successfully written. Possibly due to too larger number with respect to field width\n",
      "  ogr_write(\n",
      "/work/comphyd_lab/users/darri/data/CONFLUENCE_data/installs/conf-env/lib/python3.11/site-packages/pyogrio/raw.py:723: RuntimeWarning: Value 482862192.655893981 of field AS2 of feature 9 not successfully written. Possibly due to too larger number with respect to field width\n",
      "  ogr_write(\n",
      "/work/comphyd_lab/users/darri/data/CONFLUENCE_data/installs/conf-env/lib/python3.11/site-packages/pyogrio/raw.py:723: RuntimeWarning: Value 245401321.890637785 of field AINT of feature 9 not successfully written. Possibly due to too larger number with respect to field width\n",
      "  ogr_write(\n",
      "/work/comphyd_lab/users/darri/data/CONFLUENCE_data/installs/conf-env/lib/python3.11/site-packages/pyogrio/raw.py:723: RuntimeWarning: Value 2209951307.64184999 of field S_1_GRU_ar of feature 10 not successfully written. Possibly due to too larger number with respect to field width\n",
      "  ogr_write(\n",
      "/work/comphyd_lab/users/darri/data/CONFLUENCE_data/installs/conf-env/lib/python3.11/site-packages/pyogrio/raw.py:723: RuntimeWarning: Value 2209951307.64184999 of field S_1_HRU_ar of feature 10 not successfully written. Possibly due to too larger number with respect to field width\n",
      "  ogr_write(\n",
      "/work/comphyd_lab/users/darri/data/CONFLUENCE_data/installs/conf-env/lib/python3.11/site-packages/pyogrio/raw.py:723: RuntimeWarning: Value 2211445684.05116987 of field AS1 of feature 10 not successfully written. Possibly due to too larger number with respect to field width\n",
      "  ogr_write(\n",
      "/work/comphyd_lab/users/darri/data/CONFLUENCE_data/installs/conf-env/lib/python3.11/site-packages/pyogrio/raw.py:723: RuntimeWarning: Value 480236308.728175938 of field AS2 of feature 10 not successfully written. Possibly due to too larger number with respect to field width\n",
      "  ogr_write(\n",
      "/work/comphyd_lab/users/darri/data/CONFLUENCE_data/installs/conf-env/lib/python3.11/site-packages/pyogrio/raw.py:723: RuntimeWarning: Value 134972139.708831787 of field AINT of feature 10 not successfully written. Possibly due to too larger number with respect to field width\n",
      "  ogr_write(\n",
      "/work/comphyd_lab/users/darri/data/CONFLUENCE_data/installs/conf-env/lib/python3.11/site-packages/pyogrio/raw.py:723: RuntimeWarning: Value 2209951307.64184999 of field S_1_GRU_ar of feature 11 not successfully written. Possibly due to too larger number with respect to field width\n",
      "  ogr_write(\n",
      "/work/comphyd_lab/users/darri/data/CONFLUENCE_data/installs/conf-env/lib/python3.11/site-packages/pyogrio/raw.py:723: RuntimeWarning: Value 2209951307.64184999 of field S_1_HRU_ar of feature 11 not successfully written. Possibly due to too larger number with respect to field width\n",
      "  ogr_write(\n",
      "/work/comphyd_lab/users/darri/data/CONFLUENCE_data/installs/conf-env/lib/python3.11/site-packages/pyogrio/raw.py:723: RuntimeWarning: Value 2211445684.05116987 of field AS1 of feature 11 not successfully written. Possibly due to too larger number with respect to field width\n",
      "  ogr_write(\n",
      "/work/comphyd_lab/users/darri/data/CONFLUENCE_data/installs/conf-env/lib/python3.11/site-packages/pyogrio/raw.py:723: RuntimeWarning: Value 480236308.72810179 of field AS2 of feature 11 not successfully written. Possibly due to too larger number with respect to field width\n",
      "  ogr_write(\n",
      "/work/comphyd_lab/users/darri/data/CONFLUENCE_data/installs/conf-env/lib/python3.11/site-packages/pyogrio/raw.py:723: RuntimeWarning: Value 2209951307.64184999 of field S_1_GRU_ar of feature 12 not successfully written. Possibly due to too larger number with respect to field width\n",
      "  ogr_write(\n",
      "/work/comphyd_lab/users/darri/data/CONFLUENCE_data/installs/conf-env/lib/python3.11/site-packages/pyogrio/raw.py:723: RuntimeWarning: Value 2209951307.64184999 of field S_1_HRU_ar of feature 12 not successfully written. Possibly due to too larger number with respect to field width\n",
      "  ogr_write(\n",
      "/work/comphyd_lab/users/darri/data/CONFLUENCE_data/installs/conf-env/lib/python3.11/site-packages/pyogrio/raw.py:723: RuntimeWarning: Value 2211445684.05116987 of field AS1 of feature 12 not successfully written. Possibly due to too larger number with respect to field width\n",
      "  ogr_write(\n",
      "/work/comphyd_lab/users/darri/data/CONFLUENCE_data/installs/conf-env/lib/python3.11/site-packages/pyogrio/raw.py:723: RuntimeWarning: Value 480236308.728138864 of field AS2 of feature 12 not successfully written. Possibly due to too larger number with respect to field width\n",
      "  ogr_write(\n",
      "2025-05-11 15:16:36,501 - pyogrio._io - INFO - Created 13 records\n",
      "/work/comphyd_lab/users/darri/data/CONFLUENCE_data/installs/conf-env/lib/python3.11/site-packages/easymore/remapper.py:558: DeprecationWarning: dropping variables using `drop` is deprecated; use drop_vars.\n",
      "  attr = attr.drop('index')\n"
     ]
    },
    {
     "name": "stdout",
     "output_type": "stream",
     "text": [
      "Ended at date and time 2025-05-11 15:16:36.612349\n",
      "It took 0.490765 seconds to finish creating of the remapping file\n",
      "---------------------------\n",
      "Running within a SLURM job.\n",
      "SLURM environment variables found: ['SLURM_JOBID', 'SLURM_JOB_NAME', 'SLURM_NODELIST']\n",
      "------REMAPPING------\n",
      "netcdf output file will be compressed at level 4\n",
      "Remapping /work/comphyd_lab/data/CONFLUENCE_data/domain_Bow_at_Banff_lumped/forcing/raw_data/domain_Bow_at_Banff_lumped_ERA5_merged_201807.nc to /work/comphyd_lab/data/CONFLUENCE_data/domain_Bow_at_Banff_lumped/forcing/basin_averaged_data/Bow_at_Banff_lumped_ERA5_remapped_domain_Bow_at_Banff_lumped_ERA5_merged_201807.nc \n",
      "Started at date and time 2025-05-11 15:16:36.681601 \n",
      "Ended at date and time 2025-05-11 15:16:58.862098 \n",
      "It took 22.180497 seconds to finish the remapping of variable(s) \n",
      "---------------------\n",
      "---------------------\n",
      "15:16:58 - INFO - Worker 0: Successfully processed domain_Bow_at_Banff_lumped_ERA5_merged_201807.nc in 22.99 seconds\n"
     ]
    },
    {
     "name": "stderr",
     "output_type": "stream",
     "text": [
      "2025-05-11 15:16:58,913 - confluence_general - INFO - Worker 0: Successfully processed domain_Bow_at_Banff_lumped_ERA5_merged_201807.nc in 22.99 seconds\n"
     ]
    },
    {
     "name": "stdout",
     "output_type": "stream",
     "text": [
      "15:16:58 - INFO - Worker 0: Processing file domain_Bow_at_Banff_lumped_ERA5_merged_201808.nc\n"
     ]
    },
    {
     "name": "stderr",
     "output_type": "stream",
     "text": [
      "2025-05-11 15:16:58,914 - confluence_general - INFO - Worker 0: Processing file domain_Bow_at_Banff_lumped_ERA5_merged_201808.nc\n"
     ]
    },
    {
     "name": "stdout",
     "output_type": "stream",
     "text": [
      "EASYMORE version 2.0.0 is initiated.\n",
      "EASYMORE is given multiple variables for remapping but only one format and fill value. EASYMORE repeats the format and fill value for all the variables in output files\n",
      "EASYMORE will remap variable  airpres  from source file to variable  airpres  in remapped netCDF file\n",
      "EASYMORE will remap variable  LWRadAtm  from source file to variable  LWRadAtm  in remapped netCDF file\n",
      "EASYMORE will remap variable  SWRadAtm  from source file to variable  SWRadAtm  in remapped netCDF file\n",
      "EASYMORE will remap variable  pptrate  from source file to variable  pptrate  in remapped netCDF file\n",
      "EASYMORE will remap variable  airtemp  from source file to variable  airtemp  in remapped netCDF file\n",
      "EASYMORE will remap variable  spechum  from source file to variable  spechum  in remapped netCDF file\n",
      "EASYMORE will remap variable  windspd  from source file to variable  windspd  in remapped netCDF file\n",
      "EASYMORE detects that the variables from the netCDF files are identicalin dimensions of the variables and latitude and longitude\n",
      "EASYMORE detects that all the variables have dimensions of:\n",
      "['time', 'latitude', 'longitude']\n",
      "EASYMORE detects that the longitude variables has dimensions of:\n",
      "['longitude']\n",
      "EASYMORE detects that the latitude variables has dimensions of:\n",
      "['latitude']\n",
      "--CREATING-REMAPPING-FILE--\n",
      "Started at date and time 2025-05-11 15:16:59.095421\n",
      "EASYMORE detects that target shapefile is in WGS84 (epsg:4326)\n",
      "EASYMORE detects that the field for ID is provided in sink/target shapefile\n",
      "EASYMORE detects that the field latitude is provided in sink/target shapefile\n",
      "EASYMORE detects that the field longitude is provided in sink/target shapefile\n",
      "it seems everything is OK with the sink/target shapefile; added to EASYMORE object target_shp_gpd\n"
     ]
    },
    {
     "name": "stderr",
     "output_type": "stream",
     "text": [
      "/work/comphyd_lab/users/darri/data/CONFLUENCE_data/installs/conf-env/lib/python3.11/site-packages/pyogrio/raw.py:723: RuntimeWarning: Value 2209951307.64184999 of field GRU_area of feature 0 not successfully written. Possibly due to too larger number with respect to field width\n",
      "  ogr_write(\n",
      "/work/comphyd_lab/users/darri/data/CONFLUENCE_data/installs/conf-env/lib/python3.11/site-packages/pyogrio/raw.py:723: RuntimeWarning: Value 2209951307.64184999 of field HRU_area of feature 0 not successfully written. Possibly due to too larger number with respect to field width\n",
      "  ogr_write(\n",
      "2025-05-11 15:16:59,133 - pyogrio._io - INFO - Created 1 records\n"
     ]
    },
    {
     "name": "stdout",
     "output_type": "stream",
     "text": [
      "EASYMORE saved target shapefile for EASYMORE claculation as:\n",
      "/work/comphyd_lab/data/CONFLUENCE_data/domain_Bow_at_Banff_lumped/forcing/temp_easymore_cd3ab69c_0/Bow_at_Banff_lumped_ERA5_target_shapefile.shp\n",
      "EASYMORE detects case 1 - regular lat/lon\n"
     ]
    },
    {
     "name": "stderr",
     "output_type": "stream",
     "text": [
      "2025-05-11 15:16:59,180 - pyogrio._io - INFO - Created 42 records\n"
     ]
    },
    {
     "name": "stdout",
     "output_type": "stream",
     "text": [
      "/work/comphyd_lab/data/CONFLUENCE_data/domain_Bow_at_Banff_lumped/forcing/temp_easymore_cd3ab69c_0/Bow_at_Banff_lumped_ERA5_source_shapefile.shp\n",
      "EASYMORE created the shapefile from the netCDF file and saved it here:\n",
      "EASMORE detects that target shapefile is inside the boundary of source netCDF file  and therefore correction for longitude values -180 to 180 or 0 to 360 is not performed even if  the correction_shp_lon flag is set to True [default is True]\n"
     ]
    },
    {
     "name": "stderr",
     "output_type": "stream",
     "text": [
      "/work/comphyd_lab/users/darri/data/CONFLUENCE_data/installs/conf-env/lib/python3.11/site-packages/pyogrio/raw.py:723: RuntimeWarning: Value 2209951307.64184999 of field GRU_area of feature 0 not successfully written. Possibly due to too larger number with respect to field width\n",
      "  ogr_write(\n",
      "/work/comphyd_lab/users/darri/data/CONFLUENCE_data/installs/conf-env/lib/python3.11/site-packages/pyogrio/raw.py:723: RuntimeWarning: Value 2209951307.64184999 of field HRU_area of feature 0 not successfully written. Possibly due to too larger number with respect to field width\n",
      "  ogr_write(\n",
      "2025-05-11 15:16:59,232 - pyogrio._io - INFO - Created 1 records\n",
      "2025-05-11 15:16:59,253 - pyogrio._io - INFO - Created 42 records\n",
      "/work/comphyd_lab/users/darri/data/CONFLUENCE_data/installs/conf-env/lib/python3.11/site-packages/pyogrio/raw.py:723: RuntimeWarning: Value 2209951307.64184999 of field GRU_area of feature 0 not successfully written. Possibly due to too larger number with respect to field width\n",
      "  ogr_write(\n",
      "/work/comphyd_lab/users/darri/data/CONFLUENCE_data/installs/conf-env/lib/python3.11/site-packages/pyogrio/raw.py:723: RuntimeWarning: Value 2209951307.64184999 of field HRU_area of feature 0 not successfully written. Possibly due to too larger number with respect to field width\n",
      "  ogr_write(\n",
      "2025-05-11 15:16:59,277 - pyogrio._io - INFO - Created 1 records\n",
      "2025-05-11 15:16:59,306 - pyogrio._io - INFO - Created 42 records\n",
      "/work/comphyd_lab/users/darri/data/CONFLUENCE_data/installs/conf-env/lib/python3.11/site-packages/easymore/remapper.py:521: UserWarning: Column names longer than 10 characters will be truncated when saved to ESRI Shapefile.\n",
      "  shp_int.to_file(self.temp_dir+self.case_name+'_intersected_shapefile.shp') # save the intersected files\n",
      "/work/comphyd_lab/users/darri/data/CONFLUENCE_data/installs/conf-env/lib/python3.11/site-packages/pyogrio/raw.py:723: RuntimeWarning: Normalized/laundered field name: 'S_1_gru_to_seg' to 'S_1_gru_to'\n",
      "  ogr_write(\n",
      "/work/comphyd_lab/users/darri/data/CONFLUENCE_data/installs/conf-env/lib/python3.11/site-packages/pyogrio/raw.py:723: RuntimeWarning: Normalized/laundered field name: 'S_1_GRU_area' to 'S_1_GRU_ar'\n",
      "  ogr_write(\n",
      "/work/comphyd_lab/users/darri/data/CONFLUENCE_data/installs/conf-env/lib/python3.11/site-packages/pyogrio/raw.py:723: RuntimeWarning: Normalized/laundered field name: 'S_1_hru_type' to 'S_1_hru_ty'\n",
      "  ogr_write(\n",
      "/work/comphyd_lab/users/darri/data/CONFLUENCE_data/installs/conf-env/lib/python3.11/site-packages/pyogrio/raw.py:723: RuntimeWarning: Normalized/laundered field name: 'S_1_elev_mean' to 'S_1_elev_m'\n",
      "  ogr_write(\n",
      "/work/comphyd_lab/users/darri/data/CONFLUENCE_data/installs/conf-env/lib/python3.11/site-packages/pyogrio/raw.py:723: RuntimeWarning: Normalized/laundered field name: 'S_1_center_lon' to 'S_1_center'\n",
      "  ogr_write(\n",
      "/work/comphyd_lab/users/darri/data/CONFLUENCE_data/installs/conf-env/lib/python3.11/site-packages/pyogrio/raw.py:723: RuntimeWarning: Normalized/laundered field name: 'S_1_center_lat' to 'S_1_cent_1'\n",
      "  ogr_write(\n",
      "/work/comphyd_lab/users/darri/data/CONFLUENCE_data/installs/conf-env/lib/python3.11/site-packages/pyogrio/raw.py:723: RuntimeWarning: Normalized/laundered field name: 'S_1_HRU_area' to 'S_1_HRU_ar'\n",
      "  ogr_write(\n",
      "/work/comphyd_lab/users/darri/data/CONFLUENCE_data/installs/conf-env/lib/python3.11/site-packages/pyogrio/raw.py:723: RuntimeWarning: Value 2209951307.64184999 of field S_1_GRU_ar of feature 0 not successfully written. Possibly due to too larger number with respect to field width\n",
      "  ogr_write(\n",
      "/work/comphyd_lab/users/darri/data/CONFLUENCE_data/installs/conf-env/lib/python3.11/site-packages/pyogrio/raw.py:723: RuntimeWarning: Value 2209951307.64184999 of field S_1_HRU_ar of feature 0 not successfully written. Possibly due to too larger number with respect to field width\n",
      "  ogr_write(\n",
      "/work/comphyd_lab/users/darri/data/CONFLUENCE_data/installs/conf-env/lib/python3.11/site-packages/pyogrio/raw.py:723: RuntimeWarning: Value 2211445684.05116987 of field AS1 of feature 0 not successfully written. Possibly due to too larger number with respect to field width\n",
      "  ogr_write(\n",
      "/work/comphyd_lab/users/darri/data/CONFLUENCE_data/installs/conf-env/lib/python3.11/site-packages/pyogrio/raw.py:723: RuntimeWarning: Value 488085265.984459698 of field AS2 of feature 0 not successfully written. Possibly due to too larger number with respect to field width\n",
      "  ogr_write(\n",
      "/work/comphyd_lab/users/darri/data/CONFLUENCE_data/installs/conf-env/lib/python3.11/site-packages/pyogrio/raw.py:723: RuntimeWarning: Value 165609870.262543023 of field AINT of feature 0 not successfully written. Possibly due to too larger number with respect to field width\n",
      "  ogr_write(\n",
      "/work/comphyd_lab/users/darri/data/CONFLUENCE_data/installs/conf-env/lib/python3.11/site-packages/pyogrio/raw.py:723: RuntimeWarning: Value 2209951307.64184999 of field S_1_GRU_ar of feature 1 not successfully written. Possibly due to too larger number with respect to field width\n",
      "  ogr_write(\n",
      "/work/comphyd_lab/users/darri/data/CONFLUENCE_data/installs/conf-env/lib/python3.11/site-packages/pyogrio/raw.py:723: RuntimeWarning: Value 2209951307.64184999 of field S_1_HRU_ar of feature 1 not successfully written. Possibly due to too larger number with respect to field width\n",
      "  ogr_write(\n",
      "/work/comphyd_lab/users/darri/data/CONFLUENCE_data/installs/conf-env/lib/python3.11/site-packages/pyogrio/raw.py:723: RuntimeWarning: Value 2211445684.05116987 of field AS1 of feature 1 not successfully written. Possibly due to too larger number with respect to field width\n",
      "  ogr_write(\n",
      "/work/comphyd_lab/users/darri/data/CONFLUENCE_data/installs/conf-env/lib/python3.11/site-packages/pyogrio/raw.py:723: RuntimeWarning: Value 488085265.984535098 of field AS2 of feature 1 not successfully written. Possibly due to too larger number with respect to field width\n",
      "  ogr_write(\n",
      "/work/comphyd_lab/users/darri/data/CONFLUENCE_data/installs/conf-env/lib/python3.11/site-packages/pyogrio/raw.py:723: RuntimeWarning: Value 2209951307.64184999 of field S_1_GRU_ar of feature 2 not successfully written. Possibly due to too larger number with respect to field width\n",
      "  ogr_write(\n",
      "/work/comphyd_lab/users/darri/data/CONFLUENCE_data/installs/conf-env/lib/python3.11/site-packages/pyogrio/raw.py:723: RuntimeWarning: Value 2209951307.64184999 of field S_1_HRU_ar of feature 2 not successfully written. Possibly due to too larger number with respect to field width\n",
      "  ogr_write(\n",
      "/work/comphyd_lab/users/darri/data/CONFLUENCE_data/installs/conf-env/lib/python3.11/site-packages/pyogrio/raw.py:723: RuntimeWarning: Value 2211445684.05116987 of field AS1 of feature 2 not successfully written. Possibly due to too larger number with respect to field width\n",
      "  ogr_write(\n",
      "/work/comphyd_lab/users/darri/data/CONFLUENCE_data/installs/conf-env/lib/python3.11/site-packages/pyogrio/raw.py:723: RuntimeWarning: Value 485478527.571617365 of field AS2 of feature 2 not successfully written. Possibly due to too larger number with respect to field width\n",
      "  ogr_write(\n",
      "/work/comphyd_lab/users/darri/data/CONFLUENCE_data/installs/conf-env/lib/python3.11/site-packages/pyogrio/raw.py:723: RuntimeWarning: Value 2209951307.64184999 of field S_1_GRU_ar of feature 3 not successfully written. Possibly due to too larger number with respect to field width\n",
      "  ogr_write(\n",
      "/work/comphyd_lab/users/darri/data/CONFLUENCE_data/installs/conf-env/lib/python3.11/site-packages/pyogrio/raw.py:723: RuntimeWarning: Value 2209951307.64184999 of field S_1_HRU_ar of feature 3 not successfully written. Possibly due to too larger number with respect to field width\n",
      "  ogr_write(\n",
      "/work/comphyd_lab/users/darri/data/CONFLUENCE_data/installs/conf-env/lib/python3.11/site-packages/pyogrio/raw.py:723: RuntimeWarning: Value 2211445684.05116987 of field AS1 of feature 3 not successfully written. Possibly due to too larger number with respect to field width\n",
      "  ogr_write(\n",
      "/work/comphyd_lab/users/darri/data/CONFLUENCE_data/installs/conf-env/lib/python3.11/site-packages/pyogrio/raw.py:723: RuntimeWarning: Value 482862192.655856669 of field AS2 of feature 3 not successfully written. Possibly due to too larger number with respect to field width\n",
      "  ogr_write(\n",
      "/work/comphyd_lab/users/darri/data/CONFLUENCE_data/installs/conf-env/lib/python3.11/site-packages/pyogrio/raw.py:723: RuntimeWarning: Value 2209951307.64184999 of field S_1_GRU_ar of feature 4 not successfully written. Possibly due to too larger number with respect to field width\n",
      "  ogr_write(\n",
      "/work/comphyd_lab/users/darri/data/CONFLUENCE_data/installs/conf-env/lib/python3.11/site-packages/pyogrio/raw.py:723: RuntimeWarning: Value 2209951307.64184999 of field S_1_HRU_ar of feature 4 not successfully written. Possibly due to too larger number with respect to field width\n",
      "  ogr_write(\n",
      "/work/comphyd_lab/users/darri/data/CONFLUENCE_data/installs/conf-env/lib/python3.11/site-packages/pyogrio/raw.py:723: RuntimeWarning: Value 2211445684.05116987 of field AS1 of feature 4 not successfully written. Possibly due to too larger number with respect to field width\n",
      "  ogr_write(\n",
      "/work/comphyd_lab/users/darri/data/CONFLUENCE_data/installs/conf-env/lib/python3.11/site-packages/pyogrio/raw.py:723: RuntimeWarning: Value 488085265.984535098 of field AS2 of feature 4 not successfully written. Possibly due to too larger number with respect to field width\n",
      "  ogr_write(\n",
      "/work/comphyd_lab/users/darri/data/CONFLUENCE_data/installs/conf-env/lib/python3.11/site-packages/pyogrio/raw.py:723: RuntimeWarning: Value 2209951307.64184999 of field S_1_GRU_ar of feature 5 not successfully written. Possibly due to too larger number with respect to field width\n",
      "  ogr_write(\n",
      "/work/comphyd_lab/users/darri/data/CONFLUENCE_data/installs/conf-env/lib/python3.11/site-packages/pyogrio/raw.py:723: RuntimeWarning: Value 2209951307.64184999 of field S_1_HRU_ar of feature 5 not successfully written. Possibly due to too larger number with respect to field width\n",
      "  ogr_write(\n",
      "/work/comphyd_lab/users/darri/data/CONFLUENCE_data/installs/conf-env/lib/python3.11/site-packages/pyogrio/raw.py:723: RuntimeWarning: Value 2211445684.05116987 of field AS1 of feature 5 not successfully written. Possibly due to too larger number with respect to field width\n",
      "  ogr_write(\n",
      "/work/comphyd_lab/users/darri/data/CONFLUENCE_data/installs/conf-env/lib/python3.11/site-packages/pyogrio/raw.py:723: RuntimeWarning: Value 485478527.571654856 of field AS2 of feature 5 not successfully written. Possibly due to too larger number with respect to field width\n",
      "  ogr_write(\n",
      "/work/comphyd_lab/users/darri/data/CONFLUENCE_data/installs/conf-env/lib/python3.11/site-packages/pyogrio/raw.py:723: RuntimeWarning: Value 101239263.261881739 of field AINT of feature 5 not successfully written. Possibly due to too larger number with respect to field width\n",
      "  ogr_write(\n",
      "/work/comphyd_lab/users/darri/data/CONFLUENCE_data/installs/conf-env/lib/python3.11/site-packages/pyogrio/raw.py:723: RuntimeWarning: Value 2209951307.64184999 of field S_1_GRU_ar of feature 6 not successfully written. Possibly due to too larger number with respect to field width\n",
      "  ogr_write(\n",
      "/work/comphyd_lab/users/darri/data/CONFLUENCE_data/installs/conf-env/lib/python3.11/site-packages/pyogrio/raw.py:723: RuntimeWarning: Value 2209951307.64184999 of field S_1_HRU_ar of feature 6 not successfully written. Possibly due to too larger number with respect to field width\n",
      "  ogr_write(\n",
      "/work/comphyd_lab/users/darri/data/CONFLUENCE_data/installs/conf-env/lib/python3.11/site-packages/pyogrio/raw.py:723: RuntimeWarning: Value 2211445684.05116987 of field AS1 of feature 6 not successfully written. Possibly due to too larger number with respect to field width\n",
      "  ogr_write(\n",
      "/work/comphyd_lab/users/darri/data/CONFLUENCE_data/installs/conf-env/lib/python3.11/site-packages/pyogrio/raw.py:723: RuntimeWarning: Value 485478527.571617365 of field AS2 of feature 6 not successfully written. Possibly due to too larger number with respect to field width\n",
      "  ogr_write(\n",
      "/work/comphyd_lab/users/darri/data/CONFLUENCE_data/installs/conf-env/lib/python3.11/site-packages/pyogrio/raw.py:723: RuntimeWarning: Value 381966797.838591218 of field AINT of feature 6 not successfully written. Possibly due to too larger number with respect to field width\n",
      "  ogr_write(\n",
      "/work/comphyd_lab/users/darri/data/CONFLUENCE_data/installs/conf-env/lib/python3.11/site-packages/pyogrio/raw.py:723: RuntimeWarning: Value 2209951307.64184999 of field S_1_GRU_ar of feature 7 not successfully written. Possibly due to too larger number with respect to field width\n",
      "  ogr_write(\n",
      "/work/comphyd_lab/users/darri/data/CONFLUENCE_data/installs/conf-env/lib/python3.11/site-packages/pyogrio/raw.py:723: RuntimeWarning: Value 2209951307.64184999 of field S_1_HRU_ar of feature 7 not successfully written. Possibly due to too larger number with respect to field width\n",
      "  ogr_write(\n",
      "/work/comphyd_lab/users/darri/data/CONFLUENCE_data/installs/conf-env/lib/python3.11/site-packages/pyogrio/raw.py:723: RuntimeWarning: Value 2211445684.05116987 of field AS1 of feature 7 not successfully written. Possibly due to too larger number with respect to field width\n",
      "  ogr_write(\n",
      "/work/comphyd_lab/users/darri/data/CONFLUENCE_data/installs/conf-env/lib/python3.11/site-packages/pyogrio/raw.py:723: RuntimeWarning: Value 485478527.571542382 of field AS2 of feature 7 not successfully written. Possibly due to too larger number with respect to field width\n",
      "  ogr_write(\n",
      "/work/comphyd_lab/users/darri/data/CONFLUENCE_data/installs/conf-env/lib/python3.11/site-packages/pyogrio/raw.py:723: RuntimeWarning: Value 400507293.97707963 of field AINT of feature 7 not successfully written. Possibly due to too larger number with respect to field width\n",
      "  ogr_write(\n",
      "/work/comphyd_lab/users/darri/data/CONFLUENCE_data/installs/conf-env/lib/python3.11/site-packages/pyogrio/raw.py:723: RuntimeWarning: Value 2209951307.64184999 of field S_1_GRU_ar of feature 8 not successfully written. Possibly due to too larger number with respect to field width\n",
      "  ogr_write(\n",
      "/work/comphyd_lab/users/darri/data/CONFLUENCE_data/installs/conf-env/lib/python3.11/site-packages/pyogrio/raw.py:723: RuntimeWarning: Value 2209951307.64184999 of field S_1_HRU_ar of feature 8 not successfully written. Possibly due to too larger number with respect to field width\n",
      "  ogr_write(\n",
      "/work/comphyd_lab/users/darri/data/CONFLUENCE_data/installs/conf-env/lib/python3.11/site-packages/pyogrio/raw.py:723: RuntimeWarning: Value 2211445684.05116987 of field AS1 of feature 8 not successfully written. Possibly due to too larger number with respect to field width\n",
      "  ogr_write(\n",
      "/work/comphyd_lab/users/darri/data/CONFLUENCE_data/installs/conf-env/lib/python3.11/site-packages/pyogrio/raw.py:723: RuntimeWarning: Value 482862192.655931294 of field AS2 of feature 8 not successfully written. Possibly due to too larger number with respect to field width\n",
      "  ogr_write(\n",
      "/work/comphyd_lab/users/darri/data/CONFLUENCE_data/installs/conf-env/lib/python3.11/site-packages/pyogrio/raw.py:723: RuntimeWarning: Value 426152743.35519594 of field AINT of feature 8 not successfully written. Possibly due to too larger number with respect to field width\n",
      "  ogr_write(\n",
      "/work/comphyd_lab/users/darri/data/CONFLUENCE_data/installs/conf-env/lib/python3.11/site-packages/pyogrio/raw.py:723: RuntimeWarning: Value 2209951307.64184999 of field S_1_GRU_ar of feature 9 not successfully written. Possibly due to too larger number with respect to field width\n",
      "  ogr_write(\n",
      "/work/comphyd_lab/users/darri/data/CONFLUENCE_data/installs/conf-env/lib/python3.11/site-packages/pyogrio/raw.py:723: RuntimeWarning: Value 2209951307.64184999 of field S_1_HRU_ar of feature 9 not successfully written. Possibly due to too larger number with respect to field width\n",
      "  ogr_write(\n",
      "/work/comphyd_lab/users/darri/data/CONFLUENCE_data/installs/conf-env/lib/python3.11/site-packages/pyogrio/raw.py:723: RuntimeWarning: Value 2211445684.05116987 of field AS1 of feature 9 not successfully written. Possibly due to too larger number with respect to field width\n",
      "  ogr_write(\n",
      "/work/comphyd_lab/users/darri/data/CONFLUENCE_data/installs/conf-env/lib/python3.11/site-packages/pyogrio/raw.py:723: RuntimeWarning: Value 482862192.655893981 of field AS2 of feature 9 not successfully written. Possibly due to too larger number with respect to field width\n",
      "  ogr_write(\n",
      "/work/comphyd_lab/users/darri/data/CONFLUENCE_data/installs/conf-env/lib/python3.11/site-packages/pyogrio/raw.py:723: RuntimeWarning: Value 245401321.890637785 of field AINT of feature 9 not successfully written. Possibly due to too larger number with respect to field width\n",
      "  ogr_write(\n",
      "/work/comphyd_lab/users/darri/data/CONFLUENCE_data/installs/conf-env/lib/python3.11/site-packages/pyogrio/raw.py:723: RuntimeWarning: Value 2209951307.64184999 of field S_1_GRU_ar of feature 10 not successfully written. Possibly due to too larger number with respect to field width\n",
      "  ogr_write(\n",
      "/work/comphyd_lab/users/darri/data/CONFLUENCE_data/installs/conf-env/lib/python3.11/site-packages/pyogrio/raw.py:723: RuntimeWarning: Value 2209951307.64184999 of field S_1_HRU_ar of feature 10 not successfully written. Possibly due to too larger number with respect to field width\n",
      "  ogr_write(\n",
      "/work/comphyd_lab/users/darri/data/CONFLUENCE_data/installs/conf-env/lib/python3.11/site-packages/pyogrio/raw.py:723: RuntimeWarning: Value 2211445684.05116987 of field AS1 of feature 10 not successfully written. Possibly due to too larger number with respect to field width\n",
      "  ogr_write(\n",
      "/work/comphyd_lab/users/darri/data/CONFLUENCE_data/installs/conf-env/lib/python3.11/site-packages/pyogrio/raw.py:723: RuntimeWarning: Value 480236308.728175938 of field AS2 of feature 10 not successfully written. Possibly due to too larger number with respect to field width\n",
      "  ogr_write(\n",
      "/work/comphyd_lab/users/darri/data/CONFLUENCE_data/installs/conf-env/lib/python3.11/site-packages/pyogrio/raw.py:723: RuntimeWarning: Value 134972139.708831787 of field AINT of feature 10 not successfully written. Possibly due to too larger number with respect to field width\n",
      "  ogr_write(\n",
      "/work/comphyd_lab/users/darri/data/CONFLUENCE_data/installs/conf-env/lib/python3.11/site-packages/pyogrio/raw.py:723: RuntimeWarning: Value 2209951307.64184999 of field S_1_GRU_ar of feature 11 not successfully written. Possibly due to too larger number with respect to field width\n",
      "  ogr_write(\n",
      "/work/comphyd_lab/users/darri/data/CONFLUENCE_data/installs/conf-env/lib/python3.11/site-packages/pyogrio/raw.py:723: RuntimeWarning: Value 2209951307.64184999 of field S_1_HRU_ar of feature 11 not successfully written. Possibly due to too larger number with respect to field width\n",
      "  ogr_write(\n",
      "/work/comphyd_lab/users/darri/data/CONFLUENCE_data/installs/conf-env/lib/python3.11/site-packages/pyogrio/raw.py:723: RuntimeWarning: Value 2211445684.05116987 of field AS1 of feature 11 not successfully written. Possibly due to too larger number with respect to field width\n",
      "  ogr_write(\n",
      "/work/comphyd_lab/users/darri/data/CONFLUENCE_data/installs/conf-env/lib/python3.11/site-packages/pyogrio/raw.py:723: RuntimeWarning: Value 480236308.72810179 of field AS2 of feature 11 not successfully written. Possibly due to too larger number with respect to field width\n",
      "  ogr_write(\n",
      "/work/comphyd_lab/users/darri/data/CONFLUENCE_data/installs/conf-env/lib/python3.11/site-packages/pyogrio/raw.py:723: RuntimeWarning: Value 2209951307.64184999 of field S_1_GRU_ar of feature 12 not successfully written. Possibly due to too larger number with respect to field width\n",
      "  ogr_write(\n",
      "/work/comphyd_lab/users/darri/data/CONFLUENCE_data/installs/conf-env/lib/python3.11/site-packages/pyogrio/raw.py:723: RuntimeWarning: Value 2209951307.64184999 of field S_1_HRU_ar of feature 12 not successfully written. Possibly due to too larger number with respect to field width\n",
      "  ogr_write(\n",
      "/work/comphyd_lab/users/darri/data/CONFLUENCE_data/installs/conf-env/lib/python3.11/site-packages/pyogrio/raw.py:723: RuntimeWarning: Value 2211445684.05116987 of field AS1 of feature 12 not successfully written. Possibly due to too larger number with respect to field width\n",
      "  ogr_write(\n",
      "/work/comphyd_lab/users/darri/data/CONFLUENCE_data/installs/conf-env/lib/python3.11/site-packages/pyogrio/raw.py:723: RuntimeWarning: Value 480236308.728138864 of field AS2 of feature 12 not successfully written. Possibly due to too larger number with respect to field width\n",
      "  ogr_write(\n",
      "2025-05-11 15:16:59,455 - pyogrio._io - INFO - Created 13 records\n",
      "/work/comphyd_lab/users/darri/data/CONFLUENCE_data/installs/conf-env/lib/python3.11/site-packages/easymore/remapper.py:558: DeprecationWarning: dropping variables using `drop` is deprecated; use drop_vars.\n",
      "  attr = attr.drop('index')\n"
     ]
    },
    {
     "name": "stdout",
     "output_type": "stream",
     "text": [
      "Ended at date and time 2025-05-11 15:16:59.586743\n",
      "It took 0.491322 seconds to finish creating of the remapping file\n",
      "---------------------------\n",
      "Running within a SLURM job.\n",
      "SLURM environment variables found: ['SLURM_JOBID', 'SLURM_JOB_NAME', 'SLURM_NODELIST']\n",
      "------REMAPPING------\n",
      "netcdf output file will be compressed at level 4\n"
     ]
    }
   ],
   "source": [
    "# Run model-agnostic preprocessing\n",
    "print(\"\\nRunning model-agnostic preprocessing...\")\n",
    "confluence.managers['data'].run_model_agnostic_preprocessing()"
   ]
  },
  {
   "cell_type": "markdown",
   "metadata": {},
   "source": [
    "## 12. Model-Specific - Preprocessing\n",
    "Now we prepare inputs specific to our chosen hydrological model (SUMMA in this case). Each model has its own requirements for input format and configuration."
   ]
  },
  {
   "cell_type": "code",
   "execution_count": null,
   "metadata": {},
   "outputs": [],
   "source": [
    "# Step 4: Model Specific Processing and Initialization\n",
    "print(\"=== Step 4: Model Specific Processing and Initialization ===\")\n",
    "\n",
    "# Preprocess models\n",
    "print(f\"Preparing {confluence.config['HYDROLOGICAL_MODEL']} input files...\")\n",
    "confluence.managers['model'].preprocess_models()"
   ]
  },
  {
   "cell_type": "markdown",
   "metadata": {},
   "source": [
    "## 13. Model-Specific - Instantiation"
   ]
  },
  {
   "cell_type": "code",
   "execution_count": null,
   "metadata": {},
   "outputs": [],
   "source": [
    "# Run models\n",
    "print(f\"\\nRunning {confluence.config['HYDROLOGICAL_MODEL']} model...\")\n",
    "confluence.managers['model'].run_models()\n",
    "\n",
    "print(\"\\nModel run complete\")"
   ]
  },
  {
   "cell_type": "markdown",
   "metadata": {},
   "source": [
    "## 11. Model Agnostic Data Pre-Processing - Benchmarking"
   ]
  },
  {
   "cell_type": "code",
   "execution_count": null,
   "metadata": {},
   "outputs": [],
   "source": [
    "# Run benchmarking\n",
    "print(\"\\nRunning benchmarking analysis...\")\n",
    "benchmark_results = confluence.managers['analysis'].run_benchmarking()"
   ]
  },
  {
   "cell_type": "markdown",
   "metadata": {},
   "source": [
    "## 14. Optional Steps - Optimization and Analysis"
   ]
  },
  {
   "cell_type": "code",
   "execution_count": null,
   "metadata": {},
   "outputs": [],
   "source": [
    "# Step 5 & 6: Optional Steps (Optimization and Analysis)\n",
    "print(\"=== Step 5 & 6: Optional Steps ===\")\n",
    "\n",
    "# Check if optimization is enabled\n",
    "if confluence.config.get('RUN_ITERATIVE_OPTIMISATION', False):\n",
    "    print(\"Running model calibration...\")\n",
    "    optimization_results = confluence.managers['optimization'].calibrate_model()\n",
    "else:\n",
    "    print(\"Model calibration skipped (RUN_ITERATIVE_OPTIMISATION = False)\")\n",
    "\n",
    "# Check if emulation is enabled\n",
    "if confluence.config.get('RUN_LARGE_SAMPLE_EMULATION', False) or confluence.config.get('RUN_RANDOM_FOREST_EMULATION', False):\n",
    "    print(\"Running parameter emulation...\")\n",
    "    emulation_results = confluence.managers['optimization'].run_emulation()\n",
    "else:\n",
    "    print(\"Parameter emulation skipped\")\n",
    "\n",
    "# Check if decision analysis is enabled\n",
    "if confluence.config.get('RUN_DECISION_ANALYSIS', False):\n",
    "    print(\"Running decision analysis...\")\n",
    "    decision_results = confluence.managers['analysis'].run_decision_analysis()\n",
    "else:\n",
    "    print(\"Decision analysis skipped\")\n",
    "\n",
    "# Check if sensitivity analysis is enabled\n",
    "if confluence.config.get('RUN_SENSITIVITY_ANALYSIS', False):\n",
    "    print(\"Running sensitivity analysis...\")\n",
    "    sensitivity_results = confluence.managers['analysis'].run_sensitivity_analysis()\n",
    "else:\n",
    "    print(\"Sensitivity analysis skipped\")"
   ]
  },
  {
   "cell_type": "markdown",
   "metadata": {},
   "source": [
    "## 15 - Result Analysis and Evaluation"
   ]
  },
  {
   "cell_type": "code",
   "execution_count": null,
   "metadata": {},
   "outputs": [],
   "source": [
    "# Step 7: Result Analysis and Evaluation\n",
    "print(\"=== Step 7: Result Analysis and Evaluation ===\")\n",
    "\n",
    "# Postprocess results\n",
    "print(\"Post-processing model results...\")\n",
    "confluence.managers['model'].postprocess_results()\n",
    "\n",
    "# Get workflow status\n",
    "status = confluence.workflow_orchestrator.get_workflow_status()\n",
    "print(f\"\\nWorkflow Status:\")\n",
    "print(f\"Total steps: {status['total_steps']}\")\n",
    "print(f\"Completed steps: {status['completed_steps']}\")\n",
    "print(f\"Pending steps: {status['pending_steps']}\")\n",
    "\n",
    "# Display final summary\n",
    "print(\"\\n=== Workflow Complete ===\")\n",
    "print(f\"Project: {confluence.config['DOMAIN_NAME']}\")\n",
    "print(f\"Experiment: {confluence.config['EXPERIMENT_ID']}\")\n",
    "print(f\"Model: {confluence.config['HYDROLOGICAL_MODEL']}\")\n",
    "print(f\"\\nKey outputs:\")\n",
    "print(f\"  - Watershed boundary: {project_dir}/shapefiles/river_basins/\")\n",
    "print(f\"  - Model configuration: {project_dir}/settings/{confluence.config['HYDROLOGICAL_MODEL']}/\")\n",
    "print(f\"  - Simulation results: {project_dir}/simulations/{confluence.config['EXPERIMENT_ID']}/\")\n",
    "print(f\"  - Performance metrics: {project_dir}/evaluation/\")\n",
    "print(f\"  - Visualizations: {project_dir}/plots/\")"
   ]
  },
  {
   "cell_type": "markdown",
   "metadata": {},
   "source": [
    "## 16: Alternative - Run Complete Workflow"
   ]
  },
  {
   "cell_type": "code",
   "execution_count": null,
   "metadata": {},
   "outputs": [],
   "source": [
    "# Alternative: Run the complete workflow in one step\n",
    "# (Uncomment to use this instead of the step-by-step approach)\n",
    "\n",
    "# confluence.run_workflow()"
   ]
  },
  {
   "cell_type": "markdown",
   "metadata": {},
   "source": [
    "## Summary: Understanding the CONFLUENCE Workflow\n",
    "Congratulations! You've completed a full lumped basin modeling workflow with CONFLUENCE. Let's reflect on what we accomplished and how CONFLUENCE helped navigate the complex decision tree of hydrological modeling.\n",
    "The Decision Tree We Navigated:\n",
    "\n",
    "### Project Organization: Established a consistent structure for all files\n",
    "Domain Definition: From pour point → watershed boundary → single HRU\n",
    "Data Acquisition: Gathered forcing data, observations, and static attributes\n",
    "Model Configuration: Set up SUMMA with appropriate parameters\n",
    "Simulation: Ran the model for our specified period\n",
    "Evaluation: Compared results with observations\n",
    "\n",
    "## Next Steps You Could Try:\n",
    "\n",
    "### Experiment with different models (change HYDROLOGICAL_MODEL)\n",
    "Try distributed modeling (change SPATIAL_MODE to 'Distributed')\n",
    "Calibrate the model (use the optimization module)\n",
    "Analyze model sensitivity to different parameters\n",
    "Compare multiple model structures (decision analysis)\n"
   ]
  }
 ],
 "metadata": {
  "kernelspec": {
   "display_name": "CONFLUENCE (HPC Modules)",
   "language": "python",
   "name": "conf-env-hpc"
  },
  "language_info": {
   "codemirror_mode": {
    "name": "ipython",
    "version": 3
   },
   "file_extension": ".py",
   "mimetype": "text/x-python",
   "name": "python",
   "nbconvert_exporter": "python",
   "pygments_lexer": "ipython3",
   "version": "3.11.7"
  }
 },
 "nbformat": 4,
 "nbformat_minor": 4
}
