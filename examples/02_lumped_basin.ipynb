{
 "cells": [
  {
   "cell_type": "markdown",
   "metadata": {},
   "source": [
    "# CONFLUENCE Tutorial: Lumped Basin Workflow (Bow River at Banff)\n",
    "\n",
    "This notebook walks through the complete CONFLUENCE workflow for a lumped basin model using the Bow River at Banff as an example. We'll execute each step individually to understand what's happening at each stage.\n",
    "\n",
    "## Introduction to CONFLUENCE\n",
    "\n",
    "CONFLUENCE (Community Optimization and Numerical Framework for Large-domain Understanding of Environmental Networks and Computational Exploration) is designed to address a fundamental challenge in hydrological modeling: the overwhelming number of decisions required to set up and run a hydrological model.\n",
    "\n",
    "### The Challenge of Hydrological Modeling Decisions\n",
    "\n",
    "Hydrological modeling involves numerous interconnected decisions at every stage:\n",
    "- **Domain Definition**: What area should we model? How should we delineate the watershed?\n",
    "- **Data Processing**: Which forcing datasets? What temporal and spatial resolution? \n",
    "- **Model Selection**: Which hydrological model? What process representations?\n",
    "- **Parameterization**: Which parameters to calibrate? What are reasonable ranges?\n",
    "- **Evaluation**: What metrics? Which observation datasets?\n",
    "\n",
    "Each decision impacts the others, creating a complex decision tree that can be overwhelming for both novice and experienced modelers.\n",
    "\n",
    "### How CONFLUENCE Helps\n",
    "\n",
    "CONFLUENCE addresses this complexity by:\n",
    "1. **Organizing the workflow** into clear, sequential steps\n",
    "2. **Standardizing data structures** across different models and datasets\n",
    "3. **Providing sensible defaults** while allowing full customization\n",
    "4. **Maintaining detailed provenance** of all decisions made\n",
    "5. **Enabling reproducibility** through comprehensive configuration management\n",
    "\n",
    "### CONFLUENCE's Code Structure: Organized by Function\n",
    "\n",
    "CONFLUENCE uses an object-oriented design where different aspects of hydrological modeling are handled by specialized classes called \"managers\". This is like having different experts, each responsible for their domain:\n",
    "\n",
    "```python\n",
    "# Each manager handles a specific task\n",
    "project_manager = ProjectManager(config, logger)     # Project setup\n",
    "domain_manager = DomainManager(config, logger)       # Watershed delineation  \n",
    "data_manager = DataManager(config, logger)           # Data processing\n",
    "model_manager = ModelManager(config, logger)         # Model operations\n",
    "```\n",
    "\n",
    "### Why This Matters\n",
    "\n",
    "Instead of one giant script with thousands of lines, CONFLUENCE breaks the workflow into logical pieces:\n",
    "\n",
    "```python\n",
    "# Traditional approach - everything mixed together\n",
    "def run_model():\n",
    "    # 1000+ lines of mixed code...\n",
    "    setup_directories()\n",
    "    download_data()\n",
    "    delineate_watershed()\n",
    "    process_forcings()\n",
    "    run_simulation()\n",
    "    # etc...\n",
    "\n",
    "# CONFLUENCE approach - organized by function\n",
    "project_manager.setup_project()          # All project setup code in one place\n",
    "domain_manager.define_domain()           # All watershed code in one place\n",
    "data_manager.acquire_forcings()          # All data code in one place\n",
    "model_manager.run_model()               # All model code in one place\n",
    "```\n",
    "\n",
    "This organization makes it easier to:\n",
    "\n",
    "Find and modify specific functionality\n",
    "Add new models or data sources\n",
    "Debug issues in specific components\n",
    "Reuse code for different projects\n",
    "\n",
    "Throughout this tutorial, you'll see how each manager handles its part of the workflow, working together to complete the full modeling process.\n",
    "\n",
    "\n",
    "## Overview of This Tutorial\n",
    "\n",
    "We'll work through the simplest case in hydrological modeling: a lumped basin model. This treats the entire watershed as a single unit, making it an ideal starting point for understanding the CONFLUENCE workflow.\n",
    "\n",
    "We'll run through:\n",
    "1. Project setup and configuration\n",
    "2. Domain definition (watershed delineation)\n",
    "3. Data acquisition (forcings and attributes)\n",
    "4. Model preprocessing\n",
    "5. Model execution\n",
    "6. Results visualization\n",
    "\n",
    "## 1. Setup and Import Libraries"
   ]
  },
  {
   "cell_type": "code",
   "execution_count": 1,
   "metadata": {},
   "outputs": [],
   "source": [
    "# Import required libraries\n",
    "import sys\n",
    "import os\n",
    "from pathlib import Path\n",
    "import yaml\n",
    "import pandas as pd\n",
    "import matplotlib.pyplot as plt\n",
    "import geopandas as gpd\n",
    "from datetime import datetime\n",
    "import contextily as cx\n",
    "import xarray as xr\n",
    "\n",
    "# Add CONFLUENCE to path\n",
    "confluence_path = Path('../').resolve()\n",
    "sys.path.append(str(confluence_path))\n",
    "\n",
    "# Import main CONFLUENCE class\n",
    "from CONFLUENCE import CONFLUENCE\n",
    "\n",
    "# Set up plotting style\n",
    "plt.style.use('default')\n",
    "%matplotlib inline"
   ]
  },
  {
   "cell_type": "markdown",
   "metadata": {},
   "source": [
    "## 2. Initialize CONFLUENCE\n",
    "First, let's set up our directories and load the configuration. CONFLUENCE uses a centralized configuration file that controls all aspects of the modeling workflow."
   ]
  },
  {
   "cell_type": "code",
   "execution_count": 2,
   "metadata": {},
   "outputs": [
    {
     "name": "stdout",
     "output_type": "stream",
     "text": [
      "12:59:45 - INFO - ============================================================\n"
     ]
    },
    {
     "name": "stderr",
     "output_type": "stream",
     "text": [
      "2025-05-11 12:59:45,771 - confluence_general - INFO - ============================================================\n"
     ]
    },
    {
     "name": "stdout",
     "output_type": "stream",
     "text": [
      "12:59:45 - INFO - CONFLUENCE Logging Initialized\n"
     ]
    },
    {
     "name": "stderr",
     "output_type": "stream",
     "text": [
      "2025-05-11 12:59:45,772 - confluence_general - INFO - CONFLUENCE Logging Initialized\n"
     ]
    },
    {
     "name": "stdout",
     "output_type": "stream",
     "text": [
      "12:59:45 - INFO - Domain: Bow_at_Banff_lumped\n"
     ]
    },
    {
     "name": "stderr",
     "output_type": "stream",
     "text": [
      "2025-05-11 12:59:45,774 - confluence_general - INFO - Domain: Bow_at_Banff_lumped\n"
     ]
    },
    {
     "name": "stdout",
     "output_type": "stream",
     "text": [
      "12:59:45 - INFO - Experiment ID: run_1\n"
     ]
    },
    {
     "name": "stderr",
     "output_type": "stream",
     "text": [
      "2025-05-11 12:59:45,776 - confluence_general - INFO - Experiment ID: run_1\n"
     ]
    },
    {
     "name": "stdout",
     "output_type": "stream",
     "text": [
      "12:59:45 - INFO - Log Level: INFO\n"
     ]
    },
    {
     "name": "stderr",
     "output_type": "stream",
     "text": [
      "2025-05-11 12:59:45,777 - confluence_general - INFO - Log Level: INFO\n"
     ]
    },
    {
     "name": "stdout",
     "output_type": "stream",
     "text": [
      "12:59:45 - INFO - Log File: /work/comphyd_lab/data/CONFLUENCE_data/domain_Bow_at_Banff_lumped/_workLog_Bow_at_Banff_lumped/confluence_general_Bow_at_Banff_lumped_20250511_125945.log\n"
     ]
    },
    {
     "name": "stderr",
     "output_type": "stream",
     "text": [
      "2025-05-11 12:59:45,779 - confluence_general - INFO - Log File: /work/comphyd_lab/data/CONFLUENCE_data/domain_Bow_at_Banff_lumped/_workLog_Bow_at_Banff_lumped/confluence_general_Bow_at_Banff_lumped_20250511_125945.log\n"
     ]
    },
    {
     "name": "stdout",
     "output_type": "stream",
     "text": [
      "12:59:45 - INFO - ============================================================\n"
     ]
    },
    {
     "name": "stderr",
     "output_type": "stream",
     "text": [
      "2025-05-11 12:59:45,780 - confluence_general - INFO - ============================================================\n"
     ]
    },
    {
     "name": "stdout",
     "output_type": "stream",
     "text": [
      "12:59:45 - INFO - Configuration logged to: /work/comphyd_lab/data/CONFLUENCE_data/domain_Bow_at_Banff_lumped/_workLog_Bow_at_Banff_lumped/config_Bow_at_Banff_lumped_20250511_125945.yaml\n"
     ]
    },
    {
     "name": "stderr",
     "output_type": "stream",
     "text": [
      "2025-05-11 12:59:45,802 - confluence_general - INFO - Configuration logged to: /work/comphyd_lab/data/CONFLUENCE_data/domain_Bow_at_Banff_lumped/_workLog_Bow_at_Banff_lumped/config_Bow_at_Banff_lumped_20250511_125945.yaml\n"
     ]
    },
    {
     "name": "stdout",
     "output_type": "stream",
     "text": [
      "12:59:45 - INFO - Initializing CONFLUENCE system\n"
     ]
    },
    {
     "name": "stderr",
     "output_type": "stream",
     "text": [
      "2025-05-11 12:59:45,807 - confluence_general - INFO - Initializing CONFLUENCE system\n"
     ]
    },
    {
     "name": "stdout",
     "output_type": "stream",
     "text": [
      "12:59:45 - INFO - Configuration loaded from: /home/darri.eythorsson/code/CONFLUENCE/0_config_files/config_notebook.yaml\n"
     ]
    },
    {
     "name": "stderr",
     "output_type": "stream",
     "text": [
      "2025-05-11 12:59:45,808 - confluence_general - INFO - Configuration loaded from: /home/darri.eythorsson/code/CONFLUENCE/0_config_files/config_notebook.yaml\n"
     ]
    },
    {
     "name": "stdout",
     "output_type": "stream",
     "text": [
      "12:59:45 - INFO - Initializing VariableHandler for dataset: ERA5 and model: SUMMA\n"
     ]
    },
    {
     "name": "stderr",
     "output_type": "stream",
     "text": [
      "2025-05-11 12:59:45,810 - confluence_general - INFO - Initializing VariableHandler for dataset: ERA5 and model: SUMMA\n"
     ]
    },
    {
     "name": "stdout",
     "output_type": "stream",
     "text": [
      "12:59:46 - INFO - CONFLUENCE system initialized successfully\n"
     ]
    },
    {
     "name": "stderr",
     "output_type": "stream",
     "text": [
      "2025-05-11 12:59:46,143 - confluence_general - INFO - CONFLUENCE system initialized successfully\n"
     ]
    },
    {
     "name": "stdout",
     "output_type": "stream",
     "text": [
      "=== Directory Configuration ===\n",
      "Code Directory: /home/darri.eythorsson/code/CONFLUENCE\n",
      "Data Directory: /work/comphyd_lab/data/CONFLUENCE_data\n",
      "\n",
      "=== Key Configuration Settings ===\n",
      "Domain Name: Bow_at_Banff_lumped\n",
      "Pour Point: 51.1722/-115.5717\n",
      "Spatial Mode: Lumped\n",
      "Model: SUMMA\n",
      "Simulation Period: 2018-01-01 01:00 to 2022-12-31 23:00\n"
     ]
    }
   ],
   "source": [
    "# Set directory paths\n",
    "CONFLUENCE_CODE_DIR = confluence_path\n",
    "CONFLUENCE_DATA_DIR = Path('/work/comphyd_lab/data/CONFLUENCE_data')  # ← User should modify this path\n",
    "\n",
    "# Verify paths exist\n",
    "if not CONFLUENCE_CODE_DIR.exists():\n",
    "    raise FileNotFoundError(f\"CONFLUENCE code directory not found: {CONFLUENCE_CODE_DIR}\")\n",
    "\n",
    "if not CONFLUENCE_DATA_DIR.exists():\n",
    "    print(f\"Data directory doesn't exist. Creating: {CONFLUENCE_DATA_DIR}\")\n",
    "    CONFLUENCE_DATA_DIR.mkdir(parents=True, exist_ok=True)\n",
    "\n",
    "# Load and update configuration\n",
    "config_path = CONFLUENCE_CODE_DIR / '0_config_files' / 'config_template.yaml'\n",
    "\n",
    "# Read config file and update paths\n",
    "with open(config_path, 'r') as f:\n",
    "    config_dict = yaml.safe_load(f)\n",
    "\n",
    "config_dict['CONFLUENCE_CODE_DIR'] = str(CONFLUENCE_CODE_DIR)\n",
    "config_dict['CONFLUENCE_DATA_DIR'] = str(CONFLUENCE_DATA_DIR)\n",
    "\n",
    "# Save updated config to a temporary file\n",
    "temp_config_path = CONFLUENCE_CODE_DIR / '0_config_files' / 'config_notebook.yaml'\n",
    "with open(temp_config_path, 'w') as f:\n",
    "    yaml.dump(config_dict, f)\n",
    "\n",
    "# Initialize CONFLUENCE\n",
    "confluence = CONFLUENCE(temp_config_path)\n",
    "\n",
    "# Display configuration\n",
    "print(\"=== Directory Configuration ===\")\n",
    "print(f\"Code Directory: {CONFLUENCE_CODE_DIR}\")\n",
    "print(f\"Data Directory: {CONFLUENCE_DATA_DIR}\")\n",
    "print(\"\\n=== Key Configuration Settings ===\")\n",
    "print(f\"Domain Name: {confluence.config['DOMAIN_NAME']}\")\n",
    "print(f\"Pour Point: {confluence.config['POUR_POINT_COORDS']}\")\n",
    "print(f\"Spatial Mode: {confluence.config['SPATIAL_MODE']}\")\n",
    "print(f\"Model: {confluence.config['HYDROLOGICAL_MODEL']}\")\n",
    "print(f\"Simulation Period: {confluence.config['EXPERIMENT_TIME_START']} to {confluence.config['EXPERIMENT_TIME_END']}\")"
   ]
  },
  {
   "cell_type": "markdown",
   "metadata": {},
   "source": [
    "## 3. Step 1: Project Setup - Organizing the Modeling Workflow\n",
    "The first step in any CONFLUENCE workflow is to establish a well-organized project structure. This might seem trivial, but it's crucial for:\n",
    "\n",
    "Maintaining consistency across different experiments\n",
    "Ensuring all components can find required files\n",
    "Enabling reproducibility\n",
    "Facilitating collaboration"
   ]
  },
  {
   "cell_type": "code",
   "execution_count": 3,
   "metadata": {},
   "outputs": [
    {
     "name": "stdout",
     "output_type": "stream",
     "text": [
      "=== Step 1: Project Initialization ===\n",
      "12:59:46 - INFO - Setting up project for domain: Bow_at_Banff_lumped\n"
     ]
    },
    {
     "name": "stderr",
     "output_type": "stream",
     "text": [
      "2025-05-11 12:59:46,158 - confluence_general - INFO - Setting up project for domain: Bow_at_Banff_lumped\n"
     ]
    },
    {
     "name": "stdout",
     "output_type": "stream",
     "text": [
      "12:59:46 - INFO - Project directory created at: /work/comphyd_lab/data/CONFLUENCE_data/domain_Bow_at_Banff_lumped\n"
     ]
    },
    {
     "name": "stderr",
     "output_type": "stream",
     "text": [
      "2025-05-11 12:59:46,166 - confluence_general - INFO - Project directory created at: /work/comphyd_lab/data/CONFLUENCE_data/domain_Bow_at_Banff_lumped\n",
      "2025-05-11 12:59:46,352 - pyogrio._io - INFO - Created 1 records\n"
     ]
    },
    {
     "name": "stdout",
     "output_type": "stream",
     "text": [
      "12:59:46 - INFO - Pour point shapefile created successfully: /work/comphyd_lab/data/CONFLUENCE_data/domain_Bow_at_Banff_lumped/shapefiles/pour_point/Bow_at_Banff_lumped_pourPoint.shp\n"
     ]
    },
    {
     "name": "stderr",
     "output_type": "stream",
     "text": [
      "2025-05-11 12:59:46,355 - confluence_general - INFO - Pour point shapefile created successfully: /work/comphyd_lab/data/CONFLUENCE_data/domain_Bow_at_Banff_lumped/shapefiles/pour_point/Bow_at_Banff_lumped_pourPoint.shp\n"
     ]
    },
    {
     "name": "stdout",
     "output_type": "stream",
     "text": [
      "\n",
      "Created directories:\n",
      "  📁 _workLog_Bow_at_Banff_lumped\n",
      "  📁 attributes\n",
      "  📁 documentation\n",
      "  📁 observations\n",
      "  📁 optimisation\n",
      "  📁 shapefiles\n",
      "\n",
      "Directory purposes:\n",
      "  📁 shapefiles: Domain geometry (watershed, pour points, river network)\n",
      "  📁 attributes: Static characteristics (elevation, soil, land cover)\n",
      "  📁 forcing: Meteorological inputs (precipitation, temperature)\n",
      "  📁 simulations: Model outputs\n",
      "  📁 evaluation: Performance metrics and comparisons\n",
      "  📁 plots: Visualizations\n",
      "  📁 optimisation: Calibration results\n"
     ]
    }
   ],
   "source": [
    "# Step 1: Project Initialization\n",
    "print(\"=== Step 1: Project Initialization ===\")\n",
    "\n",
    "# Setup project\n",
    "project_dir = confluence.managers['project'].setup_project()\n",
    "\n",
    "# Create pour point\n",
    "pour_point_path = confluence.managers['project'].create_pour_point()\n",
    "\n",
    "# List created directories\n",
    "print(\"\\nCreated directories:\")\n",
    "for item in sorted(project_dir.iterdir()):\n",
    "    if item.is_dir():\n",
    "        print(f\"  📁 {item.name}\")\n",
    "\n",
    "print(\"\\nDirectory purposes:\")\n",
    "print(\"  📁 shapefiles: Domain geometry (watershed, pour points, river network)\")\n",
    "print(\"  📁 attributes: Static characteristics (elevation, soil, land cover)\")\n",
    "print(\"  📁 forcing: Meteorological inputs (precipitation, temperature)\")\n",
    "print(\"  📁 simulations: Model outputs\")\n",
    "print(\"  📁 evaluation: Performance metrics and comparisons\")\n",
    "print(\"  📁 plots: Visualizations\")\n",
    "print(\"  📁 optimisation: Calibration results\")"
   ]
  },
  {
   "cell_type": "markdown",
   "metadata": {},
   "source": [
    "## 5. Step 2: Geospatial Domain Definition and Analysis\n",
    "Before we can delineate the watershed, we need elevation data. CONFLUENCE also acquires soil and land cover data at this stage for later use in the model."
   ]
  },
  {
   "cell_type": "code",
   "execution_count": 4,
   "metadata": {},
   "outputs": [
    {
     "name": "stdout",
     "output_type": "stream",
     "text": [
      "=== Step 2: Geospatial Domain Definition and Analysis ===\n",
      "Acquiring geospatial attributes (DEM, soil, land cover)...\n",
      "12:59:46 - INFO - Starting attribute acquisition\n"
     ]
    },
    {
     "name": "stderr",
     "output_type": "stream",
     "text": [
      "2025-05-11 12:59:46,367 - confluence_general - INFO - Starting attribute acquisition\n"
     ]
    },
    {
     "name": "stdout",
     "output_type": "stream",
     "text": [
      "12:59:46 - INFO - Acquiring elevation data\n"
     ]
    },
    {
     "name": "stderr",
     "output_type": "stream",
     "text": [
      "2025-05-11 12:59:46,371 - confluence_general - INFO - Acquiring elevation data\n"
     ]
    },
    {
     "name": "stdout",
     "output_type": "stream",
     "text": [
      "extract-gis.sh: WARNING! --account not provided, using `rpp-kshook` by default.\n",
      "(2025-05-11 18:59:49) merit_hydro.sh: processing MERIT-Hydro GeoTIFF(s)...\n",
      "(2025-05-11 18:59:49) merit_hydro.sh: creating cache directory under /home/darri.eythorsson/cache_Bow_at_Banff_lumped\n",
      "(2025-05-11 18:59:49) merit_hydro.sh: creating output directory under /work/comphyd_lab/data/CONFLUENCE_data/domain_Bow_at_Banff_lumped/attributes/elevation/dem\n",
      "(2025-05-11 18:59:49) merit_hydro.sh: untarring MERIT-Hydro variables under /home/darri.eythorsson/cache_Bow_at_Banff_lumped\n",
      "(2025-05-11 19:00:58) merit_hydro.sh: subsetting GeoTIFFs under /work/comphyd_lab/data/CONFLUENCE_data/domain_Bow_at_Banff_lumped/attributes/elevation/dem\n"
     ]
    },
    {
     "name": "stderr",
     "output_type": "stream",
     "text": [
      "mkdir: cannot create directory ‘/home/darri.eythorsson/empty_dir’: File exists\n"
     ]
    },
    {
     "name": "stdout",
     "output_type": "stream",
     "text": [
      "(2025-05-11 19:00:59) merit_hydro.sh: deleting temporary files from /home/darri.eythorsson/cache_Bow_at_Banff_lumped\n",
      "(2025-05-11 19:00:59) merit_hydro.sh: temporary files from /home/darri.eythorsson/cache_Bow_at_Banff_lumped are removed\n",
      "(2025-05-11 19:00:59) merit_hydro.sh: results are produced under /work/comphyd_lab/data/CONFLUENCE_data/domain_Bow_at_Banff_lumped/attributes/elevation/dem\n",
      "13:00:59 - INFO - gistool completed successfully.\n"
     ]
    },
    {
     "name": "stderr",
     "output_type": "stream",
     "text": [
      "2025-05-11 13:00:59,676 - confluence_general - INFO - gistool completed successfully.\n"
     ]
    },
    {
     "name": "stdout",
     "output_type": "stream",
     "text": [
      "13:00:59 - INFO - Geospatial data acquisition process completed\n"
     ]
    },
    {
     "name": "stderr",
     "output_type": "stream",
     "text": [
      "2025-05-11 13:00:59,678 - confluence_general - INFO - Geospatial data acquisition process completed\n"
     ]
    },
    {
     "name": "stdout",
     "output_type": "stream",
     "text": [
      "13:00:59 - INFO - Acquiring land cover data\n"
     ]
    },
    {
     "name": "stderr",
     "output_type": "stream",
     "text": [
      "2025-05-11 13:00:59,680 - confluence_general - INFO - Acquiring land cover data\n"
     ]
    },
    {
     "name": "stdout",
     "output_type": "stream",
     "text": [
      "extract-gis.sh: WARNING! --account not provided, using `rpp-kshook` by default.\n",
      "(2025-05-11 19:01:03) modis.sh: processing MODIS HDF(s)...\n",
      "(2025-05-11 19:01:03) modis.sh: creating cache directory under /home/darri.eythorsson/cache_Bow_at_Banff_lumped\n",
      "(2025-05-11 19:01:03) modis.sh: creating output directory under /work/comphyd_lab/data/CONFLUENCE_data/domain_Bow_at_Banff_lumped/attributes/landclass\n",
      "(2025-05-11 19:01:03) modis.sh: building virtual format (.vrt) of MODIS HDFs under /home/darri.eythorsson/cache_Bow_at_Banff_lumped\n"
     ]
    },
    {
     "name": "stderr",
     "output_type": "stream",
     "text": [
      "ERROR 1: PROJ: sinu: Invalid latitude\n",
      "ERROR 1: PROJ: sinu: Invalid latitude\n",
      "ERROR 1: PROJ: sinu: Invalid latitude\n",
      "ERROR 1: PROJ: sinu: Invalid latitude\n",
      "ERROR 1: PROJ: sinu: Invalid latitude\n",
      "ERROR 1: PROJ: sinu: Invalid latitude\n",
      "ERROR 1: PROJ: sinu: Invalid latitude\n",
      "ERROR 1: PROJ: sinu: Invalid latitude\n",
      "ERROR 1: PROJ: sinu: Invalid latitude\n",
      "ERROR 1: PROJ: sinu: Invalid latitude\n",
      "ERROR 1: PROJ: sinu: Invalid latitude\n",
      "ERROR 1: PROJ: sinu: Invalid latitude\n",
      "ERROR 1: PROJ: sinu: Invalid latitude\n",
      "ERROR 1: PROJ: sinu: Invalid latitude\n",
      "ERROR 1: PROJ: sinu: Invalid latitude\n",
      "ERROR 1: PROJ: sinu: Invalid latitude\n",
      "ERROR 1: PROJ: sinu: Invalid latitude\n",
      "ERROR 1: PROJ: sinu: Invalid latitude\n",
      "ERROR 1: PROJ: sinu: Invalid latitude\n",
      "ERROR 1: PROJ: sinu: Invalid latitude\n",
      "ERROR 1: PROJ: sinu: Invalid latitude\n",
      "ERROR 1: PROJ: sinu: Invalid latitude\n",
      "ERROR 1: PROJ: sinu: Invalid latitude\n",
      "ERROR 1: PROJ: sinu: Invalid latitude\n",
      "ERROR 1: PROJ: sinu: Invalid latitude\n",
      "ERROR 1: PROJ: sinu: Invalid latitude\n",
      "ERROR 1: PROJ: sinu: Invalid latitude\n",
      "ERROR 1: PROJ: sinu: Invalid latitude\n",
      "ERROR 1: PROJ: sinu: Invalid latitude\n",
      "ERROR 1: PROJ: sinu: Invalid latitude\n",
      "ERROR 1: PROJ: sinu: Invalid latitude\n",
      "ERROR 1: PROJ: sinu: Invalid latitude\n",
      "ERROR 1: PROJ: sinu: Invalid latitude\n",
      "ERROR 1: PROJ: sinu: Invalid latitude\n",
      "ERROR 1: PROJ: sinu: Invalid latitude\n",
      "ERROR 1: PROJ: sinu: Invalid latitude\n",
      "ERROR 1: PROJ: sinu: Invalid latitude\n",
      "ERROR 1: PROJ: sinu: Invalid latitude\n",
      "ERROR 1: PROJ: sinu: Invalid latitude\n",
      "ERROR 1: PROJ: sinu: Invalid latitude\n",
      "ERROR 1: PROJ: sinu: Invalid latitude\n",
      "ERROR 1: PROJ: sinu: Invalid latitude\n",
      "ERROR 1: PROJ: sinu: Invalid latitude\n",
      "ERROR 1: PROJ: sinu: Invalid latitude\n",
      "ERROR 1: PROJ: sinu: Invalid latitude\n",
      "ERROR 1: PROJ: sinu: Invalid latitude\n",
      "ERROR 1: PROJ: sinu: Invalid latitude\n",
      "ERROR 1: PROJ: sinu: Invalid latitude\n",
      "ERROR 1: PROJ: sinu: Invalid latitude\n",
      "ERROR 1: PROJ: sinu: Invalid latitude\n",
      "ERROR 1: PROJ: sinu: Invalid latitude\n",
      "ERROR 1: PROJ: sinu: Invalid latitude\n",
      "ERROR 1: PROJ: sinu: Invalid latitude\n",
      "ERROR 1: PROJ: sinu: Invalid latitude\n",
      "ERROR 1: PROJ: sinu: Invalid latitude\n",
      "ERROR 1: PROJ: sinu: Invalid latitude\n",
      "ERROR 1: PROJ: sinu: Invalid latitude\n",
      "ERROR 1: PROJ: sinu: Invalid latitude\n",
      "ERROR 1: PROJ: sinu: Invalid latitude\n",
      "ERROR 1: PROJ: sinu: Invalid latitude\n",
      "ERROR 1: PROJ: sinu: Invalid latitude\n",
      "ERROR 1: PROJ: sinu: Invalid latitude\n",
      "ERROR 1: PROJ: sinu: Invalid latitude\n",
      "ERROR 1: PROJ: sinu: Invalid latitude\n",
      "ERROR 1: PROJ: sinu: Invalid latitude\n",
      "ERROR 1: PROJ: sinu: Invalid latitude\n",
      "ERROR 1: PROJ: sinu: Invalid latitude\n",
      "ERROR 1: PROJ: sinu: Invalid latitude\n",
      "ERROR 1: PROJ: sinu: Invalid latitude\n",
      "ERROR 1: PROJ: sinu: Invalid latitude\n",
      "ERROR 1: PROJ: sinu: Invalid latitude\n",
      "ERROR 1: PROJ: sinu: Invalid latitude\n",
      "ERROR 1: PROJ: sinu: Invalid latitude\n",
      "ERROR 1: PROJ: sinu: Invalid latitude\n",
      "ERROR 1: PROJ: sinu: Invalid latitude\n",
      "ERROR 1: PROJ: sinu: Invalid latitude\n",
      "ERROR 1: PROJ: sinu: Invalid latitude\n",
      "ERROR 1: PROJ: sinu: Invalid latitude\n",
      "ERROR 1: PROJ: sinu: Invalid latitude\n",
      "ERROR 1: PROJ: sinu: Invalid latitude\n",
      "ERROR 1: PROJ: sinu: Invalid latitude\n",
      "ERROR 1: PROJ: sinu: Invalid latitude\n",
      "ERROR 1: PROJ: sinu: Invalid latitude\n",
      "ERROR 1: PROJ: sinu: Invalid latitude\n",
      "ERROR 1: PROJ: sinu: Invalid latitude\n",
      "ERROR 1: PROJ: sinu: Invalid latitude\n",
      "ERROR 1: PROJ: sinu: Invalid latitude\n",
      "ERROR 1: PROJ: sinu: Invalid latitude\n",
      "ERROR 1: PROJ: sinu: Invalid latitude\n",
      "ERROR 1: PROJ: sinu: Invalid latitude\n",
      "ERROR 1: PROJ: sinu: Invalid latitude\n",
      "ERROR 1: PROJ: sinu: Invalid latitude\n",
      "ERROR 1: PROJ: sinu: Invalid latitude\n",
      "ERROR 1: PROJ: sinu: Invalid latitude\n",
      "ERROR 1: PROJ: sinu: Invalid latitude\n",
      "ERROR 1: PROJ: sinu: Invalid latitude\n",
      "ERROR 1: PROJ: sinu: Invalid latitude\n",
      "ERROR 1: PROJ: sinu: Invalid latitude\n",
      "ERROR 1: PROJ: sinu: Invalid latitude\n",
      "ERROR 1: PROJ: sinu: Invalid latitude\n",
      "ERROR 1: PROJ: sinu: Invalid latitude\n",
      "ERROR 1: PROJ: sinu: Invalid latitude\n",
      "ERROR 1: PROJ: sinu: Invalid latitude\n",
      "ERROR 1: PROJ: sinu: Invalid latitude\n",
      "ERROR 1: PROJ: sinu: Invalid latitude\n",
      "ERROR 1: PROJ: sinu: Invalid latitude\n",
      "ERROR 1: PROJ: sinu: Invalid latitude\n",
      "ERROR 1: PROJ: sinu: Invalid latitude\n",
      "ERROR 1: PROJ: sinu: Invalid latitude\n",
      "ERROR 1: PROJ: sinu: Invalid latitude\n",
      "ERROR 1: PROJ: sinu: Invalid latitude\n",
      "ERROR 1: PROJ: sinu: Invalid latitude\n",
      "ERROR 1: PROJ: sinu: Invalid latitude\n",
      "ERROR 1: PROJ: sinu: Invalid latitude\n",
      "ERROR 1: PROJ: sinu: Invalid latitude\n",
      "ERROR 1: PROJ: sinu: Invalid latitude\n",
      "ERROR 1: PROJ: sinu: Invalid latitude\n",
      "ERROR 1: PROJ: sinu: Invalid latitude\n",
      "ERROR 1: PROJ: sinu: Invalid latitude\n",
      "ERROR 1: PROJ: sinu: Invalid latitude\n",
      "ERROR 1: PROJ: sinu: Invalid latitude\n",
      "ERROR 1: PROJ: sinu: Invalid latitude\n",
      "ERROR 1: PROJ: sinu: Invalid latitude\n",
      "ERROR 1: PROJ: sinu: Invalid latitude\n",
      "ERROR 1: PROJ: sinu: Invalid latitude\n",
      "ERROR 1: PROJ: sinu: Invalid latitude\n",
      "ERROR 1: PROJ: sinu: Invalid latitude\n",
      "ERROR 1: PROJ: sinu: Invalid latitude\n",
      "ERROR 1: PROJ: sinu: Invalid latitude\n",
      "ERROR 1: PROJ: sinu: Invalid latitude\n",
      "ERROR 1: PROJ: sinu: Invalid latitude\n",
      "ERROR 1: PROJ: sinu: Invalid latitude\n",
      "ERROR 1: PROJ: sinu: Invalid latitude\n",
      "ERROR 1: PROJ: sinu: Invalid latitude\n",
      "ERROR 1: PROJ: sinu: Invalid latitude\n",
      "ERROR 1: PROJ: sinu: Invalid latitude\n",
      "ERROR 1: PROJ: sinu: Invalid latitude\n",
      "ERROR 1: PROJ: sinu: Invalid latitude\n",
      "ERROR 1: PROJ: sinu: Invalid latitude\n",
      "ERROR 1: PROJ: sinu: Invalid latitude\n",
      "ERROR 1: PROJ: sinu: Invalid latitude\n",
      "ERROR 1: PROJ: sinu: Invalid latitude\n",
      "ERROR 1: PROJ: sinu: Invalid latitude\n",
      "ERROR 1: PROJ: sinu: Invalid latitude\n",
      "ERROR 1: PROJ: sinu: Invalid latitude\n",
      "ERROR 1: PROJ: sinu: Invalid latitude\n",
      "ERROR 1: PROJ: sinu: Invalid latitude\n",
      "ERROR 1: PROJ: sinu: Invalid latitude\n",
      "ERROR 1: PROJ: sinu: Invalid latitude\n",
      "ERROR 1: PROJ: sinu: Invalid latitude\n",
      "ERROR 1: PROJ: sinu: Invalid latitude\n",
      "ERROR 1: PROJ: sinu: Invalid latitude\n",
      "ERROR 1: PROJ: sinu: Invalid latitude\n",
      "ERROR 1: PROJ: sinu: Invalid latitude\n",
      "ERROR 1: PROJ: sinu: Invalid latitude\n",
      "ERROR 1: PROJ: sinu: Invalid latitude\n",
      "ERROR 1: PROJ: sinu: Invalid latitude\n",
      "ERROR 1: PROJ: sinu: Invalid latitude\n",
      "ERROR 1: PROJ: sinu: Invalid latitude\n",
      "ERROR 1: PROJ: sinu: Invalid latitude\n",
      "ERROR 1: PROJ: sinu: Invalid latitude\n",
      "ERROR 1: PROJ: sinu: Invalid latitude\n",
      "ERROR 1: PROJ: sinu: Invalid latitude\n",
      "ERROR 1: PROJ: sinu: Invalid latitude\n",
      "ERROR 1: PROJ: sinu: Invalid latitude\n",
      "ERROR 1: PROJ: sinu: Invalid latitude\n",
      "ERROR 1: PROJ: sinu: Invalid latitude\n",
      "ERROR 1: PROJ: sinu: Invalid latitude\n",
      "ERROR 1: PROJ: sinu: Invalid latitude\n",
      "ERROR 1: PROJ: sinu: Invalid latitude\n",
      "ERROR 1: PROJ: sinu: Invalid latitude\n",
      "ERROR 1: PROJ: sinu: Invalid latitude\n",
      "ERROR 1: PROJ: sinu: Invalid latitude\n",
      "ERROR 1: PROJ: sinu: Invalid latitude\n",
      "ERROR 1: PROJ: sinu: Invalid latitude\n",
      "ERROR 1: PROJ: sinu: Invalid latitude\n",
      "ERROR 1: PROJ: sinu: Invalid latitude\n",
      "ERROR 1: PROJ: sinu: Invalid latitude\n",
      "ERROR 1: PROJ: sinu: Invalid latitude\n",
      "ERROR 1: PROJ: sinu: Invalid latitude\n",
      "ERROR 1: PROJ: sinu: Invalid latitude\n",
      "ERROR 1: PROJ: sinu: Invalid latitude\n",
      "ERROR 1: PROJ: sinu: Invalid latitude\n",
      "ERROR 1: PROJ: sinu: Invalid latitude\n",
      "ERROR 1: PROJ: sinu: Invalid latitude\n",
      "ERROR 1: PROJ: sinu: Invalid latitude\n",
      "ERROR 1: PROJ: sinu: Invalid latitude\n",
      "ERROR 1: PROJ: sinu: Invalid latitude\n",
      "ERROR 1: PROJ: sinu: Invalid latitude\n",
      "ERROR 1: PROJ: sinu: Invalid latitude\n",
      "ERROR 1: PROJ: sinu: Invalid latitude\n",
      "ERROR 1: PROJ: sinu: Invalid latitude\n",
      "ERROR 1: PROJ: sinu: Invalid latitude\n",
      "ERROR 1: PROJ: sinu: Invalid latitude\n",
      "ERROR 1: PROJ: sinu: Invalid latitude\n",
      "ERROR 1: PROJ: sinu: Invalid latitude\n",
      "ERROR 1: PROJ: sinu: Invalid latitude\n",
      "ERROR 1: PROJ: sinu: Invalid latitude\n",
      "ERROR 1: PROJ: sinu: Invalid latitude\n",
      "ERROR 1: PROJ: sinu: Invalid latitude\n",
      "ERROR 1: PROJ: sinu: Invalid latitude\n",
      "ERROR 1: PROJ: sinu: Invalid latitude\n",
      "ERROR 1: PROJ: sinu: Invalid latitude\n",
      "ERROR 1: PROJ: sinu: Invalid latitude\n",
      "ERROR 1: PROJ: sinu: Invalid latitude\n",
      "ERROR 1: PROJ: sinu: Invalid latitude\n",
      "ERROR 1: PROJ: sinu: Invalid latitude\n",
      "ERROR 1: PROJ: sinu: Invalid latitude\n",
      "ERROR 1: PROJ: sinu: Invalid latitude\n",
      "ERROR 1: PROJ: sinu: Invalid latitude\n",
      "ERROR 1: PROJ: sinu: Invalid latitude\n",
      "ERROR 1: PROJ: sinu: Invalid latitude\n",
      "ERROR 1: PROJ: sinu: Invalid latitude\n",
      "ERROR 1: PROJ: sinu: Invalid latitude\n",
      "ERROR 1: PROJ: sinu: Invalid latitude\n",
      "ERROR 1: PROJ: sinu: Invalid latitude\n",
      "ERROR 1: PROJ: sinu: Invalid latitude\n",
      "ERROR 1: PROJ: sinu: Invalid latitude\n",
      "ERROR 1: PROJ: sinu: Invalid latitude\n",
      "ERROR 1: PROJ: sinu: Invalid latitude\n",
      "ERROR 1: PROJ: sinu: Invalid latitude\n",
      "ERROR 1: PROJ: sinu: Invalid latitude\n",
      "ERROR 1: PROJ: sinu: Invalid latitude\n",
      "ERROR 1: PROJ: sinu: Invalid latitude\n",
      "ERROR 1: PROJ: sinu: Invalid latitude\n",
      "ERROR 1: PROJ: sinu: Invalid latitude\n",
      "ERROR 1: PROJ: sinu: Invalid latitude\n",
      "ERROR 1: PROJ: sinu: Invalid latitude\n",
      "ERROR 1: PROJ: sinu: Invalid latitude\n",
      "ERROR 1: PROJ: sinu: Invalid latitude\n",
      "ERROR 1: PROJ: sinu: Invalid latitude\n",
      "ERROR 1: PROJ: sinu: Invalid latitude\n",
      "ERROR 1: PROJ: sinu: Invalid latitude\n",
      "ERROR 1: PROJ: sinu: Invalid latitude\n",
      "ERROR 1: PROJ: sinu: Invalid latitude\n",
      "ERROR 1: PROJ: sinu: Invalid latitude\n",
      "ERROR 1: PROJ: sinu: Invalid latitude\n",
      "ERROR 1: PROJ: sinu: Invalid latitude\n",
      "ERROR 1: PROJ: sinu: Invalid latitude\n",
      "ERROR 1: PROJ: sinu: Invalid latitude\n",
      "ERROR 1: PROJ: sinu: Invalid latitude\n",
      "ERROR 1: PROJ: sinu: Invalid latitude\n",
      "ERROR 1: PROJ: sinu: Invalid latitude\n",
      "ERROR 1: PROJ: sinu: Invalid latitude\n",
      "ERROR 1: PROJ: sinu: Invalid latitude\n",
      "ERROR 1: PROJ: sinu: Invalid latitude\n",
      "ERROR 1: PROJ: sinu: Invalid latitude\n",
      "ERROR 1: PROJ: sinu: Invalid latitude\n",
      "ERROR 1: PROJ: sinu: Invalid latitude\n",
      "ERROR 1: PROJ: sinu: Invalid latitude\n",
      "ERROR 1: PROJ: sinu: Invalid latitude\n",
      "ERROR 1: PROJ: sinu: Invalid latitude\n",
      "ERROR 1: PROJ: sinu: Invalid latitude\n",
      "ERROR 1: PROJ: sinu: Invalid latitude\n",
      "ERROR 1: PROJ: sinu: Invalid latitude\n",
      "ERROR 1: PROJ: sinu: Invalid latitude\n",
      "ERROR 1: PROJ: sinu: Invalid latitude\n",
      "ERROR 1: PROJ: sinu: Invalid latitude\n",
      "ERROR 1: PROJ: sinu: Invalid latitude\n",
      "ERROR 1: PROJ: sinu: Invalid latitude\n",
      "ERROR 1: PROJ: sinu: Invalid latitude\n",
      "ERROR 1: PROJ: sinu: Invalid latitude\n",
      "ERROR 1: PROJ: sinu: Invalid latitude\n",
      "ERROR 1: PROJ: sinu: Invalid latitude\n",
      "ERROR 1: PROJ: sinu: Invalid latitude\n",
      "ERROR 1: PROJ: sinu: Invalid latitude\n",
      "ERROR 1: PROJ: sinu: Invalid latitude\n",
      "ERROR 1: PROJ: sinu: Invalid latitude\n",
      "ERROR 1: PROJ: sinu: Invalid latitude\n",
      "ERROR 1: PROJ: sinu: Invalid latitude\n",
      "ERROR 1: PROJ: sinu: Invalid latitude\n",
      "ERROR 1: PROJ: sinu: Invalid latitude\n",
      "ERROR 1: PROJ: sinu: Invalid latitude\n",
      "ERROR 1: PROJ: sinu: Invalid latitude\n",
      "ERROR 1: PROJ: sinu: Invalid latitude\n",
      "ERROR 1: PROJ: sinu: Invalid latitude\n",
      "ERROR 1: PROJ: sinu: Invalid latitude\n",
      "ERROR 1: PROJ: sinu: Invalid latitude\n",
      "ERROR 1: PROJ: sinu: Invalid latitude\n",
      "ERROR 1: PROJ: sinu: Invalid latitude\n",
      "ERROR 1: PROJ: sinu: Invalid latitude\n",
      "ERROR 1: PROJ: sinu: Invalid latitude\n",
      "ERROR 1: PROJ: sinu: Invalid latitude\n",
      "ERROR 1: PROJ: sinu: Invalid latitude\n",
      "ERROR 1: PROJ: sinu: Invalid latitude\n",
      "ERROR 1: PROJ: sinu: Invalid latitude\n",
      "ERROR 1: PROJ: sinu: Invalid latitude\n",
      "ERROR 1: PROJ: sinu: Invalid latitude\n",
      "ERROR 1: PROJ: sinu: Invalid latitude\n",
      "ERROR 1: PROJ: sinu: Invalid latitude\n",
      "ERROR 1: PROJ: sinu: Invalid latitude\n",
      "ERROR 1: PROJ: sinu: Invalid latitude\n",
      "ERROR 1: PROJ: sinu: Invalid latitude\n",
      "ERROR 1: PROJ: sinu: Invalid latitude\n",
      "ERROR 1: PROJ: sinu: Invalid latitude\n",
      "ERROR 1: PROJ: sinu: Invalid latitude\n",
      "ERROR 1: PROJ: sinu: Invalid latitude\n",
      "ERROR 1: PROJ: sinu: Invalid latitude\n",
      "ERROR 1: PROJ: sinu: Invalid latitude\n",
      "ERROR 1: PROJ: sinu: Invalid latitude\n",
      "ERROR 1: PROJ: sinu: Invalid latitude\n",
      "ERROR 1: PROJ: sinu: Invalid latitude\n",
      "ERROR 1: PROJ: sinu: Invalid latitude\n",
      "ERROR 1: PROJ: sinu: Invalid latitude\n",
      "ERROR 1: PROJ: sinu: Invalid latitude\n",
      "ERROR 1: PROJ: sinu: Invalid latitude\n",
      "ERROR 1: PROJ: sinu: Invalid latitude\n",
      "ERROR 1: PROJ: sinu: Invalid latitude\n",
      "ERROR 1: PROJ: sinu: Invalid latitude\n",
      "ERROR 1: PROJ: sinu: Invalid latitude\n",
      "ERROR 1: PROJ: sinu: Invalid latitude\n",
      "ERROR 1: PROJ: sinu: Invalid latitude\n",
      "ERROR 1: PROJ: sinu: Invalid latitude\n",
      "ERROR 1: PROJ: sinu: Invalid latitude\n",
      "ERROR 1: PROJ: sinu: Invalid latitude\n",
      "ERROR 1: PROJ: sinu: Invalid latitude\n",
      "ERROR 1: PROJ: sinu: Invalid latitude\n",
      "ERROR 1: PROJ: sinu: Invalid latitude\n",
      "ERROR 1: PROJ: sinu: Invalid latitude\n",
      "ERROR 1: PROJ: sinu: Invalid latitude\n",
      "ERROR 1: PROJ: sinu: Invalid latitude\n",
      "ERROR 1: PROJ: sinu: Invalid latitude\n",
      "ERROR 1: PROJ: sinu: Invalid latitude\n",
      "ERROR 1: PROJ: sinu: Invalid latitude\n",
      "ERROR 1: PROJ: sinu: Invalid latitude\n",
      "ERROR 1: PROJ: sinu: Invalid latitude\n",
      "ERROR 1: PROJ: sinu: Invalid latitude\n",
      "ERROR 1: PROJ: sinu: Invalid latitude\n",
      "ERROR 1: PROJ: sinu: Invalid latitude\n",
      "ERROR 1: PROJ: sinu: Invalid latitude\n",
      "ERROR 1: PROJ: sinu: Invalid latitude\n",
      "ERROR 1: PROJ: sinu: Invalid latitude\n",
      "ERROR 1: PROJ: sinu: Invalid latitude\n",
      "ERROR 1: PROJ: sinu: Invalid latitude\n",
      "ERROR 1: PROJ: sinu: Invalid latitude\n",
      "ERROR 1: PROJ: sinu: Invalid latitude\n",
      "ERROR 1: PROJ: sinu: Invalid latitude\n",
      "ERROR 1: PROJ: sinu: Invalid latitude\n",
      "ERROR 1: PROJ: sinu: Invalid latitude\n",
      "ERROR 1: PROJ: sinu: Invalid latitude\n",
      "ERROR 1: PROJ: sinu: Invalid latitude\n",
      "ERROR 1: PROJ: sinu: Invalid latitude\n",
      "ERROR 1: PROJ: sinu: Invalid latitude\n",
      "ERROR 1: PROJ: sinu: Invalid latitude\n",
      "ERROR 1: PROJ: sinu: Invalid latitude\n",
      "ERROR 1: PROJ: sinu: Invalid latitude\n",
      "ERROR 1: PROJ: sinu: Invalid latitude\n",
      "ERROR 1: PROJ: sinu: Invalid latitude\n",
      "ERROR 1: PROJ: sinu: Invalid latitude\n",
      "ERROR 1: PROJ: sinu: Invalid latitude\n",
      "ERROR 1: PROJ: sinu: Invalid latitude\n",
      "ERROR 1: PROJ: sinu: Invalid latitude\n",
      "ERROR 1: PROJ: sinu: Invalid latitude\n",
      "ERROR 1: PROJ: sinu: Invalid latitude\n",
      "ERROR 1: PROJ: sinu: Invalid latitude\n",
      "ERROR 1: PROJ: sinu: Invalid latitude\n",
      "ERROR 1: PROJ: sinu: Invalid latitude\n",
      "ERROR 1: PROJ: sinu: Invalid latitude\n",
      "ERROR 1: PROJ: sinu: Invalid latitude\n",
      "ERROR 1: PROJ: sinu: Invalid latitude\n",
      "ERROR 1: PROJ: sinu: Invalid latitude\n",
      "ERROR 1: PROJ: sinu: Invalid latitude\n",
      "ERROR 1: PROJ: sinu: Invalid latitude\n",
      "ERROR 1: PROJ: sinu: Invalid latitude\n",
      "ERROR 1: PROJ: sinu: Invalid latitude\n",
      "ERROR 1: PROJ: sinu: Invalid latitude\n",
      "ERROR 1: PROJ: sinu: Invalid latitude\n",
      "ERROR 1: PROJ: sinu: Invalid latitude\n",
      "ERROR 1: PROJ: sinu: Invalid latitude\n",
      "ERROR 1: PROJ: sinu: Invalid latitude\n",
      "ERROR 1: PROJ: sinu: Invalid latitude\n",
      "ERROR 1: PROJ: sinu: Invalid latitude\n",
      "ERROR 1: PROJ: sinu: Invalid latitude\n",
      "ERROR 1: PROJ: sinu: Invalid latitude\n",
      "ERROR 1: PROJ: sinu: Invalid latitude\n",
      "ERROR 1: PROJ: sinu: Invalid latitude\n",
      "ERROR 1: PROJ: sinu: Invalid latitude\n",
      "ERROR 1: PROJ: sinu: Invalid latitude\n",
      "ERROR 1: PROJ: sinu: Invalid latitude\n",
      "ERROR 1: PROJ: sinu: Invalid latitude\n",
      "ERROR 1: PROJ: sinu: Invalid latitude\n",
      "ERROR 1: PROJ: sinu: Invalid latitude\n",
      "ERROR 1: PROJ: sinu: Invalid latitude\n",
      "ERROR 1: PROJ: sinu: Invalid latitude\n",
      "ERROR 1: PROJ: sinu: Invalid latitude\n",
      "ERROR 1: PROJ: sinu: Invalid latitude\n",
      "ERROR 1: PROJ: sinu: Invalid latitude\n",
      "ERROR 1: PROJ: sinu: Invalid latitude\n",
      "ERROR 1: PROJ: sinu: Invalid latitude\n",
      "ERROR 1: PROJ: sinu: Invalid latitude\n",
      "ERROR 1: PROJ: sinu: Invalid latitude\n",
      "ERROR 1: PROJ: sinu: Invalid latitude\n",
      "ERROR 1: PROJ: sinu: Invalid latitude\n",
      "ERROR 1: PROJ: sinu: Invalid latitude\n",
      "ERROR 1: PROJ: sinu: Invalid latitude\n",
      "ERROR 1: PROJ: sinu: Invalid latitude\n",
      "ERROR 1: PROJ: sinu: Invalid latitude\n",
      "ERROR 1: PROJ: sinu: Invalid latitude\n",
      "ERROR 1: PROJ: sinu: Invalid latitude\n",
      "ERROR 1: PROJ: sinu: Invalid latitude\n",
      "ERROR 1: PROJ: sinu: Invalid latitude\n",
      "ERROR 1: PROJ: sinu: Invalid latitude\n",
      "ERROR 1: PROJ: sinu: Invalid latitude\n",
      "ERROR 1: PROJ: sinu: Invalid latitude\n",
      "ERROR 1: PROJ: sinu: Invalid latitude\n",
      "ERROR 1: PROJ: sinu: Invalid latitude\n",
      "ERROR 1: PROJ: sinu: Invalid latitude\n",
      "ERROR 1: PROJ: sinu: Invalid latitude\n",
      "ERROR 1: PROJ: sinu: Invalid latitude\n",
      "ERROR 1: PROJ: sinu: Invalid latitude\n",
      "ERROR 1: PROJ: sinu: Invalid latitude\n",
      "ERROR 1: PROJ: sinu: Invalid latitude\n",
      "ERROR 1: PROJ: sinu: Invalid latitude\n",
      "ERROR 1: PROJ: sinu: Invalid latitude\n",
      "ERROR 1: PROJ: sinu: Invalid latitude\n",
      "ERROR 1: PROJ: sinu: Invalid latitude\n",
      "ERROR 1: PROJ: sinu: Invalid latitude\n",
      "ERROR 1: PROJ: sinu: Invalid latitude\n",
      "ERROR 1: PROJ: sinu: Invalid latitude\n",
      "ERROR 1: PROJ: sinu: Invalid latitude\n",
      "ERROR 1: PROJ: sinu: Invalid latitude\n",
      "ERROR 1: PROJ: sinu: Invalid latitude\n",
      "ERROR 1: PROJ: sinu: Invalid latitude\n",
      "ERROR 1: PROJ: sinu: Invalid latitude\n",
      "ERROR 1: PROJ: sinu: Invalid latitude\n",
      "ERROR 1: PROJ: sinu: Invalid latitude\n",
      "ERROR 1: PROJ: sinu: Invalid latitude\n",
      "ERROR 1: PROJ: sinu: Invalid latitude\n",
      "ERROR 1: PROJ: sinu: Invalid latitude\n",
      "ERROR 1: PROJ: sinu: Invalid latitude\n",
      "ERROR 1: PROJ: sinu: Invalid latitude\n",
      "ERROR 1: PROJ: sinu: Invalid latitude\n",
      "ERROR 1: PROJ: sinu: Invalid latitude\n",
      "ERROR 1: PROJ: sinu: Invalid latitude\n",
      "ERROR 1: PROJ: sinu: Invalid latitude\n",
      "ERROR 1: PROJ: sinu: Invalid latitude\n",
      "ERROR 1: PROJ: sinu: Invalid latitude\n",
      "ERROR 1: PROJ: sinu: Invalid latitude\n",
      "ERROR 1: PROJ: sinu: Invalid latitude\n",
      "ERROR 1: PROJ: sinu: Invalid latitude\n",
      "ERROR 1: PROJ: sinu: Invalid latitude\n",
      "ERROR 1: PROJ: sinu: Invalid latitude\n",
      "ERROR 1: PROJ: sinu: Invalid latitude\n",
      "ERROR 1: PROJ: sinu: Invalid latitude\n",
      "ERROR 1: PROJ: sinu: Invalid latitude\n",
      "ERROR 1: PROJ: sinu: Invalid latitude\n",
      "ERROR 1: PROJ: sinu: Invalid latitude\n",
      "ERROR 1: PROJ: sinu: Invalid latitude\n",
      "ERROR 1: PROJ: sinu: Invalid latitude\n",
      "ERROR 1: PROJ: sinu: Invalid latitude\n",
      "ERROR 1: PROJ: sinu: Invalid latitude\n",
      "ERROR 1: PROJ: sinu: Invalid latitude\n",
      "ERROR 1: PROJ: sinu: Invalid latitude\n",
      "ERROR 1: PROJ: sinu: Invalid latitude\n",
      "ERROR 1: PROJ: sinu: Invalid latitude\n",
      "ERROR 1: PROJ: sinu: Invalid latitude\n",
      "ERROR 1: PROJ: sinu: Invalid latitude\n",
      "ERROR 1: PROJ: sinu: Invalid latitude\n",
      "ERROR 1: PROJ: sinu: Invalid latitude\n",
      "ERROR 1: PROJ: sinu: Invalid latitude\n",
      "ERROR 1: PROJ: sinu: Invalid latitude\n",
      "ERROR 1: PROJ: sinu: Invalid latitude\n",
      "ERROR 1: PROJ: sinu: Invalid latitude\n",
      "ERROR 1: PROJ: sinu: Invalid latitude\n",
      "ERROR 1: PROJ: sinu: Invalid latitude\n",
      "ERROR 1: PROJ: sinu: Invalid latitude\n",
      "ERROR 1: PROJ: sinu: Invalid latitude\n",
      "ERROR 1: PROJ: sinu: Invalid latitude\n",
      "ERROR 1: PROJ: sinu: Invalid latitude\n",
      "ERROR 1: PROJ: sinu: Invalid latitude\n",
      "ERROR 1: PROJ: sinu: Invalid latitude\n",
      "ERROR 1: PROJ: sinu: Invalid latitude\n",
      "ERROR 1: PROJ: sinu: Invalid latitude\n",
      "ERROR 1: PROJ: sinu: Invalid latitude\n",
      "ERROR 1: PROJ: sinu: Invalid latitude\n",
      "ERROR 1: PROJ: sinu: Invalid latitude\n",
      "ERROR 1: PROJ: sinu: Invalid latitude\n",
      "ERROR 1: PROJ: sinu: Invalid latitude\n",
      "ERROR 1: PROJ: sinu: Invalid latitude\n",
      "ERROR 1: PROJ: sinu: Invalid latitude\n",
      "ERROR 1: PROJ: sinu: Invalid latitude\n",
      "ERROR 1: PROJ: sinu: Invalid latitude\n",
      "ERROR 1: PROJ: sinu: Invalid latitude\n",
      "ERROR 1: PROJ: sinu: Invalid latitude\n",
      "ERROR 1: PROJ: sinu: Invalid latitude\n",
      "ERROR 1: PROJ: sinu: Invalid latitude\n",
      "ERROR 1: PROJ: sinu: Invalid latitude\n",
      "ERROR 1: PROJ: sinu: Invalid latitude\n",
      "ERROR 1: PROJ: sinu: Invalid latitude\n",
      "ERROR 1: PROJ: sinu: Invalid latitude\n",
      "ERROR 1: PROJ: sinu: Invalid latitude\n",
      "ERROR 1: PROJ: sinu: Invalid latitude\n",
      "ERROR 1: PROJ: sinu: Invalid latitude\n",
      "ERROR 1: PROJ: sinu: Invalid latitude\n",
      "ERROR 1: PROJ: sinu: Invalid latitude\n",
      "ERROR 1: PROJ: sinu: Invalid latitude\n",
      "ERROR 1: PROJ: sinu: Invalid latitude\n",
      "ERROR 1: PROJ: sinu: Invalid latitude\n",
      "ERROR 1: PROJ: sinu: Invalid latitude\n",
      "ERROR 1: PROJ: sinu: Invalid latitude\n",
      "ERROR 1: PROJ: sinu: Invalid latitude\n",
      "ERROR 1: PROJ: sinu: Invalid latitude\n",
      "ERROR 1: PROJ: sinu: Invalid latitude\n",
      "ERROR 1: PROJ: sinu: Invalid latitude\n",
      "ERROR 1: PROJ: sinu: Invalid latitude\n",
      "ERROR 1: PROJ: sinu: Invalid latitude\n",
      "ERROR 1: PROJ: sinu: Invalid latitude\n",
      "ERROR 1: PROJ: sinu: Invalid latitude\n",
      "ERROR 1: PROJ: sinu: Invalid latitude\n",
      "ERROR 1: PROJ: sinu: Invalid latitude\n",
      "ERROR 1: PROJ: sinu: Invalid latitude\n",
      "ERROR 1: PROJ: sinu: Invalid latitude\n",
      "ERROR 1: PROJ: sinu: Invalid latitude\n",
      "ERROR 1: PROJ: sinu: Invalid latitude\n",
      "ERROR 1: PROJ: sinu: Invalid latitude\n",
      "ERROR 1: PROJ: sinu: Invalid latitude\n",
      "ERROR 1: PROJ: sinu: Invalid latitude\n",
      "ERROR 1: PROJ: sinu: Invalid latitude\n",
      "ERROR 1: PROJ: sinu: Invalid latitude\n",
      "ERROR 1: PROJ: sinu: Invalid latitude\n",
      "ERROR 1: PROJ: sinu: Invalid latitude\n",
      "ERROR 1: PROJ: sinu: Invalid latitude\n",
      "ERROR 1: PROJ: sinu: Invalid latitude\n",
      "ERROR 1: PROJ: sinu: Invalid latitude\n",
      "ERROR 1: PROJ: sinu: Invalid latitude\n",
      "ERROR 1: PROJ: sinu: Invalid latitude\n",
      "ERROR 1: PROJ: sinu: Invalid latitude\n",
      "ERROR 1: PROJ: sinu: Invalid latitude\n",
      "ERROR 1: PROJ: sinu: Invalid latitude\n",
      "ERROR 1: PROJ: sinu: Invalid latitude\n",
      "ERROR 1: PROJ: sinu: Invalid latitude\n",
      "ERROR 1: PROJ: sinu: Invalid latitude\n",
      "ERROR 1: PROJ: sinu: Invalid latitude\n",
      "ERROR 1: PROJ: sinu: Invalid latitude\n",
      "ERROR 1: PROJ: sinu: Invalid latitude\n",
      "ERROR 1: PROJ: sinu: Invalid latitude\n",
      "ERROR 1: PROJ: sinu: Invalid latitude\n",
      "ERROR 1: PROJ: sinu: Invalid latitude\n",
      "ERROR 1: PROJ: sinu: Invalid latitude\n",
      "ERROR 1: PROJ: sinu: Invalid latitude\n",
      "ERROR 1: PROJ: sinu: Invalid latitude\n",
      "ERROR 1: PROJ: sinu: Invalid latitude\n",
      "ERROR 1: PROJ: sinu: Invalid latitude\n",
      "ERROR 1: PROJ: sinu: Invalid latitude\n",
      "ERROR 1: PROJ: sinu: Invalid latitude\n",
      "ERROR 1: PROJ: sinu: Invalid latitude\n",
      "ERROR 1: PROJ: sinu: Invalid latitude\n",
      "ERROR 1: PROJ: sinu: Invalid latitude\n",
      "ERROR 1: PROJ: sinu: Invalid latitude\n",
      "ERROR 1: PROJ: sinu: Invalid latitude\n",
      "ERROR 1: PROJ: sinu: Invalid latitude\n",
      "ERROR 1: PROJ: sinu: Invalid latitude\n",
      "ERROR 1: PROJ: sinu: Invalid latitude\n",
      "ERROR 1: PROJ: sinu: Invalid latitude\n",
      "ERROR 1: PROJ: sinu: Invalid latitude\n",
      "ERROR 1: PROJ: sinu: Invalid latitude\n",
      "ERROR 1: PROJ: sinu: Invalid latitude\n",
      "ERROR 1: PROJ: sinu: Invalid latitude\n",
      "ERROR 1: PROJ: sinu: Invalid latitude\n",
      "ERROR 1: PROJ: sinu: Invalid latitude\n",
      "ERROR 1: PROJ: sinu: Invalid latitude\n",
      "ERROR 1: PROJ: sinu: Invalid latitude\n",
      "ERROR 1: PROJ: sinu: Invalid latitude\n",
      "ERROR 1: PROJ: sinu: Invalid latitude\n",
      "ERROR 1: PROJ: sinu: Invalid latitude\n",
      "ERROR 1: PROJ: sinu: Invalid latitude\n",
      "ERROR 1: PROJ: sinu: Invalid latitude\n",
      "ERROR 1: PROJ: sinu: Invalid latitude\n",
      "ERROR 1: PROJ: sinu: Invalid latitude\n",
      "ERROR 1: PROJ: sinu: Invalid latitude\n",
      "ERROR 1: PROJ: sinu: Invalid latitude\n",
      "ERROR 1: PROJ: sinu: Invalid latitude\n",
      "ERROR 1: PROJ: sinu: Invalid latitude\n",
      "ERROR 1: PROJ: sinu: Invalid latitude\n",
      "ERROR 1: PROJ: sinu: Invalid latitude\n",
      "ERROR 1: PROJ: sinu: Invalid latitude\n",
      "ERROR 1: PROJ: sinu: Invalid latitude\n",
      "ERROR 1: PROJ: sinu: Invalid latitude\n",
      "ERROR 1: PROJ: sinu: Invalid latitude\n",
      "ERROR 1: PROJ: sinu: Invalid latitude\n",
      "ERROR 1: PROJ: sinu: Invalid latitude\n",
      "ERROR 1: PROJ: sinu: Invalid latitude\n",
      "ERROR 1: PROJ: sinu: Invalid latitude\n",
      "ERROR 1: PROJ: sinu: Invalid latitude\n",
      "ERROR 1: PROJ: sinu: Invalid latitude\n",
      "ERROR 1: PROJ: sinu: Invalid latitude\n",
      "ERROR 1: PROJ: sinu: Invalid latitude\n",
      "ERROR 1: PROJ: sinu: Invalid latitude\n",
      "ERROR 1: PROJ: sinu: Invalid latitude\n",
      "ERROR 1: PROJ: sinu: Invalid latitude\n",
      "ERROR 1: PROJ: sinu: Invalid latitude\n",
      "ERROR 1: PROJ: sinu: Invalid latitude\n",
      "ERROR 1: PROJ: sinu: Invalid latitude\n",
      "ERROR 1: PROJ: sinu: Invalid latitude\n",
      "ERROR 1: PROJ: sinu: Invalid latitude\n",
      "ERROR 1: PROJ: sinu: Invalid latitude\n",
      "ERROR 1: PROJ: sinu: Invalid latitude\n",
      "ERROR 1: PROJ: sinu: Invalid latitude\n",
      "ERROR 1: PROJ: sinu: Invalid latitude\n",
      "ERROR 1: PROJ: sinu: Invalid latitude\n",
      "ERROR 1: PROJ: sinu: Invalid latitude\n",
      "ERROR 1: PROJ: sinu: Invalid latitude\n",
      "ERROR 1: PROJ: sinu: Invalid latitude\n",
      "ERROR 1: PROJ: sinu: Invalid latitude\n",
      "ERROR 1: PROJ: sinu: Invalid latitude\n",
      "ERROR 1: PROJ: sinu: Invalid latitude\n",
      "ERROR 1: PROJ: sinu: Invalid latitude\n",
      "ERROR 1: PROJ: sinu: Invalid latitude\n",
      "ERROR 1: PROJ: sinu: Invalid latitude\n",
      "ERROR 1: PROJ: sinu: Invalid latitude\n",
      "ERROR 1: PROJ: sinu: Invalid latitude\n",
      "ERROR 1: PROJ: sinu: Invalid latitude\n",
      "ERROR 1: PROJ: sinu: Invalid latitude\n",
      "ERROR 1: PROJ: sinu: Invalid latitude\n",
      "ERROR 1: PROJ: sinu: Invalid latitude\n",
      "ERROR 1: PROJ: sinu: Invalid latitude\n",
      "ERROR 1: PROJ: sinu: Invalid latitude\n",
      "ERROR 1: PROJ: sinu: Invalid latitude\n",
      "ERROR 1: PROJ: sinu: Invalid latitude\n",
      "ERROR 1: PROJ: sinu: Invalid latitude\n",
      "ERROR 1: PROJ: sinu: Invalid latitude\n",
      "ERROR 1: PROJ: sinu: Invalid latitude\n",
      "ERROR 1: PROJ: sinu: Invalid latitude\n",
      "ERROR 1: PROJ: sinu: Invalid latitude\n",
      "ERROR 1: PROJ: sinu: Invalid latitude\n",
      "ERROR 1: PROJ: sinu: Invalid latitude\n",
      "ERROR 1: PROJ: sinu: Invalid latitude\n",
      "ERROR 1: PROJ: sinu: Invalid latitude\n",
      "ERROR 1: PROJ: sinu: Invalid latitude\n",
      "ERROR 1: PROJ: sinu: Invalid latitude\n",
      "ERROR 1: PROJ: sinu: Invalid latitude\n",
      "ERROR 1: PROJ: sinu: Invalid latitude\n",
      "ERROR 1: PROJ: sinu: Invalid latitude\n",
      "ERROR 1: PROJ: sinu: Invalid latitude\n",
      "ERROR 1: PROJ: sinu: Invalid latitude\n",
      "ERROR 1: PROJ: sinu: Invalid latitude\n",
      "ERROR 1: PROJ: sinu: Invalid latitude\n",
      "ERROR 1: PROJ: sinu: Invalid latitude\n",
      "ERROR 1: PROJ: sinu: Invalid latitude\n",
      "ERROR 1: PROJ: sinu: Invalid latitude\n",
      "ERROR 1: PROJ: sinu: Invalid latitude\n",
      "ERROR 1: PROJ: sinu: Invalid latitude\n",
      "ERROR 1: PROJ: sinu: Invalid latitude\n",
      "ERROR 1: PROJ: sinu: Invalid latitude\n",
      "ERROR 1: PROJ: sinu: Invalid latitude\n",
      "ERROR 1: PROJ: sinu: Invalid latitude\n",
      "ERROR 1: PROJ: sinu: Invalid latitude\n",
      "ERROR 1: PROJ: sinu: Invalid latitude\n",
      "ERROR 1: PROJ: sinu: Invalid latitude\n",
      "ERROR 1: PROJ: sinu: Invalid latitude\n",
      "ERROR 1: PROJ: sinu: Invalid latitude\n",
      "ERROR 1: PROJ: sinu: Invalid latitude\n",
      "ERROR 1: PROJ: sinu: Invalid latitude\n",
      "ERROR 1: PROJ: sinu: Invalid latitude\n",
      "ERROR 1: PROJ: sinu: Invalid latitude\n",
      "ERROR 1: PROJ: sinu: Invalid latitude\n",
      "ERROR 1: PROJ: sinu: Invalid latitude\n",
      "ERROR 1: PROJ: sinu: Invalid latitude\n",
      "ERROR 1: PROJ: sinu: Invalid latitude\n",
      "ERROR 1: PROJ: sinu: Invalid latitude\n",
      "ERROR 1: PROJ: sinu: Invalid latitude\n",
      "ERROR 1: PROJ: sinu: Invalid latitude\n",
      "ERROR 1: PROJ: sinu: Invalid latitude\n",
      "ERROR 1: PROJ: sinu: Invalid latitude\n",
      "ERROR 1: PROJ: sinu: Invalid latitude\n",
      "ERROR 1: PROJ: sinu: Invalid latitude\n",
      "ERROR 1: PROJ: sinu: Invalid latitude\n",
      "ERROR 1: PROJ: sinu: Invalid latitude\n",
      "ERROR 1: PROJ: sinu: Invalid latitude\n",
      "ERROR 1: PROJ: sinu: Invalid latitude\n",
      "ERROR 1: PROJ: sinu: Invalid latitude\n",
      "ERROR 1: PROJ: sinu: Invalid latitude\n",
      "ERROR 1: PROJ: sinu: Invalid latitude\n",
      "ERROR 1: PROJ: sinu: Invalid latitude\n",
      "ERROR 1: PROJ: sinu: Invalid latitude\n",
      "ERROR 1: PROJ: sinu: Invalid latitude\n",
      "ERROR 1: PROJ: sinu: Invalid latitude\n",
      "ERROR 1: PROJ: sinu: Invalid latitude\n",
      "ERROR 1: PROJ: sinu: Invalid latitude\n",
      "ERROR 1: PROJ: sinu: Invalid latitude\n",
      "ERROR 1: PROJ: sinu: Invalid latitude\n",
      "ERROR 1: PROJ: sinu: Invalid latitude\n",
      "ERROR 1: PROJ: sinu: Invalid latitude\n",
      "ERROR 1: PROJ: sinu: Invalid latitude\n",
      "ERROR 1: PROJ: sinu: Invalid latitude\n",
      "ERROR 1: PROJ: sinu: Invalid latitude\n",
      "ERROR 1: PROJ: sinu: Invalid latitude\n",
      "ERROR 1: PROJ: sinu: Invalid latitude\n",
      "ERROR 1: PROJ: sinu: Invalid latitude\n",
      "ERROR 1: PROJ: sinu: Invalid latitude\n",
      "ERROR 1: PROJ: sinu: Invalid latitude\n",
      "ERROR 1: PROJ: sinu: Invalid latitude\n",
      "ERROR 1: PROJ: sinu: Invalid latitude\n",
      "ERROR 1: PROJ: sinu: Invalid latitude\n",
      "ERROR 1: PROJ: sinu: Invalid latitude\n",
      "ERROR 1: PROJ: sinu: Invalid latitude\n",
      "ERROR 1: PROJ: sinu: Invalid latitude\n",
      "ERROR 1: PROJ: sinu: Invalid latitude\n",
      "ERROR 1: PROJ: sinu: Invalid latitude\n",
      "ERROR 1: PROJ: sinu: Invalid latitude\n",
      "ERROR 1: PROJ: sinu: Invalid latitude\n",
      "ERROR 1: PROJ: sinu: Invalid latitude\n",
      "ERROR 1: PROJ: sinu: Invalid latitude\n",
      "ERROR 1: PROJ: sinu: Invalid latitude\n",
      "ERROR 1: PROJ: sinu: Invalid latitude\n",
      "ERROR 1: PROJ: sinu: Invalid latitude\n",
      "ERROR 1: PROJ: sinu: Invalid latitude\n",
      "ERROR 1: PROJ: sinu: Invalid latitude\n",
      "ERROR 1: PROJ: sinu: Invalid latitude\n",
      "ERROR 1: PROJ: sinu: Invalid latitude\n",
      "ERROR 1: PROJ: sinu: Invalid latitude\n",
      "ERROR 1: PROJ: sinu: Invalid latitude\n",
      "ERROR 1: PROJ: sinu: Invalid latitude\n",
      "ERROR 1: PROJ: sinu: Invalid latitude\n",
      "ERROR 1: PROJ: sinu: Invalid latitude\n",
      "ERROR 1: PROJ: sinu: Invalid latitude\n",
      "ERROR 1: PROJ: sinu: Invalid latitude\n",
      "ERROR 1: PROJ: sinu: Invalid latitude\n",
      "ERROR 1: PROJ: sinu: Invalid latitude\n",
      "ERROR 1: PROJ: sinu: Invalid latitude\n",
      "ERROR 1: PROJ: sinu: Invalid latitude\n",
      "ERROR 1: PROJ: sinu: Invalid latitude\n",
      "ERROR 1: PROJ: sinu: Invalid latitude\n",
      "ERROR 1: PROJ: sinu: Invalid latitude\n",
      "ERROR 1: PROJ: sinu: Invalid latitude\n",
      "ERROR 1: PROJ: sinu: Invalid latitude\n",
      "ERROR 1: PROJ: sinu: Invalid latitude\n",
      "ERROR 1: PROJ: sinu: Invalid latitude\n",
      "ERROR 1: PROJ: sinu: Invalid latitude\n",
      "ERROR 1: PROJ: sinu: Invalid latitude\n",
      "ERROR 1: PROJ: sinu: Invalid latitude\n",
      "ERROR 1: PROJ: sinu: Invalid latitude\n",
      "ERROR 1: PROJ: sinu: Invalid latitude\n",
      "ERROR 1: PROJ: sinu: Invalid latitude\n",
      "ERROR 1: PROJ: sinu: Invalid latitude\n",
      "ERROR 1: PROJ: sinu: Invalid latitude\n",
      "ERROR 1: PROJ: sinu: Invalid latitude\n",
      "ERROR 1: PROJ: sinu: Invalid latitude\n",
      "ERROR 1: PROJ: sinu: Invalid latitude\n",
      "ERROR 1: PROJ: sinu: Invalid latitude\n",
      "ERROR 1: PROJ: sinu: Invalid latitude\n",
      "ERROR 1: PROJ: sinu: Invalid latitude\n",
      "ERROR 1: PROJ: sinu: Invalid latitude\n",
      "ERROR 1: PROJ: sinu: Invalid latitude\n",
      "ERROR 1: PROJ: sinu: Invalid latitude\n",
      "ERROR 1: PROJ: sinu: Invalid latitude\n",
      "ERROR 1: PROJ: sinu: Invalid latitude\n",
      "ERROR 1: PROJ: sinu: Invalid latitude\n",
      "ERROR 1: PROJ: sinu: Invalid latitude\n",
      "ERROR 1: PROJ: sinu: Invalid latitude\n",
      "ERROR 1: PROJ: sinu: Invalid latitude\n",
      "ERROR 1: PROJ: sinu: Invalid latitude\n",
      "ERROR 1: PROJ: sinu: Invalid latitude\n",
      "ERROR 1: PROJ: sinu: Invalid latitude\n",
      "ERROR 1: PROJ: sinu: Invalid latitude\n",
      "ERROR 1: PROJ: sinu: Invalid latitude\n",
      "ERROR 1: PROJ: sinu: Invalid latitude\n",
      "ERROR 1: PROJ: sinu: Invalid latitude\n",
      "ERROR 1: PROJ: sinu: Invalid latitude\n",
      "ERROR 1: PROJ: sinu: Invalid latitude\n",
      "ERROR 1: PROJ: sinu: Invalid latitude\n",
      "ERROR 1: PROJ: sinu: Invalid latitude\n",
      "ERROR 1: PROJ: sinu: Invalid latitude\n",
      "ERROR 1: PROJ: sinu: Invalid latitude\n",
      "ERROR 1: PROJ: sinu: Invalid latitude\n",
      "ERROR 1: PROJ: sinu: Invalid latitude\n",
      "ERROR 1: PROJ: sinu: Invalid latitude\n",
      "ERROR 1: PROJ: sinu: Invalid latitude\n",
      "ERROR 1: PROJ: sinu: Invalid latitude\n",
      "ERROR 1: PROJ: sinu: Invalid latitude\n",
      "ERROR 1: PROJ: sinu: Invalid latitude\n",
      "ERROR 1: PROJ: sinu: Invalid latitude\n",
      "ERROR 1: PROJ: sinu: Invalid latitude\n",
      "ERROR 1: PROJ: sinu: Invalid latitude\n",
      "ERROR 1: PROJ: sinu: Invalid latitude\n",
      "ERROR 1: PROJ: sinu: Invalid latitude\n",
      "ERROR 1: PROJ: sinu: Invalid latitude\n",
      "ERROR 1: PROJ: sinu: Invalid latitude\n",
      "ERROR 1: PROJ: sinu: Invalid latitude\n",
      "ERROR 1: PROJ: sinu: Invalid latitude\n",
      "ERROR 1: PROJ: sinu: Invalid latitude\n",
      "ERROR 1: PROJ: sinu: Invalid latitude\n",
      "ERROR 1: PROJ: sinu: Invalid latitude\n",
      "ERROR 1: PROJ: sinu: Invalid latitude\n",
      "ERROR 1: PROJ: sinu: Invalid latitude\n",
      "ERROR 1: PROJ: sinu: Invalid latitude\n",
      "ERROR 1: PROJ: sinu: Invalid latitude\n",
      "ERROR 1: PROJ: sinu: Invalid latitude\n",
      "ERROR 1: PROJ: sinu: Invalid latitude\n",
      "ERROR 1: PROJ: sinu: Invalid latitude\n",
      "ERROR 1: PROJ: sinu: Invalid latitude\n",
      "ERROR 1: PROJ: sinu: Invalid latitude\n",
      "ERROR 1: PROJ: sinu: Invalid latitude\n",
      "ERROR 1: PROJ: sinu: Invalid latitude\n",
      "ERROR 1: PROJ: sinu: Invalid latitude\n",
      "ERROR 1: PROJ: sinu: Invalid latitude\n",
      "ERROR 1: PROJ: sinu: Invalid latitude\n",
      "ERROR 1: PROJ: sinu: Invalid latitude\n",
      "ERROR 1: PROJ: sinu: Invalid latitude\n",
      "ERROR 1: PROJ: sinu: Invalid latitude\n",
      "ERROR 1: PROJ: sinu: Invalid latitude\n",
      "ERROR 1: PROJ: sinu: Invalid latitude\n",
      "ERROR 1: PROJ: sinu: Invalid latitude\n",
      "ERROR 1: PROJ: sinu: Invalid latitude\n",
      "ERROR 1: PROJ: sinu: Invalid latitude\n",
      "ERROR 1: PROJ: sinu: Invalid latitude\n",
      "ERROR 1: PROJ: sinu: Invalid latitude\n",
      "ERROR 1: PROJ: sinu: Invalid latitude\n",
      "ERROR 1: PROJ: sinu: Invalid latitude\n",
      "ERROR 1: PROJ: sinu: Invalid latitude\n",
      "ERROR 1: PROJ: sinu: Invalid latitude\n",
      "ERROR 1: PROJ: sinu: Invalid latitude\n",
      "ERROR 1: PROJ: sinu: Invalid latitude\n",
      "ERROR 1: PROJ: sinu: Invalid latitude\n",
      "ERROR 1: PROJ: sinu: Invalid latitude\n",
      "ERROR 1: PROJ: sinu: Invalid latitude\n",
      "ERROR 1: PROJ: sinu: Invalid latitude\n",
      "ERROR 1: PROJ: sinu: Invalid latitude\n",
      "ERROR 1: PROJ: sinu: Invalid latitude\n",
      "ERROR 1: PROJ: sinu: Invalid latitude\n",
      "ERROR 1: PROJ: sinu: Invalid latitude\n",
      "ERROR 1: PROJ: sinu: Invalid latitude\n",
      "ERROR 1: PROJ: sinu: Invalid latitude\n",
      "ERROR 1: PROJ: sinu: Invalid latitude\n",
      "ERROR 1: PROJ: sinu: Invalid latitude\n",
      "ERROR 1: PROJ: sinu: Invalid latitude\n",
      "ERROR 1: PROJ: sinu: Invalid latitude\n",
      "ERROR 1: PROJ: sinu: Invalid latitude\n",
      "ERROR 1: PROJ: sinu: Invalid latitude\n",
      "ERROR 1: PROJ: sinu: Invalid latitude\n",
      "ERROR 1: PROJ: sinu: Invalid latitude\n",
      "ERROR 1: PROJ: sinu: Invalid latitude\n",
      "ERROR 1: PROJ: sinu: Invalid latitude\n",
      "ERROR 1: PROJ: sinu: Invalid latitude\n",
      "ERROR 1: PROJ: sinu: Invalid latitude\n",
      "ERROR 1: PROJ: sinu: Invalid latitude\n",
      "ERROR 1: PROJ: sinu: Invalid latitude\n",
      "ERROR 1: PROJ: sinu: Invalid latitude\n",
      "ERROR 1: PROJ: sinu: Invalid latitude\n",
      "ERROR 1: PROJ: sinu: Invalid latitude\n",
      "ERROR 1: PROJ: sinu: Invalid latitude\n",
      "ERROR 1: PROJ: sinu: Invalid latitude\n",
      "ERROR 1: PROJ: sinu: Invalid latitude\n",
      "ERROR 1: PROJ: sinu: Invalid latitude\n",
      "ERROR 1: PROJ: sinu: Invalid latitude\n",
      "ERROR 1: PROJ: sinu: Invalid latitude\n",
      "ERROR 1: PROJ: sinu: Invalid latitude\n",
      "ERROR 1: PROJ: sinu: Invalid latitude\n",
      "ERROR 1: PROJ: sinu: Invalid latitude\n",
      "ERROR 1: PROJ: sinu: Invalid latitude\n",
      "ERROR 1: PROJ: sinu: Invalid latitude\n",
      "ERROR 1: PROJ: sinu: Invalid latitude\n",
      "ERROR 1: PROJ: sinu: Invalid latitude\n",
      "ERROR 1: PROJ: sinu: Invalid latitude\n",
      "ERROR 1: PROJ: sinu: Invalid latitude\n",
      "ERROR 1: PROJ: sinu: Invalid latitude\n",
      "ERROR 1: PROJ: sinu: Invalid latitude\n",
      "ERROR 1: PROJ: sinu: Invalid latitude\n",
      "ERROR 1: PROJ: sinu: Invalid latitude\n",
      "ERROR 1: PROJ: sinu: Invalid latitude\n",
      "ERROR 1: PROJ: sinu: Invalid latitude\n",
      "ERROR 1: PROJ: sinu: Invalid latitude\n",
      "ERROR 1: PROJ: sinu: Invalid latitude\n",
      "ERROR 1: PROJ: sinu: Invalid latitude\n",
      "ERROR 1: PROJ: sinu: Invalid latitude\n",
      "ERROR 1: PROJ: sinu: Invalid latitude\n",
      "ERROR 1: PROJ: sinu: Invalid latitude\n",
      "ERROR 1: PROJ: sinu: Invalid latitude\n",
      "ERROR 1: PROJ: sinu: Invalid latitude\n",
      "ERROR 1: PROJ: sinu: Invalid latitude\n",
      "ERROR 1: PROJ: sinu: Invalid latitude\n",
      "ERROR 1: PROJ: sinu: Invalid latitude\n",
      "ERROR 1: PROJ: sinu: Invalid latitude\n",
      "ERROR 1: PROJ: sinu: Invalid latitude\n",
      "ERROR 1: PROJ: sinu: Invalid latitude\n",
      "ERROR 1: PROJ: sinu: Invalid latitude\n",
      "ERROR 1: PROJ: sinu: Invalid latitude\n",
      "ERROR 1: PROJ: sinu: Invalid latitude\n",
      "ERROR 1: PROJ: sinu: Invalid latitude\n",
      "ERROR 1: PROJ: sinu: Invalid latitude\n",
      "ERROR 1: PROJ: sinu: Invalid latitude\n",
      "ERROR 1: PROJ: sinu: Invalid latitude\n",
      "ERROR 1: PROJ: sinu: Invalid latitude\n",
      "ERROR 1: PROJ: sinu: Invalid latitude\n",
      "ERROR 1: PROJ: sinu: Invalid latitude\n",
      "ERROR 1: PROJ: sinu: Invalid latitude\n",
      "ERROR 1: PROJ: sinu: Invalid latitude\n",
      "ERROR 1: PROJ: sinu: Invalid latitude\n",
      "ERROR 1: PROJ: sinu: Invalid latitude\n",
      "ERROR 1: PROJ: sinu: Invalid latitude\n",
      "ERROR 1: PROJ: sinu: Invalid latitude\n",
      "ERROR 1: PROJ: sinu: Invalid latitude\n",
      "ERROR 1: PROJ: sinu: Invalid latitude\n",
      "ERROR 1: PROJ: sinu: Invalid latitude\n",
      "ERROR 1: PROJ: sinu: Invalid latitude\n",
      "ERROR 1: PROJ: sinu: Invalid latitude\n",
      "ERROR 1: PROJ: sinu: Invalid latitude\n",
      "ERROR 1: PROJ: sinu: Invalid latitude\n",
      "ERROR 1: PROJ: sinu: Invalid latitude\n",
      "ERROR 1: PROJ: sinu: Invalid latitude\n",
      "ERROR 1: PROJ: sinu: Invalid latitude\n",
      "ERROR 1: PROJ: sinu: Invalid latitude\n",
      "ERROR 1: PROJ: sinu: Invalid latitude\n",
      "ERROR 1: PROJ: sinu: Invalid latitude\n",
      "ERROR 1: PROJ: sinu: Invalid latitude\n",
      "ERROR 1: PROJ: sinu: Invalid latitude\n",
      "ERROR 1: PROJ: sinu: Invalid latitude\n",
      "ERROR 1: PROJ: sinu: Invalid latitude\n",
      "ERROR 1: PROJ: sinu: Invalid latitude\n",
      "ERROR 1: PROJ: sinu: Invalid latitude\n",
      "ERROR 1: PROJ: sinu: Invalid latitude\n",
      "ERROR 1: PROJ: sinu: Invalid latitude\n",
      "ERROR 1: PROJ: sinu: Invalid latitude\n",
      "ERROR 1: PROJ: sinu: Invalid latitude\n",
      "ERROR 1: PROJ: sinu: Invalid latitude\n",
      "ERROR 1: PROJ: sinu: Invalid latitude\n",
      "ERROR 1: PROJ: sinu: Invalid latitude\n",
      "ERROR 1: PROJ: sinu: Invalid latitude\n",
      "ERROR 1: PROJ: sinu: Invalid latitude\n",
      "ERROR 1: PROJ: sinu: Invalid latitude\n",
      "ERROR 1: PROJ: sinu: Invalid latitude\n",
      "ERROR 1: PROJ: sinu: Invalid latitude\n",
      "ERROR 1: PROJ: sinu: Invalid latitude\n",
      "ERROR 1: PROJ: sinu: Invalid latitude\n",
      "ERROR 1: PROJ: sinu: Invalid latitude\n",
      "ERROR 1: PROJ: sinu: Invalid latitude\n",
      "ERROR 1: PROJ: sinu: Invalid latitude\n",
      "ERROR 1: PROJ: sinu: Invalid latitude\n",
      "ERROR 1: PROJ: sinu: Invalid latitude\n",
      "ERROR 1: PROJ: sinu: Invalid latitude\n",
      "ERROR 1: PROJ: sinu: Invalid latitude\n",
      "ERROR 1: PROJ: sinu: Invalid latitude\n",
      "ERROR 1: PROJ: sinu: Invalid latitude\n",
      "ERROR 1: PROJ: sinu: Invalid latitude\n",
      "ERROR 1: PROJ: sinu: Invalid latitude\n",
      "ERROR 1: PROJ: sinu: Invalid latitude\n",
      "ERROR 1: PROJ: sinu: Invalid latitude\n",
      "ERROR 1: PROJ: sinu: Invalid latitude\n",
      "ERROR 1: PROJ: sinu: Invalid latitude\n",
      "ERROR 1: PROJ: sinu: Invalid latitude\n",
      "ERROR 1: PROJ: sinu: Invalid latitude\n",
      "ERROR 1: PROJ: sinu: Invalid latitude\n",
      "ERROR 1: PROJ: sinu: Invalid latitude\n",
      "ERROR 1: PROJ: sinu: Invalid latitude\n",
      "ERROR 1: PROJ: sinu: Invalid latitude\n",
      "ERROR 1: PROJ: sinu: Invalid latitude\n",
      "ERROR 1: PROJ: sinu: Invalid latitude\n",
      "ERROR 1: PROJ: sinu: Invalid latitude\n",
      "ERROR 1: PROJ: sinu: Invalid latitude\n",
      "ERROR 1: PROJ: sinu: Invalid latitude\n",
      "ERROR 1: PROJ: sinu: Invalid latitude\n",
      "ERROR 1: PROJ: sinu: Invalid latitude\n",
      "ERROR 1: PROJ: sinu: Invalid latitude\n",
      "ERROR 1: PROJ: sinu: Invalid latitude\n",
      "ERROR 1: PROJ: sinu: Invalid latitude\n",
      "ERROR 1: PROJ: sinu: Invalid latitude\n",
      "ERROR 1: PROJ: sinu: Invalid latitude\n",
      "ERROR 1: PROJ: sinu: Invalid latitude\n",
      "ERROR 1: PROJ: sinu: Invalid latitude\n",
      "ERROR 1: PROJ: sinu: Invalid latitude\n",
      "ERROR 1: PROJ: sinu: Invalid latitude\n",
      "ERROR 1: PROJ: sinu: Invalid latitude\n",
      "ERROR 1: PROJ: sinu: Invalid latitude\n",
      "ERROR 1: PROJ: sinu: Invalid latitude\n",
      "ERROR 1: PROJ: sinu: Invalid latitude\n",
      "ERROR 1: PROJ: sinu: Invalid latitude\n",
      "ERROR 1: PROJ: sinu: Invalid latitude\n",
      "ERROR 1: PROJ: sinu: Invalid latitude\n",
      "ERROR 1: PROJ: sinu: Invalid latitude\n",
      "ERROR 1: PROJ: sinu: Invalid latitude\n",
      "ERROR 1: PROJ: sinu: Invalid latitude\n",
      "ERROR 1: PROJ: sinu: Invalid latitude\n",
      "ERROR 1: PROJ: sinu: Invalid latitude\n",
      "ERROR 1: PROJ: sinu: Invalid latitude\n",
      "ERROR 1: PROJ: sinu: Invalid latitude\n",
      "ERROR 1: PROJ: sinu: Invalid latitude\n",
      "ERROR 1: PROJ: sinu: Invalid latitude\n",
      "ERROR 1: PROJ: sinu: Invalid latitude\n",
      "ERROR 1: PROJ: sinu: Invalid latitude\n",
      "ERROR 1: PROJ: sinu: Invalid latitude\n",
      "ERROR 1: PROJ: sinu: Invalid latitude\n",
      "ERROR 1: PROJ: sinu: Invalid latitude\n",
      "ERROR 1: PROJ: sinu: Invalid latitude\n",
      "ERROR 1: PROJ: sinu: Invalid latitude\n",
      "ERROR 1: PROJ: sinu: Invalid latitude\n",
      "ERROR 1: PROJ: sinu: Invalid latitude\n",
      "ERROR 1: PROJ: sinu: Invalid latitude\n",
      "ERROR 1: PROJ: sinu: Invalid latitude\n",
      "ERROR 1: PROJ: sinu: Invalid latitude\n",
      "ERROR 1: PROJ: sinu: Invalid latitude\n",
      "ERROR 1: PROJ: sinu: Invalid latitude\n",
      "ERROR 1: PROJ: sinu: Invalid latitude\n",
      "ERROR 1: PROJ: sinu: Invalid latitude\n",
      "ERROR 1: PROJ: sinu: Invalid latitude\n",
      "ERROR 1: PROJ: sinu: Invalid latitude\n",
      "ERROR 1: PROJ: sinu: Invalid latitude\n",
      "ERROR 1: PROJ: sinu: Invalid latitude\n",
      "ERROR 1: PROJ: sinu: Invalid latitude\n",
      "ERROR 1: PROJ: sinu: Invalid latitude\n",
      "ERROR 1: PROJ: sinu: Invalid latitude\n",
      "ERROR 1: PROJ: sinu: Invalid latitude\n",
      "ERROR 1: PROJ: sinu: Invalid latitude\n",
      "ERROR 1: PROJ: sinu: Invalid latitude\n",
      "ERROR 1: PROJ: sinu: Invalid latitude\n",
      "ERROR 1: PROJ: sinu: Invalid latitude\n",
      "ERROR 1: PROJ: sinu: Invalid latitude\n",
      "ERROR 1: PROJ: sinu: Invalid latitude\n",
      "ERROR 1: PROJ: sinu: Invalid latitude\n",
      "ERROR 1: PROJ: sinu: Invalid latitude\n",
      "ERROR 1: PROJ: sinu: Invalid latitude\n",
      "ERROR 1: PROJ: sinu: Invalid latitude\n",
      "ERROR 1: PROJ: sinu: Invalid latitude\n",
      "ERROR 1: PROJ: sinu: Invalid latitude\n",
      "ERROR 1: PROJ: sinu: Invalid latitude\n",
      "ERROR 1: PROJ: sinu: Invalid latitude\n",
      "ERROR 1: PROJ: sinu: Invalid latitude\n",
      "ERROR 1: PROJ: sinu: Invalid latitude\n",
      "ERROR 1: PROJ: sinu: Invalid latitude\n",
      "ERROR 1: PROJ: sinu: Invalid latitude\n",
      "ERROR 1: PROJ: sinu: Invalid latitude\n",
      "ERROR 1: PROJ: sinu: Invalid latitude\n",
      "ERROR 1: PROJ: sinu: Invalid latitude\n",
      "ERROR 1: PROJ: sinu: Invalid latitude\n",
      "ERROR 1: PROJ: sinu: Invalid latitude\n",
      "ERROR 1: PROJ: sinu: Invalid latitude\n",
      "ERROR 1: PROJ: sinu: Invalid latitude\n",
      "ERROR 1: PROJ: sinu: Invalid latitude\n",
      "ERROR 1: PROJ: sinu: Invalid latitude\n",
      "ERROR 1: PROJ: sinu: Invalid latitude\n",
      "ERROR 1: PROJ: sinu: Invalid latitude\n",
      "ERROR 1: PROJ: sinu: Invalid latitude\n",
      "ERROR 1: PROJ: sinu: Invalid latitude\n",
      "ERROR 1: PROJ: sinu: Invalid latitude\n",
      "ERROR 1: PROJ: sinu: Invalid latitude\n",
      "ERROR 1: PROJ: sinu: Invalid latitude\n",
      "ERROR 1: PROJ: sinu: Invalid latitude\n",
      "ERROR 1: PROJ: sinu: Invalid latitude\n",
      "ERROR 1: PROJ: sinu: Invalid latitude\n",
      "ERROR 1: PROJ: sinu: Invalid latitude\n",
      "ERROR 1: PROJ: sinu: Invalid latitude\n",
      "ERROR 1: PROJ: sinu: Invalid latitude\n",
      "ERROR 1: PROJ: sinu: Invalid latitude\n",
      "ERROR 1: PROJ: sinu: Invalid latitude\n",
      "ERROR 1: PROJ: sinu: Invalid latitude\n",
      "ERROR 1: PROJ: sinu: Invalid latitude\n",
      "ERROR 1: PROJ: sinu: Invalid latitude\n",
      "ERROR 1: PROJ: sinu: Invalid latitude\n",
      "ERROR 1: PROJ: sinu: Invalid latitude\n",
      "ERROR 1: PROJ: sinu: Invalid latitude\n",
      "ERROR 1: PROJ: sinu: Invalid latitude\n",
      "ERROR 1: PROJ: sinu: Invalid latitude\n",
      "ERROR 1: PROJ: sinu: Invalid latitude\n",
      "ERROR 1: PROJ: sinu: Invalid latitude\n",
      "ERROR 1: PROJ: sinu: Invalid latitude\n",
      "ERROR 1: PROJ: sinu: Invalid latitude\n",
      "ERROR 1: PROJ: sinu: Invalid latitude\n",
      "ERROR 1: PROJ: sinu: Invalid latitude\n",
      "ERROR 1: PROJ: sinu: Invalid latitude\n",
      "ERROR 1: PROJ: sinu: Invalid latitude\n",
      "ERROR 1: PROJ: sinu: Invalid latitude\n",
      "ERROR 1: PROJ: sinu: Invalid latitude\n",
      "ERROR 1: PROJ: sinu: Invalid latitude\n",
      "ERROR 1: PROJ: sinu: Invalid latitude\n",
      "ERROR 1: PROJ: sinu: Invalid latitude\n",
      "ERROR 1: PROJ: sinu: Invalid latitude\n",
      "ERROR 1: PROJ: sinu: Invalid latitude\n",
      "ERROR 1: PROJ: sinu: Invalid latitude\n",
      "ERROR 1: PROJ: sinu: Invalid latitude\n",
      "ERROR 1: PROJ: sinu: Invalid latitude\n",
      "ERROR 1: PROJ: sinu: Invalid latitude\n",
      "ERROR 1: PROJ: sinu: Invalid latitude\n",
      "ERROR 1: PROJ: sinu: Invalid latitude\n",
      "ERROR 1: PROJ: sinu: Invalid latitude\n",
      "ERROR 1: PROJ: sinu: Invalid latitude\n",
      "ERROR 1: PROJ: sinu: Invalid latitude\n",
      "ERROR 1: PROJ: sinu: Invalid latitude\n",
      "ERROR 1: PROJ: sinu: Invalid latitude\n",
      "ERROR 1: PROJ: sinu: Invalid latitude\n",
      "ERROR 1: PROJ: sinu: Invalid latitude\n",
      "ERROR 1: PROJ: sinu: Invalid latitude\n",
      "ERROR 1: PROJ: sinu: Invalid latitude\n",
      "ERROR 1: PROJ: sinu: Invalid latitude\n",
      "ERROR 1: PROJ: sinu: Invalid latitude\n",
      "ERROR 1: PROJ: sinu: Invalid latitude\n",
      "ERROR 1: PROJ: sinu: Invalid latitude\n",
      "ERROR 1: PROJ: sinu: Invalid latitude\n",
      "ERROR 1: PROJ: sinu: Invalid latitude\n",
      "ERROR 1: PROJ: sinu: Invalid latitude\n",
      "ERROR 1: PROJ: sinu: Invalid latitude\n",
      "ERROR 1: PROJ: sinu: Invalid latitude\n",
      "ERROR 1: PROJ: sinu: Invalid latitude\n",
      "ERROR 1: PROJ: sinu: Invalid latitude\n",
      "ERROR 1: PROJ: sinu: Invalid latitude\n",
      "ERROR 1: PROJ: sinu: Invalid latitude\n",
      "ERROR 1: PROJ: sinu: Invalid latitude\n",
      "ERROR 1: PROJ: sinu: Invalid latitude\n",
      "ERROR 1: PROJ: sinu: Invalid latitude\n",
      "ERROR 1: PROJ: sinu: Invalid latitude\n",
      "ERROR 1: PROJ: sinu: Invalid latitude\n",
      "ERROR 1: PROJ: sinu: Invalid latitude\n",
      "ERROR 1: PROJ: sinu: Invalid latitude\n",
      "ERROR 1: PROJ: sinu: Invalid latitude\n",
      "ERROR 1: PROJ: sinu: Invalid latitude\n",
      "ERROR 1: PROJ: sinu: Invalid latitude\n",
      "ERROR 1: PROJ: sinu: Invalid latitude\n",
      "ERROR 1: PROJ: sinu: Invalid latitude\n",
      "ERROR 1: PROJ: sinu: Invalid latitude\n",
      "ERROR 1: PROJ: sinu: Invalid latitude\n",
      "ERROR 1: PROJ: sinu: Invalid latitude\n",
      "ERROR 1: PROJ: sinu: Invalid latitude\n",
      "ERROR 1: PROJ: sinu: Invalid latitude\n",
      "ERROR 1: PROJ: sinu: Invalid latitude\n",
      "ERROR 1: PROJ: sinu: Invalid latitude\n",
      "ERROR 1: PROJ: sinu: Invalid latitude\n",
      "ERROR 1: PROJ: sinu: Invalid latitude\n",
      "ERROR 1: PROJ: sinu: Invalid latitude\n",
      "ERROR 1: PROJ: sinu: Invalid latitude\n",
      "ERROR 1: PROJ: sinu: Invalid latitude\n",
      "ERROR 1: PROJ: sinu: Invalid latitude\n",
      "ERROR 1: PROJ: sinu: Invalid latitude\n",
      "ERROR 1: PROJ: sinu: Invalid latitude\n",
      "ERROR 1: PROJ: sinu: Invalid latitude\n",
      "ERROR 1: PROJ: sinu: Invalid latitude\n",
      "ERROR 1: PROJ: sinu: Invalid latitude\n",
      "ERROR 1: PROJ: sinu: Invalid latitude\n",
      "ERROR 1: PROJ: sinu: Invalid latitude\n",
      "ERROR 1: PROJ: sinu: Invalid latitude\n",
      "ERROR 1: PROJ: sinu: Invalid latitude\n",
      "ERROR 1: PROJ: sinu: Invalid latitude\n",
      "ERROR 1: PROJ: sinu: Invalid latitude\n",
      "ERROR 1: PROJ: sinu: Invalid latitude\n",
      "ERROR 1: PROJ: sinu: Invalid latitude\n",
      "ERROR 1: PROJ: sinu: Invalid latitude\n",
      "ERROR 1: PROJ: sinu: Invalid latitude\n",
      "ERROR 1: PROJ: sinu: Invalid latitude\n",
      "ERROR 1: PROJ: sinu: Invalid latitude\n",
      "ERROR 1: PROJ: sinu: Invalid latitude\n",
      "ERROR 1: PROJ: sinu: Invalid latitude\n",
      "ERROR 1: PROJ: sinu: Invalid latitude\n",
      "ERROR 1: PROJ: sinu: Invalid latitude\n",
      "ERROR 1: PROJ: sinu: Invalid latitude\n",
      "ERROR 1: PROJ: sinu: Invalid latitude\n",
      "ERROR 1: PROJ: sinu: Invalid latitude\n",
      "ERROR 1: PROJ: sinu: Invalid latitude\n",
      "ERROR 1: PROJ: sinu: Invalid latitude\n",
      "ERROR 1: PROJ: sinu: Invalid latitude\n",
      "ERROR 1: PROJ: sinu: Invalid latitude\n",
      "ERROR 1: PROJ: sinu: Invalid latitude\n",
      "ERROR 1: PROJ: sinu: Invalid latitude\n",
      "ERROR 1: PROJ: sinu: Invalid latitude\n",
      "ERROR 1: PROJ: sinu: Invalid latitude\n",
      "ERROR 1: PROJ: sinu: Invalid latitude\n",
      "ERROR 1: PROJ: sinu: Invalid latitude\n",
      "ERROR 1: PROJ: sinu: Invalid latitude\n",
      "ERROR 1: PROJ: sinu: Invalid latitude\n",
      "ERROR 1: PROJ: sinu: Invalid latitude\n",
      "ERROR 1: PROJ: sinu: Invalid latitude\n",
      "ERROR 1: PROJ: sinu: Invalid latitude\n",
      "ERROR 1: PROJ: sinu: Invalid latitude\n",
      "ERROR 1: PROJ: sinu: Invalid latitude\n",
      "ERROR 1: PROJ: sinu: Invalid latitude\n",
      "ERROR 1: PROJ: sinu: Invalid latitude\n",
      "ERROR 1: PROJ: sinu: Invalid latitude\n",
      "ERROR 1: PROJ: sinu: Invalid latitude\n",
      "ERROR 1: PROJ: sinu: Invalid latitude\n",
      "ERROR 1: PROJ: sinu: Invalid latitude\n",
      "ERROR 1: PROJ: sinu: Invalid latitude\n",
      "ERROR 1: PROJ: sinu: Invalid latitude\n",
      "ERROR 1: PROJ: sinu: Invalid latitude\n",
      "ERROR 1: PROJ: sinu: Invalid latitude\n",
      "ERROR 1: PROJ: sinu: Invalid latitude\n",
      "ERROR 1: PROJ: sinu: Invalid latitude\n",
      "ERROR 1: PROJ: sinu: Invalid latitude\n",
      "ERROR 1: PROJ: sinu: Invalid latitude\n",
      "ERROR 1: PROJ: sinu: Invalid latitude\n",
      "ERROR 1: PROJ: sinu: Invalid latitude\n",
      "ERROR 1: PROJ: sinu: Invalid latitude\n",
      "ERROR 1: PROJ: sinu: Invalid latitude\n",
      "ERROR 1: PROJ: sinu: Invalid latitude\n",
      "ERROR 1: PROJ: sinu: Invalid latitude\n",
      "ERROR 1: PROJ: sinu: Invalid latitude\n",
      "ERROR 1: PROJ: sinu: Invalid latitude\n",
      "ERROR 1: PROJ: sinu: Invalid latitude\n",
      "ERROR 1: PROJ: sinu: Invalid latitude\n",
      "ERROR 1: PROJ: sinu: Invalid latitude\n",
      "ERROR 1: PROJ: sinu: Invalid latitude\n",
      "ERROR 1: PROJ: sinu: Invalid latitude\n",
      "ERROR 1: PROJ: sinu: Invalid latitude\n",
      "ERROR 1: PROJ: sinu: Invalid latitude\n",
      "ERROR 1: PROJ: sinu: Invalid latitude\n",
      "ERROR 1: PROJ: sinu: Invalid latitude\n",
      "ERROR 1: PROJ: sinu: Invalid latitude\n",
      "ERROR 1: PROJ: sinu: Invalid latitude\n",
      "ERROR 1: PROJ: sinu: Invalid latitude\n",
      "ERROR 1: PROJ: sinu: Invalid latitude\n",
      "ERROR 1: PROJ: sinu: Invalid latitude\n",
      "ERROR 1: PROJ: sinu: Invalid latitude\n",
      "ERROR 1: PROJ: sinu: Invalid latitude\n",
      "ERROR 1: PROJ: sinu: Invalid latitude\n",
      "ERROR 1: PROJ: sinu: Invalid latitude\n",
      "ERROR 1: PROJ: sinu: Invalid latitude\n",
      "ERROR 1: PROJ: sinu: Invalid latitude\n",
      "ERROR 1: PROJ: sinu: Invalid latitude\n",
      "ERROR 1: PROJ: sinu: Invalid latitude\n",
      "ERROR 1: PROJ: sinu: Invalid latitude\n",
      "ERROR 1: PROJ: sinu: Invalid latitude\n",
      "ERROR 1: PROJ: sinu: Invalid latitude\n",
      "ERROR 1: PROJ: sinu: Invalid latitude\n",
      "ERROR 1: PROJ: sinu: Invalid latitude\n",
      "ERROR 1: PROJ: sinu: Invalid latitude\n",
      "ERROR 1: PROJ: sinu: Invalid latitude\n",
      "ERROR 1: PROJ: sinu: Invalid latitude\n",
      "ERROR 1: PROJ: sinu: Invalid latitude\n",
      "ERROR 1: PROJ: sinu: Invalid latitude\n",
      "ERROR 1: PROJ: sinu: Invalid latitude\n",
      "ERROR 1: PROJ: sinu: Invalid latitude\n",
      "ERROR 1: PROJ: sinu: Invalid latitude\n",
      "ERROR 1: PROJ: sinu: Invalid latitude\n",
      "ERROR 1: PROJ: sinu: Invalid latitude\n",
      "ERROR 1: PROJ: sinu: Invalid latitude\n",
      "ERROR 1: PROJ: sinu: Invalid latitude\n",
      "ERROR 1: PROJ: sinu: Invalid latitude\n",
      "ERROR 1: PROJ: sinu: Invalid latitude\n",
      "ERROR 1: PROJ: sinu: Invalid latitude\n",
      "ERROR 1: PROJ: sinu: Invalid latitude\n",
      "ERROR 1: PROJ: sinu: Invalid latitude\n",
      "ERROR 1: PROJ: sinu: Invalid latitude\n",
      "ERROR 1: PROJ: sinu: Invalid latitude\n",
      "ERROR 1: PROJ: sinu: Invalid latitude\n",
      "ERROR 1: PROJ: sinu: Invalid latitude\n",
      "ERROR 1: PROJ: sinu: Invalid latitude\n",
      "ERROR 1: PROJ: sinu: Invalid latitude\n",
      "ERROR 1: PROJ: sinu: Invalid latitude\n",
      "ERROR 1: PROJ: sinu: Invalid latitude\n",
      "ERROR 1: PROJ: sinu: Invalid latitude\n",
      "ERROR 1: PROJ: sinu: Invalid latitude\n",
      "ERROR 1: PROJ: sinu: Invalid latitude\n",
      "ERROR 1: PROJ: sinu: Invalid latitude\n",
      "ERROR 1: PROJ: sinu: Invalid latitude\n",
      "ERROR 1: PROJ: sinu: Invalid latitude\n",
      "ERROR 1: PROJ: sinu: Invalid latitude\n",
      "ERROR 1: PROJ: sinu: Invalid latitude\n",
      "ERROR 1: PROJ: sinu: Invalid latitude\n",
      "ERROR 1: PROJ: sinu: Invalid latitude\n",
      "ERROR 1: PROJ: sinu: Invalid latitude\n",
      "ERROR 1: PROJ: sinu: Invalid latitude\n",
      "ERROR 1: PROJ: sinu: Invalid latitude\n",
      "ERROR 1: PROJ: sinu: Invalid latitude\n",
      "ERROR 1: PROJ: sinu: Invalid latitude\n",
      "ERROR 1: PROJ: sinu: Invalid latitude\n",
      "ERROR 1: PROJ: sinu: Invalid latitude\n",
      "ERROR 1: PROJ: sinu: Invalid latitude\n",
      "ERROR 1: PROJ: sinu: Invalid latitude\n",
      "ERROR 1: PROJ: sinu: Invalid latitude\n",
      "ERROR 1: PROJ: sinu: Invalid latitude\n",
      "ERROR 1: PROJ: sinu: Invalid latitude\n",
      "ERROR 1: PROJ: sinu: Invalid latitude\n",
      "ERROR 1: PROJ: sinu: Invalid latitude\n",
      "ERROR 1: PROJ: sinu: Invalid latitude\n",
      "ERROR 1: PROJ: sinu: Invalid latitude\n",
      "ERROR 1: PROJ: sinu: Invalid latitude\n",
      "ERROR 1: PROJ: sinu: Invalid latitude\n",
      "ERROR 1: PROJ: sinu: Invalid latitude\n",
      "ERROR 1: PROJ: sinu: Invalid latitude\n",
      "ERROR 1: PROJ: sinu: Invalid latitude\n",
      "ERROR 1: PROJ: sinu: Invalid latitude\n",
      "ERROR 1: PROJ: sinu: Invalid latitude\n",
      "ERROR 1: PROJ: sinu: Invalid latitude\n",
      "ERROR 1: PROJ: sinu: Invalid latitude\n",
      "ERROR 1: PROJ: sinu: Invalid latitude\n",
      "ERROR 1: PROJ: sinu: Invalid latitude\n",
      "ERROR 1: PROJ: sinu: Invalid latitude\n",
      "ERROR 1: PROJ: sinu: Invalid latitude\n",
      "ERROR 1: PROJ: sinu: Invalid latitude\n",
      "ERROR 1: PROJ: sinu: Invalid latitude\n",
      "ERROR 1: PROJ: sinu: Invalid latitude\n",
      "ERROR 1: PROJ: sinu: Invalid latitude\n",
      "ERROR 1: PROJ: sinu: Invalid latitude\n",
      "ERROR 1: PROJ: sinu: Invalid latitude\n",
      "ERROR 1: PROJ: sinu: Invalid latitude\n",
      "ERROR 1: PROJ: sinu: Invalid latitude\n",
      "ERROR 1: PROJ: sinu: Invalid latitude\n",
      "ERROR 1: PROJ: sinu: Invalid latitude\n",
      "ERROR 1: PROJ: sinu: Invalid latitude\n",
      "ERROR 1: PROJ: sinu: Invalid latitude\n",
      "ERROR 1: PROJ: sinu: Invalid latitude\n",
      "ERROR 1: PROJ: sinu: Invalid latitude\n",
      "ERROR 1: PROJ: sinu: Invalid latitude\n",
      "ERROR 1: PROJ: sinu: Invalid latitude\n",
      "ERROR 1: PROJ: sinu: Invalid latitude\n",
      "ERROR 1: PROJ: sinu: Invalid latitude\n",
      "ERROR 1: PROJ: sinu: Invalid latitude\n",
      "ERROR 1: PROJ: sinu: Invalid latitude\n",
      "ERROR 1: PROJ: sinu: Invalid latitude\n",
      "ERROR 1: PROJ: sinu: Invalid latitude\n",
      "ERROR 1: PROJ: sinu: Invalid latitude\n",
      "ERROR 1: PROJ: sinu: Invalid latitude\n",
      "ERROR 1: PROJ: sinu: Invalid latitude\n",
      "ERROR 1: PROJ: sinu: Invalid latitude\n",
      "ERROR 1: PROJ: sinu: Invalid latitude\n",
      "ERROR 1: PROJ: sinu: Invalid latitude\n",
      "ERROR 1: PROJ: sinu: Invalid latitude\n",
      "ERROR 1: PROJ: sinu: Invalid latitude\n",
      "ERROR 1: PROJ: sinu: Invalid latitude\n",
      "ERROR 1: PROJ: sinu: Invalid latitude\n",
      "ERROR 1: PROJ: sinu: Invalid latitude\n",
      "ERROR 1: PROJ: sinu: Invalid latitude\n",
      "ERROR 1: PROJ: sinu: Invalid latitude\n",
      "ERROR 1: PROJ: sinu: Invalid latitude\n",
      "ERROR 1: PROJ: sinu: Invalid latitude\n",
      "ERROR 1: PROJ: sinu: Invalid latitude\n",
      "ERROR 1: PROJ: sinu: Invalid latitude\n",
      "ERROR 1: PROJ: sinu: Invalid latitude\n",
      "ERROR 1: PROJ: sinu: Invalid latitude\n",
      "ERROR 1: PROJ: sinu: Invalid latitude\n",
      "ERROR 1: PROJ: sinu: Invalid latitude\n",
      "ERROR 1: PROJ: sinu: Invalid latitude\n",
      "ERROR 1: PROJ: sinu: Invalid latitude\n",
      "ERROR 1: PROJ: sinu: Invalid latitude\n",
      "ERROR 1: PROJ: sinu: Invalid latitude\n",
      "ERROR 1: PROJ: sinu: Invalid latitude\n",
      "ERROR 1: PROJ: sinu: Invalid latitude\n",
      "ERROR 1: PROJ: sinu: Invalid latitude\n",
      "ERROR 1: PROJ: sinu: Invalid latitude\n",
      "ERROR 1: PROJ: sinu: Invalid latitude\n",
      "ERROR 1: PROJ: sinu: Invalid latitude\n",
      "ERROR 1: PROJ: sinu: Invalid latitude\n",
      "ERROR 1: PROJ: sinu: Invalid latitude\n",
      "ERROR 1: PROJ: sinu: Invalid latitude\n",
      "ERROR 1: PROJ: sinu: Invalid latitude\n",
      "ERROR 1: PROJ: sinu: Invalid latitude\n",
      "ERROR 1: PROJ: sinu: Invalid latitude\n",
      "ERROR 1: PROJ: sinu: Invalid latitude\n",
      "ERROR 1: PROJ: sinu: Invalid latitude\n",
      "ERROR 1: PROJ: sinu: Invalid latitude\n",
      "ERROR 1: PROJ: sinu: Invalid latitude\n",
      "ERROR 1: PROJ: sinu: Invalid latitude\n",
      "ERROR 1: PROJ: sinu: Invalid latitude\n",
      "ERROR 1: PROJ: sinu: Invalid latitude\n",
      "ERROR 1: PROJ: sinu: Invalid latitude\n"
     ]
    },
    {
     "name": "stdout",
     "output_type": "stream",
     "text": [
      "(2025-05-11 19:02:17) modis.sh: subsetting HDFs in GeoTIFF format under /work/comphyd_lab/data/CONFLUENCE_data/domain_Bow_at_Banff_lumped/attributes/landclass\n",
      "(2025-05-11 19:02:20) modis.sh: deleting temporary files from /home/darri.eythorsson/cache_Bow_at_Banff_lumped\n",
      "(2025-05-11 19:02:20) modis.sh: temporary files from /home/darri.eythorsson/cache_Bow_at_Banff_lumped are removed\n",
      "(2025-05-11 19:02:20) modis.sh: results are produced under /work/comphyd_lab/data/CONFLUENCE_data/domain_Bow_at_Banff_lumped/attributes/landclass\n",
      "13:02:20 - INFO - gistool completed successfully.\n"
     ]
    },
    {
     "name": "stderr",
     "output_type": "stream",
     "text": [
      "mkdir: cannot create directory ‘/home/darri.eythorsson/empty_dir’: File exists\n",
      "2025-05-11 13:02:20,730 - confluence_general - INFO - gistool completed successfully.\n"
     ]
    },
    {
     "name": "stdout",
     "output_type": "stream",
     "text": [
      "13:02:20 - INFO - Geospatial data acquisition process completed\n"
     ]
    },
    {
     "name": "stderr",
     "output_type": "stream",
     "text": [
      "2025-05-11 13:02:20,733 - confluence_general - INFO - Geospatial data acquisition process completed\n"
     ]
    },
    {
     "name": "stdout",
     "output_type": "stream",
     "text": [
      "13:02:20 - INFO - Calculating land cover mode across years\n"
     ]
    },
    {
     "name": "stderr",
     "output_type": "stream",
     "text": [
      "2025-05-11 13:02:20,735 - confluence_general - INFO - Calculating land cover mode across years\n"
     ]
    },
    {
     "name": "stdout",
     "output_type": "stream",
     "text": [
      "Mode calculation complete. Result saved to /work/comphyd_lab/data/CONFLUENCE_data/domain_Bow_at_Banff_lumped/attributes/landclass/domain_Bow_at_Banff_lumped_land_classes.tif\n",
      "13:02:44 - INFO - Acquiring soil class data\n"
     ]
    },
    {
     "name": "stderr",
     "output_type": "stream",
     "text": [
      "2025-05-11 13:02:44,866 - confluence_general - INFO - Acquiring soil class data\n"
     ]
    },
    {
     "name": "stdout",
     "output_type": "stream",
     "text": [
      "extract-gis.sh: WARNING! --account not provided, using `rpp-kshook` by default.\n",
      "(2025-05-11 19:02:48) soil_class.sh: processing Wouter's wonderful soil_class GeoTIFF(s)...\n",
      "(2025-05-11 19:02:48) soil_class.sh: creating output directory under /work/comphyd_lab/data/CONFLUENCE_data/domain_Bow_at_Banff_lumped/attributes/soilclass\n",
      "(2025-05-11 19:02:48) soil_class.sh: subsetting GeoTIFFs under /work/comphyd_lab/data/CONFLUENCE_data/domain_Bow_at_Banff_lumped/attributes/soilclass\n",
      "(2025-05-11 19:02:49) soil_class.sh: deleting temporary files from /home/darri.eythorsson/cache_Bow_at_Banff_lumped\n",
      "(2025-05-11 19:02:49) soil_class.sh: temporary files from /home/darri.eythorsson/cache_Bow_at_Banff_lumped are removed\n",
      "(2025-05-11 19:02:49) soil_class.sh: results are produced under /work/comphyd_lab/data/CONFLUENCE_data/domain_Bow_at_Banff_lumped/attributes/soilclass\n",
      "13:02:49 - INFO - gistool completed successfully.\n"
     ]
    },
    {
     "name": "stderr",
     "output_type": "stream",
     "text": [
      "mkdir: cannot create directory ‘/home/darri.eythorsson/empty_dir’: File exists\n",
      "2025-05-11 13:02:49,298 - confluence_general - INFO - gistool completed successfully.\n"
     ]
    },
    {
     "name": "stdout",
     "output_type": "stream",
     "text": [
      "13:02:49 - INFO - Geospatial data acquisition process completed\n"
     ]
    },
    {
     "name": "stderr",
     "output_type": "stream",
     "text": [
      "2025-05-11 13:02:49,299 - confluence_general - INFO - Geospatial data acquisition process completed\n"
     ]
    },
    {
     "name": "stdout",
     "output_type": "stream",
     "text": [
      "13:02:49 - INFO - Attribute acquisition completed successfully\n"
     ]
    },
    {
     "name": "stderr",
     "output_type": "stream",
     "text": [
      "2025-05-11 13:02:49,301 - confluence_general - INFO - Attribute acquisition completed successfully\n"
     ]
    },
    {
     "name": "stdout",
     "output_type": "stream",
     "text": [
      "\n",
      "Delineating watershed using method: lumped\n",
      "13:02:49 - INFO - Domain definition workflow starting with: lumped\n"
     ]
    },
    {
     "name": "stderr",
     "output_type": "stream",
     "text": [
      "2025-05-11 13:02:49,303 - confluence_general - INFO - Domain definition workflow starting with: lumped\n"
     ]
    },
    {
     "name": "stdout",
     "output_type": "stream",
     "text": [
      "13:02:49 - INFO - Starting geofabric lumped delineation\n"
     ]
    },
    {
     "name": "stderr",
     "output_type": "stream",
     "text": [
      "2025-05-11 13:02:49,304 - confluence_general - INFO - Starting geofabric lumped delineation\n"
     ]
    },
    {
     "name": "stdout",
     "output_type": "stream",
     "text": [
      "13:02:49 - INFO - Geofabric delineation completed successfully\n"
     ]
    },
    {
     "name": "stderr",
     "output_type": "stream",
     "text": [
      "2025-05-11 13:02:49,306 - confluence_general - INFO - Geofabric delineation completed successfully\n"
     ]
    },
    {
     "name": "stdout",
     "output_type": "stream",
     "text": [
      "13:02:49 - INFO - Starting lumped watershed delineation for Bow_at_Banff_lumped\n"
     ]
    },
    {
     "name": "stderr",
     "output_type": "stream",
     "text": [
      "2025-05-11 13:02:49,308 - confluence_general - INFO - Starting lumped watershed delineation for Bow_at_Banff_lumped\n"
     ]
    },
    {
     "name": "stdout",
     "output_type": "stream",
     "text": [
      "PitRemove version 5.3.9\n",
      "Input file /work/comphyd_lab/data/CONFLUENCE_data/domain_Bow_at_Banff_lumped/attributes/elevation/dem/domain_Bow_at_Banff_lumped_elv.tif has geographic coordinate system.\n",
      "Nodata value input to create partition from file: -9999.000000\n",
      "Nodata value recast to float used in partition raster: -9999.000000\n"
     ]
    },
    {
     "name": "stderr",
     "output_type": "stream",
     "text": [
      "This run may take on the order of 1 minutes to complete.\n",
      "This estimate is very approximate. \n",
      "Run time is highly uncertain as it depends on the complexity of the input data \n",
      "and speed and memory of the computer. This estimate is based on our testing on \n",
      "a dual quad core Dell Xeon E5405 2.0GHz PC with 16GB RAM.\n"
     ]
    },
    {
     "name": "stdout",
     "output_type": "stream",
     "text": [
      "Processes: 1\n",
      "Header read time: 0.024342\n",
      "Data read time: 0.071201\n",
      "Compute time: 0.289225\n",
      "Write time: 0.111368\n",
      "Total time: 0.496136\n",
      "13:02:50 - INFO - Completed TauDEM step: mpirun -n 1 /work/comphyd_lab/data/CONFLUENCE_data/installs/TauDEM/bin/pitremove -z /work/comphyd_lab/data/CONFLUENCE_data/domain_Bow_at_Banff_lumped/attributes/elevation/dem/domain_Bow_at_Banff_lumped_elv.tif -fel /work/comphyd_lab/data/CONFLUENCE_data/domain_Bow_at_Banff_lumped/shapefiles/tempdir/fel.tif\n"
     ]
    },
    {
     "name": "stderr",
     "output_type": "stream",
     "text": [
      "2025-05-11 13:02:50,464 - confluence_general - INFO - Completed TauDEM step: mpirun -n 1 /work/comphyd_lab/data/CONFLUENCE_data/installs/TauDEM/bin/pitremove -z /work/comphyd_lab/data/CONFLUENCE_data/domain_Bow_at_Banff_lumped/attributes/elevation/dem/domain_Bow_at_Banff_lumped_elv.tif -fel /work/comphyd_lab/data/CONFLUENCE_data/domain_Bow_at_Banff_lumped/shapefiles/tempdir/fel.tif\n"
     ]
    },
    {
     "name": "stdout",
     "output_type": "stream",
     "text": [
      "D8FlowDir version 5.3.9\n",
      "Input file /work/comphyd_lab/data/CONFLUENCE_data/domain_Bow_at_Banff_lumped/shapefiles/tempdir/fel.tif has geographic coordinate system.\n",
      "Nodata value input to create partition from file: -300000000549775575777803994281145270272.000000\n",
      "Nodata value recast to float used in partition raster: -300000000549775575777803994281145270272.000000\n"
     ]
    },
    {
     "name": "stderr",
     "output_type": "stream",
     "text": [
      "This run may take on the order of 1 minutes to complete.\n",
      "This estimate is very approximate. \n",
      "Run time is highly uncertain as it depends on the complexity of the input data \n",
      "and speed and memory of the computer. This estimate is based on our testing on \n",
      "a dual quad core Dell Xeon E5405 2.0GHz PC with 16GB RAM.\n",
      "All slopes evaluated. 28666 flats to resolve.\n",
      "Draining flats towards lower adjacent terrain\n",
      "...........................................................................\n",
      "Draining flats away from higher adjacent terrain\n",
      "."
     ]
    },
    {
     "name": "stdout",
     "output_type": "stream",
     "text": [
      "Processors: 1\n",
      "Header read time: 0.021994\n",
      "Data read time: 0.035165\n",
      "Compute Slope time: 0.290281\n",
      "Write Slope time: 0.138673\n",
      "Resolve Flat time: 0.699942\n",
      "Write Flat time: 0.057546\n",
      "Total time: 1.243600\n",
      "13:02:52 - INFO - Completed TauDEM step: mpirun -n 1 /work/comphyd_lab/data/CONFLUENCE_data/installs/TauDEM/bin/d8flowdir -fel /work/comphyd_lab/data/CONFLUENCE_data/domain_Bow_at_Banff_lumped/shapefiles/tempdir/fel.tif -p /work/comphyd_lab/data/CONFLUENCE_data/domain_Bow_at_Banff_lumped/shapefiles/tempdir/p.tif -sd8 /work/comphyd_lab/data/CONFLUENCE_data/domain_Bow_at_Banff_lumped/shapefiles/tempdir/sd8.tif\n"
     ]
    },
    {
     "name": "stderr",
     "output_type": "stream",
     "text": [
      ".....\n",
      "Setting directions\n",
      "Iteration complete. Number of flats remaining: 95\n",
      "Draining flats towards lower adjacent terrain\n",
      "...\n",
      "Draining flats away from higher adjacent terrain\n",
      "..\n",
      "Setting directions\n",
      "2025-05-11 13:02:52,165 - confluence_general - INFO - Completed TauDEM step: mpirun -n 1 /work/comphyd_lab/data/CONFLUENCE_data/installs/TauDEM/bin/d8flowdir -fel /work/comphyd_lab/data/CONFLUENCE_data/domain_Bow_at_Banff_lumped/shapefiles/tempdir/fel.tif -p /work/comphyd_lab/data/CONFLUENCE_data/domain_Bow_at_Banff_lumped/shapefiles/tempdir/p.tif -sd8 /work/comphyd_lab/data/CONFLUENCE_data/domain_Bow_at_Banff_lumped/shapefiles/tempdir/sd8.tif\n"
     ]
    },
    {
     "name": "stdout",
     "output_type": "stream",
     "text": [
      "AreaD8 version 5.3.9\n",
      "Input file /work/comphyd_lab/data/CONFLUENCE_data/domain_Bow_at_Banff_lumped/shapefiles/tempdir/p.tif has geographic coordinate system.\n",
      "Nodata value input to create partition from file: -32768.000000\n",
      "Nodata value recast to int16_t used in partition raster: -32768\n"
     ]
    },
    {
     "name": "stderr",
     "output_type": "stream",
     "text": [
      "This run may take on the order of 1 minutes to complete.\n",
      "This estimate is very approximate. \n",
      "Run time is highly uncertain as it depends on the complexity of the input data \n",
      "and speed and memory of the computer. This estimate is based on our testing on \n",
      "a dual quad core Dell Xeon E5405 2.0GHz PC with 16GB RAM.\n"
     ]
    },
    {
     "name": "stdout",
     "output_type": "stream",
     "text": [
      "Number of Processes: 1\n",
      "Read time: 0.032343\n",
      "Compute time: 0.333770\n",
      "Write time: 0.078144\n",
      "Total time: 0.444257\n",
      "13:02:53 - INFO - Completed TauDEM step: mpirun -n 1 /work/comphyd_lab/data/CONFLUENCE_data/installs/TauDEM/bin/aread8 -p /work/comphyd_lab/data/CONFLUENCE_data/domain_Bow_at_Banff_lumped/shapefiles/tempdir/p.tif -ad8 /work/comphyd_lab/data/CONFLUENCE_data/domain_Bow_at_Banff_lumped/shapefiles/tempdir/ad8.tif\n"
     ]
    },
    {
     "name": "stderr",
     "output_type": "stream",
     "text": [
      "2025-05-11 13:02:53,069 - confluence_general - INFO - Completed TauDEM step: mpirun -n 1 /work/comphyd_lab/data/CONFLUENCE_data/installs/TauDEM/bin/aread8 -p /work/comphyd_lab/data/CONFLUENCE_data/domain_Bow_at_Banff_lumped/shapefiles/tempdir/p.tif -ad8 /work/comphyd_lab/data/CONFLUENCE_data/domain_Bow_at_Banff_lumped/shapefiles/tempdir/ad8.tif\n"
     ]
    },
    {
     "name": "stdout",
     "output_type": "stream",
     "text": [
      "Threshold version 5.3.9\n",
      "Input file /work/comphyd_lab/data/CONFLUENCE_data/domain_Bow_at_Banff_lumped/shapefiles/tempdir/ad8.tif has geographic coordinate system.\n",
      "Nodata value input to create partition from file: -1.000000\n",
      "Nodata value recast to float used in partition raster: -1.000000\n",
      "Compute time: 0.017449\n",
      "13:02:53 - INFO - Completed TauDEM step: mpirun -n 1 /work/comphyd_lab/data/CONFLUENCE_data/installs/TauDEM/bin/threshold -ssa /work/comphyd_lab/data/CONFLUENCE_data/domain_Bow_at_Banff_lumped/shapefiles/tempdir/ad8.tif -src /work/comphyd_lab/data/CONFLUENCE_data/domain_Bow_at_Banff_lumped/shapefiles/tempdir/src.tif -thresh 100\n"
     ]
    },
    {
     "name": "stderr",
     "output_type": "stream",
     "text": [
      "This run may take on the order of 1 minutes to complete.\n",
      "This estimate is very approximate. \n",
      "Run time is highly uncertain as it depends on the complexity of the input data \n",
      "and speed and memory of the computer. This estimate is based on our testing on \n",
      "a dual quad core Dell Xeon E5405 2.0GHz PC with 16GB RAM.\n",
      "2025-05-11 13:02:53,641 - confluence_general - INFO - Completed TauDEM step: mpirun -n 1 /work/comphyd_lab/data/CONFLUENCE_data/installs/TauDEM/bin/threshold -ssa /work/comphyd_lab/data/CONFLUENCE_data/domain_Bow_at_Banff_lumped/shapefiles/tempdir/ad8.tif -src /work/comphyd_lab/data/CONFLUENCE_data/domain_Bow_at_Banff_lumped/shapefiles/tempdir/src.tif -thresh 100\n"
     ]
    },
    {
     "name": "stdout",
     "output_type": "stream",
     "text": [
      "MoveOutletsToStreams version 5.3.9\n",
      "Input file /work/comphyd_lab/data/CONFLUENCE_data/domain_Bow_at_Banff_lumped/shapefiles/tempdir/src.tif has geographic coordinate system.\n",
      "Nodata value input to create partition from file: -32768.000000\n",
      "Nodata value recast to int16_t used in partition raster: -32768\n",
      "Input file /work/comphyd_lab/data/CONFLUENCE_data/domain_Bow_at_Banff_lumped/shapefiles/tempdir/p.tif has geographic coordinate system.\n",
      "Nodata value input to create partition from file: -32768.000000\n",
      "Nodata value recast to int16_t used in partition raster: -32768\n",
      "om Total time: 0.101149\n",
      "13:02:54 - INFO - Completed TauDEM step: mpirun -n 1 /work/comphyd_lab/data/CONFLUENCE_data/installs/TauDEM/bin/moveoutletstostrm -p /work/comphyd_lab/data/CONFLUENCE_data/domain_Bow_at_Banff_lumped/shapefiles/tempdir/p.tif -src /work/comphyd_lab/data/CONFLUENCE_data/domain_Bow_at_Banff_lumped/shapefiles/tempdir/src.tif -o /work/comphyd_lab/data/CONFLUENCE_data/domain_Bow_at_Banff_lumped/shapefiles/pour_point/Bow_at_Banff_lumped_pourPoint.shp -om /work/comphyd_lab/data/CONFLUENCE_data/domain_Bow_at_Banff_lumped/shapefiles/tempdir/om.shp\n"
     ]
    },
    {
     "name": "stderr",
     "output_type": "stream",
     "text": [
      "This run may take on the order of 1 minutes to complete.\n",
      "This estimate is very approximate. \n",
      "Run time is highly uncertain as it depends on the complexity of the input data \n",
      "and speed and memory of the computer. This estimate is based on our testing on \n",
      "a dual quad core Dell Xeon E5405 2.0GHz PC with 16GB RAM.\n",
      "2025-05-11 13:02:54,191 - confluence_general - INFO - Completed TauDEM step: mpirun -n 1 /work/comphyd_lab/data/CONFLUENCE_data/installs/TauDEM/bin/moveoutletstostrm -p /work/comphyd_lab/data/CONFLUENCE_data/domain_Bow_at_Banff_lumped/shapefiles/tempdir/p.tif -src /work/comphyd_lab/data/CONFLUENCE_data/domain_Bow_at_Banff_lumped/shapefiles/tempdir/src.tif -o /work/comphyd_lab/data/CONFLUENCE_data/domain_Bow_at_Banff_lumped/shapefiles/pour_point/Bow_at_Banff_lumped_pourPoint.shp -om /work/comphyd_lab/data/CONFLUENCE_data/domain_Bow_at_Banff_lumped/shapefiles/tempdir/om.shp\n"
     ]
    },
    {
     "name": "stdout",
     "output_type": "stream",
     "text": [
      "Gage Watershed version 5.3.9\n",
      "Input file /work/comphyd_lab/data/CONFLUENCE_data/domain_Bow_at_Banff_lumped/shapefiles/tempdir/p.tif has geographic coordinate system.\n",
      "Nodata value input to create partition from file: -32768.000000\n",
      "Nodata value recast to int16_t used in partition raster: -32768\n",
      "Size: 1\n",
      "Read time: 0.042017\n",
      "Compute time: 0.082079\n",
      "Write time: 0.048758\n",
      "Total time: 0.172853\n",
      "13:02:54 - INFO - Completed TauDEM step: mpirun -n 1 /work/comphyd_lab/data/CONFLUENCE_data/installs/TauDEM/bin/gagewatershed -p /work/comphyd_lab/data/CONFLUENCE_data/domain_Bow_at_Banff_lumped/shapefiles/tempdir/p.tif -o /work/comphyd_lab/data/CONFLUENCE_data/domain_Bow_at_Banff_lumped/shapefiles/tempdir/om.shp -gw /work/comphyd_lab/data/CONFLUENCE_data/domain_Bow_at_Banff_lumped/shapefiles/tempdir/watershed.tif -id /work/comphyd_lab/data/CONFLUENCE_data/domain_Bow_at_Banff_lumped/shapefiles/tempdir/watershed_id.txt\n"
     ]
    },
    {
     "name": "stderr",
     "output_type": "stream",
     "text": [
      "This run may take on the order of 1 minutes to complete.\n",
      "This estimate is very approximate. \n",
      "Run time is highly uncertain as it depends on the complexity of the input data \n",
      "and speed and memory of the computer. This estimate is based on our testing on \n",
      "a dual quad core Dell Xeon E5405 2.0GHz PC with 16GB RAM.\n",
      "2025-05-11 13:02:54,802 - confluence_general - INFO - Completed TauDEM step: mpirun -n 1 /work/comphyd_lab/data/CONFLUENCE_data/installs/TauDEM/bin/gagewatershed -p /work/comphyd_lab/data/CONFLUENCE_data/domain_Bow_at_Banff_lumped/shapefiles/tempdir/p.tif -o /work/comphyd_lab/data/CONFLUENCE_data/domain_Bow_at_Banff_lumped/shapefiles/tempdir/om.shp -gw /work/comphyd_lab/data/CONFLUENCE_data/domain_Bow_at_Banff_lumped/shapefiles/tempdir/watershed.tif -id /work/comphyd_lab/data/CONFLUENCE_data/domain_Bow_at_Banff_lumped/shapefiles/tempdir/watershed_id.txt\n",
      "2025-05-11 13:02:55,030 - pyogrio._io - INFO - Created 1 records\n"
     ]
    },
    {
     "name": "stdout",
     "output_type": "stream",
     "text": [
      "13:02:55 - INFO - Removed temporary file: /work/comphyd_lab/data/CONFLUENCE_data/domain_Bow_at_Banff_lumped/shapefiles/river_basins/Bow_at_Banff_lumped_riverBasins_lumped_temp.shp\n"
     ]
    },
    {
     "name": "stderr",
     "output_type": "stream",
     "text": [
      "2025-05-11 13:02:55,037 - confluence_general - INFO - Removed temporary file: /work/comphyd_lab/data/CONFLUENCE_data/domain_Bow_at_Banff_lumped/shapefiles/river_basins/Bow_at_Banff_lumped_riverBasins_lumped_temp.shp\n"
     ]
    },
    {
     "name": "stdout",
     "output_type": "stream",
     "text": [
      "13:02:55 - INFO - Removed temporary file: /work/comphyd_lab/data/CONFLUENCE_data/domain_Bow_at_Banff_lumped/shapefiles/river_basins/Bow_at_Banff_lumped_riverBasins_lumped_temp.shx\n"
     ]
    },
    {
     "name": "stderr",
     "output_type": "stream",
     "text": [
      "2025-05-11 13:02:55,040 - confluence_general - INFO - Removed temporary file: /work/comphyd_lab/data/CONFLUENCE_data/domain_Bow_at_Banff_lumped/shapefiles/river_basins/Bow_at_Banff_lumped_riverBasins_lumped_temp.shx\n"
     ]
    },
    {
     "name": "stdout",
     "output_type": "stream",
     "text": [
      "13:02:55 - INFO - Removed temporary file: /work/comphyd_lab/data/CONFLUENCE_data/domain_Bow_at_Banff_lumped/shapefiles/river_basins/Bow_at_Banff_lumped_riverBasins_lumped_temp.dbf\n"
     ]
    },
    {
     "name": "stderr",
     "output_type": "stream",
     "text": [
      "2025-05-11 13:02:55,043 - confluence_general - INFO - Removed temporary file: /work/comphyd_lab/data/CONFLUENCE_data/domain_Bow_at_Banff_lumped/shapefiles/river_basins/Bow_at_Banff_lumped_riverBasins_lumped_temp.dbf\n"
     ]
    },
    {
     "name": "stdout",
     "output_type": "stream",
     "text": [
      "13:02:55 - INFO - Filtered watershed shapefile created at: /work/comphyd_lab/data/CONFLUENCE_data/domain_Bow_at_Banff_lumped/shapefiles/river_basins/Bow_at_Banff_lumped_riverBasins_lumped.shp\n"
     ]
    },
    {
     "name": "stderr",
     "output_type": "stream",
     "text": [
      "2025-05-11 13:02:55,044 - confluence_general - INFO - Filtered watershed shapefile created at: /work/comphyd_lab/data/CONFLUENCE_data/domain_Bow_at_Banff_lumped/shapefiles/river_basins/Bow_at_Banff_lumped_riverBasins_lumped.shp\n",
      "/work/comphyd_lab/users/darri/data/CONFLUENCE_data/installs/conf-env/lib/python3.11/site-packages/pyogrio/raw.py:723: RuntimeWarning: Value 2209951307.64184999 of field GRU_area of feature 0 not successfully written. Possibly due to too larger number with respect to field width\n",
      "  ogr_write(\n",
      "2025-05-11 13:02:55,221 - pyogrio._io - INFO - Created 1 records\n"
     ]
    },
    {
     "name": "stdout",
     "output_type": "stream",
     "text": [
      "13:02:55 - INFO - Updated watershed shapefile at: /work/comphyd_lab/data/CONFLUENCE_data/domain_Bow_at_Banff_lumped/shapefiles/river_basins/Bow_at_Banff_lumped_riverBasins_lumped.shp\n"
     ]
    },
    {
     "name": "stderr",
     "output_type": "stream",
     "text": [
      "2025-05-11 13:02:55,224 - confluence_general - INFO - Updated watershed shapefile at: /work/comphyd_lab/data/CONFLUENCE_data/domain_Bow_at_Banff_lumped/shapefiles/river_basins/Bow_at_Banff_lumped_riverBasins_lumped.shp\n",
      "2025-05-11 13:02:55,257 - pyogrio._io - INFO - Created 1 records\n"
     ]
    },
    {
     "name": "stdout",
     "output_type": "stream",
     "text": [
      "13:02:55 - INFO - Created river network shapefile at: /work/comphyd_lab/data/CONFLUENCE_data/domain_Bow_at_Banff_lumped/shapefiles/river_network/Bow_at_Banff_lumped_riverNetwork_lumped.shp\n"
     ]
    },
    {
     "name": "stderr",
     "output_type": "stream",
     "text": [
      "2025-05-11 13:02:55,260 - confluence_general - INFO - Created river network shapefile at: /work/comphyd_lab/data/CONFLUENCE_data/domain_Bow_at_Banff_lumped/shapefiles/river_network/Bow_at_Banff_lumped_riverNetwork_lumped.shp\n",
      "/work/comphyd_lab/users/darri/data/CONFLUENCE_data/installs/conf-env/lib/python3.11/site-packages/pyogrio/raw.py:723: RuntimeWarning: Value 2209951307.64184999 of field GRU_area of feature 0 not successfully written. Possibly due to too larger number with respect to field width\n",
      "  ogr_write(\n",
      "2025-05-11 13:02:55,276 - pyogrio._io - INFO - Created 1 records\n"
     ]
    },
    {
     "name": "stdout",
     "output_type": "stream",
     "text": [
      "13:02:55 - INFO - Updated river basins shapefile with required fields at: /work/comphyd_lab/data/CONFLUENCE_data/domain_Bow_at_Banff_lumped/shapefiles/river_basins/Bow_at_Banff_lumped_riverBasins_lumped.shp\n"
     ]
    },
    {
     "name": "stderr",
     "output_type": "stream",
     "text": [
      "2025-05-11 13:02:55,279 - confluence_general - INFO - Updated river basins shapefile with required fields at: /work/comphyd_lab/data/CONFLUENCE_data/domain_Bow_at_Banff_lumped/shapefiles/river_basins/Bow_at_Banff_lumped_riverBasins_lumped.shp\n",
      "2025-05-11 13:02:55,296 - pyogrio._io - INFO - Created 1 records\n"
     ]
    },
    {
     "name": "stdout",
     "output_type": "stream",
     "text": [
      "13:02:55 - INFO - Updated river network shapefile with required fields at: /work/comphyd_lab/data/CONFLUENCE_data/domain_Bow_at_Banff_lumped/shapefiles/river_network/Bow_at_Banff_lumped_riverNetwork_lumped.shp\n"
     ]
    },
    {
     "name": "stderr",
     "output_type": "stream",
     "text": [
      "2025-05-11 13:02:55,298 - confluence_general - INFO - Updated river network shapefile with required fields at: /work/comphyd_lab/data/CONFLUENCE_data/domain_Bow_at_Banff_lumped/shapefiles/river_network/Bow_at_Banff_lumped_riverNetwork_lumped.shp\n"
     ]
    },
    {
     "name": "stdout",
     "output_type": "stream",
     "text": [
      "13:02:55 - INFO - Domain definition completed using method: lumped\n"
     ]
    },
    {
     "name": "stderr",
     "output_type": "stream",
     "text": [
      "2025-05-11 13:02:55,300 - confluence_general - INFO - Domain definition completed using method: lumped\n"
     ]
    },
    {
     "name": "stdout",
     "output_type": "stream",
     "text": [
      "13:02:55 - INFO - Creating domain visualization...\n"
     ]
    },
    {
     "name": "stderr",
     "output_type": "stream",
     "text": [
      "2025-05-11 13:02:55,301 - confluence_general - INFO - Creating domain visualization...\n"
     ]
    },
    {
     "name": "stdout",
     "output_type": "stream",
     "text": [
      "13:02:56 - INFO - Domain map saved to /work/comphyd_lab/data/CONFLUENCE_data/domain_Bow_at_Banff_lumped/plots/domain/domain_map.png\n"
     ]
    },
    {
     "name": "stderr",
     "output_type": "stream",
     "text": [
      "2025-05-11 13:02:56,232 - confluence_general - INFO - Domain map saved to /work/comphyd_lab/data/CONFLUENCE_data/domain_Bow_at_Banff_lumped/plots/domain/domain_map.png\n"
     ]
    },
    {
     "name": "stdout",
     "output_type": "stream",
     "text": [
      "13:02:56 - INFO - Domain visualization created: /work/comphyd_lab/data/CONFLUENCE_data/domain_Bow_at_Banff_lumped/plots/domain/domain_map.png\n"
     ]
    },
    {
     "name": "stderr",
     "output_type": "stream",
     "text": [
      "2025-05-11 13:02:56,234 - confluence_general - INFO - Domain visualization created: /work/comphyd_lab/data/CONFLUENCE_data/domain_Bow_at_Banff_lumped/plots/domain/domain_map.png\n"
     ]
    },
    {
     "name": "stdout",
     "output_type": "stream",
     "text": [
      "13:02:56 - INFO - Domain definition workflow finished\n"
     ]
    },
    {
     "name": "stderr",
     "output_type": "stream",
     "text": [
      "2025-05-11 13:02:56,236 - confluence_general - INFO - Domain definition workflow finished\n"
     ]
    },
    {
     "name": "stdout",
     "output_type": "stream",
     "text": [
      "\n",
      "Creating HRUs using method: GRUs\n",
      "13:02:56 - INFO - Discretizing domain using method: GRUs\n"
     ]
    },
    {
     "name": "stderr",
     "output_type": "stream",
     "text": [
      "2025-05-11 13:02:56,238 - confluence_general - INFO - Discretizing domain using method: GRUs\n"
     ]
    },
    {
     "name": "stdout",
     "output_type": "stream",
     "text": [
      "13:02:56 - INFO - Starting domain discretization using method: grus\n"
     ]
    },
    {
     "name": "stderr",
     "output_type": "stream",
     "text": [
      "2025-05-11 13:02:56,240 - confluence_general - INFO - Starting domain discretization using method: grus\n"
     ]
    },
    {
     "name": "stdout",
     "output_type": "stream",
     "text": [
      "13:02:56 - INFO - Step 1/2: Running discretization method\n"
     ]
    },
    {
     "name": "stderr",
     "output_type": "stream",
     "text": [
      "2025-05-11 13:02:56,242 - confluence_general - INFO - Step 1/2: Running discretization method\n"
     ]
    },
    {
     "name": "stdout",
     "output_type": "stream",
     "text": [
      "13:02:56 - INFO - config domain name Bow_at_Banff_lumped\n"
     ]
    },
    {
     "name": "stderr",
     "output_type": "stream",
     "text": [
      "2025-05-11 13:02:56,244 - confluence_general - INFO - config domain name Bow_at_Banff_lumped\n"
     ]
    },
    {
     "name": "stdout",
     "output_type": "stream",
     "text": [
      "13:02:56 - INFO - Calculating mean elevation for each HRU\n"
     ]
    },
    {
     "name": "stderr",
     "output_type": "stream",
     "text": [
      "2025-05-11 13:02:56,252 - confluence_general - INFO - Calculating mean elevation for each HRU\n",
      "/work/comphyd_lab/users/darri/data/CONFLUENCE_data/installs/conf-env/lib/python3.11/site-packages/rasterstats/io.py:335: NodataWarning: Setting nodata to -999; specify nodata explicitly\n",
      "  warnings.warn(\n",
      "/home/darri.eythorsson/code/CONFLUENCE/utils/geospatial/discretization_utils.py:208: UserWarning: Geometry is in a geographic CRS. Results from 'centroid' are likely incorrect. Use 'GeoSeries.to_crs()' to re-project geometries to a projected CRS before this operation.\n",
      "\n",
      "  centroids_utm = gru_gdf.geometry.centroid\n",
      "/work/comphyd_lab/users/darri/data/CONFLUENCE_data/installs/conf-env/lib/python3.11/site-packages/pyogrio/raw.py:723: RuntimeWarning: Value 2209951307.64184999 of field GRU_area of feature 0 not successfully written. Possibly due to too larger number with respect to field width\n",
      "  ogr_write(\n",
      "/work/comphyd_lab/users/darri/data/CONFLUENCE_data/installs/conf-env/lib/python3.11/site-packages/pyogrio/raw.py:723: RuntimeWarning: Value 2209951307.64184999 of field HRU_area of feature 0 not successfully written. Possibly due to too larger number with respect to field width\n",
      "  ogr_write(\n",
      "2025-05-11 13:02:56,697 - pyogrio._io - INFO - Created 1 records\n"
     ]
    },
    {
     "name": "stdout",
     "output_type": "stream",
     "text": [
      "13:02:56 - INFO - GRUs saved as HRUs to /work/comphyd_lab/data/CONFLUENCE_data/domain_Bow_at_Banff_lumped/shapefiles/catchment/Bow_at_Banff_lumped_HRUs_GRUs.shp\n"
     ]
    },
    {
     "name": "stderr",
     "output_type": "stream",
     "text": [
      "2025-05-11 13:02:56,700 - confluence_general - INFO - GRUs saved as HRUs to /work/comphyd_lab/data/CONFLUENCE_data/domain_Bow_at_Banff_lumped/shapefiles/catchment/Bow_at_Banff_lumped_HRUs_GRUs.shp\n"
     ]
    },
    {
     "name": "stdout",
     "output_type": "stream",
     "text": [
      "13:02:57 - INFO - HRU plot saved to /work/comphyd_lab/data/CONFLUENCE_data/domain_Bow_at_Banff_lumped/plots/catchment/Bow_at_Banff_lumped_HRUs_as_GRUs.png\n"
     ]
    },
    {
     "name": "stderr",
     "output_type": "stream",
     "text": [
      "2025-05-11 13:02:57,815 - confluence_general - INFO - HRU plot saved to /work/comphyd_lab/data/CONFLUENCE_data/domain_Bow_at_Banff_lumped/plots/catchment/Bow_at_Banff_lumped_HRUs_as_GRUs.png\n"
     ]
    },
    {
     "name": "stdout",
     "output_type": "stream",
     "text": [
      "13:02:57 - INFO - Step 2/2: Sorting catchment shape\n"
     ]
    },
    {
     "name": "stderr",
     "output_type": "stream",
     "text": [
      "2025-05-11 13:02:57,817 - confluence_general - INFO - Step 2/2: Sorting catchment shape\n"
     ]
    },
    {
     "name": "stdout",
     "output_type": "stream",
     "text": [
      "13:02:57 - INFO - Sorting catchment shape\n"
     ]
    },
    {
     "name": "stderr",
     "output_type": "stream",
     "text": [
      "2025-05-11 13:02:57,819 - confluence_general - INFO - Sorting catchment shape\n",
      "/work/comphyd_lab/users/darri/data/CONFLUENCE_data/installs/conf-env/lib/python3.11/site-packages/pyogrio/raw.py:723: RuntimeWarning: Value 2209951307.64184999 of field GRU_area of feature 0 not successfully written. Possibly due to too larger number with respect to field width\n",
      "  ogr_write(\n",
      "/work/comphyd_lab/users/darri/data/CONFLUENCE_data/installs/conf-env/lib/python3.11/site-packages/pyogrio/raw.py:723: RuntimeWarning: Value 2209951307.64184999 of field HRU_area of feature 0 not successfully written. Possibly due to too larger number with respect to field width\n",
      "  ogr_write(\n",
      "2025-05-11 13:02:57,846 - pyogrio._io - INFO - Created 1 records\n"
     ]
    },
    {
     "name": "stdout",
     "output_type": "stream",
     "text": [
      "13:02:57 - INFO - Catchment shape sorted and saved to /work/comphyd_lab/data/CONFLUENCE_data/domain_Bow_at_Banff_lumped/shapefiles/catchment/Bow_at_Banff_lumped_HRUs_GRUs.shp\n"
     ]
    },
    {
     "name": "stderr",
     "output_type": "stream",
     "text": [
      "2025-05-11 13:02:57,849 - confluence_general - INFO - Catchment shape sorted and saved to /work/comphyd_lab/data/CONFLUENCE_data/domain_Bow_at_Banff_lumped/shapefiles/catchment/Bow_at_Banff_lumped_HRUs_GRUs.shp\n"
     ]
    },
    {
     "name": "stdout",
     "output_type": "stream",
     "text": [
      "13:02:57 - INFO - Domain discretization completed in 1.61 seconds\n"
     ]
    },
    {
     "name": "stderr",
     "output_type": "stream",
     "text": [
      "2025-05-11 13:02:57,851 - confluence_general - INFO - Domain discretization completed in 1.61 seconds\n"
     ]
    },
    {
     "name": "stdout",
     "output_type": "stream",
     "text": [
      "13:02:57 - ERROR - Domain discretization failed - no shapefile created\n"
     ]
    },
    {
     "name": "stderr",
     "output_type": "stream",
     "text": [
      "2025-05-11 13:02:57,853 - confluence_general - ERROR - Domain discretization failed - no shapefile created\n"
     ]
    },
    {
     "name": "stdout",
     "output_type": "stream",
     "text": [
      "\n",
      "Domain definition complete:\n",
      "  - Watershed defined: True\n",
      "  - HRUs created: False\n"
     ]
    }
   ],
   "source": [
    "# Step 2: Geospatial Domain Definition and Analysis\n",
    "print(\"=== Step 2: Geospatial Domain Definition and Analysis ===\")\n",
    "\n",
    "# Acquire attributes\n",
    "print(\"Acquiring geospatial attributes (DEM, soil, land cover)...\")\n",
    "confluence.managers['data'].acquire_attributes()\n",
    "\n",
    "# Define domain\n",
    "print(f\"\\nDelineating watershed using method: {confluence.config['DOMAIN_DEFINITION_METHOD']}\")\n",
    "watershed_path = confluence.managers['domain'].define_domain()\n",
    "\n",
    "# Discretize domain\n",
    "print(f\"\\nCreating HRUs using method: {confluence.config['DOMAIN_DISCRETIZATION']}\")\n",
    "hru_path = confluence.managers['domain'].discretize_domain()\n",
    "\n",
    "# Check outputs\n",
    "print(\"\\nDomain definition complete:\")\n",
    "print(f\"  - Watershed defined: {watershed_path is not None}\")\n",
    "print(f\"  - HRUs created: {hru_path is not None}\")"
   ]
  },
  {
   "cell_type": "markdown",
   "metadata": {},
   "source": [
    "## 7. Visualize the Delineated Domain\n",
    "Let's see what our watershed looks like:"
   ]
  },
  {
   "cell_type": "code",
   "execution_count": 8,
   "metadata": {},
   "outputs": [
    {
     "name": "stderr",
     "output_type": "stream",
     "text": [
      "/tmp/ipykernel_422672/3155861773.py:33: UserWarning: Geometry is in a geographic CRS. Results from 'area' are likely incorrect. Use 'GeoSeries.to_crs()' to re-project geometries to a projected CRS before this operation.\n",
      "\n",
      "  f'Watershed Area: {basin_gdf.geometry.area.sum() / 1e6:.0f} km²',\n"
     ]
    },
    {
     "data": {
      "image/png": "[encoded data removed]",
      "text/plain": [
       "<Figure size 1200x1000 with 1 Axes>"
      ]
     },
     "metadata": {},
     "output_type": "display_data"
    }
   ],
   "source": [
    "# Visualize the watershed\n",
    "basin_path = project_dir / 'shapefiles' / 'river_basins'\n",
    "if basin_path.exists():\n",
    "    basin_files = list(basin_path.glob('*.shp'))\n",
    "    \n",
    "    if basin_files:\n",
    "        fig, ax = plt.subplots(figsize=(12, 10))\n",
    "        \n",
    "        # Load watershed and pour point\n",
    "        basin_gdf = gpd.read_file(basin_files[0])\n",
    "        pour_point_gdf = gpd.read_file(pour_point_path)\n",
    "        \n",
    "        # Reproject for visualization\n",
    "        basin_web = basin_gdf.to_crs(epsg=3857)\n",
    "        pour_web = pour_point_gdf.to_crs(epsg=3857)\n",
    "        \n",
    "        # Plot watershed\n",
    "        basin_web.plot(ax=ax, facecolor='lightblue', edgecolor='navy', \n",
    "                       linewidth=2, alpha=0.7)\n",
    "        \n",
    "        # Add pour point\n",
    "        pour_web.plot(ax=ax, color='red', markersize=200, marker='o', \n",
    "                      edgecolor='white', linewidth=2, zorder=5)\n",
    "                \n",
    "        # Set extent\n",
    "        minx, miny, maxx, maxy = basin_web.total_bounds\n",
    "        pad = 5000\n",
    "        ax.set_xlim(minx - pad, maxx + pad)\n",
    "        ax.set_ylim(miny - pad, maxy + pad)\n",
    "        \n",
    "        # Add labels\n",
    "        ax.text(minx + 1000, maxy - 1000,\n",
    "                f'Watershed Area: {basin_gdf.geometry.area.sum() / 1e6:.0f} km²', \n",
    "                fontsize=14, \n",
    "                bbox=dict(boxstyle='round,pad=0.5', facecolor='white', alpha=0.8),\n",
    "                fontweight='bold')\n",
    "        \n",
    "        ax.set_title('Bow River Watershed at Banff\\\\nAll water from this area flows to the pour point', \n",
    "                    fontsize=16, fontweight='bold', pad=20)\n",
    "        \n",
    "        ax.axis('off')\n",
    "        plt.tight_layout()\n",
    "        plt.show()"
   ]
  },
  {
   "cell_type": "markdown",
   "metadata": {},
   "source": [
    "## 8. Step 3: Model Agnostic Data Pre-Processing\n",
    "For a lumped model, the entire watershed becomes a single Hydrologic Response Unit (HRU). This simplification assumes uniform characteristics across the watershed - obviously an approximation, but useful for many applications.\n"
   ]
  },
  {
   "cell_type": "code",
   "execution_count": null,
   "metadata": {},
   "outputs": [],
   "source": [
    "# Step 3: Model Agnostic Data Pre-Processing\n",
    "print(\"=== Step 3: Model Agnostic Data Pre-Processing ===\")\n",
    "\n",
    "# Process observed data\n",
    "print(\"Processing observed streamflow data...\")\n",
    "confluence.managers['data'].process_observed_data()\n",
    "\n",
    "# Acquire forcings\n",
    "print(f\"\\nAcquiring forcing data: {confluence.config['FORCING_DATASET']}\")\n",
    "confluence.managers['data'].acquire_forcings()\n",
    "\n",
    "# Run model-agnostic preprocessing\n",
    "print(\"\\nRunning model-agnostic preprocessing...\")\n",
    "confluence.managers['data'].run_model_agnostic_preprocessing()\n",
    "\n",
    "# Run benchmarking\n",
    "print(\"\\nRunning benchmarking analysis...\")\n",
    "benchmark_results = confluence.managers['analysis'].run_benchmarking()\n",
    "\n",
    "print(\"\\nModel-agnostic preprocessing complete\")"
   ]
  },
  {
   "cell_type": "markdown",
   "metadata": {},
   "source": [
    "## 9: Visualize observed streamflow data"
   ]
  },
  {
   "cell_type": "code",
   "execution_count": null,
   "metadata": {},
   "outputs": [],
   "source": [
    "# Visualize observed streamflow data\n",
    "obs_path = project_dir / 'observations' / 'streamflow' / 'preprocessed' / f\"{confluence.config['DOMAIN_NAME']}_streamflow_processed.csv\"\n",
    "if obs_path.exists():\n",
    "    obs_df = pd.read_csv(obs_path)\n",
    "    obs_df['datetime'] = pd.to_datetime(obs_df['datetime'])\n",
    "    \n",
    "    fig, ax = plt.subplots(figsize=(14, 6))\n",
    "    ax.plot(obs_df['datetime'], obs_df['discharge_cms'], \n",
    "            linewidth=1.5, color='blue', alpha=0.7)\n",
    "    \n",
    "    ax.set_xlabel('Date', fontsize=12)\n",
    "    ax.set_ylabel('Discharge (m³/s)', fontsize=12)\n",
    "    ax.set_title(f'Observed Streamflow - Bow River at Banff (WSC Station: {confluence.config[\"STATION_ID\"]})', \n",
    "                fontsize=14, fontweight='bold')\n",
    "    ax.grid(True, alpha=0.3)\n",
    "    \n",
    "    # Add statistics\n",
    "    ax.text(0.02, 0.95, f'Mean: {obs_df[\"discharge_cms\"].mean():.1f} m³/s\\\\nMax: {obs_df[\"discharge_cms\"].max():.1f} m³/s', \n",
    "            transform=ax.transAxes, \n",
    "            bbox=dict(boxstyle='round,pad=0.5', facecolor='white', alpha=0.8),\n",
    "            verticalalignment='top')\n",
    "    \n",
    "    plt.tight_layout()\n",
    "    plt.show()"
   ]
  },
  {
   "cell_type": "markdown",
   "metadata": {},
   "source": [
    "## 12. Step 9: Model-Specific Preprocessing\n",
    "Now we prepare inputs specific to our chosen hydrological model (SUMMA in this case). Each model has its own requirements for input format and configuration."
   ]
  },
  {
   "cell_type": "code",
   "execution_count": null,
   "metadata": {},
   "outputs": [],
   "source": [
    "# Step 4: Model Specific Processing and Initialization\n",
    "print(\"=== Step 4: Model Specific Processing and Initialization ===\")\n",
    "\n",
    "# Preprocess models\n",
    "print(f\"Preparing {confluence.config['HYDROLOGICAL_MODEL']} input files...\")\n",
    "confluence.managers['model'].preprocess_models()\n",
    "\n",
    "# Run models\n",
    "print(f\"\\nRunning {confluence.config['HYDROLOGICAL_MODEL']} model...\")\n",
    "confluence.managers['model'].run_models()\n",
    "\n",
    "print(\"\\nModel run complete\")"
   ]
  },
  {
   "cell_type": "markdown",
   "metadata": {},
   "source": [
    "## 10: Optional Steps - Optimization and Analysis"
   ]
  },
  {
   "cell_type": "code",
   "execution_count": null,
   "metadata": {},
   "outputs": [],
   "source": [
    "# Step 5 & 6: Optional Steps (Optimization and Analysis)\n",
    "print(\"=== Step 5 & 6: Optional Steps ===\")\n",
    "\n",
    "# Check if optimization is enabled\n",
    "if confluence.config.get('RUN_ITERATIVE_OPTIMISATION', False):\n",
    "    print(\"Running model calibration...\")\n",
    "    optimization_results = confluence.managers['optimization'].calibrate_model()\n",
    "else:\n",
    "    print(\"Model calibration skipped (RUN_ITERATIVE_OPTIMISATION = False)\")\n",
    "\n",
    "# Check if emulation is enabled\n",
    "if confluence.config.get('RUN_LARGE_SAMPLE_EMULATION', False) or confluence.config.get('RUN_RANDOM_FOREST_EMULATION', False):\n",
    "    print(\"Running parameter emulation...\")\n",
    "    emulation_results = confluence.managers['optimization'].run_emulation()\n",
    "else:\n",
    "    print(\"Parameter emulation skipped\")\n",
    "\n",
    "# Check if decision analysis is enabled\n",
    "if confluence.config.get('RUN_DECISION_ANALYSIS', False):\n",
    "    print(\"Running decision analysis...\")\n",
    "    decision_results = confluence.managers['analysis'].run_decision_analysis()\n",
    "else:\n",
    "    print(\"Decision analysis skipped\")\n",
    "\n",
    "# Check if sensitivity analysis is enabled\n",
    "if confluence.config.get('RUN_SENSITIVITY_ANALYSIS', False):\n",
    "    print(\"Running sensitivity analysis...\")\n",
    "    sensitivity_results = confluence.managers['analysis'].run_sensitivity_analysis()\n",
    "else:\n",
    "    print(\"Sensitivity analysis skipped\")"
   ]
  },
  {
   "cell_type": "markdown",
   "metadata": {},
   "source": [
    "## 11: Step 7 - Result Analysis and Evaluation"
   ]
  },
  {
   "cell_type": "code",
   "execution_count": null,
   "metadata": {},
   "outputs": [],
   "source": [
    "# Step 7: Result Analysis and Evaluation\n",
    "print(\"=== Step 7: Result Analysis and Evaluation ===\")\n",
    "\n",
    "# Postprocess results\n",
    "print(\"Post-processing model results...\")\n",
    "confluence.managers['model'].postprocess_results()\n",
    "\n",
    "# Get workflow status\n",
    "status = confluence.workflow_orchestrator.get_workflow_status()\n",
    "print(f\"\\nWorkflow Status:\")\n",
    "print(f\"Total steps: {status['total_steps']}\")\n",
    "print(f\"Completed steps: {status['completed_steps']}\")\n",
    "print(f\"Pending steps: {status['pending_steps']}\")\n",
    "\n",
    "# Display final summary\n",
    "print(\"\\n=== Workflow Complete ===\")\n",
    "print(f\"Project: {confluence.config['DOMAIN_NAME']}\")\n",
    "print(f\"Experiment: {confluence.config['EXPERIMENT_ID']}\")\n",
    "print(f\"Model: {confluence.config['HYDROLOGICAL_MODEL']}\")\n",
    "print(f\"\\nKey outputs:\")\n",
    "print(f\"  - Watershed boundary: {project_dir}/shapefiles/river_basins/\")\n",
    "print(f\"  - Model configuration: {project_dir}/settings/{confluence.config['HYDROLOGICAL_MODEL']}/\")\n",
    "print(f\"  - Simulation results: {project_dir}/simulations/{confluence.config['EXPERIMENT_ID']}/\")\n",
    "print(f\"  - Performance metrics: {project_dir}/evaluation/\")\n",
    "print(f\"  - Visualizations: {project_dir}/plots/\")"
   ]
  },
  {
   "cell_type": "markdown",
   "metadata": {},
   "source": [
    "## 12: Alternative - Run Complete Workflow"
   ]
  },
  {
   "cell_type": "code",
   "execution_count": null,
   "metadata": {},
   "outputs": [],
   "source": [
    "# Alternative: Run the complete workflow in one step\n",
    "# (Uncomment to use this instead of the step-by-step approach)\n",
    "\n",
    "# confluence.run_workflow()"
   ]
  },
  {
   "cell_type": "markdown",
   "metadata": {},
   "source": [
    "## 15. Summary: Understanding the CONFLUENCE Workflow\n",
    "Congratulations! You've completed a full lumped basin modeling workflow with CONFLUENCE. Let's reflect on what we accomplished and how CONFLUENCE helped navigate the complex decision tree of hydrological modeling.\n",
    "The Decision Tree We Navigated:\n",
    "\n",
    "### Project Organization: Established a consistent structure for all files\n",
    "Domain Definition: From pour point → watershed boundary → single HRU\n",
    "Data Acquisition: Gathered forcing data, observations, and static attributes\n",
    "Model Configuration: Set up SUMMA with appropriate parameters\n",
    "Simulation: Ran the model for our specified period\n",
    "Evaluation: Compared results with observations\n",
    "\n",
    "## How CONFLUENCE Helped:\n",
    "\n",
    "### Standardized each step into a clear, reproducible process\n",
    "Handled complex data transformations behind the scenes\n",
    "Maintained consistency across different data sources and formats\n",
    "Provided sensible defaults while allowing customization\n",
    "Created a complete record of all decisions and processes\n",
    "\n",
    "## Next Steps You Could Try:\n",
    "\n",
    "### Experiment with different models (change HYDROLOGICAL_MODEL)\n",
    "Try distributed modeling (change SPATIAL_MODE to 'Distributed')\n",
    "Calibrate the model (use the optimization module)\n",
    "Analyze model sensitivity to different parameters\n",
    "Compare multiple model structures (decision analysis)\n"
   ]
  }
 ],
 "metadata": {
  "kernelspec": {
   "display_name": "CONFLUENCE (HPC Modules)",
   "language": "python",
   "name": "conf-env-hpc"
  },
  "language_info": {
   "codemirror_mode": {
    "name": "ipython",
    "version": 3
   },
   "file_extension": ".py",
   "mimetype": "text/x-python",
   "name": "python",
   "nbconvert_exporter": "python",
   "pygments_lexer": "ipython3",
   "version": "3.11.7"
  }
 },
 "nbformat": 4,
 "nbformat_minor": 4
}
