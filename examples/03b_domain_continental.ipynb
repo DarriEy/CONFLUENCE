{
 "cells": [
  {
   "cell_type": "markdown",
   "metadata": {},
   "source": [
    "# CONFLUENCE Tutorial: Continental-Scale Modeling - South America\n",
    "\n",
    "This notebook demonstrates how to set up a continental-scale SUMMA model for South America. We'll move quickly through the workflow, focusing on the scale differences from previous tutorials.\n",
    "\n",
    "## Key Points\n",
    "- **Scale**: From country (Iceland) to continent (South America)\n",
    "- **Computational considerations**: Much larger domain"
   ]
  },
  {
   "cell_type": "markdown",
   "metadata": {},
   "source": [
    "## 1. Quick Setup"
   ]
  },
  {
   "cell_type": "code",
   "execution_count": 1,
   "metadata": {},
   "outputs": [
    {
     "name": "stdout",
     "output_type": "stream",
     "text": [
      "Working from: /home/darri.eythorsson/code/CONFLUENCE\n"
     ]
    }
   ],
   "source": [
    "# Import required libraries\n",
    "import sys\n",
    "from pathlib import Path\n",
    "import yaml\n",
    "import pandas as pd\n",
    "import matplotlib.pyplot as plt\n",
    "import geopandas as gpd\n",
    "import numpy as np\n",
    "from shapely.geometry import box\n",
    "import contextily as cx\n",
    "from datetime import datetime\n",
    "import xarray as xr\n",
    "\n",
    "# Add CONFLUENCE to path\n",
    "confluence_path = Path('../').resolve()\n",
    "sys.path.append(str(confluence_path))\n",
    "\n",
    "# Import CONFLUENCE\n",
    "from CONFLUENCE import CONFLUENCE\n",
    "\n",
    "plt.style.use('default')\n",
    "%matplotlib inline\n",
    "\n",
    "print(f\"Working from: {confluence_path}\")"
   ]
  },
  {
   "cell_type": "markdown",
   "metadata": {},
   "source": [
    "## 2. Initialize CONFLUENCE for Continental Domain\n",
    "We'll configure CONFLUENCE for a continental-scale domain with appropriate settings for North America."
   ]
  },
  {
   "cell_type": "code",
   "execution_count": 2,
   "metadata": {},
   "outputs": [
    {
     "name": "stdout",
     "output_type": "stream",
     "text": [
      "15:36:22 - INFO - ============================================================\n"
     ]
    },
    {
     "name": "stderr",
     "output_type": "stream",
     "text": [
      "2025-05-13 15:36:22,596 - confluence_general - INFO - ============================================================\n"
     ]
    },
    {
     "name": "stdout",
     "output_type": "stream",
     "text": [
      "15:36:22 - INFO - CONFLUENCE Logging Initialized\n"
     ]
    },
    {
     "name": "stderr",
     "output_type": "stream",
     "text": [
      "2025-05-13 15:36:22,599 - confluence_general - INFO - CONFLUENCE Logging Initialized\n"
     ]
    },
    {
     "name": "stdout",
     "output_type": "stream",
     "text": [
      "15:36:22 - INFO - Domain: South_America_tutorial\n"
     ]
    },
    {
     "name": "stderr",
     "output_type": "stream",
     "text": [
      "2025-05-13 15:36:22,601 - confluence_general - INFO - Domain: South_America_tutorial\n"
     ]
    },
    {
     "name": "stdout",
     "output_type": "stream",
     "text": [
      "15:36:22 - INFO - Experiment ID: continental_run_1\n"
     ]
    },
    {
     "name": "stderr",
     "output_type": "stream",
     "text": [
      "2025-05-13 15:36:22,603 - confluence_general - INFO - Experiment ID: continental_run_1\n"
     ]
    },
    {
     "name": "stdout",
     "output_type": "stream",
     "text": [
      "15:36:22 - INFO - Log Level: INFO\n"
     ]
    },
    {
     "name": "stderr",
     "output_type": "stream",
     "text": [
      "2025-05-13 15:36:22,605 - confluence_general - INFO - Log Level: INFO\n"
     ]
    },
    {
     "name": "stdout",
     "output_type": "stream",
     "text": [
      "15:36:22 - INFO - Log File: /work/comphyd_lab/data/CONFLUENCE_data/domain_South_America_tutorial/_workLog_South_America_tutorial/confluence_general_South_America_tutorial_20250513_153622.log\n"
     ]
    },
    {
     "name": "stderr",
     "output_type": "stream",
     "text": [
      "2025-05-13 15:36:22,607 - confluence_general - INFO - Log File: /work/comphyd_lab/data/CONFLUENCE_data/domain_South_America_tutorial/_workLog_South_America_tutorial/confluence_general_South_America_tutorial_20250513_153622.log\n"
     ]
    },
    {
     "name": "stdout",
     "output_type": "stream",
     "text": [
      "15:36:22 - INFO - ============================================================\n"
     ]
    },
    {
     "name": "stderr",
     "output_type": "stream",
     "text": [
      "2025-05-13 15:36:22,609 - confluence_general - INFO - ============================================================\n"
     ]
    },
    {
     "name": "stdout",
     "output_type": "stream",
     "text": [
      "15:36:22 - INFO - Configuration logged to: /work/comphyd_lab/data/CONFLUENCE_data/domain_South_America_tutorial/_workLog_South_America_tutorial/config_South_America_tutorial_20250513_153622.yaml\n"
     ]
    },
    {
     "name": "stderr",
     "output_type": "stream",
     "text": [
      "2025-05-13 15:36:22,644 - confluence_general - INFO - Configuration logged to: /work/comphyd_lab/data/CONFLUENCE_data/domain_South_America_tutorial/_workLog_South_America_tutorial/config_South_America_tutorial_20250513_153622.yaml\n"
     ]
    },
    {
     "name": "stdout",
     "output_type": "stream",
     "text": [
      "15:36:22 - INFO - Initializing CONFLUENCE system\n"
     ]
    },
    {
     "name": "stderr",
     "output_type": "stream",
     "text": [
      "2025-05-13 15:36:22,693 - confluence_general - INFO - Initializing CONFLUENCE system\n"
     ]
    },
    {
     "name": "stdout",
     "output_type": "stream",
     "text": [
      "15:36:22 - INFO - Configuration loaded from: /home/darri.eythorsson/code/CONFLUENCE/0_config_files/config_SA_template.yaml\n"
     ]
    },
    {
     "name": "stderr",
     "output_type": "stream",
     "text": [
      "2025-05-13 15:36:22,696 - confluence_general - INFO - Configuration loaded from: /home/darri.eythorsson/code/CONFLUENCE/0_config_files/config_SA_template.yaml\n"
     ]
    },
    {
     "name": "stdout",
     "output_type": "stream",
     "text": [
      "15:36:22 - INFO - Initializing VariableHandler for dataset: ERA5 and model: SUMMA\n"
     ]
    },
    {
     "name": "stderr",
     "output_type": "stream",
     "text": [
      "2025-05-13 15:36:22,698 - confluence_general - INFO - Initializing VariableHandler for dataset: ERA5 and model: SUMMA\n"
     ]
    },
    {
     "name": "stdout",
     "output_type": "stream",
     "text": [
      "15:36:23 - INFO - CONFLUENCE system initialized successfully\n"
     ]
    },
    {
     "name": "stderr",
     "output_type": "stream",
     "text": [
      "2025-05-13 15:36:23,077 - confluence_general - INFO - CONFLUENCE system initialized successfully\n"
     ]
    },
    {
     "name": "stdout",
     "output_type": "stream",
     "text": [
      "=== North America Continental Configuration ===\n",
      "Domain Name: South_America_tutorial\n",
      "Bounding Box: 83.0/-170.0/5.0/-50.0\n",
      "Delineate by Pour Point: False (Full continent!)\n",
      "Include Coastal Watersheds: True\n",
      "Stream Threshold: 7500 (larger for continental scale)\n",
      "Min GRU Size: 0 km²\n",
      "MPI Processes: 1 (high for parallel processing)\n"
     ]
    }
   ],
   "source": [
    "# Set directory paths\n",
    "CONFLUENCE_CODE_DIR = confluence_path\n",
    "CONFLUENCE_DATA_DIR = Path('/work/comphyd_lab/data/CONFLUENCE_data')  # ← User should modify this path\n",
    "\n",
    "# Load template configuration\n",
    "config_template_path = CONFLUENCE_CODE_DIR / '0_config_files' / 'config_South_America.yaml'\n",
    "with open(config_template_path, 'r') as f:\n",
    "    config_dict = yaml.safe_load(f)\n",
    "\n",
    "# Update with South America-specific settings\n",
    "config_dict['CONFLUENCE_CODE_DIR'] = str(CONFLUENCE_CODE_DIR)\n",
    "config_dict['CONFLUENCE_DATA_DIR'] = str(CONFLUENCE_DATA_DIR)\n",
    "\n",
    "# Set South America domain and continental-specific settings\n",
    "config_dict['DOMAIN_NAME'] = \"South_America_tutorial\"  \n",
    "config_dict['EXPERIMENT_ID'] = \"continental_run_1\"\n",
    "config_dict['EXPERIMENT_TIME_START'] = \"2018-01-01 01:00\"\n",
    "config_dict['EXPERIMENT_TIME_END'] = \"2018-02-31 23:00\"  \n",
    "config_dict['SPATIAL_MODE'] = \"Distributed\"\n",
    "\n",
    "# North America continent regional domain settings\n",
    "config_dict['BOUNDING_BOX_COORDS'] = \"83.0/-170.0/5.0/-50.0\"  # North/West/South/East\n",
    "config_dict['DELINEATE_BY_POURPOINT'] = False\n",
    "config_dict['DELINEATE_COASTAL_WATERSHEDS'] = True\n",
    "config_dict['DOMAIN_DEFINITION_METHOD'] = \"delineate\" \n",
    "config_dict['STREAM_THRESHOLD'] = 7500  # Larger threshold for continental scale\n",
    "config_dict['DOMAIN_DISCRETIZATION'] = \"GRUs\"\n",
    "config_dict['MPI_PROCESSES'] = 1  # Higher for parallel processing - make sure this matches the number of cores requested in your allocation \n",
    "\n",
    "# Write to temporary config file\n",
    "temp_config_path = CONFLUENCE_CODE_DIR / '0_config_files' / 'config_SA_template.yaml'\n",
    "with open(temp_config_path, 'w') as f:\n",
    "    yaml.dump(config_dict, f)\n",
    "\n",
    "# Initialize CONFLUENCE\n",
    "confluence = CONFLUENCE(temp_config_path)\n",
    "\n",
    "\n",
    "# Display configuration\n",
    "print(\"=== North America Continental Configuration ===\")\n",
    "print(f\"Domain Name: {confluence.config['DOMAIN_NAME']}\")\n",
    "print(f\"Bounding Box: {confluence.config['BOUNDING_BOX_COORDS']}\")\n",
    "print(f\"Delineate by Pour Point: {confluence.config['DELINEATE_BY_POURPOINT']} (Full continent!)\")\n",
    "print(f\"Include Coastal Watersheds: {confluence.config['DELINEATE_COASTAL_WATERSHEDS']}\")\n",
    "print(f\"Stream Threshold: {confluence.config['STREAM_THRESHOLD']} (larger for continental scale)\")\n",
    "print(f\"Min GRU Size: {confluence.config['MIN_GRU_SIZE']} km²\")\n",
    "print(f\"MPI Processes: {confluence.config['MPI_PROCESSES']} (high for parallel processing)\")"
   ]
  },
  {
   "cell_type": "markdown",
   "metadata": {},
   "source": [
    "## 3. Project Setup\n"
   ]
  },
  {
   "cell_type": "code",
   "execution_count": null,
   "metadata": {},
   "outputs": [],
   "source": [
    "# Step 1: Project Initialization\n",
    "print(\"=== Step 1: Project Initialization ===\")\n",
    "print(\"Setting up continental project...\")\n",
    "\n",
    "# Setup project\n",
    "project_dir = confluence.managers['project'].setup_project()\n",
    "pour_point_path = confluence.managers['project'].create_pour_point()\n",
    "\n",
    "# List created directories\n",
    "print(\"\\nCreated directories:\")\n",
    "for item in sorted(project_dir.iterdir()):\n",
    "    if item.is_dir():\n",
    "        print(f\"  📁 {item.name}\")\n",
    "\n",
    "print(\"\\nDirectory purposes:\")\n",
    "print(\"  📁 shapefiles: Domain geometry (thousands of watersheds, river networks)\")\n",
    "print(\"  📁 attributes: Static characteristics (elevation, soil, land cover)\")\n",
    "print(\"  📁 forcing: Meteorological inputs (precipitation, temperature)\")\n",
    "print(\"  📁 simulations: Model outputs\")\n",
    "print(\"  📁 evaluation: Performance metrics and comparisons\")\n",
    "print(\"  📁 plots: Visualizations\")\n"
   ]
  },
  {
   "cell_type": "markdown",
   "metadata": {},
   "source": [
    "## 4. Geospatial Domain Definition - Continental Data Acquisition\n",
    "We need to acquire continental-scale geospatial data, which will be much larger than for regional domains."
   ]
  },
  {
   "cell_type": "code",
   "execution_count": null,
   "metadata": {
    "scrolled": true
   },
   "outputs": [],
   "source": [
    "# Step 2: Geospatial Domain Definition and Analysis\n",
    "print(\"=== Step 2: Geospatial Domain Definition and Analysis ===\")\n",
    "\n",
    "# Acquire attributes\n",
    "print(\"Acquiring continental-scale attributes (DEM, soil, land cover)...\")\n",
    "print(\"Note: This downloads LARGE datasets\")\n",
    "confluence.managers['data'].acquire_attributes()\n",
    "print(\"✓ Continental attributes acquired\\n\")"
   ]
  },
  {
   "cell_type": "markdown",
   "metadata": {},
   "source": [
    "## 5. Continental Domain Delineation\n",
    "Now we'll delineate the entire continent, creating thousands of watersheds. This is computationally intensive."
   ]
  },
  {
   "cell_type": "code",
   "execution_count": null,
   "metadata": {},
   "outputs": [
    {
     "name": "stdout",
     "output_type": "stream",
     "text": [
      "Delineating continental domain...\n",
      "Method: delineate\n",
      "Stream threshold: 7500 (high for continent)\n",
      "MPI processes: 1 (parallel processing)\n",
      "This creates thousands of watersheds across North America...\n",
      "⚠️ Warning: This step may take several hours on high-performance computing resources\n",
      "15:36:23 - INFO - Domain definition workflow starting with: delineate\n"
     ]
    },
    {
     "name": "stderr",
     "output_type": "stream",
     "text": [
      "2025-05-13 15:36:23,100 - confluence_general - INFO - Domain definition workflow starting with: delineate\n"
     ]
    },
    {
     "name": "stdout",
     "output_type": "stream",
     "text": [
      "15:36:23 - INFO - Starting geofabric delineation\n"
     ]
    },
    {
     "name": "stderr",
     "output_type": "stream",
     "text": [
      "2025-05-13 15:36:23,110 - confluence_general - INFO - Starting geofabric delineation\n"
     ]
    },
    {
     "name": "stdout",
     "output_type": "stream",
     "text": [
      "15:36:23 - INFO - Geofabric delineation completed successfully\n"
     ]
    },
    {
     "name": "stderr",
     "output_type": "stream",
     "text": [
      "2025-05-13 15:36:23,113 - confluence_general - INFO - Geofabric delineation completed successfully\n"
     ]
    },
    {
     "name": "stdout",
     "output_type": "stream",
     "text": [
      "15:36:23 - INFO - Starting geofabric delineation for South_America_tutorial\n"
     ]
    },
    {
     "name": "stderr",
     "output_type": "stream",
     "text": [
      "2025-05-13 15:36:23,117 - confluence_general - INFO - Starting geofabric delineation for South_America_tutorial\n"
     ]
    },
    {
     "name": "stdout",
     "output_type": "stream",
     "text": [
      "15:36:23 - INFO - Created interim directory: /work/comphyd_lab/data/CONFLUENCE_data/domain_South_America_tutorial/taudem-interim-files/d8\n"
     ]
    },
    {
     "name": "stderr",
     "output_type": "stream",
     "text": [
      "2025-05-13 15:36:23,127 - confluence_general - INFO - Created interim directory: /work/comphyd_lab/data/CONFLUENCE_data/domain_South_America_tutorial/taudem-interim-files/d8\n"
     ]
    },
    {
     "name": "stdout",
     "output_type": "stream",
     "text": [
      "15:36:23 - INFO - Running command: mpirun -n 1 /work/comphyd_lab/data/CONFLUENCE_data/installs/TauDEM/bin/pitremove -z /work/comphyd_lab/data/CONFLUENCE_data/domain_South_America_tutorial/attributes/elevation/dem/domain_South_America_tutorial_elv.tif -fel /work/comphyd_lab/data/CONFLUENCE_data/domain_South_America_tutorial/taudem-interim-files/d8/elv-fel.tif -v\n"
     ]
    },
    {
     "name": "stderr",
     "output_type": "stream",
     "text": [
      "2025-05-13 15:36:23,132 - confluence_general - INFO - Running command: mpirun -n 1 /work/comphyd_lab/data/CONFLUENCE_data/installs/TauDEM/bin/pitremove -z /work/comphyd_lab/data/CONFLUENCE_data/domain_South_America_tutorial/attributes/elevation/dem/domain_South_America_tutorial_elv.tif -fel /work/comphyd_lab/data/CONFLUENCE_data/domain_South_America_tutorial/taudem-interim-files/d8/elv-fel.tif -v\n"
     ]
    },
    {
     "name": "stdout",
     "output_type": "stream",
     "text": [
      "15:36:29 - ERROR - Error executing command: mpirun -n 1 /work/comphyd_lab/data/CONFLUENCE_data/installs/TauDEM/bin/pitremove -z /work/comphyd_lab/data/CONFLUENCE_data/domain_South_America_tutorial/attributes/elevation/dem/domain_South_America_tutorial_elv.tif -fel /work/comphyd_lab/data/CONFLUENCE_data/domain_South_America_tutorial/taudem-interim-files/d8/elv-fel.tif -v\n"
     ]
    },
    {
     "name": "stderr",
     "output_type": "stream",
     "text": [
      "2025-05-13 15:36:29,178 - confluence_general - ERROR - Error executing command: mpirun -n 1 /work/comphyd_lab/data/CONFLUENCE_data/installs/TauDEM/bin/pitremove -z /work/comphyd_lab/data/CONFLUENCE_data/domain_South_America_tutorial/attributes/elevation/dem/domain_South_America_tutorial_elv.tif -fel /work/comphyd_lab/data/CONFLUENCE_data/domain_South_America_tutorial/taudem-interim-files/d8/elv-fel.tif -v\n"
     ]
    },
    {
     "name": "stdout",
     "output_type": "stream",
     "text": [
      "15:36:29 - ERROR - Error details: --------------------------------------------------------------------------\n",
      "Primary job  terminated normally, but 1 process returned\n",
      "a non-zero exit code. Per user-direction, the job has been aborted.\n",
      "--------------------------------------------------------------------------\n",
      "--------------------------------------------------------------------------\n",
      "mpirun noticed that process rank 0 with PID 2638831 on node h1 exited on signal 9 (Killed).\n",
      "--------------------------------------------------------------------------\n",
      "\n"
     ]
    },
    {
     "name": "stderr",
     "output_type": "stream",
     "text": [
      "2025-05-13 15:36:29,180 - confluence_general - ERROR - Error details: --------------------------------------------------------------------------\n",
      "Primary job  terminated normally, but 1 process returned\n",
      "a non-zero exit code. Per user-direction, the job has been aborted.\n",
      "--------------------------------------------------------------------------\n",
      "--------------------------------------------------------------------------\n",
      "mpirun noticed that process rank 0 with PID 2638831 on node h1 exited on signal 9 (Killed).\n",
      "--------------------------------------------------------------------------\n",
      "\n"
     ]
    },
    {
     "name": "stdout",
     "output_type": "stream",
     "text": [
      "15:36:29 - INFO - Retrying in 5 seconds...\n"
     ]
    },
    {
     "name": "stderr",
     "output_type": "stream",
     "text": [
      "2025-05-13 15:36:29,182 - confluence_general - INFO - Retrying in 5 seconds...\n"
     ]
    },
    {
     "name": "stdout",
     "output_type": "stream",
     "text": [
      "15:36:34 - INFO - Running command: mpirun -n 1 /work/comphyd_lab/data/CONFLUENCE_data/installs/TauDEM/bin/pitremove -z /work/comphyd_lab/data/CONFLUENCE_data/domain_South_America_tutorial/attributes/elevation/dem/domain_South_America_tutorial_elv.tif -fel /work/comphyd_lab/data/CONFLUENCE_data/domain_South_America_tutorial/taudem-interim-files/d8/elv-fel.tif -v\n"
     ]
    },
    {
     "name": "stderr",
     "output_type": "stream",
     "text": [
      "2025-05-13 15:36:34,185 - confluence_general - INFO - Running command: mpirun -n 1 /work/comphyd_lab/data/CONFLUENCE_data/installs/TauDEM/bin/pitremove -z /work/comphyd_lab/data/CONFLUENCE_data/domain_South_America_tutorial/attributes/elevation/dem/domain_South_America_tutorial_elv.tif -fel /work/comphyd_lab/data/CONFLUENCE_data/domain_South_America_tutorial/taudem-interim-files/d8/elv-fel.tif -v\n"
     ]
    },
    {
     "name": "stdout",
     "output_type": "stream",
     "text": [
      "15:36:39 - ERROR - Error executing command: mpirun -n 1 /work/comphyd_lab/data/CONFLUENCE_data/installs/TauDEM/bin/pitremove -z /work/comphyd_lab/data/CONFLUENCE_data/domain_South_America_tutorial/attributes/elevation/dem/domain_South_America_tutorial_elv.tif -fel /work/comphyd_lab/data/CONFLUENCE_data/domain_South_America_tutorial/taudem-interim-files/d8/elv-fel.tif -v\n"
     ]
    },
    {
     "name": "stderr",
     "output_type": "stream",
     "text": [
      "2025-05-13 15:36:39,157 - confluence_general - ERROR - Error executing command: mpirun -n 1 /work/comphyd_lab/data/CONFLUENCE_data/installs/TauDEM/bin/pitremove -z /work/comphyd_lab/data/CONFLUENCE_data/domain_South_America_tutorial/attributes/elevation/dem/domain_South_America_tutorial_elv.tif -fel /work/comphyd_lab/data/CONFLUENCE_data/domain_South_America_tutorial/taudem-interim-files/d8/elv-fel.tif -v\n"
     ]
    },
    {
     "name": "stdout",
     "output_type": "stream",
     "text": [
      "15:36:39 - ERROR - Error details: --------------------------------------------------------------------------\n",
      "Primary job  terminated normally, but 1 process returned\n",
      "a non-zero exit code. Per user-direction, the job has been aborted.\n",
      "--------------------------------------------------------------------------\n",
      "--------------------------------------------------------------------------\n",
      "mpirun noticed that process rank 0 with PID 2640588 on node h1 exited on signal 9 (Killed).\n",
      "--------------------------------------------------------------------------\n",
      "\n"
     ]
    },
    {
     "name": "stderr",
     "output_type": "stream",
     "text": [
      "2025-05-13 15:36:39,159 - confluence_general - ERROR - Error details: --------------------------------------------------------------------------\n",
      "Primary job  terminated normally, but 1 process returned\n",
      "a non-zero exit code. Per user-direction, the job has been aborted.\n",
      "--------------------------------------------------------------------------\n",
      "--------------------------------------------------------------------------\n",
      "mpirun noticed that process rank 0 with PID 2640588 on node h1 exited on signal 9 (Killed).\n",
      "--------------------------------------------------------------------------\n",
      "\n"
     ]
    },
    {
     "name": "stdout",
     "output_type": "stream",
     "text": [
      "15:36:39 - INFO - Retrying in 5 seconds...\n"
     ]
    },
    {
     "name": "stderr",
     "output_type": "stream",
     "text": [
      "2025-05-13 15:36:39,161 - confluence_general - INFO - Retrying in 5 seconds...\n"
     ]
    },
    {
     "name": "stdout",
     "output_type": "stream",
     "text": [
      "15:36:44 - INFO - Running command: mpirun -n 1 /work/comphyd_lab/data/CONFLUENCE_data/installs/TauDEM/bin/pitremove -z /work/comphyd_lab/data/CONFLUENCE_data/domain_South_America_tutorial/attributes/elevation/dem/domain_South_America_tutorial_elv.tif -fel /work/comphyd_lab/data/CONFLUENCE_data/domain_South_America_tutorial/taudem-interim-files/d8/elv-fel.tif -v\n"
     ]
    },
    {
     "name": "stderr",
     "output_type": "stream",
     "text": [
      "2025-05-13 15:36:44,164 - confluence_general - INFO - Running command: mpirun -n 1 /work/comphyd_lab/data/CONFLUENCE_data/installs/TauDEM/bin/pitremove -z /work/comphyd_lab/data/CONFLUENCE_data/domain_South_America_tutorial/attributes/elevation/dem/domain_South_America_tutorial_elv.tif -fel /work/comphyd_lab/data/CONFLUENCE_data/domain_South_America_tutorial/taudem-interim-files/d8/elv-fel.tif -v\n"
     ]
    },
    {
     "name": "stdout",
     "output_type": "stream",
     "text": [
      "15:36:48 - ERROR - Error executing command: mpirun -n 1 /work/comphyd_lab/data/CONFLUENCE_data/installs/TauDEM/bin/pitremove -z /work/comphyd_lab/data/CONFLUENCE_data/domain_South_America_tutorial/attributes/elevation/dem/domain_South_America_tutorial_elv.tif -fel /work/comphyd_lab/data/CONFLUENCE_data/domain_South_America_tutorial/taudem-interim-files/d8/elv-fel.tif -v\n"
     ]
    },
    {
     "name": "stderr",
     "output_type": "stream",
     "text": [
      "2025-05-13 15:36:48,997 - confluence_general - ERROR - Error executing command: mpirun -n 1 /work/comphyd_lab/data/CONFLUENCE_data/installs/TauDEM/bin/pitremove -z /work/comphyd_lab/data/CONFLUENCE_data/domain_South_America_tutorial/attributes/elevation/dem/domain_South_America_tutorial_elv.tif -fel /work/comphyd_lab/data/CONFLUENCE_data/domain_South_America_tutorial/taudem-interim-files/d8/elv-fel.tif -v\n"
     ]
    },
    {
     "name": "stdout",
     "output_type": "stream",
     "text": [
      "15:36:49 - ERROR - Error details: --------------------------------------------------------------------------\n",
      "Primary job  terminated normally, but 1 process returned\n",
      "a non-zero exit code. Per user-direction, the job has been aborted.\n",
      "--------------------------------------------------------------------------\n",
      "--------------------------------------------------------------------------\n",
      "mpirun noticed that process rank 0 with PID 2643350 on node h1 exited on signal 9 (Killed).\n",
      "--------------------------------------------------------------------------\n",
      "\n"
     ]
    },
    {
     "name": "stderr",
     "output_type": "stream",
     "text": [
      "2025-05-13 15:36:49,000 - confluence_general - ERROR - Error details: --------------------------------------------------------------------------\n",
      "Primary job  terminated normally, but 1 process returned\n",
      "a non-zero exit code. Per user-direction, the job has been aborted.\n",
      "--------------------------------------------------------------------------\n",
      "--------------------------------------------------------------------------\n",
      "mpirun noticed that process rank 0 with PID 2643350 on node h1 exited on signal 9 (Killed).\n",
      "--------------------------------------------------------------------------\n",
      "\n"
     ]
    },
    {
     "name": "stdout",
     "output_type": "stream",
     "text": [
      "15:36:49 - INFO - Trying without mpirun...\n"
     ]
    },
    {
     "name": "stderr",
     "output_type": "stream",
     "text": [
      "2025-05-13 15:36:49,003 - confluence_general - INFO - Trying without mpirun...\n"
     ]
    },
    {
     "name": "stdout",
     "output_type": "stream",
     "text": [
      "15:36:49 - INFO - Completed TauDEM step\n"
     ]
    },
    {
     "name": "stderr",
     "output_type": "stream",
     "text": [
      "2025-05-13 15:36:49,008 - confluence_general - INFO - Completed TauDEM step\n"
     ]
    },
    {
     "name": "stdout",
     "output_type": "stream",
     "text": [
      "15:36:49 - INFO - Running command: mpirun -n 1 /work/comphyd_lab/data/CONFLUENCE_data/installs/TauDEM/bin/d8flowdir -fel /work/comphyd_lab/data/CONFLUENCE_data/domain_South_America_tutorial/taudem-interim-files/d8/elv-fel.tif -sd8 /work/comphyd_lab/data/CONFLUENCE_data/domain_South_America_tutorial/taudem-interim-files/d8/elv-sd8.tif -p /work/comphyd_lab/data/CONFLUENCE_data/domain_South_America_tutorial/taudem-interim-files/d8/elv-fdir.tif\n"
     ]
    },
    {
     "name": "stderr",
     "output_type": "stream",
     "text": [
      "2025-05-13 15:36:49,012 - confluence_general - INFO - Running command: mpirun -n 1 /work/comphyd_lab/data/CONFLUENCE_data/installs/TauDEM/bin/d8flowdir -fel /work/comphyd_lab/data/CONFLUENCE_data/domain_South_America_tutorial/taudem-interim-files/d8/elv-fel.tif -sd8 /work/comphyd_lab/data/CONFLUENCE_data/domain_South_America_tutorial/taudem-interim-files/d8/elv-sd8.tif -p /work/comphyd_lab/data/CONFLUENCE_data/domain_South_America_tutorial/taudem-interim-files/d8/elv-fdir.tif\n"
     ]
    },
    {
     "name": "stdout",
     "output_type": "stream",
     "text": [
      "15:36:50 - ERROR - Error executing command: mpirun -n 1 /work/comphyd_lab/data/CONFLUENCE_data/installs/TauDEM/bin/d8flowdir -fel /work/comphyd_lab/data/CONFLUENCE_data/domain_South_America_tutorial/taudem-interim-files/d8/elv-fel.tif -sd8 /work/comphyd_lab/data/CONFLUENCE_data/domain_South_America_tutorial/taudem-interim-files/d8/elv-sd8.tif -p /work/comphyd_lab/data/CONFLUENCE_data/domain_South_America_tutorial/taudem-interim-files/d8/elv-fdir.tif\n"
     ]
    },
    {
     "name": "stderr",
     "output_type": "stream",
     "text": [
      "2025-05-13 15:36:50,746 - confluence_general - ERROR - Error executing command: mpirun -n 1 /work/comphyd_lab/data/CONFLUENCE_data/installs/TauDEM/bin/d8flowdir -fel /work/comphyd_lab/data/CONFLUENCE_data/domain_South_America_tutorial/taudem-interim-files/d8/elv-fel.tif -sd8 /work/comphyd_lab/data/CONFLUENCE_data/domain_South_America_tutorial/taudem-interim-files/d8/elv-sd8.tif -p /work/comphyd_lab/data/CONFLUENCE_data/domain_South_America_tutorial/taudem-interim-files/d8/elv-fdir.tif\n"
     ]
    },
    {
     "name": "stdout",
     "output_type": "stream",
     "text": [
      "15:36:50 - ERROR - Error details: ERROR 4: /work/comphyd_lab/data/CONFLUENCE_data/domain_South_America_tutorial/taudem-interim-files/d8/elv-fel.tif: No such file or directory\n",
      "--------------------------------------------------------------------------\n",
      "MPI_ABORT was invoked on rank 0 in communicator MPI_COMM_WORLD\n",
      "with errorcode 21.\n",
      "\n",
      "NOTE: invoking MPI_ABORT causes Open MPI to kill all MPI processes.\n",
      "You may or may not see output from other processes, depending on\n",
      "exactly when Open MPI kills them.\n",
      "--------------------------------------------------------------------------\n",
      "\n"
     ]
    },
    {
     "name": "stderr",
     "output_type": "stream",
     "text": [
      "2025-05-13 15:36:50,749 - confluence_general - ERROR - Error details: ERROR 4: /work/comphyd_lab/data/CONFLUENCE_data/domain_South_America_tutorial/taudem-interim-files/d8/elv-fel.tif: No such file or directory\n",
      "--------------------------------------------------------------------------\n",
      "MPI_ABORT was invoked on rank 0 in communicator MPI_COMM_WORLD\n",
      "with errorcode 21.\n",
      "\n",
      "NOTE: invoking MPI_ABORT causes Open MPI to kill all MPI processes.\n",
      "You may or may not see output from other processes, depending on\n",
      "exactly when Open MPI kills them.\n",
      "--------------------------------------------------------------------------\n",
      "\n"
     ]
    },
    {
     "name": "stdout",
     "output_type": "stream",
     "text": [
      "15:36:50 - INFO - Retrying in 5 seconds...\n"
     ]
    },
    {
     "name": "stderr",
     "output_type": "stream",
     "text": [
      "2025-05-13 15:36:50,753 - confluence_general - INFO - Retrying in 5 seconds...\n"
     ]
    },
    {
     "name": "stdout",
     "output_type": "stream",
     "text": [
      "15:36:55 - INFO - Running command: mpirun -n 1 /work/comphyd_lab/data/CONFLUENCE_data/installs/TauDEM/bin/d8flowdir -fel /work/comphyd_lab/data/CONFLUENCE_data/domain_South_America_tutorial/taudem-interim-files/d8/elv-fel.tif -sd8 /work/comphyd_lab/data/CONFLUENCE_data/domain_South_America_tutorial/taudem-interim-files/d8/elv-sd8.tif -p /work/comphyd_lab/data/CONFLUENCE_data/domain_South_America_tutorial/taudem-interim-files/d8/elv-fdir.tif\n"
     ]
    },
    {
     "name": "stderr",
     "output_type": "stream",
     "text": [
      "2025-05-13 15:36:55,756 - confluence_general - INFO - Running command: mpirun -n 1 /work/comphyd_lab/data/CONFLUENCE_data/installs/TauDEM/bin/d8flowdir -fel /work/comphyd_lab/data/CONFLUENCE_data/domain_South_America_tutorial/taudem-interim-files/d8/elv-fel.tif -sd8 /work/comphyd_lab/data/CONFLUENCE_data/domain_South_America_tutorial/taudem-interim-files/d8/elv-sd8.tif -p /work/comphyd_lab/data/CONFLUENCE_data/domain_South_America_tutorial/taudem-interim-files/d8/elv-fdir.tif\n"
     ]
    },
    {
     "name": "stdout",
     "output_type": "stream",
     "text": [
      "15:36:57 - ERROR - Error executing command: mpirun -n 1 /work/comphyd_lab/data/CONFLUENCE_data/installs/TauDEM/bin/d8flowdir -fel /work/comphyd_lab/data/CONFLUENCE_data/domain_South_America_tutorial/taudem-interim-files/d8/elv-fel.tif -sd8 /work/comphyd_lab/data/CONFLUENCE_data/domain_South_America_tutorial/taudem-interim-files/d8/elv-sd8.tif -p /work/comphyd_lab/data/CONFLUENCE_data/domain_South_America_tutorial/taudem-interim-files/d8/elv-fdir.tif\n"
     ]
    },
    {
     "name": "stderr",
     "output_type": "stream",
     "text": [
      "2025-05-13 15:36:57,363 - confluence_general - ERROR - Error executing command: mpirun -n 1 /work/comphyd_lab/data/CONFLUENCE_data/installs/TauDEM/bin/d8flowdir -fel /work/comphyd_lab/data/CONFLUENCE_data/domain_South_America_tutorial/taudem-interim-files/d8/elv-fel.tif -sd8 /work/comphyd_lab/data/CONFLUENCE_data/domain_South_America_tutorial/taudem-interim-files/d8/elv-sd8.tif -p /work/comphyd_lab/data/CONFLUENCE_data/domain_South_America_tutorial/taudem-interim-files/d8/elv-fdir.tif\n"
     ]
    },
    {
     "name": "stdout",
     "output_type": "stream",
     "text": [
      "15:36:57 - ERROR - Error details: ERROR 4: /work/comphyd_lab/data/CONFLUENCE_data/domain_South_America_tutorial/taudem-interim-files/d8/elv-fel.tif: No such file or directory\n",
      "--------------------------------------------------------------------------\n",
      "MPI_ABORT was invoked on rank 0 in communicator MPI_COMM_WORLD\n",
      "with errorcode 21.\n",
      "\n",
      "NOTE: invoking MPI_ABORT causes Open MPI to kill all MPI processes.\n",
      "You may or may not see output from other processes, depending on\n",
      "exactly when Open MPI kills them.\n",
      "--------------------------------------------------------------------------\n",
      "\n"
     ]
    },
    {
     "name": "stderr",
     "output_type": "stream",
     "text": [
      "2025-05-13 15:36:57,365 - confluence_general - ERROR - Error details: ERROR 4: /work/comphyd_lab/data/CONFLUENCE_data/domain_South_America_tutorial/taudem-interim-files/d8/elv-fel.tif: No such file or directory\n",
      "--------------------------------------------------------------------------\n",
      "MPI_ABORT was invoked on rank 0 in communicator MPI_COMM_WORLD\n",
      "with errorcode 21.\n",
      "\n",
      "NOTE: invoking MPI_ABORT causes Open MPI to kill all MPI processes.\n",
      "You may or may not see output from other processes, depending on\n",
      "exactly when Open MPI kills them.\n",
      "--------------------------------------------------------------------------\n",
      "\n"
     ]
    },
    {
     "name": "stdout",
     "output_type": "stream",
     "text": [
      "15:36:57 - INFO - Retrying in 5 seconds...\n"
     ]
    },
    {
     "name": "stderr",
     "output_type": "stream",
     "text": [
      "2025-05-13 15:36:57,369 - confluence_general - INFO - Retrying in 5 seconds...\n"
     ]
    },
    {
     "name": "stdout",
     "output_type": "stream",
     "text": [
      "15:37:02 - INFO - Running command: mpirun -n 1 /work/comphyd_lab/data/CONFLUENCE_data/installs/TauDEM/bin/d8flowdir -fel /work/comphyd_lab/data/CONFLUENCE_data/domain_South_America_tutorial/taudem-interim-files/d8/elv-fel.tif -sd8 /work/comphyd_lab/data/CONFLUENCE_data/domain_South_America_tutorial/taudem-interim-files/d8/elv-sd8.tif -p /work/comphyd_lab/data/CONFLUENCE_data/domain_South_America_tutorial/taudem-interim-files/d8/elv-fdir.tif\n"
     ]
    },
    {
     "name": "stderr",
     "output_type": "stream",
     "text": [
      "2025-05-13 15:37:02,373 - confluence_general - INFO - Running command: mpirun -n 1 /work/comphyd_lab/data/CONFLUENCE_data/installs/TauDEM/bin/d8flowdir -fel /work/comphyd_lab/data/CONFLUENCE_data/domain_South_America_tutorial/taudem-interim-files/d8/elv-fel.tif -sd8 /work/comphyd_lab/data/CONFLUENCE_data/domain_South_America_tutorial/taudem-interim-files/d8/elv-sd8.tif -p /work/comphyd_lab/data/CONFLUENCE_data/domain_South_America_tutorial/taudem-interim-files/d8/elv-fdir.tif\n"
     ]
    },
    {
     "name": "stdout",
     "output_type": "stream",
     "text": [
      "15:37:04 - ERROR - Error executing command: mpirun -n 1 /work/comphyd_lab/data/CONFLUENCE_data/installs/TauDEM/bin/d8flowdir -fel /work/comphyd_lab/data/CONFLUENCE_data/domain_South_America_tutorial/taudem-interim-files/d8/elv-fel.tif -sd8 /work/comphyd_lab/data/CONFLUENCE_data/domain_South_America_tutorial/taudem-interim-files/d8/elv-sd8.tif -p /work/comphyd_lab/data/CONFLUENCE_data/domain_South_America_tutorial/taudem-interim-files/d8/elv-fdir.tif\n"
     ]
    },
    {
     "name": "stderr",
     "output_type": "stream",
     "text": [
      "2025-05-13 15:37:04,009 - confluence_general - ERROR - Error executing command: mpirun -n 1 /work/comphyd_lab/data/CONFLUENCE_data/installs/TauDEM/bin/d8flowdir -fel /work/comphyd_lab/data/CONFLUENCE_data/domain_South_America_tutorial/taudem-interim-files/d8/elv-fel.tif -sd8 /work/comphyd_lab/data/CONFLUENCE_data/domain_South_America_tutorial/taudem-interim-files/d8/elv-sd8.tif -p /work/comphyd_lab/data/CONFLUENCE_data/domain_South_America_tutorial/taudem-interim-files/d8/elv-fdir.tif\n"
     ]
    },
    {
     "name": "stdout",
     "output_type": "stream",
     "text": [
      "15:37:04 - ERROR - Error details: ERROR 4: /work/comphyd_lab/data/CONFLUENCE_data/domain_South_America_tutorial/taudem-interim-files/d8/elv-fel.tif: No such file or directory\n",
      "--------------------------------------------------------------------------\n",
      "MPI_ABORT was invoked on rank 0 in communicator MPI_COMM_WORLD\n",
      "with errorcode 21.\n",
      "\n",
      "NOTE: invoking MPI_ABORT causes Open MPI to kill all MPI processes.\n",
      "You may or may not see output from other processes, depending on\n",
      "exactly when Open MPI kills them.\n",
      "--------------------------------------------------------------------------\n",
      "\n"
     ]
    },
    {
     "name": "stderr",
     "output_type": "stream",
     "text": [
      "2025-05-13 15:37:04,012 - confluence_general - ERROR - Error details: ERROR 4: /work/comphyd_lab/data/CONFLUENCE_data/domain_South_America_tutorial/taudem-interim-files/d8/elv-fel.tif: No such file or directory\n",
      "--------------------------------------------------------------------------\n",
      "MPI_ABORT was invoked on rank 0 in communicator MPI_COMM_WORLD\n",
      "with errorcode 21.\n",
      "\n",
      "NOTE: invoking MPI_ABORT causes Open MPI to kill all MPI processes.\n",
      "You may or may not see output from other processes, depending on\n",
      "exactly when Open MPI kills them.\n",
      "--------------------------------------------------------------------------\n",
      "\n"
     ]
    },
    {
     "name": "stdout",
     "output_type": "stream",
     "text": [
      "15:37:04 - INFO - Trying without mpirun...\n"
     ]
    },
    {
     "name": "stderr",
     "output_type": "stream",
     "text": [
      "2025-05-13 15:37:04,016 - confluence_general - INFO - Trying without mpirun...\n"
     ]
    },
    {
     "name": "stdout",
     "output_type": "stream",
     "text": [
      "15:37:04 - INFO - Completed TauDEM step\n"
     ]
    },
    {
     "name": "stderr",
     "output_type": "stream",
     "text": [
      "2025-05-13 15:37:04,019 - confluence_general - INFO - Completed TauDEM step\n"
     ]
    },
    {
     "name": "stdout",
     "output_type": "stream",
     "text": [
      "15:37:04 - INFO - Running command: mpirun -n 1 /work/comphyd_lab/data/CONFLUENCE_data/installs/TauDEM/bin/aread8 -p /work/comphyd_lab/data/CONFLUENCE_data/domain_South_America_tutorial/taudem-interim-files/d8/elv-fdir.tif -ad8 /work/comphyd_lab/data/CONFLUENCE_data/domain_South_America_tutorial/taudem-interim-files/d8/elv-ad8.tif -nc\n"
     ]
    },
    {
     "name": "stderr",
     "output_type": "stream",
     "text": [
      "2025-05-13 15:37:04,023 - confluence_general - INFO - Running command: mpirun -n 1 /work/comphyd_lab/data/CONFLUENCE_data/installs/TauDEM/bin/aread8 -p /work/comphyd_lab/data/CONFLUENCE_data/domain_South_America_tutorial/taudem-interim-files/d8/elv-fdir.tif -ad8 /work/comphyd_lab/data/CONFLUENCE_data/domain_South_America_tutorial/taudem-interim-files/d8/elv-ad8.tif -nc\n"
     ]
    },
    {
     "name": "stdout",
     "output_type": "stream",
     "text": [
      "15:37:05 - ERROR - Error executing command: mpirun -n 1 /work/comphyd_lab/data/CONFLUENCE_data/installs/TauDEM/bin/aread8 -p /work/comphyd_lab/data/CONFLUENCE_data/domain_South_America_tutorial/taudem-interim-files/d8/elv-fdir.tif -ad8 /work/comphyd_lab/data/CONFLUENCE_data/domain_South_America_tutorial/taudem-interim-files/d8/elv-ad8.tif -nc\n"
     ]
    },
    {
     "name": "stderr",
     "output_type": "stream",
     "text": [
      "2025-05-13 15:37:05,593 - confluence_general - ERROR - Error executing command: mpirun -n 1 /work/comphyd_lab/data/CONFLUENCE_data/installs/TauDEM/bin/aread8 -p /work/comphyd_lab/data/CONFLUENCE_data/domain_South_America_tutorial/taudem-interim-files/d8/elv-fdir.tif -ad8 /work/comphyd_lab/data/CONFLUENCE_data/domain_South_America_tutorial/taudem-interim-files/d8/elv-ad8.tif -nc\n"
     ]
    },
    {
     "name": "stdout",
     "output_type": "stream",
     "text": [
      "15:37:05 - ERROR - Error details: ERROR 4: /work/comphyd_lab/data/CONFLUENCE_data/domain_South_America_tutorial/taudem-interim-files/d8/elv-fdir.tif: No such file or directory\n",
      "--------------------------------------------------------------------------\n",
      "MPI_ABORT was invoked on rank 0 in communicator MPI_COMM_WORLD\n",
      "with errorcode 21.\n",
      "\n",
      "NOTE: invoking MPI_ABORT causes Open MPI to kill all MPI processes.\n",
      "You may or may not see output from other processes, depending on\n",
      "exactly when Open MPI kills them.\n",
      "--------------------------------------------------------------------------\n",
      "\n"
     ]
    },
    {
     "name": "stderr",
     "output_type": "stream",
     "text": [
      "2025-05-13 15:37:05,596 - confluence_general - ERROR - Error details: ERROR 4: /work/comphyd_lab/data/CONFLUENCE_data/domain_South_America_tutorial/taudem-interim-files/d8/elv-fdir.tif: No such file or directory\n",
      "--------------------------------------------------------------------------\n",
      "MPI_ABORT was invoked on rank 0 in communicator MPI_COMM_WORLD\n",
      "with errorcode 21.\n",
      "\n",
      "NOTE: invoking MPI_ABORT causes Open MPI to kill all MPI processes.\n",
      "You may or may not see output from other processes, depending on\n",
      "exactly when Open MPI kills them.\n",
      "--------------------------------------------------------------------------\n",
      "\n"
     ]
    },
    {
     "name": "stdout",
     "output_type": "stream",
     "text": [
      "15:37:05 - INFO - Retrying in 5 seconds...\n"
     ]
    },
    {
     "name": "stderr",
     "output_type": "stream",
     "text": [
      "2025-05-13 15:37:05,600 - confluence_general - INFO - Retrying in 5 seconds...\n"
     ]
    },
    {
     "name": "stdout",
     "output_type": "stream",
     "text": [
      "15:37:10 - INFO - Running command: mpirun -n 1 /work/comphyd_lab/data/CONFLUENCE_data/installs/TauDEM/bin/aread8 -p /work/comphyd_lab/data/CONFLUENCE_data/domain_South_America_tutorial/taudem-interim-files/d8/elv-fdir.tif -ad8 /work/comphyd_lab/data/CONFLUENCE_data/domain_South_America_tutorial/taudem-interim-files/d8/elv-ad8.tif -nc\n"
     ]
    },
    {
     "name": "stderr",
     "output_type": "stream",
     "text": [
      "2025-05-13 15:37:10,603 - confluence_general - INFO - Running command: mpirun -n 1 /work/comphyd_lab/data/CONFLUENCE_data/installs/TauDEM/bin/aread8 -p /work/comphyd_lab/data/CONFLUENCE_data/domain_South_America_tutorial/taudem-interim-files/d8/elv-fdir.tif -ad8 /work/comphyd_lab/data/CONFLUENCE_data/domain_South_America_tutorial/taudem-interim-files/d8/elv-ad8.tif -nc\n"
     ]
    },
    {
     "name": "stdout",
     "output_type": "stream",
     "text": [
      "15:37:12 - ERROR - Error executing command: mpirun -n 1 /work/comphyd_lab/data/CONFLUENCE_data/installs/TauDEM/bin/aread8 -p /work/comphyd_lab/data/CONFLUENCE_data/domain_South_America_tutorial/taudem-interim-files/d8/elv-fdir.tif -ad8 /work/comphyd_lab/data/CONFLUENCE_data/domain_South_America_tutorial/taudem-interim-files/d8/elv-ad8.tif -nc\n"
     ]
    },
    {
     "name": "stderr",
     "output_type": "stream",
     "text": [
      "2025-05-13 15:37:12,185 - confluence_general - ERROR - Error executing command: mpirun -n 1 /work/comphyd_lab/data/CONFLUENCE_data/installs/TauDEM/bin/aread8 -p /work/comphyd_lab/data/CONFLUENCE_data/domain_South_America_tutorial/taudem-interim-files/d8/elv-fdir.tif -ad8 /work/comphyd_lab/data/CONFLUENCE_data/domain_South_America_tutorial/taudem-interim-files/d8/elv-ad8.tif -nc\n"
     ]
    },
    {
     "name": "stdout",
     "output_type": "stream",
     "text": [
      "15:37:12 - ERROR - Error details: ERROR 4: /work/comphyd_lab/data/CONFLUENCE_data/domain_South_America_tutorial/taudem-interim-files/d8/elv-fdir.tif: No such file or directory\n",
      "--------------------------------------------------------------------------\n",
      "MPI_ABORT was invoked on rank 0 in communicator MPI_COMM_WORLD\n",
      "with errorcode 21.\n",
      "\n",
      "NOTE: invoking MPI_ABORT causes Open MPI to kill all MPI processes.\n",
      "You may or may not see output from other processes, depending on\n",
      "exactly when Open MPI kills them.\n",
      "--------------------------------------------------------------------------\n",
      "\n"
     ]
    },
    {
     "name": "stderr",
     "output_type": "stream",
     "text": [
      "2025-05-13 15:37:12,187 - confluence_general - ERROR - Error details: ERROR 4: /work/comphyd_lab/data/CONFLUENCE_data/domain_South_America_tutorial/taudem-interim-files/d8/elv-fdir.tif: No such file or directory\n",
      "--------------------------------------------------------------------------\n",
      "MPI_ABORT was invoked on rank 0 in communicator MPI_COMM_WORLD\n",
      "with errorcode 21.\n",
      "\n",
      "NOTE: invoking MPI_ABORT causes Open MPI to kill all MPI processes.\n",
      "You may or may not see output from other processes, depending on\n",
      "exactly when Open MPI kills them.\n",
      "--------------------------------------------------------------------------\n",
      "\n"
     ]
    },
    {
     "name": "stdout",
     "output_type": "stream",
     "text": [
      "15:37:12 - INFO - Retrying in 5 seconds...\n"
     ]
    },
    {
     "name": "stderr",
     "output_type": "stream",
     "text": [
      "2025-05-13 15:37:12,190 - confluence_general - INFO - Retrying in 5 seconds...\n"
     ]
    },
    {
     "name": "stdout",
     "output_type": "stream",
     "text": [
      "15:37:17 - INFO - Running command: mpirun -n 1 /work/comphyd_lab/data/CONFLUENCE_data/installs/TauDEM/bin/aread8 -p /work/comphyd_lab/data/CONFLUENCE_data/domain_South_America_tutorial/taudem-interim-files/d8/elv-fdir.tif -ad8 /work/comphyd_lab/data/CONFLUENCE_data/domain_South_America_tutorial/taudem-interim-files/d8/elv-ad8.tif -nc\n"
     ]
    },
    {
     "name": "stderr",
     "output_type": "stream",
     "text": [
      "2025-05-13 15:37:17,193 - confluence_general - INFO - Running command: mpirun -n 1 /work/comphyd_lab/data/CONFLUENCE_data/installs/TauDEM/bin/aread8 -p /work/comphyd_lab/data/CONFLUENCE_data/domain_South_America_tutorial/taudem-interim-files/d8/elv-fdir.tif -ad8 /work/comphyd_lab/data/CONFLUENCE_data/domain_South_America_tutorial/taudem-interim-files/d8/elv-ad8.tif -nc\n"
     ]
    },
    {
     "name": "stdout",
     "output_type": "stream",
     "text": [
      "15:37:18 - ERROR - Error executing command: mpirun -n 1 /work/comphyd_lab/data/CONFLUENCE_data/installs/TauDEM/bin/aread8 -p /work/comphyd_lab/data/CONFLUENCE_data/domain_South_America_tutorial/taudem-interim-files/d8/elv-fdir.tif -ad8 /work/comphyd_lab/data/CONFLUENCE_data/domain_South_America_tutorial/taudem-interim-files/d8/elv-ad8.tif -nc\n"
     ]
    },
    {
     "name": "stderr",
     "output_type": "stream",
     "text": [
      "2025-05-13 15:37:18,751 - confluence_general - ERROR - Error executing command: mpirun -n 1 /work/comphyd_lab/data/CONFLUENCE_data/installs/TauDEM/bin/aread8 -p /work/comphyd_lab/data/CONFLUENCE_data/domain_South_America_tutorial/taudem-interim-files/d8/elv-fdir.tif -ad8 /work/comphyd_lab/data/CONFLUENCE_data/domain_South_America_tutorial/taudem-interim-files/d8/elv-ad8.tif -nc\n"
     ]
    },
    {
     "name": "stdout",
     "output_type": "stream",
     "text": [
      "15:37:18 - ERROR - Error details: ERROR 4: /work/comphyd_lab/data/CONFLUENCE_data/domain_South_America_tutorial/taudem-interim-files/d8/elv-fdir.tif: No such file or directory\n",
      "--------------------------------------------------------------------------\n",
      "MPI_ABORT was invoked on rank 0 in communicator MPI_COMM_WORLD\n",
      "with errorcode 21.\n",
      "\n",
      "NOTE: invoking MPI_ABORT causes Open MPI to kill all MPI processes.\n",
      "You may or may not see output from other processes, depending on\n",
      "exactly when Open MPI kills them.\n",
      "--------------------------------------------------------------------------\n",
      "\n"
     ]
    },
    {
     "name": "stderr",
     "output_type": "stream",
     "text": [
      "2025-05-13 15:37:18,754 - confluence_general - ERROR - Error details: ERROR 4: /work/comphyd_lab/data/CONFLUENCE_data/domain_South_America_tutorial/taudem-interim-files/d8/elv-fdir.tif: No such file or directory\n",
      "--------------------------------------------------------------------------\n",
      "MPI_ABORT was invoked on rank 0 in communicator MPI_COMM_WORLD\n",
      "with errorcode 21.\n",
      "\n",
      "NOTE: invoking MPI_ABORT causes Open MPI to kill all MPI processes.\n",
      "You may or may not see output from other processes, depending on\n",
      "exactly when Open MPI kills them.\n",
      "--------------------------------------------------------------------------\n",
      "\n"
     ]
    },
    {
     "name": "stdout",
     "output_type": "stream",
     "text": [
      "15:37:18 - INFO - Trying without mpirun...\n"
     ]
    },
    {
     "name": "stderr",
     "output_type": "stream",
     "text": [
      "2025-05-13 15:37:18,757 - confluence_general - INFO - Trying without mpirun...\n"
     ]
    },
    {
     "name": "stdout",
     "output_type": "stream",
     "text": [
      "15:37:18 - INFO - Completed TauDEM step\n"
     ]
    },
    {
     "name": "stderr",
     "output_type": "stream",
     "text": [
      "2025-05-13 15:37:18,761 - confluence_general - INFO - Completed TauDEM step\n"
     ]
    },
    {
     "name": "stdout",
     "output_type": "stream",
     "text": [
      "15:37:18 - INFO - Running command: mpirun -n 1 /work/comphyd_lab/data/CONFLUENCE_data/installs/TauDEM/bin/gridnet -p /work/comphyd_lab/data/CONFLUENCE_data/domain_South_America_tutorial/taudem-interim-files/d8/elv-fdir.tif -plen /work/comphyd_lab/data/CONFLUENCE_data/domain_South_America_tutorial/taudem-interim-files/d8/elv-plen.tif -tlen /work/comphyd_lab/data/CONFLUENCE_data/domain_South_America_tutorial/taudem-interim-files/d8/elv-tlen.tif -gord /work/comphyd_lab/data/CONFLUENCE_data/domain_South_America_tutorial/taudem-interim-files/d8/elv-gord.tif\n"
     ]
    },
    {
     "name": "stderr",
     "output_type": "stream",
     "text": [
      "2025-05-13 15:37:18,764 - confluence_general - INFO - Running command: mpirun -n 1 /work/comphyd_lab/data/CONFLUENCE_data/installs/TauDEM/bin/gridnet -p /work/comphyd_lab/data/CONFLUENCE_data/domain_South_America_tutorial/taudem-interim-files/d8/elv-fdir.tif -plen /work/comphyd_lab/data/CONFLUENCE_data/domain_South_America_tutorial/taudem-interim-files/d8/elv-plen.tif -tlen /work/comphyd_lab/data/CONFLUENCE_data/domain_South_America_tutorial/taudem-interim-files/d8/elv-tlen.tif -gord /work/comphyd_lab/data/CONFLUENCE_data/domain_South_America_tutorial/taudem-interim-files/d8/elv-gord.tif\n"
     ]
    },
    {
     "name": "stdout",
     "output_type": "stream",
     "text": [
      "15:37:20 - ERROR - Error executing command: mpirun -n 1 /work/comphyd_lab/data/CONFLUENCE_data/installs/TauDEM/bin/gridnet -p /work/comphyd_lab/data/CONFLUENCE_data/domain_South_America_tutorial/taudem-interim-files/d8/elv-fdir.tif -plen /work/comphyd_lab/data/CONFLUENCE_data/domain_South_America_tutorial/taudem-interim-files/d8/elv-plen.tif -tlen /work/comphyd_lab/data/CONFLUENCE_data/domain_South_America_tutorial/taudem-interim-files/d8/elv-tlen.tif -gord /work/comphyd_lab/data/CONFLUENCE_data/domain_South_America_tutorial/taudem-interim-files/d8/elv-gord.tif\n"
     ]
    },
    {
     "name": "stderr",
     "output_type": "stream",
     "text": [
      "2025-05-13 15:37:20,262 - confluence_general - ERROR - Error executing command: mpirun -n 1 /work/comphyd_lab/data/CONFLUENCE_data/installs/TauDEM/bin/gridnet -p /work/comphyd_lab/data/CONFLUENCE_data/domain_South_America_tutorial/taudem-interim-files/d8/elv-fdir.tif -plen /work/comphyd_lab/data/CONFLUENCE_data/domain_South_America_tutorial/taudem-interim-files/d8/elv-plen.tif -tlen /work/comphyd_lab/data/CONFLUENCE_data/domain_South_America_tutorial/taudem-interim-files/d8/elv-tlen.tif -gord /work/comphyd_lab/data/CONFLUENCE_data/domain_South_America_tutorial/taudem-interim-files/d8/elv-gord.tif\n"
     ]
    },
    {
     "name": "stdout",
     "output_type": "stream",
     "text": [
      "15:37:20 - ERROR - Error details: ERROR 4: /work/comphyd_lab/data/CONFLUENCE_data/domain_South_America_tutorial/taudem-interim-files/d8/elv-fdir.tif: No such file or directory\n",
      "--------------------------------------------------------------------------\n",
      "MPI_ABORT was invoked on rank 0 in communicator MPI_COMM_WORLD\n",
      "with errorcode 21.\n",
      "\n",
      "NOTE: invoking MPI_ABORT causes Open MPI to kill all MPI processes.\n",
      "You may or may not see output from other processes, depending on\n",
      "exactly when Open MPI kills them.\n",
      "--------------------------------------------------------------------------\n",
      "\n"
     ]
    },
    {
     "name": "stderr",
     "output_type": "stream",
     "text": [
      "2025-05-13 15:37:20,266 - confluence_general - ERROR - Error details: ERROR 4: /work/comphyd_lab/data/CONFLUENCE_data/domain_South_America_tutorial/taudem-interim-files/d8/elv-fdir.tif: No such file or directory\n",
      "--------------------------------------------------------------------------\n",
      "MPI_ABORT was invoked on rank 0 in communicator MPI_COMM_WORLD\n",
      "with errorcode 21.\n",
      "\n",
      "NOTE: invoking MPI_ABORT causes Open MPI to kill all MPI processes.\n",
      "You may or may not see output from other processes, depending on\n",
      "exactly when Open MPI kills them.\n",
      "--------------------------------------------------------------------------\n",
      "\n"
     ]
    },
    {
     "name": "stdout",
     "output_type": "stream",
     "text": [
      "15:37:20 - INFO - Retrying in 5 seconds...\n"
     ]
    },
    {
     "name": "stderr",
     "output_type": "stream",
     "text": [
      "2025-05-13 15:37:20,268 - confluence_general - INFO - Retrying in 5 seconds...\n"
     ]
    },
    {
     "name": "stdout",
     "output_type": "stream",
     "text": [
      "15:37:25 - INFO - Running command: mpirun -n 1 /work/comphyd_lab/data/CONFLUENCE_data/installs/TauDEM/bin/gridnet -p /work/comphyd_lab/data/CONFLUENCE_data/domain_South_America_tutorial/taudem-interim-files/d8/elv-fdir.tif -plen /work/comphyd_lab/data/CONFLUENCE_data/domain_South_America_tutorial/taudem-interim-files/d8/elv-plen.tif -tlen /work/comphyd_lab/data/CONFLUENCE_data/domain_South_America_tutorial/taudem-interim-files/d8/elv-tlen.tif -gord /work/comphyd_lab/data/CONFLUENCE_data/domain_South_America_tutorial/taudem-interim-files/d8/elv-gord.tif\n"
     ]
    },
    {
     "name": "stderr",
     "output_type": "stream",
     "text": [
      "2025-05-13 15:37:25,271 - confluence_general - INFO - Running command: mpirun -n 1 /work/comphyd_lab/data/CONFLUENCE_data/installs/TauDEM/bin/gridnet -p /work/comphyd_lab/data/CONFLUENCE_data/domain_South_America_tutorial/taudem-interim-files/d8/elv-fdir.tif -plen /work/comphyd_lab/data/CONFLUENCE_data/domain_South_America_tutorial/taudem-interim-files/d8/elv-plen.tif -tlen /work/comphyd_lab/data/CONFLUENCE_data/domain_South_America_tutorial/taudem-interim-files/d8/elv-tlen.tif -gord /work/comphyd_lab/data/CONFLUENCE_data/domain_South_America_tutorial/taudem-interim-files/d8/elv-gord.tif\n"
     ]
    },
    {
     "name": "stdout",
     "output_type": "stream",
     "text": [
      "15:37:26 - ERROR - Error executing command: mpirun -n 1 /work/comphyd_lab/data/CONFLUENCE_data/installs/TauDEM/bin/gridnet -p /work/comphyd_lab/data/CONFLUENCE_data/domain_South_America_tutorial/taudem-interim-files/d8/elv-fdir.tif -plen /work/comphyd_lab/data/CONFLUENCE_data/domain_South_America_tutorial/taudem-interim-files/d8/elv-plen.tif -tlen /work/comphyd_lab/data/CONFLUENCE_data/domain_South_America_tutorial/taudem-interim-files/d8/elv-tlen.tif -gord /work/comphyd_lab/data/CONFLUENCE_data/domain_South_America_tutorial/taudem-interim-files/d8/elv-gord.tif\n"
     ]
    },
    {
     "name": "stderr",
     "output_type": "stream",
     "text": [
      "2025-05-13 15:37:26,901 - confluence_general - ERROR - Error executing command: mpirun -n 1 /work/comphyd_lab/data/CONFLUENCE_data/installs/TauDEM/bin/gridnet -p /work/comphyd_lab/data/CONFLUENCE_data/domain_South_America_tutorial/taudem-interim-files/d8/elv-fdir.tif -plen /work/comphyd_lab/data/CONFLUENCE_data/domain_South_America_tutorial/taudem-interim-files/d8/elv-plen.tif -tlen /work/comphyd_lab/data/CONFLUENCE_data/domain_South_America_tutorial/taudem-interim-files/d8/elv-tlen.tif -gord /work/comphyd_lab/data/CONFLUENCE_data/domain_South_America_tutorial/taudem-interim-files/d8/elv-gord.tif\n"
     ]
    },
    {
     "name": "stdout",
     "output_type": "stream",
     "text": [
      "15:37:26 - ERROR - Error details: ERROR 4: /work/comphyd_lab/data/CONFLUENCE_data/domain_South_America_tutorial/taudem-interim-files/d8/elv-fdir.tif: No such file or directory\n",
      "--------------------------------------------------------------------------\n",
      "MPI_ABORT was invoked on rank 0 in communicator MPI_COMM_WORLD\n",
      "with errorcode 21.\n",
      "\n",
      "NOTE: invoking MPI_ABORT causes Open MPI to kill all MPI processes.\n",
      "You may or may not see output from other processes, depending on\n",
      "exactly when Open MPI kills them.\n",
      "--------------------------------------------------------------------------\n",
      "\n"
     ]
    },
    {
     "name": "stderr",
     "output_type": "stream",
     "text": [
      "2025-05-13 15:37:26,904 - confluence_general - ERROR - Error details: ERROR 4: /work/comphyd_lab/data/CONFLUENCE_data/domain_South_America_tutorial/taudem-interim-files/d8/elv-fdir.tif: No such file or directory\n",
      "--------------------------------------------------------------------------\n",
      "MPI_ABORT was invoked on rank 0 in communicator MPI_COMM_WORLD\n",
      "with errorcode 21.\n",
      "\n",
      "NOTE: invoking MPI_ABORT causes Open MPI to kill all MPI processes.\n",
      "You may or may not see output from other processes, depending on\n",
      "exactly when Open MPI kills them.\n",
      "--------------------------------------------------------------------------\n",
      "\n"
     ]
    },
    {
     "name": "stdout",
     "output_type": "stream",
     "text": [
      "15:37:26 - INFO - Retrying in 5 seconds...\n"
     ]
    },
    {
     "name": "stderr",
     "output_type": "stream",
     "text": [
      "2025-05-13 15:37:26,907 - confluence_general - INFO - Retrying in 5 seconds...\n"
     ]
    },
    {
     "name": "stdout",
     "output_type": "stream",
     "text": [
      "15:37:31 - INFO - Running command: mpirun -n 1 /work/comphyd_lab/data/CONFLUENCE_data/installs/TauDEM/bin/gridnet -p /work/comphyd_lab/data/CONFLUENCE_data/domain_South_America_tutorial/taudem-interim-files/d8/elv-fdir.tif -plen /work/comphyd_lab/data/CONFLUENCE_data/domain_South_America_tutorial/taudem-interim-files/d8/elv-plen.tif -tlen /work/comphyd_lab/data/CONFLUENCE_data/domain_South_America_tutorial/taudem-interim-files/d8/elv-tlen.tif -gord /work/comphyd_lab/data/CONFLUENCE_data/domain_South_America_tutorial/taudem-interim-files/d8/elv-gord.tif\n"
     ]
    },
    {
     "name": "stderr",
     "output_type": "stream",
     "text": [
      "2025-05-13 15:37:31,911 - confluence_general - INFO - Running command: mpirun -n 1 /work/comphyd_lab/data/CONFLUENCE_data/installs/TauDEM/bin/gridnet -p /work/comphyd_lab/data/CONFLUENCE_data/domain_South_America_tutorial/taudem-interim-files/d8/elv-fdir.tif -plen /work/comphyd_lab/data/CONFLUENCE_data/domain_South_America_tutorial/taudem-interim-files/d8/elv-plen.tif -tlen /work/comphyd_lab/data/CONFLUENCE_data/domain_South_America_tutorial/taudem-interim-files/d8/elv-tlen.tif -gord /work/comphyd_lab/data/CONFLUENCE_data/domain_South_America_tutorial/taudem-interim-files/d8/elv-gord.tif\n"
     ]
    },
    {
     "name": "stdout",
     "output_type": "stream",
     "text": [
      "15:37:33 - ERROR - Error executing command: mpirun -n 1 /work/comphyd_lab/data/CONFLUENCE_data/installs/TauDEM/bin/gridnet -p /work/comphyd_lab/data/CONFLUENCE_data/domain_South_America_tutorial/taudem-interim-files/d8/elv-fdir.tif -plen /work/comphyd_lab/data/CONFLUENCE_data/domain_South_America_tutorial/taudem-interim-files/d8/elv-plen.tif -tlen /work/comphyd_lab/data/CONFLUENCE_data/domain_South_America_tutorial/taudem-interim-files/d8/elv-tlen.tif -gord /work/comphyd_lab/data/CONFLUENCE_data/domain_South_America_tutorial/taudem-interim-files/d8/elv-gord.tif\n"
     ]
    },
    {
     "name": "stderr",
     "output_type": "stream",
     "text": [
      "2025-05-13 15:37:33,450 - confluence_general - ERROR - Error executing command: mpirun -n 1 /work/comphyd_lab/data/CONFLUENCE_data/installs/TauDEM/bin/gridnet -p /work/comphyd_lab/data/CONFLUENCE_data/domain_South_America_tutorial/taudem-interim-files/d8/elv-fdir.tif -plen /work/comphyd_lab/data/CONFLUENCE_data/domain_South_America_tutorial/taudem-interim-files/d8/elv-plen.tif -tlen /work/comphyd_lab/data/CONFLUENCE_data/domain_South_America_tutorial/taudem-interim-files/d8/elv-tlen.tif -gord /work/comphyd_lab/data/CONFLUENCE_data/domain_South_America_tutorial/taudem-interim-files/d8/elv-gord.tif\n"
     ]
    },
    {
     "name": "stdout",
     "output_type": "stream",
     "text": [
      "15:37:33 - ERROR - Error details: ERROR 4: /work/comphyd_lab/data/CONFLUENCE_data/domain_South_America_tutorial/taudem-interim-files/d8/elv-fdir.tif: No such file or directory\n",
      "--------------------------------------------------------------------------\n",
      "MPI_ABORT was invoked on rank 0 in communicator MPI_COMM_WORLD\n",
      "with errorcode 21.\n",
      "\n",
      "NOTE: invoking MPI_ABORT causes Open MPI to kill all MPI processes.\n",
      "You may or may not see output from other processes, depending on\n",
      "exactly when Open MPI kills them.\n",
      "--------------------------------------------------------------------------\n",
      "\n"
     ]
    },
    {
     "name": "stderr",
     "output_type": "stream",
     "text": [
      "2025-05-13 15:37:33,453 - confluence_general - ERROR - Error details: ERROR 4: /work/comphyd_lab/data/CONFLUENCE_data/domain_South_America_tutorial/taudem-interim-files/d8/elv-fdir.tif: No such file or directory\n",
      "--------------------------------------------------------------------------\n",
      "MPI_ABORT was invoked on rank 0 in communicator MPI_COMM_WORLD\n",
      "with errorcode 21.\n",
      "\n",
      "NOTE: invoking MPI_ABORT causes Open MPI to kill all MPI processes.\n",
      "You may or may not see output from other processes, depending on\n",
      "exactly when Open MPI kills them.\n",
      "--------------------------------------------------------------------------\n",
      "\n"
     ]
    },
    {
     "name": "stdout",
     "output_type": "stream",
     "text": [
      "15:37:33 - INFO - Trying without mpirun...\n"
     ]
    },
    {
     "name": "stderr",
     "output_type": "stream",
     "text": [
      "2025-05-13 15:37:33,456 - confluence_general - INFO - Trying without mpirun...\n"
     ]
    },
    {
     "name": "stdout",
     "output_type": "stream",
     "text": [
      "15:37:33 - INFO - Completed TauDEM step\n"
     ]
    },
    {
     "name": "stderr",
     "output_type": "stream",
     "text": [
      "2025-05-13 15:37:33,458 - confluence_general - INFO - Completed TauDEM step\n"
     ]
    },
    {
     "name": "stdout",
     "output_type": "stream",
     "text": [
      "15:37:33 - INFO - Running command: mpirun -n 1 /work/comphyd_lab/data/CONFLUENCE_data/installs/TauDEM/bin/threshold -ssa /work/comphyd_lab/data/CONFLUENCE_data/domain_South_America_tutorial/taudem-interim-files/d8/elv-ad8.tif -src /work/comphyd_lab/data/CONFLUENCE_data/domain_South_America_tutorial/taudem-interim-files/d8/elv-src.tif -thresh 7500\n"
     ]
    },
    {
     "name": "stderr",
     "output_type": "stream",
     "text": [
      "2025-05-13 15:37:33,462 - confluence_general - INFO - Running command: mpirun -n 1 /work/comphyd_lab/data/CONFLUENCE_data/installs/TauDEM/bin/threshold -ssa /work/comphyd_lab/data/CONFLUENCE_data/domain_South_America_tutorial/taudem-interim-files/d8/elv-ad8.tif -src /work/comphyd_lab/data/CONFLUENCE_data/domain_South_America_tutorial/taudem-interim-files/d8/elv-src.tif -thresh 7500\n"
     ]
    },
    {
     "name": "stdout",
     "output_type": "stream",
     "text": [
      "15:37:35 - ERROR - Error executing command: mpirun -n 1 /work/comphyd_lab/data/CONFLUENCE_data/installs/TauDEM/bin/threshold -ssa /work/comphyd_lab/data/CONFLUENCE_data/domain_South_America_tutorial/taudem-interim-files/d8/elv-ad8.tif -src /work/comphyd_lab/data/CONFLUENCE_data/domain_South_America_tutorial/taudem-interim-files/d8/elv-src.tif -thresh 7500\n"
     ]
    },
    {
     "name": "stderr",
     "output_type": "stream",
     "text": [
      "2025-05-13 15:37:35,067 - confluence_general - ERROR - Error executing command: mpirun -n 1 /work/comphyd_lab/data/CONFLUENCE_data/installs/TauDEM/bin/threshold -ssa /work/comphyd_lab/data/CONFLUENCE_data/domain_South_America_tutorial/taudem-interim-files/d8/elv-ad8.tif -src /work/comphyd_lab/data/CONFLUENCE_data/domain_South_America_tutorial/taudem-interim-files/d8/elv-src.tif -thresh 7500\n"
     ]
    },
    {
     "name": "stdout",
     "output_type": "stream",
     "text": [
      "15:37:35 - ERROR - Error details: ERROR 4: /work/comphyd_lab/data/CONFLUENCE_data/domain_South_America_tutorial/taudem-interim-files/d8/elv-ad8.tif: No such file or directory\n",
      "--------------------------------------------------------------------------\n",
      "MPI_ABORT was invoked on rank 0 in communicator MPI_COMM_WORLD\n",
      "with errorcode 21.\n",
      "\n",
      "NOTE: invoking MPI_ABORT causes Open MPI to kill all MPI processes.\n",
      "You may or may not see output from other processes, depending on\n",
      "exactly when Open MPI kills them.\n",
      "--------------------------------------------------------------------------\n",
      "\n"
     ]
    },
    {
     "name": "stderr",
     "output_type": "stream",
     "text": [
      "2025-05-13 15:37:35,069 - confluence_general - ERROR - Error details: ERROR 4: /work/comphyd_lab/data/CONFLUENCE_data/domain_South_America_tutorial/taudem-interim-files/d8/elv-ad8.tif: No such file or directory\n",
      "--------------------------------------------------------------------------\n",
      "MPI_ABORT was invoked on rank 0 in communicator MPI_COMM_WORLD\n",
      "with errorcode 21.\n",
      "\n",
      "NOTE: invoking MPI_ABORT causes Open MPI to kill all MPI processes.\n",
      "You may or may not see output from other processes, depending on\n",
      "exactly when Open MPI kills them.\n",
      "--------------------------------------------------------------------------\n",
      "\n"
     ]
    },
    {
     "name": "stdout",
     "output_type": "stream",
     "text": [
      "15:37:35 - INFO - Retrying in 5 seconds...\n"
     ]
    },
    {
     "name": "stderr",
     "output_type": "stream",
     "text": [
      "2025-05-13 15:37:35,073 - confluence_general - INFO - Retrying in 5 seconds...\n"
     ]
    },
    {
     "name": "stdout",
     "output_type": "stream",
     "text": [
      "15:37:40 - INFO - Running command: mpirun -n 1 /work/comphyd_lab/data/CONFLUENCE_data/installs/TauDEM/bin/threshold -ssa /work/comphyd_lab/data/CONFLUENCE_data/domain_South_America_tutorial/taudem-interim-files/d8/elv-ad8.tif -src /work/comphyd_lab/data/CONFLUENCE_data/domain_South_America_tutorial/taudem-interim-files/d8/elv-src.tif -thresh 7500\n"
     ]
    },
    {
     "name": "stderr",
     "output_type": "stream",
     "text": [
      "2025-05-13 15:37:40,077 - confluence_general - INFO - Running command: mpirun -n 1 /work/comphyd_lab/data/CONFLUENCE_data/installs/TauDEM/bin/threshold -ssa /work/comphyd_lab/data/CONFLUENCE_data/domain_South_America_tutorial/taudem-interim-files/d8/elv-ad8.tif -src /work/comphyd_lab/data/CONFLUENCE_data/domain_South_America_tutorial/taudem-interim-files/d8/elv-src.tif -thresh 7500\n"
     ]
    },
    {
     "name": "stdout",
     "output_type": "stream",
     "text": [
      "15:37:41 - ERROR - Error executing command: mpirun -n 1 /work/comphyd_lab/data/CONFLUENCE_data/installs/TauDEM/bin/threshold -ssa /work/comphyd_lab/data/CONFLUENCE_data/domain_South_America_tutorial/taudem-interim-files/d8/elv-ad8.tif -src /work/comphyd_lab/data/CONFLUENCE_data/domain_South_America_tutorial/taudem-interim-files/d8/elv-src.tif -thresh 7500\n"
     ]
    },
    {
     "name": "stderr",
     "output_type": "stream",
     "text": [
      "2025-05-13 15:37:41,614 - confluence_general - ERROR - Error executing command: mpirun -n 1 /work/comphyd_lab/data/CONFLUENCE_data/installs/TauDEM/bin/threshold -ssa /work/comphyd_lab/data/CONFLUENCE_data/domain_South_America_tutorial/taudem-interim-files/d8/elv-ad8.tif -src /work/comphyd_lab/data/CONFLUENCE_data/domain_South_America_tutorial/taudem-interim-files/d8/elv-src.tif -thresh 7500\n"
     ]
    },
    {
     "name": "stdout",
     "output_type": "stream",
     "text": [
      "15:37:41 - ERROR - Error details: ERROR 4: /work/comphyd_lab/data/CONFLUENCE_data/domain_South_America_tutorial/taudem-interim-files/d8/elv-ad8.tif: No such file or directory\n",
      "--------------------------------------------------------------------------\n",
      "MPI_ABORT was invoked on rank 0 in communicator MPI_COMM_WORLD\n",
      "with errorcode 21.\n",
      "\n",
      "NOTE: invoking MPI_ABORT causes Open MPI to kill all MPI processes.\n",
      "You may or may not see output from other processes, depending on\n",
      "exactly when Open MPI kills them.\n",
      "--------------------------------------------------------------------------\n",
      "\n"
     ]
    },
    {
     "name": "stderr",
     "output_type": "stream",
     "text": [
      "2025-05-13 15:37:41,617 - confluence_general - ERROR - Error details: ERROR 4: /work/comphyd_lab/data/CONFLUENCE_data/domain_South_America_tutorial/taudem-interim-files/d8/elv-ad8.tif: No such file or directory\n",
      "--------------------------------------------------------------------------\n",
      "MPI_ABORT was invoked on rank 0 in communicator MPI_COMM_WORLD\n",
      "with errorcode 21.\n",
      "\n",
      "NOTE: invoking MPI_ABORT causes Open MPI to kill all MPI processes.\n",
      "You may or may not see output from other processes, depending on\n",
      "exactly when Open MPI kills them.\n",
      "--------------------------------------------------------------------------\n",
      "\n"
     ]
    },
    {
     "name": "stdout",
     "output_type": "stream",
     "text": [
      "15:37:41 - INFO - Retrying in 5 seconds...\n"
     ]
    },
    {
     "name": "stderr",
     "output_type": "stream",
     "text": [
      "2025-05-13 15:37:41,620 - confluence_general - INFO - Retrying in 5 seconds...\n"
     ]
    },
    {
     "name": "stdout",
     "output_type": "stream",
     "text": [
      "15:37:46 - INFO - Running command: mpirun -n 1 /work/comphyd_lab/data/CONFLUENCE_data/installs/TauDEM/bin/threshold -ssa /work/comphyd_lab/data/CONFLUENCE_data/domain_South_America_tutorial/taudem-interim-files/d8/elv-ad8.tif -src /work/comphyd_lab/data/CONFLUENCE_data/domain_South_America_tutorial/taudem-interim-files/d8/elv-src.tif -thresh 7500\n"
     ]
    },
    {
     "name": "stderr",
     "output_type": "stream",
     "text": [
      "2025-05-13 15:37:46,624 - confluence_general - INFO - Running command: mpirun -n 1 /work/comphyd_lab/data/CONFLUENCE_data/installs/TauDEM/bin/threshold -ssa /work/comphyd_lab/data/CONFLUENCE_data/domain_South_America_tutorial/taudem-interim-files/d8/elv-ad8.tif -src /work/comphyd_lab/data/CONFLUENCE_data/domain_South_America_tutorial/taudem-interim-files/d8/elv-src.tif -thresh 7500\n"
     ]
    },
    {
     "name": "stdout",
     "output_type": "stream",
     "text": [
      "15:37:48 - ERROR - Error executing command: mpirun -n 1 /work/comphyd_lab/data/CONFLUENCE_data/installs/TauDEM/bin/threshold -ssa /work/comphyd_lab/data/CONFLUENCE_data/domain_South_America_tutorial/taudem-interim-files/d8/elv-ad8.tif -src /work/comphyd_lab/data/CONFLUENCE_data/domain_South_America_tutorial/taudem-interim-files/d8/elv-src.tif -thresh 7500\n"
     ]
    },
    {
     "name": "stderr",
     "output_type": "stream",
     "text": [
      "2025-05-13 15:37:48,220 - confluence_general - ERROR - Error executing command: mpirun -n 1 /work/comphyd_lab/data/CONFLUENCE_data/installs/TauDEM/bin/threshold -ssa /work/comphyd_lab/data/CONFLUENCE_data/domain_South_America_tutorial/taudem-interim-files/d8/elv-ad8.tif -src /work/comphyd_lab/data/CONFLUENCE_data/domain_South_America_tutorial/taudem-interim-files/d8/elv-src.tif -thresh 7500\n"
     ]
    },
    {
     "name": "stdout",
     "output_type": "stream",
     "text": [
      "15:37:48 - ERROR - Error details: ERROR 4: /work/comphyd_lab/data/CONFLUENCE_data/domain_South_America_tutorial/taudem-interim-files/d8/elv-ad8.tif: No such file or directory\n",
      "--------------------------------------------------------------------------\n",
      "MPI_ABORT was invoked on rank 0 in communicator MPI_COMM_WORLD\n",
      "with errorcode 21.\n",
      "\n",
      "NOTE: invoking MPI_ABORT causes Open MPI to kill all MPI processes.\n",
      "You may or may not see output from other processes, depending on\n",
      "exactly when Open MPI kills them.\n",
      "--------------------------------------------------------------------------\n",
      "\n"
     ]
    },
    {
     "name": "stderr",
     "output_type": "stream",
     "text": [
      "2025-05-13 15:37:48,223 - confluence_general - ERROR - Error details: ERROR 4: /work/comphyd_lab/data/CONFLUENCE_data/domain_South_America_tutorial/taudem-interim-files/d8/elv-ad8.tif: No such file or directory\n",
      "--------------------------------------------------------------------------\n",
      "MPI_ABORT was invoked on rank 0 in communicator MPI_COMM_WORLD\n",
      "with errorcode 21.\n",
      "\n",
      "NOTE: invoking MPI_ABORT causes Open MPI to kill all MPI processes.\n",
      "You may or may not see output from other processes, depending on\n",
      "exactly when Open MPI kills them.\n",
      "--------------------------------------------------------------------------\n",
      "\n"
     ]
    },
    {
     "name": "stdout",
     "output_type": "stream",
     "text": [
      "15:37:48 - INFO - Trying without mpirun...\n"
     ]
    },
    {
     "name": "stderr",
     "output_type": "stream",
     "text": [
      "2025-05-13 15:37:48,226 - confluence_general - INFO - Trying without mpirun...\n"
     ]
    },
    {
     "name": "stdout",
     "output_type": "stream",
     "text": [
      "15:37:48 - INFO - Completed TauDEM step\n"
     ]
    },
    {
     "name": "stderr",
     "output_type": "stream",
     "text": [
      "2025-05-13 15:37:48,230 - confluence_general - INFO - Completed TauDEM step\n"
     ]
    },
    {
     "name": "stdout",
     "output_type": "stream",
     "text": [
      "15:37:48 - INFO - Running command: mpirun -n 1 /work/comphyd_lab/data/CONFLUENCE_data/installs/TauDEM/bin/moveoutletstostrm -p /work/comphyd_lab/data/CONFLUENCE_data/domain_South_America_tutorial/taudem-interim-files/d8/elv-fdir.tif -src /work/comphyd_lab/data/CONFLUENCE_data/domain_South_America_tutorial/taudem-interim-files/d8/elv-src.tif -o /work/comphyd_lab/data/CONFLUENCE_data/domain_South_America_tutorial/shapefiles/pour_point/South_America_tutorial_pourPoint.shp -om /work/comphyd_lab/data/CONFLUENCE_data/domain_South_America_tutorial/taudem-interim-files/d8/gauges.shp -md 200\n"
     ]
    },
    {
     "name": "stderr",
     "output_type": "stream",
     "text": [
      "2025-05-13 15:37:48,232 - confluence_general - INFO - Running command: mpirun -n 1 /work/comphyd_lab/data/CONFLUENCE_data/installs/TauDEM/bin/moveoutletstostrm -p /work/comphyd_lab/data/CONFLUENCE_data/domain_South_America_tutorial/taudem-interim-files/d8/elv-fdir.tif -src /work/comphyd_lab/data/CONFLUENCE_data/domain_South_America_tutorial/taudem-interim-files/d8/elv-src.tif -o /work/comphyd_lab/data/CONFLUENCE_data/domain_South_America_tutorial/shapefiles/pour_point/South_America_tutorial_pourPoint.shp -om /work/comphyd_lab/data/CONFLUENCE_data/domain_South_America_tutorial/taudem-interim-files/d8/gauges.shp -md 200\n"
     ]
    },
    {
     "name": "stdout",
     "output_type": "stream",
     "text": [
      "15:37:49 - ERROR - Error executing command: mpirun -n 1 /work/comphyd_lab/data/CONFLUENCE_data/installs/TauDEM/bin/moveoutletstostrm -p /work/comphyd_lab/data/CONFLUENCE_data/domain_South_America_tutorial/taudem-interim-files/d8/elv-fdir.tif -src /work/comphyd_lab/data/CONFLUENCE_data/domain_South_America_tutorial/taudem-interim-files/d8/elv-src.tif -o /work/comphyd_lab/data/CONFLUENCE_data/domain_South_America_tutorial/shapefiles/pour_point/South_America_tutorial_pourPoint.shp -om /work/comphyd_lab/data/CONFLUENCE_data/domain_South_America_tutorial/taudem-interim-files/d8/gauges.shp -md 200\n"
     ]
    },
    {
     "name": "stderr",
     "output_type": "stream",
     "text": [
      "2025-05-13 15:37:49,821 - confluence_general - ERROR - Error executing command: mpirun -n 1 /work/comphyd_lab/data/CONFLUENCE_data/installs/TauDEM/bin/moveoutletstostrm -p /work/comphyd_lab/data/CONFLUENCE_data/domain_South_America_tutorial/taudem-interim-files/d8/elv-fdir.tif -src /work/comphyd_lab/data/CONFLUENCE_data/domain_South_America_tutorial/taudem-interim-files/d8/elv-src.tif -o /work/comphyd_lab/data/CONFLUENCE_data/domain_South_America_tutorial/shapefiles/pour_point/South_America_tutorial_pourPoint.shp -om /work/comphyd_lab/data/CONFLUENCE_data/domain_South_America_tutorial/taudem-interim-files/d8/gauges.shp -md 200\n"
     ]
    },
    {
     "name": "stdout",
     "output_type": "stream",
     "text": [
      "15:37:49 - ERROR - Error details: ERROR 4: /work/comphyd_lab/data/CONFLUENCE_data/domain_South_America_tutorial/taudem-interim-files/d8/elv-src.tif: No such file or directory\n",
      "--------------------------------------------------------------------------\n",
      "MPI_ABORT was invoked on rank 0 in communicator MPI_COMM_WORLD\n",
      "with errorcode 21.\n",
      "\n",
      "NOTE: invoking MPI_ABORT causes Open MPI to kill all MPI processes.\n",
      "You may or may not see output from other processes, depending on\n",
      "exactly when Open MPI kills them.\n",
      "--------------------------------------------------------------------------\n",
      "\n"
     ]
    },
    {
     "name": "stderr",
     "output_type": "stream",
     "text": [
      "2025-05-13 15:37:49,824 - confluence_general - ERROR - Error details: ERROR 4: /work/comphyd_lab/data/CONFLUENCE_data/domain_South_America_tutorial/taudem-interim-files/d8/elv-src.tif: No such file or directory\n",
      "--------------------------------------------------------------------------\n",
      "MPI_ABORT was invoked on rank 0 in communicator MPI_COMM_WORLD\n",
      "with errorcode 21.\n",
      "\n",
      "NOTE: invoking MPI_ABORT causes Open MPI to kill all MPI processes.\n",
      "You may or may not see output from other processes, depending on\n",
      "exactly when Open MPI kills them.\n",
      "--------------------------------------------------------------------------\n",
      "\n"
     ]
    },
    {
     "name": "stdout",
     "output_type": "stream",
     "text": [
      "15:37:49 - INFO - Retrying in 5 seconds...\n"
     ]
    },
    {
     "name": "stderr",
     "output_type": "stream",
     "text": [
      "2025-05-13 15:37:49,828 - confluence_general - INFO - Retrying in 5 seconds...\n"
     ]
    },
    {
     "name": "stdout",
     "output_type": "stream",
     "text": [
      "15:37:54 - INFO - Running command: mpirun -n 1 /work/comphyd_lab/data/CONFLUENCE_data/installs/TauDEM/bin/moveoutletstostrm -p /work/comphyd_lab/data/CONFLUENCE_data/domain_South_America_tutorial/taudem-interim-files/d8/elv-fdir.tif -src /work/comphyd_lab/data/CONFLUENCE_data/domain_South_America_tutorial/taudem-interim-files/d8/elv-src.tif -o /work/comphyd_lab/data/CONFLUENCE_data/domain_South_America_tutorial/shapefiles/pour_point/South_America_tutorial_pourPoint.shp -om /work/comphyd_lab/data/CONFLUENCE_data/domain_South_America_tutorial/taudem-interim-files/d8/gauges.shp -md 200\n"
     ]
    },
    {
     "name": "stderr",
     "output_type": "stream",
     "text": [
      "2025-05-13 15:37:54,831 - confluence_general - INFO - Running command: mpirun -n 1 /work/comphyd_lab/data/CONFLUENCE_data/installs/TauDEM/bin/moveoutletstostrm -p /work/comphyd_lab/data/CONFLUENCE_data/domain_South_America_tutorial/taudem-interim-files/d8/elv-fdir.tif -src /work/comphyd_lab/data/CONFLUENCE_data/domain_South_America_tutorial/taudem-interim-files/d8/elv-src.tif -o /work/comphyd_lab/data/CONFLUENCE_data/domain_South_America_tutorial/shapefiles/pour_point/South_America_tutorial_pourPoint.shp -om /work/comphyd_lab/data/CONFLUENCE_data/domain_South_America_tutorial/taudem-interim-files/d8/gauges.shp -md 200\n"
     ]
    },
    {
     "name": "stdout",
     "output_type": "stream",
     "text": [
      "15:37:56 - ERROR - Error executing command: mpirun -n 1 /work/comphyd_lab/data/CONFLUENCE_data/installs/TauDEM/bin/moveoutletstostrm -p /work/comphyd_lab/data/CONFLUENCE_data/domain_South_America_tutorial/taudem-interim-files/d8/elv-fdir.tif -src /work/comphyd_lab/data/CONFLUENCE_data/domain_South_America_tutorial/taudem-interim-files/d8/elv-src.tif -o /work/comphyd_lab/data/CONFLUENCE_data/domain_South_America_tutorial/shapefiles/pour_point/South_America_tutorial_pourPoint.shp -om /work/comphyd_lab/data/CONFLUENCE_data/domain_South_America_tutorial/taudem-interim-files/d8/gauges.shp -md 200\n"
     ]
    },
    {
     "name": "stderr",
     "output_type": "stream",
     "text": [
      "2025-05-13 15:37:56,459 - confluence_general - ERROR - Error executing command: mpirun -n 1 /work/comphyd_lab/data/CONFLUENCE_data/installs/TauDEM/bin/moveoutletstostrm -p /work/comphyd_lab/data/CONFLUENCE_data/domain_South_America_tutorial/taudem-interim-files/d8/elv-fdir.tif -src /work/comphyd_lab/data/CONFLUENCE_data/domain_South_America_tutorial/taudem-interim-files/d8/elv-src.tif -o /work/comphyd_lab/data/CONFLUENCE_data/domain_South_America_tutorial/shapefiles/pour_point/South_America_tutorial_pourPoint.shp -om /work/comphyd_lab/data/CONFLUENCE_data/domain_South_America_tutorial/taudem-interim-files/d8/gauges.shp -md 200\n"
     ]
    },
    {
     "name": "stdout",
     "output_type": "stream",
     "text": [
      "15:37:56 - ERROR - Error details: ERROR 4: /work/comphyd_lab/data/CONFLUENCE_data/domain_South_America_tutorial/taudem-interim-files/d8/elv-src.tif: No such file or directory\n",
      "--------------------------------------------------------------------------\n",
      "MPI_ABORT was invoked on rank 0 in communicator MPI_COMM_WORLD\n",
      "with errorcode 21.\n",
      "\n",
      "NOTE: invoking MPI_ABORT causes Open MPI to kill all MPI processes.\n",
      "You may or may not see output from other processes, depending on\n",
      "exactly when Open MPI kills them.\n",
      "--------------------------------------------------------------------------\n",
      "\n"
     ]
    },
    {
     "name": "stderr",
     "output_type": "stream",
     "text": [
      "2025-05-13 15:37:56,461 - confluence_general - ERROR - Error details: ERROR 4: /work/comphyd_lab/data/CONFLUENCE_data/domain_South_America_tutorial/taudem-interim-files/d8/elv-src.tif: No such file or directory\n",
      "--------------------------------------------------------------------------\n",
      "MPI_ABORT was invoked on rank 0 in communicator MPI_COMM_WORLD\n",
      "with errorcode 21.\n",
      "\n",
      "NOTE: invoking MPI_ABORT causes Open MPI to kill all MPI processes.\n",
      "You may or may not see output from other processes, depending on\n",
      "exactly when Open MPI kills them.\n",
      "--------------------------------------------------------------------------\n",
      "\n"
     ]
    },
    {
     "name": "stdout",
     "output_type": "stream",
     "text": [
      "15:37:56 - INFO - Retrying in 5 seconds...\n"
     ]
    },
    {
     "name": "stderr",
     "output_type": "stream",
     "text": [
      "2025-05-13 15:37:56,463 - confluence_general - INFO - Retrying in 5 seconds...\n"
     ]
    },
    {
     "name": "stdout",
     "output_type": "stream",
     "text": [
      "15:38:01 - INFO - Running command: mpirun -n 1 /work/comphyd_lab/data/CONFLUENCE_data/installs/TauDEM/bin/moveoutletstostrm -p /work/comphyd_lab/data/CONFLUENCE_data/domain_South_America_tutorial/taudem-interim-files/d8/elv-fdir.tif -src /work/comphyd_lab/data/CONFLUENCE_data/domain_South_America_tutorial/taudem-interim-files/d8/elv-src.tif -o /work/comphyd_lab/data/CONFLUENCE_data/domain_South_America_tutorial/shapefiles/pour_point/South_America_tutorial_pourPoint.shp -om /work/comphyd_lab/data/CONFLUENCE_data/domain_South_America_tutorial/taudem-interim-files/d8/gauges.shp -md 200\n"
     ]
    },
    {
     "name": "stderr",
     "output_type": "stream",
     "text": [
      "2025-05-13 15:38:01,466 - confluence_general - INFO - Running command: mpirun -n 1 /work/comphyd_lab/data/CONFLUENCE_data/installs/TauDEM/bin/moveoutletstostrm -p /work/comphyd_lab/data/CONFLUENCE_data/domain_South_America_tutorial/taudem-interim-files/d8/elv-fdir.tif -src /work/comphyd_lab/data/CONFLUENCE_data/domain_South_America_tutorial/taudem-interim-files/d8/elv-src.tif -o /work/comphyd_lab/data/CONFLUENCE_data/domain_South_America_tutorial/shapefiles/pour_point/South_America_tutorial_pourPoint.shp -om /work/comphyd_lab/data/CONFLUENCE_data/domain_South_America_tutorial/taudem-interim-files/d8/gauges.shp -md 200\n"
     ]
    },
    {
     "name": "stdout",
     "output_type": "stream",
     "text": [
      "15:38:03 - ERROR - Error executing command: mpirun -n 1 /work/comphyd_lab/data/CONFLUENCE_data/installs/TauDEM/bin/moveoutletstostrm -p /work/comphyd_lab/data/CONFLUENCE_data/domain_South_America_tutorial/taudem-interim-files/d8/elv-fdir.tif -src /work/comphyd_lab/data/CONFLUENCE_data/domain_South_America_tutorial/taudem-interim-files/d8/elv-src.tif -o /work/comphyd_lab/data/CONFLUENCE_data/domain_South_America_tutorial/shapefiles/pour_point/South_America_tutorial_pourPoint.shp -om /work/comphyd_lab/data/CONFLUENCE_data/domain_South_America_tutorial/taudem-interim-files/d8/gauges.shp -md 200\n"
     ]
    },
    {
     "name": "stderr",
     "output_type": "stream",
     "text": [
      "2025-05-13 15:38:03,209 - confluence_general - ERROR - Error executing command: mpirun -n 1 /work/comphyd_lab/data/CONFLUENCE_data/installs/TauDEM/bin/moveoutletstostrm -p /work/comphyd_lab/data/CONFLUENCE_data/domain_South_America_tutorial/taudem-interim-files/d8/elv-fdir.tif -src /work/comphyd_lab/data/CONFLUENCE_data/domain_South_America_tutorial/taudem-interim-files/d8/elv-src.tif -o /work/comphyd_lab/data/CONFLUENCE_data/domain_South_America_tutorial/shapefiles/pour_point/South_America_tutorial_pourPoint.shp -om /work/comphyd_lab/data/CONFLUENCE_data/domain_South_America_tutorial/taudem-interim-files/d8/gauges.shp -md 200\n"
     ]
    },
    {
     "name": "stdout",
     "output_type": "stream",
     "text": [
      "15:38:03 - ERROR - Error details: ERROR 4: /work/comphyd_lab/data/CONFLUENCE_data/domain_South_America_tutorial/taudem-interim-files/d8/elv-src.tif: No such file or directory\n",
      "--------------------------------------------------------------------------\n",
      "MPI_ABORT was invoked on rank 0 in communicator MPI_COMM_WORLD\n",
      "with errorcode 21.\n",
      "\n",
      "NOTE: invoking MPI_ABORT causes Open MPI to kill all MPI processes.\n",
      "You may or may not see output from other processes, depending on\n",
      "exactly when Open MPI kills them.\n",
      "--------------------------------------------------------------------------\n",
      "\n"
     ]
    },
    {
     "name": "stderr",
     "output_type": "stream",
     "text": [
      "2025-05-13 15:38:03,211 - confluence_general - ERROR - Error details: ERROR 4: /work/comphyd_lab/data/CONFLUENCE_data/domain_South_America_tutorial/taudem-interim-files/d8/elv-src.tif: No such file or directory\n",
      "--------------------------------------------------------------------------\n",
      "MPI_ABORT was invoked on rank 0 in communicator MPI_COMM_WORLD\n",
      "with errorcode 21.\n",
      "\n",
      "NOTE: invoking MPI_ABORT causes Open MPI to kill all MPI processes.\n",
      "You may or may not see output from other processes, depending on\n",
      "exactly when Open MPI kills them.\n",
      "--------------------------------------------------------------------------\n",
      "\n"
     ]
    },
    {
     "name": "stdout",
     "output_type": "stream",
     "text": [
      "15:38:03 - INFO - Trying without mpirun...\n"
     ]
    },
    {
     "name": "stderr",
     "output_type": "stream",
     "text": [
      "2025-05-13 15:38:03,213 - confluence_general - INFO - Trying without mpirun...\n"
     ]
    },
    {
     "name": "stdout",
     "output_type": "stream",
     "text": [
      "15:38:03 - INFO - Completed TauDEM step\n"
     ]
    },
    {
     "name": "stderr",
     "output_type": "stream",
     "text": [
      "2025-05-13 15:38:03,216 - confluence_general - INFO - Completed TauDEM step\n"
     ]
    },
    {
     "name": "stdout",
     "output_type": "stream",
     "text": [
      "15:38:03 - INFO - Running command: mpirun -n 1 /work/comphyd_lab/data/CONFLUENCE_data/installs/TauDEM/bin/streamnet -fel /work/comphyd_lab/data/CONFLUENCE_data/domain_South_America_tutorial/taudem-interim-files/d8/elv-fel.tif -p /work/comphyd_lab/data/CONFLUENCE_data/domain_South_America_tutorial/taudem-interim-files/d8/elv-fdir.tif -ad8 /work/comphyd_lab/data/CONFLUENCE_data/domain_South_America_tutorial/taudem-interim-files/d8/elv-ad8.tif -src /work/comphyd_lab/data/CONFLUENCE_data/domain_South_America_tutorial/taudem-interim-files/d8/elv-src.tif -ord /work/comphyd_lab/data/CONFLUENCE_data/domain_South_America_tutorial/taudem-interim-files/d8/elv-ord.tif -tree /work/comphyd_lab/data/CONFLUENCE_data/domain_South_America_tutorial/taudem-interim-files/d8/basin-tree.dat -coord /work/comphyd_lab/data/CONFLUENCE_data/domain_South_America_tutorial/taudem-interim-files/d8/basin-coord.dat -net /work/comphyd_lab/data/CONFLUENCE_data/domain_South_America_tutorial/taudem-interim-files/d8/basin-streams.shp -o /work/comphyd_lab/data/CONFLUENCE_data/domain_South_America_tutorial/taudem-interim-files/d8/gauges.shp -w /work/comphyd_lab/data/CONFLUENCE_data/domain_South_America_tutorial/taudem-interim-files/d8/elv-watersheds.tif\n"
     ]
    },
    {
     "name": "stderr",
     "output_type": "stream",
     "text": [
      "2025-05-13 15:38:03,219 - confluence_general - INFO - Running command: mpirun -n 1 /work/comphyd_lab/data/CONFLUENCE_data/installs/TauDEM/bin/streamnet -fel /work/comphyd_lab/data/CONFLUENCE_data/domain_South_America_tutorial/taudem-interim-files/d8/elv-fel.tif -p /work/comphyd_lab/data/CONFLUENCE_data/domain_South_America_tutorial/taudem-interim-files/d8/elv-fdir.tif -ad8 /work/comphyd_lab/data/CONFLUENCE_data/domain_South_America_tutorial/taudem-interim-files/d8/elv-ad8.tif -src /work/comphyd_lab/data/CONFLUENCE_data/domain_South_America_tutorial/taudem-interim-files/d8/elv-src.tif -ord /work/comphyd_lab/data/CONFLUENCE_data/domain_South_America_tutorial/taudem-interim-files/d8/elv-ord.tif -tree /work/comphyd_lab/data/CONFLUENCE_data/domain_South_America_tutorial/taudem-interim-files/d8/basin-tree.dat -coord /work/comphyd_lab/data/CONFLUENCE_data/domain_South_America_tutorial/taudem-interim-files/d8/basin-coord.dat -net /work/comphyd_lab/data/CONFLUENCE_data/domain_South_America_tutorial/taudem-interim-files/d8/basin-streams.shp -o /work/comphyd_lab/data/CONFLUENCE_data/domain_South_America_tutorial/taudem-interim-files/d8/gauges.shp -w /work/comphyd_lab/data/CONFLUENCE_data/domain_South_America_tutorial/taudem-interim-files/d8/elv-watersheds.tif\n"
     ]
    },
    {
     "name": "stdout",
     "output_type": "stream",
     "text": [
      "15:38:04 - ERROR - Error executing command: mpirun -n 1 /work/comphyd_lab/data/CONFLUENCE_data/installs/TauDEM/bin/streamnet -fel /work/comphyd_lab/data/CONFLUENCE_data/domain_South_America_tutorial/taudem-interim-files/d8/elv-fel.tif -p /work/comphyd_lab/data/CONFLUENCE_data/domain_South_America_tutorial/taudem-interim-files/d8/elv-fdir.tif -ad8 /work/comphyd_lab/data/CONFLUENCE_data/domain_South_America_tutorial/taudem-interim-files/d8/elv-ad8.tif -src /work/comphyd_lab/data/CONFLUENCE_data/domain_South_America_tutorial/taudem-interim-files/d8/elv-src.tif -ord /work/comphyd_lab/data/CONFLUENCE_data/domain_South_America_tutorial/taudem-interim-files/d8/elv-ord.tif -tree /work/comphyd_lab/data/CONFLUENCE_data/domain_South_America_tutorial/taudem-interim-files/d8/basin-tree.dat -coord /work/comphyd_lab/data/CONFLUENCE_data/domain_South_America_tutorial/taudem-interim-files/d8/basin-coord.dat -net /work/comphyd_lab/data/CONFLUENCE_data/domain_South_America_tutorial/taudem-interim-files/d8/basin-streams.shp -o /work/comphyd_lab/data/CONFLUENCE_data/domain_South_America_tutorial/taudem-interim-files/d8/gauges.shp -w /work/comphyd_lab/data/CONFLUENCE_data/domain_South_America_tutorial/taudem-interim-files/d8/elv-watersheds.tif\n"
     ]
    },
    {
     "name": "stderr",
     "output_type": "stream",
     "text": [
      "2025-05-13 15:38:04,824 - confluence_general - ERROR - Error executing command: mpirun -n 1 /work/comphyd_lab/data/CONFLUENCE_data/installs/TauDEM/bin/streamnet -fel /work/comphyd_lab/data/CONFLUENCE_data/domain_South_America_tutorial/taudem-interim-files/d8/elv-fel.tif -p /work/comphyd_lab/data/CONFLUENCE_data/domain_South_America_tutorial/taudem-interim-files/d8/elv-fdir.tif -ad8 /work/comphyd_lab/data/CONFLUENCE_data/domain_South_America_tutorial/taudem-interim-files/d8/elv-ad8.tif -src /work/comphyd_lab/data/CONFLUENCE_data/domain_South_America_tutorial/taudem-interim-files/d8/elv-src.tif -ord /work/comphyd_lab/data/CONFLUENCE_data/domain_South_America_tutorial/taudem-interim-files/d8/elv-ord.tif -tree /work/comphyd_lab/data/CONFLUENCE_data/domain_South_America_tutorial/taudem-interim-files/d8/basin-tree.dat -coord /work/comphyd_lab/data/CONFLUENCE_data/domain_South_America_tutorial/taudem-interim-files/d8/basin-coord.dat -net /work/comphyd_lab/data/CONFLUENCE_data/domain_South_America_tutorial/taudem-interim-files/d8/basin-streams.shp -o /work/comphyd_lab/data/CONFLUENCE_data/domain_South_America_tutorial/taudem-interim-files/d8/gauges.shp -w /work/comphyd_lab/data/CONFLUENCE_data/domain_South_America_tutorial/taudem-interim-files/d8/elv-watersheds.tif\n"
     ]
    },
    {
     "name": "stdout",
     "output_type": "stream",
     "text": [
      "15:38:04 - ERROR - Error details: ERROR 4: /work/comphyd_lab/data/CONFLUENCE_data/domain_South_America_tutorial/taudem-interim-files/d8/elv-src.tif: No such file or directory\n",
      "--------------------------------------------------------------------------\n",
      "MPI_ABORT was invoked on rank 0 in communicator MPI_COMM_WORLD\n",
      "with errorcode 21.\n",
      "\n",
      "NOTE: invoking MPI_ABORT causes Open MPI to kill all MPI processes.\n",
      "You may or may not see output from other processes, depending on\n",
      "exactly when Open MPI kills them.\n",
      "--------------------------------------------------------------------------\n",
      "\n"
     ]
    },
    {
     "name": "stderr",
     "output_type": "stream",
     "text": [
      "2025-05-13 15:38:04,827 - confluence_general - ERROR - Error details: ERROR 4: /work/comphyd_lab/data/CONFLUENCE_data/domain_South_America_tutorial/taudem-interim-files/d8/elv-src.tif: No such file or directory\n",
      "--------------------------------------------------------------------------\n",
      "MPI_ABORT was invoked on rank 0 in communicator MPI_COMM_WORLD\n",
      "with errorcode 21.\n",
      "\n",
      "NOTE: invoking MPI_ABORT causes Open MPI to kill all MPI processes.\n",
      "You may or may not see output from other processes, depending on\n",
      "exactly when Open MPI kills them.\n",
      "--------------------------------------------------------------------------\n",
      "\n"
     ]
    },
    {
     "name": "stdout",
     "output_type": "stream",
     "text": [
      "15:38:04 - INFO - Retrying in 5 seconds...\n"
     ]
    },
    {
     "name": "stderr",
     "output_type": "stream",
     "text": [
      "2025-05-13 15:38:04,830 - confluence_general - INFO - Retrying in 5 seconds...\n"
     ]
    }
   ],
   "source": [
    "# Define continental domain\n",
    "print(\"Delineating continental domain...\")\n",
    "print(f\"Method: {confluence.config['DOMAIN_DEFINITION_METHOD']}\")\n",
    "print(f\"Stream threshold: {confluence.config['STREAM_THRESHOLD']} (high for continent)\")\n",
    "print(f\"MPI processes: {confluence.config['MPI_PROCESSES']} (parallel processing)\")\n",
    "print(\"This creates thousands of watersheds across North America...\")\n",
    "print(\"⚠️ Warning: This step may take several hours on high-performance computing resources\")\n",
    "\n",
    "watershed_path = confluence.managers['domain'].define_domain()\n",
    "\n",
    "# Check results\n",
    "basin_path = project_dir / 'shapefiles' / 'river_basins'\n",
    "network_path = project_dir / 'shapefiles' / 'river_network'\n",
    "\n",
    "basin_count = 0\n",
    "if basin_path.exists():\n",
    "    basin_files = list(basin_path.glob('*.shp'))\n",
    "    if basin_files:\n",
    "        basins = gpd.read_file(basin_files[0])\n",
    "        basin_count = len(basins)\n",
    "        print(f\"\\n✓ Created {basin_count} watersheds across North America\")\n",
    "        print(f\"Total area: {basins.geometry.area.sum() / 1e6:.0f} km²\")\n",
    "\n",
    "network_count = 0\n",
    "if network_path.exists():\n",
    "    network_files = list(network_path.glob('*.shp'))\n",
    "    if network_files:\n",
    "        rivers = gpd.read_file(network_files[0])\n",
    "        network_count = len(rivers)\n",
    "        print(f\"✓ Created river network with {network_count} segments\")"
   ]
  },
  {
   "cell_type": "markdown",
   "metadata": {},
   "source": [
    "## 7. Continental Watershed Discretization\n",
    "Now we need to discretize our continental domain into GRUs and HRUs, which will create tens of thousands of computational units."
   ]
  },
  {
   "cell_type": "code",
   "execution_count": null,
   "metadata": {},
   "outputs": [],
   "source": [
    "# Discretize continental domain\n",
    "print(f\"Creating continental HRUs using method: {confluence.config['DOMAIN_DISCRETIZATION']}\")\n",
    "print(\"⚠️ Warning: This step may take many hours and require significant memory\")\n",
    "print(f\"Minimum GRU size: {confluence.config['MIN_GRU_SIZE']} km² (larger than regional domain)\")\n",
    "\n",
    "hru_path = confluence.managers['domain'].discretize_domain()\n",
    "\n",
    "# Check results\n",
    "hru_path = project_dir / 'shapefiles' / 'catchment'\n",
    "if hru_path.exists():\n",
    "    hru_files = list(hru_path.glob('*.shp'))\n",
    "    if hru_files:\n",
    "        # Note: For continental scale, we might not want to load all HRUs at once\n",
    "        print(\"\\n⚠️ Continental HRU file may be very large. Loading sample statistics instead.\")\n",
    "        \n",
    "        # Get basic file stats without loading entire shapefile\n",
    "        hru_file_size = hru_files[0].stat().st_size / (1024**2)  # Size in MB\n",
    "        print(f\"HRU shapefile size: {hru_file_size:.1f} MB\")\n",
    "        \n",
    "        # Option to load a small sample of HRUs for statistics\n",
    "        print(\"Loading small sample of HRUs for statistics...\")\n",
    "        sample_size = min(1000, basin_count)  # Limit sample size\n",
    "        hru_sample = gpd.read_file(hru_files[0], rows=slice(0, sample_size))\n",
    "        \n",
    "        print(f\"Sample contains {len(hru_sample)} HRUs\")\n",
    "        sample_grus = hru_sample['GRU_ID'].nunique()\n",
    "        print(f\"GRUs in sample: {sample_grus}\")\n",
    "        \n",
    "        # Estimate total counts\n",
    "        if basin_count > 0 and sample_grus > 0:\n",
    "            est_hru_total = len(hru_sample) * (basin_count / sample_grus)\n",
    "            print(f\"Estimated total HRUs: ~{est_hru_total:.0f} (based on sample)\")\n",
    "        \n",
    "        print(\"\\nContinental statistics:\")\n",
    "        print(f\"  - Total watersheds (GRUs): ~{basin_count}\")\n",
    "        print(f\"  - Computational units (HRUs): Tens to hundreds of thousands\")\n",
    "        print(f\"  - Domain extent: {abs(lat_max - lat_min):.1f}° latitude × {abs(lon_max - lon_min):.1f}° longitude\")"
   ]
  },
  {
   "cell_type": "markdown",
   "metadata": {},
   "source": [
    "## 8. Model Agnostic Processing - Continental Forcing Data\n",
    "For continental domains, forcing data acquisition and processing is particularly data-intensive."
   ]
  },
  {
   "cell_type": "code",
   "execution_count": null,
   "metadata": {},
   "outputs": [],
   "source": [
    "# Step 3: Model Agnostic Data Pre-Processing\n",
    "print(\"=== Step 3: Model Agnostic Data Pre-Processing ===\")\n",
    "\n",
    "# Process observed data\n",
    "print(\"Processing observed streamflow data...\")\n",
    "print(\"Note: For continental modeling, we often use a subset of gauged watersheds for evaluation\")\n",
    "confluence.managers['data'].process_observed_data()\n",
    "\n",
    "# Acquire continental-scale forcings\n",
    "print(f\"\\nAcquiring continental forcing data: {confluence.config['FORCING_DATASET']}\")\n",
    "print(\"Expected data size: 10s to 100s of GB\")\n",
    "print(f\"Period: {confluence.config['EXPERIMENT_TIME_START']} to {confluence.config['EXPERIMENT_TIME_END']}\")\n",
    "print(\"⚠️ Warning: This step will take several hours and require significant storage\")\n",
    "confluence.managers['data'].acquire_forcings()\n",
    "\n",
    "# Run model-agnostic preprocessing\n",
    "print(\"\\nRunning continental-scale model-agnostic preprocessing...\")\n",
    "print(\"This step remaps climate data to tens of thousands of HRUs\")\n",
    "print(\"⚠️ Warning: High memory requirements (10s of GB)\")\n",
    "confluence.managers['data'].run_model_agnostic_preprocessing()"
   ]
  },
  {
   "cell_type": "markdown",
   "metadata": {},
   "source": [
    "## 9. Model-Specific Preprocessing for Continental Domain\n",
    "Preparing model input files for continental-scale modeling presents unique challenges."
   ]
  },
  {
   "cell_type": "code",
   "execution_count": null,
   "metadata": {},
   "outputs": [],
   "source": [
    "# Step 4: Model Specific Processing and Initialization\n",
    "print(\"=== Step 4: Model Specific Processing and Initialization ===\")\n",
    "\n",
    "# Preprocess models\n",
    "print(f\"Preparing continental-scale {confluence.config['HYDROLOGICAL_MODEL']} input files...\")\n",
    "print(f\"Model: {confluence.config['HYDROLOGICAL_MODEL']}\")\n",
    "print(f\"Routing: {confluence.config['ROUTING_MODEL']}\")\n",
    "print(\"⚠️ Warning: This will create very large input files\")\n",
    "print(\"Expected file sizes: Several GB per input file\")\n",
    "confluence.managers['model'].preprocess_models()\n",
    "\n",
    "print(\"\\n=== Continental Model Configuration Complete ===\")\n",
    "print(f\"Model: {confluence.config['HYDROLOGICAL_MODEL']}\")\n",
    "print(f\"Domain: {confluence.config['DOMAIN_NAME']}\")\n",
    "print(f\"Number of GRUs: ~{basin_count}\")\n",
    "print(\"Number of HRUs: Tens to hundreds of thousands\")\n",
    "print(\"\\nModel is now ready for execution with high-performance computing resources\")"
   ]
  },
  {
   "cell_type": "markdown",
   "metadata": {},
   "source": [
    "## 10. Continental Model Running Considerations\n",
    "For demonstration, we'll discuss running a continental model without actually running it, as it would require significant computational resources."
   ]
  },
  {
   "cell_type": "code",
   "execution_count": null,
   "metadata": {},
   "outputs": [],
   "source": [
    "# Note: We don't actually run the continental model here\n",
    "print(\"=== Continental Model Execution Considerations ===\")\n",
    "print(\"Running a continental-scale model requires significant HPC resources.\")\n",
    "print(\"\\nTo run the model (when adequate resources are available):\")\n",
    "print(\"  confluence.managers['model'].run_models()\")\n",
    "\n",
    "print(\"\\nTypical resource requirements:\")\n",
    "print(\"  - Memory: 100+ GB RAM\")\n",
    "print(\"  - CPU: 40+ cores for parallel processing\")\n",
    "print(\"  - Storage: 1+ TB for inputs/outputs\")\n",
    "print(\"  - Runtime: Days to weeks\")\n",
    "\n",
    "print(\"\\nCommon execution strategies:\")\n",
    "print(\"  1. Break continent into regions and run separately\")\n",
    "print(\"  2. Use MPI for massive parallelization\")\n",
    "print(\"  3. Run shorter test periods before full simulation\")\n",
    "print(\"  4. Use HPC job scheduling for long-running simulations\")\n",
    "\n",
    "print(\"\\nFor this tutorial, we've completed the continental model setup\")\n",
    "print(\"without running the full model due to computational constraints.\")"
   ]
  },
  {
   "cell_type": "markdown",
   "metadata": {},
   "source": [
    "## 11. Continental-Scale Considerations\n",
    "\n",
    "### Computational Requirements\n",
    "- **Memory**: 100+ GB for data processing\n",
    "- **Storage**: 1+ TB for inputs/outputs\n",
    "- **CPU**: High parallelization (40+ cores)\n",
    "- **Runtime**: Days to weeks for full simulations\n",
    "\n",
    "### Key Configuration Differences\n",
    "```yaml\n",
    "STREAM_THRESHOLD: 7500        # Higher for continental scale\n",
    "MPI_PROCESSES: 40            # More parallel processes\n",
    "MIN_GRU_SIZE: 50             # Larger minimum size to manage computational load\n",
    "FORCING_DATASET: ERA5        # Global reanalysis data\n",
    "```\n",
    "\n",
    "### Challenges at Continental Scale\n",
    "1. **Data Volume**: TB of input/output data\n",
    "2. **Heterogeneity**: Diverse climates, terrains, vegetation\n",
    "3. **Calibration**: How to calibrate thousands of watersheds?\n",
    "4. **Validation**: Limited observations for many basins\n",
    "5. **Computation**: Requires HPC resources\n",
    "\n",
    "### Use Cases\n",
    "- Climate change impact assessment\n",
    "- Continental water balance\n",
    "- Large-scale flood forecasting\n",
    "- Water resources planning\n",
    "- Earth system modeling"
   ]
  },
  {
   "cell_type": "markdown",
   "metadata": {},
   "source": [
    "## 12. Summary\n",
    "Let's summarize what we've accomplished with our continental-scale setup."
   ]
  },
  {
   "cell_type": "code",
   "execution_count": null,
   "metadata": {},
   "outputs": [],
   "source": [
    "# Final summary\n",
    "print(\"=== Continental Model Setup Complete ===\\n\")\n",
    "print(f\"Domain: {confluence.config['DOMAIN_NAME']}\")\n",
    "print(f\"Scale: Continental (~24.7 million km²)\")\n",
    "print(f\"Model: {confluence.config['HYDROLOGICAL_MODEL']}\")\n",
    "print(f\"Status: Ready for simulation\")\n",
    "\n",
    "print(\"\\nScale progression in tutorials:\")\n",
    "print(\"  1. Watershed: Bow at Banff (~2,200 km²)\")\n",
    "print(\"  2. Country: Iceland (~103,000 km²)\")\n",
    "print(\"  3. Continent: North America (~24,700,000 km²)\")\n",
    "\n",
    "print(\"\\nKey output locations:\")\n",
    "print(f\"  - Basin shapefiles: {basin_path}\")\n",
    "print(f\"  - River network: {network_path}\")\n",
    "print(f\"  - HRU shapefiles: {hru_path}\")\n",
    "print(f\"  - Model settings: {project_dir}/settings/{confluence.config['HYDROLOGICAL_MODEL']}/\")\n",
    "print(f\"  - Future simulation results: {project_dir}/simulations/{confluence.config['EXPERIMENT_ID']}/\")\n",
    "\n",
    "print(\"\\n🎉 You've successfully scaled from watershed to continent!\")"
   ]
  }
 ],
 "metadata": {
  "kernelspec": {
   "display_name": "Python 3 (ipykernel)",
   "language": "python",
   "name": "python3"
  },
  "language_info": {
   "codemirror_mode": {
    "name": "ipython",
    "version": 3
   },
   "file_extension": ".py",
   "mimetype": "text/x-python",
   "name": "python",
   "nbconvert_exporter": "python",
   "pygments_lexer": "ipython3",
   "version": "3.11.7"
  }
 },
 "nbformat": 4,
 "nbformat_minor": 4
}
