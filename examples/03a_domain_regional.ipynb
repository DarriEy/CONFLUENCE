{
 "cells": [
  {
   "cell_type": "markdown",
   "metadata": {},
   "source": [
    "# CONFLUENCE Tutorial: Regional Domain Modeling - Iceland\n",
    "\n",
    "This notebook demonstrates regional domain modeling using Iceland as an example. Unlike previous tutorials that focused on single watersheds, this example:\n",
    "\n",
    "1. **Delineates an entire region** (not just a single watershed)\n",
    "2. **Includes coastal watersheds** (watersheds that drain directly to the ocean)\n",
    "\n",
    "\n",
    "## Learning Objectives\n",
    "\n",
    "1. Understand regional vs. watershed-scale modeling\n",
    "2. Learn how to delineate coastal watersheds\n",
    "3. Handle multiple independent drainage systems\n",
    "4. Work with national/regional scale domains"
   ]
  },
  {
   "cell_type": "markdown",
   "metadata": {},
   "source": [
    "## 1. Setup"
   ]
  },
  {
   "cell_type": "code",
   "execution_count": null,
   "metadata": {},
   "outputs": [],
   "source": [
    "# Import required libraries\n",
    "import sys\n",
    "import os\n",
    "from pathlib import Path\n",
    "import yaml\n",
    "import pandas as pd\n",
    "import matplotlib.pyplot as plt\n",
    "import geopandas as gpd\n",
    "import numpy as np\n",
    "from shapely.geometry import box\n",
    "import contextily as cx\n",
    "from datetime import datetime\n",
    "import xarray as xr\n",
    "import warnings\n",
    "\n",
    "# Suppress specific warnings\n",
    "warnings.filterwarnings(\"ignore\", category=UserWarning)\n",
    "warnings.filterwarnings(\"ignore\", category=FutureWarning)\n",
    "\n",
    "# Add CONFLUENCE to path\n",
    "confluence_path = Path('../').resolve()\n",
    "sys.path.append(str(confluence_path))\n",
    "\n",
    "# Import CONFLUENCE\n",
    "from CONFLUENCE import CONFLUENCE\n",
    "\n",
    "plt.style.use('default')\n",
    "%matplotlib inline"
   ]
  },
  {
   "cell_type": "markdown",
   "metadata": {},
   "source": [
    "## 2. Initialize CONFLUENCE\n",
    "First, let's set up our directories and load the configuration. We'll customize the Iceland configuration file."
   ]
  },
  {
   "cell_type": "code",
   "execution_count": null,
   "metadata": {
    "scrolled": true
   },
   "outputs": [],
   "source": [
    "# Set directory paths\n",
    "CONFLUENCE_CODE_DIR = confluence_path\n",
    "CONFLUENCE_DATA_DIR = Path('/work/comphyd_lab/data/CONFLUENCE_data')  # ← User should modify this path\n",
    "\n",
    "# Load Iceland configuration\n",
    "iceland_config_path = CONFLUENCE_CODE_DIR / '0_config_files' / 'config_Iceland.yaml'\n",
    "with open(iceland_config_path, 'r') as f:\n",
    "    config_dict = yaml.safe_load(f)\n",
    "\n",
    "# Create tutorial version with updated domain name\n",
    "config_dict['DOMAIN_NAME'] = \"Iceland_tutorial\"  \n",
    "config_dict['EXPERIMENT_ID'] = \"tutorial_run_1\"\n",
    "config_dict['EXPERIMENT_TIME_START'] = '2011-01-01 01:00'\n",
    "config_dict['EXPERIMENT_TIME_END'] = '2022-12-31 23:00'\n",
    "\n",
    "# Create config directory if it doesn't exist\n",
    "config_dir = CONFLUENCE_CODE_DIR / '0_config_files'\n",
    "config_dir.mkdir(parents=True, exist_ok=True)\n",
    "\n",
    "# Write to tutorial config file\n",
    "tutorial_config_path = config_dir / 'config_iceland_tutorial.yaml'\n",
    "with open(tutorial_config_path, 'w') as f:\n",
    "    yaml.dump(config_dict, f)\n",
    "\n",
    "# Initialize CONFLUENCE with tutorial config\n",
    "confluence = CONFLUENCE(tutorial_config_path)\n",
    "\n",
    "# Parse bounding box for visualization\n",
    "bbox = config_dict['BOUNDING_BOX_COORDS'].split('/')\n",
    "lat_max, lon_min, lat_min, lon_max = map(float, bbox)\n",
    "\n",
    "# Display configuration\n",
    "print(\"=== Iceland Tutorial Configuration ===\")\n",
    "print(f\"Domain Name: {confluence.config['DOMAIN_NAME']}\")\n",
    "print(f\"Bounding Box: {confluence.config['BOUNDING_BOX_COORDS']}\")\n",
    "print(f\"Delineate by Pour Point: {confluence.config['DELINEATE_BY_POURPOINT']} (Full region!)\")\n",
    "print(f\"Include Coastal Watersheds: {confluence.config.get('DELINEATE_COASTAL_WATERSHEDS', True)}\")\n",
    "print(f\"Stream Threshold: {confluence.config['STREAM_THRESHOLD']}\")\n",
    "print(f\"Domain Method: {confluence.config['DOMAIN_DEFINITION_METHOD']}\")"
   ]
  },
  {
   "cell_type": "markdown",
   "metadata": {},
   "source": [
    "## 4. Project Setup\n",
    "The first step is to set up our project structure. Since we're doing a regional model, we need a different approach than for a single watershed."
   ]
  },
  {
   "cell_type": "code",
   "execution_count": null,
   "metadata": {
    "scrolled": true
   },
   "outputs": [],
   "source": [
    "project_dir = confluence.managers['project'].setup_project()    \n",
    "pour_point_path = confluence.managers['project'].create_pour_point()\n",
    "\n",
    "# List created directories\n",
    "print(\"\\nCreated directories:\")\n",
    "created_dirs = []\n",
    "for item in sorted(project_dir.iterdir()):\n",
    "    if item.is_dir():\n",
    "        created_dirs.append(item.name)\n",
    "        print(f\"  📁 {item.name}\")\n",
    "\n",
    "# Check if all required directories are created\n",
    "required_dirs = ['shapefiles', 'attributes', 'forcing', 'simulations', 'evaluation', 'plots']\n",
    "for dir_name in required_dirs:\n",
    "    if dir_name not in created_dirs:\n",
    "        print(f\"Warning: Required directory '{dir_name}' not created\")\n",
    "\n",
    "print(\"\\nDirectory purposes:\")\n",
    "print(\"  shapefiles: Domain geometry (multiple watersheds, river network)\")\n",
    "print(\"  attributes: Static characteristics (elevation, soil, land cover)\")\n",
    "print(\"  forcing: Meteorological inputs (precipitation, temperature)\")\n",
    "print(\"  simulations: Model outputs\")\n",
    "print(\"  evaluation: Performance metrics and comparisons\")\n",
    "print(\"  plots: Visualizations\")\n"
   ]
  },
  {
   "cell_type": "markdown",
   "metadata": {},
   "source": [
    "## 5. Geospatial Domain Definition and Analysis - Data Acquisition\n",
    "Before delineating the region, we need to acquire geospatial data (DEM, soil, land cover)."
   ]
  },
  {
   "cell_type": "code",
   "execution_count": null,
   "metadata": {
    "scrolled": true
   },
   "outputs": [],
   "source": [
    "print(\"Acquiring geospatial attributes (DEM, soil, land cover)...\")\n",
    "confluence.managers['data'].acquire_attributes()"
   ]
  },
  {
   "cell_type": "markdown",
   "metadata": {},
   "source": [
    "## 6. Regional Domain Delineation\n",
    "This is the critical step where we delineate the entire region, including coastal watersheds. This is different from the single-watershed approach."
   ]
  },
  {
   "cell_type": "code",
   "execution_count": null,
   "metadata": {
    "scrolled": true
   },
   "outputs": [],
   "source": [
    "print(f\"Delineating regional domain using method: {confluence.config['DOMAIN_DEFINITION_METHOD']}\")\n",
    "print(f\"Delineate by pour point: {confluence.config['DELINEATE_BY_POURPOINT']} (Full region!)\")\n",
    "print(f\"Include coastal watersheds: {confluence.config.get('DELINEATE_COASTAL_WATERSHEDS', True)}\")\n",
    "print(f\"Stream threshold: {confluence.config['STREAM_THRESHOLD']}\")\n",
    "print(\"\\nThis will create multiple independent drainage basins...\")\n",
    "\n",
    "watershed_path = confluence.managers['domain'].define_domain()\n",
    "\n",
    "# Check results\n",
    "basin_path = project_dir / 'shapefiles' / 'river_basins'\n",
    "network_path = project_dir / 'shapefiles' / 'river_network'\n",
    "\n",
    "basin_count = 0\n",
    "basin_files = []\n",
    "basins = None\n",
    "if basin_path.exists():\n",
    "    basin_files = list(basin_path.glob('*.shp'))\n",
    "    if basin_files:\n",
    "        try:\n",
    "            basins = gpd.read_file(basin_files[0])\n",
    "            basin_count = len(basins)\n",
    "            print(f\"\\n✓ Created {basin_count} watersheds\")\n",
    "            print(f\"Total area: {basins.geometry.area.sum() / 1e6:.0f} km²\")\n",
    "        except Exception as e:\n",
    "            print(f\"Error reading basin shapefile: {str(e)}\")\n",
    "\n",
    "network_count = 0\n",
    "network_files = []\n",
    "rivers = None\n",
    "if network_path.exists():\n",
    "    network_files = list(network_path.glob('*.shp'))\n",
    "    if network_files:\n",
    "        try:\n",
    "            rivers = gpd.read_file(network_files[0])\n",
    "            network_count = len(rivers)\n",
    "            print(f\"✓ Created river network with {network_count} segments\")\n",
    "        except Exception as e:\n",
    "            print(f\"Error reading river network shapefile: {str(e)}\")\n",
    "            \n",
    "if not basin_files:\n",
    "    print(\"⚠ No basin shapefiles found. Domain delineation may have failed.\")\n",
    "if not network_files:\n",
    "    print(\"⚠ No river network shapefiles found. Stream delineation may have failed.\")"
   ]
  },
  {
   "cell_type": "markdown",
   "metadata": {},
   "source": [
    "## 7. Watershed Discretization\n",
    "Now we need to discretize our domain into GRUs (Grouped Response Units) and HRUs (Hydrologic Response Units)."
   ]
  },
  {
   "cell_type": "code",
   "execution_count": null,
   "metadata": {
    "scrolled": true
   },
   "outputs": [],
   "source": [
    "print(f\"Creating HRUs using method: {confluence.config['DOMAIN_DISCRETIZATION']}\")\n",
    "hru_path = confluence.managers['domain'].discretize_domain()"
   ]
  },
  {
   "cell_type": "markdown",
   "metadata": {},
   "source": [
    "## 8. Visualize Regional Domain\n",
    "Let's visualize what our regional domain looks like with all delineated watersheds."
   ]
  },
  {
   "cell_type": "code",
   "execution_count": null,
   "metadata": {},
   "outputs": [],
   "source": [
    "# Create CONFLUENCE domain visualization\n",
    "print(\"Creating regional domain visualization...\")\n",
    "if hasattr(confluence.managers['domain'], 'plot_domain'):\n",
    "    plot_paths = confluence.managers['domain'].plot_domain()\n",
    "else:\n",
    "    print(\"plot_domain method not available - using custom visualization instead\")\n",
    "\n",
    "# Create custom visualization\n",
    "if basin_path.exists() and basin_files and basins is not None:\n",
    "    fig, ax = plt.subplots(figsize=(14, 10))\n",
    "    \n",
    "    # Plot watersheds\n",
    "    if 'GRU_ID' in basins.columns:\n",
    "        basins.plot(ax=ax, column='GRU_ID', cmap='tab20', \n",
    "                   edgecolor='black', linewidth=0.5, legend=False)\n",
    "    else:\n",
    "        basins.plot(ax=ax, cmap='tab20', \n",
    "                   edgecolor='black', linewidth=0.5, legend=False)\n",
    "    \n",
    "    # Plot river network if available\n",
    "    if network_path.exists() and network_files and rivers is not None:\n",
    "        rivers.plot(ax=ax, color='blue', linewidth=1)\n",
    "    \n",
    "    ax.set_title(f'Iceland Regional Domain - {basin_count} Watersheds', \n",
    "                fontsize=16, fontweight='bold')\n",
    "    ax.set_xlabel('Longitude')\n",
    "    ax.set_ylabel('Latitude')\n",
    "    \n",
    "    # Add annotation about coastal watersheds\n",
    "    ax.text(0.02, 0.98, f'Including coastal watersheds\\nTotal watersheds: {basin_count}',\n",
    "            transform=ax.transAxes, va='top',\n",
    "            bbox=dict(boxstyle='round', facecolor='white', alpha=0.8),\n",
    "            fontsize=12)\n",
    "    \n",
    "    plt.tight_layout()\n",
    "    plt.show()\n",
    "else:\n",
    "    print(\"Cannot create visualization: Basin data not available\")"
   ]
  },
  {
   "cell_type": "markdown",
   "metadata": {},
   "source": [
    "## Acquire forcing data"
   ]
  },
  {
   "cell_type": "code",
   "execution_count": null,
   "metadata": {},
   "outputs": [],
   "source": [
    "print(f\"\\nAcquiring forcing data: {confluence.config['FORCING_DATASET']}\")\n",
    "confluence.managers['data'].acquire_forcings()"
   ]
  },
  {
   "cell_type": "markdown",
   "metadata": {},
   "source": [
    "## Model Agnostic Preprocessing "
   ]
  },
  {
   "cell_type": "code",
   "execution_count": null,
   "metadata": {},
   "outputs": [],
   "source": [
    "print(\"\\nRunning model-agnostic preprocessing...\")\n",
    "confluence.managers['data'].run_model_agnostic_preprocessing()"
   ]
  },
  {
   "cell_type": "markdown",
   "metadata": {},
   "source": [
    "## Model Specific Preprocessing"
   ]
  },
  {
   "cell_type": "code",
   "execution_count": null,
   "metadata": {
    "scrolled": true
   },
   "outputs": [],
   "source": [
    "print(f\"Preparing {confluence.config['HYDROLOGICAL_MODEL']} input files...\")\n",
    "confluence.managers['model'].preprocess_models()"
   ]
  },
  {
   "cell_type": "markdown",
   "metadata": {},
   "source": [
    "## Model initiation"
   ]
  },
  {
   "cell_type": "code",
   "execution_count": null,
   "metadata": {},
   "outputs": [],
   "source": [
    "print(f\"\\nRunning {confluence.config['HYDROLOGICAL_MODEL']} model...\")\n",
    "confluence.managers['model'].run_models()\n",
    "\n",
    "print(\"\\nModel run complete\")"
   ]
  }
 ],
 "metadata": {
  "kernelspec": {
   "display_name": "CONFLUENCE (HPC Modules)",
   "language": "python",
   "name": "conf-env-hpc"
  },
  "language_info": {
   "codemirror_mode": {
    "name": "ipython",
    "version": 3
   },
   "file_extension": ".py",
   "mimetype": "text/x-python",
   "name": "python",
   "nbconvert_exporter": "python",
   "pygments_lexer": "ipython3",
   "version": "3.11.7"
  }
 },
 "nbformat": 4,
 "nbformat_minor": 4
}
