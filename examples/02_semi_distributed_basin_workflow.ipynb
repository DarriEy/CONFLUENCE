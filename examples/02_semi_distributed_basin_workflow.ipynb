{
 "cells": [
  {
   "cell_type": "markdown",
   "metadata": {},
   "source": [
    "# CONFLUENCE Tutorial: Distributed Basin Workflow with Delineation\n",
    "\n",
    "This notebook demonstrates the distributed modeling approach using the delineation method. We'll use the same Bow River at Banff location but create a distributed model with multiple GRUs (Grouped Response Units).\n",
    "\n",
    "## Key Differences from Lumped Model\n",
    "\n",
    "- **Domain Method**: `delineate` instead of `lumped`\n",
    "- **Stream Threshold**: 5000 (creates more sub-basins)\n",
    "- **Multiple GRUs**: Each sub-basin becomes a GRU\n",
    "- **Routing**: mizuRoute connects the GRUs\n",
    "\n",
    "## Learning Objectives\n",
    "\n",
    "1. Understand watershed delineation with stream networks\n",
    "2. Create a distributed model with multiple GRUs\n",
    "3. Compare with lumped approach from Tutorial 1"
   ]
  },
  {
   "cell_type": "markdown",
   "metadata": {},
   "source": [
    "## 1. Setup and Import Libraries"
   ]
  },
  {
   "cell_type": "code",
   "execution_count": null,
   "metadata": {},
   "outputs": [],
   "source": [
    "# Import required libraries\n",
    "import sys\n",
    "import os\n",
    "from pathlib import Path\n",
    "import yaml\n",
    "import pandas as pd\n",
    "import matplotlib.pyplot as plt\n",
    "import geopandas as gpd\n",
    "from datetime import datetime\n",
    "import numpy as np\n",
    "\n",
    "# Add CONFLUENCE to path\n",
    "confluence_path = Path('../').resolve()\n",
    "sys.path.append(str(confluence_path))\n",
    "\n",
    "# Import CONFLUENCE\n",
    "from CONFLUENCE import CONFLUENCE\n",
    "\n",
    "# Set up plotting style\n",
    "plt.style.use('default')\n",
    "%matplotlib inline"
   ]
  },
  {
   "cell_type": "markdown",
   "metadata": {},
   "source": [
    "## 2. Create Configuration for Distributed Model\n",
    "\n",
    "We'll modify the configuration from Tutorial 1 to create a distributed model."
   ]
  },
  {
   "cell_type": "code",
   "execution_count": null,
   "metadata": {},
   "outputs": [],
   "source": [
    "# Load the template configuration\n",
    "config_template_path = confluence_path / '0_config_files' / 'config_template.yaml'\n",
    "with open(config_template_path, 'r') as f:\n",
    "    config = yaml.safe_load(f)\n",
    "\n",
    "# Modify for distributed delineation\n",
    "config['DOMAIN_NAME'] = 'Bow_at_Banff_distributed'\n",
    "config['EXPERIMENT_ID'] = 'distributed_tutorial'\n",
    "config['DOMAIN_DEFINITION_METHOD'] = 'delineate'  # Changed from 'lumped'\n",
    "config['STREAM_THRESHOLD'] = 5000  # Higher threshold for fewer sub-basins\n",
    "config['DOMAIN_DISCRETIZATION'] = 'GRUs'  # Keep as GRUs\n",
    "config['SPATIAL_MODE'] = 'Distributed'  # Changed from 'Lumped'\n",
    "\n",
    "# Use just one parallel process for this tutorial\n",
    "config['MPI_PROCESSES'] = 1\n",
    "\n",
    "# Save the modified configuration\n",
    "distributed_config_path = Path('./bow_distributed_config.yaml')\n",
    "with open(distributed_config_path, 'w') as f:\n",
    "    yaml.dump(config, f, default_flow_style=False)\n",
    "\n",
    "print(\"=== Modified Configuration for Distributed Model ===\")\n",
    "print(f\"Domain Name: {config['DOMAIN_NAME']}\")\n",
    "print(f\"Domain Method: {config['DOMAIN_DEFINITION_METHOD']}\")\n",
    "print(f\"Stream Threshold: {config['STREAM_THRESHOLD']}\")\n",
    "print(f\"Spatial Mode: {config['SPATIAL_MODE']}\")\n",
    "print(f\"\\nConfiguration saved to: {distributed_config_path}\")"
   ]
  },
  {
   "cell_type": "markdown",
   "metadata": {},
   "source": [
    "## 3. Initialize CONFLUENCE with Distributed Configuration"
   ]
  },
  {
   "cell_type": "code",
   "execution_count": null,
   "metadata": {},
   "outputs": [],
   "source": [
    "# Initialize CONFLUENCE with distributed configuration\n",
    "confluence = CONFLUENCE(distributed_config_path)\n",
    "\n",
    "print(\"=== CONFLUENCE Initialized for Distributed Model ===\")\n",
    "print(f\"Project Directory: {confluence.project_dir}\")\n",
    "print(f\"Data Directory: {confluence.data_dir}\")"
   ]
  },
  {
   "cell_type": "markdown",
   "metadata": {},
   "source": [
    "## 4. Visualize Lumped vs Distributed Concept"
   ]
  },
  {
   "cell_type": "code",
   "execution_count": null,
   "metadata": {},
   "outputs": [],
   "source": [
    "# Create visualization comparing lumped vs distributed\n",
    "fig, (ax1, ax2) = plt.subplots(1, 2, figsize=(14, 6))\n",
    "\n",
    "# Lumped representation\n",
    "ax1.add_patch(plt.Rectangle((0, 0), 1, 1, fill=True, color='lightblue', alpha=0.7))\n",
    "ax1.text(0.5, 0.5, 'Entire Basin\\n(1 Unit)', ha='center', va='center', fontsize=14, fontweight='bold')\n",
    "ax1.arrow(0.5, 0.05, 0, -0.1, head_width=0.03, head_length=0.02, fc='blue', ec='blue')\n",
    "ax1.text(0.5, -0.08, 'Single Output', ha='center', fontsize=10)\n",
    "ax1.set_xlim(-0.1, 1.1)\n",
    "ax1.set_ylim(-0.15, 1.1)\n",
    "ax1.set_title('Lumped Model (Tutorial 1)', fontsize=16, fontweight='bold')\n",
    "ax1.axis('off')\n",
    "\n",
    "# Distributed representation\n",
    "# Create sub-basins with river network\n",
    "colors = ['lightblue', 'lightgreen', 'lightcoral', 'lightyellow']\n",
    "positions = [(0.2, 0.7), (0.7, 0.7), (0.2, 0.3), (0.5, 0.1)]\n",
    "labels = ['GRU 1', 'GRU 2', 'GRU 3', 'GRU 4']\n",
    "\n",
    "for i, (pos, color, label) in enumerate(zip(positions, colors, labels)):\n",
    "    circle = plt.Circle(pos, 0.15, fill=True, color=color, alpha=0.7, edgecolor='black')\n",
    "    ax2.add_patch(circle)\n",
    "    ax2.text(pos[0], pos[1], label, ha='center', va='center', fontsize=10, fontweight='bold')\n",
    "\n",
    "# Draw river network\n",
    "ax2.plot([0.2, 0.2, 0.5], [0.7, 0.3, 0.1], 'b-', linewidth=3)  # Main stem\n",
    "ax2.plot([0.7, 0.5], [0.7, 0.1], 'b-', linewidth=2)  # Tributary\n",
    "ax2.arrow(0.5, 0.1, 0, -0.1, head_width=0.03, head_length=0.02, fc='blue', ec='blue')\n",
    "ax2.text(0.5, -0.02, 'Routed Output', ha='center', fontsize=10)\n",
    "\n",
    "ax2.set_xlim(-0.1, 1.1)\n",
    "ax2.set_ylim(-0.15, 1.1)\n",
    "ax2.set_title('Distributed Model (This Tutorial)', fontsize=16, fontweight='bold')\n",
    "ax2.axis('off')\n",
    "\n",
    "plt.tight_layout()\n",
    "plt.show()"
   ]
  },
  {
   "cell_type": "markdown",
   "metadata": {},
   "source": [
    "## 5. Step 1: Setup Project Structure"
   ]
  },
  {
   "cell_type": "code",
   "execution_count": null,
   "metadata": {},
   "outputs": [],
   "source": [
    "# Setup project directories\n",
    "print(\"Creating project directory structure for distributed model...\")\n",
    "confluence.setup_project()\n",
    "\n",
    "# List created directories\n",
    "print(\"\\nCreated directories:\")\n",
    "for item in sorted(confluence.project_dir.iterdir()):\n",
    "    if item.is_dir():\n",
    "        print(f\"  📁 {item.name}\")"
   ]
  },
  {
   "cell_type": "markdown",
   "metadata": {},
   "source": [
    "## 6. Step 2: Create Pour Point (Same as Lumped)"
   ]
  },
  {
   "cell_type": "code",
   "execution_count": null,
   "metadata": {},
   "outputs": [],
   "source": [
    "# Create pour point shapefile - same location as lumped model\n",
    "print(f\"Creating pour point shapefile from coordinates: {confluence.config['POUR_POINT_COORDS']}\")\n",
    "confluence.create_pourPoint()\n",
    "\n",
    "# The pour point is the same as the lumped model\n",
    "print(\"\\nNote: The pour point location is identical to the lumped model.\")\n",
    "print(\"The difference is in how we subdivide the watershed above this point.\")"
   ]
  },
  {
   "cell_type": "markdown",
   "metadata": {},
   "source": [
    "## 7. Step 3: Acquire Geospatial Attributes"
   ]
  },
  {
   "cell_type": "code",
   "execution_count": null,
   "metadata": {},
   "outputs": [],
   "source": [
    "# Acquire DEM, soil classes, and land cover\n",
    "print(\"Acquiring geospatial attributes...\")\n",
    "print(\"These are the same data sources as the lumped model.\")\n",
    "\n",
    "confluence.acquire_attributes()\n",
    "\n",
    "print(\"\\n✓ Geospatial attributes acquired\")"
   ]
  },
  {
   "cell_type": "markdown",
   "metadata": {},
   "source": [
    "## 8. Step 4: Delineate Distributed Domain\n",
    "\n",
    "This is where the main difference occurs - we'll create multiple sub-basins instead of one lumped basin."
   ]
  },
  {
   "cell_type": "code",
   "execution_count": null,
   "metadata": {},
   "outputs": [],
   "source": [
    "# Delineate the watershed with stream network\n",
    "print(f\"Delineating distributed watershed...\")\n",
    "print(f\"Method: {confluence.config['DOMAIN_DEFINITION_METHOD']}\")\n",
    "print(f\"Stream threshold: {confluence.config['STREAM_THRESHOLD']}\")\n",
    "print(\"\\nThis will create multiple sub-basins connected by a stream network.\")\n",
    "\n",
    "confluence.define_domain()\n",
    "\n",
    "# Check outputs\n",
    "basin_path = confluence.project_dir / 'shapefiles' / 'river_basins'\n",
    "network_path = confluence.project_dir / 'shapefiles' / 'river_network'\n",
    "\n",
    "if basin_path.exists():\n",
    "    basin_files = list(basin_path.glob('*.shp'))\n",
    "    print(f\"\\n✓ Created basin shapefiles: {len(basin_files)}\")\n",
    "    \n",
    "if network_path.exists():\n",
    "    network_files = list(network_path.glob('*.shp'))\n",
    "    print(f\"✓ Created river network shapefiles: {len(network_files)}\")\n",
    "    \n",
    "    # Load and check number of basins\n",
    "    if basin_files:\n",
    "        gdf = gpd.read_file(basin_files[0])\n",
    "        print(f\"\\nNumber of sub-basins (GRUs): {len(gdf)}\")\n",
    "        print(f\"Total area: {gdf.geometry.area.sum() / 1e6:.2f} km²\")"
   ]
  },
  {
   "cell_type": "markdown",
   "metadata": {},
   "source": [
    "## 9. Visualize the Distributed Domain"
   ]
  },
  {
   "cell_type": "code",
   "execution_count": null,
   "metadata": {},
   "outputs": [],
   "source": [
    "# Plot the distributed domain\n",
    "print(\"Creating distributed domain visualization...\")\n",
    "confluence.plot_domain()\n",
    "\n",
    "# Display the domain plot\n",
    "plot_path = confluence.project_dir / 'plots' / 'domain' / 'domain_map.png'\n",
    "if plot_path.exists():\n",
    "    from IPython.display import Image, display\n",
    "    display(Image(filename=str(plot_path)))\n",
    "else:\n",
    "    # Create custom visualization\n",
    "    basin_files = list((confluence.project_dir / 'shapefiles' / 'river_basins').glob('*.shp'))\n",
    "    network_files = list((confluence.project_dir / 'shapefiles' / 'river_network').glob('*.shp'))\n",
    "    \n",
    "    if basin_files and network_files:\n",
    "        fig, ax = plt.subplots(figsize=(12, 10))\n",
    "        \n",
    "        # Load data\n",
    "        basins = gpd.read_file(basin_files[0])\n",
    "        rivers = gpd.read_file(network_files[0])\n",
    "        \n",
    "        # Plot basins with different colors\n",
    "        basins.plot(ax=ax, column='GRU_ID', cmap='viridis', \n",
    "                   alpha=0.7, edgecolor='black', linewidth=0.5)\n",
    "        \n",
    "        # Plot river network\n",
    "        rivers.plot(ax=ax, color='blue', linewidth=2)\n",
    "        \n",
    "        # Add pour point\n",
    "        pour_point_path = confluence.project_dir / 'shapefiles' / 'pour_point' / f\"{confluence.config['DOMAIN_NAME']}_pourPoint.shp\"\n",
    "        if pour_point_path.exists():\n",
    "            pour_point = gpd.read_file(pour_point_path)\n",
    "            pour_point.plot(ax=ax, color='red', markersize=150, marker='o', zorder=5)\n",
    "        \n",
    "        ax.set_title(f'Distributed Domain: {len(basins)} Sub-basins', fontsize=16, fontweight='bold')\n",
    "        ax.set_xlabel('Longitude')\n",
    "        ax.set_ylabel('Latitude')\n",
    "        \n",
    "        # Add colorbar for GRU IDs\n",
    "        sm = plt.cm.ScalarMappable(cmap='viridis', \n",
    "                                   norm=plt.Normalize(vmin=basins['GRU_ID'].min(), \n",
    "                                                     vmax=basins['GRU_ID'].max()))\n",
    "        sm._A = []\n",
    "        cbar = fig.colorbar(sm, ax=ax, shrink=0.8)\n",
    "        cbar.set_label('GRU ID', fontsize=12)\n",
    "        \n",
    "        plt.tight_layout()\n",
    "        plt.show()"
   ]
  },
  {
   "cell_type": "markdown",
   "metadata": {},
   "source": [
    "## 10. Step 5: Create GRU-based HRUs"
   ]
  },
  {
   "cell_type": "code",
   "execution_count": null,
   "metadata": {},
   "outputs": [],
   "source": [
    "# Create HRUs based on GRUs (1 GRU = 1 HRU)\n",
    "print(f\"Creating HRUs based on GRUs...\")\n",
    "print(f\"Method: {confluence.config['DOMAIN_DISCRETIZATION']}\")\n",
    "print(\"For this tutorial: 1 GRU = 1 HRU (simplest case)\")\n",
    "\n",
    "confluence.discretize_domain()\n",
    "\n",
    "# Check the created HRU shapefile\n",
    "hru_path = confluence.project_dir / 'shapefiles' / 'catchment'\n",
    "if hru_path.exists():\n",
    "    hru_files = list(hru_path.glob('*.shp'))\n",
    "    print(f\"\\n✓ Created HRU shapefiles: {len(hru_files)}\")\n",
    "    \n",
    "    if hru_files:\n",
    "        hru_gdf = gpd.read_file(hru_files[0])\n",
    "        print(f\"\\nHRU Statistics:\")\n",
    "        print(f\"Number of HRUs: {len(hru_gdf)}\")\n",
    "        print(f\"Number of GRUs: {hru_gdf['GRU_ID'].nunique()}\")\n",
    "        print(f\"Total area: {hru_gdf.geometry.area.sum() / 1e6:.2f} km²\")\n",
    "        \n",
    "        # Show HRU distribution\n",
    "        hru_counts = hru_gdf['GRU_ID'].value_counts()\n",
    "        print(f\"\\nHRUs per GRU:\")\n",
    "        for gru_id, count in hru_counts.items():\n",
    "            print(f\"  GRU {gru_id}: {count} HRUs\")"
   ]
  },
  {
   "cell_type": "markdown",
   "metadata": {},
   "source": [
    "## 11. Remaining Steps (Same as Lumped)\n",
    "\n",
    "The remaining workflow steps are similar to the lumped model, but CONFLUENCE handles the multiple GRUs automatically."
   ]
  },
  {
   "cell_type": "code",
   "execution_count": null,
   "metadata": {},
   "outputs": [],
   "source": [
    "# Process observed data\n",
    "print(\"Step 6: Processing observed streamflow data...\")\n",
    "confluence.process_observed_data()\n",
    "print(\"✓ Observed data processed\\n\")\n",
    "\n",
    "# Acquire forcing data\n",
    "print(\"Step 7: Acquiring forcing data...\")\n",
    "confluence.acquire_forcings()\n",
    "print(\"✓ Forcing data acquired\\n\")\n",
    "\n",
    "# Model-agnostic preprocessing\n",
    "print(\"Step 8: Running model-agnostic preprocessing...\")\n",
    "confluence.model_agnostic_pre_processing()\n",
    "print(\"✓ Preprocessing completed\\n\")\n",
    "\n",
    "# Model-specific preprocessing\n",
    "print(\"Step 9: Preparing model input files...\")\n",
    "confluence.model_specific_pre_processing()\n",
    "print(\"✓ Model inputs prepared\")"
   ]
  },
  {
   "cell_type": "markdown",
   "metadata": {},
   "source": [
    "## 12. Run the Distributed Model"
   ]
  },
  {
   "cell_type": "code",
   "execution_count": null,
   "metadata": {},
   "outputs": [],
   "source": [
    "# Run the model\n",
    "print(f\"Running distributed {confluence.config['HYDROLOGICAL_MODEL']} model...\")\n",
    "print(f\"Number of GRUs: (check from previous output)\")\n",
    "print(\"Note: This will take longer than the lumped model due to multiple units.\")\n",
    "\n",
    "confluence.run_models()\n",
    "\n",
    "print(\"\\n✓ Model execution completed\")"
   ]
  },
  {
   "cell_type": "markdown",
   "metadata": {},
   "source": [
    "## 13. Visualize Distributed Results"
   ]
  },
  {
   "cell_type": "code",
   "execution_count": null,
   "metadata": {},
   "outputs": [],
   "source": [
    "# Create visualization\n",
    "print(\"Creating distributed model visualization...\")\n",
    "confluence.visualise_model_output()\n",
    "\n",
    "# Display results\n",
    "plot_path = confluence.project_dir / 'plots' / 'results' / 'streamflow_comparison.png'\n",
    "if plot_path.exists():\n",
    "    from IPython.display import Image, display\n",
    "    display(Image(filename=str(plot_path)))\n",
    "    \n",
    "    print(\"\\nNote: The streamflow output is from the basin outlet (routed through all GRUs).\")"
   ]
  },
  {
   "cell_type": "markdown",
   "metadata": {},
   "source": [
    "## 14. Compare Distributed vs Lumped Structure\n",
    "\n",
    "Let's create a visual comparison of the domain structures."
   ]
  },
  {
   "cell_type": "code",
   "execution_count": null,
   "metadata": {},
   "outputs": [],
   "source": [
    "# Create comparison visualization\n",
    "fig, (ax1, ax2) = plt.subplots(1, 2, figsize=(16, 8))\n",
    "\n",
    "# Lumped model visualization (if exists)\n",
    "lumped_basin_path = confluence.data_dir / 'domain_Bow_at_Banff_lumped' / 'shapefiles' / 'river_basins'\n",
    "if lumped_basin_path.exists():\n",
    "    lumped_files = list(lumped_basin_path.glob('*.shp'))\n",
    "    if lumped_files:\n",
    "        lumped_basin = gpd.read_file(lumped_files[0])\n",
    "        lumped_basin.plot(ax=ax1, color='lightblue', edgecolor='navy', linewidth=2)\n",
    "        ax1.set_title('Lumped Model\\n(1 Unit)', fontsize=14, fontweight='bold')\n",
    "        ax1.axis('off')\n",
    "\n",
    "# Distributed model visualization\n",
    "dist_basin_path = confluence.project_dir / 'shapefiles' / 'river_basins'\n",
    "dist_network_path = confluence.project_dir / 'shapefiles' / 'river_network'\n",
    "\n",
    "if dist_basin_path.exists() and dist_network_path.exists():\n",
    "    dist_basin_files = list(dist_basin_path.glob('*.shp'))\n",
    "    dist_network_files = list(dist_network_path.glob('*.shp'))\n",
    "    \n",
    "    if dist_basin_files and dist_network_files:\n",
    "        basins = gpd.read_file(dist_basin_files[0])\n",
    "        network = gpd.read_file(dist_network_files[0])\n",
    "        \n",
    "        basins.plot(ax=ax2, column='GRU_ID', cmap='viridis', \n",
    "                   edgecolor='black', linewidth=0.5, alpha=0.7)\n",
    "        network.plot(ax=ax2, color='blue', linewidth=2)\n",
    "        ax2.set_title(f'Distributed Model\\n({len(basins)} GRUs)', fontsize=14, fontweight='bold')\n",
    "        ax2.axis('off')\n",
    "\n",
    "plt.suptitle('Lumped vs Distributed Domain Structure', fontsize=16, fontweight='bold')\n",
    "plt.tight_layout()\n",
    "plt.show()"
   ]
  },
  {
   "cell_type": "markdown",
   "metadata": {},
   "source": [
    "## 15. Summary and Key Differences\n",
    "\n",
    "### What we accomplished:\n",
    "1. Created a distributed model with multiple GRUs\n",
    "2. Used stream network delineation\n",
    "3. Maintained 1:1 relationship between GRUs and HRUs\n",
    "4. Ran the same model (SUMMA) in distributed mode\n",
    "\n",
    "### Key differences from lumped model:\n",
    "- **Multiple spatial units**: Several GRUs instead of one\n",
    "- **River routing**: mizuRoute connects the GRUs\n",
    "- **More detailed representation**: Captures spatial variability\n",
    "- **Longer computation time**: More units to simulate\n",
    "\n",
    "### Next steps:\n",
    "1. Compare performance metrics between lumped and distributed\n",
    "2. Experiment with different stream thresholds\n",
    "3. Try different discretization methods (elevation bands, land cover)\n",
    "4. Calibrate parameters for individual GRUs"
   ]
  },
  {
   "cell_type": "code",
   "execution_count": null,
   "metadata": {},
   "outputs": [],
   "source": [
    "# Print final summary\n",
    "print(\"=== Distributed Workflow Complete ===\\n\")\n",
    "print(f\"Project: {confluence.config['DOMAIN_NAME']}\")\n",
    "print(f\"Method: {confluence.config['DOMAIN_DEFINITION_METHOD']}\")\n",
    "print(f\"Stream Threshold: {confluence.config['STREAM_THRESHOLD']}\")\n",
    "print(f\"Model: {confluence.config['HYDROLOGICAL_MODEL']}\")\n",
    "print(f\"\\nKey outputs:\")\n",
    "print(f\"  - Basin shapefile: shapefiles/river_basins/\")\n",
    "print(f\"  - River network: shapefiles/river_network/\")\n",
    "print(f\"  - Model results: simulations/{confluence.config['EXPERIMENT_ID']}/\")\n",
    "print(f\"  - Comparison plots: plots/results/\")"
   ]
  }
 ],
 "metadata": {
  "kernelspec": {
   "display_name": "CONFLUENCE (HPC Modules)",
   "language": "python",
   "name": "conf-env-hpc"
  },
  "language_info": {
   "codemirror_mode": {
    "name": "ipython",
    "version": 3
   },
   "file_extension": ".py",
   "mimetype": "text/x-python",
   "name": "python",
   "nbconvert_exporter": "python",
   "pygments_lexer": "ipython3",
   "version": "3.11.7"
  }
 },
 "nbformat": 4,
 "nbformat_minor": 4
}
