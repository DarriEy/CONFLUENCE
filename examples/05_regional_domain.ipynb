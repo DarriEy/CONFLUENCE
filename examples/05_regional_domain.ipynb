{
 "cells": [
  {
   "cell_type": "markdown",
   "metadata": {},
   "source": [
    "# CONFLUENCE Tutorial: Regional Domain Modeling - Iceland\n",
    "\n",
    "This notebook demonstrates regional domain modeling using Iceland as an example. Unlike previous tutorials that focused on single watersheds, this example:\n",
    "\n",
    "1. **Delineates an entire region** (not just a single watershed)\n",
    "2. **Includes coastal watersheds** (watersheds that drain directly to the ocean)\n",
    "3. **Uses a bounding box** instead of a pour point\n",
    "\n",
    "## Key Differences from Previous Tutorials\n",
    "\n",
    "- **DELINEATE_BY_POURPOINT**: `False` - We're not focusing on a single outlet\n",
    "- **DELINEATE_COASTAL_WATERSHEDS**: `True` - Include watersheds draining to coast\n",
    "- **Regional scale**: Multiple independent watersheds\n",
    "\n",
    "## Learning Objectives\n",
    "\n",
    "1. Understand regional vs. watershed-scale modeling\n",
    "2. Learn how to delineate coastal watersheds\n",
    "3. Handle multiple independent drainage systems\n",
    "4. Work with national/regional scale domains"
   ]
  },
  {
   "cell_type": "markdown",
   "metadata": {},
   "source": [
    "## 1. Setup"
   ]
  },
  {
   "cell_type": "code",
   "execution_count": null,
   "metadata": {},
   "outputs": [],
   "source": [
    "# Import required libraries\n",
    "import sys\n",
    "from pathlib import Path\n",
    "import yaml\n",
    "import pandas as pd\n",
    "import matplotlib.pyplot as plt\n",
    "import geopandas as gpd\n",
    "import numpy as np\n",
    "from shapely.geometry import box\n",
    "import contextily as cx\n",
    "from datetime import datetime\n",
    "import xarray as xr\n",
    "\n",
    "# Add CONFLUENCE to path\n",
    "confluence_path = Path('../').resolve()\n",
    "sys.path.append(str(confluence_path))\n",
    "\n",
    "# Import CONFLUENCE\n",
    "from CONFLUENCE import CONFLUENCE\n",
    "\n",
    "plt.style.use('default')\n",
    "%matplotlib inline\n",
    "\n",
    "print(f\"Working from: {confluence_path}\")"
   ]
  },
  {
   "cell_type": "markdown",
   "metadata": {},
   "source": [
    "## 2. Initialize CONFLUENCE\n",
    "First, let's set up our directories and load the configuration. We'll customize the Iceland configuration file."
   ]
  },
  {
   "cell_type": "code",
   "execution_count": null,
   "metadata": {},
   "outputs": [],
   "source": [
    "# Set directory paths\n",
    "CONFLUENCE_CODE_DIR = confluence_path\n",
    "CONFLUENCE_DATA_DIR = Path('/work/comphyd_lab/data/CONFLUENCE_data')  # ← User should modify this path\n",
    "\n",
    "# Verify paths exist\n",
    "if not CONFLUENCE_CODE_DIR.exists():\n",
    "    raise FileNotFoundError(f\"CONFLUENCE code directory not found: {CONFLUENCE_CODE_DIR}\")\n",
    "\n",
    "if not CONFLUENCE_DATA_DIR.exists():\n",
    "    print(f\"Data directory doesn't exist. Creating: {CONFLUENCE_DATA_DIR}\")\n",
    "    CONFLUENCE_DATA_DIR.mkdir(parents=True, exist_ok=True)\n",
    "\n",
    "# Load template configuration\n",
    "config_template_path = CONFLUENCE_CODE_DIR / '0_config_files' / 'config_template.yaml'\n",
    "with open(config_template_path, 'r') as f:\n",
    "    config_dict = yaml.safe_load(f)\n",
    "\n",
    "# Update with Iceland-specific settings\n",
    "config_dict['CONFLUENCE_CODE_DIR'] = str(CONFLUENCE_CODE_DIR)\n",
    "config_dict['CONFLUENCE_DATA_DIR'] = str(CONFLUENCE_DATA_DIR)\n",
    "\n",
    "# Set Iceland domain and region-specific settings\n",
    "config_dict['DOMAIN_NAME'] = \"Iceland_region\"  \n",
    "config_dict['EXPERIMENT_ID'] = \"regional_run_1\"\n",
    "config_dict['EXPERIMENT_TIME_START'] = \"2018-01-01 01:00\"\n",
    "config_dict['EXPERIMENT_TIME_END'] = \"2020-12-31 23:00\"\n",
    "config_dict['SPATIAL_MODE'] = \"Distributed\"\n",
    "\n",
    "# Iceland regional domain settings\n",
    "config_dict['BOUNDING_BOX_COORDS'] = \"66.56/-24.55/63.25/-13.5\"  # North/West/South/East\n",
    "config_dict['POUR_POINT_COORDS'] = \"n/a\"  # Not needed for regional domain\n",
    "config_dict['DELINEATE_BY_POURPOINT'] = False\n",
    "config_dict['DELINEATE_COASTAL_WATERSHEDS'] = True\n",
    "config_dict['DOMAIN_DEFINITION_METHOD'] = \"delineate_geofabric\" \n",
    "config_dict['STREAM_THRESHOLD'] = 5000\n",
    "config_dict['DOMAIN_DISCRETIZATION'] = \"GRUs\"\n",
    "config_dict['MIN_GRU_SIZE'] = 10  # Larger minimum size for regional domain\n",
    "\n",
    "# Write to temporary config file\n",
    "temp_config_path = CONFLUENCE_CODE_DIR / '0_config_files' / 'config_iceland.yaml'\n",
    "with open(temp_config_path, 'w') as f:\n",
    "    yaml.dump(config_dict, f)\n",
    "\n",
    "# Initialize CONFLUENCE\n",
    "confluence = CONFLUENCE(temp_config_path)\n",
    "\n",
    "# Parse bounding box for visualization\n",
    "bbox = config_dict['BOUNDING_BOX_COORDS'].split('/')\n",
    "lat_max, lon_min, lat_min, lon_max = map(float, bbox)\n",
    "\n",
    "# Display configuration\n",
    "print(\"=== Iceland Regional Configuration ===\")\n",
    "print(f\"Domain Name: {confluence.config['DOMAIN_NAME']}\")\n",
    "print(f\"Bounding Box: {confluence.config['BOUNDING_BOX_COORDS']}\")\n",
    "print(f\"Delineate by Pour Point: {confluence.config['DELINEATE_BY_POURPOINT']} (Full region!)\")\n",
    "print(f\"Include Coastal Watersheds: {confluence.config['DELINEATE_COASTAL_WATERSHEDS']}\")\n",
    "print(f\"Stream Threshold: {confluence.config['STREAM_THRESHOLD']}\")\n",
    "print(f\"Domain Method: {confluence.config['DOMAIN_DEFINITION_METHOD']}\")\n",
    "\n",
    "# Display geographic extent\n",
    "print(f\"\\nGeographic extent:\")\n",
    "print(f\"  North: {lat_max}°N\")\n",
    "print(f\"  South: {lat_min}°N\")\n",
    "print(f\"  West: {lon_min}°E\")\n",
    "print(f\"  East: {lon_max}°E\")"
   ]
  },
  {
   "cell_type": "markdown",
   "metadata": {},
   "source": [
    "## 3. Visualize Iceland Domain\n",
    "Let's create a visualization of the Iceland study domain to understand our region of interest."
   ]
  },
  {
   "cell_type": "code",
   "execution_count": null,
   "metadata": {},
   "outputs": [],
   "source": [
    "# Create a simple visualization of Iceland's extent\n",
    "fig, ax = plt.subplots(figsize=(12, 8))\n",
    "\n",
    "# Create bounding box\n",
    "iceland_box = box(lon_min, lat_min, lon_max, lat_max)\n",
    "iceland_bbox = gpd.GeoDataFrame({'geometry': [iceland_box]}, crs='EPSG:4326')\n",
    "\n",
    "# Plot bounding box\n",
    "iceland_bbox.boundary.plot(ax=ax, color='red', linewidth=2, label='Study Area')\n",
    "\n",
    "# Add some context\n",
    "ax.set_xlim(lon_min - 1, lon_max + 1)\n",
    "ax.set_ylim(lat_min - 0.5, lat_max + 0.5)\n",
    "ax.set_xlabel('Longitude', fontsize=12)\n",
    "ax.set_ylabel('Latitude', fontsize=12)\n",
    "ax.set_title('Iceland Study Domain', fontsize=16, fontweight='bold')\n",
    "ax.grid(True, alpha=0.3)\n",
    "\n",
    "# Add annotation\n",
    "ax.text(0.5, 0.95, 'Full country delineation including coastal watersheds',\n",
    "        ha='center', va='top', transform=ax.transAxes,\n",
    "        bbox=dict(boxstyle='round', facecolor='yellow', alpha=0.7),\n",
    "        fontsize=12)\n",
    "\n",
    "plt.tight_layout()\n",
    "plt.show()\n",
    "\n",
    "# Create conceptual diagram\n",
    "fig, (ax1, ax2) = plt.subplots(1, 2, figsize=(14, 6))\n",
    "\n",
    "# Traditional watershed delineation\n",
    "ax1.set_xlim(0, 1)\n",
    "ax1.set_ylim(0, 1)\n",
    "# Draw single watershed\n",
    "watershed = plt.Polygon([(0.5, 0.8), (0.2, 0.2), (0.8, 0.2)], \n",
    "                       fill=True, color='lightblue', alpha=0.7)\n",
    "ax1.add_patch(watershed)\n",
    "ax1.plot(0.5, 0.1, 'ro', markersize=10)\n",
    "ax1.text(0.5, 0.05, 'Pour Point', ha='center', fontsize=10)\n",
    "ax1.arrow(0.5, 0.2, 0, -0.08, head_width=0.03, head_length=0.02, fc='blue', ec='blue')\n",
    "ax1.set_title('Single Watershed\\n(Previous Tutorials)', fontsize=14, fontweight='bold')\n",
    "ax1.axis('off')\n",
    "\n",
    "# Regional delineation with coastal watersheds\n",
    "ax2.set_xlim(0, 1)\n",
    "ax2.set_ylim(0, 1)\n",
    "# Draw multiple watersheds\n",
    "colors = ['lightblue', 'lightgreen', 'lightcoral', 'lightyellow']\n",
    "watersheds = [\n",
    "    plt.Polygon([(0.2, 0.9), (0.1, 0.7), (0.3, 0.7)], color=colors[0], alpha=0.7),\n",
    "    plt.Polygon([(0.5, 0.8), (0.4, 0.6), (0.6, 0.6)], color=colors[1], alpha=0.7),\n",
    "    plt.Polygon([(0.8, 0.9), (0.7, 0.7), (0.9, 0.7)], color=colors[2], alpha=0.7),\n",
    "    plt.Polygon([(0.3, 0.5), (0.2, 0.3), (0.4, 0.3)], color=colors[3], alpha=0.7)\n",
    "]\n",
    "for ws in watersheds:\n",
    "    ax2.add_patch(ws)\n",
    "\n",
    "# Draw coastline\n",
    "ax2.plot([0, 1], [0.1, 0.1], 'b-', linewidth=3, label='Ocean')\n",
    "ax2.text(0.5, 0.05, 'Ocean', ha='center', fontsize=12, color='blue')\n",
    "\n",
    "# Add arrows to ocean\n",
    "for x in [0.2, 0.5, 0.8, 0.3]:\n",
    "    ax2.arrow(x, 0.3, 0, -0.18, head_width=0.02, head_length=0.015, fc='blue', ec='blue')\n",
    "\n",
    "ax2.set_title('Regional Domain\\n(This Tutorial)', fontsize=14, fontweight='bold')\n",
    "ax2.axis('off')\n",
    "\n",
    "plt.tight_layout()\n",
    "plt.show()"
   ]
  },
  {
   "cell_type": "markdown",
   "metadata": {},
   "source": [
    "## 4. Project Setup\n",
    "The first step is to set up our project structure. Since we're doing a regional model, we need a different approach than for a single watershed."
   ]
  },
  {
   "cell_type": "code",
   "execution_count": null,
   "metadata": {},
   "outputs": [],
   "source": [
    "# Step 1: Project Initialization\n",
    "print(\"=== Step 1: Project Initialization ===\")\n",
    "\n",
    "# Setup project\n",
    "project_dir = confluence.managers['project'].setup_project()\n",
    "\n",
    "# Note: We skip pour point creation for regional domains\n",
    "print(\"Pour point creation skipped (regional domain)\")\n",
    "\n",
    "# List created directories\n",
    "print(\"\\nCreated directories:\")\n",
    "for item in sorted(project_dir.iterdir()):\n",
    "    if item.is_dir():\n",
    "        print(f\"  📁 {item.name}\")\n",
    "\n",
    "print(\"\\nDirectory purposes:\")\n",
    "print(\"  📁 shapefiles: Domain geometry (multiple watersheds, river network)\")\n",
    "print(\"  📁 attributes: Static characteristics (elevation, soil, land cover)\")\n",
    "print(\"  📁 forcing: Meteorological inputs (precipitation, temperature)\")\n",
    "print(\"  📁 simulations: Model outputs\")\n",
    "print(\"  📁 evaluation: Performance metrics and comparisons\")\n",
    "print(\"  📁 plots: Visualizations\")"
   ]
  },
  {
   "cell_type": "markdown",
   "metadata": {},
   "source": [
    "## 5. Geospatial Domain Definition and Analysis - Data Acquisition\n",
    "Before delineating the region, we need to acquire geospatial data (DEM, soil, land cover)."
   ]
  },
  {
   "cell_type": "code",
   "execution_count": null,
   "metadata": {},
   "outputs": [],
   "source": [
    "# Step 2: Geospatial Domain Definition and Analysis\n",
    "print(\"=== Step 2: Geospatial Domain Definition and Analysis ===\")\n",
    "\n",
    "# Acquire attributes\n",
    "print(\"Acquiring geospatial attributes (DEM, soil, land cover)...\")\n",
    "confluence.managers['data'].acquire_attributes()"
   ]
  },
  {
   "cell_type": "markdown",
   "metadata": {},
   "source": [
    "## 6. Regional Domain Delineation\n",
    "This is the critical step where we delineate the entire region, including coastal watersheds. This is different from the single-watershed approach."
   ]
  },
  {
   "cell_type": "code",
   "execution_count": null,
   "metadata": {},
   "outputs": [],
   "source": [
    "# Define domain\n",
    "print(f\"Delineating regional domain using method: {confluence.config['DOMAIN_DEFINITION_METHOD']}\")\n",
    "print(f\"Delineate by pour point: {confluence.config['DELINEATE_BY_POURPOINT']} (Full region!)\")\n",
    "print(f\"Include coastal watersheds: {confluence.config['DELINEATE_COASTAL_WATERSHEDS']}\")\n",
    "print(f\"Stream threshold: {confluence.config['STREAM_THRESHOLD']}\")\n",
    "print(\"\\nThis will create multiple independent drainage basins...\")\n",
    "\n",
    "watershed_path = confluence.managers['domain'].define_domain()\n",
    "\n",
    "# Check results\n",
    "basin_path = project_dir / 'shapefiles' / 'river_basins'\n",
    "network_path = project_dir / 'shapefiles' / 'river_network'\n",
    "\n",
    "basin_count = 0\n",
    "if basin_path.exists():\n",
    "    basin_files = list(basin_path.glob('*.shp'))\n",
    "    if basin_files:\n",
    "        basins = gpd.read_file(basin_files[0])\n",
    "        basin_count = len(basins)\n",
    "        print(f\"\\n✓ Created {basin_count} watersheds\")\n",
    "        print(f\"Total area: {basins.geometry.area.sum() / 1e6:.0f} km²\")\n",
    "\n",
    "network_count = 0\n",
    "if network_path.exists():\n",
    "    network_files = list(network_path.glob('*.shp'))\n",
    "    if network_files:\n",
    "        rivers = gpd.read_file(network_files[0])\n",
    "        network_count = len(rivers)\n",
    "        print(f\"✓ Created river network with {network_count} segments\")"
   ]
  },
  {
   "cell_type": "markdown",
   "metadata": {},
   "source": [
    "## 7. Watershed Discretization\n",
    "Now we need to discretize our domain into GRUs (Grouped Response Units) and HRUs (Hydrologic Response Units)."
   ]
  },
  {
   "cell_type": "code",
   "execution_count": null,
   "metadata": {},
   "outputs": [],
   "source": [
    "# Discretize domain\n",
    "print(f\"Creating HRUs using method: {confluence.config['DOMAIN_DISCRETIZATION']}\")\n",
    "hru_path = confluence.managers['domain'].discretize_domain()\n",
    "\n",
    "# Check results\n",
    "hru_path = project_dir / 'shapefiles' / 'catchment'\n",
    "if hru_path.exists():\n",
    "    hru_files = list(hru_path.glob('*.shp'))\n",
    "    if hru_files:\n",
    "        hru_gdf = gpd.read_file(hru_files[0])\n",
    "        \n",
    "        print(f\"\\n✓ Created {len(hru_gdf)} HRUs\")\n",
    "        print(f\"Number of GRUs: {hru_gdf['GRU_ID'].nunique()}\")\n",
    "        \n",
    "        # Show some statistics\n",
    "        hru_stats = hru_gdf.groupby('GRU_ID').size()\n",
    "        print(f\"\\nHRU distribution:\")\n",
    "        print(f\"  Min HRUs per GRU: {hru_stats.min()}\")\n",
    "        print(f\"  Max HRUs per GRU: {hru_stats.max()}\")\n",
    "        print(f\"  Avg HRUs per GRU: {hru_stats.mean():.1f}\")"
   ]
  },
  {
   "cell_type": "markdown",
   "metadata": {},
   "source": [
    "## 8. Visualize Regional Domain\n",
    "Let's visualize what our regional domain looks like with all delineated watersheds."
   ]
  },
  {
   "cell_type": "code",
   "execution_count": null,
   "metadata": {},
   "outputs": [],
   "source": [
    "# Create CONFLUENCE domain visualization\n",
    "print(\"Creating regional domain visualization...\")\n",
    "plot_paths = confluence.managers['domain'].plot_domain()\n",
    "\n",
    "# Create custom visualization\n",
    "if basin_path.exists() and basin_files:\n",
    "    fig, ax = plt.subplots(figsize=(14, 10))\n",
    "    \n",
    "    # Plot watersheds\n",
    "    basins.plot(ax=ax, column='GRU_ID', cmap='tab20', \n",
    "               edgecolor='black', linewidth=0.5, legend=False)\n",
    "    \n",
    "    # Plot river network if available\n",
    "    if network_path.exists() and network_files:\n",
    "        rivers.plot(ax=ax, color='blue', linewidth=1)\n",
    "    \n",
    "    ax.set_title(f'Iceland Regional Domain - {basin_count} Watersheds', \n",
    "                fontsize=16, fontweight='bold')\n",
    "    ax.set_xlabel('Longitude')\n",
    "    ax.set_ylabel('Latitude')\n",
    "    \n",
    "    # Add annotation about coastal watersheds\n",
    "    ax.text(0.02, 0.98, f'Including coastal watersheds\\nTotal watersheds: {basin_count}',\n",
    "            transform=ax.transAxes, va='top',\n",
    "            bbox=dict(boxstyle='round', facecolor='white', alpha=0.8),\n",
    "            fontsize=12)\n",
    "    \n",
    "    plt.tight_layout()\n",
    "    plt.show()"
   ]
  },
  {
   "cell_type": "markdown",
   "metadata": {},
   "source": [
    "## 9. Analyze Regional Characteristics\n",
    "Let's analyze the characteristics of our regional watersheds."
   ]
  },
  {
   "cell_type": "code",
   "execution_count": null,
   "metadata": {},
   "outputs": [],
   "source": [
    "# Analyze watershed characteristics\n",
    "if 'basins' in locals():\n",
    "    # Create summary statistics\n",
    "    fig, ((ax1, ax2), (ax3, ax4)) = plt.subplots(2, 2, figsize=(15, 12))\n",
    "    \n",
    "    # Watershed areas\n",
    "    areas_km2 = basins.geometry.area / 1e6\n",
    "    ax1.hist(areas_km2, bins=30, edgecolor='black', alpha=0.7)\n",
    "    ax1.set_xlabel('Watershed Area (km²)')\n",
    "    ax1.set_ylabel('Count')\n",
    "    ax1.set_title('Distribution of Watershed Sizes')\n",
    "    ax1.grid(True, alpha=0.3)\n",
    "    \n",
    "    # Largest watersheds\n",
    "    top_10 = areas_km2.nlargest(10)\n",
    "    ax2.bar(range(len(top_10)), top_10, color='skyblue', edgecolor='black')\n",
    "    ax2.set_xlabel('Rank')\n",
    "    ax2.set_ylabel('Area (km²)')\n",
    "    ax2.set_title('Top 10 Largest Watersheds')\n",
    "    ax2.grid(True, alpha=0.3)\n",
    "    \n",
    "    # Geographic distribution\n",
    "    basins.plot(ax=ax3, column=areas_km2, cmap='viridis', \n",
    "               legend=True, legend_kwds={'label': 'Area (km²)'})\n",
    "    ax3.set_title('Watershed Sizes Across Iceland')\n",
    "    ax3.axis('off')\n",
    "    \n",
    "    # Summary statistics table\n",
    "    stats_data = {\n",
    "        'Metric': ['Total Watersheds', 'Total Area (km²)', 'Mean Area (km²)', \n",
    "                  'Median Area (km²)', 'Largest (km²)', 'Smallest (km²)'],\n",
    "        'Value': [len(basins), f\"{areas_km2.sum():,.0f}\", f\"{areas_km2.mean():.1f}\",\n",
    "                 f\"{areas_km2.median():.1f}\", f\"{areas_km2.max():.1f}\", f\"{areas_km2.min():.1f}\"]\n",
    "    }\n",
    "    stats_df = pd.DataFrame(stats_data)\n",
    "    \n",
    "    ax4.axis('tight')\n",
    "    ax4.axis('off')\n",
    "    table = ax4.table(cellText=stats_df.values,\n",
    "                     colLabels=stats_df.columns,\n",
    "                     cellLoc='center',\n",
    "                     loc='center')\n",
    "    table.auto_set_font_size(False)\n",
    "    table.set_fontsize(12)\n",
    "    table.scale(1.2, 2)\n",
    "    ax4.set_title('Regional Summary Statistics')\n",
    "    \n",
    "    plt.tight_layout()\n",
    "    plt.show()"
   ]
  },
  {
   "cell_type": "markdown",
   "metadata": {},
   "source": [
    "## 10. Model Agnostic Preprocessing - Observed Data\n",
    "Now we need to process the observed streamflow data."
   ]
  },
  {
   "cell_type": "code",
   "execution_count": null,
   "metadata": {},
   "outputs": [],
   "source": [
    "# Step 3: Model Agnostic Data Pre-Processing\n",
    "print(\"=== Step 3: Model Agnostic Data Pre-Processing ===\")\n",
    "\n",
    "# Process observed data\n",
    "print(\"Processing observed streamflow data...\")\n",
    "confluence.managers['data'].process_observed_data()"
   ]
  },
  {
   "cell_type": "markdown",
   "metadata": {},
   "source": [
    "## 11. Model Agnostic Preprocessing - Forcing Data\n",
    "Next, we need to acquire and process meteorological forcing data."
   ]
  },
  {
   "cell_type": "code",
   "execution_count": null,
   "metadata": {},
   "outputs": [],
   "source": [
    "# Acquire forcings\n",
    "print(f\"\\nAcquiring forcing data: {confluence.config['FORCING_DATASET']}\")\n",
    "confluence.managers['data'].acquire_forcings()"
   ]
  },
  {
   "cell_type": "markdown",
   "metadata": {},
   "source": [
    "## 12. Model Agnostic Preprocessing - Data Preprocessing\n",
    "Now we need to perform model-agnostic preprocessing of the data."
   ]
  },
  {
   "cell_type": "code",
   "execution_count": null,
   "metadata": {},
   "outputs": [],
   "source": [
    "# Run model-agnostic preprocessing\n",
    "print(\"\\nRunning model-agnostic preprocessing...\")\n",
    "confluence.managers['data'].run_model_agnostic_preprocessing()"
   ]
  },
  {
   "cell_type": "markdown",
   "metadata": {},
   "source": [
    "## 13. Model-Specific Preprocessing\n",
    "Now we prepare the inputs specific to our chosen hydrological model."
   ]
  },
  {
   "cell_type": "code",
   "execution_count": null,
   "metadata": {},
   "outputs": [],
   "source": [
    "# Step 4: Model Specific Processing and Initialization\n",
    "print(\"=== Step 4: Model Specific Processing and Initialization ===\")\n",
    "\n",
    "# Preprocess models\n",
    "print(f\"Preparing {confluence.config['HYDROLOGICAL_MODEL']} input files...\")\n",
    "confluence.managers['model'].preprocess_models()"
   ]
  },
  {
   "cell_type": "markdown",
   "metadata": {},
   "source": [
    "## 14. Run Regional Model\n",
    "Now we run the hydrological model for our regional domain."
   ]
  }]}