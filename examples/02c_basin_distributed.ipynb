{
 "cells": [
  {
   "cell_type": "markdown",
   "metadata": {},
   "source": [
    "# CONFLUENCE Tutorial: Elevation-Based HRU Discretization\n",
    "\n",
    "This notebook demonstrates elevation-based HRU discretization, building on the distributed domain from Tutorial 3. We'll:\n",
    "\n",
    "1. Use the existing GRUs from Tutorial 3\n",
    "2. Apply elevation-based discretization\n",
    "3. Run the model\n",
    "4. Compare results with lumped and GRU-based approaches\n",
    "\n",
    "**Prerequisites**: Tutorial 3 must be completed successfully."
   ]
  },
  {
   "cell_type": "markdown",
   "metadata": {},
   "source": [
    "## Setup and Import Libraries"
   ]
  },
  {
   "cell_type": "code",
   "execution_count": 2,
   "metadata": {},
   "outputs": [],
   "source": [
    "# Import required libraries\n",
    "import sys\n",
    "import os\n",
    "from pathlib import Path\n",
    "import yaml\n",
    "import pandas as pd\n",
    "import matplotlib.pyplot as plt\n",
    "import geopandas as gpd\n",
    "from datetime import datetime\n",
    "import numpy as np\n",
    "import contextily as cx\n",
    "import xarray as xr\n",
    "import shutil\n",
    "from IPython.display import Image, display\n",
    "\n",
    "# Add CONFLUENCE to path\n",
    "confluence_path = Path('../').resolve()\n",
    "sys.path.append(str(confluence_path))\n",
    "\n",
    "# Import main CONFLUENCE class\n",
    "from CONFLUENCE import CONFLUENCE\n",
    "\n",
    "# Set up plotting style\n",
    "plt.style.use('default')\n",
    "%matplotlib inline"
   ]
  },
  {
   "cell_type": "markdown",
   "metadata": {},
   "source": [
    "## Initialize CONFLUENCE\n",
    "First, let's set up our directories and load the configuration. We'll modify the configuration from Tutorial 3 to use elevation-based discretization."
   ]
  },
  {
   "cell_type": "code",
   "execution_count": 3,
   "metadata": {},
   "outputs": [
    {
     "name": "stdout",
     "output_type": "stream",
     "text": [
      "19:36:45 - INFO - ============================================================\n"
     ]
    },
    {
     "name": "stderr",
     "output_type": "stream",
     "text": [
      "2025-05-13 19:36:45,842 - confluence_general - INFO - ============================================================\n"
     ]
    },
    {
     "name": "stdout",
     "output_type": "stream",
     "text": [
      "19:36:45 - INFO - CONFLUENCE Logging Initialized\n"
     ]
    },
    {
     "name": "stderr",
     "output_type": "stream",
     "text": [
      "2025-05-13 19:36:45,845 - confluence_general - INFO - CONFLUENCE Logging Initialized\n"
     ]
    },
    {
     "name": "stdout",
     "output_type": "stream",
     "text": [
      "19:36:45 - INFO - Domain: Bow_at_Banff_elevation\n"
     ]
    },
    {
     "name": "stderr",
     "output_type": "stream",
     "text": [
      "2025-05-13 19:36:45,848 - confluence_general - INFO - Domain: Bow_at_Banff_elevation\n"
     ]
    },
    {
     "name": "stdout",
     "output_type": "stream",
     "text": [
      "19:36:45 - INFO - Experiment ID: elevation_tutorial\n"
     ]
    },
    {
     "name": "stderr",
     "output_type": "stream",
     "text": [
      "2025-05-13 19:36:45,850 - confluence_general - INFO - Experiment ID: elevation_tutorial\n"
     ]
    },
    {
     "name": "stdout",
     "output_type": "stream",
     "text": [
      "19:36:45 - INFO - Log Level: INFO\n"
     ]
    },
    {
     "name": "stderr",
     "output_type": "stream",
     "text": [
      "2025-05-13 19:36:45,853 - confluence_general - INFO - Log Level: INFO\n"
     ]
    },
    {
     "name": "stdout",
     "output_type": "stream",
     "text": [
      "19:36:45 - INFO - Log File: /work/comphyd_lab/data/CONFLUENCE_data/domain_Bow_at_Banff_elevation/_workLog_Bow_at_Banff_elevation/confluence_general_Bow_at_Banff_elevation_20250513_193645.log\n"
     ]
    },
    {
     "name": "stderr",
     "output_type": "stream",
     "text": [
      "2025-05-13 19:36:45,856 - confluence_general - INFO - Log File: /work/comphyd_lab/data/CONFLUENCE_data/domain_Bow_at_Banff_elevation/_workLog_Bow_at_Banff_elevation/confluence_general_Bow_at_Banff_elevation_20250513_193645.log\n"
     ]
    },
    {
     "name": "stdout",
     "output_type": "stream",
     "text": [
      "19:36:45 - INFO - ============================================================\n"
     ]
    },
    {
     "name": "stderr",
     "output_type": "stream",
     "text": [
      "2025-05-13 19:36:45,859 - confluence_general - INFO - ============================================================\n"
     ]
    },
    {
     "name": "stdout",
     "output_type": "stream",
     "text": [
      "19:36:45 - INFO - Configuration logged to: /work/comphyd_lab/data/CONFLUENCE_data/domain_Bow_at_Banff_elevation/_workLog_Bow_at_Banff_elevation/config_Bow_at_Banff_elevation_20250513_193645.yaml\n"
     ]
    },
    {
     "name": "stderr",
     "output_type": "stream",
     "text": [
      "2025-05-13 19:36:45,882 - confluence_general - INFO - Configuration logged to: /work/comphyd_lab/data/CONFLUENCE_data/domain_Bow_at_Banff_elevation/_workLog_Bow_at_Banff_elevation/config_Bow_at_Banff_elevation_20250513_193645.yaml\n"
     ]
    },
    {
     "name": "stdout",
     "output_type": "stream",
     "text": [
      "19:36:45 - INFO - Initializing CONFLUENCE system\n"
     ]
    },
    {
     "name": "stderr",
     "output_type": "stream",
     "text": [
      "2025-05-13 19:36:45,888 - confluence_general - INFO - Initializing CONFLUENCE system\n"
     ]
    },
    {
     "name": "stdout",
     "output_type": "stream",
     "text": [
      "19:36:45 - INFO - Configuration loaded from: /home/darri.eythorsson/code/CONFLUENCE/0_config_files/config_elevation.yaml\n"
     ]
    },
    {
     "name": "stderr",
     "output_type": "stream",
     "text": [
      "2025-05-13 19:36:45,890 - confluence_general - INFO - Configuration loaded from: /home/darri.eythorsson/code/CONFLUENCE/0_config_files/config_elevation.yaml\n"
     ]
    },
    {
     "name": "stdout",
     "output_type": "stream",
     "text": [
      "19:36:45 - INFO - Initializing VariableHandler for dataset: ERA5 and model: SUMMA\n"
     ]
    },
    {
     "name": "stderr",
     "output_type": "stream",
     "text": [
      "2025-05-13 19:36:45,892 - confluence_general - INFO - Initializing VariableHandler for dataset: ERA5 and model: SUMMA\n"
     ]
    },
    {
     "name": "stdout",
     "output_type": "stream",
     "text": [
      "19:36:46 - INFO - CONFLUENCE system initialized successfully\n"
     ]
    },
    {
     "name": "stderr",
     "output_type": "stream",
     "text": [
      "2025-05-13 19:36:46,233 - confluence_general - INFO - CONFLUENCE system initialized successfully\n"
     ]
    },
    {
     "name": "stdout",
     "output_type": "stream",
     "text": [
      "=== Directory Configuration ===\n",
      "Code Directory: /home/darri.eythorsson/code/CONFLUENCE\n",
      "Data Directory: /work/comphyd_lab/data/CONFLUENCE_data\n",
      "\n",
      "=== Key Configuration Settings ===\n",
      "Domain Name: Bow_at_Banff_elevation\n",
      "Pour Point: 51.1722/-115.5717\n",
      "Discretization Method: elevation\n",
      "Elevation Band Size: 200 m\n",
      "Minimum HRU Size: 4 km²\n",
      "Spatial Mode: Distributed\n",
      "Model: SUMMA\n",
      "Simulation Period: 2011-01-01 01:00 to 2022-01-01 01:00\n"
     ]
    }
   ],
   "source": [
    "# Set directory paths\n",
    "CONFLUENCE_CODE_DIR = confluence_path\n",
    "CONFLUENCE_DATA_DIR = Path('/work/comphyd_lab/data/CONFLUENCE_data')  # ← User should modify this path\n",
    "\n",
    "# Verify paths exist\n",
    "if not CONFLUENCE_CODE_DIR.exists():\n",
    "    raise FileNotFoundError(f\"CONFLUENCE code directory not found: {CONFLUENCE_CODE_DIR}\")\n",
    "\n",
    "if not CONFLUENCE_DATA_DIR.exists():\n",
    "    print(f\"Data directory doesn't exist. Creating: {CONFLUENCE_DATA_DIR}\")\n",
    "    CONFLUENCE_DATA_DIR.mkdir(parents=True, exist_ok=True)\n",
    "\n",
    "# Load the distributed configuration from Tutorial 3\n",
    "distributed_config_path = CONFLUENCE_CODE_DIR / '0_config_files' / 'config_distributed.yaml'\n",
    "if not distributed_config_path.exists():\n",
    "    raise FileNotFoundError(\"Tutorial 3 must be run first! Distributed config file not found.\")\n",
    "\n",
    "# Read config file\n",
    "with open(distributed_config_path, 'r') as f:\n",
    "    config_dict = yaml.safe_load(f)\n",
    "\n",
    "# Update core paths\n",
    "config_dict['CONFLUENCE_CODE_DIR'] = str(CONFLUENCE_CODE_DIR)\n",
    "config_dict['CONFLUENCE_DATA_DIR'] = str(CONFLUENCE_DATA_DIR)\n",
    "\n",
    "# Modify for elevation-based discretization\n",
    "config_dict['DOMAIN_NAME'] = 'Bow_at_Banff_elevation'\n",
    "config_dict['EXPERIMENT_ID'] = 'elevation_tutorial'\n",
    "config_dict['DOMAIN_DISCRETIZATION'] = 'elevation'  # Key change!\n",
    "config_dict['ELEVATION_BAND_SIZE'] = 200  # 200m bands\n",
    "config_dict['MIN_HRU_SIZE'] = 4  # 4 km² minimum\n",
    "# Keep SPATIAL_MODE as 'Distributed'\n",
    "\n",
    "# Save updated config to a temporary file\n",
    "elevation_config_path = CONFLUENCE_CODE_DIR / '0_config_files' / 'config_elevation.yaml'\n",
    "with open(elevation_config_path, 'w') as f:\n",
    "    yaml.dump(config_dict, f)\n",
    "\n",
    "# Initialize CONFLUENCE\n",
    "confluence = CONFLUENCE(elevation_config_path)\n",
    "\n",
    "# Display configuration\n",
    "print(\"=== Directory Configuration ===\")\n",
    "print(f\"Code Directory: {CONFLUENCE_CODE_DIR}\")\n",
    "print(f\"Data Directory: {CONFLUENCE_DATA_DIR}\")\n",
    "print(\"\\n=== Key Configuration Settings ===\")\n",
    "print(f\"Domain Name: {confluence.config['DOMAIN_NAME']}\")\n",
    "print(f\"Pour Point: {confluence.config['POUR_POINT_COORDS']}\")\n",
    "print(f\"Discretization Method: {confluence.config['DOMAIN_DISCRETIZATION']}\")\n",
    "print(f\"Elevation Band Size: {confluence.config['ELEVATION_BAND_SIZE']} m\")\n",
    "print(f\"Minimum HRU Size: {confluence.config['MIN_HRU_SIZE']} km²\")\n",
    "print(f\"Spatial Mode: {confluence.config['SPATIAL_MODE']}\")\n",
    "print(f\"Model: {confluence.config['HYDROLOGICAL_MODEL']}\")\n",
    "print(f\"Simulation Period: {confluence.config['EXPERIMENT_TIME_START']} to {confluence.config['EXPERIMENT_TIME_END']}\")"
   ]
  },
  {
   "cell_type": "markdown",
   "metadata": {},
   "source": [
    "## Project Setup - Organizing the Modeling Workflow\n",
    "\n",
    "First, we'll establish a well-organized project structure, similar to what we did in Tutorial 3."
   ]
  },
  {
   "cell_type": "code",
   "execution_count": null,
   "metadata": {},
   "outputs": [],
   "source": [
    "\n",
    "project_dir = confluence.managers['project'].setup_project()\n",
    "\n",
    "# List created directories\n",
    "print(\"\\nCreated directories:\")\n",
    "for item in sorted(project_dir.iterdir()):\n",
    "    if item.is_dir():\n",
    "        print(f\"  📁 {item.name}\")"
   ]
  },
  {
   "cell_type": "markdown",
   "metadata": {},
   "source": [
    "## Copy Domain Data from Tutorial 3\n",
    "\n",
    "We'll reuse the existing domain and GRUs from Tutorial 3 (distributed model) instead of starting from scratch."
   ]
  },
  {
   "cell_type": "code",
   "execution_count": null,
   "metadata": {},
   "outputs": [],
   "source": [
    "# Source domain from Tutorial 3\n",
    "source_domain = CONFLUENCE_DATA_DIR / 'domain_Bow_at_Banff_distributed'\n",
    "\n",
    "# Check if Tutorial 3 domain exists\n",
    "if not source_domain.exists():\n",
    "    raise FileNotFoundError(\"Tutorial 3 domain not found! Please run Tutorial 3 first.\")\n",
    "\n",
    "# Copy necessary directories from Tutorial 3\n",
    "print(\"=== Step 2: Copying Domain Data from Tutorial 3 ===\")\n",
    "dirs_to_copy = ['shapefiles', 'attributes']\n",
    "\n",
    "for dir_name in dirs_to_copy:\n",
    "    source_dir = source_domain / dir_name\n",
    "    target_dir = project_dir / dir_name\n",
    "    \n",
    "    if source_dir.exists():\n",
    "        print(f\"Copying {dir_name} from Tutorial 3...\")\n",
    "        # Create target directory if it doesn't exist\n",
    "        target_dir.mkdir(parents=True, exist_ok=True)\n",
    "        \n",
    "        # Copy files\n",
    "        for src_file in source_dir.glob('**/*'):\n",
    "            if src_file.is_file():\n",
    "                # Calculate relative path\n",
    "                rel_path = src_file.relative_to(source_dir)\n",
    "                dest_file = target_dir / rel_path\n",
    "                \n",
    "                # Create parent directories if needed\n",
    "                dest_file.parent.mkdir(parents=True, exist_ok=True)\n",
    "                \n",
    "                # Copy the file, replacing 'distributed' with 'elevation' in filename\n",
    "                shutil.copy2(src_file, dest_file)\n",
    "                if 'distributed' in dest_file.name:\n",
    "                    new_name = dest_file.parent / dest_file.name.replace('distributed', 'elevation')\n",
    "                    dest_file.rename(new_name)\n",
    "    else:\n",
    "        print(f\"Warning: {source_dir} not found in Tutorial 3 domain.\")\n",
    "\n",
    "print(\"\\n✓ Domain data copied from Tutorial 3\")"
   ]
  },
  {
   "cell_type": "markdown",
   "metadata": {},
   "source": [
    "## Verify GRU Boundaries\n",
    "\n",
    "Let's check the existing GRU boundaries that we'll use as a basis for our elevation-based HRUs."
   ]
  },
  {
   "cell_type": "code",
   "execution_count": null,
   "metadata": {},
   "outputs": [],
   "source": [
    "# Check river basins (GRUs) and network\n",
    "basin_path = project_dir / 'shapefiles' / 'river_basins'\n",
    "network_path = project_dir / 'shapefiles' / 'river_network'\n",
    "\n",
    "basin_files = list(basin_path.glob('*.shp'))\n",
    "network_files = list(network_path.glob('*.shp'))\n",
    "\n",
    "if basin_files and network_files:\n",
    "    # Load data\n",
    "    basins = gpd.read_file(basin_files[0])\n",
    "    rivers = gpd.read_file(network_files[0])\n",
    "    \n",
    "    # Create visualization\n",
    "    fig, ax = plt.subplots(figsize=(10, 8))\n",
    "    \n",
    "    # Plot basins (GRUs)\n",
    "    basins.plot(ax=ax, column='GRU_ID', cmap='viridis', \n",
    "               alpha=0.7, edgecolor='black', linewidth=1)\n",
    "    \n",
    "    # Plot river network\n",
    "    rivers.plot(ax=ax, color='blue', linewidth=1.5)\n",
    "    \n",
    "    # Format plot\n",
    "    ax.set_title(f'GRU Boundaries for Elevation-Based Discretization\\n({len(basins)} Sub-basins)', \n",
    "                fontsize=14, fontweight='bold')\n",
    "    ax.set_xlabel('Longitude')\n",
    "    ax.set_ylabel('Latitude')\n",
    "    \n",
    "    # Add colorbar for GRU IDs\n",
    "    sm = plt.cm.ScalarMappable(cmap='viridis', \n",
    "                             norm=plt.Normalize(vmin=basins['GRU_ID'].min(), \n",
    "                                               vmax=basins['GRU_ID'].max()))\n",
    "    sm._A = []\n",
    "    cbar = fig.colorbar(sm, ax=ax, shrink=0.8)\n",
    "    cbar.set_label('GRU ID', fontsize=12)\n",
    "    \n",
    "    plt.tight_layout()\n",
    "    plt.show()\n",
    "    \n",
    "    print(f\"Number of GRUs: {len(basins)}\")\n",
    "else:\n",
    "    print(\"GRU files not found. Make sure Tutorial 3 was completed successfully.\")"
   ]
  },
  {
   "cell_type": "markdown",
   "metadata": {},
   "source": [
    "## Create Elevation-Based HRUs\n",
    "\n",
    "Now we'll apply elevation-based discretization to create HRUs within each GRU."
   ]
  },
  {
   "cell_type": "code",
   "execution_count": null,
   "metadata": {
    "scrolled": true
   },
   "outputs": [],
   "source": [
    "print(f\"Discretization Method: {confluence.config['DOMAIN_DISCRETIZATION']}\")\n",
    "print(f\"Elevation Band Size: {confluence.config['ELEVATION_BAND_SIZE']} m\")\n",
    "print(f\"Minimum HRU Size: {confluence.config['MIN_HRU_SIZE']} km²\")\n",
    "\n",
    "# Apply discretization\n",
    "print(\"\\nApplying elevation-based discretization...\")\n",
    "hru_path = confluence.managers['domain'].discretize_domain()\n",
    "\n",
    "# Load and analyze the resulting HRU shapefile\n",
    "catchment_path = project_dir / 'shapefiles' / 'catchment'\n",
    "if catchment_path.exists():\n",
    "    hru_files = list(catchment_path.glob('*.shp'))\n",
    "    if hru_files:\n",
    "        hru_gdf = gpd.read_file(hru_files[0])\n",
    "        \n",
    "        # Store the GRU GeoDataFrame for later use\n",
    "        gru_gdf = gpd.read_file(basin_files[0])\n",
    "        \n",
    "        print(f\"\\n✓ Created elevation-based HRUs\")\n",
    "        print(f\"Number of HRUs: {len(hru_gdf)}\")\n",
    "        print(f\"Number of GRUs: {hru_gdf['GRU_ID'].nunique()}\")\n",
    "        \n",
    "        # Calculate HRUs per GRU\n",
    "        hru_counts = hru_gdf.groupby('GRU_ID').size()\n",
    "        avg_hrus_per_gru = hru_counts.mean()\n",
    "        print(f\"Average HRUs per GRU: {avg_hrus_per_gru:.1f}\")\n",
    "        \n",
    "        # Show the first few GRUs with their HRU counts\n",
    "        print(\"\\nHRUs per GRU (first 10):\")\n",
    "        for gru_id, count in hru_counts.head(10).items():\n",
    "            print(f\"  GRU {gru_id}: {count} HRUs\")\n",
    "else:\n",
    "    print(\"Failed to create elevation-based HRUs.\")"
   ]
  },
  {
   "cell_type": "markdown",
   "metadata": {},
   "source": [
    "## Visualize Elevation-Based HRUs"
   ]
  },
  {
   "cell_type": "code",
   "execution_count": null,
   "metadata": {},
   "outputs": [],
   "source": [
    "# Visualize the HRUs\n",
    "if 'hru_gdf' in locals() and len(hru_gdf) > 0:\n",
    "    # Check if mean elevation is available in the data\n",
    "    has_elevation = 'mean_elev' in hru_gdf.columns\n",
    "    \n",
    "    fig, ax = plt.subplots(figsize=(12, 10))\n",
    "    \n",
    "    # Plot HRUs colored by elevation if available, otherwise by HRU ID\n",
    "    if has_elevation:\n",
    "        hru_gdf.plot(ax=ax, column='mean_elev', cmap='terrain', \n",
    "                   edgecolor='gray', linewidth=0.5, alpha=0.7,\n",
    "                   legend=True, legend_kwds={'label': 'Mean Elevation (m)'})\n",
    "    else:\n",
    "        hru_gdf.plot(ax=ax, column='HRU_ID', cmap='viridis', \n",
    "                   edgecolor='gray', linewidth=0.5, alpha=0.7)\n",
    "    \n",
    "    # Overlay GRU boundaries\n",
    "    gru_gdf.boundary.plot(ax=ax, color='red', linewidth=1)\n",
    "    \n",
    "    # Add river network for context\n",
    "    if 'rivers' in locals():\n",
    "        rivers.plot(ax=ax, color='blue', linewidth=1)\n",
    "    \n",
    "    # Add title and labels\n",
    "    ax.set_title(f'Elevation-Based HRUs\\n{len(hru_gdf)} HRUs in {hru_gdf[\"GRU_ID\"].nunique()} GRUs',\n",
    "                fontsize=16, fontweight='bold')\n",
    "    ax.set_xlabel('Longitude')\n",
    "    ax.set_ylabel('Latitude')\n",
    "    \n",
    "    plt.tight_layout()\n",
    "    plt.show()\n",
    "else:\n",
    "    print(\"No HRUs available to visualize.\")"
   ]
  },
  {
   "cell_type": "markdown",
   "metadata": {},
   "source": [
    "## Complete the Modeling Workflow\n",
    "\n",
    "Now we'll complete the model setup and run the simulation using our elevation-based HRUs."
   ]
  },
  {
   "cell_type": "code",
   "execution_count": null,
   "metadata": {},
   "outputs": [],
   "source": [
    "# Check if we can reuse observed data from previous tutorials\n",
    "obs_dir = CONFLUENCE_DATA_DIR / 'domain_Bow_at_Banff_distributed' / 'observations' / 'streamflow' / 'preprocessed'\n",
    "if obs_dir.exists() and list(obs_dir.glob('*.csv')):\n",
    "    print(\"Reusing observed data from Tutorial 3...\")\n",
    "    \n",
    "    # Copy observed data\n",
    "    target_dir = project_dir / 'observations' / 'streamflow' / 'preprocessed'\n",
    "    target_dir.mkdir(parents=True, exist_ok=True)\n",
    "    \n",
    "    for src_file in obs_dir.glob('*.csv'):\n",
    "        dest_file = target_dir / src_file.name.replace('distributed', 'elevation')\n",
    "        shutil.copy2(src_file, dest_file)\n",
    "        print(f\"Copied {src_file.name} to {dest_file.name}\")\n",
    "else:\n",
    "    print(\"Processing observed streamflow data from scratch...\")\n",
    "    confluence.managers['data'].process_observed_data()\n",
    "\n",
    "print(\"\\n✓ Observed data processing completed\")"
   ]
  },
  {
   "cell_type": "code",
   "execution_count": null,
   "metadata": {},
   "outputs": [],
   "source": [
    "'''\n",
    "# Acquire Forcing Data\n",
    "# Check if we can reuse forcing data from previous tutorials\n",
    "forcing_dir = CONFLUENCE_DATA_DIR / 'domain_Bow_at_Banff_distributed' / 'forcing'\n",
    "if forcing_dir.exists():\n",
    "    print(\"Reusing forcing data from Tutorial 3...\")\n",
    "    \n",
    "    # Copy forcing data\n",
    "    target_dir = project_dir / 'forcing'\n",
    "    target_dir.mkdir(parents=True, exist_ok=True)\n",
    "    \n",
    "    # Copy all subdirectories\n",
    "    for src_dir in forcing_dir.iterdir():\n",
    "        if src_dir.is_dir():\n",
    "            dest_dir = target_dir / src_dir.name\n",
    "            if not dest_dir.exists():\n",
    "                shutil.copytree(src_dir, dest_dir)\n",
    "            print(f\"Copied {src_dir.name} forcing data\")\n",
    "    \n",
    "    # Run model-agnostic preprocessing to handle the new HRU structure\n",
    "    print(\"\\nRunning model-agnostic preprocessing for new HRU structure...\")\n",
    "    confluence.managers['data'].run_model_agnostic_preprocessing()\n",
    "else:\n",
    "    print(\"Acquiring forcing data from scratch...\")\n",
    "    confluence.managers['data'].acquire_forcings()\n",
    "'''"
   ]
  },
  {
   "cell_type": "code",
   "execution_count": 8,
   "metadata": {
    "scrolled": true
   },
   "outputs": [
    {
     "name": "stdout",
     "output_type": "stream",
     "text": [
      "\n",
      "Running model-agnostic preprocessing...\n",
      "19:41:18 - INFO - Starting model-agnostic preprocessing\n"
     ]
    },
    {
     "name": "stderr",
     "output_type": "stream",
     "text": [
      "2025-05-13 19:41:18,148 - confluence_general - INFO - Starting model-agnostic preprocessing\n"
     ]
    },
    {
     "name": "stdout",
     "output_type": "stream",
     "text": [
      "19:41:18 - INFO - Running geospatial statistics\n"
     ]
    },
    {
     "name": "stderr",
     "output_type": "stream",
     "text": [
      "2025-05-13 19:41:18,245 - confluence_general - INFO - Running geospatial statistics\n"
     ]
    },
    {
     "name": "stdout",
     "output_type": "stream",
     "text": [
      "19:41:18 - INFO - Starting geospatial statistics calculation\n"
     ]
    },
    {
     "name": "stderr",
     "output_type": "stream",
     "text": [
      "2025-05-13 19:41:18,247 - confluence_general - INFO - Starting geospatial statistics calculation\n"
     ]
    },
    {
     "name": "stdout",
     "output_type": "stream",
     "text": [
      "19:41:18 - INFO - Soil statistics already calculated: /work/comphyd_lab/data/CONFLUENCE_data/domain_Bow_at_Banff_elevation/shapefiles/catchment_intersection/with_soilgrids/catchment_with_soilclass.shp\n"
     ]
    },
    {
     "name": "stderr",
     "output_type": "stream",
     "text": [
      "2025-05-13 19:41:18,282 - confluence_general - INFO - Soil statistics already calculated: /work/comphyd_lab/data/CONFLUENCE_data/domain_Bow_at_Banff_elevation/shapefiles/catchment_intersection/with_soilgrids/catchment_with_soilclass.shp\n"
     ]
    },
    {
     "name": "stdout",
     "output_type": "stream",
     "text": [
      "19:41:18 - INFO - Land statistics already calculated: /work/comphyd_lab/data/CONFLUENCE_data/domain_Bow_at_Banff_elevation/shapefiles/catchment_intersection/with_landclass/catchment_with_landclass.shp\n"
     ]
    },
    {
     "name": "stderr",
     "output_type": "stream",
     "text": [
      "2025-05-13 19:41:18,314 - confluence_general - INFO - Land statistics already calculated: /work/comphyd_lab/data/CONFLUENCE_data/domain_Bow_at_Banff_elevation/shapefiles/catchment_intersection/with_landclass/catchment_with_landclass.shp\n"
     ]
    },
    {
     "name": "stdout",
     "output_type": "stream",
     "text": [
      "19:41:18 - INFO - Calculating elevation statistics\n"
     ]
    },
    {
     "name": "stderr",
     "output_type": "stream",
     "text": [
      "2025-05-13 19:41:18,318 - confluence_general - INFO - Calculating elevation statistics\n"
     ]
    },
    {
     "name": "stdout",
     "output_type": "stream",
     "text": [
      "19:41:20 - INFO - Updating existing 'elev_mean' column\n"
     ]
    },
    {
     "name": "stderr",
     "output_type": "stream",
     "text": [
      "2025-05-13 19:41:20,017 - confluence_general - INFO - Updating existing 'elev_mean' column\n",
      "2025-05-13 19:41:20,075 - pyogrio._io - INFO - Created 170 records\n"
     ]
    },
    {
     "name": "stdout",
     "output_type": "stream",
     "text": [
      "19:41:20 - INFO - Elevation statistics saved to /work/comphyd_lab/data/CONFLUENCE_data/domain_Bow_at_Banff_elevation/shapefiles/catchment_intersection/with_dem/catchment_with_dem.shp\n"
     ]
    },
    {
     "name": "stderr",
     "output_type": "stream",
     "text": [
      "2025-05-13 19:41:20,121 - confluence_general - INFO - Elevation statistics saved to /work/comphyd_lab/data/CONFLUENCE_data/domain_Bow_at_Banff_elevation/shapefiles/catchment_intersection/with_dem/catchment_with_dem.shp\n"
     ]
    },
    {
     "name": "stdout",
     "output_type": "stream",
     "text": [
      "19:41:20 - INFO - Geospatial statistics completed: 2/3 steps skipped, 1/3 steps executed\n"
     ]
    },
    {
     "name": "stderr",
     "output_type": "stream",
     "text": [
      "2025-05-13 19:41:20,124 - confluence_general - INFO - Geospatial statistics completed: 2/3 steps skipped, 1/3 steps executed\n"
     ]
    },
    {
     "name": "stdout",
     "output_type": "stream",
     "text": [
      "19:41:20 - INFO - Running forcing resampling\n"
     ]
    },
    {
     "name": "stderr",
     "output_type": "stream",
     "text": [
      "2025-05-13 19:41:20,126 - confluence_general - INFO - Running forcing resampling\n"
     ]
    },
    {
     "name": "stdout",
     "output_type": "stream",
     "text": [
      "19:41:20 - INFO - Starting forcing data resampling process\n"
     ]
    },
    {
     "name": "stderr",
     "output_type": "stream",
     "text": [
      "2025-05-13 19:41:20,128 - confluence_general - INFO - Starting forcing data resampling process\n"
     ]
    },
    {
     "name": "stdout",
     "output_type": "stream",
     "text": [
      "19:41:20 - INFO - Creating ERA5 shapefile\n"
     ]
    },
    {
     "name": "stderr",
     "output_type": "stream",
     "text": [
      "2025-05-13 19:41:20,130 - confluence_general - INFO - Creating ERA5 shapefile\n"
     ]
    },
    {
     "name": "stdout",
     "output_type": "stream",
     "text": [
      "19:41:20 - INFO - Forcing shapefile already exists: /work/comphyd_lab/data/CONFLUENCE_data/domain_Bow_at_Banff_elevation/shapefiles/forcing/forcing_ERA5.shp. Skipping creation.\n"
     ]
    },
    {
     "name": "stderr",
     "output_type": "stream",
     "text": [
      "2025-05-13 19:41:20,139 - confluence_general - INFO - Forcing shapefile already exists: /work/comphyd_lab/data/CONFLUENCE_data/domain_Bow_at_Banff_elevation/shapefiles/forcing/forcing_ERA5.shp. Skipping creation.\n"
     ]
    },
    {
     "name": "stdout",
     "output_type": "stream",
     "text": [
      "19:41:20 - INFO - Starting forcing remapping process\n"
     ]
    },
    {
     "name": "stderr",
     "output_type": "stream",
     "text": [
      "2025-05-13 19:41:20,141 - confluence_general - INFO - Starting forcing remapping process\n"
     ]
    },
    {
     "name": "stdout",
     "output_type": "stream",
     "text": [
      "19:41:20 - INFO - Creating weighted forcing files in parallel\n"
     ]
    },
    {
     "name": "stderr",
     "output_type": "stream",
     "text": [
      "2025-05-13 19:41:20,143 - confluence_general - INFO - Creating weighted forcing files in parallel\n"
     ]
    },
    {
     "name": "stdout",
     "output_type": "stream",
     "text": [
      "19:41:20 - INFO - Found 276 forcing files to process\n"
     ]
    },
    {
     "name": "stderr",
     "output_type": "stream",
     "text": [
      "2025-05-13 19:41:20,148 - confluence_general - INFO - Found 276 forcing files to process\n"
     ]
    },
    {
     "name": "stdout",
     "output_type": "stream",
     "text": [
      "19:41:20 - INFO - Using 1 CPUs for parallel processing\n"
     ]
    },
    {
     "name": "stderr",
     "output_type": "stream",
     "text": [
      "2025-05-13 19:41:20,150 - confluence_general - INFO - Using 1 CPUs for parallel processing\n"
     ]
    },
    {
     "name": "stdout",
     "output_type": "stream",
     "text": [
      "19:41:20 - INFO - Found 276 already processed files\n"
     ]
    },
    {
     "name": "stderr",
     "output_type": "stream",
     "text": [
      "2025-05-13 19:41:20,259 - confluence_general - INFO - Found 276 already processed files\n"
     ]
    },
    {
     "name": "stdout",
     "output_type": "stream",
     "text": [
      "19:41:20 - INFO - Found 0 files that need processing\n"
     ]
    },
    {
     "name": "stderr",
     "output_type": "stream",
     "text": [
      "2025-05-13 19:41:20,261 - confluence_general - INFO - Found 0 files that need processing\n"
     ]
    },
    {
     "name": "stdout",
     "output_type": "stream",
     "text": [
      "19:41:20 - INFO - All files have already been processed, nothing to do\n"
     ]
    },
    {
     "name": "stderr",
     "output_type": "stream",
     "text": [
      "2025-05-13 19:41:20,263 - confluence_general - INFO - All files have already been processed, nothing to do\n"
     ]
    },
    {
     "name": "stdout",
     "output_type": "stream",
     "text": [
      "19:41:20 - INFO - Forcing remapping process completed\n"
     ]
    },
    {
     "name": "stderr",
     "output_type": "stream",
     "text": [
      "2025-05-13 19:41:20,264 - confluence_general - INFO - Forcing remapping process completed\n"
     ]
    },
    {
     "name": "stdout",
     "output_type": "stream",
     "text": [
      "19:41:20 - INFO - Forcing data resampling process completed\n"
     ]
    },
    {
     "name": "stderr",
     "output_type": "stream",
     "text": [
      "2025-05-13 19:41:20,266 - confluence_general - INFO - Forcing data resampling process completed\n"
     ]
    },
    {
     "name": "stdout",
     "output_type": "stream",
     "text": [
      "19:41:20 - INFO - Model-agnostic preprocessing completed successfully\n"
     ]
    },
    {
     "name": "stderr",
     "output_type": "stream",
     "text": [
      "2025-05-13 19:41:20,268 - confluence_general - INFO - Model-agnostic preprocessing completed successfully\n"
     ]
    },
    {
     "name": "stdout",
     "output_type": "stream",
     "text": [
      "\n",
      "✓ Forcing data processing completed\n"
     ]
    }
   ],
   "source": [
    "print(\"\\nRunning model-agnostic preprocessing...\")\n",
    "\n",
    "confluence.managers['data'].run_model_agnostic_preprocessing()\n",
    "\n",
    "print(\"\\n✓ Forcing data processing completed\")"
   ]
  },
  {
   "cell_type": "code",
   "execution_count": 9,
   "metadata": {
    "scrolled": true
   },
   "outputs": [
    {
     "name": "stdout",
     "output_type": "stream",
     "text": [
      "Preparing SUMMA input files...\n",
      "19:41:21 - INFO - Starting model-specific preprocessing\n"
     ]
    },
    {
     "name": "stderr",
     "output_type": "stream",
     "text": [
      "2025-05-13 19:41:21,578 - confluence_general - INFO - Starting model-specific preprocessing\n"
     ]
    },
    {
     "name": "stdout",
     "output_type": "stream",
     "text": [
      "19:41:21 - INFO - Processing model: SUMMA\n"
     ]
    },
    {
     "name": "stderr",
     "output_type": "stream",
     "text": [
      "2025-05-13 19:41:21,582 - confluence_general - INFO - Processing model: SUMMA\n"
     ]
    },
    {
     "name": "stdout",
     "output_type": "stream",
     "text": [
      "19:41:21 - INFO - Starting SUMMA spatial preprocessing\n"
     ]
    },
    {
     "name": "stderr",
     "output_type": "stream",
     "text": [
      "2025-05-13 19:41:21,585 - confluence_general - INFO - Starting SUMMA spatial preprocessing\n"
     ]
    },
    {
     "name": "stdout",
     "output_type": "stream",
     "text": [
      "19:41:21 - INFO - Starting to apply temperature lapse rate and add data step\n"
     ]
    },
    {
     "name": "stderr",
     "output_type": "stream",
     "text": [
      "2025-05-13 19:41:21,587 - confluence_general - INFO - Starting to apply temperature lapse rate and add data step\n"
     ]
    },
    {
     "name": "stdout",
     "output_type": "stream",
     "text": [
      "19:41:21 - INFO - forcing files: ['Bow_at_Banff_elevation_ERA5_remapped_domain_Bow_at_Banff_distributed_ERA5_merged_200001.nc', 'Bow_at_Banff_elevation_ERA5_remapped_domain_Bow_at_Banff_distributed_ERA5_merged_200002.nc', 'Bow_at_Banff_elevation_ERA5_remapped_domain_Bow_at_Banff_distributed_ERA5_merged_200003.nc', 'Bow_at_Banff_elevation_ERA5_remapped_domain_Bow_at_Banff_distributed_ERA5_merged_200004.nc', 'Bow_at_Banff_elevation_ERA5_remapped_domain_Bow_at_Banff_distributed_ERA5_merged_200005.nc', 'Bow_at_Banff_elevation_ERA5_remapped_domain_Bow_at_Banff_distributed_ERA5_merged_200006.nc', 'Bow_at_Banff_elevation_ERA5_remapped_domain_Bow_at_Banff_distributed_ERA5_merged_200007.nc', 'Bow_at_Banff_elevation_ERA5_remapped_domain_Bow_at_Banff_distributed_ERA5_merged_200008.nc', 'Bow_at_Banff_elevation_ERA5_remapped_domain_Bow_at_Banff_distributed_ERA5_merged_200009.nc', 'Bow_at_Banff_elevation_ERA5_remapped_domain_Bow_at_Banff_distributed_ERA5_merged_200010.nc', 'Bow_at_Banff_elevation_ERA5_remapped_domain_Bow_at_Banff_distributed_ERA5_merged_200011.nc', 'Bow_at_Banff_elevation_ERA5_remapped_domain_Bow_at_Banff_distributed_ERA5_merged_200012.nc', 'Bow_at_Banff_elevation_ERA5_remapped_domain_Bow_at_Banff_distributed_ERA5_merged_200101.nc', 'Bow_at_Banff_elevation_ERA5_remapped_domain_Bow_at_Banff_distributed_ERA5_merged_200102.nc', 'Bow_at_Banff_elevation_ERA5_remapped_domain_Bow_at_Banff_distributed_ERA5_merged_200103.nc', 'Bow_at_Banff_elevation_ERA5_remapped_domain_Bow_at_Banff_distributed_ERA5_merged_200104.nc', 'Bow_at_Banff_elevation_ERA5_remapped_domain_Bow_at_Banff_distributed_ERA5_merged_200105.nc', 'Bow_at_Banff_elevation_ERA5_remapped_domain_Bow_at_Banff_distributed_ERA5_merged_200106.nc', 'Bow_at_Banff_elevation_ERA5_remapped_domain_Bow_at_Banff_distributed_ERA5_merged_200107.nc', 'Bow_at_Banff_elevation_ERA5_remapped_domain_Bow_at_Banff_distributed_ERA5_merged_200108.nc', 'Bow_at_Banff_elevation_ERA5_remapped_domain_Bow_at_Banff_distributed_ERA5_merged_200109.nc', 'Bow_at_Banff_elevation_ERA5_remapped_domain_Bow_at_Banff_distributed_ERA5_merged_200110.nc', 'Bow_at_Banff_elevation_ERA5_remapped_domain_Bow_at_Banff_distributed_ERA5_merged_200111.nc', 'Bow_at_Banff_elevation_ERA5_remapped_domain_Bow_at_Banff_distributed_ERA5_merged_200112.nc', 'Bow_at_Banff_elevation_ERA5_remapped_domain_Bow_at_Banff_distributed_ERA5_merged_200201.nc', 'Bow_at_Banff_elevation_ERA5_remapped_domain_Bow_at_Banff_distributed_ERA5_merged_200202.nc', 'Bow_at_Banff_elevation_ERA5_remapped_domain_Bow_at_Banff_distributed_ERA5_merged_200203.nc', 'Bow_at_Banff_elevation_ERA5_remapped_domain_Bow_at_Banff_distributed_ERA5_merged_200204.nc', 'Bow_at_Banff_elevation_ERA5_remapped_domain_Bow_at_Banff_distributed_ERA5_merged_200205.nc', 'Bow_at_Banff_elevation_ERA5_remapped_domain_Bow_at_Banff_distributed_ERA5_merged_200206.nc', 'Bow_at_Banff_elevation_ERA5_remapped_domain_Bow_at_Banff_distributed_ERA5_merged_200207.nc', 'Bow_at_Banff_elevation_ERA5_remapped_domain_Bow_at_Banff_distributed_ERA5_merged_200208.nc', 'Bow_at_Banff_elevation_ERA5_remapped_domain_Bow_at_Banff_distributed_ERA5_merged_200209.nc', 'Bow_at_Banff_elevation_ERA5_remapped_domain_Bow_at_Banff_distributed_ERA5_merged_200210.nc', 'Bow_at_Banff_elevation_ERA5_remapped_domain_Bow_at_Banff_distributed_ERA5_merged_200211.nc', 'Bow_at_Banff_elevation_ERA5_remapped_domain_Bow_at_Banff_distributed_ERA5_merged_200212.nc', 'Bow_at_Banff_elevation_ERA5_remapped_domain_Bow_at_Banff_distributed_ERA5_merged_200301.nc', 'Bow_at_Banff_elevation_ERA5_remapped_domain_Bow_at_Banff_distributed_ERA5_merged_200302.nc', 'Bow_at_Banff_elevation_ERA5_remapped_domain_Bow_at_Banff_distributed_ERA5_merged_200303.nc', 'Bow_at_Banff_elevation_ERA5_remapped_domain_Bow_at_Banff_distributed_ERA5_merged_200304.nc', 'Bow_at_Banff_elevation_ERA5_remapped_domain_Bow_at_Banff_distributed_ERA5_merged_200305.nc', 'Bow_at_Banff_elevation_ERA5_remapped_domain_Bow_at_Banff_distributed_ERA5_merged_200306.nc', 'Bow_at_Banff_elevation_ERA5_remapped_domain_Bow_at_Banff_distributed_ERA5_merged_200307.nc', 'Bow_at_Banff_elevation_ERA5_remapped_domain_Bow_at_Banff_distributed_ERA5_merged_200308.nc', 'Bow_at_Banff_elevation_ERA5_remapped_domain_Bow_at_Banff_distributed_ERA5_merged_200309.nc', 'Bow_at_Banff_elevation_ERA5_remapped_domain_Bow_at_Banff_distributed_ERA5_merged_200310.nc', 'Bow_at_Banff_elevation_ERA5_remapped_domain_Bow_at_Banff_distributed_ERA5_merged_200311.nc', 'Bow_at_Banff_elevation_ERA5_remapped_domain_Bow_at_Banff_distributed_ERA5_merged_200312.nc', 'Bow_at_Banff_elevation_ERA5_remapped_domain_Bow_at_Banff_distributed_ERA5_merged_200401.nc', 'Bow_at_Banff_elevation_ERA5_remapped_domain_Bow_at_Banff_distributed_ERA5_merged_200402.nc', 'Bow_at_Banff_elevation_ERA5_remapped_domain_Bow_at_Banff_distributed_ERA5_merged_200403.nc', 'Bow_at_Banff_elevation_ERA5_remapped_domain_Bow_at_Banff_distributed_ERA5_merged_200404.nc', 'Bow_at_Banff_elevation_ERA5_remapped_domain_Bow_at_Banff_distributed_ERA5_merged_200405.nc', 'Bow_at_Banff_elevation_ERA5_remapped_domain_Bow_at_Banff_distributed_ERA5_merged_200406.nc', 'Bow_at_Banff_elevation_ERA5_remapped_domain_Bow_at_Banff_distributed_ERA5_merged_200407.nc', 'Bow_at_Banff_elevation_ERA5_remapped_domain_Bow_at_Banff_distributed_ERA5_merged_200408.nc', 'Bow_at_Banff_elevation_ERA5_remapped_domain_Bow_at_Banff_distributed_ERA5_merged_200409.nc', 'Bow_at_Banff_elevation_ERA5_remapped_domain_Bow_at_Banff_distributed_ERA5_merged_200410.nc', 'Bow_at_Banff_elevation_ERA5_remapped_domain_Bow_at_Banff_distributed_ERA5_merged_200411.nc', 'Bow_at_Banff_elevation_ERA5_remapped_domain_Bow_at_Banff_distributed_ERA5_merged_200412.nc', 'Bow_at_Banff_elevation_ERA5_remapped_domain_Bow_at_Banff_distributed_ERA5_merged_200501.nc', 'Bow_at_Banff_elevation_ERA5_remapped_domain_Bow_at_Banff_distributed_ERA5_merged_200502.nc', 'Bow_at_Banff_elevation_ERA5_remapped_domain_Bow_at_Banff_distributed_ERA5_merged_200503.nc', 'Bow_at_Banff_elevation_ERA5_remapped_domain_Bow_at_Banff_distributed_ERA5_merged_200504.nc', 'Bow_at_Banff_elevation_ERA5_remapped_domain_Bow_at_Banff_distributed_ERA5_merged_200505.nc', 'Bow_at_Banff_elevation_ERA5_remapped_domain_Bow_at_Banff_distributed_ERA5_merged_200506.nc', 'Bow_at_Banff_elevation_ERA5_remapped_domain_Bow_at_Banff_distributed_ERA5_merged_200507.nc', 'Bow_at_Banff_elevation_ERA5_remapped_domain_Bow_at_Banff_distributed_ERA5_merged_200508.nc', 'Bow_at_Banff_elevation_ERA5_remapped_domain_Bow_at_Banff_distributed_ERA5_merged_200509.nc', 'Bow_at_Banff_elevation_ERA5_remapped_domain_Bow_at_Banff_distributed_ERA5_merged_200510.nc', 'Bow_at_Banff_elevation_ERA5_remapped_domain_Bow_at_Banff_distributed_ERA5_merged_200511.nc', 'Bow_at_Banff_elevation_ERA5_remapped_domain_Bow_at_Banff_distributed_ERA5_merged_200512.nc', 'Bow_at_Banff_elevation_ERA5_remapped_domain_Bow_at_Banff_distributed_ERA5_merged_200601.nc', 'Bow_at_Banff_elevation_ERA5_remapped_domain_Bow_at_Banff_distributed_ERA5_merged_200602.nc', 'Bow_at_Banff_elevation_ERA5_remapped_domain_Bow_at_Banff_distributed_ERA5_merged_200603.nc', 'Bow_at_Banff_elevation_ERA5_remapped_domain_Bow_at_Banff_distributed_ERA5_merged_200604.nc', 'Bow_at_Banff_elevation_ERA5_remapped_domain_Bow_at_Banff_distributed_ERA5_merged_200605.nc', 'Bow_at_Banff_elevation_ERA5_remapped_domain_Bow_at_Banff_distributed_ERA5_merged_200606.nc', 'Bow_at_Banff_elevation_ERA5_remapped_domain_Bow_at_Banff_distributed_ERA5_merged_200607.nc', 'Bow_at_Banff_elevation_ERA5_remapped_domain_Bow_at_Banff_distributed_ERA5_merged_200608.nc', 'Bow_at_Banff_elevation_ERA5_remapped_domain_Bow_at_Banff_distributed_ERA5_merged_200609.nc', 'Bow_at_Banff_elevation_ERA5_remapped_domain_Bow_at_Banff_distributed_ERA5_merged_200610.nc', 'Bow_at_Banff_elevation_ERA5_remapped_domain_Bow_at_Banff_distributed_ERA5_merged_200611.nc', 'Bow_at_Banff_elevation_ERA5_remapped_domain_Bow_at_Banff_distributed_ERA5_merged_200612.nc', 'Bow_at_Banff_elevation_ERA5_remapped_domain_Bow_at_Banff_distributed_ERA5_merged_200701.nc', 'Bow_at_Banff_elevation_ERA5_remapped_domain_Bow_at_Banff_distributed_ERA5_merged_200702.nc', 'Bow_at_Banff_elevation_ERA5_remapped_domain_Bow_at_Banff_distributed_ERA5_merged_200703.nc', 'Bow_at_Banff_elevation_ERA5_remapped_domain_Bow_at_Banff_distributed_ERA5_merged_200704.nc', 'Bow_at_Banff_elevation_ERA5_remapped_domain_Bow_at_Banff_distributed_ERA5_merged_200705.nc', 'Bow_at_Banff_elevation_ERA5_remapped_domain_Bow_at_Banff_distributed_ERA5_merged_200706.nc', 'Bow_at_Banff_elevation_ERA5_remapped_domain_Bow_at_Banff_distributed_ERA5_merged_200707.nc', 'Bow_at_Banff_elevation_ERA5_remapped_domain_Bow_at_Banff_distributed_ERA5_merged_200708.nc', 'Bow_at_Banff_elevation_ERA5_remapped_domain_Bow_at_Banff_distributed_ERA5_merged_200709.nc', 'Bow_at_Banff_elevation_ERA5_remapped_domain_Bow_at_Banff_distributed_ERA5_merged_200710.nc', 'Bow_at_Banff_elevation_ERA5_remapped_domain_Bow_at_Banff_distributed_ERA5_merged_200711.nc', 'Bow_at_Banff_elevation_ERA5_remapped_domain_Bow_at_Banff_distributed_ERA5_merged_200712.nc', 'Bow_at_Banff_elevation_ERA5_remapped_domain_Bow_at_Banff_distributed_ERA5_merged_200801.nc', 'Bow_at_Banff_elevation_ERA5_remapped_domain_Bow_at_Banff_distributed_ERA5_merged_200802.nc', 'Bow_at_Banff_elevation_ERA5_remapped_domain_Bow_at_Banff_distributed_ERA5_merged_200803.nc', 'Bow_at_Banff_elevation_ERA5_remapped_domain_Bow_at_Banff_distributed_ERA5_merged_200804.nc', 'Bow_at_Banff_elevation_ERA5_remapped_domain_Bow_at_Banff_distributed_ERA5_merged_200805.nc', 'Bow_at_Banff_elevation_ERA5_remapped_domain_Bow_at_Banff_distributed_ERA5_merged_200806.nc', 'Bow_at_Banff_elevation_ERA5_remapped_domain_Bow_at_Banff_distributed_ERA5_merged_200807.nc', 'Bow_at_Banff_elevation_ERA5_remapped_domain_Bow_at_Banff_distributed_ERA5_merged_200808.nc', 'Bow_at_Banff_elevation_ERA5_remapped_domain_Bow_at_Banff_distributed_ERA5_merged_200809.nc', 'Bow_at_Banff_elevation_ERA5_remapped_domain_Bow_at_Banff_distributed_ERA5_merged_200810.nc', 'Bow_at_Banff_elevation_ERA5_remapped_domain_Bow_at_Banff_distributed_ERA5_merged_200811.nc', 'Bow_at_Banff_elevation_ERA5_remapped_domain_Bow_at_Banff_distributed_ERA5_merged_200812.nc', 'Bow_at_Banff_elevation_ERA5_remapped_domain_Bow_at_Banff_distributed_ERA5_merged_200901.nc', 'Bow_at_Banff_elevation_ERA5_remapped_domain_Bow_at_Banff_distributed_ERA5_merged_200902.nc', 'Bow_at_Banff_elevation_ERA5_remapped_domain_Bow_at_Banff_distributed_ERA5_merged_200903.nc', 'Bow_at_Banff_elevation_ERA5_remapped_domain_Bow_at_Banff_distributed_ERA5_merged_200904.nc', 'Bow_at_Banff_elevation_ERA5_remapped_domain_Bow_at_Banff_distributed_ERA5_merged_200905.nc', 'Bow_at_Banff_elevation_ERA5_remapped_domain_Bow_at_Banff_distributed_ERA5_merged_200906.nc', 'Bow_at_Banff_elevation_ERA5_remapped_domain_Bow_at_Banff_distributed_ERA5_merged_200907.nc', 'Bow_at_Banff_elevation_ERA5_remapped_domain_Bow_at_Banff_distributed_ERA5_merged_200908.nc', 'Bow_at_Banff_elevation_ERA5_remapped_domain_Bow_at_Banff_distributed_ERA5_merged_200909.nc', 'Bow_at_Banff_elevation_ERA5_remapped_domain_Bow_at_Banff_distributed_ERA5_merged_200910.nc', 'Bow_at_Banff_elevation_ERA5_remapped_domain_Bow_at_Banff_distributed_ERA5_merged_200911.nc', 'Bow_at_Banff_elevation_ERA5_remapped_domain_Bow_at_Banff_distributed_ERA5_merged_200912.nc', 'Bow_at_Banff_elevation_ERA5_remapped_domain_Bow_at_Banff_distributed_ERA5_merged_201001.nc', 'Bow_at_Banff_elevation_ERA5_remapped_domain_Bow_at_Banff_distributed_ERA5_merged_201002.nc', 'Bow_at_Banff_elevation_ERA5_remapped_domain_Bow_at_Banff_distributed_ERA5_merged_201003.nc', 'Bow_at_Banff_elevation_ERA5_remapped_domain_Bow_at_Banff_distributed_ERA5_merged_201004.nc', 'Bow_at_Banff_elevation_ERA5_remapped_domain_Bow_at_Banff_distributed_ERA5_merged_201005.nc', 'Bow_at_Banff_elevation_ERA5_remapped_domain_Bow_at_Banff_distributed_ERA5_merged_201006.nc', 'Bow_at_Banff_elevation_ERA5_remapped_domain_Bow_at_Banff_distributed_ERA5_merged_201007.nc', 'Bow_at_Banff_elevation_ERA5_remapped_domain_Bow_at_Banff_distributed_ERA5_merged_201008.nc', 'Bow_at_Banff_elevation_ERA5_remapped_domain_Bow_at_Banff_distributed_ERA5_merged_201009.nc', 'Bow_at_Banff_elevation_ERA5_remapped_domain_Bow_at_Banff_distributed_ERA5_merged_201010.nc', 'Bow_at_Banff_elevation_ERA5_remapped_domain_Bow_at_Banff_distributed_ERA5_merged_201011.nc', 'Bow_at_Banff_elevation_ERA5_remapped_domain_Bow_at_Banff_distributed_ERA5_merged_201012.nc', 'Bow_at_Banff_elevation_ERA5_remapped_domain_Bow_at_Banff_distributed_ERA5_merged_201101.nc', 'Bow_at_Banff_elevation_ERA5_remapped_domain_Bow_at_Banff_distributed_ERA5_merged_201102.nc', 'Bow_at_Banff_elevation_ERA5_remapped_domain_Bow_at_Banff_distributed_ERA5_merged_201103.nc', 'Bow_at_Banff_elevation_ERA5_remapped_domain_Bow_at_Banff_distributed_ERA5_merged_201104.nc', 'Bow_at_Banff_elevation_ERA5_remapped_domain_Bow_at_Banff_distributed_ERA5_merged_201105.nc', 'Bow_at_Banff_elevation_ERA5_remapped_domain_Bow_at_Banff_distributed_ERA5_merged_201106.nc', 'Bow_at_Banff_elevation_ERA5_remapped_domain_Bow_at_Banff_distributed_ERA5_merged_201107.nc', 'Bow_at_Banff_elevation_ERA5_remapped_domain_Bow_at_Banff_distributed_ERA5_merged_201108.nc', 'Bow_at_Banff_elevation_ERA5_remapped_domain_Bow_at_Banff_distributed_ERA5_merged_201109.nc', 'Bow_at_Banff_elevation_ERA5_remapped_domain_Bow_at_Banff_distributed_ERA5_merged_201110.nc', 'Bow_at_Banff_elevation_ERA5_remapped_domain_Bow_at_Banff_distributed_ERA5_merged_201111.nc', 'Bow_at_Banff_elevation_ERA5_remapped_domain_Bow_at_Banff_distributed_ERA5_merged_201112.nc', 'Bow_at_Banff_elevation_ERA5_remapped_domain_Bow_at_Banff_distributed_ERA5_merged_201201.nc', 'Bow_at_Banff_elevation_ERA5_remapped_domain_Bow_at_Banff_distributed_ERA5_merged_201202.nc', 'Bow_at_Banff_elevation_ERA5_remapped_domain_Bow_at_Banff_distributed_ERA5_merged_201203.nc', 'Bow_at_Banff_elevation_ERA5_remapped_domain_Bow_at_Banff_distributed_ERA5_merged_201204.nc', 'Bow_at_Banff_elevation_ERA5_remapped_domain_Bow_at_Banff_distributed_ERA5_merged_201205.nc', 'Bow_at_Banff_elevation_ERA5_remapped_domain_Bow_at_Banff_distributed_ERA5_merged_201206.nc', 'Bow_at_Banff_elevation_ERA5_remapped_domain_Bow_at_Banff_distributed_ERA5_merged_201207.nc', 'Bow_at_Banff_elevation_ERA5_remapped_domain_Bow_at_Banff_distributed_ERA5_merged_201208.nc', 'Bow_at_Banff_elevation_ERA5_remapped_domain_Bow_at_Banff_distributed_ERA5_merged_201209.nc', 'Bow_at_Banff_elevation_ERA5_remapped_domain_Bow_at_Banff_distributed_ERA5_merged_201210.nc', 'Bow_at_Banff_elevation_ERA5_remapped_domain_Bow_at_Banff_distributed_ERA5_merged_201211.nc', 'Bow_at_Banff_elevation_ERA5_remapped_domain_Bow_at_Banff_distributed_ERA5_merged_201212.nc', 'Bow_at_Banff_elevation_ERA5_remapped_domain_Bow_at_Banff_distributed_ERA5_merged_201301.nc', 'Bow_at_Banff_elevation_ERA5_remapped_domain_Bow_at_Banff_distributed_ERA5_merged_201302.nc', 'Bow_at_Banff_elevation_ERA5_remapped_domain_Bow_at_Banff_distributed_ERA5_merged_201303.nc', 'Bow_at_Banff_elevation_ERA5_remapped_domain_Bow_at_Banff_distributed_ERA5_merged_201304.nc', 'Bow_at_Banff_elevation_ERA5_remapped_domain_Bow_at_Banff_distributed_ERA5_merged_201305.nc', 'Bow_at_Banff_elevation_ERA5_remapped_domain_Bow_at_Banff_distributed_ERA5_merged_201306.nc', 'Bow_at_Banff_elevation_ERA5_remapped_domain_Bow_at_Banff_distributed_ERA5_merged_201307.nc', 'Bow_at_Banff_elevation_ERA5_remapped_domain_Bow_at_Banff_distributed_ERA5_merged_201308.nc', 'Bow_at_Banff_elevation_ERA5_remapped_domain_Bow_at_Banff_distributed_ERA5_merged_201309.nc', 'Bow_at_Banff_elevation_ERA5_remapped_domain_Bow_at_Banff_distributed_ERA5_merged_201310.nc', 'Bow_at_Banff_elevation_ERA5_remapped_domain_Bow_at_Banff_distributed_ERA5_merged_201311.nc', 'Bow_at_Banff_elevation_ERA5_remapped_domain_Bow_at_Banff_distributed_ERA5_merged_201312.nc', 'Bow_at_Banff_elevation_ERA5_remapped_domain_Bow_at_Banff_distributed_ERA5_merged_201401.nc', 'Bow_at_Banff_elevation_ERA5_remapped_domain_Bow_at_Banff_distributed_ERA5_merged_201402.nc', 'Bow_at_Banff_elevation_ERA5_remapped_domain_Bow_at_Banff_distributed_ERA5_merged_201403.nc', 'Bow_at_Banff_elevation_ERA5_remapped_domain_Bow_at_Banff_distributed_ERA5_merged_201404.nc', 'Bow_at_Banff_elevation_ERA5_remapped_domain_Bow_at_Banff_distributed_ERA5_merged_201405.nc', 'Bow_at_Banff_elevation_ERA5_remapped_domain_Bow_at_Banff_distributed_ERA5_merged_201406.nc', 'Bow_at_Banff_elevation_ERA5_remapped_domain_Bow_at_Banff_distributed_ERA5_merged_201407.nc', 'Bow_at_Banff_elevation_ERA5_remapped_domain_Bow_at_Banff_distributed_ERA5_merged_201408.nc', 'Bow_at_Banff_elevation_ERA5_remapped_domain_Bow_at_Banff_distributed_ERA5_merged_201409.nc', 'Bow_at_Banff_elevation_ERA5_remapped_domain_Bow_at_Banff_distributed_ERA5_merged_201410.nc', 'Bow_at_Banff_elevation_ERA5_remapped_domain_Bow_at_Banff_distributed_ERA5_merged_201411.nc', 'Bow_at_Banff_elevation_ERA5_remapped_domain_Bow_at_Banff_distributed_ERA5_merged_201412.nc', 'Bow_at_Banff_elevation_ERA5_remapped_domain_Bow_at_Banff_distributed_ERA5_merged_201501.nc', 'Bow_at_Banff_elevation_ERA5_remapped_domain_Bow_at_Banff_distributed_ERA5_merged_201502.nc', 'Bow_at_Banff_elevation_ERA5_remapped_domain_Bow_at_Banff_distributed_ERA5_merged_201503.nc', 'Bow_at_Banff_elevation_ERA5_remapped_domain_Bow_at_Banff_distributed_ERA5_merged_201504.nc', 'Bow_at_Banff_elevation_ERA5_remapped_domain_Bow_at_Banff_distributed_ERA5_merged_201505.nc', 'Bow_at_Banff_elevation_ERA5_remapped_domain_Bow_at_Banff_distributed_ERA5_merged_201506.nc', 'Bow_at_Banff_elevation_ERA5_remapped_domain_Bow_at_Banff_distributed_ERA5_merged_201507.nc', 'Bow_at_Banff_elevation_ERA5_remapped_domain_Bow_at_Banff_distributed_ERA5_merged_201508.nc', 'Bow_at_Banff_elevation_ERA5_remapped_domain_Bow_at_Banff_distributed_ERA5_merged_201509.nc', 'Bow_at_Banff_elevation_ERA5_remapped_domain_Bow_at_Banff_distributed_ERA5_merged_201510.nc', 'Bow_at_Banff_elevation_ERA5_remapped_domain_Bow_at_Banff_distributed_ERA5_merged_201511.nc', 'Bow_at_Banff_elevation_ERA5_remapped_domain_Bow_at_Banff_distributed_ERA5_merged_201512.nc', 'Bow_at_Banff_elevation_ERA5_remapped_domain_Bow_at_Banff_distributed_ERA5_merged_201601.nc', 'Bow_at_Banff_elevation_ERA5_remapped_domain_Bow_at_Banff_distributed_ERA5_merged_201602.nc', 'Bow_at_Banff_elevation_ERA5_remapped_domain_Bow_at_Banff_distributed_ERA5_merged_201603.nc', 'Bow_at_Banff_elevation_ERA5_remapped_domain_Bow_at_Banff_distributed_ERA5_merged_201604.nc', 'Bow_at_Banff_elevation_ERA5_remapped_domain_Bow_at_Banff_distributed_ERA5_merged_201605.nc', 'Bow_at_Banff_elevation_ERA5_remapped_domain_Bow_at_Banff_distributed_ERA5_merged_201606.nc', 'Bow_at_Banff_elevation_ERA5_remapped_domain_Bow_at_Banff_distributed_ERA5_merged_201607.nc', 'Bow_at_Banff_elevation_ERA5_remapped_domain_Bow_at_Banff_distributed_ERA5_merged_201608.nc', 'Bow_at_Banff_elevation_ERA5_remapped_domain_Bow_at_Banff_distributed_ERA5_merged_201609.nc', 'Bow_at_Banff_elevation_ERA5_remapped_domain_Bow_at_Banff_distributed_ERA5_merged_201610.nc', 'Bow_at_Banff_elevation_ERA5_remapped_domain_Bow_at_Banff_distributed_ERA5_merged_201611.nc', 'Bow_at_Banff_elevation_ERA5_remapped_domain_Bow_at_Banff_distributed_ERA5_merged_201612.nc', 'Bow_at_Banff_elevation_ERA5_remapped_domain_Bow_at_Banff_distributed_ERA5_merged_201701.nc', 'Bow_at_Banff_elevation_ERA5_remapped_domain_Bow_at_Banff_distributed_ERA5_merged_201702.nc', 'Bow_at_Banff_elevation_ERA5_remapped_domain_Bow_at_Banff_distributed_ERA5_merged_201703.nc', 'Bow_at_Banff_elevation_ERA5_remapped_domain_Bow_at_Banff_distributed_ERA5_merged_201704.nc', 'Bow_at_Banff_elevation_ERA5_remapped_domain_Bow_at_Banff_distributed_ERA5_merged_201705.nc', 'Bow_at_Banff_elevation_ERA5_remapped_domain_Bow_at_Banff_distributed_ERA5_merged_201706.nc', 'Bow_at_Banff_elevation_ERA5_remapped_domain_Bow_at_Banff_distributed_ERA5_merged_201707.nc', 'Bow_at_Banff_elevation_ERA5_remapped_domain_Bow_at_Banff_distributed_ERA5_merged_201708.nc', 'Bow_at_Banff_elevation_ERA5_remapped_domain_Bow_at_Banff_distributed_ERA5_merged_201709.nc', 'Bow_at_Banff_elevation_ERA5_remapped_domain_Bow_at_Banff_distributed_ERA5_merged_201710.nc', 'Bow_at_Banff_elevation_ERA5_remapped_domain_Bow_at_Banff_distributed_ERA5_merged_201711.nc', 'Bow_at_Banff_elevation_ERA5_remapped_domain_Bow_at_Banff_distributed_ERA5_merged_201712.nc', 'Bow_at_Banff_elevation_ERA5_remapped_domain_Bow_at_Banff_distributed_ERA5_merged_201801.nc', 'Bow_at_Banff_elevation_ERA5_remapped_domain_Bow_at_Banff_distributed_ERA5_merged_201802.nc', 'Bow_at_Banff_elevation_ERA5_remapped_domain_Bow_at_Banff_distributed_ERA5_merged_201803.nc', 'Bow_at_Banff_elevation_ERA5_remapped_domain_Bow_at_Banff_distributed_ERA5_merged_201804.nc', 'Bow_at_Banff_elevation_ERA5_remapped_domain_Bow_at_Banff_distributed_ERA5_merged_201805.nc', 'Bow_at_Banff_elevation_ERA5_remapped_domain_Bow_at_Banff_distributed_ERA5_merged_201806.nc', 'Bow_at_Banff_elevation_ERA5_remapped_domain_Bow_at_Banff_distributed_ERA5_merged_201807.nc', 'Bow_at_Banff_elevation_ERA5_remapped_domain_Bow_at_Banff_distributed_ERA5_merged_201808.nc', 'Bow_at_Banff_elevation_ERA5_remapped_domain_Bow_at_Banff_distributed_ERA5_merged_201809.nc', 'Bow_at_Banff_elevation_ERA5_remapped_domain_Bow_at_Banff_distributed_ERA5_merged_201810.nc', 'Bow_at_Banff_elevation_ERA5_remapped_domain_Bow_at_Banff_distributed_ERA5_merged_201811.nc', 'Bow_at_Banff_elevation_ERA5_remapped_domain_Bow_at_Banff_distributed_ERA5_merged_201812.nc', 'Bow_at_Banff_elevation_ERA5_remapped_domain_Bow_at_Banff_distributed_ERA5_merged_201901.nc', 'Bow_at_Banff_elevation_ERA5_remapped_domain_Bow_at_Banff_distributed_ERA5_merged_201902.nc', 'Bow_at_Banff_elevation_ERA5_remapped_domain_Bow_at_Banff_distributed_ERA5_merged_201903.nc', 'Bow_at_Banff_elevation_ERA5_remapped_domain_Bow_at_Banff_distributed_ERA5_merged_201904.nc', 'Bow_at_Banff_elevation_ERA5_remapped_domain_Bow_at_Banff_distributed_ERA5_merged_201905.nc', 'Bow_at_Banff_elevation_ERA5_remapped_domain_Bow_at_Banff_distributed_ERA5_merged_201906.nc', 'Bow_at_Banff_elevation_ERA5_remapped_domain_Bow_at_Banff_distributed_ERA5_merged_201907.nc', 'Bow_at_Banff_elevation_ERA5_remapped_domain_Bow_at_Banff_distributed_ERA5_merged_201908.nc', 'Bow_at_Banff_elevation_ERA5_remapped_domain_Bow_at_Banff_distributed_ERA5_merged_201909.nc', 'Bow_at_Banff_elevation_ERA5_remapped_domain_Bow_at_Banff_distributed_ERA5_merged_201910.nc', 'Bow_at_Banff_elevation_ERA5_remapped_domain_Bow_at_Banff_distributed_ERA5_merged_201911.nc', 'Bow_at_Banff_elevation_ERA5_remapped_domain_Bow_at_Banff_distributed_ERA5_merged_201912.nc', 'Bow_at_Banff_elevation_ERA5_remapped_domain_Bow_at_Banff_distributed_ERA5_merged_202001.nc', 'Bow_at_Banff_elevation_ERA5_remapped_domain_Bow_at_Banff_distributed_ERA5_merged_202002.nc', 'Bow_at_Banff_elevation_ERA5_remapped_domain_Bow_at_Banff_distributed_ERA5_merged_202003.nc', 'Bow_at_Banff_elevation_ERA5_remapped_domain_Bow_at_Banff_distributed_ERA5_merged_202004.nc', 'Bow_at_Banff_elevation_ERA5_remapped_domain_Bow_at_Banff_distributed_ERA5_merged_202005.nc', 'Bow_at_Banff_elevation_ERA5_remapped_domain_Bow_at_Banff_distributed_ERA5_merged_202006.nc', 'Bow_at_Banff_elevation_ERA5_remapped_domain_Bow_at_Banff_distributed_ERA5_merged_202007.nc', 'Bow_at_Banff_elevation_ERA5_remapped_domain_Bow_at_Banff_distributed_ERA5_merged_202008.nc', 'Bow_at_Banff_elevation_ERA5_remapped_domain_Bow_at_Banff_distributed_ERA5_merged_202009.nc', 'Bow_at_Banff_elevation_ERA5_remapped_domain_Bow_at_Banff_distributed_ERA5_merged_202010.nc', 'Bow_at_Banff_elevation_ERA5_remapped_domain_Bow_at_Banff_distributed_ERA5_merged_202011.nc', 'Bow_at_Banff_elevation_ERA5_remapped_domain_Bow_at_Banff_distributed_ERA5_merged_202012.nc', 'Bow_at_Banff_elevation_ERA5_remapped_domain_Bow_at_Banff_distributed_ERA5_merged_202101.nc', 'Bow_at_Banff_elevation_ERA5_remapped_domain_Bow_at_Banff_distributed_ERA5_merged_202102.nc', 'Bow_at_Banff_elevation_ERA5_remapped_domain_Bow_at_Banff_distributed_ERA5_merged_202103.nc', 'Bow_at_Banff_elevation_ERA5_remapped_domain_Bow_at_Banff_distributed_ERA5_merged_202104.nc', 'Bow_at_Banff_elevation_ERA5_remapped_domain_Bow_at_Banff_distributed_ERA5_merged_202105.nc', 'Bow_at_Banff_elevation_ERA5_remapped_domain_Bow_at_Banff_distributed_ERA5_merged_202106.nc', 'Bow_at_Banff_elevation_ERA5_remapped_domain_Bow_at_Banff_distributed_ERA5_merged_202107.nc', 'Bow_at_Banff_elevation_ERA5_remapped_domain_Bow_at_Banff_distributed_ERA5_merged_202108.nc', 'Bow_at_Banff_elevation_ERA5_remapped_domain_Bow_at_Banff_distributed_ERA5_merged_202109.nc', 'Bow_at_Banff_elevation_ERA5_remapped_domain_Bow_at_Banff_distributed_ERA5_merged_202110.nc', 'Bow_at_Banff_elevation_ERA5_remapped_domain_Bow_at_Banff_distributed_ERA5_merged_202111.nc', 'Bow_at_Banff_elevation_ERA5_remapped_domain_Bow_at_Banff_distributed_ERA5_merged_202112.nc', 'Bow_at_Banff_elevation_ERA5_remapped_domain_Bow_at_Banff_distributed_ERA5_merged_202201.nc', 'Bow_at_Banff_elevation_ERA5_remapped_domain_Bow_at_Banff_distributed_ERA5_merged_202202.nc', 'Bow_at_Banff_elevation_ERA5_remapped_domain_Bow_at_Banff_distributed_ERA5_merged_202203.nc', 'Bow_at_Banff_elevation_ERA5_remapped_domain_Bow_at_Banff_distributed_ERA5_merged_202204.nc', 'Bow_at_Banff_elevation_ERA5_remapped_domain_Bow_at_Banff_distributed_ERA5_merged_202205.nc', 'Bow_at_Banff_elevation_ERA5_remapped_domain_Bow_at_Banff_distributed_ERA5_merged_202206.nc', 'Bow_at_Banff_elevation_ERA5_remapped_domain_Bow_at_Banff_distributed_ERA5_merged_202207.nc', 'Bow_at_Banff_elevation_ERA5_remapped_domain_Bow_at_Banff_distributed_ERA5_merged_202208.nc', 'Bow_at_Banff_elevation_ERA5_remapped_domain_Bow_at_Banff_distributed_ERA5_merged_202209.nc', 'Bow_at_Banff_elevation_ERA5_remapped_domain_Bow_at_Banff_distributed_ERA5_merged_202210.nc', 'Bow_at_Banff_elevation_ERA5_remapped_domain_Bow_at_Banff_distributed_ERA5_merged_202211.nc', 'Bow_at_Banff_elevation_ERA5_remapped_domain_Bow_at_Banff_distributed_ERA5_merged_202212.nc']\n"
     ]
    },
    {
     "name": "stderr",
     "output_type": "stream",
     "text": [
      "2025-05-13 19:41:21,684 - confluence_general - INFO - forcing files: ['Bow_at_Banff_elevation_ERA5_remapped_domain_Bow_at_Banff_distributed_ERA5_merged_200001.nc', 'Bow_at_Banff_elevation_ERA5_remapped_domain_Bow_at_Banff_distributed_ERA5_merged_200002.nc', 'Bow_at_Banff_elevation_ERA5_remapped_domain_Bow_at_Banff_distributed_ERA5_merged_200003.nc', 'Bow_at_Banff_elevation_ERA5_remapped_domain_Bow_at_Banff_distributed_ERA5_merged_200004.nc', 'Bow_at_Banff_elevation_ERA5_remapped_domain_Bow_at_Banff_distributed_ERA5_merged_200005.nc', 'Bow_at_Banff_elevation_ERA5_remapped_domain_Bow_at_Banff_distributed_ERA5_merged_200006.nc', 'Bow_at_Banff_elevation_ERA5_remapped_domain_Bow_at_Banff_distributed_ERA5_merged_200007.nc', 'Bow_at_Banff_elevation_ERA5_remapped_domain_Bow_at_Banff_distributed_ERA5_merged_200008.nc', 'Bow_at_Banff_elevation_ERA5_remapped_domain_Bow_at_Banff_distributed_ERA5_merged_200009.nc', 'Bow_at_Banff_elevation_ERA5_remapped_domain_Bow_at_Banff_distributed_ERA5_merged_200010.nc', 'Bow_at_Banff_elevation_ERA5_remapped_domain_Bow_at_Banff_distributed_ERA5_merged_200011.nc', 'Bow_at_Banff_elevation_ERA5_remapped_domain_Bow_at_Banff_distributed_ERA5_merged_200012.nc', 'Bow_at_Banff_elevation_ERA5_remapped_domain_Bow_at_Banff_distributed_ERA5_merged_200101.nc', 'Bow_at_Banff_elevation_ERA5_remapped_domain_Bow_at_Banff_distributed_ERA5_merged_200102.nc', 'Bow_at_Banff_elevation_ERA5_remapped_domain_Bow_at_Banff_distributed_ERA5_merged_200103.nc', 'Bow_at_Banff_elevation_ERA5_remapped_domain_Bow_at_Banff_distributed_ERA5_merged_200104.nc', 'Bow_at_Banff_elevation_ERA5_remapped_domain_Bow_at_Banff_distributed_ERA5_merged_200105.nc', 'Bow_at_Banff_elevation_ERA5_remapped_domain_Bow_at_Banff_distributed_ERA5_merged_200106.nc', 'Bow_at_Banff_elevation_ERA5_remapped_domain_Bow_at_Banff_distributed_ERA5_merged_200107.nc', 'Bow_at_Banff_elevation_ERA5_remapped_domain_Bow_at_Banff_distributed_ERA5_merged_200108.nc', 'Bow_at_Banff_elevation_ERA5_remapped_domain_Bow_at_Banff_distributed_ERA5_merged_200109.nc', 'Bow_at_Banff_elevation_ERA5_remapped_domain_Bow_at_Banff_distributed_ERA5_merged_200110.nc', 'Bow_at_Banff_elevation_ERA5_remapped_domain_Bow_at_Banff_distributed_ERA5_merged_200111.nc', 'Bow_at_Banff_elevation_ERA5_remapped_domain_Bow_at_Banff_distributed_ERA5_merged_200112.nc', 'Bow_at_Banff_elevation_ERA5_remapped_domain_Bow_at_Banff_distributed_ERA5_merged_200201.nc', 'Bow_at_Banff_elevation_ERA5_remapped_domain_Bow_at_Banff_distributed_ERA5_merged_200202.nc', 'Bow_at_Banff_elevation_ERA5_remapped_domain_Bow_at_Banff_distributed_ERA5_merged_200203.nc', 'Bow_at_Banff_elevation_ERA5_remapped_domain_Bow_at_Banff_distributed_ERA5_merged_200204.nc', 'Bow_at_Banff_elevation_ERA5_remapped_domain_Bow_at_Banff_distributed_ERA5_merged_200205.nc', 'Bow_at_Banff_elevation_ERA5_remapped_domain_Bow_at_Banff_distributed_ERA5_merged_200206.nc', 'Bow_at_Banff_elevation_ERA5_remapped_domain_Bow_at_Banff_distributed_ERA5_merged_200207.nc', 'Bow_at_Banff_elevation_ERA5_remapped_domain_Bow_at_Banff_distributed_ERA5_merged_200208.nc', 'Bow_at_Banff_elevation_ERA5_remapped_domain_Bow_at_Banff_distributed_ERA5_merged_200209.nc', 'Bow_at_Banff_elevation_ERA5_remapped_domain_Bow_at_Banff_distributed_ERA5_merged_200210.nc', 'Bow_at_Banff_elevation_ERA5_remapped_domain_Bow_at_Banff_distributed_ERA5_merged_200211.nc', 'Bow_at_Banff_elevation_ERA5_remapped_domain_Bow_at_Banff_distributed_ERA5_merged_200212.nc', 'Bow_at_Banff_elevation_ERA5_remapped_domain_Bow_at_Banff_distributed_ERA5_merged_200301.nc', 'Bow_at_Banff_elevation_ERA5_remapped_domain_Bow_at_Banff_distributed_ERA5_merged_200302.nc', 'Bow_at_Banff_elevation_ERA5_remapped_domain_Bow_at_Banff_distributed_ERA5_merged_200303.nc', 'Bow_at_Banff_elevation_ERA5_remapped_domain_Bow_at_Banff_distributed_ERA5_merged_200304.nc', 'Bow_at_Banff_elevation_ERA5_remapped_domain_Bow_at_Banff_distributed_ERA5_merged_200305.nc', 'Bow_at_Banff_elevation_ERA5_remapped_domain_Bow_at_Banff_distributed_ERA5_merged_200306.nc', 'Bow_at_Banff_elevation_ERA5_remapped_domain_Bow_at_Banff_distributed_ERA5_merged_200307.nc', 'Bow_at_Banff_elevation_ERA5_remapped_domain_Bow_at_Banff_distributed_ERA5_merged_200308.nc', 'Bow_at_Banff_elevation_ERA5_remapped_domain_Bow_at_Banff_distributed_ERA5_merged_200309.nc', 'Bow_at_Banff_elevation_ERA5_remapped_domain_Bow_at_Banff_distributed_ERA5_merged_200310.nc', 'Bow_at_Banff_elevation_ERA5_remapped_domain_Bow_at_Banff_distributed_ERA5_merged_200311.nc', 'Bow_at_Banff_elevation_ERA5_remapped_domain_Bow_at_Banff_distributed_ERA5_merged_200312.nc', 'Bow_at_Banff_elevation_ERA5_remapped_domain_Bow_at_Banff_distributed_ERA5_merged_200401.nc', 'Bow_at_Banff_elevation_ERA5_remapped_domain_Bow_at_Banff_distributed_ERA5_merged_200402.nc', 'Bow_at_Banff_elevation_ERA5_remapped_domain_Bow_at_Banff_distributed_ERA5_merged_200403.nc', 'Bow_at_Banff_elevation_ERA5_remapped_domain_Bow_at_Banff_distributed_ERA5_merged_200404.nc', 'Bow_at_Banff_elevation_ERA5_remapped_domain_Bow_at_Banff_distributed_ERA5_merged_200405.nc', 'Bow_at_Banff_elevation_ERA5_remapped_domain_Bow_at_Banff_distributed_ERA5_merged_200406.nc', 'Bow_at_Banff_elevation_ERA5_remapped_domain_Bow_at_Banff_distributed_ERA5_merged_200407.nc', 'Bow_at_Banff_elevation_ERA5_remapped_domain_Bow_at_Banff_distributed_ERA5_merged_200408.nc', 'Bow_at_Banff_elevation_ERA5_remapped_domain_Bow_at_Banff_distributed_ERA5_merged_200409.nc', 'Bow_at_Banff_elevation_ERA5_remapped_domain_Bow_at_Banff_distributed_ERA5_merged_200410.nc', 'Bow_at_Banff_elevation_ERA5_remapped_domain_Bow_at_Banff_distributed_ERA5_merged_200411.nc', 'Bow_at_Banff_elevation_ERA5_remapped_domain_Bow_at_Banff_distributed_ERA5_merged_200412.nc', 'Bow_at_Banff_elevation_ERA5_remapped_domain_Bow_at_Banff_distributed_ERA5_merged_200501.nc', 'Bow_at_Banff_elevation_ERA5_remapped_domain_Bow_at_Banff_distributed_ERA5_merged_200502.nc', 'Bow_at_Banff_elevation_ERA5_remapped_domain_Bow_at_Banff_distributed_ERA5_merged_200503.nc', 'Bow_at_Banff_elevation_ERA5_remapped_domain_Bow_at_Banff_distributed_ERA5_merged_200504.nc', 'Bow_at_Banff_elevation_ERA5_remapped_domain_Bow_at_Banff_distributed_ERA5_merged_200505.nc', 'Bow_at_Banff_elevation_ERA5_remapped_domain_Bow_at_Banff_distributed_ERA5_merged_200506.nc', 'Bow_at_Banff_elevation_ERA5_remapped_domain_Bow_at_Banff_distributed_ERA5_merged_200507.nc', 'Bow_at_Banff_elevation_ERA5_remapped_domain_Bow_at_Banff_distributed_ERA5_merged_200508.nc', 'Bow_at_Banff_elevation_ERA5_remapped_domain_Bow_at_Banff_distributed_ERA5_merged_200509.nc', 'Bow_at_Banff_elevation_ERA5_remapped_domain_Bow_at_Banff_distributed_ERA5_merged_200510.nc', 'Bow_at_Banff_elevation_ERA5_remapped_domain_Bow_at_Banff_distributed_ERA5_merged_200511.nc', 'Bow_at_Banff_elevation_ERA5_remapped_domain_Bow_at_Banff_distributed_ERA5_merged_200512.nc', 'Bow_at_Banff_elevation_ERA5_remapped_domain_Bow_at_Banff_distributed_ERA5_merged_200601.nc', 'Bow_at_Banff_elevation_ERA5_remapped_domain_Bow_at_Banff_distributed_ERA5_merged_200602.nc', 'Bow_at_Banff_elevation_ERA5_remapped_domain_Bow_at_Banff_distributed_ERA5_merged_200603.nc', 'Bow_at_Banff_elevation_ERA5_remapped_domain_Bow_at_Banff_distributed_ERA5_merged_200604.nc', 'Bow_at_Banff_elevation_ERA5_remapped_domain_Bow_at_Banff_distributed_ERA5_merged_200605.nc', 'Bow_at_Banff_elevation_ERA5_remapped_domain_Bow_at_Banff_distributed_ERA5_merged_200606.nc', 'Bow_at_Banff_elevation_ERA5_remapped_domain_Bow_at_Banff_distributed_ERA5_merged_200607.nc', 'Bow_at_Banff_elevation_ERA5_remapped_domain_Bow_at_Banff_distributed_ERA5_merged_200608.nc', 'Bow_at_Banff_elevation_ERA5_remapped_domain_Bow_at_Banff_distributed_ERA5_merged_200609.nc', 'Bow_at_Banff_elevation_ERA5_remapped_domain_Bow_at_Banff_distributed_ERA5_merged_200610.nc', 'Bow_at_Banff_elevation_ERA5_remapped_domain_Bow_at_Banff_distributed_ERA5_merged_200611.nc', 'Bow_at_Banff_elevation_ERA5_remapped_domain_Bow_at_Banff_distributed_ERA5_merged_200612.nc', 'Bow_at_Banff_elevation_ERA5_remapped_domain_Bow_at_Banff_distributed_ERA5_merged_200701.nc', 'Bow_at_Banff_elevation_ERA5_remapped_domain_Bow_at_Banff_distributed_ERA5_merged_200702.nc', 'Bow_at_Banff_elevation_ERA5_remapped_domain_Bow_at_Banff_distributed_ERA5_merged_200703.nc', 'Bow_at_Banff_elevation_ERA5_remapped_domain_Bow_at_Banff_distributed_ERA5_merged_200704.nc', 'Bow_at_Banff_elevation_ERA5_remapped_domain_Bow_at_Banff_distributed_ERA5_merged_200705.nc', 'Bow_at_Banff_elevation_ERA5_remapped_domain_Bow_at_Banff_distributed_ERA5_merged_200706.nc', 'Bow_at_Banff_elevation_ERA5_remapped_domain_Bow_at_Banff_distributed_ERA5_merged_200707.nc', 'Bow_at_Banff_elevation_ERA5_remapped_domain_Bow_at_Banff_distributed_ERA5_merged_200708.nc', 'Bow_at_Banff_elevation_ERA5_remapped_domain_Bow_at_Banff_distributed_ERA5_merged_200709.nc', 'Bow_at_Banff_elevation_ERA5_remapped_domain_Bow_at_Banff_distributed_ERA5_merged_200710.nc', 'Bow_at_Banff_elevation_ERA5_remapped_domain_Bow_at_Banff_distributed_ERA5_merged_200711.nc', 'Bow_at_Banff_elevation_ERA5_remapped_domain_Bow_at_Banff_distributed_ERA5_merged_200712.nc', 'Bow_at_Banff_elevation_ERA5_remapped_domain_Bow_at_Banff_distributed_ERA5_merged_200801.nc', 'Bow_at_Banff_elevation_ERA5_remapped_domain_Bow_at_Banff_distributed_ERA5_merged_200802.nc', 'Bow_at_Banff_elevation_ERA5_remapped_domain_Bow_at_Banff_distributed_ERA5_merged_200803.nc', 'Bow_at_Banff_elevation_ERA5_remapped_domain_Bow_at_Banff_distributed_ERA5_merged_200804.nc', 'Bow_at_Banff_elevation_ERA5_remapped_domain_Bow_at_Banff_distributed_ERA5_merged_200805.nc', 'Bow_at_Banff_elevation_ERA5_remapped_domain_Bow_at_Banff_distributed_ERA5_merged_200806.nc', 'Bow_at_Banff_elevation_ERA5_remapped_domain_Bow_at_Banff_distributed_ERA5_merged_200807.nc', 'Bow_at_Banff_elevation_ERA5_remapped_domain_Bow_at_Banff_distributed_ERA5_merged_200808.nc', 'Bow_at_Banff_elevation_ERA5_remapped_domain_Bow_at_Banff_distributed_ERA5_merged_200809.nc', 'Bow_at_Banff_elevation_ERA5_remapped_domain_Bow_at_Banff_distributed_ERA5_merged_200810.nc', 'Bow_at_Banff_elevation_ERA5_remapped_domain_Bow_at_Banff_distributed_ERA5_merged_200811.nc', 'Bow_at_Banff_elevation_ERA5_remapped_domain_Bow_at_Banff_distributed_ERA5_merged_200812.nc', 'Bow_at_Banff_elevation_ERA5_remapped_domain_Bow_at_Banff_distributed_ERA5_merged_200901.nc', 'Bow_at_Banff_elevation_ERA5_remapped_domain_Bow_at_Banff_distributed_ERA5_merged_200902.nc', 'Bow_at_Banff_elevation_ERA5_remapped_domain_Bow_at_Banff_distributed_ERA5_merged_200903.nc', 'Bow_at_Banff_elevation_ERA5_remapped_domain_Bow_at_Banff_distributed_ERA5_merged_200904.nc', 'Bow_at_Banff_elevation_ERA5_remapped_domain_Bow_at_Banff_distributed_ERA5_merged_200905.nc', 'Bow_at_Banff_elevation_ERA5_remapped_domain_Bow_at_Banff_distributed_ERA5_merged_200906.nc', 'Bow_at_Banff_elevation_ERA5_remapped_domain_Bow_at_Banff_distributed_ERA5_merged_200907.nc', 'Bow_at_Banff_elevation_ERA5_remapped_domain_Bow_at_Banff_distributed_ERA5_merged_200908.nc', 'Bow_at_Banff_elevation_ERA5_remapped_domain_Bow_at_Banff_distributed_ERA5_merged_200909.nc', 'Bow_at_Banff_elevation_ERA5_remapped_domain_Bow_at_Banff_distributed_ERA5_merged_200910.nc', 'Bow_at_Banff_elevation_ERA5_remapped_domain_Bow_at_Banff_distributed_ERA5_merged_200911.nc', 'Bow_at_Banff_elevation_ERA5_remapped_domain_Bow_at_Banff_distributed_ERA5_merged_200912.nc', 'Bow_at_Banff_elevation_ERA5_remapped_domain_Bow_at_Banff_distributed_ERA5_merged_201001.nc', 'Bow_at_Banff_elevation_ERA5_remapped_domain_Bow_at_Banff_distributed_ERA5_merged_201002.nc', 'Bow_at_Banff_elevation_ERA5_remapped_domain_Bow_at_Banff_distributed_ERA5_merged_201003.nc', 'Bow_at_Banff_elevation_ERA5_remapped_domain_Bow_at_Banff_distributed_ERA5_merged_201004.nc', 'Bow_at_Banff_elevation_ERA5_remapped_domain_Bow_at_Banff_distributed_ERA5_merged_201005.nc', 'Bow_at_Banff_elevation_ERA5_remapped_domain_Bow_at_Banff_distributed_ERA5_merged_201006.nc', 'Bow_at_Banff_elevation_ERA5_remapped_domain_Bow_at_Banff_distributed_ERA5_merged_201007.nc', 'Bow_at_Banff_elevation_ERA5_remapped_domain_Bow_at_Banff_distributed_ERA5_merged_201008.nc', 'Bow_at_Banff_elevation_ERA5_remapped_domain_Bow_at_Banff_distributed_ERA5_merged_201009.nc', 'Bow_at_Banff_elevation_ERA5_remapped_domain_Bow_at_Banff_distributed_ERA5_merged_201010.nc', 'Bow_at_Banff_elevation_ERA5_remapped_domain_Bow_at_Banff_distributed_ERA5_merged_201011.nc', 'Bow_at_Banff_elevation_ERA5_remapped_domain_Bow_at_Banff_distributed_ERA5_merged_201012.nc', 'Bow_at_Banff_elevation_ERA5_remapped_domain_Bow_at_Banff_distributed_ERA5_merged_201101.nc', 'Bow_at_Banff_elevation_ERA5_remapped_domain_Bow_at_Banff_distributed_ERA5_merged_201102.nc', 'Bow_at_Banff_elevation_ERA5_remapped_domain_Bow_at_Banff_distributed_ERA5_merged_201103.nc', 'Bow_at_Banff_elevation_ERA5_remapped_domain_Bow_at_Banff_distributed_ERA5_merged_201104.nc', 'Bow_at_Banff_elevation_ERA5_remapped_domain_Bow_at_Banff_distributed_ERA5_merged_201105.nc', 'Bow_at_Banff_elevation_ERA5_remapped_domain_Bow_at_Banff_distributed_ERA5_merged_201106.nc', 'Bow_at_Banff_elevation_ERA5_remapped_domain_Bow_at_Banff_distributed_ERA5_merged_201107.nc', 'Bow_at_Banff_elevation_ERA5_remapped_domain_Bow_at_Banff_distributed_ERA5_merged_201108.nc', 'Bow_at_Banff_elevation_ERA5_remapped_domain_Bow_at_Banff_distributed_ERA5_merged_201109.nc', 'Bow_at_Banff_elevation_ERA5_remapped_domain_Bow_at_Banff_distributed_ERA5_merged_201110.nc', 'Bow_at_Banff_elevation_ERA5_remapped_domain_Bow_at_Banff_distributed_ERA5_merged_201111.nc', 'Bow_at_Banff_elevation_ERA5_remapped_domain_Bow_at_Banff_distributed_ERA5_merged_201112.nc', 'Bow_at_Banff_elevation_ERA5_remapped_domain_Bow_at_Banff_distributed_ERA5_merged_201201.nc', 'Bow_at_Banff_elevation_ERA5_remapped_domain_Bow_at_Banff_distributed_ERA5_merged_201202.nc', 'Bow_at_Banff_elevation_ERA5_remapped_domain_Bow_at_Banff_distributed_ERA5_merged_201203.nc', 'Bow_at_Banff_elevation_ERA5_remapped_domain_Bow_at_Banff_distributed_ERA5_merged_201204.nc', 'Bow_at_Banff_elevation_ERA5_remapped_domain_Bow_at_Banff_distributed_ERA5_merged_201205.nc', 'Bow_at_Banff_elevation_ERA5_remapped_domain_Bow_at_Banff_distributed_ERA5_merged_201206.nc', 'Bow_at_Banff_elevation_ERA5_remapped_domain_Bow_at_Banff_distributed_ERA5_merged_201207.nc', 'Bow_at_Banff_elevation_ERA5_remapped_domain_Bow_at_Banff_distributed_ERA5_merged_201208.nc', 'Bow_at_Banff_elevation_ERA5_remapped_domain_Bow_at_Banff_distributed_ERA5_merged_201209.nc', 'Bow_at_Banff_elevation_ERA5_remapped_domain_Bow_at_Banff_distributed_ERA5_merged_201210.nc', 'Bow_at_Banff_elevation_ERA5_remapped_domain_Bow_at_Banff_distributed_ERA5_merged_201211.nc', 'Bow_at_Banff_elevation_ERA5_remapped_domain_Bow_at_Banff_distributed_ERA5_merged_201212.nc', 'Bow_at_Banff_elevation_ERA5_remapped_domain_Bow_at_Banff_distributed_ERA5_merged_201301.nc', 'Bow_at_Banff_elevation_ERA5_remapped_domain_Bow_at_Banff_distributed_ERA5_merged_201302.nc', 'Bow_at_Banff_elevation_ERA5_remapped_domain_Bow_at_Banff_distributed_ERA5_merged_201303.nc', 'Bow_at_Banff_elevation_ERA5_remapped_domain_Bow_at_Banff_distributed_ERA5_merged_201304.nc', 'Bow_at_Banff_elevation_ERA5_remapped_domain_Bow_at_Banff_distributed_ERA5_merged_201305.nc', 'Bow_at_Banff_elevation_ERA5_remapped_domain_Bow_at_Banff_distributed_ERA5_merged_201306.nc', 'Bow_at_Banff_elevation_ERA5_remapped_domain_Bow_at_Banff_distributed_ERA5_merged_201307.nc', 'Bow_at_Banff_elevation_ERA5_remapped_domain_Bow_at_Banff_distributed_ERA5_merged_201308.nc', 'Bow_at_Banff_elevation_ERA5_remapped_domain_Bow_at_Banff_distributed_ERA5_merged_201309.nc', 'Bow_at_Banff_elevation_ERA5_remapped_domain_Bow_at_Banff_distributed_ERA5_merged_201310.nc', 'Bow_at_Banff_elevation_ERA5_remapped_domain_Bow_at_Banff_distributed_ERA5_merged_201311.nc', 'Bow_at_Banff_elevation_ERA5_remapped_domain_Bow_at_Banff_distributed_ERA5_merged_201312.nc', 'Bow_at_Banff_elevation_ERA5_remapped_domain_Bow_at_Banff_distributed_ERA5_merged_201401.nc', 'Bow_at_Banff_elevation_ERA5_remapped_domain_Bow_at_Banff_distributed_ERA5_merged_201402.nc', 'Bow_at_Banff_elevation_ERA5_remapped_domain_Bow_at_Banff_distributed_ERA5_merged_201403.nc', 'Bow_at_Banff_elevation_ERA5_remapped_domain_Bow_at_Banff_distributed_ERA5_merged_201404.nc', 'Bow_at_Banff_elevation_ERA5_remapped_domain_Bow_at_Banff_distributed_ERA5_merged_201405.nc', 'Bow_at_Banff_elevation_ERA5_remapped_domain_Bow_at_Banff_distributed_ERA5_merged_201406.nc', 'Bow_at_Banff_elevation_ERA5_remapped_domain_Bow_at_Banff_distributed_ERA5_merged_201407.nc', 'Bow_at_Banff_elevation_ERA5_remapped_domain_Bow_at_Banff_distributed_ERA5_merged_201408.nc', 'Bow_at_Banff_elevation_ERA5_remapped_domain_Bow_at_Banff_distributed_ERA5_merged_201409.nc', 'Bow_at_Banff_elevation_ERA5_remapped_domain_Bow_at_Banff_distributed_ERA5_merged_201410.nc', 'Bow_at_Banff_elevation_ERA5_remapped_domain_Bow_at_Banff_distributed_ERA5_merged_201411.nc', 'Bow_at_Banff_elevation_ERA5_remapped_domain_Bow_at_Banff_distributed_ERA5_merged_201412.nc', 'Bow_at_Banff_elevation_ERA5_remapped_domain_Bow_at_Banff_distributed_ERA5_merged_201501.nc', 'Bow_at_Banff_elevation_ERA5_remapped_domain_Bow_at_Banff_distributed_ERA5_merged_201502.nc', 'Bow_at_Banff_elevation_ERA5_remapped_domain_Bow_at_Banff_distributed_ERA5_merged_201503.nc', 'Bow_at_Banff_elevation_ERA5_remapped_domain_Bow_at_Banff_distributed_ERA5_merged_201504.nc', 'Bow_at_Banff_elevation_ERA5_remapped_domain_Bow_at_Banff_distributed_ERA5_merged_201505.nc', 'Bow_at_Banff_elevation_ERA5_remapped_domain_Bow_at_Banff_distributed_ERA5_merged_201506.nc', 'Bow_at_Banff_elevation_ERA5_remapped_domain_Bow_at_Banff_distributed_ERA5_merged_201507.nc', 'Bow_at_Banff_elevation_ERA5_remapped_domain_Bow_at_Banff_distributed_ERA5_merged_201508.nc', 'Bow_at_Banff_elevation_ERA5_remapped_domain_Bow_at_Banff_distributed_ERA5_merged_201509.nc', 'Bow_at_Banff_elevation_ERA5_remapped_domain_Bow_at_Banff_distributed_ERA5_merged_201510.nc', 'Bow_at_Banff_elevation_ERA5_remapped_domain_Bow_at_Banff_distributed_ERA5_merged_201511.nc', 'Bow_at_Banff_elevation_ERA5_remapped_domain_Bow_at_Banff_distributed_ERA5_merged_201512.nc', 'Bow_at_Banff_elevation_ERA5_remapped_domain_Bow_at_Banff_distributed_ERA5_merged_201601.nc', 'Bow_at_Banff_elevation_ERA5_remapped_domain_Bow_at_Banff_distributed_ERA5_merged_201602.nc', 'Bow_at_Banff_elevation_ERA5_remapped_domain_Bow_at_Banff_distributed_ERA5_merged_201603.nc', 'Bow_at_Banff_elevation_ERA5_remapped_domain_Bow_at_Banff_distributed_ERA5_merged_201604.nc', 'Bow_at_Banff_elevation_ERA5_remapped_domain_Bow_at_Banff_distributed_ERA5_merged_201605.nc', 'Bow_at_Banff_elevation_ERA5_remapped_domain_Bow_at_Banff_distributed_ERA5_merged_201606.nc', 'Bow_at_Banff_elevation_ERA5_remapped_domain_Bow_at_Banff_distributed_ERA5_merged_201607.nc', 'Bow_at_Banff_elevation_ERA5_remapped_domain_Bow_at_Banff_distributed_ERA5_merged_201608.nc', 'Bow_at_Banff_elevation_ERA5_remapped_domain_Bow_at_Banff_distributed_ERA5_merged_201609.nc', 'Bow_at_Banff_elevation_ERA5_remapped_domain_Bow_at_Banff_distributed_ERA5_merged_201610.nc', 'Bow_at_Banff_elevation_ERA5_remapped_domain_Bow_at_Banff_distributed_ERA5_merged_201611.nc', 'Bow_at_Banff_elevation_ERA5_remapped_domain_Bow_at_Banff_distributed_ERA5_merged_201612.nc', 'Bow_at_Banff_elevation_ERA5_remapped_domain_Bow_at_Banff_distributed_ERA5_merged_201701.nc', 'Bow_at_Banff_elevation_ERA5_remapped_domain_Bow_at_Banff_distributed_ERA5_merged_201702.nc', 'Bow_at_Banff_elevation_ERA5_remapped_domain_Bow_at_Banff_distributed_ERA5_merged_201703.nc', 'Bow_at_Banff_elevation_ERA5_remapped_domain_Bow_at_Banff_distributed_ERA5_merged_201704.nc', 'Bow_at_Banff_elevation_ERA5_remapped_domain_Bow_at_Banff_distributed_ERA5_merged_201705.nc', 'Bow_at_Banff_elevation_ERA5_remapped_domain_Bow_at_Banff_distributed_ERA5_merged_201706.nc', 'Bow_at_Banff_elevation_ERA5_remapped_domain_Bow_at_Banff_distributed_ERA5_merged_201707.nc', 'Bow_at_Banff_elevation_ERA5_remapped_domain_Bow_at_Banff_distributed_ERA5_merged_201708.nc', 'Bow_at_Banff_elevation_ERA5_remapped_domain_Bow_at_Banff_distributed_ERA5_merged_201709.nc', 'Bow_at_Banff_elevation_ERA5_remapped_domain_Bow_at_Banff_distributed_ERA5_merged_201710.nc', 'Bow_at_Banff_elevation_ERA5_remapped_domain_Bow_at_Banff_distributed_ERA5_merged_201711.nc', 'Bow_at_Banff_elevation_ERA5_remapped_domain_Bow_at_Banff_distributed_ERA5_merged_201712.nc', 'Bow_at_Banff_elevation_ERA5_remapped_domain_Bow_at_Banff_distributed_ERA5_merged_201801.nc', 'Bow_at_Banff_elevation_ERA5_remapped_domain_Bow_at_Banff_distributed_ERA5_merged_201802.nc', 'Bow_at_Banff_elevation_ERA5_remapped_domain_Bow_at_Banff_distributed_ERA5_merged_201803.nc', 'Bow_at_Banff_elevation_ERA5_remapped_domain_Bow_at_Banff_distributed_ERA5_merged_201804.nc', 'Bow_at_Banff_elevation_ERA5_remapped_domain_Bow_at_Banff_distributed_ERA5_merged_201805.nc', 'Bow_at_Banff_elevation_ERA5_remapped_domain_Bow_at_Banff_distributed_ERA5_merged_201806.nc', 'Bow_at_Banff_elevation_ERA5_remapped_domain_Bow_at_Banff_distributed_ERA5_merged_201807.nc', 'Bow_at_Banff_elevation_ERA5_remapped_domain_Bow_at_Banff_distributed_ERA5_merged_201808.nc', 'Bow_at_Banff_elevation_ERA5_remapped_domain_Bow_at_Banff_distributed_ERA5_merged_201809.nc', 'Bow_at_Banff_elevation_ERA5_remapped_domain_Bow_at_Banff_distributed_ERA5_merged_201810.nc', 'Bow_at_Banff_elevation_ERA5_remapped_domain_Bow_at_Banff_distributed_ERA5_merged_201811.nc', 'Bow_at_Banff_elevation_ERA5_remapped_domain_Bow_at_Banff_distributed_ERA5_merged_201812.nc', 'Bow_at_Banff_elevation_ERA5_remapped_domain_Bow_at_Banff_distributed_ERA5_merged_201901.nc', 'Bow_at_Banff_elevation_ERA5_remapped_domain_Bow_at_Banff_distributed_ERA5_merged_201902.nc', 'Bow_at_Banff_elevation_ERA5_remapped_domain_Bow_at_Banff_distributed_ERA5_merged_201903.nc', 'Bow_at_Banff_elevation_ERA5_remapped_domain_Bow_at_Banff_distributed_ERA5_merged_201904.nc', 'Bow_at_Banff_elevation_ERA5_remapped_domain_Bow_at_Banff_distributed_ERA5_merged_201905.nc', 'Bow_at_Banff_elevation_ERA5_remapped_domain_Bow_at_Banff_distributed_ERA5_merged_201906.nc', 'Bow_at_Banff_elevation_ERA5_remapped_domain_Bow_at_Banff_distributed_ERA5_merged_201907.nc', 'Bow_at_Banff_elevation_ERA5_remapped_domain_Bow_at_Banff_distributed_ERA5_merged_201908.nc', 'Bow_at_Banff_elevation_ERA5_remapped_domain_Bow_at_Banff_distributed_ERA5_merged_201909.nc', 'Bow_at_Banff_elevation_ERA5_remapped_domain_Bow_at_Banff_distributed_ERA5_merged_201910.nc', 'Bow_at_Banff_elevation_ERA5_remapped_domain_Bow_at_Banff_distributed_ERA5_merged_201911.nc', 'Bow_at_Banff_elevation_ERA5_remapped_domain_Bow_at_Banff_distributed_ERA5_merged_201912.nc', 'Bow_at_Banff_elevation_ERA5_remapped_domain_Bow_at_Banff_distributed_ERA5_merged_202001.nc', 'Bow_at_Banff_elevation_ERA5_remapped_domain_Bow_at_Banff_distributed_ERA5_merged_202002.nc', 'Bow_at_Banff_elevation_ERA5_remapped_domain_Bow_at_Banff_distributed_ERA5_merged_202003.nc', 'Bow_at_Banff_elevation_ERA5_remapped_domain_Bow_at_Banff_distributed_ERA5_merged_202004.nc', 'Bow_at_Banff_elevation_ERA5_remapped_domain_Bow_at_Banff_distributed_ERA5_merged_202005.nc', 'Bow_at_Banff_elevation_ERA5_remapped_domain_Bow_at_Banff_distributed_ERA5_merged_202006.nc', 'Bow_at_Banff_elevation_ERA5_remapped_domain_Bow_at_Banff_distributed_ERA5_merged_202007.nc', 'Bow_at_Banff_elevation_ERA5_remapped_domain_Bow_at_Banff_distributed_ERA5_merged_202008.nc', 'Bow_at_Banff_elevation_ERA5_remapped_domain_Bow_at_Banff_distributed_ERA5_merged_202009.nc', 'Bow_at_Banff_elevation_ERA5_remapped_domain_Bow_at_Banff_distributed_ERA5_merged_202010.nc', 'Bow_at_Banff_elevation_ERA5_remapped_domain_Bow_at_Banff_distributed_ERA5_merged_202011.nc', 'Bow_at_Banff_elevation_ERA5_remapped_domain_Bow_at_Banff_distributed_ERA5_merged_202012.nc', 'Bow_at_Banff_elevation_ERA5_remapped_domain_Bow_at_Banff_distributed_ERA5_merged_202101.nc', 'Bow_at_Banff_elevation_ERA5_remapped_domain_Bow_at_Banff_distributed_ERA5_merged_202102.nc', 'Bow_at_Banff_elevation_ERA5_remapped_domain_Bow_at_Banff_distributed_ERA5_merged_202103.nc', 'Bow_at_Banff_elevation_ERA5_remapped_domain_Bow_at_Banff_distributed_ERA5_merged_202104.nc', 'Bow_at_Banff_elevation_ERA5_remapped_domain_Bow_at_Banff_distributed_ERA5_merged_202105.nc', 'Bow_at_Banff_elevation_ERA5_remapped_domain_Bow_at_Banff_distributed_ERA5_merged_202106.nc', 'Bow_at_Banff_elevation_ERA5_remapped_domain_Bow_at_Banff_distributed_ERA5_merged_202107.nc', 'Bow_at_Banff_elevation_ERA5_remapped_domain_Bow_at_Banff_distributed_ERA5_merged_202108.nc', 'Bow_at_Banff_elevation_ERA5_remapped_domain_Bow_at_Banff_distributed_ERA5_merged_202109.nc', 'Bow_at_Banff_elevation_ERA5_remapped_domain_Bow_at_Banff_distributed_ERA5_merged_202110.nc', 'Bow_at_Banff_elevation_ERA5_remapped_domain_Bow_at_Banff_distributed_ERA5_merged_202111.nc', 'Bow_at_Banff_elevation_ERA5_remapped_domain_Bow_at_Banff_distributed_ERA5_merged_202112.nc', 'Bow_at_Banff_elevation_ERA5_remapped_domain_Bow_at_Banff_distributed_ERA5_merged_202201.nc', 'Bow_at_Banff_elevation_ERA5_remapped_domain_Bow_at_Banff_distributed_ERA5_merged_202202.nc', 'Bow_at_Banff_elevation_ERA5_remapped_domain_Bow_at_Banff_distributed_ERA5_merged_202203.nc', 'Bow_at_Banff_elevation_ERA5_remapped_domain_Bow_at_Banff_distributed_ERA5_merged_202204.nc', 'Bow_at_Banff_elevation_ERA5_remapped_domain_Bow_at_Banff_distributed_ERA5_merged_202205.nc', 'Bow_at_Banff_elevation_ERA5_remapped_domain_Bow_at_Banff_distributed_ERA5_merged_202206.nc', 'Bow_at_Banff_elevation_ERA5_remapped_domain_Bow_at_Banff_distributed_ERA5_merged_202207.nc', 'Bow_at_Banff_elevation_ERA5_remapped_domain_Bow_at_Banff_distributed_ERA5_merged_202208.nc', 'Bow_at_Banff_elevation_ERA5_remapped_domain_Bow_at_Banff_distributed_ERA5_merged_202209.nc', 'Bow_at_Banff_elevation_ERA5_remapped_domain_Bow_at_Banff_distributed_ERA5_merged_202210.nc', 'Bow_at_Banff_elevation_ERA5_remapped_domain_Bow_at_Banff_distributed_ERA5_merged_202211.nc', 'Bow_at_Banff_elevation_ERA5_remapped_domain_Bow_at_Banff_distributed_ERA5_merged_202212.nc']\n"
     ]
    },
    {
     "name": "stdout",
     "output_type": "stream",
     "text": [
      "19:43:21 - INFO - Completed processing of ERA5 forcing files with temperature lapsing\n"
     ]
    },
    {
     "name": "stderr",
     "output_type": "stream",
     "text": [
      "2025-05-13 19:43:21,152 - confluence_general - INFO - Completed processing of ERA5 forcing files with temperature lapsing\n"
     ]
    },
    {
     "name": "stdout",
     "output_type": "stream",
     "text": [
      "19:43:21 - INFO - Copying SUMMA base settings\n"
     ]
    },
    {
     "name": "stderr",
     "output_type": "stream",
     "text": [
      "2025-05-13 19:43:21,156 - confluence_general - INFO - Copying SUMMA base settings\n"
     ]
    },
    {
     "name": "stdout",
     "output_type": "stream",
     "text": [
      "19:43:21 - INFO - SUMMA base settings copied to /work/comphyd_lab/data/CONFLUENCE_data/domain_Bow_at_Banff_elevation/settings/SUMMA\n"
     ]
    },
    {
     "name": "stderr",
     "output_type": "stream",
     "text": [
      "2025-05-13 19:43:21,688 - confluence_general - INFO - SUMMA base settings copied to /work/comphyd_lab/data/CONFLUENCE_data/domain_Bow_at_Banff_elevation/settings/SUMMA\n"
     ]
    },
    {
     "name": "stdout",
     "output_type": "stream",
     "text": [
      "19:43:21 - INFO - Creating SUMMA file manager\n"
     ]
    },
    {
     "name": "stderr",
     "output_type": "stream",
     "text": [
      "2025-05-13 19:43:21,690 - confluence_general - INFO - Creating SUMMA file manager\n"
     ]
    },
    {
     "name": "stdout",
     "output_type": "stream",
     "text": [
      "19:43:21 - INFO - SUMMA file manager created at /work/comphyd_lab/data/CONFLUENCE_data/domain_Bow_at_Banff_elevation/settings/SUMMA/fileManager.txt\n"
     ]
    },
    {
     "name": "stderr",
     "output_type": "stream",
     "text": [
      "2025-05-13 19:43:21,694 - confluence_general - INFO - SUMMA file manager created at /work/comphyd_lab/data/CONFLUENCE_data/domain_Bow_at_Banff_elevation/settings/SUMMA/fileManager.txt\n"
     ]
    },
    {
     "name": "stdout",
     "output_type": "stream",
     "text": [
      "19:43:21 - INFO - Creating forcing file list\n"
     ]
    },
    {
     "name": "stderr",
     "output_type": "stream",
     "text": [
      "2025-05-13 19:43:21,697 - confluence_general - INFO - Creating forcing file list\n"
     ]
    },
    {
     "name": "stdout",
     "output_type": "stream",
     "text": [
      "19:43:21 - INFO - Forcing file list created at /work/comphyd_lab/data/CONFLUENCE_data/domain_Bow_at_Banff_elevation/settings/SUMMA/forcingFileList.txt\n"
     ]
    },
    {
     "name": "stderr",
     "output_type": "stream",
     "text": [
      "2025-05-13 19:43:21,702 - confluence_general - INFO - Forcing file list created at /work/comphyd_lab/data/CONFLUENCE_data/domain_Bow_at_Banff_elevation/settings/SUMMA/forcingFileList.txt\n"
     ]
    },
    {
     "name": "stdout",
     "output_type": "stream",
     "text": [
      "19:43:21 - INFO - Creating initial conditions (cold state) file\n"
     ]
    },
    {
     "name": "stderr",
     "output_type": "stream",
     "text": [
      "2025-05-13 19:43:21,704 - confluence_general - INFO - Creating initial conditions (cold state) file\n"
     ]
    },
    {
     "name": "stdout",
     "output_type": "stream",
     "text": [
      "19:43:21 - INFO - Creating initial conditions (cold state) file\n"
     ]
    },
    {
     "name": "stderr",
     "output_type": "stream",
     "text": [
      "2025-05-13 19:43:21,707 - confluence_general - INFO - Creating initial conditions (cold state) file\n"
     ]
    },
    {
     "name": "stdout",
     "output_type": "stream",
     "text": [
      "19:43:21 - INFO - Initial conditions file created at: /work/comphyd_lab/data/CONFLUENCE_data/domain_Bow_at_Banff_elevation/settings/SUMMA/coldState.nc\n"
     ]
    },
    {
     "name": "stderr",
     "output_type": "stream",
     "text": [
      "2025-05-13 19:43:21,842 - confluence_general - INFO - Initial conditions file created at: /work/comphyd_lab/data/CONFLUENCE_data/domain_Bow_at_Banff_elevation/settings/SUMMA/coldState.nc\n"
     ]
    },
    {
     "name": "stdout",
     "output_type": "stream",
     "text": [
      "19:43:21 - INFO - Creating trial parameters file\n"
     ]
    },
    {
     "name": "stderr",
     "output_type": "stream",
     "text": [
      "2025-05-13 19:43:21,845 - confluence_general - INFO - Creating trial parameters file\n"
     ]
    },
    {
     "name": "stdout",
     "output_type": "stream",
     "text": [
      "19:43:22 - INFO - Trial parameters file created at: /work/comphyd_lab/data/CONFLUENCE_data/domain_Bow_at_Banff_elevation/settings/SUMMA/trialParams.nc\n"
     ]
    },
    {
     "name": "stderr",
     "output_type": "stream",
     "text": [
      "2025-05-13 19:43:22,323 - confluence_general - INFO - Trial parameters file created at: /work/comphyd_lab/data/CONFLUENCE_data/domain_Bow_at_Banff_elevation/settings/SUMMA/trialParams.nc\n"
     ]
    },
    {
     "name": "stdout",
     "output_type": "stream",
     "text": [
      "19:43:22 - INFO - Creating attributes file\n"
     ]
    },
    {
     "name": "stderr",
     "output_type": "stream",
     "text": [
      "2025-05-13 19:43:22,327 - confluence_general - INFO - Creating attributes file\n"
     ]
    },
    {
     "name": "stdout",
     "output_type": "stream",
     "text": [
      "19:43:22 - INFO - Attributes file created at: /work/comphyd_lab/data/CONFLUENCE_data/domain_Bow_at_Banff_elevation/settings/SUMMA/attributes.nc\n"
     ]
    },
    {
     "name": "stderr",
     "output_type": "stream",
     "text": [
      "2025-05-13 19:43:22,956 - confluence_general - INFO - Attributes file created at: /work/comphyd_lab/data/CONFLUENCE_data/domain_Bow_at_Banff_elevation/settings/SUMMA/attributes.nc\n"
     ]
    },
    {
     "name": "stdout",
     "output_type": "stream",
     "text": [
      "19:43:22 - INFO - Inserting land class into attributes file\n"
     ]
    },
    {
     "name": "stderr",
     "output_type": "stream",
     "text": [
      "2025-05-13 19:43:22,958 - confluence_general - INFO - Inserting land class into attributes file\n"
     ]
    },
    {
     "name": "stdout",
     "output_type": "stream",
     "text": [
      "19:43:23 - INFO - 0 HRUs were identified as containing only open water. Note that SUMMA skips hydrologic calculations for such HRUs.\n"
     ]
    },
    {
     "name": "stderr",
     "output_type": "stream",
     "text": [
      "2025-05-13 19:43:23,544 - confluence_general - INFO - 0 HRUs were identified as containing only open water. Note that SUMMA skips hydrologic calculations for such HRUs.\n"
     ]
    },
    {
     "name": "stdout",
     "output_type": "stream",
     "text": [
      "19:43:23 - INFO - Inserting soil class into attributes file\n"
     ]
    },
    {
     "name": "stderr",
     "output_type": "stream",
     "text": [
      "2025-05-13 19:43:23,548 - confluence_general - INFO - Inserting soil class into attributes file\n"
     ]
    },
    {
     "name": "stdout",
     "output_type": "stream",
     "text": [
      "19:43:24 - INFO - Inserting elevation into attributes file\n"
     ]
    },
    {
     "name": "stderr",
     "output_type": "stream",
     "text": [
      "2025-05-13 19:43:24,052 - confluence_general - INFO - Inserting elevation into attributes file\n"
     ]
    },
    {
     "name": "stdout",
     "output_type": "stream",
     "text": [
      "19:43:24 - INFO - SUMMA spatial preprocessing completed successfully\n"
     ]
    },
    {
     "name": "stderr",
     "output_type": "stream",
     "text": [
      "2025-05-13 19:43:24,470 - confluence_general - INFO - SUMMA spatial preprocessing completed successfully\n"
     ]
    },
    {
     "name": "stdout",
     "output_type": "stream",
     "text": [
      "19:43:24 - INFO - Initializing MizuRoute preprocessor\n"
     ]
    },
    {
     "name": "stderr",
     "output_type": "stream",
     "text": [
      "2025-05-13 19:43:24,472 - confluence_general - INFO - Initializing MizuRoute preprocessor\n"
     ]
    },
    {
     "name": "stdout",
     "output_type": "stream",
     "text": [
      "19:43:24 - INFO - Starting mizuRoute spatial preprocessing\n"
     ]
    },
    {
     "name": "stderr",
     "output_type": "stream",
     "text": [
      "2025-05-13 19:43:24,473 - confluence_general - INFO - Starting mizuRoute spatial preprocessing\n"
     ]
    },
    {
     "name": "stdout",
     "output_type": "stream",
     "text": [
      "19:43:24 - INFO - Copying mizuRoute base settings\n"
     ]
    },
    {
     "name": "stderr",
     "output_type": "stream",
     "text": [
      "2025-05-13 19:43:24,475 - confluence_general - INFO - Copying mizuRoute base settings\n"
     ]
    },
    {
     "name": "stdout",
     "output_type": "stream",
     "text": [
      "19:43:24 - INFO - mizuRoute base settings copied\n"
     ]
    },
    {
     "name": "stderr",
     "output_type": "stream",
     "text": [
      "2025-05-13 19:43:24,483 - confluence_general - INFO - mizuRoute base settings copied\n"
     ]
    },
    {
     "name": "stdout",
     "output_type": "stream",
     "text": [
      "19:43:24 - INFO - Creating network topology file\n"
     ]
    },
    {
     "name": "stderr",
     "output_type": "stream",
     "text": [
      "2025-05-13 19:43:24,485 - confluence_general - INFO - Creating network topology file\n"
     ]
    },
    {
     "name": "stdout",
     "output_type": "stream",
     "text": [
      "19:43:24 - INFO - Network topology file created at /work/comphyd_lab/data/CONFLUENCE_data/domain_Bow_at_Banff_elevation/settings/mizuRoute/topology.nc\n"
     ]
    },
    {
     "name": "stderr",
     "output_type": "stream",
     "text": [
      "2025-05-13 19:43:24,515 - confluence_general - INFO - Network topology file created at /work/comphyd_lab/data/CONFLUENCE_data/domain_Bow_at_Banff_elevation/settings/mizuRoute/topology.nc\n"
     ]
    },
    {
     "name": "stdout",
     "output_type": "stream",
     "text": [
      "19:43:24 - INFO - Creating mizuRoute control file\n"
     ]
    },
    {
     "name": "stderr",
     "output_type": "stream",
     "text": [
      "2025-05-13 19:43:24,517 - confluence_general - INFO - Creating mizuRoute control file\n"
     ]
    },
    {
     "name": "stdout",
     "output_type": "stream",
     "text": [
      "19:43:24 - INFO - mizuRoute control file created at /work/comphyd_lab/data/CONFLUENCE_data/domain_Bow_at_Banff_elevation/settings/mizuRoute/mizuroute.control\n"
     ]
    },
    {
     "name": "stderr",
     "output_type": "stream",
     "text": [
      "2025-05-13 19:43:24,521 - confluence_general - INFO - mizuRoute control file created at /work/comphyd_lab/data/CONFLUENCE_data/domain_Bow_at_Banff_elevation/settings/mizuRoute/mizuroute.control\n"
     ]
    },
    {
     "name": "stdout",
     "output_type": "stream",
     "text": [
      "19:43:24 - INFO - mizuRoute spatial preprocessing completed\n"
     ]
    },
    {
     "name": "stderr",
     "output_type": "stream",
     "text": [
      "2025-05-13 19:43:24,522 - confluence_general - INFO - mizuRoute spatial preprocessing completed\n"
     ]
    },
    {
     "name": "stdout",
     "output_type": "stream",
     "text": [
      "19:43:24 - INFO - Model-specific preprocessing completed\n"
     ]
    },
    {
     "name": "stderr",
     "output_type": "stream",
     "text": [
      "2025-05-13 19:43:24,524 - confluence_general - INFO - Model-specific preprocessing completed\n"
     ]
    },
    {
     "name": "stdout",
     "output_type": "stream",
     "text": [
      "\n",
      "✓ Model-specific preprocessing completed\n"
     ]
    }
   ],
   "source": [
    "print(f\"Preparing {confluence.config['HYDROLOGICAL_MODEL']} input files...\")\n",
    "\n",
    "confluence.managers['model'].preprocess_models()\n",
    "\n",
    "print(\"\\n✓ Model-specific preprocessing completed\")"
   ]
  },
  {
   "cell_type": "code",
   "execution_count": null,
   "metadata": {
    "scrolled": true
   },
   "outputs": [],
   "source": [
    "print(f\"Running {confluence.config['HYDROLOGICAL_MODEL']} with elevation-based HRUs...\")\n",
    "print(\"Note: This may take some time depending on the number of HRUs.\")\n",
    "\n",
    "confluence.managers['model'].run_models()"
   ]
  }
 ],
 "metadata": {
  "kernelspec": {
   "display_name": "CONFLUENCE (HPC Modules)",
   "language": "python",
   "name": "conf-env-hpc"
  },
  "language_info": {
   "codemirror_mode": {
    "name": "ipython",
    "version": 3
   },
   "file_extension": ".py",
   "mimetype": "text/x-python",
   "name": "python",
   "nbconvert_exporter": "python",
   "pygments_lexer": "ipython3",
   "version": "3.11.7"
  }
 },
 "nbformat": 4,
 "nbformat_minor": 4
}
