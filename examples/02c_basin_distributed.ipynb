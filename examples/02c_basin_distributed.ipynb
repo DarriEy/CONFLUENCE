{
 "cells": [
  {
   "cell_type": "markdown",
   "metadata": {},
   "source": [
    "# CONFLUENCE Tutorial: Elevation-Based HRU Discretization\n",
    "\n",
    "This notebook demonstrates elevation-based HRU discretization, building on the distributed domain from Tutorial 3. We'll:\n",
    "\n",
    "1. Use the existing GRUs from Tutorial 3\n",
    "2. Apply elevation-based discretization\n",
    "3. Run the model\n",
    "4. Compare results with lumped and GRU-based approaches\n",
    "\n",
    "**Prerequisites**: Tutorial 3 must be completed successfully."
   ]
  },
  {
   "cell_type": "markdown",
   "metadata": {},
   "source": [
    "## 1. Setup and Import Libraries"
   ]
  },
  {
   "cell_type": "code",
   "execution_count": 1,
   "metadata": {},
   "outputs": [],
   "source": [
    "# Import required libraries\n",
    "import sys\n",
    "import os\n",
    "from pathlib import Path\n",
    "import yaml\n",
    "import pandas as pd\n",
    "import matplotlib.pyplot as plt\n",
    "import geopandas as gpd\n",
    "from datetime import datetime\n",
    "import numpy as np\n",
    "import contextily as cx\n",
    "import xarray as xr\n",
    "import shutil\n",
    "from IPython.display import Image, display\n",
    "\n",
    "# Add CONFLUENCE to path\n",
    "confluence_path = Path('../').resolve()\n",
    "sys.path.append(str(confluence_path))\n",
    "\n",
    "# Import main CONFLUENCE class\n",
    "from CONFLUENCE import CONFLUENCE\n",
    "\n",
    "# Set up plotting style\n",
    "plt.style.use('default')\n",
    "%matplotlib inline"
   ]
  },
  {
   "cell_type": "markdown",
   "metadata": {},
   "source": [
    "## 2. Initialize CONFLUENCE\n",
    "First, let's set up our directories and load the configuration. We'll modify the configuration from Tutorial 3 to use elevation-based discretization."
   ]
  },
  {
   "cell_type": "code",
   "execution_count": 2,
   "metadata": {},
   "outputs": [
    {
     "name": "stdout",
     "output_type": "stream",
     "text": [
      "19:21:56 - INFO - ============================================================\n"
     ]
    },
    {
     "name": "stderr",
     "output_type": "stream",
     "text": [
      "2025-05-13 19:21:56,536 - confluence_general - INFO - ============================================================\n"
     ]
    },
    {
     "name": "stdout",
     "output_type": "stream",
     "text": [
      "19:21:56 - INFO - CONFLUENCE Logging Initialized\n"
     ]
    },
    {
     "name": "stderr",
     "output_type": "stream",
     "text": [
      "2025-05-13 19:21:56,538 - confluence_general - INFO - CONFLUENCE Logging Initialized\n"
     ]
    },
    {
     "name": "stdout",
     "output_type": "stream",
     "text": [
      "19:21:56 - INFO - Domain: Bow_at_Banff_elevation\n"
     ]
    },
    {
     "name": "stderr",
     "output_type": "stream",
     "text": [
      "2025-05-13 19:21:56,541 - confluence_general - INFO - Domain: Bow_at_Banff_elevation\n"
     ]
    },
    {
     "name": "stdout",
     "output_type": "stream",
     "text": [
      "19:21:56 - INFO - Experiment ID: elevation_tutorial\n"
     ]
    },
    {
     "name": "stderr",
     "output_type": "stream",
     "text": [
      "2025-05-13 19:21:56,543 - confluence_general - INFO - Experiment ID: elevation_tutorial\n"
     ]
    },
    {
     "name": "stdout",
     "output_type": "stream",
     "text": [
      "19:21:56 - INFO - Log Level: INFO\n"
     ]
    },
    {
     "name": "stderr",
     "output_type": "stream",
     "text": [
      "2025-05-13 19:21:56,544 - confluence_general - INFO - Log Level: INFO\n"
     ]
    },
    {
     "name": "stdout",
     "output_type": "stream",
     "text": [
      "19:21:56 - INFO - Log File: /work/comphyd_lab/data/CONFLUENCE_data/domain_Bow_at_Banff_elevation/_workLog_Bow_at_Banff_elevation/confluence_general_Bow_at_Banff_elevation_20250513_192156.log\n"
     ]
    },
    {
     "name": "stderr",
     "output_type": "stream",
     "text": [
      "2025-05-13 19:21:56,546 - confluence_general - INFO - Log File: /work/comphyd_lab/data/CONFLUENCE_data/domain_Bow_at_Banff_elevation/_workLog_Bow_at_Banff_elevation/confluence_general_Bow_at_Banff_elevation_20250513_192156.log\n"
     ]
    },
    {
     "name": "stdout",
     "output_type": "stream",
     "text": [
      "19:21:56 - INFO - ============================================================\n"
     ]
    },
    {
     "name": "stderr",
     "output_type": "stream",
     "text": [
      "2025-05-13 19:21:56,548 - confluence_general - INFO - ============================================================\n"
     ]
    },
    {
     "name": "stdout",
     "output_type": "stream",
     "text": [
      "19:21:56 - INFO - Configuration logged to: /work/comphyd_lab/data/CONFLUENCE_data/domain_Bow_at_Banff_elevation/_workLog_Bow_at_Banff_elevation/config_Bow_at_Banff_elevation_20250513_192156.yaml\n"
     ]
    },
    {
     "name": "stderr",
     "output_type": "stream",
     "text": [
      "2025-05-13 19:21:56,570 - confluence_general - INFO - Configuration logged to: /work/comphyd_lab/data/CONFLUENCE_data/domain_Bow_at_Banff_elevation/_workLog_Bow_at_Banff_elevation/config_Bow_at_Banff_elevation_20250513_192156.yaml\n"
     ]
    },
    {
     "name": "stdout",
     "output_type": "stream",
     "text": [
      "19:21:56 - INFO - Initializing CONFLUENCE system\n"
     ]
    },
    {
     "name": "stderr",
     "output_type": "stream",
     "text": [
      "2025-05-13 19:21:56,622 - confluence_general - INFO - Initializing CONFLUENCE system\n"
     ]
    },
    {
     "name": "stdout",
     "output_type": "stream",
     "text": [
      "19:21:56 - INFO - Configuration loaded from: /home/darri.eythorsson/code/CONFLUENCE/0_config_files/config_elevation.yaml\n"
     ]
    },
    {
     "name": "stderr",
     "output_type": "stream",
     "text": [
      "2025-05-13 19:21:56,623 - confluence_general - INFO - Configuration loaded from: /home/darri.eythorsson/code/CONFLUENCE/0_config_files/config_elevation.yaml\n"
     ]
    },
    {
     "name": "stdout",
     "output_type": "stream",
     "text": [
      "19:21:56 - INFO - Initializing VariableHandler for dataset: ERA5 and model: SUMMA\n"
     ]
    },
    {
     "name": "stderr",
     "output_type": "stream",
     "text": [
      "2025-05-13 19:21:56,625 - confluence_general - INFO - Initializing VariableHandler for dataset: ERA5 and model: SUMMA\n"
     ]
    },
    {
     "name": "stdout",
     "output_type": "stream",
     "text": [
      "19:21:56 - INFO - CONFLUENCE system initialized successfully\n"
     ]
    },
    {
     "name": "stderr",
     "output_type": "stream",
     "text": [
      "2025-05-13 19:21:56,963 - confluence_general - INFO - CONFLUENCE system initialized successfully\n"
     ]
    },
    {
     "name": "stdout",
     "output_type": "stream",
     "text": [
      "=== Directory Configuration ===\n",
      "Code Directory: /home/darri.eythorsson/code/CONFLUENCE\n",
      "Data Directory: /work/comphyd_lab/data/CONFLUENCE_data\n",
      "\n",
      "=== Key Configuration Settings ===\n",
      "Domain Name: Bow_at_Banff_elevation\n",
      "Pour Point: 51.1722/-115.5717\n",
      "Discretization Method: elevation\n",
      "Elevation Band Size: 200 m\n",
      "Minimum HRU Size: 4 km²\n",
      "Spatial Mode: Distributed\n",
      "Model: SUMMA\n",
      "Simulation Period: 2011-01-01 01:00 to 2022-01-01 01:00\n"
     ]
    }
   ],
   "source": [
    "# Set directory paths\n",
    "CONFLUENCE_CODE_DIR = confluence_path\n",
    "CONFLUENCE_DATA_DIR = Path('/work/comphyd_lab/data/CONFLUENCE_data')  # ← User should modify this path\n",
    "\n",
    "# Verify paths exist\n",
    "if not CONFLUENCE_CODE_DIR.exists():\n",
    "    raise FileNotFoundError(f\"CONFLUENCE code directory not found: {CONFLUENCE_CODE_DIR}\")\n",
    "\n",
    "if not CONFLUENCE_DATA_DIR.exists():\n",
    "    print(f\"Data directory doesn't exist. Creating: {CONFLUENCE_DATA_DIR}\")\n",
    "    CONFLUENCE_DATA_DIR.mkdir(parents=True, exist_ok=True)\n",
    "\n",
    "# Load the distributed configuration from Tutorial 3\n",
    "distributed_config_path = CONFLUENCE_CODE_DIR / '0_config_files' / 'config_distributed.yaml'\n",
    "if not distributed_config_path.exists():\n",
    "    raise FileNotFoundError(\"Tutorial 3 must be run first! Distributed config file not found.\")\n",
    "\n",
    "# Read config file\n",
    "with open(distributed_config_path, 'r') as f:\n",
    "    config_dict = yaml.safe_load(f)\n",
    "\n",
    "# Update core paths\n",
    "config_dict['CONFLUENCE_CODE_DIR'] = str(CONFLUENCE_CODE_DIR)\n",
    "config_dict['CONFLUENCE_DATA_DIR'] = str(CONFLUENCE_DATA_DIR)\n",
    "\n",
    "# Modify for elevation-based discretization\n",
    "config_dict['DOMAIN_NAME'] = 'Bow_at_Banff_elevation'\n",
    "config_dict['EXPERIMENT_ID'] = 'elevation_tutorial'\n",
    "config_dict['DOMAIN_DISCRETIZATION'] = 'elevation'  # Key change!\n",
    "config_dict['ELEVATION_BAND_SIZE'] = 200  # 200m bands\n",
    "config_dict['MIN_HRU_SIZE'] = 4  # 4 km² minimum\n",
    "# Keep SPATIAL_MODE as 'Distributed'\n",
    "\n",
    "# Save updated config to a temporary file\n",
    "elevation_config_path = CONFLUENCE_CODE_DIR / '0_config_files' / 'config_elevation.yaml'\n",
    "with open(elevation_config_path, 'w') as f:\n",
    "    yaml.dump(config_dict, f)\n",
    "\n",
    "# Initialize CONFLUENCE\n",
    "confluence = CONFLUENCE(elevation_config_path)\n",
    "\n",
    "# Display configuration\n",
    "print(\"=== Directory Configuration ===\")\n",
    "print(f\"Code Directory: {CONFLUENCE_CODE_DIR}\")\n",
    "print(f\"Data Directory: {CONFLUENCE_DATA_DIR}\")\n",
    "print(\"\\n=== Key Configuration Settings ===\")\n",
    "print(f\"Domain Name: {confluence.config['DOMAIN_NAME']}\")\n",
    "print(f\"Pour Point: {confluence.config['POUR_POINT_COORDS']}\")\n",
    "print(f\"Discretization Method: {confluence.config['DOMAIN_DISCRETIZATION']}\")\n",
    "print(f\"Elevation Band Size: {confluence.config['ELEVATION_BAND_SIZE']} m\")\n",
    "print(f\"Minimum HRU Size: {confluence.config['MIN_HRU_SIZE']} km²\")\n",
    "print(f\"Spatial Mode: {confluence.config['SPATIAL_MODE']}\")\n",
    "print(f\"Model: {confluence.config['HYDROLOGICAL_MODEL']}\")\n",
    "print(f\"Simulation Period: {confluence.config['EXPERIMENT_TIME_START']} to {confluence.config['EXPERIMENT_TIME_END']}\")"
   ]
  },
  {
   "cell_type": "markdown",
   "metadata": {},
   "source": [
    "## 3. Project Setup - Organizing the Modeling Workflow\n",
    "\n",
    "First, we'll establish a well-organized project structure, similar to what we did in Tutorial 3."
   ]
  },
  {
   "cell_type": "code",
   "execution_count": null,
   "metadata": {},
   "outputs": [],
   "source": [
    "# Step 1: Project Initialization\n",
    "print(\"=== Step 1: Project Initialization ===\")\n",
    "\n",
    "# Setup project\n",
    "project_dir = confluence.managers['project'].setup_project()\n",
    "\n",
    "# List created directories\n",
    "print(\"\\nCreated directories:\")\n",
    "for item in sorted(project_dir.iterdir()):\n",
    "    if item.is_dir():\n",
    "        print(f\"  📁 {item.name}\")"
   ]
  },
  {
   "cell_type": "markdown",
   "metadata": {},
   "source": [
    "## 5. Copy Domain Data from Tutorial 3\n",
    "\n",
    "We'll reuse the existing domain and GRUs from Tutorial 3 (distributed model) instead of starting from scratch."
   ]
  },
  {
   "cell_type": "code",
   "execution_count": null,
   "metadata": {},
   "outputs": [],
   "source": [
    "# Source domain from Tutorial 3\n",
    "source_domain = CONFLUENCE_DATA_DIR / 'domain_Bow_at_Banff_distributed'\n",
    "\n",
    "# Check if Tutorial 3 domain exists\n",
    "if not source_domain.exists():\n",
    "    raise FileNotFoundError(\"Tutorial 3 domain not found! Please run Tutorial 3 first.\")\n",
    "\n",
    "# Copy necessary directories from Tutorial 3\n",
    "print(\"=== Step 2: Copying Domain Data from Tutorial 3 ===\")\n",
    "dirs_to_copy = ['shapefiles', 'attributes']\n",
    "\n",
    "for dir_name in dirs_to_copy:\n",
    "    source_dir = source_domain / dir_name\n",
    "    target_dir = project_dir / dir_name\n",
    "    \n",
    "    if source_dir.exists():\n",
    "        print(f\"Copying {dir_name} from Tutorial 3...\")\n",
    "        # Create target directory if it doesn't exist\n",
    "        target_dir.mkdir(parents=True, exist_ok=True)\n",
    "        \n",
    "        # Copy files\n",
    "        for src_file in source_dir.glob('**/*'):\n",
    "            if src_file.is_file():\n",
    "                # Calculate relative path\n",
    "                rel_path = src_file.relative_to(source_dir)\n",
    "                dest_file = target_dir / rel_path\n",
    "                \n",
    "                # Create parent directories if needed\n",
    "                dest_file.parent.mkdir(parents=True, exist_ok=True)\n",
    "                \n",
    "                # Copy the file, replacing 'distributed' with 'elevation' in filename\n",
    "                shutil.copy2(src_file, dest_file)\n",
    "                if 'distributed' in dest_file.name:\n",
    "                    new_name = dest_file.parent / dest_file.name.replace('distributed', 'elevation')\n",
    "                    dest_file.rename(new_name)\n",
    "    else:\n",
    "        print(f\"Warning: {source_dir} not found in Tutorial 3 domain.\")\n",
    "\n",
    "print(\"\\n✓ Domain data copied from Tutorial 3\")"
   ]
  },
  {
   "cell_type": "markdown",
   "metadata": {},
   "source": [
    "## 6. Verify GRU Boundaries\n",
    "\n",
    "Let's check the existing GRU boundaries that we'll use as a basis for our elevation-based HRUs."
   ]
  },
  {
   "cell_type": "code",
   "execution_count": null,
   "metadata": {},
   "outputs": [],
   "source": [
    "# Check river basins (GRUs) and network\n",
    "basin_path = project_dir / 'shapefiles' / 'river_basins'\n",
    "network_path = project_dir / 'shapefiles' / 'river_network'\n",
    "\n",
    "basin_files = list(basin_path.glob('*.shp'))\n",
    "network_files = list(network_path.glob('*.shp'))\n",
    "\n",
    "if basin_files and network_files:\n",
    "    # Load data\n",
    "    basins = gpd.read_file(basin_files[0])\n",
    "    rivers = gpd.read_file(network_files[0])\n",
    "    \n",
    "    # Create visualization\n",
    "    fig, ax = plt.subplots(figsize=(10, 8))\n",
    "    \n",
    "    # Plot basins (GRUs)\n",
    "    basins.plot(ax=ax, column='GRU_ID', cmap='viridis', \n",
    "               alpha=0.7, edgecolor='black', linewidth=1)\n",
    "    \n",
    "    # Plot river network\n",
    "    rivers.plot(ax=ax, color='blue', linewidth=1.5)\n",
    "    \n",
    "    # Format plot\n",
    "    ax.set_title(f'GRU Boundaries for Elevation-Based Discretization\\n({len(basins)} Sub-basins)', \n",
    "                fontsize=14, fontweight='bold')\n",
    "    ax.set_xlabel('Longitude')\n",
    "    ax.set_ylabel('Latitude')\n",
    "    \n",
    "    # Add colorbar for GRU IDs\n",
    "    sm = plt.cm.ScalarMappable(cmap='viridis', \n",
    "                             norm=plt.Normalize(vmin=basins['GRU_ID'].min(), \n",
    "                                               vmax=basins['GRU_ID'].max()))\n",
    "    sm._A = []\n",
    "    cbar = fig.colorbar(sm, ax=ax, shrink=0.8)\n",
    "    cbar.set_label('GRU ID', fontsize=12)\n",
    "    \n",
    "    plt.tight_layout()\n",
    "    plt.show()\n",
    "    \n",
    "    print(f\"Number of GRUs: {len(basins)}\")\n",
    "else:\n",
    "    print(\"GRU files not found. Make sure Tutorial 3 was completed successfully.\")"
   ]
  },
  {
   "cell_type": "markdown",
   "metadata": {},
   "source": [
    "## 7. Create Elevation-Based HRUs\n",
    "\n",
    "Now we'll apply elevation-based discretization to create HRUs within each GRU."
   ]
  },
  {
   "cell_type": "code",
   "execution_count": null,
   "metadata": {
    "scrolled": true
   },
   "outputs": [],
   "source": [
    "# Step 3: Create Elevation-Based HRUs\n",
    "print(\"=== Step 3: Creating Elevation-Based HRUs ===\")\n",
    "print(f\"Discretization Method: {confluence.config['DOMAIN_DISCRETIZATION']}\")\n",
    "print(f\"Elevation Band Size: {confluence.config['ELEVATION_BAND_SIZE']} m\")\n",
    "print(f\"Minimum HRU Size: {confluence.config['MIN_HRU_SIZE']} km²\")\n",
    "\n",
    "# Apply discretization\n",
    "print(\"\\nApplying elevation-based discretization...\")\n",
    "hru_path = confluence.managers['domain'].discretize_domain()\n",
    "\n",
    "# Load and analyze the resulting HRU shapefile\n",
    "catchment_path = project_dir / 'shapefiles' / 'catchment'\n",
    "if catchment_path.exists():\n",
    "    hru_files = list(catchment_path.glob('*.shp'))\n",
    "    if hru_files:\n",
    "        hru_gdf = gpd.read_file(hru_files[0])\n",
    "        \n",
    "        # Store the GRU GeoDataFrame for later use\n",
    "        gru_gdf = gpd.read_file(basin_files[0])\n",
    "        \n",
    "        print(f\"\\n✓ Created elevation-based HRUs\")\n",
    "        print(f\"Number of HRUs: {len(hru_gdf)}\")\n",
    "        print(f\"Number of GRUs: {hru_gdf['GRU_ID'].nunique()}\")\n",
    "        \n",
    "        # Calculate HRUs per GRU\n",
    "        hru_counts = hru_gdf.groupby('GRU_ID').size()\n",
    "        avg_hrus_per_gru = hru_counts.mean()\n",
    "        print(f\"Average HRUs per GRU: {avg_hrus_per_gru:.1f}\")\n",
    "        \n",
    "        # Show the first few GRUs with their HRU counts\n",
    "        print(\"\\nHRUs per GRU (first 10):\")\n",
    "        for gru_id, count in hru_counts.head(10).items():\n",
    "            print(f\"  GRU {gru_id}: {count} HRUs\")\n",
    "else:\n",
    "    print(\"Failed to create elevation-based HRUs.\")"
   ]
  },
  {
   "cell_type": "markdown",
   "metadata": {},
   "source": [
    "## 8. Visualize Elevation-Based HRUs"
   ]
  },
  {
   "cell_type": "code",
   "execution_count": null,
   "metadata": {},
   "outputs": [],
   "source": [
    "# Visualize the HRUs\n",
    "if 'hru_gdf' in locals() and len(hru_gdf) > 0:\n",
    "    # Check if mean elevation is available in the data\n",
    "    has_elevation = 'mean_elev' in hru_gdf.columns\n",
    "    \n",
    "    fig, ax = plt.subplots(figsize=(12, 10))\n",
    "    \n",
    "    # Plot HRUs colored by elevation if available, otherwise by HRU ID\n",
    "    if has_elevation:\n",
    "        hru_gdf.plot(ax=ax, column='mean_elev', cmap='terrain', \n",
    "                   edgecolor='gray', linewidth=0.5, alpha=0.7,\n",
    "                   legend=True, legend_kwds={'label': 'Mean Elevation (m)'})\n",
    "    else:\n",
    "        hru_gdf.plot(ax=ax, column='HRU_ID', cmap='viridis', \n",
    "                   edgecolor='gray', linewidth=0.5, alpha=0.7)\n",
    "    \n",
    "    # Overlay GRU boundaries\n",
    "    gru_gdf.boundary.plot(ax=ax, color='red', linewidth=1)\n",
    "    \n",
    "    # Add river network for context\n",
    "    if 'rivers' in locals():\n",
    "        rivers.plot(ax=ax, color='blue', linewidth=1)\n",
    "    \n",
    "    # Add title and labels\n",
    "    ax.set_title(f'Elevation-Based HRUs\\n{len(hru_gdf)} HRUs in {hru_gdf[\"GRU_ID\"].nunique()} GRUs',\n",
    "                fontsize=16, fontweight='bold')\n",
    "    ax.set_xlabel('Longitude')\n",
    "    ax.set_ylabel('Latitude')\n",
    "    \n",
    "    plt.tight_layout()\n",
    "    plt.show()\n",
    "else:\n",
    "    print(\"No HRUs available to visualize.\")"
   ]
  },
  {
   "cell_type": "markdown",
   "metadata": {},
   "source": [
    "## 9. Complete the Modeling Workflow\n",
    "\n",
    "Now we'll complete the model setup and run the simulation using our elevation-based HRUs."
   ]
  },
  {
   "cell_type": "code",
   "execution_count": null,
   "metadata": {},
   "outputs": [],
   "source": [
    "# Step 4: Process Observed Data\n",
    "print(\"=== Step 4: Processing Observed Data ===\")\n",
    "\n",
    "# Check if we can reuse observed data from previous tutorials\n",
    "obs_dir = CONFLUENCE_DATA_DIR / 'domain_Bow_at_Banff_distributed' / 'observations' / 'streamflow' / 'preprocessed'\n",
    "if obs_dir.exists() and list(obs_dir.glob('*.csv')):\n",
    "    print(\"Reusing observed data from Tutorial 3...\")\n",
    "    \n",
    "    # Copy observed data\n",
    "    target_dir = project_dir / 'observations' / 'streamflow' / 'preprocessed'\n",
    "    target_dir.mkdir(parents=True, exist_ok=True)\n",
    "    \n",
    "    for src_file in obs_dir.glob('*.csv'):\n",
    "        dest_file = target_dir / src_file.name.replace('distributed', 'elevation')\n",
    "        shutil.copy2(src_file, dest_file)\n",
    "        print(f\"Copied {src_file.name} to {dest_file.name}\")\n",
    "else:\n",
    "    print(\"Processing observed streamflow data from scratch...\")\n",
    "    confluence.managers['data'].process_observed_data()\n",
    "\n",
    "print(\"\\n✓ Observed data processing completed\")"
   ]
  },
  {
   "cell_type": "code",
   "execution_count": null,
   "metadata": {},
   "outputs": [],
   "source": [
    "'''\n",
    "# Acquire Forcing Data\n",
    "# Check if we can reuse forcing data from previous tutorials\n",
    "forcing_dir = CONFLUENCE_DATA_DIR / 'domain_Bow_at_Banff_distributed' / 'forcing'\n",
    "if forcing_dir.exists():\n",
    "    print(\"Reusing forcing data from Tutorial 3...\")\n",
    "    \n",
    "    # Copy forcing data\n",
    "    target_dir = project_dir / 'forcing'\n",
    "    target_dir.mkdir(parents=True, exist_ok=True)\n",
    "    \n",
    "    # Copy all subdirectories\n",
    "    for src_dir in forcing_dir.iterdir():\n",
    "        if src_dir.is_dir():\n",
    "            dest_dir = target_dir / src_dir.name\n",
    "            if not dest_dir.exists():\n",
    "                shutil.copytree(src_dir, dest_dir)\n",
    "            print(f\"Copied {src_dir.name} forcing data\")\n",
    "    \n",
    "    # Run model-agnostic preprocessing to handle the new HRU structure\n",
    "    print(\"\\nRunning model-agnostic preprocessing for new HRU structure...\")\n",
    "    confluence.managers['data'].run_model_agnostic_preprocessing()\n",
    "else:\n",
    "    print(\"Acquiring forcing data from scratch...\")\n",
    "    confluence.managers['data'].acquire_forcings()\n",
    "'''"
   ]
  },
  {
   "cell_type": "code",
   "execution_count": 8,
   "metadata": {
    "scrolled": true
   },
   "outputs": [
    {
     "name": "stdout",
     "output_type": "stream",
     "text": [
      "\n",
      "Running model-agnostic preprocessing...\n",
      "17:54:49 - INFO - Starting model-agnostic preprocessing\n"
     ]
    },
    {
     "name": "stderr",
     "output_type": "stream",
     "text": [
      "2025-05-13 17:54:49,944 - confluence_general - INFO - Starting model-agnostic preprocessing\n"
     ]
    },
    {
     "name": "stdout",
     "output_type": "stream",
     "text": [
      "17:54:49 - INFO - Running geospatial statistics\n"
     ]
    },
    {
     "name": "stderr",
     "output_type": "stream",
     "text": [
      "2025-05-13 17:54:49,961 - confluence_general - INFO - Running geospatial statistics\n"
     ]
    },
    {
     "name": "stdout",
     "output_type": "stream",
     "text": [
      "17:54:49 - INFO - Starting geospatial statistics calculation\n"
     ]
    },
    {
     "name": "stderr",
     "output_type": "stream",
     "text": [
      "2025-05-13 17:54:49,963 - confluence_general - INFO - Starting geospatial statistics calculation\n"
     ]
    },
    {
     "name": "stdout",
     "output_type": "stream",
     "text": [
      "17:54:49 - INFO - Soil statistics already calculated: /work/comphyd_lab/data/CONFLUENCE_data/domain_Bow_at_Banff_elevation/shapefiles/catchment_intersection/with_soilgrids/catchment_with_soilclass.shp\n"
     ]
    },
    {
     "name": "stderr",
     "output_type": "stream",
     "text": [
      "2025-05-13 17:54:49,973 - confluence_general - INFO - Soil statistics already calculated: /work/comphyd_lab/data/CONFLUENCE_data/domain_Bow_at_Banff_elevation/shapefiles/catchment_intersection/with_soilgrids/catchment_with_soilclass.shp\n"
     ]
    },
    {
     "name": "stdout",
     "output_type": "stream",
     "text": [
      "17:54:49 - INFO - Land statistics already calculated: /work/comphyd_lab/data/CONFLUENCE_data/domain_Bow_at_Banff_elevation/shapefiles/catchment_intersection/with_landclass/catchment_with_landclass.shp\n"
     ]
    },
    {
     "name": "stderr",
     "output_type": "stream",
     "text": [
      "2025-05-13 17:54:49,982 - confluence_general - INFO - Land statistics already calculated: /work/comphyd_lab/data/CONFLUENCE_data/domain_Bow_at_Banff_elevation/shapefiles/catchment_intersection/with_landclass/catchment_with_landclass.shp\n"
     ]
    },
    {
     "name": "stdout",
     "output_type": "stream",
     "text": [
      "17:54:49 - INFO - Elevation statistics already calculated: /work/comphyd_lab/data/CONFLUENCE_data/domain_Bow_at_Banff_elevation/shapefiles/catchment_intersection/with_dem/catchment_with_dem.shp\n"
     ]
    },
    {
     "name": "stderr",
     "output_type": "stream",
     "text": [
      "2025-05-13 17:54:49,997 - confluence_general - INFO - Elevation statistics already calculated: /work/comphyd_lab/data/CONFLUENCE_data/domain_Bow_at_Banff_elevation/shapefiles/catchment_intersection/with_dem/catchment_with_dem.shp\n"
     ]
    },
    {
     "name": "stdout",
     "output_type": "stream",
     "text": [
      "17:54:49 - INFO - Geospatial statistics completed: 3/3 steps skipped, 0/3 steps executed\n"
     ]
    },
    {
     "name": "stderr",
     "output_type": "stream",
     "text": [
      "2025-05-13 17:54:49,999 - confluence_general - INFO - Geospatial statistics completed: 3/3 steps skipped, 0/3 steps executed\n"
     ]
    },
    {
     "name": "stdout",
     "output_type": "stream",
     "text": [
      "17:54:50 - INFO - Running forcing resampling\n"
     ]
    },
    {
     "name": "stderr",
     "output_type": "stream",
     "text": [
      "2025-05-13 17:54:50,000 - confluence_general - INFO - Running forcing resampling\n"
     ]
    },
    {
     "name": "stdout",
     "output_type": "stream",
     "text": [
      "17:54:50 - INFO - Starting forcing data resampling process\n"
     ]
    },
    {
     "name": "stderr",
     "output_type": "stream",
     "text": [
      "2025-05-13 17:54:50,002 - confluence_general - INFO - Starting forcing data resampling process\n"
     ]
    },
    {
     "name": "stdout",
     "output_type": "stream",
     "text": [
      "17:54:50 - INFO - Creating ERA5 shapefile\n"
     ]
    },
    {
     "name": "stderr",
     "output_type": "stream",
     "text": [
      "2025-05-13 17:54:50,003 - confluence_general - INFO - Creating ERA5 shapefile\n"
     ]
    },
    {
     "name": "stdout",
     "output_type": "stream",
     "text": [
      "17:54:50 - INFO - Forcing shapefile already exists: /work/comphyd_lab/data/CONFLUENCE_data/domain_Bow_at_Banff_elevation/shapefiles/forcing/forcing_ERA5.shp. Skipping creation.\n"
     ]
    },
    {
     "name": "stderr",
     "output_type": "stream",
     "text": [
      "2025-05-13 17:54:50,011 - confluence_general - INFO - Forcing shapefile already exists: /work/comphyd_lab/data/CONFLUENCE_data/domain_Bow_at_Banff_elevation/shapefiles/forcing/forcing_ERA5.shp. Skipping creation.\n"
     ]
    },
    {
     "name": "stdout",
     "output_type": "stream",
     "text": [
      "17:54:50 - INFO - Starting forcing remapping process\n"
     ]
    },
    {
     "name": "stderr",
     "output_type": "stream",
     "text": [
      "2025-05-13 17:54:50,013 - confluence_general - INFO - Starting forcing remapping process\n"
     ]
    },
    {
     "name": "stdout",
     "output_type": "stream",
     "text": [
      "17:54:50 - INFO - Creating weighted forcing files in parallel\n"
     ]
    },
    {
     "name": "stderr",
     "output_type": "stream",
     "text": [
      "2025-05-13 17:54:50,014 - confluence_general - INFO - Creating weighted forcing files in parallel\n"
     ]
    },
    {
     "name": "stdout",
     "output_type": "stream",
     "text": [
      "17:54:50 - INFO - Found 276 forcing files to process\n"
     ]
    },
    {
     "name": "stderr",
     "output_type": "stream",
     "text": [
      "2025-05-13 17:54:50,038 - confluence_general - INFO - Found 276 forcing files to process\n"
     ]
    },
    {
     "name": "stdout",
     "output_type": "stream",
     "text": [
      "17:54:50 - INFO - Using 1 CPUs for parallel processing\n"
     ]
    },
    {
     "name": "stderr",
     "output_type": "stream",
     "text": [
      "2025-05-13 17:54:50,040 - confluence_general - INFO - Using 1 CPUs for parallel processing\n"
     ]
    },
    {
     "name": "stdout",
     "output_type": "stream",
     "text": [
      "17:54:50 - INFO - Found 276 already processed files\n"
     ]
    },
    {
     "name": "stderr",
     "output_type": "stream",
     "text": [
      "2025-05-13 17:54:50,121 - confluence_general - INFO - Found 276 already processed files\n"
     ]
    },
    {
     "name": "stdout",
     "output_type": "stream",
     "text": [
      "17:54:50 - INFO - Found 0 files that need processing\n"
     ]
    },
    {
     "name": "stderr",
     "output_type": "stream",
     "text": [
      "2025-05-13 17:54:50,124 - confluence_general - INFO - Found 0 files that need processing\n"
     ]
    },
    {
     "name": "stdout",
     "output_type": "stream",
     "text": [
      "17:54:50 - INFO - All files have already been processed, nothing to do\n"
     ]
    },
    {
     "name": "stderr",
     "output_type": "stream",
     "text": [
      "2025-05-13 17:54:50,126 - confluence_general - INFO - All files have already been processed, nothing to do\n"
     ]
    },
    {
     "name": "stdout",
     "output_type": "stream",
     "text": [
      "17:54:50 - INFO - Forcing remapping process completed\n"
     ]
    },
    {
     "name": "stderr",
     "output_type": "stream",
     "text": [
      "2025-05-13 17:54:50,129 - confluence_general - INFO - Forcing remapping process completed\n"
     ]
    },
    {
     "name": "stdout",
     "output_type": "stream",
     "text": [
      "17:54:50 - INFO - Forcing data resampling process completed\n"
     ]
    },
    {
     "name": "stderr",
     "output_type": "stream",
     "text": [
      "2025-05-13 17:54:50,131 - confluence_general - INFO - Forcing data resampling process completed\n"
     ]
    },
    {
     "name": "stdout",
     "output_type": "stream",
     "text": [
      "17:54:50 - INFO - Model-agnostic preprocessing completed successfully\n"
     ]
    },
    {
     "name": "stderr",
     "output_type": "stream",
     "text": [
      "2025-05-13 17:54:50,134 - confluence_general - INFO - Model-agnostic preprocessing completed successfully\n"
     ]
    },
    {
     "name": "stdout",
     "output_type": "stream",
     "text": [
      "\n",
      "✓ Forcing data processing completed\n"
     ]
    }
   ],
   "source": [
    "# Process Forcing Data\n",
    "print(\"\\nRunning model-agnostic preprocessing...\")\n",
    "\n",
    "confluence.managers['data'].run_model_agnostic_preprocessing()\n",
    "\n",
    "print(\"\\n✓ Forcing data processing completed\")"
   ]
  },
  {
   "cell_type": "code",
   "execution_count": 9,
   "metadata": {
    "scrolled": true
   },
   "outputs": [
    {
     "name": "stdout",
     "output_type": "stream",
     "text": [
      "Preparing SUMMA input files...\n",
      "17:54:58 - INFO - Starting model-specific preprocessing\n"
     ]
    },
    {
     "name": "stderr",
     "output_type": "stream",
     "text": [
      "2025-05-13 17:54:58,974 - confluence_general - INFO - Starting model-specific preprocessing\n"
     ]
    },
    {
     "name": "stdout",
     "output_type": "stream",
     "text": [
      "17:54:58 - INFO - Processing model: SUMMA\n"
     ]
    },
    {
     "name": "stderr",
     "output_type": "stream",
     "text": [
      "2025-05-13 17:54:58,977 - confluence_general - INFO - Processing model: SUMMA\n"
     ]
    },
    {
     "name": "stdout",
     "output_type": "stream",
     "text": [
      "17:54:58 - INFO - Starting SUMMA spatial preprocessing\n"
     ]
    },
    {
     "name": "stderr",
     "output_type": "stream",
     "text": [
      "2025-05-13 17:54:58,980 - confluence_general - INFO - Starting SUMMA spatial preprocessing\n"
     ]
    },
    {
     "name": "stdout",
     "output_type": "stream",
     "text": [
      "17:54:58 - INFO - Starting to apply temperature lapse rate and add data step\n"
     ]
    },
    {
     "name": "stderr",
     "output_type": "stream",
     "text": [
      "2025-05-13 17:54:58,981 - confluence_general - INFO - Starting to apply temperature lapse rate and add data step\n"
     ]
    },
    {
     "name": "stdout",
     "output_type": "stream",
     "text": [
      "17:54:59 - INFO - forcing files: ['Bow_at_Banff_elevation_ERA5_remapped_domain_Bow_at_Banff_distributed_ERA5_merged_200001.nc', 'Bow_at_Banff_elevation_ERA5_remapped_domain_Bow_at_Banff_distributed_ERA5_merged_200002.nc', 'Bow_at_Banff_elevation_ERA5_remapped_domain_Bow_at_Banff_distributed_ERA5_merged_200003.nc', 'Bow_at_Banff_elevation_ERA5_remapped_domain_Bow_at_Banff_distributed_ERA5_merged_200004.nc', 'Bow_at_Banff_elevation_ERA5_remapped_domain_Bow_at_Banff_distributed_ERA5_merged_200005.nc', 'Bow_at_Banff_elevation_ERA5_remapped_domain_Bow_at_Banff_distributed_ERA5_merged_200006.nc', 'Bow_at_Banff_elevation_ERA5_remapped_domain_Bow_at_Banff_distributed_ERA5_merged_200007.nc', 'Bow_at_Banff_elevation_ERA5_remapped_domain_Bow_at_Banff_distributed_ERA5_merged_200008.nc', 'Bow_at_Banff_elevation_ERA5_remapped_domain_Bow_at_Banff_distributed_ERA5_merged_200009.nc', 'Bow_at_Banff_elevation_ERA5_remapped_domain_Bow_at_Banff_distributed_ERA5_merged_200010.nc', 'Bow_at_Banff_elevation_ERA5_remapped_domain_Bow_at_Banff_distributed_ERA5_merged_200011.nc', 'Bow_at_Banff_elevation_ERA5_remapped_domain_Bow_at_Banff_distributed_ERA5_merged_200012.nc', 'Bow_at_Banff_elevation_ERA5_remapped_domain_Bow_at_Banff_distributed_ERA5_merged_200101.nc', 'Bow_at_Banff_elevation_ERA5_remapped_domain_Bow_at_Banff_distributed_ERA5_merged_200102.nc', 'Bow_at_Banff_elevation_ERA5_remapped_domain_Bow_at_Banff_distributed_ERA5_merged_200103.nc', 'Bow_at_Banff_elevation_ERA5_remapped_domain_Bow_at_Banff_distributed_ERA5_merged_200104.nc', 'Bow_at_Banff_elevation_ERA5_remapped_domain_Bow_at_Banff_distributed_ERA5_merged_200105.nc', 'Bow_at_Banff_elevation_ERA5_remapped_domain_Bow_at_Banff_distributed_ERA5_merged_200106.nc', 'Bow_at_Banff_elevation_ERA5_remapped_domain_Bow_at_Banff_distributed_ERA5_merged_200107.nc', 'Bow_at_Banff_elevation_ERA5_remapped_domain_Bow_at_Banff_distributed_ERA5_merged_200108.nc', 'Bow_at_Banff_elevation_ERA5_remapped_domain_Bow_at_Banff_distributed_ERA5_merged_200109.nc', 'Bow_at_Banff_elevation_ERA5_remapped_domain_Bow_at_Banff_distributed_ERA5_merged_200110.nc', 'Bow_at_Banff_elevation_ERA5_remapped_domain_Bow_at_Banff_distributed_ERA5_merged_200111.nc', 'Bow_at_Banff_elevation_ERA5_remapped_domain_Bow_at_Banff_distributed_ERA5_merged_200112.nc', 'Bow_at_Banff_elevation_ERA5_remapped_domain_Bow_at_Banff_distributed_ERA5_merged_200201.nc', 'Bow_at_Banff_elevation_ERA5_remapped_domain_Bow_at_Banff_distributed_ERA5_merged_200202.nc', 'Bow_at_Banff_elevation_ERA5_remapped_domain_Bow_at_Banff_distributed_ERA5_merged_200203.nc', 'Bow_at_Banff_elevation_ERA5_remapped_domain_Bow_at_Banff_distributed_ERA5_merged_200204.nc', 'Bow_at_Banff_elevation_ERA5_remapped_domain_Bow_at_Banff_distributed_ERA5_merged_200205.nc', 'Bow_at_Banff_elevation_ERA5_remapped_domain_Bow_at_Banff_distributed_ERA5_merged_200206.nc', 'Bow_at_Banff_elevation_ERA5_remapped_domain_Bow_at_Banff_distributed_ERA5_merged_200207.nc', 'Bow_at_Banff_elevation_ERA5_remapped_domain_Bow_at_Banff_distributed_ERA5_merged_200208.nc', 'Bow_at_Banff_elevation_ERA5_remapped_domain_Bow_at_Banff_distributed_ERA5_merged_200209.nc', 'Bow_at_Banff_elevation_ERA5_remapped_domain_Bow_at_Banff_distributed_ERA5_merged_200210.nc', 'Bow_at_Banff_elevation_ERA5_remapped_domain_Bow_at_Banff_distributed_ERA5_merged_200211.nc', 'Bow_at_Banff_elevation_ERA5_remapped_domain_Bow_at_Banff_distributed_ERA5_merged_200212.nc', 'Bow_at_Banff_elevation_ERA5_remapped_domain_Bow_at_Banff_distributed_ERA5_merged_200301.nc', 'Bow_at_Banff_elevation_ERA5_remapped_domain_Bow_at_Banff_distributed_ERA5_merged_200302.nc', 'Bow_at_Banff_elevation_ERA5_remapped_domain_Bow_at_Banff_distributed_ERA5_merged_200303.nc', 'Bow_at_Banff_elevation_ERA5_remapped_domain_Bow_at_Banff_distributed_ERA5_merged_200304.nc', 'Bow_at_Banff_elevation_ERA5_remapped_domain_Bow_at_Banff_distributed_ERA5_merged_200305.nc', 'Bow_at_Banff_elevation_ERA5_remapped_domain_Bow_at_Banff_distributed_ERA5_merged_200306.nc', 'Bow_at_Banff_elevation_ERA5_remapped_domain_Bow_at_Banff_distributed_ERA5_merged_200307.nc', 'Bow_at_Banff_elevation_ERA5_remapped_domain_Bow_at_Banff_distributed_ERA5_merged_200308.nc', 'Bow_at_Banff_elevation_ERA5_remapped_domain_Bow_at_Banff_distributed_ERA5_merged_200309.nc', 'Bow_at_Banff_elevation_ERA5_remapped_domain_Bow_at_Banff_distributed_ERA5_merged_200310.nc', 'Bow_at_Banff_elevation_ERA5_remapped_domain_Bow_at_Banff_distributed_ERA5_merged_200311.nc', 'Bow_at_Banff_elevation_ERA5_remapped_domain_Bow_at_Banff_distributed_ERA5_merged_200312.nc', 'Bow_at_Banff_elevation_ERA5_remapped_domain_Bow_at_Banff_distributed_ERA5_merged_200401.nc', 'Bow_at_Banff_elevation_ERA5_remapped_domain_Bow_at_Banff_distributed_ERA5_merged_200402.nc', 'Bow_at_Banff_elevation_ERA5_remapped_domain_Bow_at_Banff_distributed_ERA5_merged_200403.nc', 'Bow_at_Banff_elevation_ERA5_remapped_domain_Bow_at_Banff_distributed_ERA5_merged_200404.nc', 'Bow_at_Banff_elevation_ERA5_remapped_domain_Bow_at_Banff_distributed_ERA5_merged_200405.nc', 'Bow_at_Banff_elevation_ERA5_remapped_domain_Bow_at_Banff_distributed_ERA5_merged_200406.nc', 'Bow_at_Banff_elevation_ERA5_remapped_domain_Bow_at_Banff_distributed_ERA5_merged_200407.nc', 'Bow_at_Banff_elevation_ERA5_remapped_domain_Bow_at_Banff_distributed_ERA5_merged_200408.nc', 'Bow_at_Banff_elevation_ERA5_remapped_domain_Bow_at_Banff_distributed_ERA5_merged_200409.nc', 'Bow_at_Banff_elevation_ERA5_remapped_domain_Bow_at_Banff_distributed_ERA5_merged_200410.nc', 'Bow_at_Banff_elevation_ERA5_remapped_domain_Bow_at_Banff_distributed_ERA5_merged_200411.nc', 'Bow_at_Banff_elevation_ERA5_remapped_domain_Bow_at_Banff_distributed_ERA5_merged_200412.nc', 'Bow_at_Banff_elevation_ERA5_remapped_domain_Bow_at_Banff_distributed_ERA5_merged_200501.nc', 'Bow_at_Banff_elevation_ERA5_remapped_domain_Bow_at_Banff_distributed_ERA5_merged_200502.nc', 'Bow_at_Banff_elevation_ERA5_remapped_domain_Bow_at_Banff_distributed_ERA5_merged_200503.nc', 'Bow_at_Banff_elevation_ERA5_remapped_domain_Bow_at_Banff_distributed_ERA5_merged_200504.nc', 'Bow_at_Banff_elevation_ERA5_remapped_domain_Bow_at_Banff_distributed_ERA5_merged_200505.nc', 'Bow_at_Banff_elevation_ERA5_remapped_domain_Bow_at_Banff_distributed_ERA5_merged_200506.nc', 'Bow_at_Banff_elevation_ERA5_remapped_domain_Bow_at_Banff_distributed_ERA5_merged_200507.nc', 'Bow_at_Banff_elevation_ERA5_remapped_domain_Bow_at_Banff_distributed_ERA5_merged_200508.nc', 'Bow_at_Banff_elevation_ERA5_remapped_domain_Bow_at_Banff_distributed_ERA5_merged_200509.nc', 'Bow_at_Banff_elevation_ERA5_remapped_domain_Bow_at_Banff_distributed_ERA5_merged_200510.nc', 'Bow_at_Banff_elevation_ERA5_remapped_domain_Bow_at_Banff_distributed_ERA5_merged_200511.nc', 'Bow_at_Banff_elevation_ERA5_remapped_domain_Bow_at_Banff_distributed_ERA5_merged_200512.nc', 'Bow_at_Banff_elevation_ERA5_remapped_domain_Bow_at_Banff_distributed_ERA5_merged_200601.nc', 'Bow_at_Banff_elevation_ERA5_remapped_domain_Bow_at_Banff_distributed_ERA5_merged_200602.nc', 'Bow_at_Banff_elevation_ERA5_remapped_domain_Bow_at_Banff_distributed_ERA5_merged_200603.nc', 'Bow_at_Banff_elevation_ERA5_remapped_domain_Bow_at_Banff_distributed_ERA5_merged_200604.nc', 'Bow_at_Banff_elevation_ERA5_remapped_domain_Bow_at_Banff_distributed_ERA5_merged_200605.nc', 'Bow_at_Banff_elevation_ERA5_remapped_domain_Bow_at_Banff_distributed_ERA5_merged_200606.nc', 'Bow_at_Banff_elevation_ERA5_remapped_domain_Bow_at_Banff_distributed_ERA5_merged_200607.nc', 'Bow_at_Banff_elevation_ERA5_remapped_domain_Bow_at_Banff_distributed_ERA5_merged_200608.nc', 'Bow_at_Banff_elevation_ERA5_remapped_domain_Bow_at_Banff_distributed_ERA5_merged_200609.nc', 'Bow_at_Banff_elevation_ERA5_remapped_domain_Bow_at_Banff_distributed_ERA5_merged_200610.nc', 'Bow_at_Banff_elevation_ERA5_remapped_domain_Bow_at_Banff_distributed_ERA5_merged_200611.nc', 'Bow_at_Banff_elevation_ERA5_remapped_domain_Bow_at_Banff_distributed_ERA5_merged_200612.nc', 'Bow_at_Banff_elevation_ERA5_remapped_domain_Bow_at_Banff_distributed_ERA5_merged_200701.nc', 'Bow_at_Banff_elevation_ERA5_remapped_domain_Bow_at_Banff_distributed_ERA5_merged_200702.nc', 'Bow_at_Banff_elevation_ERA5_remapped_domain_Bow_at_Banff_distributed_ERA5_merged_200703.nc', 'Bow_at_Banff_elevation_ERA5_remapped_domain_Bow_at_Banff_distributed_ERA5_merged_200704.nc', 'Bow_at_Banff_elevation_ERA5_remapped_domain_Bow_at_Banff_distributed_ERA5_merged_200705.nc', 'Bow_at_Banff_elevation_ERA5_remapped_domain_Bow_at_Banff_distributed_ERA5_merged_200706.nc', 'Bow_at_Banff_elevation_ERA5_remapped_domain_Bow_at_Banff_distributed_ERA5_merged_200707.nc', 'Bow_at_Banff_elevation_ERA5_remapped_domain_Bow_at_Banff_distributed_ERA5_merged_200708.nc', 'Bow_at_Banff_elevation_ERA5_remapped_domain_Bow_at_Banff_distributed_ERA5_merged_200709.nc', 'Bow_at_Banff_elevation_ERA5_remapped_domain_Bow_at_Banff_distributed_ERA5_merged_200710.nc', 'Bow_at_Banff_elevation_ERA5_remapped_domain_Bow_at_Banff_distributed_ERA5_merged_200711.nc', 'Bow_at_Banff_elevation_ERA5_remapped_domain_Bow_at_Banff_distributed_ERA5_merged_200712.nc', 'Bow_at_Banff_elevation_ERA5_remapped_domain_Bow_at_Banff_distributed_ERA5_merged_200801.nc', 'Bow_at_Banff_elevation_ERA5_remapped_domain_Bow_at_Banff_distributed_ERA5_merged_200802.nc', 'Bow_at_Banff_elevation_ERA5_remapped_domain_Bow_at_Banff_distributed_ERA5_merged_200803.nc', 'Bow_at_Banff_elevation_ERA5_remapped_domain_Bow_at_Banff_distributed_ERA5_merged_200804.nc', 'Bow_at_Banff_elevation_ERA5_remapped_domain_Bow_at_Banff_distributed_ERA5_merged_200805.nc', 'Bow_at_Banff_elevation_ERA5_remapped_domain_Bow_at_Banff_distributed_ERA5_merged_200806.nc', 'Bow_at_Banff_elevation_ERA5_remapped_domain_Bow_at_Banff_distributed_ERA5_merged_200807.nc', 'Bow_at_Banff_elevation_ERA5_remapped_domain_Bow_at_Banff_distributed_ERA5_merged_200808.nc', 'Bow_at_Banff_elevation_ERA5_remapped_domain_Bow_at_Banff_distributed_ERA5_merged_200809.nc', 'Bow_at_Banff_elevation_ERA5_remapped_domain_Bow_at_Banff_distributed_ERA5_merged_200810.nc', 'Bow_at_Banff_elevation_ERA5_remapped_domain_Bow_at_Banff_distributed_ERA5_merged_200811.nc', 'Bow_at_Banff_elevation_ERA5_remapped_domain_Bow_at_Banff_distributed_ERA5_merged_200812.nc', 'Bow_at_Banff_elevation_ERA5_remapped_domain_Bow_at_Banff_distributed_ERA5_merged_200901.nc', 'Bow_at_Banff_elevation_ERA5_remapped_domain_Bow_at_Banff_distributed_ERA5_merged_200902.nc', 'Bow_at_Banff_elevation_ERA5_remapped_domain_Bow_at_Banff_distributed_ERA5_merged_200903.nc', 'Bow_at_Banff_elevation_ERA5_remapped_domain_Bow_at_Banff_distributed_ERA5_merged_200904.nc', 'Bow_at_Banff_elevation_ERA5_remapped_domain_Bow_at_Banff_distributed_ERA5_merged_200905.nc', 'Bow_at_Banff_elevation_ERA5_remapped_domain_Bow_at_Banff_distributed_ERA5_merged_200906.nc', 'Bow_at_Banff_elevation_ERA5_remapped_domain_Bow_at_Banff_distributed_ERA5_merged_200907.nc', 'Bow_at_Banff_elevation_ERA5_remapped_domain_Bow_at_Banff_distributed_ERA5_merged_200908.nc', 'Bow_at_Banff_elevation_ERA5_remapped_domain_Bow_at_Banff_distributed_ERA5_merged_200909.nc', 'Bow_at_Banff_elevation_ERA5_remapped_domain_Bow_at_Banff_distributed_ERA5_merged_200910.nc', 'Bow_at_Banff_elevation_ERA5_remapped_domain_Bow_at_Banff_distributed_ERA5_merged_200911.nc', 'Bow_at_Banff_elevation_ERA5_remapped_domain_Bow_at_Banff_distributed_ERA5_merged_200912.nc', 'Bow_at_Banff_elevation_ERA5_remapped_domain_Bow_at_Banff_distributed_ERA5_merged_201001.nc', 'Bow_at_Banff_elevation_ERA5_remapped_domain_Bow_at_Banff_distributed_ERA5_merged_201002.nc', 'Bow_at_Banff_elevation_ERA5_remapped_domain_Bow_at_Banff_distributed_ERA5_merged_201003.nc', 'Bow_at_Banff_elevation_ERA5_remapped_domain_Bow_at_Banff_distributed_ERA5_merged_201004.nc', 'Bow_at_Banff_elevation_ERA5_remapped_domain_Bow_at_Banff_distributed_ERA5_merged_201005.nc', 'Bow_at_Banff_elevation_ERA5_remapped_domain_Bow_at_Banff_distributed_ERA5_merged_201006.nc', 'Bow_at_Banff_elevation_ERA5_remapped_domain_Bow_at_Banff_distributed_ERA5_merged_201007.nc', 'Bow_at_Banff_elevation_ERA5_remapped_domain_Bow_at_Banff_distributed_ERA5_merged_201008.nc', 'Bow_at_Banff_elevation_ERA5_remapped_domain_Bow_at_Banff_distributed_ERA5_merged_201009.nc', 'Bow_at_Banff_elevation_ERA5_remapped_domain_Bow_at_Banff_distributed_ERA5_merged_201010.nc', 'Bow_at_Banff_elevation_ERA5_remapped_domain_Bow_at_Banff_distributed_ERA5_merged_201011.nc', 'Bow_at_Banff_elevation_ERA5_remapped_domain_Bow_at_Banff_distributed_ERA5_merged_201012.nc', 'Bow_at_Banff_elevation_ERA5_remapped_domain_Bow_at_Banff_distributed_ERA5_merged_201101.nc', 'Bow_at_Banff_elevation_ERA5_remapped_domain_Bow_at_Banff_distributed_ERA5_merged_201102.nc', 'Bow_at_Banff_elevation_ERA5_remapped_domain_Bow_at_Banff_distributed_ERA5_merged_201103.nc', 'Bow_at_Banff_elevation_ERA5_remapped_domain_Bow_at_Banff_distributed_ERA5_merged_201104.nc', 'Bow_at_Banff_elevation_ERA5_remapped_domain_Bow_at_Banff_distributed_ERA5_merged_201105.nc', 'Bow_at_Banff_elevation_ERA5_remapped_domain_Bow_at_Banff_distributed_ERA5_merged_201106.nc', 'Bow_at_Banff_elevation_ERA5_remapped_domain_Bow_at_Banff_distributed_ERA5_merged_201107.nc', 'Bow_at_Banff_elevation_ERA5_remapped_domain_Bow_at_Banff_distributed_ERA5_merged_201108.nc', 'Bow_at_Banff_elevation_ERA5_remapped_domain_Bow_at_Banff_distributed_ERA5_merged_201109.nc', 'Bow_at_Banff_elevation_ERA5_remapped_domain_Bow_at_Banff_distributed_ERA5_merged_201110.nc', 'Bow_at_Banff_elevation_ERA5_remapped_domain_Bow_at_Banff_distributed_ERA5_merged_201111.nc', 'Bow_at_Banff_elevation_ERA5_remapped_domain_Bow_at_Banff_distributed_ERA5_merged_201112.nc', 'Bow_at_Banff_elevation_ERA5_remapped_domain_Bow_at_Banff_distributed_ERA5_merged_201201.nc', 'Bow_at_Banff_elevation_ERA5_remapped_domain_Bow_at_Banff_distributed_ERA5_merged_201202.nc', 'Bow_at_Banff_elevation_ERA5_remapped_domain_Bow_at_Banff_distributed_ERA5_merged_201203.nc', 'Bow_at_Banff_elevation_ERA5_remapped_domain_Bow_at_Banff_distributed_ERA5_merged_201204.nc', 'Bow_at_Banff_elevation_ERA5_remapped_domain_Bow_at_Banff_distributed_ERA5_merged_201205.nc', 'Bow_at_Banff_elevation_ERA5_remapped_domain_Bow_at_Banff_distributed_ERA5_merged_201206.nc', 'Bow_at_Banff_elevation_ERA5_remapped_domain_Bow_at_Banff_distributed_ERA5_merged_201207.nc', 'Bow_at_Banff_elevation_ERA5_remapped_domain_Bow_at_Banff_distributed_ERA5_merged_201208.nc', 'Bow_at_Banff_elevation_ERA5_remapped_domain_Bow_at_Banff_distributed_ERA5_merged_201209.nc', 'Bow_at_Banff_elevation_ERA5_remapped_domain_Bow_at_Banff_distributed_ERA5_merged_201210.nc', 'Bow_at_Banff_elevation_ERA5_remapped_domain_Bow_at_Banff_distributed_ERA5_merged_201211.nc', 'Bow_at_Banff_elevation_ERA5_remapped_domain_Bow_at_Banff_distributed_ERA5_merged_201212.nc', 'Bow_at_Banff_elevation_ERA5_remapped_domain_Bow_at_Banff_distributed_ERA5_merged_201301.nc', 'Bow_at_Banff_elevation_ERA5_remapped_domain_Bow_at_Banff_distributed_ERA5_merged_201302.nc', 'Bow_at_Banff_elevation_ERA5_remapped_domain_Bow_at_Banff_distributed_ERA5_merged_201303.nc', 'Bow_at_Banff_elevation_ERA5_remapped_domain_Bow_at_Banff_distributed_ERA5_merged_201304.nc', 'Bow_at_Banff_elevation_ERA5_remapped_domain_Bow_at_Banff_distributed_ERA5_merged_201305.nc', 'Bow_at_Banff_elevation_ERA5_remapped_domain_Bow_at_Banff_distributed_ERA5_merged_201306.nc', 'Bow_at_Banff_elevation_ERA5_remapped_domain_Bow_at_Banff_distributed_ERA5_merged_201307.nc', 'Bow_at_Banff_elevation_ERA5_remapped_domain_Bow_at_Banff_distributed_ERA5_merged_201308.nc', 'Bow_at_Banff_elevation_ERA5_remapped_domain_Bow_at_Banff_distributed_ERA5_merged_201309.nc', 'Bow_at_Banff_elevation_ERA5_remapped_domain_Bow_at_Banff_distributed_ERA5_merged_201310.nc', 'Bow_at_Banff_elevation_ERA5_remapped_domain_Bow_at_Banff_distributed_ERA5_merged_201311.nc', 'Bow_at_Banff_elevation_ERA5_remapped_domain_Bow_at_Banff_distributed_ERA5_merged_201312.nc', 'Bow_at_Banff_elevation_ERA5_remapped_domain_Bow_at_Banff_distributed_ERA5_merged_201401.nc', 'Bow_at_Banff_elevation_ERA5_remapped_domain_Bow_at_Banff_distributed_ERA5_merged_201402.nc', 'Bow_at_Banff_elevation_ERA5_remapped_domain_Bow_at_Banff_distributed_ERA5_merged_201403.nc', 'Bow_at_Banff_elevation_ERA5_remapped_domain_Bow_at_Banff_distributed_ERA5_merged_201404.nc', 'Bow_at_Banff_elevation_ERA5_remapped_domain_Bow_at_Banff_distributed_ERA5_merged_201405.nc', 'Bow_at_Banff_elevation_ERA5_remapped_domain_Bow_at_Banff_distributed_ERA5_merged_201406.nc', 'Bow_at_Banff_elevation_ERA5_remapped_domain_Bow_at_Banff_distributed_ERA5_merged_201407.nc', 'Bow_at_Banff_elevation_ERA5_remapped_domain_Bow_at_Banff_distributed_ERA5_merged_201408.nc', 'Bow_at_Banff_elevation_ERA5_remapped_domain_Bow_at_Banff_distributed_ERA5_merged_201409.nc', 'Bow_at_Banff_elevation_ERA5_remapped_domain_Bow_at_Banff_distributed_ERA5_merged_201410.nc', 'Bow_at_Banff_elevation_ERA5_remapped_domain_Bow_at_Banff_distributed_ERA5_merged_201411.nc', 'Bow_at_Banff_elevation_ERA5_remapped_domain_Bow_at_Banff_distributed_ERA5_merged_201412.nc', 'Bow_at_Banff_elevation_ERA5_remapped_domain_Bow_at_Banff_distributed_ERA5_merged_201501.nc', 'Bow_at_Banff_elevation_ERA5_remapped_domain_Bow_at_Banff_distributed_ERA5_merged_201502.nc', 'Bow_at_Banff_elevation_ERA5_remapped_domain_Bow_at_Banff_distributed_ERA5_merged_201503.nc', 'Bow_at_Banff_elevation_ERA5_remapped_domain_Bow_at_Banff_distributed_ERA5_merged_201504.nc', 'Bow_at_Banff_elevation_ERA5_remapped_domain_Bow_at_Banff_distributed_ERA5_merged_201505.nc', 'Bow_at_Banff_elevation_ERA5_remapped_domain_Bow_at_Banff_distributed_ERA5_merged_201506.nc', 'Bow_at_Banff_elevation_ERA5_remapped_domain_Bow_at_Banff_distributed_ERA5_merged_201507.nc', 'Bow_at_Banff_elevation_ERA5_remapped_domain_Bow_at_Banff_distributed_ERA5_merged_201508.nc', 'Bow_at_Banff_elevation_ERA5_remapped_domain_Bow_at_Banff_distributed_ERA5_merged_201509.nc', 'Bow_at_Banff_elevation_ERA5_remapped_domain_Bow_at_Banff_distributed_ERA5_merged_201510.nc', 'Bow_at_Banff_elevation_ERA5_remapped_domain_Bow_at_Banff_distributed_ERA5_merged_201511.nc', 'Bow_at_Banff_elevation_ERA5_remapped_domain_Bow_at_Banff_distributed_ERA5_merged_201512.nc', 'Bow_at_Banff_elevation_ERA5_remapped_domain_Bow_at_Banff_distributed_ERA5_merged_201601.nc', 'Bow_at_Banff_elevation_ERA5_remapped_domain_Bow_at_Banff_distributed_ERA5_merged_201602.nc', 'Bow_at_Banff_elevation_ERA5_remapped_domain_Bow_at_Banff_distributed_ERA5_merged_201603.nc', 'Bow_at_Banff_elevation_ERA5_remapped_domain_Bow_at_Banff_distributed_ERA5_merged_201604.nc', 'Bow_at_Banff_elevation_ERA5_remapped_domain_Bow_at_Banff_distributed_ERA5_merged_201605.nc', 'Bow_at_Banff_elevation_ERA5_remapped_domain_Bow_at_Banff_distributed_ERA5_merged_201606.nc', 'Bow_at_Banff_elevation_ERA5_remapped_domain_Bow_at_Banff_distributed_ERA5_merged_201607.nc', 'Bow_at_Banff_elevation_ERA5_remapped_domain_Bow_at_Banff_distributed_ERA5_merged_201608.nc', 'Bow_at_Banff_elevation_ERA5_remapped_domain_Bow_at_Banff_distributed_ERA5_merged_201609.nc', 'Bow_at_Banff_elevation_ERA5_remapped_domain_Bow_at_Banff_distributed_ERA5_merged_201610.nc', 'Bow_at_Banff_elevation_ERA5_remapped_domain_Bow_at_Banff_distributed_ERA5_merged_201611.nc', 'Bow_at_Banff_elevation_ERA5_remapped_domain_Bow_at_Banff_distributed_ERA5_merged_201612.nc', 'Bow_at_Banff_elevation_ERA5_remapped_domain_Bow_at_Banff_distributed_ERA5_merged_201701.nc', 'Bow_at_Banff_elevation_ERA5_remapped_domain_Bow_at_Banff_distributed_ERA5_merged_201702.nc', 'Bow_at_Banff_elevation_ERA5_remapped_domain_Bow_at_Banff_distributed_ERA5_merged_201703.nc', 'Bow_at_Banff_elevation_ERA5_remapped_domain_Bow_at_Banff_distributed_ERA5_merged_201704.nc', 'Bow_at_Banff_elevation_ERA5_remapped_domain_Bow_at_Banff_distributed_ERA5_merged_201705.nc', 'Bow_at_Banff_elevation_ERA5_remapped_domain_Bow_at_Banff_distributed_ERA5_merged_201706.nc', 'Bow_at_Banff_elevation_ERA5_remapped_domain_Bow_at_Banff_distributed_ERA5_merged_201707.nc', 'Bow_at_Banff_elevation_ERA5_remapped_domain_Bow_at_Banff_distributed_ERA5_merged_201708.nc', 'Bow_at_Banff_elevation_ERA5_remapped_domain_Bow_at_Banff_distributed_ERA5_merged_201709.nc', 'Bow_at_Banff_elevation_ERA5_remapped_domain_Bow_at_Banff_distributed_ERA5_merged_201710.nc', 'Bow_at_Banff_elevation_ERA5_remapped_domain_Bow_at_Banff_distributed_ERA5_merged_201711.nc', 'Bow_at_Banff_elevation_ERA5_remapped_domain_Bow_at_Banff_distributed_ERA5_merged_201712.nc', 'Bow_at_Banff_elevation_ERA5_remapped_domain_Bow_at_Banff_distributed_ERA5_merged_201801.nc', 'Bow_at_Banff_elevation_ERA5_remapped_domain_Bow_at_Banff_distributed_ERA5_merged_201802.nc', 'Bow_at_Banff_elevation_ERA5_remapped_domain_Bow_at_Banff_distributed_ERA5_merged_201803.nc', 'Bow_at_Banff_elevation_ERA5_remapped_domain_Bow_at_Banff_distributed_ERA5_merged_201804.nc', 'Bow_at_Banff_elevation_ERA5_remapped_domain_Bow_at_Banff_distributed_ERA5_merged_201805.nc', 'Bow_at_Banff_elevation_ERA5_remapped_domain_Bow_at_Banff_distributed_ERA5_merged_201806.nc', 'Bow_at_Banff_elevation_ERA5_remapped_domain_Bow_at_Banff_distributed_ERA5_merged_201807.nc', 'Bow_at_Banff_elevation_ERA5_remapped_domain_Bow_at_Banff_distributed_ERA5_merged_201808.nc', 'Bow_at_Banff_elevation_ERA5_remapped_domain_Bow_at_Banff_distributed_ERA5_merged_201809.nc', 'Bow_at_Banff_elevation_ERA5_remapped_domain_Bow_at_Banff_distributed_ERA5_merged_201810.nc', 'Bow_at_Banff_elevation_ERA5_remapped_domain_Bow_at_Banff_distributed_ERA5_merged_201811.nc', 'Bow_at_Banff_elevation_ERA5_remapped_domain_Bow_at_Banff_distributed_ERA5_merged_201812.nc', 'Bow_at_Banff_elevation_ERA5_remapped_domain_Bow_at_Banff_distributed_ERA5_merged_201901.nc', 'Bow_at_Banff_elevation_ERA5_remapped_domain_Bow_at_Banff_distributed_ERA5_merged_201902.nc', 'Bow_at_Banff_elevation_ERA5_remapped_domain_Bow_at_Banff_distributed_ERA5_merged_201903.nc', 'Bow_at_Banff_elevation_ERA5_remapped_domain_Bow_at_Banff_distributed_ERA5_merged_201904.nc', 'Bow_at_Banff_elevation_ERA5_remapped_domain_Bow_at_Banff_distributed_ERA5_merged_201905.nc', 'Bow_at_Banff_elevation_ERA5_remapped_domain_Bow_at_Banff_distributed_ERA5_merged_201906.nc', 'Bow_at_Banff_elevation_ERA5_remapped_domain_Bow_at_Banff_distributed_ERA5_merged_201907.nc', 'Bow_at_Banff_elevation_ERA5_remapped_domain_Bow_at_Banff_distributed_ERA5_merged_201908.nc', 'Bow_at_Banff_elevation_ERA5_remapped_domain_Bow_at_Banff_distributed_ERA5_merged_201909.nc', 'Bow_at_Banff_elevation_ERA5_remapped_domain_Bow_at_Banff_distributed_ERA5_merged_201910.nc', 'Bow_at_Banff_elevation_ERA5_remapped_domain_Bow_at_Banff_distributed_ERA5_merged_201911.nc', 'Bow_at_Banff_elevation_ERA5_remapped_domain_Bow_at_Banff_distributed_ERA5_merged_201912.nc', 'Bow_at_Banff_elevation_ERA5_remapped_domain_Bow_at_Banff_distributed_ERA5_merged_202001.nc', 'Bow_at_Banff_elevation_ERA5_remapped_domain_Bow_at_Banff_distributed_ERA5_merged_202002.nc', 'Bow_at_Banff_elevation_ERA5_remapped_domain_Bow_at_Banff_distributed_ERA5_merged_202003.nc', 'Bow_at_Banff_elevation_ERA5_remapped_domain_Bow_at_Banff_distributed_ERA5_merged_202004.nc', 'Bow_at_Banff_elevation_ERA5_remapped_domain_Bow_at_Banff_distributed_ERA5_merged_202005.nc', 'Bow_at_Banff_elevation_ERA5_remapped_domain_Bow_at_Banff_distributed_ERA5_merged_202006.nc', 'Bow_at_Banff_elevation_ERA5_remapped_domain_Bow_at_Banff_distributed_ERA5_merged_202007.nc', 'Bow_at_Banff_elevation_ERA5_remapped_domain_Bow_at_Banff_distributed_ERA5_merged_202008.nc', 'Bow_at_Banff_elevation_ERA5_remapped_domain_Bow_at_Banff_distributed_ERA5_merged_202009.nc', 'Bow_at_Banff_elevation_ERA5_remapped_domain_Bow_at_Banff_distributed_ERA5_merged_202010.nc', 'Bow_at_Banff_elevation_ERA5_remapped_domain_Bow_at_Banff_distributed_ERA5_merged_202011.nc', 'Bow_at_Banff_elevation_ERA5_remapped_domain_Bow_at_Banff_distributed_ERA5_merged_202012.nc', 'Bow_at_Banff_elevation_ERA5_remapped_domain_Bow_at_Banff_distributed_ERA5_merged_202101.nc', 'Bow_at_Banff_elevation_ERA5_remapped_domain_Bow_at_Banff_distributed_ERA5_merged_202102.nc', 'Bow_at_Banff_elevation_ERA5_remapped_domain_Bow_at_Banff_distributed_ERA5_merged_202103.nc', 'Bow_at_Banff_elevation_ERA5_remapped_domain_Bow_at_Banff_distributed_ERA5_merged_202104.nc', 'Bow_at_Banff_elevation_ERA5_remapped_domain_Bow_at_Banff_distributed_ERA5_merged_202105.nc', 'Bow_at_Banff_elevation_ERA5_remapped_domain_Bow_at_Banff_distributed_ERA5_merged_202106.nc', 'Bow_at_Banff_elevation_ERA5_remapped_domain_Bow_at_Banff_distributed_ERA5_merged_202107.nc', 'Bow_at_Banff_elevation_ERA5_remapped_domain_Bow_at_Banff_distributed_ERA5_merged_202108.nc', 'Bow_at_Banff_elevation_ERA5_remapped_domain_Bow_at_Banff_distributed_ERA5_merged_202109.nc', 'Bow_at_Banff_elevation_ERA5_remapped_domain_Bow_at_Banff_distributed_ERA5_merged_202110.nc', 'Bow_at_Banff_elevation_ERA5_remapped_domain_Bow_at_Banff_distributed_ERA5_merged_202111.nc', 'Bow_at_Banff_elevation_ERA5_remapped_domain_Bow_at_Banff_distributed_ERA5_merged_202112.nc', 'Bow_at_Banff_elevation_ERA5_remapped_domain_Bow_at_Banff_distributed_ERA5_merged_202201.nc', 'Bow_at_Banff_elevation_ERA5_remapped_domain_Bow_at_Banff_distributed_ERA5_merged_202202.nc', 'Bow_at_Banff_elevation_ERA5_remapped_domain_Bow_at_Banff_distributed_ERA5_merged_202203.nc', 'Bow_at_Banff_elevation_ERA5_remapped_domain_Bow_at_Banff_distributed_ERA5_merged_202204.nc', 'Bow_at_Banff_elevation_ERA5_remapped_domain_Bow_at_Banff_distributed_ERA5_merged_202205.nc', 'Bow_at_Banff_elevation_ERA5_remapped_domain_Bow_at_Banff_distributed_ERA5_merged_202206.nc', 'Bow_at_Banff_elevation_ERA5_remapped_domain_Bow_at_Banff_distributed_ERA5_merged_202207.nc', 'Bow_at_Banff_elevation_ERA5_remapped_domain_Bow_at_Banff_distributed_ERA5_merged_202208.nc', 'Bow_at_Banff_elevation_ERA5_remapped_domain_Bow_at_Banff_distributed_ERA5_merged_202209.nc', 'Bow_at_Banff_elevation_ERA5_remapped_domain_Bow_at_Banff_distributed_ERA5_merged_202210.nc', 'Bow_at_Banff_elevation_ERA5_remapped_domain_Bow_at_Banff_distributed_ERA5_merged_202211.nc', 'Bow_at_Banff_elevation_ERA5_remapped_domain_Bow_at_Banff_distributed_ERA5_merged_202212.nc']\n"
     ]
    },
    {
     "name": "stderr",
     "output_type": "stream",
     "text": [
      "2025-05-13 17:54:59,079 - confluence_general - INFO - forcing files: ['Bow_at_Banff_elevation_ERA5_remapped_domain_Bow_at_Banff_distributed_ERA5_merged_200001.nc', 'Bow_at_Banff_elevation_ERA5_remapped_domain_Bow_at_Banff_distributed_ERA5_merged_200002.nc', 'Bow_at_Banff_elevation_ERA5_remapped_domain_Bow_at_Banff_distributed_ERA5_merged_200003.nc', 'Bow_at_Banff_elevation_ERA5_remapped_domain_Bow_at_Banff_distributed_ERA5_merged_200004.nc', 'Bow_at_Banff_elevation_ERA5_remapped_domain_Bow_at_Banff_distributed_ERA5_merged_200005.nc', 'Bow_at_Banff_elevation_ERA5_remapped_domain_Bow_at_Banff_distributed_ERA5_merged_200006.nc', 'Bow_at_Banff_elevation_ERA5_remapped_domain_Bow_at_Banff_distributed_ERA5_merged_200007.nc', 'Bow_at_Banff_elevation_ERA5_remapped_domain_Bow_at_Banff_distributed_ERA5_merged_200008.nc', 'Bow_at_Banff_elevation_ERA5_remapped_domain_Bow_at_Banff_distributed_ERA5_merged_200009.nc', 'Bow_at_Banff_elevation_ERA5_remapped_domain_Bow_at_Banff_distributed_ERA5_merged_200010.nc', 'Bow_at_Banff_elevation_ERA5_remapped_domain_Bow_at_Banff_distributed_ERA5_merged_200011.nc', 'Bow_at_Banff_elevation_ERA5_remapped_domain_Bow_at_Banff_distributed_ERA5_merged_200012.nc', 'Bow_at_Banff_elevation_ERA5_remapped_domain_Bow_at_Banff_distributed_ERA5_merged_200101.nc', 'Bow_at_Banff_elevation_ERA5_remapped_domain_Bow_at_Banff_distributed_ERA5_merged_200102.nc', 'Bow_at_Banff_elevation_ERA5_remapped_domain_Bow_at_Banff_distributed_ERA5_merged_200103.nc', 'Bow_at_Banff_elevation_ERA5_remapped_domain_Bow_at_Banff_distributed_ERA5_merged_200104.nc', 'Bow_at_Banff_elevation_ERA5_remapped_domain_Bow_at_Banff_distributed_ERA5_merged_200105.nc', 'Bow_at_Banff_elevation_ERA5_remapped_domain_Bow_at_Banff_distributed_ERA5_merged_200106.nc', 'Bow_at_Banff_elevation_ERA5_remapped_domain_Bow_at_Banff_distributed_ERA5_merged_200107.nc', 'Bow_at_Banff_elevation_ERA5_remapped_domain_Bow_at_Banff_distributed_ERA5_merged_200108.nc', 'Bow_at_Banff_elevation_ERA5_remapped_domain_Bow_at_Banff_distributed_ERA5_merged_200109.nc', 'Bow_at_Banff_elevation_ERA5_remapped_domain_Bow_at_Banff_distributed_ERA5_merged_200110.nc', 'Bow_at_Banff_elevation_ERA5_remapped_domain_Bow_at_Banff_distributed_ERA5_merged_200111.nc', 'Bow_at_Banff_elevation_ERA5_remapped_domain_Bow_at_Banff_distributed_ERA5_merged_200112.nc', 'Bow_at_Banff_elevation_ERA5_remapped_domain_Bow_at_Banff_distributed_ERA5_merged_200201.nc', 'Bow_at_Banff_elevation_ERA5_remapped_domain_Bow_at_Banff_distributed_ERA5_merged_200202.nc', 'Bow_at_Banff_elevation_ERA5_remapped_domain_Bow_at_Banff_distributed_ERA5_merged_200203.nc', 'Bow_at_Banff_elevation_ERA5_remapped_domain_Bow_at_Banff_distributed_ERA5_merged_200204.nc', 'Bow_at_Banff_elevation_ERA5_remapped_domain_Bow_at_Banff_distributed_ERA5_merged_200205.nc', 'Bow_at_Banff_elevation_ERA5_remapped_domain_Bow_at_Banff_distributed_ERA5_merged_200206.nc', 'Bow_at_Banff_elevation_ERA5_remapped_domain_Bow_at_Banff_distributed_ERA5_merged_200207.nc', 'Bow_at_Banff_elevation_ERA5_remapped_domain_Bow_at_Banff_distributed_ERA5_merged_200208.nc', 'Bow_at_Banff_elevation_ERA5_remapped_domain_Bow_at_Banff_distributed_ERA5_merged_200209.nc', 'Bow_at_Banff_elevation_ERA5_remapped_domain_Bow_at_Banff_distributed_ERA5_merged_200210.nc', 'Bow_at_Banff_elevation_ERA5_remapped_domain_Bow_at_Banff_distributed_ERA5_merged_200211.nc', 'Bow_at_Banff_elevation_ERA5_remapped_domain_Bow_at_Banff_distributed_ERA5_merged_200212.nc', 'Bow_at_Banff_elevation_ERA5_remapped_domain_Bow_at_Banff_distributed_ERA5_merged_200301.nc', 'Bow_at_Banff_elevation_ERA5_remapped_domain_Bow_at_Banff_distributed_ERA5_merged_200302.nc', 'Bow_at_Banff_elevation_ERA5_remapped_domain_Bow_at_Banff_distributed_ERA5_merged_200303.nc', 'Bow_at_Banff_elevation_ERA5_remapped_domain_Bow_at_Banff_distributed_ERA5_merged_200304.nc', 'Bow_at_Banff_elevation_ERA5_remapped_domain_Bow_at_Banff_distributed_ERA5_merged_200305.nc', 'Bow_at_Banff_elevation_ERA5_remapped_domain_Bow_at_Banff_distributed_ERA5_merged_200306.nc', 'Bow_at_Banff_elevation_ERA5_remapped_domain_Bow_at_Banff_distributed_ERA5_merged_200307.nc', 'Bow_at_Banff_elevation_ERA5_remapped_domain_Bow_at_Banff_distributed_ERA5_merged_200308.nc', 'Bow_at_Banff_elevation_ERA5_remapped_domain_Bow_at_Banff_distributed_ERA5_merged_200309.nc', 'Bow_at_Banff_elevation_ERA5_remapped_domain_Bow_at_Banff_distributed_ERA5_merged_200310.nc', 'Bow_at_Banff_elevation_ERA5_remapped_domain_Bow_at_Banff_distributed_ERA5_merged_200311.nc', 'Bow_at_Banff_elevation_ERA5_remapped_domain_Bow_at_Banff_distributed_ERA5_merged_200312.nc', 'Bow_at_Banff_elevation_ERA5_remapped_domain_Bow_at_Banff_distributed_ERA5_merged_200401.nc', 'Bow_at_Banff_elevation_ERA5_remapped_domain_Bow_at_Banff_distributed_ERA5_merged_200402.nc', 'Bow_at_Banff_elevation_ERA5_remapped_domain_Bow_at_Banff_distributed_ERA5_merged_200403.nc', 'Bow_at_Banff_elevation_ERA5_remapped_domain_Bow_at_Banff_distributed_ERA5_merged_200404.nc', 'Bow_at_Banff_elevation_ERA5_remapped_domain_Bow_at_Banff_distributed_ERA5_merged_200405.nc', 'Bow_at_Banff_elevation_ERA5_remapped_domain_Bow_at_Banff_distributed_ERA5_merged_200406.nc', 'Bow_at_Banff_elevation_ERA5_remapped_domain_Bow_at_Banff_distributed_ERA5_merged_200407.nc', 'Bow_at_Banff_elevation_ERA5_remapped_domain_Bow_at_Banff_distributed_ERA5_merged_200408.nc', 'Bow_at_Banff_elevation_ERA5_remapped_domain_Bow_at_Banff_distributed_ERA5_merged_200409.nc', 'Bow_at_Banff_elevation_ERA5_remapped_domain_Bow_at_Banff_distributed_ERA5_merged_200410.nc', 'Bow_at_Banff_elevation_ERA5_remapped_domain_Bow_at_Banff_distributed_ERA5_merged_200411.nc', 'Bow_at_Banff_elevation_ERA5_remapped_domain_Bow_at_Banff_distributed_ERA5_merged_200412.nc', 'Bow_at_Banff_elevation_ERA5_remapped_domain_Bow_at_Banff_distributed_ERA5_merged_200501.nc', 'Bow_at_Banff_elevation_ERA5_remapped_domain_Bow_at_Banff_distributed_ERA5_merged_200502.nc', 'Bow_at_Banff_elevation_ERA5_remapped_domain_Bow_at_Banff_distributed_ERA5_merged_200503.nc', 'Bow_at_Banff_elevation_ERA5_remapped_domain_Bow_at_Banff_distributed_ERA5_merged_200504.nc', 'Bow_at_Banff_elevation_ERA5_remapped_domain_Bow_at_Banff_distributed_ERA5_merged_200505.nc', 'Bow_at_Banff_elevation_ERA5_remapped_domain_Bow_at_Banff_distributed_ERA5_merged_200506.nc', 'Bow_at_Banff_elevation_ERA5_remapped_domain_Bow_at_Banff_distributed_ERA5_merged_200507.nc', 'Bow_at_Banff_elevation_ERA5_remapped_domain_Bow_at_Banff_distributed_ERA5_merged_200508.nc', 'Bow_at_Banff_elevation_ERA5_remapped_domain_Bow_at_Banff_distributed_ERA5_merged_200509.nc', 'Bow_at_Banff_elevation_ERA5_remapped_domain_Bow_at_Banff_distributed_ERA5_merged_200510.nc', 'Bow_at_Banff_elevation_ERA5_remapped_domain_Bow_at_Banff_distributed_ERA5_merged_200511.nc', 'Bow_at_Banff_elevation_ERA5_remapped_domain_Bow_at_Banff_distributed_ERA5_merged_200512.nc', 'Bow_at_Banff_elevation_ERA5_remapped_domain_Bow_at_Banff_distributed_ERA5_merged_200601.nc', 'Bow_at_Banff_elevation_ERA5_remapped_domain_Bow_at_Banff_distributed_ERA5_merged_200602.nc', 'Bow_at_Banff_elevation_ERA5_remapped_domain_Bow_at_Banff_distributed_ERA5_merged_200603.nc', 'Bow_at_Banff_elevation_ERA5_remapped_domain_Bow_at_Banff_distributed_ERA5_merged_200604.nc', 'Bow_at_Banff_elevation_ERA5_remapped_domain_Bow_at_Banff_distributed_ERA5_merged_200605.nc', 'Bow_at_Banff_elevation_ERA5_remapped_domain_Bow_at_Banff_distributed_ERA5_merged_200606.nc', 'Bow_at_Banff_elevation_ERA5_remapped_domain_Bow_at_Banff_distributed_ERA5_merged_200607.nc', 'Bow_at_Banff_elevation_ERA5_remapped_domain_Bow_at_Banff_distributed_ERA5_merged_200608.nc', 'Bow_at_Banff_elevation_ERA5_remapped_domain_Bow_at_Banff_distributed_ERA5_merged_200609.nc', 'Bow_at_Banff_elevation_ERA5_remapped_domain_Bow_at_Banff_distributed_ERA5_merged_200610.nc', 'Bow_at_Banff_elevation_ERA5_remapped_domain_Bow_at_Banff_distributed_ERA5_merged_200611.nc', 'Bow_at_Banff_elevation_ERA5_remapped_domain_Bow_at_Banff_distributed_ERA5_merged_200612.nc', 'Bow_at_Banff_elevation_ERA5_remapped_domain_Bow_at_Banff_distributed_ERA5_merged_200701.nc', 'Bow_at_Banff_elevation_ERA5_remapped_domain_Bow_at_Banff_distributed_ERA5_merged_200702.nc', 'Bow_at_Banff_elevation_ERA5_remapped_domain_Bow_at_Banff_distributed_ERA5_merged_200703.nc', 'Bow_at_Banff_elevation_ERA5_remapped_domain_Bow_at_Banff_distributed_ERA5_merged_200704.nc', 'Bow_at_Banff_elevation_ERA5_remapped_domain_Bow_at_Banff_distributed_ERA5_merged_200705.nc', 'Bow_at_Banff_elevation_ERA5_remapped_domain_Bow_at_Banff_distributed_ERA5_merged_200706.nc', 'Bow_at_Banff_elevation_ERA5_remapped_domain_Bow_at_Banff_distributed_ERA5_merged_200707.nc', 'Bow_at_Banff_elevation_ERA5_remapped_domain_Bow_at_Banff_distributed_ERA5_merged_200708.nc', 'Bow_at_Banff_elevation_ERA5_remapped_domain_Bow_at_Banff_distributed_ERA5_merged_200709.nc', 'Bow_at_Banff_elevation_ERA5_remapped_domain_Bow_at_Banff_distributed_ERA5_merged_200710.nc', 'Bow_at_Banff_elevation_ERA5_remapped_domain_Bow_at_Banff_distributed_ERA5_merged_200711.nc', 'Bow_at_Banff_elevation_ERA5_remapped_domain_Bow_at_Banff_distributed_ERA5_merged_200712.nc', 'Bow_at_Banff_elevation_ERA5_remapped_domain_Bow_at_Banff_distributed_ERA5_merged_200801.nc', 'Bow_at_Banff_elevation_ERA5_remapped_domain_Bow_at_Banff_distributed_ERA5_merged_200802.nc', 'Bow_at_Banff_elevation_ERA5_remapped_domain_Bow_at_Banff_distributed_ERA5_merged_200803.nc', 'Bow_at_Banff_elevation_ERA5_remapped_domain_Bow_at_Banff_distributed_ERA5_merged_200804.nc', 'Bow_at_Banff_elevation_ERA5_remapped_domain_Bow_at_Banff_distributed_ERA5_merged_200805.nc', 'Bow_at_Banff_elevation_ERA5_remapped_domain_Bow_at_Banff_distributed_ERA5_merged_200806.nc', 'Bow_at_Banff_elevation_ERA5_remapped_domain_Bow_at_Banff_distributed_ERA5_merged_200807.nc', 'Bow_at_Banff_elevation_ERA5_remapped_domain_Bow_at_Banff_distributed_ERA5_merged_200808.nc', 'Bow_at_Banff_elevation_ERA5_remapped_domain_Bow_at_Banff_distributed_ERA5_merged_200809.nc', 'Bow_at_Banff_elevation_ERA5_remapped_domain_Bow_at_Banff_distributed_ERA5_merged_200810.nc', 'Bow_at_Banff_elevation_ERA5_remapped_domain_Bow_at_Banff_distributed_ERA5_merged_200811.nc', 'Bow_at_Banff_elevation_ERA5_remapped_domain_Bow_at_Banff_distributed_ERA5_merged_200812.nc', 'Bow_at_Banff_elevation_ERA5_remapped_domain_Bow_at_Banff_distributed_ERA5_merged_200901.nc', 'Bow_at_Banff_elevation_ERA5_remapped_domain_Bow_at_Banff_distributed_ERA5_merged_200902.nc', 'Bow_at_Banff_elevation_ERA5_remapped_domain_Bow_at_Banff_distributed_ERA5_merged_200903.nc', 'Bow_at_Banff_elevation_ERA5_remapped_domain_Bow_at_Banff_distributed_ERA5_merged_200904.nc', 'Bow_at_Banff_elevation_ERA5_remapped_domain_Bow_at_Banff_distributed_ERA5_merged_200905.nc', 'Bow_at_Banff_elevation_ERA5_remapped_domain_Bow_at_Banff_distributed_ERA5_merged_200906.nc', 'Bow_at_Banff_elevation_ERA5_remapped_domain_Bow_at_Banff_distributed_ERA5_merged_200907.nc', 'Bow_at_Banff_elevation_ERA5_remapped_domain_Bow_at_Banff_distributed_ERA5_merged_200908.nc', 'Bow_at_Banff_elevation_ERA5_remapped_domain_Bow_at_Banff_distributed_ERA5_merged_200909.nc', 'Bow_at_Banff_elevation_ERA5_remapped_domain_Bow_at_Banff_distributed_ERA5_merged_200910.nc', 'Bow_at_Banff_elevation_ERA5_remapped_domain_Bow_at_Banff_distributed_ERA5_merged_200911.nc', 'Bow_at_Banff_elevation_ERA5_remapped_domain_Bow_at_Banff_distributed_ERA5_merged_200912.nc', 'Bow_at_Banff_elevation_ERA5_remapped_domain_Bow_at_Banff_distributed_ERA5_merged_201001.nc', 'Bow_at_Banff_elevation_ERA5_remapped_domain_Bow_at_Banff_distributed_ERA5_merged_201002.nc', 'Bow_at_Banff_elevation_ERA5_remapped_domain_Bow_at_Banff_distributed_ERA5_merged_201003.nc', 'Bow_at_Banff_elevation_ERA5_remapped_domain_Bow_at_Banff_distributed_ERA5_merged_201004.nc', 'Bow_at_Banff_elevation_ERA5_remapped_domain_Bow_at_Banff_distributed_ERA5_merged_201005.nc', 'Bow_at_Banff_elevation_ERA5_remapped_domain_Bow_at_Banff_distributed_ERA5_merged_201006.nc', 'Bow_at_Banff_elevation_ERA5_remapped_domain_Bow_at_Banff_distributed_ERA5_merged_201007.nc', 'Bow_at_Banff_elevation_ERA5_remapped_domain_Bow_at_Banff_distributed_ERA5_merged_201008.nc', 'Bow_at_Banff_elevation_ERA5_remapped_domain_Bow_at_Banff_distributed_ERA5_merged_201009.nc', 'Bow_at_Banff_elevation_ERA5_remapped_domain_Bow_at_Banff_distributed_ERA5_merged_201010.nc', 'Bow_at_Banff_elevation_ERA5_remapped_domain_Bow_at_Banff_distributed_ERA5_merged_201011.nc', 'Bow_at_Banff_elevation_ERA5_remapped_domain_Bow_at_Banff_distributed_ERA5_merged_201012.nc', 'Bow_at_Banff_elevation_ERA5_remapped_domain_Bow_at_Banff_distributed_ERA5_merged_201101.nc', 'Bow_at_Banff_elevation_ERA5_remapped_domain_Bow_at_Banff_distributed_ERA5_merged_201102.nc', 'Bow_at_Banff_elevation_ERA5_remapped_domain_Bow_at_Banff_distributed_ERA5_merged_201103.nc', 'Bow_at_Banff_elevation_ERA5_remapped_domain_Bow_at_Banff_distributed_ERA5_merged_201104.nc', 'Bow_at_Banff_elevation_ERA5_remapped_domain_Bow_at_Banff_distributed_ERA5_merged_201105.nc', 'Bow_at_Banff_elevation_ERA5_remapped_domain_Bow_at_Banff_distributed_ERA5_merged_201106.nc', 'Bow_at_Banff_elevation_ERA5_remapped_domain_Bow_at_Banff_distributed_ERA5_merged_201107.nc', 'Bow_at_Banff_elevation_ERA5_remapped_domain_Bow_at_Banff_distributed_ERA5_merged_201108.nc', 'Bow_at_Banff_elevation_ERA5_remapped_domain_Bow_at_Banff_distributed_ERA5_merged_201109.nc', 'Bow_at_Banff_elevation_ERA5_remapped_domain_Bow_at_Banff_distributed_ERA5_merged_201110.nc', 'Bow_at_Banff_elevation_ERA5_remapped_domain_Bow_at_Banff_distributed_ERA5_merged_201111.nc', 'Bow_at_Banff_elevation_ERA5_remapped_domain_Bow_at_Banff_distributed_ERA5_merged_201112.nc', 'Bow_at_Banff_elevation_ERA5_remapped_domain_Bow_at_Banff_distributed_ERA5_merged_201201.nc', 'Bow_at_Banff_elevation_ERA5_remapped_domain_Bow_at_Banff_distributed_ERA5_merged_201202.nc', 'Bow_at_Banff_elevation_ERA5_remapped_domain_Bow_at_Banff_distributed_ERA5_merged_201203.nc', 'Bow_at_Banff_elevation_ERA5_remapped_domain_Bow_at_Banff_distributed_ERA5_merged_201204.nc', 'Bow_at_Banff_elevation_ERA5_remapped_domain_Bow_at_Banff_distributed_ERA5_merged_201205.nc', 'Bow_at_Banff_elevation_ERA5_remapped_domain_Bow_at_Banff_distributed_ERA5_merged_201206.nc', 'Bow_at_Banff_elevation_ERA5_remapped_domain_Bow_at_Banff_distributed_ERA5_merged_201207.nc', 'Bow_at_Banff_elevation_ERA5_remapped_domain_Bow_at_Banff_distributed_ERA5_merged_201208.nc', 'Bow_at_Banff_elevation_ERA5_remapped_domain_Bow_at_Banff_distributed_ERA5_merged_201209.nc', 'Bow_at_Banff_elevation_ERA5_remapped_domain_Bow_at_Banff_distributed_ERA5_merged_201210.nc', 'Bow_at_Banff_elevation_ERA5_remapped_domain_Bow_at_Banff_distributed_ERA5_merged_201211.nc', 'Bow_at_Banff_elevation_ERA5_remapped_domain_Bow_at_Banff_distributed_ERA5_merged_201212.nc', 'Bow_at_Banff_elevation_ERA5_remapped_domain_Bow_at_Banff_distributed_ERA5_merged_201301.nc', 'Bow_at_Banff_elevation_ERA5_remapped_domain_Bow_at_Banff_distributed_ERA5_merged_201302.nc', 'Bow_at_Banff_elevation_ERA5_remapped_domain_Bow_at_Banff_distributed_ERA5_merged_201303.nc', 'Bow_at_Banff_elevation_ERA5_remapped_domain_Bow_at_Banff_distributed_ERA5_merged_201304.nc', 'Bow_at_Banff_elevation_ERA5_remapped_domain_Bow_at_Banff_distributed_ERA5_merged_201305.nc', 'Bow_at_Banff_elevation_ERA5_remapped_domain_Bow_at_Banff_distributed_ERA5_merged_201306.nc', 'Bow_at_Banff_elevation_ERA5_remapped_domain_Bow_at_Banff_distributed_ERA5_merged_201307.nc', 'Bow_at_Banff_elevation_ERA5_remapped_domain_Bow_at_Banff_distributed_ERA5_merged_201308.nc', 'Bow_at_Banff_elevation_ERA5_remapped_domain_Bow_at_Banff_distributed_ERA5_merged_201309.nc', 'Bow_at_Banff_elevation_ERA5_remapped_domain_Bow_at_Banff_distributed_ERA5_merged_201310.nc', 'Bow_at_Banff_elevation_ERA5_remapped_domain_Bow_at_Banff_distributed_ERA5_merged_201311.nc', 'Bow_at_Banff_elevation_ERA5_remapped_domain_Bow_at_Banff_distributed_ERA5_merged_201312.nc', 'Bow_at_Banff_elevation_ERA5_remapped_domain_Bow_at_Banff_distributed_ERA5_merged_201401.nc', 'Bow_at_Banff_elevation_ERA5_remapped_domain_Bow_at_Banff_distributed_ERA5_merged_201402.nc', 'Bow_at_Banff_elevation_ERA5_remapped_domain_Bow_at_Banff_distributed_ERA5_merged_201403.nc', 'Bow_at_Banff_elevation_ERA5_remapped_domain_Bow_at_Banff_distributed_ERA5_merged_201404.nc', 'Bow_at_Banff_elevation_ERA5_remapped_domain_Bow_at_Banff_distributed_ERA5_merged_201405.nc', 'Bow_at_Banff_elevation_ERA5_remapped_domain_Bow_at_Banff_distributed_ERA5_merged_201406.nc', 'Bow_at_Banff_elevation_ERA5_remapped_domain_Bow_at_Banff_distributed_ERA5_merged_201407.nc', 'Bow_at_Banff_elevation_ERA5_remapped_domain_Bow_at_Banff_distributed_ERA5_merged_201408.nc', 'Bow_at_Banff_elevation_ERA5_remapped_domain_Bow_at_Banff_distributed_ERA5_merged_201409.nc', 'Bow_at_Banff_elevation_ERA5_remapped_domain_Bow_at_Banff_distributed_ERA5_merged_201410.nc', 'Bow_at_Banff_elevation_ERA5_remapped_domain_Bow_at_Banff_distributed_ERA5_merged_201411.nc', 'Bow_at_Banff_elevation_ERA5_remapped_domain_Bow_at_Banff_distributed_ERA5_merged_201412.nc', 'Bow_at_Banff_elevation_ERA5_remapped_domain_Bow_at_Banff_distributed_ERA5_merged_201501.nc', 'Bow_at_Banff_elevation_ERA5_remapped_domain_Bow_at_Banff_distributed_ERA5_merged_201502.nc', 'Bow_at_Banff_elevation_ERA5_remapped_domain_Bow_at_Banff_distributed_ERA5_merged_201503.nc', 'Bow_at_Banff_elevation_ERA5_remapped_domain_Bow_at_Banff_distributed_ERA5_merged_201504.nc', 'Bow_at_Banff_elevation_ERA5_remapped_domain_Bow_at_Banff_distributed_ERA5_merged_201505.nc', 'Bow_at_Banff_elevation_ERA5_remapped_domain_Bow_at_Banff_distributed_ERA5_merged_201506.nc', 'Bow_at_Banff_elevation_ERA5_remapped_domain_Bow_at_Banff_distributed_ERA5_merged_201507.nc', 'Bow_at_Banff_elevation_ERA5_remapped_domain_Bow_at_Banff_distributed_ERA5_merged_201508.nc', 'Bow_at_Banff_elevation_ERA5_remapped_domain_Bow_at_Banff_distributed_ERA5_merged_201509.nc', 'Bow_at_Banff_elevation_ERA5_remapped_domain_Bow_at_Banff_distributed_ERA5_merged_201510.nc', 'Bow_at_Banff_elevation_ERA5_remapped_domain_Bow_at_Banff_distributed_ERA5_merged_201511.nc', 'Bow_at_Banff_elevation_ERA5_remapped_domain_Bow_at_Banff_distributed_ERA5_merged_201512.nc', 'Bow_at_Banff_elevation_ERA5_remapped_domain_Bow_at_Banff_distributed_ERA5_merged_201601.nc', 'Bow_at_Banff_elevation_ERA5_remapped_domain_Bow_at_Banff_distributed_ERA5_merged_201602.nc', 'Bow_at_Banff_elevation_ERA5_remapped_domain_Bow_at_Banff_distributed_ERA5_merged_201603.nc', 'Bow_at_Banff_elevation_ERA5_remapped_domain_Bow_at_Banff_distributed_ERA5_merged_201604.nc', 'Bow_at_Banff_elevation_ERA5_remapped_domain_Bow_at_Banff_distributed_ERA5_merged_201605.nc', 'Bow_at_Banff_elevation_ERA5_remapped_domain_Bow_at_Banff_distributed_ERA5_merged_201606.nc', 'Bow_at_Banff_elevation_ERA5_remapped_domain_Bow_at_Banff_distributed_ERA5_merged_201607.nc', 'Bow_at_Banff_elevation_ERA5_remapped_domain_Bow_at_Banff_distributed_ERA5_merged_201608.nc', 'Bow_at_Banff_elevation_ERA5_remapped_domain_Bow_at_Banff_distributed_ERA5_merged_201609.nc', 'Bow_at_Banff_elevation_ERA5_remapped_domain_Bow_at_Banff_distributed_ERA5_merged_201610.nc', 'Bow_at_Banff_elevation_ERA5_remapped_domain_Bow_at_Banff_distributed_ERA5_merged_201611.nc', 'Bow_at_Banff_elevation_ERA5_remapped_domain_Bow_at_Banff_distributed_ERA5_merged_201612.nc', 'Bow_at_Banff_elevation_ERA5_remapped_domain_Bow_at_Banff_distributed_ERA5_merged_201701.nc', 'Bow_at_Banff_elevation_ERA5_remapped_domain_Bow_at_Banff_distributed_ERA5_merged_201702.nc', 'Bow_at_Banff_elevation_ERA5_remapped_domain_Bow_at_Banff_distributed_ERA5_merged_201703.nc', 'Bow_at_Banff_elevation_ERA5_remapped_domain_Bow_at_Banff_distributed_ERA5_merged_201704.nc', 'Bow_at_Banff_elevation_ERA5_remapped_domain_Bow_at_Banff_distributed_ERA5_merged_201705.nc', 'Bow_at_Banff_elevation_ERA5_remapped_domain_Bow_at_Banff_distributed_ERA5_merged_201706.nc', 'Bow_at_Banff_elevation_ERA5_remapped_domain_Bow_at_Banff_distributed_ERA5_merged_201707.nc', 'Bow_at_Banff_elevation_ERA5_remapped_domain_Bow_at_Banff_distributed_ERA5_merged_201708.nc', 'Bow_at_Banff_elevation_ERA5_remapped_domain_Bow_at_Banff_distributed_ERA5_merged_201709.nc', 'Bow_at_Banff_elevation_ERA5_remapped_domain_Bow_at_Banff_distributed_ERA5_merged_201710.nc', 'Bow_at_Banff_elevation_ERA5_remapped_domain_Bow_at_Banff_distributed_ERA5_merged_201711.nc', 'Bow_at_Banff_elevation_ERA5_remapped_domain_Bow_at_Banff_distributed_ERA5_merged_201712.nc', 'Bow_at_Banff_elevation_ERA5_remapped_domain_Bow_at_Banff_distributed_ERA5_merged_201801.nc', 'Bow_at_Banff_elevation_ERA5_remapped_domain_Bow_at_Banff_distributed_ERA5_merged_201802.nc', 'Bow_at_Banff_elevation_ERA5_remapped_domain_Bow_at_Banff_distributed_ERA5_merged_201803.nc', 'Bow_at_Banff_elevation_ERA5_remapped_domain_Bow_at_Banff_distributed_ERA5_merged_201804.nc', 'Bow_at_Banff_elevation_ERA5_remapped_domain_Bow_at_Banff_distributed_ERA5_merged_201805.nc', 'Bow_at_Banff_elevation_ERA5_remapped_domain_Bow_at_Banff_distributed_ERA5_merged_201806.nc', 'Bow_at_Banff_elevation_ERA5_remapped_domain_Bow_at_Banff_distributed_ERA5_merged_201807.nc', 'Bow_at_Banff_elevation_ERA5_remapped_domain_Bow_at_Banff_distributed_ERA5_merged_201808.nc', 'Bow_at_Banff_elevation_ERA5_remapped_domain_Bow_at_Banff_distributed_ERA5_merged_201809.nc', 'Bow_at_Banff_elevation_ERA5_remapped_domain_Bow_at_Banff_distributed_ERA5_merged_201810.nc', 'Bow_at_Banff_elevation_ERA5_remapped_domain_Bow_at_Banff_distributed_ERA5_merged_201811.nc', 'Bow_at_Banff_elevation_ERA5_remapped_domain_Bow_at_Banff_distributed_ERA5_merged_201812.nc', 'Bow_at_Banff_elevation_ERA5_remapped_domain_Bow_at_Banff_distributed_ERA5_merged_201901.nc', 'Bow_at_Banff_elevation_ERA5_remapped_domain_Bow_at_Banff_distributed_ERA5_merged_201902.nc', 'Bow_at_Banff_elevation_ERA5_remapped_domain_Bow_at_Banff_distributed_ERA5_merged_201903.nc', 'Bow_at_Banff_elevation_ERA5_remapped_domain_Bow_at_Banff_distributed_ERA5_merged_201904.nc', 'Bow_at_Banff_elevation_ERA5_remapped_domain_Bow_at_Banff_distributed_ERA5_merged_201905.nc', 'Bow_at_Banff_elevation_ERA5_remapped_domain_Bow_at_Banff_distributed_ERA5_merged_201906.nc', 'Bow_at_Banff_elevation_ERA5_remapped_domain_Bow_at_Banff_distributed_ERA5_merged_201907.nc', 'Bow_at_Banff_elevation_ERA5_remapped_domain_Bow_at_Banff_distributed_ERA5_merged_201908.nc', 'Bow_at_Banff_elevation_ERA5_remapped_domain_Bow_at_Banff_distributed_ERA5_merged_201909.nc', 'Bow_at_Banff_elevation_ERA5_remapped_domain_Bow_at_Banff_distributed_ERA5_merged_201910.nc', 'Bow_at_Banff_elevation_ERA5_remapped_domain_Bow_at_Banff_distributed_ERA5_merged_201911.nc', 'Bow_at_Banff_elevation_ERA5_remapped_domain_Bow_at_Banff_distributed_ERA5_merged_201912.nc', 'Bow_at_Banff_elevation_ERA5_remapped_domain_Bow_at_Banff_distributed_ERA5_merged_202001.nc', 'Bow_at_Banff_elevation_ERA5_remapped_domain_Bow_at_Banff_distributed_ERA5_merged_202002.nc', 'Bow_at_Banff_elevation_ERA5_remapped_domain_Bow_at_Banff_distributed_ERA5_merged_202003.nc', 'Bow_at_Banff_elevation_ERA5_remapped_domain_Bow_at_Banff_distributed_ERA5_merged_202004.nc', 'Bow_at_Banff_elevation_ERA5_remapped_domain_Bow_at_Banff_distributed_ERA5_merged_202005.nc', 'Bow_at_Banff_elevation_ERA5_remapped_domain_Bow_at_Banff_distributed_ERA5_merged_202006.nc', 'Bow_at_Banff_elevation_ERA5_remapped_domain_Bow_at_Banff_distributed_ERA5_merged_202007.nc', 'Bow_at_Banff_elevation_ERA5_remapped_domain_Bow_at_Banff_distributed_ERA5_merged_202008.nc', 'Bow_at_Banff_elevation_ERA5_remapped_domain_Bow_at_Banff_distributed_ERA5_merged_202009.nc', 'Bow_at_Banff_elevation_ERA5_remapped_domain_Bow_at_Banff_distributed_ERA5_merged_202010.nc', 'Bow_at_Banff_elevation_ERA5_remapped_domain_Bow_at_Banff_distributed_ERA5_merged_202011.nc', 'Bow_at_Banff_elevation_ERA5_remapped_domain_Bow_at_Banff_distributed_ERA5_merged_202012.nc', 'Bow_at_Banff_elevation_ERA5_remapped_domain_Bow_at_Banff_distributed_ERA5_merged_202101.nc', 'Bow_at_Banff_elevation_ERA5_remapped_domain_Bow_at_Banff_distributed_ERA5_merged_202102.nc', 'Bow_at_Banff_elevation_ERA5_remapped_domain_Bow_at_Banff_distributed_ERA5_merged_202103.nc', 'Bow_at_Banff_elevation_ERA5_remapped_domain_Bow_at_Banff_distributed_ERA5_merged_202104.nc', 'Bow_at_Banff_elevation_ERA5_remapped_domain_Bow_at_Banff_distributed_ERA5_merged_202105.nc', 'Bow_at_Banff_elevation_ERA5_remapped_domain_Bow_at_Banff_distributed_ERA5_merged_202106.nc', 'Bow_at_Banff_elevation_ERA5_remapped_domain_Bow_at_Banff_distributed_ERA5_merged_202107.nc', 'Bow_at_Banff_elevation_ERA5_remapped_domain_Bow_at_Banff_distributed_ERA5_merged_202108.nc', 'Bow_at_Banff_elevation_ERA5_remapped_domain_Bow_at_Banff_distributed_ERA5_merged_202109.nc', 'Bow_at_Banff_elevation_ERA5_remapped_domain_Bow_at_Banff_distributed_ERA5_merged_202110.nc', 'Bow_at_Banff_elevation_ERA5_remapped_domain_Bow_at_Banff_distributed_ERA5_merged_202111.nc', 'Bow_at_Banff_elevation_ERA5_remapped_domain_Bow_at_Banff_distributed_ERA5_merged_202112.nc', 'Bow_at_Banff_elevation_ERA5_remapped_domain_Bow_at_Banff_distributed_ERA5_merged_202201.nc', 'Bow_at_Banff_elevation_ERA5_remapped_domain_Bow_at_Banff_distributed_ERA5_merged_202202.nc', 'Bow_at_Banff_elevation_ERA5_remapped_domain_Bow_at_Banff_distributed_ERA5_merged_202203.nc', 'Bow_at_Banff_elevation_ERA5_remapped_domain_Bow_at_Banff_distributed_ERA5_merged_202204.nc', 'Bow_at_Banff_elevation_ERA5_remapped_domain_Bow_at_Banff_distributed_ERA5_merged_202205.nc', 'Bow_at_Banff_elevation_ERA5_remapped_domain_Bow_at_Banff_distributed_ERA5_merged_202206.nc', 'Bow_at_Banff_elevation_ERA5_remapped_domain_Bow_at_Banff_distributed_ERA5_merged_202207.nc', 'Bow_at_Banff_elevation_ERA5_remapped_domain_Bow_at_Banff_distributed_ERA5_merged_202208.nc', 'Bow_at_Banff_elevation_ERA5_remapped_domain_Bow_at_Banff_distributed_ERA5_merged_202209.nc', 'Bow_at_Banff_elevation_ERA5_remapped_domain_Bow_at_Banff_distributed_ERA5_merged_202210.nc', 'Bow_at_Banff_elevation_ERA5_remapped_domain_Bow_at_Banff_distributed_ERA5_merged_202211.nc', 'Bow_at_Banff_elevation_ERA5_remapped_domain_Bow_at_Banff_distributed_ERA5_merged_202212.nc']\n"
     ]
    },
    {
     "name": "stdout",
     "output_type": "stream",
     "text": [
      "17:57:22 - INFO - Completed processing of ERA5 forcing files with temperature lapsing\n"
     ]
    },
    {
     "name": "stderr",
     "output_type": "stream",
     "text": [
      "2025-05-13 17:57:22,270 - confluence_general - INFO - Completed processing of ERA5 forcing files with temperature lapsing\n"
     ]
    },
    {
     "name": "stdout",
     "output_type": "stream",
     "text": [
      "17:57:22 - INFO - Copying SUMMA base settings\n"
     ]
    },
    {
     "name": "stderr",
     "output_type": "stream",
     "text": [
      "2025-05-13 17:57:22,274 - confluence_general - INFO - Copying SUMMA base settings\n"
     ]
    },
    {
     "name": "stdout",
     "output_type": "stream",
     "text": [
      "17:57:23 - INFO - SUMMA base settings copied to /work/comphyd_lab/data/CONFLUENCE_data/domain_Bow_at_Banff_elevation/settings/SUMMA\n"
     ]
    },
    {
     "name": "stderr",
     "output_type": "stream",
     "text": [
      "2025-05-13 17:57:23,162 - confluence_general - INFO - SUMMA base settings copied to /work/comphyd_lab/data/CONFLUENCE_data/domain_Bow_at_Banff_elevation/settings/SUMMA\n"
     ]
    },
    {
     "name": "stdout",
     "output_type": "stream",
     "text": [
      "17:57:23 - INFO - Creating SUMMA file manager\n"
     ]
    },
    {
     "name": "stderr",
     "output_type": "stream",
     "text": [
      "2025-05-13 17:57:23,164 - confluence_general - INFO - Creating SUMMA file manager\n"
     ]
    },
    {
     "name": "stdout",
     "output_type": "stream",
     "text": [
      "17:57:23 - INFO - SUMMA file manager created at /work/comphyd_lab/data/CONFLUENCE_data/domain_Bow_at_Banff_elevation/settings/SUMMA/fileManager.txt\n"
     ]
    },
    {
     "name": "stderr",
     "output_type": "stream",
     "text": [
      "2025-05-13 17:57:23,168 - confluence_general - INFO - SUMMA file manager created at /work/comphyd_lab/data/CONFLUENCE_data/domain_Bow_at_Banff_elevation/settings/SUMMA/fileManager.txt\n"
     ]
    },
    {
     "name": "stdout",
     "output_type": "stream",
     "text": [
      "17:57:23 - INFO - Creating forcing file list\n"
     ]
    },
    {
     "name": "stderr",
     "output_type": "stream",
     "text": [
      "2025-05-13 17:57:23,170 - confluence_general - INFO - Creating forcing file list\n"
     ]
    },
    {
     "name": "stdout",
     "output_type": "stream",
     "text": [
      "17:57:23 - INFO - Forcing file list created at /work/comphyd_lab/data/CONFLUENCE_data/domain_Bow_at_Banff_elevation/settings/SUMMA/forcingFileList.txt\n"
     ]
    },
    {
     "name": "stderr",
     "output_type": "stream",
     "text": [
      "2025-05-13 17:57:23,175 - confluence_general - INFO - Forcing file list created at /work/comphyd_lab/data/CONFLUENCE_data/domain_Bow_at_Banff_elevation/settings/SUMMA/forcingFileList.txt\n"
     ]
    },
    {
     "name": "stdout",
     "output_type": "stream",
     "text": [
      "17:57:23 - INFO - Creating initial conditions (cold state) file\n"
     ]
    },
    {
     "name": "stderr",
     "output_type": "stream",
     "text": [
      "2025-05-13 17:57:23,177 - confluence_general - INFO - Creating initial conditions (cold state) file\n"
     ]
    },
    {
     "name": "stdout",
     "output_type": "stream",
     "text": [
      "17:57:23 - INFO - Creating initial conditions (cold state) file\n"
     ]
    },
    {
     "name": "stderr",
     "output_type": "stream",
     "text": [
      "2025-05-13 17:57:23,179 - confluence_general - INFO - Creating initial conditions (cold state) file\n"
     ]
    },
    {
     "name": "stdout",
     "output_type": "stream",
     "text": [
      "17:57:23 - INFO - Initial conditions file created at: /work/comphyd_lab/data/CONFLUENCE_data/domain_Bow_at_Banff_elevation/settings/SUMMA/coldState.nc\n"
     ]
    },
    {
     "name": "stderr",
     "output_type": "stream",
     "text": [
      "2025-05-13 17:57:23,675 - confluence_general - INFO - Initial conditions file created at: /work/comphyd_lab/data/CONFLUENCE_data/domain_Bow_at_Banff_elevation/settings/SUMMA/coldState.nc\n"
     ]
    },
    {
     "name": "stdout",
     "output_type": "stream",
     "text": [
      "17:57:23 - INFO - Creating trial parameters file\n"
     ]
    },
    {
     "name": "stderr",
     "output_type": "stream",
     "text": [
      "2025-05-13 17:57:23,678 - confluence_general - INFO - Creating trial parameters file\n"
     ]
    },
    {
     "name": "stdout",
     "output_type": "stream",
     "text": [
      "17:57:23 - INFO - Trial parameters file created at: /work/comphyd_lab/data/CONFLUENCE_data/domain_Bow_at_Banff_elevation/settings/SUMMA/trialParams.nc\n"
     ]
    },
    {
     "name": "stderr",
     "output_type": "stream",
     "text": [
      "2025-05-13 17:57:23,774 - confluence_general - INFO - Trial parameters file created at: /work/comphyd_lab/data/CONFLUENCE_data/domain_Bow_at_Banff_elevation/settings/SUMMA/trialParams.nc\n"
     ]
    },
    {
     "name": "stdout",
     "output_type": "stream",
     "text": [
      "17:57:23 - INFO - Creating attributes file\n"
     ]
    },
    {
     "name": "stderr",
     "output_type": "stream",
     "text": [
      "2025-05-13 17:57:23,777 - confluence_general - INFO - Creating attributes file\n"
     ]
    },
    {
     "name": "stdout",
     "output_type": "stream",
     "text": [
      "17:57:24 - INFO - Attributes file created at: /work/comphyd_lab/data/CONFLUENCE_data/domain_Bow_at_Banff_elevation/settings/SUMMA/attributes.nc\n"
     ]
    },
    {
     "name": "stderr",
     "output_type": "stream",
     "text": [
      "2025-05-13 17:57:24,412 - confluence_general - INFO - Attributes file created at: /work/comphyd_lab/data/CONFLUENCE_data/domain_Bow_at_Banff_elevation/settings/SUMMA/attributes.nc\n"
     ]
    },
    {
     "name": "stdout",
     "output_type": "stream",
     "text": [
      "17:57:24 - INFO - Inserting land class into attributes file\n"
     ]
    },
    {
     "name": "stderr",
     "output_type": "stream",
     "text": [
      "2025-05-13 17:57:24,423 - confluence_general - INFO - Inserting land class into attributes file\n"
     ]
    },
    {
     "name": "stdout",
     "output_type": "stream",
     "text": [
      "17:57:24 - WARNING - No land class data found for HRU 81, using default class\n"
     ]
    },
    {
     "name": "stderr",
     "output_type": "stream",
     "text": [
      "2025-05-13 17:57:24,450 - confluence_general - WARNING - No land class data found for HRU 81, using default class\n"
     ]
    },
    {
     "name": "stdout",
     "output_type": "stream",
     "text": [
      "17:57:24 - WARNING - No land class data found for HRU 133, using default class\n"
     ]
    },
    {
     "name": "stderr",
     "output_type": "stream",
     "text": [
      "2025-05-13 17:57:24,459 - confluence_general - WARNING - No land class data found for HRU 133, using default class\n"
     ]
    },
    {
     "name": "stdout",
     "output_type": "stream",
     "text": [
      "17:57:24 - WARNING - No land class data found for HRU 137, using default class\n"
     ]
    },
    {
     "name": "stderr",
     "output_type": "stream",
     "text": [
      "2025-05-13 17:57:24,462 - confluence_general - WARNING - No land class data found for HRU 137, using default class\n"
     ]
    },
    {
     "name": "stdout",
     "output_type": "stream",
     "text": [
      "17:57:24 - WARNING - No land class data found for HRU 140, using default class\n"
     ]
    },
    {
     "name": "stderr",
     "output_type": "stream",
     "text": [
      "2025-05-13 17:57:24,465 - confluence_general - WARNING - No land class data found for HRU 140, using default class\n"
     ]
    },
    {
     "name": "stdout",
     "output_type": "stream",
     "text": [
      "17:57:24 - WARNING - No land class data found for HRU 157, using default class\n"
     ]
    },
    {
     "name": "stderr",
     "output_type": "stream",
     "text": [
      "2025-05-13 17:57:24,467 - confluence_general - WARNING - No land class data found for HRU 157, using default class\n"
     ]
    },
    {
     "name": "stdout",
     "output_type": "stream",
     "text": [
      "17:57:24 - WARNING - No land class data found for HRU 70, using default class\n"
     ]
    },
    {
     "name": "stderr",
     "output_type": "stream",
     "text": [
      "2025-05-13 17:57:24,470 - confluence_general - WARNING - No land class data found for HRU 70, using default class\n"
     ]
    },
    {
     "name": "stdout",
     "output_type": "stream",
     "text": [
      "17:57:24 - WARNING - No land class data found for HRU 163, using default class\n"
     ]
    },
    {
     "name": "stderr",
     "output_type": "stream",
     "text": [
      "2025-05-13 17:57:24,476 - confluence_general - WARNING - No land class data found for HRU 163, using default class\n"
     ]
    },
    {
     "name": "stdout",
     "output_type": "stream",
     "text": [
      "17:57:24 - WARNING - No land class data found for HRU 125, using default class\n"
     ]
    },
    {
     "name": "stderr",
     "output_type": "stream",
     "text": [
      "2025-05-13 17:57:24,482 - confluence_general - WARNING - No land class data found for HRU 125, using default class\n"
     ]
    },
    {
     "name": "stdout",
     "output_type": "stream",
     "text": [
      "17:57:24 - WARNING - No land class data found for HRU 135, using default class\n"
     ]
    },
    {
     "name": "stderr",
     "output_type": "stream",
     "text": [
      "2025-05-13 17:57:24,484 - confluence_general - WARNING - No land class data found for HRU 135, using default class\n"
     ]
    },
    {
     "name": "stdout",
     "output_type": "stream",
     "text": [
      "17:57:24 - WARNING - No land class data found for HRU 139, using default class\n"
     ]
    },
    {
     "name": "stderr",
     "output_type": "stream",
     "text": [
      "2025-05-13 17:57:24,487 - confluence_general - WARNING - No land class data found for HRU 139, using default class\n"
     ]
    },
    {
     "name": "stdout",
     "output_type": "stream",
     "text": [
      "17:57:24 - WARNING - No land class data found for HRU 156, using default class\n"
     ]
    },
    {
     "name": "stderr",
     "output_type": "stream",
     "text": [
      "2025-05-13 17:57:24,490 - confluence_general - WARNING - No land class data found for HRU 156, using default class\n"
     ]
    },
    {
     "name": "stdout",
     "output_type": "stream",
     "text": [
      "17:57:24 - WARNING - No land class data found for HRU 167, using default class\n"
     ]
    },
    {
     "name": "stderr",
     "output_type": "stream",
     "text": [
      "2025-05-13 17:57:24,493 - confluence_general - WARNING - No land class data found for HRU 167, using default class\n"
     ]
    },
    {
     "name": "stdout",
     "output_type": "stream",
     "text": [
      "17:57:24 - WARNING - No land class data found for HRU 40, using default class\n"
     ]
    },
    {
     "name": "stderr",
     "output_type": "stream",
     "text": [
      "2025-05-13 17:57:24,495 - confluence_general - WARNING - No land class data found for HRU 40, using default class\n"
     ]
    },
    {
     "name": "stdout",
     "output_type": "stream",
     "text": [
      "17:57:24 - WARNING - No land class data found for HRU 51, using default class\n"
     ]
    },
    {
     "name": "stderr",
     "output_type": "stream",
     "text": [
      "2025-05-13 17:57:24,498 - confluence_general - WARNING - No land class data found for HRU 51, using default class\n"
     ]
    },
    {
     "name": "stdout",
     "output_type": "stream",
     "text": [
      "17:57:24 - WARNING - No land class data found for HRU 134, using default class\n"
     ]
    },
    {
     "name": "stderr",
     "output_type": "stream",
     "text": [
      "2025-05-13 17:57:24,507 - confluence_general - WARNING - No land class data found for HRU 134, using default class\n"
     ]
    },
    {
     "name": "stdout",
     "output_type": "stream",
     "text": [
      "17:57:24 - WARNING - No land class data found for HRU 17, using default class\n"
     ]
    },
    {
     "name": "stderr",
     "output_type": "stream",
     "text": [
      "2025-05-13 17:57:24,509 - confluence_general - WARNING - No land class data found for HRU 17, using default class\n"
     ]
    },
    {
     "name": "stdout",
     "output_type": "stream",
     "text": [
      "17:57:24 - WARNING - No land class data found for HRU 77, using default class\n"
     ]
    },
    {
     "name": "stderr",
     "output_type": "stream",
     "text": [
      "2025-05-13 17:57:24,512 - confluence_general - WARNING - No land class data found for HRU 77, using default class\n"
     ]
    },
    {
     "name": "stdout",
     "output_type": "stream",
     "text": [
      "17:57:24 - WARNING - No land class data found for HRU 78, using default class\n"
     ]
    },
    {
     "name": "stderr",
     "output_type": "stream",
     "text": [
      "2025-05-13 17:57:24,515 - confluence_general - WARNING - No land class data found for HRU 78, using default class\n"
     ]
    },
    {
     "name": "stdout",
     "output_type": "stream",
     "text": [
      "17:57:24 - WARNING - No land class data found for HRU 80, using default class\n"
     ]
    },
    {
     "name": "stderr",
     "output_type": "stream",
     "text": [
      "2025-05-13 17:57:24,517 - confluence_general - WARNING - No land class data found for HRU 80, using default class\n"
     ]
    },
    {
     "name": "stdout",
     "output_type": "stream",
     "text": [
      "17:57:24 - WARNING - No land class data found for HRU 104, using default class\n"
     ]
    },
    {
     "name": "stderr",
     "output_type": "stream",
     "text": [
      "2025-05-13 17:57:24,520 - confluence_general - WARNING - No land class data found for HRU 104, using default class\n"
     ]
    },
    {
     "name": "stdout",
     "output_type": "stream",
     "text": [
      "17:57:24 - WARNING - No land class data found for HRU 23, using default class\n"
     ]
    },
    {
     "name": "stderr",
     "output_type": "stream",
     "text": [
      "2025-05-13 17:57:24,526 - confluence_general - WARNING - No land class data found for HRU 23, using default class\n"
     ]
    },
    {
     "name": "stdout",
     "output_type": "stream",
     "text": [
      "17:57:24 - WARNING - No land class data found for HRU 124, using default class\n"
     ]
    },
    {
     "name": "stderr",
     "output_type": "stream",
     "text": [
      "2025-05-13 17:57:24,535 - confluence_general - WARNING - No land class data found for HRU 124, using default class\n"
     ]
    },
    {
     "name": "stdout",
     "output_type": "stream",
     "text": [
      "17:57:24 - WARNING - No land class data found for HRU 61, using default class\n"
     ]
    },
    {
     "name": "stderr",
     "output_type": "stream",
     "text": [
      "2025-05-13 17:57:24,538 - confluence_general - WARNING - No land class data found for HRU 61, using default class\n"
     ]
    },
    {
     "name": "stdout",
     "output_type": "stream",
     "text": [
      "17:57:24 - WARNING - No land class data found for HRU 108, using default class\n"
     ]
    },
    {
     "name": "stderr",
     "output_type": "stream",
     "text": [
      "2025-05-13 17:57:24,544 - confluence_general - WARNING - No land class data found for HRU 108, using default class\n"
     ]
    },
    {
     "name": "stdout",
     "output_type": "stream",
     "text": [
      "17:57:24 - WARNING - No land class data found for HRU 146, using default class\n"
     ]
    },
    {
     "name": "stderr",
     "output_type": "stream",
     "text": [
      "2025-05-13 17:57:24,547 - confluence_general - WARNING - No land class data found for HRU 146, using default class\n"
     ]
    },
    {
     "name": "stdout",
     "output_type": "stream",
     "text": [
      "17:57:24 - WARNING - No land class data found for HRU 152, using default class\n"
     ]
    },
    {
     "name": "stderr",
     "output_type": "stream",
     "text": [
      "2025-05-13 17:57:24,549 - confluence_general - WARNING - No land class data found for HRU 152, using default class\n"
     ]
    },
    {
     "name": "stdout",
     "output_type": "stream",
     "text": [
      "17:57:24 - WARNING - No land class data found for HRU 76, using default class\n"
     ]
    },
    {
     "name": "stderr",
     "output_type": "stream",
     "text": [
      "2025-05-13 17:57:24,552 - confluence_general - WARNING - No land class data found for HRU 76, using default class\n"
     ]
    },
    {
     "name": "stdout",
     "output_type": "stream",
     "text": [
      "17:57:24 - WARNING - No land class data found for HRU 79, using default class\n"
     ]
    },
    {
     "name": "stderr",
     "output_type": "stream",
     "text": [
      "2025-05-13 17:57:24,555 - confluence_general - WARNING - No land class data found for HRU 79, using default class\n"
     ]
    },
    {
     "name": "stdout",
     "output_type": "stream",
     "text": [
      "17:57:24 - WARNING - No land class data found for HRU 98, using default class\n"
     ]
    },
    {
     "name": "stderr",
     "output_type": "stream",
     "text": [
      "2025-05-13 17:57:24,562 - confluence_general - WARNING - No land class data found for HRU 98, using default class\n"
     ]
    },
    {
     "name": "stdout",
     "output_type": "stream",
     "text": [
      "17:57:24 - WARNING - No land class data found for HRU 169, using default class\n"
     ]
    },
    {
     "name": "stderr",
     "output_type": "stream",
     "text": [
      "2025-05-13 17:57:24,565 - confluence_general - WARNING - No land class data found for HRU 169, using default class\n"
     ]
    },
    {
     "name": "stdout",
     "output_type": "stream",
     "text": [
      "17:57:24 - WARNING - No land class data found for HRU 3, using default class\n"
     ]
    },
    {
     "name": "stderr",
     "output_type": "stream",
     "text": [
      "2025-05-13 17:57:24,568 - confluence_general - WARNING - No land class data found for HRU 3, using default class\n"
     ]
    },
    {
     "name": "stdout",
     "output_type": "stream",
     "text": [
      "17:57:24 - WARNING - No land class data found for HRU 42, using default class\n"
     ]
    },
    {
     "name": "stderr",
     "output_type": "stream",
     "text": [
      "2025-05-13 17:57:24,570 - confluence_general - WARNING - No land class data found for HRU 42, using default class\n"
     ]
    },
    {
     "name": "stdout",
     "output_type": "stream",
     "text": [
      "17:57:24 - WARNING - No land class data found for HRU 132, using default class\n"
     ]
    },
    {
     "name": "stderr",
     "output_type": "stream",
     "text": [
      "2025-05-13 17:57:24,573 - confluence_general - WARNING - No land class data found for HRU 132, using default class\n"
     ]
    },
    {
     "name": "stdout",
     "output_type": "stream",
     "text": [
      "17:57:24 - WARNING - No land class data found for HRU 107, using default class\n"
     ]
    },
    {
     "name": "stderr",
     "output_type": "stream",
     "text": [
      "2025-05-13 17:57:24,578 - confluence_general - WARNING - No land class data found for HRU 107, using default class\n"
     ]
    },
    {
     "name": "stdout",
     "output_type": "stream",
     "text": [
      "17:57:24 - WARNING - No land class data found for HRU 131, using default class\n"
     ]
    },
    {
     "name": "stderr",
     "output_type": "stream",
     "text": [
      "2025-05-13 17:57:24,580 - confluence_general - WARNING - No land class data found for HRU 131, using default class\n"
     ]
    },
    {
     "name": "stdout",
     "output_type": "stream",
     "text": [
      "17:57:24 - WARNING - No land class data found for HRU 16, using default class\n"
     ]
    },
    {
     "name": "stderr",
     "output_type": "stream",
     "text": [
      "2025-05-13 17:57:24,583 - confluence_general - WARNING - No land class data found for HRU 16, using default class\n"
     ]
    },
    {
     "name": "stdout",
     "output_type": "stream",
     "text": [
      "17:57:24 - WARNING - No land class data found for HRU 144, using default class\n"
     ]
    },
    {
     "name": "stderr",
     "output_type": "stream",
     "text": [
      "2025-05-13 17:57:24,585 - confluence_general - WARNING - No land class data found for HRU 144, using default class\n"
     ]
    },
    {
     "name": "stdout",
     "output_type": "stream",
     "text": [
      "17:57:24 - WARNING - No land class data found for HRU 31, using default class\n"
     ]
    },
    {
     "name": "stderr",
     "output_type": "stream",
     "text": [
      "2025-05-13 17:57:24,588 - confluence_general - WARNING - No land class data found for HRU 31, using default class\n"
     ]
    },
    {
     "name": "stdout",
     "output_type": "stream",
     "text": [
      "17:57:24 - WARNING - No land class data found for HRU 165, using default class\n"
     ]
    },
    {
     "name": "stderr",
     "output_type": "stream",
     "text": [
      "2025-05-13 17:57:24,594 - confluence_general - WARNING - No land class data found for HRU 165, using default class\n"
     ]
    },
    {
     "name": "stdout",
     "output_type": "stream",
     "text": [
      "17:57:24 - WARNING - No land class data found for HRU 2, using default class\n"
     ]
    },
    {
     "name": "stderr",
     "output_type": "stream",
     "text": [
      "2025-05-13 17:57:24,597 - confluence_general - WARNING - No land class data found for HRU 2, using default class\n"
     ]
    },
    {
     "name": "stdout",
     "output_type": "stream",
     "text": [
      "17:57:24 - WARNING - No land class data found for HRU 100, using default class\n"
     ]
    },
    {
     "name": "stderr",
     "output_type": "stream",
     "text": [
      "2025-05-13 17:57:24,610 - confluence_general - WARNING - No land class data found for HRU 100, using default class\n"
     ]
    },
    {
     "name": "stdout",
     "output_type": "stream",
     "text": [
      "17:57:24 - WARNING - No land class data found for HRU 142, using default class\n"
     ]
    },
    {
     "name": "stderr",
     "output_type": "stream",
     "text": [
      "2025-05-13 17:57:24,617 - confluence_general - WARNING - No land class data found for HRU 142, using default class\n"
     ]
    },
    {
     "name": "stdout",
     "output_type": "stream",
     "text": [
      "17:57:24 - WARNING - No land class data found for HRU 143, using default class\n"
     ]
    },
    {
     "name": "stderr",
     "output_type": "stream",
     "text": [
      "2025-05-13 17:57:24,621 - confluence_general - WARNING - No land class data found for HRU 143, using default class\n"
     ]
    },
    {
     "name": "stdout",
     "output_type": "stream",
     "text": [
      "17:57:24 - WARNING - No land class data found for HRU 145, using default class\n"
     ]
    },
    {
     "name": "stderr",
     "output_type": "stream",
     "text": [
      "2025-05-13 17:57:24,624 - confluence_general - WARNING - No land class data found for HRU 145, using default class\n"
     ]
    },
    {
     "name": "stdout",
     "output_type": "stream",
     "text": [
      "17:57:24 - WARNING - No land class data found for HRU 154, using default class\n"
     ]
    },
    {
     "name": "stderr",
     "output_type": "stream",
     "text": [
      "2025-05-13 17:57:24,627 - confluence_general - WARNING - No land class data found for HRU 154, using default class\n"
     ]
    },
    {
     "name": "stdout",
     "output_type": "stream",
     "text": [
      "17:57:24 - WARNING - No land class data found for HRU 34, using default class\n"
     ]
    },
    {
     "name": "stderr",
     "output_type": "stream",
     "text": [
      "2025-05-13 17:57:24,629 - confluence_general - WARNING - No land class data found for HRU 34, using default class\n"
     ]
    },
    {
     "name": "stdout",
     "output_type": "stream",
     "text": [
      "17:57:24 - WARNING - No land class data found for HRU 95, using default class\n"
     ]
    },
    {
     "name": "stderr",
     "output_type": "stream",
     "text": [
      "2025-05-13 17:57:24,632 - confluence_general - WARNING - No land class data found for HRU 95, using default class\n"
     ]
    },
    {
     "name": "stdout",
     "output_type": "stream",
     "text": [
      "17:57:24 - WARNING - No land class data found for HRU 159, using default class\n"
     ]
    },
    {
     "name": "stderr",
     "output_type": "stream",
     "text": [
      "2025-05-13 17:57:24,638 - confluence_general - WARNING - No land class data found for HRU 159, using default class\n"
     ]
    },
    {
     "name": "stdout",
     "output_type": "stream",
     "text": [
      "17:57:24 - WARNING - No land class data found for HRU 99, using default class\n"
     ]
    },
    {
     "name": "stderr",
     "output_type": "stream",
     "text": [
      "2025-05-13 17:57:24,650 - confluence_general - WARNING - No land class data found for HRU 99, using default class\n"
     ]
    },
    {
     "name": "stdout",
     "output_type": "stream",
     "text": [
      "17:57:24 - WARNING - No land class data found for HRU 103, using default class\n"
     ]
    },
    {
     "name": "stderr",
     "output_type": "stream",
     "text": [
      "2025-05-13 17:57:24,652 - confluence_general - WARNING - No land class data found for HRU 103, using default class\n"
     ]
    },
    {
     "name": "stdout",
     "output_type": "stream",
     "text": [
      "17:57:24 - WARNING - No land class data found for HRU 136, using default class\n"
     ]
    },
    {
     "name": "stderr",
     "output_type": "stream",
     "text": [
      "2025-05-13 17:57:24,655 - confluence_general - WARNING - No land class data found for HRU 136, using default class\n"
     ]
    },
    {
     "name": "stdout",
     "output_type": "stream",
     "text": [
      "17:57:24 - WARNING - No land class data found for HRU 153, using default class\n"
     ]
    },
    {
     "name": "stderr",
     "output_type": "stream",
     "text": [
      "2025-05-13 17:57:24,659 - confluence_general - WARNING - No land class data found for HRU 153, using default class\n"
     ]
    },
    {
     "name": "stdout",
     "output_type": "stream",
     "text": [
      "17:57:24 - WARNING - No land class data found for HRU 161, using default class\n"
     ]
    },
    {
     "name": "stderr",
     "output_type": "stream",
     "text": [
      "2025-05-13 17:57:24,661 - confluence_general - WARNING - No land class data found for HRU 161, using default class\n"
     ]
    },
    {
     "name": "stdout",
     "output_type": "stream",
     "text": [
      "17:57:24 - WARNING - No land class data found for HRU 22, using default class\n"
     ]
    },
    {
     "name": "stderr",
     "output_type": "stream",
     "text": [
      "2025-05-13 17:57:24,667 - confluence_general - WARNING - No land class data found for HRU 22, using default class\n"
     ]
    },
    {
     "name": "stdout",
     "output_type": "stream",
     "text": [
      "17:57:24 - WARNING - No land class data found for HRU 49, using default class\n"
     ]
    },
    {
     "name": "stderr",
     "output_type": "stream",
     "text": [
      "2025-05-13 17:57:24,673 - confluence_general - WARNING - No land class data found for HRU 49, using default class\n"
     ]
    },
    {
     "name": "stdout",
     "output_type": "stream",
     "text": [
      "17:57:24 - WARNING - No land class data found for HRU 64, using default class\n"
     ]
    },
    {
     "name": "stderr",
     "output_type": "stream",
     "text": [
      "2025-05-13 17:57:24,680 - confluence_general - WARNING - No land class data found for HRU 64, using default class\n"
     ]
    },
    {
     "name": "stdout",
     "output_type": "stream",
     "text": [
      "17:57:24 - WARNING - No land class data found for HRU 90, using default class\n"
     ]
    },
    {
     "name": "stderr",
     "output_type": "stream",
     "text": [
      "2025-05-13 17:57:24,682 - confluence_general - WARNING - No land class data found for HRU 90, using default class\n"
     ]
    },
    {
     "name": "stdout",
     "output_type": "stream",
     "text": [
      "17:57:24 - WARNING - No land class data found for HRU 129, using default class\n"
     ]
    },
    {
     "name": "stderr",
     "output_type": "stream",
     "text": [
      "2025-05-13 17:57:24,686 - confluence_general - WARNING - No land class data found for HRU 129, using default class\n"
     ]
    },
    {
     "name": "stdout",
     "output_type": "stream",
     "text": [
      "17:57:24 - WARNING - No land class data found for HRU 141, using default class\n"
     ]
    },
    {
     "name": "stderr",
     "output_type": "stream",
     "text": [
      "2025-05-13 17:57:24,688 - confluence_general - WARNING - No land class data found for HRU 141, using default class\n"
     ]
    },
    {
     "name": "stdout",
     "output_type": "stream",
     "text": [
      "17:57:24 - WARNING - No land class data found for HRU 26, using default class\n"
     ]
    },
    {
     "name": "stderr",
     "output_type": "stream",
     "text": [
      "2025-05-13 17:57:24,691 - confluence_general - WARNING - No land class data found for HRU 26, using default class\n"
     ]
    },
    {
     "name": "stdout",
     "output_type": "stream",
     "text": [
      "17:57:24 - WARNING - No land class data found for HRU 105, using default class\n"
     ]
    },
    {
     "name": "stderr",
     "output_type": "stream",
     "text": [
      "2025-05-13 17:57:24,695 - confluence_general - WARNING - No land class data found for HRU 105, using default class\n"
     ]
    },
    {
     "name": "stdout",
     "output_type": "stream",
     "text": [
      "17:57:24 - WARNING - No land class data found for HRU 12, using default class\n"
     ]
    },
    {
     "name": "stderr",
     "output_type": "stream",
     "text": [
      "2025-05-13 17:57:24,701 - confluence_general - WARNING - No land class data found for HRU 12, using default class\n"
     ]
    },
    {
     "name": "stdout",
     "output_type": "stream",
     "text": [
      "17:57:24 - WARNING - No land class data found for HRU 166, using default class\n"
     ]
    },
    {
     "name": "stderr",
     "output_type": "stream",
     "text": [
      "2025-05-13 17:57:24,703 - confluence_general - WARNING - No land class data found for HRU 166, using default class\n"
     ]
    },
    {
     "name": "stdout",
     "output_type": "stream",
     "text": [
      "17:57:24 - WARNING - No land class data found for HRU 11, using default class\n"
     ]
    },
    {
     "name": "stderr",
     "output_type": "stream",
     "text": [
      "2025-05-13 17:57:24,706 - confluence_general - WARNING - No land class data found for HRU 11, using default class\n"
     ]
    },
    {
     "name": "stdout",
     "output_type": "stream",
     "text": [
      "17:57:24 - WARNING - No land class data found for HRU 158, using default class\n"
     ]
    },
    {
     "name": "stderr",
     "output_type": "stream",
     "text": [
      "2025-05-13 17:57:24,712 - confluence_general - WARNING - No land class data found for HRU 158, using default class\n"
     ]
    },
    {
     "name": "stdout",
     "output_type": "stream",
     "text": [
      "17:57:24 - WARNING - No land class data found for HRU 7, using default class\n"
     ]
    },
    {
     "name": "stderr",
     "output_type": "stream",
     "text": [
      "2025-05-13 17:57:24,714 - confluence_general - WARNING - No land class data found for HRU 7, using default class\n"
     ]
    },
    {
     "name": "stdout",
     "output_type": "stream",
     "text": [
      "17:57:24 - WARNING - No land class data found for HRU 59, using default class\n"
     ]
    },
    {
     "name": "stderr",
     "output_type": "stream",
     "text": [
      "2025-05-13 17:57:24,718 - confluence_general - WARNING - No land class data found for HRU 59, using default class\n"
     ]
    },
    {
     "name": "stdout",
     "output_type": "stream",
     "text": [
      "17:57:24 - WARNING - No land class data found for HRU 148, using default class\n"
     ]
    },
    {
     "name": "stderr",
     "output_type": "stream",
     "text": [
      "2025-05-13 17:57:24,720 - confluence_general - WARNING - No land class data found for HRU 148, using default class\n"
     ]
    },
    {
     "name": "stdout",
     "output_type": "stream",
     "text": [
      "17:57:24 - WARNING - No land class data found for HRU 1, using default class\n"
     ]
    },
    {
     "name": "stderr",
     "output_type": "stream",
     "text": [
      "2025-05-13 17:57:24,724 - confluence_general - WARNING - No land class data found for HRU 1, using default class\n"
     ]
    },
    {
     "name": "stdout",
     "output_type": "stream",
     "text": [
      "17:57:24 - WARNING - No land class data found for HRU 151, using default class\n"
     ]
    },
    {
     "name": "stderr",
     "output_type": "stream",
     "text": [
      "2025-05-13 17:57:24,733 - confluence_general - WARNING - No land class data found for HRU 151, using default class\n"
     ]
    },
    {
     "name": "stdout",
     "output_type": "stream",
     "text": [
      "17:57:24 - WARNING - No land class data found for HRU 69, using default class\n"
     ]
    },
    {
     "name": "stderr",
     "output_type": "stream",
     "text": [
      "2025-05-13 17:57:24,741 - confluence_general - WARNING - No land class data found for HRU 69, using default class\n"
     ]
    },
    {
     "name": "stdout",
     "output_type": "stream",
     "text": [
      "17:57:24 - WARNING - No land class data found for HRU 128, using default class\n"
     ]
    },
    {
     "name": "stderr",
     "output_type": "stream",
     "text": [
      "2025-05-13 17:57:24,748 - confluence_general - WARNING - No land class data found for HRU 128, using default class\n"
     ]
    },
    {
     "name": "stdout",
     "output_type": "stream",
     "text": [
      "17:57:24 - WARNING - No land class data found for HRU 149, using default class\n"
     ]
    },
    {
     "name": "stderr",
     "output_type": "stream",
     "text": [
      "2025-05-13 17:57:24,754 - confluence_general - WARNING - No land class data found for HRU 149, using default class\n"
     ]
    },
    {
     "name": "stdout",
     "output_type": "stream",
     "text": [
      "17:57:24 - WARNING - No land class data found for HRU 13, using default class\n"
     ]
    },
    {
     "name": "stderr",
     "output_type": "stream",
     "text": [
      "2025-05-13 17:57:24,757 - confluence_general - WARNING - No land class data found for HRU 13, using default class\n"
     ]
    },
    {
     "name": "stdout",
     "output_type": "stream",
     "text": [
      "17:57:24 - WARNING - No land class data found for HRU 63, using default class\n"
     ]
    },
    {
     "name": "stderr",
     "output_type": "stream",
     "text": [
      "2025-05-13 17:57:24,759 - confluence_general - WARNING - No land class data found for HRU 63, using default class\n"
     ]
    },
    {
     "name": "stdout",
     "output_type": "stream",
     "text": [
      "17:57:24 - WARNING - No land class data found for HRU 155, using default class\n"
     ]
    },
    {
     "name": "stderr",
     "output_type": "stream",
     "text": [
      "2025-05-13 17:57:24,763 - confluence_general - WARNING - No land class data found for HRU 155, using default class\n"
     ]
    },
    {
     "name": "stdout",
     "output_type": "stream",
     "text": [
      "17:57:24 - WARNING - No land class data found for HRU 5, using default class\n"
     ]
    },
    {
     "name": "stderr",
     "output_type": "stream",
     "text": [
      "2025-05-13 17:57:24,767 - confluence_general - WARNING - No land class data found for HRU 5, using default class\n"
     ]
    },
    {
     "name": "stdout",
     "output_type": "stream",
     "text": [
      "17:57:24 - WARNING - No land class data found for HRU 4, using default class\n"
     ]
    },
    {
     "name": "stderr",
     "output_type": "stream",
     "text": [
      "2025-05-13 17:57:24,777 - confluence_general - WARNING - No land class data found for HRU 4, using default class\n"
     ]
    },
    {
     "name": "stdout",
     "output_type": "stream",
     "text": [
      "17:57:24 - WARNING - No land class data found for HRU 36, using default class\n"
     ]
    },
    {
     "name": "stderr",
     "output_type": "stream",
     "text": [
      "2025-05-13 17:57:24,780 - confluence_general - WARNING - No land class data found for HRU 36, using default class\n"
     ]
    },
    {
     "name": "stdout",
     "output_type": "stream",
     "text": [
      "17:57:24 - WARNING - No land class data found for HRU 47, using default class\n"
     ]
    },
    {
     "name": "stderr",
     "output_type": "stream",
     "text": [
      "2025-05-13 17:57:24,786 - confluence_general - WARNING - No land class data found for HRU 47, using default class\n"
     ]
    },
    {
     "name": "stdout",
     "output_type": "stream",
     "text": [
      "17:57:24 - WARNING - No land class data found for HRU 127, using default class\n"
     ]
    },
    {
     "name": "stderr",
     "output_type": "stream",
     "text": [
      "2025-05-13 17:57:24,794 - confluence_general - WARNING - No land class data found for HRU 127, using default class\n"
     ]
    },
    {
     "name": "stdout",
     "output_type": "stream",
     "text": [
      "17:57:24 - WARNING - No land class data found for HRU 130, using default class\n"
     ]
    },
    {
     "name": "stderr",
     "output_type": "stream",
     "text": [
      "2025-05-13 17:57:24,798 - confluence_general - WARNING - No land class data found for HRU 130, using default class\n"
     ]
    },
    {
     "name": "stdout",
     "output_type": "stream",
     "text": [
      "17:57:24 - WARNING - No land class data found for HRU 162, using default class\n"
     ]
    },
    {
     "name": "stderr",
     "output_type": "stream",
     "text": [
      "2025-05-13 17:57:24,801 - confluence_general - WARNING - No land class data found for HRU 162, using default class\n"
     ]
    },
    {
     "name": "stdout",
     "output_type": "stream",
     "text": [
      "17:57:24 - WARNING - No land class data found for HRU 93, using default class\n"
     ]
    },
    {
     "name": "stderr",
     "output_type": "stream",
     "text": [
      "2025-05-13 17:57:24,805 - confluence_general - WARNING - No land class data found for HRU 93, using default class\n"
     ]
    },
    {
     "name": "stdout",
     "output_type": "stream",
     "text": [
      "17:57:24 - WARNING - No land class data found for HRU 30, using default class\n"
     ]
    },
    {
     "name": "stderr",
     "output_type": "stream",
     "text": [
      "2025-05-13 17:57:24,808 - confluence_general - WARNING - No land class data found for HRU 30, using default class\n"
     ]
    },
    {
     "name": "stdout",
     "output_type": "stream",
     "text": [
      "17:57:24 - WARNING - No land class data found for HRU 35, using default class\n"
     ]
    },
    {
     "name": "stderr",
     "output_type": "stream",
     "text": [
      "2025-05-13 17:57:24,815 - confluence_general - WARNING - No land class data found for HRU 35, using default class\n"
     ]
    },
    {
     "name": "stdout",
     "output_type": "stream",
     "text": [
      "17:57:24 - WARNING - No land class data found for HRU 89, using default class\n"
     ]
    },
    {
     "name": "stderr",
     "output_type": "stream",
     "text": [
      "2025-05-13 17:57:24,822 - confluence_general - WARNING - No land class data found for HRU 89, using default class\n"
     ]
    },
    {
     "name": "stdout",
     "output_type": "stream",
     "text": [
      "17:57:24 - WARNING - No land class data found for HRU 101, using default class\n"
     ]
    },
    {
     "name": "stderr",
     "output_type": "stream",
     "text": [
      "2025-05-13 17:57:24,825 - confluence_general - WARNING - No land class data found for HRU 101, using default class\n"
     ]
    },
    {
     "name": "stdout",
     "output_type": "stream",
     "text": [
      "17:57:24 - WARNING - No land class data found for HRU 106, using default class\n"
     ]
    },
    {
     "name": "stderr",
     "output_type": "stream",
     "text": [
      "2025-05-13 17:57:24,830 - confluence_general - WARNING - No land class data found for HRU 106, using default class\n"
     ]
    },
    {
     "name": "stdout",
     "output_type": "stream",
     "text": [
      "17:57:24 - WARNING - No land class data found for HRU 147, using default class\n"
     ]
    },
    {
     "name": "stderr",
     "output_type": "stream",
     "text": [
      "2025-05-13 17:57:24,834 - confluence_general - WARNING - No land class data found for HRU 147, using default class\n"
     ]
    },
    {
     "name": "stdout",
     "output_type": "stream",
     "text": [
      "17:57:24 - WARNING - No land class data found for HRU 150, using default class\n"
     ]
    },
    {
     "name": "stderr",
     "output_type": "stream",
     "text": [
      "2025-05-13 17:57:24,837 - confluence_general - WARNING - No land class data found for HRU 150, using default class\n"
     ]
    },
    {
     "name": "stdout",
     "output_type": "stream",
     "text": [
      "17:57:24 - WARNING - No land class data found for HRU 138, using default class\n"
     ]
    },
    {
     "name": "stderr",
     "output_type": "stream",
     "text": [
      "2025-05-13 17:57:24,840 - confluence_general - WARNING - No land class data found for HRU 138, using default class\n"
     ]
    },
    {
     "name": "stdout",
     "output_type": "stream",
     "text": [
      "17:57:24 - WARNING - No land class data found for HRU 45, using default class\n"
     ]
    },
    {
     "name": "stderr",
     "output_type": "stream",
     "text": [
      "2025-05-13 17:57:24,847 - confluence_general - WARNING - No land class data found for HRU 45, using default class\n"
     ]
    },
    {
     "name": "stdout",
     "output_type": "stream",
     "text": [
      "17:57:24 - WARNING - No land class data found for HRU 109, using default class\n"
     ]
    },
    {
     "name": "stderr",
     "output_type": "stream",
     "text": [
      "2025-05-13 17:57:24,850 - confluence_general - WARNING - No land class data found for HRU 109, using default class\n"
     ]
    },
    {
     "name": "stdout",
     "output_type": "stream",
     "text": [
      "17:57:24 - WARNING - No land class data found for HRU 20, using default class\n"
     ]
    },
    {
     "name": "stderr",
     "output_type": "stream",
     "text": [
      "2025-05-13 17:57:24,854 - confluence_general - WARNING - No land class data found for HRU 20, using default class\n"
     ]
    },
    {
     "name": "stdout",
     "output_type": "stream",
     "text": [
      "17:57:24 - WARNING - No land class data found for HRU 28, using default class\n"
     ]
    },
    {
     "name": "stderr",
     "output_type": "stream",
     "text": [
      "2025-05-13 17:57:24,860 - confluence_general - WARNING - No land class data found for HRU 28, using default class\n"
     ]
    },
    {
     "name": "stdout",
     "output_type": "stream",
     "text": [
      "17:57:24 - WARNING - No land class data found for HRU 75, using default class\n"
     ]
    },
    {
     "name": "stderr",
     "output_type": "stream",
     "text": [
      "2025-05-13 17:57:24,864 - confluence_general - WARNING - No land class data found for HRU 75, using default class\n"
     ]
    },
    {
     "name": "stdout",
     "output_type": "stream",
     "text": [
      "17:57:24 - WARNING - No land class data found for HRU 112, using default class\n"
     ]
    },
    {
     "name": "stderr",
     "output_type": "stream",
     "text": [
      "2025-05-13 17:57:24,867 - confluence_general - WARNING - No land class data found for HRU 112, using default class\n"
     ]
    },
    {
     "name": "stdout",
     "output_type": "stream",
     "text": [
      "17:57:24 - WARNING - No land class data found for HRU 168, using default class\n"
     ]
    },
    {
     "name": "stderr",
     "output_type": "stream",
     "text": [
      "2025-05-13 17:57:24,871 - confluence_general - WARNING - No land class data found for HRU 168, using default class\n"
     ]
    },
    {
     "name": "stdout",
     "output_type": "stream",
     "text": [
      "17:57:24 - WARNING - No land class data found for HRU 21, using default class\n"
     ]
    },
    {
     "name": "stderr",
     "output_type": "stream",
     "text": [
      "2025-05-13 17:57:24,874 - confluence_general - WARNING - No land class data found for HRU 21, using default class\n"
     ]
    },
    {
     "name": "stdout",
     "output_type": "stream",
     "text": [
      "17:57:24 - WARNING - No land class data found for HRU 19, using default class\n"
     ]
    },
    {
     "name": "stderr",
     "output_type": "stream",
     "text": [
      "2025-05-13 17:57:24,878 - confluence_general - WARNING - No land class data found for HRU 19, using default class\n"
     ]
    },
    {
     "name": "stdout",
     "output_type": "stream",
     "text": [
      "17:57:24 - WARNING - No land class data found for HRU 66, using default class\n"
     ]
    },
    {
     "name": "stderr",
     "output_type": "stream",
     "text": [
      "2025-05-13 17:57:24,881 - confluence_general - WARNING - No land class data found for HRU 66, using default class\n"
     ]
    },
    {
     "name": "stdout",
     "output_type": "stream",
     "text": [
      "17:57:24 - WARNING - No land class data found for HRU 91, using default class\n"
     ]
    },
    {
     "name": "stderr",
     "output_type": "stream",
     "text": [
      "2025-05-13 17:57:24,884 - confluence_general - WARNING - No land class data found for HRU 91, using default class\n"
     ]
    },
    {
     "name": "stdout",
     "output_type": "stream",
     "text": [
      "17:57:24 - WARNING - No land class data found for HRU 85, using default class\n"
     ]
    },
    {
     "name": "stderr",
     "output_type": "stream",
     "text": [
      "2025-05-13 17:57:24,891 - confluence_general - WARNING - No land class data found for HRU 85, using default class\n"
     ]
    },
    {
     "name": "stdout",
     "output_type": "stream",
     "text": [
      "17:57:24 - WARNING - No land class data found for HRU 44, using default class\n"
     ]
    },
    {
     "name": "stderr",
     "output_type": "stream",
     "text": [
      "2025-05-13 17:57:24,898 - confluence_general - WARNING - No land class data found for HRU 44, using default class\n"
     ]
    },
    {
     "name": "stdout",
     "output_type": "stream",
     "text": [
      "17:57:24 - WARNING - No land class data found for HRU 54, using default class\n"
     ]
    },
    {
     "name": "stderr",
     "output_type": "stream",
     "text": [
      "2025-05-13 17:57:24,904 - confluence_general - WARNING - No land class data found for HRU 54, using default class\n"
     ]
    },
    {
     "name": "stdout",
     "output_type": "stream",
     "text": [
      "17:57:24 - WARNING - No land class data found for HRU 57, using default class\n"
     ]
    },
    {
     "name": "stderr",
     "output_type": "stream",
     "text": [
      "2025-05-13 17:57:24,908 - confluence_general - WARNING - No land class data found for HRU 57, using default class\n"
     ]
    },
    {
     "name": "stdout",
     "output_type": "stream",
     "text": [
      "17:57:24 - WARNING - No land class data found for HRU 126, using default class\n"
     ]
    },
    {
     "name": "stderr",
     "output_type": "stream",
     "text": [
      "2025-05-13 17:57:24,921 - confluence_general - WARNING - No land class data found for HRU 126, using default class\n"
     ]
    },
    {
     "name": "stdout",
     "output_type": "stream",
     "text": [
      "17:57:24 - WARNING - No land class data found for HRU 164, using default class\n"
     ]
    },
    {
     "name": "stderr",
     "output_type": "stream",
     "text": [
      "2025-05-13 17:57:24,924 - confluence_general - WARNING - No land class data found for HRU 164, using default class\n"
     ]
    },
    {
     "name": "stdout",
     "output_type": "stream",
     "text": [
      "17:57:24 - WARNING - No land class data found for HRU 6, using default class\n"
     ]
    },
    {
     "name": "stderr",
     "output_type": "stream",
     "text": [
      "2025-05-13 17:57:24,928 - confluence_general - WARNING - No land class data found for HRU 6, using default class\n"
     ]
    },
    {
     "name": "stdout",
     "output_type": "stream",
     "text": [
      "17:57:24 - WARNING - No land class data found for HRU 25, using default class\n"
     ]
    },
    {
     "name": "stderr",
     "output_type": "stream",
     "text": [
      "2025-05-13 17:57:24,935 - confluence_general - WARNING - No land class data found for HRU 25, using default class\n"
     ]
    },
    {
     "name": "stdout",
     "output_type": "stream",
     "text": [
      "17:57:24 - WARNING - No land class data found for HRU 37, using default class\n"
     ]
    },
    {
     "name": "stderr",
     "output_type": "stream",
     "text": [
      "2025-05-13 17:57:24,938 - confluence_general - WARNING - No land class data found for HRU 37, using default class\n"
     ]
    },
    {
     "name": "stdout",
     "output_type": "stream",
     "text": [
      "17:57:24 - WARNING - No land class data found for HRU 50, using default class\n"
     ]
    },
    {
     "name": "stderr",
     "output_type": "stream",
     "text": [
      "2025-05-13 17:57:24,942 - confluence_general - WARNING - No land class data found for HRU 50, using default class\n"
     ]
    },
    {
     "name": "stdout",
     "output_type": "stream",
     "text": [
      "17:57:24 - WARNING - No land class data found for HRU 160, using default class\n"
     ]
    },
    {
     "name": "stderr",
     "output_type": "stream",
     "text": [
      "2025-05-13 17:57:24,946 - confluence_general - WARNING - No land class data found for HRU 160, using default class\n"
     ]
    },
    {
     "name": "stdout",
     "output_type": "stream",
     "text": [
      "17:57:24 - WARNING - No land class data found for HRU 65, using default class\n"
     ]
    },
    {
     "name": "stderr",
     "output_type": "stream",
     "text": [
      "2025-05-13 17:57:24,949 - confluence_general - WARNING - No land class data found for HRU 65, using default class\n"
     ]
    },
    {
     "name": "stdout",
     "output_type": "stream",
     "text": [
      "17:57:24 - WARNING - No land class data found for HRU 68, using default class\n"
     ]
    },
    {
     "name": "stderr",
     "output_type": "stream",
     "text": [
      "2025-05-13 17:57:24,953 - confluence_general - WARNING - No land class data found for HRU 68, using default class\n"
     ]
    },
    {
     "name": "stdout",
     "output_type": "stream",
     "text": [
      "17:57:24 - WARNING - No land class data found for HRU 71, using default class\n"
     ]
    },
    {
     "name": "stderr",
     "output_type": "stream",
     "text": [
      "2025-05-13 17:57:24,956 - confluence_general - WARNING - No land class data found for HRU 71, using default class\n"
     ]
    },
    {
     "name": "stdout",
     "output_type": "stream",
     "text": [
      "17:57:24 - WARNING - No land class data found for HRU 73, using default class\n"
     ]
    },
    {
     "name": "stderr",
     "output_type": "stream",
     "text": [
      "2025-05-13 17:57:24,960 - confluence_general - WARNING - No land class data found for HRU 73, using default class\n"
     ]
    },
    {
     "name": "stdout",
     "output_type": "stream",
     "text": [
      "17:57:24 - WARNING - No land class data found for HRU 84, using default class\n"
     ]
    },
    {
     "name": "stderr",
     "output_type": "stream",
     "text": [
      "2025-05-13 17:57:24,967 - confluence_general - WARNING - No land class data found for HRU 84, using default class\n"
     ]
    },
    {
     "name": "stdout",
     "output_type": "stream",
     "text": [
      "17:57:24 - WARNING - No land class data found for HRU 96, using default class\n"
     ]
    },
    {
     "name": "stderr",
     "output_type": "stream",
     "text": [
      "2025-05-13 17:57:24,977 - confluence_general - WARNING - No land class data found for HRU 96, using default class\n"
     ]
    },
    {
     "name": "stdout",
     "output_type": "stream",
     "text": [
      "17:57:24 - WARNING - No land class data found for HRU 170, using default class\n"
     ]
    },
    {
     "name": "stderr",
     "output_type": "stream",
     "text": [
      "2025-05-13 17:57:24,999 - confluence_general - WARNING - No land class data found for HRU 170, using default class\n"
     ]
    },
    {
     "name": "stdout",
     "output_type": "stream",
     "text": [
      "17:57:25 - INFO - 0 HRUs were identified as containing only open water. Note that SUMMA skips hydrologic calculations for such HRUs.\n"
     ]
    },
    {
     "name": "stderr",
     "output_type": "stream",
     "text": [
      "2025-05-13 17:57:25,003 - confluence_general - INFO - 0 HRUs were identified as containing only open water. Note that SUMMA skips hydrologic calculations for such HRUs.\n"
     ]
    },
    {
     "name": "stdout",
     "output_type": "stream",
     "text": [
      "17:57:25 - INFO - Inserting soil class into attributes file\n"
     ]
    },
    {
     "name": "stderr",
     "output_type": "stream",
     "text": [
      "2025-05-13 17:57:25,007 - confluence_general - INFO - Inserting soil class into attributes file\n"
     ]
    },
    {
     "name": "stdout",
     "output_type": "stream",
     "text": [
      "17:57:25 - ERROR - Error during SUMMA spatial preprocessing: index 0 is out of bounds for axis 0 with size 0\n"
     ]
    },
    {
     "name": "stderr",
     "output_type": "stream",
     "text": [
      "2025-05-13 17:57:25,035 - confluence_general - ERROR - Error during SUMMA spatial preprocessing: index 0 is out of bounds for axis 0 with size 0\n"
     ]
    },
    {
     "name": "stdout",
     "output_type": "stream",
     "text": [
      "17:57:25 - ERROR - Error preprocessing model SUMMA: index 0 is out of bounds for axis 0 with size 0\n"
     ]
    },
    {
     "name": "stderr",
     "output_type": "stream",
     "text": [
      "2025-05-13 17:57:25,039 - confluence_general - ERROR - Error preprocessing model SUMMA: index 0 is out of bounds for axis 0 with size 0\n"
     ]
    },
    {
     "name": "stdout",
     "output_type": "stream",
     "text": [
      "17:57:25 - ERROR - Traceback (most recent call last):\n",
      "  File \"/home/darri.eythorsson/code/CONFLUENCE/utils/models/model_manager.py\", line 191, in preprocess_models\n",
      "    preprocessor.run_preprocessing()\n",
      "  File \"/home/darri.eythorsson/code/CONFLUENCE/utils/models/summa_utils.py\", line 94, in run_preprocessing\n",
      "    self.create_attributes_file()\n",
      "  File \"/home/darri.eythorsson/code/CONFLUENCE/utils/models/summa_utils.py\", line 750, in create_attributes_file\n",
      "    self.insert_soil_class(attribute_path)\n",
      "  File \"/home/darri.eythorsson/code/CONFLUENCE/utils/models/summa_utils.py\", line 780, in insert_soil_class\n",
      "    tmp_hist.append(shp[col_name][shp_mask].values[0])\n",
      "                    ~~~~~~~~~~~~~~~~~~~~~~~~~~~~~~^^^\n",
      "IndexError: index 0 is out of bounds for axis 0 with size 0\n",
      "\n"
     ]
    },
    {
     "name": "stderr",
     "output_type": "stream",
     "text": [
      "2025-05-13 17:57:25,049 - confluence_general - ERROR - Traceback (most recent call last):\n",
      "  File \"/home/darri.eythorsson/code/CONFLUENCE/utils/models/model_manager.py\", line 191, in preprocess_models\n",
      "    preprocessor.run_preprocessing()\n",
      "  File \"/home/darri.eythorsson/code/CONFLUENCE/utils/models/summa_utils.py\", line 94, in run_preprocessing\n",
      "    self.create_attributes_file()\n",
      "  File \"/home/darri.eythorsson/code/CONFLUENCE/utils/models/summa_utils.py\", line 750, in create_attributes_file\n",
      "    self.insert_soil_class(attribute_path)\n",
      "  File \"/home/darri.eythorsson/code/CONFLUENCE/utils/models/summa_utils.py\", line 780, in insert_soil_class\n",
      "    tmp_hist.append(shp[col_name][shp_mask].values[0])\n",
      "                    ~~~~~~~~~~~~~~~~~~~~~~~~~~~~~~^^^\n",
      "IndexError: index 0 is out of bounds for axis 0 with size 0\n",
      "\n"
     ]
    },
    {
     "ename": "IndexError",
     "evalue": "index 0 is out of bounds for axis 0 with size 0",
     "output_type": "error",
     "traceback": [
      "\u001b[31m---------------------------------------------------------------------------\u001b[39m",
      "\u001b[31mIndexError\u001b[39m                                Traceback (most recent call last)",
      "\u001b[36mCell\u001b[39m\u001b[36m \u001b[39m\u001b[32mIn[9]\u001b[39m\u001b[32m, line 4\u001b[39m\n\u001b[32m      1\u001b[39m \u001b[38;5;66;03m#Prepare Model-Specific Files\u001b[39;00m\n\u001b[32m      2\u001b[39m \u001b[38;5;28mprint\u001b[39m(\u001b[33mf\u001b[39m\u001b[33m\"\u001b[39m\u001b[33mPreparing \u001b[39m\u001b[38;5;132;01m{\u001b[39;00mconfluence.config[\u001b[33m'\u001b[39m\u001b[33mHYDROLOGICAL_MODEL\u001b[39m\u001b[33m'\u001b[39m]\u001b[38;5;132;01m}\u001b[39;00m\u001b[33m input files...\u001b[39m\u001b[33m\"\u001b[39m)\n\u001b[32m----> \u001b[39m\u001b[32m4\u001b[39m \u001b[43mconfluence\u001b[49m\u001b[43m.\u001b[49m\u001b[43mmanagers\u001b[49m\u001b[43m[\u001b[49m\u001b[33;43m'\u001b[39;49m\u001b[33;43mmodel\u001b[39;49m\u001b[33;43m'\u001b[39;49m\u001b[43m]\u001b[49m\u001b[43m.\u001b[49m\u001b[43mpreprocess_models\u001b[49m\u001b[43m(\u001b[49m\u001b[43m)\u001b[49m\n\u001b[32m      6\u001b[39m \u001b[38;5;28mprint\u001b[39m(\u001b[33m\"\u001b[39m\u001b[38;5;130;01m\\n\u001b[39;00m\u001b[33m✓ Model-specific preprocessing completed\u001b[39m\u001b[33m\"\u001b[39m)\n",
      "\u001b[36mFile \u001b[39m\u001b[32m~/code/CONFLUENCE/utils/models/model_manager.py:191\u001b[39m, in \u001b[36mModelManager.preprocess_models\u001b[39m\u001b[34m(self)\u001b[39m\n\u001b[32m    189\u001b[39m \u001b[38;5;66;03m# Run preprocessing\u001b[39;00m\n\u001b[32m    190\u001b[39m preprocessor = preprocessor_class(\u001b[38;5;28mself\u001b[39m.config, \u001b[38;5;28mself\u001b[39m.logger)\n\u001b[32m--> \u001b[39m\u001b[32m191\u001b[39m \u001b[43mpreprocessor\u001b[49m\u001b[43m.\u001b[49m\u001b[43mrun_preprocessing\u001b[49m\u001b[43m(\u001b[49m\u001b[43m)\u001b[49m\n\u001b[32m    193\u001b[39m \u001b[38;5;66;03m# Special handling for SUMMA routing (MizuRoute)\u001b[39;00m\n\u001b[32m    194\u001b[39m \u001b[38;5;28;01mif\u001b[39;00m model == \u001b[33m'\u001b[39m\u001b[33mSUMMA\u001b[39m\u001b[33m'\u001b[39m:\n",
      "\u001b[36mFile \u001b[39m\u001b[32m~/code/CONFLUENCE/utils/models/summa_utils.py:94\u001b[39m, in \u001b[36mSummaPreProcessor.run_preprocessing\u001b[39m\u001b[34m(self)\u001b[39m\n\u001b[32m     92\u001b[39m     \u001b[38;5;28mself\u001b[39m.create_initial_conditions()\n\u001b[32m     93\u001b[39m     \u001b[38;5;28mself\u001b[39m.create_trial_parameters()\n\u001b[32m---> \u001b[39m\u001b[32m94\u001b[39m     \u001b[38;5;28;43mself\u001b[39;49m\u001b[43m.\u001b[49m\u001b[43mcreate_attributes_file\u001b[49m\u001b[43m(\u001b[49m\u001b[43m)\u001b[49m\n\u001b[32m     96\u001b[39m     \u001b[38;5;28mself\u001b[39m.logger.info(\u001b[33m\"\u001b[39m\u001b[33mSUMMA spatial preprocessing completed successfully\u001b[39m\u001b[33m\"\u001b[39m)\n\u001b[32m     97\u001b[39m \u001b[38;5;28;01mexcept\u001b[39;00m \u001b[38;5;167;01mException\u001b[39;00m \u001b[38;5;28;01mas\u001b[39;00m e:\n",
      "\u001b[36mFile \u001b[39m\u001b[32m~/code/CONFLUENCE/utils/models/summa_utils.py:750\u001b[39m, in \u001b[36mSummaPreProcessor.create_attributes_file\u001b[39m\u001b[34m(self)\u001b[39m\n\u001b[32m    747\u001b[39m \u001b[38;5;28mself\u001b[39m.logger.info(\u001b[33mf\u001b[39m\u001b[33m\"\u001b[39m\u001b[33mAttributes file created at: \u001b[39m\u001b[38;5;132;01m{\u001b[39;00mattribute_path\u001b[38;5;132;01m}\u001b[39;00m\u001b[33m\"\u001b[39m)\n\u001b[32m    749\u001b[39m \u001b[38;5;28mself\u001b[39m.insert_land_class(attribute_path)\n\u001b[32m--> \u001b[39m\u001b[32m750\u001b[39m \u001b[38;5;28;43mself\u001b[39;49m\u001b[43m.\u001b[49m\u001b[43minsert_soil_class\u001b[49m\u001b[43m(\u001b[49m\u001b[43mattribute_path\u001b[49m\u001b[43m)\u001b[49m\n\u001b[32m    751\u001b[39m \u001b[38;5;28mself\u001b[39m.insert_elevation(attribute_path)\n",
      "\u001b[36mFile \u001b[39m\u001b[32m~/code/CONFLUENCE/utils/models/summa_utils.py:780\u001b[39m, in \u001b[36mSummaPreProcessor.insert_soil_class\u001b[39m\u001b[34m(self, attribute_file)\u001b[39m\n\u001b[32m    778\u001b[39m col_name = \u001b[33mf\u001b[39m\u001b[33m'\u001b[39m\u001b[33mUSGS_\u001b[39m\u001b[38;5;132;01m{\u001b[39;00mj\u001b[38;5;132;01m}\u001b[39;00m\u001b[33m'\u001b[39m\n\u001b[32m    779\u001b[39m \u001b[38;5;28;01mif\u001b[39;00m col_name \u001b[38;5;129;01min\u001b[39;00m shp.columns:\n\u001b[32m--> \u001b[39m\u001b[32m780\u001b[39m     tmp_hist.append(\u001b[43mshp\u001b[49m\u001b[43m[\u001b[49m\u001b[43mcol_name\u001b[49m\u001b[43m]\u001b[49m\u001b[43m[\u001b[49m\u001b[43mshp_mask\u001b[49m\u001b[43m]\u001b[49m\u001b[43m.\u001b[49m\u001b[43mvalues\u001b[49m\u001b[43m[\u001b[49m\u001b[32;43m0\u001b[39;49m\u001b[43m]\u001b[49m)\n\u001b[32m    781\u001b[39m \u001b[38;5;28;01melse\u001b[39;00m:\n\u001b[32m    782\u001b[39m     tmp_hist.append(\u001b[32m0\u001b[39m)\n",
      "\u001b[31mIndexError\u001b[39m: index 0 is out of bounds for axis 0 with size 0"
     ]
    }
   ],
   "source": [
    "#Prepare Model-Specific Files\n",
    "print(f\"Preparing {confluence.config['HYDROLOGICAL_MODEL']} input files...\")\n",
    "\n",
    "confluence.managers['model'].preprocess_models()\n",
    "\n",
    "print(\"\\n✓ Model-specific preprocessing completed\")"
   ]
  },
  {
   "cell_type": "code",
   "execution_count": 3,
   "metadata": {
    "scrolled": true
   },
   "outputs": [
    {
     "name": "stdout",
     "output_type": "stream",
     "text": [
      "Running SUMMA with elevation-based HRUs...\n",
      "Note: This may take some time depending on the number of HRUs.\n",
      "19:22:13 - INFO - Starting model runs\n"
     ]
    },
    {
     "name": "stderr",
     "output_type": "stream",
     "text": [
      "2025-05-13 19:22:13,813 - confluence_general - INFO - Starting model runs\n"
     ]
    },
    {
     "name": "stdout",
     "output_type": "stream",
     "text": [
      "19:22:13 - INFO - Running model: SUMMA\n"
     ]
    },
    {
     "name": "stderr",
     "output_type": "stream",
     "text": [
      "2025-05-13 19:22:13,814 - confluence_general - INFO - Running model: SUMMA\n"
     ]
    },
    {
     "name": "stdout",
     "output_type": "stream",
     "text": [
      "19:22:13 - INFO - Starting SUMMA run\n"
     ]
    },
    {
     "name": "stderr",
     "output_type": "stream",
     "text": [
      "2025-05-13 19:22:13,817 - confluence_general - INFO - Starting SUMMA run\n"
     ]
    },
    {
     "name": "stdout",
     "output_type": "stream",
     "text": [
      "19:22:53 - ERROR - SUMMA run failed with error: Command '/work/comphyd_lab/data/CONFLUENCE_data/installs/summa/bin/summa.exe -m /work/comphyd_lab/data/CONFLUENCE_data/domain_Bow_at_Banff_elevation/settings/SUMMA/fileManager.txt' returned non-zero exit status 1.\n"
     ]
    },
    {
     "name": "stderr",
     "output_type": "stream",
     "text": [
      "2025-05-13 19:22:53,384 - confluence_general - ERROR - SUMMA run failed with error: Command '/work/comphyd_lab/data/CONFLUENCE_data/installs/summa/bin/summa.exe -m /work/comphyd_lab/data/CONFLUENCE_data/domain_Bow_at_Banff_elevation/settings/SUMMA/fileManager.txt' returned non-zero exit status 1.\n"
     ]
    },
    {
     "name": "stdout",
     "output_type": "stream",
     "text": [
      "19:22:53 - ERROR - Error during SUMMA model run: Command '/work/comphyd_lab/data/CONFLUENCE_data/installs/summa/bin/summa.exe -m /work/comphyd_lab/data/CONFLUENCE_data/domain_Bow_at_Banff_elevation/settings/SUMMA/fileManager.txt' returned non-zero exit status 1.\n"
     ]
    },
    {
     "name": "stderr",
     "output_type": "stream",
     "text": [
      "2025-05-13 19:22:53,387 - confluence_general - ERROR - Error during SUMMA model run: Command '/work/comphyd_lab/data/CONFLUENCE_data/installs/summa/bin/summa.exe -m /work/comphyd_lab/data/CONFLUENCE_data/domain_Bow_at_Banff_elevation/settings/SUMMA/fileManager.txt' returned non-zero exit status 1.\n"
     ]
    },
    {
     "name": "stdout",
     "output_type": "stream",
     "text": [
      "19:22:53 - ERROR - Traceback (most recent call last):\n",
      "  File \"/home/darri.eythorsson/code/CONFLUENCE/utils/models/model_manager.py\", line 258, in run_models\n",
      "    getattr(runner, method_name)()\n",
      "  File \"/home/darri.eythorsson/code/CONFLUENCE/utils/models/summa_utils.py\", line 1050, in run_summa\n",
      "    self.run_summa_serial()\n",
      "  File \"/home/darri.eythorsson/code/CONFLUENCE/utils/models/summa_utils.py\", line 1486, in run_summa_serial\n",
      "    subprocess.run(summa_command, shell=True, check=True, stdout=log_file, stderr=subprocess.STDOUT)\n",
      "  File \"/work/comphyd_lab/local/modules/spack/2024v5/core/__spack_path_placeholder__/__spack_path_placeholder__/__spack_path_placeholder/linux-rocky8-x86_64/gcc-14.2.0/python-3.11.7-kydrhvi3xotycebna2knxwhwha3ffygj/lib/python3.11/subprocess.py\", line 571, in run\n",
      "    raise CalledProcessError(retcode, process.args,\n",
      "subprocess.CalledProcessError: Command '/work/comphyd_lab/data/CONFLUENCE_data/installs/summa/bin/summa.exe -m /work/comphyd_lab/data/CONFLUENCE_data/domain_Bow_at_Banff_elevation/settings/SUMMA/fileManager.txt' returned non-zero exit status 1.\n",
      "\n"
     ]
    },
    {
     "name": "stderr",
     "output_type": "stream",
     "text": [
      "2025-05-13 19:22:53,400 - confluence_general - ERROR - Traceback (most recent call last):\n",
      "  File \"/home/darri.eythorsson/code/CONFLUENCE/utils/models/model_manager.py\", line 258, in run_models\n",
      "    getattr(runner, method_name)()\n",
      "  File \"/home/darri.eythorsson/code/CONFLUENCE/utils/models/summa_utils.py\", line 1050, in run_summa\n",
      "    self.run_summa_serial()\n",
      "  File \"/home/darri.eythorsson/code/CONFLUENCE/utils/models/summa_utils.py\", line 1486, in run_summa_serial\n",
      "    subprocess.run(summa_command, shell=True, check=True, stdout=log_file, stderr=subprocess.STDOUT)\n",
      "  File \"/work/comphyd_lab/local/modules/spack/2024v5/core/__spack_path_placeholder__/__spack_path_placeholder__/__spack_path_placeholder/linux-rocky8-x86_64/gcc-14.2.0/python-3.11.7-kydrhvi3xotycebna2knxwhwha3ffygj/lib/python3.11/subprocess.py\", line 571, in run\n",
      "    raise CalledProcessError(retcode, process.args,\n",
      "subprocess.CalledProcessError: Command '/work/comphyd_lab/data/CONFLUENCE_data/installs/summa/bin/summa.exe -m /work/comphyd_lab/data/CONFLUENCE_data/domain_Bow_at_Banff_elevation/settings/SUMMA/fileManager.txt' returned non-zero exit status 1.\n",
      "\n"
     ]
    },
    {
     "name": "stdout",
     "output_type": "stream",
     "text": [
      "19:22:53 - INFO - Starting model output visualisation\n"
     ]
    },
    {
     "name": "stderr",
     "output_type": "stream",
     "text": [
      "2025-05-13 19:22:53,401 - confluence_general - INFO - Starting model output visualisation\n"
     ]
    },
    {
     "name": "stdout",
     "output_type": "stream",
     "text": [
      "19:22:53 - ERROR - SUMMA output file not found: /work/comphyd_lab/data/CONFLUENCE_data/domain_Bow_at_Banff_elevation/simulations/elevation_tutorial/SUMMA/elevation_tutorial_day.nc\n"
     ]
    },
    {
     "name": "stderr",
     "output_type": "stream",
     "text": [
      "2025-05-13 19:22:53,404 - confluence_general - ERROR - SUMMA output file not found: /work/comphyd_lab/data/CONFLUENCE_data/domain_Bow_at_Banff_elevation/simulations/elevation_tutorial/SUMMA/elevation_tutorial_day.nc\n"
     ]
    },
    {
     "name": "stdout",
     "output_type": "stream",
     "text": [
      "19:22:53 - ERROR - Error updating SIM_REACH_ID: expected str, bytes or os.PathLike object, not dict\n"
     ]
    },
    {
     "name": "stderr",
     "output_type": "stream",
     "text": [
      "2025-05-13 19:22:53,508 - confluence_general - ERROR - Error updating SIM_REACH_ID: expected str, bytes or os.PathLike object, not dict\n"
     ]
    },
    {
     "name": "stdout",
     "output_type": "stream",
     "text": [
      "19:22:53 - ERROR - Stack trace: Traceback (most recent call last):\n",
      "  File \"/home/darri.eythorsson/code/CONFLUENCE/utils/reporting/reporting_utils.py\", line 771, in update_sim_reach_id\n",
      "    config_file_path = Path(config_path)\n",
      "                       ^^^^^^^^^^^^^^^^^\n",
      "  File \"/work/comphyd_lab/local/modules/spack/2024v5/core/__spack_path_placeholder__/__spack_path_placeholder__/__spack_path_placeholder/linux-rocky8-x86_64/gcc-14.2.0/python-3.11.7-kydrhvi3xotycebna2knxwhwha3ffygj/lib/python3.11/pathlib.py\", line 871, in __new__\n",
      "    self = cls._from_parts(args)\n",
      "           ^^^^^^^^^^^^^^^^^^^^^\n",
      "  File \"/work/comphyd_lab/local/modules/spack/2024v5/core/__spack_path_placeholder__/__spack_path_placeholder__/__spack_path_placeholder/linux-rocky8-x86_64/gcc-14.2.0/python-3.11.7-kydrhvi3xotycebna2knxwhwha3ffygj/lib/python3.11/pathlib.py\", line 509, in _from_parts\n",
      "    drv, root, parts = self._parse_args(args)\n",
      "                       ^^^^^^^^^^^^^^^^^^^^^^\n",
      "  File \"/work/comphyd_lab/local/modules/spack/2024v5/core/__spack_path_placeholder__/__spack_path_placeholder__/__spack_path_placeholder/linux-rocky8-x86_64/gcc-14.2.0/python-3.11.7-kydrhvi3xotycebna2knxwhwha3ffygj/lib/python3.11/pathlib.py\", line 493, in _parse_args\n",
      "    a = os.fspath(a)\n",
      "        ^^^^^^^^^^^^\n",
      "TypeError: expected str, bytes or os.PathLike object, not dict\n",
      "\n"
     ]
    },
    {
     "name": "stderr",
     "output_type": "stream",
     "text": [
      "2025-05-13 19:22:53,513 - confluence_general - ERROR - Stack trace: Traceback (most recent call last):\n",
      "  File \"/home/darri.eythorsson/code/CONFLUENCE/utils/reporting/reporting_utils.py\", line 771, in update_sim_reach_id\n",
      "    config_file_path = Path(config_path)\n",
      "                       ^^^^^^^^^^^^^^^^^\n",
      "  File \"/work/comphyd_lab/local/modules/spack/2024v5/core/__spack_path_placeholder__/__spack_path_placeholder__/__spack_path_placeholder/linux-rocky8-x86_64/gcc-14.2.0/python-3.11.7-kydrhvi3xotycebna2knxwhwha3ffygj/lib/python3.11/pathlib.py\", line 871, in __new__\n",
      "    self = cls._from_parts(args)\n",
      "           ^^^^^^^^^^^^^^^^^^^^^\n",
      "  File \"/work/comphyd_lab/local/modules/spack/2024v5/core/__spack_path_placeholder__/__spack_path_placeholder__/__spack_path_placeholder/linux-rocky8-x86_64/gcc-14.2.0/python-3.11.7-kydrhvi3xotycebna2knxwhwha3ffygj/lib/python3.11/pathlib.py\", line 509, in _from_parts\n",
      "    drv, root, parts = self._parse_args(args)\n",
      "                       ^^^^^^^^^^^^^^^^^^^^^^\n",
      "  File \"/work/comphyd_lab/local/modules/spack/2024v5/core/__spack_path_placeholder__/__spack_path_placeholder__/__spack_path_placeholder/linux-rocky8-x86_64/gcc-14.2.0/python-3.11.7-kydrhvi3xotycebna2knxwhwha3ffygj/lib/python3.11/pathlib.py\", line 493, in _parse_args\n",
      "    a = os.fspath(a)\n",
      "        ^^^^^^^^^^^^\n",
      "TypeError: expected str, bytes or os.PathLike object, not dict\n",
      "\n"
     ]
    },
    {
     "name": "stdout",
     "output_type": "stream",
     "text": [
      "19:22:53 - WARNING - Could not read simulation file /work/comphyd_lab/data/CONFLUENCE_data/domain_Bow_at_Banff_elevation/simulations/elevation_tutorial/mizuRoute/elevation_tutorial*.nc: no files to open\n"
     ]
    },
    {
     "name": "stderr",
     "output_type": "stream",
     "text": [
      "2025-05-13 19:22:53,566 - confluence_general - WARNING - Could not read simulation file /work/comphyd_lab/data/CONFLUENCE_data/domain_Bow_at_Banff_elevation/simulations/elevation_tutorial/mizuRoute/elevation_tutorial*.nc: no files to open\n"
     ]
    },
    {
     "name": "stdout",
     "output_type": "stream",
     "text": [
      "19:22:53 - ERROR - No simulation data could be loaded\n"
     ]
    },
    {
     "name": "stderr",
     "output_type": "stream",
     "text": [
      "2025-05-13 19:22:53,569 - confluence_general - ERROR - No simulation data could be loaded\n"
     ]
    },
    {
     "name": "stdout",
     "output_type": "stream",
     "text": [
      "19:22:53 - INFO - Model runs completed\n"
     ]
    },
    {
     "name": "stderr",
     "output_type": "stream",
     "text": [
      "2025-05-13 19:22:53,572 - confluence_general - INFO - Model runs completed\n"
     ]
    }
   ],
   "source": [
    "# Step 7: Run the Model\n",
    "print(f\"Running {confluence.config['HYDROLOGICAL_MODEL']} with elevation-based HRUs...\")\n",
    "print(\"Note: This may take some time depending on the number of HRUs.\")\n",
    "\n",
    "confluence.managers['model'].run_models()"
   ]
  }
 ],
 "metadata": {
  "kernelspec": {
   "display_name": "CONFLUENCE (HPC Modules)",
   "language": "python",
   "name": "conf-env-hpc"
  },
  "language_info": {
   "codemirror_mode": {
    "name": "ipython",
    "version": 3
   },
   "file_extension": ".py",
   "mimetype": "text/x-python",
   "name": "python",
   "nbconvert_exporter": "python",
   "pygments_lexer": "ipython3",
   "version": "3.11.7"
  }
 },
 "nbformat": 4,
 "nbformat_minor": 4
}
