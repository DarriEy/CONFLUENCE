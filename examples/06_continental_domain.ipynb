{
 "cells": [
  {
   "cell_type": "markdown",
   "metadata": {},
   "source": [
    "# CONFLUENCE Tutorial: Continental-Scale Modeling - South America\n",
    "\n",
    "This notebook demonstrates how to set up a continental-scale SUMMA model for South America. We'll move quickly through the workflow, focusing on the scale differences from previous tutorials.\n",
    "\n",
    "## Key Points\n",
    "- **Scale**: From country (Iceland) to continent (South America)\n",
    "- **Computational considerations**: Much larger domain"
   ]
  },
  {
   "cell_type": "markdown",
   "metadata": {},
   "source": [
    "## 1. Quick Setup"
   ]
  },
  {
   "cell_type": "code",
   "execution_count": null,
   "metadata": {},
   "outputs": [],
   "source": [
    "# Import required libraries\n",
    "import sys\n",
    "from pathlib import Path\n",
    "import yaml\n",
    "import pandas as pd\n",
    "import matplotlib.pyplot as plt\n",
    "import geopandas as gpd\n",
    "import numpy as np\n",
    "from shapely.geometry import box\n",
    "import contextily as cx\n",
    "from datetime import datetime\n",
    "import xarray as xr\n",
    "\n",
    "# Add CONFLUENCE to path\n",
    "confluence_path = Path('../').resolve()\n",
    "sys.path.append(str(confluence_path))\n",
    "\n",
    "# Import CONFLUENCE\n",
    "from CONFLUENCE import CONFLUENCE\n",
    "\n",
    "plt.style.use('default')\n",
    "%matplotlib inline\n",
    "\n",
    "print(f\"Working from: {confluence_path}\")"
   ]
  },
  {
   "cell_type": "markdown",
   "metadata": {},
   "source": [
    "## 2. Initialize CONFLUENCE for Continental Domain\n",
    "We'll configure CONFLUENCE for a continental-scale domain with appropriate settings for North America."
   ]
  },
  {
   "cell_type": "code",
   "execution_count": null,
   "metadata": {},
   "outputs": [],
   "source": [
    "# Set directory paths\n",
    "CONFLUENCE_CODE_DIR = confluence_path\n",
    "CONFLUENCE_DATA_DIR = Path('/work/comphyd_lab/data/CONFLUENCE_data')  # ← User should modify this path\n",
    "\n",
    "# Load template configuration\n",
    "config_template_path = CONFLUENCE_CODE_DIR / '0_config_files' / 'config_South_America.yaml'\n",
    "with open(config_template_path, 'r') as f:\n",
    "    config_dict = yaml.safe_load(f)\n",
    "\n",
    "# Update with South America-specific settings\n",
    "config_dict['CONFLUENCE_CODE_DIR'] = str(CONFLUENCE_CODE_DIR)\n",
    "config_dict['CONFLUENCE_DATA_DIR'] = str(CONFLUENCE_DATA_DIR)\n",
    "\n",
    "# Set South America domain and continental-specific settings\n",
    "config_dict['DOMAIN_NAME'] = \"South_America_tutorial\"  \n",
    "config_dict['EXPERIMENT_ID'] = \"continental_run_1\"\n",
    "config_dict['EXPERIMENT_TIME_START'] = \"2018-01-01 01:00\"\n",
    "config_dict['EXPERIMENT_TIME_END'] = \"2018-12-31 23:00\"  \n",
    "config_dict['SPATIAL_MODE'] = \"Distributed\"\n",
    "\n",
    "# North America continent regional domain settings\n",
    "config_dict['BOUNDING_BOX_COORDS'] = \"83.0/-170.0/5.0/-50.0\"  # North/West/South/East\n",
    "config_dict['DELINEATE_BY_POURPOINT'] = False\n",
    "config_dict['DELINEATE_COASTAL_WATERSHEDS'] = True\n",
    "config_dict['DOMAIN_DEFINITION_METHOD'] = \"delineate\" \n",
    "config_dict['STREAM_THRESHOLD'] = 7500  # Larger threshold for continental scale\n",
    "config_dict['DOMAIN_DISCRETIZATION'] = \"GRUs\"\n",
    "config_dict['MPI_PROCESSES'] = 40  # Higher for parallel processing\n",
    "\n",
    "# Write to temporary config file\n",
    "temp_config_path = CONFLUENCE_CODE_DIR / '0_config_files' / 'config_north_america.yaml'\n",
    "with open(temp_config_path, 'w') as f:\n",
    "    yaml.dump(config_dict, f)\n",
    "\n",
    "# Initialize CONFLUENCE\n",
    "confluence = CONFLUENCE(temp_config_path)\n",
    "\n",
    "\n",
    "# Display configuration\n",
    "print(\"=== North America Continental Configuration ===\")\n",
    "print(f\"Domain Name: {confluence.config['DOMAIN_NAME']}\")\n",
    "print(f\"Bounding Box: {confluence.config['BOUNDING_BOX_COORDS']}\")\n",
    "print(f\"Delineate by Pour Point: {confluence.config['DELINEATE_BY_POURPOINT']} (Full continent!)\")\n",
    "print(f\"Include Coastal Watersheds: {confluence.config['DELINEATE_COASTAL_WATERSHEDS']}\")\n",
    "print(f\"Stream Threshold: {confluence.config['STREAM_THRESHOLD']} (larger for continental scale)\")\n",
    "print(f\"Min GRU Size: {confluence.config['MIN_GRU_SIZE']} km²\")\n",
    "print(f\"MPI Processes: {confluence.config['MPI_PROCESSES']} (high for parallel processing)\")"
   ]
  },
  {
   "cell_type": "markdown",
   "metadata": {},
   "source": [
    "## 3. Project Setup\n"
   ]
  },
  {
   "cell_type": "code",
   "execution_count": null,
   "metadata": {},
   "outputs": [],
   "source": [
    "# Step 1: Project Initialization\n",
    "print(\"=== Step 1: Project Initialization ===\")\n",
    "print(\"Setting up continental project...\")\n",
    "\n",
    "# Setup project\n",
    "project_dir = confluence.managers['project'].setup_project()\n",
    "\n",
    "# Note: We skip pour point creation for continental domains\n",
    "print(\"Pour point creation skipped (continental domain)\")\n",
    "\n",
    "# List created directories\n",
    "print(\"\\nCreated directories:\")\n",
    "for item in sorted(project_dir.iterdir()):\n",
    "    if item.is_dir():\n",
    "        print(f\"  📁 {item.name}\")\n",
    "\n",
    "print(\"\\nDirectory purposes:\")\n",
    "print(\"  📁 shapefiles: Domain geometry (thousands of watersheds, river networks)\")\n",
    "print(\"  📁 attributes: Static characteristics (elevation, soil, land cover)\")\n",
    "print(\"  📁 forcing: Meteorological inputs (precipitation, temperature)\")\n",
    "print(\"  📁 simulations: Model outputs\")\n",
    "print(\"  📁 evaluation: Performance metrics and comparisons\")\n",
    "print(\"  📁 plots: Visualizations\")\n"
   ]
  },
  {
   "cell_type": "markdown",
   "metadata": {},
   "source": [
    "## 5. Geospatial Domain Definition - Continental Data Acquisition\n",
    "We need to acquire continental-scale geospatial data, which will be much larger than for regional domains."
   ]
  },
  {
   "cell_type": "code",
   "execution_count": null,
   "metadata": {},
   "outputs": [],
   "source": [
    "# Step 2: Geospatial Domain Definition and Analysis\n",
    "print(\"=== Step 2: Geospatial Domain Definition and Analysis ===\")\n",
    "\n",
    "# Acquire attributes\n",
    "print(\"Acquiring continental-scale attributes (DEM, soil, land cover)...\")\n",
    "print(\"Note: This downloads LARGE datasets\")\n",
    "confluence.managers['data'].acquire_attributes()\n",
    "print(\"✓ Continental attributes acquired\\n\")"
   ]
  },
  {
   "cell_type": "markdown",
   "metadata": {},
   "source": [
    "## 6. Continental Domain Delineation\n",
    "Now we'll delineate the entire continent, creating thousands of watersheds. This is computationally intensive."
   ]
  },
  {
   "cell_type": "code",
   "execution_count": null,
   "metadata": {},
   "outputs": [],
   "source": [
    "# Define continental domain\n",
    "print(\"Delineating continental domain...\")\n",
    "print(f\"Method: {confluence.config['DOMAIN_DEFINITION_METHOD']}\")\n",
    "print(f\"Stream threshold: {confluence.config['STREAM_THRESHOLD']} (high for continent)\")\n",
    "print(f\"MPI processes: {confluence.config['MPI_PROCESSES']} (parallel processing)\")\n",
    "print(\"This creates thousands of watersheds across North America...\")\n",
    "print(\"⚠️ Warning: This step may take several hours on high-performance computing resources\")\n",
    "\n",
    "watershed_path = confluence.managers['domain'].define_domain()\n",
    "\n",
    "# Check results\n",
    "basin_path = project_dir / 'shapefiles' / 'river_basins'\n",
    "network_path = project_dir / 'shapefiles' / 'river_network'\n",
    "\n",
    "basin_count = 0\n",
    "if basin_path.exists():\n",
    "    basin_files = list(basin_path.glob('*.shp'))\n",
    "    if basin_files:\n",
    "        basins = gpd.read_file(basin_files[0])\n",
    "        basin_count = len(basins)\n",
    "        print(f\"\\n✓ Created {basin_count} watersheds across North America\")\n",
    "        print(f\"Total area: {basins.geometry.area.sum() / 1e6:.0f} km²\")\n",
    "\n",
    "network_count = 0\n",
    "if network_path.exists():\n",
    "    network_files = list(network_path.glob('*.shp'))\n",
    "    if network_files:\n",
    "        rivers = gpd.read_file(network_files[0])\n",
    "        network_count = len(rivers)\n",
    "        print(f\"✓ Created river network with {network_count} segments\")"
   ]
  },
  {
   "cell_type": "markdown",
   "metadata": {},
   "source": [
    "## 7. Continental Watershed Discretization\n",
    "Now we need to discretize our continental domain into GRUs and HRUs, which will create tens of thousands of computational units."
   ]
  },
  {
   "cell_type": "code",
   "execution_count": null,
   "metadata": {},
   "outputs": [],
   "source": [
    "# Discretize continental domain\n",
    "print(f\"Creating continental HRUs using method: {confluence.config['DOMAIN_DISCRETIZATION']}\")\n",
    "print(\"⚠️ Warning: This step may take many hours and require significant memory\")\n",
    "print(f\"Minimum GRU size: {confluence.config['MIN_GRU_SIZE']} km² (larger than regional domain)\")\n",
    "\n",
    "hru_path = confluence.managers['domain'].discretize_domain()\n",
    "\n",
    "# Check results\n",
    "hru_path = project_dir / 'shapefiles' / 'catchment'\n",
    "if hru_path.exists():\n",
    "    hru_files = list(hru_path.glob('*.shp'))\n",
    "    if hru_files:\n",
    "        # Note: For continental scale, we might not want to load all HRUs at once\n",
    "        print(\"\\n⚠️ Continental HRU file may be very large. Loading sample statistics instead.\")\n",
    "        \n",
    "        # Get basic file stats without loading entire shapefile\n",
    "        hru_file_size = hru_files[0].stat().st_size / (1024**2)  # Size in MB\n",
    "        print(f\"HRU shapefile size: {hru_file_size:.1f} MB\")\n",
    "        \n",
    "        # Option to load a small sample of HRUs for statistics\n",
    "        print(\"Loading small sample of HRUs for statistics...\")\n",
    "        sample_size = min(1000, basin_count)  # Limit sample size\n",
    "        hru_sample = gpd.read_file(hru_files[0], rows=slice(0, sample_size))\n",
    "        \n",
    "        print(f\"Sample contains {len(hru_sample)} HRUs\")\n",
    "        sample_grus = hru_sample['GRU_ID'].nunique()\n",
    "        print(f\"GRUs in sample: {sample_grus}\")\n",
    "        \n",
    "        # Estimate total counts\n",
    "        if basin_count > 0 and sample_grus > 0:\n",
    "            est_hru_total = len(hru_sample) * (basin_count / sample_grus)\n",
    "            print(f\"Estimated total HRUs: ~{est_hru_total:.0f} (based on sample)\")\n",
    "        \n",
    "        print(\"\\nContinental statistics:\")\n",
    "        print(f\"  - Total watersheds (GRUs): ~{basin_count}\")\n",
    "        print(f\"  - Computational units (HRUs): Tens to hundreds of thousands\")\n",
    "        print(f\"  - Domain extent: {abs(lat_max - lat_min):.1f}° latitude × {abs(lon_max - lon_min):.1f}° longitude\")"
   ]
  },
  {
   "cell_type": "markdown",
   "metadata": {},
   "source": [
    "## 8. Model Agnostic Processing - Continental Forcing Data\n",
    "For continental domains, forcing data acquisition and processing is particularly data-intensive."
   ]
  },
  {
   "cell_type": "code",
   "execution_count": null,
   "metadata": {},
   "outputs": [],
   "source": [
    "# Step 3: Model Agnostic Data Pre-Processing\n",
    "print(\"=== Step 3: Model Agnostic Data Pre-Processing ===\")\n",
    "\n",
    "# Process observed data\n",
    "print(\"Processing observed streamflow data...\")\n",
    "print(\"Note: For continental modeling, we often use a subset of gauged watersheds for evaluation\")\n",
    "confluence.managers['data'].process_observed_data()\n",
    "\n",
    "# Acquire continental-scale forcings\n",
    "print(f\"\\nAcquiring continental forcing data: {confluence.config['FORCING_DATASET']}\")\n",
    "print(\"Expected data size: 10s to 100s of GB\")\n",
    "print(f\"Period: {confluence.config['EXPERIMENT_TIME_START']} to {confluence.config['EXPERIMENT_TIME_END']}\")\n",
    "print(\"⚠️ Warning: This step will take several hours and require significant storage\")\n",
    "confluence.managers['data'].acquire_forcings()\n",
    "\n",
    "# Run model-agnostic preprocessing\n",
    "print(\"\\nRunning continental-scale model-agnostic preprocessing...\")\n",
    "print(\"This step remaps climate data to tens of thousands of HRUs\")\n",
    "print(\"⚠️ Warning: High memory requirements (10s of GB)\")\n",
    "confluence.managers['data'].run_model_agnostic_preprocessing()"
   ]
  },
  {
   "cell_type": "markdown",
   "metadata": {},
   "source": [
    "## 9. Model-Specific Preprocessing for Continental Domain\n",
    "Preparing model input files for continental-scale modeling presents unique challenges."
   ]
  },
  {
   "cell_type": "code",
   "execution_count": null,
   "metadata": {},
   "outputs": [],
   "source": [
    "# Step 4: Model Specific Processing and Initialization\n",
    "print(\"=== Step 4: Model Specific Processing and Initialization ===\")\n",
    "\n",
    "# Preprocess models\n",
    "print(f\"Preparing continental-scale {confluence.config['HYDROLOGICAL_MODEL']} input files...\")\n",
    "print(f\"Model: {confluence.config['HYDROLOGICAL_MODEL']}\")\n",
    "print(f\"Routing: {confluence.config['ROUTING_MODEL']}\")\n",
    "print(\"⚠️ Warning: This will create very large input files\")\n",
    "print(\"Expected file sizes: Several GB per input file\")\n",
    "confluence.managers['model'].preprocess_models()\n",
    "\n",
    "print(\"\\n=== Continental Model Configuration Complete ===\")\n",
    "print(f\"Model: {confluence.config['HYDROLOGICAL_MODEL']}\")\n",
    "print(f\"Domain: {confluence.config['DOMAIN_NAME']}\")\n",
    "print(f\"Number of GRUs: ~{basin_count}\")\n",
    "print(\"Number of HRUs: Tens to hundreds of thousands\")\n",
    "print(\"\\nModel is now ready for execution with high-performance computing resources\")"
   ]
  },
  {
   "cell_type": "markdown",
   "metadata": {},
   "source": [
    "## 10. Continental Model Running Considerations\n",
    "For demonstration, we'll discuss running a continental model without actually running it, as it would require significant computational resources."
   ]
  },
  {
   "cell_type": "code",
   "execution_count": null,
   "metadata": {},
   "outputs": [],
   "source": [
    "# Note: We don't actually run the continental model here\n",
    "print(\"=== Continental Model Execution Considerations ===\")\n",
    "print(\"Running a continental-scale model requires significant HPC resources.\")\n",
    "print(\"\\nTo run the model (when adequate resources are available):\")\n",
    "print(\"  confluence.managers['model'].run_models()\")\n",
    "\n",
    "print(\"\\nTypical resource requirements:\")\n",
    "print(\"  - Memory: 100+ GB RAM\")\n",
    "print(\"  - CPU: 40+ cores for parallel processing\")\n",
    "print(\"  - Storage: 1+ TB for inputs/outputs\")\n",
    "print(\"  - Runtime: Days to weeks\")\n",
    "\n",
    "print(\"\\nCommon execution strategies:\")\n",
    "print(\"  1. Break continent into regions and run separately\")\n",
    "print(\"  2. Use MPI for massive parallelization\")\n",
    "print(\"  3. Run shorter test periods before full simulation\")\n",
    "print(\"  4. Use HPC job scheduling for long-running simulations\")\n",
    "\n",
    "print(\"\\nFor this tutorial, we've completed the continental model setup\")\n",
    "print(\"without running the full model due to computational constraints.\")"
   ]
  },
  {
   "cell_type": "markdown",
   "metadata": {},
   "source": [
    "## 11. Continental-Scale Considerations\n",
    "\n",
    "### Computational Requirements\n",
    "- **Memory**: 100+ GB for data processing\n",
    "- **Storage**: 1+ TB for inputs/outputs\n",
    "- **CPU**: High parallelization (40+ cores)\n",
    "- **Runtime**: Days to weeks for full simulations\n",
    "\n",
    "### Key Configuration Differences\n",
    "```yaml\n",
    "STREAM_THRESHOLD: 7500        # Higher for continental scale\n",
    "MPI_PROCESSES: 40            # More parallel processes\n",
    "MIN_GRU_SIZE: 50             # Larger minimum size to manage computational load\n",
    "FORCING_DATASET: ERA5        # Global reanalysis data\n",
    "```\n",
    "\n",
    "### Challenges at Continental Scale\n",
    "1. **Data Volume**: TB of input/output data\n",
    "2. **Heterogeneity**: Diverse climates, terrains, vegetation\n",
    "3. **Calibration**: How to calibrate thousands of watersheds?\n",
    "4. **Validation**: Limited observations for many basins\n",
    "5. **Computation**: Requires HPC resources\n",
    "\n",
    "### Use Cases\n",
    "- Climate change impact assessment\n",
    "- Continental water balance\n",
    "- Large-scale flood forecasting\n",
    "- Water resources planning\n",
    "- Earth system modeling"
   ]
  },
  {
   "cell_type": "markdown",
   "metadata": {},
   "source": [
    "## 12. Summary\n",
    "Let's summarize what we've accomplished with our continental-scale setup."
   ]
  },
  {
   "cell_type": "code",
   "execution_count": null,
   "metadata": {},
   "outputs": [],
   "source": [
    "# Final summary\n",
    "print(\"=== Continental Model Setup Complete ===\\n\")\n",
    "print(f\"Domain: {confluence.config['DOMAIN_NAME']}\")\n",
    "print(f\"Scale: Continental (~24.7 million km²)\")\n",
    "print(f\"Model: {confluence.config['HYDROLOGICAL_MODEL']}\")\n",
    "print(f\"Status: Ready for simulation\")\n",
    "\n",
    "print(\"\\nScale progression in tutorials:\")\n",
    "print(\"  1. Watershed: Bow at Banff (~2,200 km²)\")\n",
    "print(\"  2. Country: Iceland (~103,000 km²)\")\n",
    "print(\"  3. Continent: North America (~24,700,000 km²)\")\n",
    "\n",
    "print(\"\\nKey output locations:\")\n",
    "print(f\"  - Basin shapefiles: {basin_path}\")\n",
    "print(f\"  - River network: {network_path}\")\n",
    "print(f\"  - HRU shapefiles: {hru_path}\")\n",
    "print(f\"  - Model settings: {project_dir}/settings/{confluence.config['HYDROLOGICAL_MODEL']}/\")\n",
    "print(f\"  - Future simulation results: {project_dir}/simulations/{confluence.config['EXPERIMENT_ID']}/\")\n",
    "\n",
    "print(\"\\n🎉 You've successfully scaled from watershed to continent!\")"
   ]
  }
 ],
 "metadata": {
  "kernelspec": {
   "display_name": "Python 3 (ipykernel)",
   "language": "python",
   "name": "python3"
  },
  "language_info": {
   "codemirror_mode": {
    "name": "ipython",
    "version": 3
   },
   "file_extension": ".py",
   "mimetype": "text/x-python",
   "name": "python",
   "nbconvert_exporter": "python",
   "pygments_lexer": "ipython3",
   "version": "3.11.7"
  }
 },
 "nbformat": 4,
 "nbformat_minor": 4
}
