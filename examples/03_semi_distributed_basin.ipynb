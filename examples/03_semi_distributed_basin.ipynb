{
 "cells": [
  {
   "cell_type": "markdown",
   "metadata": {},
   "source": [
    "# CONFLUENCE Tutorial: Distributed Basin Workflow with Delineation\n",
    "\n",
    "This notebook demonstrates the distributed modeling approach using the delineation method. We'll use the same Bow River at Banff location but create a distributed model with multiple GRUs (Grouped Response Units).\n",
    "\n",
    "## Key Differences from Lumped Model\n",
    "\n",
    "- **Domain Method**: `delineate` instead of `lumped`\n",
    "- **Stream Threshold**: 5000 (creates more sub-basins)\n",
    "- **Multiple GRUs**: Each sub-basin becomes a GRU\n",
    "- **Routing**: mizuRoute connects the GRUs\n",
    "\n",
    "## Learning Objectives\n",
    "\n",
    "1. Understand watershed delineation with stream networks\n",
    "2. Create a distributed model with multiple GRUs"
   ]
  },
  {
   "cell_type": "markdown",
   "metadata": {},
   "source": [
    "## 1. Setup and Import Libraries"
   ]
  },
  {
   "cell_type": "code",
   "execution_count": 1,
   "metadata": {},
   "outputs": [],
   "source": [
    "# Import required libraries\n",
    "import sys\n",
    "import os\n",
    "from pathlib import Path\n",
    "import yaml\n",
    "import pandas as pd\n",
    "import matplotlib.pyplot as plt\n",
    "import geopandas as gpd\n",
    "from datetime import datetime\n",
    "import numpy as np\n",
    "import contextily as cx\n",
    "import xarray as xr\n",
    "from IPython.display import Image, display\n",
    "\n",
    "# Add CONFLUENCE to path\n",
    "confluence_path = Path('../').resolve()\n",
    "sys.path.append(str(confluence_path))\n",
    "\n",
    "# Import main CONFLUENCE class\n",
    "from CONFLUENCE import CONFLUENCE\n",
    "\n",
    "# Set up plotting style\n",
    "plt.style.use('default')\n",
    "%matplotlib inline"
   ]
  },
  {
   "cell_type": "markdown",
   "metadata": {},
   "source": [
    "## 2. Initialize CONFLUENCE\n",
    "First, let's set up our directories and load the configuration. We'll modify the configuration from Tutorial 1 to create a distributed model."
   ]
  },
  {
   "cell_type": "code",
   "execution_count": 3,
   "metadata": {},
   "outputs": [
    {
     "name": "stdout",
     "output_type": "stream",
     "text": [
      "09:23:41 - INFO - ============================================================\n"
     ]
    },
    {
     "name": "stderr",
     "output_type": "stream",
     "text": [
      "2025-05-13 09:23:41,914 - confluence_general - INFO - ============================================================\n"
     ]
    },
    {
     "name": "stdout",
     "output_type": "stream",
     "text": [
      "09:23:41 - INFO - CONFLUENCE Logging Initialized\n"
     ]
    },
    {
     "name": "stderr",
     "output_type": "stream",
     "text": [
      "2025-05-13 09:23:41,915 - confluence_general - INFO - CONFLUENCE Logging Initialized\n"
     ]
    },
    {
     "name": "stdout",
     "output_type": "stream",
     "text": [
      "09:23:41 - INFO - Domain: Bow_at_Banff_distributed\n"
     ]
    },
    {
     "name": "stderr",
     "output_type": "stream",
     "text": [
      "2025-05-13 09:23:41,917 - confluence_general - INFO - Domain: Bow_at_Banff_distributed\n"
     ]
    },
    {
     "name": "stdout",
     "output_type": "stream",
     "text": [
      "09:23:41 - INFO - Experiment ID: distributed_tutorial\n"
     ]
    },
    {
     "name": "stderr",
     "output_type": "stream",
     "text": [
      "2025-05-13 09:23:41,918 - confluence_general - INFO - Experiment ID: distributed_tutorial\n"
     ]
    },
    {
     "name": "stdout",
     "output_type": "stream",
     "text": [
      "09:23:41 - INFO - Log Level: INFO\n"
     ]
    },
    {
     "name": "stderr",
     "output_type": "stream",
     "text": [
      "2025-05-13 09:23:41,920 - confluence_general - INFO - Log Level: INFO\n"
     ]
    },
    {
     "name": "stdout",
     "output_type": "stream",
     "text": [
      "09:23:41 - INFO - Log File: /work/comphyd_lab/data/CONFLUENCE_data/domain_Bow_at_Banff_distributed/_workLog_Bow_at_Banff_distributed/confluence_general_Bow_at_Banff_distributed_20250513_092341.log\n"
     ]
    },
    {
     "name": "stderr",
     "output_type": "stream",
     "text": [
      "2025-05-13 09:23:41,921 - confluence_general - INFO - Log File: /work/comphyd_lab/data/CONFLUENCE_data/domain_Bow_at_Banff_distributed/_workLog_Bow_at_Banff_distributed/confluence_general_Bow_at_Banff_distributed_20250513_092341.log\n"
     ]
    },
    {
     "name": "stdout",
     "output_type": "stream",
     "text": [
      "09:23:41 - INFO - ============================================================\n"
     ]
    },
    {
     "name": "stderr",
     "output_type": "stream",
     "text": [
      "2025-05-13 09:23:41,923 - confluence_general - INFO - ============================================================\n"
     ]
    },
    {
     "name": "stdout",
     "output_type": "stream",
     "text": [
      "09:23:41 - INFO - Configuration logged to: /work/comphyd_lab/data/CONFLUENCE_data/domain_Bow_at_Banff_distributed/_workLog_Bow_at_Banff_distributed/config_Bow_at_Banff_distributed_20250513_092341.yaml\n"
     ]
    },
    {
     "name": "stderr",
     "output_type": "stream",
     "text": [
      "2025-05-13 09:23:41,945 - confluence_general - INFO - Configuration logged to: /work/comphyd_lab/data/CONFLUENCE_data/domain_Bow_at_Banff_distributed/_workLog_Bow_at_Banff_distributed/config_Bow_at_Banff_distributed_20250513_092341.yaml\n"
     ]
    },
    {
     "name": "stdout",
     "output_type": "stream",
     "text": [
      "09:23:42 - INFO - Initializing CONFLUENCE system\n"
     ]
    },
    {
     "name": "stderr",
     "output_type": "stream",
     "text": [
      "2025-05-13 09:23:42,012 - confluence_general - INFO - Initializing CONFLUENCE system\n"
     ]
    },
    {
     "name": "stdout",
     "output_type": "stream",
     "text": [
      "09:23:42 - INFO - Configuration loaded from: /home/darri.eythorsson/code/CONFLUENCE/0_config_files/config_distributed.yaml\n"
     ]
    },
    {
     "name": "stderr",
     "output_type": "stream",
     "text": [
      "2025-05-13 09:23:42,014 - confluence_general - INFO - Configuration loaded from: /home/darri.eythorsson/code/CONFLUENCE/0_config_files/config_distributed.yaml\n"
     ]
    },
    {
     "name": "stdout",
     "output_type": "stream",
     "text": [
      "09:23:42 - INFO - Initializing VariableHandler for dataset: ERA5 and model: SUMMA\n"
     ]
    },
    {
     "name": "stderr",
     "output_type": "stream",
     "text": [
      "2025-05-13 09:23:42,016 - confluence_general - INFO - Initializing VariableHandler for dataset: ERA5 and model: SUMMA\n"
     ]
    },
    {
     "name": "stdout",
     "output_type": "stream",
     "text": [
      "09:23:42 - INFO - CONFLUENCE system initialized successfully\n"
     ]
    },
    {
     "name": "stderr",
     "output_type": "stream",
     "text": [
      "2025-05-13 09:23:42,349 - confluence_general - INFO - CONFLUENCE system initialized successfully\n"
     ]
    },
    {
     "name": "stdout",
     "output_type": "stream",
     "text": [
      "=== Directory Configuration ===\n",
      "Code Directory: /home/darri.eythorsson/code/CONFLUENCE\n",
      "Data Directory: /work/comphyd_lab/data/CONFLUENCE_data\n",
      "\n",
      "=== Key Configuration Settings ===\n",
      "Domain Name: Bow_at_Banff_distributed\n",
      "Pour Point: 51.1722/-115.5717\n",
      "Domain Method: delineate\n",
      "Stream Threshold: 5000\n",
      "Spatial Mode: Distributed\n",
      "Model: SUMMA\n",
      "Simulation Period: 2018-01-01 01:00 to 2018-12-31 23:00\n"
     ]
    }
   ],
   "source": [
    "# Set directory paths\n",
    "CONFLUENCE_CODE_DIR = confluence_path\n",
    "CONFLUENCE_DATA_DIR = Path('/work/comphyd_lab/data/CONFLUENCE_data')  # ← User should modify this path\n",
    "\n",
    "# Load template configuration\n",
    "config_path = CONFLUENCE_CODE_DIR / '0_config_files' / 'config_template.yaml'\n",
    "\n",
    "# Read config file\n",
    "with open(config_path, 'r') as f:\n",
    "    config_dict = yaml.safe_load(f)\n",
    "\n",
    "# Update core paths\n",
    "config_dict['CONFLUENCE_CODE_DIR'] = str(CONFLUENCE_CODE_DIR)\n",
    "config_dict['CONFLUENCE_DATA_DIR'] = str(CONFLUENCE_DATA_DIR)\n",
    "\n",
    "# Modify for distributed delineation\n",
    "config_dict['DOMAIN_NAME'] = 'Bow_at_Banff_distributed'\n",
    "config_dict['EXPERIMENT_ID'] = 'distributed_tutorial'\n",
    "config_dict['DOMAIN_DEFINITION_METHOD'] = 'delineate'  # Changed from 'lumped'\n",
    "config_dict['STREAM_THRESHOLD'] = 5000  # Higher threshold for fewer sub-basins\n",
    "config_dict['DOMAIN_DISCRETIZATION'] = 'GRUs'  # Keep as GRUs\n",
    "config_dict['SPATIAL_MODE'] = 'Distributed'  # Changed from 'Lumped'\n",
    "\n",
    "# Save updated config to a temporary file\n",
    "temp_config_path = CONFLUENCE_CODE_DIR / '0_config_files' / 'config_distributed.yaml'\n",
    "with open(temp_config_path, 'w') as f:\n",
    "    yaml.dump(config_dict, f)\n",
    "\n",
    "# Initialize CONFLUENCE\n",
    "confluence = CONFLUENCE(temp_config_path)\n",
    "\n",
    "# Display configuration\n",
    "print(\"=== Directory Configuration ===\")\n",
    "print(f\"Code Directory: {CONFLUENCE_CODE_DIR}\")\n",
    "print(f\"Data Directory: {CONFLUENCE_DATA_DIR}\")\n",
    "print(\"\\n=== Key Configuration Settings ===\")\n",
    "print(f\"Domain Name: {confluence.config['DOMAIN_NAME']}\")\n",
    "print(f\"Pour Point: {confluence.config['POUR_POINT_COORDS']}\")\n",
    "print(f\"Domain Method: {confluence.config['DOMAIN_DEFINITION_METHOD']}\")\n",
    "print(f\"Stream Threshold: {confluence.config['STREAM_THRESHOLD']}\")\n",
    "print(f\"Spatial Mode: {confluence.config['SPATIAL_MODE']}\")\n",
    "print(f\"Model: {confluence.config['HYDROLOGICAL_MODEL']}\")\n",
    "print(f\"Simulation Period: {confluence.config['EXPERIMENT_TIME_START']} to {confluence.config['EXPERIMENT_TIME_END']}\")"
   ]
  },
  {
   "cell_type": "markdown",
   "metadata": {},
   "source": [
    "## 3. Project Setup - Organizing the Modeling Workflow\n",
    "\n",
    "First, we'll establish a well-organized project structure, similar to what we did in Tutorial 1."
   ]
  },
  {
   "cell_type": "code",
   "execution_count": 4,
   "metadata": {},
   "outputs": [
    {
     "name": "stdout",
     "output_type": "stream",
     "text": [
      "=== Step 1: Project Initialization ===\n",
      "09:23:45 - INFO - Setting up project for domain: Bow_at_Banff_distributed\n"
     ]
    },
    {
     "name": "stderr",
     "output_type": "stream",
     "text": [
      "2025-05-13 09:23:45,446 - confluence_general - INFO - Setting up project for domain: Bow_at_Banff_distributed\n"
     ]
    },
    {
     "name": "stdout",
     "output_type": "stream",
     "text": [
      "09:23:45 - INFO - Project directory created at: /work/comphyd_lab/data/CONFLUENCE_data/domain_Bow_at_Banff_distributed\n"
     ]
    },
    {
     "name": "stderr",
     "output_type": "stream",
     "text": [
      "2025-05-13 09:23:45,481 - confluence_general - INFO - Project directory created at: /work/comphyd_lab/data/CONFLUENCE_data/domain_Bow_at_Banff_distributed\n",
      "2025-05-13 09:23:45,566 - pyogrio._io - INFO - Created 1 records\n"
     ]
    },
    {
     "name": "stdout",
     "output_type": "stream",
     "text": [
      "09:23:45 - INFO - Pour point shapefile created successfully: /work/comphyd_lab/data/CONFLUENCE_data/domain_Bow_at_Banff_distributed/shapefiles/pour_point/Bow_at_Banff_distributed_pourPoint.shp\n"
     ]
    },
    {
     "name": "stderr",
     "output_type": "stream",
     "text": [
      "2025-05-13 09:23:45,569 - confluence_general - INFO - Pour point shapefile created successfully: /work/comphyd_lab/data/CONFLUENCE_data/domain_Bow_at_Banff_distributed/shapefiles/pour_point/Bow_at_Banff_distributed_pourPoint.shp\n"
     ]
    },
    {
     "name": "stdout",
     "output_type": "stream",
     "text": [
      "\n",
      "Created directories:\n",
      "  📁 _workLog_Bow_at_Banff_distributed\n",
      "  📁 attributes\n",
      "  📁 documentation\n",
      "  📁 forcing\n",
      "  📁 observations\n",
      "  📁 optimisation\n",
      "  📁 plots\n",
      "  📁 results\n",
      "  📁 settings\n",
      "  📁 shapefiles\n",
      "  📁 simulations\n",
      "  📁 taudem-interim-files\n",
      "\n",
      "Note: The pour point location is identical to the lumped model.\n",
      "The difference is in how we subdivide the watershed above this point.\n"
     ]
    }
   ],
   "source": [
    "# Step 1: Project Initialization\n",
    "print(\"=== Step 1: Project Initialization ===\")\n",
    "\n",
    "# Setup project\n",
    "project_dir = confluence.managers['project'].setup_project()\n",
    "\n",
    "# Create pour point\n",
    "pour_point_path = confluence.managers['project'].create_pour_point()\n",
    "\n",
    "# List created directories\n",
    "print(\"\\nCreated directories:\")\n",
    "for item in sorted(project_dir.iterdir()):\n",
    "    if item.is_dir():\n",
    "        print(f\"  📁 {item.name}\")\n",
    "\n",
    "print(\"\\nNote: The pour point location is identical to the lumped model.\")\n",
    "print(\"The difference is in how we subdivide the watershed above this point.\")"
   ]
  },
  {
   "cell_type": "markdown",
   "metadata": {},
   "source": [
    "## 4. Geospatial Domain Definition - Data Acquisition and Preparation\n",
    "\n",
    "We'll reuse some of the geospatial data from the lumped model tutorial, where appropriate."
   ]
  },
  {
   "cell_type": "code",
   "execution_count": 5,
   "metadata": {
    "scrolled": true
   },
   "outputs": [
    {
     "name": "stdout",
     "output_type": "stream",
     "text": [
      "Found existing geospatial data from lumped model. Copying and renaming files...\n",
      "✓ Copied and renamed attribute files from lumped model\n",
      "✓ Copied and renamed forcing data from lumped model\n",
      "The distributed model will use these copied files as a starting point.\n",
      "\n",
      "✓ Geospatial attributes acquired\n"
     ]
    }
   ],
   "source": [
    "# Check if we can reuse data from the lumped model\n",
    "lumped_dem_path = CONFLUENCE_DATA_DIR / 'domain_Bow_at_Banff_lumped' / 'attributes' / 'elevation' / 'dem'\n",
    "lumped_forcing_path = CONFLUENCE_DATA_DIR / 'domain_Bow_at_Banff_lumped' / 'forcing' / 'raw_data'\n",
    "can_reuse = lumped_dem_path.exists()\n",
    "can_reuse_forcing = lumped_forcing_path.exists()\n",
    "\n",
    "if can_reuse or can_reuse_forcing:\n",
    "    import shutil\n",
    "    \n",
    "    # Create a function to copy files with name substitution\n",
    "    def copy_with_name_substitution(src_path, dst_path, old_str='_lumped', new_str='_distributed'):\n",
    "        if not src_path.exists():\n",
    "            return False\n",
    "            \n",
    "        # Create destination directory if it doesn't exist\n",
    "        dst_path.parent.mkdir(parents=True, exist_ok=True)\n",
    "        \n",
    "        if src_path.is_dir():\n",
    "            # Copy entire directory\n",
    "            if not dst_path.exists():\n",
    "                dst_path.mkdir(parents=True, exist_ok=True)\n",
    "                \n",
    "            # Copy all files with name substitution\n",
    "            for src_file in src_path.glob('**/*'):\n",
    "                if src_file.is_file():\n",
    "                    # Create relative path\n",
    "                    rel_path = src_file.relative_to(src_path)\n",
    "                    # Create new filename with substitution\n",
    "                    new_name = src_file.name.replace(old_str, new_str)\n",
    "                    # Create destination path\n",
    "                    dst_file = dst_path / rel_path.parent / new_name\n",
    "                    # Create parent directories if they don't exist\n",
    "                    dst_file.parent.mkdir(parents=True, exist_ok=True)\n",
    "                    # Copy the file\n",
    "                    shutil.copy2(src_file, dst_file)\n",
    "            return True\n",
    "        elif src_path.is_file():\n",
    "            # Copy single file with name substitution\n",
    "            new_name = dst_path.name.replace(old_str, new_str)\n",
    "            dst_file = dst_path.parent / new_name\n",
    "            dst_file.parent.mkdir(parents=True, exist_ok=True)\n",
    "            shutil.copy2(src_path, dst_file)\n",
    "            return True\n",
    "        \n",
    "        return False\n",
    "\n",
    "    print(\"Found existing geospatial data from lumped model. Copying and renaming files...\")\n",
    "    \n",
    "    # Copy and rename DEM and other attribute data\n",
    "    if can_reuse:\n",
    "        # Define paths\n",
    "        src_attr_path = CONFLUENCE_DATA_DIR / 'domain_Bow_at_Banff_lumped' / 'attributes'\n",
    "        dst_attr_path = project_dir / 'attributes'\n",
    "        \n",
    "        # Copy attributes with name substitution\n",
    "        copied = copy_with_name_substitution(src_attr_path, dst_attr_path, '_lumped', '_distributed')\n",
    "        if copied:\n",
    "            print(\"✓ Copied and renamed attribute files from lumped model\")\n",
    "    \n",
    "    # Copy and rename forcing data\n",
    "    if can_reuse_forcing:\n",
    "        # Define paths\n",
    "        src_forcing_path = CONFLUENCE_DATA_DIR / 'domain_Bow_at_Banff_lumped' / 'forcing' / 'raw_data'\n",
    "        dst_forcing_path = project_dir / 'forcing' / 'raw_data'\n",
    "        \n",
    "        # Copy forcing data with name substitution\n",
    "        copied = copy_with_name_substitution(src_forcing_path, dst_forcing_path, '_lumped', '_distributed')\n",
    "        if copied:\n",
    "            print(\"✓ Copied and renamed forcing data from lumped model\")\n",
    "            \n",
    "    print(\"The distributed model will use these copied files as a starting point.\")\n",
    "else:\n",
    "    print(\"No existing data found from the lumped model. Will acquire all data from scratch.\")\n",
    "\n",
    "    # Step 2: Geospatial Domain Definition - Data Acquisition\n",
    "    print(\"\\n=== Step 2: Geospatial Domain Definition - Data Acquisition ===\")\n",
    "    \n",
    "    # Acquire attributes\n",
    "    print(\"Acquiring geospatial attributes (DEM, soil, land cover)...\")\n",
    "    confluence.managers['data'].acquire_attributes()\n",
    "\n",
    "    # Acquire forcings\n",
    "    print(f\"\\nAcquiring forcing data: {confluence.config['FORCING_DATASET']}\")\n",
    "    confluence.managers['data'].acquire_forcings()\n",
    "    \n",
    "print(\"\\n✓ Geospatial attributes acquired\")"
   ]
  },
  {
   "cell_type": "markdown",
   "metadata": {},
   "source": [
    "## 6. Geospatial Domain Definition - Delineation with Stream Network\n",
    "\n",
    "This is where the main difference occurs - we'll create multiple sub-basins connected by a stream network."
   ]
  },
  {
   "cell_type": "code",
   "execution_count": 6,
   "metadata": {
    "scrolled": true
   },
   "outputs": [
    {
     "name": "stdout",
     "output_type": "stream",
     "text": [
      "=== Step 3: Geospatial Domain Definition - Delineation ===\n",
      "Delineating distributed watershed...\n",
      "Method: delineate\n",
      "Stream threshold: 5000\n",
      "\n",
      "This will create multiple sub-basins connected by a stream network.\n",
      "09:24:53 - INFO - Domain definition workflow starting with: delineate\n"
     ]
    },
    {
     "name": "stderr",
     "output_type": "stream",
     "text": [
      "2025-05-13 09:24:53,389 - confluence_general - INFO - Domain definition workflow starting with: delineate\n"
     ]
    },
    {
     "name": "stdout",
     "output_type": "stream",
     "text": [
      "09:24:53 - INFO - Starting geofabric delineation\n"
     ]
    },
    {
     "name": "stderr",
     "output_type": "stream",
     "text": [
      "2025-05-13 09:24:53,391 - confluence_general - INFO - Starting geofabric delineation\n"
     ]
    },
    {
     "name": "stdout",
     "output_type": "stream",
     "text": [
      "09:24:53 - INFO - Geofabric delineation completed successfully\n"
     ]
    },
    {
     "name": "stderr",
     "output_type": "stream",
     "text": [
      "2025-05-13 09:24:53,393 - confluence_general - INFO - Geofabric delineation completed successfully\n"
     ]
    },
    {
     "name": "stdout",
     "output_type": "stream",
     "text": [
      "09:24:53 - INFO - Starting geofabric delineation for Bow_at_Banff_distributed\n"
     ]
    },
    {
     "name": "stderr",
     "output_type": "stream",
     "text": [
      "2025-05-13 09:24:53,395 - confluence_general - INFO - Starting geofabric delineation for Bow_at_Banff_distributed\n"
     ]
    },
    {
     "name": "stdout",
     "output_type": "stream",
     "text": [
      "09:24:53 - INFO - Created interim directory: /work/comphyd_lab/data/CONFLUENCE_data/domain_Bow_at_Banff_distributed/taudem-interim-files/d8\n"
     ]
    },
    {
     "name": "stderr",
     "output_type": "stream",
     "text": [
      "2025-05-13 09:24:53,413 - confluence_general - INFO - Created interim directory: /work/comphyd_lab/data/CONFLUENCE_data/domain_Bow_at_Banff_distributed/taudem-interim-files/d8\n"
     ]
    },
    {
     "name": "stdout",
     "output_type": "stream",
     "text": [
      "09:24:53 - INFO - Running command: mpirun -n 1 /work/comphyd_lab/data/CONFLUENCE_data/installs/TauDEM/bin/pitremove -z /work/comphyd_lab/data/CONFLUENCE_data/domain_Bow_at_Banff_distributed/attributes/elevation/dem/domain_Bow_at_Banff_distributed_elv.tif -fel /work/comphyd_lab/data/CONFLUENCE_data/domain_Bow_at_Banff_distributed/taudem-interim-files/d8/elv-fel.tif -v\n"
     ]
    },
    {
     "name": "stderr",
     "output_type": "stream",
     "text": [
      "2025-05-13 09:24:53,421 - confluence_general - INFO - Running command: mpirun -n 1 /work/comphyd_lab/data/CONFLUENCE_data/installs/TauDEM/bin/pitremove -z /work/comphyd_lab/data/CONFLUENCE_data/domain_Bow_at_Banff_distributed/attributes/elevation/dem/domain_Bow_at_Banff_distributed_elv.tif -fel /work/comphyd_lab/data/CONFLUENCE_data/domain_Bow_at_Banff_distributed/taudem-interim-files/d8/elv-fel.tif -v\n"
     ]
    },
    {
     "name": "stdout",
     "output_type": "stream",
     "text": [
      "09:24:54 - INFO - Command output: On input demfile: /work/comphyd_lab/data/CONFLUENCE_data/domain_Bow_at_Banff_distributed/attributes/elevation/dem/domain_Bow_at_Banff_distributed_elv.tif\n",
      "On input newfile: /work/comphyd_lab/data/CONFLUENCE_data/domain_Bow_at_Banff_distributed/taudem-interim-files/d8/elv-fel.tif\n",
      "Not Using mask file: N/A\n",
      "PitRemove version 5.3.9\n",
      "Input file /work/comphyd_lab/data/CONFLUENCE_data/domain_Bow_at_Banff_distributed/attributes/elevation/dem/domain_Bow_at_Banff_distributed_elv.tif has geographic coordinate system.\n",
      "Nodata value input to create partition from file: -9999.000000\n",
      "Nodata value recast to float used in partition raster: -9999.000000\n",
      "Header read\n",
      "Process: 0, totalX: 1260, totalY: 972\n",
      "Process: 0, nx: 1260, ny: 972\n",
      "Process: 0, xstart: 0, ystart: 0\n",
      "Data read\n",
      "Midpoint of partition: 0, nxm: 630, nym: 486, value: 2002.900024\n",
      "Planchon grid initialized rank: 0\n",
      "Rank: 0, Stack size: 102\n",
      "Rank: 0, Stack size: 100102\n",
      "Rank: 0, Stack size: 200102\n",
      "Rank: 0, Stack size: 300102\n",
      "Rank: 0, Stack size: 400102\n",
      "Rank: 0, Stack size: 500102\n",
      "Rank: 0, Stack size: 600102\n",
      "Rank: 0, Stack size: 700102\n",
      "Rank: 0, Stack size: 800102\n",
      "Rank: 0, Stack size: 900102\n",
      "Rank: 0, Stack size: 1000102\n",
      "Rank: 0, Stack size: 1100102\n",
      "Rank: 0, Stack size: 1200102\n",
      "Rank: 0, Stack size: 1300102\n",
      "Rank: 0, Stack size: 1400102\n",
      "Process: 0, Pass: 1, Remaining: 1441120\n",
      "Rank: 0, Stack 2 size: 102\n",
      "Rank: 0, Stack 2 size: 100102\n",
      "Rank: 0, Stack 2 size: 200102\n",
      "Rank: 0, Stack 2 size: 300102\n",
      "Rank: 0, Stack 2 size: 400102\n",
      "Process: 0, Pass: 2, Remaining: 460636\n",
      "Rank: 0, Stack 1 size: 102\n",
      "Rank: 0, Stack 1 size: 100102\n",
      "Process: 0, Pass: 3, Remaining: 188608\n",
      "Rank: 0, Stack 2 size: 102\n",
      "Rank: 0, Stack 2 size: 100102\n",
      "Process: 0, Pass: 4, Remaining: 101028\n",
      "Rank: 0, Stack 1 size: 102\n",
      "Process: 0, Pass: 5, Remaining: 54388\n",
      "Rank: 0, Stack 2 size: 102\n",
      "Process: 0, Pass: 6, Remaining: 28274\n",
      "Rank: 0, Stack 1 size: 102\n",
      "Process: 0, Pass: 7, Remaining: 17626\n",
      "Rank: 0, Stack 2 size: 102\n",
      "Process: 0, Pass: 8, Remaining: 11022\n",
      "Rank: 0, Stack 1 size: 102\n",
      "Process: 0, Pass: 9, Remaining: 7618\n",
      "Rank: 0, Stack 2 size: 102\n",
      "Process: 0, Pass: 10, Remaining: 4686\n",
      "Rank: 0, Stack 1 size: 102\n",
      "Process: 0, Pass: 11, Remaining: 3088\n",
      "Rank: 0, Stack 2 size: 102\n",
      "Process: 0, Pass: 12, Remaining: 1958\n",
      "Rank: 0, Stack 1 size: 102\n",
      "Process: 0, Pass: 13, Remaining: 1388\n",
      "Rank: 0, Stack 2 size: 102\n",
      "Process: 0, Pass: 14, Remaining: 998\n",
      "Rank: 0, Stack 1 size: 102\n",
      "Process: 0, Pass: 15, Remaining: 848\n",
      "Rank: 0, Stack 2 size: 102\n",
      "Process: 0, Pass: 16, Remaining: 622\n",
      "Rank: 0, Stack 1 size: 102\n",
      "Process: 0, Pass: 17, Remaining: 502\n",
      "Rank: 0, Stack 2 size: 102\n",
      "Process: 0, Pass: 18, Remaining: 346\n",
      "Rank: 0, Stack 1 size: 102\n",
      "Process: 0, Pass: 19, Remaining: 218\n",
      "Rank: 0, Stack 2 size: 102\n",
      "Process: 0, Pass: 20, Remaining: 164\n",
      "Rank: 0, Stack 1 size: 102\n",
      "Process: 0, Pass: 21, Remaining: 124\n",
      "Process: 0, Pass: 22, Remaining: 60\n",
      "Process: 0, Pass: 23, Remaining: 38\n",
      "Process: 0, Pass: 24, Remaining: 4\n",
      "Process: 0, Pass: 25, Remaining: 0\n",
      "Process: 0, Pass: 26, Remaining: 0\n",
      "Process: 0, Pass: 27, Remaining: 0\n",
      "About to write\n",
      "Result midpoint of partition: 0, nxm: 630, nym: 486, value: 2002.900024\n",
      "Partition: 0, written\n",
      "Processes: 1\n",
      "Header read time: 0.024022\n",
      "Data read time: 0.040220\n",
      "Compute time: 0.287688\n",
      "Write time: 0.107075\n",
      "Total time: 0.459005\n",
      "\n"
     ]
    },
    {
     "name": "stderr",
     "output_type": "stream",
     "text": [
      "2025-05-13 09:24:54,428 - confluence_general - INFO - Command output: On input demfile: /work/comphyd_lab/data/CONFLUENCE_data/domain_Bow_at_Banff_distributed/attributes/elevation/dem/domain_Bow_at_Banff_distributed_elv.tif\n",
      "On input newfile: /work/comphyd_lab/data/CONFLUENCE_data/domain_Bow_at_Banff_distributed/taudem-interim-files/d8/elv-fel.tif\n",
      "Not Using mask file: N/A\n",
      "PitRemove version 5.3.9\n",
      "Input file /work/comphyd_lab/data/CONFLUENCE_data/domain_Bow_at_Banff_distributed/attributes/elevation/dem/domain_Bow_at_Banff_distributed_elv.tif has geographic coordinate system.\n",
      "Nodata value input to create partition from file: -9999.000000\n",
      "Nodata value recast to float used in partition raster: -9999.000000\n",
      "Header read\n",
      "Process: 0, totalX: 1260, totalY: 972\n",
      "Process: 0, nx: 1260, ny: 972\n",
      "Process: 0, xstart: 0, ystart: 0\n",
      "Data read\n",
      "Midpoint of partition: 0, nxm: 630, nym: 486, value: 2002.900024\n",
      "Planchon grid initialized rank: 0\n",
      "Rank: 0, Stack size: 102\n",
      "Rank: 0, Stack size: 100102\n",
      "Rank: 0, Stack size: 200102\n",
      "Rank: 0, Stack size: 300102\n",
      "Rank: 0, Stack size: 400102\n",
      "Rank: 0, Stack size: 500102\n",
      "Rank: 0, Stack size: 600102\n",
      "Rank: 0, Stack size: 700102\n",
      "Rank: 0, Stack size: 800102\n",
      "Rank: 0, Stack size: 900102\n",
      "Rank: 0, Stack size: 1000102\n",
      "Rank: 0, Stack size: 1100102\n",
      "Rank: 0, Stack size: 1200102\n",
      "Rank: 0, Stack size: 1300102\n",
      "Rank: 0, Stack size: 1400102\n",
      "Process: 0, Pass: 1, Remaining: 1441120\n",
      "Rank: 0, Stack 2 size: 102\n",
      "Rank: 0, Stack 2 size: 100102\n",
      "Rank: 0, Stack 2 size: 200102\n",
      "Rank: 0, Stack 2 size: 300102\n",
      "Rank: 0, Stack 2 size: 400102\n",
      "Process: 0, Pass: 2, Remaining: 460636\n",
      "Rank: 0, Stack 1 size: 102\n",
      "Rank: 0, Stack 1 size: 100102\n",
      "Process: 0, Pass: 3, Remaining: 188608\n",
      "Rank: 0, Stack 2 size: 102\n",
      "Rank: 0, Stack 2 size: 100102\n",
      "Process: 0, Pass: 4, Remaining: 101028\n",
      "Rank: 0, Stack 1 size: 102\n",
      "Process: 0, Pass: 5, Remaining: 54388\n",
      "Rank: 0, Stack 2 size: 102\n",
      "Process: 0, Pass: 6, Remaining: 28274\n",
      "Rank: 0, Stack 1 size: 102\n",
      "Process: 0, Pass: 7, Remaining: 17626\n",
      "Rank: 0, Stack 2 size: 102\n",
      "Process: 0, Pass: 8, Remaining: 11022\n",
      "Rank: 0, Stack 1 size: 102\n",
      "Process: 0, Pass: 9, Remaining: 7618\n",
      "Rank: 0, Stack 2 size: 102\n",
      "Process: 0, Pass: 10, Remaining: 4686\n",
      "Rank: 0, Stack 1 size: 102\n",
      "Process: 0, Pass: 11, Remaining: 3088\n",
      "Rank: 0, Stack 2 size: 102\n",
      "Process: 0, Pass: 12, Remaining: 1958\n",
      "Rank: 0, Stack 1 size: 102\n",
      "Process: 0, Pass: 13, Remaining: 1388\n",
      "Rank: 0, Stack 2 size: 102\n",
      "Process: 0, Pass: 14, Remaining: 998\n",
      "Rank: 0, Stack 1 size: 102\n",
      "Process: 0, Pass: 15, Remaining: 848\n",
      "Rank: 0, Stack 2 size: 102\n",
      "Process: 0, Pass: 16, Remaining: 622\n",
      "Rank: 0, Stack 1 size: 102\n",
      "Process: 0, Pass: 17, Remaining: 502\n",
      "Rank: 0, Stack 2 size: 102\n",
      "Process: 0, Pass: 18, Remaining: 346\n",
      "Rank: 0, Stack 1 size: 102\n",
      "Process: 0, Pass: 19, Remaining: 218\n",
      "Rank: 0, Stack 2 size: 102\n",
      "Process: 0, Pass: 20, Remaining: 164\n",
      "Rank: 0, Stack 1 size: 102\n",
      "Process: 0, Pass: 21, Remaining: 124\n",
      "Process: 0, Pass: 22, Remaining: 60\n",
      "Process: 0, Pass: 23, Remaining: 38\n",
      "Process: 0, Pass: 24, Remaining: 4\n",
      "Process: 0, Pass: 25, Remaining: 0\n",
      "Process: 0, Pass: 26, Remaining: 0\n",
      "Process: 0, Pass: 27, Remaining: 0\n",
      "About to write\n",
      "Result midpoint of partition: 0, nxm: 630, nym: 486, value: 2002.900024\n",
      "Partition: 0, written\n",
      "Processes: 1\n",
      "Header read time: 0.024022\n",
      "Data read time: 0.040220\n",
      "Compute time: 0.287688\n",
      "Write time: 0.107075\n",
      "Total time: 0.459005\n",
      "\n"
     ]
    },
    {
     "name": "stdout",
     "output_type": "stream",
     "text": [
      "09:24:54 - INFO - Completed TauDEM step\n"
     ]
    },
    {
     "name": "stderr",
     "output_type": "stream",
     "text": [
      "2025-05-13 09:24:54,430 - confluence_general - INFO - Completed TauDEM step\n"
     ]
    },
    {
     "name": "stdout",
     "output_type": "stream",
     "text": [
      "09:24:54 - INFO - Running command: mpirun -n 1 /work/comphyd_lab/data/CONFLUENCE_data/installs/TauDEM/bin/d8flowdir -fel /work/comphyd_lab/data/CONFLUENCE_data/domain_Bow_at_Banff_distributed/taudem-interim-files/d8/elv-fel.tif -sd8 /work/comphyd_lab/data/CONFLUENCE_data/domain_Bow_at_Banff_distributed/taudem-interim-files/d8/elv-sd8.tif -p /work/comphyd_lab/data/CONFLUENCE_data/domain_Bow_at_Banff_distributed/taudem-interim-files/d8/elv-fdir.tif\n"
     ]
    },
    {
     "name": "stderr",
     "output_type": "stream",
     "text": [
      "2025-05-13 09:24:54,433 - confluence_general - INFO - Running command: mpirun -n 1 /work/comphyd_lab/data/CONFLUENCE_data/installs/TauDEM/bin/d8flowdir -fel /work/comphyd_lab/data/CONFLUENCE_data/domain_Bow_at_Banff_distributed/taudem-interim-files/d8/elv-fel.tif -sd8 /work/comphyd_lab/data/CONFLUENCE_data/domain_Bow_at_Banff_distributed/taudem-interim-files/d8/elv-sd8.tif -p /work/comphyd_lab/data/CONFLUENCE_data/domain_Bow_at_Banff_distributed/taudem-interim-files/d8/elv-fdir.tif\n"
     ]
    },
    {
     "name": "stdout",
     "output_type": "stream",
     "text": [
      "09:24:56 - INFO - Command output: D8FlowDir version 5.3.9\n",
      "Input file /work/comphyd_lab/data/CONFLUENCE_data/domain_Bow_at_Banff_distributed/taudem-interim-files/d8/elv-fel.tif has geographic coordinate system.\n",
      "Nodata value input to create partition from file: -300000000549775575777803994281145270272.000000\n",
      "Nodata value recast to float used in partition raster: -300000000549775575777803994281145270272.000000\n",
      "Processors: 1\n",
      "Header read time: 0.026093\n",
      "Data read time: 0.032654\n",
      "Compute Slope time: 0.290432\n",
      "Write Slope time: 0.140684\n",
      "Resolve Flat time: 0.709427\n",
      "Write Flat time: 0.066481\n",
      "Total time: 1.265771\n",
      "\n"
     ]
    },
    {
     "name": "stderr",
     "output_type": "stream",
     "text": [
      "2025-05-13 09:24:56,102 - confluence_general - INFO - Command output: D8FlowDir version 5.3.9\n",
      "Input file /work/comphyd_lab/data/CONFLUENCE_data/domain_Bow_at_Banff_distributed/taudem-interim-files/d8/elv-fel.tif has geographic coordinate system.\n",
      "Nodata value input to create partition from file: -300000000549775575777803994281145270272.000000\n",
      "Nodata value recast to float used in partition raster: -300000000549775575777803994281145270272.000000\n",
      "Processors: 1\n",
      "Header read time: 0.026093\n",
      "Data read time: 0.032654\n",
      "Compute Slope time: 0.290432\n",
      "Write Slope time: 0.140684\n",
      "Resolve Flat time: 0.709427\n",
      "Write Flat time: 0.066481\n",
      "Total time: 1.265771\n",
      "\n"
     ]
    },
    {
     "name": "stdout",
     "output_type": "stream",
     "text": [
      "09:24:56 - INFO - Completed TauDEM step\n"
     ]
    },
    {
     "name": "stderr",
     "output_type": "stream",
     "text": [
      "2025-05-13 09:24:56,104 - confluence_general - INFO - Completed TauDEM step\n"
     ]
    },
    {
     "name": "stdout",
     "output_type": "stream",
     "text": [
      "09:24:56 - INFO - Running command: mpirun -n 1 /work/comphyd_lab/data/CONFLUENCE_data/installs/TauDEM/bin/aread8 -p /work/comphyd_lab/data/CONFLUENCE_data/domain_Bow_at_Banff_distributed/taudem-interim-files/d8/elv-fdir.tif -ad8 /work/comphyd_lab/data/CONFLUENCE_data/domain_Bow_at_Banff_distributed/taudem-interim-files/d8/elv-ad8.tif -nc\n"
     ]
    },
    {
     "name": "stderr",
     "output_type": "stream",
     "text": [
      "2025-05-13 09:24:56,106 - confluence_general - INFO - Running command: mpirun -n 1 /work/comphyd_lab/data/CONFLUENCE_data/installs/TauDEM/bin/aread8 -p /work/comphyd_lab/data/CONFLUENCE_data/domain_Bow_at_Banff_distributed/taudem-interim-files/d8/elv-fdir.tif -ad8 /work/comphyd_lab/data/CONFLUENCE_data/domain_Bow_at_Banff_distributed/taudem-interim-files/d8/elv-ad8.tif -nc\n"
     ]
    },
    {
     "name": "stdout",
     "output_type": "stream",
     "text": [
      "09:24:56 - INFO - Command output: AreaD8 version 5.3.9\n",
      "Input file /work/comphyd_lab/data/CONFLUENCE_data/domain_Bow_at_Banff_distributed/taudem-interim-files/d8/elv-fdir.tif has geographic coordinate system.\n",
      "Nodata value input to create partition from file: -32768.000000\n",
      "Nodata value recast to int16_t used in partition raster: -32768\n",
      "Number of Processes: 1\n",
      "Read time: 0.034371\n",
      "Compute time: 0.332990\n",
      "Write time: 0.070669\n",
      "Total time: 0.438031\n",
      "\n"
     ]
    },
    {
     "name": "stderr",
     "output_type": "stream",
     "text": [
      "2025-05-13 09:24:56,972 - confluence_general - INFO - Command output: AreaD8 version 5.3.9\n",
      "Input file /work/comphyd_lab/data/CONFLUENCE_data/domain_Bow_at_Banff_distributed/taudem-interim-files/d8/elv-fdir.tif has geographic coordinate system.\n",
      "Nodata value input to create partition from file: -32768.000000\n",
      "Nodata value recast to int16_t used in partition raster: -32768\n",
      "Number of Processes: 1\n",
      "Read time: 0.034371\n",
      "Compute time: 0.332990\n",
      "Write time: 0.070669\n",
      "Total time: 0.438031\n",
      "\n"
     ]
    },
    {
     "name": "stdout",
     "output_type": "stream",
     "text": [
      "09:24:56 - INFO - Completed TauDEM step\n"
     ]
    },
    {
     "name": "stderr",
     "output_type": "stream",
     "text": [
      "2025-05-13 09:24:56,974 - confluence_general - INFO - Completed TauDEM step\n"
     ]
    },
    {
     "name": "stdout",
     "output_type": "stream",
     "text": [
      "09:24:56 - INFO - Running command: mpirun -n 1 /work/comphyd_lab/data/CONFLUENCE_data/installs/TauDEM/bin/gridnet -p /work/comphyd_lab/data/CONFLUENCE_data/domain_Bow_at_Banff_distributed/taudem-interim-files/d8/elv-fdir.tif -plen /work/comphyd_lab/data/CONFLUENCE_data/domain_Bow_at_Banff_distributed/taudem-interim-files/d8/elv-plen.tif -tlen /work/comphyd_lab/data/CONFLUENCE_data/domain_Bow_at_Banff_distributed/taudem-interim-files/d8/elv-tlen.tif -gord /work/comphyd_lab/data/CONFLUENCE_data/domain_Bow_at_Banff_distributed/taudem-interim-files/d8/elv-gord.tif\n"
     ]
    },
    {
     "name": "stderr",
     "output_type": "stream",
     "text": [
      "2025-05-13 09:24:56,976 - confluence_general - INFO - Running command: mpirun -n 1 /work/comphyd_lab/data/CONFLUENCE_data/installs/TauDEM/bin/gridnet -p /work/comphyd_lab/data/CONFLUENCE_data/domain_Bow_at_Banff_distributed/taudem-interim-files/d8/elv-fdir.tif -plen /work/comphyd_lab/data/CONFLUENCE_data/domain_Bow_at_Banff_distributed/taudem-interim-files/d8/elv-plen.tif -tlen /work/comphyd_lab/data/CONFLUENCE_data/domain_Bow_at_Banff_distributed/taudem-interim-files/d8/elv-tlen.tif -gord /work/comphyd_lab/data/CONFLUENCE_data/domain_Bow_at_Banff_distributed/taudem-interim-files/d8/elv-gord.tif\n"
     ]
    },
    {
     "name": "stdout",
     "output_type": "stream",
     "text": [
      "09:24:58 - INFO - Command output: GridNet version 5.3.9\n",
      "Input file /work/comphyd_lab/data/CONFLUENCE_data/domain_Bow_at_Banff_distributed/taudem-interim-files/d8/elv-fdir.tif has geographic coordinate system.\n",
      "Nodata value input to create partition from file: -32768.000000\n",
      "Nodata value recast to int16_t used in partition raster: -32768\n",
      "Processors: 1\n",
      "Read time: 0.042071\n",
      "Compute time: 0.387922\n",
      "Write time: 0.314611\n",
      "Total time: 0.744603\n",
      "\n"
     ]
    },
    {
     "name": "stderr",
     "output_type": "stream",
     "text": [
      "2025-05-13 09:24:58,167 - confluence_general - INFO - Command output: GridNet version 5.3.9\n",
      "Input file /work/comphyd_lab/data/CONFLUENCE_data/domain_Bow_at_Banff_distributed/taudem-interim-files/d8/elv-fdir.tif has geographic coordinate system.\n",
      "Nodata value input to create partition from file: -32768.000000\n",
      "Nodata value recast to int16_t used in partition raster: -32768\n",
      "Processors: 1\n",
      "Read time: 0.042071\n",
      "Compute time: 0.387922\n",
      "Write time: 0.314611\n",
      "Total time: 0.744603\n",
      "\n"
     ]
    },
    {
     "name": "stdout",
     "output_type": "stream",
     "text": [
      "09:24:58 - INFO - Completed TauDEM step\n"
     ]
    },
    {
     "name": "stderr",
     "output_type": "stream",
     "text": [
      "2025-05-13 09:24:58,169 - confluence_general - INFO - Completed TauDEM step\n"
     ]
    },
    {
     "name": "stdout",
     "output_type": "stream",
     "text": [
      "09:24:58 - INFO - Running command: mpirun -n 1 /work/comphyd_lab/data/CONFLUENCE_data/installs/TauDEM/bin/threshold -ssa /work/comphyd_lab/data/CONFLUENCE_data/domain_Bow_at_Banff_distributed/taudem-interim-files/d8/elv-ad8.tif -src /work/comphyd_lab/data/CONFLUENCE_data/domain_Bow_at_Banff_distributed/taudem-interim-files/d8/elv-src.tif -thresh 5000\n"
     ]
    },
    {
     "name": "stderr",
     "output_type": "stream",
     "text": [
      "2025-05-13 09:24:58,171 - confluence_general - INFO - Running command: mpirun -n 1 /work/comphyd_lab/data/CONFLUENCE_data/installs/TauDEM/bin/threshold -ssa /work/comphyd_lab/data/CONFLUENCE_data/domain_Bow_at_Banff_distributed/taudem-interim-files/d8/elv-ad8.tif -src /work/comphyd_lab/data/CONFLUENCE_data/domain_Bow_at_Banff_distributed/taudem-interim-files/d8/elv-src.tif -thresh 5000\n"
     ]
    },
    {
     "name": "stdout",
     "output_type": "stream",
     "text": [
      "09:24:58 - INFO - Command output: Threshold version 5.3.9\n",
      "Input file /work/comphyd_lab/data/CONFLUENCE_data/domain_Bow_at_Banff_distributed/taudem-interim-files/d8/elv-ad8.tif has geographic coordinate system.\n",
      "Nodata value input to create partition from file: -1.000000\n",
      "Nodata value recast to float used in partition raster: -1.000000\n",
      "Compute time: 0.017513\n",
      "\n"
     ]
    },
    {
     "name": "stderr",
     "output_type": "stream",
     "text": [
      "2025-05-13 09:24:58,684 - confluence_general - INFO - Command output: Threshold version 5.3.9\n",
      "Input file /work/comphyd_lab/data/CONFLUENCE_data/domain_Bow_at_Banff_distributed/taudem-interim-files/d8/elv-ad8.tif has geographic coordinate system.\n",
      "Nodata value input to create partition from file: -1.000000\n",
      "Nodata value recast to float used in partition raster: -1.000000\n",
      "Compute time: 0.017513\n",
      "\n"
     ]
    },
    {
     "name": "stdout",
     "output_type": "stream",
     "text": [
      "09:24:58 - INFO - Completed TauDEM step\n"
     ]
    },
    {
     "name": "stderr",
     "output_type": "stream",
     "text": [
      "2025-05-13 09:24:58,686 - confluence_general - INFO - Completed TauDEM step\n"
     ]
    },
    {
     "name": "stdout",
     "output_type": "stream",
     "text": [
      "09:24:58 - INFO - Running command: mpirun -n 1 /work/comphyd_lab/data/CONFLUENCE_data/installs/TauDEM/bin/moveoutletstostrm -p /work/comphyd_lab/data/CONFLUENCE_data/domain_Bow_at_Banff_distributed/taudem-interim-files/d8/elv-fdir.tif -src /work/comphyd_lab/data/CONFLUENCE_data/domain_Bow_at_Banff_distributed/taudem-interim-files/d8/elv-src.tif -o /work/comphyd_lab/data/CONFLUENCE_data/domain_Bow_at_Banff_distributed/shapefiles/pour_point/Bow_at_Banff_distributed_pourPoint.shp -om /work/comphyd_lab/data/CONFLUENCE_data/domain_Bow_at_Banff_distributed/taudem-interim-files/d8/gauges.shp -md 200\n"
     ]
    },
    {
     "name": "stderr",
     "output_type": "stream",
     "text": [
      "2025-05-13 09:24:58,688 - confluence_general - INFO - Running command: mpirun -n 1 /work/comphyd_lab/data/CONFLUENCE_data/installs/TauDEM/bin/moveoutletstostrm -p /work/comphyd_lab/data/CONFLUENCE_data/domain_Bow_at_Banff_distributed/taudem-interim-files/d8/elv-fdir.tif -src /work/comphyd_lab/data/CONFLUENCE_data/domain_Bow_at_Banff_distributed/taudem-interim-files/d8/elv-src.tif -o /work/comphyd_lab/data/CONFLUENCE_data/domain_Bow_at_Banff_distributed/shapefiles/pour_point/Bow_at_Banff_distributed_pourPoint.shp -om /work/comphyd_lab/data/CONFLUENCE_data/domain_Bow_at_Banff_distributed/taudem-interim-files/d8/gauges.shp -md 200\n"
     ]
    },
    {
     "name": "stdout",
     "output_type": "stream",
     "text": [
      "09:24:59 - INFO - Command output: MoveOutletsToStreams version 5.3.9\n",
      "Input file /work/comphyd_lab/data/CONFLUENCE_data/domain_Bow_at_Banff_distributed/taudem-interim-files/d8/elv-src.tif has geographic coordinate system.\n",
      "Nodata value input to create partition from file: -32768.000000\n",
      "Nodata value recast to int16_t used in partition raster: -32768\n",
      "Input file /work/comphyd_lab/data/CONFLUENCE_data/domain_Bow_at_Banff_distributed/taudem-interim-files/d8/elv-fdir.tif has geographic coordinate system.\n",
      "Nodata value input to create partition from file: -32768.000000\n",
      "Nodata value recast to int16_t used in partition raster: -32768\n",
      "gauges Total time: 0.068762\n",
      "\n"
     ]
    },
    {
     "name": "stderr",
     "output_type": "stream",
     "text": [
      "2025-05-13 09:24:59,153 - confluence_general - INFO - Command output: MoveOutletsToStreams version 5.3.9\n",
      "Input file /work/comphyd_lab/data/CONFLUENCE_data/domain_Bow_at_Banff_distributed/taudem-interim-files/d8/elv-src.tif has geographic coordinate system.\n",
      "Nodata value input to create partition from file: -32768.000000\n",
      "Nodata value recast to int16_t used in partition raster: -32768\n",
      "Input file /work/comphyd_lab/data/CONFLUENCE_data/domain_Bow_at_Banff_distributed/taudem-interim-files/d8/elv-fdir.tif has geographic coordinate system.\n",
      "Nodata value input to create partition from file: -32768.000000\n",
      "Nodata value recast to int16_t used in partition raster: -32768\n",
      "gauges Total time: 0.068762\n",
      "\n"
     ]
    },
    {
     "name": "stdout",
     "output_type": "stream",
     "text": [
      "09:24:59 - INFO - Completed TauDEM step\n"
     ]
    },
    {
     "name": "stderr",
     "output_type": "stream",
     "text": [
      "2025-05-13 09:24:59,155 - confluence_general - INFO - Completed TauDEM step\n"
     ]
    },
    {
     "name": "stdout",
     "output_type": "stream",
     "text": [
      "09:24:59 - INFO - Running command: mpirun -n 1 /work/comphyd_lab/data/CONFLUENCE_data/installs/TauDEM/bin/streamnet -fel /work/comphyd_lab/data/CONFLUENCE_data/domain_Bow_at_Banff_distributed/taudem-interim-files/d8/elv-fel.tif -p /work/comphyd_lab/data/CONFLUENCE_data/domain_Bow_at_Banff_distributed/taudem-interim-files/d8/elv-fdir.tif -ad8 /work/comphyd_lab/data/CONFLUENCE_data/domain_Bow_at_Banff_distributed/taudem-interim-files/d8/elv-ad8.tif -src /work/comphyd_lab/data/CONFLUENCE_data/domain_Bow_at_Banff_distributed/taudem-interim-files/d8/elv-src.tif -ord /work/comphyd_lab/data/CONFLUENCE_data/domain_Bow_at_Banff_distributed/taudem-interim-files/d8/elv-ord.tif -tree /work/comphyd_lab/data/CONFLUENCE_data/domain_Bow_at_Banff_distributed/taudem-interim-files/d8/basin-tree.dat -coord /work/comphyd_lab/data/CONFLUENCE_data/domain_Bow_at_Banff_distributed/taudem-interim-files/d8/basin-coord.dat -net /work/comphyd_lab/data/CONFLUENCE_data/domain_Bow_at_Banff_distributed/taudem-interim-files/d8/basin-streams.shp -o /work/comphyd_lab/data/CONFLUENCE_data/domain_Bow_at_Banff_distributed/taudem-interim-files/d8/gauges.shp -w /work/comphyd_lab/data/CONFLUENCE_data/domain_Bow_at_Banff_distributed/taudem-interim-files/d8/elv-watersheds.tif\n"
     ]
    },
    {
     "name": "stderr",
     "output_type": "stream",
     "text": [
      "2025-05-13 09:24:59,156 - confluence_general - INFO - Running command: mpirun -n 1 /work/comphyd_lab/data/CONFLUENCE_data/installs/TauDEM/bin/streamnet -fel /work/comphyd_lab/data/CONFLUENCE_data/domain_Bow_at_Banff_distributed/taudem-interim-files/d8/elv-fel.tif -p /work/comphyd_lab/data/CONFLUENCE_data/domain_Bow_at_Banff_distributed/taudem-interim-files/d8/elv-fdir.tif -ad8 /work/comphyd_lab/data/CONFLUENCE_data/domain_Bow_at_Banff_distributed/taudem-interim-files/d8/elv-ad8.tif -src /work/comphyd_lab/data/CONFLUENCE_data/domain_Bow_at_Banff_distributed/taudem-interim-files/d8/elv-src.tif -ord /work/comphyd_lab/data/CONFLUENCE_data/domain_Bow_at_Banff_distributed/taudem-interim-files/d8/elv-ord.tif -tree /work/comphyd_lab/data/CONFLUENCE_data/domain_Bow_at_Banff_distributed/taudem-interim-files/d8/basin-tree.dat -coord /work/comphyd_lab/data/CONFLUENCE_data/domain_Bow_at_Banff_distributed/taudem-interim-files/d8/basin-coord.dat -net /work/comphyd_lab/data/CONFLUENCE_data/domain_Bow_at_Banff_distributed/taudem-interim-files/d8/basin-streams.shp -o /work/comphyd_lab/data/CONFLUENCE_data/domain_Bow_at_Banff_distributed/taudem-interim-files/d8/gauges.shp -w /work/comphyd_lab/data/CONFLUENCE_data/domain_Bow_at_Banff_distributed/taudem-interim-files/d8/elv-watersheds.tif\n"
     ]
    },
    {
     "name": "stdout",
     "output_type": "stream",
     "text": [
      "09:25:00 - INFO - Command output: StreamNet version 5.3.9\n",
      "Input file /work/comphyd_lab/data/CONFLUENCE_data/domain_Bow_at_Banff_distributed/taudem-interim-files/d8/elv-src.tif has geographic coordinate system.\n",
      "Nodata value input to create partition from file: -32768.000000\n",
      "Nodata value recast to int16_t used in partition raster: -32768\n",
      "Input file /work/comphyd_lab/data/CONFLUENCE_data/domain_Bow_at_Banff_distributed/taudem-interim-files/d8/elv-fdir.tif has geographic coordinate system.\n",
      "Nodata value input to create partition from file: -32768.000000\n",
      "Nodata value recast to int16_t used in partition raster: -32768\n",
      "Input file /work/comphyd_lab/data/CONFLUENCE_data/domain_Bow_at_Banff_distributed/taudem-interim-files/d8/elv-ad8.tif has geographic coordinate system.\n",
      "Nodata value input to create partition from file: -1.000000\n",
      "Nodata value recast to float used in partition raster: -1.000000\n",
      "Input file /work/comphyd_lab/data/CONFLUENCE_data/domain_Bow_at_Banff_distributed/taudem-interim-files/d8/elv-fel.tif has geographic coordinate system.\n",
      "Nodata value input to create partition from file: -300000000549775575777803994281145270272.000000\n",
      "Nodata value recast to float used in partition raster: -300000000549775575777803994281145270272.000000\n",
      "basin-streams Processors: 1\n",
      "Read time: 0.136663\n",
      "Length compute time: 0.018722\n",
      "Link compute time: 0.023072\n",
      "Link write time: 0.211639\n",
      "Watershed compute time: 0.231752\n",
      "Write time: 0.104044\n",
      "Total time: 0.725892\n",
      "\n"
     ]
    },
    {
     "name": "stderr",
     "output_type": "stream",
     "text": [
      "2025-05-13 09:25:00,319 - confluence_general - INFO - Command output: StreamNet version 5.3.9\n",
      "Input file /work/comphyd_lab/data/CONFLUENCE_data/domain_Bow_at_Banff_distributed/taudem-interim-files/d8/elv-src.tif has geographic coordinate system.\n",
      "Nodata value input to create partition from file: -32768.000000\n",
      "Nodata value recast to int16_t used in partition raster: -32768\n",
      "Input file /work/comphyd_lab/data/CONFLUENCE_data/domain_Bow_at_Banff_distributed/taudem-interim-files/d8/elv-fdir.tif has geographic coordinate system.\n",
      "Nodata value input to create partition from file: -32768.000000\n",
      "Nodata value recast to int16_t used in partition raster: -32768\n",
      "Input file /work/comphyd_lab/data/CONFLUENCE_data/domain_Bow_at_Banff_distributed/taudem-interim-files/d8/elv-ad8.tif has geographic coordinate system.\n",
      "Nodata value input to create partition from file: -1.000000\n",
      "Nodata value recast to float used in partition raster: -1.000000\n",
      "Input file /work/comphyd_lab/data/CONFLUENCE_data/domain_Bow_at_Banff_distributed/taudem-interim-files/d8/elv-fel.tif has geographic coordinate system.\n",
      "Nodata value input to create partition from file: -300000000549775575777803994281145270272.000000\n",
      "Nodata value recast to float used in partition raster: -300000000549775575777803994281145270272.000000\n",
      "basin-streams Processors: 1\n",
      "Read time: 0.136663\n",
      "Length compute time: 0.018722\n",
      "Link compute time: 0.023072\n",
      "Link write time: 0.211639\n",
      "Watershed compute time: 0.231752\n",
      "Write time: 0.104044\n",
      "Total time: 0.725892\n",
      "\n"
     ]
    },
    {
     "name": "stdout",
     "output_type": "stream",
     "text": [
      "09:25:00 - INFO - Completed TauDEM step\n"
     ]
    },
    {
     "name": "stderr",
     "output_type": "stream",
     "text": [
      "2025-05-13 09:25:00,321 - confluence_general - INFO - Completed TauDEM step\n"
     ]
    },
    {
     "name": "stdout",
     "output_type": "stream",
     "text": [
      "09:25:00 - INFO - Completed GDAL polygonization using direct method\n"
     ]
    },
    {
     "name": "stderr",
     "output_type": "stream",
     "text": [
      "/work/comphyd_lab/local/modules/spack/2024v5/core/__spack_path_placeholder__/__spack_path_placeholder__/__spack_path_placeholder/linux-rocky8-x86_64/gcc-14.2.0/gdal-3.9.2-y5bemmf6otvyodpm4zhjfqljg4ppbmnz/lib/python3.11/site-packages/osgeo/gdal.py:312: FutureWarning: Neither gdal.UseExceptions() nor gdal.DontUseExceptions() has been explicitly called. In GDAL 4.0, exceptions will be enabled by default.\n",
      "  warnings.warn(\n",
      "2025-05-13 09:25:00,418 - confluence_general - INFO - Completed GDAL polygonization using direct method\n"
     ]
    },
    {
     "name": "stdout",
     "output_type": "stream",
     "text": [
      "09:25:00 - WARNING - CRS is not defined for /work/comphyd_lab/data/CONFLUENCE_data/domain_Bow_at_Banff_distributed/taudem-interim-files/d8/basin-watersheds.shp. Setting to EPSG:4326.\n"
     ]
    },
    {
     "name": "stderr",
     "output_type": "stream",
     "text": [
      "2025-05-13 09:25:00,441 - confluence_general - WARNING - CRS is not defined for /work/comphyd_lab/data/CONFLUENCE_data/domain_Bow_at_Banff_distributed/taudem-interim-files/d8/basin-watersheds.shp. Setting to EPSG:4326.\n"
     ]
    },
    {
     "name": "stdout",
     "output_type": "stream",
     "text": [
      "09:25:00 - INFO - Found 20 rows with duplicate GRU_ID values\n"
     ]
    },
    {
     "name": "stderr",
     "output_type": "stream",
     "text": [
      "2025-05-13 09:25:00,618 - confluence_general - INFO - Found 20 rows with duplicate GRU_ID values\n"
     ]
    },
    {
     "name": "stdout",
     "output_type": "stream",
     "text": [
      "09:25:00 - INFO - Removed 20 duplicate GRU_IDs, keeping the largest area for each\n"
     ]
    },
    {
     "name": "stderr",
     "output_type": "stream",
     "text": [
      "2025-05-13 09:25:00,623 - confluence_general - INFO - Removed 20 duplicate GRU_IDs, keeping the largest area for each\n"
     ]
    },
    {
     "name": "stdout",
     "output_type": "stream",
     "text": [
      "09:25:00 - INFO - Remaining GRUs: 124\n"
     ]
    },
    {
     "name": "stderr",
     "output_type": "stream",
     "text": [
      "2025-05-13 09:25:00,624 - confluence_general - INFO - Remaining GRUs: 124\n"
     ]
    },
    {
     "name": "stdout",
     "output_type": "stream",
     "text": [
      "09:25:00 - INFO - Ensuring CRS consistency. Target CRS: EPSG:4326\n"
     ]
    },
    {
     "name": "stderr",
     "output_type": "stream",
     "text": [
      "2025-05-13 09:25:00,626 - confluence_general - INFO - Ensuring CRS consistency. Target CRS: EPSG:4326\n"
     ]
    },
    {
     "name": "stdout",
     "output_type": "stream",
     "text": [
      "09:25:00 - INFO - Found 7 rows with duplicate GRU_ID values\n"
     ]
    },
    {
     "name": "stderr",
     "output_type": "stream",
     "text": [
      "2025-05-13 09:25:00,843 - confluence_general - INFO - Found 7 rows with duplicate GRU_ID values\n"
     ]
    },
    {
     "name": "stdout",
     "output_type": "stream",
     "text": [
      "09:25:00 - INFO - Removed 7 duplicate GRU_IDs, keeping the largest area for each\n"
     ]
    },
    {
     "name": "stderr",
     "output_type": "stream",
     "text": [
      "2025-05-13 09:25:00,847 - confluence_general - INFO - Removed 7 duplicate GRU_IDs, keeping the largest area for each\n"
     ]
    },
    {
     "name": "stdout",
     "output_type": "stream",
     "text": [
      "09:25:00 - INFO - Remaining GRUs: 49\n"
     ]
    },
    {
     "name": "stderr",
     "output_type": "stream",
     "text": [
      "2025-05-13 09:25:00,849 - confluence_general - INFO - Remaining GRUs: 49\n",
      "/work/comphyd_lab/users/darri/data/CONFLUENCE_data/installs/conf-env/lib/python3.11/site-packages/pyogrio/raw.py:723: RuntimeWarning: Value 107654506.629660964 of field GRU_area of feature 0 not successfully written. Possibly due to too larger number with respect to field width\n",
      "  ogr_write(\n",
      "/work/comphyd_lab/users/darri/data/CONFLUENCE_data/installs/conf-env/lib/python3.11/site-packages/pyogrio/raw.py:723: RuntimeWarning: Value 115962979.78223218 of field GRU_area of feature 2 not successfully written. Possibly due to too larger number with respect to field width\n",
      "  ogr_write(\n",
      "/work/comphyd_lab/users/darri/data/CONFLUENCE_data/installs/conf-env/lib/python3.11/site-packages/pyogrio/raw.py:723: RuntimeWarning: Value 123420378.353142783 of field GRU_area of feature 12 not successfully written. Possibly due to too larger number with respect to field width\n",
      "  ogr_write(\n",
      "/work/comphyd_lab/users/darri/data/CONFLUENCE_data/installs/conf-env/lib/python3.11/site-packages/pyogrio/raw.py:723: RuntimeWarning: Value 118867291.979016051 of field GRU_area of feature 42 not successfully written. Possibly due to too larger number with respect to field width\n",
      "  ogr_write(\n",
      "/work/comphyd_lab/users/darri/data/CONFLUENCE_data/installs/conf-env/lib/python3.11/site-packages/pyogrio/raw.py:723: RuntimeWarning: Value 120218048.846222728 of field GRU_area of feature 45 not successfully written. Possibly due to too larger number with respect to field width\n",
      "  ogr_write(\n",
      "2025-05-13 09:25:00,870 - pyogrio._io - INFO - Created 49 records\n",
      "/work/comphyd_lab/users/darri/data/CONFLUENCE_data/installs/conf-env/lib/python3.11/site-packages/pyogrio/raw.py:723: RuntimeWarning: Value 2211719168 of field DSContArea of feature 0 not successfully written. Possibly due to too larger number with respect to field width\n",
      "  ogr_write(\n",
      "/work/comphyd_lab/users/darri/data/CONFLUENCE_data/installs/conf-env/lib/python3.11/site-packages/pyogrio/raw.py:723: RuntimeWarning: Value 2208317696 of field USContArea of feature 0 not successfully written. Possibly due to too larger number with respect to field width\n",
      "  ogr_write(\n",
      "/work/comphyd_lab/users/darri/data/CONFLUENCE_data/installs/conf-env/lib/python3.11/site-packages/pyogrio/raw.py:723: RuntimeWarning: Value 2057989888 of field DSContArea of feature 1 not successfully written. Possibly due to too larger number with respect to field width\n",
      "  ogr_write(\n",
      "/work/comphyd_lab/users/darri/data/CONFLUENCE_data/installs/conf-env/lib/python3.11/site-packages/pyogrio/raw.py:723: RuntimeWarning: Value 2048646528 of field USContArea of feature 1 not successfully written. Possibly due to too larger number with respect to field width\n",
      "  ogr_write(\n",
      "/work/comphyd_lab/users/darri/data/CONFLUENCE_data/installs/conf-env/lib/python3.11/site-packages/pyogrio/raw.py:723: RuntimeWarning: Value 2013888896 of field DSContArea of feature 2 not successfully written. Possibly due to too larger number with respect to field width\n",
      "  ogr_write(\n",
      "/work/comphyd_lab/users/darri/data/CONFLUENCE_data/installs/conf-env/lib/python3.11/site-packages/pyogrio/raw.py:723: RuntimeWarning: Value 1992021376 of field USContArea of feature 2 not successfully written. Possibly due to too larger number with respect to field width\n",
      "  ogr_write(\n",
      "/work/comphyd_lab/users/darri/data/CONFLUENCE_data/installs/conf-env/lib/python3.11/site-packages/pyogrio/raw.py:723: RuntimeWarning: Value 1753572352 of field DSContArea of feature 3 not successfully written. Possibly due to too larger number with respect to field width\n",
      "  ogr_write(\n",
      "/work/comphyd_lab/users/darri/data/CONFLUENCE_data/installs/conf-env/lib/python3.11/site-packages/pyogrio/raw.py:723: RuntimeWarning: Value 1633696512 of field USContArea of feature 3 not successfully written. Possibly due to too larger number with respect to field width\n",
      "  ogr_write(\n",
      "/work/comphyd_lab/users/darri/data/CONFLUENCE_data/installs/conf-env/lib/python3.11/site-packages/pyogrio/raw.py:723: RuntimeWarning: Value 1483551872 of field DSContArea of feature 4 not successfully written. Possibly due to too larger number with respect to field width\n",
      "  ogr_write(\n",
      "/work/comphyd_lab/users/darri/data/CONFLUENCE_data/installs/conf-env/lib/python3.11/site-packages/pyogrio/raw.py:723: RuntimeWarning: Value 1471786496 of field USContArea of feature 4 not successfully written. Possibly due to too larger number with respect to field width\n",
      "  ogr_write(\n",
      "/work/comphyd_lab/users/darri/data/CONFLUENCE_data/installs/conf-env/lib/python3.11/site-packages/pyogrio/raw.py:723: RuntimeWarning: Value 1348320896 of field DSContArea of feature 5 not successfully written. Possibly due to too larger number with respect to field width\n",
      "  ogr_write(\n",
      "/work/comphyd_lab/users/darri/data/CONFLUENCE_data/installs/conf-env/lib/python3.11/site-packages/pyogrio/raw.py:723: RuntimeWarning: Value 1288719488 of field USContArea of feature 5 not successfully written. Possibly due to too larger number with respect to field width\n",
      "  ogr_write(\n",
      "/work/comphyd_lab/users/darri/data/CONFLUENCE_data/installs/conf-env/lib/python3.11/site-packages/pyogrio/raw.py:723: RuntimeWarning: Value 1211163264 of field DSContArea of feature 6 not successfully written. Possibly due to too larger number with respect to field width\n",
      "  ogr_write(\n",
      "/work/comphyd_lab/users/darri/data/CONFLUENCE_data/installs/conf-env/lib/python3.11/site-packages/pyogrio/raw.py:723: RuntimeWarning: Value 1092337024 of field USContArea of feature 6 not successfully written. Possibly due to too larger number with respect to field width\n",
      "  ogr_write(\n",
      "/work/comphyd_lab/users/darri/data/CONFLUENCE_data/installs/conf-env/lib/python3.11/site-packages/pyogrio/raw.py:723: RuntimeWarning: Value 966309504 of field DSContArea of feature 7 not successfully written. Possibly due to too larger number with respect to field width\n",
      "  ogr_write(\n",
      "/work/comphyd_lab/users/darri/data/CONFLUENCE_data/installs/conf-env/lib/python3.11/site-packages/pyogrio/raw.py:723: RuntimeWarning: Value 943693888 of field USContArea of feature 7 not successfully written. Possibly due to too larger number with respect to field width\n",
      "  ogr_write(\n",
      "/work/comphyd_lab/users/darri/data/CONFLUENCE_data/installs/conf-env/lib/python3.11/site-packages/pyogrio/raw.py:723: RuntimeWarning: Value 883134336 of field DSContArea of feature 8 not successfully written. Possibly due to too larger number with respect to field width\n",
      "  ogr_write(\n",
      "/work/comphyd_lab/users/darri/data/CONFLUENCE_data/installs/conf-env/lib/python3.11/site-packages/pyogrio/raw.py:723: RuntimeWarning: Value 854593024 of field USContArea of feature 8 not successfully written. Possibly due to too larger number with respect to field width\n",
      "  ogr_write(\n",
      "/work/comphyd_lab/users/darri/data/CONFLUENCE_data/installs/conf-env/lib/python3.11/site-packages/pyogrio/raw.py:723: RuntimeWarning: Value 823839616 of field DSContArea of feature 9 not successfully written. Possibly due to too larger number with respect to field width\n",
      "  ogr_write(\n",
      "/work/comphyd_lab/users/darri/data/CONFLUENCE_data/installs/conf-env/lib/python3.11/site-packages/pyogrio/raw.py:723: RuntimeWarning: Value 809501696 of field USContArea of feature 9 not successfully written. Possibly due to too larger number with respect to field width\n",
      "  ogr_write(\n",
      "/work/comphyd_lab/users/darri/data/CONFLUENCE_data/installs/conf-env/lib/python3.11/site-packages/pyogrio/raw.py:723: RuntimeWarning: Value 771756928 of field DSContArea of feature 10 not successfully written. Possibly due to too larger number with respect to field width\n",
      "  ogr_write(\n",
      "/work/comphyd_lab/users/darri/data/CONFLUENCE_data/installs/conf-env/lib/python3.11/site-packages/pyogrio/raw.py:723: RuntimeWarning: Value 762327488 of field USContArea of feature 10 not successfully written. Possibly due to too larger number with respect to field width\n",
      "  ogr_write(\n",
      "/work/comphyd_lab/users/darri/data/CONFLUENCE_data/installs/conf-env/lib/python3.11/site-packages/pyogrio/raw.py:723: RuntimeWarning: Value 732919680 of field DSContArea of feature 11 not successfully written. Possibly due to too larger number with respect to field width\n",
      "  ogr_write(\n",
      "/work/comphyd_lab/users/darri/data/CONFLUENCE_data/installs/conf-env/lib/python3.11/site-packages/pyogrio/raw.py:723: RuntimeWarning: Value 732806656 of field USContArea of feature 11 not successfully written. Possibly due to too larger number with respect to field width\n",
      "  ogr_write(\n",
      "/work/comphyd_lab/users/darri/data/CONFLUENCE_data/installs/conf-env/lib/python3.11/site-packages/pyogrio/raw.py:723: RuntimeWarning: Value 428948832 of field DSContArea of feature 12 not successfully written. Possibly due to too larger number with respect to field width\n",
      "  ogr_write(\n",
      "/work/comphyd_lab/users/darri/data/CONFLUENCE_data/installs/conf-env/lib/python3.11/site-packages/pyogrio/raw.py:723: RuntimeWarning: Value 422237312 of field USContArea of feature 12 not successfully written. Possibly due to too larger number with respect to field width\n",
      "  ogr_write(\n",
      "/work/comphyd_lab/users/darri/data/CONFLUENCE_data/installs/conf-env/lib/python3.11/site-packages/pyogrio/raw.py:723: RuntimeWarning: Value 351451808 of field DSContArea of feature 13 not successfully written. Possibly due to too larger number with respect to field width\n",
      "  ogr_write(\n",
      "/work/comphyd_lab/users/darri/data/CONFLUENCE_data/installs/conf-env/lib/python3.11/site-packages/pyogrio/raw.py:723: RuntimeWarning: Value 263653440 of field USContArea of feature 13 not successfully written. Possibly due to too larger number with respect to field width\n",
      "  ogr_write(\n",
      "/work/comphyd_lab/users/darri/data/CONFLUENCE_data/installs/conf-env/lib/python3.11/site-packages/pyogrio/raw.py:723: RuntimeWarning: Value 190876544 of field DSContArea of feature 14 not successfully written. Possibly due to too larger number with respect to field width\n",
      "  ogr_write(\n",
      "/work/comphyd_lab/users/darri/data/CONFLUENCE_data/installs/conf-env/lib/python3.11/site-packages/pyogrio/raw.py:723: RuntimeWarning: Value 160139312 of field USContArea of feature 14 not successfully written. Possibly due to too larger number with respect to field width\n",
      "  ogr_write(\n",
      "/work/comphyd_lab/users/darri/data/CONFLUENCE_data/installs/conf-env/lib/python3.11/site-packages/pyogrio/raw.py:723: RuntimeWarning: Value 238422112 of field DSContArea of feature 15 not successfully written. Possibly due to too larger number with respect to field width\n",
      "  ogr_write(\n",
      "/work/comphyd_lab/users/darri/data/CONFLUENCE_data/installs/conf-env/lib/python3.11/site-packages/pyogrio/raw.py:723: RuntimeWarning: Value 229084144 of field USContArea of feature 15 not successfully written. Possibly due to too larger number with respect to field width\n",
      "  ogr_write(\n",
      "/work/comphyd_lab/users/darri/data/CONFLUENCE_data/installs/conf-env/lib/python3.11/site-packages/pyogrio/raw.py:723: RuntimeWarning: Value 150316960 of field DSContArea of feature 16 not successfully written. Possibly due to too larger number with respect to field width\n",
      "  ogr_write(\n",
      "/work/comphyd_lab/users/darri/data/CONFLUENCE_data/installs/conf-env/lib/python3.11/site-packages/pyogrio/raw.py:723: RuntimeWarning: Value 124940312 of field USContArea of feature 16 not successfully written. Possibly due to too larger number with respect to field width\n",
      "  ogr_write(\n",
      "/work/comphyd_lab/users/darri/data/CONFLUENCE_data/installs/conf-env/lib/python3.11/site-packages/pyogrio/raw.py:723: RuntimeWarning: Value 164654896 of field DSContArea of feature 17 not successfully written. Possibly due to too larger number with respect to field width\n",
      "  ogr_write(\n",
      "/work/comphyd_lab/users/darri/data/CONFLUENCE_data/installs/conf-env/lib/python3.11/site-packages/pyogrio/raw.py:723: RuntimeWarning: Value 149671104 of field USContArea of feature 17 not successfully written. Possibly due to too larger number with respect to field width\n",
      "  ogr_write(\n",
      "/work/comphyd_lab/users/darri/data/CONFLUENCE_data/installs/conf-env/lib/python3.11/site-packages/pyogrio/raw.py:723: RuntimeWarning: Value 303847040 of field DSContArea of feature 18 not successfully written. Possibly due to too larger number with respect to field width\n",
      "  ogr_write(\n",
      "/work/comphyd_lab/users/darri/data/CONFLUENCE_data/installs/conf-env/lib/python3.11/site-packages/pyogrio/raw.py:723: RuntimeWarning: Value 222582560 of field USContArea of feature 18 not successfully written. Possibly due to too larger number with respect to field width\n",
      "  ogr_write(\n",
      "/work/comphyd_lab/users/darri/data/CONFLUENCE_data/installs/conf-env/lib/python3.11/site-packages/pyogrio/raw.py:723: RuntimeWarning: Value 164880960 of field DSContArea of feature 19 not successfully written. Possibly due to too larger number with respect to field width\n",
      "  ogr_write(\n",
      "/work/comphyd_lab/users/darri/data/CONFLUENCE_data/installs/conf-env/lib/python3.11/site-packages/pyogrio/raw.py:723: RuntimeWarning: Value 163051040 of field USContArea of feature 19 not successfully written. Possibly due to too larger number with respect to field width\n",
      "  ogr_write(\n",
      "/work/comphyd_lab/users/darri/data/CONFLUENCE_data/installs/conf-env/lib/python3.11/site-packages/pyogrio/raw.py:723: RuntimeWarning: Value 110430144 of field DSContArea of feature 20 not successfully written. Possibly due to too larger number with respect to field width\n",
      "  ogr_write(\n",
      "/work/comphyd_lab/users/darri/data/CONFLUENCE_data/installs/conf-env/lib/python3.11/site-packages/pyogrio/raw.py:723: RuntimeWarning: Value 105037264 of field USContArea of feature 20 not successfully written. Possibly due to too larger number with respect to field width\n",
      "  ogr_write(\n",
      "/work/comphyd_lab/users/darri/data/CONFLUENCE_data/installs/conf-env/lib/python3.11/site-packages/pyogrio/raw.py:723: RuntimeWarning: Value 150139360 of field DSContArea of feature 21 not successfully written. Possibly due to too larger number with respect to field width\n",
      "  ogr_write(\n",
      "/work/comphyd_lab/users/darri/data/CONFLUENCE_data/installs/conf-env/lib/python3.11/site-packages/pyogrio/raw.py:723: RuntimeWarning: Value 131022096 of field USContArea of feature 21 not successfully written. Possibly due to too larger number with respect to field width\n",
      "  ogr_write(\n",
      "/work/comphyd_lab/users/darri/data/CONFLUENCE_data/installs/conf-env/lib/python3.11/site-packages/pyogrio/raw.py:723: RuntimeWarning: Value 126022112 of field DSContArea of feature 22 not successfully written. Possibly due to too larger number with respect to field width\n",
      "  ogr_write(\n",
      "/work/comphyd_lab/users/darri/data/CONFLUENCE_data/installs/conf-env/lib/python3.11/site-packages/pyogrio/raw.py:723: RuntimeWarning: Value 104084632 of field DSContArea of feature 23 not successfully written. Possibly due to too larger number with respect to field width\n",
      "  ogr_write(\n",
      "/work/comphyd_lab/users/darri/data/CONFLUENCE_data/installs/conf-env/lib/python3.11/site-packages/pyogrio/raw.py:723: RuntimeWarning: Value 123454848 of field DSContArea of feature 36 not successfully written. Possibly due to too larger number with respect to field width\n",
      "  ogr_write(\n",
      "/work/comphyd_lab/users/darri/data/CONFLUENCE_data/installs/conf-env/lib/python3.11/site-packages/pyogrio/raw.py:723: RuntimeWarning: Value 116770264 of field DSContArea of feature 46 not successfully written. Possibly due to too larger number with respect to field width\n",
      "  ogr_write(\n",
      "/work/comphyd_lab/users/darri/data/CONFLUENCE_data/installs/conf-env/lib/python3.11/site-packages/pyogrio/raw.py:723: RuntimeWarning: Value 108465672 of field DSContArea of feature 48 not successfully written. Possibly due to too larger number with respect to field width\n",
      "  ogr_write(\n",
      "2025-05-13 09:25:00,895 - pyogrio._io - INFO - Created 49 records\n"
     ]
    },
    {
     "name": "stdout",
     "output_type": "stream",
     "text": [
      "09:25:00 - INFO - Subset basins shapefile saved to: /work/comphyd_lab/data/CONFLUENCE_data/domain_Bow_at_Banff_distributed/shapefiles/river_basins/Bow_at_Banff_distributed_riverBasins_delineate.shp\n"
     ]
    },
    {
     "name": "stderr",
     "output_type": "stream",
     "text": [
      "2025-05-13 09:25:00,899 - confluence_general - INFO - Subset basins shapefile saved to: /work/comphyd_lab/data/CONFLUENCE_data/domain_Bow_at_Banff_distributed/shapefiles/river_basins/Bow_at_Banff_distributed_riverBasins_delineate.shp\n"
     ]
    },
    {
     "name": "stdout",
     "output_type": "stream",
     "text": [
      "09:25:00 - INFO - Subset rivers shapefile saved to: /work/comphyd_lab/data/CONFLUENCE_data/domain_Bow_at_Banff_distributed/shapefiles/river_network/Bow_at_Banff_distributed_riverNetwork_delineate.shp\n"
     ]
    },
    {
     "name": "stderr",
     "output_type": "stream",
     "text": [
      "2025-05-13 09:25:00,901 - confluence_general - INFO - Subset rivers shapefile saved to: /work/comphyd_lab/data/CONFLUENCE_data/domain_Bow_at_Banff_distributed/shapefiles/river_network/Bow_at_Banff_distributed_riverNetwork_delineate.shp\n"
     ]
    },
    {
     "name": "stdout",
     "output_type": "stream",
     "text": [
      "09:25:00 - INFO - Geofabric delineation completed for Bow_at_Banff_distributed\n"
     ]
    },
    {
     "name": "stderr",
     "output_type": "stream",
     "text": [
      "2025-05-13 09:25:00,903 - confluence_general - INFO - Geofabric delineation completed for Bow_at_Banff_distributed\n"
     ]
    },
    {
     "name": "stdout",
     "output_type": "stream",
     "text": [
      "09:25:00 - INFO - Domain definition completed using method: delineate\n"
     ]
    },
    {
     "name": "stderr",
     "output_type": "stream",
     "text": [
      "2025-05-13 09:25:00,904 - confluence_general - INFO - Domain definition completed using method: delineate\n"
     ]
    },
    {
     "name": "stdout",
     "output_type": "stream",
     "text": [
      "09:25:00 - INFO - Creating domain visualization...\n"
     ]
    },
    {
     "name": "stderr",
     "output_type": "stream",
     "text": [
      "2025-05-13 09:25:00,906 - confluence_general - INFO - Creating domain visualization...\n"
     ]
    },
    {
     "name": "stdout",
     "output_type": "stream",
     "text": [
      "09:25:02 - INFO - Domain map saved to /work/comphyd_lab/data/CONFLUENCE_data/domain_Bow_at_Banff_distributed/plots/domain/domain_map.png\n"
     ]
    },
    {
     "name": "stderr",
     "output_type": "stream",
     "text": [
      "2025-05-13 09:25:02,015 - confluence_general - INFO - Domain map saved to /work/comphyd_lab/data/CONFLUENCE_data/domain_Bow_at_Banff_distributed/plots/domain/domain_map.png\n"
     ]
    },
    {
     "name": "stdout",
     "output_type": "stream",
     "text": [
      "09:25:02 - INFO - Domain visualization created: /work/comphyd_lab/data/CONFLUENCE_data/domain_Bow_at_Banff_distributed/plots/domain/domain_map.png\n"
     ]
    },
    {
     "name": "stderr",
     "output_type": "stream",
     "text": [
      "2025-05-13 09:25:02,018 - confluence_general - INFO - Domain visualization created: /work/comphyd_lab/data/CONFLUENCE_data/domain_Bow_at_Banff_distributed/plots/domain/domain_map.png\n"
     ]
    },
    {
     "name": "stdout",
     "output_type": "stream",
     "text": [
      "09:25:02 - INFO - Domain definition workflow finished\n"
     ]
    },
    {
     "name": "stderr",
     "output_type": "stream",
     "text": [
      "2025-05-13 09:25:02,019 - confluence_general - INFO - Domain definition workflow finished\n"
     ]
    },
    {
     "name": "stdout",
     "output_type": "stream",
     "text": [
      "\n",
      "✓ Created basin shapefiles: 1\n",
      "✓ Created river network shapefiles: 1\n",
      "\n",
      "Number of sub-basins (GRUs): 49\n",
      "Total area: 0.00 km²\n"
     ]
    },
    {
     "name": "stderr",
     "output_type": "stream",
     "text": [
      "/tmp/ipykernel_1650676/1117089825.py:28: UserWarning: Geometry is in a geographic CRS. Results from 'area' are likely incorrect. Use 'GeoSeries.to_crs()' to re-project geometries to a projected CRS before this operation.\n",
      "\n",
      "  print(f\"Total area: {gdf.geometry.area.sum() / 1e6:.2f} km²\")\n"
     ]
    }
   ],
   "source": [
    "# Step 3: Geospatial Domain Definition - Delineation\n",
    "print(\"=== Step 3: Geospatial Domain Definition - Delineation ===\")\n",
    "\n",
    "# Define domain\n",
    "print(f\"Delineating distributed watershed...\")\n",
    "print(f\"Method: {confluence.config['DOMAIN_DEFINITION_METHOD']}\")\n",
    "print(f\"Stream threshold: {confluence.config['STREAM_THRESHOLD']}\")\n",
    "print(\"\\nThis will create multiple sub-basins connected by a stream network.\")\n",
    "\n",
    "watershed_path = confluence.managers['domain'].define_domain()\n",
    "\n",
    "# Check outputs\n",
    "basin_path = project_dir / 'shapefiles' / 'river_basins'\n",
    "network_path = project_dir / 'shapefiles' / 'river_network'\n",
    "\n",
    "if basin_path.exists():\n",
    "    basin_files = list(basin_path.glob('*.shp'))\n",
    "    print(f\"\\n✓ Created basin shapefiles: {len(basin_files)}\")\n",
    "    \n",
    "if network_path.exists():\n",
    "    network_files = list(network_path.glob('*.shp'))\n",
    "    print(f\"✓ Created river network shapefiles: {len(network_files)}\")\n",
    "    \n",
    "    # Load and check number of basins\n",
    "    if basin_files:\n",
    "        gdf = gpd.read_file(basin_files[0])\n",
    "        print(f\"\\nNumber of sub-basins (GRUs): {len(gdf)}\")\n",
    "        print(f\"Total area: {gdf.geometry.area.sum() / 1e6:.2f} km²\")"
   ]
  },
  {
   "cell_type": "markdown",
   "metadata": {},
   "source": [
    "## 7. Visualize the Distributed Domain"
   ]
  },
  {
   "cell_type": "code",
   "execution_count": 7,
   "metadata": {
    "scrolled": true
   },
   "outputs": [
    {
     "data": {
      "image/png": "[encoded data removed]",
      "text/plain": [
       "<Figure size 1200x1000 with 2 Axes>"
      ]
     },
     "metadata": {},
     "output_type": "display_data"
    }
   ],
   "source": [
    "# Visualize the delineated domain with stream network\n",
    "basin_files = list((project_dir / 'shapefiles' / 'river_basins').glob('*.shp'))\n",
    "network_files = list((project_dir / 'shapefiles' / 'river_network').glob('*.shp'))\n",
    "    \n",
    "if basin_files and network_files:\n",
    "    fig, ax = plt.subplots(figsize=(12, 10))\n",
    "    \n",
    "    # Load data\n",
    "    basins = gpd.read_file(basin_files[0])\n",
    "    rivers = gpd.read_file(network_files[0])\n",
    "    \n",
    "    # Plot basins with different colors\n",
    "    basins.plot(ax=ax, column='GRU_ID', cmap='viridis', \n",
    "               alpha=0.7, edgecolor='black', linewidth=0.5)\n",
    "    \n",
    "    # Plot river network\n",
    "    rivers.plot(ax=ax, color='blue', linewidth=2)\n",
    "    \n",
    "    # Add pour point\n",
    "    pour_point = gpd.read_file(pour_point_path)\n",
    "    pour_point.plot(ax=ax, color='red', markersize=150, marker='o', zorder=5)\n",
    "    \n",
    "    ax.set_title(f'Distributed Domain: {len(basins)} Sub-basins', fontsize=16, fontweight='bold')\n",
    "    ax.set_xlabel('Longitude')\n",
    "    ax.set_ylabel('Latitude')\n",
    "    \n",
    "    # Add colorbar for GRU IDs\n",
    "    sm = plt.cm.ScalarMappable(cmap='viridis', \n",
    "                               norm=plt.Normalize(vmin=basins['GRU_ID'].min(), \n",
    "                                                 vmax=basins['GRU_ID'].max()))\n",
    "    sm._A = []\n",
    "    cbar = fig.colorbar(sm, ax=ax, shrink=0.8)\n",
    "    cbar.set_label('GRU ID', fontsize=12)\n",
    "    \n",
    "    plt.tight_layout()\n",
    "    plt.show()"
   ]
  },
  {
   "cell_type": "markdown",
   "metadata": {},
   "source": [
    "## 8. Geospatial Domain Definition - Discretization\n",
    "\n",
    "Now we'll create Hydrologic Response Units (HRUs) based on the Grouped Response Units (GRUs) we just created."
   ]
  },
  {
   "cell_type": "code",
   "execution_count": 8,
   "metadata": {
    "scrolled": true
   },
   "outputs": [
    {
     "name": "stdout",
     "output_type": "stream",
     "text": [
      "=== Step 4: Geospatial Domain Definition - Discretization ===\n",
      "Creating HRUs based on GRUs...\n",
      "Method: GRUs\n",
      "For this tutorial: 1 GRU = 1 HRU (simplest case)\n",
      "09:29:42 - INFO - Discretizing domain using method: GRUs\n"
     ]
    },
    {
     "name": "stderr",
     "output_type": "stream",
     "text": [
      "2025-05-13 09:29:42,443 - confluence_general - INFO - Discretizing domain using method: GRUs\n"
     ]
    },
    {
     "name": "stdout",
     "output_type": "stream",
     "text": [
      "09:29:42 - INFO - Starting domain discretization using method: grus\n"
     ]
    },
    {
     "name": "stderr",
     "output_type": "stream",
     "text": [
      "2025-05-13 09:29:42,446 - confluence_general - INFO - Starting domain discretization using method: grus\n"
     ]
    },
    {
     "name": "stdout",
     "output_type": "stream",
     "text": [
      "09:29:42 - INFO - Step 1/2: Running discretization method\n"
     ]
    },
    {
     "name": "stderr",
     "output_type": "stream",
     "text": [
      "2025-05-13 09:29:42,448 - confluence_general - INFO - Step 1/2: Running discretization method\n"
     ]
    },
    {
     "name": "stdout",
     "output_type": "stream",
     "text": [
      "09:29:42 - INFO - config domain name Bow_at_Banff_distributed\n"
     ]
    },
    {
     "name": "stderr",
     "output_type": "stream",
     "text": [
      "2025-05-13 09:29:42,450 - confluence_general - INFO - config domain name Bow_at_Banff_distributed\n"
     ]
    },
    {
     "name": "stdout",
     "output_type": "stream",
     "text": [
      "09:29:42 - INFO - Calculating mean elevation for each HRU\n"
     ]
    },
    {
     "name": "stderr",
     "output_type": "stream",
     "text": [
      "2025-05-13 09:29:42,459 - confluence_general - INFO - Calculating mean elevation for each HRU\n",
      "/work/comphyd_lab/users/darri/data/CONFLUENCE_data/installs/conf-env/lib/python3.11/site-packages/rasterstats/io.py:335: NodataWarning: Setting nodata to -999; specify nodata explicitly\n",
      "  warnings.warn(\n",
      "/home/darri.eythorsson/code/CONFLUENCE/utils/geospatial/discretization_utils.py:180: UserWarning: Geometry is in a geographic CRS. Results from 'centroid' are likely incorrect. Use 'GeoSeries.to_crs()' to re-project geometries to a projected CRS before this operation.\n",
      "\n",
      "  centroids_utm = gru_gdf.geometry.centroid\n",
      "/work/comphyd_lab/users/darri/data/CONFLUENCE_data/installs/conf-env/lib/python3.11/site-packages/pyogrio/raw.py:723: RuntimeWarning: Value 107654506.629660964 of field GRU_area of feature 0 not successfully written. Possibly due to too larger number with respect to field width\n",
      "  ogr_write(\n",
      "/work/comphyd_lab/users/darri/data/CONFLUENCE_data/installs/conf-env/lib/python3.11/site-packages/pyogrio/raw.py:723: RuntimeWarning: Value 107654506.629660964 of field HRU_area of feature 0 not successfully written. Possibly due to too larger number with respect to field width\n",
      "  ogr_write(\n",
      "/work/comphyd_lab/users/darri/data/CONFLUENCE_data/installs/conf-env/lib/python3.11/site-packages/pyogrio/raw.py:723: RuntimeWarning: Value 115962979.78223218 of field GRU_area of feature 2 not successfully written. Possibly due to too larger number with respect to field width\n",
      "  ogr_write(\n",
      "/work/comphyd_lab/users/darri/data/CONFLUENCE_data/installs/conf-env/lib/python3.11/site-packages/pyogrio/raw.py:723: RuntimeWarning: Value 115962979.78223218 of field HRU_area of feature 2 not successfully written. Possibly due to too larger number with respect to field width\n",
      "  ogr_write(\n",
      "/work/comphyd_lab/users/darri/data/CONFLUENCE_data/installs/conf-env/lib/python3.11/site-packages/pyogrio/raw.py:723: RuntimeWarning: Value 123420378.353142783 of field GRU_area of feature 12 not successfully written. Possibly due to too larger number with respect to field width\n",
      "  ogr_write(\n",
      "/work/comphyd_lab/users/darri/data/CONFLUENCE_data/installs/conf-env/lib/python3.11/site-packages/pyogrio/raw.py:723: RuntimeWarning: Value 123420378.353142783 of field HRU_area of feature 12 not successfully written. Possibly due to too larger number with respect to field width\n",
      "  ogr_write(\n",
      "/work/comphyd_lab/users/darri/data/CONFLUENCE_data/installs/conf-env/lib/python3.11/site-packages/pyogrio/raw.py:723: RuntimeWarning: Value 118867291.979016051 of field GRU_area of feature 42 not successfully written. Possibly due to too larger number with respect to field width\n",
      "  ogr_write(\n",
      "/work/comphyd_lab/users/darri/data/CONFLUENCE_data/installs/conf-env/lib/python3.11/site-packages/pyogrio/raw.py:723: RuntimeWarning: Value 118867291.979016051 of field HRU_area of feature 42 not successfully written. Possibly due to too larger number with respect to field width\n",
      "  ogr_write(\n",
      "/work/comphyd_lab/users/darri/data/CONFLUENCE_data/installs/conf-env/lib/python3.11/site-packages/pyogrio/raw.py:723: RuntimeWarning: Value 120218048.846222728 of field GRU_area of feature 45 not successfully written. Possibly due to too larger number with respect to field width\n",
      "  ogr_write(\n",
      "/work/comphyd_lab/users/darri/data/CONFLUENCE_data/installs/conf-env/lib/python3.11/site-packages/pyogrio/raw.py:723: RuntimeWarning: Value 120218048.846222728 of field HRU_area of feature 45 not successfully written. Possibly due to too larger number with respect to field width\n",
      "  ogr_write(\n",
      "2025-05-13 09:29:42,777 - pyogrio._io - INFO - Created 49 records\n"
     ]
    },
    {
     "name": "stdout",
     "output_type": "stream",
     "text": [
      "09:29:42 - INFO - GRUs saved as HRUs to /work/comphyd_lab/data/CONFLUENCE_data/domain_Bow_at_Banff_distributed/shapefiles/catchment/Bow_at_Banff_distributed_HRUs_GRUs.shp\n"
     ]
    },
    {
     "name": "stderr",
     "output_type": "stream",
     "text": [
      "2025-05-13 09:29:42,783 - confluence_general - INFO - GRUs saved as HRUs to /work/comphyd_lab/data/CONFLUENCE_data/domain_Bow_at_Banff_distributed/shapefiles/catchment/Bow_at_Banff_distributed_HRUs_GRUs.shp\n"
     ]
    },
    {
     "name": "stdout",
     "output_type": "stream",
     "text": [
      "09:29:43 - INFO - HRU plot saved to /work/comphyd_lab/data/CONFLUENCE_data/domain_Bow_at_Banff_distributed/plots/catchment/Bow_at_Banff_distributed_HRUs_as_GRUs.png\n"
     ]
    },
    {
     "name": "stderr",
     "output_type": "stream",
     "text": [
      "2025-05-13 09:29:43,690 - confluence_general - INFO - HRU plot saved to /work/comphyd_lab/data/CONFLUENCE_data/domain_Bow_at_Banff_distributed/plots/catchment/Bow_at_Banff_distributed_HRUs_as_GRUs.png\n"
     ]
    },
    {
     "name": "stdout",
     "output_type": "stream",
     "text": [
      "09:29:43 - INFO - Step 2/2: Sorting catchment shape\n"
     ]
    },
    {
     "name": "stderr",
     "output_type": "stream",
     "text": [
      "2025-05-13 09:29:43,692 - confluence_general - INFO - Step 2/2: Sorting catchment shape\n"
     ]
    },
    {
     "name": "stdout",
     "output_type": "stream",
     "text": [
      "09:29:43 - INFO - Sorting catchment shape\n"
     ]
    },
    {
     "name": "stderr",
     "output_type": "stream",
     "text": [
      "2025-05-13 09:29:43,694 - confluence_general - INFO - Sorting catchment shape\n",
      "/work/comphyd_lab/users/darri/data/CONFLUENCE_data/installs/conf-env/lib/python3.11/site-packages/pyogrio/raw.py:723: RuntimeWarning: Value 107654506.629660964 of field GRU_area of feature 0 not successfully written. Possibly due to too larger number with respect to field width\n",
      "  ogr_write(\n",
      "/work/comphyd_lab/users/darri/data/CONFLUENCE_data/installs/conf-env/lib/python3.11/site-packages/pyogrio/raw.py:723: RuntimeWarning: Value 107654506.629660964 of field HRU_area of feature 0 not successfully written. Possibly due to too larger number with respect to field width\n",
      "  ogr_write(\n",
      "/work/comphyd_lab/users/darri/data/CONFLUENCE_data/installs/conf-env/lib/python3.11/site-packages/pyogrio/raw.py:723: RuntimeWarning: Value 115962979.78223218 of field GRU_area of feature 2 not successfully written. Possibly due to too larger number with respect to field width\n",
      "  ogr_write(\n",
      "/work/comphyd_lab/users/darri/data/CONFLUENCE_data/installs/conf-env/lib/python3.11/site-packages/pyogrio/raw.py:723: RuntimeWarning: Value 115962979.78223218 of field HRU_area of feature 2 not successfully written. Possibly due to too larger number with respect to field width\n",
      "  ogr_write(\n",
      "/work/comphyd_lab/users/darri/data/CONFLUENCE_data/installs/conf-env/lib/python3.11/site-packages/pyogrio/raw.py:723: RuntimeWarning: Value 123420378.353142783 of field GRU_area of feature 12 not successfully written. Possibly due to too larger number with respect to field width\n",
      "  ogr_write(\n",
      "/work/comphyd_lab/users/darri/data/CONFLUENCE_data/installs/conf-env/lib/python3.11/site-packages/pyogrio/raw.py:723: RuntimeWarning: Value 123420378.353142783 of field HRU_area of feature 12 not successfully written. Possibly due to too larger number with respect to field width\n",
      "  ogr_write(\n",
      "/work/comphyd_lab/users/darri/data/CONFLUENCE_data/installs/conf-env/lib/python3.11/site-packages/pyogrio/raw.py:723: RuntimeWarning: Value 118867291.979016051 of field GRU_area of feature 42 not successfully written. Possibly due to too larger number with respect to field width\n",
      "  ogr_write(\n",
      "/work/comphyd_lab/users/darri/data/CONFLUENCE_data/installs/conf-env/lib/python3.11/site-packages/pyogrio/raw.py:723: RuntimeWarning: Value 118867291.979016051 of field HRU_area of feature 42 not successfully written. Possibly due to too larger number with respect to field width\n",
      "  ogr_write(\n",
      "/work/comphyd_lab/users/darri/data/CONFLUENCE_data/installs/conf-env/lib/python3.11/site-packages/pyogrio/raw.py:723: RuntimeWarning: Value 120218048.846222728 of field GRU_area of feature 45 not successfully written. Possibly due to too larger number with respect to field width\n",
      "  ogr_write(\n",
      "/work/comphyd_lab/users/darri/data/CONFLUENCE_data/installs/conf-env/lib/python3.11/site-packages/pyogrio/raw.py:723: RuntimeWarning: Value 120218048.846222728 of field HRU_area of feature 45 not successfully written. Possibly due to too larger number with respect to field width\n",
      "  ogr_write(\n",
      "2025-05-13 09:29:43,725 - pyogrio._io - INFO - Created 49 records\n"
     ]
    },
    {
     "name": "stdout",
     "output_type": "stream",
     "text": [
      "09:29:43 - INFO - Catchment shape sorted and saved to /work/comphyd_lab/data/CONFLUENCE_data/domain_Bow_at_Banff_distributed/shapefiles/catchment/Bow_at_Banff_distributed_HRUs_GRUs.shp\n"
     ]
    },
    {
     "name": "stderr",
     "output_type": "stream",
     "text": [
      "2025-05-13 09:29:43,731 - confluence_general - INFO - Catchment shape sorted and saved to /work/comphyd_lab/data/CONFLUENCE_data/domain_Bow_at_Banff_distributed/shapefiles/catchment/Bow_at_Banff_distributed_HRUs_GRUs.shp\n"
     ]
    },
    {
     "name": "stdout",
     "output_type": "stream",
     "text": [
      "09:29:43 - INFO - Domain discretization completed in 1.29 seconds\n"
     ]
    },
    {
     "name": "stderr",
     "output_type": "stream",
     "text": [
      "2025-05-13 09:29:43,733 - confluence_general - INFO - Domain discretization completed in 1.29 seconds\n"
     ]
    },
    {
     "name": "stdout",
     "output_type": "stream",
     "text": [
      "09:29:43 - ERROR - Domain discretization failed - no shapefile created\n"
     ]
    },
    {
     "name": "stderr",
     "output_type": "stream",
     "text": [
      "2025-05-13 09:29:43,734 - confluence_general - ERROR - Domain discretization failed - no shapefile created\n"
     ]
    },
    {
     "name": "stdout",
     "output_type": "stream",
     "text": [
      "\n",
      "✓ Created HRU shapefiles: 1\n",
      "\n",
      "HRU Statistics:\n",
      "Number of HRUs: 49\n",
      "Number of GRUs: 49\n",
      "Total area: 0.00 km²\n",
      "\n",
      "HRUs per GRU:\n",
      "  GRU 8: 1 HRUs\n",
      "  GRU 9: 1 HRUs\n",
      "  GRU 10: 1 HRUs\n",
      "  GRU 14: 1 HRUs\n",
      "  GRU 15: 1 HRUs\n",
      "  GRU 18: 1 HRUs\n",
      "  GRU 24: 1 HRUs\n",
      "  GRU 27: 1 HRUs\n",
      "  GRU 29: 1 HRUs\n",
      "  GRU 32: 1 HRUs\n",
      "  GRU 33: 1 HRUs\n",
      "  GRU 38: 1 HRUs\n",
      "  GRU 39: 1 HRUs\n",
      "  GRU 41: 1 HRUs\n",
      "  GRU 43: 1 HRUs\n",
      "  GRU 46: 1 HRUs\n",
      "  GRU 48: 1 HRUs\n",
      "  GRU 52: 1 HRUs\n",
      "  GRU 53: 1 HRUs\n",
      "  GRU 55: 1 HRUs\n",
      "  GRU 56: 1 HRUs\n",
      "  GRU 58: 1 HRUs\n",
      "  GRU 60: 1 HRUs\n",
      "  GRU 62: 1 HRUs\n",
      "  GRU 67: 1 HRUs\n",
      "  GRU 72: 1 HRUs\n",
      "  GRU 74: 1 HRUs\n",
      "  GRU 82: 1 HRUs\n",
      "  GRU 83: 1 HRUs\n",
      "  GRU 86: 1 HRUs\n",
      "  GRU 87: 1 HRUs\n",
      "  GRU 88: 1 HRUs\n",
      "  GRU 92: 1 HRUs\n",
      "  GRU 94: 1 HRUs\n",
      "  GRU 97: 1 HRUs\n",
      "  GRU 102: 1 HRUs\n",
      "  GRU 110: 1 HRUs\n",
      "  GRU 111: 1 HRUs\n",
      "  GRU 113: 1 HRUs\n",
      "  GRU 114: 1 HRUs\n",
      "  GRU 115: 1 HRUs\n",
      "  GRU 116: 1 HRUs\n",
      "  GRU 117: 1 HRUs\n",
      "  GRU 118: 1 HRUs\n",
      "  GRU 119: 1 HRUs\n",
      "  GRU 120: 1 HRUs\n",
      "  GRU 121: 1 HRUs\n",
      "  GRU 122: 1 HRUs\n",
      "  GRU 123: 1 HRUs\n"
     ]
    },
    {
     "name": "stderr",
     "output_type": "stream",
     "text": [
      "/tmp/ipykernel_1650676/2701407536.py:22: UserWarning: Geometry is in a geographic CRS. Results from 'area' are likely incorrect. Use 'GeoSeries.to_crs()' to re-project geometries to a projected CRS before this operation.\n",
      "\n",
      "  print(f\"Total area: {hru_gdf.geometry.area.sum() / 1e6:.2f} km²\")\n"
     ]
    }
   ],
   "source": [
    "# Step 4: Geospatial Domain Definition - Discretization\n",
    "print(\"=== Step 4: Geospatial Domain Definition - Discretization ===\")\n",
    "\n",
    "# Discretize domain\n",
    "print(f\"Creating HRUs based on GRUs...\")\n",
    "print(f\"Method: {confluence.config['DOMAIN_DISCRETIZATION']}\")\n",
    "print(\"For this tutorial: 1 GRU = 1 HRU (simplest case)\")\n",
    "\n",
    "hru_path = confluence.managers['domain'].discretize_domain()\n",
    "\n",
    "# Check the created HRU shapefile\n",
    "catchment_path = project_dir / 'shapefiles' / 'catchment'\n",
    "if catchment_path.exists():\n",
    "    hru_files = list(catchment_path.glob('*.shp'))\n",
    "    print(f\"\\n✓ Created HRU shapefiles: {len(hru_files)}\")\n",
    "    \n",
    "    if hru_files:\n",
    "        hru_gdf = gpd.read_file(hru_files[0])\n",
    "        print(f\"\\nHRU Statistics:\")\n",
    "        print(f\"Number of HRUs: {len(hru_gdf)}\")\n",
    "        print(f\"Number of GRUs: {hru_gdf['GRU_ID'].nunique()}\")\n",
    "        print(f\"Total area: {hru_gdf.geometry.area.sum() / 1e6:.2f} km²\")\n",
    "        \n",
    "        # Show HRU distribution\n",
    "        hru_counts = hru_gdf.groupby('GRU_ID').size()\n",
    "        print(f\"\\nHRUs per GRU:\")\n",
    "        for gru_id, count in hru_counts.items():\n",
    "            print(f\"  GRU {gru_id}: {count} HRUs\")"
   ]
  },
  {
   "cell_type": "markdown",
   "metadata": {},
   "source": [
    "## 9. Model Agnostic Data Processing - Observed Data\n",
    "\n",
    "The observed streamflow data will be the same for both the lumped and distributed models since they use the same pour point."
   ]
  },
  {
   "cell_type": "code",
   "execution_count": 9,
   "metadata": {
    "scrolled": true
   },
   "outputs": [
    {
     "name": "stdout",
     "output_type": "stream",
     "text": [
      "=== Step 5: Model Agnostic Data Processing - Observed Data ===\n",
      "Found existing observed data from lumped model. Reusing...\n",
      "Processing observed streamflow data...\n",
      "09:29:49 - INFO - Processing observed data\n"
     ]
    },
    {
     "name": "stderr",
     "output_type": "stream",
     "text": [
      "2025-05-13 09:29:49,937 - confluence_general - INFO - Processing observed data\n"
     ]
    },
    {
     "name": "stdout",
     "output_type": "stream",
     "text": [
      "09:29:49 - INFO - Processing WSC streamflow data from HYDAT database\n"
     ]
    },
    {
     "name": "stderr",
     "output_type": "stream",
     "text": [
      "2025-05-13 09:29:49,939 - confluence_general - INFO - Processing WSC streamflow data from HYDAT database\n"
     ]
    },
    {
     "name": "stdout",
     "output_type": "stream",
     "text": [
      "09:29:49 - INFO - Querying data from year 2018 to 2025\n"
     ]
    },
    {
     "name": "stderr",
     "output_type": "stream",
     "text": [
      "2025-05-13 09:29:49,943 - confluence_general - INFO - Querying data from year 2018 to 2025\n"
     ]
    },
    {
     "name": "stdout",
     "output_type": "stream",
     "text": [
      "09:29:49 - INFO - Retrieving discharge data for WSC station 05BB001 from HYDAT database\n"
     ]
    },
    {
     "name": "stderr",
     "output_type": "stream",
     "text": [
      "2025-05-13 09:29:49,945 - confluence_general - INFO - Retrieving discharge data for WSC station 05BB001 from HYDAT database\n"
     ]
    },
    {
     "name": "stdout",
     "output_type": "stream",
     "text": [
      "09:29:49 - INFO - Database path: /work/comphyd_lab/data/geospatial-data/hydat/Hydat.sqlite3\n"
     ]
    },
    {
     "name": "stderr",
     "output_type": "stream",
     "text": [
      "2025-05-13 09:29:49,946 - confluence_general - INFO - Database path: /work/comphyd_lab/data/geospatial-data/hydat/Hydat.sqlite3\n"
     ]
    },
    {
     "name": "stdout",
     "output_type": "stream",
     "text": [
      "09:29:49 - INFO - Time period: 2018 to 2025\n"
     ]
    },
    {
     "name": "stderr",
     "output_type": "stream",
     "text": [
      "2025-05-13 09:29:49,948 - confluence_general - INFO - Time period: 2018 to 2025\n"
     ]
    },
    {
     "name": "stdout",
     "output_type": "stream",
     "text": [
      "09:29:49 - INFO - Found station 05BB001 in HYDAT database\n"
     ]
    },
    {
     "name": "stderr",
     "output_type": "stream",
     "text": [
      "2025-05-13 09:29:49,962 - confluence_general - INFO - Found station 05BB001 in HYDAT database\n"
     ]
    },
    {
     "name": "stdout",
     "output_type": "stream",
     "text": [
      "09:29:49 - INFO - Station name: BOW RIVER AT BANFF\n"
     ]
    },
    {
     "name": "stderr",
     "output_type": "stream",
     "text": [
      "2025-05-13 09:29:49,963 - confluence_general - INFO - Station name: BOW RIVER AT BANFF\n"
     ]
    },
    {
     "name": "stdout",
     "output_type": "stream",
     "text": [
      "09:29:49 - INFO - Executing SQL query for daily flows...\n"
     ]
    },
    {
     "name": "stderr",
     "output_type": "stream",
     "text": [
      "2025-05-13 09:29:49,965 - confluence_general - INFO - Executing SQL query for daily flows...\n"
     ]
    },
    {
     "name": "stdout",
     "output_type": "stream",
     "text": [
      "09:29:49 - INFO - Retrieved 72 monthly records from HYDAT\n"
     ]
    },
    {
     "name": "stderr",
     "output_type": "stream",
     "text": [
      "2025-05-13 09:29:49,988 - confluence_general - INFO - Retrieved 72 monthly records from HYDAT\n"
     ]
    },
    {
     "name": "stdout",
     "output_type": "stream",
     "text": [
      "09:29:50 - INFO - Processed 2191 daily flow records\n"
     ]
    },
    {
     "name": "stderr",
     "output_type": "stream",
     "text": [
      "2025-05-13 09:29:50,073 - confluence_general - INFO - Processed 2191 daily flow records\n"
     ]
    },
    {
     "name": "stdout",
     "output_type": "stream",
     "text": [
      "09:29:50 - INFO - Date range: 2018-01-01 00:00:00 to 2023-12-31 00:00:00\n"
     ]
    },
    {
     "name": "stderr",
     "output_type": "stream",
     "text": [
      "2025-05-13 09:29:50,075 - confluence_general - INFO - Date range: 2018-01-01 00:00:00 to 2023-12-31 00:00:00\n"
     ]
    },
    {
     "name": "stdout",
     "output_type": "stream",
     "text": [
      "09:29:50 - INFO - Min flow: 5.809999942779541 m³/s\n"
     ]
    },
    {
     "name": "stderr",
     "output_type": "stream",
     "text": [
      "2025-05-13 09:29:50,076 - confluence_general - INFO - Min flow: 5.809999942779541 m³/s\n"
     ]
    },
    {
     "name": "stdout",
     "output_type": "stream",
     "text": [
      "09:29:50 - INFO - Max flow: 240.0 m³/s\n"
     ]
    },
    {
     "name": "stderr",
     "output_type": "stream",
     "text": [
      "2025-05-13 09:29:50,078 - confluence_general - INFO - Max flow: 240.0 m³/s\n"
     ]
    },
    {
     "name": "stdout",
     "output_type": "stream",
     "text": [
      "09:29:50 - INFO - Mean flow: 38.202441793769964 m³/s\n"
     ]
    },
    {
     "name": "stderr",
     "output_type": "stream",
     "text": [
      "2025-05-13 09:29:50,080 - confluence_general - INFO - Mean flow: 38.202441793769964 m³/s\n"
     ]
    },
    {
     "name": "stdout",
     "output_type": "stream",
     "text": [
      "09:29:50 - INFO - Processed streamflow data saved to: /work/comphyd_lab/data/CONFLUENCE_data/domain_Bow_at_Banff_distributed/observations/streamflow/preprocessed/Bow_at_Banff_distributed_streamflow_processed.csv\n"
     ]
    },
    {
     "name": "stderr",
     "output_type": "stream",
     "text": [
      "2025-05-13 09:29:50,996 - confluence_general - INFO - Processed streamflow data saved to: /work/comphyd_lab/data/CONFLUENCE_data/domain_Bow_at_Banff_distributed/observations/streamflow/preprocessed/Bow_at_Banff_distributed_streamflow_processed.csv\n"
     ]
    },
    {
     "name": "stdout",
     "output_type": "stream",
     "text": [
      "09:29:50 - INFO - Total rows in processed data: 52561\n"
     ]
    },
    {
     "name": "stderr",
     "output_type": "stream",
     "text": [
      "2025-05-13 09:29:50,998 - confluence_general - INFO - Total rows in processed data: 52561\n"
     ]
    },
    {
     "name": "stdout",
     "output_type": "stream",
     "text": [
      "09:29:51 - INFO - Number of non-null values: 52561\n"
     ]
    },
    {
     "name": "stderr",
     "output_type": "stream",
     "text": [
      "2025-05-13 09:29:51,000 - confluence_general - INFO - Number of non-null values: 52561\n"
     ]
    },
    {
     "name": "stdout",
     "output_type": "stream",
     "text": [
      "09:29:51 - INFO - Number of null values: 0\n"
     ]
    },
    {
     "name": "stderr",
     "output_type": "stream",
     "text": [
      "2025-05-13 09:29:51,002 - confluence_general - INFO - Number of null values: 0\n"
     ]
    },
    {
     "name": "stdout",
     "output_type": "stream",
     "text": [
      "09:29:51 - INFO - Successfully processed WSC data for station 05BB001\n"
     ]
    },
    {
     "name": "stderr",
     "output_type": "stream",
     "text": [
      "2025-05-13 09:29:51,011 - confluence_general - INFO - Successfully processed WSC data for station 05BB001\n"
     ]
    },
    {
     "name": "stdout",
     "output_type": "stream",
     "text": [
      "09:29:51 - INFO - Processing SNOTEL data\n"
     ]
    },
    {
     "name": "stderr",
     "output_type": "stream",
     "text": [
      "2025-05-13 09:29:51,013 - confluence_general - INFO - Processing SNOTEL data\n"
     ]
    },
    {
     "name": "stdout",
     "output_type": "stream",
     "text": [
      "09:29:51 - INFO - SNOTEL data processing is disabled in configuration\n"
     ]
    },
    {
     "name": "stderr",
     "output_type": "stream",
     "text": [
      "2025-05-13 09:29:51,015 - confluence_general - INFO - SNOTEL data processing is disabled in configuration\n"
     ]
    },
    {
     "name": "stdout",
     "output_type": "stream",
     "text": [
      "09:29:51 - INFO - Observed data processing completed successfully\n"
     ]
    },
    {
     "name": "stderr",
     "output_type": "stream",
     "text": [
      "2025-05-13 09:29:51,017 - confluence_general - INFO - Observed data processing completed successfully\n"
     ]
    },
    {
     "data": {
      "image/png": "[encoded data removed]",
      "text/plain": [
       "<Figure size 1400x600 with 1 Axes>"
      ]
     },
     "metadata": {},
     "output_type": "display_data"
    }
   ],
   "source": [
    "# Step 5: Model Agnostic Data Processing - Observed Data\n",
    "print(\"=== Step 5: Model Agnostic Data Processing - Observed Data ===\")\n",
    "\n",
    "# Check if we can reuse data from the lumped model\n",
    "lumped_obs_path = CONFLUENCE_DATA_DIR / 'domain_Bow_at_Banff_lumped' / 'observations' / 'streamflow' / 'preprocessed'\n",
    "can_reuse_obs = lumped_obs_path.exists() and list(lumped_obs_path.glob('*.csv'))\n",
    "\n",
    "if can_reuse_obs:\n",
    "    print(\"Found existing observed data from lumped model. Reusing...\")\n",
    "    # We can proceed, but CONFLUENCE will handle the reuse internally\n",
    "\n",
    "# Process observed data\n",
    "print(\"Processing observed streamflow data...\")\n",
    "confluence.managers['data'].process_observed_data()\n",
    "\n",
    "# Visualize observed streamflow data\n",
    "obs_path = project_dir / 'observations' / 'streamflow' / 'preprocessed' / f\"{confluence.config['DOMAIN_NAME']}_streamflow_processed.csv\"\n",
    "if obs_path.exists():\n",
    "    obs_df = pd.read_csv(obs_path)\n",
    "    obs_df['datetime'] = pd.to_datetime(obs_df['datetime'])\n",
    "    \n",
    "    fig, ax = plt.subplots(figsize=(14, 6))\n",
    "    ax.plot(obs_df['datetime'], obs_df['discharge_cms'], \n",
    "            linewidth=1.5, color='blue', alpha=0.7)\n",
    "    \n",
    "    ax.set_xlabel('Date', fontsize=12)\n",
    "    ax.set_ylabel('Discharge (m³/s)', fontsize=12)\n",
    "    ax.set_title(f'Observed Streamflow - Bow River at Banff (WSC Station: {confluence.config[\"STATION_ID\"]})', \n",
    "                fontsize=14, fontweight='bold')\n",
    "    ax.grid(True, alpha=0.3)\n",
    "    \n",
    "    # Add statistics\n",
    "    ax.text(0.02, 0.95, f'Mean: {obs_df[\"discharge_cms\"].mean():.1f} m³/s\\nMax: {obs_df[\"discharge_cms\"].max():.1f} m³/s', \n",
    "            transform=ax.transAxes, \n",
    "            bbox=dict(boxstyle='round,pad=0.5', facecolor='white', alpha=0.8),\n",
    "            verticalalignment='top')\n",
    "    \n",
    "    plt.tight_layout()\n",
    "    plt.show()"
   ]
  },
  {
   "cell_type": "markdown",
   "metadata": {},
   "source": [
    "## 10. Model Agnostic Data Processing - Preprocessing"
   ]
  },
  {
   "cell_type": "code",
   "execution_count": null,
   "metadata": {
    "scrolled": true
   },
   "outputs": [],
   "source": [
    "# Step 7: Model Agnostic Data Processing - Preprocessing\n",
    "print(\"=== Step 7: Model Agnostic Data Processing - Preprocessing ===\")\n",
    "\n",
    "# Run model-agnostic preprocessing\n",
    "print(\"\\nRunning model-agnostic preprocessing...\")\n",
    "confluence.managers['data'].run_model_agnostic_preprocessing()\n",
    "\n",
    "print(\"\\n✓ Model-agnostic preprocessing completed\")"
   ]
  },
  {
   "cell_type": "markdown",
   "metadata": {},
   "source": [
    "## 11. Model-Specific Processing - Preprocessing\n",
    "\n",
    "Now we prepare inputs specific to our chosen hydrological model (SUMMA in this case), set up for a distributed configuration."
   ]
  },
  {
   "cell_type": "code",
   "execution_count": null,
   "metadata": {},
   "outputs": [],
   "source": [
    "# Step 8: Model Specific Processing and Initialization\n",
    "print(\"=== Step 8: Model Specific Processing and Initialization ===\")\n",
    "\n",
    "# Preprocess models\n",
    "print(f\"Preparing {confluence.config['HYDROLOGICAL_MODEL']} input files...\")\n",
    "print(f\"Note: For distributed mode with {confluence.config['HYDROLOGICAL_MODEL']}, this includes generating:\")\n",
    "print(f\"  - Model parameter files for each GRU\")\n",
    "print(f\"  - Routing configuration for river network\")\n",
    "\n",
    "confluence.managers['model'].preprocess_models()\n",
    "\n",
    "print(\"\\n✓ Model-specific preprocessing completed\")"
   ]
  },
  {
   "cell_type": "markdown",
   "metadata": {},
   "source": [
    "## 13. Run the Distributed Model\n",
    "\n",
    "Now we execute the SUMMA model in distributed mode with routing."
   ]
  },
  {
   "cell_type": "code",
   "execution_count": null,
   "metadata": {},
   "outputs": [
    {
     "name": "stdout",
     "output_type": "stream",
     "text": [
      "=== Step 9: Run the Distributed Model ===\n",
      "Running distributed SUMMA model...\n",
      "Number of GRUs: (check from previous output)\n",
      "Note: This will take longer than the lumped model due to multiple units.\n",
      "09:30:03 - INFO - Starting model runs\n"
     ]
    },
    {
     "name": "stderr",
     "output_type": "stream",
     "text": [
      "2025-05-13 09:30:03,413 - confluence_general - INFO - Starting model runs\n"
     ]
    },
    {
     "name": "stdout",
     "output_type": "stream",
     "text": [
      "09:30:03 - INFO - Running model: SUMMA\n"
     ]
    },
    {
     "name": "stderr",
     "output_type": "stream",
     "text": [
      "2025-05-13 09:30:03,416 - confluence_general - INFO - Running model: SUMMA\n"
     ]
    },
    {
     "name": "stdout",
     "output_type": "stream",
     "text": [
      "09:30:03 - INFO - Starting SUMMA run\n"
     ]
    },
    {
     "name": "stderr",
     "output_type": "stream",
     "text": [
      "2025-05-13 09:30:03,417 - confluence_general - INFO - Starting SUMMA run\n"
     ]
    }
   ],
   "source": [
    "# Step 9: Run the Distributed Model\n",
    "print(\"=== Step 9: Run the Distributed Model ===\")\n",
    "\n",
    "# Run the model\n",
    "print(f\"Running distributed {confluence.config['HYDROLOGICAL_MODEL']} model...\")\n",
    "print(f\"Number of GRUs: (check from previous output)\")\n",
    "print(\"Note: This will take longer than the lumped model due to multiple units.\")\n",
    "\n",
    "confluence.managers['model'].run_models()\n",
    "\n",
    "print(\"\\n✓ Model execution completed\")"
   ]
  },
  {
   "cell_type": "markdown",
   "metadata": {},
   "source": [
    "## 15. Visualize Distributed Model Results"
   ]
  },
  {
   "cell_type": "code",
   "execution_count": null,
   "metadata": {},
   "outputs": [],
   "source": [
    "# Postprocess results and visualize\n",
    "print(\"Visualising model results...\")\n",
    "\n",
    "# Load and plot simulation results\n",
    "sim_path = project_dir / 'simulations' / confluence.config['EXPERIMENT_ID'] / 'mizuRoute'\n",
    "sim_files = list(sim_path.glob('*.nc'))\n",
    "\n",
    "if sim_files:\n",
    "    # Load simulation data\n",
    "    sim_data = xr.open_dataset(sim_files[0])\n",
    "    \n",
    "    # Load observation data\n",
    "    obs_path = project_dir / 'observations' / 'streamflow' / 'preprocessed' / f\"{confluence.config['DOMAIN_NAME']}_streamflow_processed.csv\"\n",
    "    obs_df = pd.read_csv(obs_path)\n",
    "    obs_df['datetime'] = pd.to_datetime(obs_df['datetime'])\n",
    "    \n",
    "    # Find the segment ID for the outlet\n",
    "    if 'reachID' in sim_data.dims:\n",
    "        outlet_idx = sim_data.reachID.values == confluence.config['SIM_REACH_ID']\n",
    "        if any(outlet_idx):\n",
    "            # Extract simulated flow at outlet\n",
    "            sim_flow = sim_data.IRFroutedRunoff.sel(reachID=confluence.config['SIM_REACH_ID']).to_pandas()\n",
    "            sim_df = pd.DataFrame({'datetime': sim_flow.index, 'flow': sim_flow.values})\n",
    "            \n",
    "            # Plot comparison\n",
    "            fig, ax = plt.subplots(figsize=(14, 6))\n",
    "            \n",
    "            # Plot observed flow\n",
    "            ax.plot(obs_df['datetime'], obs_df['discharge_cms'], \n",
    "                    color='blue', linewidth=1.5, label='Observed')\n",
    "            \n",
    "            # Plot simulated flow\n",
    "            ax.plot(sim_df['datetime'], sim_df['flow'], \n",
    "                    color='red', linewidth=1.5, alpha=0.7, label='Simulated (Distributed)')\n",
    "            \n",
    "            ax.set_xlabel('Date', fontsize=12)\n",
    "            ax.set_ylabel('Discharge (m³/s)', fontsize=12)\n",
    "            ax.set_title('Distributed Model Results - Bow River at Banff', \n",
    "                        fontsize=14, fontweight='bold')\n",
    "            ax.grid(True, alpha=0.3)\n",
    "            ax.legend(fontsize=10)\n",
    "            \n",
    "            plt.tight_layout()\n",
    "            plt.show()\n",
    "            \n",
    "    else:\n",
    "        print(\"Could not find reachID dimension in simulation output\")\n",
    "else:\n",
    "    print(\"No simulation results found. Check model execution.\")"
   ]
  },
  {
   "cell_type": "markdown",
   "metadata": {},
   "source": [
    "## 16. Compare Lumped vs Distributed Results (Optional)\n",
    "\n",
    "If you've completed the lumped model tutorial, we can compare results between the two approaches."
   ]
  },
  {
   "cell_type": "code",
   "execution_count": null,
   "metadata": {},
   "outputs": [],
   "source": [
    "# Try to load lumped model results for comparison\n",
    "lumped_sim_path = CONFLUENCE_DATA_DIR / 'domain_Bow_at_Banff_lumped' / 'simulations' / 'run_1' / 'mizuRoute'\n",
    "lumped_sim_files = list(lumped_sim_path.glob('*.nc')) if lumped_sim_path.exists() else []\n",
    "\n",
    "if lumped_sim_files:\n",
    "    print(\"Found lumped model results. Creating comparison plot...\")\n",
    "    \n",
    "    # Load lumped simulation data\n",
    "    lumped_data = xr.open_dataset(lumped_sim_files[0])\n",
    "    \n",
    "    # Load distributed simulation data\n",
    "    dist_sim_path = project_dir / 'simulations' / confluence.config['EXPERIMENT_ID'] / 'mizuRoute'\n",
    "    dist_sim_files = list(dist_sim_path.glob('*.nc'))\n",
    "    \n",
    "    if dist_sim_files:\n",
    "        dist_data = xr.open_dataset(dist_sim_files[0])\n",
    "        \n",
    "        # Load observation data\n",
    "        obs_path = project_dir / 'observations' / 'streamflow' / 'preprocessed' / f\"{confluence.config['DOMAIN_NAME']}_streamflow_processed.csv\"\n",
    "        obs_df = pd.read_csv(obs_path)\n",
    "        obs_df['datetime'] = pd.to_datetime(obs_df['datetime'])\n",
    "        \n",
    "        # Extract flows\n",
    "        # Find the segment ID for the outlet\n",
    "        if 'reachID' in dist_data.dims and 'reachID' in lumped_data.dims:\n",
    "            # Extract distributed flow\n",
    "            dist_flow = dist_data.IRFroutedRunoff.sel(reachID=confluence.config['SIM_REACH_ID']).to_pandas()\n",
    "            dist_df = pd.DataFrame({'datetime': dist_flow.index, 'flow': dist_flow.values})\n",
    "            \n",
    "            # Extract lumped flow\n",
    "            lumped_flow = lumped_data.IRFroutedRunoff.sel(reachID=confluence.config['SIM_REACH_ID']).to_pandas()\n",
    "            lumped_df = pd.DataFrame({'datetime': lumped_flow.index, 'flow': lumped_flow.values})\n",
    "            \n",
    "            # Plot comparison\n",
    "            fig, ax = plt.subplots(figsize=(14, 6))\n",
    "            \n",
    "            # Plot observed flow\n",
    "            ax.plot(obs_df['datetime'], obs_df['discharge_cms'], \n",
    "                    color='black', linewidth=1.5, label='Observed')\n",
    "            \n",
    "            # Plot lumped flow\n",
    "            ax.plot(lumped_df['datetime'], lumped_df['flow'], \n",
    "                    color='blue', linewidth=1.5, alpha=0.7, label='Lumped Model')\n",
    "            \n",
    "            # Plot distributed flow\n",
    "            ax.plot(dist_df['datetime'], dist_df['flow'], \n",
    "                    color='red', linewidth=1.5, alpha=0.7, label='Distributed Model')\n",
    "            \n",
    "            ax.set_xlabel('Date', fontsize=12)\n",
    "            ax.set_ylabel('Discharge (m³/s)', fontsize=12)\n",
    "            ax.set_title('Lumped vs Distributed Model Comparison - Bow River at Banff', \n",
    "                        fontsize=14, fontweight='bold')\n",
    "            ax.grid(True, alpha=0.3)\n",
    "            ax.legend(fontsize=10)\n",
    "            \n",
    "            plt.tight_layout()\n",
    "            plt.show()\n",
    "            \n",
    "    else:\n",
    "        print(\"Distributed simulation results not found. Run the distributed model first.\")\n",
    "else:\n",
    "    print(\"Lumped model results not found. Complete Tutorial 2 first for comparison.\")"
   ]
  },
  {
   "cell_type": "markdown",
   "metadata": {},
   "source": [
    "## 17. Optional Steps - Optimization and Analysis\n",
    "\n",
    "These steps are optional and could be run to further explore the distributed model."
   ]
  },
  {
   "cell_type": "code",
   "execution_count": null,
   "metadata": {},
   "outputs": [],
   "source": [
    "# Step 11: Optional Steps (Optimization and Analysis)\n",
    "print(\"=== Step 11: Optional Steps ===\")\n",
    "\n",
    "# Check if optimization is enabled\n",
    "if confluence.config.get('RUN_ITERATIVE_OPTIMISATION', False):\n",
    "    print(\"Running model calibration...\")\n",
    "    optimization_results = confluence.managers['optimization'].calibrate_model()\n",
    "else:\n",
    "    print(\"Model calibration skipped (RUN_ITERATIVE_OPTIMISATION = False)\")\n",
    "\n",
    "# Check if emulation is enabled\n",
    "if confluence.config.get('RUN_LARGE_SAMPLE_EMULATION', False) or confluence.config.get('RUN_RANDOM_FOREST_EMULATION', False):\n",
    "    print(\"Running parameter emulation...\")\n",
    "    emulation_results = confluence.managers['optimization'].run_emulation()\n",
    "else:\n",
    "    print(\"Parameter emulation skipped\")\n",
    "\n",
    "# Check if decision analysis is enabled\n",
    "if confluence.config.get('RUN_DECISION_ANALYSIS', False):\n",
    "    print(\"Running decision analysis...\")\n",
    "    decision_results = confluence.managers['analysis'].run_decision_analysis()\n",
    "else:\n",
    "    print(\"Decision analysis skipped\")\n",
    "\n",
    "# Check if sensitivity analysis is enabled\n",
    "if confluence.config.get('RUN_SENSITIVITY_ANALYSIS', False):\n",
    "    print(\"Running sensitivity analysis...\")\n",
    "    sensitivity_results = confluence.managers['analysis'].run_sensitivity_analysis()\n",
    "else:\n",
    "    print(\"Sensitivity analysis skipped\")"
   ]
  },
  {
   "cell_type": "code",
   "execution_count": null,
   "metadata": {},
   "outputs": [],
   "source": [
    "# Alternative: Run the complete workflow in one step\n",
    "# (Uncomment to use this instead of the step-by-step approach)\n",
    "\n",
    "# confluence.run_workflow()"
   ]
  }
 ],
 "metadata": {
  "kernelspec": {
   "display_name": "Python 3 (ipykernel)",
   "language": "python",
   "name": "python3"
  },
  "language_info": {
   "codemirror_mode": {
    "name": "ipython",
    "version": 3
   },
   "file_extension": ".py",
   "mimetype": "text/x-python",
   "name": "python",
   "nbconvert_exporter": "python",
   "pygments_lexer": "ipython3",
   "version": "3.11.7"
  }
 },
 "nbformat": 4,
 "nbformat_minor": 4
}
