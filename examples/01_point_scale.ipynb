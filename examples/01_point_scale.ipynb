{
 "cells": [
  {
   "cell_type": "markdown",
   "metadata": {},
   "source": [
    "# CONFLUENCE Tutorial: Point-Scale Workflow (Flux Tower Example)\n",
    "\n",
    "This notebook demonstrates CONFLUENCE's simplest spatial configuration: point-scale modeling. We'll simulate vertical processes at a single location, typical for flux tower sites, weather stations, or snow monitoring locations.\n",
    "\n",
    "## Overview\n",
    "\n",
    "Point-scale modeling focuses on vertical processes without spatial heterogeneity:\n",
    "- Energy balance\n",
    "- Soil moisture dynamics  \n",
    "- Snow accumulation and melt\n",
    "- Evapotranspiration\n",
    "\n",
    "## Learning Objectives\n",
    "\n",
    "1. Understand point-scale modeling in CONFLUENCE\n",
    "2. Configure CONFLUENCE for single-point simulations\n",
    "3. Compare with spatially distributed approaches\n",
    "4. Analyze point-scale model outputs"
   ]
  },
  {
   "cell_type": "markdown",
   "metadata": {},
   "source": [
    "## 1. Understanding Point-Scale Modeling\n",
    "\n",
    "Before we simulate entire watersheds, we need to understand the vertical processes at a single point.\n",
    "\n",
    "### When to Use Point-Scale Modeling:\n",
    "\n",
    "- **Flux tower validation**: Compare model outputs with eddy covariance measurements\n",
    "- **Process understanding**: Study vertical water and energy fluxes without spatial complexity\n",
    "- **Parameter calibration**: Optimize parameters at well-instrumented sites\n",
    "- **Model development**: Test new parameterizations before scaling up\n",
    "- **SNOTEL/Weather stations**: Validate snow accumulation and melt processes"
   ]
  },
  {
   "cell_type": "code",
   "execution_count": 1,
   "metadata": {},
   "outputs": [],
   "source": [
    "# Import required libraries\n",
    "import sys\n",
    "import os\n",
    "from pathlib import Path\n",
    "import yaml\n",
    "import pandas as pd\n",
    "import matplotlib.pyplot as plt\n",
    "import geopandas as gpd\n",
    "from datetime import datetime\n",
    "import contextily as cx\n",
    "import xarray as xr\n",
    "import numpy as np\n",
    "\n",
    "# Add CONFLUENCE to path\n",
    "confluence_path = Path('../').resolve()\n",
    "sys.path.append(str(confluence_path))\n",
    "\n",
    "# Import main CONFLUENCE class\n",
    "from CONFLUENCE import CONFLUENCE\n",
    "\n",
    "# Set up plotting style\n",
    "plt.style.use('default')\n",
    "%matplotlib inline"
   ]
  },
  {
   "cell_type": "markdown",
   "metadata": {},
   "source": [
    "## 2. Create Point-Scale Configuration\n",
    "\n",
    "For point-scale modeling, we need to modify our configuration to:\n",
    "1. Set `SPATIAL_MODE: Point`\n",
    "2. Create a minimal domain (single point with small buffer)\n",
    "3. Focus on vertical processes\n",
    "\n",
    "We'll use a SNOTEL site as our example: Loveland Pass in Colorado."
   ]
  },
  {
   "cell_type": "code",
   "execution_count": 2,
   "metadata": {},
   "outputs": [
    {
     "name": "stdout",
     "output_type": "stream",
     "text": [
      "=== Point-Scale Configuration ===\n",
      "Domain Name: loveland_pass_snotel\n",
      "Spatial Mode: Point\n",
      "Location: 39.68/-105.88\n",
      "Period: 2020-10-01 00:00 to 2021-09-30 23:00\n",
      "Forcing Data: ERA5\n"
     ]
    }
   ],
   "source": [
    "# Set directory paths\n",
    "CONFLUENCE_CODE_DIR = confluence_path\n",
    "CONFLUENCE_DATA_DIR = Path('/work/comphyd_lab/data/CONFLUENCE_data')  # ← User should modify this path\n",
    "\n",
    "# Verify paths exist\n",
    "if not CONFLUENCE_CODE_DIR.exists():\n",
    "    raise FileNotFoundError(f\"CONFLUENCE code directory not found: {CONFLUENCE_CODE_DIR}\")\n",
    "\n",
    "if not CONFLUENCE_DATA_DIR.exists():\n",
    "    print(f\"Data directory doesn't exist. Creating: {CONFLUENCE_DATA_DIR}\")\n",
    "    CONFLUENCE_DATA_DIR.mkdir(parents=True, exist_ok=True)\n",
    "\n",
    "# Load template configuration\n",
    "config_template_path = CONFLUENCE_CODE_DIR / '0_config_files' / 'config_point_template.yaml'\n",
    "\n",
    "# Read config file\n",
    "with open(config_template_path, 'r') as f:\n",
    "    config_dict = yaml.safe_load(f)\n",
    "\n",
    "# Update paths and settings for point-scale\n",
    "config_dict['CONFLUENCE_CODE_DIR'] = str(CONFLUENCE_CODE_DIR)\n",
    "config_dict['CONFLUENCE_DATA_DIR'] = str(CONFLUENCE_DATA_DIR)\n",
    "\n",
    "# Modify for point-scale modeling\n",
    "config_dict['DOMAIN_NAME'] = 'loveland_pass_snotel'\n",
    "config_dict['EXPERIMENT_ID'] = 'point_scale_tutorial'\n",
    "config_dict['SPATIAL_MODE'] = 'Point'  # Key setting for point-scale\n",
    "config_dict['POUR_POINT_COORDS'] = '39.68/-105.88'  # Loveland Pass SNOTEL site\n",
    "\n",
    "# Use lumped configuration (single unit)\n",
    "config_dict['DOMAIN_DEFINITION_METHOD'] = 'lumped'\n",
    "config_dict['DOMAIN_DISCRETIZATION'] = 'GRUs'\n",
    "\n",
    "# Update experiment period for tutorial\n",
    "config_dict['EXPERIMENT_TIME_START'] = '2020-10-01 00:00'\n",
    "config_dict['EXPERIMENT_TIME_END'] = '2021-09-30 23:00'\n",
    "\n",
    "# Set forcing data parameters\n",
    "config_dict['FORCING_DATASET'] = 'ERA5'\n",
    "config_dict['FORCING_VARIABLES'] = 'default'\n",
    "\n",
    "# Save point-scale configuration to temporary file\n",
    "temp_config_path = CONFLUENCE_CODE_DIR / '0_config_files' / 'config_point_notebook.yaml'\n",
    "with open(temp_config_path, 'w') as f:\n",
    "    yaml.dump(config_dict, f)\n",
    "\n",
    "print(\"=== Point-Scale Configuration ===\")\n",
    "print(f\"Domain Name: {config_dict['DOMAIN_NAME']}\")\n",
    "print(f\"Spatial Mode: {config_dict['SPATIAL_MODE']}\")\n",
    "print(f\"Location: {config_dict['POUR_POINT_COORDS']}\")\n",
    "print(f\"Period: {config_dict['EXPERIMENT_TIME_START']} to {config_dict['EXPERIMENT_TIME_END']}\")\n",
    "print(f\"Forcing Data: {config_dict['FORCING_DATASET']}\")"
   ]
  },
  {
   "cell_type": "markdown",
   "metadata": {},
   "source": [
    "## 3. Initialize CONFLUENCE for Point-Scale"
   ]
  },
  {
   "cell_type": "code",
   "execution_count": 3,
   "metadata": {},
   "outputs": [
    {
     "name": "stdout",
     "output_type": "stream",
     "text": [
      "16:17:55 - INFO - ============================================================\n"
     ]
    },
    {
     "name": "stderr",
     "output_type": "stream",
     "text": [
      "2025-05-11 16:17:55,931 - confluence_general - INFO - ============================================================\n"
     ]
    },
    {
     "name": "stdout",
     "output_type": "stream",
     "text": [
      "16:17:55 - INFO - CONFLUENCE Logging Initialized\n"
     ]
    },
    {
     "name": "stderr",
     "output_type": "stream",
     "text": [
      "2025-05-11 16:17:55,932 - confluence_general - INFO - CONFLUENCE Logging Initialized\n"
     ]
    },
    {
     "name": "stdout",
     "output_type": "stream",
     "text": [
      "16:17:55 - INFO - Domain: loveland_pass_snotel\n"
     ]
    },
    {
     "name": "stderr",
     "output_type": "stream",
     "text": [
      "2025-05-11 16:17:55,934 - confluence_general - INFO - Domain: loveland_pass_snotel\n"
     ]
    },
    {
     "name": "stdout",
     "output_type": "stream",
     "text": [
      "16:17:55 - INFO - Experiment ID: point_scale_tutorial\n"
     ]
    },
    {
     "name": "stderr",
     "output_type": "stream",
     "text": [
      "2025-05-11 16:17:55,936 - confluence_general - INFO - Experiment ID: point_scale_tutorial\n"
     ]
    },
    {
     "name": "stdout",
     "output_type": "stream",
     "text": [
      "16:17:55 - INFO - Log Level: INFO\n"
     ]
    },
    {
     "name": "stderr",
     "output_type": "stream",
     "text": [
      "2025-05-11 16:17:55,937 - confluence_general - INFO - Log Level: INFO\n"
     ]
    },
    {
     "name": "stdout",
     "output_type": "stream",
     "text": [
      "16:17:55 - INFO - Log File: /work/comphyd_lab/data/CONFLUENCE_data/domain_loveland_pass_snotel/_workLog_loveland_pass_snotel/confluence_general_loveland_pass_snotel_20250511_161755.log\n"
     ]
    },
    {
     "name": "stderr",
     "output_type": "stream",
     "text": [
      "2025-05-11 16:17:55,939 - confluence_general - INFO - Log File: /work/comphyd_lab/data/CONFLUENCE_data/domain_loveland_pass_snotel/_workLog_loveland_pass_snotel/confluence_general_loveland_pass_snotel_20250511_161755.log\n"
     ]
    },
    {
     "name": "stdout",
     "output_type": "stream",
     "text": [
      "16:17:55 - INFO - ============================================================\n"
     ]
    },
    {
     "name": "stderr",
     "output_type": "stream",
     "text": [
      "2025-05-11 16:17:55,941 - confluence_general - INFO - ============================================================\n"
     ]
    },
    {
     "name": "stdout",
     "output_type": "stream",
     "text": [
      "16:17:55 - INFO - Configuration logged to: /work/comphyd_lab/data/CONFLUENCE_data/domain_loveland_pass_snotel/_workLog_loveland_pass_snotel/config_loveland_pass_snotel_20250511_161755.yaml\n"
     ]
    },
    {
     "name": "stderr",
     "output_type": "stream",
     "text": [
      "2025-05-11 16:17:55,967 - confluence_general - INFO - Configuration logged to: /work/comphyd_lab/data/CONFLUENCE_data/domain_loveland_pass_snotel/_workLog_loveland_pass_snotel/config_loveland_pass_snotel_20250511_161755.yaml\n"
     ]
    },
    {
     "name": "stdout",
     "output_type": "stream",
     "text": [
      "16:17:55 - INFO - Initializing CONFLUENCE system\n"
     ]
    },
    {
     "name": "stderr",
     "output_type": "stream",
     "text": [
      "2025-05-11 16:17:55,971 - confluence_general - INFO - Initializing CONFLUENCE system\n"
     ]
    },
    {
     "name": "stdout",
     "output_type": "stream",
     "text": [
      "16:17:55 - INFO - Configuration loaded from: /home/darri.eythorsson/code/CONFLUENCE/0_config_files/config_point_notebook.yaml\n"
     ]
    },
    {
     "name": "stderr",
     "output_type": "stream",
     "text": [
      "2025-05-11 16:17:55,973 - confluence_general - INFO - Configuration loaded from: /home/darri.eythorsson/code/CONFLUENCE/0_config_files/config_point_notebook.yaml\n"
     ]
    },
    {
     "name": "stdout",
     "output_type": "stream",
     "text": [
      "16:17:55 - INFO - Initializing VariableHandler for dataset: ERA5 and model: SUMMA\n"
     ]
    },
    {
     "name": "stderr",
     "output_type": "stream",
     "text": [
      "2025-05-11 16:17:55,975 - confluence_general - INFO - Initializing VariableHandler for dataset: ERA5 and model: SUMMA\n"
     ]
    },
    {
     "name": "stdout",
     "output_type": "stream",
     "text": [
      "16:17:56 - INFO - CONFLUENCE system initialized successfully\n"
     ]
    },
    {
     "name": "stderr",
     "output_type": "stream",
     "text": [
      "2025-05-11 16:17:56,310 - confluence_general - INFO - CONFLUENCE system initialized successfully\n"
     ]
    },
    {
     "name": "stdout",
     "output_type": "stream",
     "text": [
      "=== CONFLUENCE Point-Scale Setup ===\n",
      "Project directory: /work/comphyd_lab/data/CONFLUENCE_data/domain_loveland_pass_snotel\n",
      "Spatial mode: Point\n",
      "Domain: loveland_pass_snotel\n"
     ]
    }
   ],
   "source": [
    "# Initialize CONFLUENCE with point-scale configuration\n",
    "confluence = CONFLUENCE(temp_config_path)\n",
    "\n",
    "print(\"=== CONFLUENCE Point-Scale Setup ===\")\n",
    "print(f\"Project directory: {confluence.managers['project'].project_dir}\")\n",
    "print(f\"Spatial mode: {confluence.config['SPATIAL_MODE']}\")\n",
    "print(f\"Domain: {confluence.config['DOMAIN_NAME']}\")"
   ]
  },
  {
   "cell_type": "markdown",
   "metadata": {},
   "source": [
    "## 4. Setup Project Structure"
   ]
  },
  {
   "cell_type": "code",
   "execution_count": 4,
   "metadata": {},
   "outputs": [
    {
     "name": "stdout",
     "output_type": "stream",
     "text": [
      "=== Step 1: Project Initialization ===\n",
      "Creating point-scale project structure...\n",
      "16:04:25 - INFO - Setting up project for domain: loveland_pass_snotel\n"
     ]
    },
    {
     "name": "stderr",
     "output_type": "stream",
     "text": [
      "2025-05-11 16:04:25,884 - confluence_general - INFO - Setting up project for domain: loveland_pass_snotel\n"
     ]
    },
    {
     "name": "stdout",
     "output_type": "stream",
     "text": [
      "16:04:25 - INFO - Updating bounding box for point-scale simulation to: 39.681/-105.881/39.679/-105.879\n"
     ]
    },
    {
     "name": "stderr",
     "output_type": "stream",
     "text": [
      "2025-05-11 16:04:25,982 - confluence_general - INFO - Updating bounding box for point-scale simulation to: 39.681/-105.881/39.679/-105.879\n"
     ]
    },
    {
     "name": "stdout",
     "output_type": "stream",
     "text": [
      "16:04:25 - WARNING - Active config file not found at /home/darri.eythorsson/code/CONFLUENCE/0_config_files/config_active.yaml\n"
     ]
    },
    {
     "name": "stderr",
     "output_type": "stream",
     "text": [
      "2025-05-11 16:04:25,984 - confluence_general - WARNING - Active config file not found at /home/darri.eythorsson/code/CONFLUENCE/0_config_files/config_active.yaml\n"
     ]
    },
    {
     "name": "stdout",
     "output_type": "stream",
     "text": [
      "16:04:25 - INFO - Project directory created at: /work/comphyd_lab/data/CONFLUENCE_data/domain_loveland_pass_snotel\n"
     ]
    },
    {
     "name": "stderr",
     "output_type": "stream",
     "text": [
      "2025-05-11 16:04:25,987 - confluence_general - INFO - Project directory created at: /work/comphyd_lab/data/CONFLUENCE_data/domain_loveland_pass_snotel\n",
      "2025-05-11 16:04:26,063 - pyogrio._io - INFO - Created 1 records\n"
     ]
    },
    {
     "name": "stdout",
     "output_type": "stream",
     "text": [
      "16:04:26 - INFO - Pour point shapefile created successfully: /work/comphyd_lab/data/CONFLUENCE_data/domain_loveland_pass_snotel/shapefiles/pour_point/loveland_pass_snotel_pourPoint.shp\n"
     ]
    },
    {
     "name": "stderr",
     "output_type": "stream",
     "text": [
      "2025-05-11 16:04:26,067 - confluence_general - INFO - Pour point shapefile created successfully: /work/comphyd_lab/data/CONFLUENCE_data/domain_loveland_pass_snotel/shapefiles/pour_point/loveland_pass_snotel_pourPoint.shp\n"
     ]
    },
    {
     "name": "stdout",
     "output_type": "stream",
     "text": [
      "\n",
      "Created directories:\n",
      "  📁 _workLog_loveland_pass_snotel\n",
      "  📁 attributes\n",
      "  📁 documentation\n",
      "  📁 observations\n",
      "  📁 optimisation\n",
      "  📁 shapefiles\n",
      "\n",
      "Note: For point-scale modeling, we still use the same directory structure\n",
      "but the spatial extent is minimal (single point with small buffer).\n"
     ]
    }
   ],
   "source": [
    "# Step 1: Project Initialization\n",
    "print(\"=== Step 1: Project Initialization ===\")\n",
    "print(\"Creating point-scale project structure...\")\n",
    "\n",
    "# Setup project\n",
    "project_dir = confluence.managers['project'].setup_project()\n",
    "\n",
    "# Create pour point (in this case, our SNOTEL location)\n",
    "pour_point_path = confluence.managers['project'].create_pour_point()\n",
    "\n",
    "# List created directories\n",
    "print(\"\\nCreated directories:\")\n",
    "for item in sorted(project_dir.iterdir()):\n",
    "    if item.is_dir():\n",
    "        print(f\"  📁 {item.name}\")\n",
    "\n",
    "print(\"\\nNote: For point-scale modeling, we still use the same directory structure\")\n",
    "print(\"but the spatial extent is minimal (single point with small buffer).\")"
   ]
  },
  {
   "cell_type": "markdown",
   "metadata": {},
   "source": [
    "## 5. Geospatial Domain Definition - Data acquisition "
   ]
  },
  {
   "cell_type": "code",
   "execution_count": 5,
   "metadata": {
    "scrolled": true
   },
   "outputs": [
    {
     "name": "stdout",
     "output_type": "stream",
     "text": [
      "Acquiring geospatial attributes for point location...\n",
      "Minimal bounding box: 39.681/-105.881/39.679/-105.879\n",
      "16:04:26 - INFO - Starting attribute acquisition\n"
     ]
    },
    {
     "name": "stderr",
     "output_type": "stream",
     "text": [
      "2025-05-11 16:04:26,086 - confluence_general - INFO - Starting attribute acquisition\n"
     ]
    },
    {
     "name": "stdout",
     "output_type": "stream",
     "text": [
      "16:04:26 - INFO - Acquiring elevation data\n"
     ]
    },
    {
     "name": "stderr",
     "output_type": "stream",
     "text": [
      "2025-05-11 16:04:26,101 - confluence_general - INFO - Acquiring elevation data\n"
     ]
    },
    {
     "name": "stdout",
     "output_type": "stream",
     "text": [
      "extract-gis.sh: WARNING! --account not provided, using `rpp-kshook` by default.\n",
      "(2025-05-11 22:04:30) merit_hydro.sh: processing MERIT-Hydro GeoTIFF(s)...\n",
      "(2025-05-11 22:04:30) merit_hydro.sh: creating cache directory under /home/darri.eythorsson/cache_loveland_pass_snotel\n",
      "(2025-05-11 22:04:30) merit_hydro.sh: creating output directory under /work/comphyd_lab/data/CONFLUENCE_data/domain_loveland_pass_snotel/attributes/elevation/dem\n",
      "(2025-05-11 22:04:30) merit_hydro.sh: untarring MERIT-Hydro variables under /home/darri.eythorsson/cache_loveland_pass_snotel\n",
      "(2025-05-11 22:06:02) merit_hydro.sh: subsetting GeoTIFFs under /work/comphyd_lab/data/CONFLUENCE_data/domain_loveland_pass_snotel/attributes/elevation/dem\n",
      "(2025-05-11 22:06:02) merit_hydro.sh: deleting temporary files from /home/darri.eythorsson/cache_loveland_pass_snotel\n"
     ]
    },
    {
     "name": "stderr",
     "output_type": "stream",
     "text": [
      "mkdir: cannot create directory ‘/home/darri.eythorsson/empty_dir’: File exists\n"
     ]
    },
    {
     "name": "stdout",
     "output_type": "stream",
     "text": [
      "(2025-05-11 22:06:03) merit_hydro.sh: temporary files from /home/darri.eythorsson/cache_loveland_pass_snotel are removed\n",
      "(2025-05-11 22:06:03) merit_hydro.sh: results are produced under /work/comphyd_lab/data/CONFLUENCE_data/domain_loveland_pass_snotel/attributes/elevation/dem\n",
      "16:06:03 - INFO - gistool completed successfully.\n"
     ]
    },
    {
     "name": "stderr",
     "output_type": "stream",
     "text": [
      "2025-05-11 16:06:03,028 - confluence_general - INFO - gistool completed successfully.\n"
     ]
    },
    {
     "name": "stdout",
     "output_type": "stream",
     "text": [
      "16:06:03 - INFO - Geospatial data acquisition process completed\n"
     ]
    },
    {
     "name": "stderr",
     "output_type": "stream",
     "text": [
      "2025-05-11 16:06:03,031 - confluence_general - INFO - Geospatial data acquisition process completed\n"
     ]
    },
    {
     "name": "stdout",
     "output_type": "stream",
     "text": [
      "16:06:03 - INFO - Acquiring land cover data\n"
     ]
    },
    {
     "name": "stderr",
     "output_type": "stream",
     "text": [
      "2025-05-11 16:06:03,034 - confluence_general - INFO - Acquiring land cover data\n"
     ]
    },
    {
     "name": "stdout",
     "output_type": "stream",
     "text": [
      "extract-gis.sh: WARNING! --account not provided, using `rpp-kshook` by default.\n",
      "(2025-05-11 22:06:07) modis.sh: processing MODIS HDF(s)...\n",
      "(2025-05-11 22:06:07) modis.sh: creating cache directory under /home/darri.eythorsson/cache_loveland_pass_snotel\n",
      "(2025-05-11 22:06:07) modis.sh: creating output directory under /work/comphyd_lab/data/CONFLUENCE_data/domain_loveland_pass_snotel/attributes/landclass\n",
      "(2025-05-11 22:06:07) modis.sh: building virtual format (.vrt) of MODIS HDFs under /home/darri.eythorsson/cache_loveland_pass_snotel\n"
     ]
    },
    {
     "name": "stderr",
     "output_type": "stream",
     "text": [
      "ERROR 1: PROJ: sinu: Invalid latitude\n",
      "ERROR 1: PROJ: sinu: Invalid latitude\n",
      "ERROR 1: PROJ: sinu: Invalid latitude\n",
      "ERROR 1: PROJ: sinu: Invalid latitude\n",
      "ERROR 1: PROJ: sinu: Invalid latitude\n",
      "ERROR 1: PROJ: sinu: Invalid latitude\n",
      "ERROR 1: PROJ: sinu: Invalid latitude\n",
      "ERROR 1: PROJ: sinu: Invalid latitude\n",
      "ERROR 1: PROJ: sinu: Invalid latitude\n",
      "ERROR 1: PROJ: sinu: Invalid latitude\n",
      "ERROR 1: PROJ: sinu: Invalid latitude\n",
      "ERROR 1: PROJ: sinu: Invalid latitude\n",
      "ERROR 1: PROJ: sinu: Invalid latitude\n",
      "ERROR 1: PROJ: sinu: Invalid latitude\n",
      "ERROR 1: PROJ: sinu: Invalid latitude\n",
      "ERROR 1: PROJ: sinu: Invalid latitude\n",
      "ERROR 1: PROJ: sinu: Invalid latitude\n",
      "ERROR 1: PROJ: sinu: Invalid latitude\n",
      "ERROR 1: PROJ: sinu: Invalid latitude\n",
      "ERROR 1: PROJ: sinu: Invalid latitude\n",
      "ERROR 1: PROJ: sinu: Invalid latitude\n",
      "ERROR 1: PROJ: sinu: Invalid latitude\n",
      "ERROR 1: PROJ: sinu: Invalid latitude\n",
      "ERROR 1: PROJ: sinu: Invalid latitude\n",
      "ERROR 1: PROJ: sinu: Invalid latitude\n",
      "ERROR 1: PROJ: sinu: Invalid latitude\n",
      "ERROR 1: PROJ: sinu: Invalid latitude\n",
      "ERROR 1: PROJ: sinu: Invalid latitude\n",
      "ERROR 1: PROJ: sinu: Invalid latitude\n",
      "ERROR 1: PROJ: sinu: Invalid latitude\n",
      "ERROR 1: PROJ: sinu: Invalid latitude\n",
      "ERROR 1: PROJ: sinu: Invalid latitude\n",
      "ERROR 1: PROJ: sinu: Invalid latitude\n",
      "ERROR 1: PROJ: sinu: Invalid latitude\n",
      "ERROR 1: PROJ: sinu: Invalid latitude\n",
      "ERROR 1: PROJ: sinu: Invalid latitude\n",
      "ERROR 1: PROJ: sinu: Invalid latitude\n",
      "ERROR 1: PROJ: sinu: Invalid latitude\n",
      "ERROR 1: PROJ: sinu: Invalid latitude\n",
      "ERROR 1: PROJ: sinu: Invalid latitude\n",
      "ERROR 1: PROJ: sinu: Invalid latitude\n",
      "ERROR 1: PROJ: sinu: Invalid latitude\n",
      "ERROR 1: PROJ: sinu: Invalid latitude\n",
      "ERROR 1: PROJ: sinu: Invalid latitude\n",
      "ERROR 1: PROJ: sinu: Invalid latitude\n",
      "ERROR 1: PROJ: sinu: Invalid latitude\n",
      "ERROR 1: PROJ: sinu: Invalid latitude\n",
      "ERROR 1: PROJ: sinu: Invalid latitude\n",
      "ERROR 1: PROJ: sinu: Invalid latitude\n",
      "ERROR 1: PROJ: sinu: Invalid latitude\n",
      "ERROR 1: PROJ: sinu: Invalid latitude\n",
      "ERROR 1: PROJ: sinu: Invalid latitude\n",
      "ERROR 1: PROJ: sinu: Invalid latitude\n",
      "ERROR 1: PROJ: sinu: Invalid latitude\n",
      "ERROR 1: PROJ: sinu: Invalid latitude\n",
      "ERROR 1: PROJ: sinu: Invalid latitude\n",
      "ERROR 1: PROJ: sinu: Invalid latitude\n",
      "ERROR 1: PROJ: sinu: Invalid latitude\n",
      "ERROR 1: PROJ: sinu: Invalid latitude\n",
      "ERROR 1: PROJ: sinu: Invalid latitude\n",
      "ERROR 1: PROJ: sinu: Invalid latitude\n",
      "ERROR 1: PROJ: sinu: Invalid latitude\n",
      "ERROR 1: PROJ: sinu: Invalid latitude\n",
      "ERROR 1: PROJ: sinu: Invalid latitude\n",
      "ERROR 1: PROJ: sinu: Invalid latitude\n",
      "ERROR 1: PROJ: sinu: Invalid latitude\n",
      "ERROR 1: PROJ: sinu: Invalid latitude\n",
      "ERROR 1: PROJ: sinu: Invalid latitude\n",
      "ERROR 1: PROJ: sinu: Invalid latitude\n",
      "ERROR 1: PROJ: sinu: Invalid latitude\n",
      "ERROR 1: PROJ: sinu: Invalid latitude\n",
      "ERROR 1: PROJ: sinu: Invalid latitude\n",
      "ERROR 1: PROJ: sinu: Invalid latitude\n",
      "ERROR 1: PROJ: sinu: Invalid latitude\n",
      "ERROR 1: PROJ: sinu: Invalid latitude\n",
      "ERROR 1: PROJ: sinu: Invalid latitude\n",
      "ERROR 1: PROJ: sinu: Invalid latitude\n",
      "ERROR 1: PROJ: sinu: Invalid latitude\n",
      "ERROR 1: PROJ: sinu: Invalid latitude\n",
      "ERROR 1: PROJ: sinu: Invalid latitude\n",
      "ERROR 1: PROJ: sinu: Invalid latitude\n",
      "ERROR 1: PROJ: sinu: Invalid latitude\n",
      "ERROR 1: PROJ: sinu: Invalid latitude\n",
      "ERROR 1: PROJ: sinu: Invalid latitude\n",
      "ERROR 1: PROJ: sinu: Invalid latitude\n",
      "ERROR 1: PROJ: sinu: Invalid latitude\n",
      "ERROR 1: PROJ: sinu: Invalid latitude\n",
      "ERROR 1: PROJ: sinu: Invalid latitude\n",
      "ERROR 1: PROJ: sinu: Invalid latitude\n",
      "ERROR 1: PROJ: sinu: Invalid latitude\n",
      "ERROR 1: PROJ: sinu: Invalid latitude\n",
      "ERROR 1: PROJ: sinu: Invalid latitude\n",
      "ERROR 1: PROJ: sinu: Invalid latitude\n",
      "ERROR 1: PROJ: sinu: Invalid latitude\n",
      "ERROR 1: PROJ: sinu: Invalid latitude\n",
      "ERROR 1: PROJ: sinu: Invalid latitude\n",
      "ERROR 1: PROJ: sinu: Invalid latitude\n",
      "ERROR 1: PROJ: sinu: Invalid latitude\n",
      "ERROR 1: PROJ: sinu: Invalid latitude\n",
      "ERROR 1: PROJ: sinu: Invalid latitude\n",
      "ERROR 1: PROJ: sinu: Invalid latitude\n",
      "ERROR 1: PROJ: sinu: Invalid latitude\n",
      "ERROR 1: PROJ: sinu: Invalid latitude\n",
      "ERROR 1: PROJ: sinu: Invalid latitude\n",
      "ERROR 1: PROJ: sinu: Invalid latitude\n",
      "ERROR 1: PROJ: sinu: Invalid latitude\n",
      "ERROR 1: PROJ: sinu: Invalid latitude\n",
      "ERROR 1: PROJ: sinu: Invalid latitude\n",
      "ERROR 1: PROJ: sinu: Invalid latitude\n",
      "ERROR 1: PROJ: sinu: Invalid latitude\n",
      "ERROR 1: PROJ: sinu: Invalid latitude\n",
      "ERROR 1: PROJ: sinu: Invalid latitude\n",
      "ERROR 1: PROJ: sinu: Invalid latitude\n",
      "ERROR 1: PROJ: sinu: Invalid latitude\n",
      "ERROR 1: PROJ: sinu: Invalid latitude\n",
      "ERROR 1: PROJ: sinu: Invalid latitude\n",
      "ERROR 1: PROJ: sinu: Invalid latitude\n",
      "ERROR 1: PROJ: sinu: Invalid latitude\n",
      "ERROR 1: PROJ: sinu: Invalid latitude\n",
      "ERROR 1: PROJ: sinu: Invalid latitude\n",
      "ERROR 1: PROJ: sinu: Invalid latitude\n",
      "ERROR 1: PROJ: sinu: Invalid latitude\n",
      "ERROR 1: PROJ: sinu: Invalid latitude\n",
      "ERROR 1: PROJ: sinu: Invalid latitude\n",
      "ERROR 1: PROJ: sinu: Invalid latitude\n",
      "ERROR 1: PROJ: sinu: Invalid latitude\n",
      "ERROR 1: PROJ: sinu: Invalid latitude\n",
      "ERROR 1: PROJ: sinu: Invalid latitude\n",
      "ERROR 1: PROJ: sinu: Invalid latitude\n",
      "ERROR 1: PROJ: sinu: Invalid latitude\n",
      "ERROR 1: PROJ: sinu: Invalid latitude\n",
      "ERROR 1: PROJ: sinu: Invalid latitude\n",
      "ERROR 1: PROJ: sinu: Invalid latitude\n",
      "ERROR 1: PROJ: sinu: Invalid latitude\n",
      "ERROR 1: PROJ: sinu: Invalid latitude\n",
      "ERROR 1: PROJ: sinu: Invalid latitude\n",
      "ERROR 1: PROJ: sinu: Invalid latitude\n",
      "ERROR 1: PROJ: sinu: Invalid latitude\n",
      "ERROR 1: PROJ: sinu: Invalid latitude\n",
      "ERROR 1: PROJ: sinu: Invalid latitude\n",
      "ERROR 1: PROJ: sinu: Invalid latitude\n",
      "ERROR 1: PROJ: sinu: Invalid latitude\n",
      "ERROR 1: PROJ: sinu: Invalid latitude\n",
      "ERROR 1: PROJ: sinu: Invalid latitude\n",
      "ERROR 1: PROJ: sinu: Invalid latitude\n",
      "ERROR 1: PROJ: sinu: Invalid latitude\n",
      "ERROR 1: PROJ: sinu: Invalid latitude\n",
      "ERROR 1: PROJ: sinu: Invalid latitude\n",
      "ERROR 1: PROJ: sinu: Invalid latitude\n",
      "ERROR 1: PROJ: sinu: Invalid latitude\n",
      "ERROR 1: PROJ: sinu: Invalid latitude\n",
      "ERROR 1: PROJ: sinu: Invalid latitude\n",
      "ERROR 1: PROJ: sinu: Invalid latitude\n",
      "ERROR 1: PROJ: sinu: Invalid latitude\n",
      "ERROR 1: PROJ: sinu: Invalid latitude\n",
      "ERROR 1: PROJ: sinu: Invalid latitude\n",
      "ERROR 1: PROJ: sinu: Invalid latitude\n",
      "ERROR 1: PROJ: sinu: Invalid latitude\n",
      "ERROR 1: PROJ: sinu: Invalid latitude\n",
      "ERROR 1: PROJ: sinu: Invalid latitude\n",
      "ERROR 1: PROJ: sinu: Invalid latitude\n",
      "ERROR 1: PROJ: sinu: Invalid latitude\n",
      "ERROR 1: PROJ: sinu: Invalid latitude\n",
      "ERROR 1: PROJ: sinu: Invalid latitude\n",
      "ERROR 1: PROJ: sinu: Invalid latitude\n",
      "ERROR 1: PROJ: sinu: Invalid latitude\n",
      "ERROR 1: PROJ: sinu: Invalid latitude\n",
      "ERROR 1: PROJ: sinu: Invalid latitude\n",
      "ERROR 1: PROJ: sinu: Invalid latitude\n",
      "ERROR 1: PROJ: sinu: Invalid latitude\n",
      "ERROR 1: PROJ: sinu: Invalid latitude\n",
      "ERROR 1: PROJ: sinu: Invalid latitude\n",
      "ERROR 1: PROJ: sinu: Invalid latitude\n",
      "ERROR 1: PROJ: sinu: Invalid latitude\n",
      "ERROR 1: PROJ: sinu: Invalid latitude\n",
      "ERROR 1: PROJ: sinu: Invalid latitude\n",
      "ERROR 1: PROJ: sinu: Invalid latitude\n",
      "ERROR 1: PROJ: sinu: Invalid latitude\n",
      "ERROR 1: PROJ: sinu: Invalid latitude\n",
      "ERROR 1: PROJ: sinu: Invalid latitude\n",
      "ERROR 1: PROJ: sinu: Invalid latitude\n",
      "ERROR 1: PROJ: sinu: Invalid latitude\n",
      "ERROR 1: PROJ: sinu: Invalid latitude\n",
      "ERROR 1: PROJ: sinu: Invalid latitude\n",
      "ERROR 1: PROJ: sinu: Invalid latitude\n",
      "ERROR 1: PROJ: sinu: Invalid latitude\n",
      "ERROR 1: PROJ: sinu: Invalid latitude\n",
      "ERROR 1: PROJ: sinu: Invalid latitude\n",
      "ERROR 1: PROJ: sinu: Invalid latitude\n",
      "ERROR 1: PROJ: sinu: Invalid latitude\n",
      "ERROR 1: PROJ: sinu: Invalid latitude\n",
      "ERROR 1: PROJ: sinu: Invalid latitude\n",
      "ERROR 1: PROJ: sinu: Invalid latitude\n",
      "ERROR 1: PROJ: sinu: Invalid latitude\n",
      "ERROR 1: PROJ: sinu: Invalid latitude\n",
      "ERROR 1: PROJ: sinu: Invalid latitude\n",
      "ERROR 1: PROJ: sinu: Invalid latitude\n",
      "ERROR 1: PROJ: sinu: Invalid latitude\n",
      "ERROR 1: PROJ: sinu: Invalid latitude\n",
      "ERROR 1: PROJ: sinu: Invalid latitude\n",
      "ERROR 1: PROJ: sinu: Invalid latitude\n",
      "ERROR 1: PROJ: sinu: Invalid latitude\n",
      "ERROR 1: PROJ: sinu: Invalid latitude\n",
      "ERROR 1: PROJ: sinu: Invalid latitude\n",
      "ERROR 1: PROJ: sinu: Invalid latitude\n",
      "ERROR 1: PROJ: sinu: Invalid latitude\n",
      "ERROR 1: PROJ: sinu: Invalid latitude\n",
      "ERROR 1: PROJ: sinu: Invalid latitude\n",
      "ERROR 1: PROJ: sinu: Invalid latitude\n",
      "ERROR 1: PROJ: sinu: Invalid latitude\n",
      "ERROR 1: PROJ: sinu: Invalid latitude\n",
      "ERROR 1: PROJ: sinu: Invalid latitude\n",
      "ERROR 1: PROJ: sinu: Invalid latitude\n",
      "ERROR 1: PROJ: sinu: Invalid latitude\n",
      "ERROR 1: PROJ: sinu: Invalid latitude\n",
      "ERROR 1: PROJ: sinu: Invalid latitude\n",
      "ERROR 1: PROJ: sinu: Invalid latitude\n",
      "ERROR 1: PROJ: sinu: Invalid latitude\n",
      "ERROR 1: PROJ: sinu: Invalid latitude\n",
      "ERROR 1: PROJ: sinu: Invalid latitude\n",
      "ERROR 1: PROJ: sinu: Invalid latitude\n",
      "ERROR 1: PROJ: sinu: Invalid latitude\n",
      "ERROR 1: PROJ: sinu: Invalid latitude\n",
      "ERROR 1: PROJ: sinu: Invalid latitude\n",
      "ERROR 1: PROJ: sinu: Invalid latitude\n",
      "ERROR 1: PROJ: sinu: Invalid latitude\n",
      "ERROR 1: PROJ: sinu: Invalid latitude\n",
      "ERROR 1: PROJ: sinu: Invalid latitude\n",
      "ERROR 1: PROJ: sinu: Invalid latitude\n",
      "ERROR 1: PROJ: sinu: Invalid latitude\n",
      "ERROR 1: PROJ: sinu: Invalid latitude\n",
      "ERROR 1: PROJ: sinu: Invalid latitude\n",
      "ERROR 1: PROJ: sinu: Invalid latitude\n",
      "ERROR 1: PROJ: sinu: Invalid latitude\n",
      "ERROR 1: PROJ: sinu: Invalid latitude\n",
      "ERROR 1: PROJ: sinu: Invalid latitude\n",
      "ERROR 1: PROJ: sinu: Invalid latitude\n",
      "ERROR 1: PROJ: sinu: Invalid latitude\n",
      "ERROR 1: PROJ: sinu: Invalid latitude\n",
      "ERROR 1: PROJ: sinu: Invalid latitude\n",
      "ERROR 1: PROJ: sinu: Invalid latitude\n",
      "ERROR 1: PROJ: sinu: Invalid latitude\n",
      "ERROR 1: PROJ: sinu: Invalid latitude\n",
      "ERROR 1: PROJ: sinu: Invalid latitude\n",
      "ERROR 1: PROJ: sinu: Invalid latitude\n",
      "ERROR 1: PROJ: sinu: Invalid latitude\n",
      "ERROR 1: PROJ: sinu: Invalid latitude\n",
      "ERROR 1: PROJ: sinu: Invalid latitude\n",
      "ERROR 1: PROJ: sinu: Invalid latitude\n",
      "ERROR 1: PROJ: sinu: Invalid latitude\n",
      "ERROR 1: PROJ: sinu: Invalid latitude\n",
      "ERROR 1: PROJ: sinu: Invalid latitude\n",
      "ERROR 1: PROJ: sinu: Invalid latitude\n",
      "ERROR 1: PROJ: sinu: Invalid latitude\n",
      "ERROR 1: PROJ: sinu: Invalid latitude\n",
      "ERROR 1: PROJ: sinu: Invalid latitude\n",
      "ERROR 1: PROJ: sinu: Invalid latitude\n",
      "ERROR 1: PROJ: sinu: Invalid latitude\n",
      "ERROR 1: PROJ: sinu: Invalid latitude\n",
      "ERROR 1: PROJ: sinu: Invalid latitude\n",
      "ERROR 1: PROJ: sinu: Invalid latitude\n",
      "ERROR 1: PROJ: sinu: Invalid latitude\n",
      "ERROR 1: PROJ: sinu: Invalid latitude\n",
      "ERROR 1: PROJ: sinu: Invalid latitude\n",
      "ERROR 1: PROJ: sinu: Invalid latitude\n",
      "ERROR 1: PROJ: sinu: Invalid latitude\n",
      "ERROR 1: PROJ: sinu: Invalid latitude\n",
      "ERROR 1: PROJ: sinu: Invalid latitude\n",
      "ERROR 1: PROJ: sinu: Invalid latitude\n",
      "ERROR 1: PROJ: sinu: Invalid latitude\n",
      "ERROR 1: PROJ: sinu: Invalid latitude\n",
      "ERROR 1: PROJ: sinu: Invalid latitude\n",
      "ERROR 1: PROJ: sinu: Invalid latitude\n",
      "ERROR 1: PROJ: sinu: Invalid latitude\n",
      "ERROR 1: PROJ: sinu: Invalid latitude\n",
      "ERROR 1: PROJ: sinu: Invalid latitude\n",
      "ERROR 1: PROJ: sinu: Invalid latitude\n",
      "ERROR 1: PROJ: sinu: Invalid latitude\n",
      "ERROR 1: PROJ: sinu: Invalid latitude\n",
      "ERROR 1: PROJ: sinu: Invalid latitude\n",
      "ERROR 1: PROJ: sinu: Invalid latitude\n",
      "ERROR 1: PROJ: sinu: Invalid latitude\n",
      "ERROR 1: PROJ: sinu: Invalid latitude\n",
      "ERROR 1: PROJ: sinu: Invalid latitude\n",
      "ERROR 1: PROJ: sinu: Invalid latitude\n",
      "ERROR 1: PROJ: sinu: Invalid latitude\n",
      "ERROR 1: PROJ: sinu: Invalid latitude\n",
      "ERROR 1: PROJ: sinu: Invalid latitude\n",
      "ERROR 1: PROJ: sinu: Invalid latitude\n",
      "ERROR 1: PROJ: sinu: Invalid latitude\n",
      "ERROR 1: PROJ: sinu: Invalid latitude\n",
      "ERROR 1: PROJ: sinu: Invalid latitude\n",
      "ERROR 1: PROJ: sinu: Invalid latitude\n",
      "ERROR 1: PROJ: sinu: Invalid latitude\n",
      "ERROR 1: PROJ: sinu: Invalid latitude\n",
      "ERROR 1: PROJ: sinu: Invalid latitude\n",
      "ERROR 1: PROJ: sinu: Invalid latitude\n",
      "ERROR 1: PROJ: sinu: Invalid latitude\n",
      "ERROR 1: PROJ: sinu: Invalid latitude\n",
      "ERROR 1: PROJ: sinu: Invalid latitude\n",
      "ERROR 1: PROJ: sinu: Invalid latitude\n",
      "ERROR 1: PROJ: sinu: Invalid latitude\n",
      "ERROR 1: PROJ: sinu: Invalid latitude\n",
      "ERROR 1: PROJ: sinu: Invalid latitude\n",
      "ERROR 1: PROJ: sinu: Invalid latitude\n",
      "ERROR 1: PROJ: sinu: Invalid latitude\n",
      "ERROR 1: PROJ: sinu: Invalid latitude\n",
      "ERROR 1: PROJ: sinu: Invalid latitude\n",
      "ERROR 1: PROJ: sinu: Invalid latitude\n",
      "ERROR 1: PROJ: sinu: Invalid latitude\n",
      "ERROR 1: PROJ: sinu: Invalid latitude\n",
      "ERROR 1: PROJ: sinu: Invalid latitude\n",
      "ERROR 1: PROJ: sinu: Invalid latitude\n",
      "ERROR 1: PROJ: sinu: Invalid latitude\n",
      "ERROR 1: PROJ: sinu: Invalid latitude\n",
      "ERROR 1: PROJ: sinu: Invalid latitude\n",
      "ERROR 1: PROJ: sinu: Invalid latitude\n",
      "ERROR 1: PROJ: sinu: Invalid latitude\n",
      "ERROR 1: PROJ: sinu: Invalid latitude\n",
      "ERROR 1: PROJ: sinu: Invalid latitude\n",
      "ERROR 1: PROJ: sinu: Invalid latitude\n",
      "ERROR 1: PROJ: sinu: Invalid latitude\n",
      "ERROR 1: PROJ: sinu: Invalid latitude\n",
      "ERROR 1: PROJ: sinu: Invalid latitude\n",
      "ERROR 1: PROJ: sinu: Invalid latitude\n",
      "ERROR 1: PROJ: sinu: Invalid latitude\n",
      "ERROR 1: PROJ: sinu: Invalid latitude\n",
      "ERROR 1: PROJ: sinu: Invalid latitude\n",
      "ERROR 1: PROJ: sinu: Invalid latitude\n",
      "ERROR 1: PROJ: sinu: Invalid latitude\n",
      "ERROR 1: PROJ: sinu: Invalid latitude\n",
      "ERROR 1: PROJ: sinu: Invalid latitude\n",
      "ERROR 1: PROJ: sinu: Invalid latitude\n",
      "ERROR 1: PROJ: sinu: Invalid latitude\n",
      "ERROR 1: PROJ: sinu: Invalid latitude\n",
      "ERROR 1: PROJ: sinu: Invalid latitude\n",
      "ERROR 1: PROJ: sinu: Invalid latitude\n",
      "ERROR 1: PROJ: sinu: Invalid latitude\n",
      "ERROR 1: PROJ: sinu: Invalid latitude\n",
      "ERROR 1: PROJ: sinu: Invalid latitude\n",
      "ERROR 1: PROJ: sinu: Invalid latitude\n",
      "ERROR 1: PROJ: sinu: Invalid latitude\n",
      "ERROR 1: PROJ: sinu: Invalid latitude\n",
      "ERROR 1: PROJ: sinu: Invalid latitude\n",
      "ERROR 1: PROJ: sinu: Invalid latitude\n",
      "ERROR 1: PROJ: sinu: Invalid latitude\n",
      "ERROR 1: PROJ: sinu: Invalid latitude\n",
      "ERROR 1: PROJ: sinu: Invalid latitude\n",
      "ERROR 1: PROJ: sinu: Invalid latitude\n",
      "ERROR 1: PROJ: sinu: Invalid latitude\n",
      "ERROR 1: PROJ: sinu: Invalid latitude\n",
      "ERROR 1: PROJ: sinu: Invalid latitude\n",
      "ERROR 1: PROJ: sinu: Invalid latitude\n",
      "ERROR 1: PROJ: sinu: Invalid latitude\n",
      "ERROR 1: PROJ: sinu: Invalid latitude\n",
      "ERROR 1: PROJ: sinu: Invalid latitude\n",
      "ERROR 1: PROJ: sinu: Invalid latitude\n",
      "ERROR 1: PROJ: sinu: Invalid latitude\n",
      "ERROR 1: PROJ: sinu: Invalid latitude\n",
      "ERROR 1: PROJ: sinu: Invalid latitude\n",
      "ERROR 1: PROJ: sinu: Invalid latitude\n",
      "ERROR 1: PROJ: sinu: Invalid latitude\n",
      "ERROR 1: PROJ: sinu: Invalid latitude\n",
      "ERROR 1: PROJ: sinu: Invalid latitude\n",
      "ERROR 1: PROJ: sinu: Invalid latitude\n",
      "ERROR 1: PROJ: sinu: Invalid latitude\n",
      "ERROR 1: PROJ: sinu: Invalid latitude\n",
      "ERROR 1: PROJ: sinu: Invalid latitude\n",
      "ERROR 1: PROJ: sinu: Invalid latitude\n",
      "ERROR 1: PROJ: sinu: Invalid latitude\n",
      "ERROR 1: PROJ: sinu: Invalid latitude\n",
      "ERROR 1: PROJ: sinu: Invalid latitude\n",
      "ERROR 1: PROJ: sinu: Invalid latitude\n",
      "ERROR 1: PROJ: sinu: Invalid latitude\n",
      "ERROR 1: PROJ: sinu: Invalid latitude\n",
      "ERROR 1: PROJ: sinu: Invalid latitude\n",
      "ERROR 1: PROJ: sinu: Invalid latitude\n",
      "ERROR 1: PROJ: sinu: Invalid latitude\n",
      "ERROR 1: PROJ: sinu: Invalid latitude\n",
      "ERROR 1: PROJ: sinu: Invalid latitude\n",
      "ERROR 1: PROJ: sinu: Invalid latitude\n",
      "ERROR 1: PROJ: sinu: Invalid latitude\n",
      "ERROR 1: PROJ: sinu: Invalid latitude\n",
      "ERROR 1: PROJ: sinu: Invalid latitude\n",
      "ERROR 1: PROJ: sinu: Invalid latitude\n",
      "ERROR 1: PROJ: sinu: Invalid latitude\n",
      "ERROR 1: PROJ: sinu: Invalid latitude\n",
      "ERROR 1: PROJ: sinu: Invalid latitude\n",
      "ERROR 1: PROJ: sinu: Invalid latitude\n",
      "ERROR 1: PROJ: sinu: Invalid latitude\n",
      "ERROR 1: PROJ: sinu: Invalid latitude\n",
      "ERROR 1: PROJ: sinu: Invalid latitude\n",
      "ERROR 1: PROJ: sinu: Invalid latitude\n",
      "ERROR 1: PROJ: sinu: Invalid latitude\n",
      "ERROR 1: PROJ: sinu: Invalid latitude\n",
      "ERROR 1: PROJ: sinu: Invalid latitude\n",
      "ERROR 1: PROJ: sinu: Invalid latitude\n",
      "ERROR 1: PROJ: sinu: Invalid latitude\n",
      "ERROR 1: PROJ: sinu: Invalid latitude\n",
      "ERROR 1: PROJ: sinu: Invalid latitude\n",
      "ERROR 1: PROJ: sinu: Invalid latitude\n",
      "ERROR 1: PROJ: sinu: Invalid latitude\n",
      "ERROR 1: PROJ: sinu: Invalid latitude\n",
      "ERROR 1: PROJ: sinu: Invalid latitude\n",
      "ERROR 1: PROJ: sinu: Invalid latitude\n",
      "ERROR 1: PROJ: sinu: Invalid latitude\n",
      "ERROR 1: PROJ: sinu: Invalid latitude\n",
      "ERROR 1: PROJ: sinu: Invalid latitude\n",
      "ERROR 1: PROJ: sinu: Invalid latitude\n",
      "ERROR 1: PROJ: sinu: Invalid latitude\n",
      "ERROR 1: PROJ: sinu: Invalid latitude\n",
      "ERROR 1: PROJ: sinu: Invalid latitude\n",
      "ERROR 1: PROJ: sinu: Invalid latitude\n",
      "ERROR 1: PROJ: sinu: Invalid latitude\n",
      "ERROR 1: PROJ: sinu: Invalid latitude\n",
      "ERROR 1: PROJ: sinu: Invalid latitude\n",
      "ERROR 1: PROJ: sinu: Invalid latitude\n",
      "ERROR 1: PROJ: sinu: Invalid latitude\n",
      "ERROR 1: PROJ: sinu: Invalid latitude\n",
      "ERROR 1: PROJ: sinu: Invalid latitude\n",
      "ERROR 1: PROJ: sinu: Invalid latitude\n",
      "ERROR 1: PROJ: sinu: Invalid latitude\n",
      "ERROR 1: PROJ: sinu: Invalid latitude\n",
      "ERROR 1: PROJ: sinu: Invalid latitude\n",
      "ERROR 1: PROJ: sinu: Invalid latitude\n",
      "ERROR 1: PROJ: sinu: Invalid latitude\n",
      "ERROR 1: PROJ: sinu: Invalid latitude\n",
      "ERROR 1: PROJ: sinu: Invalid latitude\n",
      "ERROR 1: PROJ: sinu: Invalid latitude\n",
      "ERROR 1: PROJ: sinu: Invalid latitude\n",
      "ERROR 1: PROJ: sinu: Invalid latitude\n",
      "ERROR 1: PROJ: sinu: Invalid latitude\n",
      "ERROR 1: PROJ: sinu: Invalid latitude\n",
      "ERROR 1: PROJ: sinu: Invalid latitude\n",
      "ERROR 1: PROJ: sinu: Invalid latitude\n",
      "ERROR 1: PROJ: sinu: Invalid latitude\n",
      "ERROR 1: PROJ: sinu: Invalid latitude\n",
      "ERROR 1: PROJ: sinu: Invalid latitude\n",
      "ERROR 1: PROJ: sinu: Invalid latitude\n",
      "ERROR 1: PROJ: sinu: Invalid latitude\n",
      "ERROR 1: PROJ: sinu: Invalid latitude\n",
      "ERROR 1: PROJ: sinu: Invalid latitude\n",
      "ERROR 1: PROJ: sinu: Invalid latitude\n",
      "ERROR 1: PROJ: sinu: Invalid latitude\n",
      "ERROR 1: PROJ: sinu: Invalid latitude\n",
      "ERROR 1: PROJ: sinu: Invalid latitude\n",
      "ERROR 1: PROJ: sinu: Invalid latitude\n",
      "ERROR 1: PROJ: sinu: Invalid latitude\n",
      "ERROR 1: PROJ: sinu: Invalid latitude\n",
      "ERROR 1: PROJ: sinu: Invalid latitude\n",
      "ERROR 1: PROJ: sinu: Invalid latitude\n",
      "ERROR 1: PROJ: sinu: Invalid latitude\n",
      "ERROR 1: PROJ: sinu: Invalid latitude\n",
      "ERROR 1: PROJ: sinu: Invalid latitude\n",
      "ERROR 1: PROJ: sinu: Invalid latitude\n",
      "ERROR 1: PROJ: sinu: Invalid latitude\n",
      "ERROR 1: PROJ: sinu: Invalid latitude\n",
      "ERROR 1: PROJ: sinu: Invalid latitude\n",
      "ERROR 1: PROJ: sinu: Invalid latitude\n",
      "ERROR 1: PROJ: sinu: Invalid latitude\n",
      "ERROR 1: PROJ: sinu: Invalid latitude\n",
      "ERROR 1: PROJ: sinu: Invalid latitude\n",
      "ERROR 1: PROJ: sinu: Invalid latitude\n",
      "ERROR 1: PROJ: sinu: Invalid latitude\n",
      "ERROR 1: PROJ: sinu: Invalid latitude\n",
      "ERROR 1: PROJ: sinu: Invalid latitude\n",
      "ERROR 1: PROJ: sinu: Invalid latitude\n",
      "ERROR 1: PROJ: sinu: Invalid latitude\n",
      "ERROR 1: PROJ: sinu: Invalid latitude\n",
      "ERROR 1: PROJ: sinu: Invalid latitude\n",
      "ERROR 1: PROJ: sinu: Invalid latitude\n",
      "ERROR 1: PROJ: sinu: Invalid latitude\n",
      "ERROR 1: PROJ: sinu: Invalid latitude\n",
      "ERROR 1: PROJ: sinu: Invalid latitude\n",
      "ERROR 1: PROJ: sinu: Invalid latitude\n",
      "ERROR 1: PROJ: sinu: Invalid latitude\n",
      "ERROR 1: PROJ: sinu: Invalid latitude\n",
      "ERROR 1: PROJ: sinu: Invalid latitude\n",
      "ERROR 1: PROJ: sinu: Invalid latitude\n",
      "ERROR 1: PROJ: sinu: Invalid latitude\n",
      "ERROR 1: PROJ: sinu: Invalid latitude\n",
      "ERROR 1: PROJ: sinu: Invalid latitude\n",
      "ERROR 1: PROJ: sinu: Invalid latitude\n",
      "ERROR 1: PROJ: sinu: Invalid latitude\n",
      "ERROR 1: PROJ: sinu: Invalid latitude\n",
      "ERROR 1: PROJ: sinu: Invalid latitude\n",
      "ERROR 1: PROJ: sinu: Invalid latitude\n",
      "ERROR 1: PROJ: sinu: Invalid latitude\n",
      "ERROR 1: PROJ: sinu: Invalid latitude\n",
      "ERROR 1: PROJ: sinu: Invalid latitude\n",
      "ERROR 1: PROJ: sinu: Invalid latitude\n",
      "ERROR 1: PROJ: sinu: Invalid latitude\n",
      "ERROR 1: PROJ: sinu: Invalid latitude\n",
      "ERROR 1: PROJ: sinu: Invalid latitude\n",
      "ERROR 1: PROJ: sinu: Invalid latitude\n",
      "ERROR 1: PROJ: sinu: Invalid latitude\n",
      "ERROR 1: PROJ: sinu: Invalid latitude\n",
      "ERROR 1: PROJ: sinu: Invalid latitude\n",
      "ERROR 1: PROJ: sinu: Invalid latitude\n",
      "ERROR 1: PROJ: sinu: Invalid latitude\n",
      "ERROR 1: PROJ: sinu: Invalid latitude\n",
      "ERROR 1: PROJ: sinu: Invalid latitude\n",
      "ERROR 1: PROJ: sinu: Invalid latitude\n",
      "ERROR 1: PROJ: sinu: Invalid latitude\n",
      "ERROR 1: PROJ: sinu: Invalid latitude\n",
      "ERROR 1: PROJ: sinu: Invalid latitude\n",
      "ERROR 1: PROJ: sinu: Invalid latitude\n",
      "ERROR 1: PROJ: sinu: Invalid latitude\n",
      "ERROR 1: PROJ: sinu: Invalid latitude\n",
      "ERROR 1: PROJ: sinu: Invalid latitude\n",
      "ERROR 1: PROJ: sinu: Invalid latitude\n",
      "ERROR 1: PROJ: sinu: Invalid latitude\n",
      "ERROR 1: PROJ: sinu: Invalid latitude\n",
      "ERROR 1: PROJ: sinu: Invalid latitude\n",
      "ERROR 1: PROJ: sinu: Invalid latitude\n",
      "ERROR 1: PROJ: sinu: Invalid latitude\n",
      "ERROR 1: PROJ: sinu: Invalid latitude\n",
      "ERROR 1: PROJ: sinu: Invalid latitude\n",
      "ERROR 1: PROJ: sinu: Invalid latitude\n",
      "ERROR 1: PROJ: sinu: Invalid latitude\n",
      "ERROR 1: PROJ: sinu: Invalid latitude\n",
      "ERROR 1: PROJ: sinu: Invalid latitude\n",
      "ERROR 1: PROJ: sinu: Invalid latitude\n",
      "ERROR 1: PROJ: sinu: Invalid latitude\n",
      "ERROR 1: PROJ: sinu: Invalid latitude\n",
      "ERROR 1: PROJ: sinu: Invalid latitude\n",
      "ERROR 1: PROJ: sinu: Invalid latitude\n",
      "ERROR 1: PROJ: sinu: Invalid latitude\n",
      "ERROR 1: PROJ: sinu: Invalid latitude\n",
      "ERROR 1: PROJ: sinu: Invalid latitude\n",
      "ERROR 1: PROJ: sinu: Invalid latitude\n",
      "ERROR 1: PROJ: sinu: Invalid latitude\n",
      "ERROR 1: PROJ: sinu: Invalid latitude\n",
      "ERROR 1: PROJ: sinu: Invalid latitude\n",
      "ERROR 1: PROJ: sinu: Invalid latitude\n",
      "ERROR 1: PROJ: sinu: Invalid latitude\n",
      "ERROR 1: PROJ: sinu: Invalid latitude\n",
      "ERROR 1: PROJ: sinu: Invalid latitude\n",
      "ERROR 1: PROJ: sinu: Invalid latitude\n",
      "ERROR 1: PROJ: sinu: Invalid latitude\n",
      "ERROR 1: PROJ: sinu: Invalid latitude\n",
      "ERROR 1: PROJ: sinu: Invalid latitude\n",
      "ERROR 1: PROJ: sinu: Invalid latitude\n",
      "ERROR 1: PROJ: sinu: Invalid latitude\n",
      "ERROR 1: PROJ: sinu: Invalid latitude\n",
      "ERROR 1: PROJ: sinu: Invalid latitude\n",
      "ERROR 1: PROJ: sinu: Invalid latitude\n",
      "ERROR 1: PROJ: sinu: Invalid latitude\n",
      "ERROR 1: PROJ: sinu: Invalid latitude\n",
      "ERROR 1: PROJ: sinu: Invalid latitude\n",
      "ERROR 1: PROJ: sinu: Invalid latitude\n",
      "ERROR 1: PROJ: sinu: Invalid latitude\n",
      "ERROR 1: PROJ: sinu: Invalid latitude\n",
      "ERROR 1: PROJ: sinu: Invalid latitude\n",
      "ERROR 1: PROJ: sinu: Invalid latitude\n",
      "ERROR 1: PROJ: sinu: Invalid latitude\n",
      "ERROR 1: PROJ: sinu: Invalid latitude\n",
      "ERROR 1: PROJ: sinu: Invalid latitude\n",
      "ERROR 1: PROJ: sinu: Invalid latitude\n",
      "ERROR 1: PROJ: sinu: Invalid latitude\n",
      "ERROR 1: PROJ: sinu: Invalid latitude\n",
      "ERROR 1: PROJ: sinu: Invalid latitude\n",
      "ERROR 1: PROJ: sinu: Invalid latitude\n",
      "ERROR 1: PROJ: sinu: Invalid latitude\n",
      "ERROR 1: PROJ: sinu: Invalid latitude\n",
      "ERROR 1: PROJ: sinu: Invalid latitude\n",
      "ERROR 1: PROJ: sinu: Invalid latitude\n",
      "ERROR 1: PROJ: sinu: Invalid latitude\n",
      "ERROR 1: PROJ: sinu: Invalid latitude\n",
      "ERROR 1: PROJ: sinu: Invalid latitude\n",
      "ERROR 1: PROJ: sinu: Invalid latitude\n",
      "ERROR 1: PROJ: sinu: Invalid latitude\n",
      "ERROR 1: PROJ: sinu: Invalid latitude\n",
      "ERROR 1: PROJ: sinu: Invalid latitude\n",
      "ERROR 1: PROJ: sinu: Invalid latitude\n",
      "ERROR 1: PROJ: sinu: Invalid latitude\n",
      "ERROR 1: PROJ: sinu: Invalid latitude\n",
      "ERROR 1: PROJ: sinu: Invalid latitude\n",
      "ERROR 1: PROJ: sinu: Invalid latitude\n",
      "ERROR 1: PROJ: sinu: Invalid latitude\n",
      "ERROR 1: PROJ: sinu: Invalid latitude\n",
      "ERROR 1: PROJ: sinu: Invalid latitude\n",
      "ERROR 1: PROJ: sinu: Invalid latitude\n",
      "ERROR 1: PROJ: sinu: Invalid latitude\n",
      "ERROR 1: PROJ: sinu: Invalid latitude\n",
      "ERROR 1: PROJ: sinu: Invalid latitude\n",
      "ERROR 1: PROJ: sinu: Invalid latitude\n",
      "ERROR 1: PROJ: sinu: Invalid latitude\n",
      "ERROR 1: PROJ: sinu: Invalid latitude\n",
      "ERROR 1: PROJ: sinu: Invalid latitude\n",
      "ERROR 1: PROJ: sinu: Invalid latitude\n",
      "ERROR 1: PROJ: sinu: Invalid latitude\n",
      "ERROR 1: PROJ: sinu: Invalid latitude\n",
      "ERROR 1: PROJ: sinu: Invalid latitude\n",
      "ERROR 1: PROJ: sinu: Invalid latitude\n",
      "ERROR 1: PROJ: sinu: Invalid latitude\n",
      "ERROR 1: PROJ: sinu: Invalid latitude\n",
      "ERROR 1: PROJ: sinu: Invalid latitude\n",
      "ERROR 1: PROJ: sinu: Invalid latitude\n",
      "ERROR 1: PROJ: sinu: Invalid latitude\n",
      "ERROR 1: PROJ: sinu: Invalid latitude\n",
      "ERROR 1: PROJ: sinu: Invalid latitude\n",
      "ERROR 1: PROJ: sinu: Invalid latitude\n",
      "ERROR 1: PROJ: sinu: Invalid latitude\n",
      "ERROR 1: PROJ: sinu: Invalid latitude\n",
      "ERROR 1: PROJ: sinu: Invalid latitude\n",
      "ERROR 1: PROJ: sinu: Invalid latitude\n",
      "ERROR 1: PROJ: sinu: Invalid latitude\n",
      "ERROR 1: PROJ: sinu: Invalid latitude\n",
      "ERROR 1: PROJ: sinu: Invalid latitude\n",
      "ERROR 1: PROJ: sinu: Invalid latitude\n",
      "ERROR 1: PROJ: sinu: Invalid latitude\n",
      "ERROR 1: PROJ: sinu: Invalid latitude\n",
      "ERROR 1: PROJ: sinu: Invalid latitude\n",
      "ERROR 1: PROJ: sinu: Invalid latitude\n",
      "ERROR 1: PROJ: sinu: Invalid latitude\n",
      "ERROR 1: PROJ: sinu: Invalid latitude\n",
      "ERROR 1: PROJ: sinu: Invalid latitude\n",
      "ERROR 1: PROJ: sinu: Invalid latitude\n",
      "ERROR 1: PROJ: sinu: Invalid latitude\n",
      "ERROR 1: PROJ: sinu: Invalid latitude\n",
      "ERROR 1: PROJ: sinu: Invalid latitude\n",
      "ERROR 1: PROJ: sinu: Invalid latitude\n",
      "ERROR 1: PROJ: sinu: Invalid latitude\n",
      "ERROR 1: PROJ: sinu: Invalid latitude\n",
      "ERROR 1: PROJ: sinu: Invalid latitude\n",
      "ERROR 1: PROJ: sinu: Invalid latitude\n",
      "ERROR 1: PROJ: sinu: Invalid latitude\n",
      "ERROR 1: PROJ: sinu: Invalid latitude\n",
      "ERROR 1: PROJ: sinu: Invalid latitude\n",
      "ERROR 1: PROJ: sinu: Invalid latitude\n",
      "ERROR 1: PROJ: sinu: Invalid latitude\n",
      "ERROR 1: PROJ: sinu: Invalid latitude\n",
      "ERROR 1: PROJ: sinu: Invalid latitude\n",
      "ERROR 1: PROJ: sinu: Invalid latitude\n",
      "ERROR 1: PROJ: sinu: Invalid latitude\n",
      "ERROR 1: PROJ: sinu: Invalid latitude\n",
      "ERROR 1: PROJ: sinu: Invalid latitude\n",
      "ERROR 1: PROJ: sinu: Invalid latitude\n",
      "ERROR 1: PROJ: sinu: Invalid latitude\n",
      "ERROR 1: PROJ: sinu: Invalid latitude\n",
      "ERROR 1: PROJ: sinu: Invalid latitude\n",
      "ERROR 1: PROJ: sinu: Invalid latitude\n",
      "ERROR 1: PROJ: sinu: Invalid latitude\n",
      "ERROR 1: PROJ: sinu: Invalid latitude\n",
      "ERROR 1: PROJ: sinu: Invalid latitude\n",
      "ERROR 1: PROJ: sinu: Invalid latitude\n",
      "ERROR 1: PROJ: sinu: Invalid latitude\n",
      "ERROR 1: PROJ: sinu: Invalid latitude\n",
      "ERROR 1: PROJ: sinu: Invalid latitude\n",
      "ERROR 1: PROJ: sinu: Invalid latitude\n",
      "ERROR 1: PROJ: sinu: Invalid latitude\n",
      "ERROR 1: PROJ: sinu: Invalid latitude\n",
      "ERROR 1: PROJ: sinu: Invalid latitude\n",
      "ERROR 1: PROJ: sinu: Invalid latitude\n",
      "ERROR 1: PROJ: sinu: Invalid latitude\n",
      "ERROR 1: PROJ: sinu: Invalid latitude\n",
      "ERROR 1: PROJ: sinu: Invalid latitude\n",
      "ERROR 1: PROJ: sinu: Invalid latitude\n",
      "ERROR 1: PROJ: sinu: Invalid latitude\n",
      "ERROR 1: PROJ: sinu: Invalid latitude\n",
      "ERROR 1: PROJ: sinu: Invalid latitude\n",
      "ERROR 1: PROJ: sinu: Invalid latitude\n",
      "ERROR 1: PROJ: sinu: Invalid latitude\n",
      "ERROR 1: PROJ: sinu: Invalid latitude\n",
      "ERROR 1: PROJ: sinu: Invalid latitude\n",
      "ERROR 1: PROJ: sinu: Invalid latitude\n",
      "ERROR 1: PROJ: sinu: Invalid latitude\n",
      "ERROR 1: PROJ: sinu: Invalid latitude\n",
      "ERROR 1: PROJ: sinu: Invalid latitude\n",
      "ERROR 1: PROJ: sinu: Invalid latitude\n",
      "ERROR 1: PROJ: sinu: Invalid latitude\n",
      "ERROR 1: PROJ: sinu: Invalid latitude\n",
      "ERROR 1: PROJ: sinu: Invalid latitude\n",
      "ERROR 1: PROJ: sinu: Invalid latitude\n",
      "ERROR 1: PROJ: sinu: Invalid latitude\n",
      "ERROR 1: PROJ: sinu: Invalid latitude\n",
      "ERROR 1: PROJ: sinu: Invalid latitude\n",
      "ERROR 1: PROJ: sinu: Invalid latitude\n",
      "ERROR 1: PROJ: sinu: Invalid latitude\n",
      "ERROR 1: PROJ: sinu: Invalid latitude\n",
      "ERROR 1: PROJ: sinu: Invalid latitude\n",
      "ERROR 1: PROJ: sinu: Invalid latitude\n",
      "ERROR 1: PROJ: sinu: Invalid latitude\n",
      "ERROR 1: PROJ: sinu: Invalid latitude\n",
      "ERROR 1: PROJ: sinu: Invalid latitude\n",
      "ERROR 1: PROJ: sinu: Invalid latitude\n",
      "ERROR 1: PROJ: sinu: Invalid latitude\n",
      "ERROR 1: PROJ: sinu: Invalid latitude\n",
      "ERROR 1: PROJ: sinu: Invalid latitude\n",
      "ERROR 1: PROJ: sinu: Invalid latitude\n",
      "ERROR 1: PROJ: sinu: Invalid latitude\n",
      "ERROR 1: PROJ: sinu: Invalid latitude\n",
      "ERROR 1: PROJ: sinu: Invalid latitude\n",
      "ERROR 1: PROJ: sinu: Invalid latitude\n",
      "ERROR 1: PROJ: sinu: Invalid latitude\n",
      "ERROR 1: PROJ: sinu: Invalid latitude\n",
      "ERROR 1: PROJ: sinu: Invalid latitude\n",
      "ERROR 1: PROJ: sinu: Invalid latitude\n",
      "ERROR 1: PROJ: sinu: Invalid latitude\n",
      "ERROR 1: PROJ: sinu: Invalid latitude\n",
      "ERROR 1: PROJ: sinu: Invalid latitude\n",
      "ERROR 1: PROJ: sinu: Invalid latitude\n",
      "ERROR 1: PROJ: sinu: Invalid latitude\n",
      "ERROR 1: PROJ: sinu: Invalid latitude\n",
      "ERROR 1: PROJ: sinu: Invalid latitude\n",
      "ERROR 1: PROJ: sinu: Invalid latitude\n",
      "ERROR 1: PROJ: sinu: Invalid latitude\n",
      "ERROR 1: PROJ: sinu: Invalid latitude\n",
      "ERROR 1: PROJ: sinu: Invalid latitude\n",
      "ERROR 1: PROJ: sinu: Invalid latitude\n",
      "ERROR 1: PROJ: sinu: Invalid latitude\n",
      "ERROR 1: PROJ: sinu: Invalid latitude\n",
      "ERROR 1: PROJ: sinu: Invalid latitude\n",
      "ERROR 1: PROJ: sinu: Invalid latitude\n",
      "ERROR 1: PROJ: sinu: Invalid latitude\n",
      "ERROR 1: PROJ: sinu: Invalid latitude\n",
      "ERROR 1: PROJ: sinu: Invalid latitude\n",
      "ERROR 1: PROJ: sinu: Invalid latitude\n",
      "ERROR 1: PROJ: sinu: Invalid latitude\n",
      "ERROR 1: PROJ: sinu: Invalid latitude\n",
      "ERROR 1: PROJ: sinu: Invalid latitude\n",
      "ERROR 1: PROJ: sinu: Invalid latitude\n",
      "ERROR 1: PROJ: sinu: Invalid latitude\n",
      "ERROR 1: PROJ: sinu: Invalid latitude\n",
      "ERROR 1: PROJ: sinu: Invalid latitude\n",
      "ERROR 1: PROJ: sinu: Invalid latitude\n",
      "ERROR 1: PROJ: sinu: Invalid latitude\n",
      "ERROR 1: PROJ: sinu: Invalid latitude\n",
      "ERROR 1: PROJ: sinu: Invalid latitude\n",
      "ERROR 1: PROJ: sinu: Invalid latitude\n",
      "ERROR 1: PROJ: sinu: Invalid latitude\n",
      "ERROR 1: PROJ: sinu: Invalid latitude\n",
      "ERROR 1: PROJ: sinu: Invalid latitude\n",
      "ERROR 1: PROJ: sinu: Invalid latitude\n",
      "ERROR 1: PROJ: sinu: Invalid latitude\n",
      "ERROR 1: PROJ: sinu: Invalid latitude\n",
      "ERROR 1: PROJ: sinu: Invalid latitude\n",
      "ERROR 1: PROJ: sinu: Invalid latitude\n",
      "ERROR 1: PROJ: sinu: Invalid latitude\n",
      "ERROR 1: PROJ: sinu: Invalid latitude\n",
      "ERROR 1: PROJ: sinu: Invalid latitude\n",
      "ERROR 1: PROJ: sinu: Invalid latitude\n",
      "ERROR 1: PROJ: sinu: Invalid latitude\n",
      "ERROR 1: PROJ: sinu: Invalid latitude\n",
      "ERROR 1: PROJ: sinu: Invalid latitude\n",
      "ERROR 1: PROJ: sinu: Invalid latitude\n",
      "ERROR 1: PROJ: sinu: Invalid latitude\n",
      "ERROR 1: PROJ: sinu: Invalid latitude\n",
      "ERROR 1: PROJ: sinu: Invalid latitude\n",
      "ERROR 1: PROJ: sinu: Invalid latitude\n",
      "ERROR 1: PROJ: sinu: Invalid latitude\n",
      "ERROR 1: PROJ: sinu: Invalid latitude\n",
      "ERROR 1: PROJ: sinu: Invalid latitude\n",
      "ERROR 1: PROJ: sinu: Invalid latitude\n",
      "ERROR 1: PROJ: sinu: Invalid latitude\n",
      "ERROR 1: PROJ: sinu: Invalid latitude\n",
      "ERROR 1: PROJ: sinu: Invalid latitude\n",
      "ERROR 1: PROJ: sinu: Invalid latitude\n",
      "ERROR 1: PROJ: sinu: Invalid latitude\n",
      "ERROR 1: PROJ: sinu: Invalid latitude\n",
      "ERROR 1: PROJ: sinu: Invalid latitude\n",
      "ERROR 1: PROJ: sinu: Invalid latitude\n",
      "ERROR 1: PROJ: sinu: Invalid latitude\n",
      "ERROR 1: PROJ: sinu: Invalid latitude\n",
      "ERROR 1: PROJ: sinu: Invalid latitude\n",
      "ERROR 1: PROJ: sinu: Invalid latitude\n",
      "ERROR 1: PROJ: sinu: Invalid latitude\n",
      "ERROR 1: PROJ: sinu: Invalid latitude\n",
      "ERROR 1: PROJ: sinu: Invalid latitude\n",
      "ERROR 1: PROJ: sinu: Invalid latitude\n",
      "ERROR 1: PROJ: sinu: Invalid latitude\n",
      "ERROR 1: PROJ: sinu: Invalid latitude\n",
      "ERROR 1: PROJ: sinu: Invalid latitude\n",
      "ERROR 1: PROJ: sinu: Invalid latitude\n",
      "ERROR 1: PROJ: sinu: Invalid latitude\n",
      "ERROR 1: PROJ: sinu: Invalid latitude\n",
      "ERROR 1: PROJ: sinu: Invalid latitude\n",
      "ERROR 1: PROJ: sinu: Invalid latitude\n",
      "ERROR 1: PROJ: sinu: Invalid latitude\n",
      "ERROR 1: PROJ: sinu: Invalid latitude\n",
      "ERROR 1: PROJ: sinu: Invalid latitude\n",
      "ERROR 1: PROJ: sinu: Invalid latitude\n",
      "ERROR 1: PROJ: sinu: Invalid latitude\n",
      "ERROR 1: PROJ: sinu: Invalid latitude\n",
      "ERROR 1: PROJ: sinu: Invalid latitude\n",
      "ERROR 1: PROJ: sinu: Invalid latitude\n",
      "ERROR 1: PROJ: sinu: Invalid latitude\n",
      "ERROR 1: PROJ: sinu: Invalid latitude\n",
      "ERROR 1: PROJ: sinu: Invalid latitude\n",
      "ERROR 1: PROJ: sinu: Invalid latitude\n",
      "ERROR 1: PROJ: sinu: Invalid latitude\n",
      "ERROR 1: PROJ: sinu: Invalid latitude\n",
      "ERROR 1: PROJ: sinu: Invalid latitude\n",
      "ERROR 1: PROJ: sinu: Invalid latitude\n",
      "ERROR 1: PROJ: sinu: Invalid latitude\n",
      "ERROR 1: PROJ: sinu: Invalid latitude\n",
      "ERROR 1: PROJ: sinu: Invalid latitude\n",
      "ERROR 1: PROJ: sinu: Invalid latitude\n",
      "ERROR 1: PROJ: sinu: Invalid latitude\n",
      "ERROR 1: PROJ: sinu: Invalid latitude\n",
      "ERROR 1: PROJ: sinu: Invalid latitude\n",
      "ERROR 1: PROJ: sinu: Invalid latitude\n",
      "ERROR 1: PROJ: sinu: Invalid latitude\n",
      "ERROR 1: PROJ: sinu: Invalid latitude\n",
      "ERROR 1: PROJ: sinu: Invalid latitude\n",
      "ERROR 1: PROJ: sinu: Invalid latitude\n",
      "ERROR 1: PROJ: sinu: Invalid latitude\n",
      "ERROR 1: PROJ: sinu: Invalid latitude\n",
      "ERROR 1: PROJ: sinu: Invalid latitude\n",
      "ERROR 1: PROJ: sinu: Invalid latitude\n",
      "ERROR 1: PROJ: sinu: Invalid latitude\n",
      "ERROR 1: PROJ: sinu: Invalid latitude\n",
      "ERROR 1: PROJ: sinu: Invalid latitude\n",
      "ERROR 1: PROJ: sinu: Invalid latitude\n",
      "ERROR 1: PROJ: sinu: Invalid latitude\n",
      "ERROR 1: PROJ: sinu: Invalid latitude\n",
      "ERROR 1: PROJ: sinu: Invalid latitude\n",
      "ERROR 1: PROJ: sinu: Invalid latitude\n",
      "ERROR 1: PROJ: sinu: Invalid latitude\n",
      "ERROR 1: PROJ: sinu: Invalid latitude\n",
      "ERROR 1: PROJ: sinu: Invalid latitude\n",
      "ERROR 1: PROJ: sinu: Invalid latitude\n",
      "ERROR 1: PROJ: sinu: Invalid latitude\n",
      "ERROR 1: PROJ: sinu: Invalid latitude\n",
      "ERROR 1: PROJ: sinu: Invalid latitude\n",
      "ERROR 1: PROJ: sinu: Invalid latitude\n",
      "ERROR 1: PROJ: sinu: Invalid latitude\n",
      "ERROR 1: PROJ: sinu: Invalid latitude\n",
      "ERROR 1: PROJ: sinu: Invalid latitude\n",
      "ERROR 1: PROJ: sinu: Invalid latitude\n",
      "ERROR 1: PROJ: sinu: Invalid latitude\n",
      "ERROR 1: PROJ: sinu: Invalid latitude\n",
      "ERROR 1: PROJ: sinu: Invalid latitude\n",
      "ERROR 1: PROJ: sinu: Invalid latitude\n",
      "ERROR 1: PROJ: sinu: Invalid latitude\n",
      "ERROR 1: PROJ: sinu: Invalid latitude\n",
      "ERROR 1: PROJ: sinu: Invalid latitude\n",
      "ERROR 1: PROJ: sinu: Invalid latitude\n",
      "ERROR 1: PROJ: sinu: Invalid latitude\n",
      "ERROR 1: PROJ: sinu: Invalid latitude\n",
      "ERROR 1: PROJ: sinu: Invalid latitude\n",
      "ERROR 1: PROJ: sinu: Invalid latitude\n",
      "ERROR 1: PROJ: sinu: Invalid latitude\n",
      "ERROR 1: PROJ: sinu: Invalid latitude\n",
      "ERROR 1: PROJ: sinu: Invalid latitude\n",
      "ERROR 1: PROJ: sinu: Invalid latitude\n",
      "ERROR 1: PROJ: sinu: Invalid latitude\n",
      "ERROR 1: PROJ: sinu: Invalid latitude\n",
      "ERROR 1: PROJ: sinu: Invalid latitude\n",
      "ERROR 1: PROJ: sinu: Invalid latitude\n",
      "ERROR 1: PROJ: sinu: Invalid latitude\n",
      "ERROR 1: PROJ: sinu: Invalid latitude\n",
      "ERROR 1: PROJ: sinu: Invalid latitude\n",
      "ERROR 1: PROJ: sinu: Invalid latitude\n",
      "ERROR 1: PROJ: sinu: Invalid latitude\n",
      "ERROR 1: PROJ: sinu: Invalid latitude\n",
      "ERROR 1: PROJ: sinu: Invalid latitude\n",
      "ERROR 1: PROJ: sinu: Invalid latitude\n",
      "ERROR 1: PROJ: sinu: Invalid latitude\n",
      "ERROR 1: PROJ: sinu: Invalid latitude\n",
      "ERROR 1: PROJ: sinu: Invalid latitude\n",
      "ERROR 1: PROJ: sinu: Invalid latitude\n",
      "ERROR 1: PROJ: sinu: Invalid latitude\n",
      "ERROR 1: PROJ: sinu: Invalid latitude\n",
      "ERROR 1: PROJ: sinu: Invalid latitude\n",
      "ERROR 1: PROJ: sinu: Invalid latitude\n",
      "ERROR 1: PROJ: sinu: Invalid latitude\n",
      "ERROR 1: PROJ: sinu: Invalid latitude\n",
      "ERROR 1: PROJ: sinu: Invalid latitude\n",
      "ERROR 1: PROJ: sinu: Invalid latitude\n",
      "ERROR 1: PROJ: sinu: Invalid latitude\n",
      "ERROR 1: PROJ: sinu: Invalid latitude\n",
      "ERROR 1: PROJ: sinu: Invalid latitude\n",
      "ERROR 1: PROJ: sinu: Invalid latitude\n",
      "ERROR 1: PROJ: sinu: Invalid latitude\n",
      "ERROR 1: PROJ: sinu: Invalid latitude\n",
      "ERROR 1: PROJ: sinu: Invalid latitude\n",
      "ERROR 1: PROJ: sinu: Invalid latitude\n",
      "ERROR 1: PROJ: sinu: Invalid latitude\n",
      "ERROR 1: PROJ: sinu: Invalid latitude\n",
      "ERROR 1: PROJ: sinu: Invalid latitude\n",
      "ERROR 1: PROJ: sinu: Invalid latitude\n",
      "ERROR 1: PROJ: sinu: Invalid latitude\n",
      "ERROR 1: PROJ: sinu: Invalid latitude\n",
      "ERROR 1: PROJ: sinu: Invalid latitude\n",
      "ERROR 1: PROJ: sinu: Invalid latitude\n",
      "ERROR 1: PROJ: sinu: Invalid latitude\n",
      "ERROR 1: PROJ: sinu: Invalid latitude\n",
      "ERROR 1: PROJ: sinu: Invalid latitude\n",
      "ERROR 1: PROJ: sinu: Invalid latitude\n",
      "ERROR 1: PROJ: sinu: Invalid latitude\n",
      "ERROR 1: PROJ: sinu: Invalid latitude\n",
      "ERROR 1: PROJ: sinu: Invalid latitude\n",
      "ERROR 1: PROJ: sinu: Invalid latitude\n",
      "ERROR 1: PROJ: sinu: Invalid latitude\n",
      "ERROR 1: PROJ: sinu: Invalid latitude\n",
      "ERROR 1: PROJ: sinu: Invalid latitude\n",
      "ERROR 1: PROJ: sinu: Invalid latitude\n",
      "ERROR 1: PROJ: sinu: Invalid latitude\n",
      "ERROR 1: PROJ: sinu: Invalid latitude\n",
      "ERROR 1: PROJ: sinu: Invalid latitude\n",
      "ERROR 1: PROJ: sinu: Invalid latitude\n",
      "ERROR 1: PROJ: sinu: Invalid latitude\n",
      "ERROR 1: PROJ: sinu: Invalid latitude\n",
      "ERROR 1: PROJ: sinu: Invalid latitude\n",
      "ERROR 1: PROJ: sinu: Invalid latitude\n",
      "ERROR 1: PROJ: sinu: Invalid latitude\n",
      "ERROR 1: PROJ: sinu: Invalid latitude\n",
      "ERROR 1: PROJ: sinu: Invalid latitude\n",
      "ERROR 1: PROJ: sinu: Invalid latitude\n",
      "ERROR 1: PROJ: sinu: Invalid latitude\n",
      "ERROR 1: PROJ: sinu: Invalid latitude\n",
      "ERROR 1: PROJ: sinu: Invalid latitude\n",
      "ERROR 1: PROJ: sinu: Invalid latitude\n",
      "ERROR 1: PROJ: sinu: Invalid latitude\n",
      "ERROR 1: PROJ: sinu: Invalid latitude\n",
      "ERROR 1: PROJ: sinu: Invalid latitude\n",
      "ERROR 1: PROJ: sinu: Invalid latitude\n",
      "ERROR 1: PROJ: sinu: Invalid latitude\n",
      "ERROR 1: PROJ: sinu: Invalid latitude\n",
      "ERROR 1: PROJ: sinu: Invalid latitude\n",
      "ERROR 1: PROJ: sinu: Invalid latitude\n",
      "ERROR 1: PROJ: sinu: Invalid latitude\n",
      "ERROR 1: PROJ: sinu: Invalid latitude\n",
      "ERROR 1: PROJ: sinu: Invalid latitude\n",
      "ERROR 1: PROJ: sinu: Invalid latitude\n",
      "ERROR 1: PROJ: sinu: Invalid latitude\n",
      "ERROR 1: PROJ: sinu: Invalid latitude\n",
      "ERROR 1: PROJ: sinu: Invalid latitude\n",
      "ERROR 1: PROJ: sinu: Invalid latitude\n",
      "ERROR 1: PROJ: sinu: Invalid latitude\n",
      "ERROR 1: PROJ: sinu: Invalid latitude\n",
      "ERROR 1: PROJ: sinu: Invalid latitude\n",
      "ERROR 1: PROJ: sinu: Invalid latitude\n",
      "ERROR 1: PROJ: sinu: Invalid latitude\n",
      "ERROR 1: PROJ: sinu: Invalid latitude\n",
      "ERROR 1: PROJ: sinu: Invalid latitude\n",
      "ERROR 1: PROJ: sinu: Invalid latitude\n",
      "ERROR 1: PROJ: sinu: Invalid latitude\n",
      "ERROR 1: PROJ: sinu: Invalid latitude\n",
      "ERROR 1: PROJ: sinu: Invalid latitude\n",
      "ERROR 1: PROJ: sinu: Invalid latitude\n",
      "ERROR 1: PROJ: sinu: Invalid latitude\n",
      "ERROR 1: PROJ: sinu: Invalid latitude\n",
      "ERROR 1: PROJ: sinu: Invalid latitude\n",
      "ERROR 1: PROJ: sinu: Invalid latitude\n",
      "ERROR 1: PROJ: sinu: Invalid latitude\n",
      "ERROR 1: PROJ: sinu: Invalid latitude\n",
      "ERROR 1: PROJ: sinu: Invalid latitude\n",
      "ERROR 1: PROJ: sinu: Invalid latitude\n",
      "ERROR 1: PROJ: sinu: Invalid latitude\n",
      "ERROR 1: PROJ: sinu: Invalid latitude\n",
      "ERROR 1: PROJ: sinu: Invalid latitude\n",
      "ERROR 1: PROJ: sinu: Invalid latitude\n",
      "ERROR 1: PROJ: sinu: Invalid latitude\n",
      "ERROR 1: PROJ: sinu: Invalid latitude\n",
      "ERROR 1: PROJ: sinu: Invalid latitude\n",
      "ERROR 1: PROJ: sinu: Invalid latitude\n",
      "ERROR 1: PROJ: sinu: Invalid latitude\n",
      "ERROR 1: PROJ: sinu: Invalid latitude\n",
      "ERROR 1: PROJ: sinu: Invalid latitude\n",
      "ERROR 1: PROJ: sinu: Invalid latitude\n",
      "ERROR 1: PROJ: sinu: Invalid latitude\n",
      "ERROR 1: PROJ: sinu: Invalid latitude\n",
      "ERROR 1: PROJ: sinu: Invalid latitude\n",
      "ERROR 1: PROJ: sinu: Invalid latitude\n",
      "ERROR 1: PROJ: sinu: Invalid latitude\n",
      "ERROR 1: PROJ: sinu: Invalid latitude\n",
      "ERROR 1: PROJ: sinu: Invalid latitude\n",
      "ERROR 1: PROJ: sinu: Invalid latitude\n",
      "ERROR 1: PROJ: sinu: Invalid latitude\n",
      "ERROR 1: PROJ: sinu: Invalid latitude\n",
      "ERROR 1: PROJ: sinu: Invalid latitude\n",
      "ERROR 1: PROJ: sinu: Invalid latitude\n",
      "ERROR 1: PROJ: sinu: Invalid latitude\n",
      "ERROR 1: PROJ: sinu: Invalid latitude\n",
      "ERROR 1: PROJ: sinu: Invalid latitude\n",
      "ERROR 1: PROJ: sinu: Invalid latitude\n",
      "ERROR 1: PROJ: sinu: Invalid latitude\n",
      "ERROR 1: PROJ: sinu: Invalid latitude\n",
      "ERROR 1: PROJ: sinu: Invalid latitude\n",
      "ERROR 1: PROJ: sinu: Invalid latitude\n",
      "ERROR 1: PROJ: sinu: Invalid latitude\n",
      "ERROR 1: PROJ: sinu: Invalid latitude\n",
      "ERROR 1: PROJ: sinu: Invalid latitude\n",
      "ERROR 1: PROJ: sinu: Invalid latitude\n",
      "ERROR 1: PROJ: sinu: Invalid latitude\n",
      "ERROR 1: PROJ: sinu: Invalid latitude\n",
      "ERROR 1: PROJ: sinu: Invalid latitude\n",
      "ERROR 1: PROJ: sinu: Invalid latitude\n",
      "ERROR 1: PROJ: sinu: Invalid latitude\n",
      "ERROR 1: PROJ: sinu: Invalid latitude\n",
      "ERROR 1: PROJ: sinu: Invalid latitude\n",
      "ERROR 1: PROJ: sinu: Invalid latitude\n",
      "ERROR 1: PROJ: sinu: Invalid latitude\n",
      "ERROR 1: PROJ: sinu: Invalid latitude\n",
      "ERROR 1: PROJ: sinu: Invalid latitude\n",
      "ERROR 1: PROJ: sinu: Invalid latitude\n",
      "ERROR 1: PROJ: sinu: Invalid latitude\n",
      "ERROR 1: PROJ: sinu: Invalid latitude\n",
      "ERROR 1: PROJ: sinu: Invalid latitude\n",
      "ERROR 1: PROJ: sinu: Invalid latitude\n",
      "ERROR 1: PROJ: sinu: Invalid latitude\n",
      "ERROR 1: PROJ: sinu: Invalid latitude\n",
      "ERROR 1: PROJ: sinu: Invalid latitude\n",
      "ERROR 1: PROJ: sinu: Invalid latitude\n",
      "ERROR 1: PROJ: sinu: Invalid latitude\n",
      "ERROR 1: PROJ: sinu: Invalid latitude\n",
      "ERROR 1: PROJ: sinu: Invalid latitude\n",
      "ERROR 1: PROJ: sinu: Invalid latitude\n",
      "ERROR 1: PROJ: sinu: Invalid latitude\n",
      "ERROR 1: PROJ: sinu: Invalid latitude\n",
      "ERROR 1: PROJ: sinu: Invalid latitude\n",
      "ERROR 1: PROJ: sinu: Invalid latitude\n",
      "ERROR 1: PROJ: sinu: Invalid latitude\n",
      "ERROR 1: PROJ: sinu: Invalid latitude\n",
      "ERROR 1: PROJ: sinu: Invalid latitude\n",
      "ERROR 1: PROJ: sinu: Invalid latitude\n",
      "ERROR 1: PROJ: sinu: Invalid latitude\n",
      "ERROR 1: PROJ: sinu: Invalid latitude\n",
      "ERROR 1: PROJ: sinu: Invalid latitude\n",
      "ERROR 1: PROJ: sinu: Invalid latitude\n",
      "ERROR 1: PROJ: sinu: Invalid latitude\n",
      "ERROR 1: PROJ: sinu: Invalid latitude\n",
      "ERROR 1: PROJ: sinu: Invalid latitude\n",
      "ERROR 1: PROJ: sinu: Invalid latitude\n",
      "ERROR 1: PROJ: sinu: Invalid latitude\n",
      "ERROR 1: PROJ: sinu: Invalid latitude\n",
      "ERROR 1: PROJ: sinu: Invalid latitude\n",
      "ERROR 1: PROJ: sinu: Invalid latitude\n",
      "ERROR 1: PROJ: sinu: Invalid latitude\n",
      "ERROR 1: PROJ: sinu: Invalid latitude\n",
      "ERROR 1: PROJ: sinu: Invalid latitude\n",
      "ERROR 1: PROJ: sinu: Invalid latitude\n",
      "ERROR 1: PROJ: sinu: Invalid latitude\n",
      "ERROR 1: PROJ: sinu: Invalid latitude\n",
      "ERROR 1: PROJ: sinu: Invalid latitude\n",
      "ERROR 1: PROJ: sinu: Invalid latitude\n",
      "ERROR 1: PROJ: sinu: Invalid latitude\n",
      "ERROR 1: PROJ: sinu: Invalid latitude\n",
      "ERROR 1: PROJ: sinu: Invalid latitude\n",
      "ERROR 1: PROJ: sinu: Invalid latitude\n",
      "ERROR 1: PROJ: sinu: Invalid latitude\n",
      "ERROR 1: PROJ: sinu: Invalid latitude\n",
      "ERROR 1: PROJ: sinu: Invalid latitude\n",
      "ERROR 1: PROJ: sinu: Invalid latitude\n",
      "ERROR 1: PROJ: sinu: Invalid latitude\n",
      "ERROR 1: PROJ: sinu: Invalid latitude\n",
      "ERROR 1: PROJ: sinu: Invalid latitude\n",
      "ERROR 1: PROJ: sinu: Invalid latitude\n",
      "ERROR 1: PROJ: sinu: Invalid latitude\n",
      "ERROR 1: PROJ: sinu: Invalid latitude\n",
      "ERROR 1: PROJ: sinu: Invalid latitude\n",
      "ERROR 1: PROJ: sinu: Invalid latitude\n",
      "ERROR 1: PROJ: sinu: Invalid latitude\n",
      "ERROR 1: PROJ: sinu: Invalid latitude\n",
      "ERROR 1: PROJ: sinu: Invalid latitude\n",
      "ERROR 1: PROJ: sinu: Invalid latitude\n",
      "ERROR 1: PROJ: sinu: Invalid latitude\n",
      "ERROR 1: PROJ: sinu: Invalid latitude\n",
      "ERROR 1: PROJ: sinu: Invalid latitude\n",
      "ERROR 1: PROJ: sinu: Invalid latitude\n",
      "ERROR 1: PROJ: sinu: Invalid latitude\n",
      "ERROR 1: PROJ: sinu: Invalid latitude\n",
      "ERROR 1: PROJ: sinu: Invalid latitude\n",
      "ERROR 1: PROJ: sinu: Invalid latitude\n",
      "ERROR 1: PROJ: sinu: Invalid latitude\n",
      "ERROR 1: PROJ: sinu: Invalid latitude\n",
      "ERROR 1: PROJ: sinu: Invalid latitude\n",
      "ERROR 1: PROJ: sinu: Invalid latitude\n",
      "ERROR 1: PROJ: sinu: Invalid latitude\n",
      "ERROR 1: PROJ: sinu: Invalid latitude\n",
      "ERROR 1: PROJ: sinu: Invalid latitude\n",
      "ERROR 1: PROJ: sinu: Invalid latitude\n",
      "ERROR 1: PROJ: sinu: Invalid latitude\n",
      "ERROR 1: PROJ: sinu: Invalid latitude\n",
      "ERROR 1: PROJ: sinu: Invalid latitude\n",
      "ERROR 1: PROJ: sinu: Invalid latitude\n",
      "ERROR 1: PROJ: sinu: Invalid latitude\n",
      "ERROR 1: PROJ: sinu: Invalid latitude\n",
      "ERROR 1: PROJ: sinu: Invalid latitude\n",
      "ERROR 1: PROJ: sinu: Invalid latitude\n",
      "ERROR 1: PROJ: sinu: Invalid latitude\n",
      "ERROR 1: PROJ: sinu: Invalid latitude\n",
      "ERROR 1: PROJ: sinu: Invalid latitude\n",
      "ERROR 1: PROJ: sinu: Invalid latitude\n",
      "ERROR 1: PROJ: sinu: Invalid latitude\n",
      "ERROR 1: PROJ: sinu: Invalid latitude\n",
      "ERROR 1: PROJ: sinu: Invalid latitude\n",
      "ERROR 1: PROJ: sinu: Invalid latitude\n",
      "ERROR 1: PROJ: sinu: Invalid latitude\n",
      "ERROR 1: PROJ: sinu: Invalid latitude\n",
      "ERROR 1: PROJ: sinu: Invalid latitude\n",
      "ERROR 1: PROJ: sinu: Invalid latitude\n",
      "ERROR 1: PROJ: sinu: Invalid latitude\n",
      "ERROR 1: PROJ: sinu: Invalid latitude\n",
      "ERROR 1: PROJ: sinu: Invalid latitude\n",
      "ERROR 1: PROJ: sinu: Invalid latitude\n",
      "ERROR 1: PROJ: sinu: Invalid latitude\n",
      "ERROR 1: PROJ: sinu: Invalid latitude\n",
      "ERROR 1: PROJ: sinu: Invalid latitude\n",
      "ERROR 1: PROJ: sinu: Invalid latitude\n",
      "ERROR 1: PROJ: sinu: Invalid latitude\n",
      "ERROR 1: PROJ: sinu: Invalid latitude\n",
      "ERROR 1: PROJ: sinu: Invalid latitude\n",
      "ERROR 1: PROJ: sinu: Invalid latitude\n",
      "ERROR 1: PROJ: sinu: Invalid latitude\n",
      "ERROR 1: PROJ: sinu: Invalid latitude\n",
      "ERROR 1: PROJ: sinu: Invalid latitude\n",
      "ERROR 1: PROJ: sinu: Invalid latitude\n",
      "ERROR 1: PROJ: sinu: Invalid latitude\n",
      "ERROR 1: PROJ: sinu: Invalid latitude\n",
      "ERROR 1: PROJ: sinu: Invalid latitude\n",
      "ERROR 1: PROJ: sinu: Invalid latitude\n",
      "ERROR 1: PROJ: sinu: Invalid latitude\n",
      "ERROR 1: PROJ: sinu: Invalid latitude\n",
      "ERROR 1: PROJ: sinu: Invalid latitude\n",
      "ERROR 1: PROJ: sinu: Invalid latitude\n",
      "ERROR 1: PROJ: sinu: Invalid latitude\n",
      "ERROR 1: PROJ: sinu: Invalid latitude\n",
      "ERROR 1: PROJ: sinu: Invalid latitude\n",
      "ERROR 1: PROJ: sinu: Invalid latitude\n",
      "ERROR 1: PROJ: sinu: Invalid latitude\n",
      "ERROR 1: PROJ: sinu: Invalid latitude\n",
      "ERROR 1: PROJ: sinu: Invalid latitude\n",
      "ERROR 1: PROJ: sinu: Invalid latitude\n",
      "ERROR 1: PROJ: sinu: Invalid latitude\n",
      "ERROR 1: PROJ: sinu: Invalid latitude\n",
      "ERROR 1: PROJ: sinu: Invalid latitude\n",
      "ERROR 1: PROJ: sinu: Invalid latitude\n",
      "ERROR 1: PROJ: sinu: Invalid latitude\n",
      "ERROR 1: PROJ: sinu: Invalid latitude\n",
      "ERROR 1: PROJ: sinu: Invalid latitude\n",
      "ERROR 1: PROJ: sinu: Invalid latitude\n",
      "ERROR 1: PROJ: sinu: Invalid latitude\n",
      "ERROR 1: PROJ: sinu: Invalid latitude\n",
      "ERROR 1: PROJ: sinu: Invalid latitude\n",
      "ERROR 1: PROJ: sinu: Invalid latitude\n",
      "ERROR 1: PROJ: sinu: Invalid latitude\n",
      "ERROR 1: PROJ: sinu: Invalid latitude\n",
      "ERROR 1: PROJ: sinu: Invalid latitude\n",
      "ERROR 1: PROJ: sinu: Invalid latitude\n",
      "ERROR 1: PROJ: sinu: Invalid latitude\n",
      "ERROR 1: PROJ: sinu: Invalid latitude\n",
      "ERROR 1: PROJ: sinu: Invalid latitude\n",
      "ERROR 1: PROJ: sinu: Invalid latitude\n",
      "ERROR 1: PROJ: sinu: Invalid latitude\n",
      "ERROR 1: PROJ: sinu: Invalid latitude\n",
      "ERROR 1: PROJ: sinu: Invalid latitude\n",
      "ERROR 1: PROJ: sinu: Invalid latitude\n",
      "ERROR 1: PROJ: sinu: Invalid latitude\n",
      "ERROR 1: PROJ: sinu: Invalid latitude\n",
      "ERROR 1: PROJ: sinu: Invalid latitude\n",
      "ERROR 1: PROJ: sinu: Invalid latitude\n",
      "ERROR 1: PROJ: sinu: Invalid latitude\n",
      "ERROR 1: PROJ: sinu: Invalid latitude\n",
      "ERROR 1: PROJ: sinu: Invalid latitude\n",
      "ERROR 1: PROJ: sinu: Invalid latitude\n",
      "ERROR 1: PROJ: sinu: Invalid latitude\n",
      "ERROR 1: PROJ: sinu: Invalid latitude\n",
      "ERROR 1: PROJ: sinu: Invalid latitude\n",
      "ERROR 1: PROJ: sinu: Invalid latitude\n",
      "ERROR 1: PROJ: sinu: Invalid latitude\n",
      "ERROR 1: PROJ: sinu: Invalid latitude\n",
      "ERROR 1: PROJ: sinu: Invalid latitude\n",
      "ERROR 1: PROJ: sinu: Invalid latitude\n",
      "ERROR 1: PROJ: sinu: Invalid latitude\n",
      "ERROR 1: PROJ: sinu: Invalid latitude\n",
      "ERROR 1: PROJ: sinu: Invalid latitude\n",
      "ERROR 1: PROJ: sinu: Invalid latitude\n",
      "ERROR 1: PROJ: sinu: Invalid latitude\n",
      "ERROR 1: PROJ: sinu: Invalid latitude\n",
      "ERROR 1: PROJ: sinu: Invalid latitude\n",
      "ERROR 1: PROJ: sinu: Invalid latitude\n",
      "ERROR 1: PROJ: sinu: Invalid latitude\n",
      "ERROR 1: PROJ: sinu: Invalid latitude\n",
      "ERROR 1: PROJ: sinu: Invalid latitude\n",
      "ERROR 1: PROJ: sinu: Invalid latitude\n",
      "ERROR 1: PROJ: sinu: Invalid latitude\n",
      "ERROR 1: PROJ: sinu: Invalid latitude\n",
      "ERROR 1: PROJ: sinu: Invalid latitude\n",
      "ERROR 1: PROJ: sinu: Invalid latitude\n",
      "ERROR 1: PROJ: sinu: Invalid latitude\n",
      "ERROR 1: PROJ: sinu: Invalid latitude\n",
      "ERROR 1: PROJ: sinu: Invalid latitude\n",
      "ERROR 1: PROJ: sinu: Invalid latitude\n",
      "ERROR 1: PROJ: sinu: Invalid latitude\n",
      "ERROR 1: PROJ: sinu: Invalid latitude\n",
      "ERROR 1: PROJ: sinu: Invalid latitude\n",
      "ERROR 1: PROJ: sinu: Invalid latitude\n",
      "ERROR 1: PROJ: sinu: Invalid latitude\n",
      "ERROR 1: PROJ: sinu: Invalid latitude\n",
      "ERROR 1: PROJ: sinu: Invalid latitude\n",
      "ERROR 1: PROJ: sinu: Invalid latitude\n",
      "ERROR 1: PROJ: sinu: Invalid latitude\n",
      "ERROR 1: PROJ: sinu: Invalid latitude\n",
      "ERROR 1: PROJ: sinu: Invalid latitude\n",
      "ERROR 1: PROJ: sinu: Invalid latitude\n",
      "ERROR 1: PROJ: sinu: Invalid latitude\n",
      "ERROR 1: PROJ: sinu: Invalid latitude\n",
      "ERROR 1: PROJ: sinu: Invalid latitude\n",
      "ERROR 1: PROJ: sinu: Invalid latitude\n",
      "ERROR 1: PROJ: sinu: Invalid latitude\n",
      "ERROR 1: PROJ: sinu: Invalid latitude\n",
      "ERROR 1: PROJ: sinu: Invalid latitude\n",
      "ERROR 1: PROJ: sinu: Invalid latitude\n",
      "ERROR 1: PROJ: sinu: Invalid latitude\n",
      "ERROR 1: PROJ: sinu: Invalid latitude\n",
      "ERROR 1: PROJ: sinu: Invalid latitude\n",
      "ERROR 1: PROJ: sinu: Invalid latitude\n",
      "ERROR 1: PROJ: sinu: Invalid latitude\n",
      "ERROR 1: PROJ: sinu: Invalid latitude\n",
      "ERROR 1: PROJ: sinu: Invalid latitude\n",
      "ERROR 1: PROJ: sinu: Invalid latitude\n",
      "ERROR 1: PROJ: sinu: Invalid latitude\n",
      "ERROR 1: PROJ: sinu: Invalid latitude\n",
      "ERROR 1: PROJ: sinu: Invalid latitude\n",
      "ERROR 1: PROJ: sinu: Invalid latitude\n",
      "ERROR 1: PROJ: sinu: Invalid latitude\n",
      "ERROR 1: PROJ: sinu: Invalid latitude\n",
      "ERROR 1: PROJ: sinu: Invalid latitude\n",
      "ERROR 1: PROJ: sinu: Invalid latitude\n",
      "ERROR 1: PROJ: sinu: Invalid latitude\n",
      "ERROR 1: PROJ: sinu: Invalid latitude\n",
      "ERROR 1: PROJ: sinu: Invalid latitude\n",
      "ERROR 1: PROJ: sinu: Invalid latitude\n",
      "ERROR 1: PROJ: sinu: Invalid latitude\n",
      "ERROR 1: PROJ: sinu: Invalid latitude\n",
      "ERROR 1: PROJ: sinu: Invalid latitude\n",
      "ERROR 1: PROJ: sinu: Invalid latitude\n",
      "ERROR 1: PROJ: sinu: Invalid latitude\n",
      "ERROR 1: PROJ: sinu: Invalid latitude\n",
      "ERROR 1: PROJ: sinu: Invalid latitude\n",
      "ERROR 1: PROJ: sinu: Invalid latitude\n",
      "ERROR 1: PROJ: sinu: Invalid latitude\n",
      "ERROR 1: PROJ: sinu: Invalid latitude\n",
      "ERROR 1: PROJ: sinu: Invalid latitude\n",
      "ERROR 1: PROJ: sinu: Invalid latitude\n",
      "ERROR 1: PROJ: sinu: Invalid latitude\n",
      "ERROR 1: PROJ: sinu: Invalid latitude\n",
      "ERROR 1: PROJ: sinu: Invalid latitude\n",
      "ERROR 1: PROJ: sinu: Invalid latitude\n",
      "ERROR 1: PROJ: sinu: Invalid latitude\n",
      "ERROR 1: PROJ: sinu: Invalid latitude\n",
      "ERROR 1: PROJ: sinu: Invalid latitude\n",
      "ERROR 1: PROJ: sinu: Invalid latitude\n",
      "ERROR 1: PROJ: sinu: Invalid latitude\n",
      "ERROR 1: PROJ: sinu: Invalid latitude\n",
      "ERROR 1: PROJ: sinu: Invalid latitude\n",
      "ERROR 1: PROJ: sinu: Invalid latitude\n",
      "ERROR 1: PROJ: sinu: Invalid latitude\n",
      "ERROR 1: PROJ: sinu: Invalid latitude\n",
      "ERROR 1: PROJ: sinu: Invalid latitude\n",
      "ERROR 1: PROJ: sinu: Invalid latitude\n",
      "ERROR 1: PROJ: sinu: Invalid latitude\n",
      "ERROR 1: PROJ: sinu: Invalid latitude\n",
      "ERROR 1: PROJ: sinu: Invalid latitude\n",
      "ERROR 1: PROJ: sinu: Invalid latitude\n",
      "ERROR 1: PROJ: sinu: Invalid latitude\n",
      "ERROR 1: PROJ: sinu: Invalid latitude\n",
      "ERROR 1: PROJ: sinu: Invalid latitude\n",
      "ERROR 1: PROJ: sinu: Invalid latitude\n",
      "ERROR 1: PROJ: sinu: Invalid latitude\n",
      "ERROR 1: PROJ: sinu: Invalid latitude\n",
      "ERROR 1: PROJ: sinu: Invalid latitude\n",
      "ERROR 1: PROJ: sinu: Invalid latitude\n",
      "ERROR 1: PROJ: sinu: Invalid latitude\n",
      "ERROR 1: PROJ: sinu: Invalid latitude\n",
      "ERROR 1: PROJ: sinu: Invalid latitude\n",
      "ERROR 1: PROJ: sinu: Invalid latitude\n",
      "ERROR 1: PROJ: sinu: Invalid latitude\n",
      "ERROR 1: PROJ: sinu: Invalid latitude\n",
      "ERROR 1: PROJ: sinu: Invalid latitude\n",
      "ERROR 1: PROJ: sinu: Invalid latitude\n",
      "ERROR 1: PROJ: sinu: Invalid latitude\n",
      "ERROR 1: PROJ: sinu: Invalid latitude\n",
      "ERROR 1: PROJ: sinu: Invalid latitude\n",
      "ERROR 1: PROJ: sinu: Invalid latitude\n",
      "ERROR 1: PROJ: sinu: Invalid latitude\n",
      "ERROR 1: PROJ: sinu: Invalid latitude\n",
      "ERROR 1: PROJ: sinu: Invalid latitude\n",
      "ERROR 1: PROJ: sinu: Invalid latitude\n",
      "ERROR 1: PROJ: sinu: Invalid latitude\n",
      "ERROR 1: PROJ: sinu: Invalid latitude\n",
      "ERROR 1: PROJ: sinu: Invalid latitude\n",
      "ERROR 1: PROJ: sinu: Invalid latitude\n",
      "ERROR 1: PROJ: sinu: Invalid latitude\n",
      "ERROR 1: PROJ: sinu: Invalid latitude\n",
      "ERROR 1: PROJ: sinu: Invalid latitude\n",
      "ERROR 1: PROJ: sinu: Invalid latitude\n",
      "ERROR 1: PROJ: sinu: Invalid latitude\n",
      "ERROR 1: PROJ: sinu: Invalid latitude\n",
      "ERROR 1: PROJ: sinu: Invalid latitude\n",
      "ERROR 1: PROJ: sinu: Invalid latitude\n",
      "ERROR 1: PROJ: sinu: Invalid latitude\n",
      "ERROR 1: PROJ: sinu: Invalid latitude\n",
      "ERROR 1: PROJ: sinu: Invalid latitude\n",
      "ERROR 1: PROJ: sinu: Invalid latitude\n",
      "ERROR 1: PROJ: sinu: Invalid latitude\n",
      "ERROR 1: PROJ: sinu: Invalid latitude\n",
      "ERROR 1: PROJ: sinu: Invalid latitude\n",
      "ERROR 1: PROJ: sinu: Invalid latitude\n",
      "ERROR 1: PROJ: sinu: Invalid latitude\n",
      "ERROR 1: PROJ: sinu: Invalid latitude\n",
      "ERROR 1: PROJ: sinu: Invalid latitude\n",
      "ERROR 1: PROJ: sinu: Invalid latitude\n",
      "ERROR 1: PROJ: sinu: Invalid latitude\n",
      "ERROR 1: PROJ: sinu: Invalid latitude\n",
      "ERROR 1: PROJ: sinu: Invalid latitude\n",
      "ERROR 1: PROJ: sinu: Invalid latitude\n",
      "ERROR 1: PROJ: sinu: Invalid latitude\n",
      "ERROR 1: PROJ: sinu: Invalid latitude\n",
      "ERROR 1: PROJ: sinu: Invalid latitude\n",
      "ERROR 1: PROJ: sinu: Invalid latitude\n",
      "ERROR 1: PROJ: sinu: Invalid latitude\n",
      "ERROR 1: PROJ: sinu: Invalid latitude\n",
      "ERROR 1: PROJ: sinu: Invalid latitude\n",
      "ERROR 1: PROJ: sinu: Invalid latitude\n",
      "ERROR 1: PROJ: sinu: Invalid latitude\n",
      "ERROR 1: PROJ: sinu: Invalid latitude\n",
      "ERROR 1: PROJ: sinu: Invalid latitude\n",
      "ERROR 1: PROJ: sinu: Invalid latitude\n",
      "ERROR 1: PROJ: sinu: Invalid latitude\n",
      "ERROR 1: PROJ: sinu: Invalid latitude\n",
      "ERROR 1: PROJ: sinu: Invalid latitude\n",
      "ERROR 1: PROJ: sinu: Invalid latitude\n",
      "ERROR 1: PROJ: sinu: Invalid latitude\n",
      "ERROR 1: PROJ: sinu: Invalid latitude\n",
      "ERROR 1: PROJ: sinu: Invalid latitude\n",
      "ERROR 1: PROJ: sinu: Invalid latitude\n",
      "ERROR 1: PROJ: sinu: Invalid latitude\n",
      "ERROR 1: PROJ: sinu: Invalid latitude\n",
      "ERROR 1: PROJ: sinu: Invalid latitude\n",
      "ERROR 1: PROJ: sinu: Invalid latitude\n",
      "ERROR 1: PROJ: sinu: Invalid latitude\n",
      "ERROR 1: PROJ: sinu: Invalid latitude\n",
      "ERROR 1: PROJ: sinu: Invalid latitude\n",
      "ERROR 1: PROJ: sinu: Invalid latitude\n",
      "ERROR 1: PROJ: sinu: Invalid latitude\n"
     ]
    },
    {
     "name": "stdout",
     "output_type": "stream",
     "text": [
      "(2025-05-11 22:07:20) modis.sh: subsetting HDFs in GeoTIFF format under /work/comphyd_lab/data/CONFLUENCE_data/domain_loveland_pass_snotel/attributes/landclass\n",
      "(2025-05-11 22:07:22) modis.sh: deleting temporary files from /home/darri.eythorsson/cache_loveland_pass_snotel\n",
      "(2025-05-11 22:07:22) modis.sh: temporary files from /home/darri.eythorsson/cache_loveland_pass_snotel are removed\n",
      "(2025-05-11 22:07:22) modis.sh: results are produced under /work/comphyd_lab/data/CONFLUENCE_data/domain_loveland_pass_snotel/attributes/landclass\n",
      "16:07:22 - INFO - gistool completed successfully.\n"
     ]
    },
    {
     "name": "stderr",
     "output_type": "stream",
     "text": [
      "mkdir: cannot create directory ‘/home/darri.eythorsson/empty_dir’: File exists\n",
      "2025-05-11 16:07:22,969 - confluence_general - INFO - gistool completed successfully.\n"
     ]
    },
    {
     "name": "stdout",
     "output_type": "stream",
     "text": [
      "16:07:22 - INFO - Geospatial data acquisition process completed\n"
     ]
    },
    {
     "name": "stderr",
     "output_type": "stream",
     "text": [
      "2025-05-11 16:07:22,973 - confluence_general - INFO - Geospatial data acquisition process completed\n"
     ]
    },
    {
     "name": "stdout",
     "output_type": "stream",
     "text": [
      "16:07:22 - INFO - Calculating land cover mode across years\n"
     ]
    },
    {
     "name": "stderr",
     "output_type": "stream",
     "text": [
      "2025-05-11 16:07:22,976 - confluence_general - INFO - Calculating land cover mode across years\n"
     ]
    },
    {
     "name": "stdout",
     "output_type": "stream",
     "text": [
      "16:07:23 - INFO - Acquiring soil class data\n"
     ]
    },
    {
     "name": "stderr",
     "output_type": "stream",
     "text": [
      "2025-05-11 16:07:23,018 - confluence_general - INFO - Acquiring soil class data\n"
     ]
    },
    {
     "name": "stdout",
     "output_type": "stream",
     "text": [
      "extract-gis.sh: WARNING! --account not provided, using `rpp-kshook` by default.\n",
      "(2025-05-11 22:07:27) soil_class.sh: processing Wouter's wonderful soil_class GeoTIFF(s)...\n",
      "(2025-05-11 22:07:27) soil_class.sh: creating output directory under /work/comphyd_lab/data/CONFLUENCE_data/domain_loveland_pass_snotel/attributes/soilclass\n",
      "(2025-05-11 22:07:27) soil_class.sh: subsetting GeoTIFFs under /work/comphyd_lab/data/CONFLUENCE_data/domain_loveland_pass_snotel/attributes/soilclass\n",
      "(2025-05-11 22:07:27) soil_class.sh: deleting temporary files from /home/darri.eythorsson/cache_loveland_pass_snotel\n",
      "(2025-05-11 22:07:27) soil_class.sh: temporary files from /home/darri.eythorsson/cache_loveland_pass_snotel are removed\n",
      "(2025-05-11 22:07:27) soil_class.sh: results are produced under /work/comphyd_lab/data/CONFLUENCE_data/domain_loveland_pass_snotel/attributes/soilclass\n",
      "16:07:27 - INFO - gistool completed successfully.\n"
     ]
    },
    {
     "name": "stderr",
     "output_type": "stream",
     "text": [
      "mkdir: cannot create directory ‘/home/darri.eythorsson/empty_dir’: File exists\n",
      "2025-05-11 16:07:27,520 - confluence_general - INFO - gistool completed successfully.\n"
     ]
    },
    {
     "name": "stdout",
     "output_type": "stream",
     "text": [
      "16:07:27 - INFO - Geospatial data acquisition process completed\n"
     ]
    },
    {
     "name": "stderr",
     "output_type": "stream",
     "text": [
      "2025-05-11 16:07:27,522 - confluence_general - INFO - Geospatial data acquisition process completed\n"
     ]
    },
    {
     "name": "stdout",
     "output_type": "stream",
     "text": [
      "16:07:27 - INFO - Attribute acquisition completed successfully\n"
     ]
    },
    {
     "name": "stderr",
     "output_type": "stream",
     "text": [
      "2025-05-11 16:07:27,523 - confluence_general - INFO - Attribute acquisition completed successfully\n"
     ]
    }
   ],
   "source": [
    "# Acquire attributes\n",
    "print(\"Acquiring geospatial attributes for point location...\")\n",
    "print(f\"Minimal bounding box: {confluence.config.get('BOUNDING_BOX_COORDS')}\")\n",
    "confluence.managers['data'].acquire_attributes()"
   ]
  },
  {
   "cell_type": "markdown",
   "metadata": {},
   "source": [
    "## 6. Geospatial Domain Definition - Domain creation"
   ]
  },
  {
   "cell_type": "code",
   "execution_count": 6,
   "metadata": {
    "scrolled": true
   },
   "outputs": [
    {
     "name": "stdout",
     "output_type": "stream",
     "text": [
      "=== Step 2: Geospatial Domain Definition and Analysis ===\n",
      "\n",
      "Defining minimal domain for point-scale simulation...\n",
      "16:07:27 - INFO - Domain definition workflow starting with: lumped\n"
     ]
    },
    {
     "name": "stderr",
     "output_type": "stream",
     "text": [
      "2025-05-11 16:07:27,534 - confluence_general - INFO - Domain definition workflow starting with: lumped\n"
     ]
    },
    {
     "name": "stdout",
     "output_type": "stream",
     "text": [
      "16:07:27 - INFO - Starting point buffer\n"
     ]
    },
    {
     "name": "stderr",
     "output_type": "stream",
     "text": [
      "2025-05-11 16:07:27,536 - confluence_general - INFO - Starting point buffer\n"
     ]
    },
    {
     "name": "stdout",
     "output_type": "stream",
     "text": [
      "16:07:27 - INFO - point buffer completed successfully\n"
     ]
    },
    {
     "name": "stderr",
     "output_type": "stream",
     "text": [
      "2025-05-11 16:07:27,538 - confluence_general - INFO - point buffer completed successfully\n"
     ]
    },
    {
     "name": "stdout",
     "output_type": "stream",
     "text": [
      "16:07:27 - INFO - Creating point buffer shape for point-scale simulation at loveland_pass_snotel\n"
     ]
    },
    {
     "name": "stderr",
     "output_type": "stream",
     "text": [
      "2025-05-11 16:07:27,541 - confluence_general - INFO - Creating point buffer shape for point-scale simulation at loveland_pass_snotel\n",
      "2025-05-11 16:07:27,734 - pyogrio._io - INFO - Created 1 records\n",
      "2025-05-11 16:07:27,754 - pyogrio._io - INFO - Created 1 records\n",
      "2025-05-11 16:07:27,778 - pyogrio._io - INFO - Created 1 records\n"
     ]
    },
    {
     "name": "stdout",
     "output_type": "stream",
     "text": [
      "16:07:27 - INFO - Point buffer shapefiles created successfully at:\n"
     ]
    },
    {
     "name": "stderr",
     "output_type": "stream",
     "text": [
      "2025-05-11 16:07:27,782 - confluence_general - INFO - Point buffer shapefiles created successfully at:\n"
     ]
    },
    {
     "name": "stdout",
     "output_type": "stream",
     "text": [
      "16:07:27 - INFO -   - River basins: /work/comphyd_lab/data/CONFLUENCE_data/domain_loveland_pass_snotel/shapefiles/river_basins/loveland_pass_snotel_riverBasins_point.shp\n"
     ]
    },
    {
     "name": "stderr",
     "output_type": "stream",
     "text": [
      "2025-05-11 16:07:27,783 - confluence_general - INFO -   - River basins: /work/comphyd_lab/data/CONFLUENCE_data/domain_loveland_pass_snotel/shapefiles/river_basins/loveland_pass_snotel_riverBasins_point.shp\n"
     ]
    },
    {
     "name": "stdout",
     "output_type": "stream",
     "text": [
      "16:07:27 - INFO -   - Catchment: /work/comphyd_lab/data/CONFLUENCE_data/domain_loveland_pass_snotel/shapefiles/catchment/loveland_pass_snotel_HRUs_point.shp\n"
     ]
    },
    {
     "name": "stderr",
     "output_type": "stream",
     "text": [
      "2025-05-11 16:07:27,785 - confluence_general - INFO -   - Catchment: /work/comphyd_lab/data/CONFLUENCE_data/domain_loveland_pass_snotel/shapefiles/catchment/loveland_pass_snotel_HRUs_point.shp\n"
     ]
    },
    {
     "name": "stdout",
     "output_type": "stream",
     "text": [
      "16:07:27 - INFO -   - River network: /work/comphyd_lab/data/CONFLUENCE_data/domain_loveland_pass_snotel/shapefiles/river_network/loveland_pass_snotel_riverNetwork_point.shp\n"
     ]
    },
    {
     "name": "stderr",
     "output_type": "stream",
     "text": [
      "2025-05-11 16:07:27,786 - confluence_general - INFO -   - River network: /work/comphyd_lab/data/CONFLUENCE_data/domain_loveland_pass_snotel/shapefiles/river_network/loveland_pass_snotel_riverNetwork_point.shp\n"
     ]
    },
    {
     "name": "stdout",
     "output_type": "stream",
     "text": [
      "\n",
      "Creating single HRU for point-scale simulation...\n",
      "16:07:27 - INFO - Discretizing domain using method: GRUs\n"
     ]
    },
    {
     "name": "stderr",
     "output_type": "stream",
     "text": [
      "2025-05-11 16:07:27,788 - confluence_general - INFO - Discretizing domain using method: GRUs\n"
     ]
    },
    {
     "name": "stdout",
     "output_type": "stream",
     "text": [
      "16:07:27 - INFO - Starting domain discretization using method: grus\n"
     ]
    },
    {
     "name": "stderr",
     "output_type": "stream",
     "text": [
      "2025-05-11 16:07:27,791 - confluence_general - INFO - Starting domain discretization using method: grus\n"
     ]
    },
    {
     "name": "stdout",
     "output_type": "stream",
     "text": [
      "16:07:27 - INFO - Step 1/2: Running discretization method\n"
     ]
    },
    {
     "name": "stderr",
     "output_type": "stream",
     "text": [
      "2025-05-11 16:07:27,793 - confluence_general - INFO - Step 1/2: Running discretization method\n"
     ]
    },
    {
     "name": "stdout",
     "output_type": "stream",
     "text": [
      "16:07:27 - INFO - config domain name loveland_pass_snotel\n"
     ]
    },
    {
     "name": "stderr",
     "output_type": "stream",
     "text": [
      "2025-05-11 16:07:27,794 - confluence_general - INFO - config domain name loveland_pass_snotel\n"
     ]
    },
    {
     "name": "stdout",
     "output_type": "stream",
     "text": [
      "16:07:27 - INFO - Calculating mean elevation for each HRU\n"
     ]
    },
    {
     "name": "stderr",
     "output_type": "stream",
     "text": [
      "2025-05-11 16:07:27,811 - confluence_general - INFO - Calculating mean elevation for each HRU\n",
      "/work/comphyd_lab/users/darri/data/CONFLUENCE_data/installs/conf-env/lib/python3.11/site-packages/rasterstats/io.py:335: NodataWarning: Setting nodata to -999; specify nodata explicitly\n",
      "  warnings.warn(\n",
      "/home/darri.eythorsson/code/CONFLUENCE/utils/geospatial/discretization_utils.py:208: UserWarning: Geometry is in a geographic CRS. Results from 'centroid' are likely incorrect. Use 'GeoSeries.to_crs()' to re-project geometries to a projected CRS before this operation.\n",
      "\n",
      "  centroids_utm = gru_gdf.geometry.centroid\n",
      "2025-05-11 16:07:28,150 - pyogrio._io - INFO - Created 1 records\n"
     ]
    },
    {
     "name": "stdout",
     "output_type": "stream",
     "text": [
      "16:07:28 - INFO - GRUs saved as HRUs to /work/comphyd_lab/data/CONFLUENCE_data/domain_loveland_pass_snotel/shapefiles/catchment/loveland_pass_snotel_HRUs_GRUs.shp\n"
     ]
    },
    {
     "name": "stderr",
     "output_type": "stream",
     "text": [
      "2025-05-11 16:07:28,153 - confluence_general - INFO - GRUs saved as HRUs to /work/comphyd_lab/data/CONFLUENCE_data/domain_loveland_pass_snotel/shapefiles/catchment/loveland_pass_snotel_HRUs_GRUs.shp\n"
     ]
    },
    {
     "name": "stdout",
     "output_type": "stream",
     "text": [
      "16:07:29 - INFO - HRU plot saved to /work/comphyd_lab/data/CONFLUENCE_data/domain_loveland_pass_snotel/plots/catchment/loveland_pass_snotel_HRUs_as_GRUs.png\n"
     ]
    },
    {
     "name": "stderr",
     "output_type": "stream",
     "text": [
      "2025-05-11 16:07:29,033 - confluence_general - INFO - HRU plot saved to /work/comphyd_lab/data/CONFLUENCE_data/domain_loveland_pass_snotel/plots/catchment/loveland_pass_snotel_HRUs_as_GRUs.png\n"
     ]
    },
    {
     "name": "stdout",
     "output_type": "stream",
     "text": [
      "16:07:29 - INFO - Step 2/2: Sorting catchment shape\n"
     ]
    },
    {
     "name": "stderr",
     "output_type": "stream",
     "text": [
      "2025-05-11 16:07:29,035 - confluence_general - INFO - Step 2/2: Sorting catchment shape\n"
     ]
    },
    {
     "name": "stdout",
     "output_type": "stream",
     "text": [
      "16:07:29 - INFO - Sorting catchment shape\n"
     ]
    },
    {
     "name": "stderr",
     "output_type": "stream",
     "text": [
      "2025-05-11 16:07:29,037 - confluence_general - INFO - Sorting catchment shape\n",
      "2025-05-11 16:07:29,060 - pyogrio._io - INFO - Created 1 records\n"
     ]
    },
    {
     "name": "stdout",
     "output_type": "stream",
     "text": [
      "16:07:29 - INFO - Catchment shape sorted and saved to /work/comphyd_lab/data/CONFLUENCE_data/domain_loveland_pass_snotel/shapefiles/catchment/loveland_pass_snotel_HRUs_GRUs.shp\n"
     ]
    },
    {
     "name": "stderr",
     "output_type": "stream",
     "text": [
      "2025-05-11 16:07:29,063 - confluence_general - INFO - Catchment shape sorted and saved to /work/comphyd_lab/data/CONFLUENCE_data/domain_loveland_pass_snotel/shapefiles/catchment/loveland_pass_snotel_HRUs_GRUs.shp\n"
     ]
    },
    {
     "name": "stdout",
     "output_type": "stream",
     "text": [
      "16:07:29 - INFO - Domain discretization completed in 1.27 seconds\n"
     ]
    },
    {
     "name": "stderr",
     "output_type": "stream",
     "text": [
      "2025-05-11 16:07:29,065 - confluence_general - INFO - Domain discretization completed in 1.27 seconds\n"
     ]
    },
    {
     "name": "stdout",
     "output_type": "stream",
     "text": [
      "16:07:29 - ERROR - Domain discretization failed - no shapefile created\n"
     ]
    },
    {
     "name": "stderr",
     "output_type": "stream",
     "text": [
      "2025-05-11 16:07:29,066 - confluence_general - ERROR - Domain discretization failed - no shapefile created\n"
     ]
    },
    {
     "name": "stdout",
     "output_type": "stream",
     "text": [
      "\n",
      "Domain definition complete:\n",
      "  - Watershed defined: True\n",
      "  - HRUs created: False\n",
      "  - Number of HRUs: 1 (should be 1 for point-scale)\n"
     ]
    }
   ],
   "source": [
    "# Geospatial Domain Definition and Analysis\n",
    "print(\"=== Step 2: Geospatial Domain Definition and Analysis ===\")\n",
    "\n",
    "# Define domain\n",
    "print(\"\\nDefining minimal domain for point-scale simulation...\")\n",
    "watershed_path = confluence.managers['domain'].define_domain()\n",
    "# Discretize domain (single HRU for point-scale)\n",
    "print(\"\\nCreating single HRU for point-scale simulation...\")\n",
    "hru_path = confluence.managers['domain'].discretize_domain()\n",
    "\n",
    "# Check outputs\n",
    "print(\"\\nDomain definition complete:\")\n",
    "print(f\"  - Watershed defined: {watershed_path is not None}\")\n",
    "print(f\"  - HRUs created: {hru_path is not None}\")\n",
    "\n",
    "# Verify single HRU\n",
    "hru_dir = project_dir / 'shapefiles' / 'catchment'\n",
    "if hru_dir.exists():\n",
    "    hru_files = list(hru_dir.glob('*.shp'))\n",
    "    if hru_files:\n",
    "        hru_gdf = gpd.read_file(hru_files[0])\n",
    "        print(f\"  - Number of HRUs: {len(hru_gdf)} (should be 1 for point-scale)\")"
   ]
  },
  {
   "cell_type": "markdown",
   "metadata": {},
   "source": [
    "## 7. Model Agnostic Data Pre-Processing - Data Acquisition"
   ]
  },
  {
   "cell_type": "code",
   "execution_count": 7,
   "metadata": {},
   "outputs": [
    {
     "name": "stdout",
     "output_type": "stream",
     "text": [
      "=== Step 3: Model Agnostic Data Pre-Processing ===\n",
      "Processing observed data...\n",
      "\n",
      "Acquiring forcing data for point location...\n",
      "Dataset: ERA5\n",
      "16:07:29 - INFO - Starting forcing data acquisition\n"
     ]
    },
    {
     "name": "stderr",
     "output_type": "stream",
     "text": [
      "2025-05-11 16:07:29,086 - confluence_general - INFO - Starting forcing data acquisition\n"
     ]
    },
    {
     "name": "stdout",
     "output_type": "stream",
     "text": [
      "16:07:32 - INFO - datatool job submitted successfully.\n"
     ]
    },
    {
     "name": "stderr",
     "output_type": "stream",
     "text": [
      "2025-05-11 16:07:32,674 - confluence_general - INFO - datatool job submitted successfully.\n"
     ]
    },
    {
     "name": "stdout",
     "output_type": "stream",
     "text": [
      "16:12:03 - INFO - All datatool array jobs completed.\n"
     ]
    },
    {
     "name": "stderr",
     "output_type": "stream",
     "text": [
      "2025-05-11 16:12:03,271 - confluence_general - INFO - All datatool array jobs completed.\n"
     ]
    },
    {
     "name": "stdout",
     "output_type": "stream",
     "text": [
      "16:12:03 - INFO - Meteorological data acquisition process completed\n"
     ]
    },
    {
     "name": "stderr",
     "output_type": "stream",
     "text": [
      "2025-05-11 16:12:03,275 - confluence_general - INFO - Meteorological data acquisition process completed\n"
     ]
    },
    {
     "name": "stdout",
     "output_type": "stream",
     "text": [
      "16:12:03 - INFO - Forcing data acquisition completed successfully\n"
     ]
    },
    {
     "name": "stderr",
     "output_type": "stream",
     "text": [
      "2025-05-11 16:12:03,277 - confluence_general - INFO - Forcing data acquisition completed successfully\n"
     ]
    }
   ],
   "source": [
    "# Step 3: Model Agnostic Data Pre-Processing\n",
    "print(\"=== Step 3: Model Agnostic Data Pre-Processing ===\")\n",
    "\n",
    "# Process observed data (if we had real SNOTEL data, it would be processed here)\n",
    "print(\"Processing observed data...\")\n",
    "# Note: We skip this for synthetic data, but normally would process SNOTEL data here\n",
    "\n",
    "# Acquire forcings\n",
    "print(f\"\\nAcquiring forcing data for point location...\")\n",
    "print(f\"Dataset: {confluence.config['FORCING_DATASET']}\")\n",
    "confluence.managers['data'].acquire_forcings()"
   ]
  },
  {
   "cell_type": "markdown",
   "metadata": {},
   "source": [
    "## 8. Model Agnostic Data Pre-Processing - Remapping and zonal statistics"
   ]
  },
  {
   "cell_type": "code",
   "execution_count": null,
   "metadata": {
    "scrolled": true
   },
   "outputs": [
    {
     "name": "stdout",
     "output_type": "stream",
     "text": [
      "\n",
      "Running model-agnostic preprocessing...\n",
      "For point-scale simulations:\n",
      "  - No spatial averaging needed\n",
      "  - Apply elevation corrections if needed\n",
      "  - Convert units to model requirements\n",
      "16:17:56 - INFO - Starting model-agnostic preprocessing\n"
     ]
    },
    {
     "name": "stderr",
     "output_type": "stream",
     "text": [
      "2025-05-11 16:17:56,320 - confluence_general - INFO - Starting model-agnostic preprocessing\n"
     ]
    },
    {
     "name": "stdout",
     "output_type": "stream",
     "text": [
      "16:17:56 - INFO - Running geospatial statistics\n"
     ]
    },
    {
     "name": "stderr",
     "output_type": "stream",
     "text": [
      "2025-05-11 16:17:56,323 - confluence_general - INFO - Running geospatial statistics\n"
     ]
    },
    {
     "name": "stdout",
     "output_type": "stream",
     "text": [
      "16:17:56 - INFO - Starting geospatial statistics calculation\n"
     ]
    },
    {
     "name": "stderr",
     "output_type": "stream",
     "text": [
      "2025-05-11 16:17:56,325 - confluence_general - INFO - Starting geospatial statistics calculation\n"
     ]
    },
    {
     "name": "stdout",
     "output_type": "stream",
     "text": [
      "16:17:56 - INFO - Existing soil statistics file /work/comphyd_lab/data/CONFLUENCE_data/domain_loveland_pass_snotel/shapefiles/catchment_intersection/with_soilgrids/catchment_with_soilclass.shp does not contain expected data. Recalculating.\n"
     ]
    },
    {
     "name": "stderr",
     "output_type": "stream",
     "text": [
      "2025-05-11 16:17:56,397 - confluence_general - INFO - Existing soil statistics file /work/comphyd_lab/data/CONFLUENCE_data/domain_loveland_pass_snotel/shapefiles/catchment_intersection/with_soilgrids/catchment_with_soilclass.shp does not contain expected data. Recalculating.\n"
     ]
    },
    {
     "name": "stdout",
     "output_type": "stream",
     "text": [
      "16:17:56 - INFO - Calculating soil statistics\n"
     ]
    },
    {
     "name": "stderr",
     "output_type": "stream",
     "text": [
      "2025-05-11 16:17:56,399 - confluence_general - INFO - Calculating soil statistics\n",
      "2025-05-11 16:17:56,458 - pyogrio._io - INFO - Created 1 records\n"
     ]
    },
    {
     "name": "stdout",
     "output_type": "stream",
     "text": [
      "16:17:56 - INFO - Soil statistics saved to /work/comphyd_lab/data/CONFLUENCE_data/domain_loveland_pass_snotel/shapefiles/catchment_intersection/with_soilgrids/catchment_with_soilclass.shp\n"
     ]
    },
    {
     "name": "stderr",
     "output_type": "stream",
     "text": [
      "2025-05-11 16:17:56,461 - confluence_general - INFO - Soil statistics saved to /work/comphyd_lab/data/CONFLUENCE_data/domain_loveland_pass_snotel/shapefiles/catchment_intersection/with_soilgrids/catchment_with_soilclass.shp\n"
     ]
    },
    {
     "name": "stdout",
     "output_type": "stream",
     "text": [
      "16:17:56 - INFO - Calculating land statistics\n"
     ]
    },
    {
     "name": "stderr",
     "output_type": "stream",
     "text": [
      "2025-05-11 16:17:56,463 - confluence_general - INFO - Calculating land statistics\n",
      "2025-05-11 16:17:56,518 - pyogrio._io - INFO - Created 1 records\n"
     ]
    },
    {
     "name": "stdout",
     "output_type": "stream",
     "text": [
      "16:17:56 - INFO - Land statistics saved to /work/comphyd_lab/data/CONFLUENCE_data/domain_loveland_pass_snotel/shapefiles/catchment_intersection/with_landclass/catchment_with_landclass.shp\n"
     ]
    },
    {
     "name": "stderr",
     "output_type": "stream",
     "text": [
      "2025-05-11 16:17:56,521 - confluence_general - INFO - Land statistics saved to /work/comphyd_lab/data/CONFLUENCE_data/domain_loveland_pass_snotel/shapefiles/catchment_intersection/with_landclass/catchment_with_landclass.shp\n"
     ]
    },
    {
     "name": "stdout",
     "output_type": "stream",
     "text": [
      "16:17:56 - INFO - Calculating elevation statistics\n"
     ]
    },
    {
     "name": "stderr",
     "output_type": "stream",
     "text": [
      "2025-05-11 16:17:56,523 - confluence_general - INFO - Calculating elevation statistics\n"
     ]
    },
    {
     "name": "stdout",
     "output_type": "stream",
     "text": [
      "16:17:56 - INFO - Updating existing 'elev_mean' column\n"
     ]
    },
    {
     "name": "stderr",
     "output_type": "stream",
     "text": [
      "2025-05-11 16:17:56,544 - confluence_general - INFO - Updating existing 'elev_mean' column\n",
      "2025-05-11 16:17:56,564 - pyogrio._io - INFO - Created 1 records\n"
     ]
    },
    {
     "name": "stdout",
     "output_type": "stream",
     "text": [
      "16:17:56 - INFO - Elevation statistics saved to /work/comphyd_lab/data/CONFLUENCE_data/domain_loveland_pass_snotel/shapefiles/catchment_intersection/with_dem/catchment_with_dem.shp\n"
     ]
    },
    {
     "name": "stderr",
     "output_type": "stream",
     "text": [
      "2025-05-11 16:17:56,567 - confluence_general - INFO - Elevation statistics saved to /work/comphyd_lab/data/CONFLUENCE_data/domain_loveland_pass_snotel/shapefiles/catchment_intersection/with_dem/catchment_with_dem.shp\n"
     ]
    },
    {
     "name": "stdout",
     "output_type": "stream",
     "text": [
      "16:17:56 - INFO - Geospatial statistics completed: 0/3 steps skipped, 3/3 steps executed\n"
     ]
    },
    {
     "name": "stderr",
     "output_type": "stream",
     "text": [
      "2025-05-11 16:17:56,568 - confluence_general - INFO - Geospatial statistics completed: 0/3 steps skipped, 3/3 steps executed\n"
     ]
    },
    {
     "name": "stdout",
     "output_type": "stream",
     "text": [
      "16:17:56 - INFO - Running forcing resampling\n"
     ]
    },
    {
     "name": "stderr",
     "output_type": "stream",
     "text": [
      "2025-05-11 16:17:56,570 - confluence_general - INFO - Running forcing resampling\n"
     ]
    },
    {
     "name": "stdout",
     "output_type": "stream",
     "text": [
      "16:17:56 - INFO - Starting forcing data resampling process\n"
     ]
    },
    {
     "name": "stderr",
     "output_type": "stream",
     "text": [
      "2025-05-11 16:17:56,571 - confluence_general - INFO - Starting forcing data resampling process\n"
     ]
    },
    {
     "name": "stdout",
     "output_type": "stream",
     "text": [
      "16:17:56 - INFO - Creating ERA5 shapefile\n"
     ]
    },
    {
     "name": "stderr",
     "output_type": "stream",
     "text": [
      "2025-05-11 16:17:56,573 - confluence_general - INFO - Creating ERA5 shapefile\n"
     ]
    },
    {
     "name": "stdout",
     "output_type": "stream",
     "text": [
      "16:17:56 - INFO - Creating ERA5 shapefile\n"
     ]
    },
    {
     "name": "stderr",
     "output_type": "stream",
     "text": [
      "2025-05-11 16:17:56,581 - confluence_general - INFO - Creating ERA5 shapefile\n"
     ]
    },
    {
     "name": "stdout",
     "output_type": "stream",
     "text": [
      "16:17:56 - INFO - Using ERA5 file: /work/comphyd_lab/data/CONFLUENCE_data/domain_loveland_pass_snotel/forcing/raw_data/domain_loveland_pass_snotel_ERA5_merged_202010.nc\n"
     ]
    },
    {
     "name": "stderr",
     "output_type": "stream",
     "text": [
      "2025-05-11 16:17:56,590 - confluence_general - INFO - Using ERA5 file: /work/comphyd_lab/data/CONFLUENCE_data/domain_loveland_pass_snotel/forcing/raw_data/domain_loveland_pass_snotel_ERA5_merged_202010.nc\n"
     ]
    },
    {
     "name": "stdout",
     "output_type": "stream",
     "text": [
      "16:17:56 - INFO - ERA5 dimensions: lat=(2,), lon=(2,)\n"
     ]
    },
    {
     "name": "stderr",
     "output_type": "stream",
     "text": [
      "2025-05-11 16:17:56,781 - confluence_general - INFO - ERA5 dimensions: lat=(2,), lon=(2,)\n"
     ]
    },
    {
     "name": "stdout",
     "output_type": "stream",
     "text": [
      "16:17:56 - INFO - ERA5 grid spacings: half_dlat=0.125, half_dlon=0.125\n"
     ]
    },
    {
     "name": "stderr",
     "output_type": "stream",
     "text": [
      "2025-05-11 16:17:56,783 - confluence_general - INFO - ERA5 grid spacings: half_dlat=0.125, half_dlon=0.125\n"
     ]
    },
    {
     "name": "stdout",
     "output_type": "stream",
     "text": [
      "16:17:56 - INFO - Creating grid cell geometries\n"
     ]
    },
    {
     "name": "stderr",
     "output_type": "stream",
     "text": [
      "2025-05-11 16:17:56,785 - confluence_general - INFO - Creating grid cell geometries\n"
     ]
    },
    {
     "name": "stdout",
     "output_type": "stream",
     "text": [
      "16:17:56 - INFO - Multiple latitude values, creating grid\n"
     ]
    },
    {
     "name": "stderr",
     "output_type": "stream",
     "text": [
      "2025-05-11 16:17:56,786 - confluence_general - INFO - Multiple latitude values, creating grid\n"
     ]
    },
    {
     "name": "stdout",
     "output_type": "stream",
     "text": [
      "16:17:56 - INFO - Created 4 grid cell geometries\n"
     ]
    },
    {
     "name": "stderr",
     "output_type": "stream",
     "text": [
      "2025-05-11 16:17:56,788 - confluence_general - INFO - Created 4 grid cell geometries\n"
     ]
    },
    {
     "name": "stdout",
     "output_type": "stream",
     "text": [
      "16:17:56 - INFO - Creating GeoDataFrame\n"
     ]
    },
    {
     "name": "stderr",
     "output_type": "stream",
     "text": [
      "2025-05-11 16:17:56,790 - confluence_general - INFO - Creating GeoDataFrame\n"
     ]
    },
    {
     "name": "stdout",
     "output_type": "stream",
     "text": [
      "16:17:56 - INFO - GeoDataFrame created with 4 rows\n"
     ]
    },
    {
     "name": "stderr",
     "output_type": "stream",
     "text": [
      "2025-05-11 16:17:56,793 - confluence_general - INFO - GeoDataFrame created with 4 rows\n"
     ]
    },
    {
     "name": "stdout",
     "output_type": "stream",
     "text": [
      "16:17:56 - INFO - Calculating zonal statistics with DEM: /work/comphyd_lab/data/CONFLUENCE_data/domain_loveland_pass_snotel/attributes/elevation/dem/domain_loveland_pass_snotel_elv.tif\n"
     ]
    },
    {
     "name": "stderr",
     "output_type": "stream",
     "text": [
      "2025-05-11 16:17:56,794 - confluence_general - INFO - Calculating zonal statistics with DEM: /work/comphyd_lab/data/CONFLUENCE_data/domain_loveland_pass_snotel/attributes/elevation/dem/domain_loveland_pass_snotel_elv.tif\n"
     ]
    },
    {
     "name": "stdout",
     "output_type": "stream",
     "text": [
      "16:17:56 - INFO - Using sample of 4 grid cells for zonal statistics\n"
     ]
    },
    {
     "name": "stderr",
     "output_type": "stream",
     "text": [
      "2025-05-11 16:17:56,796 - confluence_general - INFO - Using sample of 4 grid cells for zonal statistics\n"
     ]
    },
    {
     "name": "stdout",
     "output_type": "stream",
     "text": [
      "16:17:56 - INFO - Processing elevation batch 1/1 (0 to 3)\n"
     ]
    },
    {
     "name": "stderr",
     "output_type": "stream",
     "text": [
      "2025-05-11 16:17:56,798 - confluence_general - INFO - Processing elevation batch 1/1 (0 to 3)\n"
     ]
    },
    {
     "name": "stdout",
     "output_type": "stream",
     "text": [
      "16:17:56 - INFO - Elevation calculation complete\n"
     ]
    },
    {
     "name": "stderr",
     "output_type": "stream",
     "text": [
      "/home/darri.eythorsson/code/CONFLUENCE/utils/data/agnosticPreProcessor.py:373: FutureWarning: Setting an item of incompatible dtype is deprecated and will raise an error in a future version of pandas. Value '3333.650146484375' has dtype incompatible with int64, please explicitly cast to a compatible dtype first.\n",
      "  gdf.loc[idx, 'elev_m'] = item['mean'] if item['mean'] is not None else -9999\n",
      "2025-05-11 16:17:56,832 - confluence_general - INFO - Elevation calculation complete\n"
     ]
    },
    {
     "name": "stdout",
     "output_type": "stream",
     "text": [
      "16:17:56 - INFO - Saving shapefile to: /work/comphyd_lab/data/CONFLUENCE_data/domain_loveland_pass_snotel/shapefiles/forcing/forcing_ERA5.shp\n"
     ]
    },
    {
     "name": "stderr",
     "output_type": "stream",
     "text": [
      "2025-05-11 16:17:56,836 - confluence_general - INFO - Saving shapefile to: /work/comphyd_lab/data/CONFLUENCE_data/domain_loveland_pass_snotel/shapefiles/forcing/forcing_ERA5.shp\n",
      "2025-05-11 16:17:56,854 - pyogrio._io - INFO - Created 4 records\n"
     ]
    },
    {
     "name": "stdout",
     "output_type": "stream",
     "text": [
      "16:17:56 - INFO - ERA5 shapefile saved successfully to /work/comphyd_lab/data/CONFLUENCE_data/domain_loveland_pass_snotel/shapefiles/forcing/forcing_ERA5.shp\n"
     ]
    },
    {
     "name": "stderr",
     "output_type": "stream",
     "text": [
      "2025-05-11 16:17:56,857 - confluence_general - INFO - ERA5 shapefile saved successfully to /work/comphyd_lab/data/CONFLUENCE_data/domain_loveland_pass_snotel/shapefiles/forcing/forcing_ERA5.shp\n"
     ]
    },
    {
     "name": "stdout",
     "output_type": "stream",
     "text": [
      "16:17:56 - INFO - Starting forcing remapping process\n"
     ]
    },
    {
     "name": "stderr",
     "output_type": "stream",
     "text": [
      "2025-05-11 16:17:56,859 - confluence_general - INFO - Starting forcing remapping process\n"
     ]
    },
    {
     "name": "stdout",
     "output_type": "stream",
     "text": [
      "16:17:56 - INFO - Creating weighted forcing files in parallel\n"
     ]
    },
    {
     "name": "stderr",
     "output_type": "stream",
     "text": [
      "2025-05-11 16:17:56,860 - confluence_general - INFO - Creating weighted forcing files in parallel\n"
     ]
    },
    {
     "name": "stdout",
     "output_type": "stream",
     "text": [
      "16:17:56 - INFO - Found 12 forcing files to process\n"
     ]
    },
    {
     "name": "stderr",
     "output_type": "stream",
     "text": [
      "2025-05-11 16:17:56,863 - confluence_general - INFO - Found 12 forcing files to process\n"
     ]
    },
    {
     "name": "stdout",
     "output_type": "stream",
     "text": [
      "16:17:56 - INFO - Using 1 CPUs for parallel processing\n"
     ]
    },
    {
     "name": "stderr",
     "output_type": "stream",
     "text": [
      "2025-05-11 16:17:56,864 - confluence_general - INFO - Using 1 CPUs for parallel processing\n"
     ]
    },
    {
     "name": "stdout",
     "output_type": "stream",
     "text": [
      "16:17:56 - INFO - Found 0 already processed files\n"
     ]
    },
    {
     "name": "stderr",
     "output_type": "stream",
     "text": [
      "2025-05-11 16:17:56,886 - confluence_general - INFO - Found 0 already processed files\n"
     ]
    },
    {
     "name": "stdout",
     "output_type": "stream",
     "text": [
      "16:17:56 - INFO - Found 12 files that need processing\n"
     ]
    },
    {
     "name": "stderr",
     "output_type": "stream",
     "text": [
      "2025-05-11 16:17:56,887 - confluence_general - INFO - Found 12 files that need processing\n"
     ]
    },
    {
     "name": "stdout",
     "output_type": "stream",
     "text": [
      "16:17:56 - INFO - Processing 2 batches of up to 10 files each\n"
     ]
    },
    {
     "name": "stderr",
     "output_type": "stream",
     "text": [
      "2025-05-11 16:17:56,889 - confluence_general - INFO - Processing 2 batches of up to 10 files each\n"
     ]
    },
    {
     "name": "stdout",
     "output_type": "stream",
     "text": [
      "16:17:56 - INFO - Processing batch 1/2 with 10 files\n"
     ]
    },
    {
     "name": "stderr",
     "output_type": "stream",
     "text": [
      "2025-05-11 16:17:56,890 - confluence_general - INFO - Processing batch 1/2 with 10 files\n"
     ]
    },
    {
     "name": "stdout",
     "output_type": "stream",
     "text": [
      "16:17:56 - INFO - Worker 0: Processing file domain_loveland_pass_snotel_ERA5_merged_202010.nc\n"
     ]
    },
    {
     "name": "stderr",
     "output_type": "stream",
     "text": [
      "2025-05-11 16:17:56,916 - confluence_general - INFO - Worker 0: Processing file domain_loveland_pass_snotel_ERA5_merged_202010.nc\n"
     ]
    },
    {
     "name": "stdout",
     "output_type": "stream",
     "text": [
      "EASYMORE version 2.0.0 is initiated.\n",
      "EASYMORE is given multiple variables for remapping but only one format and fill value. EASYMORE repeats the format and fill value for all the variables in output files\n",
      "EASYMORE will remap variable  airpres  from source file to variable  airpres  in remapped netCDF file\n",
      "EASYMORE will remap variable  LWRadAtm  from source file to variable  LWRadAtm  in remapped netCDF file\n",
      "EASYMORE will remap variable  SWRadAtm  from source file to variable  SWRadAtm  in remapped netCDF file\n",
      "EASYMORE will remap variable  pptrate  from source file to variable  pptrate  in remapped netCDF file\n",
      "EASYMORE will remap variable  airtemp  from source file to variable  airtemp  in remapped netCDF file\n",
      "EASYMORE will remap variable  spechum  from source file to variable  spechum  in remapped netCDF file\n",
      "EASYMORE will remap variable  windspd  from source file to variable  windspd  in remapped netCDF file\n",
      "EASYMORE detects that the variables from the netCDF files are identicalin dimensions of the variables and latitude and longitude\n",
      "EASYMORE detects that all the variables have dimensions of:\n",
      "['time', 'latitude', 'longitude']\n",
      "EASYMORE detects that the longitude variables has dimensions of:\n",
      "['longitude']\n",
      "EASYMORE detects that the latitude variables has dimensions of:\n",
      "['latitude']\n",
      "--CREATING-REMAPPING-FILE--\n",
      "Started at date and time 2025-05-11 16:17:57.062492\n",
      "EASYMORE detects that target shapefile is in WGS84 (epsg:4326)\n",
      "EASYMORE detects that the field for ID is provided in sink/target shapefile\n",
      "EASYMORE detects that the field latitude is provided in sink/target shapefile\n",
      "EASYMORE detects that the field longitude is provided in sink/target shapefile\n",
      "it seems everything is OK with the sink/target shapefile; added to EASYMORE object target_shp_gpd\n"
     ]
    },
    {
     "name": "stderr",
     "output_type": "stream",
     "text": [
      "2025-05-11 16:17:57,119 - pyogrio._io - INFO - Created 1 records\n"
     ]
    },
    {
     "name": "stdout",
     "output_type": "stream",
     "text": [
      "EASYMORE saved target shapefile for EASYMORE claculation as:\n",
      "/work/comphyd_lab/data/CONFLUENCE_data/domain_loveland_pass_snotel/forcing/temp_easymore_43db90c6_0/loveland_pass_snotel_ERA5_target_shapefile.shp\n",
      "EASYMORE detects case 1 - regular lat/lon\n"
     ]
    },
    {
     "name": "stderr",
     "output_type": "stream",
     "text": [
      "2025-05-11 16:17:57,164 - pyogrio._io - INFO - Created 4 records\n"
     ]
    },
    {
     "name": "stdout",
     "output_type": "stream",
     "text": [
      "/work/comphyd_lab/data/CONFLUENCE_data/domain_loveland_pass_snotel/forcing/temp_easymore_43db90c6_0/loveland_pass_snotel_ERA5_source_shapefile.shp\n",
      "EASYMORE created the shapefile from the netCDF file and saved it here:\n",
      "EASMORE detects that target shapefile is inside the boundary of source netCDF file  and therefore correction for longitude values -180 to 180 or 0 to 360 is not performed even if  the correction_shp_lon flag is set to True [default is True]\n"
     ]
    },
    {
     "name": "stderr",
     "output_type": "stream",
     "text": [
      "2025-05-11 16:17:57,210 - pyogrio._io - INFO - Created 1 records\n",
      "2025-05-11 16:17:57,386 - pyogrio._io - INFO - Created 4 records\n",
      "2025-05-11 16:17:57,450 - pyogrio._io - INFO - Created 1 records\n",
      "2025-05-11 16:17:57,491 - pyogrio._io - INFO - Created 4 records\n",
      "/work/comphyd_lab/users/darri/data/CONFLUENCE_data/installs/conf-env/lib/python3.11/site-packages/easymore/remapper.py:521: UserWarning: Column names longer than 10 characters will be truncated when saved to ESRI Shapefile.\n",
      "  shp_int.to_file(self.temp_dir+self.case_name+'_intersected_shapefile.shp') # save the intersected files\n",
      "/work/comphyd_lab/users/darri/data/CONFLUENCE_data/installs/conf-env/lib/python3.11/site-packages/pyogrio/raw.py:723: RuntimeWarning: Normalized/laundered field name: 'S_1_gru_to_seg' to 'S_1_gru_to'\n",
      "  ogr_write(\n",
      "/work/comphyd_lab/users/darri/data/CONFLUENCE_data/installs/conf-env/lib/python3.11/site-packages/pyogrio/raw.py:723: RuntimeWarning: Normalized/laundered field name: 'S_1_GRU_area' to 'S_1_GRU_ar'\n",
      "  ogr_write(\n",
      "/work/comphyd_lab/users/darri/data/CONFLUENCE_data/installs/conf-env/lib/python3.11/site-packages/pyogrio/raw.py:723: RuntimeWarning: Normalized/laundered field name: 'S_1_hru_type' to 'S_1_hru_ty'\n",
      "  ogr_write(\n",
      "/work/comphyd_lab/users/darri/data/CONFLUENCE_data/installs/conf-env/lib/python3.11/site-packages/pyogrio/raw.py:723: RuntimeWarning: Normalized/laundered field name: 'S_1_elev_mean' to 'S_1_elev_m'\n",
      "  ogr_write(\n",
      "/work/comphyd_lab/users/darri/data/CONFLUENCE_data/installs/conf-env/lib/python3.11/site-packages/pyogrio/raw.py:723: RuntimeWarning: Normalized/laundered field name: 'S_1_center_lon' to 'S_1_center'\n",
      "  ogr_write(\n",
      "/work/comphyd_lab/users/darri/data/CONFLUENCE_data/installs/conf-env/lib/python3.11/site-packages/pyogrio/raw.py:723: RuntimeWarning: Normalized/laundered field name: 'S_1_center_lat' to 'S_1_cent_1'\n",
      "  ogr_write(\n",
      "/work/comphyd_lab/users/darri/data/CONFLUENCE_data/installs/conf-env/lib/python3.11/site-packages/pyogrio/raw.py:723: RuntimeWarning: Normalized/laundered field name: 'S_1_HRU_area' to 'S_1_HRU_ar'\n",
      "  ogr_write(\n",
      "/work/comphyd_lab/users/darri/data/CONFLUENCE_data/installs/conf-env/lib/python3.11/site-packages/pyogrio/raw.py:723: RuntimeWarning: Value 594733989.793438196 of field AS2 of feature 0 not successfully written. Possibly due to too larger number with respect to field width\n",
      "  ogr_write(\n",
      "2025-05-11 16:17:57,584 - pyogrio._io - INFO - Created 1 records\n",
      "/work/comphyd_lab/users/darri/data/CONFLUENCE_data/installs/conf-env/lib/python3.11/site-packages/easymore/remapper.py:558: DeprecationWarning: dropping variables using `drop` is deprecated; use drop_vars.\n",
      "  attr = attr.drop('index')\n"
     ]
    },
    {
     "name": "stdout",
     "output_type": "stream",
     "text": [
      "Ended at date and time 2025-05-11 16:17:58.213619\n",
      "It took 1.151127 seconds to finish creating of the remapping file\n",
      "---------------------------\n",
      "Running within a SLURM job.\n",
      "SLURM environment variables found: ['SLURM_JOBID', 'SLURM_JOB_NAME', 'SLURM_NODELIST']\n",
      "------REMAPPING------\n",
      "netcdf output file will be compressed at level 4\n",
      "Remapping /work/comphyd_lab/data/CONFLUENCE_data/domain_loveland_pass_snotel/forcing/raw_data/domain_loveland_pass_snotel_ERA5_merged_202010.nc to /work/comphyd_lab/data/CONFLUENCE_data/domain_loveland_pass_snotel/forcing/basin_averaged_data/loveland_pass_snotel_ERA5_remapped_domain_loveland_pass_snotel_ERA5_merged_202010.nc \n",
      "Started at date and time 2025-05-11 16:17:58.303907 \n",
      "Ended at date and time 2025-05-11 16:18:20.919183 \n",
      "It took 22.615276 seconds to finish the remapping of variable(s) \n",
      "---------------------\n",
      "---------------------\n",
      "16:18:21 - INFO - Worker 0: Successfully processed domain_loveland_pass_snotel_ERA5_merged_202010.nc in 24.11 seconds\n"
     ]
    },
    {
     "name": "stderr",
     "output_type": "stream",
     "text": [
      "2025-05-11 16:18:21,028 - confluence_general - INFO - Worker 0: Successfully processed domain_loveland_pass_snotel_ERA5_merged_202010.nc in 24.11 seconds\n"
     ]
    },
    {
     "name": "stdout",
     "output_type": "stream",
     "text": [
      "16:18:21 - INFO - Worker 0: Processing file domain_loveland_pass_snotel_ERA5_merged_202011.nc\n"
     ]
    },
    {
     "name": "stderr",
     "output_type": "stream",
     "text": [
      "2025-05-11 16:18:21,031 - confluence_general - INFO - Worker 0: Processing file domain_loveland_pass_snotel_ERA5_merged_202011.nc\n"
     ]
    },
    {
     "name": "stdout",
     "output_type": "stream",
     "text": [
      "EASYMORE version 2.0.0 is initiated.\n",
      "EASYMORE is given multiple variables for remapping but only one format and fill value. EASYMORE repeats the format and fill value for all the variables in output files\n",
      "EASYMORE will remap variable  airpres  from source file to variable  airpres  in remapped netCDF file\n",
      "EASYMORE will remap variable  LWRadAtm  from source file to variable  LWRadAtm  in remapped netCDF file\n",
      "EASYMORE will remap variable  SWRadAtm  from source file to variable  SWRadAtm  in remapped netCDF file\n",
      "EASYMORE will remap variable  pptrate  from source file to variable  pptrate  in remapped netCDF file\n",
      "EASYMORE will remap variable  airtemp  from source file to variable  airtemp  in remapped netCDF file\n",
      "EASYMORE will remap variable  spechum  from source file to variable  spechum  in remapped netCDF file\n",
      "EASYMORE will remap variable  windspd  from source file to variable  windspd  in remapped netCDF file\n",
      "EASYMORE detects that the variables from the netCDF files are identicalin dimensions of the variables and latitude and longitude\n",
      "EASYMORE detects that all the variables have dimensions of:\n",
      "['time', 'latitude', 'longitude']\n",
      "EASYMORE detects that the longitude variables has dimensions of:\n",
      "['longitude']\n",
      "EASYMORE detects that the latitude variables has dimensions of:\n",
      "['latitude']\n",
      "--CREATING-REMAPPING-FILE--\n",
      "Started at date and time 2025-05-11 16:18:21.213377\n",
      "EASYMORE detects that target shapefile is in WGS84 (epsg:4326)\n",
      "EASYMORE detects that the field for ID is provided in sink/target shapefile\n",
      "EASYMORE detects that the field latitude is provided in sink/target shapefile\n",
      "EASYMORE detects that the field longitude is provided in sink/target shapefile\n",
      "it seems everything is OK with the sink/target shapefile; added to EASYMORE object target_shp_gpd\n"
     ]
    },
    {
     "name": "stderr",
     "output_type": "stream",
     "text": [
      "2025-05-11 16:18:21,252 - pyogrio._io - INFO - Created 1 records\n"
     ]
    },
    {
     "name": "stdout",
     "output_type": "stream",
     "text": [
      "EASYMORE saved target shapefile for EASYMORE claculation as:\n",
      "/work/comphyd_lab/data/CONFLUENCE_data/domain_loveland_pass_snotel/forcing/temp_easymore_86fe0f51_0/loveland_pass_snotel_ERA5_target_shapefile.shp\n",
      "EASYMORE detects case 1 - regular lat/lon\n"
     ]
    },
    {
     "name": "stderr",
     "output_type": "stream",
     "text": [
      "2025-05-11 16:18:21,292 - pyogrio._io - INFO - Created 4 records\n"
     ]
    },
    {
     "name": "stdout",
     "output_type": "stream",
     "text": [
      "/work/comphyd_lab/data/CONFLUENCE_data/domain_loveland_pass_snotel/forcing/temp_easymore_86fe0f51_0/loveland_pass_snotel_ERA5_source_shapefile.shp\n",
      "EASYMORE created the shapefile from the netCDF file and saved it here:\n",
      "EASMORE detects that target shapefile is inside the boundary of source netCDF file  and therefore correction for longitude values -180 to 180 or 0 to 360 is not performed even if  the correction_shp_lon flag is set to True [default is True]\n"
     ]
    },
    {
     "name": "stderr",
     "output_type": "stream",
     "text": [
      "2025-05-11 16:18:21,447 - pyogrio._io - INFO - Created 1 records\n",
      "2025-05-11 16:18:21,473 - pyogrio._io - INFO - Created 4 records\n",
      "2025-05-11 16:18:21,513 - pyogrio._io - INFO - Created 1 records\n",
      "2025-05-11 16:18:21,551 - pyogrio._io - INFO - Created 4 records\n",
      "/work/comphyd_lab/users/darri/data/CONFLUENCE_data/installs/conf-env/lib/python3.11/site-packages/easymore/remapper.py:521: UserWarning: Column names longer than 10 characters will be truncated when saved to ESRI Shapefile.\n",
      "  shp_int.to_file(self.temp_dir+self.case_name+'_intersected_shapefile.shp') # save the intersected files\n",
      "/work/comphyd_lab/users/darri/data/CONFLUENCE_data/installs/conf-env/lib/python3.11/site-packages/pyogrio/raw.py:723: RuntimeWarning: Normalized/laundered field name: 'S_1_gru_to_seg' to 'S_1_gru_to'\n",
      "  ogr_write(\n",
      "/work/comphyd_lab/users/darri/data/CONFLUENCE_data/installs/conf-env/lib/python3.11/site-packages/pyogrio/raw.py:723: RuntimeWarning: Normalized/laundered field name: 'S_1_GRU_area' to 'S_1_GRU_ar'\n",
      "  ogr_write(\n",
      "/work/comphyd_lab/users/darri/data/CONFLUENCE_data/installs/conf-env/lib/python3.11/site-packages/pyogrio/raw.py:723: RuntimeWarning: Normalized/laundered field name: 'S_1_hru_type' to 'S_1_hru_ty'\n",
      "  ogr_write(\n",
      "/work/comphyd_lab/users/darri/data/CONFLUENCE_data/installs/conf-env/lib/python3.11/site-packages/pyogrio/raw.py:723: RuntimeWarning: Normalized/laundered field name: 'S_1_elev_mean' to 'S_1_elev_m'\n",
      "  ogr_write(\n",
      "/work/comphyd_lab/users/darri/data/CONFLUENCE_data/installs/conf-env/lib/python3.11/site-packages/pyogrio/raw.py:723: RuntimeWarning: Normalized/laundered field name: 'S_1_center_lon' to 'S_1_center'\n",
      "  ogr_write(\n",
      "/work/comphyd_lab/users/darri/data/CONFLUENCE_data/installs/conf-env/lib/python3.11/site-packages/pyogrio/raw.py:723: RuntimeWarning: Normalized/laundered field name: 'S_1_center_lat' to 'S_1_cent_1'\n",
      "  ogr_write(\n",
      "/work/comphyd_lab/users/darri/data/CONFLUENCE_data/installs/conf-env/lib/python3.11/site-packages/pyogrio/raw.py:723: RuntimeWarning: Normalized/laundered field name: 'S_1_HRU_area' to 'S_1_HRU_ar'\n",
      "  ogr_write(\n",
      "/work/comphyd_lab/users/darri/data/CONFLUENCE_data/installs/conf-env/lib/python3.11/site-packages/pyogrio/raw.py:723: RuntimeWarning: Value 594733989.793438196 of field AS2 of feature 0 not successfully written. Possibly due to too larger number with respect to field width\n",
      "  ogr_write(\n",
      "2025-05-11 16:18:21,633 - pyogrio._io - INFO - Created 1 records\n",
      "/work/comphyd_lab/users/darri/data/CONFLUENCE_data/installs/conf-env/lib/python3.11/site-packages/easymore/remapper.py:558: DeprecationWarning: dropping variables using `drop` is deprecated; use drop_vars.\n",
      "  attr = attr.drop('index')\n"
     ]
    },
    {
     "name": "stdout",
     "output_type": "stream",
     "text": [
      "Ended at date and time 2025-05-11 16:18:21.766245\n",
      "It took 0.552868 seconds to finish creating of the remapping file\n",
      "---------------------------\n",
      "Running within a SLURM job.\n",
      "SLURM environment variables found: ['SLURM_JOBID', 'SLURM_JOB_NAME', 'SLURM_NODELIST']\n",
      "------REMAPPING------\n",
      "netcdf output file will be compressed at level 4\n",
      "Remapping /work/comphyd_lab/data/CONFLUENCE_data/domain_loveland_pass_snotel/forcing/raw_data/domain_loveland_pass_snotel_ERA5_merged_202011.nc to /work/comphyd_lab/data/CONFLUENCE_data/domain_loveland_pass_snotel/forcing/basin_averaged_data/loveland_pass_snotel_ERA5_remapped_domain_loveland_pass_snotel_ERA5_merged_202011.nc \n",
      "Started at date and time 2025-05-11 16:18:21.851509 \n",
      "Ended at date and time 2025-05-11 16:18:43.638455 \n",
      "It took 21.786946 seconds to finish the remapping of variable(s) \n",
      "---------------------\n",
      "---------------------\n",
      "16:18:43 - INFO - Worker 0: Successfully processed domain_loveland_pass_snotel_ERA5_merged_202011.nc in 22.81 seconds\n"
     ]
    },
    {
     "name": "stderr",
     "output_type": "stream",
     "text": [
      "2025-05-11 16:18:43,841 - confluence_general - INFO - Worker 0: Successfully processed domain_loveland_pass_snotel_ERA5_merged_202011.nc in 22.81 seconds\n"
     ]
    },
    {
     "name": "stdout",
     "output_type": "stream",
     "text": [
      "16:18:43 - INFO - Worker 0: Processing file domain_loveland_pass_snotel_ERA5_merged_202012.nc\n"
     ]
    },
    {
     "name": "stderr",
     "output_type": "stream",
     "text": [
      "2025-05-11 16:18:43,844 - confluence_general - INFO - Worker 0: Processing file domain_loveland_pass_snotel_ERA5_merged_202012.nc\n"
     ]
    },
    {
     "name": "stdout",
     "output_type": "stream",
     "text": [
      "EASYMORE version 2.0.0 is initiated.\n",
      "EASYMORE is given multiple variables for remapping but only one format and fill value. EASYMORE repeats the format and fill value for all the variables in output files\n",
      "EASYMORE will remap variable  airpres  from source file to variable  airpres  in remapped netCDF file\n",
      "EASYMORE will remap variable  LWRadAtm  from source file to variable  LWRadAtm  in remapped netCDF file\n",
      "EASYMORE will remap variable  SWRadAtm  from source file to variable  SWRadAtm  in remapped netCDF file\n",
      "EASYMORE will remap variable  pptrate  from source file to variable  pptrate  in remapped netCDF file\n",
      "EASYMORE will remap variable  airtemp  from source file to variable  airtemp  in remapped netCDF file\n",
      "EASYMORE will remap variable  spechum  from source file to variable  spechum  in remapped netCDF file\n",
      "EASYMORE will remap variable  windspd  from source file to variable  windspd  in remapped netCDF file\n",
      "EASYMORE detects that the variables from the netCDF files are identicalin dimensions of the variables and latitude and longitude\n",
      "EASYMORE detects that all the variables have dimensions of:\n",
      "['time', 'latitude', 'longitude']\n",
      "EASYMORE detects that the longitude variables has dimensions of:\n",
      "['longitude']\n",
      "EASYMORE detects that the latitude variables has dimensions of:\n",
      "['latitude']\n",
      "--CREATING-REMAPPING-FILE--\n",
      "Started at date and time 2025-05-11 16:18:44.023773\n",
      "EASYMORE detects that target shapefile is in WGS84 (epsg:4326)\n",
      "EASYMORE detects that the field for ID is provided in sink/target shapefile\n",
      "EASYMORE detects that the field latitude is provided in sink/target shapefile\n",
      "EASYMORE detects that the field longitude is provided in sink/target shapefile\n",
      "it seems everything is OK with the sink/target shapefile; added to EASYMORE object target_shp_gpd\n"
     ]
    },
    {
     "name": "stderr",
     "output_type": "stream",
     "text": [
      "2025-05-11 16:18:44,071 - pyogrio._io - INFO - Created 1 records\n"
     ]
    },
    {
     "name": "stdout",
     "output_type": "stream",
     "text": [
      "EASYMORE saved target shapefile for EASYMORE claculation as:\n",
      "/work/comphyd_lab/data/CONFLUENCE_data/domain_loveland_pass_snotel/forcing/temp_easymore_4870cd8d_0/loveland_pass_snotel_ERA5_target_shapefile.shp\n",
      "EASYMORE detects case 1 - regular lat/lon\n"
     ]
    },
    {
     "name": "stderr",
     "output_type": "stream",
     "text": [
      "2025-05-11 16:18:44,121 - pyogrio._io - INFO - Created 4 records\n"
     ]
    },
    {
     "name": "stdout",
     "output_type": "stream",
     "text": [
      "/work/comphyd_lab/data/CONFLUENCE_data/domain_loveland_pass_snotel/forcing/temp_easymore_4870cd8d_0/loveland_pass_snotel_ERA5_source_shapefile.shp\n",
      "EASYMORE created the shapefile from the netCDF file and saved it here:\n",
      "EASMORE detects that target shapefile is inside the boundary of source netCDF file  and therefore correction for longitude values -180 to 180 or 0 to 360 is not performed even if  the correction_shp_lon flag is set to True [default is True]\n"
     ]
    },
    {
     "name": "stderr",
     "output_type": "stream",
     "text": [
      "2025-05-11 16:18:44,169 - pyogrio._io - INFO - Created 1 records\n",
      "2025-05-11 16:18:44,195 - pyogrio._io - INFO - Created 4 records\n",
      "2025-05-11 16:18:44,218 - pyogrio._io - INFO - Created 1 records\n",
      "2025-05-11 16:18:44,246 - pyogrio._io - INFO - Created 4 records\n",
      "/work/comphyd_lab/users/darri/data/CONFLUENCE_data/installs/conf-env/lib/python3.11/site-packages/easymore/remapper.py:521: UserWarning: Column names longer than 10 characters will be truncated when saved to ESRI Shapefile.\n",
      "  shp_int.to_file(self.temp_dir+self.case_name+'_intersected_shapefile.shp') # save the intersected files\n",
      "/work/comphyd_lab/users/darri/data/CONFLUENCE_data/installs/conf-env/lib/python3.11/site-packages/pyogrio/raw.py:723: RuntimeWarning: Normalized/laundered field name: 'S_1_gru_to_seg' to 'S_1_gru_to'\n",
      "  ogr_write(\n",
      "/work/comphyd_lab/users/darri/data/CONFLUENCE_data/installs/conf-env/lib/python3.11/site-packages/pyogrio/raw.py:723: RuntimeWarning: Normalized/laundered field name: 'S_1_GRU_area' to 'S_1_GRU_ar'\n",
      "  ogr_write(\n",
      "/work/comphyd_lab/users/darri/data/CONFLUENCE_data/installs/conf-env/lib/python3.11/site-packages/pyogrio/raw.py:723: RuntimeWarning: Normalized/laundered field name: 'S_1_hru_type' to 'S_1_hru_ty'\n",
      "  ogr_write(\n",
      "/work/comphyd_lab/users/darri/data/CONFLUENCE_data/installs/conf-env/lib/python3.11/site-packages/pyogrio/raw.py:723: RuntimeWarning: Normalized/laundered field name: 'S_1_elev_mean' to 'S_1_elev_m'\n",
      "  ogr_write(\n",
      "/work/comphyd_lab/users/darri/data/CONFLUENCE_data/installs/conf-env/lib/python3.11/site-packages/pyogrio/raw.py:723: RuntimeWarning: Normalized/laundered field name: 'S_1_center_lon' to 'S_1_center'\n",
      "  ogr_write(\n",
      "/work/comphyd_lab/users/darri/data/CONFLUENCE_data/installs/conf-env/lib/python3.11/site-packages/pyogrio/raw.py:723: RuntimeWarning: Normalized/laundered field name: 'S_1_center_lat' to 'S_1_cent_1'\n",
      "  ogr_write(\n",
      "/work/comphyd_lab/users/darri/data/CONFLUENCE_data/installs/conf-env/lib/python3.11/site-packages/pyogrio/raw.py:723: RuntimeWarning: Normalized/laundered field name: 'S_1_HRU_area' to 'S_1_HRU_ar'\n",
      "  ogr_write(\n",
      "/work/comphyd_lab/users/darri/data/CONFLUENCE_data/installs/conf-env/lib/python3.11/site-packages/pyogrio/raw.py:723: RuntimeWarning: Value 594733989.793438196 of field AS2 of feature 0 not successfully written. Possibly due to too larger number with respect to field width\n",
      "  ogr_write(\n",
      "2025-05-11 16:18:44,331 - pyogrio._io - INFO - Created 1 records\n",
      "/work/comphyd_lab/users/darri/data/CONFLUENCE_data/installs/conf-env/lib/python3.11/site-packages/easymore/remapper.py:558: DeprecationWarning: dropping variables using `drop` is deprecated; use drop_vars.\n",
      "  attr = attr.drop('index')\n"
     ]
    },
    {
     "name": "stdout",
     "output_type": "stream",
     "text": [
      "Ended at date and time 2025-05-11 16:18:44.435689\n",
      "It took 0.411916 seconds to finish creating of the remapping file\n",
      "---------------------------\n",
      "Running within a SLURM job.\n",
      "SLURM environment variables found: ['SLURM_JOBID', 'SLURM_JOB_NAME', 'SLURM_NODELIST']\n",
      "------REMAPPING------\n",
      "netcdf output file will be compressed at level 4\n",
      "Remapping /work/comphyd_lab/data/CONFLUENCE_data/domain_loveland_pass_snotel/forcing/raw_data/domain_loveland_pass_snotel_ERA5_merged_202012.nc to /work/comphyd_lab/data/CONFLUENCE_data/domain_loveland_pass_snotel/forcing/basin_averaged_data/loveland_pass_snotel_ERA5_remapped_domain_loveland_pass_snotel_ERA5_merged_202012.nc \n",
      "Started at date and time 2025-05-11 16:18:44.515751 \n",
      "Ended at date and time 2025-05-11 16:19:07.161029 \n",
      "It took 22.645278 seconds to finish the remapping of variable(s) \n",
      "---------------------\n",
      "---------------------\n",
      "16:19:07 - INFO - Worker 0: Successfully processed domain_loveland_pass_snotel_ERA5_merged_202012.nc in 23.39 seconds\n"
     ]
    },
    {
     "name": "stderr",
     "output_type": "stream",
     "text": [
      "2025-05-11 16:19:07,230 - confluence_general - INFO - Worker 0: Successfully processed domain_loveland_pass_snotel_ERA5_merged_202012.nc in 23.39 seconds\n"
     ]
    },
    {
     "name": "stdout",
     "output_type": "stream",
     "text": [
      "16:19:07 - INFO - Worker 0: Processing file domain_loveland_pass_snotel_ERA5_merged_202101.nc\n"
     ]
    },
    {
     "name": "stderr",
     "output_type": "stream",
     "text": [
      "2025-05-11 16:19:07,233 - confluence_general - INFO - Worker 0: Processing file domain_loveland_pass_snotel_ERA5_merged_202101.nc\n"
     ]
    },
    {
     "name": "stdout",
     "output_type": "stream",
     "text": [
      "EASYMORE version 2.0.0 is initiated.\n",
      "EASYMORE is given multiple variables for remapping but only one format and fill value. EASYMORE repeats the format and fill value for all the variables in output files\n",
      "EASYMORE will remap variable  airpres  from source file to variable  airpres  in remapped netCDF file\n",
      "EASYMORE will remap variable  LWRadAtm  from source file to variable  LWRadAtm  in remapped netCDF file\n",
      "EASYMORE will remap variable  SWRadAtm  from source file to variable  SWRadAtm  in remapped netCDF file\n",
      "EASYMORE will remap variable  pptrate  from source file to variable  pptrate  in remapped netCDF file\n",
      "EASYMORE will remap variable  airtemp  from source file to variable  airtemp  in remapped netCDF file\n",
      "EASYMORE will remap variable  spechum  from source file to variable  spechum  in remapped netCDF file\n",
      "EASYMORE will remap variable  windspd  from source file to variable  windspd  in remapped netCDF file\n",
      "EASYMORE detects that the variables from the netCDF files are identicalin dimensions of the variables and latitude and longitude\n",
      "EASYMORE detects that all the variables have dimensions of:\n",
      "['time', 'latitude', 'longitude']\n",
      "EASYMORE detects that the longitude variables has dimensions of:\n",
      "['longitude']\n",
      "EASYMORE detects that the latitude variables has dimensions of:\n",
      "['latitude']\n",
      "--CREATING-REMAPPING-FILE--\n",
      "Started at date and time 2025-05-11 16:19:07.383815\n",
      "EASYMORE detects that target shapefile is in WGS84 (epsg:4326)\n",
      "EASYMORE detects that the field for ID is provided in sink/target shapefile\n",
      "EASYMORE detects that the field latitude is provided in sink/target shapefile\n",
      "EASYMORE detects that the field longitude is provided in sink/target shapefile\n",
      "it seems everything is OK with the sink/target shapefile; added to EASYMORE object target_shp_gpd\n"
     ]
    },
    {
     "name": "stderr",
     "output_type": "stream",
     "text": [
      "2025-05-11 16:19:07,427 - pyogrio._io - INFO - Created 1 records\n"
     ]
    },
    {
     "name": "stdout",
     "output_type": "stream",
     "text": [
      "EASYMORE saved target shapefile for EASYMORE claculation as:\n",
      "/work/comphyd_lab/data/CONFLUENCE_data/domain_loveland_pass_snotel/forcing/temp_easymore_10c6c9d1_0/loveland_pass_snotel_ERA5_target_shapefile.shp\n",
      "EASYMORE detects case 1 - regular lat/lon\n"
     ]
    },
    {
     "name": "stderr",
     "output_type": "stream",
     "text": [
      "2025-05-11 16:19:07,478 - pyogrio._io - INFO - Created 4 records\n"
     ]
    },
    {
     "name": "stdout",
     "output_type": "stream",
     "text": [
      "/work/comphyd_lab/data/CONFLUENCE_data/domain_loveland_pass_snotel/forcing/temp_easymore_10c6c9d1_0/loveland_pass_snotel_ERA5_source_shapefile.shp\n",
      "EASYMORE created the shapefile from the netCDF file and saved it here:\n",
      "EASMORE detects that target shapefile is inside the boundary of source netCDF file  and therefore correction for longitude values -180 to 180 or 0 to 360 is not performed even if  the correction_shp_lon flag is set to True [default is True]\n"
     ]
    },
    {
     "name": "stderr",
     "output_type": "stream",
     "text": [
      "2025-05-11 16:19:07,526 - pyogrio._io - INFO - Created 1 records\n",
      "2025-05-11 16:19:07,615 - pyogrio._io - INFO - Created 4 records\n",
      "2025-05-11 16:19:07,657 - pyogrio._io - INFO - Created 1 records\n",
      "2025-05-11 16:19:07,713 - pyogrio._io - INFO - Created 4 records\n",
      "/work/comphyd_lab/users/darri/data/CONFLUENCE_data/installs/conf-env/lib/python3.11/site-packages/easymore/remapper.py:521: UserWarning: Column names longer than 10 characters will be truncated when saved to ESRI Shapefile.\n",
      "  shp_int.to_file(self.temp_dir+self.case_name+'_intersected_shapefile.shp') # save the intersected files\n",
      "/work/comphyd_lab/users/darri/data/CONFLUENCE_data/installs/conf-env/lib/python3.11/site-packages/pyogrio/raw.py:723: RuntimeWarning: Normalized/laundered field name: 'S_1_gru_to_seg' to 'S_1_gru_to'\n",
      "  ogr_write(\n",
      "/work/comphyd_lab/users/darri/data/CONFLUENCE_data/installs/conf-env/lib/python3.11/site-packages/pyogrio/raw.py:723: RuntimeWarning: Normalized/laundered field name: 'S_1_GRU_area' to 'S_1_GRU_ar'\n",
      "  ogr_write(\n",
      "/work/comphyd_lab/users/darri/data/CONFLUENCE_data/installs/conf-env/lib/python3.11/site-packages/pyogrio/raw.py:723: RuntimeWarning: Normalized/laundered field name: 'S_1_hru_type' to 'S_1_hru_ty'\n",
      "  ogr_write(\n",
      "/work/comphyd_lab/users/darri/data/CONFLUENCE_data/installs/conf-env/lib/python3.11/site-packages/pyogrio/raw.py:723: RuntimeWarning: Normalized/laundered field name: 'S_1_elev_mean' to 'S_1_elev_m'\n",
      "  ogr_write(\n",
      "/work/comphyd_lab/users/darri/data/CONFLUENCE_data/installs/conf-env/lib/python3.11/site-packages/pyogrio/raw.py:723: RuntimeWarning: Normalized/laundered field name: 'S_1_center_lon' to 'S_1_center'\n",
      "  ogr_write(\n",
      "/work/comphyd_lab/users/darri/data/CONFLUENCE_data/installs/conf-env/lib/python3.11/site-packages/pyogrio/raw.py:723: RuntimeWarning: Normalized/laundered field name: 'S_1_center_lat' to 'S_1_cent_1'\n",
      "  ogr_write(\n",
      "/work/comphyd_lab/users/darri/data/CONFLUENCE_data/installs/conf-env/lib/python3.11/site-packages/pyogrio/raw.py:723: RuntimeWarning: Normalized/laundered field name: 'S_1_HRU_area' to 'S_1_HRU_ar'\n",
      "  ogr_write(\n",
      "/work/comphyd_lab/users/darri/data/CONFLUENCE_data/installs/conf-env/lib/python3.11/site-packages/pyogrio/raw.py:723: RuntimeWarning: Value 594733989.793438196 of field AS2 of feature 0 not successfully written. Possibly due to too larger number with respect to field width\n",
      "  ogr_write(\n",
      "2025-05-11 16:19:07,815 - pyogrio._io - INFO - Created 1 records\n",
      "/work/comphyd_lab/users/darri/data/CONFLUENCE_data/installs/conf-env/lib/python3.11/site-packages/easymore/remapper.py:558: DeprecationWarning: dropping variables using `drop` is deprecated; use drop_vars.\n",
      "  attr = attr.drop('index')\n"
     ]
    },
    {
     "name": "stdout",
     "output_type": "stream",
     "text": [
      "Ended at date and time 2025-05-11 16:19:07.918890\n",
      "It took 0.535075 seconds to finish creating of the remapping file\n",
      "---------------------------\n",
      "Running within a SLURM job.\n",
      "SLURM environment variables found: ['SLURM_JOBID', 'SLURM_JOB_NAME', 'SLURM_NODELIST']\n",
      "------REMAPPING------\n",
      "netcdf output file will be compressed at level 4\n",
      "Remapping /work/comphyd_lab/data/CONFLUENCE_data/domain_loveland_pass_snotel/forcing/raw_data/domain_loveland_pass_snotel_ERA5_merged_202101.nc to /work/comphyd_lab/data/CONFLUENCE_data/domain_loveland_pass_snotel/forcing/basin_averaged_data/loveland_pass_snotel_ERA5_remapped_domain_loveland_pass_snotel_ERA5_merged_202101.nc \n",
      "Started at date and time 2025-05-11 16:19:07.992814 \n",
      "Ended at date and time 2025-05-11 16:19:30.438869 \n",
      "It took 22.446055 seconds to finish the remapping of variable(s) \n",
      "---------------------\n",
      "---------------------\n",
      "16:19:30 - INFO - Worker 0: Successfully processed domain_loveland_pass_snotel_ERA5_merged_202101.nc in 23.28 seconds\n"
     ]
    },
    {
     "name": "stderr",
     "output_type": "stream",
     "text": [
      "2025-05-11 16:19:30,509 - confluence_general - INFO - Worker 0: Successfully processed domain_loveland_pass_snotel_ERA5_merged_202101.nc in 23.28 seconds\n"
     ]
    },
    {
     "name": "stdout",
     "output_type": "stream",
     "text": [
      "16:19:30 - INFO - Worker 0: Processing file domain_loveland_pass_snotel_ERA5_merged_202102.nc\n"
     ]
    },
    {
     "name": "stderr",
     "output_type": "stream",
     "text": [
      "2025-05-11 16:19:30,511 - confluence_general - INFO - Worker 0: Processing file domain_loveland_pass_snotel_ERA5_merged_202102.nc\n"
     ]
    },
    {
     "name": "stdout",
     "output_type": "stream",
     "text": [
      "EASYMORE version 2.0.0 is initiated.\n",
      "EASYMORE is given multiple variables for remapping but only one format and fill value. EASYMORE repeats the format and fill value for all the variables in output files\n",
      "EASYMORE will remap variable  airpres  from source file to variable  airpres  in remapped netCDF file\n",
      "EASYMORE will remap variable  LWRadAtm  from source file to variable  LWRadAtm  in remapped netCDF file\n",
      "EASYMORE will remap variable  SWRadAtm  from source file to variable  SWRadAtm  in remapped netCDF file\n",
      "EASYMORE will remap variable  pptrate  from source file to variable  pptrate  in remapped netCDF file\n",
      "EASYMORE will remap variable  airtemp  from source file to variable  airtemp  in remapped netCDF file\n",
      "EASYMORE will remap variable  spechum  from source file to variable  spechum  in remapped netCDF file\n",
      "EASYMORE will remap variable  windspd  from source file to variable  windspd  in remapped netCDF file\n",
      "EASYMORE detects that the variables from the netCDF files are identicalin dimensions of the variables and latitude and longitude\n",
      "EASYMORE detects that all the variables have dimensions of:\n",
      "['time', 'latitude', 'longitude']\n",
      "EASYMORE detects that the longitude variables has dimensions of:\n",
      "['longitude']\n",
      "EASYMORE detects that the latitude variables has dimensions of:\n",
      "['latitude']\n",
      "--CREATING-REMAPPING-FILE--\n",
      "Started at date and time 2025-05-11 16:19:30.708666\n",
      "EASYMORE detects that target shapefile is in WGS84 (epsg:4326)\n",
      "EASYMORE detects that the field for ID is provided in sink/target shapefile\n",
      "EASYMORE detects that the field latitude is provided in sink/target shapefile\n",
      "EASYMORE detects that the field longitude is provided in sink/target shapefile\n",
      "it seems everything is OK with the sink/target shapefile; added to EASYMORE object target_shp_gpd\n"
     ]
    },
    {
     "name": "stderr",
     "output_type": "stream",
     "text": [
      "2025-05-11 16:19:30,770 - pyogrio._io - INFO - Created 1 records\n"
     ]
    },
    {
     "name": "stdout",
     "output_type": "stream",
     "text": [
      "EASYMORE saved target shapefile for EASYMORE claculation as:\n",
      "/work/comphyd_lab/data/CONFLUENCE_data/domain_loveland_pass_snotel/forcing/temp_easymore_a5c87e96_0/loveland_pass_snotel_ERA5_target_shapefile.shp\n",
      "EASYMORE detects case 1 - regular lat/lon\n"
     ]
    },
    {
     "name": "stderr",
     "output_type": "stream",
     "text": [
      "2025-05-11 16:19:31,043 - pyogrio._io - INFO - Created 4 records\n"
     ]
    },
    {
     "name": "stdout",
     "output_type": "stream",
     "text": [
      "/work/comphyd_lab/data/CONFLUENCE_data/domain_loveland_pass_snotel/forcing/temp_easymore_a5c87e96_0/loveland_pass_snotel_ERA5_source_shapefile.shp\n",
      "EASYMORE created the shapefile from the netCDF file and saved it here:\n",
      "EASMORE detects that target shapefile is inside the boundary of source netCDF file  and therefore correction for longitude values -180 to 180 or 0 to 360 is not performed even if  the correction_shp_lon flag is set to True [default is True]\n"
     ]
    },
    {
     "name": "stderr",
     "output_type": "stream",
     "text": [
      "2025-05-11 16:19:31,120 - pyogrio._io - INFO - Created 1 records\n",
      "2025-05-11 16:19:31,227 - pyogrio._io - INFO - Created 4 records\n",
      "2025-05-11 16:19:31,310 - pyogrio._io - INFO - Created 1 records\n",
      "2025-05-11 16:19:31,340 - pyogrio._io - INFO - Created 4 records\n",
      "/work/comphyd_lab/users/darri/data/CONFLUENCE_data/installs/conf-env/lib/python3.11/site-packages/easymore/remapper.py:521: UserWarning: Column names longer than 10 characters will be truncated when saved to ESRI Shapefile.\n",
      "  shp_int.to_file(self.temp_dir+self.case_name+'_intersected_shapefile.shp') # save the intersected files\n",
      "/work/comphyd_lab/users/darri/data/CONFLUENCE_data/installs/conf-env/lib/python3.11/site-packages/pyogrio/raw.py:723: RuntimeWarning: Normalized/laundered field name: 'S_1_gru_to_seg' to 'S_1_gru_to'\n",
      "  ogr_write(\n",
      "/work/comphyd_lab/users/darri/data/CONFLUENCE_data/installs/conf-env/lib/python3.11/site-packages/pyogrio/raw.py:723: RuntimeWarning: Normalized/laundered field name: 'S_1_GRU_area' to 'S_1_GRU_ar'\n",
      "  ogr_write(\n",
      "/work/comphyd_lab/users/darri/data/CONFLUENCE_data/installs/conf-env/lib/python3.11/site-packages/pyogrio/raw.py:723: RuntimeWarning: Normalized/laundered field name: 'S_1_hru_type' to 'S_1_hru_ty'\n",
      "  ogr_write(\n",
      "/work/comphyd_lab/users/darri/data/CONFLUENCE_data/installs/conf-env/lib/python3.11/site-packages/pyogrio/raw.py:723: RuntimeWarning: Normalized/laundered field name: 'S_1_elev_mean' to 'S_1_elev_m'\n",
      "  ogr_write(\n",
      "/work/comphyd_lab/users/darri/data/CONFLUENCE_data/installs/conf-env/lib/python3.11/site-packages/pyogrio/raw.py:723: RuntimeWarning: Normalized/laundered field name: 'S_1_center_lon' to 'S_1_center'\n",
      "  ogr_write(\n",
      "/work/comphyd_lab/users/darri/data/CONFLUENCE_data/installs/conf-env/lib/python3.11/site-packages/pyogrio/raw.py:723: RuntimeWarning: Normalized/laundered field name: 'S_1_center_lat' to 'S_1_cent_1'\n",
      "  ogr_write(\n",
      "/work/comphyd_lab/users/darri/data/CONFLUENCE_data/installs/conf-env/lib/python3.11/site-packages/pyogrio/raw.py:723: RuntimeWarning: Normalized/laundered field name: 'S_1_HRU_area' to 'S_1_HRU_ar'\n",
      "  ogr_write(\n",
      "/work/comphyd_lab/users/darri/data/CONFLUENCE_data/installs/conf-env/lib/python3.11/site-packages/pyogrio/raw.py:723: RuntimeWarning: Value 594733989.793438196 of field AS2 of feature 0 not successfully written. Possibly due to too larger number with respect to field width\n",
      "  ogr_write(\n",
      "2025-05-11 16:19:31,477 - pyogrio._io - INFO - Created 1 records\n",
      "/work/comphyd_lab/users/darri/data/CONFLUENCE_data/installs/conf-env/lib/python3.11/site-packages/easymore/remapper.py:558: DeprecationWarning: dropping variables using `drop` is deprecated; use drop_vars.\n",
      "  attr = attr.drop('index')\n"
     ]
    },
    {
     "name": "stdout",
     "output_type": "stream",
     "text": [
      "Ended at date and time 2025-05-11 16:19:31.617835\n",
      "It took 0.909169 seconds to finish creating of the remapping file\n",
      "---------------------------\n",
      "Running within a SLURM job.\n",
      "SLURM environment variables found: ['SLURM_JOBID', 'SLURM_JOB_NAME', 'SLURM_NODELIST']\n",
      "------REMAPPING------\n",
      "netcdf output file will be compressed at level 4\n"
     ]
    }
   ],
   "source": [
    "# Run model-agnostic preprocessing\n",
    "print(\"\\nRunning model-agnostic preprocessing...\")\n",
    "print(\"For point-scale simulations:\")\n",
    "print(\"  - No spatial averaging needed\")\n",
    "print(\"  - Apply elevation corrections if needed\")\n",
    "print(\"  - Convert units to model requirements\")\n",
    "confluence.managers['data'].run_model_agnostic_preprocessing()\n",
    "\n",
    "print(\"\\nModel-agnostic preprocessing complete\")"
   ]
  },
  {
   "cell_type": "markdown",
   "metadata": {},
   "source": [
    "## 9. Model Specific - Pre Processing "
   ]
  },
  {
   "cell_type": "code",
   "execution_count": null,
   "metadata": {},
   "outputs": [],
   "source": [
    "# Step 4: Model Specific Processing and Initialization\n",
    "print(\"=== Step 4: Model Specific Processing and Initialization ===\")\n",
    "\n",
    "# Preprocess models\n",
    "print(f\"Preparing {confluence.config['HYDROLOGICAL_MODEL']} input files for point-scale simulation...\")\n",
    "print(\"Point-scale specific settings:\")\n",
    "print(\"  - Single HRU configuration\")\n",
    "print(\"  - No lateral flow between units\")\n",
    "print(\"  - Focus on vertical processes\")\n",
    "confluence.managers['model'].preprocess_models()"
   ]
  },
  {
   "cell_type": "markdown",
   "metadata": {},
   "source": [
    "## 10. Model Specific - Initialisation"
   ]
  },
  {
   "cell_type": "code",
   "execution_count": null,
   "metadata": {},
   "outputs": [],
   "source": [
    "# Run models\n",
    "print(f\"\\nRunning {confluence.config['HYDROLOGICAL_MODEL']} for point-scale simulation...\")\n",
    "print(\"Point-scale models typically:\")\n",
    "print(\"  - Run faster than distributed models\")\n",
    "print(\"  - Focus on energy balance and vertical fluxes\")\n",
    "print(\"  - Are ideal for process-level validation\")\n",
    "confluence.managers['model'].run_models()\n",
    "\n",
    "print(\"\\nPoint-scale model run complete\")\n",
    "print(\"Note: Point-scale simulations typically don't require routing\")"
   ]
  },
  {
   "cell_type": "markdown",
   "metadata": {},
   "source": [
    "## 11. Calibration - Optional Steps"
   ]
  },
  {
   "cell_type": "code",
   "execution_count": null,
   "metadata": {},
   "outputs": [],
   "source": [
    "# Optimization and Analysis)\n",
    "print(\"=== Step 5 & 6: Optional Steps ===\")\n",
    "\n",
    "# For point-scale, we might focus on parameter calibration\n",
    "if confluence.config.get('RUN_ITERATIVE_OPTIMISATION', False):\n",
    "    print(\"Running point-scale parameter calibration...\")\n",
    "    optimization_results = confluence.managers['optimization'].calibrate_model()\n",
    "else:\n",
    "    print(\"Parameter calibration skipped\")\n"
   ]
  },
  {
   "cell_type": "markdown",
   "metadata": {},
   "source": [
    "## 12. Result Analysis and Evaluation"
   ]
  },
  {
   "cell_type": "code",
   "execution_count": null,
   "metadata": {},
   "outputs": [],
   "source": [
    "# Step 7: Result Analysis and Evaluation\n",
    "print(\"=== Step 7: Result Analysis and Evaluation ===\")\n",
    "\n",
    "# Postprocess results\n",
    "print(\"Post-processing point-scale model results...\")\n",
    "confluence.managers['model'].postprocess_results()\n",
    "\n",
    "# Get workflow status\n",
    "status = confluence.workflow_orchestrator.get_workflow_status()\n",
    "print(f\"\\nWorkflow Status:\")\n",
    "print(f\"Total steps: {status['total_steps']}\")\n",
    "print(f\"Completed steps: {status['completed_steps']}\")"
   ]
  },
  {
   "cell_type": "markdown",
   "metadata": {},
   "source": [
    "## Summary: Point-Scale Modeling Insights\n",
    "\n",
    "### What We Accomplished:\n",
    "\n",
    "1. **Set up point-scale simulation** for a SNOTEL site\n",
    "2. **Minimal spatial domain** with single HRU\n",
    "3. **Focused on vertical processes** without lateral flow\n",
    "4. **Analyzed key variables** relevant to point observations\n",
    "\n",
    "### Key Differences from Spatial Models:\n",
    "\n",
    "- **No spatial heterogeneity**: Single point representation\n",
    "- **No routing**: All processes occur at one location\n",
    "- **Direct comparison**: Easy validation with point observations\n",
    "- **Computational efficiency**: Fast execution for testing\n",
    "\n",
    "### Applications of Point-Scale Modeling:\n",
    "\n",
    "1. **Parameter calibration**: Optimize parameters at well-observed sites\n",
    "2. **Process validation**: Test model physics against observations\n",
    "3. **Model development**: Develop new parameterizations\n",
    "4. **Sensitivity analysis**: Understand parameter influence\n",
    "\n",
    "### Next Steps:\n",
    "\n",
    "1. **Scale up to lumped basin**: Use calibrated parameters\n",
    "2. **Compare multiple sites**: Test model transferability\n",
    "3. **Ensemble simulations**: Explore parameter uncertainty\n",
    "4. **Process experiments**: Test different model configurations"
   ]
  }
 ],
 "metadata": {
  "kernelspec": {
   "display_name": "CONFLUENCE (HPC Modules)",
   "language": "python",
   "name": "conf-env-hpc"
  },
  "language_info": {
   "codemirror_mode": {
    "name": "ipython",
    "version": 3
   },
   "file_extension": ".py",
   "mimetype": "text/x-python",
   "name": "python",
   "nbconvert_exporter": "python",
   "pygments_lexer": "ipython3",
   "version": "3.11.7"
  }
 },
 "nbformat": 4,
 "nbformat_minor": 4
}
